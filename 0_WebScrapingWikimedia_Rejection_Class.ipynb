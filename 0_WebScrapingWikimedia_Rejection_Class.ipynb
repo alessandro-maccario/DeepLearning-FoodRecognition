{
  "nbformat": 4,
  "nbformat_minor": 0,
  "metadata": {
    "colab": {
      "provenance": []
    },
    "kernelspec": {
      "name": "python3",
      "display_name": "Python 3"
    },
    "language_info": {
      "name": "python"
    }
  },
  "cells": [
    {
      "cell_type": "markdown",
      "source": [
        "# **WEB SCRAPING NOTEBOOK**"
      ],
      "metadata": {
        "id": "u_f-5hQhxQsf"
      }
    },
    {
      "cell_type": "markdown",
      "source": [
        "# **Food Image Classification for the course** ***Foundations of Deep Learning***\n",
        "**Professors:** \n",
        "\n",
        "Paolo Napoletano \n",
        "\n",
        "Marco Buzzelli\n",
        "\n",
        "**Tutor:**\n",
        "\n",
        "Mirko Agarla"
      ],
      "metadata": {
        "id": "GK7SoDjbeCe5"
      }
    },
    {
      "cell_type": "markdown",
      "source": [
        "# NOTEBOOK FOR DATA SCRAPING IN ORDER TO CREATE REJECTION CLASS\n",
        "\n",
        "> What does it do?\n",
        "\n",
        "This notebook provide a way of downloading images from https://commons.wikimedia.org by scraping, based on a custom choice of specific image categories. The amount of images scraped is equal to 254 for four categories such as *landscapes*, *architecture*, *clouds*, *entertainment*.\n",
        "\n",
        "Before the scraping took place, the page https://commons.wikimedia.org/robots.txt has been checked in order to understand if any copyright violation was about to be committed. There was no indication that specific files were not free to download or scrape.\n",
        "\n",
        "Furthermore, they usually are available either under CC (Creative Commons: https://en.wikipedia.org/wiki/Creative_Commons_license) licence, Creative Commons Attribution-ShareAlike 4.0 International or the images come from https://unsplash.com (licence: https://unsplash.com/it/licenza), so they are freely available to be used by everyone and almost for any purpose.\n",
        "\n",
        "> What is the goal?\n",
        "\n",
        "The goal of this notebook is to obtain a certain amount of images in order to create another class, the *rejection_class* that it should be used in order to train the model. In doing so, the model should have the possibility to be able to distinguish also categories that are different from food."
      ],
      "metadata": {
        "id": "0tSXgtNIE-0y"
      }
    },
    {
      "cell_type": "code",
      "source": [
        "# # REMOVE PREVIOUS FOLDER IF EXISTS\n",
        "# !rm -rf rejection_class/"
      ],
      "metadata": {
        "id": "qApW1p6aF6nI"
      },
      "execution_count": null,
      "outputs": []
    },
    {
      "cell_type": "code",
      "execution_count": null,
      "metadata": {
        "id": "lN_98ffzOBE5"
      },
      "outputs": [],
      "source": [
        "# IMPORTING PACKAGES\n",
        "import time\n",
        "import os.path\n",
        "from os import path\n",
        "from lxml import html\n",
        "from re import search\n",
        "import urllib.request\n",
        "from urllib.request import urlopen\n",
        "from bs4 import BeautifulSoup as bs4"
      ]
    },
    {
      "cell_type": "code",
      "source": [
        "# Link Google Drive account\n",
        "from google.colab import drive\n",
        "drive.mount('/content/gdrive')"
      ],
      "metadata": {
        "colab": {
          "base_uri": "https://localhost:8080/"
        },
        "id": "ga6PPLkJpxE0",
        "outputId": "83fcb1e6-ce90-44b3-cb37-b49ff04e8e0e"
      },
      "execution_count": null,
      "outputs": [
        {
          "output_type": "stream",
          "name": "stdout",
          "text": [
            "Mounted at /content/gdrive\n"
          ]
        }
      ]
    },
    {
      "cell_type": "code",
      "source": [
        "# PATH TO WHERE SAVE THE NEW DATA\n",
        "DIR_ORIGINAL_DATA = r\"/content/gdrive/MyDrive/Data_Science_2020-2022/Secondo_anno_Secondo_Semestre/FoDL_Project/Project_Example_Food/ExampleFoodImageDataset/rejection_class\""
      ],
      "metadata": {
        "id": "ZNOC-vc3p1Gp"
      },
      "execution_count": null,
      "outputs": []
    },
    {
      "cell_type": "code",
      "source": [
        "# BASE URL FOR CATEGORY\n",
        "BASE_URL_CATEGORY_LANDSCAPES = r\"https://commons.wikimedia.org/wiki/Category:Landscapes\"\n",
        "BASE_URL_CATEGORY_ARCHITECTURE = r\"https://commons.wikimedia.org/wiki/Category:Architecture\"\n",
        "BASE_URL_CATEGORY_CLOUDS = r\"https://commons.wikimedia.org/wiki/Category:Clouds_in_Nottuln\"\n",
        "BASE_URL_CATEGORY_ENTERTAINMENT = r\"https://commons.wikimedia.org/wiki/Category:Aerial_photographs_of_events\"\n",
        "\n",
        "# BASE URL FOR WIKIMEDIA\n",
        "BASE_URL_WIKIMEDIA = r\"https://commons.wikimedia.org\""
      ],
      "metadata": {
        "id": "lKudpTw8dgRU"
      },
      "execution_count": null,
      "outputs": []
    },
    {
      "cell_type": "code",
      "source": [
        "def get_download_path(base_url):\n",
        "  \"\"\"\n",
        "    The goal of this function is to get the downloadable paths\n",
        "    to use in the scrape_images function.\n",
        "    You are going to get all the path for each single image that you'll\n",
        "    use after with the scrape_images function.\n",
        "    \n",
        "    From https://www.simplilearn.com/tutorials/python-tutorial/python-internet-access-using-urllib-request-and-urlopen#:~:text=The%20urlopen()%20function%20provides,objects%20that%20perform%20these%20services.:\n",
        "    \n",
        "    The urlopen() function provides a fairly simple interface. \n",
        "    It is capable of retrieving URLs with a variety of protocols. \n",
        "    It also has a little more complicated interface for dealing with typical \n",
        "    scenarios, such as basic authentication, cookies, and proxies. \n",
        "    Handlers and openers are objects that perform these services.\n",
        "  \"\"\"\n",
        "\n",
        "  # FETCH THE BASE URL\n",
        "  # ERROR! HERE YOU NEED A STRING, NOT A LIST OF URL!!!\n",
        "  # E SE SALVASSIMO I RISULTATI IN UNA LISTA E POI DA QUELLA LISTA, E NON\n",
        "  # DALLA FUNZIONE, INIZIASSIMO AD APPLICARE LA FUNZIONE FINALE?\n",
        "  html = urlopen(base_url)\n",
        "\n",
        "  # APPLY bs4\n",
        "  bs4_apply = bs4(html, 'html.parser')\n",
        "  # FIND ALL ELEMENTS WITH THE CLASS galleryfilename galleryfilename-truncate\n",
        "  link_images = bs4_apply.find_all('a', {\"class\": \"galleryfilename galleryfilename-truncate\"})\n",
        "\n",
        "  # CREATE AN EMPTY LIST WHERE TO SAVE ALL THE LINKS\n",
        "  save_href_list = []\n",
        "\n",
        "  for el in link_images:\n",
        "    get_ref = el.get('href')\n",
        "    save_href_list.append(BASE_URL_WIKIMEDIA + get_ref)\n",
        "\n",
        "  print(save_href_list)\n",
        "\n",
        "  return save_href_list"
      ],
      "metadata": {
        "id": "jBqigV8ndgPT"
      },
      "execution_count": null,
      "outputs": []
    },
    {
      "cell_type": "code",
      "source": [
        "# CREATE LISTS WHERE TO STORE ALL THE LINKS FOR THE IMAGES\n",
        "landscapes = get_download_path(BASE_URL_CATEGORY_LANDSCAPES)\n",
        "architecture = get_download_path(BASE_URL_CATEGORY_ARCHITECTURE)\n",
        "clouds = get_download_path(BASE_URL_CATEGORY_CLOUDS)\n",
        "entertainment = get_download_path(BASE_URL_CATEGORY_ENTERTAINMENT)"
      ],
      "metadata": {
        "colab": {
          "base_uri": "https://localhost:8080/"
        },
        "id": "4W21f9pYdgM4",
        "outputId": "5f55d291-7c38-4649-9827-15c6aa39f0fb"
      },
      "execution_count": null,
      "outputs": [
        {
          "output_type": "stream",
          "name": "stdout",
          "text": [
            "['https://commons.wikimedia.org/wiki/File:Crest-_Yosemite%3F_(17a34fd143a7446ea27c2138f52c2e16).jpg', 'https://commons.wikimedia.org/wiki/File:Fallcreek_Oct_2008.jpg', 'https://commons.wikimedia.org/wiki/File:Galway,_Irlanda.jpg', 'https://commons.wikimedia.org/wiki/File:IMG-20210214-WA0300.jpg', 'https://commons.wikimedia.org/wiki/File:In_Bangor.JPG', 'https://commons.wikimedia.org/wiki/File:Joe_Mania_2016-08-01_(Unsplash_PFLchrsv9jY).jpg', 'https://commons.wikimedia.org/wiki/File:Layakharo_Evining_sunset_scenery.jpg', 'https://commons.wikimedia.org/wiki/File:Mountain_Glacier_Landscape_(from_AvoPix).jpg', 'https://commons.wikimedia.org/wiki/File:%D0%AF%D1%8F_412a.jpg']\n",
            "['https://commons.wikimedia.org/wiki/File:%22Grecia._Le_radici_della_Civilt%C3%A0_Europea%22_book_by_Pino_Musi.jpg', 'https://commons.wikimedia.org/wiki/File:%22Grecia._Le_radici_della_Civilt%C3%A0_Europea%22_photobook_by_Pino_Musi.jpg', 'https://commons.wikimedia.org/wiki/File:01_EJHNMC_by_Husos_03b_01_PRuiz.jpg', 'https://commons.wikimedia.org/wiki/File:01_FREYMING-MERLEBACH-web.jpg', 'https://commons.wikimedia.org/wiki/File:03_EJHNMC_by_Husos_09_MSalinas.jpg', 'https://commons.wikimedia.org/wiki/File:04_Dispersion_by_Husos.jpg', 'https://commons.wikimedia.org/wiki/File:04_UVA_by_Husos_FOTOMONT.jpg', 'https://commons.wikimedia.org/wiki/File:05_Do_It_by_Husos.jpg', 'https://commons.wikimedia.org/wiki/File:05_VCAL_by_Husos.jpg', 'https://commons.wikimedia.org/wiki/File:06_VCAL_by_Husos.jpg', 'https://commons.wikimedia.org/wiki/File:07_GBV_by_Husos.jpg', 'https://commons.wikimedia.org/wiki/File:08_GBV_by_Husos.jpg', 'https://commons.wikimedia.org/wiki/File:1_(1968)_Edificio_commerciale_e_residenziale_in_via_Battistini_a_Roma_-_vista_dell%E2%80%99esterno.tif', 'https://commons.wikimedia.org/wiki/File:10_Bathyard_by_Husos.jpg', 'https://commons.wikimedia.org/wiki/File:1020_Fifth_Avenue_Ceiling_Height_Layout.png', 'https://commons.wikimedia.org/wiki/File:115_rue_Javel.jpg', 'https://commons.wikimedia.org/wiki/File:12_Refugio_by_Husos_photo_Impcot.jpg', 'https://commons.wikimedia.org/wiki/File:13_Refugio_by_Husos_POSTER.jpg', 'https://commons.wikimedia.org/wiki/File:135Bhouses.jpg', 'https://commons.wikimedia.org/wiki/File:171201_182240_Stein_VivaFoto.jpg', 'https://commons.wikimedia.org/wiki/File:1919-Plan-1024.jpg', 'https://commons.wikimedia.org/wiki/File:1923_Broadway_1024.jpg', 'https://commons.wikimedia.org/wiki/File:2_Alan_Crist_Creator_Of_NFT_Art.jpg', 'https://commons.wikimedia.org/wiki/File:2_Pino_Musi_%22Corpi_d%27Architettura%22_1995_-_2021.jpg', 'https://commons.wikimedia.org/wiki/File:2018_09_SH_Neumarkt17_0050.jpg', 'https://commons.wikimedia.org/wiki/File:2019_Nocturne_Luminous_Cloud_Passage_Studio.jpg', 'https://commons.wikimedia.org/wiki/File:20201024_151402_%D0%92%D0%B8%D0%B4_%D0%BD%D0%B0_%D0%B1%D1%83%D0%B4%D1%96%D0%B2%D0%BB%D1%8E_%D0%BC%D0%B0%D1%80%D1%96%D1%83%D0%BF%D0%BE%D0%BB%D1%8C%D1%81%D1%8C%D0%BA%D0%BE%D0%B3%D0%BE_%D0%BF%D1%80%D0%BE%D0%BC%D0%B8%D1%81%D0%BB%D0%BE%D0%B2%D0%BE%D0%B3%D0%BE_%D1%86%D0%B5%D1%85%D1%83.jpg', 'https://commons.wikimedia.org/wiki/File:2021-09-13-08-41-35-1350x900.jpg', 'https://commons.wikimedia.org/wiki/File:270_Park_Avenue_before_demolition.jpg', 'https://commons.wikimedia.org/wiki/File:3DESCRIPCION.jpg', 'https://commons.wikimedia.org/wiki/File:4_Alan_Crist_Creator_Of_NFT_Art.jpg', 'https://commons.wikimedia.org/wiki/File:48x54_HOUSE_ELEVATION.jpg', 'https://commons.wikimedia.org/wiki/File:4MFSIV23j-960x550.jpg', 'https://commons.wikimedia.org/wiki/File:5_Alan_Crist_Creator_Of_NFT_Art.jpg', 'https://commons.wikimedia.org/wiki/File:7%C2%BA_Encuentro_Historiadores_Arquitectura.jpg', 'https://commons.wikimedia.org/wiki/File:8_Degrees_-_Oakleigh.jpg', 'https://commons.wikimedia.org/wiki/File:83095_original.jpg', 'https://commons.wikimedia.org/wiki/File:A_1922_CT_1024.jpg', 'https://commons.wikimedia.org/wiki/File:A_view_2.jpg', 'https://commons.wikimedia.org/wiki/File:A.V.Kozolov_Blueprints.jpg', 'https://commons.wikimedia.org/wiki/File:Abbaye_de_Jumi%C3%A8ges_vue_artistique.jpg', 'https://commons.wikimedia.org/wiki/File:AbbeygreenChurchGreyscaleImage_c1900(Resize).jpg', 'https://commons.wikimedia.org/wiki/File:Abdullah_Khans_lament.jpg', 'https://commons.wikimedia.org/wiki/File:Acceso_a_LABNL_Lab_Cultural_Ciudadano.jpg', 'https://commons.wikimedia.org/wiki/File:Acceso_Biblioteca_Vasconcelos.jpg', 'https://commons.wikimedia.org/wiki/File:Acceso-Foto_MargotKalach.jpg', 'https://commons.wikimedia.org/wiki/File:Acervo_bibliogr%C3%A1fico.jpg', 'https://commons.wikimedia.org/wiki/File:Acoustic_Bricks_(Gramazio_Kohler_Research,_ETH_Zurich).jpg', 'https://commons.wikimedia.org/wiki/File:Adam_Birkett_2017-04-08_(Unsplash_yX-tySfxx2o).jpg', 'https://commons.wikimedia.org/wiki/File:Adam_Birkett_2017-05-11_(Unsplash).jpg', 'https://commons.wikimedia.org/wiki/File:Aerial_Photo_of_the_UCA_campus.jpg', 'https://commons.wikimedia.org/wiki/File:Afiche_hotel_pocitos.jpg', 'https://commons.wikimedia.org/wiki/File:Agora_Juan_Andr%C3%A9s_Ben%C3%ADtez.jpg', 'https://commons.wikimedia.org/wiki/File:Alan_Crist_Creator_Of_NFT_Art.jpg', 'https://commons.wikimedia.org/wiki/File:Aleksander_Georg_von_Stryki_elumaja_projekt_1895._a_Viljandis.jpg', 'https://commons.wikimedia.org/wiki/File:Alexandria_Historic_Foundation.200_Prince_001.31-N-200.jpg', 'https://commons.wikimedia.org/wiki/File:Alexandria_Historic_Foundation.200_Prince_003.31-N-200.jpg', 'https://commons.wikimedia.org/wiki/File:Alfred_ext_nad.jpg', 'https://commons.wikimedia.org/wiki/File:Alfred_int.jpg', 'https://commons.wikimedia.org/wiki/File:All_White_Cunucu_House_in_Moko.jpg', 'https://commons.wikimedia.org/wiki/File:Altar_del_templo.jpg', 'https://commons.wikimedia.org/wiki/File:Altbach_1-2.jpg', 'https://commons.wikimedia.org/wiki/File:Altezza_media_ponderale.jpg', 'https://commons.wikimedia.org/wiki/File:Altezza_Media_Ponderale.jpg', 'https://commons.wikimedia.org/wiki/File:Amsterdam_Houthavens.jpg', 'https://commons.wikimedia.org/wiki/File:Anceint_Ife_pavement.png', 'https://commons.wikimedia.org/wiki/File:Anclaje_pasivo_en_anillo_de_compresi%C3%B3n_exterior.jpg', 'https://commons.wikimedia.org/wiki/File:Anheina_Livia_Starkova,_personal_collection.jpg', 'https://commons.wikimedia.org/wiki/File:Anthony_Chapel_at_Garvan_Woodland_Gardens.jpg', 'https://commons.wikimedia.org/wiki/File:AP-Secretariat-at-Velagapudi-768x357.jpg', 'https://commons.wikimedia.org/wiki/File:Apartmentbuilding_Overkroeten_1.jpg', 'https://commons.wikimedia.org/wiki/File:Apartmentbuilding_Overkroeten_2.jpg', 'https://commons.wikimedia.org/wiki/File:Apartmentbuilding_Overkroeten_3.jpg', 'https://commons.wikimedia.org/wiki/File:Arbeiderswoningen_David_Evekink_Stichting_Zutphen-mijnGelderland-CC-BY-SA.jpg', 'https://commons.wikimedia.org/wiki/File:Arbre_image_f%C3%A9tiche_dans_la_seine.jpg', 'https://commons.wikimedia.org/wiki/File:Archeological_training_and_conservation_centre_1.jpg', 'https://commons.wikimedia.org/wiki/File:Archeological_training_and_conservation_centre_2.jpg', 'https://commons.wikimedia.org/wiki/File:Archeological_training_and_conservation_centre_3.jpg', 'https://commons.wikimedia.org/wiki/File:Architect_near_Cambridge_MA.jpg', 'https://commons.wikimedia.org/wiki/File:Architects_Association.png', 'https://commons.wikimedia.org/wiki/File:Architectural_design_Vest_pocket_theater_01.jpg', 'https://commons.wikimedia.org/wiki/File:Architectural_design_Vest_pocket_theater_02.jpg', 'https://commons.wikimedia.org/wiki/File:Architectural_design_Youth_center_01.jpg', 'https://commons.wikimedia.org/wiki/File:Architectural_design_Youth_center_02.jpg', 'https://commons.wikimedia.org/wiki/File:Architectural_drawing_of_%27De_kleine_schans%27_01.jpg', 'https://commons.wikimedia.org/wiki/File:Architectural_drawing_of_%27De_kleine_schans%27_02.jpg', 'https://commons.wikimedia.org/wiki/File:Architecture_and_sky.jpg', 'https://commons.wikimedia.org/wiki/File:Architecture_HDR_(2582654656).jpg', 'https://commons.wikimedia.org/wiki/File:Architecture_in_Velden_(Austria).jpg', 'https://commons.wikimedia.org/wiki/File:Architecture_of_Santiniketan.jpg', 'https://commons.wikimedia.org/wiki/File:Architecture_pic.jpg', 'https://commons.wikimedia.org/wiki/File:Architectures_YAMO.jpg', 'https://commons.wikimedia.org/wiki/File:Architectuur_van_de_Dogon_01.jpg', 'https://commons.wikimedia.org/wiki/File:Architectuur_van_de_Dogon_02.jpg', 'https://commons.wikimedia.org/wiki/File:Architekt_Artur_Paul_Duniecki,_Philips_Produktenschau,_1976.jpg', 'https://commons.wikimedia.org/wiki/File:Architekt_Artur_Paul_Duniecki,_Stadtteilplanung_Handelskai,_1990.jpg', 'https://commons.wikimedia.org/wiki/File:Arco_de_Eginardo-Einhardsboog-%C3%89ginhard_Arc.jpg', 'https://commons.wikimedia.org/wiki/File:ArqArgEnElMundoBis-40_7282.jpg', 'https://commons.wikimedia.org/wiki/File:ArqArgEnElMundoBis-40_7385.jpg', 'https://commons.wikimedia.org/wiki/File:ArqArgEnElMundoBis-40_7431.jpg', 'https://commons.wikimedia.org/wiki/File:Arquitectura_fractal.jpg', 'https://commons.wikimedia.org/wiki/File:Arquitectura_y_Naturaleza.jpg', 'https://commons.wikimedia.org/wiki/File:Arquiteturas_serie.png', 'https://commons.wikimedia.org/wiki/File:Artistas_Monumentales_1.jpg', 'https://commons.wikimedia.org/wiki/File:Artistas_Monumentales_2.jpg', 'https://commons.wikimedia.org/wiki/File:Artistas_Monumentales_3.jpg', 'https://commons.wikimedia.org/wiki/File:Artistas_Monumentales_4.jpg', 'https://commons.wikimedia.org/wiki/File:Artistas_Monumentales_5.jpg', 'https://commons.wikimedia.org/wiki/File:Artistas_Monumentales_6.jpg', 'https://commons.wikimedia.org/wiki/File:Art%C3%ADculo_Arbitrado.pdf', 'https://commons.wikimedia.org/wiki/File:Asling_St_-_Brighton.jpg', 'https://commons.wikimedia.org/wiki/File:Aspecto_Lateral_Cineteca_Nacional.jpg', 'https://commons.wikimedia.org/wiki/File:Atrium_der_DDR-Botschaft_in_Budapest.jpg', 'https://commons.wikimedia.org/wiki/File:AU-Qld-Spring_Hill-Espie-Dods-House-entrance-2021.jpg', 'https://commons.wikimedia.org/wiki/File:AU-Qld-Spring_Hill-Espie-Dods-House-side-2021.jpg', 'https://commons.wikimedia.org/wiki/File:Aupontrouge.jpg', 'https://commons.wikimedia.org/wiki/File:Automation-pyramid.jpg', 'https://commons.wikimedia.org/wiki/File:Auzon_Plan_du_Parc_Choulot_1849.jpg', 'https://commons.wikimedia.org/wiki/File:Baghouse_III_am_Golfplatz_Hetzenhof_in_Lorch.jpg', 'https://commons.wikimedia.org/wiki/File:Baiyoke_Tower.jpg', 'https://commons.wikimedia.org/wiki/File:Balmes,_127.jpg', 'https://commons.wikimedia.org/wiki/File:Banner_Piazza_del_Popolo_Fermo.jpg', 'https://commons.wikimedia.org/wiki/File:Baqubah....Beautiful_Building.jpg', 'https://commons.wikimedia.org/wiki/File:Baymaas_building.jpg', 'https://commons.wikimedia.org/wiki/File:Bayonne_Stadtansicht.jpg', 'https://commons.wikimedia.org/wiki/File:Bayside_Fire_Station_2,_San_Diego,_CA.jpg', 'https://commons.wikimedia.org/wiki/File:Beach_Rd_%E2%80%93_Hampton.jpg', 'https://commons.wikimedia.org/wiki/File:Beaconsfield_Parade_%E2%80%93_Middle_Park.jpg', 'https://commons.wikimedia.org/wiki/File:Beijing_haidianqu_children_center_planning_(2002).jpg', 'https://commons.wikimedia.org/wiki/File:Belhorizon.jpg', 'https://commons.wikimedia.org/wiki/File:Beyond_Building_Information_Modeling_Symposium_March_2019_London_landscape.jpg', 'https://commons.wikimedia.org/wiki/File:Biblioteca_Ra%C3%BAl_Rangel_Fr%C3%ADas_-_Inauguraci%C3%B3n.jpg', 'https://commons.wikimedia.org/wiki/File:Biblioteca_Vasconcelos.jpg', 'https://commons.wikimedia.org/wiki/File:Bichi_Emirates_1.jpg', 'https://commons.wikimedia.org/wiki/File:Bichi_Emirates_2.jpg', 'https://commons.wikimedia.org/wiki/File:Big_Pink_(2D_Artwork).png', 'https://commons.wikimedia.org/wiki/File:Bimal_Patel_at_HCP_Office,_Ahmedabad.jpg', 'https://commons.wikimedia.org/wiki/File:Bispekapellet_gotisk_%C3%B8stvindu_-_grindverksvindu.jpg', 'https://commons.wikimedia.org/wiki/File:Bispekapellet_sett_fra_skoleg%C3%A5rden.jpg', 'https://commons.wikimedia.org/wiki/File:Biyofilik_Tasar%C4%B1m_14_Unsuru.jpg', 'https://commons.wikimedia.org/wiki/File:Biyofilik_Tasar%C4%B1m_%C3%96geleri.jpg', 'https://commons.wikimedia.org/wiki/File:Blackberry_inn,_Mendocino.jpg', 'https://commons.wikimedia.org/wiki/File:Blair_VIP_Toilet.jpg', 'https://commons.wikimedia.org/wiki/File:Blick_durch_Innenhof_Seestrasse-Wallstrasse_zu_Hausmannsturm_09_10_2010.jpg', 'https://commons.wikimedia.org/wiki/File:Blm_OE_00484.jpg', 'https://commons.wikimedia.org/wiki/File:Bmv_01.jpg', 'https://commons.wikimedia.org/wiki/File:Book-Transbay_Columns-cover.jpg', 'https://commons.wikimedia.org/wiki/File:Bouwtekening_R.K._kerk_in_De_Kwakel_uit_1874.jpg', 'https://commons.wikimedia.org/wiki/File:Brinkplan_Overkroeten_1.jpg', 'https://commons.wikimedia.org/wiki/File:Brinkplan_Overkroeten_2.jpg', 'https://commons.wikimedia.org/wiki/File:Brinkplan_Overkroeten_3.jpg', 'https://commons.wikimedia.org/wiki/File:Brinkplan_Overkroeten_4.jpg', 'https://commons.wikimedia.org/wiki/File:British_Council_Delhi.jpg', 'https://commons.wikimedia.org/wiki/File:Broadway_Corridor_Master_Plan.jpg', 'https://commons.wikimedia.org/wiki/File:Brodten_Hof_Werner.jpg', 'https://commons.wikimedia.org/wiki/File:Brooklinbranch_Whitby_On.png', 'https://commons.wikimedia.org/wiki/File:Building_64b.jpg', 'https://commons.wikimedia.org/wiki/File:Building_at_Stanford_University.jpg', 'https://commons.wikimedia.org/wiki/File:Bulwary_Wislane_1_glowny.jpg', 'https://commons.wikimedia.org/wiki/File:Bungalowbrasileiro1925.jpg', 'https://commons.wikimedia.org/wiki/File:Burgerhuis_Swart_(1933)_architect-_Nachman_Kaplansky.jpg', 'https://commons.wikimedia.org/wiki/File:BYGGNADERNA_SOM.jpg', 'https://commons.wikimedia.org/wiki/File:Bytovy_d%C5%AFm_Vila_Na_Pet%C5%99in%C3%A1ch.jpg', 'https://commons.wikimedia.org/wiki/File:Ca_l%27Erasme.jpg', 'https://commons.wikimedia.org/wiki/File:Calle_la_constancia_jerez.jpg', 'https://commons.wikimedia.org/wiki/File:Calle_nueva11A.jpg', 'https://commons.wikimedia.org/wiki/File:Canastro,_Nogueiroa_(O_Irixo).jpg', 'https://commons.wikimedia.org/wiki/File:Capilla_del_Hospital_Christus_Muguerza_UPAEP_en_Puebla.jpg', 'https://commons.wikimedia.org/wiki/File:Capilla_del_Hospital_Christus_Muguerza_UPAEP-_en_Puebla.jpg', 'https://commons.wikimedia.org/wiki/File:Carl_Street_Studios_Stairwell_Detail.jpg', 'https://commons.wikimedia.org/wiki/File:Carreaux_de_terre_cuite.jpg', 'https://commons.wikimedia.org/wiki/File:Cartolina_forniture_navali_e_alberghiere.jpg', 'https://commons.wikimedia.org/wiki/File:Carwash_centre_%E2%80%98Christ%E2%80%99_1.jpg', 'https://commons.wikimedia.org/wiki/File:Carwash_centre_%E2%80%98Christ%E2%80%99_2.jpg', 'https://commons.wikimedia.org/wiki/File:Carwash_centre_%E2%80%98Christ%E2%80%99_3.jpg', 'https://commons.wikimedia.org/wiki/File:Casa_1.0_Frente.jpg', 'https://commons.wikimedia.org/wiki/File:Casa_Casco_Bachen.png', 'https://commons.wikimedia.org/wiki/File:CASA_CLUB_RESERVA_GRUPO_SPAZIO_2880px-7464.jpg', 'https://commons.wikimedia.org/wiki/File:Casa_de_C%C3%A2mara_e_Cadeia_em_Rio_de_Contas_(BA).jpg', 'https://commons.wikimedia.org/wiki/File:CASA_DE_LA_JUVENTUD_-_INTERIOR-,_VILLAJOYOSA,_ALICANTE.jpg', 'https://commons.wikimedia.org/wiki/File:Casa_dels_toros_1.jpg', 'https://commons.wikimedia.org/wiki/File:Casa_dels_toros_2.jpg', 'https://commons.wikimedia.org/wiki/File:Casa_do_pobo,_Nogueiroa_(O_Irixo).jpg', 'https://commons.wikimedia.org/wiki/File:Casa_embrion._Javier_Senosiain..jpg', 'https://commons.wikimedia.org/wiki/File:Casa_Esp%C3%ADnola_Tami.jpg', 'https://commons.wikimedia.org/wiki/File:Casa_Federer.jpg', 'https://commons.wikimedia.org/wiki/File:Casa_Gr%C3%BChn_Duarte.png', 'https://commons.wikimedia.org/wiki/File:Casa_Jaume_Bach_i_Murl%C3%A0._c-Junta_de_Comer%C3%A7,_26.jpg', 'https://commons.wikimedia.org/wiki/File:Casa_Kostianovsky.jpg', 'https://commons.wikimedia.org/wiki/File:Casa_Martinez_Trueba.png', 'https://commons.wikimedia.org/wiki/File:Casa_Mart%C3%ADnez.png', 'https://commons.wikimedia.org/wiki/File:Casa_Matal%C3%B3n-Ull%C3%B3n.png', 'https://commons.wikimedia.org/wiki/File:Casa_Matal%C3%B3n.png', 'https://commons.wikimedia.org/wiki/File:Casa_Mediterr%C3%A1neo._Interior_1.jpg', 'https://commons.wikimedia.org/wiki/File:Casa_Musi.jpg', 'https://commons.wikimedia.org/wiki/File:Casa_Oraaflex_sistema_modular_Cesar_Garc%C3%ADa_Taylor.jpg', 'https://commons.wikimedia.org/wiki/File:Casa_Org%C3%A1nica.jpg', 'https://commons.wikimedia.org/wiki/File:Casa_palafita_4.jpg', 'https://commons.wikimedia.org/wiki/File:Casa_palafita_II.jpg', 'https://commons.wikimedia.org/wiki/File:Casa_palafita_III.jpg']\n",
            "['https://commons.wikimedia.org/wiki/File:Nottuln,_Appelh%C3%BClsen,_Haus_Klein-Schonebeck_--_2015_--_01132.jpg', 'https://commons.wikimedia.org/wiki/File:Nottuln,_Appelh%C3%BClsen,_Haus_Klein-Schonebeck_--_2015_--_01133.jpg', 'https://commons.wikimedia.org/wiki/File:Nottuln,_Appelh%C3%BClsen,_Haus_Klein-Schonebeck_--_2015_--_01135.jpg', 'https://commons.wikimedia.org/wiki/File:Nottuln,_Appelh%C3%BClsen,_Kriegerged%C3%A4chtniskapelle_--_2015_--_5459.jpg', 'https://commons.wikimedia.org/wiki/File:Nottuln,_Appelh%C3%BClsen,_Pfarramt_--_2015_--_5472.jpg', 'https://commons.wikimedia.org/wiki/File:Nottuln,_Appelh%C3%BClsen,_Schulze-Frenkings-Hof_--_2015_--_5455.jpg', 'https://commons.wikimedia.org/wiki/File:Nottuln,_Appelh%C3%BClsen,_Schulze-Frenkings-Hof_--_2015_--_5476.jpg', 'https://commons.wikimedia.org/wiki/File:Nottuln,_Appelh%C3%BClsen,_Schulze-Frenkings-Hof_--_2015_--_5477.jpg', 'https://commons.wikimedia.org/wiki/File:Nottuln,_Appelh%C3%BClsen,_Schulze-Frenkings-Hof_--_2015_--_5478.jpg', 'https://commons.wikimedia.org/wiki/File:Nottuln,_Appelh%C3%BClsen,_Schulze-Frenkings-Hof_--_2015_--_5482.jpg', 'https://commons.wikimedia.org/wiki/File:Nottuln,_Appelh%C3%BClsen,_Schulze-Frenkings-Hof_--_2015_--_5484.jpg', 'https://commons.wikimedia.org/wiki/File:Nottuln,_Appelh%C3%BClsen,_Schulze-Frenkings-Hof_--_2015_--_5486.jpg', 'https://commons.wikimedia.org/wiki/File:Nottuln,_Appelh%C3%BClsen,_St.-Maria-Himmelfahrt-Kirche_--_2015_--_5462.jpg', 'https://commons.wikimedia.org/wiki/File:Nottuln,_Appelh%C3%BClsen,_St.-Maria-Himmelfahrt-Kirche_--_2015_--_5463.jpg', 'https://commons.wikimedia.org/wiki/File:Nottuln,_Appelh%C3%BClsen,_St.-Maria-Himmelfahrt-Kirche_--_2015_--_5466.jpg', 'https://commons.wikimedia.org/wiki/File:Nottuln,_Geb%C3%A4ude_-Ascheberg%27sche_Kurie-_--_2016_--_3826.jpg', 'https://commons.wikimedia.org/wiki/File:Nottuln,_St.-Martinus-Kirche_--_2016_--_3818.jpg', 'https://commons.wikimedia.org/wiki/File:Nottuln,_Stockum,_Rapsfeld_--_2021_--_8077.jpg', 'https://commons.wikimedia.org/wiki/File:Nottuln,_Stockum,_Rapsfeld_--_2021_--_8078.jpg', 'https://commons.wikimedia.org/wiki/File:Nottuln,_Stockum,_Rapsfeld_--_2021_--_8079.jpg', 'https://commons.wikimedia.org/wiki/File:Nottuln,_Wasserm%C3%BChle_Schulze_Westerath_--_2016_--_1463.jpg', 'https://commons.wikimedia.org/wiki/File:Nottuln,_Wasserm%C3%BChle_Schulze_Westerath_--_2016_--_1464-70.jpg']\n",
            "['https://commons.wikimedia.org/wiki/File:1979_Festival_Aerial_Image.jpg', 'https://commons.wikimedia.org/wiki/File:1979_Festival_main.jpg', 'https://commons.wikimedia.org/wiki/File:1979_Festival_parking_and_camping.jpg', 'https://commons.wikimedia.org/wiki/File:20120621-FS-UNK-0002.jpg', 'https://commons.wikimedia.org/wiki/File:Aerial_view_of_Al_Ghadha.jpg', 'https://commons.wikimedia.org/wiki/File:After_the_game_(4058587551).jpg', 'https://commons.wikimedia.org/wiki/File:Al_Ghadha_Desert_Festival.jpg', 'https://commons.wikimedia.org/wiki/File:Al_Ghadha_Festival,_Unaizah.jpg', 'https://commons.wikimedia.org/wiki/File:Bonn_Rheinkultur.JPG', 'https://commons.wikimedia.org/wiki/File:Chaos_Communication_Camp_2015_aerial.jpg', 'https://commons.wikimedia.org/wiki/File:D%C3%BClmen,_Wiese_am_Kapellenweg_--_2014_--_8020.jpg', 'https://commons.wikimedia.org/wiki/File:D%C3%BClmen,_Wiese_am_Kapellenweg_--_2014_--_8021.jpg', 'https://commons.wikimedia.org/wiki/File:D%C3%BClmen,_Wiese_am_Kapellenweg_--_2014_--_8085.jpg', 'https://commons.wikimedia.org/wiki/File:Finger_Lakes_GrassRoots_Festival_of_Music_%26_Dance.jpeg', 'https://commons.wikimedia.org/wiki/File:Helicopter_view.jpg', 'https://commons.wikimedia.org/wiki/File:Justice_4_George_March_April,_19,_2021_(51128047348).jpg', 'https://commons.wikimedia.org/wiki/File:Luftbild_Ragnar%C3%B6k_Festival_2010_Rieden.jpg', 'https://commons.wikimedia.org/wiki/File:McMahon_Stadium_6.jpg', 'https://commons.wikimedia.org/wiki/File:Occupy_UC_Davis_from_helium_balloon_2011-11-21.jpg', 'https://commons.wikimedia.org/wiki/File:Reading_Festival_2007,_bird%27s_eye_view_1.jpg', 'https://commons.wikimedia.org/wiki/File:Reading_Festival_2007,_bird%27s_eye_view_2.jpg', 'https://commons.wikimedia.org/wiki/File:Rocco_del_Schlacko_AirPano.jpg', 'https://commons.wikimedia.org/wiki/File:Splashy_Fen_2009_Aerial.jpg', 'https://commons.wikimedia.org/wiki/File:TyroneWoodsFuneralByPhilKonstantin.jpg']\n"
          ]
        }
      ]
    },
    {
      "cell_type": "markdown",
      "source": [
        "# Create the functions to fetch the correct link and to download the images."
      ],
      "metadata": {
        "id": "YwzhAT0-FLhX"
      }
    },
    {
      "cell_type": "code",
      "source": [
        "def scrape_images(download_path):\n",
        "  \"\"\"\n",
        "  Using the download_path url this function fetch\n",
        "  the correct url and download the image in the \n",
        "  current working directory.\n",
        "  \"\"\"\n",
        "  try:\n",
        "    time.sleep(5)\n",
        "    print(\"Download path is:\", download_path)\n",
        "\n",
        "    # GET THE FILE NAME IN ORDER TO USE IT LATER TO SAVE THE FILE\n",
        "    current_link = str(download_path)\n",
        "    # print(\"CURRENT LINK:\", current_link)\n",
        "\n",
        "    file_name = current_link.split(\"File:\")[1] # TO CHECK: IS THIS A STRING?\n",
        "    html = urlopen(download_path)\n",
        "    bs4_apply = bs4(html, 'html.parser')\n",
        "    images = bs4_apply.find_all('a')\n",
        "    \n",
        "    save_list = []\n",
        "\n",
        "    for el in images:\n",
        "      get_ref = el.get('href')\n",
        "      save_list.append(get_ref)\n",
        "      \n",
        "    save_list = save_list[1:]\n",
        "\n",
        "    correct_url_image = []\n",
        "    # string in the list\n",
        "    for s in save_list:\n",
        "      if 'https' in s:\n",
        "        # print(s)\n",
        "        correct_url_image.append(s)\n",
        "\n",
        "    # print(correct_url_image[0])\n",
        "    \n",
        "    # FOR SAVING JUST ONE IMAGE THE IMAGE\n",
        "    # urllib.request.urlretrieve(correct_url_image[0], file_name)\n",
        "\n",
        "    # CREATE THE REJECTION_CLASS FOLDER IF IT DOES NOT EXISTS ON GOOGLE DRIVE\n",
        "    if path.exists(DIR_ORIGINAL_DATA) == False:\n",
        "      os.mkdir(DIR_ORIGINAL_DATA)\n",
        "\n",
        "    # return urllib.request.urlretrieve(correct_url_image[0], f\"/content/rejection_class/{file_name}\")\n",
        "    # SAVE TO GOOGLE DRIVE\n",
        "    return urllib.request.urlretrieve(correct_url_image[0], f\"{DIR_ORIGINAL_DATA}/{file_name}\")\n",
        "  except:\n",
        "    print(\"Error, image not saved. Continue with the next one.\")"
      ],
      "metadata": {
        "id": "8cEQZKknOUF_"
      },
      "execution_count": null,
      "outputs": []
    },
    {
      "cell_type": "code",
      "source": [
        "# TEST ON HOW TO DOWNLOAD AN IMAGE\n",
        "# scrape_images(\"https://commons.wikimedia.org/wiki/File:Crest-_Yosemite%3F_(17a34fd143a7446ea27c2138f52c2e16).jpg\")"
      ],
      "metadata": {
        "id": "vB2j8SUSDVMg"
      },
      "execution_count": null,
      "outputs": []
    },
    {
      "cell_type": "markdown",
      "source": [
        "# Looping trough the lists, get the links and download the images"
      ],
      "metadata": {
        "id": "TnBiyQ3t-DdH"
      }
    },
    {
      "cell_type": "code",
      "source": [
        "# Looping trought the LANDSCAPES links\n",
        "for each_link_land in landscapes:\n",
        "  scrape_images(each_link_land)"
      ],
      "metadata": {
        "id": "hreEaMJxDiMP",
        "colab": {
          "base_uri": "https://localhost:8080/"
        },
        "outputId": "368e2183-944e-4dd9-bd47-d1d00c50e81d"
      },
      "execution_count": null,
      "outputs": [
        {
          "output_type": "stream",
          "name": "stdout",
          "text": [
            "Download path is: https://commons.wikimedia.org/wiki/File:Crest-_Yosemite%3F_(17a34fd143a7446ea27c2138f52c2e16).jpg\n",
            "Download path is: https://commons.wikimedia.org/wiki/File:Fallcreek_Oct_2008.jpg\n",
            "Download path is: https://commons.wikimedia.org/wiki/File:Galway,_Irlanda.jpg\n",
            "Download path is: https://commons.wikimedia.org/wiki/File:IMG-20210214-WA0300.jpg\n",
            "Download path is: https://commons.wikimedia.org/wiki/File:In_Bangor.JPG\n",
            "Download path is: https://commons.wikimedia.org/wiki/File:Joe_Mania_2016-08-01_(Unsplash_PFLchrsv9jY).jpg\n",
            "Download path is: https://commons.wikimedia.org/wiki/File:Layakharo_Evining_sunset_scenery.jpg\n",
            "Download path is: https://commons.wikimedia.org/wiki/File:Mountain_Glacier_Landscape_(from_AvoPix).jpg\n",
            "Download path is: https://commons.wikimedia.org/wiki/File:%D0%AF%D1%8F_412a.jpg\n"
          ]
        }
      ]
    },
    {
      "cell_type": "code",
      "source": [
        "# Looping trought the ARCHITECTURE links\n",
        "for each_link_architecture in architecture:\n",
        "  scrape_images(each_link_architecture)"
      ],
      "metadata": {
        "colab": {
          "base_uri": "https://localhost:8080/"
        },
        "id": "Y0ywFiHil1iy",
        "outputId": "7b87862a-99bc-4bc5-8191-a9941c54ef6d"
      },
      "execution_count": null,
      "outputs": [
        {
          "output_type": "stream",
          "name": "stdout",
          "text": [
            "Download path is: https://commons.wikimedia.org/wiki/File:%22Grecia._Le_radici_della_Civilt%C3%A0_Europea%22_book_by_Pino_Musi.jpg\n",
            "Download path is: https://commons.wikimedia.org/wiki/File:%22Grecia._Le_radici_della_Civilt%C3%A0_Europea%22_photobook_by_Pino_Musi.jpg\n",
            "Download path is: https://commons.wikimedia.org/wiki/File:01_EJHNMC_by_Husos_03b_01_PRuiz.jpg\n",
            "Download path is: https://commons.wikimedia.org/wiki/File:01_FREYMING-MERLEBACH-web.jpg\n",
            "Download path is: https://commons.wikimedia.org/wiki/File:03_EJHNMC_by_Husos_09_MSalinas.jpg\n",
            "Download path is: https://commons.wikimedia.org/wiki/File:04_Dispersion_by_Husos.jpg\n",
            "Download path is: https://commons.wikimedia.org/wiki/File:04_UVA_by_Husos_FOTOMONT.jpg\n",
            "Download path is: https://commons.wikimedia.org/wiki/File:05_Do_It_by_Husos.jpg\n",
            "Download path is: https://commons.wikimedia.org/wiki/File:05_VCAL_by_Husos.jpg\n",
            "Download path is: https://commons.wikimedia.org/wiki/File:06_VCAL_by_Husos.jpg\n",
            "Download path is: https://commons.wikimedia.org/wiki/File:07_GBV_by_Husos.jpg\n",
            "Download path is: https://commons.wikimedia.org/wiki/File:08_GBV_by_Husos.jpg\n",
            "Download path is: https://commons.wikimedia.org/wiki/File:1_(1968)_Edificio_commerciale_e_residenziale_in_via_Battistini_a_Roma_-_vista_dell%E2%80%99esterno.tif\n",
            "Download path is: https://commons.wikimedia.org/wiki/File:10_Bathyard_by_Husos.jpg\n",
            "Download path is: https://commons.wikimedia.org/wiki/File:1020_Fifth_Avenue_Ceiling_Height_Layout.png\n",
            "Download path is: https://commons.wikimedia.org/wiki/File:115_rue_Javel.jpg\n",
            "Download path is: https://commons.wikimedia.org/wiki/File:12_Refugio_by_Husos_photo_Impcot.jpg\n",
            "Download path is: https://commons.wikimedia.org/wiki/File:13_Refugio_by_Husos_POSTER.jpg\n",
            "Download path is: https://commons.wikimedia.org/wiki/File:135Bhouses.jpg\n",
            "Download path is: https://commons.wikimedia.org/wiki/File:171201_182240_Stein_VivaFoto.jpg\n",
            "Download path is: https://commons.wikimedia.org/wiki/File:1919-Plan-1024.jpg\n",
            "Download path is: https://commons.wikimedia.org/wiki/File:1923_Broadway_1024.jpg\n",
            "Download path is: https://commons.wikimedia.org/wiki/File:2_Alan_Crist_Creator_Of_NFT_Art.jpg\n",
            "Download path is: https://commons.wikimedia.org/wiki/File:2_Pino_Musi_%22Corpi_d%27Architettura%22_1995_-_2021.jpg\n",
            "Download path is: https://commons.wikimedia.org/wiki/File:2018_09_SH_Neumarkt17_0050.jpg\n",
            "Download path is: https://commons.wikimedia.org/wiki/File:2019_Nocturne_Luminous_Cloud_Passage_Studio.jpg\n",
            "Download path is: https://commons.wikimedia.org/wiki/File:20201024_151402_%D0%92%D0%B8%D0%B4_%D0%BD%D0%B0_%D0%B1%D1%83%D0%B4%D1%96%D0%B2%D0%BB%D1%8E_%D0%BC%D0%B0%D1%80%D1%96%D1%83%D0%BF%D0%BE%D0%BB%D1%8C%D1%81%D1%8C%D0%BA%D0%BE%D0%B3%D0%BE_%D0%BF%D1%80%D0%BE%D0%BC%D0%B8%D1%81%D0%BB%D0%BE%D0%B2%D0%BE%D0%B3%D0%BE_%D1%86%D0%B5%D1%85%D1%83.jpg\n",
            "Error, image not saved. Continue with the next one.\n",
            "Download path is: https://commons.wikimedia.org/wiki/File:2021-09-13-08-41-35-1350x900.jpg\n",
            "Download path is: https://commons.wikimedia.org/wiki/File:270_Park_Avenue_before_demolition.jpg\n",
            "Download path is: https://commons.wikimedia.org/wiki/File:3DESCRIPCION.jpg\n",
            "Download path is: https://commons.wikimedia.org/wiki/File:4_Alan_Crist_Creator_Of_NFT_Art.jpg\n",
            "Download path is: https://commons.wikimedia.org/wiki/File:48x54_HOUSE_ELEVATION.jpg\n",
            "Download path is: https://commons.wikimedia.org/wiki/File:4MFSIV23j-960x550.jpg\n",
            "Download path is: https://commons.wikimedia.org/wiki/File:5_Alan_Crist_Creator_Of_NFT_Art.jpg\n",
            "Download path is: https://commons.wikimedia.org/wiki/File:7%C2%BA_Encuentro_Historiadores_Arquitectura.jpg\n",
            "Download path is: https://commons.wikimedia.org/wiki/File:8_Degrees_-_Oakleigh.jpg\n",
            "Download path is: https://commons.wikimedia.org/wiki/File:83095_original.jpg\n",
            "Download path is: https://commons.wikimedia.org/wiki/File:A_1922_CT_1024.jpg\n",
            "Download path is: https://commons.wikimedia.org/wiki/File:A_view_2.jpg\n",
            "Download path is: https://commons.wikimedia.org/wiki/File:A.V.Kozolov_Blueprints.jpg\n",
            "Download path is: https://commons.wikimedia.org/wiki/File:Abbaye_de_Jumi%C3%A8ges_vue_artistique.jpg\n",
            "Download path is: https://commons.wikimedia.org/wiki/File:AbbeygreenChurchGreyscaleImage_c1900(Resize).jpg\n",
            "Download path is: https://commons.wikimedia.org/wiki/File:Abdullah_Khans_lament.jpg\n",
            "Download path is: https://commons.wikimedia.org/wiki/File:Acceso_a_LABNL_Lab_Cultural_Ciudadano.jpg\n",
            "Download path is: https://commons.wikimedia.org/wiki/File:Acceso_Biblioteca_Vasconcelos.jpg\n",
            "Download path is: https://commons.wikimedia.org/wiki/File:Acceso-Foto_MargotKalach.jpg\n",
            "Download path is: https://commons.wikimedia.org/wiki/File:Acervo_bibliogr%C3%A1fico.jpg\n",
            "Download path is: https://commons.wikimedia.org/wiki/File:Acoustic_Bricks_(Gramazio_Kohler_Research,_ETH_Zurich).jpg\n",
            "Download path is: https://commons.wikimedia.org/wiki/File:Adam_Birkett_2017-04-08_(Unsplash_yX-tySfxx2o).jpg\n",
            "Download path is: https://commons.wikimedia.org/wiki/File:Adam_Birkett_2017-05-11_(Unsplash).jpg\n",
            "Download path is: https://commons.wikimedia.org/wiki/File:Aerial_Photo_of_the_UCA_campus.jpg\n",
            "Download path is: https://commons.wikimedia.org/wiki/File:Afiche_hotel_pocitos.jpg\n",
            "Download path is: https://commons.wikimedia.org/wiki/File:Agora_Juan_Andr%C3%A9s_Ben%C3%ADtez.jpg\n",
            "Download path is: https://commons.wikimedia.org/wiki/File:Alan_Crist_Creator_Of_NFT_Art.jpg\n",
            "Download path is: https://commons.wikimedia.org/wiki/File:Aleksander_Georg_von_Stryki_elumaja_projekt_1895._a_Viljandis.jpg\n",
            "Download path is: https://commons.wikimedia.org/wiki/File:Alexandria_Historic_Foundation.200_Prince_001.31-N-200.jpg\n",
            "Download path is: https://commons.wikimedia.org/wiki/File:Alexandria_Historic_Foundation.200_Prince_003.31-N-200.jpg\n",
            "Download path is: https://commons.wikimedia.org/wiki/File:Alfred_ext_nad.jpg\n",
            "Download path is: https://commons.wikimedia.org/wiki/File:Alfred_int.jpg\n",
            "Download path is: https://commons.wikimedia.org/wiki/File:All_White_Cunucu_House_in_Moko.jpg\n",
            "Download path is: https://commons.wikimedia.org/wiki/File:Altar_del_templo.jpg\n",
            "Download path is: https://commons.wikimedia.org/wiki/File:Altbach_1-2.jpg\n",
            "Download path is: https://commons.wikimedia.org/wiki/File:Altezza_media_ponderale.jpg\n",
            "Download path is: https://commons.wikimedia.org/wiki/File:Altezza_Media_Ponderale.jpg\n",
            "Download path is: https://commons.wikimedia.org/wiki/File:Amsterdam_Houthavens.jpg\n",
            "Download path is: https://commons.wikimedia.org/wiki/File:Anceint_Ife_pavement.png\n",
            "Download path is: https://commons.wikimedia.org/wiki/File:Anclaje_pasivo_en_anillo_de_compresi%C3%B3n_exterior.jpg\n",
            "Download path is: https://commons.wikimedia.org/wiki/File:Anheina_Livia_Starkova,_personal_collection.jpg\n",
            "Download path is: https://commons.wikimedia.org/wiki/File:Anthony_Chapel_at_Garvan_Woodland_Gardens.jpg\n",
            "Download path is: https://commons.wikimedia.org/wiki/File:AP-Secretariat-at-Velagapudi-768x357.jpg\n",
            "Download path is: https://commons.wikimedia.org/wiki/File:Apartmentbuilding_Overkroeten_1.jpg\n",
            "Download path is: https://commons.wikimedia.org/wiki/File:Apartmentbuilding_Overkroeten_2.jpg\n",
            "Download path is: https://commons.wikimedia.org/wiki/File:Apartmentbuilding_Overkroeten_3.jpg\n",
            "Download path is: https://commons.wikimedia.org/wiki/File:Arbeiderswoningen_David_Evekink_Stichting_Zutphen-mijnGelderland-CC-BY-SA.jpg\n",
            "Download path is: https://commons.wikimedia.org/wiki/File:Arbre_image_f%C3%A9tiche_dans_la_seine.jpg\n",
            "Download path is: https://commons.wikimedia.org/wiki/File:Archeological_training_and_conservation_centre_1.jpg\n",
            "Download path is: https://commons.wikimedia.org/wiki/File:Archeological_training_and_conservation_centre_2.jpg\n",
            "Download path is: https://commons.wikimedia.org/wiki/File:Archeological_training_and_conservation_centre_3.jpg\n",
            "Download path is: https://commons.wikimedia.org/wiki/File:Architect_near_Cambridge_MA.jpg\n",
            "Download path is: https://commons.wikimedia.org/wiki/File:Architects_Association.png\n",
            "Download path is: https://commons.wikimedia.org/wiki/File:Architectural_design_Vest_pocket_theater_01.jpg\n",
            "Download path is: https://commons.wikimedia.org/wiki/File:Architectural_design_Vest_pocket_theater_02.jpg\n",
            "Download path is: https://commons.wikimedia.org/wiki/File:Architectural_design_Youth_center_01.jpg\n",
            "Download path is: https://commons.wikimedia.org/wiki/File:Architectural_design_Youth_center_02.jpg\n",
            "Download path is: https://commons.wikimedia.org/wiki/File:Architectural_drawing_of_%27De_kleine_schans%27_01.jpg\n",
            "Download path is: https://commons.wikimedia.org/wiki/File:Architectural_drawing_of_%27De_kleine_schans%27_02.jpg\n",
            "Download path is: https://commons.wikimedia.org/wiki/File:Architecture_and_sky.jpg\n",
            "Download path is: https://commons.wikimedia.org/wiki/File:Architecture_HDR_(2582654656).jpg\n",
            "Download path is: https://commons.wikimedia.org/wiki/File:Architecture_in_Velden_(Austria).jpg\n",
            "Download path is: https://commons.wikimedia.org/wiki/File:Architecture_of_Santiniketan.jpg\n",
            "Download path is: https://commons.wikimedia.org/wiki/File:Architecture_pic.jpg\n",
            "Download path is: https://commons.wikimedia.org/wiki/File:Architectures_YAMO.jpg\n",
            "Download path is: https://commons.wikimedia.org/wiki/File:Architectuur_van_de_Dogon_01.jpg\n",
            "Download path is: https://commons.wikimedia.org/wiki/File:Architectuur_van_de_Dogon_02.jpg\n",
            "Download path is: https://commons.wikimedia.org/wiki/File:Architekt_Artur_Paul_Duniecki,_Philips_Produktenschau,_1976.jpg\n",
            "Download path is: https://commons.wikimedia.org/wiki/File:Architekt_Artur_Paul_Duniecki,_Stadtteilplanung_Handelskai,_1990.jpg\n",
            "Download path is: https://commons.wikimedia.org/wiki/File:Arco_de_Eginardo-Einhardsboog-%C3%89ginhard_Arc.jpg\n",
            "Download path is: https://commons.wikimedia.org/wiki/File:ArqArgEnElMundoBis-40_7282.jpg\n",
            "Download path is: https://commons.wikimedia.org/wiki/File:ArqArgEnElMundoBis-40_7385.jpg\n",
            "Download path is: https://commons.wikimedia.org/wiki/File:ArqArgEnElMundoBis-40_7431.jpg\n",
            "Download path is: https://commons.wikimedia.org/wiki/File:Arquitectura_fractal.jpg\n",
            "Download path is: https://commons.wikimedia.org/wiki/File:Arquitectura_y_Naturaleza.jpg\n",
            "Download path is: https://commons.wikimedia.org/wiki/File:Arquiteturas_serie.png\n",
            "Download path is: https://commons.wikimedia.org/wiki/File:Artistas_Monumentales_1.jpg\n",
            "Download path is: https://commons.wikimedia.org/wiki/File:Artistas_Monumentales_2.jpg\n",
            "Download path is: https://commons.wikimedia.org/wiki/File:Artistas_Monumentales_3.jpg\n",
            "Download path is: https://commons.wikimedia.org/wiki/File:Artistas_Monumentales_4.jpg\n",
            "Download path is: https://commons.wikimedia.org/wiki/File:Artistas_Monumentales_5.jpg\n",
            "Download path is: https://commons.wikimedia.org/wiki/File:Artistas_Monumentales_6.jpg\n",
            "Download path is: https://commons.wikimedia.org/wiki/File:Art%C3%ADculo_Arbitrado.pdf\n",
            "Download path is: https://commons.wikimedia.org/wiki/File:Asling_St_-_Brighton.jpg\n",
            "Download path is: https://commons.wikimedia.org/wiki/File:Aspecto_Lateral_Cineteca_Nacional.jpg\n",
            "Download path is: https://commons.wikimedia.org/wiki/File:Atrium_der_DDR-Botschaft_in_Budapest.jpg\n",
            "Download path is: https://commons.wikimedia.org/wiki/File:AU-Qld-Spring_Hill-Espie-Dods-House-entrance-2021.jpg\n",
            "Download path is: https://commons.wikimedia.org/wiki/File:AU-Qld-Spring_Hill-Espie-Dods-House-side-2021.jpg\n",
            "Download path is: https://commons.wikimedia.org/wiki/File:Aupontrouge.jpg\n",
            "Download path is: https://commons.wikimedia.org/wiki/File:Automation-pyramid.jpg\n",
            "Download path is: https://commons.wikimedia.org/wiki/File:Auzon_Plan_du_Parc_Choulot_1849.jpg\n",
            "Download path is: https://commons.wikimedia.org/wiki/File:Baghouse_III_am_Golfplatz_Hetzenhof_in_Lorch.jpg\n",
            "Download path is: https://commons.wikimedia.org/wiki/File:Baiyoke_Tower.jpg\n",
            "Download path is: https://commons.wikimedia.org/wiki/File:Balmes,_127.jpg\n",
            "Download path is: https://commons.wikimedia.org/wiki/File:Banner_Piazza_del_Popolo_Fermo.jpg\n",
            "Download path is: https://commons.wikimedia.org/wiki/File:Baqubah....Beautiful_Building.jpg\n",
            "Download path is: https://commons.wikimedia.org/wiki/File:Baymaas_building.jpg\n",
            "Download path is: https://commons.wikimedia.org/wiki/File:Bayonne_Stadtansicht.jpg\n",
            "Download path is: https://commons.wikimedia.org/wiki/File:Bayside_Fire_Station_2,_San_Diego,_CA.jpg\n",
            "Download path is: https://commons.wikimedia.org/wiki/File:Beach_Rd_%E2%80%93_Hampton.jpg\n",
            "Download path is: https://commons.wikimedia.org/wiki/File:Beaconsfield_Parade_%E2%80%93_Middle_Park.jpg\n",
            "Download path is: https://commons.wikimedia.org/wiki/File:Beijing_haidianqu_children_center_planning_(2002).jpg\n",
            "Download path is: https://commons.wikimedia.org/wiki/File:Belhorizon.jpg\n",
            "Download path is: https://commons.wikimedia.org/wiki/File:Beyond_Building_Information_Modeling_Symposium_March_2019_London_landscape.jpg\n",
            "Download path is: https://commons.wikimedia.org/wiki/File:Biblioteca_Ra%C3%BAl_Rangel_Fr%C3%ADas_-_Inauguraci%C3%B3n.jpg\n",
            "Download path is: https://commons.wikimedia.org/wiki/File:Biblioteca_Vasconcelos.jpg\n",
            "Download path is: https://commons.wikimedia.org/wiki/File:Bichi_Emirates_1.jpg\n",
            "Download path is: https://commons.wikimedia.org/wiki/File:Bichi_Emirates_2.jpg\n",
            "Download path is: https://commons.wikimedia.org/wiki/File:Big_Pink_(2D_Artwork).png\n",
            "Download path is: https://commons.wikimedia.org/wiki/File:Bimal_Patel_at_HCP_Office,_Ahmedabad.jpg\n",
            "Download path is: https://commons.wikimedia.org/wiki/File:Bispekapellet_gotisk_%C3%B8stvindu_-_grindverksvindu.jpg\n",
            "Download path is: https://commons.wikimedia.org/wiki/File:Bispekapellet_sett_fra_skoleg%C3%A5rden.jpg\n",
            "Download path is: https://commons.wikimedia.org/wiki/File:Biyofilik_Tasar%C4%B1m_14_Unsuru.jpg\n",
            "Download path is: https://commons.wikimedia.org/wiki/File:Biyofilik_Tasar%C4%B1m_%C3%96geleri.jpg\n",
            "Download path is: https://commons.wikimedia.org/wiki/File:Blackberry_inn,_Mendocino.jpg\n",
            "Download path is: https://commons.wikimedia.org/wiki/File:Blair_VIP_Toilet.jpg\n",
            "Download path is: https://commons.wikimedia.org/wiki/File:Blick_durch_Innenhof_Seestrasse-Wallstrasse_zu_Hausmannsturm_09_10_2010.jpg\n",
            "Download path is: https://commons.wikimedia.org/wiki/File:Blm_OE_00484.jpg\n",
            "Download path is: https://commons.wikimedia.org/wiki/File:Bmv_01.jpg\n",
            "Download path is: https://commons.wikimedia.org/wiki/File:Book-Transbay_Columns-cover.jpg\n",
            "Download path is: https://commons.wikimedia.org/wiki/File:Bouwtekening_R.K._kerk_in_De_Kwakel_uit_1874.jpg\n",
            "Download path is: https://commons.wikimedia.org/wiki/File:Brinkplan_Overkroeten_1.jpg\n",
            "Download path is: https://commons.wikimedia.org/wiki/File:Brinkplan_Overkroeten_2.jpg\n",
            "Download path is: https://commons.wikimedia.org/wiki/File:Brinkplan_Overkroeten_3.jpg\n",
            "Download path is: https://commons.wikimedia.org/wiki/File:Brinkplan_Overkroeten_4.jpg\n",
            "Download path is: https://commons.wikimedia.org/wiki/File:British_Council_Delhi.jpg\n",
            "Download path is: https://commons.wikimedia.org/wiki/File:Broadway_Corridor_Master_Plan.jpg\n",
            "Download path is: https://commons.wikimedia.org/wiki/File:Brodten_Hof_Werner.jpg\n",
            "Download path is: https://commons.wikimedia.org/wiki/File:Brooklinbranch_Whitby_On.png\n",
            "Download path is: https://commons.wikimedia.org/wiki/File:Building_64b.jpg\n",
            "Download path is: https://commons.wikimedia.org/wiki/File:Building_at_Stanford_University.jpg\n",
            "Download path is: https://commons.wikimedia.org/wiki/File:Bulwary_Wislane_1_glowny.jpg\n",
            "Download path is: https://commons.wikimedia.org/wiki/File:Bungalowbrasileiro1925.jpg\n",
            "Download path is: https://commons.wikimedia.org/wiki/File:Burgerhuis_Swart_(1933)_architect-_Nachman_Kaplansky.jpg\n",
            "Download path is: https://commons.wikimedia.org/wiki/File:BYGGNADERNA_SOM.jpg\n",
            "Download path is: https://commons.wikimedia.org/wiki/File:Bytovy_d%C5%AFm_Vila_Na_Pet%C5%99in%C3%A1ch.jpg\n",
            "Download path is: https://commons.wikimedia.org/wiki/File:Ca_l%27Erasme.jpg\n",
            "Download path is: https://commons.wikimedia.org/wiki/File:Calle_la_constancia_jerez.jpg\n",
            "Download path is: https://commons.wikimedia.org/wiki/File:Calle_nueva11A.jpg\n",
            "Download path is: https://commons.wikimedia.org/wiki/File:Canastro,_Nogueiroa_(O_Irixo).jpg\n",
            "Download path is: https://commons.wikimedia.org/wiki/File:Capilla_del_Hospital_Christus_Muguerza_UPAEP_en_Puebla.jpg\n",
            "Download path is: https://commons.wikimedia.org/wiki/File:Capilla_del_Hospital_Christus_Muguerza_UPAEP-_en_Puebla.jpg\n",
            "Download path is: https://commons.wikimedia.org/wiki/File:Carl_Street_Studios_Stairwell_Detail.jpg\n",
            "Download path is: https://commons.wikimedia.org/wiki/File:Carreaux_de_terre_cuite.jpg\n",
            "Download path is: https://commons.wikimedia.org/wiki/File:Cartolina_forniture_navali_e_alberghiere.jpg\n",
            "Download path is: https://commons.wikimedia.org/wiki/File:Carwash_centre_%E2%80%98Christ%E2%80%99_1.jpg\n",
            "Download path is: https://commons.wikimedia.org/wiki/File:Carwash_centre_%E2%80%98Christ%E2%80%99_2.jpg\n",
            "Download path is: https://commons.wikimedia.org/wiki/File:Carwash_centre_%E2%80%98Christ%E2%80%99_3.jpg\n",
            "Download path is: https://commons.wikimedia.org/wiki/File:Casa_1.0_Frente.jpg\n",
            "Download path is: https://commons.wikimedia.org/wiki/File:Casa_Casco_Bachen.png\n",
            "Download path is: https://commons.wikimedia.org/wiki/File:CASA_CLUB_RESERVA_GRUPO_SPAZIO_2880px-7464.jpg\n",
            "Download path is: https://commons.wikimedia.org/wiki/File:Casa_de_C%C3%A2mara_e_Cadeia_em_Rio_de_Contas_(BA).jpg\n",
            "Download path is: https://commons.wikimedia.org/wiki/File:CASA_DE_LA_JUVENTUD_-_INTERIOR-,_VILLAJOYOSA,_ALICANTE.jpg\n",
            "Download path is: https://commons.wikimedia.org/wiki/File:Casa_dels_toros_1.jpg\n",
            "Download path is: https://commons.wikimedia.org/wiki/File:Casa_dels_toros_2.jpg\n",
            "Download path is: https://commons.wikimedia.org/wiki/File:Casa_do_pobo,_Nogueiroa_(O_Irixo).jpg\n",
            "Download path is: https://commons.wikimedia.org/wiki/File:Casa_embrion._Javier_Senosiain..jpg\n",
            "Download path is: https://commons.wikimedia.org/wiki/File:Casa_Esp%C3%ADnola_Tami.jpg\n",
            "Download path is: https://commons.wikimedia.org/wiki/File:Casa_Federer.jpg\n",
            "Download path is: https://commons.wikimedia.org/wiki/File:Casa_Gr%C3%BChn_Duarte.png\n",
            "Download path is: https://commons.wikimedia.org/wiki/File:Casa_Jaume_Bach_i_Murl%C3%A0._c-Junta_de_Comer%C3%A7,_26.jpg\n",
            "Download path is: https://commons.wikimedia.org/wiki/File:Casa_Kostianovsky.jpg\n",
            "Download path is: https://commons.wikimedia.org/wiki/File:Casa_Martinez_Trueba.png\n",
            "Download path is: https://commons.wikimedia.org/wiki/File:Casa_Mart%C3%ADnez.png\n",
            "Download path is: https://commons.wikimedia.org/wiki/File:Casa_Matal%C3%B3n-Ull%C3%B3n.png\n",
            "Download path is: https://commons.wikimedia.org/wiki/File:Casa_Matal%C3%B3n.png\n",
            "Download path is: https://commons.wikimedia.org/wiki/File:Casa_Mediterr%C3%A1neo._Interior_1.jpg\n",
            "Download path is: https://commons.wikimedia.org/wiki/File:Casa_Musi.jpg\n",
            "Download path is: https://commons.wikimedia.org/wiki/File:Casa_Oraaflex_sistema_modular_Cesar_Garc%C3%ADa_Taylor.jpg\n",
            "Download path is: https://commons.wikimedia.org/wiki/File:Casa_Org%C3%A1nica.jpg\n",
            "Download path is: https://commons.wikimedia.org/wiki/File:Casa_palafita_4.jpg\n",
            "Download path is: https://commons.wikimedia.org/wiki/File:Casa_palafita_II.jpg\n",
            "Download path is: https://commons.wikimedia.org/wiki/File:Casa_palafita_III.jpg\n"
          ]
        }
      ]
    },
    {
      "cell_type": "code",
      "source": [
        "# Looping trought the CLOUDS links\n",
        "for each_link_clouds in clouds:\n",
        "  scrape_images(each_link_clouds)"
      ],
      "metadata": {
        "id": "PQTtrMsKFS9i",
        "colab": {
          "base_uri": "https://localhost:8080/"
        },
        "outputId": "3ae0bad0-3e7b-4bdd-87e7-f799a8a8a7e5"
      },
      "execution_count": null,
      "outputs": [
        {
          "output_type": "stream",
          "name": "stdout",
          "text": [
            "Download path is: https://commons.wikimedia.org/wiki/File:Nottuln,_Appelh%C3%BClsen,_Haus_Klein-Schonebeck_--_2015_--_01132.jpg\n",
            "Download path is: https://commons.wikimedia.org/wiki/File:Nottuln,_Appelh%C3%BClsen,_Haus_Klein-Schonebeck_--_2015_--_01133.jpg\n",
            "Download path is: https://commons.wikimedia.org/wiki/File:Nottuln,_Appelh%C3%BClsen,_Haus_Klein-Schonebeck_--_2015_--_01135.jpg\n",
            "Download path is: https://commons.wikimedia.org/wiki/File:Nottuln,_Appelh%C3%BClsen,_Kriegerged%C3%A4chtniskapelle_--_2015_--_5459.jpg\n",
            "Download path is: https://commons.wikimedia.org/wiki/File:Nottuln,_Appelh%C3%BClsen,_Pfarramt_--_2015_--_5472.jpg\n",
            "Download path is: https://commons.wikimedia.org/wiki/File:Nottuln,_Appelh%C3%BClsen,_Schulze-Frenkings-Hof_--_2015_--_5455.jpg\n",
            "Download path is: https://commons.wikimedia.org/wiki/File:Nottuln,_Appelh%C3%BClsen,_Schulze-Frenkings-Hof_--_2015_--_5476.jpg\n",
            "Download path is: https://commons.wikimedia.org/wiki/File:Nottuln,_Appelh%C3%BClsen,_Schulze-Frenkings-Hof_--_2015_--_5477.jpg\n",
            "Download path is: https://commons.wikimedia.org/wiki/File:Nottuln,_Appelh%C3%BClsen,_Schulze-Frenkings-Hof_--_2015_--_5478.jpg\n",
            "Download path is: https://commons.wikimedia.org/wiki/File:Nottuln,_Appelh%C3%BClsen,_Schulze-Frenkings-Hof_--_2015_--_5482.jpg\n",
            "Download path is: https://commons.wikimedia.org/wiki/File:Nottuln,_Appelh%C3%BClsen,_Schulze-Frenkings-Hof_--_2015_--_5484.jpg\n",
            "Download path is: https://commons.wikimedia.org/wiki/File:Nottuln,_Appelh%C3%BClsen,_Schulze-Frenkings-Hof_--_2015_--_5486.jpg\n",
            "Download path is: https://commons.wikimedia.org/wiki/File:Nottuln,_Appelh%C3%BClsen,_St.-Maria-Himmelfahrt-Kirche_--_2015_--_5462.jpg\n",
            "Download path is: https://commons.wikimedia.org/wiki/File:Nottuln,_Appelh%C3%BClsen,_St.-Maria-Himmelfahrt-Kirche_--_2015_--_5463.jpg\n",
            "Download path is: https://commons.wikimedia.org/wiki/File:Nottuln,_Appelh%C3%BClsen,_St.-Maria-Himmelfahrt-Kirche_--_2015_--_5466.jpg\n",
            "Download path is: https://commons.wikimedia.org/wiki/File:Nottuln,_Geb%C3%A4ude_-Ascheberg%27sche_Kurie-_--_2016_--_3826.jpg\n",
            "Download path is: https://commons.wikimedia.org/wiki/File:Nottuln,_St.-Martinus-Kirche_--_2016_--_3818.jpg\n",
            "Download path is: https://commons.wikimedia.org/wiki/File:Nottuln,_Stockum,_Rapsfeld_--_2021_--_8077.jpg\n",
            "Download path is: https://commons.wikimedia.org/wiki/File:Nottuln,_Stockum,_Rapsfeld_--_2021_--_8078.jpg\n",
            "Download path is: https://commons.wikimedia.org/wiki/File:Nottuln,_Stockum,_Rapsfeld_--_2021_--_8079.jpg\n",
            "Download path is: https://commons.wikimedia.org/wiki/File:Nottuln,_Wasserm%C3%BChle_Schulze_Westerath_--_2016_--_1463.jpg\n",
            "Download path is: https://commons.wikimedia.org/wiki/File:Nottuln,_Wasserm%C3%BChle_Schulze_Westerath_--_2016_--_1464-70.jpg\n"
          ]
        }
      ]
    },
    {
      "cell_type": "code",
      "source": [
        "# Looping trought the ENTERTAINMENT links\n",
        "for each_link_entertainment in entertainment:\n",
        "  scrape_images(each_link_entertainment)"
      ],
      "metadata": {
        "id": "VIa6exnYFS6j",
        "colab": {
          "base_uri": "https://localhost:8080/"
        },
        "outputId": "77111e0f-944e-4fe0-e71d-4fd0227f85b5"
      },
      "execution_count": null,
      "outputs": [
        {
          "output_type": "stream",
          "name": "stdout",
          "text": [
            "Download path is: https://commons.wikimedia.org/wiki/File:1979_Festival_Aerial_Image.jpg\n",
            "Download path is: https://commons.wikimedia.org/wiki/File:1979_Festival_main.jpg\n",
            "Download path is: https://commons.wikimedia.org/wiki/File:1979_Festival_parking_and_camping.jpg\n",
            "Download path is: https://commons.wikimedia.org/wiki/File:20120621-FS-UNK-0002.jpg\n",
            "Download path is: https://commons.wikimedia.org/wiki/File:Aerial_view_of_Al_Ghadha.jpg\n",
            "Download path is: https://commons.wikimedia.org/wiki/File:After_the_game_(4058587551).jpg\n",
            "Download path is: https://commons.wikimedia.org/wiki/File:Al_Ghadha_Desert_Festival.jpg\n",
            "Download path is: https://commons.wikimedia.org/wiki/File:Al_Ghadha_Festival,_Unaizah.jpg\n",
            "Download path is: https://commons.wikimedia.org/wiki/File:Bonn_Rheinkultur.JPG\n",
            "Download path is: https://commons.wikimedia.org/wiki/File:Chaos_Communication_Camp_2015_aerial.jpg\n",
            "Download path is: https://commons.wikimedia.org/wiki/File:D%C3%BClmen,_Wiese_am_Kapellenweg_--_2014_--_8020.jpg\n",
            "Download path is: https://commons.wikimedia.org/wiki/File:D%C3%BClmen,_Wiese_am_Kapellenweg_--_2014_--_8021.jpg\n",
            "Download path is: https://commons.wikimedia.org/wiki/File:D%C3%BClmen,_Wiese_am_Kapellenweg_--_2014_--_8085.jpg\n",
            "Download path is: https://commons.wikimedia.org/wiki/File:Finger_Lakes_GrassRoots_Festival_of_Music_%26_Dance.jpeg\n",
            "Download path is: https://commons.wikimedia.org/wiki/File:Helicopter_view.jpg\n",
            "Download path is: https://commons.wikimedia.org/wiki/File:Justice_4_George_March_April,_19,_2021_(51128047348).jpg\n",
            "Download path is: https://commons.wikimedia.org/wiki/File:Luftbild_Ragnar%C3%B6k_Festival_2010_Rieden.jpg\n",
            "Download path is: https://commons.wikimedia.org/wiki/File:McMahon_Stadium_6.jpg\n",
            "Download path is: https://commons.wikimedia.org/wiki/File:Occupy_UC_Davis_from_helium_balloon_2011-11-21.jpg\n",
            "Download path is: https://commons.wikimedia.org/wiki/File:Reading_Festival_2007,_bird%27s_eye_view_1.jpg\n",
            "Download path is: https://commons.wikimedia.org/wiki/File:Reading_Festival_2007,_bird%27s_eye_view_2.jpg\n",
            "Download path is: https://commons.wikimedia.org/wiki/File:Rocco_del_Schlacko_AirPano.jpg\n",
            "Download path is: https://commons.wikimedia.org/wiki/File:Splashy_Fen_2009_Aerial.jpg\n",
            "Download path is: https://commons.wikimedia.org/wiki/File:TyroneWoodsFuneralByPhilKonstantin.jpg\n"
          ]
        }
      ]
    },
    {
      "cell_type": "markdown",
      "source": [
        "\n",
        "\n",
        "---\n",
        "\n",
        "\n",
        "\n",
        "---\n",
        "\n"
      ],
      "metadata": {
        "id": "u3O4J5T9JGXl"
      }
    }
  ]
}