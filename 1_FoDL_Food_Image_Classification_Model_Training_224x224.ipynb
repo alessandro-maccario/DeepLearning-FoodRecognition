{
  "cells": [
    {
      "cell_type": "markdown",
      "source": [
        "# Training notebook"
      ],
      "metadata": {
        "id": "cw1E75EqIVyt"
      }
    },
    {
      "cell_type": "markdown",
      "metadata": {
        "id": "IRDSuGm6aDCk"
      },
      "source": [
        "## Food Image Classification for the course _Foundations of Deep Learning_.\n",
        "\n",
        "Professors:\n",
        "Paolo Napoletano\n",
        "Marco Buzzelli\n",
        "\n",
        "Tutor:\n",
        "Mirko Agarla"
      ]
    },
    {
      "cell_type": "markdown",
      "metadata": {
        "id": "56SP2nH5SJKc"
      },
      "source": [
        "## Goal of this notebook"
      ]
    },
    {
      "cell_type": "markdown",
      "metadata": {
        "id": "F9ToWEW-1Lwv"
      },
      "source": [
        "The goal of this notebook is to select the best model in terms of accuracy measure and the corresponding hyperparameters in order to use it for the testing phase."
      ]
    },
    {
      "cell_type": "markdown",
      "source": [
        "## Install packages"
      ],
      "metadata": {
        "id": "AF5_CGoXTI42"
      }
    },
    {
      "cell_type": "code",
      "execution_count": 1,
      "metadata": {
        "colab": {
          "base_uri": "https://localhost:8080/"
        },
        "id": "9dY1N2x2Qx0c",
        "outputId": "7ce79995-b84c-4bcd-b09f-bd81a46b9a20"
      },
      "outputs": [
        {
          "output_type": "stream",
          "name": "stdout",
          "text": [
            "Looking in indexes: https://pypi.org/simple, https://us-python.pkg.dev/colab-wheels/public/simple/\n",
            "Collecting scikeras\n",
            "  Downloading scikeras-0.10.0-py3-none-any.whl (27 kB)\n",
            "Requirement already satisfied: scikit-learn>=1.0.0 in /usr/local/lib/python3.8/dist-packages (from scikeras) (1.0.2)\n",
            "Requirement already satisfied: packaging>=0.21 in /usr/local/lib/python3.8/dist-packages (from scikeras) (21.3)\n",
            "Requirement already satisfied: pyparsing!=3.0.5,>=2.0.2 in /usr/local/lib/python3.8/dist-packages (from packaging>=0.21->scikeras) (3.0.9)\n",
            "Requirement already satisfied: joblib>=0.11 in /usr/local/lib/python3.8/dist-packages (from scikit-learn>=1.0.0->scikeras) (1.2.0)\n",
            "Requirement already satisfied: scipy>=1.1.0 in /usr/local/lib/python3.8/dist-packages (from scikit-learn>=1.0.0->scikeras) (1.7.3)\n",
            "Requirement already satisfied: threadpoolctl>=2.0.0 in /usr/local/lib/python3.8/dist-packages (from scikit-learn>=1.0.0->scikeras) (3.1.0)\n",
            "Requirement already satisfied: numpy>=1.14.6 in /usr/local/lib/python3.8/dist-packages (from scikit-learn>=1.0.0->scikeras) (1.21.6)\n",
            "Installing collected packages: scikeras\n",
            "Successfully installed scikeras-0.10.0\n",
            "Looking in indexes: https://pypi.org/simple, https://us-python.pkg.dev/colab-wheels/public/simple/\n",
            "Collecting split-folders\n",
            "  Downloading split_folders-0.5.1-py3-none-any.whl (8.4 kB)\n",
            "Installing collected packages: split-folders\n",
            "Successfully installed split-folders-0.5.1\n",
            "Looking in indexes: https://pypi.org/simple, https://us-python.pkg.dev/colab-wheels/public/simple/\n",
            "Collecting ann_visualizer\n",
            "  Downloading ann_visualizer-2.5.tar.gz (4.7 kB)\n",
            "  Preparing metadata (setup.py) ... \u001b[?25l\u001b[?25hdone\n",
            "Building wheels for collected packages: ann_visualizer\n",
            "  Building wheel for ann_visualizer (setup.py) ... \u001b[?25l\u001b[?25hdone\n",
            "  Created wheel for ann_visualizer: filename=ann_visualizer-2.5-py3-none-any.whl size=4168 sha256=b20d35c6a089edc9dc51f180a264eb84129ec2b6a218605f541253b2bbf7f197\n",
            "  Stored in directory: /root/.cache/pip/wheels/4b/ef/77/9b8c4ae2f9a11de19957b80bc5c684accd99114bb8dc6b374c\n",
            "Successfully built ann_visualizer\n",
            "Installing collected packages: ann_visualizer\n",
            "Successfully installed ann_visualizer-2.5\n"
          ]
        }
      ],
      "source": [
        "# INSTALL SCIKERAS, SPLIT-FOLDERS AND ANN VISUALIZER PACKAGES\n",
        "!pip install scikeras\n",
        "!pip install split-folders # install the package to split the images in TRAIN and TEST folders\n",
        "!pip install ann_visualizer # visualize NN architectures"
      ]
    },
    {
      "cell_type": "markdown",
      "source": [
        "## Import libraries"
      ],
      "metadata": {
        "id": "Kg_uU94aTGDf"
      }
    },
    {
      "cell_type": "code",
      "execution_count": 2,
      "metadata": {
        "id": "jtW_r4zDzdRQ"
      },
      "outputs": [],
      "source": [
        "# IMPORT TENSORFLOW/KERAS\n",
        "import tensorflow as tf\n",
        "from tensorflow import keras\n",
        "from tensorflow.keras.models import load_model\n",
        "from tensorflow.keras.preprocessing import image\n",
        "from tensorflow.keras.applications.vgg16 import preprocess_input, decode_predictions\n",
        "\n",
        "from tensorflow.keras.models import load_model\n",
        "from tensorflow.keras.preprocessing import image\n",
        "from tensorflow.keras.applications.vgg16 import preprocess_input, decode_predictions\n",
        "\n",
        "from tensorflow.keras.applications.mobilenet_v2 import MobileNetV2\n",
        "from tensorflow.keras.applications.mobilenet_v2 import preprocess_input, decode_predictions\n",
        "\n",
        "from keras.layers import Input\n",
        "from keras.models import Sequential\n",
        "from keras.layers.core import Dense\n",
        "from keras.layers.core import Dropout\n",
        "from keras.layers.core import Flatten\n",
        "from keras.utils import to_categorical\n",
        "from keras.layers.core import Activation\n",
        "from keras.layers import BatchNormalization\n",
        "from keras.layers.convolutional import Conv2D\n",
        "from keras.layers.convolutional import MaxPooling2D\n",
        "from keras.layers.pooling import GlobalMaxPooling2D\n",
        "from keras.preprocessing.image import ImageDataGenerator\n",
        "\n",
        "# TRANSFER LEARNING\n",
        "from keras.applications.vgg16 import VGG16\n",
        "# from tensorflow.keras.applications.resnet50 import ResNet50\n",
        "\n",
        "# SCIKIT-LEARN/SCIKERAS\n",
        "from sklearn import preprocessing\n",
        "import sklearn.metrics as metrics\n",
        "from sklearn.decomposition import PCA\n",
        "from sklearn.model_selection import KFold\n",
        "from sklearn.metrics import confusion_matrix\n",
        "from scikeras.wrappers import KerasClassifier\n",
        "from sklearn.model_selection import GridSearchCV\n",
        "from sklearn.metrics import classification_report\n",
        "from sklearn.model_selection import StratifiedKFold\n",
        "from sklearn.model_selection import train_test_split\n",
        "from sklearn.model_selection import RandomizedSearchCV\n",
        "from sklearn.metrics import accuracy_score, recall_score, make_scorer\n",
        "\n",
        "# IMPORT OTHER MODULES\n",
        "import os\n",
        "import sys\n",
        "import glob\n",
        "import datetime\n",
        "import fnmatch # to count number of image per folder easily\n",
        "import random # to select random images from a folder\n",
        "import numpy as np\n",
        "import pandas as pd\n",
        "import splitfolders # needed to split the images in TRAIN and TEST folders\n",
        "from os import mkdir\n",
        "import seaborn as sns\n",
        "from pathlib import Path\n",
        "from shutil import copyfile # to import \"copyfile\"\n",
        "from numpy.random import seed\n",
        "import plotly.figure_factory as ff # for printing the heatmap\n",
        "from collections import defaultdict\n",
        "from matplotlib import pyplot as plt\n",
        "import matplotlib.image as img_mat\n",
        "from IPython.display import Javascript\n",
        "\n",
        "# CV2\n",
        "import cv2\n",
        "from google.colab.patches import cv2_imshow "
      ]
    },
    {
      "cell_type": "code",
      "source": [
        "# SET RANDOM SEED TO GET, AS MUCH AS POSSIBLE, REPRODUCIBLE RESULTS\n",
        "# USING NUMPY\n",
        "seed(42)\n",
        "\n",
        "# IN ADDITION, WE SET THE RANDOM NUMBER WITH TENSORFLOW BECAUSE IT HAS \n",
        "# ITS OWN RANDOM NUMBER GENERATOR THAT MUST ALSO BE SEEDED \n",
        "# BY CALLING THE SET_RANDOM_SEED() FUNCTION IMMEDIATELY \n",
        "# AFTER THE NUMPY RANDOM NUMBER GENERATOR\n",
        "tf.random.set_seed(42)"
      ],
      "metadata": {
        "id": "ttiyKUi38GeA"
      },
      "execution_count": 3,
      "outputs": []
    },
    {
      "cell_type": "code",
      "execution_count": 4,
      "metadata": {
        "colab": {
          "base_uri": "https://localhost:8080/"
        },
        "id": "QvrEQvZkzUDs",
        "outputId": "5de56b54-e498-448f-c687-4aa31b60dd73"
      },
      "outputs": [
        {
          "output_type": "stream",
          "name": "stdout",
          "text": [
            "Mounted at /content/gdrive\n"
          ]
        }
      ],
      "source": [
        "# Link Google Drive account\n",
        "from google.colab import drive\n",
        "drive.mount('/content/gdrive')"
      ]
    },
    {
      "cell_type": "code",
      "source": [
        "# IMPORT UTILS.PY: utils.py contains different useful functions\n",
        "\n",
        "# 1.Insert the directory\n",
        "sys.path.insert(0,\"/content/gdrive/MyDrive/Data_Science_2020-2022/Secondo_anno_Secondo_Semestre/FoDL_Project/Project_Example_Food\")\n",
        "\n",
        "# 2.Import your module or file\n",
        "import utils"
      ],
      "metadata": {
        "id": "H7AeCw1OJxG_"
      },
      "execution_count": 6,
      "outputs": []
    },
    {
      "cell_type": "code",
      "execution_count": null,
      "metadata": {
        "id": "ecYDcK7z_k0K"
      },
      "outputs": [],
      "source": [
        "# # TRANSFER THE DATA FROM THE GOOGLE DRIVE FOLDER TO THE VIRTUAL MACHINE\n",
        "\n",
        "# # The first path is the \"data\" folder on my Google Drive, and the second one is the destination in my current runtime\n",
        "# # https://stackoverflow.com/questions/67360001/copy-files-from-a-mounted-google-drive-to-a-local-google-colab-session\n",
        "# !cp -r /content/gdrive/MyDrive/Data_Science_2020-2022/Secondo_anno_Secondo_Semestre/Foundation_of_Deep_Learning/Project_Example_Food/ExampleFoodImageDataset /content/ExampleFoodImageDataset"
      ]
    },
    {
      "cell_type": "code",
      "execution_count": 7,
      "metadata": {
        "id": "qa58qsk8BOmE"
      },
      "outputs": [],
      "source": [
        "# CONSTANTS\n",
        "SEED_VALUE = 42\n",
        "num_classes = 10 # number of output classes\n",
        "batch_size = 16\n",
        "SIZE = 224 # size for resizing the images\n",
        "\n",
        "# PATH TO THE DATA\n",
        "ORIGINAL_DATA = \"/content/gdrive/MyDrive/Data_Science_2020-2022/Secondo_anno_Secondo_Semestre/FoDL_Project/Project_Example_Food/ExampleFoodImageDataset\"\n",
        "PREPROCESSED_DATA = \"/content/gdrive/MyDrive/Data_Science_2020-2022/Secondo_anno_Secondo_Semestre/FoDL_Project/Project_Example_Food/ExampleFoodImageDatasetPreprocessed\"\n",
        "DIR_TRAIN_TEST_DATA = '/content/gdrive/MyDrive/Data_Science_2020-2022/Secondo_anno_Secondo_Semestre/FoDL_Project/Project_Example_Food/train_test'\n",
        "\n",
        "# LOAD THE FOLDERS WHERE THE TRAINING/TESTING/VALIDATION DATA ARE STORED\n",
        "base_path_train = '/content/gdrive/MyDrive/Data_Science_2020-2022/Secondo_anno_Secondo_Semestre/FoDL_Project/Project_Example_Food/train_test/train/'\n",
        "base_path_test = '/content/gdrive/MyDrive/Data_Science_2020-2022/Secondo_anno_Secondo_Semestre/FoDL_Project/Project_Example_Food/train_test/test/'\n",
        "base_path_val = '/content/gdrive/MyDrive/Data_Science_2020-2022/Secondo_anno_Secondo_Semestre/FoDL_Project/Project_Example_Food/train_test/val/'\n",
        "\n",
        "# PATH TO THE DATA\n",
        "DIR_TRAIN_DATA = '/content/gdrive/MyDrive/Data_Science_2020-2022/Secondo_anno_Secondo_Semestre/FoDL_Project/Project_Example_Food/train_test/train/*' # path contenente i sottoinsiemi di train, test\n",
        "DIR_TEST_DATA = '/content/gdrive/MyDrive/Data_Science_2020-2022/Secondo_anno_Secondo_Semestre/FoDL_Project/Project_Example_Food/train_test/test/*' # path contenente i sottoinsiemi di train, test\n",
        "DIR_VAL_DATA = '/content/gdrive/MyDrive/Data_Science_2020-2022/Secondo_anno_Secondo_Semestre/FoDL_Project/Project_Example_Food/train_test/val/*' # path contenente i sottoinsiemi di train, test"
      ]
    },
    {
      "cell_type": "code",
      "source": [
        "# SETTINGS FOR PRETTIER VISUALIZATION IN GOOGLE COLAB\n",
        "def resize_colab_cell():\n",
        "  display(Javascript('google.colab.output.setIframeHeight(0, true, {maxHeight: 300})'))\n",
        "get_ipython().events.register('pre_run_cell', resize_colab_cell)"
      ],
      "metadata": {
        "id": "dZHPXv_AkaOx"
      },
      "execution_count": 8,
      "outputs": []
    },
    {
      "cell_type": "code",
      "execution_count": null,
      "metadata": {
        "id": "xgF4fpYxClBu"
      },
      "outputs": [],
      "source": [
        "# # REMOVE ANY FOLDER NOT EMPTY IN GOOGLE DRIVE THAT YOU DO NOT NEED\n",
        "# import shutil\n",
        "\n",
        "# shutil.rmtree('/content/test')"
      ]
    },
    {
      "cell_type": "markdown",
      "metadata": {
        "id": "MZs2FMppZWUE"
      },
      "source": [
        "-----------------------------------"
      ]
    },
    {
      "cell_type": "markdown",
      "metadata": {
        "id": "477SvQFvTkO7"
      },
      "source": [
        "# 1.Model architectures and training phase\n",
        "This section deals with the models creation, the performance results and the dicussion of them."
      ]
    },
    {
      "cell_type": "markdown",
      "metadata": {
        "id": "z9BCr1VJz8B0"
      },
      "source": [
        "## 1.1 Data loader\n",
        "\n"
      ]
    },
    {
      "cell_type": "markdown",
      "metadata": {
        "id": "Q3oWN_M5z-gN"
      },
      "source": [
        "In any deep learning framework, a data loader takes care of (at least) the following tasks:\n",
        "\n",
        "- Loading input and target data\n",
        "- Splitting the dataset into mini batches\n",
        "\n",
        "In this case, no Data Augmentation on-the-fly is done: \n",
        "tf.keras.preprocessing.image_dataset_from_directory generates a tf.data.Dataset from image files in a directory, without any Data Augmentation procedure."
      ]
    },
    {
      "cell_type": "code",
      "source": [
        "# RESCALE THE IMAGES\n",
        "train_datagen = ImageDataGenerator(rescale=1./255)\n",
        "val_datagen = ImageDataGenerator(rescale=1./255)\n",
        "# test_datagen = ImageDataGenerator(rescale=1./255) \n",
        "\n",
        "# This is a generator that will read pictures found in\n",
        "# subfolers of 'data/train', and generate\n",
        "# batches of image data.\n",
        "# Only deal with the validation data. The test data\n",
        "# will be used in the TEST NOTEBOOK\n",
        "train_generator = train_datagen.flow_from_directory(\n",
        "    base_path_train,\n",
        "    color_mode='rgb',\n",
        "    target_size=(SIZE,SIZE),\n",
        "    batch_size=batch_size,\n",
        "    shuffle=True,\n",
        "    class_mode=\"categorical\",\n",
        "    seed = SEED_VALUE)\n",
        "\n",
        "val_generator = val_datagen.flow_from_directory(\n",
        "    base_path_val,\n",
        "    color_mode='rgb',\n",
        "    target_size=(SIZE,SIZE),\n",
        "    batch_size=batch_size,\n",
        "    shuffle=False,\n",
        "    class_mode=\"categorical\",\n",
        "    seed = SEED_VALUE)"
      ],
      "metadata": {
        "id": "GSZu2e-IJzFb",
        "colab": {
          "base_uri": "https://localhost:8080/",
          "height": 52
        },
        "outputId": "937dde99-0a56-49fd-eaeb-b8640865e01e"
      },
      "execution_count": 10,
      "outputs": [
        {
          "output_type": "display_data",
          "data": {
            "text/plain": [
              "<IPython.core.display.Javascript object>"
            ],
            "application/javascript": [
              "google.colab.output.setIframeHeight(0, true, {maxHeight: 300})"
            ]
          },
          "metadata": {}
        },
        {
          "output_type": "stream",
          "name": "stdout",
          "text": [
            "Found 3004 images belonging to 10 classes.\n",
            "Found 242 images belonging to 10 classes.\n"
          ]
        }
      ]
    },
    {
      "cell_type": "code",
      "execution_count": null,
      "metadata": {
        "id": "m5JYKncwzUBF"
      },
      "outputs": [],
      "source": [
        "# train_dataset = keras.preprocessing.image_dataset_from_directory(base_path_train,\n",
        "#                                                             image_size=(SIZE,SIZE),\n",
        "#                                                             color_mode='rgb',\n",
        "#                                                             batch_size=batch_size,\n",
        "#                                                             label_mode='categorical',\n",
        "#                                                             # subset='training',\n",
        "#                                                             shuffle=True,\n",
        "#                                                             seed=SEED_VALUE)\n",
        "\n",
        "# test_dataset = keras.preprocessing.image_dataset_from_directory(base_path_test,\n",
        "#                                                             image_size=(SIZE,SIZE),\n",
        "#                                                             color_mode='rgb',\n",
        "#                                                             batch_size=batch_size,\n",
        "#                                                             label_mode='categorical',\n",
        "#                                                             # subset='validation',\n",
        "#                                                             shuffle=False,\n",
        "#                                                             seed=SEED_VALUE)"
      ]
    },
    {
      "cell_type": "code",
      "source": [
        "# # https://stackoverflow.com/questions/61521388/how-knowing-number-of-images-in-flow-from-directory\n",
        "\n",
        "# print(\"Number of sample for train_dataset:\", len(train_dataset.file_paths))\n",
        "# print(\"Number of sample for test_dataset:\", len(test_dataset.file_paths))\n",
        "\n",
        "# # SAVE THE LENGTH INTO VARIABLES\n",
        "# n_samples_train_dataset = len(train_dataset.file_paths)\n",
        "# n_samples_test_dataset = len(test_dataset.file_paths)"
      ],
      "metadata": {
        "id": "Rq5iVY1w-Tgt"
      },
      "execution_count": null,
      "outputs": []
    },
    {
      "cell_type": "markdown",
      "metadata": {
        "id": "lVZA1WxYd3MN"
      },
      "source": [
        "## 1.2.1 Model V01\n",
        "\n",
        "Create the first model to be fed with the image data."
      ]
    },
    {
      "cell_type": "markdown",
      "source": [
        "**keras.Input((224, 224, 3))**\n",
        "- 224 rows, 224 columns, 3 RGB channels\n",
        "\n",
        "**tf.keras.layers.Conv2D(filters, kernel_size, padding=\"same\")**\n",
        "\n",
        "- **filters**: 32 filtri\n",
        "- **kernel_size**: 3x3\n",
        "- **padding**: mi dice quanti pixel aggiungere di cornice alla mia immagine prima di fare la convoluzione. Se non fornito, l'output della convoluzione produrrà un immagine un pelo più piccola di quella di partenza spazialmente: nel far scorrere la finestra di convoluzione non riesce a coprire l'intorno del pixel di riferimento nell'immagine. Dando \"same\" il padding viene calcolato automaticamente. \n",
        "\n",
        "**keras.layers.Activation('relu')**\n",
        "\n",
        "- Attivazione **ReLU**: la funzione di attivazione introduce una non linearità. Fa si che il calcolo che permette di trasformare i numeri che stanno nell'input nei numeri che stanno nell'output non sia semplicemente una combinazione lineare dell'input, ma in generale crea un livello di complessità maggiore che è quello di costruire delle astrazioni, ovvero permette alla rete neurale di dire: ok, adesso ho individuato delle linee di base, ora ci costruisco sopra dei ragionamenti più complessi.\n",
        "\n",
        "**keras.layers.MaxPooling2D(3, strides=3, padding='same')**\n",
        "\n",
        "- **MaxPooling** con finestre/windows 3x3 e stride di 3: ciò significa che ogni 3x3 valori dell'input li sostituiamo con il suo Max e poi quando spostiamo la finestra che esegue questa operazione, la spostiamo di 3 pixels a destra. Così facendo non contiamo più volte lo stesso input e in questo caso l'output di questo layer sarà per definizione più piccolo spazialmente dell'input. E' un tipo di layer che ci serve concettualmente per essere meno dipendenti da eventuali piccole variazioni nell'input (se ci sono tralazione dei dati di un pixel a destra) il Max Pooling è abbastanza robusto da queste variazioni trascendendo di qualche misura da variazioni dei dati. Tra l'altro se lo usiamo con questo stride diminuisce la dimensione dell'input e la complessità dei valori che portiamo avanti nella rete neurale. Stiamo infatti passando da 224x224x3 valori a 3 numeri. \n",
        "\n",
        "**keras.layers.GlobalMaxPooling2D()**\n",
        "\n",
        "- Equivalente del Max Pooling, il **Global Pooling** invece che basarsi su una finestra 3x3 utilizza una finestra grande quanto l'intera attivazione del layer precedente.\n",
        "\n",
        "**keras.layers.Dense(num_classes, activation='softmax')**\n",
        "\n",
        "- Questa **softmax** prende i due numeri (le due classi specificate) e dà in input una funzione che ha lo scopo di produrre una pseudo distrubuzione di probabilità. Si assicura che la somma dei valori (dei due valori nel nostro caso), faccia 1, e introduce delle non linearità.\n",
        "\n",
        "**keras.Model(inputs, outputs)**\n",
        "\n",
        "- Con questo comando impacchettiamo tutti i nostri passaggi e diciamo che la mia rete neurale è un modello che parte dalla variabile \"inputs\" e termina con la variabile chiamata \"outputs\". "
      ],
      "metadata": {
        "id": "AHyWo0j2g6LO"
      }
    },
    {
      "cell_type": "code",
      "execution_count": 11,
      "metadata": {
        "id": "ZcxqI3lLzT7_",
        "colab": {
          "base_uri": "https://localhost:8080/",
          "height": 300
        },
        "outputId": "0a925fee-9812-4f7a-bf02-99052b971b85"
      },
      "outputs": [
        {
          "output_type": "display_data",
          "data": {
            "text/plain": [
              "<IPython.core.display.Javascript object>"
            ],
            "application/javascript": [
              "google.colab.output.setIframeHeight(0, true, {maxHeight: 300})"
            ]
          },
          "metadata": {}
        },
        {
          "output_type": "stream",
          "name": "stdout",
          "text": [
            "Model: \"model\"\n",
            "_________________________________________________________________\n",
            " Layer (type)                Output Shape              Param #   \n",
            "=================================================================\n",
            " input_1 (InputLayer)        [(None, 224, 224, 3)]     0         \n",
            "                                                                 \n",
            " conv2d (Conv2D)             (None, 224, 224, 32)      896       \n",
            "                                                                 \n",
            " activation (Activation)     (None, 224, 224, 32)      0         \n",
            "                                                                 \n",
            " max_pooling2d (MaxPooling2D  (None, 75, 75, 32)       0         \n",
            " )                                                               \n",
            "                                                                 \n",
            " conv2d_1 (Conv2D)           (None, 75, 75, 64)        18496     \n",
            "                                                                 \n",
            " activation_1 (Activation)   (None, 75, 75, 64)        0         \n",
            "                                                                 \n",
            " global_max_pooling2d (Globa  (None, 64)               0         \n",
            " lMaxPooling2D)                                                  \n",
            "                                                                 \n",
            " dense (Dense)               (None, 10)                650       \n",
            "                                                                 \n",
            "=================================================================\n",
            "Total params: 20,042\n",
            "Trainable params: 20,042\n",
            "Non-trainable params: 0\n",
            "_________________________________________________________________\n"
          ]
        }
      ],
      "source": [
        "# Architecture definition V01\n",
        "inputs = keras.Input((SIZE, SIZE, 3)) # SIZE rows, SIZE columns, 3 RGB channels\n",
        "\n",
        "x = inputs\n",
        "\n",
        "# 1st Conv layer\n",
        "x = keras.layers.Conv2D(32, 3, padding='same')(x)\n",
        "x = keras.layers.Activation('relu')(x)\n",
        "x = keras.layers.MaxPooling2D(3, strides=3, padding='same')(x) \n",
        "\n",
        "# 2st Conv layer\n",
        "x = keras.layers.Conv2D(64, 3, padding = 'same')(x)\n",
        "x = keras.layers.Activation('relu')(x)\n",
        "x = keras.layers.GlobalMaxPooling2D()(x)\n",
        "\n",
        "# Final dense layer\n",
        "outputs = keras.layers.Dense(num_classes, activation='softmax')(x)\n",
        "\n",
        "net_modelV01 = keras.Model(inputs, outputs)\n",
        "\n",
        "# SUMMARY\n",
        "net_modelV01.summary()"
      ]
    },
    {
      "cell_type": "markdown",
      "source": [
        "<figure>\n",
        "<center>\n",
        "<img src='https://drive.google.com/uc?export=view&id=1epVc7WVGfVZAz38W_S7W25y5C5EQ-uod' />\n",
        "<figcaption>Architecture ModelV01</figcaption></center>\n",
        "</figure>"
      ],
      "metadata": {
        "id": "Kpq89s3ofR1G"
      }
    },
    {
      "cell_type": "markdown",
      "source": [
        "**Compile the model**\n",
        "\n",
        "We need to compile the model. \n",
        "The loss is the *categorical_crossentropy*. \n",
        "For each image (input data) it says: let's look at the ground truth. What was the class of the image? It was a cat (first class). Let's see what is the value returned by the neural network (ideally it should be 1). The farther the expected class estimate is from 1, the greater the loss (worst result as the value of Loss increases)."
      ],
      "metadata": {
        "id": "Cgbt4_amkL0l"
      }
    },
    {
      "cell_type": "code",
      "execution_count": 12,
      "metadata": {
        "id": "5MMatmoUzT5n",
        "colab": {
          "base_uri": "https://localhost:8080/",
          "height": 17
        },
        "outputId": "12b2025f-8ffe-4fe0-d785-1ca1bf99f455"
      },
      "outputs": [
        {
          "output_type": "display_data",
          "data": {
            "text/plain": [
              "<IPython.core.display.Javascript object>"
            ],
            "application/javascript": [
              "google.colab.output.setIframeHeight(0, true, {maxHeight: 300})"
            ]
          },
          "metadata": {}
        }
      ],
      "source": [
        "net_modelV01.compile(loss=keras.losses.categorical_crossentropy,\n",
        "            optimizer= keras.optimizers.Adam(learning_rate=0.0001),\n",
        "            metrics=['accuracy'])"
      ]
    },
    {
      "cell_type": "markdown",
      "source": [
        "Se la volta scorsa (durante le esercitazioni) potevamo permetterci di avere in memoria  tutto il dataset qua non possiamo fare altrettanto perché abbiamo immagini e non c'è modo di caricare tutto il dataset in memoria alla procedura di fit. \n",
        "Motivo per il quale stiamo utilizzando il data loader definito all'inizio. avendolo specificato all'inizio il train_dataset prenderà in ingresso 32 (16) immagini alla volta, definito come batch size fino a coprire l'intero dataset.\n",
        "Cosi facendo ha completato una epoca e tira in ballo il validation data loader che congela momentaneamente l'addestramento della rete neurale, fornisce alla rete tutte le immagini del validation set (anche in questo caso 32 (16) alla volta) e calcola il risultato. e salviamo il risultato nella variabile history.\n"
      ],
      "metadata": {
        "id": "ZaPDqudXkotP"
      }
    },
    {
      "cell_type": "code",
      "source": [
        "# DEFINE AN EARLY STOPPING CRITERION\n",
        "callback = keras.callbacks.EarlyStopping(monitor=\"val_loss\", patience=15, restore_best_weights = True)"
      ],
      "metadata": {
        "id": "QiEJ9xHK6Ifm",
        "colab": {
          "base_uri": "https://localhost:8080/",
          "height": 17
        },
        "outputId": "28430efb-06ee-46f4-d259-5e917fdb6131"
      },
      "execution_count": 13,
      "outputs": [
        {
          "output_type": "display_data",
          "data": {
            "text/plain": [
              "<IPython.core.display.Javascript object>"
            ],
            "application/javascript": [
              "google.colab.output.setIframeHeight(0, true, {maxHeight: 300})"
            ]
          },
          "metadata": {}
        }
      ]
    },
    {
      "cell_type": "code",
      "source": [
        "# START COUNTING THE TIME\n",
        "start = datetime.datetime.now()\n",
        "\n",
        "# FIT THE MODEL\n",
        "history_modelV01 = net_modelV01.fit(train_generator, \n",
        "                  validation_data = val_generator, # test_generator\n",
        "                  steps_per_epoch = train_generator.n // train_generator.batch_size,\n",
        "                  validation_steps = val_generator.n // val_generator.batch_size, # test_generator\n",
        "                  epochs=50,\n",
        "                  callbacks = [callback])\n",
        "\n",
        "# STOP COUNTING THE TIME\n",
        "end = datetime.datetime.now()\n",
        "print(\"Total execution time is: \", end-start)"
      ],
      "metadata": {
        "id": "TjxlLZWvLicF",
        "colab": {
          "base_uri": "https://localhost:8080/",
          "height": 300
        },
        "outputId": "af08fb25-012c-4991-b8f1-57582dc6e582"
      },
      "execution_count": 14,
      "outputs": [
        {
          "output_type": "display_data",
          "data": {
            "text/plain": [
              "<IPython.core.display.Javascript object>"
            ],
            "application/javascript": [
              "google.colab.output.setIframeHeight(0, true, {maxHeight: 300})"
            ]
          },
          "metadata": {}
        },
        {
          "output_type": "stream",
          "name": "stdout",
          "text": [
            "Epoch 1/50\n",
            "187/187 [==============================] - 541s 3s/step - loss: 2.2825 - accuracy: 0.1463 - val_loss: 2.2990 - val_accuracy: 0.1500\n",
            "Epoch 2/50\n",
            "187/187 [==============================] - 12s 66ms/step - loss: 2.2245 - accuracy: 0.2604 - val_loss: 2.2643 - val_accuracy: 0.1292\n",
            "Epoch 3/50\n",
            "187/187 [==============================] - 12s 65ms/step - loss: 2.1600 - accuracy: 0.3333 - val_loss: 2.1987 - val_accuracy: 0.2375\n",
            "Epoch 4/50\n",
            "187/187 [==============================] - 12s 65ms/step - loss: 2.0903 - accuracy: 0.3327 - val_loss: 2.1883 - val_accuracy: 0.2083\n",
            "Epoch 5/50\n",
            "187/187 [==============================] - 12s 64ms/step - loss: 2.0196 - accuracy: 0.3561 - val_loss: 2.0667 - val_accuracy: 0.2958\n",
            "Epoch 6/50\n",
            "187/187 [==============================] - 12s 64ms/step - loss: 1.9483 - accuracy: 0.3772 - val_loss: 2.0127 - val_accuracy: 0.2792\n",
            "Epoch 7/50\n",
            "187/187 [==============================] - 12s 65ms/step - loss: 1.8786 - accuracy: 0.3902 - val_loss: 1.9899 - val_accuracy: 0.2917\n",
            "Epoch 8/50\n",
            "187/187 [==============================] - 12s 65ms/step - loss: 1.8138 - accuracy: 0.4250 - val_loss: 1.9286 - val_accuracy: 0.3000\n",
            "Epoch 9/50\n",
            "187/187 [==============================] - 12s 66ms/step - loss: 1.7570 - accuracy: 0.4394 - val_loss: 1.9087 - val_accuracy: 0.2833\n",
            "Epoch 10/50\n",
            "187/187 [==============================] - 12s 65ms/step - loss: 1.6981 - accuracy: 0.4568 - val_loss: 1.9369 - val_accuracy: 0.2792\n",
            "Epoch 11/50\n",
            "187/187 [==============================] - 12s 64ms/step - loss: 1.6484 - accuracy: 0.4699 - val_loss: 1.8232 - val_accuracy: 0.3125\n",
            "Epoch 12/50\n",
            "187/187 [==============================] - 12s 64ms/step - loss: 1.5993 - accuracy: 0.4836 - val_loss: 1.8528 - val_accuracy: 0.2875\n",
            "Epoch 13/50\n",
            "187/187 [==============================] - 13s 69ms/step - loss: 1.5586 - accuracy: 0.4910 - val_loss: 1.8347 - val_accuracy: 0.3333\n",
            "Epoch 14/50\n",
            "187/187 [==============================] - 12s 64ms/step - loss: 1.5145 - accuracy: 0.5023 - val_loss: 1.7830 - val_accuracy: 0.3333\n",
            "Epoch 15/50\n",
            "187/187 [==============================] - 12s 65ms/step - loss: 1.4765 - accuracy: 0.5218 - val_loss: 1.7621 - val_accuracy: 0.3125\n",
            "Epoch 16/50\n",
            "187/187 [==============================] - 12s 66ms/step - loss: 1.4430 - accuracy: 0.5258 - val_loss: 1.7262 - val_accuracy: 0.3458\n",
            "Epoch 17/50\n",
            "187/187 [==============================] - 12s 65ms/step - loss: 1.4166 - accuracy: 0.5405 - val_loss: 1.7042 - val_accuracy: 0.3292\n",
            "Epoch 18/50\n",
            "187/187 [==============================] - 12s 66ms/step - loss: 1.3825 - accuracy: 0.5482 - val_loss: 1.7718 - val_accuracy: 0.3208\n",
            "Epoch 19/50\n",
            "187/187 [==============================] - 12s 65ms/step - loss: 1.3572 - accuracy: 0.5609 - val_loss: 1.6845 - val_accuracy: 0.3500\n",
            "Epoch 20/50\n",
            "187/187 [==============================] - 12s 65ms/step - loss: 1.3343 - accuracy: 0.5592 - val_loss: 1.6972 - val_accuracy: 0.3500\n",
            "Epoch 21/50\n",
            "187/187 [==============================] - 12s 66ms/step - loss: 1.3059 - accuracy: 0.5756 - val_loss: 1.6807 - val_accuracy: 0.3125\n",
            "Epoch 22/50\n",
            "187/187 [==============================] - 12s 65ms/step - loss: 1.2844 - accuracy: 0.5850 - val_loss: 1.6264 - val_accuracy: 0.3750\n",
            "Epoch 23/50\n",
            "187/187 [==============================] - 12s 65ms/step - loss: 1.2628 - accuracy: 0.5860 - val_loss: 1.6872 - val_accuracy: 0.3208\n",
            "Epoch 24/50\n",
            "187/187 [==============================] - 12s 65ms/step - loss: 1.2387 - accuracy: 0.6007 - val_loss: 1.6266 - val_accuracy: 0.3458\n",
            "Epoch 25/50\n",
            "187/187 [==============================] - 12s 64ms/step - loss: 1.2233 - accuracy: 0.6068 - val_loss: 1.6103 - val_accuracy: 0.3750\n",
            "Epoch 26/50\n",
            "187/187 [==============================] - 12s 64ms/step - loss: 1.2049 - accuracy: 0.6051 - val_loss: 1.6318 - val_accuracy: 0.3542\n",
            "Epoch 27/50\n",
            "187/187 [==============================] - 12s 65ms/step - loss: 1.1854 - accuracy: 0.6098 - val_loss: 1.6032 - val_accuracy: 0.3833\n",
            "Epoch 28/50\n",
            "187/187 [==============================] - 12s 65ms/step - loss: 1.1686 - accuracy: 0.6171 - val_loss: 1.5894 - val_accuracy: 0.3917\n",
            "Epoch 29/50\n",
            "187/187 [==============================] - 12s 65ms/step - loss: 1.1521 - accuracy: 0.6178 - val_loss: 1.6240 - val_accuracy: 0.3500\n",
            "Epoch 30/50\n",
            "187/187 [==============================] - 12s 64ms/step - loss: 1.1347 - accuracy: 0.6292 - val_loss: 1.5541 - val_accuracy: 0.4000\n",
            "Epoch 31/50\n",
            "187/187 [==============================] - 12s 64ms/step - loss: 1.1167 - accuracy: 0.6325 - val_loss: 1.5672 - val_accuracy: 0.3917\n",
            "Epoch 32/50\n",
            "187/187 [==============================] - 12s 65ms/step - loss: 1.1037 - accuracy: 0.6376 - val_loss: 1.5865 - val_accuracy: 0.3667\n",
            "Epoch 33/50\n",
            "187/187 [==============================] - 12s 64ms/step - loss: 1.0892 - accuracy: 0.6342 - val_loss: 1.5029 - val_accuracy: 0.4125\n",
            "Epoch 34/50\n",
            "187/187 [==============================] - 12s 65ms/step - loss: 1.0756 - accuracy: 0.6379 - val_loss: 1.4949 - val_accuracy: 0.4500\n",
            "Epoch 35/50\n",
            "187/187 [==============================] - 13s 69ms/step - loss: 1.0611 - accuracy: 0.6550 - val_loss: 1.5151 - val_accuracy: 0.4000\n",
            "Epoch 36/50\n",
            "187/187 [==============================] - 12s 65ms/step - loss: 1.0450 - accuracy: 0.6560 - val_loss: 1.4627 - val_accuracy: 0.4167\n",
            "Epoch 37/50\n",
            "187/187 [==============================] - 12s 65ms/step - loss: 1.0314 - accuracy: 0.6606 - val_loss: 1.4919 - val_accuracy: 0.4333\n",
            "Epoch 38/50\n",
            "187/187 [==============================] - 12s 65ms/step - loss: 1.0163 - accuracy: 0.6653 - val_loss: 1.5315 - val_accuracy: 0.4333\n",
            "Epoch 39/50\n",
            "187/187 [==============================] - 12s 66ms/step - loss: 1.0099 - accuracy: 0.6670 - val_loss: 1.4652 - val_accuracy: 0.4625\n",
            "Epoch 40/50\n",
            "187/187 [==============================] - 12s 65ms/step - loss: 0.9922 - accuracy: 0.6754 - val_loss: 1.4884 - val_accuracy: 0.4500\n",
            "Epoch 41/50\n",
            "187/187 [==============================] - 12s 64ms/step - loss: 0.9800 - accuracy: 0.6804 - val_loss: 1.5055 - val_accuracy: 0.4417\n",
            "Epoch 42/50\n",
            "187/187 [==============================] - 12s 64ms/step - loss: 0.9674 - accuracy: 0.6854 - val_loss: 1.4678 - val_accuracy: 0.4500\n",
            "Epoch 43/50\n",
            "187/187 [==============================] - 12s 64ms/step - loss: 0.9544 - accuracy: 0.6995 - val_loss: 1.4701 - val_accuracy: 0.4375\n",
            "Epoch 44/50\n",
            "187/187 [==============================] - 12s 64ms/step - loss: 0.9436 - accuracy: 0.6988 - val_loss: 1.4529 - val_accuracy: 0.4833\n",
            "Epoch 45/50\n",
            "187/187 [==============================] - 12s 65ms/step - loss: 0.9296 - accuracy: 0.6991 - val_loss: 1.3899 - val_accuracy: 0.5208\n",
            "Epoch 46/50\n",
            "187/187 [==============================] - 12s 64ms/step - loss: 0.9248 - accuracy: 0.7058 - val_loss: 1.4776 - val_accuracy: 0.4542\n",
            "Epoch 47/50\n",
            "187/187 [==============================] - 12s 64ms/step - loss: 0.9128 - accuracy: 0.7092 - val_loss: 1.4711 - val_accuracy: 0.4750\n",
            "Epoch 48/50\n",
            "187/187 [==============================] - 14s 76ms/step - loss: 0.8960 - accuracy: 0.7139 - val_loss: 1.4497 - val_accuracy: 0.4500\n",
            "Epoch 49/50\n",
            "187/187 [==============================] - 13s 68ms/step - loss: 0.8870 - accuracy: 0.7179 - val_loss: 1.4030 - val_accuracy: 0.5083\n",
            "Epoch 50/50\n",
            "187/187 [==============================] - 15s 78ms/step - loss: 0.8749 - accuracy: 0.7222 - val_loss: 1.3945 - val_accuracy: 0.5042\n",
            "Total execution time is:  0:22:55.235478\n"
          ]
        }
      ]
    },
    {
      "cell_type": "code",
      "execution_count": null,
      "metadata": {
        "id": "nL26GNBIzTz_"
      },
      "outputs": [],
      "source": [
        "# # START COUNTING THE TIME\n",
        "# start = datetime.datetime.now()\n",
        "\n",
        "# history_modelV01 = net_modelV01.fit(train_dataset, \n",
        "#                   epochs=50, \n",
        "#                   validation_data = test_dataset,\n",
        "#                   # steps_per_epoch = n_samples_train_dataset // batch_size, --> https://stackoverflow.com/questions/59864408/tensorflowyour-input-ran-out-of-data\n",
        "#                   # validation_steps = n_samples_test_dataset // batch_size,\n",
        "#                   callbacks = [callback])\n",
        "\n",
        "# # STOP COUNTING THE TIME\n",
        "# end = datetime.datetime.now()\n",
        "# print(\"Total execution time with PCA is: \", end-start)"
      ]
    },
    {
      "cell_type": "code",
      "execution_count": 15,
      "metadata": {
        "id": "ug2ZfaHGzTun",
        "colab": {
          "base_uri": "https://localhost:8080/",
          "height": 300
        },
        "outputId": "071f05d3-2528-43b5-ee5f-dd2e325c9205"
      },
      "outputs": [
        {
          "output_type": "display_data",
          "data": {
            "text/plain": [
              "<IPython.core.display.Javascript object>"
            ],
            "application/javascript": [
              "google.colab.output.setIframeHeight(0, true, {maxHeight: 300})"
            ]
          },
          "metadata": {}
        },
        {
          "output_type": "execute_result",
          "data": {
            "text/plain": [
              "<matplotlib.legend.Legend at 0x7fd9040a7190>"
            ]
          },
          "metadata": {},
          "execution_count": 15
        },
        {
          "output_type": "display_data",
          "data": {
            "text/plain": [
              "<Figure size 1080x432 with 2 Axes>"
            ],
            "image/png": "[encoded data removed]"
          },
          "metadata": {
            "needs_background": "light"
          }
        }
      ],
      "source": [
        "# PLOT THE LEARNING CURVES\n",
        "plt.figure(figsize=(15,6))\n",
        "\n",
        "# LOSS\n",
        "plt.subplot(1, 2, 1)\n",
        "plt.plot(history_modelV01.history['loss'])\n",
        "plt.plot(history_modelV01.history['val_loss'])\n",
        "plt.ylim([0.0, 7.0])\n",
        "plt.title(\"Loss & Val loss Model V01\")\n",
        "plt.xlabel('Epoch')\n",
        "plt.ylabel('Loss')\n",
        "plt.legend(['train', 'valid'])\n",
        "\n",
        "# ACCURACY\n",
        "plt.subplot(1, 2, 2)\n",
        "plt.plot(history_modelV01.history['accuracy'])\n",
        "plt.plot(history_modelV01.history['val_accuracy'])\n",
        "plt.ylim([0.0, 1.0])\n",
        "plt.title(\"Accuracy & Val accuracy Model V01\")\n",
        "plt.xlabel('Epoch')\n",
        "plt.ylabel('Accuracy')\n",
        "plt.legend(['train', 'valid'])"
      ]
    },
    {
      "cell_type": "markdown",
      "metadata": {
        "id": "zsAV8Pb989iU"
      },
      "source": [
        "### Performance results Model V01\n",
        "\n",
        "The performance in terms of validation accuracy are not better enough with respect to a dummy classifier."
      ]
    },
    {
      "cell_type": "code",
      "source": [
        "# SAVE THE TIME NEEDED TO RUN THE ALGORITHM\n",
        "time_duration_modelV01 = end - start\n",
        "print(time_duration_modelV01)"
      ],
      "metadata": {
        "id": "f6kopBQFcMp5",
        "colab": {
          "base_uri": "https://localhost:8080/",
          "height": 34
        },
        "outputId": "f9769b4c-9132-4db7-bc94-916d1b3ed5e3"
      },
      "execution_count": 16,
      "outputs": [
        {
          "output_type": "display_data",
          "data": {
            "text/plain": [
              "<IPython.core.display.Javascript object>"
            ],
            "application/javascript": [
              "google.colab.output.setIframeHeight(0, true, {maxHeight: 300})"
            ]
          },
          "metadata": {}
        },
        {
          "output_type": "stream",
          "name": "stdout",
          "text": [
            "0:22:55.235478\n"
          ]
        }
      ]
    },
    {
      "cell_type": "code",
      "source": [
        "# GET THE MINIMUM ACCURACY, THE MAXIMUM ACCURACY, THE MINIMUM LOSS, THE MAXIMUM LOSS AND SAVE THEM IN VARIABLES.\n",
        "# THEN CREATE A DATAFRAME AT THE END OF THE NOTEBOOK WHERE YOU CAN \n",
        "# COMPARE DIFFERENT.\n",
        "\n",
        "# LOSS/VAL LOSS\n",
        "modelV01_minLoss = min(history_modelV01.history['loss'])\n",
        "modelV01_maxLoss = max(history_modelV01.history['loss'])\n",
        "modelV01_minValLoss = min(history_modelV01.history['val_loss'])\n",
        "modelV01_maxValLoss = max(history_modelV01.history['val_loss'])\n",
        "\n",
        "# ACCURACY/VAL ACCURACY\n",
        "modelV01_minAccuracy = min(history_modelV01.history['accuracy'])\n",
        "modelV01_maxAccuracy = max(history_modelV01.history['accuracy'])\n",
        "modelV01_minValAccuracy = min(history_modelV01.history['val_accuracy'])\n",
        "modelV01_maxValAccuracy = max(history_modelV01.history['val_accuracy'])\n",
        "\n",
        "# CREATE THE DATAFRAME\n",
        "modelV01_loss_accuracy = pd.DataFrame({\"minLoss\": [modelV01_minLoss],\n",
        "                                       \"maxloss\": [modelV01_maxLoss],\n",
        "                                       \"minValLoss\": [modelV01_minValLoss],\n",
        "                                       \"maxValLoss\": [modelV01_maxValLoss],\n",
        "                                       \"minAccuracy\": [modelV01_minAccuracy],\n",
        "                                       \"maxAccuracy\": [modelV01_maxAccuracy],\n",
        "                                       \"minValAccuracy\": [modelV01_minValAccuracy],\n",
        "                                       \"maxValAccuracy\": [modelV01_maxValAccuracy]}).T\n",
        "\n",
        "# CHANGE THE FIRST COLUMN NAME\n",
        "modelV01_loss_accuracy = modelV01_loss_accuracy.rename(columns={0: 'modelV01'})\n",
        "# CHANGE THE INDEX NAME\n",
        "modelV01_loss_accuracy.index.names = ['Performance']\n",
        "modelV01_loss_accuracy"
      ],
      "metadata": {
        "id": "tPmZNetWmiDp",
        "colab": {
          "base_uri": "https://localhost:8080/",
          "height": 300
        },
        "outputId": "b602d235-f549-409c-86a4-060f3ffeed24"
      },
      "execution_count": 17,
      "outputs": [
        {
          "output_type": "display_data",
          "data": {
            "text/plain": [
              "<IPython.core.display.Javascript object>"
            ],
            "application/javascript": [
              "google.colab.output.setIframeHeight(0, true, {maxHeight: 300})"
            ]
          },
          "metadata": {}
        },
        {
          "output_type": "execute_result",
          "data": {
            "text/plain": [
              "                modelV01\n",
              "Performance             \n",
              "minLoss         0.874946\n",
              "maxloss         2.282531\n",
              "minValLoss      1.389947\n",
              "maxValLoss      2.299038\n",
              "minAccuracy     0.146252\n",
              "maxAccuracy     0.722222\n",
              "minValAccuracy  0.129167\n",
              "maxValAccuracy  0.520833"
            ],
            "text/html": [
              "\n",
              "  <div id=\"df-8ecb0818-1cfc-4eff-b6d2-477acc6d6a9f\">\n",
              "    <div class=\"colab-df-container\">\n",
              "      <div>\n",
              "<style scoped>\n",
              "    .dataframe tbody tr th:only-of-type {\n",
              "        vertical-align: middle;\n",
              "    }\n",
              "\n",
              "    .dataframe tbody tr th {\n",
              "        vertical-align: top;\n",
              "    }\n",
              "\n",
              "    .dataframe thead th {\n",
              "        text-align: right;\n",
              "    }\n",
              "</style>\n",
              "<table border=\"1\" class=\"dataframe\">\n",
              "  <thead>\n",
              "    <tr style=\"text-align: right;\">\n",
              "      <th></th>\n",
              "      <th>modelV01</th>\n",
              "    </tr>\n",
              "    <tr>\n",
              "      <th>Performance</th>\n",
              "      <th></th>\n",
              "    </tr>\n",
              "  </thead>\n",
              "  <tbody>\n",
              "    <tr>\n",
              "      <th>minLoss</th>\n",
              "      <td>0.874946</td>\n",
              "    </tr>\n",
              "    <tr>\n",
              "      <th>maxloss</th>\n",
              "      <td>2.282531</td>\n",
              "    </tr>\n",
              "    <tr>\n",
              "      <th>minValLoss</th>\n",
              "      <td>1.389947</td>\n",
              "    </tr>\n",
              "    <tr>\n",
              "      <th>maxValLoss</th>\n",
              "      <td>2.299038</td>\n",
              "    </tr>\n",
              "    <tr>\n",
              "      <th>minAccuracy</th>\n",
              "      <td>0.146252</td>\n",
              "    </tr>\n",
              "    <tr>\n",
              "      <th>maxAccuracy</th>\n",
              "      <td>0.722222</td>\n",
              "    </tr>\n",
              "    <tr>\n",
              "      <th>minValAccuracy</th>\n",
              "      <td>0.129167</td>\n",
              "    </tr>\n",
              "    <tr>\n",
              "      <th>maxValAccuracy</th>\n",
              "      <td>0.520833</td>\n",
              "    </tr>\n",
              "  </tbody>\n",
              "</table>\n",
              "</div>\n",
              "      <button class=\"colab-df-convert\" onclick=\"convertToInteractive('df-8ecb0818-1cfc-4eff-b6d2-477acc6d6a9f')\"\n",
              "              title=\"Convert this dataframe to an interactive table.\"\n",
              "              style=\"display:none;\">\n",
              "        \n",
              "  <svg xmlns=\"http://www.w3.org/2000/svg\" height=\"24px\"viewBox=\"0 0 24 24\"\n",
              "       width=\"24px\">\n",
              "    <path d=\"M0 0h24v24H0V0z\" fill=\"none\"/>\n",
              "    <path d=\"M18.56 5.44l.94 2.06.94-2.06 2.06-.94-2.06-.94-.94-2.06-.94 2.06-2.06.94zm-11 1L8.5 8.5l.94-2.06 2.06-.94-2.06-.94L8.5 2.5l-.94 2.06-2.06.94zm10 10l.94 2.06.94-2.06 2.06-.94-2.06-.94-.94-2.06-.94 2.06-2.06.94z\"/><path d=\"M17.41 7.96l-1.37-1.37c-.4-.4-.92-.59-1.43-.59-.52 0-1.04.2-1.43.59L10.3 9.45l-7.72 7.72c-.78.78-.78 2.05 0 2.83L4 21.41c.39.39.9.59 1.41.59.51 0 1.02-.2 1.41-.59l7.78-7.78 2.81-2.81c.8-.78.8-2.07 0-2.86zM5.41 20L4 18.59l7.72-7.72 1.47 1.35L5.41 20z\"/>\n",
              "  </svg>\n",
              "      </button>\n",
              "      \n",
              "  <style>\n",
              "    .colab-df-container {\n",
              "      display:flex;\n",
              "      flex-wrap:wrap;\n",
              "      gap: 12px;\n",
              "    }\n",
              "\n",
              "    .colab-df-convert {\n",
              "      background-color: #E8F0FE;\n",
              "      border: none;\n",
              "      border-radius: 50%;\n",
              "      cursor: pointer;\n",
              "      display: none;\n",
              "      fill: #1967D2;\n",
              "      height: 32px;\n",
              "      padding: 0 0 0 0;\n",
              "      width: 32px;\n",
              "    }\n",
              "\n",
              "    .colab-df-convert:hover {\n",
              "      background-color: #E2EBFA;\n",
              "      box-shadow: 0px 1px 2px rgba(60, 64, 67, 0.3), 0px 1px 3px 1px rgba(60, 64, 67, 0.15);\n",
              "      fill: #174EA6;\n",
              "    }\n",
              "\n",
              "    [theme=dark] .colab-df-convert {\n",
              "      background-color: #3B4455;\n",
              "      fill: #D2E3FC;\n",
              "    }\n",
              "\n",
              "    [theme=dark] .colab-df-convert:hover {\n",
              "      background-color: #434B5C;\n",
              "      box-shadow: 0px 1px 3px 1px rgba(0, 0, 0, 0.15);\n",
              "      filter: drop-shadow(0px 1px 2px rgba(0, 0, 0, 0.3));\n",
              "      fill: #FFFFFF;\n",
              "    }\n",
              "  </style>\n",
              "\n",
              "      <script>\n",
              "        const buttonEl =\n",
              "          document.querySelector('#df-8ecb0818-1cfc-4eff-b6d2-477acc6d6a9f button.colab-df-convert');\n",
              "        buttonEl.style.display =\n",
              "          google.colab.kernel.accessAllowed ? 'block' : 'none';\n",
              "\n",
              "        async function convertToInteractive(key) {\n",
              "          const element = document.querySelector('#df-8ecb0818-1cfc-4eff-b6d2-477acc6d6a9f');\n",
              "          const dataTable =\n",
              "            await google.colab.kernel.invokeFunction('convertToInteractive',\n",
              "                                                     [key], {});\n",
              "          if (!dataTable) return;\n",
              "\n",
              "          const docLinkHtml = 'Like what you see? Visit the ' +\n",
              "            '<a target=\"_blank\" href=https://colab.research.google.com/notebooks/data_table.ipynb>data table notebook</a>'\n",
              "            + ' to learn more about interactive tables.';\n",
              "          element.innerHTML = '';\n",
              "          dataTable['output_type'] = 'display_data';\n",
              "          await google.colab.output.renderOutput(dataTable, element);\n",
              "          const docLink = document.createElement('div');\n",
              "          docLink.innerHTML = docLinkHtml;\n",
              "          element.appendChild(docLink);\n",
              "        }\n",
              "      </script>\n",
              "    </div>\n",
              "  </div>\n",
              "  "
            ]
          },
          "metadata": {},
          "execution_count": 17
        }
      ]
    },
    {
      "cell_type": "markdown",
      "metadata": {
        "id": "jscA_haNuXFF"
      },
      "source": [
        "## 1.2.2 Model V02 - Model with regularization, Batch normalization and double Dense layer\n",
        "\n",
        "Create the second model to be fed with the image data."
      ]
    },
    {
      "cell_type": "code",
      "execution_count": 18,
      "metadata": {
        "colab": {
          "base_uri": "https://localhost:8080/",
          "height": 300
        },
        "id": "yEjqOnwizTlT",
        "outputId": "bde6c4d0-b360-4194-a46a-36e75a626372"
      },
      "outputs": [
        {
          "output_type": "display_data",
          "data": {
            "text/plain": [
              "<IPython.core.display.Javascript object>"
            ],
            "application/javascript": [
              "google.colab.output.setIframeHeight(0, true, {maxHeight: 300})"
            ]
          },
          "metadata": {}
        },
        {
          "output_type": "stream",
          "name": "stdout",
          "text": [
            "Model: \"model_1\"\n",
            "_________________________________________________________________\n",
            " Layer (type)                Output Shape              Param #   \n",
            "=================================================================\n",
            " input_2 (InputLayer)        [(None, 224, 224, 3)]     0         \n",
            "                                                                 \n",
            " conv2d_2 (Conv2D)           (None, 224, 224, 32)      896       \n",
            "                                                                 \n",
            " batch_normalization (BatchN  (None, 224, 224, 32)     128       \n",
            " ormalization)                                                   \n",
            "                                                                 \n",
            " activation_2 (Activation)   (None, 224, 224, 32)      0         \n",
            "                                                                 \n",
            " max_pooling2d_1 (MaxPooling  (None, 75, 75, 32)       0         \n",
            " 2D)                                                             \n",
            "                                                                 \n",
            " conv2d_3 (Conv2D)           (None, 75, 75, 64)        18496     \n",
            "                                                                 \n",
            " batch_normalization_1 (Batc  (None, 75, 75, 64)       256       \n",
            " hNormalization)                                                 \n",
            "                                                                 \n",
            " activation_3 (Activation)   (None, 75, 75, 64)        0         \n",
            "                                                                 \n",
            " max_pooling2d_2 (MaxPooling  (None, 25, 25, 64)       0         \n",
            " 2D)                                                             \n",
            "                                                                 \n",
            " conv2d_4 (Conv2D)           (None, 25, 25, 128)       73856     \n",
            "                                                                 \n",
            " batch_normalization_2 (Batc  (None, 25, 25, 128)      512       \n",
            " hNormalization)                                                 \n",
            "                                                                 \n",
            " activation_4 (Activation)   (None, 25, 25, 128)       0         \n",
            "                                                                 \n",
            " global_max_pooling2d_1 (Glo  (None, 128)              0         \n",
            " balMaxPooling2D)                                                \n",
            "                                                                 \n",
            " dense_1 (Dense)             (None, 64)                8256      \n",
            "                                                                 \n",
            " dense_2 (Dense)             (None, 10)                650       \n",
            "                                                                 \n",
            "=================================================================\n",
            "Total params: 103,050\n",
            "Trainable params: 102,602\n",
            "Non-trainable params: 448\n",
            "_________________________________________________________________\n"
          ]
        }
      ],
      "source": [
        "# Architecture definition V02\n",
        "inputs = keras.Input((SIZE,SIZE,3))\n",
        "\n",
        "x = inputs\n",
        "x = keras.layers.Conv2D(32, 3, padding=\"same\", kernel_regularizer=tf.keras.regularizers.l2(0.001))(x)\n",
        "x = keras.layers.BatchNormalization()(x)\n",
        "x = keras.layers.Activation(\"relu\")(x)\n",
        "x = keras.layers.MaxPooling2D(3, strides=3, padding=\"same\")(x)\n",
        "\n",
        "x = keras.layers.Conv2D(64, 3, padding=\"same\", kernel_regularizer=tf.keras.regularizers.l2(0.001))(x)\n",
        "x = keras.layers.BatchNormalization()(x)\n",
        "x = keras.layers.Activation(\"relu\")(x)\n",
        "x = keras.layers.MaxPooling2D(3, strides=3, padding=\"same\")(x)\n",
        "\n",
        "x = keras.layers.Conv2D(128, 3, padding=\"same\", kernel_regularizer=tf.keras.regularizers.l2(0.001))(x)\n",
        "x = keras.layers.BatchNormalization()(x)\n",
        "x = keras.layers.Activation(\"relu\")(x)\n",
        "\n",
        "x = keras.layers.GlobalMaxPooling2D()(x)\n",
        "\n",
        "x = keras.layers.Dense(64, activation=\"relu\", kernel_regularizer=tf.keras.regularizers.l2(0.001))(x)\n",
        "\n",
        "outputs = keras.layers.Dense(num_classes, activation=\"softmax\", kernel_regularizer=tf.keras.regularizers.l2(0.001))(x)\n",
        "\n",
        "net_modelV02 = keras.Model(inputs, outputs)\n",
        "\n",
        "net_modelV02.summary()"
      ]
    },
    {
      "cell_type": "markdown",
      "source": [
        "<figure>\n",
        "<center>\n",
        "<img src='https://drive.google.com/uc?export=view&id=1qKA348F045qujsBUp-TlWSui43jTvVM5' />\n",
        "<figcaption>Architecture ModelV02</figcaption></center>\n",
        "</figure>"
      ],
      "metadata": {
        "id": "an0ZJsgFqZE4"
      }
    },
    {
      "cell_type": "code",
      "execution_count": 19,
      "metadata": {
        "colab": {
          "base_uri": "https://localhost:8080/",
          "height": 17
        },
        "id": "n0BVFH7ouzD-",
        "outputId": "9796169c-f74e-4acd-fe0f-c540d91958e1"
      },
      "outputs": [
        {
          "output_type": "display_data",
          "data": {
            "text/plain": [
              "<IPython.core.display.Javascript object>"
            ],
            "application/javascript": [
              "google.colab.output.setIframeHeight(0, true, {maxHeight: 300})"
            ]
          },
          "metadata": {}
        }
      ],
      "source": [
        "# COMPILE THE MODEL\n",
        "net_modelV02.compile(loss=keras.losses.categorical_crossentropy,\n",
        "            optimizer= keras.optimizers.Adam(learning_rate=0.0001),\n",
        "            metrics=['accuracy'])"
      ]
    },
    {
      "cell_type": "code",
      "source": [
        "# START COUNTING THE TIME\n",
        "start = datetime.datetime.now()\n",
        "\n",
        "# FIT THE MODEL\n",
        "history_modelV02 = net_modelV02.fit(train_generator, \n",
        "                  validation_data = val_generator, # test_generator\n",
        "                  steps_per_epoch = train_generator.n // train_generator.batch_size,\n",
        "                  validation_steps = val_generator.n // val_generator.batch_size, # test_generator\n",
        "                  epochs=50,\n",
        "                  callbacks = [callback])\n",
        "\n",
        "# STOP COUNTING THE TIME\n",
        "end = datetime.datetime.now()\n",
        "print(\"Total execution time is: \", end-start)"
      ],
      "metadata": {
        "id": "IT2wZ26rMAgS",
        "colab": {
          "base_uri": "https://localhost:8080/",
          "height": 300
        },
        "outputId": "992ba49e-0cd2-4d0c-e26b-b146cfb657c9"
      },
      "execution_count": 20,
      "outputs": [
        {
          "output_type": "display_data",
          "data": {
            "text/plain": [
              "<IPython.core.display.Javascript object>"
            ],
            "application/javascript": [
              "google.colab.output.setIframeHeight(0, true, {maxHeight: 300})"
            ]
          },
          "metadata": {}
        },
        {
          "output_type": "stream",
          "name": "stdout",
          "text": [
            "Epoch 1/50\n",
            "187/187 [==============================] - 13s 67ms/step - loss: 2.2745 - accuracy: 0.4043 - val_loss: 2.5471 - val_accuracy: 0.1958\n",
            "Epoch 2/50\n",
            "187/187 [==============================] - 12s 65ms/step - loss: 1.3454 - accuracy: 0.6560 - val_loss: 2.4092 - val_accuracy: 0.2333\n",
            "Epoch 3/50\n",
            "187/187 [==============================] - 12s 65ms/step - loss: 1.1015 - accuracy: 0.7533 - val_loss: 1.8696 - val_accuracy: 0.4333\n",
            "Epoch 4/50\n",
            "187/187 [==============================] - 12s 65ms/step - loss: 0.9620 - accuracy: 0.8025 - val_loss: 1.7053 - val_accuracy: 0.5125\n",
            "Epoch 5/50\n",
            "187/187 [==============================] - 12s 65ms/step - loss: 0.8454 - accuracy: 0.8504 - val_loss: 1.5718 - val_accuracy: 0.5333\n",
            "Epoch 6/50\n",
            "187/187 [==============================] - 12s 65ms/step - loss: 0.7486 - accuracy: 0.8775 - val_loss: 1.4384 - val_accuracy: 0.6000\n",
            "Epoch 7/50\n",
            "187/187 [==============================] - 12s 66ms/step - loss: 0.6755 - accuracy: 0.9039 - val_loss: 1.4035 - val_accuracy: 0.5833\n",
            "Epoch 8/50\n",
            "187/187 [==============================] - 12s 66ms/step - loss: 0.6142 - accuracy: 0.9197 - val_loss: 1.3909 - val_accuracy: 0.6042\n",
            "Epoch 9/50\n",
            "187/187 [==============================] - 12s 64ms/step - loss: 0.5571 - accuracy: 0.9398 - val_loss: 1.3435 - val_accuracy: 0.6125\n",
            "Epoch 10/50\n",
            "187/187 [==============================] - 12s 64ms/step - loss: 0.5019 - accuracy: 0.9592 - val_loss: 1.3373 - val_accuracy: 0.6125\n",
            "Epoch 11/50\n",
            "187/187 [==============================] - 12s 65ms/step - loss: 0.4728 - accuracy: 0.9612 - val_loss: 1.3550 - val_accuracy: 0.6042\n",
            "Epoch 12/50\n",
            "187/187 [==============================] - 12s 64ms/step - loss: 0.4289 - accuracy: 0.9732 - val_loss: 1.2735 - val_accuracy: 0.6292\n",
            "Epoch 13/50\n",
            "187/187 [==============================] - 12s 65ms/step - loss: 0.4002 - accuracy: 0.9796 - val_loss: 1.3168 - val_accuracy: 0.6583\n",
            "Epoch 14/50\n",
            "187/187 [==============================] - 12s 65ms/step - loss: 0.3750 - accuracy: 0.9849 - val_loss: 1.3277 - val_accuracy: 0.6417\n",
            "Epoch 15/50\n",
            "187/187 [==============================] - 12s 65ms/step - loss: 0.3553 - accuracy: 0.9896 - val_loss: 1.2608 - val_accuracy: 0.6458\n",
            "Epoch 16/50\n",
            "187/187 [==============================] - 12s 65ms/step - loss: 0.3306 - accuracy: 0.9936 - val_loss: 1.2729 - val_accuracy: 0.6292\n",
            "Epoch 17/50\n",
            "187/187 [==============================] - 12s 65ms/step - loss: 0.3171 - accuracy: 0.9946 - val_loss: 1.2883 - val_accuracy: 0.6250\n",
            "Epoch 18/50\n",
            "187/187 [==============================] - 12s 64ms/step - loss: 0.3052 - accuracy: 0.9950 - val_loss: 1.2660 - val_accuracy: 0.6583\n",
            "Epoch 19/50\n",
            "187/187 [==============================] - 12s 65ms/step - loss: 0.2933 - accuracy: 0.9970 - val_loss: 1.2962 - val_accuracy: 0.6583\n",
            "Epoch 20/50\n",
            "187/187 [==============================] - 15s 78ms/step - loss: 0.2831 - accuracy: 0.9977 - val_loss: 1.2365 - val_accuracy: 0.6500\n",
            "Epoch 21/50\n",
            "187/187 [==============================] - 14s 76ms/step - loss: 0.2735 - accuracy: 0.9987 - val_loss: 1.2511 - val_accuracy: 0.6542\n",
            "Epoch 22/50\n",
            "187/187 [==============================] - 13s 68ms/step - loss: 0.2632 - accuracy: 0.9990 - val_loss: 1.2269 - val_accuracy: 0.6458\n",
            "Epoch 23/50\n",
            "187/187 [==============================] - 12s 66ms/step - loss: 0.2558 - accuracy: 0.9997 - val_loss: 1.2592 - val_accuracy: 0.6708\n",
            "Epoch 24/50\n",
            "187/187 [==============================] - 12s 66ms/step - loss: 0.2523 - accuracy: 0.9997 - val_loss: 1.2947 - val_accuracy: 0.6792\n",
            "Epoch 25/50\n",
            "187/187 [==============================] - 12s 65ms/step - loss: 0.2446 - accuracy: 0.9997 - val_loss: 1.2292 - val_accuracy: 0.6625\n",
            "Epoch 26/50\n",
            "187/187 [==============================] - 12s 65ms/step - loss: 0.2390 - accuracy: 1.0000 - val_loss: 1.2306 - val_accuracy: 0.6708\n",
            "Epoch 27/50\n",
            "187/187 [==============================] - 12s 65ms/step - loss: 0.2343 - accuracy: 1.0000 - val_loss: 1.2087 - val_accuracy: 0.6625\n",
            "Epoch 28/50\n",
            "187/187 [==============================] - 12s 66ms/step - loss: 0.2302 - accuracy: 1.0000 - val_loss: 1.2021 - val_accuracy: 0.6875\n",
            "Epoch 29/50\n",
            "187/187 [==============================] - 12s 66ms/step - loss: 0.2284 - accuracy: 1.0000 - val_loss: 1.3440 - val_accuracy: 0.6167\n",
            "Epoch 30/50\n",
            "187/187 [==============================] - 12s 65ms/step - loss: 0.2302 - accuracy: 0.9993 - val_loss: 1.2671 - val_accuracy: 0.6375\n",
            "Epoch 31/50\n",
            "187/187 [==============================] - 12s 66ms/step - loss: 0.2209 - accuracy: 1.0000 - val_loss: 1.2250 - val_accuracy: 0.6583\n",
            "Epoch 32/50\n",
            "187/187 [==============================] - 12s 65ms/step - loss: 0.2172 - accuracy: 1.0000 - val_loss: 1.2401 - val_accuracy: 0.6500\n",
            "Epoch 33/50\n",
            "187/187 [==============================] - 13s 71ms/step - loss: 0.2139 - accuracy: 1.0000 - val_loss: 1.1837 - val_accuracy: 0.6792\n",
            "Epoch 34/50\n",
            "187/187 [==============================] - 12s 66ms/step - loss: 0.2091 - accuracy: 1.0000 - val_loss: 1.2229 - val_accuracy: 0.6708\n",
            "Epoch 35/50\n",
            "187/187 [==============================] - 12s 65ms/step - loss: 0.2063 - accuracy: 1.0000 - val_loss: 1.2020 - val_accuracy: 0.6625\n",
            "Epoch 36/50\n",
            "187/187 [==============================] - 12s 65ms/step - loss: 0.2035 - accuracy: 1.0000 - val_loss: 1.2126 - val_accuracy: 0.6458\n",
            "Epoch 37/50\n",
            "187/187 [==============================] - 12s 65ms/step - loss: 0.2020 - accuracy: 1.0000 - val_loss: 1.1826 - val_accuracy: 0.6750\n",
            "Epoch 38/50\n",
            "187/187 [==============================] - 12s 65ms/step - loss: 0.1978 - accuracy: 1.0000 - val_loss: 1.2070 - val_accuracy: 0.6750\n",
            "Epoch 39/50\n",
            "187/187 [==============================] - 12s 66ms/step - loss: 0.1962 - accuracy: 1.0000 - val_loss: 1.2675 - val_accuracy: 0.6500\n",
            "Epoch 40/50\n",
            "187/187 [==============================] - 12s 65ms/step - loss: 0.2147 - accuracy: 0.9963 - val_loss: 1.2989 - val_accuracy: 0.6375\n",
            "Epoch 41/50\n",
            "187/187 [==============================] - 12s 65ms/step - loss: 0.2083 - accuracy: 0.9983 - val_loss: 1.3162 - val_accuracy: 0.6292\n",
            "Epoch 42/50\n",
            "187/187 [==============================] - 12s 65ms/step - loss: 0.1918 - accuracy: 1.0000 - val_loss: 1.1997 - val_accuracy: 0.6958\n",
            "Epoch 43/50\n",
            "187/187 [==============================] - 12s 64ms/step - loss: 0.1874 - accuracy: 1.0000 - val_loss: 1.2058 - val_accuracy: 0.6792\n",
            "Epoch 44/50\n",
            "187/187 [==============================] - 13s 70ms/step - loss: 0.1848 - accuracy: 1.0000 - val_loss: 1.2226 - val_accuracy: 0.6625\n",
            "Epoch 45/50\n",
            "187/187 [==============================] - 12s 65ms/step - loss: 0.1826 - accuracy: 1.0000 - val_loss: 1.2289 - val_accuracy: 0.6750\n",
            "Epoch 46/50\n",
            "187/187 [==============================] - 16s 84ms/step - loss: 0.1799 - accuracy: 1.0000 - val_loss: 1.2038 - val_accuracy: 0.6750\n",
            "Epoch 47/50\n",
            "187/187 [==============================] - 12s 65ms/step - loss: 0.1776 - accuracy: 1.0000 - val_loss: 1.1903 - val_accuracy: 0.6625\n",
            "Epoch 48/50\n",
            "187/187 [==============================] - 12s 64ms/step - loss: 0.1755 - accuracy: 1.0000 - val_loss: 1.3859 - val_accuracy: 0.6542\n",
            "Epoch 49/50\n",
            "187/187 [==============================] - 12s 65ms/step - loss: 0.1741 - accuracy: 1.0000 - val_loss: 1.2940 - val_accuracy: 0.6708\n",
            "Epoch 50/50\n",
            "187/187 [==============================] - 14s 72ms/step - loss: 0.1702 - accuracy: 1.0000 - val_loss: 1.2502 - val_accuracy: 0.6583\n",
            "Total execution time is:  0:14:02.011928\n"
          ]
        }
      ]
    },
    {
      "cell_type": "code",
      "execution_count": null,
      "metadata": {
        "id": "UKBiYAo1uy7D"
      },
      "outputs": [],
      "source": [
        "# # START COUNTING THE TIME\n",
        "# start = datetime.datetime.now()\n",
        "\n",
        "# history_modelV02 = net_modelV02.fit(train_dataset, \n",
        "#                            epochs=50, \n",
        "#                            validation_data = test_dataset,\n",
        "#                            callbacks = [callback])\n",
        "\n",
        "# # STOP COUNTING THE TIME\n",
        "# end = datetime.datetime.now()\n",
        "# print(\"Total execution time with PCA is: \", end-start)"
      ]
    },
    {
      "cell_type": "code",
      "execution_count": 21,
      "metadata": {
        "colab": {
          "base_uri": "https://localhost:8080/",
          "height": 300
        },
        "id": "eFyJY2zHEo6v",
        "outputId": "07b28aaf-d7b6-4093-a009-c9c5d2c1ced1"
      },
      "outputs": [
        {
          "output_type": "display_data",
          "data": {
            "text/plain": [
              "<IPython.core.display.Javascript object>"
            ],
            "application/javascript": [
              "google.colab.output.setIframeHeight(0, true, {maxHeight: 300})"
            ]
          },
          "metadata": {}
        },
        {
          "output_type": "execute_result",
          "data": {
            "text/plain": [
              "<matplotlib.legend.Legend at 0x7fd8a66d0e50>"
            ]
          },
          "metadata": {},
          "execution_count": 21
        },
        {
          "output_type": "display_data",
          "data": {
            "text/plain": [
              "<Figure size 1080x432 with 2 Axes>"
            ],
            "image/png": "[encoded data removed]"
          },
          "metadata": {
            "needs_background": "light"
          }
        }
      ],
      "source": [
        "# PLOT THEM TOGETHER\n",
        "# Visualization of the learning curves\n",
        "plt.figure(figsize=(15,6))\n",
        "\n",
        "plt.subplot(1, 2, 1)\n",
        "plt.plot(history_modelV02.history['loss'])\n",
        "plt.plot(history_modelV02.history['val_loss'])\n",
        "plt.ylim([0.0, 3.0])\n",
        "plt.title(\"Loss & Val loss Model V02\")\n",
        "plt.xlabel('Epoch')\n",
        "plt.ylabel('Loss')\n",
        "plt.legend(['train', 'valid'])\n",
        "\n",
        "plt.subplot(1, 2, 2)\n",
        "plt.plot(history_modelV02.history['accuracy'])\n",
        "plt.plot(history_modelV02.history['val_accuracy'])\n",
        "plt.ylim([0.0, 1.0])\n",
        "plt.title(\"Accuracy & Val accuracy Model V02\")\n",
        "plt.xlabel('Epoch')\n",
        "plt.ylabel('Accuracy')\n",
        "plt.legend(['train', 'valid'])"
      ]
    },
    {
      "cell_type": "markdown",
      "metadata": {
        "id": "VXn9rjr686As"
      },
      "source": [
        "### Performance results Model V02\n",
        "\n",
        "The model performs sligthly better than the first one, but not enough to be used as a final classifier."
      ]
    },
    {
      "cell_type": "code",
      "source": [
        "# SAVE THE TIME NEEDED TO RUN THE ALGORITHM\n",
        "time_duration_modelV02 = end - start\n",
        "print(time_duration_modelV02)"
      ],
      "metadata": {
        "id": "NcuAZFJFcr7O",
        "colab": {
          "base_uri": "https://localhost:8080/",
          "height": 34
        },
        "outputId": "a0aead84-fe35-410a-d1b9-d0e6ca6daf96"
      },
      "execution_count": 22,
      "outputs": [
        {
          "output_type": "display_data",
          "data": {
            "text/plain": [
              "<IPython.core.display.Javascript object>"
            ],
            "application/javascript": [
              "google.colab.output.setIframeHeight(0, true, {maxHeight: 300})"
            ]
          },
          "metadata": {}
        },
        {
          "output_type": "stream",
          "name": "stdout",
          "text": [
            "0:14:02.011928\n"
          ]
        }
      ]
    },
    {
      "cell_type": "code",
      "source": [
        "# GET THE MINIMUM ACCURACY, THE MAXIMUM ACCURACY, THE MINIMUM LOSS, THE MAXIMUM LOSS AND SAVE THEM IN VARIABLES.\n",
        "# THEN CREATE A DATAFRAME AT THE END WHERE YOU CAN COMPARE DIFFERENT MODELS WITH IT!\n",
        "\n",
        "# LOSS/VAL LOSS\n",
        "modelV02_minLoss = min(history_modelV02.history['loss'])\n",
        "modelV02_maxLoss = max(history_modelV02.history['loss'])\n",
        "modelV02_minValLoss = min(history_modelV02.history['val_loss'])\n",
        "modelV02_maxValLoss = max(history_modelV02.history['val_loss'])\n",
        "\n",
        "# ACCURACY/VAL ACCURACY\n",
        "modelV02_minAccuracy = min(history_modelV02.history['accuracy'])\n",
        "modelV02_maxAccuracy = max(history_modelV02.history['accuracy'])\n",
        "modelV02_minValAccuracy = min(history_modelV02.history['val_accuracy'])\n",
        "modelV02_maxValAccuracy = max(history_modelV02.history['val_accuracy'])\n",
        "\n",
        "# CREATE THE DATAFRAME\n",
        "modelV02_loss_accuracy = pd.DataFrame({\"minLoss\": [modelV02_minLoss],\n",
        "                                       \"maxloss\": [modelV02_maxLoss],\n",
        "                                       \"minValLoss\": [modelV02_minValLoss],\n",
        "                                       \"maxValLoss\": [modelV02_maxValLoss],\n",
        "                                       \"minAccuracy\": [modelV02_minAccuracy],\n",
        "                                       \"maxAccuracy\": [modelV02_maxAccuracy],\n",
        "                                       \"minValAccuracy\": [modelV02_minValAccuracy],\n",
        "                                       \"maxValAccuracy\": [modelV02_maxValAccuracy]}).T\n",
        "\n",
        "# CHANGE THE FIRST COLUMN NAME\n",
        "modelV02_loss_accuracy = modelV02_loss_accuracy.rename(columns={0: 'modelV02'})\n",
        "# CHANGE THE INDEX NAME\n",
        "modelV02_loss_accuracy.index.names = ['Performance']\n",
        "modelV02_loss_accuracy"
      ],
      "metadata": {
        "id": "OFdh7xW2mQQr",
        "colab": {
          "base_uri": "https://localhost:8080/",
          "height": 300
        },
        "outputId": "ae542943-9e73-4741-df5d-7368d8e2eb75"
      },
      "execution_count": 23,
      "outputs": [
        {
          "output_type": "display_data",
          "data": {
            "text/plain": [
              "<IPython.core.display.Javascript object>"
            ],
            "application/javascript": [
              "google.colab.output.setIframeHeight(0, true, {maxHeight: 300})"
            ]
          },
          "metadata": {}
        },
        {
          "output_type": "execute_result",
          "data": {
            "text/plain": [
              "                modelV02\n",
              "Performance             \n",
              "minLoss         0.170244\n",
              "maxloss         2.274471\n",
              "minValLoss      1.182631\n",
              "maxValLoss      2.547081\n",
              "minAccuracy     0.404284\n",
              "maxAccuracy     1.000000\n",
              "minValAccuracy  0.195833\n",
              "maxValAccuracy  0.695833"
            ],
            "text/html": [
              "\n",
              "  <div id=\"df-74caec90-9093-40fa-b056-4ea31f1ac6b8\">\n",
              "    <div class=\"colab-df-container\">\n",
              "      <div>\n",
              "<style scoped>\n",
              "    .dataframe tbody tr th:only-of-type {\n",
              "        vertical-align: middle;\n",
              "    }\n",
              "\n",
              "    .dataframe tbody tr th {\n",
              "        vertical-align: top;\n",
              "    }\n",
              "\n",
              "    .dataframe thead th {\n",
              "        text-align: right;\n",
              "    }\n",
              "</style>\n",
              "<table border=\"1\" class=\"dataframe\">\n",
              "  <thead>\n",
              "    <tr style=\"text-align: right;\">\n",
              "      <th></th>\n",
              "      <th>modelV02</th>\n",
              "    </tr>\n",
              "    <tr>\n",
              "      <th>Performance</th>\n",
              "      <th></th>\n",
              "    </tr>\n",
              "  </thead>\n",
              "  <tbody>\n",
              "    <tr>\n",
              "      <th>minLoss</th>\n",
              "      <td>0.170244</td>\n",
              "    </tr>\n",
              "    <tr>\n",
              "      <th>maxloss</th>\n",
              "      <td>2.274471</td>\n",
              "    </tr>\n",
              "    <tr>\n",
              "      <th>minValLoss</th>\n",
              "      <td>1.182631</td>\n",
              "    </tr>\n",
              "    <tr>\n",
              "      <th>maxValLoss</th>\n",
              "      <td>2.547081</td>\n",
              "    </tr>\n",
              "    <tr>\n",
              "      <th>minAccuracy</th>\n",
              "      <td>0.404284</td>\n",
              "    </tr>\n",
              "    <tr>\n",
              "      <th>maxAccuracy</th>\n",
              "      <td>1.000000</td>\n",
              "    </tr>\n",
              "    <tr>\n",
              "      <th>minValAccuracy</th>\n",
              "      <td>0.195833</td>\n",
              "    </tr>\n",
              "    <tr>\n",
              "      <th>maxValAccuracy</th>\n",
              "      <td>0.695833</td>\n",
              "    </tr>\n",
              "  </tbody>\n",
              "</table>\n",
              "</div>\n",
              "      <button class=\"colab-df-convert\" onclick=\"convertToInteractive('df-74caec90-9093-40fa-b056-4ea31f1ac6b8')\"\n",
              "              title=\"Convert this dataframe to an interactive table.\"\n",
              "              style=\"display:none;\">\n",
              "        \n",
              "  <svg xmlns=\"http://www.w3.org/2000/svg\" height=\"24px\"viewBox=\"0 0 24 24\"\n",
              "       width=\"24px\">\n",
              "    <path d=\"M0 0h24v24H0V0z\" fill=\"none\"/>\n",
              "    <path d=\"M18.56 5.44l.94 2.06.94-2.06 2.06-.94-2.06-.94-.94-2.06-.94 2.06-2.06.94zm-11 1L8.5 8.5l.94-2.06 2.06-.94-2.06-.94L8.5 2.5l-.94 2.06-2.06.94zm10 10l.94 2.06.94-2.06 2.06-.94-2.06-.94-.94-2.06-.94 2.06-2.06.94z\"/><path d=\"M17.41 7.96l-1.37-1.37c-.4-.4-.92-.59-1.43-.59-.52 0-1.04.2-1.43.59L10.3 9.45l-7.72 7.72c-.78.78-.78 2.05 0 2.83L4 21.41c.39.39.9.59 1.41.59.51 0 1.02-.2 1.41-.59l7.78-7.78 2.81-2.81c.8-.78.8-2.07 0-2.86zM5.41 20L4 18.59l7.72-7.72 1.47 1.35L5.41 20z\"/>\n",
              "  </svg>\n",
              "      </button>\n",
              "      \n",
              "  <style>\n",
              "    .colab-df-container {\n",
              "      display:flex;\n",
              "      flex-wrap:wrap;\n",
              "      gap: 12px;\n",
              "    }\n",
              "\n",
              "    .colab-df-convert {\n",
              "      background-color: #E8F0FE;\n",
              "      border: none;\n",
              "      border-radius: 50%;\n",
              "      cursor: pointer;\n",
              "      display: none;\n",
              "      fill: #1967D2;\n",
              "      height: 32px;\n",
              "      padding: 0 0 0 0;\n",
              "      width: 32px;\n",
              "    }\n",
              "\n",
              "    .colab-df-convert:hover {\n",
              "      background-color: #E2EBFA;\n",
              "      box-shadow: 0px 1px 2px rgba(60, 64, 67, 0.3), 0px 1px 3px 1px rgba(60, 64, 67, 0.15);\n",
              "      fill: #174EA6;\n",
              "    }\n",
              "\n",
              "    [theme=dark] .colab-df-convert {\n",
              "      background-color: #3B4455;\n",
              "      fill: #D2E3FC;\n",
              "    }\n",
              "\n",
              "    [theme=dark] .colab-df-convert:hover {\n",
              "      background-color: #434B5C;\n",
              "      box-shadow: 0px 1px 3px 1px rgba(0, 0, 0, 0.15);\n",
              "      filter: drop-shadow(0px 1px 2px rgba(0, 0, 0, 0.3));\n",
              "      fill: #FFFFFF;\n",
              "    }\n",
              "  </style>\n",
              "\n",
              "      <script>\n",
              "        const buttonEl =\n",
              "          document.querySelector('#df-74caec90-9093-40fa-b056-4ea31f1ac6b8 button.colab-df-convert');\n",
              "        buttonEl.style.display =\n",
              "          google.colab.kernel.accessAllowed ? 'block' : 'none';\n",
              "\n",
              "        async function convertToInteractive(key) {\n",
              "          const element = document.querySelector('#df-74caec90-9093-40fa-b056-4ea31f1ac6b8');\n",
              "          const dataTable =\n",
              "            await google.colab.kernel.invokeFunction('convertToInteractive',\n",
              "                                                     [key], {});\n",
              "          if (!dataTable) return;\n",
              "\n",
              "          const docLinkHtml = 'Like what you see? Visit the ' +\n",
              "            '<a target=\"_blank\" href=https://colab.research.google.com/notebooks/data_table.ipynb>data table notebook</a>'\n",
              "            + ' to learn more about interactive tables.';\n",
              "          element.innerHTML = '';\n",
              "          dataTable['output_type'] = 'display_data';\n",
              "          await google.colab.output.renderOutput(dataTable, element);\n",
              "          const docLink = document.createElement('div');\n",
              "          docLink.innerHTML = docLinkHtml;\n",
              "          element.appendChild(docLink);\n",
              "        }\n",
              "      </script>\n",
              "    </div>\n",
              "  </div>\n",
              "  "
            ]
          },
          "metadata": {},
          "execution_count": 23
        }
      ]
    },
    {
      "cell_type": "markdown",
      "metadata": {
        "id": "x-fbROCI0UT7"
      },
      "source": [
        "## 1.2.3 Model V03 - Training the model with Data Agmentation from keras (regularization and dropout)\n",
        "\n",
        "Create the third model to be fed with the image data."
      ]
    },
    {
      "cell_type": "code",
      "execution_count": 24,
      "metadata": {
        "colab": {
          "base_uri": "https://localhost:8080/",
          "height": 52
        },
        "id": "4wEPGZRy0OQh",
        "outputId": "ae185d7d-c9d3-422d-918c-4946a460c1d7"
      },
      "outputs": [
        {
          "output_type": "display_data",
          "data": {
            "text/plain": [
              "<IPython.core.display.Javascript object>"
            ],
            "application/javascript": [
              "google.colab.output.setIframeHeight(0, true, {maxHeight: 300})"
            ]
          },
          "metadata": {}
        },
        {
          "output_type": "stream",
          "name": "stdout",
          "text": [
            "Found 3004 images belonging to 10 classes.\n",
            "Found 242 images belonging to 10 classes.\n"
          ]
        }
      ],
      "source": [
        "# DATA AUGMENTATION ONLY ON THE TRAINING SET\n",
        "train_datagen = ImageDataGenerator(\n",
        "        rescale=1./255,\n",
        "        shear_range=0.2,\n",
        "        zoom_range=0.1,\n",
        "        horizontal_flip=True,\n",
        "        width_shift_range=0.1,  # randomly shift images horizontally (fraction of total width)\n",
        "        height_shift_range=0.1,\n",
        "        rotation_range=45,\n",
        "        fill_mode='nearest')  # randomly shift images vertically (fraction of total height))\n",
        "\n",
        "# this is the augmentation configuration we will use for testing:\n",
        "# only rescaling\n",
        "# test_datagen = ImageDataGenerator(rescale=1./255) \n",
        "val_datagen = ImageDataGenerator(rescale=1./255) \n",
        "\n",
        "# this is a generator that will read pictures found in\n",
        "# subfolers of 'data/train', and indefinitely generate\n",
        "# batches of augmented image data\n",
        "train_generator = train_datagen.flow_from_directory(\n",
        "    base_path_train,\n",
        "    target_size=(SIZE,SIZE),\n",
        "    batch_size=batch_size,\n",
        "    shuffle=True,\n",
        "    class_mode=\"categorical\",\n",
        "    seed = SEED_VALUE)\n",
        "\n",
        "# test_generator = test_datagen.flow_from_directory(\n",
        "#     base_path_test,\n",
        "#     target_size=(SIZE,SIZE),\n",
        "#     batch_size=batch_size,\n",
        "#     shuffle=False,\n",
        "#     class_mode=\"categorical\",\n",
        "#     seed = SEED_VALUE)\n",
        "\n",
        "val_generator = val_datagen.flow_from_directory(\n",
        "    base_path_val,\n",
        "    target_size=(SIZE,SIZE),\n",
        "    batch_size=batch_size,\n",
        "    shuffle=False,\n",
        "    class_mode=\"categorical\",\n",
        "    seed = SEED_VALUE)"
      ]
    },
    {
      "cell_type": "code",
      "execution_count": 25,
      "metadata": {
        "id": "ITUAWD7Rt4Cm",
        "colab": {
          "base_uri": "https://localhost:8080/",
          "height": 300
        },
        "outputId": "ef08be01-a224-4d01-efe8-fb206dbfd41d"
      },
      "outputs": [
        {
          "output_type": "display_data",
          "data": {
            "text/plain": [
              "<IPython.core.display.Javascript object>"
            ],
            "application/javascript": [
              "google.colab.output.setIframeHeight(0, true, {maxHeight: 300})"
            ]
          },
          "metadata": {}
        },
        {
          "output_type": "stream",
          "name": "stdout",
          "text": [
            "Model: \"model_2\"\n",
            "_________________________________________________________________\n",
            " Layer (type)                Output Shape              Param #   \n",
            "=================================================================\n",
            " input_3 (InputLayer)        [(None, 224, 224, 3)]     0         \n",
            "                                                                 \n",
            " conv2d_5 (Conv2D)           (None, 224, 224, 32)      896       \n",
            "                                                                 \n",
            " batch_normalization_3 (Batc  (None, 224, 224, 32)     128       \n",
            " hNormalization)                                                 \n",
            "                                                                 \n",
            " activation_5 (Activation)   (None, 224, 224, 32)      0         \n",
            "                                                                 \n",
            " max_pooling2d_3 (MaxPooling  (None, 75, 75, 32)       0         \n",
            " 2D)                                                             \n",
            "                                                                 \n",
            " conv2d_6 (Conv2D)           (None, 75, 75, 64)        18496     \n",
            "                                                                 \n",
            " batch_normalization_4 (Batc  (None, 75, 75, 64)       256       \n",
            " hNormalization)                                                 \n",
            "                                                                 \n",
            " activation_6 (Activation)   (None, 75, 75, 64)        0         \n",
            "                                                                 \n",
            " max_pooling2d_4 (MaxPooling  (None, 25, 25, 64)       0         \n",
            " 2D)                                                             \n",
            "                                                                 \n",
            " conv2d_7 (Conv2D)           (None, 25, 25, 128)       73856     \n",
            "                                                                 \n",
            " batch_normalization_5 (Batc  (None, 25, 25, 128)      512       \n",
            " hNormalization)                                                 \n",
            "                                                                 \n",
            " activation_7 (Activation)   (None, 25, 25, 128)       0         \n",
            "                                                                 \n",
            " max_pooling2d_5 (MaxPooling  (None, 9, 9, 128)        0         \n",
            " 2D)                                                             \n",
            "                                                                 \n",
            " conv2d_8 (Conv2D)           (None, 9, 9, 128)         147584    \n",
            "                                                                 \n",
            " batch_normalization_6 (Batc  (None, 9, 9, 128)        512       \n",
            " hNormalization)                                                 \n",
            "                                                                 \n",
            " activation_8 (Activation)   (None, 9, 9, 128)         0         \n",
            "                                                                 \n",
            " max_pooling2d_6 (MaxPooling  (None, 3, 3, 128)        0         \n",
            " 2D)                                                             \n",
            "                                                                 \n",
            " conv2d_9 (Conv2D)           (None, 3, 3, 512)         590336    \n",
            "                                                                 \n",
            " batch_normalization_7 (Batc  (None, 3, 3, 512)        2048      \n",
            " hNormalization)                                                 \n",
            "                                                                 \n",
            " activation_9 (Activation)   (None, 3, 3, 512)         0         \n",
            "                                                                 \n",
            " global_max_pooling2d_2 (Glo  (None, 512)              0         \n",
            " balMaxPooling2D)                                                \n",
            "                                                                 \n",
            " flatten (Flatten)           (None, 512)               0         \n",
            "                                                                 \n",
            " dropout (Dropout)           (None, 512)               0         \n",
            "                                                                 \n",
            " dense_3 (Dense)             (None, 512)               262656    \n",
            "                                                                 \n",
            " dense_4 (Dense)             (None, 10)                5130      \n",
            "                                                                 \n",
            "=================================================================\n",
            "Total params: 1,102,410\n",
            "Trainable params: 1,100,682\n",
            "Non-trainable params: 1,728\n",
            "_________________________________________________________________\n"
          ]
        }
      ],
      "source": [
        "# ARCHITECTURE DEFINITION FOR MODEL V03\n",
        "inputs = keras.Input((SIZE,SIZE,3))\n",
        "\n",
        "x = inputs\n",
        "\n",
        "x = keras.layers.Conv2D(32, 3, padding=\"same\", kernel_initializer=\"he_uniform\", kernel_regularizer=tf.keras.regularizers.l2(0.001))(x)\n",
        "x = keras.layers.BatchNormalization()(x)\n",
        "x = keras.layers.Activation(\"relu\")(x)\n",
        "x = keras.layers.MaxPooling2D(3, strides=3, padding=\"same\")(x)\n",
        "\n",
        "x = keras.layers.Conv2D(64, 3, padding=\"same\", kernel_initializer=\"he_uniform\", kernel_regularizer=tf.keras.regularizers.l2(0.001))(x)\n",
        "x = keras.layers.BatchNormalization()(x)\n",
        "x = keras.layers.Activation(\"relu\")(x)\n",
        "x = keras.layers.MaxPooling2D(3, strides=3, padding=\"same\")(x)\n",
        "\n",
        "x = keras.layers.Conv2D(128, 3, padding=\"same\", kernel_initializer=\"he_uniform\", kernel_regularizer=tf.keras.regularizers.l2(0.001))(x)\n",
        "x = keras.layers.BatchNormalization()(x)\n",
        "x = keras.layers.Activation(\"relu\")(x)\n",
        "x = keras.layers.MaxPooling2D(3, strides=3, padding=\"same\")(x)\n",
        "\n",
        "x = keras.layers.Conv2D(128, 3, padding=\"same\", kernel_initializer=\"he_uniform\", kernel_regularizer=tf.keras.regularizers.l2(0.001))(x)\n",
        "x = keras.layers.BatchNormalization()(x)\n",
        "x = keras.layers.Activation(\"relu\")(x)\n",
        "x = keras.layers.MaxPooling2D(3, strides=3, padding=\"same\")(x)\n",
        "\n",
        "x = keras.layers.Conv2D(512, 3, padding=\"same\", kernel_initializer=\"he_uniform\", kernel_regularizer=tf.keras.regularizers.l2(0.001))(x)\n",
        "x = keras.layers.BatchNormalization()(x)\n",
        "x = keras.layers.Activation(\"relu\")(x)\n",
        "x = keras.layers.GlobalMaxPooling2D()(x)\n",
        "\n",
        "# ADD FLATTEN LAYER\n",
        "x = tf.keras.layers.Flatten()(x)\n",
        "# ADD DROPOUT LAYER\n",
        "x = keras.layers.Dropout(.15)(x)\n",
        "\n",
        "x = keras.layers.Dense(512, activation=\"relu\", kernel_regularizer=tf.keras.regularizers.l2(0.001))(x)\n",
        "\n",
        "outputs = keras.layers.Dense(num_classes, activation=\"softmax\", kernel_regularizer=tf.keras.regularizers.l2(0.001))(x)\n",
        "\n",
        "net_modelV03 = keras.Model(inputs, outputs)\n",
        "\n",
        "# PRINT THE SUMMARY\n",
        "net_modelV03.summary()"
      ]
    },
    {
      "cell_type": "markdown",
      "source": [
        "<figure>\n",
        "<center>\n",
        "<img src='https://drive.google.com/uc?export=view&id=1WMiCo7jjyvtIw3VJW0T0aUDjBMC8Dyaq' />\n",
        "<figcaption>Architecture ModelV03</figcaption></center>\n",
        "</figure>"
      ],
      "metadata": {
        "id": "Kl18NHFgqI8h"
      }
    },
    {
      "cell_type": "code",
      "execution_count": 26,
      "metadata": {
        "id": "eW5lub6TwUuo",
        "colab": {
          "base_uri": "https://localhost:8080/",
          "height": 17
        },
        "outputId": "80adac77-0de6-466e-98af-676091a56d0e"
      },
      "outputs": [
        {
          "output_type": "display_data",
          "data": {
            "text/plain": [
              "<IPython.core.display.Javascript object>"
            ],
            "application/javascript": [
              "google.colab.output.setIframeHeight(0, true, {maxHeight: 300})"
            ]
          },
          "metadata": {}
        }
      ],
      "source": [
        "# COMPILE THE MODEL\n",
        "net_modelV03.compile(loss=keras.losses.categorical_crossentropy,\n",
        "            optimizer= keras.optimizers.Adam(learning_rate=0.0001),\n",
        "            metrics=['accuracy'])"
      ]
    },
    {
      "cell_type": "code",
      "execution_count": 27,
      "metadata": {
        "id": "npw4dDJvwUsZ",
        "colab": {
          "base_uri": "https://localhost:8080/",
          "height": 300
        },
        "outputId": "2ff55dae-7ff3-47ff-83aa-61a63ab383a1"
      },
      "outputs": [
        {
          "output_type": "display_data",
          "data": {
            "text/plain": [
              "<IPython.core.display.Javascript object>"
            ],
            "application/javascript": [
              "google.colab.output.setIframeHeight(0, true, {maxHeight: 300})"
            ]
          },
          "metadata": {}
        },
        {
          "output_type": "stream",
          "name": "stdout",
          "text": [
            "Epoch 1/50\n",
            "187/187 [==============================] - 47s 245ms/step - loss: 3.8601 - accuracy: 0.4418 - val_loss: 4.9987 - val_accuracy: 0.1250\n",
            "Epoch 2/50\n",
            "187/187 [==============================] - 43s 231ms/step - loss: 3.3221 - accuracy: 0.6128 - val_loss: 3.6677 - val_accuracy: 0.4917\n",
            "Epoch 3/50\n",
            "187/187 [==============================] - 41s 218ms/step - loss: 3.1141 - accuracy: 0.6821 - val_loss: 3.4573 - val_accuracy: 0.5458\n",
            "Epoch 4/50\n",
            "187/187 [==============================] - 40s 215ms/step - loss: 2.9469 - accuracy: 0.7349 - val_loss: 3.6121 - val_accuracy: 0.5417\n",
            "Epoch 5/50\n",
            "187/187 [==============================] - 40s 216ms/step - loss: 2.8523 - accuracy: 0.7547 - val_loss: 3.5009 - val_accuracy: 0.5292\n",
            "Epoch 6/50\n",
            "187/187 [==============================] - 40s 216ms/step - loss: 2.7048 - accuracy: 0.7979 - val_loss: 3.3731 - val_accuracy: 0.6250\n",
            "Epoch 7/50\n",
            "187/187 [==============================] - 42s 222ms/step - loss: 2.6341 - accuracy: 0.8173 - val_loss: 3.2209 - val_accuracy: 0.6250\n",
            "Epoch 8/50\n",
            "187/187 [==============================] - 40s 215ms/step - loss: 2.5626 - accuracy: 0.8290 - val_loss: 3.1448 - val_accuracy: 0.6458\n",
            "Epoch 9/50\n",
            "187/187 [==============================] - 40s 215ms/step - loss: 2.4999 - accuracy: 0.8477 - val_loss: 3.3261 - val_accuracy: 0.5875\n",
            "Epoch 10/50\n",
            "187/187 [==============================] - 40s 216ms/step - loss: 2.4233 - accuracy: 0.8621 - val_loss: 3.1097 - val_accuracy: 0.6667\n",
            "Epoch 11/50\n",
            "187/187 [==============================] - 42s 223ms/step - loss: 2.3705 - accuracy: 0.8725 - val_loss: 2.8608 - val_accuracy: 0.7333\n",
            "Epoch 12/50\n",
            "187/187 [==============================] - 40s 214ms/step - loss: 2.2997 - accuracy: 0.8912 - val_loss: 2.9699 - val_accuracy: 0.6583\n",
            "Epoch 13/50\n",
            "187/187 [==============================] - 40s 214ms/step - loss: 2.2746 - accuracy: 0.8899 - val_loss: 2.9212 - val_accuracy: 0.7167\n",
            "Epoch 14/50\n",
            "187/187 [==============================] - 41s 220ms/step - loss: 2.2218 - accuracy: 0.9006 - val_loss: 3.0650 - val_accuracy: 0.6667\n",
            "Epoch 15/50\n",
            "187/187 [==============================] - 45s 238ms/step - loss: 2.1813 - accuracy: 0.9090 - val_loss: 2.8815 - val_accuracy: 0.7167\n",
            "Epoch 16/50\n",
            "187/187 [==============================] - 40s 215ms/step - loss: 2.1499 - accuracy: 0.9127 - val_loss: 2.8843 - val_accuracy: 0.7250\n",
            "Epoch 17/50\n",
            "187/187 [==============================] - 41s 220ms/step - loss: 2.1016 - accuracy: 0.9143 - val_loss: 2.6084 - val_accuracy: 0.7875\n",
            "Epoch 18/50\n",
            "187/187 [==============================] - 41s 217ms/step - loss: 2.0631 - accuracy: 0.9173 - val_loss: 2.7722 - val_accuracy: 0.7500\n",
            "Epoch 19/50\n",
            "187/187 [==============================] - 40s 214ms/step - loss: 2.0544 - accuracy: 0.9197 - val_loss: 2.7670 - val_accuracy: 0.7500\n",
            "Epoch 20/50\n",
            "187/187 [==============================] - 41s 219ms/step - loss: 2.0303 - accuracy: 0.9177 - val_loss: 2.7320 - val_accuracy: 0.7167\n",
            "Epoch 21/50\n",
            "187/187 [==============================] - 40s 214ms/step - loss: 1.9548 - accuracy: 0.9351 - val_loss: 2.6557 - val_accuracy: 0.7875\n",
            "Epoch 22/50\n",
            "187/187 [==============================] - 40s 214ms/step - loss: 1.9274 - accuracy: 0.9411 - val_loss: 2.6378 - val_accuracy: 0.7625\n",
            "Epoch 23/50\n",
            "187/187 [==============================] - 40s 214ms/step - loss: 1.9178 - accuracy: 0.9321 - val_loss: 2.5927 - val_accuracy: 0.7208\n",
            "Epoch 24/50\n",
            "187/187 [==============================] - 42s 222ms/step - loss: 1.8918 - accuracy: 0.9337 - val_loss: 2.7439 - val_accuracy: 0.7500\n",
            "Epoch 25/50\n",
            "187/187 [==============================] - 40s 216ms/step - loss: 1.8411 - accuracy: 0.9411 - val_loss: 2.5241 - val_accuracy: 0.7583\n",
            "Epoch 26/50\n",
            "187/187 [==============================] - 41s 217ms/step - loss: 1.8027 - accuracy: 0.9511 - val_loss: 3.2591 - val_accuracy: 0.6167\n",
            "Epoch 27/50\n",
            "187/187 [==============================] - 40s 215ms/step - loss: 1.7979 - accuracy: 0.9424 - val_loss: 2.9022 - val_accuracy: 0.7167\n",
            "Epoch 28/50\n",
            "187/187 [==============================] - 40s 215ms/step - loss: 1.7905 - accuracy: 0.9391 - val_loss: 2.7875 - val_accuracy: 0.7292\n",
            "Epoch 29/50\n",
            "187/187 [==============================] - 42s 223ms/step - loss: 1.7324 - accuracy: 0.9535 - val_loss: 2.6835 - val_accuracy: 0.7250\n",
            "Epoch 30/50\n",
            "187/187 [==============================] - 41s 217ms/step - loss: 1.7275 - accuracy: 0.9491 - val_loss: 2.5386 - val_accuracy: 0.7500\n",
            "Epoch 31/50\n",
            "187/187 [==============================] - 41s 217ms/step - loss: 1.6741 - accuracy: 0.9595 - val_loss: 2.6551 - val_accuracy: 0.6875\n",
            "Epoch 32/50\n",
            "187/187 [==============================] - 42s 226ms/step - loss: 1.6655 - accuracy: 0.9562 - val_loss: 2.3754 - val_accuracy: 0.7417\n",
            "Epoch 33/50\n",
            "187/187 [==============================] - 40s 214ms/step - loss: 1.6458 - accuracy: 0.9575 - val_loss: 2.4064 - val_accuracy: 0.7667\n",
            "Epoch 34/50\n",
            "187/187 [==============================] - 40s 216ms/step - loss: 1.5974 - accuracy: 0.9649 - val_loss: 2.3977 - val_accuracy: 0.7875\n",
            "Epoch 35/50\n",
            "187/187 [==============================] - 41s 221ms/step - loss: 1.5932 - accuracy: 0.9592 - val_loss: 3.0262 - val_accuracy: 0.6583\n",
            "Epoch 36/50\n",
            "187/187 [==============================] - 40s 215ms/step - loss: 1.5818 - accuracy: 0.9588 - val_loss: 2.4192 - val_accuracy: 0.7375\n",
            "Epoch 37/50\n",
            "187/187 [==============================] - 40s 215ms/step - loss: 1.5477 - accuracy: 0.9596 - val_loss: 2.2384 - val_accuracy: 0.7875\n",
            "Epoch 38/50\n",
            "187/187 [==============================] - 42s 225ms/step - loss: 1.5472 - accuracy: 0.9565 - val_loss: 2.4443 - val_accuracy: 0.7250\n",
            "Epoch 39/50\n",
            "187/187 [==============================] - 40s 215ms/step - loss: 1.4901 - accuracy: 0.9672 - val_loss: 2.2341 - val_accuracy: 0.7667\n",
            "Epoch 40/50\n",
            "187/187 [==============================] - 40s 215ms/step - loss: 1.4868 - accuracy: 0.9639 - val_loss: 2.4421 - val_accuracy: 0.7458\n",
            "Epoch 41/50\n",
            "187/187 [==============================] - 40s 216ms/step - loss: 1.4748 - accuracy: 0.9608 - val_loss: 2.3398 - val_accuracy: 0.7792\n",
            "Epoch 42/50\n",
            "187/187 [==============================] - 40s 216ms/step - loss: 1.4504 - accuracy: 0.9649 - val_loss: 2.1081 - val_accuracy: 0.8167\n",
            "Epoch 43/50\n",
            "187/187 [==============================] - 41s 222ms/step - loss: 1.4276 - accuracy: 0.9652 - val_loss: 2.4266 - val_accuracy: 0.7417\n",
            "Epoch 44/50\n",
            "187/187 [==============================] - 40s 216ms/step - loss: 1.4049 - accuracy: 0.9692 - val_loss: 2.3148 - val_accuracy: 0.7583\n",
            "Epoch 45/50\n",
            "187/187 [==============================] - 41s 218ms/step - loss: 1.4000 - accuracy: 0.9649 - val_loss: 2.3705 - val_accuracy: 0.7708\n",
            "Epoch 46/50\n",
            "187/187 [==============================] - 40s 215ms/step - loss: 1.3543 - accuracy: 0.9712 - val_loss: 2.4581 - val_accuracy: 0.7083\n",
            "Epoch 47/50\n",
            "187/187 [==============================] - 42s 223ms/step - loss: 1.3382 - accuracy: 0.9719 - val_loss: 2.1536 - val_accuracy: 0.7792\n",
            "Epoch 48/50\n",
            "187/187 [==============================] - 40s 216ms/step - loss: 1.3251 - accuracy: 0.9726 - val_loss: 2.3182 - val_accuracy: 0.7625\n",
            "Epoch 49/50\n",
            "187/187 [==============================] - 40s 215ms/step - loss: 1.3142 - accuracy: 0.9695 - val_loss: 2.0675 - val_accuracy: 0.7875\n",
            "Epoch 50/50\n",
            "187/187 [==============================] - 40s 215ms/step - loss: 1.2826 - accuracy: 0.9746 - val_loss: 2.4482 - val_accuracy: 0.7083\n",
            "Total execution time with PCA is:  0:39:31.967329\n"
          ]
        }
      ],
      "source": [
        "# START COUNTING THE TIME\n",
        "start = datetime.datetime.now()\n",
        "\n",
        "# FIT THE MODEL\n",
        "history_modelV03 = net_modelV03.fit(train_generator, \n",
        "                  validation_data = val_generator, # test_generator\n",
        "                  steps_per_epoch = train_generator.n // train_generator.batch_size,\n",
        "                  validation_steps = val_generator.n // val_generator.batch_size, # test_generator\n",
        "                  epochs=50,\n",
        "                  callbacks = [callback])\n",
        "\n",
        "# STOP COUNTING THE TIME\n",
        "end = datetime.datetime.now()\n",
        "print(\"Total execution time with PCA is: \", end-start)"
      ]
    },
    {
      "cell_type": "code",
      "execution_count": null,
      "metadata": {
        "id": "igB4TxuBwUqP"
      },
      "outputs": [],
      "source": [
        "# Iterazioni (numero al di sotto delle epoche) viene calcolato come shape del training (in termini di lunghezza)/numero di epoche.\n",
        "# Esempio: se lunghezza di training è 1803 la si divide per batch size di 64 e si ottiene 28 iterazioni per epoca! --> to see all \n",
        "# the datapoints it need 28 iterations."
      ]
    },
    {
      "cell_type": "code",
      "execution_count": null,
      "metadata": {
        "id": "-3g731HbVGJp"
      },
      "outputs": [],
      "source": [
        "# SHOW DIFFERENT TRAINING EPOCHS: USE 40/70/100 TRAINING EPOCHS AND SHOW/COMMENT THE RESULTS!\n",
        "# UTILE PER CAPIRE STEPS PER EPOCH AND VALIDATION STEPS: https://datascience.stackexchange.com/questions/47405/what-to-set-in-steps-per-epoch-in-keras-fit-generator"
      ]
    },
    {
      "cell_type": "code",
      "execution_count": 28,
      "metadata": {
        "colab": {
          "base_uri": "https://localhost:8080/",
          "height": 300
        },
        "id": "C2jLcGKxIjSY",
        "outputId": "c5724d66-a1a2-4244-abe4-ef4f471e4e70"
      },
      "outputs": [
        {
          "output_type": "display_data",
          "data": {
            "text/plain": [
              "<IPython.core.display.Javascript object>"
            ],
            "application/javascript": [
              "google.colab.output.setIframeHeight(0, true, {maxHeight: 300})"
            ]
          },
          "metadata": {}
        },
        {
          "output_type": "execute_result",
          "data": {
            "text/plain": [
              "<matplotlib.legend.Legend at 0x7fd8a615c0d0>"
            ]
          },
          "metadata": {},
          "execution_count": 28
        },
        {
          "output_type": "display_data",
          "data": {
            "text/plain": [
              "<Figure size 1080x432 with 2 Axes>"
            ],
            "image/png": "[encoded data removed]"
          },
          "metadata": {
            "needs_background": "light"
          }
        }
      ],
      "source": [
        "# VISUALIZATION OF THE LEARNING CURVES\n",
        "plt.figure(figsize=(15,6))\n",
        "\n",
        "# VISUALIZZIAMO NUOVAMENTE L'OUTPUT IN TERMINI DI LOSS FUNCTION\n",
        "plt.subplot(1, 2, 1)\n",
        "plt.plot(history_modelV03.history['loss'])\n",
        "plt.plot(history_modelV03.history['val_loss'])\n",
        "plt.ylim([0.0, 5.0])\n",
        "plt.xlabel('Epoch')\n",
        "plt.ylabel('Loss')\n",
        "plt.legend(['train', 'valid'])\n",
        "\n",
        "plt.subplot(1, 2, 2)\n",
        "plt.plot(history_modelV03.history['accuracy'])\n",
        "plt.plot(history_modelV03.history['val_accuracy'])\n",
        "plt.ylim([0.0, 1.0])\n",
        "plt.xlabel('Epoch')\n",
        "plt.ylabel('Accuracy')\n",
        "plt.legend(['train', 'valid'])"
      ]
    },
    {
      "cell_type": "markdown",
      "metadata": {
        "id": "RaBg3ww_83dQ"
      },
      "source": [
        "### Performance results Model V03"
      ]
    },
    {
      "cell_type": "code",
      "source": [
        "# SAVE THE TIME NEEDED TO RUN THE ALGORITHM\n",
        "time_duration_modelV03 = end - start\n",
        "print(time_duration_modelV03)"
      ],
      "metadata": {
        "id": "RIa0AvvFc2xf",
        "colab": {
          "base_uri": "https://localhost:8080/",
          "height": 35
        },
        "outputId": "66807017-10e8-4580-ed3d-802b8c6082a1"
      },
      "execution_count": null,
      "outputs": [
        {
          "output_type": "display_data",
          "data": {
            "text/plain": [
              "<IPython.core.display.Javascript object>"
            ],
            "application/javascript": [
              "google.colab.output.setIframeHeight(0, true, {maxHeight: 300})"
            ]
          },
          "metadata": {}
        },
        {
          "output_type": "stream",
          "name": "stdout",
          "text": [
            "0:17:07.901522\n"
          ]
        }
      ]
    },
    {
      "cell_type": "code",
      "source": [
        "# GET THE MINIMUM ACCURACY, THE MAXIMUM ACCURACY, THE MINIMUM LOSS, THE MAXIMUM LOSS AND SAVE THEM IN VARIABLES.\n",
        "# THEN CREATE A DATAFRAME AT THE END WHERE YOU CAN COMPARE DIFFERENT MODELS WITH IT!\n",
        "\n",
        "# LOSS/VAL LOSS\n",
        "modelV03_minLoss = min(history_modelV03.history['loss'])\n",
        "modelV03_maxLoss = max(history_modelV03.history['loss'])\n",
        "modelV03_minValLoss = min(history_modelV03.history['val_loss'])\n",
        "modelV03_maxValLoss = max(history_modelV03.history['val_loss'])\n",
        "\n",
        "# ACCURACY/VAL ACCURACY\n",
        "modelV03_minAccuracy = min(history_modelV03.history['accuracy'])\n",
        "modelV03_maxAccuracy = max(history_modelV03.history['accuracy'])\n",
        "modelV03_minValAccuracy = min(history_modelV03.history['val_accuracy'])\n",
        "modelV03_maxValAccuracy = max(history_modelV03.history['val_accuracy'])\n",
        "\n",
        "# CREATE THE DATAFRAME\n",
        "modelV03_loss_accuracy = pd.DataFrame({\"minLoss\": [modelV03_minLoss],\n",
        "                                       \"maxloss\": [modelV03_maxLoss],\n",
        "                                       \"minValLoss\": [modelV03_minValLoss],\n",
        "                                       \"maxValLoss\": [modelV03_maxValLoss],\n",
        "                                       \"minAccuracy\": [modelV03_minAccuracy],\n",
        "                                       \"maxAccuracy\": [modelV03_maxAccuracy],\n",
        "                                       \"minValAccuracy\": [modelV03_minValAccuracy],\n",
        "                                       \"maxValAccuracy\": [modelV03_maxValAccuracy]}).T\n",
        "\n",
        "# CHANGE THE FIRST COLUMN NAME\n",
        "modelV03_loss_accuracy = modelV03_loss_accuracy.rename(columns={0: 'modelV03'})\n",
        "# CHANGE THE INDEX NAME\n",
        "modelV03_loss_accuracy.index.names = ['Performance']\n",
        "modelV03_loss_accuracy"
      ],
      "metadata": {
        "colab": {
          "base_uri": "https://localhost:8080/",
          "height": 300
        },
        "id": "AmZGo-bHiWkN",
        "outputId": "17268e88-992c-4dee-cad2-2c59be441ab2"
      },
      "execution_count": null,
      "outputs": [
        {
          "output_type": "display_data",
          "data": {
            "text/plain": [
              "<IPython.core.display.Javascript object>"
            ],
            "application/javascript": [
              "google.colab.output.setIframeHeight(0, true, {maxHeight: 300})"
            ]
          },
          "metadata": {}
        },
        {
          "output_type": "execute_result",
          "data": {
            "text/plain": [
              "                modelV03\n",
              "Performance             \n",
              "minLoss         1.321285\n",
              "maxloss         3.802938\n",
              "minValLoss      2.197832\n",
              "maxValLoss      4.370973\n",
              "minAccuracy     0.456158\n",
              "maxAccuracy     0.971218\n",
              "minValAccuracy  0.187500\n",
              "maxValAccuracy  0.808333"
            ],
            "text/html": [
              "\n",
              "  <div id=\"df-7ae1ada6-2ff9-4b7e-97a1-e9155427598e\">\n",
              "    <div class=\"colab-df-container\">\n",
              "      <div>\n",
              "<style scoped>\n",
              "    .dataframe tbody tr th:only-of-type {\n",
              "        vertical-align: middle;\n",
              "    }\n",
              "\n",
              "    .dataframe tbody tr th {\n",
              "        vertical-align: top;\n",
              "    }\n",
              "\n",
              "    .dataframe thead th {\n",
              "        text-align: right;\n",
              "    }\n",
              "</style>\n",
              "<table border=\"1\" class=\"dataframe\">\n",
              "  <thead>\n",
              "    <tr style=\"text-align: right;\">\n",
              "      <th></th>\n",
              "      <th>modelV03</th>\n",
              "    </tr>\n",
              "    <tr>\n",
              "      <th>Performance</th>\n",
              "      <th></th>\n",
              "    </tr>\n",
              "  </thead>\n",
              "  <tbody>\n",
              "    <tr>\n",
              "      <th>minLoss</th>\n",
              "      <td>1.321285</td>\n",
              "    </tr>\n",
              "    <tr>\n",
              "      <th>maxloss</th>\n",
              "      <td>3.802938</td>\n",
              "    </tr>\n",
              "    <tr>\n",
              "      <th>minValLoss</th>\n",
              "      <td>2.197832</td>\n",
              "    </tr>\n",
              "    <tr>\n",
              "      <th>maxValLoss</th>\n",
              "      <td>4.370973</td>\n",
              "    </tr>\n",
              "    <tr>\n",
              "      <th>minAccuracy</th>\n",
              "      <td>0.456158</td>\n",
              "    </tr>\n",
              "    <tr>\n",
              "      <th>maxAccuracy</th>\n",
              "      <td>0.971218</td>\n",
              "    </tr>\n",
              "    <tr>\n",
              "      <th>minValAccuracy</th>\n",
              "      <td>0.187500</td>\n",
              "    </tr>\n",
              "    <tr>\n",
              "      <th>maxValAccuracy</th>\n",
              "      <td>0.808333</td>\n",
              "    </tr>\n",
              "  </tbody>\n",
              "</table>\n",
              "</div>\n",
              "      <button class=\"colab-df-convert\" onclick=\"convertToInteractive('df-7ae1ada6-2ff9-4b7e-97a1-e9155427598e')\"\n",
              "              title=\"Convert this dataframe to an interactive table.\"\n",
              "              style=\"display:none;\">\n",
              "        \n",
              "  <svg xmlns=\"http://www.w3.org/2000/svg\" height=\"24px\"viewBox=\"0 0 24 24\"\n",
              "       width=\"24px\">\n",
              "    <path d=\"M0 0h24v24H0V0z\" fill=\"none\"/>\n",
              "    <path d=\"M18.56 5.44l.94 2.06.94-2.06 2.06-.94-2.06-.94-.94-2.06-.94 2.06-2.06.94zm-11 1L8.5 8.5l.94-2.06 2.06-.94-2.06-.94L8.5 2.5l-.94 2.06-2.06.94zm10 10l.94 2.06.94-2.06 2.06-.94-2.06-.94-.94-2.06-.94 2.06-2.06.94z\"/><path d=\"M17.41 7.96l-1.37-1.37c-.4-.4-.92-.59-1.43-.59-.52 0-1.04.2-1.43.59L10.3 9.45l-7.72 7.72c-.78.78-.78 2.05 0 2.83L4 21.41c.39.39.9.59 1.41.59.51 0 1.02-.2 1.41-.59l7.78-7.78 2.81-2.81c.8-.78.8-2.07 0-2.86zM5.41 20L4 18.59l7.72-7.72 1.47 1.35L5.41 20z\"/>\n",
              "  </svg>\n",
              "      </button>\n",
              "      \n",
              "  <style>\n",
              "    .colab-df-container {\n",
              "      display:flex;\n",
              "      flex-wrap:wrap;\n",
              "      gap: 12px;\n",
              "    }\n",
              "\n",
              "    .colab-df-convert {\n",
              "      background-color: #E8F0FE;\n",
              "      border: none;\n",
              "      border-radius: 50%;\n",
              "      cursor: pointer;\n",
              "      display: none;\n",
              "      fill: #1967D2;\n",
              "      height: 32px;\n",
              "      padding: 0 0 0 0;\n",
              "      width: 32px;\n",
              "    }\n",
              "\n",
              "    .colab-df-convert:hover {\n",
              "      background-color: #E2EBFA;\n",
              "      box-shadow: 0px 1px 2px rgba(60, 64, 67, 0.3), 0px 1px 3px 1px rgba(60, 64, 67, 0.15);\n",
              "      fill: #174EA6;\n",
              "    }\n",
              "\n",
              "    [theme=dark] .colab-df-convert {\n",
              "      background-color: #3B4455;\n",
              "      fill: #D2E3FC;\n",
              "    }\n",
              "\n",
              "    [theme=dark] .colab-df-convert:hover {\n",
              "      background-color: #434B5C;\n",
              "      box-shadow: 0px 1px 3px 1px rgba(0, 0, 0, 0.15);\n",
              "      filter: drop-shadow(0px 1px 2px rgba(0, 0, 0, 0.3));\n",
              "      fill: #FFFFFF;\n",
              "    }\n",
              "  </style>\n",
              "\n",
              "      <script>\n",
              "        const buttonEl =\n",
              "          document.querySelector('#df-7ae1ada6-2ff9-4b7e-97a1-e9155427598e button.colab-df-convert');\n",
              "        buttonEl.style.display =\n",
              "          google.colab.kernel.accessAllowed ? 'block' : 'none';\n",
              "\n",
              "        async function convertToInteractive(key) {\n",
              "          const element = document.querySelector('#df-7ae1ada6-2ff9-4b7e-97a1-e9155427598e');\n",
              "          const dataTable =\n",
              "            await google.colab.kernel.invokeFunction('convertToInteractive',\n",
              "                                                     [key], {});\n",
              "          if (!dataTable) return;\n",
              "\n",
              "          const docLinkHtml = 'Like what you see? Visit the ' +\n",
              "            '<a target=\"_blank\" href=https://colab.research.google.com/notebooks/data_table.ipynb>data table notebook</a>'\n",
              "            + ' to learn more about interactive tables.';\n",
              "          element.innerHTML = '';\n",
              "          dataTable['output_type'] = 'display_data';\n",
              "          await google.colab.output.renderOutput(dataTable, element);\n",
              "          const docLink = document.createElement('div');\n",
              "          docLink.innerHTML = docLinkHtml;\n",
              "          element.appendChild(docLink);\n",
              "        }\n",
              "      </script>\n",
              "    </div>\n",
              "  </div>\n",
              "  "
            ]
          },
          "metadata": {},
          "execution_count": 44
        }
      ]
    },
    {
      "cell_type": "markdown",
      "metadata": {
        "id": "xpgoFdJcJKwp"
      },
      "source": [
        "EXAMPLE OF NOTES THAT YOU CAN ADD:\n",
        "\n",
        "Note:\n",
        "\n",
        "- The increased complexity does not appear to have improved the capability of the network.\n",
        "- It has, however, impacted the validation accuracy curve, which is now converging faster.\n",
        "- We will now address the current behavior to implement an early stopping mechanism."
      ]
    },
    {
      "cell_type": "markdown",
      "metadata": {
        "id": "PvIkA-QhWT7w"
      },
      "source": [
        "Check the following:\n",
        "- https://stackoverflow.com/questions/49017331/keras-flow-from-directorydirectory\n",
        "- https://studymachinelearning.com/keras-imagedatagenerator-with-flow_from_directory/"
      ]
    },
    {
      "cell_type": "markdown",
      "metadata": {
        "id": "1S5qxgwm1ABU"
      },
      "source": [
        "---------------------"
      ]
    },
    {
      "cell_type": "markdown",
      "metadata": {
        "id": "8D1McZOT6nEt"
      },
      "source": [
        "## 1.2.4 MODEL V04 - Training the model with Data Agmentation from keras (regularization and higher dropout) - Deeper model"
      ]
    },
    {
      "cell_type": "code",
      "execution_count": null,
      "metadata": {
        "id": "gRZSHH8v76FP",
        "colab": {
          "base_uri": "https://localhost:8080/",
          "height": 300
        },
        "outputId": "9d914b50-c675-400d-fa13-4998e7c62bbb"
      },
      "outputs": [
        {
          "output_type": "display_data",
          "data": {
            "text/plain": [
              "<IPython.core.display.Javascript object>"
            ],
            "application/javascript": [
              "google.colab.output.setIframeHeight(0, true, {maxHeight: 300})"
            ]
          },
          "metadata": {}
        },
        {
          "output_type": "stream",
          "name": "stdout",
          "text": [
            "Model: \"model_5\"\n",
            "_________________________________________________________________\n",
            " Layer (type)                Output Shape              Param #   \n",
            "=================================================================\n",
            " input_6 (InputLayer)        [(None, 96, 96, 3)]       0         \n",
            "                                                                 \n",
            " conv2d_17 (Conv2D)          (None, 96, 96, 32)        896       \n",
            "                                                                 \n",
            " batch_normalization_13 (Bat  (None, 96, 96, 32)       128       \n",
            " chNormalization)                                                \n",
            "                                                                 \n",
            " activation_17 (Activation)  (None, 96, 96, 32)        0         \n",
            "                                                                 \n",
            " max_pooling2d_12 (MaxPoolin  (None, 32, 32, 32)       0         \n",
            " g2D)                                                            \n",
            "                                                                 \n",
            " conv2d_18 (Conv2D)          (None, 32, 32, 32)        9248      \n",
            "                                                                 \n",
            " batch_normalization_14 (Bat  (None, 32, 32, 32)       128       \n",
            " chNormalization)                                                \n",
            "                                                                 \n",
            " activation_18 (Activation)  (None, 32, 32, 32)        0         \n",
            "                                                                 \n",
            " max_pooling2d_13 (MaxPoolin  (None, 11, 11, 32)       0         \n",
            " g2D)                                                            \n",
            "                                                                 \n",
            " conv2d_19 (Conv2D)          (None, 11, 11, 64)        18496     \n",
            "                                                                 \n",
            " batch_normalization_15 (Bat  (None, 11, 11, 64)       256       \n",
            " chNormalization)                                                \n",
            "                                                                 \n",
            " activation_19 (Activation)  (None, 11, 11, 64)        0         \n",
            "                                                                 \n",
            " max_pooling2d_14 (MaxPoolin  (None, 4, 4, 64)         0         \n",
            " g2D)                                                            \n",
            "                                                                 \n",
            " conv2d_20 (Conv2D)          (None, 4, 4, 64)          36928     \n",
            "                                                                 \n",
            " batch_normalization_16 (Bat  (None, 4, 4, 64)         256       \n",
            " chNormalization)                                                \n",
            "                                                                 \n",
            " activation_20 (Activation)  (None, 4, 4, 64)          0         \n",
            "                                                                 \n",
            " max_pooling2d_15 (MaxPoolin  (None, 2, 2, 64)         0         \n",
            " g2D)                                                            \n",
            "                                                                 \n",
            " conv2d_21 (Conv2D)          (None, 2, 2, 128)         73856     \n",
            "                                                                 \n",
            " batch_normalization_17 (Bat  (None, 2, 2, 128)        512       \n",
            " chNormalization)                                                \n",
            "                                                                 \n",
            " activation_21 (Activation)  (None, 2, 2, 128)         0         \n",
            "                                                                 \n",
            " max_pooling2d_16 (MaxPoolin  (None, 1, 1, 128)        0         \n",
            " g2D)                                                            \n",
            "                                                                 \n",
            " conv2d_22 (Conv2D)          (None, 1, 1, 128)         147584    \n",
            "                                                                 \n",
            " batch_normalization_18 (Bat  (None, 1, 1, 128)        512       \n",
            " chNormalization)                                                \n",
            "                                                                 \n",
            " activation_22 (Activation)  (None, 1, 1, 128)         0         \n",
            "                                                                 \n",
            " max_pooling2d_17 (MaxPoolin  (None, 1, 1, 128)        0         \n",
            " g2D)                                                            \n",
            "                                                                 \n",
            " conv2d_23 (Conv2D)          (None, 1, 1, 512)         590336    \n",
            "                                                                 \n",
            " batch_normalization_19 (Bat  (None, 1, 1, 512)        2048      \n",
            " chNormalization)                                                \n",
            "                                                                 \n",
            " activation_23 (Activation)  (None, 1, 1, 512)         0         \n",
            "                                                                 \n",
            " global_max_pooling2d_5 (Glo  (None, 512)              0         \n",
            " balMaxPooling2D)                                                \n",
            "                                                                 \n",
            " flatten_2 (Flatten)         (None, 512)               0         \n",
            "                                                                 \n",
            " dense_8 (Dense)             (None, 512)               262656    \n",
            "                                                                 \n",
            " activation_24 (Activation)  (None, 512)               0         \n",
            "                                                                 \n",
            " dropout_2 (Dropout)         (None, 512)               0         \n",
            "                                                                 \n",
            " dense_9 (Dense)             (None, 512)               262656    \n",
            "                                                                 \n",
            " dense_10 (Dense)            (None, 10)                5130      \n",
            "                                                                 \n",
            "=================================================================\n",
            "Total params: 1,411,626\n",
            "Trainable params: 1,409,706\n",
            "Non-trainable params: 1,920\n",
            "_________________________________________________________________\n"
          ]
        }
      ],
      "source": [
        "# ARCHITECTURE FOUND AT: https://blog.keras.io/building-powerful-image-classification-models-using-very-little-data.html\n",
        "inputs = keras.Input((SIZE,SIZE,3))\n",
        "\n",
        "x = inputs\n",
        "\n",
        "x = keras.layers.Conv2D(32, 3, padding=\"same\", kernel_initializer=\"he_uniform\", kernel_regularizer=tf.keras.regularizers.l2(0.001))(x)\n",
        "x = keras.layers.BatchNormalization()(x)\n",
        "x = keras.layers.Activation(\"relu\")(x)\n",
        "x = keras.layers.MaxPooling2D(3, strides=3, padding=\"same\")(x)\n",
        "\n",
        "x = keras.layers.Conv2D(32, 3, padding=\"same\", kernel_initializer=\"he_uniform\", kernel_regularizer=tf.keras.regularizers.l2(0.001))(x)\n",
        "x = keras.layers.BatchNormalization()(x)\n",
        "x = keras.layers.Activation(\"relu\")(x)\n",
        "x = keras.layers.MaxPooling2D(3, strides=3, padding=\"same\")(x)\n",
        "\n",
        "x = keras.layers.Conv2D(64, 3, padding=\"same\", kernel_initializer=\"he_uniform\", kernel_regularizer=tf.keras.regularizers.l2(0.001))(x)\n",
        "x = keras.layers.BatchNormalization()(x)\n",
        "x = keras.layers.Activation(\"relu\")(x)\n",
        "x = keras.layers.MaxPooling2D(3, strides=3, padding=\"same\")(x)\n",
        "\n",
        "x = keras.layers.Conv2D(64, 3, padding=\"same\", kernel_initializer=\"he_uniform\", kernel_regularizer=tf.keras.regularizers.l2(0.001))(x)\n",
        "x = keras.layers.BatchNormalization()(x)\n",
        "x = keras.layers.Activation(\"relu\")(x)\n",
        "x = keras.layers.MaxPooling2D(3, strides=3, padding=\"same\")(x)\n",
        "\n",
        "x = keras.layers.Conv2D(128, 3, padding=\"same\", kernel_initializer=\"he_uniform\", kernel_regularizer=tf.keras.regularizers.l2(0.001))(x)\n",
        "x = keras.layers.BatchNormalization()(x)\n",
        "x = keras.layers.Activation(\"relu\")(x)\n",
        "x = keras.layers.MaxPooling2D(3, strides=3, padding=\"same\")(x)\n",
        "\n",
        "x = keras.layers.Conv2D(128, 3, padding=\"same\", kernel_initializer=\"he_uniform\", kernel_regularizer=tf.keras.regularizers.l2(0.001))(x)\n",
        "x = keras.layers.BatchNormalization()(x)\n",
        "x = keras.layers.Activation(\"relu\")(x)\n",
        "x = keras.layers.MaxPooling2D(3, strides=3, padding=\"same\")(x)\n",
        "\n",
        "x = keras.layers.Conv2D(512, 3, padding=\"same\", kernel_initializer=\"he_uniform\", kernel_regularizer=tf.keras.regularizers.l2(0.001))(x)\n",
        "x = keras.layers.BatchNormalization()(x)\n",
        "x = keras.layers.Activation(\"relu\")(x)\n",
        "x = keras.layers.GlobalMaxPooling2D()(x)\n",
        "\n",
        "# the model so far outputs 3D feature maps (height, width, features)\n",
        "\n",
        "# FLATTEN AND ADD DROPOUT\n",
        "x = tf.keras.layers.Flatten()(x) # this converts our 3D feature maps to 1D feature vectors\n",
        "x = keras.layers.Dense(512, activation=\"relu\", kernel_regularizer=tf.keras.regularizers.l2(0.001))(x)\n",
        "x = keras.layers.Activation(\"relu\")(x)\n",
        "x = keras.layers.Dropout(.20)(x)\n",
        "x = keras.layers.Dense(512, activation=\"relu\", kernel_regularizer=tf.keras.regularizers.l2(0.001))(x)\n",
        "\n",
        "outputs = keras.layers.Dense(num_classes, activation=\"softmax\", kernel_regularizer=tf.keras.regularizers.l2(0.001))(x)\n",
        "\n",
        "net_modelv04 = keras.Model(inputs, outputs)\n",
        "\n",
        "net_modelv04.summary()"
      ]
    },
    {
      "cell_type": "markdown",
      "source": [
        "<figure>\n",
        "<center>\n",
        "<img src='https://drive.google.com/uc?export=view&id=1Zwvj-ZS4q82tea6xj7WHNNqhw_uOzd5U' />\n",
        "<figcaption>Architecture ModelV03</figcaption></center>\n",
        "</figure>"
      ],
      "metadata": {
        "id": "QHADEKR93_wt"
      }
    },
    {
      "cell_type": "code",
      "execution_count": null,
      "metadata": {
        "id": "JcGjJzW16rbb",
        "colab": {
          "base_uri": "https://localhost:8080/",
          "height": 17
        },
        "outputId": "3327e606-16cc-434d-d11d-6c941af68eaf"
      },
      "outputs": [
        {
          "output_type": "display_data",
          "data": {
            "text/plain": [
              "<IPython.core.display.Javascript object>"
            ],
            "application/javascript": [
              "google.colab.output.setIframeHeight(0, true, {maxHeight: 300})"
            ]
          },
          "metadata": {}
        }
      ],
      "source": [
        "net_modelv04.compile(loss=keras.losses.categorical_crossentropy,\n",
        "            optimizer= keras.optimizers.Adam(learning_rate=0.0001),\n",
        "            metrics=['accuracy'])"
      ]
    },
    {
      "cell_type": "code",
      "execution_count": null,
      "metadata": {
        "colab": {
          "base_uri": "https://localhost:8080/",
          "height": 300
        },
        "id": "zj50d9Ea6sCU",
        "outputId": "82d6eb2d-1c76-478f-f465-f1271fff272b"
      },
      "outputs": [
        {
          "output_type": "display_data",
          "data": {
            "text/plain": [
              "<IPython.core.display.Javascript object>"
            ],
            "application/javascript": [
              "google.colab.output.setIframeHeight(0, true, {maxHeight: 300})"
            ]
          },
          "metadata": {}
        },
        {
          "output_type": "stream",
          "name": "stdout",
          "text": [
            "Epoch 1/50\n",
            "187/187 [==============================] - 18s 87ms/step - loss: 4.3858 - accuracy: 0.3752 - val_loss: 4.5087 - val_accuracy: 0.1094\n",
            "Epoch 2/50\n",
            "187/187 [==============================] - 16s 84ms/step - loss: 3.4510 - accuracy: 0.5284 - val_loss: 3.7645 - val_accuracy: 0.3672\n",
            "Epoch 3/50\n",
            "187/187 [==============================] - 17s 89ms/step - loss: 3.0286 - accuracy: 0.5997 - val_loss: 3.4219 - val_accuracy: 0.4453\n",
            "Epoch 4/50\n",
            "187/187 [==============================] - 16s 84ms/step - loss: 2.8168 - accuracy: 0.6402 - val_loss: 3.4943 - val_accuracy: 0.3906\n",
            "Epoch 5/50\n",
            "187/187 [==============================] - 16s 84ms/step - loss: 2.6481 - accuracy: 0.6857 - val_loss: 3.4253 - val_accuracy: 0.4453\n",
            "Epoch 6/50\n",
            "187/187 [==============================] - 16s 84ms/step - loss: 2.5365 - accuracy: 0.7075 - val_loss: 3.2187 - val_accuracy: 0.4609\n",
            "Epoch 7/50\n",
            "187/187 [==============================] - 16s 84ms/step - loss: 2.4471 - accuracy: 0.7279 - val_loss: 3.2284 - val_accuracy: 0.4844\n",
            "Epoch 8/50\n",
            "187/187 [==============================] - 16s 84ms/step - loss: 2.3849 - accuracy: 0.7480 - val_loss: 3.3924 - val_accuracy: 0.4688\n",
            "Epoch 9/50\n",
            "187/187 [==============================] - 16s 83ms/step - loss: 2.3292 - accuracy: 0.7520 - val_loss: 2.9472 - val_accuracy: 0.5469\n",
            "Epoch 10/50\n",
            "187/187 [==============================] - 16s 83ms/step - loss: 2.2538 - accuracy: 0.7771 - val_loss: 3.0466 - val_accuracy: 0.5547\n",
            "Epoch 11/50\n",
            "187/187 [==============================] - 16s 84ms/step - loss: 2.1908 - accuracy: 0.7888 - val_loss: 3.3371 - val_accuracy: 0.5625\n",
            "Epoch 12/50\n",
            "187/187 [==============================] - 17s 90ms/step - loss: 2.1506 - accuracy: 0.8066 - val_loss: 3.1533 - val_accuracy: 0.5000\n",
            "Epoch 13/50\n",
            "187/187 [==============================] - 16s 86ms/step - loss: 2.0999 - accuracy: 0.8169 - val_loss: 2.9690 - val_accuracy: 0.5547\n",
            "Epoch 14/50\n",
            "187/187 [==============================] - 16s 84ms/step - loss: 2.0322 - accuracy: 0.8310 - val_loss: 3.0733 - val_accuracy: 0.5859\n",
            "Epoch 15/50\n",
            "187/187 [==============================] - 16s 84ms/step - loss: 2.0134 - accuracy: 0.8310 - val_loss: 3.0364 - val_accuracy: 0.5469\n",
            "Epoch 16/50\n",
            "187/187 [==============================] - 16s 86ms/step - loss: 1.9862 - accuracy: 0.8260 - val_loss: 2.8624 - val_accuracy: 0.5625\n",
            "Epoch 17/50\n",
            "187/187 [==============================] - 16s 84ms/step - loss: 1.9252 - accuracy: 0.8521 - val_loss: 2.9102 - val_accuracy: 0.6094\n",
            "Epoch 18/50\n",
            "187/187 [==============================] - 16s 84ms/step - loss: 1.8703 - accuracy: 0.8571 - val_loss: 2.9932 - val_accuracy: 0.6172\n",
            "Epoch 19/50\n",
            "187/187 [==============================] - 16s 83ms/step - loss: 1.8740 - accuracy: 0.8514 - val_loss: 2.8012 - val_accuracy: 0.6172\n",
            "Epoch 20/50\n",
            "187/187 [==============================] - 16s 86ms/step - loss: 1.7882 - accuracy: 0.8782 - val_loss: 2.8131 - val_accuracy: 0.6328\n",
            "Epoch 21/50\n",
            "187/187 [==============================] - 16s 84ms/step - loss: 1.8139 - accuracy: 0.8611 - val_loss: 2.7757 - val_accuracy: 0.5781\n",
            "Epoch 22/50\n",
            "187/187 [==============================] - 16s 88ms/step - loss: 1.7853 - accuracy: 0.8671 - val_loss: 2.7464 - val_accuracy: 0.6016\n",
            "Epoch 23/50\n",
            "187/187 [==============================] - 16s 84ms/step - loss: 1.7339 - accuracy: 0.8795 - val_loss: 2.7423 - val_accuracy: 0.6094\n",
            "Epoch 24/50\n",
            "187/187 [==============================] - 16s 84ms/step - loss: 1.7117 - accuracy: 0.8892 - val_loss: 2.7186 - val_accuracy: 0.5859\n",
            "Epoch 25/50\n",
            "187/187 [==============================] - 16s 85ms/step - loss: 1.7100 - accuracy: 0.8802 - val_loss: 2.6273 - val_accuracy: 0.6172\n",
            "Epoch 26/50\n",
            "187/187 [==============================] - 16s 83ms/step - loss: 1.6457 - accuracy: 0.8909 - val_loss: 2.8297 - val_accuracy: 0.5625\n",
            "Epoch 27/50\n",
            "187/187 [==============================] - 16s 85ms/step - loss: 1.6246 - accuracy: 0.8979 - val_loss: 2.7144 - val_accuracy: 0.5703\n",
            "Epoch 28/50\n",
            "187/187 [==============================] - 16s 86ms/step - loss: 1.6157 - accuracy: 0.8896 - val_loss: 2.6749 - val_accuracy: 0.5859\n",
            "Epoch 29/50\n",
            "187/187 [==============================] - 16s 85ms/step - loss: 1.5968 - accuracy: 0.8979 - val_loss: 2.4872 - val_accuracy: 0.6250\n",
            "Epoch 30/50\n",
            "187/187 [==============================] - 16s 86ms/step - loss: 1.5809 - accuracy: 0.8899 - val_loss: 2.8138 - val_accuracy: 0.5625\n",
            "Epoch 31/50\n",
            "187/187 [==============================] - 16s 84ms/step - loss: 1.5372 - accuracy: 0.9039 - val_loss: 2.6761 - val_accuracy: 0.6484\n",
            "Epoch 32/50\n",
            "187/187 [==============================] - 17s 90ms/step - loss: 1.5284 - accuracy: 0.8993 - val_loss: 2.5763 - val_accuracy: 0.6328\n",
            "Epoch 33/50\n",
            "187/187 [==============================] - 16s 83ms/step - loss: 1.4822 - accuracy: 0.9106 - val_loss: 3.1612 - val_accuracy: 0.5078\n",
            "Epoch 34/50\n",
            "187/187 [==============================] - 16s 84ms/step - loss: 1.4844 - accuracy: 0.9093 - val_loss: 2.8379 - val_accuracy: 0.6016\n",
            "Epoch 35/50\n",
            "187/187 [==============================] - 16s 85ms/step - loss: 1.4592 - accuracy: 0.9116 - val_loss: 2.7388 - val_accuracy: 0.6328\n",
            "Epoch 36/50\n",
            "187/187 [==============================] - 16s 86ms/step - loss: 1.4412 - accuracy: 0.9100 - val_loss: 2.5393 - val_accuracy: 0.6406\n",
            "Epoch 37/50\n",
            "187/187 [==============================] - 16s 87ms/step - loss: 1.4189 - accuracy: 0.9160 - val_loss: 2.8300 - val_accuracy: 0.6250\n",
            "Epoch 38/50\n",
            "187/187 [==============================] - 16s 86ms/step - loss: 1.4183 - accuracy: 0.9106 - val_loss: 2.6086 - val_accuracy: 0.6953\n",
            "Epoch 39/50\n",
            "187/187 [==============================] - 16s 87ms/step - loss: 1.3759 - accuracy: 0.9220 - val_loss: 2.7765 - val_accuracy: 0.6406\n",
            "Epoch 40/50\n",
            "187/187 [==============================] - 16s 86ms/step - loss: 1.3849 - accuracy: 0.9130 - val_loss: 2.8123 - val_accuracy: 0.6406\n",
            "Epoch 41/50\n",
            "187/187 [==============================] - 17s 92ms/step - loss: 1.3373 - accuracy: 0.9257 - val_loss: 2.5716 - val_accuracy: 0.6328\n",
            "Epoch 42/50\n",
            "187/187 [==============================] - 16s 87ms/step - loss: 1.3387 - accuracy: 0.9183 - val_loss: 2.2954 - val_accuracy: 0.6719\n",
            "Epoch 43/50\n",
            "187/187 [==============================] - 16s 85ms/step - loss: 1.3076 - accuracy: 0.9280 - val_loss: 2.3348 - val_accuracy: 0.6719\n",
            "Epoch 44/50\n",
            "187/187 [==============================] - 16s 86ms/step - loss: 1.2701 - accuracy: 0.9361 - val_loss: 2.5975 - val_accuracy: 0.6250\n",
            "Epoch 45/50\n",
            "187/187 [==============================] - 16s 86ms/step - loss: 1.2748 - accuracy: 0.9277 - val_loss: 2.2800 - val_accuracy: 0.7109\n",
            "Epoch 46/50\n",
            "187/187 [==============================] - 15s 82ms/step - loss: 1.2607 - accuracy: 0.9287 - val_loss: 2.3617 - val_accuracy: 0.6875\n",
            "Epoch 47/50\n",
            "187/187 [==============================] - 16s 84ms/step - loss: 1.2659 - accuracy: 0.9240 - val_loss: 2.4159 - val_accuracy: 0.6484\n",
            "Epoch 48/50\n",
            "187/187 [==============================] - 16s 83ms/step - loss: 1.2406 - accuracy: 0.9277 - val_loss: 2.2540 - val_accuracy: 0.6875\n",
            "Epoch 49/50\n",
            "187/187 [==============================] - 16s 83ms/step - loss: 1.2132 - accuracy: 0.9347 - val_loss: 2.2388 - val_accuracy: 0.6875\n",
            "Epoch 50/50\n",
            "187/187 [==============================] - 16s 84ms/step - loss: 1.1976 - accuracy: 0.9367 - val_loss: 2.6385 - val_accuracy: 0.6250\n",
            "Total execution time with PCA is:  0:14:54.412495\n"
          ]
        }
      ],
      "source": [
        "# START COUNTING THE TIME\n",
        "start = datetime.datetime.now()\n",
        "\n",
        "history_modelv04 = net_modelv04.fit(\n",
        "    train_generator,\n",
        "    steps_per_epoch = train_generator.n // train_generator.batch_size,\n",
        "    epochs=50,\n",
        "    validation_data = test_generator,\n",
        "    validation_steps = test_generator.n // test_generator.batch_size,\n",
        "    callbacks = [callback])\n",
        "\n",
        "# STOP COUNTING THE TIME\n",
        "end = datetime.datetime.now()\n",
        "print(\"Total execution time with PCA is: \", end-start)\n",
        "\n",
        "# model_keras.save_weights('first_try.h5')  # always save your weights after training or during training"
      ]
    },
    {
      "cell_type": "code",
      "execution_count": null,
      "metadata": {
        "id": "q1EWO0nLMNTi",
        "colab": {
          "base_uri": "https://localhost:8080/",
          "height": 300
        },
        "outputId": "46ba920c-c7a5-4a7e-d37d-8a5053060b31"
      },
      "outputs": [
        {
          "output_type": "display_data",
          "data": {
            "text/plain": [
              "<IPython.core.display.Javascript object>"
            ],
            "application/javascript": [
              "google.colab.output.setIframeHeight(0, true, {maxHeight: 300})"
            ]
          },
          "metadata": {}
        },
        {
          "output_type": "execute_result",
          "data": {
            "text/plain": [
              "<matplotlib.legend.Legend at 0x7f5550258f70>"
            ]
          },
          "metadata": {},
          "execution_count": 48
        },
        {
          "output_type": "display_data",
          "data": {
            "text/plain": [
              "<Figure size 1080x432 with 2 Axes>"
            ],
            "image/png": "[encoded data removed]"
          },
          "metadata": {
            "needs_background": "light"
          }
        }
      ],
      "source": [
        "# PLOT THEM TOGETHER\n",
        "# Visualization of the learning curves\n",
        "plt.figure(figsize=(15,6))\n",
        "\n",
        "# VISUALIZZIAMO NUOVAMENTE L'OUTPUT IN TERMINI DI LOSS FUNCTION\n",
        "plt.subplot(1, 2, 1)\n",
        "plt.plot(history_modelv04.history['loss'])\n",
        "plt.plot(history_modelv04.history['val_loss'])\n",
        "plt.ylim([0.0, 4.0]) # è difficile da dire a priori\n",
        "plt.xlabel('Epoch')\n",
        "plt.ylabel('Loss')\n",
        "plt.legend(['train', 'valid'])\n",
        "\n",
        "plt.subplot(1, 2, 2)\n",
        "plt.plot(history_modelv04.history['accuracy'])\n",
        "plt.plot(history_modelv04.history['val_accuracy'])\n",
        "plt.ylim([0.0, 1.0]) # 0.5 è il minimo sindacale - dummy classifier fa 50% - fino al massimo 1. \n",
        "plt.xlabel('Epoch')\n",
        "plt.ylabel('Accuracy')\n",
        "plt.legend(['train', 'valid'])"
      ]
    },
    {
      "cell_type": "markdown",
      "source": [
        "### Performance results Model V04"
      ],
      "metadata": {
        "id": "s7oyHL5h6hfz"
      }
    },
    {
      "cell_type": "code",
      "source": [
        "# SAVE THE TIME NEEDED TO RUN THE ALGORITHM\n",
        "time_duration_modelV04 = end - start\n",
        "print(time_duration_modelV04)"
      ],
      "metadata": {
        "id": "1AYJEz5Jc8Kq",
        "colab": {
          "base_uri": "https://localhost:8080/",
          "height": 35
        },
        "outputId": "806e4489-65eb-4d67-b339-c855beb7f1ce"
      },
      "execution_count": null,
      "outputs": [
        {
          "output_type": "display_data",
          "data": {
            "text/plain": [
              "<IPython.core.display.Javascript object>"
            ],
            "application/javascript": [
              "google.colab.output.setIframeHeight(0, true, {maxHeight: 300})"
            ]
          },
          "metadata": {}
        },
        {
          "output_type": "stream",
          "name": "stdout",
          "text": [
            "0:14:54.412495\n"
          ]
        }
      ]
    },
    {
      "cell_type": "code",
      "source": [
        "# GET THE MINIMUM ACCURACY, THE MAXIMUM ACCURACY, THE MINIMUM LOSS, THE MAXIMUM LOSS AND SAVE THEM IN VARIABLES.\n",
        "# THEN CREATE A DATAFRAME AT THE END WHERE YOU CAN COMPARE DIFFERENT MODELS WITH IT!\n",
        "\n",
        "# LOSS/VAL LOSS\n",
        "modelV04_minLoss = min(history_modelv04.history['loss'])\n",
        "modelV04_maxLoss = max(history_modelv04.history['loss'])\n",
        "modelV04_minValLoss = min(history_modelv04.history['val_loss'])\n",
        "modelV04_maxValLoss = max(history_modelv04.history['val_loss'])\n",
        "\n",
        "# ACCURACY/VAL ACCURACY\n",
        "modelV04_minAccuracy = min(history_modelv04.history['accuracy'])\n",
        "modelV04_maxAccuracy = max(history_modelv04.history['accuracy'])\n",
        "modelV04_minValAccuracy = min(history_modelv04.history['val_accuracy'])\n",
        "modelV04_maxValAccuracy = max(history_modelv04.history['val_accuracy'])\n",
        "\n",
        "# CREATE THE DATAFRAME\n",
        "modelV04_loss_accuracy = pd.DataFrame({\"minLoss\": [modelV04_minLoss],\n",
        "                                       \"maxloss\": [modelV04_maxLoss],\n",
        "                                       \"minValLoss\": [modelV04_minValLoss],\n",
        "                                       \"maxValLoss\": [modelV04_maxValLoss],\n",
        "                                       \"minAccuracy\": [modelV04_minAccuracy],\n",
        "                                       \"maxAccuracy\": [modelV04_maxAccuracy],\n",
        "                                       \"minValAccuracy\": [modelV04_minValAccuracy],\n",
        "                                       \"maxValAccuracy\": [modelV04_maxValAccuracy]}).T\n",
        "\n",
        "# CHANGE THE FIRST COLUMN NAME\n",
        "modelV04_loss_accuracy = modelV04_loss_accuracy.rename(columns={0: 'modelV04'})\n",
        "# CHANGE THE INDEX NAME\n",
        "modelV04_loss_accuracy.index.names = ['Performance']\n",
        "modelV04_loss_accuracy"
      ],
      "metadata": {
        "colab": {
          "base_uri": "https://localhost:8080/",
          "height": 300
        },
        "id": "dc2i5Z8NqYbx",
        "outputId": "ffb43bb8-0e0a-44eb-83de-76728ac97ffa"
      },
      "execution_count": null,
      "outputs": [
        {
          "output_type": "display_data",
          "data": {
            "text/plain": [
              "<IPython.core.display.Javascript object>"
            ],
            "application/javascript": [
              "google.colab.output.setIframeHeight(0, true, {maxHeight: 300})"
            ]
          },
          "metadata": {}
        },
        {
          "output_type": "execute_result",
          "data": {
            "text/plain": [
              "                modelV04\n",
              "Performance             \n",
              "minLoss         1.197597\n",
              "maxloss         4.385833\n",
              "minValLoss      2.238805\n",
              "maxValLoss      4.508698\n",
              "minAccuracy     0.375167\n",
              "maxAccuracy     0.936747\n",
              "minValAccuracy  0.109375\n",
              "maxValAccuracy  0.710938"
            ],
            "text/html": [
              "\n",
              "  <div id=\"df-078b162a-e646-4f49-bde9-2baecbf8fabf\">\n",
              "    <div class=\"colab-df-container\">\n",
              "      <div>\n",
              "<style scoped>\n",
              "    .dataframe tbody tr th:only-of-type {\n",
              "        vertical-align: middle;\n",
              "    }\n",
              "\n",
              "    .dataframe tbody tr th {\n",
              "        vertical-align: top;\n",
              "    }\n",
              "\n",
              "    .dataframe thead th {\n",
              "        text-align: right;\n",
              "    }\n",
              "</style>\n",
              "<table border=\"1\" class=\"dataframe\">\n",
              "  <thead>\n",
              "    <tr style=\"text-align: right;\">\n",
              "      <th></th>\n",
              "      <th>modelV04</th>\n",
              "    </tr>\n",
              "    <tr>\n",
              "      <th>Performance</th>\n",
              "      <th></th>\n",
              "    </tr>\n",
              "  </thead>\n",
              "  <tbody>\n",
              "    <tr>\n",
              "      <th>minLoss</th>\n",
              "      <td>1.197597</td>\n",
              "    </tr>\n",
              "    <tr>\n",
              "      <th>maxloss</th>\n",
              "      <td>4.385833</td>\n",
              "    </tr>\n",
              "    <tr>\n",
              "      <th>minValLoss</th>\n",
              "      <td>2.238805</td>\n",
              "    </tr>\n",
              "    <tr>\n",
              "      <th>maxValLoss</th>\n",
              "      <td>4.508698</td>\n",
              "    </tr>\n",
              "    <tr>\n",
              "      <th>minAccuracy</th>\n",
              "      <td>0.375167</td>\n",
              "    </tr>\n",
              "    <tr>\n",
              "      <th>maxAccuracy</th>\n",
              "      <td>0.936747</td>\n",
              "    </tr>\n",
              "    <tr>\n",
              "      <th>minValAccuracy</th>\n",
              "      <td>0.109375</td>\n",
              "    </tr>\n",
              "    <tr>\n",
              "      <th>maxValAccuracy</th>\n",
              "      <td>0.710938</td>\n",
              "    </tr>\n",
              "  </tbody>\n",
              "</table>\n",
              "</div>\n",
              "      <button class=\"colab-df-convert\" onclick=\"convertToInteractive('df-078b162a-e646-4f49-bde9-2baecbf8fabf')\"\n",
              "              title=\"Convert this dataframe to an interactive table.\"\n",
              "              style=\"display:none;\">\n",
              "        \n",
              "  <svg xmlns=\"http://www.w3.org/2000/svg\" height=\"24px\"viewBox=\"0 0 24 24\"\n",
              "       width=\"24px\">\n",
              "    <path d=\"M0 0h24v24H0V0z\" fill=\"none\"/>\n",
              "    <path d=\"M18.56 5.44l.94 2.06.94-2.06 2.06-.94-2.06-.94-.94-2.06-.94 2.06-2.06.94zm-11 1L8.5 8.5l.94-2.06 2.06-.94-2.06-.94L8.5 2.5l-.94 2.06-2.06.94zm10 10l.94 2.06.94-2.06 2.06-.94-2.06-.94-.94-2.06-.94 2.06-2.06.94z\"/><path d=\"M17.41 7.96l-1.37-1.37c-.4-.4-.92-.59-1.43-.59-.52 0-1.04.2-1.43.59L10.3 9.45l-7.72 7.72c-.78.78-.78 2.05 0 2.83L4 21.41c.39.39.9.59 1.41.59.51 0 1.02-.2 1.41-.59l7.78-7.78 2.81-2.81c.8-.78.8-2.07 0-2.86zM5.41 20L4 18.59l7.72-7.72 1.47 1.35L5.41 20z\"/>\n",
              "  </svg>\n",
              "      </button>\n",
              "      \n",
              "  <style>\n",
              "    .colab-df-container {\n",
              "      display:flex;\n",
              "      flex-wrap:wrap;\n",
              "      gap: 12px;\n",
              "    }\n",
              "\n",
              "    .colab-df-convert {\n",
              "      background-color: #E8F0FE;\n",
              "      border: none;\n",
              "      border-radius: 50%;\n",
              "      cursor: pointer;\n",
              "      display: none;\n",
              "      fill: #1967D2;\n",
              "      height: 32px;\n",
              "      padding: 0 0 0 0;\n",
              "      width: 32px;\n",
              "    }\n",
              "\n",
              "    .colab-df-convert:hover {\n",
              "      background-color: #E2EBFA;\n",
              "      box-shadow: 0px 1px 2px rgba(60, 64, 67, 0.3), 0px 1px 3px 1px rgba(60, 64, 67, 0.15);\n",
              "      fill: #174EA6;\n",
              "    }\n",
              "\n",
              "    [theme=dark] .colab-df-convert {\n",
              "      background-color: #3B4455;\n",
              "      fill: #D2E3FC;\n",
              "    }\n",
              "\n",
              "    [theme=dark] .colab-df-convert:hover {\n",
              "      background-color: #434B5C;\n",
              "      box-shadow: 0px 1px 3px 1px rgba(0, 0, 0, 0.15);\n",
              "      filter: drop-shadow(0px 1px 2px rgba(0, 0, 0, 0.3));\n",
              "      fill: #FFFFFF;\n",
              "    }\n",
              "  </style>\n",
              "\n",
              "      <script>\n",
              "        const buttonEl =\n",
              "          document.querySelector('#df-078b162a-e646-4f49-bde9-2baecbf8fabf button.colab-df-convert');\n",
              "        buttonEl.style.display =\n",
              "          google.colab.kernel.accessAllowed ? 'block' : 'none';\n",
              "\n",
              "        async function convertToInteractive(key) {\n",
              "          const element = document.querySelector('#df-078b162a-e646-4f49-bde9-2baecbf8fabf');\n",
              "          const dataTable =\n",
              "            await google.colab.kernel.invokeFunction('convertToInteractive',\n",
              "                                                     [key], {});\n",
              "          if (!dataTable) return;\n",
              "\n",
              "          const docLinkHtml = 'Like what you see? Visit the ' +\n",
              "            '<a target=\"_blank\" href=https://colab.research.google.com/notebooks/data_table.ipynb>data table notebook</a>'\n",
              "            + ' to learn more about interactive tables.';\n",
              "          element.innerHTML = '';\n",
              "          dataTable['output_type'] = 'display_data';\n",
              "          await google.colab.output.renderOutput(dataTable, element);\n",
              "          const docLink = document.createElement('div');\n",
              "          docLink.innerHTML = docLinkHtml;\n",
              "          element.appendChild(docLink);\n",
              "        }\n",
              "      </script>\n",
              "    </div>\n",
              "  </div>\n",
              "  "
            ]
          },
          "metadata": {},
          "execution_count": 50
        }
      ]
    },
    {
      "cell_type": "markdown",
      "metadata": {
        "id": "Ju16ckfof-LB"
      },
      "source": [
        "## 1.2.5 Model V05 - GRIDSEARCHCV\n",
        "\n",
        "GridSearchCV helps to loop through a predefined set of hyperparameters in order to fit the model on your training set. Doing so, you can select the best parameters from the listed hyperparameters and automatically refit the model on those best ones that give you the highest accuracy value.\n",
        "\n",
        "The *gridsearchcv* function applies also the cross-validation procedure: different portions of the data are used to train and test the model in order to feed it not only with one single portion of it. This technique should prevents the model to see only a specific chunck of the data."
      ]
    },
    {
      "cell_type": "markdown",
      "metadata": {
        "id": "kLwUBkU15aKq"
      },
      "source": [
        "### Parameters tuning"
      ]
    },
    {
      "cell_type": "code",
      "execution_count": null,
      "metadata": {
        "id": "BELXoc4S_XAJ",
        "colab": {
          "base_uri": "https://localhost:8080/",
          "height": 34
        },
        "outputId": "71c63f79-72d8-4195-ee4e-fd7537d26a11"
      },
      "outputs": [
        {
          "output_type": "display_data",
          "data": {
            "text/plain": [
              "<IPython.core.display.Javascript object>"
            ],
            "application/javascript": [
              "google.colab.output.setIframeHeight(0, true, {maxHeight: 300})"
            ]
          },
          "metadata": {}
        },
        {
          "output_type": "stream",
          "name": "stdout",
          "text": [
            "Found 3004 images belonging to 10 classes.\n"
          ]
        }
      ],
      "source": [
        "# USE THE FLOW FROM DIRECTORY ONLY FOR THE TRAIN BECAUSE THE GRIDSEARCHCV METHOD\n",
        "# WILL CREATE ITS OWN TEST SET\n",
        "itr = train_datagen.flow_from_directory(\n",
        "    base_path_train,\n",
        "    target_size=(SIZE,SIZE),\n",
        "    batch_size=3004, # you flow through the entire training dataset and get all the images, using just one batch size!\n",
        "    class_mode='categorical')\n",
        "\n",
        "X, y = itr.next()"
      ]
    },
    {
      "cell_type": "markdown",
      "source": [
        "Create the function *create_GSCV_model()* in order to create the model."
      ],
      "metadata": {
        "id": "Ww2tiX4oPNvD"
      }
    },
    {
      "cell_type": "code",
      "source": [
        "def create_GSCV_model(lr= 0.1, \n",
        "                      init_mode=\"he_uniform\", \n",
        "                      activation = 'relu', \n",
        "                      dropout_rate= 0.0, \n",
        "                      optimizer = 'Adam'):\n",
        "  \n",
        "  model_gridsearchCV = tf.keras.models.Sequential([\n",
        "  keras.Input((SIZE, SIZE, 3)),\n",
        "\n",
        "  # 1st Conv Block\n",
        "  keras.layers.Conv2D(32, 3, padding=\"same\", kernel_initializer=\"he_uniform\", kernel_regularizer=tf.keras.regularizers.l2(0.001)),\n",
        "  keras.layers.BatchNormalization(),\n",
        "  keras.layers.Activation('relu'),\n",
        "  keras.layers.MaxPooling2D(3, strides=3, padding=\"same\"),\n",
        "\n",
        "  # 2nd Conv Block\n",
        "  keras.layers.Conv2D(32, 3, padding=\"same\", kernel_initializer=\"he_uniform\", kernel_regularizer=tf.keras.regularizers.l2(0.001)),\n",
        "  keras.layers.BatchNormalization(),\n",
        "  keras.layers.Activation('relu'),\n",
        "  keras.layers.MaxPooling2D(3, strides=3, padding=\"same\"),\n",
        "\n",
        "  # 3rd Conv block\n",
        "  keras.layers.Conv2D(64, 3, padding=\"same\", kernel_initializer=\"he_uniform\", kernel_regularizer=tf.keras.regularizers.l2(0.001)),\n",
        "  keras.layers.BatchNormalization(),\n",
        "  keras.layers.Activation('relu'),\n",
        "  keras.layers.MaxPooling2D(3, strides=3, padding=\"same\"),\n",
        "\n",
        "  # 4rd Conv block\n",
        "  keras.layers.Conv2D(64, 3, padding=\"same\", kernel_initializer=\"he_uniform\", kernel_regularizer=tf.keras.regularizers.l2(0.001)),\n",
        "  keras.layers.BatchNormalization(),\n",
        "  keras.layers.Activation('relu'),\n",
        "  keras.layers.MaxPooling2D(3, strides=3, padding=\"same\"),\n",
        "\n",
        "  # 5th Conv block\n",
        "  keras.layers.Conv2D(128, 3, padding=\"same\", kernel_initializer=\"he_uniform\", kernel_regularizer=tf.keras.regularizers.l2(0.001)),\n",
        "  keras.layers.BatchNormalization(),\n",
        "  keras.layers.Activation('relu'),\n",
        "  keras.layers.MaxPooling2D(3, strides=3, padding=\"same\"),\n",
        "\n",
        "  # 6th Conv block\n",
        "  keras.layers.Conv2D(128, 3, padding=\"same\", kernel_initializer=\"he_uniform\", kernel_regularizer=tf.keras.regularizers.l2(0.001)),\n",
        "  keras.layers.BatchNormalization(),\n",
        "  keras.layers.Activation('relu'),\n",
        "  keras.layers.MaxPooling2D(3, strides=3, padding=\"same\"),\n",
        "\n",
        "  # 7th Conv block\n",
        "  keras.layers.Conv2D(512, 3, padding=\"same\", kernel_initializer=\"he_uniform\", kernel_regularizer=tf.keras.regularizers.l2(0.001)),\n",
        "  keras.layers.BatchNormalization(),\n",
        "  keras.layers.Activation('relu'),\n",
        "\n",
        "  # the model so far outputs 3D feature maps (height, width, features)\n",
        "\n",
        "  # FLATTEN AND ADD DROPOUT\n",
        "  keras.layers.Flatten(), # this converts our 3D feature maps to 1D feature vectors\n",
        "  keras.layers.Dropout(0.20),\n",
        "  keras.layers.Dense(512, activation='relu', kernel_regularizer=tf.keras.regularizers.l2(0.001)),\n",
        "  keras.layers.Dense(512, activation='relu', kernel_regularizer=tf.keras.regularizers.l2(0.001)),\n",
        "\n",
        "  keras.layers.Dense(num_classes, activation=\"softmax\", kernel_regularizer=tf.keras.regularizers.l2(0.001))\n",
        "  ])\n",
        "\n",
        "  # COMPILE THE MODEL\n",
        "  model_gridsearchCV.compile(loss=keras.losses.categorical_crossentropy,\n",
        "                             optimizer= keras.optimizers.Adam(learning_rate=lr),\n",
        "                             metrics=['accuracy'],\n",
        "                             steps_per_execution=5)\n",
        "\n",
        "  return model_gridsearchCV\n",
        "\n",
        "create_GSCV_model().summary()"
      ],
      "metadata": {
        "id": "3iz4m59_Sn1z",
        "colab": {
          "base_uri": "https://localhost:8080/",
          "height": 300
        },
        "outputId": "417077ba-4d36-4bf9-c98b-c9bb2170d0dd"
      },
      "execution_count": null,
      "outputs": [
        {
          "output_type": "display_data",
          "data": {
            "text/plain": [
              "<IPython.core.display.Javascript object>"
            ],
            "application/javascript": [
              "google.colab.output.setIframeHeight(0, true, {maxHeight: 300})"
            ]
          },
          "metadata": {}
        },
        {
          "output_type": "stream",
          "name": "stdout",
          "text": [
            "Model: \"sequential_27\"\n",
            "_________________________________________________________________\n",
            " Layer (type)                Output Shape              Param #   \n",
            "=================================================================\n",
            " conv2d_193 (Conv2D)         (None, 96, 96, 32)        896       \n",
            "                                                                 \n",
            " batch_normalization_189 (Ba  (None, 96, 96, 32)       128       \n",
            " tchNormalization)                                               \n",
            "                                                                 \n",
            " activation_193 (Activation)  (None, 96, 96, 32)       0         \n",
            "                                                                 \n",
            " max_pooling2d_164 (MaxPooli  (None, 32, 32, 32)       0         \n",
            " ng2D)                                                           \n",
            "                                                                 \n",
            " conv2d_194 (Conv2D)         (None, 32, 32, 32)        9248      \n",
            "                                                                 \n",
            " batch_normalization_190 (Ba  (None, 32, 32, 32)       128       \n",
            " tchNormalization)                                               \n",
            "                                                                 \n",
            " activation_194 (Activation)  (None, 32, 32, 32)       0         \n",
            "                                                                 \n",
            " max_pooling2d_165 (MaxPooli  (None, 11, 11, 32)       0         \n",
            " ng2D)                                                           \n",
            "                                                                 \n",
            " conv2d_195 (Conv2D)         (None, 11, 11, 64)        18496     \n",
            "                                                                 \n",
            " batch_normalization_191 (Ba  (None, 11, 11, 64)       256       \n",
            " tchNormalization)                                               \n",
            "                                                                 \n",
            " activation_195 (Activation)  (None, 11, 11, 64)       0         \n",
            "                                                                 \n",
            " max_pooling2d_166 (MaxPooli  (None, 4, 4, 64)         0         \n",
            " ng2D)                                                           \n",
            "                                                                 \n",
            " conv2d_196 (Conv2D)         (None, 4, 4, 64)          36928     \n",
            "                                                                 \n",
            " batch_normalization_192 (Ba  (None, 4, 4, 64)         256       \n",
            " tchNormalization)                                               \n",
            "                                                                 \n",
            " activation_196 (Activation)  (None, 4, 4, 64)         0         \n",
            "                                                                 \n",
            " max_pooling2d_167 (MaxPooli  (None, 2, 2, 64)         0         \n",
            " ng2D)                                                           \n",
            "                                                                 \n",
            " conv2d_197 (Conv2D)         (None, 2, 2, 128)         73856     \n",
            "                                                                 \n",
            " batch_normalization_193 (Ba  (None, 2, 2, 128)        512       \n",
            " tchNormalization)                                               \n",
            "                                                                 \n",
            " activation_197 (Activation)  (None, 2, 2, 128)        0         \n",
            "                                                                 \n",
            " max_pooling2d_168 (MaxPooli  (None, 1, 1, 128)        0         \n",
            " ng2D)                                                           \n",
            "                                                                 \n",
            " conv2d_198 (Conv2D)         (None, 1, 1, 128)         147584    \n",
            "                                                                 \n",
            " batch_normalization_194 (Ba  (None, 1, 1, 128)        512       \n",
            " tchNormalization)                                               \n",
            "                                                                 \n",
            " activation_198 (Activation)  (None, 1, 1, 128)        0         \n",
            "                                                                 \n",
            " max_pooling2d_169 (MaxPooli  (None, 1, 1, 128)        0         \n",
            " ng2D)                                                           \n",
            "                                                                 \n",
            " conv2d_199 (Conv2D)         (None, 1, 1, 512)         590336    \n",
            "                                                                 \n",
            " batch_normalization_195 (Ba  (None, 1, 1, 512)        2048      \n",
            " tchNormalization)                                               \n",
            "                                                                 \n",
            " activation_199 (Activation)  (None, 1, 1, 512)        0         \n",
            "                                                                 \n",
            " flatten_27 (Flatten)        (None, 512)               0         \n",
            "                                                                 \n",
            " dropout_27 (Dropout)        (None, 512)               0         \n",
            "                                                                 \n",
            " dense_83 (Dense)            (None, 512)               262656    \n",
            "                                                                 \n",
            " dense_84 (Dense)            (None, 512)               262656    \n",
            "                                                                 \n",
            " dense_85 (Dense)            (None, 10)                5130      \n",
            "                                                                 \n",
            "=================================================================\n",
            "Total params: 1,411,626\n",
            "Trainable params: 1,409,706\n",
            "Non-trainable params: 1,920\n",
            "_________________________________________________________________\n"
          ]
        }
      ]
    },
    {
      "cell_type": "code",
      "execution_count": null,
      "metadata": {
        "id": "yGXft6JSNXhi",
        "colab": {
          "base_uri": "https://localhost:8080/",
          "height": 17
        },
        "outputId": "0b7c0e1f-8bae-4717-b56c-b8b1ad569fe1"
      },
      "outputs": [
        {
          "output_type": "display_data",
          "data": {
            "text/plain": [
              "<IPython.core.display.Javascript object>"
            ],
            "application/javascript": [
              "google.colab.output.setIframeHeight(0, true, {maxHeight: 300})"
            ]
          },
          "metadata": {}
        }
      ],
      "source": [
        "# CREATE THE MODEL\n",
        "model_gridsearchcv = KerasClassifier(model = create_GSCV_model, # model = create_GSCV_model(), \n",
        "                                     epochs = 50,  \n",
        "                                     lr = 0.1,\n",
        "                                     verbose = 10,\n",
        "                                     activation = 'relu',\n",
        "                                     optimizer='Adam')"
      ]
    },
    {
      "cell_type": "code",
      "execution_count": null,
      "metadata": {
        "id": "o0mquIXLDaWQ",
        "colab": {
          "base_uri": "https://localhost:8080/",
          "height": 173
        },
        "outputId": "2e7abe0d-9e61-4333-f194-98150d7be193"
      },
      "outputs": [
        {
          "output_type": "display_data",
          "data": {
            "text/plain": [
              "<IPython.core.display.Javascript object>"
            ],
            "application/javascript": [
              "google.colab.output.setIframeHeight(0, true, {maxHeight: 300})"
            ]
          },
          "metadata": {}
        },
        {
          "output_type": "execute_result",
          "data": {
            "text/plain": [
              "RandomizedSearchCV(cv=3, error_score='raise',\n",
              "                   estimator=KerasClassifier(activation='relu', epochs=50, lr=0.1, model=<function create_GSCV_model at 0x7feefa203310>, optimizer='Adam', verbose=10),\n",
              "                   n_jobs=1,\n",
              "                   param_distributions={'activation': ['relu', 'LeakyRelu'],\n",
              "                                        'lr': [0.001, 0.0001],\n",
              "                                        'optimizer': ['SGD', 'Adam']},\n",
              "                   refit='accuracy_score',\n",
              "                   scoring={'accuracy_score': make_scorer(accuracy_score)})"
            ]
          },
          "metadata": {},
          "execution_count": 43
        }
      ],
      "source": [
        "# DEFINE THE GRID SEARCH PARAMETERS\n",
        "# batch_size = [16, 32]\n",
        "optimizer = ['SGD', 'Adam']\n",
        "lr = [0.001, 0.0001]\n",
        "activation = ['relu', 'LeakyRelu']\n",
        "\n",
        "# DEFINE THE SCORE DICTIONARY\n",
        "scorers = { \n",
        "            # 'recall_score': make_scorer(recall_score, average='micro')\n",
        "            'accuracy_score': make_scorer(accuracy_score)\n",
        "          }\n",
        "\n",
        "# DEFINE THE DICTIONARY PARAMETERS\n",
        "param_grid_CV = {\n",
        "    # 'batch_size': batch_size,\n",
        "    'optimizer': optimizer,\n",
        "    'lr': lr,\n",
        "    'activation': activation\n",
        "}\n",
        "\n",
        "# DEFINE THE GRIDSEARCHCV METHOD\n",
        "# n_iter_search = 32 \n",
        "grid_cv = RandomizedSearchCV(estimator = model_gridsearchcv, \n",
        "                             param_distributions = param_grid_CV, \n",
        "                             scoring=scorers,\n",
        "                            #  refit='recall_score',\n",
        "                             refit='accuracy_score',\n",
        "                             n_jobs = 1,\n",
        "                            #  n_iter=n_iter_search,\n",
        "                             cv = 3, \n",
        "                             error_score = \"raise\")\n",
        "\n",
        "grid_cv"
      ]
    },
    {
      "cell_type": "code",
      "execution_count": null,
      "metadata": {
        "id": "feNsV7HZDf41",
        "colab": {
          "base_uri": "https://localhost:8080/",
          "height": 300
        },
        "outputId": "3c58db21-24ac-43b4-d0dd-862393b70a6b"
      },
      "outputs": [
        {
          "output_type": "display_data",
          "data": {
            "text/plain": [
              "<IPython.core.display.Javascript object>"
            ],
            "application/javascript": [
              "google.colab.output.setIframeHeight(0, true, {maxHeight: 300})"
            ]
          },
          "metadata": {}
        },
        {
          "output_type": "stream",
          "name": "stderr",
          "text": [
            "/usr/local/lib/python3.8/dist-packages/sklearn/model_selection/_search.py:292: UserWarning: The total space of parameters 8 is smaller than n_iter=10. Running 8 iterations. For exhaustive searches, use GridSearchCV.\n",
            "  warnings.warn(\n"
          ]
        },
        {
          "output_type": "stream",
          "name": "stdout",
          "text": [
            "Epoch 1/50\n",
            "Epoch 2/50\n",
            "Epoch 3/50\n",
            "Epoch 4/50\n",
            "Epoch 5/50\n",
            "Epoch 6/50\n",
            "Epoch 7/50\n",
            "Epoch 8/50\n",
            "Epoch 9/50\n",
            "Epoch 10/50\n",
            "Epoch 11/50\n",
            "Epoch 12/50\n",
            "Epoch 13/50\n",
            "Epoch 14/50\n",
            "Epoch 15/50\n",
            "Epoch 16/50\n",
            "Epoch 17/50\n",
            "Epoch 18/50\n",
            "Epoch 19/50\n",
            "Epoch 20/50\n",
            "Epoch 21/50\n",
            "Epoch 22/50\n",
            "Epoch 23/50\n",
            "Epoch 24/50\n",
            "Epoch 25/50\n",
            "Epoch 26/50\n",
            "Epoch 27/50\n",
            "Epoch 28/50\n",
            "Epoch 29/50\n",
            "Epoch 30/50\n",
            "Epoch 31/50\n",
            "Epoch 32/50\n",
            "Epoch 33/50\n",
            "Epoch 34/50\n",
            "Epoch 35/50\n",
            "Epoch 36/50\n",
            "Epoch 37/50\n",
            "Epoch 38/50\n",
            "Epoch 39/50\n",
            "Epoch 40/50\n",
            "Epoch 41/50\n",
            "Epoch 42/50\n",
            "Epoch 43/50\n",
            "Epoch 44/50\n",
            "Epoch 45/50\n",
            "Epoch 46/50\n",
            "Epoch 47/50\n",
            "Epoch 48/50\n",
            "Epoch 49/50\n",
            "Epoch 50/50\n",
            "Epoch 1/50\n",
            "Epoch 2/50\n",
            "Epoch 3/50\n",
            "Epoch 4/50\n",
            "Epoch 5/50\n",
            "Epoch 6/50\n",
            "Epoch 7/50\n",
            "Epoch 8/50\n",
            "Epoch 9/50\n",
            "Epoch 10/50\n",
            "Epoch 11/50\n",
            "Epoch 12/50\n",
            "Epoch 13/50\n",
            "Epoch 14/50\n",
            "Epoch 15/50\n",
            "Epoch 16/50\n",
            "Epoch 17/50\n",
            "Epoch 18/50\n",
            "Epoch 19/50\n",
            "Epoch 20/50\n",
            "Epoch 21/50\n",
            "Epoch 22/50\n",
            "Epoch 23/50\n",
            "Epoch 24/50\n",
            "Epoch 25/50\n",
            "Epoch 26/50\n",
            "Epoch 27/50\n",
            "Epoch 28/50\n",
            "Epoch 29/50\n",
            "Epoch 30/50\n",
            "Epoch 31/50\n",
            "Epoch 32/50\n",
            "Epoch 33/50\n",
            "Epoch 34/50\n",
            "Epoch 35/50\n",
            "Epoch 36/50\n",
            "Epoch 37/50\n",
            "Epoch 38/50\n",
            "Epoch 39/50\n",
            "Epoch 40/50\n",
            "Epoch 41/50\n",
            "Epoch 42/50\n",
            "Epoch 43/50\n",
            "Epoch 44/50\n",
            "Epoch 45/50\n",
            "Epoch 46/50\n",
            "Epoch 47/50\n",
            "Epoch 48/50\n",
            "Epoch 49/50\n",
            "Epoch 50/50\n",
            "Epoch 1/50\n",
            "Epoch 2/50\n",
            "Epoch 3/50\n",
            "Epoch 4/50\n",
            "Epoch 5/50\n",
            "Epoch 6/50\n",
            "Epoch 7/50\n",
            "Epoch 8/50\n",
            "Epoch 9/50\n",
            "Epoch 10/50\n",
            "Epoch 11/50\n",
            "Epoch 12/50\n",
            "Epoch 13/50\n",
            "Epoch 14/50\n",
            "Epoch 15/50\n",
            "Epoch 16/50\n",
            "Epoch 17/50\n",
            "Epoch 18/50\n",
            "Epoch 19/50\n",
            "Epoch 20/50\n",
            "Epoch 21/50\n",
            "Epoch 22/50\n",
            "Epoch 23/50\n",
            "Epoch 24/50\n",
            "Epoch 25/50\n",
            "Epoch 26/50\n",
            "Epoch 27/50\n",
            "Epoch 28/50\n",
            "Epoch 29/50\n",
            "Epoch 30/50\n",
            "Epoch 31/50\n",
            "Epoch 32/50\n",
            "Epoch 33/50\n",
            "Epoch 34/50\n",
            "Epoch 35/50\n",
            "Epoch 36/50\n",
            "Epoch 37/50\n",
            "Epoch 38/50\n",
            "Epoch 39/50\n",
            "Epoch 40/50\n",
            "Epoch 41/50\n",
            "Epoch 42/50\n",
            "Epoch 43/50\n",
            "Epoch 44/50\n",
            "Epoch 45/50\n",
            "Epoch 46/50\n",
            "Epoch 47/50\n",
            "Epoch 48/50\n",
            "Epoch 49/50\n",
            "Epoch 50/50\n",
            "Epoch 1/50\n",
            "Epoch 2/50\n",
            "Epoch 3/50\n",
            "Epoch 4/50\n",
            "Epoch 5/50\n",
            "Epoch 6/50\n",
            "Epoch 7/50\n",
            "Epoch 8/50\n",
            "Epoch 9/50\n",
            "Epoch 10/50\n",
            "Epoch 11/50\n",
            "Epoch 12/50\n",
            "Epoch 13/50\n",
            "Epoch 14/50\n",
            "Epoch 15/50\n",
            "Epoch 16/50\n",
            "Epoch 17/50\n",
            "Epoch 18/50\n",
            "Epoch 19/50\n",
            "Epoch 20/50\n",
            "Epoch 21/50\n",
            "Epoch 22/50\n",
            "Epoch 23/50\n",
            "Epoch 24/50\n",
            "Epoch 25/50\n",
            "Epoch 26/50\n",
            "Epoch 27/50\n",
            "Epoch 28/50\n",
            "Epoch 29/50\n",
            "Epoch 30/50\n",
            "Epoch 31/50\n",
            "Epoch 32/50\n",
            "Epoch 33/50\n",
            "Epoch 34/50\n",
            "Epoch 35/50\n",
            "Epoch 36/50\n",
            "Epoch 37/50\n",
            "Epoch 38/50\n",
            "Epoch 39/50\n",
            "Epoch 40/50\n",
            "Epoch 41/50\n",
            "Epoch 42/50\n",
            "Epoch 43/50\n",
            "Epoch 44/50\n",
            "Epoch 45/50\n",
            "Epoch 46/50\n",
            "Epoch 47/50\n",
            "Epoch 48/50\n",
            "Epoch 49/50\n",
            "Epoch 50/50\n",
            "Epoch 1/50\n",
            "Epoch 2/50\n",
            "Epoch 3/50\n",
            "Epoch 4/50\n",
            "Epoch 5/50\n",
            "Epoch 6/50\n",
            "Epoch 7/50\n",
            "Epoch 8/50\n",
            "Epoch 9/50\n",
            "Epoch 10/50\n",
            "Epoch 11/50\n",
            "Epoch 12/50\n",
            "Epoch 13/50\n",
            "Epoch 14/50\n",
            "Epoch 15/50\n",
            "Epoch 16/50\n",
            "Epoch 17/50\n",
            "Epoch 18/50\n",
            "Epoch 19/50\n",
            "Epoch 20/50\n",
            "Epoch 21/50\n",
            "Epoch 22/50\n",
            "Epoch 23/50\n",
            "Epoch 24/50\n",
            "Epoch 25/50\n",
            "Epoch 26/50\n",
            "Epoch 27/50\n",
            "Epoch 28/50\n",
            "Epoch 29/50\n",
            "Epoch 30/50\n",
            "Epoch 31/50\n",
            "Epoch 32/50\n",
            "Epoch 33/50\n",
            "Epoch 34/50\n",
            "Epoch 35/50\n",
            "Epoch 36/50\n",
            "Epoch 37/50\n",
            "Epoch 38/50\n",
            "Epoch 39/50\n",
            "Epoch 40/50\n",
            "Epoch 41/50\n",
            "Epoch 42/50\n",
            "Epoch 43/50\n",
            "Epoch 44/50\n",
            "Epoch 45/50\n",
            "Epoch 46/50\n",
            "Epoch 47/50\n",
            "Epoch 48/50\n",
            "Epoch 49/50\n",
            "Epoch 50/50\n",
            "Epoch 1/50\n",
            "Epoch 2/50\n",
            "Epoch 3/50\n",
            "Epoch 4/50\n",
            "Epoch 5/50\n",
            "Epoch 6/50\n",
            "Epoch 7/50\n",
            "Epoch 8/50\n",
            "Epoch 9/50\n",
            "Epoch 10/50\n",
            "Epoch 11/50\n",
            "Epoch 12/50\n",
            "Epoch 13/50\n",
            "Epoch 14/50\n",
            "Epoch 15/50\n",
            "Epoch 16/50\n",
            "Epoch 17/50\n",
            "Epoch 18/50\n",
            "Epoch 19/50\n",
            "Epoch 20/50\n",
            "Epoch 21/50\n",
            "Epoch 22/50\n",
            "Epoch 23/50\n",
            "Epoch 24/50\n",
            "Epoch 25/50\n",
            "Epoch 26/50\n",
            "Epoch 27/50\n",
            "Epoch 28/50\n",
            "Epoch 29/50\n",
            "Epoch 30/50\n",
            "Epoch 31/50\n",
            "Epoch 32/50\n",
            "Epoch 33/50\n",
            "Epoch 34/50\n",
            "Epoch 35/50\n",
            "Epoch 36/50\n",
            "Epoch 37/50\n",
            "Epoch 38/50\n",
            "Epoch 39/50\n",
            "Epoch 40/50\n",
            "Epoch 41/50\n",
            "Epoch 42/50\n",
            "Epoch 43/50\n",
            "Epoch 44/50\n",
            "Epoch 45/50\n",
            "Epoch 46/50\n",
            "Epoch 47/50\n",
            "Epoch 48/50\n",
            "Epoch 49/50\n",
            "Epoch 50/50\n",
            "Epoch 1/50\n",
            "Epoch 2/50\n",
            "Epoch 3/50\n",
            "Epoch 4/50\n",
            "Epoch 5/50\n",
            "Epoch 6/50\n",
            "Epoch 7/50\n",
            "Epoch 8/50\n",
            "Epoch 9/50\n",
            "Epoch 10/50\n",
            "Epoch 11/50\n",
            "Epoch 12/50\n",
            "Epoch 13/50\n",
            "Epoch 14/50\n",
            "Epoch 15/50\n",
            "Epoch 16/50\n",
            "Epoch 17/50\n",
            "Epoch 18/50\n",
            "Epoch 19/50\n",
            "Epoch 20/50\n",
            "Epoch 21/50\n",
            "Epoch 22/50\n",
            "Epoch 23/50\n",
            "Epoch 24/50\n",
            "Epoch 25/50\n",
            "Epoch 26/50\n",
            "Epoch 27/50\n",
            "Epoch 28/50\n",
            "Epoch 29/50\n",
            "Epoch 30/50\n",
            "Epoch 31/50\n",
            "Epoch 32/50\n",
            "Epoch 33/50\n",
            "Epoch 34/50\n",
            "Epoch 35/50\n",
            "Epoch 36/50\n",
            "Epoch 37/50\n",
            "Epoch 38/50\n",
            "Epoch 39/50\n",
            "Epoch 40/50\n",
            "Epoch 41/50\n",
            "Epoch 42/50\n",
            "Epoch 43/50\n",
            "Epoch 44/50\n",
            "Epoch 45/50\n",
            "Epoch 46/50\n",
            "Epoch 47/50\n",
            "Epoch 48/50\n",
            "Epoch 49/50\n",
            "Epoch 50/50\n",
            "Epoch 1/50\n",
            "Epoch 2/50\n",
            "Epoch 3/50\n",
            "Epoch 4/50\n",
            "Epoch 5/50\n",
            "Epoch 6/50\n",
            "Epoch 7/50\n",
            "Epoch 8/50\n",
            "Epoch 9/50\n",
            "Epoch 10/50\n",
            "Epoch 11/50\n",
            "Epoch 12/50\n",
            "Epoch 13/50\n",
            "Epoch 14/50\n",
            "Epoch 15/50\n",
            "Epoch 16/50\n",
            "Epoch 17/50\n",
            "Epoch 18/50\n",
            "Epoch 19/50\n",
            "Epoch 20/50\n",
            "Epoch 21/50\n",
            "Epoch 22/50\n",
            "Epoch 23/50\n",
            "Epoch 24/50\n",
            "Epoch 25/50\n",
            "Epoch 26/50\n",
            "Epoch 27/50\n",
            "Epoch 28/50\n",
            "Epoch 29/50\n",
            "Epoch 30/50\n",
            "Epoch 31/50\n",
            "Epoch 32/50\n",
            "Epoch 33/50\n",
            "Epoch 34/50\n",
            "Epoch 35/50\n",
            "Epoch 36/50\n",
            "Epoch 37/50\n",
            "Epoch 38/50\n",
            "Epoch 39/50\n",
            "Epoch 40/50\n",
            "Epoch 41/50\n",
            "Epoch 42/50\n",
            "Epoch 43/50\n",
            "Epoch 44/50\n",
            "Epoch 45/50\n",
            "Epoch 46/50\n",
            "Epoch 47/50\n",
            "Epoch 48/50\n",
            "Epoch 49/50\n",
            "Epoch 50/50\n",
            "Epoch 1/50\n",
            "Epoch 2/50\n",
            "Epoch 3/50\n",
            "Epoch 4/50\n",
            "Epoch 5/50\n",
            "Epoch 6/50\n",
            "Epoch 7/50\n",
            "Epoch 8/50\n",
            "Epoch 9/50\n",
            "Epoch 10/50\n",
            "Epoch 11/50\n",
            "Epoch 12/50\n",
            "Epoch 13/50\n",
            "Epoch 14/50\n",
            "Epoch 15/50\n",
            "Epoch 16/50\n",
            "Epoch 17/50\n",
            "Epoch 18/50\n",
            "Epoch 19/50\n",
            "Epoch 20/50\n",
            "Epoch 21/50\n",
            "Epoch 22/50\n",
            "Epoch 23/50\n",
            "Epoch 24/50\n",
            "Epoch 25/50\n",
            "Epoch 26/50\n",
            "Epoch 27/50\n",
            "Epoch 28/50\n",
            "Epoch 29/50\n",
            "Epoch 30/50\n",
            "Epoch 31/50\n",
            "Epoch 32/50\n",
            "Epoch 33/50\n",
            "Epoch 34/50\n",
            "Epoch 35/50\n",
            "Epoch 36/50\n",
            "Epoch 37/50\n",
            "Epoch 38/50\n",
            "Epoch 39/50\n",
            "Epoch 40/50\n",
            "Epoch 41/50\n",
            "Epoch 42/50\n",
            "Epoch 43/50\n",
            "Epoch 44/50\n",
            "Epoch 45/50\n",
            "Epoch 46/50\n",
            "Epoch 47/50\n",
            "Epoch 48/50\n",
            "Epoch 49/50\n",
            "Epoch 50/50\n",
            "Epoch 1/50\n",
            "Epoch 2/50\n",
            "Epoch 3/50\n",
            "Epoch 4/50\n",
            "Epoch 5/50\n",
            "Epoch 6/50\n",
            "Epoch 7/50\n",
            "Epoch 8/50\n",
            "Epoch 9/50\n",
            "Epoch 10/50\n",
            "Epoch 11/50\n",
            "Epoch 12/50\n",
            "Epoch 13/50\n",
            "Epoch 14/50\n",
            "Epoch 15/50\n",
            "Epoch 16/50\n",
            "Epoch 17/50\n",
            "Epoch 18/50\n",
            "Epoch 19/50\n",
            "Epoch 20/50\n",
            "Epoch 21/50\n",
            "Epoch 22/50\n",
            "Epoch 23/50\n",
            "Epoch 24/50\n",
            "Epoch 25/50\n",
            "Epoch 26/50\n",
            "Epoch 27/50\n",
            "Epoch 28/50\n",
            "Epoch 29/50\n",
            "Epoch 30/50\n",
            "Epoch 31/50\n",
            "Epoch 32/50\n",
            "Epoch 33/50\n",
            "Epoch 34/50\n",
            "Epoch 35/50\n",
            "Epoch 36/50\n",
            "Epoch 37/50\n",
            "Epoch 38/50\n",
            "Epoch 39/50\n",
            "Epoch 40/50\n",
            "Epoch 41/50\n",
            "Epoch 42/50\n",
            "Epoch 43/50\n",
            "Epoch 44/50\n",
            "Epoch 45/50\n",
            "Epoch 46/50\n",
            "Epoch 47/50\n",
            "Epoch 48/50\n",
            "Epoch 49/50\n",
            "Epoch 50/50\n",
            "Epoch 1/50\n",
            "Epoch 2/50\n",
            "Epoch 3/50\n",
            "Epoch 4/50\n",
            "Epoch 5/50\n",
            "Epoch 6/50\n",
            "Epoch 7/50\n",
            "Epoch 8/50\n",
            "Epoch 9/50\n",
            "Epoch 10/50\n",
            "Epoch 11/50\n",
            "Epoch 12/50\n",
            "Epoch 13/50\n",
            "Epoch 14/50\n",
            "Epoch 15/50\n",
            "Epoch 16/50\n",
            "Epoch 17/50\n",
            "Epoch 18/50\n",
            "Epoch 19/50\n",
            "Epoch 20/50\n",
            "Epoch 21/50\n",
            "Epoch 22/50\n",
            "Epoch 23/50\n",
            "Epoch 24/50\n",
            "Epoch 25/50\n",
            "Epoch 26/50\n",
            "Epoch 27/50\n",
            "Epoch 28/50\n",
            "Epoch 29/50\n",
            "Epoch 30/50\n",
            "Epoch 31/50\n",
            "Epoch 32/50\n",
            "Epoch 33/50\n",
            "Epoch 34/50\n",
            "Epoch 35/50\n",
            "Epoch 36/50\n",
            "Epoch 37/50\n",
            "Epoch 38/50\n",
            "Epoch 39/50\n",
            "Epoch 40/50\n",
            "Epoch 41/50\n",
            "Epoch 42/50\n",
            "Epoch 43/50\n",
            "Epoch 44/50\n",
            "Epoch 45/50\n",
            "Epoch 46/50\n",
            "Epoch 47/50\n",
            "Epoch 48/50\n",
            "Epoch 49/50\n",
            "Epoch 50/50\n",
            "Epoch 1/50\n",
            "Epoch 2/50\n",
            "Epoch 3/50\n",
            "Epoch 4/50\n",
            "Epoch 5/50\n",
            "Epoch 6/50\n",
            "Epoch 7/50\n",
            "Epoch 8/50\n",
            "Epoch 9/50\n",
            "Epoch 10/50\n",
            "Epoch 11/50\n",
            "Epoch 12/50\n",
            "Epoch 13/50\n",
            "Epoch 14/50\n",
            "Epoch 15/50\n",
            "Epoch 16/50\n",
            "Epoch 17/50\n",
            "Epoch 18/50\n",
            "Epoch 19/50\n",
            "Epoch 20/50\n",
            "Epoch 21/50\n",
            "Epoch 22/50\n",
            "Epoch 23/50\n",
            "Epoch 24/50\n",
            "Epoch 25/50\n",
            "Epoch 26/50\n",
            "Epoch 27/50\n",
            "Epoch 28/50\n",
            "Epoch 29/50\n",
            "Epoch 30/50\n",
            "Epoch 31/50\n",
            "Epoch 32/50\n",
            "Epoch 33/50\n",
            "Epoch 34/50\n",
            "Epoch 35/50\n",
            "Epoch 36/50\n",
            "Epoch 37/50\n",
            "Epoch 38/50\n",
            "Epoch 39/50\n",
            "Epoch 40/50\n",
            "Epoch 41/50\n",
            "Epoch 42/50\n",
            "Epoch 43/50\n",
            "Epoch 44/50\n",
            "Epoch 45/50\n",
            "Epoch 46/50\n",
            "Epoch 47/50\n",
            "Epoch 48/50\n",
            "Epoch 49/50\n",
            "Epoch 50/50\n",
            "Epoch 1/50\n",
            "Epoch 2/50\n",
            "Epoch 3/50\n",
            "Epoch 4/50\n",
            "Epoch 5/50\n",
            "Epoch 6/50\n",
            "Epoch 7/50\n",
            "Epoch 8/50\n",
            "Epoch 9/50\n",
            "Epoch 10/50\n",
            "Epoch 11/50\n",
            "Epoch 12/50\n",
            "Epoch 13/50\n",
            "Epoch 14/50\n",
            "Epoch 15/50\n",
            "Epoch 16/50\n",
            "Epoch 17/50\n",
            "Epoch 18/50\n",
            "Epoch 19/50\n",
            "Epoch 20/50\n",
            "Epoch 21/50\n",
            "Epoch 22/50\n",
            "Epoch 23/50\n",
            "Epoch 24/50\n",
            "Epoch 25/50\n",
            "Epoch 26/50\n",
            "Epoch 27/50\n",
            "Epoch 28/50\n",
            "Epoch 29/50\n",
            "Epoch 30/50\n",
            "Epoch 31/50\n",
            "Epoch 32/50\n",
            "Epoch 33/50\n",
            "Epoch 34/50\n",
            "Epoch 35/50\n",
            "Epoch 36/50\n",
            "Epoch 37/50\n",
            "Epoch 38/50\n",
            "Epoch 39/50\n",
            "Epoch 40/50\n",
            "Epoch 41/50\n",
            "Epoch 42/50\n",
            "Epoch 43/50\n",
            "Epoch 44/50\n",
            "Epoch 45/50\n",
            "Epoch 46/50\n",
            "Epoch 47/50\n",
            "Epoch 48/50\n",
            "Epoch 49/50\n",
            "Epoch 50/50\n",
            "Epoch 1/50\n",
            "Epoch 2/50\n",
            "Epoch 3/50\n",
            "Epoch 4/50\n",
            "Epoch 5/50\n",
            "Epoch 6/50\n",
            "Epoch 7/50\n",
            "Epoch 8/50\n",
            "Epoch 9/50\n",
            "Epoch 10/50\n",
            "Epoch 11/50\n",
            "Epoch 12/50\n",
            "Epoch 13/50\n",
            "Epoch 14/50\n",
            "Epoch 15/50\n",
            "Epoch 16/50\n",
            "Epoch 17/50\n",
            "Epoch 18/50\n",
            "Epoch 19/50\n",
            "Epoch 20/50\n",
            "Epoch 21/50\n",
            "Epoch 22/50\n",
            "Epoch 23/50\n",
            "Epoch 24/50\n",
            "Epoch 25/50\n",
            "Epoch 26/50\n",
            "Epoch 27/50\n",
            "Epoch 28/50\n",
            "Epoch 29/50\n",
            "Epoch 30/50\n",
            "Epoch 31/50\n",
            "Epoch 32/50\n",
            "Epoch 33/50\n",
            "Epoch 34/50\n",
            "Epoch 35/50\n",
            "Epoch 36/50\n",
            "Epoch 37/50\n",
            "Epoch 38/50\n",
            "Epoch 39/50\n",
            "Epoch 40/50\n",
            "Epoch 41/50\n",
            "Epoch 42/50\n",
            "Epoch 43/50\n",
            "Epoch 44/50\n",
            "Epoch 45/50\n",
            "Epoch 46/50\n",
            "Epoch 47/50\n",
            "Epoch 48/50\n",
            "Epoch 49/50\n",
            "Epoch 50/50\n",
            "Epoch 1/50\n",
            "Epoch 2/50\n",
            "Epoch 3/50\n",
            "Epoch 4/50\n",
            "Epoch 5/50\n",
            "Epoch 6/50\n",
            "Epoch 7/50\n",
            "Epoch 8/50\n",
            "Epoch 9/50\n",
            "Epoch 10/50\n",
            "Epoch 11/50\n",
            "Epoch 12/50\n",
            "Epoch 13/50\n",
            "Epoch 14/50\n",
            "Epoch 15/50\n",
            "Epoch 16/50\n",
            "Epoch 17/50\n",
            "Epoch 18/50\n",
            "Epoch 19/50\n",
            "Epoch 20/50\n",
            "Epoch 21/50\n",
            "Epoch 22/50\n",
            "Epoch 23/50\n",
            "Epoch 24/50\n",
            "Epoch 25/50\n",
            "Epoch 26/50\n",
            "Epoch 27/50\n",
            "Epoch 28/50\n",
            "Epoch 29/50\n",
            "Epoch 30/50\n",
            "Epoch 31/50\n",
            "Epoch 32/50\n",
            "Epoch 33/50\n",
            "Epoch 34/50\n",
            "Epoch 35/50\n",
            "Epoch 36/50\n",
            "Epoch 37/50\n",
            "Epoch 38/50\n",
            "Epoch 39/50\n",
            "Epoch 40/50\n",
            "Epoch 41/50\n",
            "Epoch 42/50\n",
            "Epoch 43/50\n",
            "Epoch 44/50\n",
            "Epoch 45/50\n",
            "Epoch 46/50\n",
            "Epoch 47/50\n",
            "Epoch 48/50\n",
            "Epoch 49/50\n",
            "Epoch 50/50\n",
            "Epoch 1/50\n",
            "Epoch 2/50\n",
            "Epoch 3/50\n",
            "Epoch 4/50\n",
            "Epoch 5/50\n",
            "Epoch 6/50\n",
            "Epoch 7/50\n",
            "Epoch 8/50\n",
            "Epoch 9/50\n",
            "Epoch 10/50\n",
            "Epoch 11/50\n",
            "Epoch 12/50\n",
            "Epoch 13/50\n",
            "Epoch 14/50\n",
            "Epoch 15/50\n",
            "Epoch 16/50\n",
            "Epoch 17/50\n",
            "Epoch 18/50\n",
            "Epoch 19/50\n",
            "Epoch 20/50\n",
            "Epoch 21/50\n",
            "Epoch 22/50\n",
            "Epoch 23/50\n",
            "Epoch 24/50\n",
            "Epoch 25/50\n",
            "Epoch 26/50\n",
            "Epoch 27/50\n",
            "Epoch 28/50\n",
            "Epoch 29/50\n",
            "Epoch 30/50\n",
            "Epoch 31/50\n",
            "Epoch 32/50\n",
            "Epoch 33/50\n",
            "Epoch 34/50\n",
            "Epoch 35/50\n",
            "Epoch 36/50\n",
            "Epoch 37/50\n",
            "Epoch 38/50\n",
            "Epoch 39/50\n",
            "Epoch 40/50\n",
            "Epoch 41/50\n",
            "Epoch 42/50\n",
            "Epoch 43/50\n",
            "Epoch 44/50\n",
            "Epoch 45/50\n",
            "Epoch 46/50\n",
            "Epoch 47/50\n",
            "Epoch 48/50\n",
            "Epoch 49/50\n",
            "Epoch 50/50\n",
            "Epoch 1/50\n",
            "Epoch 2/50\n",
            "Epoch 3/50\n",
            "Epoch 4/50\n",
            "Epoch 5/50\n",
            "Epoch 6/50\n",
            "Epoch 7/50\n",
            "Epoch 8/50\n",
            "Epoch 9/50\n",
            "Epoch 10/50\n",
            "Epoch 11/50\n",
            "Epoch 12/50\n",
            "Epoch 13/50\n",
            "Epoch 14/50\n",
            "Epoch 15/50\n",
            "Epoch 16/50\n",
            "Epoch 17/50\n",
            "Epoch 18/50\n",
            "Epoch 19/50\n",
            "Epoch 20/50\n",
            "Epoch 21/50\n",
            "Epoch 22/50\n",
            "Epoch 23/50\n",
            "Epoch 24/50\n",
            "Epoch 25/50\n",
            "Epoch 26/50\n",
            "Epoch 27/50\n",
            "Epoch 28/50\n",
            "Epoch 29/50\n",
            "Epoch 30/50\n",
            "Epoch 31/50\n",
            "Epoch 32/50\n",
            "Epoch 33/50\n",
            "Epoch 34/50\n",
            "Epoch 35/50\n",
            "Epoch 36/50\n",
            "Epoch 37/50\n",
            "Epoch 38/50\n",
            "Epoch 39/50\n",
            "Epoch 40/50\n",
            "Epoch 41/50\n",
            "Epoch 42/50\n",
            "Epoch 43/50\n",
            "Epoch 44/50\n",
            "Epoch 45/50\n",
            "Epoch 46/50\n",
            "Epoch 47/50\n",
            "Epoch 48/50\n",
            "Epoch 49/50\n",
            "Epoch 50/50\n",
            "Epoch 1/50\n",
            "Epoch 2/50\n",
            "Epoch 3/50\n",
            "Epoch 4/50\n",
            "Epoch 5/50\n",
            "Epoch 6/50\n",
            "Epoch 7/50\n",
            "Epoch 8/50\n",
            "Epoch 9/50\n",
            "Epoch 10/50\n",
            "Epoch 11/50\n",
            "Epoch 12/50\n",
            "Epoch 13/50\n",
            "Epoch 14/50\n",
            "Epoch 15/50\n",
            "Epoch 16/50\n",
            "Epoch 17/50\n",
            "Epoch 18/50\n",
            "Epoch 19/50\n",
            "Epoch 20/50\n",
            "Epoch 21/50\n",
            "Epoch 22/50\n",
            "Epoch 23/50\n",
            "Epoch 24/50\n",
            "Epoch 25/50\n",
            "Epoch 26/50\n",
            "Epoch 27/50\n",
            "Epoch 28/50\n",
            "Epoch 29/50\n",
            "Epoch 30/50\n",
            "Epoch 31/50\n",
            "Epoch 32/50\n",
            "Epoch 33/50\n",
            "Epoch 34/50\n",
            "Epoch 35/50\n",
            "Epoch 36/50\n",
            "Epoch 37/50\n",
            "Epoch 38/50\n",
            "Epoch 39/50\n",
            "Epoch 40/50\n",
            "Epoch 41/50\n",
            "Epoch 42/50\n",
            "Epoch 43/50\n",
            "Epoch 44/50\n",
            "Epoch 45/50\n",
            "Epoch 46/50\n",
            "Epoch 47/50\n",
            "Epoch 48/50\n",
            "Epoch 49/50\n",
            "Epoch 50/50\n",
            "Epoch 1/50\n",
            "Epoch 2/50\n",
            "Epoch 3/50\n",
            "Epoch 4/50\n",
            "Epoch 5/50\n",
            "Epoch 6/50\n",
            "Epoch 7/50\n",
            "Epoch 8/50\n",
            "Epoch 9/50\n",
            "Epoch 10/50\n",
            "Epoch 11/50\n",
            "Epoch 12/50\n",
            "Epoch 13/50\n",
            "Epoch 14/50\n",
            "Epoch 15/50\n",
            "Epoch 16/50\n",
            "Epoch 17/50\n",
            "Epoch 18/50\n",
            "Epoch 19/50\n",
            "Epoch 20/50\n",
            "Epoch 21/50\n",
            "Epoch 22/50\n",
            "Epoch 23/50\n",
            "Epoch 24/50\n",
            "Epoch 25/50\n",
            "Epoch 26/50\n",
            "Epoch 27/50\n",
            "Epoch 28/50\n",
            "Epoch 29/50\n",
            "Epoch 30/50\n",
            "Epoch 31/50\n",
            "Epoch 32/50\n",
            "Epoch 33/50\n",
            "Epoch 34/50\n",
            "Epoch 35/50\n",
            "Epoch 36/50\n",
            "Epoch 37/50\n",
            "Epoch 38/50\n",
            "Epoch 39/50\n",
            "Epoch 40/50\n",
            "Epoch 41/50\n",
            "Epoch 42/50\n",
            "Epoch 43/50\n",
            "Epoch 44/50\n",
            "Epoch 45/50\n",
            "Epoch 46/50\n",
            "Epoch 47/50\n",
            "Epoch 48/50\n",
            "Epoch 49/50\n",
            "Epoch 50/50\n",
            "Epoch 1/50\n",
            "Epoch 2/50\n",
            "Epoch 3/50\n",
            "Epoch 4/50\n",
            "Epoch 5/50\n",
            "Epoch 6/50\n",
            "Epoch 7/50\n",
            "Epoch 8/50\n",
            "Epoch 9/50\n",
            "Epoch 10/50\n",
            "Epoch 11/50\n",
            "Epoch 12/50\n",
            "Epoch 13/50\n",
            "Epoch 14/50\n",
            "Epoch 15/50\n",
            "Epoch 16/50\n",
            "Epoch 17/50\n",
            "Epoch 18/50\n",
            "Epoch 19/50\n",
            "Epoch 20/50\n",
            "Epoch 21/50\n",
            "Epoch 22/50\n",
            "Epoch 23/50\n",
            "Epoch 24/50\n",
            "Epoch 25/50\n",
            "Epoch 26/50\n",
            "Epoch 27/50\n",
            "Epoch 28/50\n",
            "Epoch 29/50\n",
            "Epoch 30/50\n",
            "Epoch 31/50\n",
            "Epoch 32/50\n",
            "Epoch 33/50\n",
            "Epoch 34/50\n",
            "Epoch 35/50\n",
            "Epoch 36/50\n",
            "Epoch 37/50\n",
            "Epoch 38/50\n",
            "Epoch 39/50\n",
            "Epoch 40/50\n",
            "Epoch 41/50\n",
            "Epoch 42/50\n",
            "Epoch 43/50\n",
            "Epoch 44/50\n",
            "Epoch 45/50\n",
            "Epoch 46/50\n",
            "Epoch 47/50\n",
            "Epoch 48/50\n",
            "Epoch 49/50\n",
            "Epoch 50/50\n",
            "Epoch 1/50\n",
            "Epoch 2/50\n",
            "Epoch 3/50\n",
            "Epoch 4/50\n",
            "Epoch 5/50\n",
            "Epoch 6/50\n",
            "Epoch 7/50\n",
            "Epoch 8/50\n",
            "Epoch 9/50\n",
            "Epoch 10/50\n",
            "Epoch 11/50\n",
            "Epoch 12/50\n",
            "Epoch 13/50\n",
            "Epoch 14/50\n",
            "Epoch 15/50\n",
            "Epoch 16/50\n",
            "Epoch 17/50\n",
            "Epoch 18/50\n",
            "Epoch 19/50\n",
            "Epoch 20/50\n",
            "Epoch 21/50\n",
            "Epoch 22/50\n",
            "Epoch 23/50\n",
            "Epoch 24/50\n",
            "Epoch 25/50\n",
            "Epoch 26/50\n",
            "Epoch 27/50\n",
            "Epoch 28/50\n",
            "Epoch 29/50\n",
            "Epoch 30/50\n",
            "Epoch 31/50\n",
            "Epoch 32/50\n",
            "Epoch 33/50\n",
            "Epoch 34/50\n",
            "Epoch 35/50\n",
            "Epoch 36/50\n",
            "Epoch 37/50\n",
            "Epoch 38/50\n",
            "Epoch 39/50\n",
            "Epoch 40/50\n",
            "Epoch 41/50\n",
            "Epoch 42/50\n",
            "Epoch 43/50\n",
            "Epoch 44/50\n",
            "Epoch 45/50\n",
            "Epoch 46/50\n",
            "Epoch 47/50\n",
            "Epoch 48/50\n",
            "Epoch 49/50\n",
            "Epoch 50/50\n",
            "Epoch 1/50\n",
            "Epoch 2/50\n",
            "Epoch 3/50\n",
            "Epoch 4/50\n",
            "Epoch 5/50\n",
            "Epoch 6/50\n",
            "Epoch 7/50\n",
            "Epoch 8/50\n",
            "Epoch 9/50\n",
            "Epoch 10/50\n",
            "Epoch 11/50\n",
            "Epoch 12/50\n",
            "Epoch 13/50\n",
            "Epoch 14/50\n",
            "Epoch 15/50\n",
            "Epoch 16/50\n",
            "Epoch 17/50\n",
            "Epoch 18/50\n",
            "Epoch 19/50\n",
            "Epoch 20/50\n",
            "Epoch 21/50\n",
            "Epoch 22/50\n",
            "Epoch 23/50\n",
            "Epoch 24/50\n",
            "Epoch 25/50\n",
            "Epoch 26/50\n",
            "Epoch 27/50\n",
            "Epoch 28/50\n",
            "Epoch 29/50\n",
            "Epoch 30/50\n",
            "Epoch 31/50\n",
            "Epoch 32/50\n",
            "Epoch 33/50\n",
            "Epoch 34/50\n",
            "Epoch 35/50\n",
            "Epoch 36/50\n",
            "Epoch 37/50\n",
            "Epoch 38/50\n",
            "Epoch 39/50\n",
            "Epoch 40/50\n",
            "Epoch 41/50\n",
            "Epoch 42/50\n",
            "Epoch 43/50\n",
            "Epoch 44/50\n",
            "Epoch 45/50\n",
            "Epoch 46/50\n",
            "Epoch 47/50\n",
            "Epoch 48/50\n",
            "Epoch 49/50\n",
            "Epoch 50/50\n",
            "Epoch 1/50\n",
            "Epoch 2/50\n",
            "Epoch 3/50\n",
            "Epoch 4/50\n",
            "Epoch 5/50\n",
            "Epoch 6/50\n",
            "Epoch 7/50\n",
            "Epoch 8/50\n",
            "Epoch 9/50\n",
            "Epoch 10/50\n",
            "Epoch 11/50\n",
            "Epoch 12/50\n",
            "Epoch 13/50\n",
            "Epoch 14/50\n",
            "Epoch 15/50\n",
            "Epoch 16/50\n",
            "Epoch 17/50\n",
            "Epoch 18/50\n",
            "Epoch 19/50\n",
            "Epoch 20/50\n",
            "Epoch 21/50\n",
            "Epoch 22/50\n",
            "Epoch 23/50\n",
            "Epoch 24/50\n",
            "Epoch 25/50\n",
            "Epoch 26/50\n",
            "Epoch 27/50\n",
            "Epoch 28/50\n",
            "Epoch 29/50\n",
            "Epoch 30/50\n",
            "Epoch 31/50\n",
            "Epoch 32/50\n",
            "Epoch 33/50\n",
            "Epoch 34/50\n",
            "Epoch 35/50\n",
            "Epoch 36/50\n",
            "Epoch 37/50\n",
            "Epoch 38/50\n",
            "Epoch 39/50\n",
            "Epoch 40/50\n",
            "Epoch 41/50\n",
            "Epoch 42/50\n",
            "Epoch 43/50\n",
            "Epoch 44/50\n",
            "Epoch 45/50\n",
            "Epoch 46/50\n",
            "Epoch 47/50\n",
            "Epoch 48/50\n",
            "Epoch 49/50\n",
            "Epoch 50/50\n",
            "Epoch 1/50\n",
            "Epoch 2/50\n",
            "Epoch 3/50\n",
            "Epoch 4/50\n",
            "Epoch 5/50\n",
            "Epoch 6/50\n",
            "Epoch 7/50\n",
            "Epoch 8/50\n",
            "Epoch 9/50\n",
            "Epoch 10/50\n",
            "Epoch 11/50\n",
            "Epoch 12/50\n",
            "Epoch 13/50\n",
            "Epoch 14/50\n",
            "Epoch 15/50\n",
            "Epoch 16/50\n",
            "Epoch 17/50\n",
            "Epoch 18/50\n",
            "Epoch 19/50\n",
            "Epoch 20/50\n",
            "Epoch 21/50\n",
            "Epoch 22/50\n",
            "Epoch 23/50\n",
            "Epoch 24/50\n",
            "Epoch 25/50\n",
            "Epoch 26/50\n",
            "Epoch 27/50\n",
            "Epoch 28/50\n",
            "Epoch 29/50\n",
            "Epoch 30/50\n",
            "Epoch 31/50\n",
            "Epoch 32/50\n",
            "Epoch 33/50\n",
            "Epoch 34/50\n",
            "Epoch 35/50\n",
            "Epoch 36/50\n",
            "Epoch 37/50\n",
            "Epoch 38/50\n",
            "Epoch 39/50\n",
            "Epoch 40/50\n",
            "Epoch 41/50\n",
            "Epoch 42/50\n",
            "Epoch 43/50\n",
            "Epoch 44/50\n",
            "Epoch 45/50\n",
            "Epoch 46/50\n",
            "Epoch 47/50\n",
            "Epoch 48/50\n",
            "Epoch 49/50\n",
            "Epoch 50/50\n",
            "Epoch 1/50\n",
            "Epoch 2/50\n",
            "Epoch 3/50\n",
            "Epoch 4/50\n",
            "Epoch 5/50\n",
            "Epoch 6/50\n",
            "Epoch 7/50\n",
            "Epoch 8/50\n",
            "Epoch 9/50\n",
            "Epoch 10/50\n",
            "Epoch 11/50\n",
            "Epoch 12/50\n",
            "Epoch 13/50\n",
            "Epoch 14/50\n",
            "Epoch 15/50\n",
            "Epoch 16/50\n",
            "Epoch 17/50\n",
            "Epoch 18/50\n",
            "Epoch 19/50\n",
            "Epoch 20/50\n",
            "Epoch 21/50\n",
            "Epoch 22/50\n",
            "Epoch 23/50\n",
            "Epoch 24/50\n",
            "Epoch 25/50\n",
            "Epoch 26/50\n",
            "Epoch 27/50\n",
            "Epoch 28/50\n",
            "Epoch 29/50\n",
            "Epoch 30/50\n",
            "Epoch 31/50\n",
            "Epoch 32/50\n",
            "Epoch 33/50\n",
            "Epoch 34/50\n",
            "Epoch 35/50\n",
            "Epoch 36/50\n",
            "Epoch 37/50\n",
            "Epoch 38/50\n",
            "Epoch 39/50\n",
            "Epoch 40/50\n",
            "Epoch 41/50\n",
            "Epoch 42/50\n",
            "Epoch 43/50\n",
            "Epoch 44/50\n",
            "Epoch 45/50\n",
            "Epoch 46/50\n",
            "Epoch 47/50\n",
            "Epoch 48/50\n",
            "Epoch 49/50\n",
            "Epoch 50/50\n",
            "Total execution time is:  0:11:02.248361\n"
          ]
        }
      ],
      "source": [
        "# START COUNTING THE TIME\n",
        "start = datetime.datetime.now()\n",
        "\n",
        "# FIT THE GRIDSEARCH MODEL\n",
        "grid_fit = grid_cv.fit(X, y)\n",
        "\n",
        "# STOP COUNTING THE TIME\n",
        "end = datetime.datetime.now()\n",
        "print(\"Total execution time is: \", end-start)"
      ]
    },
    {
      "cell_type": "code",
      "source": [
        "# SUMMARIZE RESULTS AND SHOW BEST VALUES\n",
        "\n",
        "print(\"Best: %f using %s\" % (grid_fit.best_score_, grid_fit.best_params_))\n",
        "means = grid_fit.cv_results_['mean_test_accuracy_score']\n",
        "stds = grid_fit.cv_results_['std_test_accuracy_score']\n",
        "params = grid_fit.cv_results_['params']\n",
        "\n",
        "for mean, stdev, param in zip(means, stds, params):\n",
        "    print(\"%f (%f) with: %r\" % (mean, stdev, param))"
      ],
      "metadata": {
        "colab": {
          "base_uri": "https://localhost:8080/",
          "height": 173
        },
        "id": "BhXSx2ic37Tn",
        "outputId": "7f8aecab-09ba-42b2-8b95-1a04730ea030"
      },
      "execution_count": null,
      "outputs": [
        {
          "output_type": "display_data",
          "data": {
            "text/plain": [
              "<IPython.core.display.Javascript object>"
            ],
            "application/javascript": [
              "google.colab.output.setIframeHeight(0, true, {maxHeight: 300})"
            ]
          },
          "metadata": {}
        },
        {
          "output_type": "stream",
          "name": "stdout",
          "text": [
            "Best: 0.819745 using {'optimizer': 'Adam', 'lr': 0.0001, 'activation': 'relu'}\n",
            "0.782030 (0.019165) with: {'optimizer': 'SGD', 'lr': 0.001, 'activation': 'relu'}\n",
            "0.755962 (0.049103) with: {'optimizer': 'Adam', 'lr': 0.001, 'activation': 'relu'}\n",
            "0.800887 (0.024163) with: {'optimizer': 'SGD', 'lr': 0.0001, 'activation': 'relu'}\n",
            "0.819745 (0.023933) with: {'optimizer': 'Adam', 'lr': 0.0001, 'activation': 'relu'}\n",
            "0.711037 (0.054720) with: {'optimizer': 'SGD', 'lr': 0.001, 'activation': 'LeakyRelu'}\n",
            "0.632834 (0.116317) with: {'optimizer': 'Adam', 'lr': 0.001, 'activation': 'LeakyRelu'}\n",
            "0.806434 (0.003419) with: {'optimizer': 'SGD', 'lr': 0.0001, 'activation': 'LeakyRelu'}\n",
            "0.819190 (0.008734) with: {'optimizer': 'Adam', 'lr': 0.0001, 'activation': 'LeakyRelu'}\n"
          ]
        }
      ]
    },
    {
      "cell_type": "markdown",
      "metadata": {
        "id": "JJcaOkDggEDO"
      },
      "source": [
        "### Performance results Model V05"
      ]
    },
    {
      "cell_type": "code",
      "source": [
        "# SAVE THE TIME NEEDED TO RUN THE ALGORITHM\n",
        "time_duration_modelV05_gridsearchcv = end - start\n",
        "print(time_duration_modelV05_gridsearchcv)"
      ],
      "metadata": {
        "id": "eg8crS49dNIm",
        "colab": {
          "base_uri": "https://localhost:8080/",
          "height": 34
        },
        "outputId": "0326e054-446b-4014-dc41-91ac5d0eee05"
      },
      "execution_count": null,
      "outputs": [
        {
          "output_type": "display_data",
          "data": {
            "text/plain": [
              "<IPython.core.display.Javascript object>"
            ],
            "application/javascript": [
              "google.colab.output.setIframeHeight(0, true, {maxHeight: 300})"
            ]
          },
          "metadata": {}
        },
        {
          "output_type": "stream",
          "name": "stdout",
          "text": [
            "0:11:02.248361\n"
          ]
        }
      ]
    },
    {
      "cell_type": "markdown",
      "source": [
        "## 1.2.6 MODEL V04_GRIDSEARCHCV - Retraining with best gridsearchCV parameters founded.\n",
        "\n",
        "In this case we are retraining the model V04 with the best parameters obtained in model V05 in order to be able to show also all the metrics that we already saved for the other models."
      ],
      "metadata": {
        "id": "i9cy6VzitmQO"
      }
    },
    {
      "cell_type": "code",
      "source": [
        "# BEST PARAMETERS\n",
        "batch_size_CV = 16\n",
        "optimizer_CV = 'Adam'\n",
        "learning_rate_CV = 0.0001\n",
        "activation_CV = 'relu'"
      ],
      "metadata": {
        "colab": {
          "base_uri": "https://localhost:8080/",
          "height": 17
        },
        "id": "3hL3gmoutsSp",
        "outputId": "4545616c-7f67-4ebe-b724-4da8a002fe2e"
      },
      "execution_count": null,
      "outputs": [
        {
          "output_type": "display_data",
          "data": {
            "text/plain": [
              "<IPython.core.display.Javascript object>"
            ],
            "application/javascript": [
              "google.colab.output.setIframeHeight(0, true, {maxHeight: 300})"
            ]
          },
          "metadata": {}
        }
      ]
    },
    {
      "cell_type": "code",
      "source": [
        "# # DATA AUGMENTATION ONLY ON THE TRAINING SET\n",
        "# train_datagen_CV = ImageDataGenerator(\n",
        "#         rescale=1./255,\n",
        "#         shear_range=0.2,\n",
        "#         zoom_range=0.1,\n",
        "#         horizontal_flip=True,\n",
        "#         width_shift_range=0.1,  # randomly shift images horizontally (fraction of total width)\n",
        "#         height_shift_range=0.1,\n",
        "#         rotation_range=45,\n",
        "#         fill_mode='nearest')  # randomly shift images vertically (fraction of total height))\n",
        "\n",
        "# # this is the augmentation configuration we will use for testing:\n",
        "# # only rescaling\n",
        "# test_datagen_CV = ImageDataGenerator(rescale=1./255) \n",
        "# val_datagen_CV = ImageDataGenerator(rescale=1./255) \n",
        "\n",
        "# # this is a generator that will read pictures found in\n",
        "# # subfolers of 'data/train', and indefinitely generate\n",
        "# # batches of augmented image data\n",
        "# train_generator_CV = train_datagen_CV.flow_from_directory(\n",
        "#     base_path_train,\n",
        "#     target_size=(SIZE,SIZE),\n",
        "#     batch_size=batch_size_CV,\n",
        "#     shuffle=True,\n",
        "#     class_mode=\"categorical\",\n",
        "#     seed = SEED_VALUE)\n",
        "\n",
        "# test_generator_CV = test_datagen_CV.flow_from_directory(\n",
        "#     base_path_test,\n",
        "#     target_size=(SIZE,SIZE),\n",
        "#     batch_size=batch_size_CV,\n",
        "#     shuffle=False,\n",
        "#     class_mode=\"categorical\",\n",
        "#     seed = SEED_VALUE)\n",
        "\n",
        "# val_generator_CV = val_datagen_CV.flow_from_directory(\n",
        "#     base_path_val,\n",
        "#     target_size=(SIZE,SIZE),\n",
        "#     batch_size=batch_size_CV,\n",
        "#     shuffle=False,\n",
        "#     class_mode=\"categorical\",\n",
        "#     seed = SEED_VALUE)"
      ],
      "metadata": {
        "colab": {
          "base_uri": "https://localhost:8080/",
          "height": 69
        },
        "id": "9cbd2R5n172W",
        "outputId": "7d65bee2-813c-46d2-d43d-5ac083dbf2cc"
      },
      "execution_count": null,
      "outputs": [
        {
          "output_type": "display_data",
          "data": {
            "text/plain": [
              "<IPython.core.display.Javascript object>"
            ],
            "application/javascript": [
              "google.colab.output.setIframeHeight(0, true, {maxHeight: 300})"
            ]
          },
          "metadata": {}
        },
        {
          "output_type": "stream",
          "name": "stdout",
          "text": [
            "Found 3004 images belonging to 10 classes.\n",
            "Found 132 images belonging to 10 classes.\n",
            "Found 242 images belonging to 10 classes.\n"
          ]
        }
      ]
    },
    {
      "cell_type": "code",
      "source": [
        "# ARCHITECTURE FOUND AT: https://blog.keras.io/building-powerful-image-classification-models-using-very-little-data.html\n",
        "inputs = keras.Input((SIZE,SIZE,3))\n",
        "\n",
        "x = inputs\n",
        "\n",
        "x = keras.layers.Conv2D(32, 3, padding=\"same\", kernel_initializer=\"he_uniform\", kernel_regularizer=tf.keras.regularizers.l2(0.001))(x)\n",
        "x = keras.layers.BatchNormalization()(x)\n",
        "x = keras.layers.Activation(activation_CV)(x)\n",
        "x = keras.layers.MaxPooling2D(3, strides=3, padding=\"same\")(x)\n",
        "\n",
        "x = keras.layers.Conv2D(32, 3, padding=\"same\", kernel_initializer=\"he_uniform\", kernel_regularizer=tf.keras.regularizers.l2(0.001))(x)\n",
        "x = keras.layers.BatchNormalization()(x)\n",
        "x = keras.layers.Activation(activation_CV )(x)\n",
        "x = keras.layers.MaxPooling2D(3, strides=3, padding=\"same\")(x)\n",
        "\n",
        "x = keras.layers.Conv2D(64, 3, padding=\"same\", kernel_initializer=\"he_uniform\", kernel_regularizer=tf.keras.regularizers.l2(0.001))(x)\n",
        "x = keras.layers.BatchNormalization()(x)\n",
        "x = keras.layers.Activation(activation_CV)(x)\n",
        "x = keras.layers.MaxPooling2D(3, strides=3, padding=\"same\")(x)\n",
        "\n",
        "x = keras.layers.Conv2D(64, 3, padding=\"same\", kernel_initializer=\"he_uniform\", kernel_regularizer=tf.keras.regularizers.l2(0.001))(x)\n",
        "x = keras.layers.BatchNormalization()(x)\n",
        "x = keras.layers.Activation(activation_CV)(x)\n",
        "x = keras.layers.MaxPooling2D(3, strides=3, padding=\"same\")(x)\n",
        "\n",
        "x = keras.layers.Conv2D(128, 3, padding=\"same\", kernel_initializer=\"he_uniform\", kernel_regularizer=tf.keras.regularizers.l2(0.001))(x)\n",
        "x = keras.layers.BatchNormalization()(x)\n",
        "x = keras.layers.Activation(activation_CV)(x)\n",
        "x = keras.layers.MaxPooling2D(3, strides=3, padding=\"same\")(x)\n",
        "\n",
        "x = keras.layers.Conv2D(128, 3, padding=\"same\", kernel_initializer=\"he_uniform\", kernel_regularizer=tf.keras.regularizers.l2(0.001))(x)\n",
        "x = keras.layers.BatchNormalization()(x)\n",
        "x = keras.layers.Activation(activation_CV)(x)\n",
        "x = keras.layers.MaxPooling2D(3, strides=3, padding=\"same\")(x)\n",
        "\n",
        "x = keras.layers.Conv2D(512, 3, padding=\"same\", kernel_initializer=\"he_uniform\", kernel_regularizer=tf.keras.regularizers.l2(0.001))(x)\n",
        "x = keras.layers.BatchNormalization()(x)\n",
        "x = keras.layers.Activation(activation_CV)(x)\n",
        "x = keras.layers.GlobalMaxPooling2D()(x)\n",
        "\n",
        "# the model so far outputs 3D feature maps (height, width, features)\n",
        "\n",
        "# FLATTEN AND ADD DROPOUT\n",
        "x = tf.keras.layers.Flatten()(x) # this converts our 3D feature maps to 1D feature vectors\n",
        "x = keras.layers.Dense(512, activation=activation_CV, kernel_regularizer=tf.keras.regularizers.l2(0.001))(x)\n",
        "x = keras.layers.Activation(activation_CV)(x)\n",
        "x = keras.layers.Dropout(.15)(x)\n",
        "x = keras.layers.Dense(512, activation=activation_CV, kernel_regularizer=tf.keras.regularizers.l2(0.001))(x)\n",
        "\n",
        "outputs = keras.layers.Dense(num_classes, activation=\"softmax\", kernel_regularizer=tf.keras.regularizers.l2(0.001))(x)\n",
        "\n",
        "net_modelvGSCV = keras.Model(inputs, outputs)\n",
        "\n",
        "net_modelvGSCV.summary()"
      ],
      "metadata": {
        "colab": {
          "base_uri": "https://localhost:8080/",
          "height": 300
        },
        "id": "06uhhTkY2YhS",
        "outputId": "3ff80a35-8e0e-45e6-f063-bf9bd25ad6d9"
      },
      "execution_count": null,
      "outputs": [
        {
          "output_type": "display_data",
          "data": {
            "text/plain": [
              "<IPython.core.display.Javascript object>"
            ],
            "application/javascript": [
              "google.colab.output.setIframeHeight(0, true, {maxHeight: 300})"
            ]
          },
          "metadata": {}
        },
        {
          "output_type": "stream",
          "name": "stdout",
          "text": [
            "Model: \"model_2\"\n",
            "_________________________________________________________________\n",
            " Layer (type)                Output Shape              Param #   \n",
            "=================================================================\n",
            " input_57 (InputLayer)       [(None, 96, 96, 3)]       0         \n",
            "                                                                 \n",
            " conv2d_382 (Conv2D)         (None, 96, 96, 32)        896       \n",
            "                                                                 \n",
            " batch_normalization_378 (Ba  (None, 96, 96, 32)       128       \n",
            " tchNormalization)                                               \n",
            "                                                                 \n",
            " activation_382 (Activation)  (None, 96, 96, 32)       0         \n",
            "                                                                 \n",
            " max_pooling2d_326 (MaxPooli  (None, 32, 32, 32)       0         \n",
            " ng2D)                                                           \n",
            "                                                                 \n",
            " conv2d_383 (Conv2D)         (None, 32, 32, 32)        9248      \n",
            "                                                                 \n",
            " batch_normalization_379 (Ba  (None, 32, 32, 32)       128       \n",
            " tchNormalization)                                               \n",
            "                                                                 \n",
            " activation_383 (Activation)  (None, 32, 32, 32)       0         \n",
            "                                                                 \n",
            " max_pooling2d_327 (MaxPooli  (None, 11, 11, 32)       0         \n",
            " ng2D)                                                           \n",
            "                                                                 \n",
            " conv2d_384 (Conv2D)         (None, 11, 11, 64)        18496     \n",
            "                                                                 \n",
            " batch_normalization_380 (Ba  (None, 11, 11, 64)       256       \n",
            " tchNormalization)                                               \n",
            "                                                                 \n",
            " activation_384 (Activation)  (None, 11, 11, 64)       0         \n",
            "                                                                 \n",
            " max_pooling2d_328 (MaxPooli  (None, 4, 4, 64)         0         \n",
            " ng2D)                                                           \n",
            "                                                                 \n",
            " conv2d_385 (Conv2D)         (None, 4, 4, 64)          36928     \n",
            "                                                                 \n",
            " batch_normalization_381 (Ba  (None, 4, 4, 64)         256       \n",
            " tchNormalization)                                               \n",
            "                                                                 \n",
            " activation_385 (Activation)  (None, 4, 4, 64)         0         \n",
            "                                                                 \n",
            " max_pooling2d_329 (MaxPooli  (None, 2, 2, 64)         0         \n",
            " ng2D)                                                           \n",
            "                                                                 \n",
            " conv2d_386 (Conv2D)         (None, 2, 2, 128)         73856     \n",
            "                                                                 \n",
            " batch_normalization_382 (Ba  (None, 2, 2, 128)        512       \n",
            " tchNormalization)                                               \n",
            "                                                                 \n",
            " activation_386 (Activation)  (None, 2, 2, 128)        0         \n",
            "                                                                 \n",
            " max_pooling2d_330 (MaxPooli  (None, 1, 1, 128)        0         \n",
            " ng2D)                                                           \n",
            "                                                                 \n",
            " conv2d_387 (Conv2D)         (None, 1, 1, 128)         147584    \n",
            "                                                                 \n",
            " batch_normalization_383 (Ba  (None, 1, 1, 128)        512       \n",
            " tchNormalization)                                               \n",
            "                                                                 \n",
            " activation_387 (Activation)  (None, 1, 1, 128)        0         \n",
            "                                                                 \n",
            " max_pooling2d_331 (MaxPooli  (None, 1, 1, 128)        0         \n",
            " ng2D)                                                           \n",
            "                                                                 \n",
            " conv2d_388 (Conv2D)         (None, 1, 1, 512)         590336    \n",
            "                                                                 \n",
            " batch_normalization_384 (Ba  (None, 1, 1, 512)        2048      \n",
            " tchNormalization)                                               \n",
            "                                                                 \n",
            " activation_388 (Activation)  (None, 1, 1, 512)        0         \n",
            "                                                                 \n",
            " global_max_pooling2d_2 (Glo  (None, 512)              0         \n",
            " balMaxPooling2D)                                                \n",
            "                                                                 \n",
            " flatten_54 (Flatten)        (None, 512)               0         \n",
            "                                                                 \n",
            " dense_164 (Dense)           (None, 512)               262656    \n",
            "                                                                 \n",
            " activation_389 (Activation)  (None, 512)              0         \n",
            "                                                                 \n",
            " dropout_54 (Dropout)        (None, 512)               0         \n",
            "                                                                 \n",
            " dense_165 (Dense)           (None, 512)               262656    \n",
            "                                                                 \n",
            " dense_166 (Dense)           (None, 10)                5130      \n",
            "                                                                 \n",
            "=================================================================\n",
            "Total params: 1,411,626\n",
            "Trainable params: 1,409,706\n",
            "Non-trainable params: 1,920\n",
            "_________________________________________________________________\n"
          ]
        }
      ]
    },
    {
      "cell_type": "code",
      "source": [
        "net_modelvGSCV.compile(loss=keras.losses.categorical_crossentropy,\n",
        "            optimizer= keras.optimizers.Adam(learning_rate=learning_rate_CV),\n",
        "            metrics=['accuracy'])"
      ],
      "metadata": {
        "colab": {
          "base_uri": "https://localhost:8080/",
          "height": 17
        },
        "id": "ZvTDe_hP2gAd",
        "outputId": "54b56706-a96c-4733-9d27-8f5a19bf3bb6"
      },
      "execution_count": null,
      "outputs": [
        {
          "output_type": "display_data",
          "data": {
            "text/plain": [
              "<IPython.core.display.Javascript object>"
            ],
            "application/javascript": [
              "google.colab.output.setIframeHeight(0, true, {maxHeight: 300})"
            ]
          },
          "metadata": {}
        }
      ]
    },
    {
      "cell_type": "code",
      "source": [
        "# START COUNTING THE TIME\n",
        "start = datetime.datetime.now()\n",
        "\n",
        "history_modelv04_CV = net_modelvGSCV.fit(\n",
        "        train_generator,\n",
        "        epochs=50, \n",
        "        steps_per_epoch = train_generator.n // train_generator.batch_size,\n",
        "        validation_data = val_generator,\n",
        "        validation_steps = val_generator.n // val_generator.batch_size,\n",
        "        callbacks = [callback])\n",
        "\n",
        "# STOP COUNTING THE TIME\n",
        "end = datetime.datetime.now()\n",
        "print(\"Total execution time is: \", end-start)"
      ],
      "metadata": {
        "colab": {
          "base_uri": "https://localhost:8080/",
          "height": 300
        },
        "id": "FoykFdf824t0",
        "outputId": "1b74a566-0021-48e5-b88b-38514be7fe44"
      },
      "execution_count": null,
      "outputs": [
        {
          "output_type": "display_data",
          "data": {
            "text/plain": [
              "<IPython.core.display.Javascript object>"
            ],
            "application/javascript": [
              "google.colab.output.setIframeHeight(0, true, {maxHeight: 300})"
            ]
          },
          "metadata": {}
        },
        {
          "output_type": "stream",
          "name": "stdout",
          "text": [
            "Epoch 1/50\n",
            "187/187 [==============================] - 26s 131ms/step - loss: 4.4170 - accuracy: 0.3454 - val_loss: 4.4760 - val_accuracy: 0.1875\n",
            "Epoch 2/50\n",
            "187/187 [==============================] - 16s 87ms/step - loss: 3.4726 - accuracy: 0.5348 - val_loss: 3.6148 - val_accuracy: 0.4219\n",
            "Epoch 3/50\n",
            "187/187 [==============================] - 16s 88ms/step - loss: 3.0499 - accuracy: 0.5977 - val_loss: 3.3170 - val_accuracy: 0.5469\n",
            "Epoch 4/50\n",
            "187/187 [==============================] - 16s 87ms/step - loss: 2.8065 - accuracy: 0.6476 - val_loss: 3.1150 - val_accuracy: 0.4922\n",
            "Epoch 5/50\n",
            "187/187 [==============================] - 17s 91ms/step - loss: 2.6400 - accuracy: 0.6847 - val_loss: 3.2305 - val_accuracy: 0.4688\n",
            "Epoch 6/50\n",
            "187/187 [==============================] - 16s 88ms/step - loss: 2.5359 - accuracy: 0.7132 - val_loss: 3.1744 - val_accuracy: 0.5156\n",
            "Epoch 7/50\n",
            "187/187 [==============================] - 17s 93ms/step - loss: 2.4604 - accuracy: 0.7306 - val_loss: 3.1692 - val_accuracy: 0.5625\n",
            "Epoch 8/50\n",
            "187/187 [==============================] - 17s 89ms/step - loss: 2.3702 - accuracy: 0.7500 - val_loss: 3.1009 - val_accuracy: 0.5234\n",
            "Epoch 9/50\n",
            "187/187 [==============================] - 16s 87ms/step - loss: 2.3181 - accuracy: 0.7641 - val_loss: 3.0130 - val_accuracy: 0.5547\n",
            "Epoch 10/50\n",
            "187/187 [==============================] - 17s 91ms/step - loss: 2.2708 - accuracy: 0.7691 - val_loss: 3.0160 - val_accuracy: 0.5859\n",
            "Epoch 11/50\n",
            "187/187 [==============================] - 18s 96ms/step - loss: 2.1833 - accuracy: 0.7948 - val_loss: 3.0904 - val_accuracy: 0.5703\n",
            "Epoch 12/50\n",
            "187/187 [==============================] - 16s 85ms/step - loss: 2.1583 - accuracy: 0.7962 - val_loss: 2.8971 - val_accuracy: 0.6172\n",
            "Epoch 13/50\n",
            "187/187 [==============================] - 16s 88ms/step - loss: 2.1036 - accuracy: 0.8179 - val_loss: 2.8677 - val_accuracy: 0.6250\n",
            "Epoch 14/50\n",
            "187/187 [==============================] - 16s 87ms/step - loss: 2.0550 - accuracy: 0.8159 - val_loss: 2.8472 - val_accuracy: 0.6562\n",
            "Epoch 15/50\n",
            "187/187 [==============================] - 16s 86ms/step - loss: 2.0049 - accuracy: 0.8394 - val_loss: 2.7505 - val_accuracy: 0.6484\n",
            "Epoch 16/50\n",
            "187/187 [==============================] - 16s 88ms/step - loss: 1.9755 - accuracy: 0.8450 - val_loss: 2.7954 - val_accuracy: 0.6016\n",
            "Epoch 17/50\n",
            "187/187 [==============================] - 17s 89ms/step - loss: 1.9127 - accuracy: 0.8574 - val_loss: 2.6317 - val_accuracy: 0.6641\n",
            "Epoch 18/50\n",
            "187/187 [==============================] - 16s 86ms/step - loss: 1.8682 - accuracy: 0.8614 - val_loss: 2.7953 - val_accuracy: 0.6406\n",
            "Epoch 19/50\n",
            "187/187 [==============================] - 16s 88ms/step - loss: 1.8547 - accuracy: 0.8624 - val_loss: 2.9546 - val_accuracy: 0.5938\n",
            "Epoch 20/50\n",
            "187/187 [==============================] - 17s 92ms/step - loss: 1.8011 - accuracy: 0.8735 - val_loss: 3.2411 - val_accuracy: 0.5703\n",
            "Epoch 21/50\n",
            "187/187 [==============================] - 16s 88ms/step - loss: 1.8467 - accuracy: 0.8511 - val_loss: 2.7876 - val_accuracy: 0.5938\n",
            "Epoch 22/50\n",
            "187/187 [==============================] - 16s 87ms/step - loss: 1.7596 - accuracy: 0.8762 - val_loss: 2.5744 - val_accuracy: 0.6562\n",
            "Epoch 23/50\n",
            "187/187 [==============================] - 16s 86ms/step - loss: 1.7450 - accuracy: 0.8765 - val_loss: 2.7099 - val_accuracy: 0.6172\n",
            "Epoch 24/50\n",
            "187/187 [==============================] - 16s 88ms/step - loss: 1.7098 - accuracy: 0.8842 - val_loss: 2.8366 - val_accuracy: 0.6016\n",
            "Epoch 25/50\n",
            "187/187 [==============================] - 16s 85ms/step - loss: 1.6881 - accuracy: 0.8966 - val_loss: 3.1366 - val_accuracy: 0.5547\n",
            "Epoch 26/50\n",
            "187/187 [==============================] - 16s 86ms/step - loss: 1.6730 - accuracy: 0.8906 - val_loss: 2.6139 - val_accuracy: 0.5703\n",
            "Epoch 27/50\n",
            "187/187 [==============================] - 17s 91ms/step - loss: 1.6461 - accuracy: 0.8912 - val_loss: 2.6139 - val_accuracy: 0.6250\n",
            "Epoch 28/50\n",
            "187/187 [==============================] - 20s 106ms/step - loss: 1.6057 - accuracy: 0.9006 - val_loss: 2.5918 - val_accuracy: 0.6250\n",
            "Epoch 29/50\n",
            "187/187 [==============================] - 21s 110ms/step - loss: 1.5998 - accuracy: 0.9016 - val_loss: 2.7852 - val_accuracy: 0.5859\n",
            "Epoch 30/50\n",
            "187/187 [==============================] - 20s 106ms/step - loss: 1.5868 - accuracy: 0.8969 - val_loss: 2.4661 - val_accuracy: 0.6406\n",
            "Epoch 31/50\n",
            "187/187 [==============================] - 16s 87ms/step - loss: 1.5504 - accuracy: 0.9036 - val_loss: 2.7645 - val_accuracy: 0.6250\n",
            "Epoch 32/50\n",
            "187/187 [==============================] - 17s 89ms/step - loss: 1.5393 - accuracy: 0.9016 - val_loss: 2.4391 - val_accuracy: 0.6797\n",
            "Epoch 33/50\n",
            "187/187 [==============================] - 18s 94ms/step - loss: 1.4947 - accuracy: 0.9127 - val_loss: 2.5954 - val_accuracy: 0.6172\n",
            "Epoch 34/50\n",
            "187/187 [==============================] - 16s 86ms/step - loss: 1.4896 - accuracy: 0.9053 - val_loss: 2.6547 - val_accuracy: 0.5781\n",
            "Epoch 35/50\n",
            "187/187 [==============================] - 17s 88ms/step - loss: 1.4572 - accuracy: 0.9127 - val_loss: 2.4365 - val_accuracy: 0.6484\n",
            "Epoch 36/50\n",
            "187/187 [==============================] - 16s 87ms/step - loss: 1.4449 - accuracy: 0.9147 - val_loss: 2.3939 - val_accuracy: 0.6641\n",
            "Epoch 37/50\n",
            "187/187 [==============================] - 17s 91ms/step - loss: 1.4161 - accuracy: 0.9180 - val_loss: 2.6047 - val_accuracy: 0.6328\n",
            "Epoch 38/50\n",
            "187/187 [==============================] - 16s 88ms/step - loss: 1.3962 - accuracy: 0.9230 - val_loss: 2.3395 - val_accuracy: 0.6484\n",
            "Epoch 39/50\n",
            "187/187 [==============================] - 16s 86ms/step - loss: 1.3803 - accuracy: 0.9260 - val_loss: 2.3120 - val_accuracy: 0.6875\n",
            "Epoch 40/50\n",
            "187/187 [==============================] - 16s 87ms/step - loss: 1.3726 - accuracy: 0.9260 - val_loss: 2.5614 - val_accuracy: 0.6172\n",
            "Epoch 41/50\n",
            "187/187 [==============================] - 16s 86ms/step - loss: 1.3419 - accuracy: 0.9224 - val_loss: 2.3802 - val_accuracy: 0.6484\n",
            "Epoch 42/50\n",
            "187/187 [==============================] - 16s 88ms/step - loss: 1.3309 - accuracy: 0.9254 - val_loss: 2.4106 - val_accuracy: 0.6562\n",
            "Epoch 43/50\n",
            "187/187 [==============================] - 16s 86ms/step - loss: 1.3214 - accuracy: 0.9250 - val_loss: 2.3733 - val_accuracy: 0.6797\n",
            "Epoch 44/50\n",
            "187/187 [==============================] - 16s 83ms/step - loss: 1.3082 - accuracy: 0.9294 - val_loss: 2.1833 - val_accuracy: 0.6797\n",
            "Epoch 45/50\n",
            "187/187 [==============================] - 16s 83ms/step - loss: 1.2951 - accuracy: 0.9237 - val_loss: 2.3387 - val_accuracy: 0.6641\n",
            "Epoch 46/50\n",
            "187/187 [==============================] - 16s 83ms/step - loss: 1.2594 - accuracy: 0.9374 - val_loss: 2.2330 - val_accuracy: 0.6797\n",
            "Epoch 47/50\n",
            "187/187 [==============================] - 17s 89ms/step - loss: 1.2528 - accuracy: 0.9331 - val_loss: 2.1528 - val_accuracy: 0.7266\n",
            "Epoch 48/50\n",
            "187/187 [==============================] - 16s 83ms/step - loss: 1.2238 - accuracy: 0.9438 - val_loss: 2.1468 - val_accuracy: 0.6875\n",
            "Epoch 49/50\n",
            "187/187 [==============================] - 16s 83ms/step - loss: 1.2237 - accuracy: 0.9337 - val_loss: 2.5036 - val_accuracy: 0.6250\n",
            "Epoch 50/50\n",
            "187/187 [==============================] - 16s 84ms/step - loss: 1.2187 - accuracy: 0.9284 - val_loss: 2.5443 - val_accuracy: 0.6094\n",
            "Total execution time is:  0:15:58.998317\n"
          ]
        }
      ]
    },
    {
      "cell_type": "code",
      "source": [
        "# PLOT THEM TOGETHER\n",
        "# Visualization of the learning curves\n",
        "plt.figure(figsize=(15,6))\n",
        "\n",
        "# VISUALIZZIAMO NUOVAMENTE L'OUTPUT IN TERMINI DI LOSS FUNCTION\n",
        "plt.subplot(1, 2, 1)\n",
        "plt.plot(history_modelv04_CV.history['loss'])\n",
        "plt.plot(history_modelv04_CV.history['val_loss'])\n",
        "plt.ylim([0.0, 6.0]) # è difficile da dire a priori\n",
        "plt.xlabel('Epoch')\n",
        "plt.ylabel('Loss')\n",
        "plt.legend(['train', 'valid'])\n",
        "\n",
        "plt.subplot(1, 2, 2)\n",
        "plt.plot(history_modelv04_CV.history['accuracy'])\n",
        "plt.plot(history_modelv04_CV.history['val_accuracy'])\n",
        "plt.ylim([0.0, 1.0]) # 0.5 è il minimo sindacale - dummy classifier fa 50% - fino al massimo 1. \n",
        "plt.xlabel('Epoch')\n",
        "plt.ylabel('Accuracy')\n",
        "plt.legend(['train', 'valid'])"
      ],
      "metadata": {
        "colab": {
          "base_uri": "https://localhost:8080/",
          "height": 300
        },
        "id": "s96y5dDM3O-y",
        "outputId": "92a9e1fd-8624-4116-b16b-9929206c7771"
      },
      "execution_count": null,
      "outputs": [
        {
          "output_type": "display_data",
          "data": {
            "text/plain": [
              "<IPython.core.display.Javascript object>"
            ],
            "application/javascript": [
              "google.colab.output.setIframeHeight(0, true, {maxHeight: 300})"
            ]
          },
          "metadata": {}
        },
        {
          "output_type": "execute_result",
          "data": {
            "text/plain": [
              "<matplotlib.legend.Legend at 0x7fef6c18e250>"
            ]
          },
          "metadata": {},
          "execution_count": 52
        },
        {
          "output_type": "display_data",
          "data": {
            "text/plain": [
              "<Figure size 1080x432 with 2 Axes>"
            ],
            "image/png": "[encoded data removed]"
          },
          "metadata": {
            "needs_background": "light"
          }
        }
      ]
    },
    {
      "cell_type": "markdown",
      "source": [
        "### Performance results Model V04 GRIDSEARCHCV"
      ],
      "metadata": {
        "id": "LJBNLLIj3SNw"
      }
    },
    {
      "cell_type": "code",
      "source": [
        "# SAVE THE TIME NEEDED TO RUN THE ALGORITHM\n",
        "time_duration_modelV04_gridsearchCV = end - start\n",
        "print(time_duration_modelV04_gridsearchCV)"
      ],
      "metadata": {
        "id": "5WzV4FvSdj43",
        "colab": {
          "base_uri": "https://localhost:8080/",
          "height": 34
        },
        "outputId": "0c16ddc1-4060-4c30-f7e4-604abeef3bc2"
      },
      "execution_count": null,
      "outputs": [
        {
          "output_type": "display_data",
          "data": {
            "text/plain": [
              "<IPython.core.display.Javascript object>"
            ],
            "application/javascript": [
              "google.colab.output.setIframeHeight(0, true, {maxHeight: 300})"
            ]
          },
          "metadata": {}
        },
        {
          "output_type": "stream",
          "name": "stdout",
          "text": [
            "0:15:58.998317\n"
          ]
        }
      ]
    },
    {
      "cell_type": "code",
      "source": [
        "# GET THE MINIMUM ACCURACY, THE MAXIMUM ACCURACY, THE MINIMUM LOSS, THE MAXIMUM LOSS AND SAVE THEM IN VARIABLES.\n",
        "# THEN CREATE A DATAFRAME AT THE END WHERE YOU CAN COMPARE DIFFERENT MODELS WITH IT!\n",
        "\n",
        "# LOSS/VAL LOSS\n",
        "modelV04_GDCV_minLoss = min(history_modelv04_CV.history['loss'])\n",
        "modelV04_GDCV_maxLoss = max(history_modelv04_CV.history['loss'])\n",
        "modelV04_GDCV_minValLoss = min(history_modelv04_CV.history['val_loss'])\n",
        "modelV04_GDCV_maxValLoss = max(history_modelv04_CV.history['val_loss'])\n",
        "\n",
        "# ACCURACY/VAL ACCURACY\n",
        "modelV04_GDCV_minAccuracy = min(history_modelv04_CV.history['accuracy'])\n",
        "modelV04_GDCV_maxAccuracy = max(history_modelv04_CV.history['accuracy'])\n",
        "modelV04_GDCV_minValAccuracy = min(history_modelv04_CV.history['val_accuracy'])\n",
        "modelV04_GDCV_maxValAccuracy = max(history_modelv04_CV.history['val_accuracy'])\n",
        "\n",
        "# CREATE THE DATAFRAME\n",
        "modelV04_GDCV_loss_accuracy = pd.DataFrame({\"minLoss\": [modelV04_GDCV_minLoss],\n",
        "                                       \"maxloss\": [modelV04_GDCV_maxLoss],\n",
        "                                       \"minValLoss\": [modelV04_GDCV_minValLoss],\n",
        "                                       \"maxValLoss\": [modelV04_GDCV_maxValLoss],\n",
        "                                       \"minAccuracy\": [modelV04_GDCV_minAccuracy],\n",
        "                                       \"maxAccuracy\": [modelV04_GDCV_maxAccuracy],\n",
        "                                       \"minValAccuracy\": [modelV04_GDCV_minValAccuracy],\n",
        "                                       \"maxValAccuracy\": [modelV04_GDCV_maxValAccuracy]}).T\n",
        "\n",
        "# CHANGE THE FIRST COLUMN NAME\n",
        "modelV04_GDCV_loss_accuracy = modelV04_GDCV_loss_accuracy.rename(columns={0: 'modelV04_GDCV'})\n",
        "# CHANGE THE INDEX NAME\n",
        "modelV04_GDCV_loss_accuracy.index.names = ['Performance']\n",
        "modelV04_GDCV_loss_accuracy"
      ],
      "metadata": {
        "colab": {
          "base_uri": "https://localhost:8080/",
          "height": 300
        },
        "id": "Fje84e7O3VZw",
        "outputId": "dbcf0a7e-f223-4d1f-9a2c-f3b3fc78a8f9"
      },
      "execution_count": null,
      "outputs": [
        {
          "output_type": "display_data",
          "data": {
            "text/plain": [
              "<IPython.core.display.Javascript object>"
            ],
            "application/javascript": [
              "google.colab.output.setIframeHeight(0, true, {maxHeight: 300})"
            ]
          },
          "metadata": {}
        },
        {
          "output_type": "execute_result",
          "data": {
            "text/plain": [
              "                modelV04_GDCV\n",
              "Performance                  \n",
              "minLoss              1.218729\n",
              "maxloss              4.417038\n",
              "minValLoss           2.146819\n",
              "maxValLoss           4.476024\n",
              "minAccuracy          0.345382\n",
              "maxAccuracy          0.943775\n",
              "minValAccuracy       0.187500\n",
              "maxValAccuracy       0.726562"
            ],
            "text/html": [
              "\n",
              "  <div id=\"df-72c796b6-9838-45c5-ae07-68e0d4bd5252\">\n",
              "    <div class=\"colab-df-container\">\n",
              "      <div>\n",
              "<style scoped>\n",
              "    .dataframe tbody tr th:only-of-type {\n",
              "        vertical-align: middle;\n",
              "    }\n",
              "\n",
              "    .dataframe tbody tr th {\n",
              "        vertical-align: top;\n",
              "    }\n",
              "\n",
              "    .dataframe thead th {\n",
              "        text-align: right;\n",
              "    }\n",
              "</style>\n",
              "<table border=\"1\" class=\"dataframe\">\n",
              "  <thead>\n",
              "    <tr style=\"text-align: right;\">\n",
              "      <th></th>\n",
              "      <th>modelV04_GDCV</th>\n",
              "    </tr>\n",
              "    <tr>\n",
              "      <th>Performance</th>\n",
              "      <th></th>\n",
              "    </tr>\n",
              "  </thead>\n",
              "  <tbody>\n",
              "    <tr>\n",
              "      <th>minLoss</th>\n",
              "      <td>1.218729</td>\n",
              "    </tr>\n",
              "    <tr>\n",
              "      <th>maxloss</th>\n",
              "      <td>4.417038</td>\n",
              "    </tr>\n",
              "    <tr>\n",
              "      <th>minValLoss</th>\n",
              "      <td>2.146819</td>\n",
              "    </tr>\n",
              "    <tr>\n",
              "      <th>maxValLoss</th>\n",
              "      <td>4.476024</td>\n",
              "    </tr>\n",
              "    <tr>\n",
              "      <th>minAccuracy</th>\n",
              "      <td>0.345382</td>\n",
              "    </tr>\n",
              "    <tr>\n",
              "      <th>maxAccuracy</th>\n",
              "      <td>0.943775</td>\n",
              "    </tr>\n",
              "    <tr>\n",
              "      <th>minValAccuracy</th>\n",
              "      <td>0.187500</td>\n",
              "    </tr>\n",
              "    <tr>\n",
              "      <th>maxValAccuracy</th>\n",
              "      <td>0.726562</td>\n",
              "    </tr>\n",
              "  </tbody>\n",
              "</table>\n",
              "</div>\n",
              "      <button class=\"colab-df-convert\" onclick=\"convertToInteractive('df-72c796b6-9838-45c5-ae07-68e0d4bd5252')\"\n",
              "              title=\"Convert this dataframe to an interactive table.\"\n",
              "              style=\"display:none;\">\n",
              "        \n",
              "  <svg xmlns=\"http://www.w3.org/2000/svg\" height=\"24px\"viewBox=\"0 0 24 24\"\n",
              "       width=\"24px\">\n",
              "    <path d=\"M0 0h24v24H0V0z\" fill=\"none\"/>\n",
              "    <path d=\"M18.56 5.44l.94 2.06.94-2.06 2.06-.94-2.06-.94-.94-2.06-.94 2.06-2.06.94zm-11 1L8.5 8.5l.94-2.06 2.06-.94-2.06-.94L8.5 2.5l-.94 2.06-2.06.94zm10 10l.94 2.06.94-2.06 2.06-.94-2.06-.94-.94-2.06-.94 2.06-2.06.94z\"/><path d=\"M17.41 7.96l-1.37-1.37c-.4-.4-.92-.59-1.43-.59-.52 0-1.04.2-1.43.59L10.3 9.45l-7.72 7.72c-.78.78-.78 2.05 0 2.83L4 21.41c.39.39.9.59 1.41.59.51 0 1.02-.2 1.41-.59l7.78-7.78 2.81-2.81c.8-.78.8-2.07 0-2.86zM5.41 20L4 18.59l7.72-7.72 1.47 1.35L5.41 20z\"/>\n",
              "  </svg>\n",
              "      </button>\n",
              "      \n",
              "  <style>\n",
              "    .colab-df-container {\n",
              "      display:flex;\n",
              "      flex-wrap:wrap;\n",
              "      gap: 12px;\n",
              "    }\n",
              "\n",
              "    .colab-df-convert {\n",
              "      background-color: #E8F0FE;\n",
              "      border: none;\n",
              "      border-radius: 50%;\n",
              "      cursor: pointer;\n",
              "      display: none;\n",
              "      fill: #1967D2;\n",
              "      height: 32px;\n",
              "      padding: 0 0 0 0;\n",
              "      width: 32px;\n",
              "    }\n",
              "\n",
              "    .colab-df-convert:hover {\n",
              "      background-color: #E2EBFA;\n",
              "      box-shadow: 0px 1px 2px rgba(60, 64, 67, 0.3), 0px 1px 3px 1px rgba(60, 64, 67, 0.15);\n",
              "      fill: #174EA6;\n",
              "    }\n",
              "\n",
              "    [theme=dark] .colab-df-convert {\n",
              "      background-color: #3B4455;\n",
              "      fill: #D2E3FC;\n",
              "    }\n",
              "\n",
              "    [theme=dark] .colab-df-convert:hover {\n",
              "      background-color: #434B5C;\n",
              "      box-shadow: 0px 1px 3px 1px rgba(0, 0, 0, 0.15);\n",
              "      filter: drop-shadow(0px 1px 2px rgba(0, 0, 0, 0.3));\n",
              "      fill: #FFFFFF;\n",
              "    }\n",
              "  </style>\n",
              "\n",
              "      <script>\n",
              "        const buttonEl =\n",
              "          document.querySelector('#df-72c796b6-9838-45c5-ae07-68e0d4bd5252 button.colab-df-convert');\n",
              "        buttonEl.style.display =\n",
              "          google.colab.kernel.accessAllowed ? 'block' : 'none';\n",
              "\n",
              "        async function convertToInteractive(key) {\n",
              "          const element = document.querySelector('#df-72c796b6-9838-45c5-ae07-68e0d4bd5252');\n",
              "          const dataTable =\n",
              "            await google.colab.kernel.invokeFunction('convertToInteractive',\n",
              "                                                     [key], {});\n",
              "          if (!dataTable) return;\n",
              "\n",
              "          const docLinkHtml = 'Like what you see? Visit the ' +\n",
              "            '<a target=\"_blank\" href=https://colab.research.google.com/notebooks/data_table.ipynb>data table notebook</a>'\n",
              "            + ' to learn more about interactive tables.';\n",
              "          element.innerHTML = '';\n",
              "          dataTable['output_type'] = 'display_data';\n",
              "          await google.colab.output.renderOutput(dataTable, element);\n",
              "          const docLink = document.createElement('div');\n",
              "          docLink.innerHTML = docLinkHtml;\n",
              "          element.appendChild(docLink);\n",
              "        }\n",
              "      </script>\n",
              "    </div>\n",
              "  </div>\n",
              "  "
            ]
          },
          "metadata": {},
          "execution_count": 53
        }
      ]
    },
    {
      "cell_type": "markdown",
      "source": [
        "\n",
        "\n",
        "---\n",
        "\n",
        "\n",
        "\n",
        "---\n",
        "\n"
      ],
      "metadata": {
        "id": "6aHNAioKO64G"
      }
    },
    {
      "cell_type": "markdown",
      "metadata": {
        "id": "LJcpQKBp0JJW"
      },
      "source": [
        "## 1.2.7 Model V06 - Transfer learning with MOBILENETV2 and VGG16"
      ]
    },
    {
      "cell_type": "markdown",
      "metadata": {
        "id": "ddL-xctx3Sgz"
      },
      "source": [
        "The goal of using a pretrained model is that this model has been built to be very good at extracting useful features from images (it is called _feature extractor_).\n",
        "The convolutional layer that is not meant to do classification (the last layer) has the goal of extracting features from the images.\n",
        "We will use those features in order to classify our data.\n",
        "\n",
        "As state in <a href = \"https://cs231n.github.io/convolutional-networks/\"> **CS231n Convolutional Neural Networks for Visual Recognition**:\n",
        "\n",
        "*In practice: use whatever works best on ImageNet. If you’re feeling a bit of a fatigue in thinking about the architectural decisions, you’ll be pleased to know that in 90% or more of applications you should not have to worry about these. I like to summarize this point as “don’t be a hero”: Instead of rolling your own architecture for a problem, you should look at whatever architecture currently works best on ImageNet, download a pretrained model and finetune it on your data. You should rarely ever have to train a ConvNet from scratch or design one from scratch.*"
      ]
    },
    {
      "cell_type": "markdown",
      "source": [
        "**[INSERT IMAGES AND EXPLANATION ABOUT IMAGENET, MOBILENET AND VGG16 HERE OR ON THE SLIDES AS A REFERENCE!]**\n",
        "\n",
        "https://www.image-net.org/download.php"
      ],
      "metadata": {
        "id": "IfBLOLBQV_a2"
      }
    },
    {
      "cell_type": "markdown",
      "source": [
        "#### **MOBILENETV2**"
      ],
      "metadata": {
        "id": "z7Pw_Seuc4Fg"
      }
    },
    {
      "cell_type": "code",
      "source": [
        "# DATA AUGMENTATION ONLY ON THE TRAINING SET\n",
        "train_datagen_mnetv2 = ImageDataGenerator(\n",
        "        rescale=1./255,\n",
        "        shear_range=0.2,\n",
        "        zoom_range=0.1,\n",
        "        horizontal_flip=True,\n",
        "        width_shift_range=0.1,  # randomly shift images horizontally (fraction of total width)\n",
        "        height_shift_range=0.1,\n",
        "        rotation_range=45,\n",
        "        fill_mode='nearest')  # randomly shift images vertically (fraction of total height))\n",
        "\n",
        "# this is the augmentation configuration we will use for testing:\n",
        "# only rescaling\n",
        "test_datagen_mnetv2 = ImageDataGenerator(rescale=1./255) \n",
        "val_datagen_mnetv2 = ImageDataGenerator(rescale=1./255) \n",
        "\n",
        "# this is a generator that will read pictures found in\n",
        "# subfolers of 'data/train', and indefinitely generate\n",
        "# batches of augmented image data\n",
        "train_generator_mnetv2 = train_datagen_mnetv2.flow_from_directory(\n",
        "    base_path_train,\n",
        "    target_size=(224,224),\n",
        "    batch_size=batch_size_CV,\n",
        "    shuffle=True,\n",
        "    class_mode=\"categorical\",\n",
        "    seed = SEED_VALUE)\n",
        "\n",
        "test_generator_mnetv2 = test_datagen_mnetv2.flow_from_directory(\n",
        "    base_path_test,\n",
        "    target_size=(224,224),\n",
        "    batch_size=batch_size_CV,\n",
        "    shuffle=False,\n",
        "    class_mode=\"categorical\",\n",
        "    seed = SEED_VALUE)\n",
        "\n",
        "val_generator = val_datagen.flow_from_directory(\n",
        "    base_path_val,\n",
        "    target_size=(224,224),\n",
        "    batch_size=batch_size_CV,\n",
        "    shuffle=False,\n",
        "    class_mode=\"categorical\",\n",
        "    seed = SEED_VALUE)"
      ],
      "metadata": {
        "colab": {
          "base_uri": "https://localhost:8080/",
          "height": 52
        },
        "id": "CshjsQ-b7fPC",
        "outputId": "0186bcc7-da13-4db7-a1a6-d80b6840bfbf"
      },
      "execution_count": null,
      "outputs": [
        {
          "output_type": "display_data",
          "data": {
            "text/plain": [
              "<IPython.core.display.Javascript object>"
            ],
            "application/javascript": [
              "google.colab.output.setIframeHeight(0, true, {maxHeight: 300})"
            ]
          },
          "metadata": {}
        },
        {
          "output_type": "stream",
          "name": "stdout",
          "text": [
            "Found 3004 images belonging to 10 classes.\n",
            "Found 132 images belonging to 10 classes.\n"
          ]
        }
      ]
    },
    {
      "cell_type": "code",
      "source": [
        "# # INSERISCI SITO E SPIEGAZIONE COME RIFERIMENTO: https://www.image-net.org/download.php\n",
        "\n",
        "# base_model_mobilenetv2 = tf.keras.applications.MobileNetV2(\n",
        "#     input_shape = (224, 224, 3),\n",
        "#     # include_top means: do you want to keep the classification layer, the final classification that the original model was training on.\n",
        "#     # MobileNetV2 was originally trained on the ImageNet dataset. Because the final layer has 1000 classes, if we would keep it, we\n",
        "#     # would have 1000 classes at the end. We do not want that but, instead, we want our own classification layer at the end.\n",
        "#     include_top=False, \n",
        "#     # We keep the same weights\n",
        "#     weights=\"imagenet\",\n",
        "#     # # Average pooling at the end: it will ensure that the output of the pretrained model is one-dimensional (with n classes).\n",
        "#     # pooling=\"avg\"\n",
        "# )\n",
        "# # With the following we ensure that we do not mess with the original\n",
        "# # imagenet weights\n",
        "# base_model_mobilenetv2.trainable = False\n",
        "\n",
        "# x = base_model_mobilenetv2.output\n",
        "# x = keras.layers.GlobalAveragePooling2D()(x)\n",
        "# x = keras.layers.Dense(1024, activation='relu')(x)\n",
        "# x = keras.layers.Dense(512, activation='relu')(x)\n",
        "# x = keras.layers.Dense(512, activation='relu')(x)\n",
        "# # We are using \"softmax\" since we want 9 probability values that all sum to 1 and the highest probability\n",
        "# # will be our classification result.\n",
        "# # For the regularizer: https://github.com/christianversloot/machine-learning-articles/blob/main/how-to-use-l1-l2-and-elastic-net-regularization-with-keras.md\n",
        "# preds = Dense(num_classes, activation='softmax')(x) #final layer with softmax activation for N classes\n",
        "\n",
        "# model_mobilenetv2 = keras.Model(inputs = base_model_mobilenetv2.input, outputs = preds) #specify the inputs and outputs\n",
        "\n",
        "# # LOOK AT THE SUMMARY OF THE MODEL\n",
        "# print(model_mobilenetv2.summary())"
      ],
      "metadata": {
        "id": "Z2R2Rz97vemM"
      },
      "execution_count": null,
      "outputs": []
    },
    {
      "cell_type": "code",
      "source": [
        "def create_mobilenetGSCV_model(\n",
        "    lr= 0.1, \n",
        "    init_mode=\"he_uniform\", \n",
        "    activation = 'relu', \n",
        "    dropout_rate= 0.1, \n",
        "    optimizer = 'Adam'):\n",
        "  \n",
        "  base_model_mobilenetv2 = tf.keras.applications.MobileNetV2(\n",
        "    input_shape = (224, 224, 3),\n",
        "    # include_top means: do you want to keep the classification layer, the final classification that the original model was training on.\n",
        "    # MobileNetV2 was originally trained on the ImageNet dataset. Because the final layer has 1000 classes, if we would keep it, we\n",
        "    # would have 1000 classes at the end. We do not want that but, instead, we want our own classification layer at the end.\n",
        "    include_top=False, \n",
        "    # We keep the same weights\n",
        "    weights=\"imagenet\",\n",
        "    # # Average pooling at the end: it will ensure that the output of the pretrained model is one-dimensional (with n classes).\n",
        "    # pooling=\"avg\"\n",
        "  )\n",
        "  # With the following we ensure that we do not mess with the original\n",
        "  # imagenet weights\n",
        "  base_model_mobilenetv2.trainable = False\n",
        "\n",
        "  x = base_model_mobilenetv2.output\n",
        "  x = keras.layers.GlobalAveragePooling2D()(x)\n",
        "  # x = keras.layers.Dense(1024, activation='relu')(x)\n",
        "  # x = keras.layers.Dense(512, activation='relu')(x)\n",
        "  # x = keras.layers.Dense(512, activation='relu')(x)\n",
        "  # We are using \"softmax\" since we want 9 probability values that all sum to 1 and the highest probability\n",
        "  # will be our classification result.\n",
        "  # For the regularizer: https://github.com/christianversloot/machine-learning-articles/blob/main/how-to-use-l1-l2-and-elastic-net-regularization-with-keras.md\n",
        "  preds = Dense(num_classes, activation='softmax')(x) #final layer with softmax activation for N classes\n",
        "\n",
        "  model_mobilenetv2 = keras.Model(inputs = base_model_mobilenetv2.input, outputs = preds) #specify the inputs and outputs\n",
        "\n",
        "  # # USING A LEARNING RATE DECAY/SCHEDULING --> https://keras.io/api/optimizers/\n",
        "  # lr_schedule = keras.optimizers.schedules.ExponentialDecay(\n",
        "  #     initial_learning_rate = 0.0001, # previously 0.001\n",
        "  #     decay_steps=10000, # previously 10000\n",
        "  #     decay_rate=0.95) # previously 0.95\n",
        "\n",
        "  # COMPILE THE MODEL\n",
        "  model_mobilenetv2.compile(loss=keras.losses.categorical_crossentropy,\n",
        "                             optimizer= keras.optimizers.Adam(learning_rate=0.0001),\n",
        "                             metrics=['accuracy'])\n",
        "                            #  steps_per_execution=5)\n",
        "\n",
        "  return model_mobilenetv2\n",
        "\n",
        "# LOOK AT THE SUMMARY OF THE MODEL\n",
        "print(create_mobilenetGSCV_model().summary())"
      ],
      "metadata": {
        "colab": {
          "base_uri": "https://localhost:8080/",
          "height": 300
        },
        "id": "4U0N8UJkTrBo",
        "outputId": "3ed8ca7e-e9f8-46b5-993f-d2abedf3fb73"
      },
      "execution_count": null,
      "outputs": [
        {
          "output_type": "display_data",
          "data": {
            "text/plain": [
              "<IPython.core.display.Javascript object>"
            ],
            "application/javascript": [
              "google.colab.output.setIframeHeight(0, true, {maxHeight: 300})"
            ]
          },
          "metadata": {}
        },
        {
          "output_type": "stream",
          "name": "stdout",
          "text": [
            "Model: \"model_11\"\n",
            "__________________________________________________________________________________________________\n",
            " Layer (type)                   Output Shape         Param #     Connected to                     \n",
            "==================================================================================================\n",
            " input_67 (InputLayer)          [(None, 224, 224, 3  0           []                               \n",
            "                                )]                                                                \n",
            "                                                                                                  \n",
            " Conv1 (Conv2D)                 (None, 112, 112, 32  864         ['input_67[0][0]']               \n",
            "                                )                                                                 \n",
            "                                                                                                  \n",
            " bn_Conv1 (BatchNormalization)  (None, 112, 112, 32  128         ['Conv1[0][0]']                  \n",
            "                                )                                                                 \n",
            "                                                                                                  \n",
            " Conv1_relu (ReLU)              (None, 112, 112, 32  0           ['bn_Conv1[0][0]']               \n",
            "                                )                                                                 \n",
            "                                                                                                  \n",
            " expanded_conv_depthwise (Depth  (None, 112, 112, 32  288        ['Conv1_relu[0][0]']             \n",
            " wiseConv2D)                    )                                                                 \n",
            "                                                                                                  \n",
            " expanded_conv_depthwise_BN (Ba  (None, 112, 112, 32  128        ['expanded_conv_depthwise[0][0]']\n",
            " tchNormalization)              )                                                                 \n",
            "                                                                                                  \n",
            " expanded_conv_depthwise_relu (  (None, 112, 112, 32  0          ['expanded_conv_depthwise_BN[0][0\n",
            " ReLU)                          )                                ]']                              \n",
            "                                                                                                  \n",
            " expanded_conv_project (Conv2D)  (None, 112, 112, 16  512        ['expanded_conv_depthwise_relu[0]\n",
            "                                )                                [0]']                            \n",
            "                                                                                                  \n",
            " expanded_conv_project_BN (Batc  (None, 112, 112, 16  64         ['expanded_conv_project[0][0]']  \n",
            " hNormalization)                )                                                                 \n",
            "                                                                                                  \n",
            " block_1_expand (Conv2D)        (None, 112, 112, 96  1536        ['expanded_conv_project_BN[0][0]'\n",
            "                                )                                ]                                \n",
            "                                                                                                  \n",
            " block_1_expand_BN (BatchNormal  (None, 112, 112, 96  384        ['block_1_expand[0][0]']         \n",
            " ization)                       )                                                                 \n",
            "                                                                                                  \n",
            " block_1_expand_relu (ReLU)     (None, 112, 112, 96  0           ['block_1_expand_BN[0][0]']      \n",
            "                                )                                                                 \n",
            "                                                                                                  \n",
            " block_1_pad (ZeroPadding2D)    (None, 113, 113, 96  0           ['block_1_expand_relu[0][0]']    \n",
            "                                )                                                                 \n",
            "                                                                                                  \n",
            " block_1_depthwise (DepthwiseCo  (None, 56, 56, 96)  864         ['block_1_pad[0][0]']            \n",
            " nv2D)                                                                                            \n",
            "                                                                                                  \n",
            " block_1_depthwise_BN (BatchNor  (None, 56, 56, 96)  384         ['block_1_depthwise[0][0]']      \n",
            " malization)                                                                                      \n",
            "                                                                                                  \n",
            " block_1_depthwise_relu (ReLU)  (None, 56, 56, 96)   0           ['block_1_depthwise_BN[0][0]']   \n",
            "                                                                                                  \n",
            " block_1_project (Conv2D)       (None, 56, 56, 24)   2304        ['block_1_depthwise_relu[0][0]'] \n",
            "                                                                                                  \n",
            " block_1_project_BN (BatchNorma  (None, 56, 56, 24)  96          ['block_1_project[0][0]']        \n",
            " lization)                                                                                        \n",
            "                                                                                                  \n",
            " block_2_expand (Conv2D)        (None, 56, 56, 144)  3456        ['block_1_project_BN[0][0]']     \n",
            "                                                                                                  \n",
            " block_2_expand_BN (BatchNormal  (None, 56, 56, 144)  576        ['block_2_expand[0][0]']         \n",
            " ization)                                                                                         \n",
            "                                                                                                  \n",
            " block_2_expand_relu (ReLU)     (None, 56, 56, 144)  0           ['block_2_expand_BN[0][0]']      \n",
            "                                                                                                  \n",
            " block_2_depthwise (DepthwiseCo  (None, 56, 56, 144)  1296       ['block_2_expand_relu[0][0]']    \n",
            " nv2D)                                                                                            \n",
            "                                                                                                  \n",
            " block_2_depthwise_BN (BatchNor  (None, 56, 56, 144)  576        ['block_2_depthwise[0][0]']      \n",
            " malization)                                                                                      \n",
            "                                                                                                  \n",
            " block_2_depthwise_relu (ReLU)  (None, 56, 56, 144)  0           ['block_2_depthwise_BN[0][0]']   \n",
            "                                                                                                  \n",
            " block_2_project (Conv2D)       (None, 56, 56, 24)   3456        ['block_2_depthwise_relu[0][0]'] \n",
            "                                                                                                  \n",
            " block_2_project_BN (BatchNorma  (None, 56, 56, 24)  96          ['block_2_project[0][0]']        \n",
            " lization)                                                                                        \n",
            "                                                                                                  \n",
            " block_2_add (Add)              (None, 56, 56, 24)   0           ['block_1_project_BN[0][0]',     \n",
            "                                                                  'block_2_project_BN[0][0]']     \n",
            "                                                                                                  \n",
            " block_3_expand (Conv2D)        (None, 56, 56, 144)  3456        ['block_2_add[0][0]']            \n",
            "                                                                                                  \n",
            " block_3_expand_BN (BatchNormal  (None, 56, 56, 144)  576        ['block_3_expand[0][0]']         \n",
            " ization)                                                                                         \n",
            "                                                                                                  \n",
            " block_3_expand_relu (ReLU)     (None, 56, 56, 144)  0           ['block_3_expand_BN[0][0]']      \n",
            "                                                                                                  \n",
            " block_3_pad (ZeroPadding2D)    (None, 57, 57, 144)  0           ['block_3_expand_relu[0][0]']    \n",
            "                                                                                                  \n",
            " block_3_depthwise (DepthwiseCo  (None, 28, 28, 144)  1296       ['block_3_pad[0][0]']            \n",
            " nv2D)                                                                                            \n",
            "                                                                                                  \n",
            " block_3_depthwise_BN (BatchNor  (None, 28, 28, 144)  576        ['block_3_depthwise[0][0]']      \n",
            " malization)                                                                                      \n",
            "                                                                                                  \n",
            " block_3_depthwise_relu (ReLU)  (None, 28, 28, 144)  0           ['block_3_depthwise_BN[0][0]']   \n",
            "                                                                                                  \n",
            " block_3_project (Conv2D)       (None, 28, 28, 32)   4608        ['block_3_depthwise_relu[0][0]'] \n",
            "                                                                                                  \n",
            " block_3_project_BN (BatchNorma  (None, 28, 28, 32)  128         ['block_3_project[0][0]']        \n",
            " lization)                                                                                        \n",
            "                                                                                                  \n",
            " block_4_expand (Conv2D)        (None, 28, 28, 192)  6144        ['block_3_project_BN[0][0]']     \n",
            "                                                                                                  \n",
            " block_4_expand_BN (BatchNormal  (None, 28, 28, 192)  768        ['block_4_expand[0][0]']         \n",
            " ization)                                                                                         \n",
            "                                                                                                  \n",
            " block_4_expand_relu (ReLU)     (None, 28, 28, 192)  0           ['block_4_expand_BN[0][0]']      \n",
            "                                                                                                  \n",
            " block_4_depthwise (DepthwiseCo  (None, 28, 28, 192)  1728       ['block_4_expand_relu[0][0]']    \n",
            " nv2D)                                                                                            \n",
            "                                                                                                  \n",
            " block_4_depthwise_BN (BatchNor  (None, 28, 28, 192)  768        ['block_4_depthwise[0][0]']      \n",
            " malization)                                                                                      \n",
            "                                                                                                  \n",
            " block_4_depthwise_relu (ReLU)  (None, 28, 28, 192)  0           ['block_4_depthwise_BN[0][0]']   \n",
            "                                                                                                  \n",
            " block_4_project (Conv2D)       (None, 28, 28, 32)   6144        ['block_4_depthwise_relu[0][0]'] \n",
            "                                                                                                  \n",
            " block_4_project_BN (BatchNorma  (None, 28, 28, 32)  128         ['block_4_project[0][0]']        \n",
            " lization)                                                                                        \n",
            "                                                                                                  \n",
            " block_4_add (Add)              (None, 28, 28, 32)   0           ['block_3_project_BN[0][0]',     \n",
            "                                                                  'block_4_project_BN[0][0]']     \n",
            "                                                                                                  \n",
            " block_5_expand (Conv2D)        (None, 28, 28, 192)  6144        ['block_4_add[0][0]']            \n",
            "                                                                                                  \n",
            " block_5_expand_BN (BatchNormal  (None, 28, 28, 192)  768        ['block_5_expand[0][0]']         \n",
            " ization)                                                                                         \n",
            "                                                                                                  \n",
            " block_5_expand_relu (ReLU)     (None, 28, 28, 192)  0           ['block_5_expand_BN[0][0]']      \n",
            "                                                                                                  \n",
            " block_5_depthwise (DepthwiseCo  (None, 28, 28, 192)  1728       ['block_5_expand_relu[0][0]']    \n",
            " nv2D)                                                                                            \n",
            "                                                                                                  \n",
            " block_5_depthwise_BN (BatchNor  (None, 28, 28, 192)  768        ['block_5_depthwise[0][0]']      \n",
            " malization)                                                                                      \n",
            "                                                                                                  \n",
            " block_5_depthwise_relu (ReLU)  (None, 28, 28, 192)  0           ['block_5_depthwise_BN[0][0]']   \n",
            "                                                                                                  \n",
            " block_5_project (Conv2D)       (None, 28, 28, 32)   6144        ['block_5_depthwise_relu[0][0]'] \n",
            "                                                                                                  \n",
            " block_5_project_BN (BatchNorma  (None, 28, 28, 32)  128         ['block_5_project[0][0]']        \n",
            " lization)                                                                                        \n",
            "                                                                                                  \n",
            " block_5_add (Add)              (None, 28, 28, 32)   0           ['block_4_add[0][0]',            \n",
            "                                                                  'block_5_project_BN[0][0]']     \n",
            "                                                                                                  \n",
            " block_6_expand (Conv2D)        (None, 28, 28, 192)  6144        ['block_5_add[0][0]']            \n",
            "                                                                                                  \n",
            " block_6_expand_BN (BatchNormal  (None, 28, 28, 192)  768        ['block_6_expand[0][0]']         \n",
            " ization)                                                                                         \n",
            "                                                                                                  \n",
            " block_6_expand_relu (ReLU)     (None, 28, 28, 192)  0           ['block_6_expand_BN[0][0]']      \n",
            "                                                                                                  \n",
            " block_6_pad (ZeroPadding2D)    (None, 29, 29, 192)  0           ['block_6_expand_relu[0][0]']    \n",
            "                                                                                                  \n",
            " block_6_depthwise (DepthwiseCo  (None, 14, 14, 192)  1728       ['block_6_pad[0][0]']            \n",
            " nv2D)                                                                                            \n",
            "                                                                                                  \n",
            " block_6_depthwise_BN (BatchNor  (None, 14, 14, 192)  768        ['block_6_depthwise[0][0]']      \n",
            " malization)                                                                                      \n",
            "                                                                                                  \n",
            " block_6_depthwise_relu (ReLU)  (None, 14, 14, 192)  0           ['block_6_depthwise_BN[0][0]']   \n",
            "                                                                                                  \n",
            " block_6_project (Conv2D)       (None, 14, 14, 64)   12288       ['block_6_depthwise_relu[0][0]'] \n",
            "                                                                                                  \n",
            " block_6_project_BN (BatchNorma  (None, 14, 14, 64)  256         ['block_6_project[0][0]']        \n",
            " lization)                                                                                        \n",
            "                                                                                                  \n",
            " block_7_expand (Conv2D)        (None, 14, 14, 384)  24576       ['block_6_project_BN[0][0]']     \n",
            "                                                                                                  \n",
            " block_7_expand_BN (BatchNormal  (None, 14, 14, 384)  1536       ['block_7_expand[0][0]']         \n",
            " ization)                                                                                         \n",
            "                                                                                                  \n",
            " block_7_expand_relu (ReLU)     (None, 14, 14, 384)  0           ['block_7_expand_BN[0][0]']      \n",
            "                                                                                                  \n",
            " block_7_depthwise (DepthwiseCo  (None, 14, 14, 384)  3456       ['block_7_expand_relu[0][0]']    \n",
            " nv2D)                                                                                            \n",
            "                                                                                                  \n",
            " block_7_depthwise_BN (BatchNor  (None, 14, 14, 384)  1536       ['block_7_depthwise[0][0]']      \n",
            " malization)                                                                                      \n",
            "                                                                                                  \n",
            " block_7_depthwise_relu (ReLU)  (None, 14, 14, 384)  0           ['block_7_depthwise_BN[0][0]']   \n",
            "                                                                                                  \n",
            " block_7_project (Conv2D)       (None, 14, 14, 64)   24576       ['block_7_depthwise_relu[0][0]'] \n",
            "                                                                                                  \n",
            " block_7_project_BN (BatchNorma  (None, 14, 14, 64)  256         ['block_7_project[0][0]']        \n",
            " lization)                                                                                        \n",
            "                                                                                                  \n",
            " block_7_add (Add)              (None, 14, 14, 64)   0           ['block_6_project_BN[0][0]',     \n",
            "                                                                  'block_7_project_BN[0][0]']     \n",
            "                                                                                                  \n",
            " block_8_expand (Conv2D)        (None, 14, 14, 384)  24576       ['block_7_add[0][0]']            \n",
            "                                                                                                  \n",
            " block_8_expand_BN (BatchNormal  (None, 14, 14, 384)  1536       ['block_8_expand[0][0]']         \n",
            " ization)                                                                                         \n",
            "                                                                                                  \n",
            " block_8_expand_relu (ReLU)     (None, 14, 14, 384)  0           ['block_8_expand_BN[0][0]']      \n",
            "                                                                                                  \n",
            " block_8_depthwise (DepthwiseCo  (None, 14, 14, 384)  3456       ['block_8_expand_relu[0][0]']    \n",
            " nv2D)                                                                                            \n",
            "                                                                                                  \n",
            " block_8_depthwise_BN (BatchNor  (None, 14, 14, 384)  1536       ['block_8_depthwise[0][0]']      \n",
            " malization)                                                                                      \n",
            "                                                                                                  \n",
            " block_8_depthwise_relu (ReLU)  (None, 14, 14, 384)  0           ['block_8_depthwise_BN[0][0]']   \n",
            "                                                                                                  \n",
            " block_8_project (Conv2D)       (None, 14, 14, 64)   24576       ['block_8_depthwise_relu[0][0]'] \n",
            "                                                                                                  \n",
            " block_8_project_BN (BatchNorma  (None, 14, 14, 64)  256         ['block_8_project[0][0]']        \n",
            " lization)                                                                                        \n",
            "                                                                                                  \n",
            " block_8_add (Add)              (None, 14, 14, 64)   0           ['block_7_add[0][0]',            \n",
            "                                                                  'block_8_project_BN[0][0]']     \n",
            "                                                                                                  \n",
            " block_9_expand (Conv2D)        (None, 14, 14, 384)  24576       ['block_8_add[0][0]']            \n",
            "                                                                                                  \n",
            " block_9_expand_BN (BatchNormal  (None, 14, 14, 384)  1536       ['block_9_expand[0][0]']         \n",
            " ization)                                                                                         \n",
            "                                                                                                  \n",
            " block_9_expand_relu (ReLU)     (None, 14, 14, 384)  0           ['block_9_expand_BN[0][0]']      \n",
            "                                                                                                  \n",
            " block_9_depthwise (DepthwiseCo  (None, 14, 14, 384)  3456       ['block_9_expand_relu[0][0]']    \n",
            " nv2D)                                                                                            \n",
            "                                                                                                  \n",
            " block_9_depthwise_BN (BatchNor  (None, 14, 14, 384)  1536       ['block_9_depthwise[0][0]']      \n",
            " malization)                                                                                      \n",
            "                                                                                                  \n",
            " block_9_depthwise_relu (ReLU)  (None, 14, 14, 384)  0           ['block_9_depthwise_BN[0][0]']   \n",
            "                                                                                                  \n",
            " block_9_project (Conv2D)       (None, 14, 14, 64)   24576       ['block_9_depthwise_relu[0][0]'] \n",
            "                                                                                                  \n",
            " block_9_project_BN (BatchNorma  (None, 14, 14, 64)  256         ['block_9_project[0][0]']        \n",
            " lization)                                                                                        \n",
            "                                                                                                  \n",
            " block_9_add (Add)              (None, 14, 14, 64)   0           ['block_8_add[0][0]',            \n",
            "                                                                  'block_9_project_BN[0][0]']     \n",
            "                                                                                                  \n",
            " block_10_expand (Conv2D)       (None, 14, 14, 384)  24576       ['block_9_add[0][0]']            \n",
            "                                                                                                  \n",
            " block_10_expand_BN (BatchNorma  (None, 14, 14, 384)  1536       ['block_10_expand[0][0]']        \n",
            " lization)                                                                                        \n",
            "                                                                                                  \n",
            " block_10_expand_relu (ReLU)    (None, 14, 14, 384)  0           ['block_10_expand_BN[0][0]']     \n",
            "                                                                                                  \n",
            " block_10_depthwise (DepthwiseC  (None, 14, 14, 384)  3456       ['block_10_expand_relu[0][0]']   \n",
            " onv2D)                                                                                           \n",
            "                                                                                                  \n",
            " block_10_depthwise_BN (BatchNo  (None, 14, 14, 384)  1536       ['block_10_depthwise[0][0]']     \n",
            " rmalization)                                                                                     \n",
            "                                                                                                  \n",
            " block_10_depthwise_relu (ReLU)  (None, 14, 14, 384)  0          ['block_10_depthwise_BN[0][0]']  \n",
            "                                                                                                  \n",
            " block_10_project (Conv2D)      (None, 14, 14, 96)   36864       ['block_10_depthwise_relu[0][0]']\n",
            "                                                                                                  \n",
            " block_10_project_BN (BatchNorm  (None, 14, 14, 96)  384         ['block_10_project[0][0]']       \n",
            " alization)                                                                                       \n",
            "                                                                                                  \n",
            " block_11_expand (Conv2D)       (None, 14, 14, 576)  55296       ['block_10_project_BN[0][0]']    \n",
            "                                                                                                  \n",
            " block_11_expand_BN (BatchNorma  (None, 14, 14, 576)  2304       ['block_11_expand[0][0]']        \n",
            " lization)                                                                                        \n",
            "                                                                                                  \n",
            " block_11_expand_relu (ReLU)    (None, 14, 14, 576)  0           ['block_11_expand_BN[0][0]']     \n",
            "                                                                                                  \n",
            " block_11_depthwise (DepthwiseC  (None, 14, 14, 576)  5184       ['block_11_expand_relu[0][0]']   \n",
            " onv2D)                                                                                           \n",
            "                                                                                                  \n",
            " block_11_depthwise_BN (BatchNo  (None, 14, 14, 576)  2304       ['block_11_depthwise[0][0]']     \n",
            " rmalization)                                                                                     \n",
            "                                                                                                  \n",
            " block_11_depthwise_relu (ReLU)  (None, 14, 14, 576)  0          ['block_11_depthwise_BN[0][0]']  \n",
            "                                                                                                  \n",
            " block_11_project (Conv2D)      (None, 14, 14, 96)   55296       ['block_11_depthwise_relu[0][0]']\n",
            "                                                                                                  \n",
            " block_11_project_BN (BatchNorm  (None, 14, 14, 96)  384         ['block_11_project[0][0]']       \n",
            " alization)                                                                                       \n",
            "                                                                                                  \n",
            " block_11_add (Add)             (None, 14, 14, 96)   0           ['block_10_project_BN[0][0]',    \n",
            "                                                                  'block_11_project_BN[0][0]']    \n",
            "                                                                                                  \n",
            " block_12_expand (Conv2D)       (None, 14, 14, 576)  55296       ['block_11_add[0][0]']           \n",
            "                                                                                                  \n",
            " block_12_expand_BN (BatchNorma  (None, 14, 14, 576)  2304       ['block_12_expand[0][0]']        \n",
            " lization)                                                                                        \n",
            "                                                                                                  \n",
            " block_12_expand_relu (ReLU)    (None, 14, 14, 576)  0           ['block_12_expand_BN[0][0]']     \n",
            "                                                                                                  \n",
            " block_12_depthwise (DepthwiseC  (None, 14, 14, 576)  5184       ['block_12_expand_relu[0][0]']   \n",
            " onv2D)                                                                                           \n",
            "                                                                                                  \n",
            " block_12_depthwise_BN (BatchNo  (None, 14, 14, 576)  2304       ['block_12_depthwise[0][0]']     \n",
            " rmalization)                                                                                     \n",
            "                                                                                                  \n",
            " block_12_depthwise_relu (ReLU)  (None, 14, 14, 576)  0          ['block_12_depthwise_BN[0][0]']  \n",
            "                                                                                                  \n",
            " block_12_project (Conv2D)      (None, 14, 14, 96)   55296       ['block_12_depthwise_relu[0][0]']\n",
            "                                                                                                  \n",
            " block_12_project_BN (BatchNorm  (None, 14, 14, 96)  384         ['block_12_project[0][0]']       \n",
            " alization)                                                                                       \n",
            "                                                                                                  \n",
            " block_12_add (Add)             (None, 14, 14, 96)   0           ['block_11_add[0][0]',           \n",
            "                                                                  'block_12_project_BN[0][0]']    \n",
            "                                                                                                  \n",
            " block_13_expand (Conv2D)       (None, 14, 14, 576)  55296       ['block_12_add[0][0]']           \n",
            "                                                                                                  \n",
            " block_13_expand_BN (BatchNorma  (None, 14, 14, 576)  2304       ['block_13_expand[0][0]']        \n",
            " lization)                                                                                        \n",
            "                                                                                                  \n",
            " block_13_expand_relu (ReLU)    (None, 14, 14, 576)  0           ['block_13_expand_BN[0][0]']     \n",
            "                                                                                                  \n",
            " block_13_pad (ZeroPadding2D)   (None, 15, 15, 576)  0           ['block_13_expand_relu[0][0]']   \n",
            "                                                                                                  \n",
            " block_13_depthwise (DepthwiseC  (None, 7, 7, 576)   5184        ['block_13_pad[0][0]']           \n",
            " onv2D)                                                                                           \n",
            "                                                                                                  \n",
            " block_13_depthwise_BN (BatchNo  (None, 7, 7, 576)   2304        ['block_13_depthwise[0][0]']     \n",
            " rmalization)                                                                                     \n",
            "                                                                                                  \n",
            " block_13_depthwise_relu (ReLU)  (None, 7, 7, 576)   0           ['block_13_depthwise_BN[0][0]']  \n",
            "                                                                                                  \n",
            " block_13_project (Conv2D)      (None, 7, 7, 160)    92160       ['block_13_depthwise_relu[0][0]']\n",
            "                                                                                                  \n",
            " block_13_project_BN (BatchNorm  (None, 7, 7, 160)   640         ['block_13_project[0][0]']       \n",
            " alization)                                                                                       \n",
            "                                                                                                  \n",
            " block_14_expand (Conv2D)       (None, 7, 7, 960)    153600      ['block_13_project_BN[0][0]']    \n",
            "                                                                                                  \n",
            " block_14_expand_BN (BatchNorma  (None, 7, 7, 960)   3840        ['block_14_expand[0][0]']        \n",
            " lization)                                                                                        \n",
            "                                                                                                  \n",
            " block_14_expand_relu (ReLU)    (None, 7, 7, 960)    0           ['block_14_expand_BN[0][0]']     \n",
            "                                                                                                  \n",
            " block_14_depthwise (DepthwiseC  (None, 7, 7, 960)   8640        ['block_14_expand_relu[0][0]']   \n",
            " onv2D)                                                                                           \n",
            "                                                                                                  \n",
            " block_14_depthwise_BN (BatchNo  (None, 7, 7, 960)   3840        ['block_14_depthwise[0][0]']     \n",
            " rmalization)                                                                                     \n",
            "                                                                                                  \n",
            " block_14_depthwise_relu (ReLU)  (None, 7, 7, 960)   0           ['block_14_depthwise_BN[0][0]']  \n",
            "                                                                                                  \n",
            " block_14_project (Conv2D)      (None, 7, 7, 160)    153600      ['block_14_depthwise_relu[0][0]']\n",
            "                                                                                                  \n",
            " block_14_project_BN (BatchNorm  (None, 7, 7, 160)   640         ['block_14_project[0][0]']       \n",
            " alization)                                                                                       \n",
            "                                                                                                  \n",
            " block_14_add (Add)             (None, 7, 7, 160)    0           ['block_13_project_BN[0][0]',    \n",
            "                                                                  'block_14_project_BN[0][0]']    \n",
            "                                                                                                  \n",
            " block_15_expand (Conv2D)       (None, 7, 7, 960)    153600      ['block_14_add[0][0]']           \n",
            "                                                                                                  \n",
            " block_15_expand_BN (BatchNorma  (None, 7, 7, 960)   3840        ['block_15_expand[0][0]']        \n",
            " lization)                                                                                        \n",
            "                                                                                                  \n",
            " block_15_expand_relu (ReLU)    (None, 7, 7, 960)    0           ['block_15_expand_BN[0][0]']     \n",
            "                                                                                                  \n",
            " block_15_depthwise (DepthwiseC  (None, 7, 7, 960)   8640        ['block_15_expand_relu[0][0]']   \n",
            " onv2D)                                                                                           \n",
            "                                                                                                  \n",
            " block_15_depthwise_BN (BatchNo  (None, 7, 7, 960)   3840        ['block_15_depthwise[0][0]']     \n",
            " rmalization)                                                                                     \n",
            "                                                                                                  \n",
            " block_15_depthwise_relu (ReLU)  (None, 7, 7, 960)   0           ['block_15_depthwise_BN[0][0]']  \n",
            "                                                                                                  \n",
            " block_15_project (Conv2D)      (None, 7, 7, 160)    153600      ['block_15_depthwise_relu[0][0]']\n",
            "                                                                                                  \n",
            " block_15_project_BN (BatchNorm  (None, 7, 7, 160)   640         ['block_15_project[0][0]']       \n",
            " alization)                                                                                       \n",
            "                                                                                                  \n",
            " block_15_add (Add)             (None, 7, 7, 160)    0           ['block_14_add[0][0]',           \n",
            "                                                                  'block_15_project_BN[0][0]']    \n",
            "                                                                                                  \n",
            " block_16_expand (Conv2D)       (None, 7, 7, 960)    153600      ['block_15_add[0][0]']           \n",
            "                                                                                                  \n",
            " block_16_expand_BN (BatchNorma  (None, 7, 7, 960)   3840        ['block_16_expand[0][0]']        \n",
            " lization)                                                                                        \n",
            "                                                                                                  \n",
            " block_16_expand_relu (ReLU)    (None, 7, 7, 960)    0           ['block_16_expand_BN[0][0]']     \n",
            "                                                                                                  \n",
            " block_16_depthwise (DepthwiseC  (None, 7, 7, 960)   8640        ['block_16_expand_relu[0][0]']   \n",
            " onv2D)                                                                                           \n",
            "                                                                                                  \n",
            " block_16_depthwise_BN (BatchNo  (None, 7, 7, 960)   3840        ['block_16_depthwise[0][0]']     \n",
            " rmalization)                                                                                     \n",
            "                                                                                                  \n",
            " block_16_depthwise_relu (ReLU)  (None, 7, 7, 960)   0           ['block_16_depthwise_BN[0][0]']  \n",
            "                                                                                                  \n",
            " block_16_project (Conv2D)      (None, 7, 7, 320)    307200      ['block_16_depthwise_relu[0][0]']\n",
            "                                                                                                  \n",
            " block_16_project_BN (BatchNorm  (None, 7, 7, 320)   1280        ['block_16_project[0][0]']       \n",
            " alization)                                                                                       \n",
            "                                                                                                  \n",
            " Conv_1 (Conv2D)                (None, 7, 7, 1280)   409600      ['block_16_project_BN[0][0]']    \n",
            "                                                                                                  \n",
            " Conv_1_bn (BatchNormalization)  (None, 7, 7, 1280)  5120        ['Conv_1[0][0]']                 \n",
            "                                                                                                  \n",
            " out_relu (ReLU)                (None, 7, 7, 1280)   0           ['Conv_1_bn[0][0]']              \n",
            "                                                                                                  \n",
            " global_average_pooling2d_6 (Gl  (None, 1280)        0           ['out_relu[0][0]']               \n",
            " obalAveragePooling2D)                                                                            \n",
            "                                                                                                  \n",
            " dense_190 (Dense)              (None, 10)           12810       ['global_average_pooling2d_6[0][0\n",
            "                                                                 ]']                              \n",
            "                                                                                                  \n",
            "==================================================================================================\n",
            "Total params: 2,270,794\n",
            "Trainable params: 12,810\n",
            "Non-trainable params: 2,257,984\n",
            "__________________________________________________________________________________________________\n",
            "None\n"
          ]
        }
      ]
    },
    {
      "cell_type": "code",
      "execution_count": null,
      "metadata": {
        "id": "fsuQ4nqs0Nyl",
        "colab": {
          "base_uri": "https://localhost:8080/",
          "height": 17
        },
        "outputId": "dbd61449-ca44-4547-c24a-66fef1d9dec5"
      },
      "outputs": [
        {
          "output_type": "display_data",
          "data": {
            "text/plain": [
              "<IPython.core.display.Javascript object>"
            ],
            "application/javascript": [
              "google.colab.output.setIframeHeight(0, true, {maxHeight: 300})"
            ]
          },
          "metadata": {}
        }
      ],
      "source": [
        "# COMPILE THE MODEL\n",
        "create_mobilenetGSCV_model().compile(loss=keras.losses.categorical_crossentropy,\n",
        "            # optimizer= keras.optimizers.Adam(learning_rate=0.0001), # previously lr_schedule\n",
        "            metrics=['accuracy'])"
      ]
    },
    {
      "cell_type": "code",
      "execution_count": null,
      "metadata": {
        "colab": {
          "base_uri": "https://localhost:8080/",
          "height": 300
        },
        "id": "z-5aIdic5upG",
        "outputId": "01cbb2e5-0ee4-49b3-8c81-46d3983f88f3"
      },
      "outputs": [
        {
          "output_type": "display_data",
          "data": {
            "text/plain": [
              "<IPython.core.display.Javascript object>"
            ],
            "application/javascript": [
              "google.colab.output.setIframeHeight(0, true, {maxHeight: 300})"
            ]
          },
          "metadata": {}
        },
        {
          "output_type": "stream",
          "name": "stdout",
          "text": [
            "Epoch 1/20\n",
            "187/187 [==============================] - 47s 249ms/step - loss: 2.0390 - accuracy: 0.3179 - val_loss: 1.4812 - val_accuracy: 0.5156\n",
            "Epoch 2/20\n",
            "187/187 [==============================] - 39s 208ms/step - loss: 1.0846 - accuracy: 0.7159 - val_loss: 0.9441 - val_accuracy: 0.7734\n",
            "Epoch 3/20\n",
            "187/187 [==============================] - 38s 206ms/step - loss: 0.7221 - accuracy: 0.8363 - val_loss: 0.7114 - val_accuracy: 0.8203\n",
            "Epoch 4/20\n",
            "187/187 [==============================] - 38s 205ms/step - loss: 0.5625 - accuracy: 0.8722 - val_loss: 0.5574 - val_accuracy: 0.8516\n",
            "Epoch 5/20\n",
            "187/187 [==============================] - 40s 212ms/step - loss: 0.4515 - accuracy: 0.9039 - val_loss: 0.5008 - val_accuracy: 0.8750\n",
            "Epoch 6/20\n",
            "187/187 [==============================] - 38s 206ms/step - loss: 0.3763 - accuracy: 0.9230 - val_loss: 0.4403 - val_accuracy: 0.9141\n",
            "Epoch 7/20\n",
            "187/187 [==============================] - 38s 206ms/step - loss: 0.3244 - accuracy: 0.9331 - val_loss: 0.3914 - val_accuracy: 0.9062\n",
            "Epoch 8/20\n",
            "187/187 [==============================] - 38s 205ms/step - loss: 0.2894 - accuracy: 0.9411 - val_loss: 0.3683 - val_accuracy: 0.9219\n",
            "Epoch 9/20\n",
            "187/187 [==============================] - 39s 210ms/step - loss: 0.2431 - accuracy: 0.9528 - val_loss: 0.3392 - val_accuracy: 0.9219\n",
            "Epoch 10/20\n",
            "187/187 [==============================] - 39s 206ms/step - loss: 0.2251 - accuracy: 0.9568 - val_loss: 0.3338 - val_accuracy: 0.9062\n",
            "Epoch 11/20\n",
            "187/187 [==============================] - 39s 206ms/step - loss: 0.2000 - accuracy: 0.9632 - val_loss: 0.3154 - val_accuracy: 0.9141\n",
            "Epoch 12/20\n",
            "187/187 [==============================] - 38s 205ms/step - loss: 0.1819 - accuracy: 0.9669 - val_loss: 0.3046 - val_accuracy: 0.9062\n",
            "Epoch 13/20\n",
            "187/187 [==============================] - 39s 211ms/step - loss: 0.1690 - accuracy: 0.9709 - val_loss: 0.2972 - val_accuracy: 0.9219\n",
            "Epoch 14/20\n",
            "187/187 [==============================] - 38s 205ms/step - loss: 0.1560 - accuracy: 0.9712 - val_loss: 0.2925 - val_accuracy: 0.9141\n",
            "Epoch 15/20\n",
            "187/187 [==============================] - 38s 205ms/step - loss: 0.1451 - accuracy: 0.9762 - val_loss: 0.2830 - val_accuracy: 0.9219\n",
            "Epoch 16/20\n",
            "187/187 [==============================] - 38s 205ms/step - loss: 0.1365 - accuracy: 0.9762 - val_loss: 0.2773 - val_accuracy: 0.9141\n",
            "Epoch 17/20\n",
            "187/187 [==============================] - 39s 206ms/step - loss: 0.1227 - accuracy: 0.9813 - val_loss: 0.2781 - val_accuracy: 0.8906\n",
            "Epoch 18/20\n",
            "187/187 [==============================] - 40s 212ms/step - loss: 0.1171 - accuracy: 0.9809 - val_loss: 0.2720 - val_accuracy: 0.9219\n",
            "Epoch 19/20\n",
            "187/187 [==============================] - 38s 205ms/step - loss: 0.1083 - accuracy: 0.9819 - val_loss: 0.2647 - val_accuracy: 0.9297\n",
            "Epoch 20/20\n",
            "187/187 [==============================] - 38s 205ms/step - loss: 0.1014 - accuracy: 0.9863 - val_loss: 0.2595 - val_accuracy: 0.9062\n",
            "--- Training Completed ---\n",
            "Total execution time:  0:14:00.916808\n"
          ]
        }
      ],
      "source": [
        "stepsEpochs = train_generator_mnetv2.n // batch_size_CV # 16\n",
        "valSteps = test_generator_mnetv2.n // batch_size_CV # 16\n",
        "\n",
        "# START COUNTING THE TIME\n",
        "start = datetime.datetime.now()\n",
        "\n",
        "# FIT THE MODEL\n",
        "history_mobilenetV2 = create_mobilenetGSCV_model().fit(train_generator_mnetv2,\n",
        "                                            validation_data = test_generator_mnetv2,\n",
        "                                            steps_per_epoch = stepsEpochs,\n",
        "                                            validation_steps = valSteps, \n",
        "                                            epochs=20, \n",
        "                                            callbacks = [callback])\n",
        "                  \n",
        "print(\"--- Training Completed ---\")\n",
        "\n",
        "# STOP COUNTING THE TIME\n",
        "end = datetime.datetime.now()\n",
        "print(\"Total execution time: \", end-start)"
      ]
    },
    {
      "cell_type": "markdown",
      "source": [
        "**Using GridSearch Cross validation for training MobileNetV2**"
      ],
      "metadata": {
        "id": "dWGv6wO3GiOc"
      }
    },
    {
      "cell_type": "code",
      "source": [
        "# # USE THE FLOW FROM DIRECTORY ONLY FOR THE TRAIN BECAUSE THE GRIDSEARCHCV METHOD\n",
        "# # WILL CREATE ITS OWN TEST SET\n",
        "# itr = train_datagen_mnetv2.flow_from_directory(\n",
        "#     base_path_train,\n",
        "#     target_size=(224, 224),\n",
        "#     batch_size=3004, # you flow through the entire training dataset and get all the images, using just one batch size!\n",
        "#     class_mode='categorical')\n",
        "\n",
        "# X, y = itr.next()"
      ],
      "metadata": {
        "id": "cvGNw-icScwn"
      },
      "execution_count": null,
      "outputs": []
    },
    {
      "cell_type": "code",
      "source": [
        "# from sklearn.metrics import make_scorer\n",
        "# from sklearn.metrics import accuracy_score, precision_score, recall_score\n",
        "\n",
        "# # DEFINE THE GRID SEARCH PARAMETERS\n",
        "# # batch_size = [16, 32]\n",
        "# optimizer = ['SGD', 'Adam']\n",
        "# lr = [0.001, 0.0001]\n",
        "# activation = ['relu', 'LeakyRelu']\n",
        "\n",
        "# param_grid_CV = {\n",
        "#     # 'batch_size': batch_size,\n",
        "#     'optimizer': optimizer,\n",
        "#     'lr': lr,\n",
        "#     'activation': activation\n",
        "# }\n",
        "\n",
        "# scores = [\"accuracy\"]\n",
        "\n",
        "\n",
        "# # DEFINE THE GRIDSEARCHCV METHOD\n",
        "# # grid_cv = GridSearchCV(estimator=model_gridsearchcv, param_grid=param_grid, n_jobs = 1, cv=3, error_score=\"raise\")\n",
        "# n_iter_search = 32 \n",
        "\n",
        "# # WRAP THE MODEL IN A KERAS WRAPPER BEFORE FEEDING IT TO THE RANDOMIZEDSEARCHCV\n",
        "# Kmodel = KerasClassifier(model=create_mobilenetGSCV_model,\n",
        "#                          epochs = 10,  \n",
        "#                          lr = 0.1,\n",
        "#                          verbose = 3,\n",
        "#                          activation = 'relu',\n",
        "#                          optimizer='Adam')\n",
        "\n",
        "# grid_cv_mobilenetv2 = RandomizedSearchCV(estimator = Kmodel, \n",
        "#                                          param_distributions = param_grid_CV, \n",
        "#                                         #  scoring=scores,\n",
        "#                                          scoring=scorers,\n",
        "#                                          refit='recall_score',\n",
        "#                                          n_jobs = 1,\n",
        "#                                          n_iter=n_iter_search,\n",
        "#                                          cv = 2, \n",
        "#                                          error_score = \"raise\")\n",
        "\n",
        "# grid_cv_mobilenetv2"
      ],
      "metadata": {
        "id": "LCBvjbIzN467"
      },
      "execution_count": null,
      "outputs": []
    },
    {
      "cell_type": "code",
      "source": [
        "# # START COUNTING THE TIME\n",
        "# start = datetime.datetime.now()\n",
        "\n",
        "# # FIT THE GRIDSEARCH MODEL\n",
        "# history_grid_fit_mobilenetV2 = grid_cv_mobilenetv2.fit(X, y)\n",
        "\n",
        "# print(\"--- Training Completed ---\") \n",
        "\n",
        "# # STOP COUNTING THE TIME\n",
        "# end = datetime.datetime.now()\n",
        "# print(\"Total execution time is: \", end-start)"
      ],
      "metadata": {
        "id": "5uAhIgonMkPY"
      },
      "execution_count": null,
      "outputs": []
    },
    {
      "cell_type": "code",
      "source": [
        "# # SUMMARIZE RESULTS\n",
        "\n",
        "# print(\"Best: %f using %s\" % (history_grid_fit_mobilenetV2.best_score_, history_grid_fit_mobilenetV2.best_params_))\n",
        "# means = history_grid_fit_mobilenetV2.cv_results_['mean_test_recall_score']\n",
        "# stds = history_grid_fit_mobilenetV2.cv_results_['std_test_recall_score']\n",
        "# params = history_grid_fit_mobilenetV2.cv_results_['params']\n",
        "\n",
        "# for mean, stdev, param in zip(means, stds, params):\n",
        "#     print(\"%f (%f) with: %r\" % (mean, stdev, param))"
      ],
      "metadata": {
        "id": "fwlrPbImO3AD"
      },
      "execution_count": null,
      "outputs": []
    },
    {
      "cell_type": "code",
      "source": [
        "# stepsEpochs = train_generator_mnetv2.n // 16\n",
        "# valSteps = test_generator_mnetv2.n // 16\n",
        "\n",
        "# # START RECORDING TIME\n",
        "# start = datetime.datetime.now()\n",
        "\n",
        "# print(\"--- Starting Training ---\")\n",
        "\n",
        "# # DEFINE THE K-FOLD CROSS VALIDATOR\n",
        "# kfold = KFold(n_splits = 5, shuffle=True)\n",
        "\n",
        "# # DEFINE PER-FOLD SCORE CONTAINERS\n",
        "# val_acc_per_folder = []\n",
        "# acc_per_folder = []\n",
        "# loss_per_folder = []\n",
        "# val_loss_per_folder = []\n",
        "\n",
        "# # K-FOLD CROSS VALIDATION MODEL EVALUTION\n",
        "# fold_no = 1\n",
        "# for train, test in kfold.split(train_generator_mnetv2, train_generator_mnetv2):\n",
        "  \n",
        "#   ############## NEURAL NETWORK MODEL ##################\n",
        "\n",
        "#   x = base_model_mobilenetv2.output\n",
        "#   x = keras.layers.GlobalAveragePooling2D()(x)\n",
        "#   x = keras.layers.Dense(1024, activation='relu')(x)\n",
        "#   x = keras.layers.Dense(512, activation='relu')(x)\n",
        "#   x = keras.layers.Dense(512, activation='relu')(x)\n",
        "#   # We are using \"softmax\" since we want 9 probability values that all sum to 1 and the highest probability\n",
        "#   # will be our classification result.\n",
        "#   # For the regularizer: https://github.com/christianversloot/machine-learning-articles/blob/main/how-to-use-l1-l2-and-elastic-net-regularization-with-keras.md\n",
        "#   preds = Dense(num_classes, activation='softmax')(x) #final layer with softmax activation for N classes\n",
        "\n",
        "#   model_mobilenetv2_CV = keras.Model(inputs = base_model_mobilenetv2.input, outputs = preds) #specify the inputs and outputs\n",
        "\n",
        "#   # USING A LEARNING RATE DECAY/SCHEDULING --> https://keras.io/api/optimizers/\n",
        "#   lr_schedule = keras.optimizers.schedules.ExponentialDecay(\n",
        "#       initial_learning_rate = 0.0001, # previously 0.001\n",
        "#       decay_steps=10000, # previously 10000\n",
        "#       decay_rate=0.95) # previously 0.95\n",
        "\n",
        "#   # COMPILE THE MODEL\n",
        "#   model_mobilenetv2_CV.compile(loss=keras.losses.categorical_crossentropy,\n",
        "#               optimizer= keras.optimizers.Adam(learning_rate=lr_schedule), # previously 0.0001\n",
        "#               metrics=['accuracy'])\n",
        "\n",
        "#   # GENERATE A MESSAGE\n",
        "#   print('------------------------------------------------------------------------')\n",
        "#   print(f'--- Training for fold {fold_no} ---')\n",
        " \n",
        "#   # FIT THE MODEL AND USE ON-HOT ENCODED Y VALUES\n",
        "#   # FIT THE MODEL\n",
        "#   history_mobilenetV2_CV = model_mobilenetv2_CV.fit(train_generator_mnetv2,\n",
        "#                                                  validation_data = test_generator_mnetv2,\n",
        "#                                                  steps_per_epoch = stepsEpochs,\n",
        "#                                                  validation_steps = valSteps, \n",
        "#                                                  epochs=15, \n",
        "#                                                  callbacks = [callback])\n",
        "\n",
        "  \n",
        "#   # GENERATE GENERALIZATION METRICS\n",
        "#   ## PREDICT ON TEST DATASET\n",
        "\n",
        "#   # PRINT OVERALL ACCURACY\n",
        "#   # print (\"Accuracy = \", metrics.accuracy_score(test_labels, predict_test_PCA))\n",
        "\n",
        "#   # ACCURACY PER FOLDER\n",
        "#   acc_per_folder.append(np.mean(history_mobilenetV2_CV.history['accuracy']))\n",
        "#   val_acc_per_folder.append(np.mean(history_mobilenetV2_CV.history['val_accuracy']))\n",
        "#   loss_per_folder.append(np.mean(history_mobilenetV2_CV.history['loss']))\n",
        "#   val_loss_per_folder.append(np.mean(history_mobilenetV2_CV.history['val_loss']))\n",
        "\n",
        "#   # INCREASE FOLDER NUMBER\n",
        "#   fold_no = fold_no + 1\n",
        "\n",
        "# print(\"--- Training Completed ---\")\n",
        "# # END RECORDING TIME\n",
        "# end = datetime.datetime.now()\n",
        "# print(\"Total execution time is: \", end - start)"
      ],
      "metadata": {
        "id": "4Go2meyZtEuc"
      },
      "execution_count": null,
      "outputs": []
    },
    {
      "cell_type": "code",
      "execution_count": null,
      "metadata": {
        "id": "A_8qYFsH5umv",
        "colab": {
          "base_uri": "https://localhost:8080/",
          "height": 300
        },
        "outputId": "580709c9-60fb-48ba-d95c-f0b32bf26da0"
      },
      "outputs": [
        {
          "output_type": "display_data",
          "data": {
            "text/plain": [
              "<IPython.core.display.Javascript object>"
            ],
            "application/javascript": [
              "google.colab.output.setIframeHeight(0, true, {maxHeight: 300})"
            ]
          },
          "metadata": {}
        },
        {
          "output_type": "execute_result",
          "data": {
            "text/plain": [
              "<matplotlib.legend.Legend at 0x7fef4c16e490>"
            ]
          },
          "metadata": {},
          "execution_count": 73
        },
        {
          "output_type": "display_data",
          "data": {
            "text/plain": [
              "<Figure size 1080x432 with 2 Axes>"
            ],
            "image/png": "[encoded data removed]"
          },
          "metadata": {
            "needs_background": "light"
          }
        }
      ],
      "source": [
        "# PLOT THEM TOGETHER\n",
        "# Visualization of the learning curves\n",
        "plt.figure(figsize=(15,6))\n",
        "\n",
        "# PER IL PLOT DOVRESTI USARE GLI ELEMENTI DERIVANTI DA history_grid_fit_mobilenetV2\n",
        "\n",
        "plt.subplot(1, 2, 1)\n",
        "plt.plot(history_mobilenetV2.history['loss'])\n",
        "plt.plot(history_mobilenetV2.history['val_loss'])\n",
        "plt.ylim([0.0, 3.0])\n",
        "plt.title(\"Loss & Val loss MobileNetV2\")\n",
        "plt.xlabel('Epoch')\n",
        "plt.ylabel('Loss')\n",
        "plt.legend(['train', 'valid'])\n",
        "\n",
        "plt.subplot(1, 2, 2)\n",
        "plt.plot(history_mobilenetV2.history['accuracy'])\n",
        "plt.plot(history_mobilenetV2.history['val_accuracy'])\n",
        "plt.ylim([0.0, 1.0])\n",
        "plt.title(\"Accuracy & Val accuracy MobileNetV2\")\n",
        "plt.xlabel('Epoch')\n",
        "plt.ylabel('Accuracy')\n",
        "plt.legend(['train', 'valid'])"
      ]
    },
    {
      "cell_type": "markdown",
      "source": [
        "###### Performance results Model V06 Transfer Learning with MobileNetV2"
      ],
      "metadata": {
        "id": "ssixy4acdyXJ"
      }
    },
    {
      "cell_type": "code",
      "source": [
        "# SAVE THE TIME NEEDED TO RUN THE ALGORITHM\n",
        "time_duration_modelV06_mobilenetV2 = end - start\n",
        "print(time_duration_modelV06_mobilenetV2)"
      ],
      "metadata": {
        "id": "fDD5h3F5d1y-",
        "colab": {
          "base_uri": "https://localhost:8080/",
          "height": 34
        },
        "outputId": "b1b143d0-048e-47d5-af0c-35d64afb6ff9"
      },
      "execution_count": null,
      "outputs": [
        {
          "output_type": "display_data",
          "data": {
            "text/plain": [
              "<IPython.core.display.Javascript object>"
            ],
            "application/javascript": [
              "google.colab.output.setIframeHeight(0, true, {maxHeight: 300})"
            ]
          },
          "metadata": {}
        },
        {
          "output_type": "stream",
          "name": "stdout",
          "text": [
            "0:14:00.916808\n"
          ]
        }
      ]
    },
    {
      "cell_type": "code",
      "source": [
        "# SAVE THE MODELV05 GRIDSEARCHCV\n",
        "keras_model_mobilenetV2 = \"/content/gdrive/MyDrive/Data_Science_2020-2022/Secondo_anno_Secondo_Semestre/FoDL_Project/Project_Example_Food/saved_models/model_mobilenetV2.h5\"\n",
        "tf.keras.models.save_model(create_mobilenetGSCV_model(), keras_model_mobilenetV2) # MODIFY MODEL WITH YOUR OWN MODEL"
      ],
      "metadata": {
        "id": "Hb5_wKCcZBaN",
        "colab": {
          "base_uri": "https://localhost:8080/",
          "height": 17
        },
        "outputId": "8ed56901-7861-47bd-8ded-02fc3b41cac1"
      },
      "execution_count": null,
      "outputs": [
        {
          "output_type": "display_data",
          "data": {
            "text/plain": [
              "<IPython.core.display.Javascript object>"
            ],
            "application/javascript": [
              "google.colab.output.setIframeHeight(0, true, {maxHeight: 300})"
            ]
          },
          "metadata": {}
        }
      ]
    },
    {
      "cell_type": "code",
      "source": [
        "# GET THE MINIMUM ACCURACY, THE MAXIMUM ACCURACY, THE MINIMUM LOSS, THE MAXIMUM LOSS AND SAVE THEM IN VARIABLES.\n",
        "# THEN CREATE A DATAFRAME AT THE END WHERE YOU CAN COMPARE DIFFERENT MODELS WITH IT!\n",
        "\n",
        "# LOSS/VAL LOSS\n",
        "modelVMNV2_minLoss = min(history_mobilenetV2.history['loss'])\n",
        "modelVMNV2_maxLoss = max(history_mobilenetV2.history['loss'])\n",
        "modelVMNV2_minValLoss = min(history_mobilenetV2.history['val_loss'])\n",
        "modelVMNV2_maxValLoss = max(history_mobilenetV2.history['val_loss'])\n",
        "\n",
        "# ACCURACY/VAL ACCURACY\n",
        "modelVMNV2_minAccuracy = min(history_mobilenetV2.history['accuracy'])\n",
        "modelVMNV2_maxAccuracy = max(history_mobilenetV2.history['accuracy'])\n",
        "modelVMNV2_minValAccuracy = min(history_mobilenetV2.history['val_accuracy'])\n",
        "modelVMNV2_maxValAccuracy = max(history_mobilenetV2.history['val_accuracy'])\n",
        "\n",
        "# CREATE THE DATAFRAME\n",
        "modelVMNV2_loss_accuracy = pd.DataFrame({\"minLoss\": [modelVMNV2_minLoss],\n",
        "                                       \"maxloss\": [modelVMNV2_maxLoss],\n",
        "                                       \"minValLoss\": [modelVMNV2_minValLoss],\n",
        "                                       \"maxValLoss\": [modelVMNV2_maxValLoss],\n",
        "                                       \"minAccuracy\": [modelVMNV2_minAccuracy],\n",
        "                                       \"maxAccuracy\": [modelVMNV2_maxAccuracy],\n",
        "                                       \"minValAccuracy\": [modelVMNV2_minValAccuracy],\n",
        "                                       \"maxValAccuracy\": [modelVMNV2_maxValAccuracy]}).T\n",
        "\n",
        "# CHANGE THE FIRST COLUMN NAME\n",
        "modelVMNV2_loss_accuracy = modelVMNV2_loss_accuracy.rename(columns={0: 'modelVMNV2'})\n",
        "# CHANGE THE INDEX NAME\n",
        "modelVMNV2_loss_accuracy.index.names = ['Performance']\n",
        "modelVMNV2_loss_accuracy"
      ],
      "metadata": {
        "id": "ZVAH5C0ACY2W",
        "colab": {
          "base_uri": "https://localhost:8080/",
          "height": 300
        },
        "outputId": "70e7a0fa-407e-476d-d76b-b049d3ef51eb"
      },
      "execution_count": null,
      "outputs": [
        {
          "output_type": "display_data",
          "data": {
            "text/plain": [
              "<IPython.core.display.Javascript object>"
            ],
            "application/javascript": [
              "google.colab.output.setIframeHeight(0, true, {maxHeight: 300})"
            ]
          },
          "metadata": {}
        },
        {
          "output_type": "execute_result",
          "data": {
            "text/plain": [
              "                modelVMNV2\n",
              "Performance               \n",
              "minLoss           0.101398\n",
              "maxloss           2.039048\n",
              "minValLoss        0.259524\n",
              "maxValLoss        1.481168\n",
              "minAccuracy       0.317938\n",
              "maxAccuracy       0.986278\n",
              "minValAccuracy    0.515625\n",
              "maxValAccuracy    0.929688"
            ],
            "text/html": [
              "\n",
              "  <div id=\"df-41b24c56-d781-4571-8e35-174b887d041b\">\n",
              "    <div class=\"colab-df-container\">\n",
              "      <div>\n",
              "<style scoped>\n",
              "    .dataframe tbody tr th:only-of-type {\n",
              "        vertical-align: middle;\n",
              "    }\n",
              "\n",
              "    .dataframe tbody tr th {\n",
              "        vertical-align: top;\n",
              "    }\n",
              "\n",
              "    .dataframe thead th {\n",
              "        text-align: right;\n",
              "    }\n",
              "</style>\n",
              "<table border=\"1\" class=\"dataframe\">\n",
              "  <thead>\n",
              "    <tr style=\"text-align: right;\">\n",
              "      <th></th>\n",
              "      <th>modelVMNV2</th>\n",
              "    </tr>\n",
              "    <tr>\n",
              "      <th>Performance</th>\n",
              "      <th></th>\n",
              "    </tr>\n",
              "  </thead>\n",
              "  <tbody>\n",
              "    <tr>\n",
              "      <th>minLoss</th>\n",
              "      <td>0.101398</td>\n",
              "    </tr>\n",
              "    <tr>\n",
              "      <th>maxloss</th>\n",
              "      <td>2.039048</td>\n",
              "    </tr>\n",
              "    <tr>\n",
              "      <th>minValLoss</th>\n",
              "      <td>0.259524</td>\n",
              "    </tr>\n",
              "    <tr>\n",
              "      <th>maxValLoss</th>\n",
              "      <td>1.481168</td>\n",
              "    </tr>\n",
              "    <tr>\n",
              "      <th>minAccuracy</th>\n",
              "      <td>0.317938</td>\n",
              "    </tr>\n",
              "    <tr>\n",
              "      <th>maxAccuracy</th>\n",
              "      <td>0.986278</td>\n",
              "    </tr>\n",
              "    <tr>\n",
              "      <th>minValAccuracy</th>\n",
              "      <td>0.515625</td>\n",
              "    </tr>\n",
              "    <tr>\n",
              "      <th>maxValAccuracy</th>\n",
              "      <td>0.929688</td>\n",
              "    </tr>\n",
              "  </tbody>\n",
              "</table>\n",
              "</div>\n",
              "      <button class=\"colab-df-convert\" onclick=\"convertToInteractive('df-41b24c56-d781-4571-8e35-174b887d041b')\"\n",
              "              title=\"Convert this dataframe to an interactive table.\"\n",
              "              style=\"display:none;\">\n",
              "        \n",
              "  <svg xmlns=\"http://www.w3.org/2000/svg\" height=\"24px\"viewBox=\"0 0 24 24\"\n",
              "       width=\"24px\">\n",
              "    <path d=\"M0 0h24v24H0V0z\" fill=\"none\"/>\n",
              "    <path d=\"M18.56 5.44l.94 2.06.94-2.06 2.06-.94-2.06-.94-.94-2.06-.94 2.06-2.06.94zm-11 1L8.5 8.5l.94-2.06 2.06-.94-2.06-.94L8.5 2.5l-.94 2.06-2.06.94zm10 10l.94 2.06.94-2.06 2.06-.94-2.06-.94-.94-2.06-.94 2.06-2.06.94z\"/><path d=\"M17.41 7.96l-1.37-1.37c-.4-.4-.92-.59-1.43-.59-.52 0-1.04.2-1.43.59L10.3 9.45l-7.72 7.72c-.78.78-.78 2.05 0 2.83L4 21.41c.39.39.9.59 1.41.59.51 0 1.02-.2 1.41-.59l7.78-7.78 2.81-2.81c.8-.78.8-2.07 0-2.86zM5.41 20L4 18.59l7.72-7.72 1.47 1.35L5.41 20z\"/>\n",
              "  </svg>\n",
              "      </button>\n",
              "      \n",
              "  <style>\n",
              "    .colab-df-container {\n",
              "      display:flex;\n",
              "      flex-wrap:wrap;\n",
              "      gap: 12px;\n",
              "    }\n",
              "\n",
              "    .colab-df-convert {\n",
              "      background-color: #E8F0FE;\n",
              "      border: none;\n",
              "      border-radius: 50%;\n",
              "      cursor: pointer;\n",
              "      display: none;\n",
              "      fill: #1967D2;\n",
              "      height: 32px;\n",
              "      padding: 0 0 0 0;\n",
              "      width: 32px;\n",
              "    }\n",
              "\n",
              "    .colab-df-convert:hover {\n",
              "      background-color: #E2EBFA;\n",
              "      box-shadow: 0px 1px 2px rgba(60, 64, 67, 0.3), 0px 1px 3px 1px rgba(60, 64, 67, 0.15);\n",
              "      fill: #174EA6;\n",
              "    }\n",
              "\n",
              "    [theme=dark] .colab-df-convert {\n",
              "      background-color: #3B4455;\n",
              "      fill: #D2E3FC;\n",
              "    }\n",
              "\n",
              "    [theme=dark] .colab-df-convert:hover {\n",
              "      background-color: #434B5C;\n",
              "      box-shadow: 0px 1px 3px 1px rgba(0, 0, 0, 0.15);\n",
              "      filter: drop-shadow(0px 1px 2px rgba(0, 0, 0, 0.3));\n",
              "      fill: #FFFFFF;\n",
              "    }\n",
              "  </style>\n",
              "\n",
              "      <script>\n",
              "        const buttonEl =\n",
              "          document.querySelector('#df-41b24c56-d781-4571-8e35-174b887d041b button.colab-df-convert');\n",
              "        buttonEl.style.display =\n",
              "          google.colab.kernel.accessAllowed ? 'block' : 'none';\n",
              "\n",
              "        async function convertToInteractive(key) {\n",
              "          const element = document.querySelector('#df-41b24c56-d781-4571-8e35-174b887d041b');\n",
              "          const dataTable =\n",
              "            await google.colab.kernel.invokeFunction('convertToInteractive',\n",
              "                                                     [key], {});\n",
              "          if (!dataTable) return;\n",
              "\n",
              "          const docLinkHtml = 'Like what you see? Visit the ' +\n",
              "            '<a target=\"_blank\" href=https://colab.research.google.com/notebooks/data_table.ipynb>data table notebook</a>'\n",
              "            + ' to learn more about interactive tables.';\n",
              "          element.innerHTML = '';\n",
              "          dataTable['output_type'] = 'display_data';\n",
              "          await google.colab.output.renderOutput(dataTable, element);\n",
              "          const docLink = document.createElement('div');\n",
              "          docLink.innerHTML = docLinkHtml;\n",
              "          element.appendChild(docLink);\n",
              "        }\n",
              "      </script>\n",
              "    </div>\n",
              "  </div>\n",
              "  "
            ]
          },
          "metadata": {},
          "execution_count": 76
        }
      ]
    },
    {
      "cell_type": "markdown",
      "source": [
        "**FORSE DOVRESTI RITRAINARE UN NUOVO MODELLO SUL TRANSFER LEARNING CON I PARAMETRI MIGLIORI E SALVARE SOLO QUELLO COME MODELLO DA UTILIZZARE SUCCESSIVAMENTE. SEMPRE PERò LO STESSO MODELLO SPERANDO DI OTTENERE MIGLIORI RISULTATI. QUESTO SAREBBE DA FARE SUBITO QUI SOTTO! TOGLIERE VGG16 E SPIEGARE CHE SONO STATI FATTI DIVERSI ESPERIMENTI, MA CHE NON HANNO PORTATO A RISULTTI MIGLIORI DI QUELLI OTTENUTI CON LA MOBILENETV2**"
      ],
      "metadata": {
        "id": "cp9GBjqmsEDF"
      }
    },
    {
      "cell_type": "markdown",
      "source": [
        "#### **VGG16**"
      ],
      "metadata": {
        "id": "BCcxqpC9dtl2"
      }
    },
    {
      "cell_type": "markdown",
      "source": [
        "ATTENZIONE: DA MODIFICARE PERCHé CREZIONE SBAGLIATA, AFFIDARSI A QUANTO FATTO NELLA MOBILENETV2"
      ],
      "metadata": {
        "id": "VEV9-KjYXOal"
      }
    },
    {
      "cell_type": "code",
      "source": [
        "# INSERISCI SITO E SPIEGAZIONE COME RIFERIMENTO: https://www.image-net.org/download.php\n",
        "\n",
        "pretrained_model_VGG16 = tf.keras.applications.vgg16.VGG16(\n",
        "    input_shape = (224, 224, 3),\n",
        "    # include_top means: do you want to keep the classification layer, the final classification that the original model was training on.\n",
        "    # MobileNetV2 was originally trained on the ImageNet dataset. Because the final layer has 1000 classes, if we would keep it, we\n",
        "    # would have 1000 classes at the end. We do not want that but, instead, we want our own classification layer at the end.\n",
        "    include_top=False, \n",
        "    # We keep the same weights\n",
        "    weights=\"imagenet\",\n",
        "    # Average pooling at the end: it will ensure that the output of the pretrained model is one-dimensional (with n classes).\n",
        "    pooling=\"avg\"\n",
        ")\n",
        "\n",
        "# With the following we ensure that we do not mess with the original\n",
        "# imagenet weights\n",
        "pretrained_model_VGG16.trainable = False"
      ],
      "metadata": {
        "colab": {
          "base_uri": "https://localhost:8080/",
          "height": 72
        },
        "id": "_o39Idp5QAu4",
        "outputId": "c672b0d5-ec5e-497a-c83b-aed2d4b48b3e"
      },
      "execution_count": null,
      "outputs": [
        {
          "output_type": "display_data",
          "data": {
            "text/plain": [
              "<IPython.core.display.Javascript object>"
            ],
            "application/javascript": [
              "google.colab.output.setIframeHeight(0, true, {maxHeight: 300})"
            ]
          },
          "metadata": {}
        },
        {
          "output_type": "stream",
          "name": "stdout",
          "text": [
            "Downloading data from https://storage.googleapis.com/tensorflow/keras-applications/vgg16/vgg16_weights_tf_dim_ordering_tf_kernels_notop.h5\n",
            "58889256/58889256 [==============================] - 0s 0us/step\n"
          ]
        }
      ]
    },
    {
      "cell_type": "code",
      "source": [
        "def create_VGG16_model(\n",
        "    lr= 0.1, \n",
        "    init_mode=\"he_uniform\", \n",
        "    activation = 'relu', \n",
        "    dropout_rate= 0.1, \n",
        "    optimizer = 'Adam'):\n",
        "  \n",
        "  pretrained_model_VGG16 = tf.keras.applications.vgg16.VGG16(\n",
        "      input_shape = (224, 224, 3),\n",
        "      # include_top means: do you want to keep the classification layer, the final classification that the original model was training on.\n",
        "      # MobileNetV2 was originally trained on the ImageNet dataset. Because the final layer has 1000 classes, if we would keep it, we\n",
        "      # would have 1000 classes at the end. We do not want that but, instead, we want our own classification layer at the end.\n",
        "      include_top=False, \n",
        "      # We keep the same weights\n",
        "      weights=\"imagenet\",\n",
        "      # Average pooling at the end: it will ensure that the output of the pretrained model is one-dimensional (with n classes).\n",
        "      pooling=\"avg\"\n",
        "  )\n",
        "\n",
        "  # With the following we ensure that we do not mess with the original\n",
        "  # imagenet weights\n",
        "  pretrained_model_VGG16.trainable = False\n",
        "\n",
        "  x = pretrained_model_VGG16.output\n",
        "  # x = keras.layers.GlobalAveragePooling2D()(x)\n",
        "  # We are using \"softmax\" since we want 9 probability values that all sum to 1 and the highest probability\n",
        "  # will be our classification result.\n",
        "  # For the regularizer: https://github.com/christianversloot/machine-learning-articles/blob/main/how-to-use-l1-l2-and-elastic-net-regularization-with-keras.md\n",
        "  preds = Dense(num_classes, activation='softmax')(x) #final layer with softmax activation for N classes\n",
        "\n",
        "  model_VGG16 = keras.Model(inputs = pretrained_model_VGG16.input, outputs = preds) #specify the inputs and outputs\n",
        "\n",
        "  # # USING A LEARNING RATE DECAY/SCHEDULING --> https://keras.io/api/optimizers/\n",
        "  # lr_schedule = keras.optimizers.schedules.ExponentialDecay(\n",
        "  #     initial_learning_rate = 0.0001, # previously 0.001\n",
        "  #     decay_steps=10000, # previously 10000\n",
        "  #     decay_rate=0.95) # previously 0.95\n",
        "\n",
        "  # COMPILE THE MODEL\n",
        "  model_VGG16.compile(loss=keras.losses.categorical_crossentropy,\n",
        "                             optimizer= keras.optimizers.Adam(learning_rate=0.0001),\n",
        "                             metrics=['accuracy'])\n",
        "                            #  steps_per_execution=5)\n",
        "\n",
        "  return model_VGG16\n",
        "\n",
        "# LOOK AT THE SUMMARY OF THE MODEL\n",
        "print(create_VGG16_model().summary())"
      ],
      "metadata": {
        "id": "k0jbss1OmYBn"
      },
      "execution_count": null,
      "outputs": []
    },
    {
      "cell_type": "code",
      "source": [
        "# # ARCHITECTURE DEFINITION FOR MODEL PRETRAINED ON IMAGENET\n",
        "\n",
        "# pretrained_model_VGG16 = tf.keras.Sequential([\n",
        "#     pretrained_model_VGG16, \n",
        "#     tf.keras.layers.Dropout(0.2),\n",
        "#     tf.keras.layers.Dense(num_classes, \n",
        "#                           activation=\"softmax\",\n",
        "#                           kernel_regularizer=tf.keras.regularizers.l2(0.001)),\n",
        "#       ]\n",
        "#     )"
      ],
      "metadata": {
        "id": "rxt_9EsbQAp7"
      },
      "execution_count": null,
      "outputs": []
    },
    {
      "cell_type": "code",
      "source": [
        "# # VISULIZE THE SUMMARY\n",
        "# print(pretrained_model_VGG16.summary())"
      ],
      "metadata": {
        "id": "SkruR_IYPuuR"
      },
      "execution_count": null,
      "outputs": []
    },
    {
      "cell_type": "code",
      "source": [
        "# COMPILE THE MODEL\n",
        "create_VGG16_model().compile(loss=keras.losses.categorical_crossentropy,\n",
        "            # optimizer= keras.optimizers.Adam(learning_rate=0.0001),\n",
        "            metrics=['accuracy'])"
      ],
      "metadata": {
        "id": "f5QHOjGpPmn0",
        "colab": {
          "base_uri": "https://localhost:8080/",
          "height": 17
        },
        "outputId": "555ccce0-c422-4409-c2f9-57d71ed99fab"
      },
      "execution_count": null,
      "outputs": [
        {
          "output_type": "display_data",
          "data": {
            "text/plain": [
              "<IPython.core.display.Javascript object>"
            ],
            "application/javascript": [
              "google.colab.output.setIframeHeight(0, true, {maxHeight: 300})"
            ]
          },
          "metadata": {}
        }
      ]
    },
    {
      "cell_type": "code",
      "source": [
        "# START COUNTING THE TIME\n",
        "start = datetime.datetime.now()\n",
        "\n",
        "\n",
        "# FIT THE MODEL\n",
        "history_VGG16 = create_VGG16_model().fit(train_generator, \n",
        "                  validation_data = test_generator, \n",
        "                  steps_per_epoch = train_generator.n // train_generator.batch_size,\n",
        "                  validation_steps = test_generator.n // test_generator.batch_size, \n",
        "                  epochs=100) #,\n",
        "                  # callbacks = [callback])\n",
        "\n",
        "print(\"--- Training Completed ---\")\n",
        "\n",
        "# STOP COUNTING THE TIME\n",
        "end = datetime.datetime.now()\n",
        "print(\"Total execution time: \", end-start)"
      ],
      "metadata": {
        "colab": {
          "base_uri": "https://localhost:8080/",
          "height": 300
        },
        "id": "NpAYBrOiPmlV",
        "outputId": "da2e5fa1-95a6-41de-cc32-0805e9b828f1"
      },
      "execution_count": null,
      "outputs": [
        {
          "output_type": "display_data",
          "data": {
            "text/plain": [
              "<IPython.core.display.Javascript object>"
            ],
            "application/javascript": [
              "google.colab.output.setIframeHeight(0, true, {maxHeight: 300})"
            ]
          },
          "metadata": {}
        },
        {
          "output_type": "stream",
          "name": "stdout",
          "text": [
            "Epoch 1/200\n",
            "187/187 [==============================] - 10s 50ms/step - loss: 2.4142 - accuracy: 0.1489 - val_loss: 2.3824 - val_accuracy: 0.0703\n",
            "Epoch 2/200\n",
            "187/187 [==============================] - 9s 48ms/step - loss: 2.1065 - accuracy: 0.3019 - val_loss: 2.1640 - val_accuracy: 0.1719\n",
            "Epoch 3/200\n",
            "187/187 [==============================] - 9s 49ms/step - loss: 1.9382 - accuracy: 0.4431 - val_loss: 2.0258 - val_accuracy: 0.2969\n",
            "Epoch 4/200\n",
            "187/187 [==============================] - 9s 49ms/step - loss: 1.7991 - accuracy: 0.5254 - val_loss: 1.9377 - val_accuracy: 0.4375\n",
            "Epoch 5/200\n",
            "187/187 [==============================] - 10s 53ms/step - loss: 1.6798 - accuracy: 0.5843 - val_loss: 1.8621 - val_accuracy: 0.4609\n",
            "Epoch 6/200\n",
            "187/187 [==============================] - 9s 49ms/step - loss: 1.5765 - accuracy: 0.6272 - val_loss: 1.7877 - val_accuracy: 0.4766\n",
            "Epoch 7/200\n",
            "187/187 [==============================] - 9s 49ms/step - loss: 1.4895 - accuracy: 0.6526 - val_loss: 1.7251 - val_accuracy: 0.5156\n",
            "Epoch 8/200\n",
            "187/187 [==============================] - 9s 49ms/step - loss: 1.4117 - accuracy: 0.6687 - val_loss: 1.6749 - val_accuracy: 0.5000\n",
            "Epoch 9/200\n",
            "187/187 [==============================] - 9s 48ms/step - loss: 1.3436 - accuracy: 0.6991 - val_loss: 1.6320 - val_accuracy: 0.5000\n",
            "Epoch 10/200\n",
            "187/187 [==============================] - 9s 49ms/step - loss: 1.2838 - accuracy: 0.7085 - val_loss: 1.5753 - val_accuracy: 0.5547\n",
            "Epoch 11/200\n",
            "187/187 [==============================] - 9s 49ms/step - loss: 1.2306 - accuracy: 0.7212 - val_loss: 1.5336 - val_accuracy: 0.5547\n",
            "Epoch 12/200\n",
            "187/187 [==============================] - 9s 49ms/step - loss: 1.1823 - accuracy: 0.7289 - val_loss: 1.5018 - val_accuracy: 0.5625\n",
            "Epoch 13/200\n",
            "187/187 [==============================] - 10s 53ms/step - loss: 1.1394 - accuracy: 0.7369 - val_loss: 1.4614 - val_accuracy: 0.5703\n",
            "Epoch 14/200\n",
            "187/187 [==============================] - 9s 49ms/step - loss: 1.0993 - accuracy: 0.7467 - val_loss: 1.4435 - val_accuracy: 0.5703\n",
            "Epoch 15/200\n",
            "187/187 [==============================] - 9s 49ms/step - loss: 1.0630 - accuracy: 0.7564 - val_loss: 1.4158 - val_accuracy: 0.5703\n",
            "Epoch 16/200\n",
            "187/187 [==============================] - 9s 50ms/step - loss: 1.0294 - accuracy: 0.7610 - val_loss: 1.3871 - val_accuracy: 0.5781\n",
            "Epoch 17/200\n",
            "187/187 [==============================] - 9s 49ms/step - loss: 0.9980 - accuracy: 0.7694 - val_loss: 1.3636 - val_accuracy: 0.5703\n",
            "Epoch 18/200\n",
            "187/187 [==============================] - 9s 49ms/step - loss: 0.9688 - accuracy: 0.7764 - val_loss: 1.3489 - val_accuracy: 0.5781\n",
            "Epoch 19/200\n",
            "187/187 [==============================] - 9s 50ms/step - loss: 0.9430 - accuracy: 0.7781 - val_loss: 1.3225 - val_accuracy: 0.6016\n",
            "Epoch 20/200\n",
            "187/187 [==============================] - 9s 49ms/step - loss: 0.9173 - accuracy: 0.7848 - val_loss: 1.2925 - val_accuracy: 0.6172\n",
            "Epoch 21/200\n",
            "187/187 [==============================] - 9s 49ms/step - loss: 0.8925 - accuracy: 0.7841 - val_loss: 1.2830 - val_accuracy: 0.6172\n",
            "Epoch 22/200\n",
            "187/187 [==============================] - 9s 48ms/step - loss: 0.8689 - accuracy: 0.7935 - val_loss: 1.2697 - val_accuracy: 0.6172\n",
            "Epoch 23/200\n",
            "187/187 [==============================] - 9s 49ms/step - loss: 0.8493 - accuracy: 0.7959 - val_loss: 1.2565 - val_accuracy: 0.6172\n",
            "Epoch 24/200\n",
            "187/187 [==============================] - 9s 49ms/step - loss: 0.8284 - accuracy: 0.8005 - val_loss: 1.2391 - val_accuracy: 0.6406\n",
            "Epoch 25/200\n",
            "187/187 [==============================] - 9s 48ms/step - loss: 0.8108 - accuracy: 0.8025 - val_loss: 1.2337 - val_accuracy: 0.6172\n",
            "Epoch 26/200\n",
            "187/187 [==============================] - 9s 49ms/step - loss: 0.7919 - accuracy: 0.8099 - val_loss: 1.2172 - val_accuracy: 0.6328\n",
            "Epoch 27/200\n",
            "187/187 [==============================] - 9s 49ms/step - loss: 0.7743 - accuracy: 0.8149 - val_loss: 1.2015 - val_accuracy: 0.6406\n",
            "Epoch 28/200\n",
            "187/187 [==============================] - 9s 49ms/step - loss: 0.7588 - accuracy: 0.8159 - val_loss: 1.1906 - val_accuracy: 0.6406\n",
            "Epoch 29/200\n",
            "187/187 [==============================] - 9s 49ms/step - loss: 0.7446 - accuracy: 0.8233 - val_loss: 1.1761 - val_accuracy: 0.6328\n",
            "Epoch 30/200\n",
            "187/187 [==============================] - 9s 49ms/step - loss: 0.7265 - accuracy: 0.8213 - val_loss: 1.1667 - val_accuracy: 0.6406\n",
            "Epoch 31/200\n",
            "187/187 [==============================] - 9s 49ms/step - loss: 0.7139 - accuracy: 0.8290 - val_loss: 1.1617 - val_accuracy: 0.6328\n",
            "Epoch 32/200\n",
            "187/187 [==============================] - 9s 49ms/step - loss: 0.6983 - accuracy: 0.8293 - val_loss: 1.1530 - val_accuracy: 0.6250\n",
            "Epoch 33/200\n",
            "187/187 [==============================] - 9s 49ms/step - loss: 0.6865 - accuracy: 0.8330 - val_loss: 1.1453 - val_accuracy: 0.6250\n",
            "Epoch 34/200\n",
            "187/187 [==============================] - 9s 49ms/step - loss: 0.6747 - accuracy: 0.8343 - val_loss: 1.1273 - val_accuracy: 0.6328\n",
            "Epoch 35/200\n",
            "187/187 [==============================] - 10s 53ms/step - loss: 0.6617 - accuracy: 0.8360 - val_loss: 1.1253 - val_accuracy: 0.6250\n",
            "Epoch 36/200\n",
            "187/187 [==============================] - 9s 49ms/step - loss: 0.6494 - accuracy: 0.8420 - val_loss: 1.1143 - val_accuracy: 0.6172\n",
            "Epoch 37/200\n",
            "187/187 [==============================] - 9s 49ms/step - loss: 0.6372 - accuracy: 0.8430 - val_loss: 1.1036 - val_accuracy: 0.6172\n",
            "Epoch 38/200\n",
            "187/187 [==============================] - 9s 49ms/step - loss: 0.6267 - accuracy: 0.8484 - val_loss: 1.0976 - val_accuracy: 0.6172\n",
            "Epoch 39/200\n",
            "187/187 [==============================] - 9s 49ms/step - loss: 0.6146 - accuracy: 0.8487 - val_loss: 1.0895 - val_accuracy: 0.6250\n",
            "Epoch 40/200\n",
            "187/187 [==============================] - 9s 49ms/step - loss: 0.6051 - accuracy: 0.8527 - val_loss: 1.0865 - val_accuracy: 0.6172\n",
            "Epoch 41/200\n",
            "187/187 [==============================] - 9s 49ms/step - loss: 0.5960 - accuracy: 0.8561 - val_loss: 1.0817 - val_accuracy: 0.6172\n",
            "Epoch 42/200\n",
            "187/187 [==============================] - 9s 49ms/step - loss: 0.5867 - accuracy: 0.8581 - val_loss: 1.0745 - val_accuracy: 0.6250\n",
            "Epoch 43/200\n",
            "187/187 [==============================] - 9s 49ms/step - loss: 0.5766 - accuracy: 0.8584 - val_loss: 1.0700 - val_accuracy: 0.6172\n",
            "Epoch 44/200\n",
            "187/187 [==============================] - 9s 48ms/step - loss: 0.5672 - accuracy: 0.8624 - val_loss: 1.0658 - val_accuracy: 0.6250\n",
            "Epoch 45/200\n",
            "187/187 [==============================] - 9s 49ms/step - loss: 0.5592 - accuracy: 0.8631 - val_loss: 1.0558 - val_accuracy: 0.6172\n",
            "Epoch 46/200\n",
            "187/187 [==============================] - 9s 49ms/step - loss: 0.5498 - accuracy: 0.8658 - val_loss: 1.0444 - val_accuracy: 0.6250\n",
            "Epoch 47/200\n",
            "187/187 [==============================] - 9s 48ms/step - loss: 0.5423 - accuracy: 0.8648 - val_loss: 1.0437 - val_accuracy: 0.6250\n",
            "Epoch 48/200\n",
            "187/187 [==============================] - 9s 49ms/step - loss: 0.5351 - accuracy: 0.8701 - val_loss: 1.0417 - val_accuracy: 0.6172\n",
            "Epoch 49/200\n",
            "187/187 [==============================] - 9s 49ms/step - loss: 0.5261 - accuracy: 0.8752 - val_loss: 1.0312 - val_accuracy: 0.6250\n",
            "Epoch 50/200\n",
            "187/187 [==============================] - 9s 49ms/step - loss: 0.5183 - accuracy: 0.8772 - val_loss: 1.0269 - val_accuracy: 0.6250\n",
            "Epoch 51/200\n",
            "187/187 [==============================] - 9s 50ms/step - loss: 0.5124 - accuracy: 0.8812 - val_loss: 1.0218 - val_accuracy: 0.6250\n",
            "Epoch 52/200\n",
            "187/187 [==============================] - 9s 49ms/step - loss: 0.5056 - accuracy: 0.8819 - val_loss: 1.0176 - val_accuracy: 0.6328\n",
            "Epoch 53/200\n",
            "187/187 [==============================] - 9s 49ms/step - loss: 0.4978 - accuracy: 0.8859 - val_loss: 1.0185 - val_accuracy: 0.6250\n",
            "Epoch 54/200\n",
            "187/187 [==============================] - 9s 48ms/step - loss: 0.4928 - accuracy: 0.8892 - val_loss: 1.0167 - val_accuracy: 0.6250\n",
            "Epoch 55/200\n",
            "187/187 [==============================] - 9s 49ms/step - loss: 0.4836 - accuracy: 0.8936 - val_loss: 1.0063 - val_accuracy: 0.6250\n",
            "Epoch 56/200\n",
            "187/187 [==============================] - 9s 49ms/step - loss: 0.4792 - accuracy: 0.8976 - val_loss: 1.0004 - val_accuracy: 0.6328\n",
            "Epoch 57/200\n",
            "187/187 [==============================] - 9s 49ms/step - loss: 0.4710 - accuracy: 0.8963 - val_loss: 1.0009 - val_accuracy: 0.6406\n",
            "Epoch 58/200\n",
            "187/187 [==============================] - 10s 53ms/step - loss: 0.4669 - accuracy: 0.8973 - val_loss: 0.9982 - val_accuracy: 0.6406\n",
            "Epoch 59/200\n",
            "187/187 [==============================] - 9s 49ms/step - loss: 0.4609 - accuracy: 0.8999 - val_loss: 0.9978 - val_accuracy: 0.6406\n",
            "Epoch 60/200\n",
            "187/187 [==============================] - 9s 49ms/step - loss: 0.4551 - accuracy: 0.9006 - val_loss: 0.9848 - val_accuracy: 0.6562\n",
            "Epoch 61/200\n",
            "187/187 [==============================] - 9s 50ms/step - loss: 0.4490 - accuracy: 0.9033 - val_loss: 0.9885 - val_accuracy: 0.6484\n",
            "Epoch 62/200\n",
            "187/187 [==============================] - 9s 49ms/step - loss: 0.4417 - accuracy: 0.9056 - val_loss: 0.9842 - val_accuracy: 0.6484\n",
            "Epoch 63/200\n",
            "187/187 [==============================] - 9s 49ms/step - loss: 0.4387 - accuracy: 0.9070 - val_loss: 0.9730 - val_accuracy: 0.6562\n",
            "Epoch 64/200\n",
            "187/187 [==============================] - 9s 49ms/step - loss: 0.4315 - accuracy: 0.9070 - val_loss: 0.9736 - val_accuracy: 0.6484\n",
            "Epoch 65/200\n",
            "187/187 [==============================] - 9s 49ms/step - loss: 0.4266 - accuracy: 0.9086 - val_loss: 0.9659 - val_accuracy: 0.6562\n",
            "Epoch 66/200\n",
            "187/187 [==============================] - 9s 49ms/step - loss: 0.4224 - accuracy: 0.9093 - val_loss: 0.9613 - val_accuracy: 0.6406\n",
            "Epoch 67/200\n",
            "187/187 [==============================] - 9s 49ms/step - loss: 0.4184 - accuracy: 0.9116 - val_loss: 0.9634 - val_accuracy: 0.6484\n",
            "Epoch 68/200\n",
            "187/187 [==============================] - 9s 49ms/step - loss: 0.4135 - accuracy: 0.9116 - val_loss: 0.9533 - val_accuracy: 0.6484\n",
            "Epoch 69/200\n",
            "187/187 [==============================] - 9s 49ms/step - loss: 0.4089 - accuracy: 0.9140 - val_loss: 0.9500 - val_accuracy: 0.6562\n",
            "Epoch 70/200\n",
            "187/187 [==============================] - 9s 48ms/step - loss: 0.4044 - accuracy: 0.9133 - val_loss: 0.9514 - val_accuracy: 0.6484\n",
            "Epoch 71/200\n",
            "187/187 [==============================] - 9s 49ms/step - loss: 0.3996 - accuracy: 0.9170 - val_loss: 0.9474 - val_accuracy: 0.6562\n",
            "Epoch 72/200\n",
            "187/187 [==============================] - 9s 49ms/step - loss: 0.3942 - accuracy: 0.9177 - val_loss: 0.9469 - val_accuracy: 0.6484\n",
            "Epoch 73/200\n",
            "187/187 [==============================] - 9s 49ms/step - loss: 0.3896 - accuracy: 0.9178 - val_loss: 0.9463 - val_accuracy: 0.6484\n",
            "Epoch 74/200\n",
            "187/187 [==============================] - 9s 49ms/step - loss: 0.3868 - accuracy: 0.9207 - val_loss: 0.9385 - val_accuracy: 0.6562\n",
            "Epoch 75/200\n",
            "187/187 [==============================] - 9s 49ms/step - loss: 0.3819 - accuracy: 0.9207 - val_loss: 0.9442 - val_accuracy: 0.6562\n",
            "Epoch 76/200\n",
            "187/187 [==============================] - 9s 48ms/step - loss: 0.3779 - accuracy: 0.9207 - val_loss: 0.9422 - val_accuracy: 0.6562\n",
            "Epoch 77/200\n",
            "187/187 [==============================] - 9s 49ms/step - loss: 0.3740 - accuracy: 0.9210 - val_loss: 0.9338 - val_accuracy: 0.6562\n",
            "Epoch 78/200\n",
            "187/187 [==============================] - 9s 49ms/step - loss: 0.3705 - accuracy: 0.9230 - val_loss: 0.9266 - val_accuracy: 0.6719\n",
            "Epoch 79/200\n",
            "187/187 [==============================] - 9s 48ms/step - loss: 0.3673 - accuracy: 0.9237 - val_loss: 0.9287 - val_accuracy: 0.6641\n",
            "Epoch 80/200\n",
            "187/187 [==============================] - 9s 50ms/step - loss: 0.3633 - accuracy: 0.9257 - val_loss: 0.9260 - val_accuracy: 0.6719\n",
            "Epoch 81/200\n",
            "187/187 [==============================] - 10s 53ms/step - loss: 0.3593 - accuracy: 0.9254 - val_loss: 0.9239 - val_accuracy: 0.6719\n",
            "Epoch 82/200\n",
            "187/187 [==============================] - 10s 51ms/step - loss: 0.3558 - accuracy: 0.9274 - val_loss: 0.9203 - val_accuracy: 0.6641\n",
            "Epoch 83/200\n",
            "187/187 [==============================] - 9s 50ms/step - loss: 0.3522 - accuracy: 0.9287 - val_loss: 0.9189 - val_accuracy: 0.6875\n",
            "Epoch 84/200\n",
            "187/187 [==============================] - 9s 49ms/step - loss: 0.3486 - accuracy: 0.9301 - val_loss: 0.9227 - val_accuracy: 0.6719\n",
            "Epoch 85/200\n",
            "187/187 [==============================] - 9s 49ms/step - loss: 0.3460 - accuracy: 0.9314 - val_loss: 0.9139 - val_accuracy: 0.6719\n",
            "Epoch 86/200\n",
            "187/187 [==============================] - 9s 49ms/step - loss: 0.3423 - accuracy: 0.9321 - val_loss: 0.9152 - val_accuracy: 0.6875\n",
            "Epoch 87/200\n",
            "187/187 [==============================] - 9s 49ms/step - loss: 0.3380 - accuracy: 0.9331 - val_loss: 0.9112 - val_accuracy: 0.6953\n",
            "Epoch 88/200\n",
            "187/187 [==============================] - 9s 49ms/step - loss: 0.3357 - accuracy: 0.9347 - val_loss: 0.9092 - val_accuracy: 0.6875\n",
            "Epoch 89/200\n",
            "187/187 [==============================] - 9s 49ms/step - loss: 0.3326 - accuracy: 0.9337 - val_loss: 0.9105 - val_accuracy: 0.6953\n",
            "Epoch 90/200\n",
            "187/187 [==============================] - 9s 50ms/step - loss: 0.3277 - accuracy: 0.9361 - val_loss: 0.9064 - val_accuracy: 0.6953\n",
            "Epoch 91/200\n",
            "187/187 [==============================] - 9s 50ms/step - loss: 0.3256 - accuracy: 0.9364 - val_loss: 0.9001 - val_accuracy: 0.6953\n",
            "Epoch 92/200\n",
            "187/187 [==============================] - 9s 49ms/step - loss: 0.3231 - accuracy: 0.9384 - val_loss: 0.8960 - val_accuracy: 0.7031\n",
            "Epoch 93/200\n",
            "187/187 [==============================] - 9s 49ms/step - loss: 0.3202 - accuracy: 0.9367 - val_loss: 0.9049 - val_accuracy: 0.6875\n",
            "Epoch 94/200\n",
            "187/187 [==============================] - 9s 49ms/step - loss: 0.3170 - accuracy: 0.9414 - val_loss: 0.8950 - val_accuracy: 0.7031\n",
            "Epoch 95/200\n",
            "187/187 [==============================] - 9s 49ms/step - loss: 0.3141 - accuracy: 0.9394 - val_loss: 0.8980 - val_accuracy: 0.6953\n",
            "Epoch 96/200\n",
            "187/187 [==============================] - 9s 49ms/step - loss: 0.3116 - accuracy: 0.9418 - val_loss: 0.8974 - val_accuracy: 0.6953\n",
            "Epoch 97/200\n",
            "187/187 [==============================] - 9s 49ms/step - loss: 0.3083 - accuracy: 0.9428 - val_loss: 0.8895 - val_accuracy: 0.6953\n",
            "Epoch 98/200\n",
            "187/187 [==============================] - 9s 49ms/step - loss: 0.3058 - accuracy: 0.9418 - val_loss: 0.8953 - val_accuracy: 0.6953\n",
            "Epoch 99/200\n",
            "187/187 [==============================] - 9s 49ms/step - loss: 0.3027 - accuracy: 0.9421 - val_loss: 0.8867 - val_accuracy: 0.6953\n",
            "Epoch 100/200\n",
            "187/187 [==============================] - 9s 49ms/step - loss: 0.3009 - accuracy: 0.9428 - val_loss: 0.8846 - val_accuracy: 0.6953\n",
            "Epoch 101/200\n",
            "187/187 [==============================] - 9s 49ms/step - loss: 0.2976 - accuracy: 0.9441 - val_loss: 0.8799 - val_accuracy: 0.7109\n",
            "Epoch 102/200\n",
            "187/187 [==============================] - 9s 49ms/step - loss: 0.2956 - accuracy: 0.9438 - val_loss: 0.8819 - val_accuracy: 0.7031\n",
            "Epoch 103/200\n",
            "187/187 [==============================] - 9s 49ms/step - loss: 0.2930 - accuracy: 0.9471 - val_loss: 0.8827 - val_accuracy: 0.7031\n",
            "Epoch 104/200\n",
            "187/187 [==============================] - 10s 54ms/step - loss: 0.2906 - accuracy: 0.9475 - val_loss: 0.8855 - val_accuracy: 0.6953\n",
            "Epoch 105/200\n",
            "187/187 [==============================] - 9s 49ms/step - loss: 0.2866 - accuracy: 0.9485 - val_loss: 0.8797 - val_accuracy: 0.6953\n",
            "Epoch 106/200\n",
            "187/187 [==============================] - 9s 49ms/step - loss: 0.2851 - accuracy: 0.9485 - val_loss: 0.8742 - val_accuracy: 0.7031\n",
            "Epoch 107/200\n",
            "187/187 [==============================] - 9s 49ms/step - loss: 0.2821 - accuracy: 0.9481 - val_loss: 0.8759 - val_accuracy: 0.7031\n",
            "Epoch 108/200\n",
            "187/187 [==============================] - 9s 49ms/step - loss: 0.2808 - accuracy: 0.9488 - val_loss: 0.8723 - val_accuracy: 0.7188\n",
            "Epoch 109/200\n",
            "187/187 [==============================] - 9s 49ms/step - loss: 0.2779 - accuracy: 0.9498 - val_loss: 0.8704 - val_accuracy: 0.7188\n",
            "Epoch 110/200\n",
            "187/187 [==============================] - 9s 49ms/step - loss: 0.2759 - accuracy: 0.9495 - val_loss: 0.8682 - val_accuracy: 0.7188\n",
            "Epoch 111/200\n",
            "187/187 [==============================] - 9s 49ms/step - loss: 0.2728 - accuracy: 0.9508 - val_loss: 0.8652 - val_accuracy: 0.7188\n",
            "Epoch 112/200\n",
            "187/187 [==============================] - 9s 49ms/step - loss: 0.2717 - accuracy: 0.9501 - val_loss: 0.8698 - val_accuracy: 0.7188\n",
            "Epoch 113/200\n",
            "187/187 [==============================] - 9s 48ms/step - loss: 0.2689 - accuracy: 0.9508 - val_loss: 0.8623 - val_accuracy: 0.7188\n",
            "Epoch 114/200\n",
            "187/187 [==============================] - 9s 51ms/step - loss: 0.2674 - accuracy: 0.9508 - val_loss: 0.8593 - val_accuracy: 0.7188\n",
            "Epoch 115/200\n",
            "187/187 [==============================] - 10s 51ms/step - loss: 0.2651 - accuracy: 0.9505 - val_loss: 0.8617 - val_accuracy: 0.7188\n",
            "Epoch 116/200\n",
            "187/187 [==============================] - 9s 49ms/step - loss: 0.2618 - accuracy: 0.9521 - val_loss: 0.8642 - val_accuracy: 0.7109\n",
            "Epoch 117/200\n",
            "187/187 [==============================] - 9s 49ms/step - loss: 0.2608 - accuracy: 0.9511 - val_loss: 0.8614 - val_accuracy: 0.7188\n",
            "Epoch 118/200\n",
            "187/187 [==============================] - 9s 49ms/step - loss: 0.2589 - accuracy: 0.9521 - val_loss: 0.8535 - val_accuracy: 0.7266\n",
            "Epoch 119/200\n",
            "187/187 [==============================] - 9s 49ms/step - loss: 0.2565 - accuracy: 0.9518 - val_loss: 0.8531 - val_accuracy: 0.7266\n",
            "Epoch 120/200\n",
            "187/187 [==============================] - 9s 49ms/step - loss: 0.2548 - accuracy: 0.9511 - val_loss: 0.8516 - val_accuracy: 0.7266\n",
            "Epoch 121/200\n",
            "187/187 [==============================] - 9s 49ms/step - loss: 0.2524 - accuracy: 0.9541 - val_loss: 0.8502 - val_accuracy: 0.7266\n",
            "Epoch 122/200\n",
            "187/187 [==============================] - 9s 50ms/step - loss: 0.2509 - accuracy: 0.9528 - val_loss: 0.8506 - val_accuracy: 0.7266\n",
            "Epoch 123/200\n",
            "187/187 [==============================] - 9s 49ms/step - loss: 0.2494 - accuracy: 0.9528 - val_loss: 0.8528 - val_accuracy: 0.7266\n",
            "Epoch 124/200\n",
            "187/187 [==============================] - 9s 49ms/step - loss: 0.2471 - accuracy: 0.9535 - val_loss: 0.8464 - val_accuracy: 0.7188\n",
            "Epoch 125/200\n",
            "187/187 [==============================] - 9s 49ms/step - loss: 0.2450 - accuracy: 0.9541 - val_loss: 0.8450 - val_accuracy: 0.7266\n",
            "Epoch 126/200\n",
            "187/187 [==============================] - 9s 49ms/step - loss: 0.2432 - accuracy: 0.9562 - val_loss: 0.8417 - val_accuracy: 0.7266\n",
            "Epoch 127/200\n",
            "187/187 [==============================] - 9s 49ms/step - loss: 0.2415 - accuracy: 0.9545 - val_loss: 0.8447 - val_accuracy: 0.7266\n",
            "Epoch 128/200\n",
            "187/187 [==============================] - 10s 52ms/step - loss: 0.2384 - accuracy: 0.9558 - val_loss: 0.8413 - val_accuracy: 0.7344\n",
            "Epoch 129/200\n",
            "187/187 [==============================] - 10s 52ms/step - loss: 0.2379 - accuracy: 0.9565 - val_loss: 0.8413 - val_accuracy: 0.7266\n",
            "Epoch 130/200\n",
            "187/187 [==============================] - 9s 49ms/step - loss: 0.2362 - accuracy: 0.9578 - val_loss: 0.8429 - val_accuracy: 0.7109\n",
            "Epoch 131/200\n",
            "187/187 [==============================] - 9s 49ms/step - loss: 0.2338 - accuracy: 0.9575 - val_loss: 0.8422 - val_accuracy: 0.7266\n",
            "Epoch 132/200\n",
            "187/187 [==============================] - 9s 49ms/step - loss: 0.2313 - accuracy: 0.9588 - val_loss: 0.8353 - val_accuracy: 0.7344\n",
            "Epoch 133/200\n",
            "187/187 [==============================] - 9s 49ms/step - loss: 0.2315 - accuracy: 0.9595 - val_loss: 0.8393 - val_accuracy: 0.7266\n",
            "Epoch 134/200\n",
            "187/187 [==============================] - 9s 49ms/step - loss: 0.2274 - accuracy: 0.9602 - val_loss: 0.8327 - val_accuracy: 0.7266\n",
            "Epoch 135/200\n",
            "187/187 [==============================] - 9s 49ms/step - loss: 0.2274 - accuracy: 0.9602 - val_loss: 0.8364 - val_accuracy: 0.7344\n",
            "Epoch 136/200\n",
            "187/187 [==============================] - 9s 50ms/step - loss: 0.2264 - accuracy: 0.9602 - val_loss: 0.8340 - val_accuracy: 0.7344\n",
            "Epoch 137/200\n",
            "187/187 [==============================] - 9s 49ms/step - loss: 0.2246 - accuracy: 0.9612 - val_loss: 0.8337 - val_accuracy: 0.7422\n",
            "Epoch 138/200\n",
            "187/187 [==============================] - 9s 49ms/step - loss: 0.2217 - accuracy: 0.9615 - val_loss: 0.8301 - val_accuracy: 0.7422\n",
            "Epoch 139/200\n",
            "187/187 [==============================] - 9s 50ms/step - loss: 0.2209 - accuracy: 0.9612 - val_loss: 0.8338 - val_accuracy: 0.7422\n",
            "Epoch 140/200\n",
            "187/187 [==============================] - 9s 49ms/step - loss: 0.2181 - accuracy: 0.9622 - val_loss: 0.8311 - val_accuracy: 0.7500\n",
            "Epoch 141/200\n",
            "187/187 [==============================] - 9s 50ms/step - loss: 0.2171 - accuracy: 0.9629 - val_loss: 0.8289 - val_accuracy: 0.7344\n",
            "Epoch 142/200\n",
            "187/187 [==============================] - 9s 49ms/step - loss: 0.2163 - accuracy: 0.9639 - val_loss: 0.8264 - val_accuracy: 0.7422\n",
            "Epoch 143/200\n",
            "187/187 [==============================] - 9s 49ms/step - loss: 0.2151 - accuracy: 0.9632 - val_loss: 0.8251 - val_accuracy: 0.7422\n",
            "Epoch 144/200\n",
            "187/187 [==============================] - 9s 50ms/step - loss: 0.2132 - accuracy: 0.9645 - val_loss: 0.8241 - val_accuracy: 0.7500\n",
            "Epoch 145/200\n",
            "187/187 [==============================] - 9s 50ms/step - loss: 0.2123 - accuracy: 0.9629 - val_loss: 0.8240 - val_accuracy: 0.7422\n",
            "Epoch 146/200\n",
            "187/187 [==============================] - 10s 51ms/step - loss: 0.2109 - accuracy: 0.9639 - val_loss: 0.8249 - val_accuracy: 0.7422\n",
            "Epoch 147/200\n",
            "187/187 [==============================] - 9s 50ms/step - loss: 0.2091 - accuracy: 0.9645 - val_loss: 0.8215 - val_accuracy: 0.7500\n",
            "Epoch 148/200\n",
            "187/187 [==============================] - 9s 49ms/step - loss: 0.2072 - accuracy: 0.9652 - val_loss: 0.8177 - val_accuracy: 0.7500\n",
            "Epoch 149/200\n",
            "187/187 [==============================] - 9s 49ms/step - loss: 0.2058 - accuracy: 0.9645 - val_loss: 0.8218 - val_accuracy: 0.7422\n",
            "Epoch 150/200\n",
            "187/187 [==============================] - 9s 50ms/step - loss: 0.2040 - accuracy: 0.9659 - val_loss: 0.8184 - val_accuracy: 0.7422\n",
            "Epoch 151/200\n",
            "187/187 [==============================] - 9s 49ms/step - loss: 0.2026 - accuracy: 0.9662 - val_loss: 0.8164 - val_accuracy: 0.7422\n",
            "Epoch 152/200\n",
            "187/187 [==============================] - 9s 49ms/step - loss: 0.2001 - accuracy: 0.9679 - val_loss: 0.8140 - val_accuracy: 0.7500\n",
            "Epoch 153/200\n",
            "187/187 [==============================] - 9s 50ms/step - loss: 0.1985 - accuracy: 0.9672 - val_loss: 0.8146 - val_accuracy: 0.7500\n",
            "Epoch 154/200\n",
            "187/187 [==============================] - 10s 54ms/step - loss: 0.1986 - accuracy: 0.9669 - val_loss: 0.8123 - val_accuracy: 0.7500\n",
            "Epoch 155/200\n",
            "187/187 [==============================] - 9s 49ms/step - loss: 0.1971 - accuracy: 0.9672 - val_loss: 0.8126 - val_accuracy: 0.7500\n",
            "Epoch 156/200\n",
            "187/187 [==============================] - 9s 50ms/step - loss: 0.1965 - accuracy: 0.9672 - val_loss: 0.8112 - val_accuracy: 0.7500\n",
            "Epoch 157/200\n",
            "187/187 [==============================] - 9s 50ms/step - loss: 0.1948 - accuracy: 0.9669 - val_loss: 0.8159 - val_accuracy: 0.7500\n",
            "Epoch 158/200\n",
            "187/187 [==============================] - 9s 49ms/step - loss: 0.1942 - accuracy: 0.9675 - val_loss: 0.8083 - val_accuracy: 0.7500\n",
            "Epoch 159/200\n",
            "187/187 [==============================] - 9s 50ms/step - loss: 0.1932 - accuracy: 0.9679 - val_loss: 0.8076 - val_accuracy: 0.7422\n",
            "Epoch 160/200\n",
            "187/187 [==============================] - 9s 49ms/step - loss: 0.1917 - accuracy: 0.9689 - val_loss: 0.8106 - val_accuracy: 0.7500\n",
            "Epoch 161/200\n",
            "187/187 [==============================] - 9s 50ms/step - loss: 0.1899 - accuracy: 0.9689 - val_loss: 0.8068 - val_accuracy: 0.7500\n",
            "Epoch 162/200\n",
            "187/187 [==============================] - 9s 50ms/step - loss: 0.1891 - accuracy: 0.9689 - val_loss: 0.8034 - val_accuracy: 0.7500\n",
            "Epoch 163/200\n",
            "187/187 [==============================] - 9s 50ms/step - loss: 0.1881 - accuracy: 0.9692 - val_loss: 0.8060 - val_accuracy: 0.7500\n",
            "Epoch 164/200\n",
            "187/187 [==============================] - 9s 49ms/step - loss: 0.1865 - accuracy: 0.9692 - val_loss: 0.8092 - val_accuracy: 0.7578\n",
            "Epoch 165/200\n",
            "187/187 [==============================] - 9s 50ms/step - loss: 0.1852 - accuracy: 0.9695 - val_loss: 0.8048 - val_accuracy: 0.7500\n",
            "Epoch 166/200\n",
            "187/187 [==============================] - 9s 50ms/step - loss: 0.1844 - accuracy: 0.9695 - val_loss: 0.8044 - val_accuracy: 0.7578\n",
            "Epoch 167/200\n",
            "187/187 [==============================] - 9s 50ms/step - loss: 0.1825 - accuracy: 0.9695 - val_loss: 0.8034 - val_accuracy: 0.7578\n",
            "Epoch 168/200\n",
            "187/187 [==============================] - 9s 50ms/step - loss: 0.1819 - accuracy: 0.9705 - val_loss: 0.7997 - val_accuracy: 0.7500\n",
            "Epoch 169/200\n",
            "187/187 [==============================] - 9s 50ms/step - loss: 0.1809 - accuracy: 0.9699 - val_loss: 0.7992 - val_accuracy: 0.7500\n",
            "Epoch 170/200\n",
            "187/187 [==============================] - 9s 49ms/step - loss: 0.1790 - accuracy: 0.9702 - val_loss: 0.8003 - val_accuracy: 0.7500\n",
            "Epoch 171/200\n",
            "187/187 [==============================] - 9s 50ms/step - loss: 0.1781 - accuracy: 0.9709 - val_loss: 0.8018 - val_accuracy: 0.7500\n",
            "Epoch 172/200\n",
            "187/187 [==============================] - 9s 50ms/step - loss: 0.1769 - accuracy: 0.9702 - val_loss: 0.7982 - val_accuracy: 0.7500\n",
            "Epoch 173/200\n",
            "187/187 [==============================] - 9s 50ms/step - loss: 0.1762 - accuracy: 0.9709 - val_loss: 0.7976 - val_accuracy: 0.7500\n",
            "Epoch 174/200\n",
            "187/187 [==============================] - 9s 50ms/step - loss: 0.1734 - accuracy: 0.9712 - val_loss: 0.7974 - val_accuracy: 0.7578\n",
            "Epoch 175/200\n",
            "187/187 [==============================] - 9s 50ms/step - loss: 0.1738 - accuracy: 0.9702 - val_loss: 0.7994 - val_accuracy: 0.7578\n",
            "Epoch 176/200\n",
            "187/187 [==============================] - 9s 50ms/step - loss: 0.1726 - accuracy: 0.9712 - val_loss: 0.7953 - val_accuracy: 0.7578\n",
            "Epoch 177/200\n",
            "187/187 [==============================] - 9s 50ms/step - loss: 0.1709 - accuracy: 0.9719 - val_loss: 0.7953 - val_accuracy: 0.7500\n",
            "Epoch 178/200\n",
            "187/187 [==============================] - 10s 52ms/step - loss: 0.1706 - accuracy: 0.9709 - val_loss: 0.7992 - val_accuracy: 0.7578\n",
            "Epoch 179/200\n",
            "187/187 [==============================] - 9s 50ms/step - loss: 0.1700 - accuracy: 0.9716 - val_loss: 0.7945 - val_accuracy: 0.7578\n",
            "Epoch 180/200\n",
            "187/187 [==============================] - 10s 53ms/step - loss: 0.1683 - accuracy: 0.9712 - val_loss: 0.7943 - val_accuracy: 0.7500\n",
            "Epoch 181/200\n",
            "187/187 [==============================] - 9s 50ms/step - loss: 0.1675 - accuracy: 0.9722 - val_loss: 0.7908 - val_accuracy: 0.7578\n",
            "Epoch 182/200\n",
            "187/187 [==============================] - 9s 50ms/step - loss: 0.1663 - accuracy: 0.9716 - val_loss: 0.7948 - val_accuracy: 0.7578\n",
            "Epoch 183/200\n",
            "187/187 [==============================] - 9s 50ms/step - loss: 0.1647 - accuracy: 0.9729 - val_loss: 0.7948 - val_accuracy: 0.7578\n",
            "Epoch 184/200\n",
            "187/187 [==============================] - 9s 50ms/step - loss: 0.1644 - accuracy: 0.9716 - val_loss: 0.7883 - val_accuracy: 0.7578\n",
            "Epoch 185/200\n",
            "187/187 [==============================] - 9s 50ms/step - loss: 0.1639 - accuracy: 0.9722 - val_loss: 0.7895 - val_accuracy: 0.7578\n",
            "Epoch 186/200\n",
            "187/187 [==============================] - 9s 49ms/step - loss: 0.1629 - accuracy: 0.9729 - val_loss: 0.7889 - val_accuracy: 0.7578\n",
            "Epoch 187/200\n",
            "187/187 [==============================] - 9s 50ms/step - loss: 0.1616 - accuracy: 0.9736 - val_loss: 0.7876 - val_accuracy: 0.7578\n",
            "Epoch 188/200\n",
            "187/187 [==============================] - 9s 50ms/step - loss: 0.1611 - accuracy: 0.9726 - val_loss: 0.7877 - val_accuracy: 0.7578\n",
            "Epoch 189/200\n",
            "187/187 [==============================] - 9s 49ms/step - loss: 0.1593 - accuracy: 0.9732 - val_loss: 0.7896 - val_accuracy: 0.7578\n",
            "Epoch 190/200\n",
            "187/187 [==============================] - 9s 50ms/step - loss: 0.1590 - accuracy: 0.9729 - val_loss: 0.7877 - val_accuracy: 0.7578\n",
            "Epoch 191/200\n",
            "187/187 [==============================] - 9s 50ms/step - loss: 0.1574 - accuracy: 0.9726 - val_loss: 0.7868 - val_accuracy: 0.7578\n",
            "Epoch 192/200\n",
            "187/187 [==============================] - 9s 49ms/step - loss: 0.1573 - accuracy: 0.9736 - val_loss: 0.7896 - val_accuracy: 0.7578\n",
            "Epoch 193/200\n",
            "187/187 [==============================] - 9s 50ms/step - loss: 0.1558 - accuracy: 0.9746 - val_loss: 0.7826 - val_accuracy: 0.7578\n",
            "Epoch 194/200\n",
            "187/187 [==============================] - 9s 50ms/step - loss: 0.1550 - accuracy: 0.9756 - val_loss: 0.7852 - val_accuracy: 0.7578\n",
            "Epoch 195/200\n",
            "187/187 [==============================] - 9s 50ms/step - loss: 0.1536 - accuracy: 0.9742 - val_loss: 0.7813 - val_accuracy: 0.7656\n",
            "Epoch 196/200\n",
            "187/187 [==============================] - 9s 50ms/step - loss: 0.1534 - accuracy: 0.9752 - val_loss: 0.7802 - val_accuracy: 0.7656\n",
            "Epoch 197/200\n",
            "187/187 [==============================] - 9s 50ms/step - loss: 0.1525 - accuracy: 0.9752 - val_loss: 0.7855 - val_accuracy: 0.7578\n",
            "Epoch 198/200\n",
            "187/187 [==============================] - 9s 49ms/step - loss: 0.1508 - accuracy: 0.9756 - val_loss: 0.7820 - val_accuracy: 0.7500\n",
            "Epoch 199/200\n",
            "187/187 [==============================] - 9s 49ms/step - loss: 0.1504 - accuracy: 0.9749 - val_loss: 0.7797 - val_accuracy: 0.7578\n",
            "Epoch 200/200\n",
            "187/187 [==============================] - 9s 50ms/step - loss: 0.1497 - accuracy: 0.9749 - val_loss: 0.7799 - val_accuracy: 0.7656\n",
            "--- Training Completed ---\n",
            "Total execution time:  0:32:36.365639\n"
          ]
        }
      ]
    },
    {
      "cell_type": "code",
      "source": [
        "# PLOT THEM TOGETHER\n",
        "# Visualization of the learning curves\n",
        "plt.figure(figsize=(15,6))\n",
        "\n",
        "plt.subplot(1, 2, 1)\n",
        "plt.plot(history_VGG16.history['loss'])\n",
        "plt.plot(history_VGG16.history['val_loss'])\n",
        "plt.ylim([0.0, 3.0])\n",
        "plt.title(\"Loss & Val loss VGG16\")\n",
        "plt.xlabel('Epoch')\n",
        "plt.ylabel('Loss')\n",
        "plt.legend(['train', 'valid'])\n",
        "\n",
        "plt.subplot(1, 2, 2)\n",
        "plt.plot(history_VGG16.history['accuracy'])\n",
        "plt.plot(history_VGG16.history['val_accuracy'])\n",
        "plt.ylim([0.0, 1.0])\n",
        "plt.title(\"Accuracy & Val accuracy VGG16\")\n",
        "plt.xlabel('Epoch')\n",
        "plt.ylabel('Accuracy')\n",
        "plt.legend(['train', 'valid'])"
      ],
      "metadata": {
        "colab": {
          "base_uri": "https://localhost:8080/",
          "height": 300
        },
        "id": "bmAy5XhmPmgi",
        "outputId": "7808c589-917e-44d6-83a8-6ae65e91ca49"
      },
      "execution_count": null,
      "outputs": [
        {
          "output_type": "display_data",
          "data": {
            "text/plain": [
              "<IPython.core.display.Javascript object>"
            ],
            "application/javascript": [
              "google.colab.output.setIframeHeight(0, true, {maxHeight: 300})"
            ]
          },
          "metadata": {}
        },
        {
          "output_type": "execute_result",
          "data": {
            "text/plain": [
              "<matplotlib.legend.Legend at 0x7fef4abec7c0>"
            ]
          },
          "metadata": {},
          "execution_count": 88
        },
        {
          "output_type": "display_data",
          "data": {
            "text/plain": [
              "<Figure size 1080x432 with 2 Axes>"
            ],
            "image/png": "[encoded data removed]"
          },
          "metadata": {
            "needs_background": "light"
          }
        }
      ]
    },
    {
      "cell_type": "markdown",
      "source": [
        "##### Performance results Model V06 Transfer Learning with  VGG16"
      ],
      "metadata": {
        "id": "L4UmwE0ifgwv"
      }
    },
    {
      "cell_type": "markdown",
      "source": [
        "Convergence much slower than MobileNetV2."
      ],
      "metadata": {
        "id": "c6aUg-_-QfFZ"
      }
    },
    {
      "cell_type": "markdown",
      "source": [
        "**COMMENTS**\n",
        "\n",
        "While testing other transfer learning architectures (VGG16, EfficientNetB0, ResNet50), they did not have the same good results as the MobileNetV2."
      ],
      "metadata": {
        "id": "MCEPGU_ACAyI"
      }
    },
    {
      "cell_type": "markdown",
      "source": [
        "## 1.2.8 Model V07 - Transfer learning + PCA"
      ],
      "metadata": {
        "id": "QSqudPbJY46K"
      }
    },
    {
      "cell_type": "code",
      "source": [
        "# # Capture training data and labels into respective lists\n",
        "# train_images = []\n",
        "# train_labels = [] \n",
        "\n",
        "# # GET THE LABELS\n",
        "# for directory_path in glob.glob(DIR_TRAIN_DATA):\n",
        "#     tr_label = directory_path.split(\"/\")[-1]\n",
        "#     print(tr_label)\n",
        "#     # GET THE IMAGES\n",
        "#     for img_path in glob.glob(os.path.join(directory_path, \"*.jpg\")):\n",
        "#         # print(img_path)\n",
        "#         img = cv2.imread(img_path, cv2.IMREAD_COLOR)       \n",
        "#         img = cv2.resize(img, (224, 224))\n",
        "#         img = cv2.cvtColor(img, cv2.COLOR_RGB2BGR)\n",
        "#         train_images.append(img)\n",
        "#         train_labels.append(tr_label)\n",
        "\n",
        "# # CONVERT LISTS TO ARRAYS\n",
        "# train_images = np.array(train_images)\n",
        "# train_labels = np.array(train_labels)\n",
        "\n",
        "# ################################################################\n",
        "# # CAPTURE TEST/VALIDATION DATA AND LABELS INTO RESPECTIVE LISTS\n",
        "\n",
        "# test_images = []\n",
        "# test_labels = [] \n",
        "# for directory_path in glob.glob(DIR_TEST_DATA):\n",
        "#     tt_label = directory_path.split(\"/\")[-1]\n",
        "#     for img_path in glob.glob(os.path.join(directory_path, \"*.jpg\")):\n",
        "#         img = cv2.imread(img_path, cv2.IMREAD_COLOR)\n",
        "#         img = cv2.resize(img, (224, 224))\n",
        "#         img = cv2.cvtColor(img, cv2.COLOR_RGB2BGR)\n",
        "#         test_images.append(img)\n",
        "#         test_labels.append(tt_label)\n",
        "\n",
        "# #Convert lists to arrays                \n",
        "# test_images = np.array(test_images)\n",
        "# test_labels = np.array(test_labels)"
      ],
      "metadata": {
        "id": "-2ccgqZiZLOA"
      },
      "execution_count": null,
      "outputs": []
    },
    {
      "cell_type": "code",
      "source": [
        "# # ENCODE LABELS FROM TEXT TO INTEGERS\n",
        "# le = preprocessing.LabelEncoder()\n",
        "\n",
        "# # TRAIN DATA\n",
        "# le.fit(train_labels)\n",
        "# train_labels_encoded = le.transform(train_labels)\n",
        "\n",
        "# # TEST DATA\n",
        "# le.fit(test_labels)\n",
        "# test_labels_encoded = le.transform(test_labels)\n",
        "\n",
        "# # SPLIT DATA INTO TEST AND TRAIN DATASETS (ALREADY SPLIT BUT ASSIGNING TO MEANINGFUL CONVENTION)\n",
        "# x_train, y_train, x_test, y_test = train_images, train_labels_encoded, test_images, test_labels_encoded"
      ],
      "metadata": {
        "id": "9n5RboU4ZLLs",
        "colab": {
          "base_uri": "https://localhost:8080/",
          "height": 17
        },
        "outputId": "aef66acd-5955-4e2b-ed35-5b7cd0fefa0e"
      },
      "execution_count": null,
      "outputs": [
        {
          "output_type": "display_data",
          "data": {
            "text/plain": [
              "<IPython.core.display.Javascript object>"
            ],
            "application/javascript": [
              "google.colab.output.setIframeHeight(0, true, {maxHeight: 300})"
            ]
          },
          "metadata": {}
        }
      ]
    },
    {
      "cell_type": "code",
      "source": [
        "# # SCALE PIXEL VALUES BETWEEN 0 AND 1\n",
        "# x_train, x_test = x_train / 255.0, x_test / 255.0\n",
        "\n",
        "# # ONE HOT ENCODE Y VALUES FOR NEURAL NETWORK\n",
        "# y_train_one_hot = to_categorical(y_train)\n",
        "# y_test_one_hot = to_categorical(y_test)"
      ],
      "metadata": {
        "id": "9ukrE3Q5ZLJ6",
        "colab": {
          "base_uri": "https://localhost:8080/",
          "height": 17
        },
        "outputId": "9508adc9-2359-47a9-bc11-9acf90b4549b"
      },
      "execution_count": null,
      "outputs": [
        {
          "output_type": "display_data",
          "data": {
            "text/plain": [
              "<IPython.core.display.Javascript object>"
            ],
            "application/javascript": [
              "google.colab.output.setIframeHeight(0, true, {maxHeight: 300})"
            ]
          },
          "metadata": {}
        }
      ]
    },
    {
      "cell_type": "code",
      "source": [
        "# #############################\n",
        "# #Load VGG model with imagenet trained weights and without classifier/fully connected layers\n",
        "# #We will use this as feature extractor. \n",
        "# base_model_mobilenetv2_PCA = tf.keras.applications.MobileNetV2(\n",
        "#     input_shape = (224, 224, 3),\n",
        "#     include_top=False, \n",
        "#     weights=\"imagenet\"\n",
        "# )\n",
        "# # With the following we ensure that we do not mess with the original\n",
        "# # imagenet weights\n",
        "# base_model_mobilenetv2_PCA.trainable = False\n",
        "    \n",
        "# base_model_mobilenetv2_PCA.summary()  #Trainable parameters will be 0"
      ],
      "metadata": {
        "id": "-7Rfk2ANguND"
      },
      "execution_count": null,
      "outputs": []
    },
    {
      "cell_type": "code",
      "source": [
        "# # NOW, USE THE MOBILENETV2 AS A FEATURE EXTRACTOR\n",
        "# # TRAIN FEATURES\n",
        "# train_feature_extractor = base_model_mobilenetv2_PCA.predict(x_train)\n",
        "# train_features = train_feature_extractor.reshape(train_feature_extractor.shape[0], -1)\n",
        "\n",
        "# # TEST FEATURES\n",
        "# test_feature_extractor = base_model_mobilenetv2_PCA.predict(x_test)\n",
        "# test_features = test_feature_extractor.reshape(test_feature_extractor.shape[0], -1)"
      ],
      "metadata": {
        "id": "ME2gHKhbguKS"
      },
      "execution_count": null,
      "outputs": []
    },
    {
      "cell_type": "code",
      "source": [
        "# train_features.shape"
      ],
      "metadata": {
        "id": "gQOXkDg9D2pH"
      },
      "execution_count": null,
      "outputs": []
    },
    {
      "cell_type": "code",
      "source": [
        "# # REDUCE DIMENSIONS USING PCA\n",
        "\n",
        "# #First verfiy the ideal number of PCA components to not lose much information. \n",
        "# #Try to retain 90% information, so look where the curve starts to flatten.\n",
        "# #Remember that the n_components must be lower than the number of rows or columns (features)\n",
        "# pca_test = PCA(n_components=900) #\n",
        "# pca_test.fit(train_features)"
      ],
      "metadata": {
        "id": "AxreENS9guIJ"
      },
      "execution_count": null,
      "outputs": []
    },
    {
      "cell_type": "code",
      "source": [
        "# # Visualization of the cumulative variance plot\n",
        "# plt.figure(figsize=(15,6))\n",
        "\n",
        "# # PLOT THE RESULTS\n",
        "# plt.plot(np.cumsum(pca_test.explained_variance_ratio_))\n",
        "# plt.xlabel(\"Number of components\")\n",
        "# plt.ylabel(\"Cumulative variance\")"
      ],
      "metadata": {
        "id": "OPPY40qSZLH4"
      },
      "execution_count": null,
      "outputs": []
    },
    {
      "cell_type": "code",
      "source": [
        "# # START COUNTING TIME\n",
        "# start = datetime.datetime.now()\n",
        "\n",
        "# #Pick the optimal number of components. This is how many features we will have \n",
        "# #for our machine learning\n",
        "# n_PCA_components = 900\n",
        "# pca = PCA(n_components=n_PCA_components)\n",
        "# train_PCA = pca.fit_transform(train_features)\n",
        "# test_PCA = pca.transform(test_features) #Make sure you are just transforming, not fitting. \n",
        "\n",
        "# end = datetime.datetime.now()\n",
        "# print(\"Total execution time with PCA is: \", end-start)"
      ],
      "metadata": {
        "id": "iwtDeaEpiWK-"
      },
      "execution_count": null,
      "outputs": []
    },
    {
      "cell_type": "code",
      "source": [
        "# train_PCA.shape"
      ],
      "metadata": {
        "id": "a3ESgKWTEUDv"
      },
      "execution_count": null,
      "outputs": []
    },
    {
      "cell_type": "code",
      "source": [
        "# test_PCA.shape"
      ],
      "metadata": {
        "id": "itxXDxHhEe0M"
      },
      "execution_count": null,
      "outputs": []
    },
    {
      "cell_type": "code",
      "source": [
        "# ############## Neural Network Approach ##################\n",
        "\n",
        "# ##Add hidden dense layers and final output/classifier layer.\n",
        "# model_PCA = Sequential()\n",
        "# inputs_PCA = keras.layers.Input(shape=(n_PCA_components,)) #Shape = n_components\n",
        "# hidden_1 = keras.layers.Dense(512, activation='relu')(inputs_PCA)\n",
        "# hidden_2 = keras.layers.Dense(256, activation='relu')(hidden_1)\n",
        "# output_PCA = keras.layers.Dense(num_classes, activation='softmax')(hidden_2)\n",
        "# model_PCA = keras.Model(inputs = inputs_PCA, outputs = output_PCA)\n",
        "\n",
        "# # PRINT THE SUMMARY\n",
        "# print(model_PCA.summary())\n",
        "\n",
        "# # USING A LEARNING RATE DECAY/SCHEDULING --> https://keras.io/api/optimizers/\n",
        "# lr_schedule = keras.optimizers.schedules.ExponentialDecay(\n",
        "#     initial_learning_rate = 0.001, # previously 0.001\n",
        "#     decay_steps=20000, # previously 10000\n",
        "#     decay_rate=0.89) # previously 0.95\n",
        "\n",
        "# # COMPILE THE MODEL\n",
        "# model_PCA.compile(loss=keras.losses.categorical_crossentropy,\n",
        "#             optimizer= keras.optimizers.Adam(learning_rate=lr_schedule), # 0.001 # 0.0001\n",
        "#             metrics=['accuracy'])"
      ],
      "metadata": {
        "id": "b9S2sIphjXRf"
      },
      "execution_count": null,
      "outputs": []
    },
    {
      "cell_type": "code",
      "source": [
        "# # START RECORDING TIME\n",
        "# start = datetime.datetime.now()\n",
        "\n",
        "# #Fit the model and use on-hot-encoded Y values\n",
        "# history_model_PCA = model_PCA.fit(train_PCA, \n",
        "#                                   y_train_one_hot, \n",
        "#                                   epochs = 30, \n",
        "#                                   verbose=3,\n",
        "#                                   validation_data=(test_PCA, y_test_one_hot))\n",
        "\n",
        "# # END RECORDING TIME\n",
        "# end = datetime.datetime.now()\n",
        "# print(\"Total execution time with PCA is: \", end-start)"
      ],
      "metadata": {
        "id": "YVLG2W01jXPQ"
      },
      "execution_count": null,
      "outputs": []
    },
    {
      "cell_type": "code",
      "source": [
        "# ##Predict on test dataset\n",
        "# predict_test_PCA = model_PCA.predict(test_PCA)\n",
        "# predict_test_PCA = np.argmax(predict_test_PCA, axis=1)\n",
        "# predict_test_PCA = le.inverse_transform(predict_test_PCA)"
      ],
      "metadata": {
        "id": "2AVXV6GIjXMO"
      },
      "execution_count": null,
      "outputs": []
    },
    {
      "cell_type": "code",
      "source": [
        "# # PRINT OVERALL ACCURACY\n",
        "# print (\"Accuracy = \", metrics.accuracy_score(test_labels, predict_test_PCA))"
      ],
      "metadata": {
        "id": "7jABQ1PijXJ1"
      },
      "execution_count": null,
      "outputs": []
    },
    {
      "cell_type": "code",
      "source": [
        "# # START RECORDING TIME\n",
        "# start = datetime.datetime.now()\n",
        "\n",
        "# # DEFINE THE K-FOLD CROSS VALIDATOR\n",
        "# kfold = KFold(n_splits = 10, shuffle=True)\n",
        "\n",
        "# # DEFINE PER-FOLD SCORE CONTAINERS\n",
        "# acc_per_fold = []\n",
        "\n",
        "# # K-FOLD CROSS VALIDATION MODEL EVALUTION\n",
        "# fold_no = 1\n",
        "# for train, test in kfold.split(train_PCA, train_PCA):\n",
        "  \n",
        "#   ############## NEURAL NETWORK MODEL ##################\n",
        "\n",
        "#   model_PCA = Sequential()\n",
        "#   inputs_PCA = keras.layers.Input(shape=(n_PCA_components,)) # Shape = n_components\n",
        "#   hidden_1 = keras.layers.Dense(256, activation='relu')(inputs_PCA)\n",
        "#   hidden_2 = keras.layers.Dense(512, activation='relu')(hidden_1)\n",
        "#   output_PCA = keras.layers.Dense(num_classes, activation='softmax')(hidden_2)\n",
        "#   model_PCA = keras.Model(inputs = inputs_PCA, outputs = output_PCA)\n",
        "\n",
        "#   # USING A LEARNING RATE DECAY/SCHEDULING --> https://keras.io/api/optimizers/\n",
        "#   lr_schedule = keras.optimizers.schedules.ExponentialDecay(\n",
        "#       initial_learning_rate = 0.001, # previously 0.001\n",
        "#       decay_steps=20000, # previously 10000\n",
        "#       decay_rate=0.89) # previously 0.95\n",
        "\n",
        "#   # COMPILE THE MODEL\n",
        "#   model_PCA.compile(loss=keras.losses.categorical_crossentropy,\n",
        "#               optimizer= keras.optimizers.Adam(learning_rate=lr_schedule), # 0.001 # 0.0001\n",
        "#               metrics=['accuracy'])\n",
        "\n",
        "\n",
        "#   # GENERATE A MESSAGE\n",
        "#   print('------------------------------------------------------------------------')\n",
        "#   print(f'--- Training for fold {fold_no} ---')\n",
        " \n",
        "#   # FIT THE MODEL AND USE ON-HOT ENCODED Y VALUES\n",
        "#   history_model_PCA = model_PCA.fit(train_PCA, \n",
        "#                                     y_train_one_hot, \n",
        "#                                     epochs = 30, \n",
        "#                                     verbose=3,\n",
        "#                                     validation_data=(test_PCA, y_test_one_hot))\n",
        "\n",
        "  \n",
        "#   # GENERATE GENERALIZATION METRICS\n",
        "#   ## PREDICT ON TEST DATASET\n",
        "#   predict_test_PCA = model_PCA.predict(test_PCA)\n",
        "#   predict_test_PCA = np.argmax(predict_test_PCA, axis=1)\n",
        "#   predict_test_PCA = le.inverse_transform(predict_test_PCA)\n",
        "\n",
        "#   # PRINT OVERALL ACCURACY\n",
        "#   print (\"Accuracy = \", metrics.accuracy_score(test_labels, predict_test_PCA))\n",
        "\n",
        "#   # ACCURACY PER FOLDER\n",
        "#   acc_per_fold.append(metrics.accuracy_score(test_labels, predict_test_PCA))\n",
        "\n",
        "#   # INCREASE FOLDER NUMBER\n",
        "#   fold_no = fold_no + 1\n",
        "\n",
        "# # END RECORDING TIME\n",
        "# end = datetime.datetime.now()\n",
        "# print(\"Total execution time is: \", end - start)"
      ],
      "metadata": {
        "id": "-0pywmObiDCY"
      },
      "execution_count": null,
      "outputs": []
    },
    {
      "cell_type": "code",
      "source": [
        "# # COMPUTE THE MEAN OF THE ACCURACY FOR THE CROSS VALIDATION FOR MODEL ASSESSMENT\n",
        "# cv_mean = np.mean(acc_per_fold)\n",
        "# print(\"Average accuracy for CV is:\", cv_mean)"
      ],
      "metadata": {
        "id": "CZjAWSDIiC_w"
      },
      "execution_count": null,
      "outputs": []
    },
    {
      "cell_type": "code",
      "source": [
        "# #  VISUALIZATION OF THE CONFUSION MATRIX\n",
        "# plt.figure(figsize=(15,6))\n",
        "\n",
        "# # CONFUSION MATRIX - VERIFY ACCURACY OF EACH CLASS\n",
        "\n",
        "# cm = confusion_matrix(test_labels, predict_test_PCA)\n",
        "# sns.heatmap(cm, annot=True)"
      ],
      "metadata": {
        "id": "XZm4KZ1liWIu"
      },
      "execution_count": null,
      "outputs": []
    },
    {
      "cell_type": "code",
      "source": [
        "# # PLOT THEM TOGETHER\n",
        "# # VISUALIZAZION OF THE LEARNING CURVES\n",
        "# plt.figure(figsize=(15,6))\n",
        "\n",
        "# plt.subplot(1, 2, 1)\n",
        "# plt.plot(history_model_PCA.history['loss'])\n",
        "# plt.plot(history_model_PCA.history['val_loss'])\n",
        "# plt.ylim([-0.1, 3.0])\n",
        "# plt.title(\"Loss & Val loss Model MobileNetV2 with PCA\")\n",
        "# plt.xlabel('Epoch')\n",
        "# plt.ylabel('Loss')\n",
        "# plt.legend(['train', 'valid'])\n",
        "\n",
        "# plt.subplot(1, 2, 2)\n",
        "# plt.plot(history_model_PCA.history['accuracy'])\n",
        "# plt.plot(history_model_PCA.history['val_accuracy'])\n",
        "# plt.ylim([0.0, 1.1])\n",
        "# plt.title(\"Accuracy & Val accuracy Model MobileNetV2 with PCA\")\n",
        "# plt.xlabel('Epoch')\n",
        "# plt.ylabel('Accuracy')\n",
        "# plt.legend(['train', 'valid'])"
      ],
      "metadata": {
        "id": "oh-6rc0rQ_mq"
      },
      "execution_count": null,
      "outputs": []
    },
    {
      "cell_type": "markdown",
      "source": [
        "#### Test the results over a specified number of images"
      ],
      "metadata": {
        "id": "bni0Y0t3WV6Z"
      }
    },
    {
      "cell_type": "code",
      "source": [
        "# # CHECK RESULTS ON A FEW SELECTED IMAGES\n",
        "\n",
        "# prediction_list = list() # COLLECT THE PREDICTIONS\n",
        "# ground_truth_list = list() # COLLECT THE GROUND TRUTH\n",
        "\n",
        "# for i in range(1, 101): # LOOP THROUGH 10 IMAGES\n",
        "#   # GET A RANDOM VALUE BETWEEN 0 AND THE THE FIRST DIMENSION OF THE TEST SET\n",
        "#   n = np.random.randint(0, x_test.shape[0])\n",
        "#   # GET A RANDOM IMAGE\n",
        "#   img = x_test[n]\n",
        "  \n",
        "\n",
        "#   # INPUT\n",
        "#   input_img = np.expand_dims(img, axis=0) #Expand dims so the input is (num images, x, y, c)\n",
        "#   input_img_feature = base_model_mobilenetv2_PCA.predict(input_img) # PREDICT THE IMAGE\n",
        "#   input_img_features = input_img_feature.reshape(input_img_feature.shape[0], -1)\n",
        "#   input_img_PCA = pca.transform(input_img_features)\n",
        "\n",
        "#   # PREDICTION\n",
        "#   prediction_img = model_PCA.predict(input_img_PCA)\n",
        "#   # GET THE MAX VALUE OF PREDICTION\n",
        "#   prediction_img = np.argmax(prediction_img, axis=1)\n",
        "#   # INVERSE TRANSFORM TO GET THE ORIGINAL IMAGE AFTER APPLIED THE PCA\n",
        "#   prediction_img = le.inverse_transform(prediction_img)  #Reverse the label encoder to original name\n",
        "\n",
        "#   # PRINT RESULTS\n",
        "#   # print(\"The prediction for this image is: \", prediction_img)\n",
        "#   # print(\"The actual label for this image is: \", test_labels[n])\n",
        "\n",
        "#   # COLLECT THE RESULTS\n",
        "#   prediction_list.append(prediction_img[0])\n",
        "#   ground_truth_list.append(test_labels[n])\n",
        "  \n",
        "#   # INCREASE THE COUNTER\n",
        "#   # # PLOT THE RANDOM IMAGE\n",
        "#   # plt.imshow(img)\n",
        "\n",
        "#   i += 1\n",
        "\n",
        "\n",
        "# # CREATE A DATAFRAME TO COMPARE THE RESULTS\n",
        "# df_comparison = pd.DataFrame({\"predicted\": prediction_list, \"ground truth\": ground_truth_list})"
      ],
      "metadata": {
        "id": "yHGyu87K5kFZ"
      },
      "execution_count": null,
      "outputs": []
    },
    {
      "cell_type": "code",
      "source": [
        "# df_comparison['comparison'] = np.where(df_comparison['predicted'] == df_comparison['ground truth'], 1, \n",
        "#                                       np.where(df_comparison['predicted'] !=  df_comparison['ground truth'], 0, -1))\n",
        "\n",
        "# # df_comparison"
      ],
      "metadata": {
        "id": "TfUPrdTqXTE5"
      },
      "execution_count": null,
      "outputs": []
    },
    {
      "cell_type": "code",
      "source": [
        "# # COMPUTE ACCURACY OVER THE TEN ELEMENTS\n",
        "# accuracy_over_test = (np.sum(df_comparison['comparison'])/len(df_comparison))*100\n",
        "# print(f\"Accuracy over {len(df_comparison)} images is:\", accuracy_over_test, \"%\")"
      ],
      "metadata": {
        "id": "hrOkYzcnZTKH"
      },
      "execution_count": null,
      "outputs": []
    },
    {
      "cell_type": "markdown",
      "source": [
        "#### Performance results Model V07 Transfer Learning + PCA"
      ],
      "metadata": {
        "id": "UZKvkk_2xw3d"
      }
    },
    {
      "cell_type": "code",
      "source": [
        "# # SAVE THE TIME NEEDED TO RUN THE ALGORITHM\n",
        "# time_duration_modelV07_cv = end - start\n",
        "# print(time_duration_modelV07_cv)"
      ],
      "metadata": {
        "id": "Ij_DiE0nnJLS"
      },
      "execution_count": null,
      "outputs": []
    },
    {
      "cell_type": "code",
      "source": [
        "# WE ARE NOT SAVING THIS MODEL, IT WAS JUST A TEST TO COMPARE TO THE TRANSFER LEARNING"
      ],
      "metadata": {
        "id": "LbUaWGR-x1uP"
      },
      "execution_count": null,
      "outputs": []
    },
    {
      "cell_type": "code",
      "source": [
        "# # GET THE MINIMUM ACCURACY, THE MAXIMUM ACCURACY, THE MINIMUM LOSS, THE MAXIMUM LOSS AND SAVE THEM IN VARIABLES.\n",
        "# # THEN CREATE A DATAFRAME AT THE END WHERE YOU CAN COMPARE DIFFERENT MODELS WITH IT!\n",
        "\n",
        "# # LOSS/VAL LOSS\n",
        "# modelV07_GDCV_minLoss = min(history_model_PCA.history['loss'])\n",
        "# modelV07_GDCV_maxLoss = max(history_model_PCA.history['loss'])\n",
        "# modelV07_GDCV_minValLoss = min(history_model_PCA.history['val_loss'])\n",
        "# modelV07_GDCV_maxValLoss = max(history_model_PCA.history['val_loss'])\n",
        "\n",
        "# # ACCURACY/VAL ACCURACY\n",
        "# modelV07_GDCV_minAccuracy = min(history_model_PCA.history['accuracy'])\n",
        "# modelV07_GDCV_maxAccuracy = max(history_model_PCA.history['accuracy'])\n",
        "# modelV07_GDCV_minValAccuracy = min(history_model_PCA.history['val_accuracy'])\n",
        "# modelV07_GDCV_maxValAccuracy = max(history_model_PCA.history['val_accuracy'])\n",
        "\n",
        "# # CREATE THE DATAFRAME\n",
        "# modelV07_GDCV_loss_accuracy = pd.DataFrame({\"minLoss\": [modelV07_GDCV_minLoss],\n",
        "#                                        \"maxloss\": [modelV07_GDCV_maxLoss],\n",
        "#                                        \"minValLoss\": [modelV07_GDCV_minValLoss],\n",
        "#                                        \"maxValLoss\": [modelV07_GDCV_maxValLoss],\n",
        "#                                        \"minAccuracy\": [modelV07_GDCV_minAccuracy],\n",
        "#                                        \"maxAccuracy\": [modelV07_GDCV_maxAccuracy],\n",
        "#                                        \"minValAccuracy\": [modelV07_GDCV_minValAccuracy],\n",
        "#                                        \"maxValAccuracy\": [modelV07_GDCV_maxValAccuracy]}).T\n",
        "\n",
        "# # CHANGE THE FIRST COLUMN NAME\n",
        "# modelV07_GDCV_loss_accuracy = modelV07_GDCV_loss_accuracy.rename(columns={0: 'modelV07_GDCV'})\n",
        "# # CHANGE THE INDEX NAME\n",
        "# modelV07_GDCV_loss_accuracy.index.names = ['Performance']\n",
        "# modelV07_GDCV_loss_accuracy"
      ],
      "metadata": {
        "id": "ex8hj_25fXlF"
      },
      "execution_count": null,
      "outputs": []
    },
    {
      "cell_type": "markdown",
      "source": [
        "## 1.2.9 Save the performances of all the models"
      ],
      "metadata": {
        "id": "jNXG3IqehcGp"
      }
    },
    {
      "cell_type": "code",
      "source": [
        "# COMPATTA IN UN DATAFRAME/SERIE IL TEMPO PER OGNI MODELLO, POI TRASPONI E POI\n",
        "# AGGANCIA COME ULTIMA RIGA AL DATAFRAME MERGIATO SEGUENTE\n",
        "timing_df = pd.DataFrame({\"timing\": [time_duration_modelV01,\n",
        "                                     time_duration_modelV02,\n",
        "                                     time_duration_modelV03,\n",
        "                                     time_duration_modelV04,\n",
        "                                     time_duration_modelV04_gridsearchCV,\n",
        "                                     time_duration_modelV05_gridsearchcv,\n",
        "                                     time_duration_modelV06_mobilenetV2]}).T\n",
        "                                    #  time_duration_modelV07_cv]}).T\n",
        "\n",
        "# CONCATENATE ALL THE PERFORMANCE DATAFRAME\n",
        "final_accuracy_df = pd.concat([modelV01_loss_accuracy, \n",
        "                               modelV02_loss_accuracy, \n",
        "                               modelV03_loss_accuracy, \n",
        "                               modelV04_loss_accuracy, \n",
        "                               modelV04_GDCV_loss_accuracy, \n",
        "                               modelVMNV2_loss_accuracy])\n",
        "                              #  modelV07_GDCV_loss_accuracy])\n",
        "\n",
        "data_acc_timing = [final_accuracy_df, timing_df]\n",
        "df_performance = pd.concat(data_acc_timing, axis = 0)\n",
        "df_performance"
      ],
      "metadata": {
        "id": "bi_e8_Jxhgov"
      },
      "execution_count": null,
      "outputs": []
    },
    {
      "cell_type": "markdown",
      "source": [
        "# 2 Models persistence\n",
        "\n",
        "### Save all the models and load the best one again in the TEST notebook in order to use it.\n",
        "\n",
        "### RICONTROLLARE IL SALVATAGGIO DI QUESTI MODELLI!!!!!!!!"
      ],
      "metadata": {
        "id": "FJM3bBG3x1WZ"
      }
    },
    {
      "cell_type": "code",
      "source": [
        "# SAVE THE MODEL V01\n",
        "keras_file_modelV01 = \"/content/gdrive/MyDrive/Data_Science_2020-2022/Secondo_anno_Secondo_Semestre/FoDL_Project/Project_Example_Food/saved_models/modelV01.h5\"\n",
        "tf.keras.models.save_model(net_modelV01, keras_file_modelV01) # MODIFY MODEL WITH YOUR OWN MODEL\n",
        "\n",
        "# SAVE THE MODEL V02\n",
        "keras_file_modelV02 = \"/content/gdrive/MyDrive/Data_Science_2020-2022/Secondo_anno_Secondo_Semestre/FoDL_Project/Project_Example_Food/saved_models/modelV02.h5\"\n",
        "tf.keras.models.save_model(net_modelV02, keras_file_modelV02) # MODIFY MODEL WITH YOUR OWN MODEL\n",
        "\n",
        "# SAVE THE MODEL V03\n",
        "keras_file_modelV03 = \"/content/gdrive/MyDrive/Data_Science_2020-2022/Secondo_anno_Secondo_Semestre/FoDL_Project/Project_Example_Food/saved_models/modelV03.h5\"\n",
        "tf.keras.models.save_model(net_modelV03, keras_file_modelV03) # MODIFY MODEL WITH YOUR OWN MODEL\n",
        "\n",
        "# SAVE THE MODEL V04\n",
        "keras_file_modelV04 = \"/content/gdrive/MyDrive/Data_Science_2020-2022/Secondo_anno_Secondo_Semestre/FoDL_Project/Project_Example_Food/saved_models/modelV04.h5\"\n",
        "tf.keras.models.save_model(net_modelv04, keras_file_modelV04) # MODIFY MODEL WITH YOUR OWN MODEL\n",
        "\n",
        "# # SAVE THE MODELV04 GRIDSEARCHCV\n",
        "# keras_file_modelV04_gridsearchCV = \"/content/gdrive/MyDrive/Data_Science_2020-2022/Secondo_anno_Secondo_Semestre/FoDL_Project/Project_Example_Food/saved_models/modelV04_GSCV.h5\"\n",
        "# tf.keras.models.save_model(net_modelvGSCV, keras_file_modelV04_gridsearchCV) # MODIFY MODEL WITH YOUR OWN MODEL\n",
        "\n",
        "# SAVE THE MODELV05 GRIDSEARCHCV\n",
        "keras_file_modelV05_gridsearchCV = \"/content/gdrive/MyDrive/Data_Science_2020-2022/Secondo_anno_Secondo_Semestre/FoDL_Project/Project_Example_Food/saved_models/model_gridsearchCV.h5\"\n",
        "tf.keras.models.save_model(create_GSCV_model(), keras_file_modelV05_gridsearchCV) # MODIFY MODEL WITH YOUR OWN MODEL\n",
        "\n",
        "# SAVING THE TRANSFER LEARNING MODEL CALLED mobilenetV2.h5\n",
        "keras_file_mobilenetV2 = \"/content/gdrive/MyDrive/Data_Science_2020-2022/Secondo_anno_Secondo_Semestre/FoDL_Project/Project_Example_Food/saved_models/mobilenetV2.h5\"\n",
        "tf.keras.models.save_model(model_mobilenetv2, keras_file_mobilenetV2) # MODIFY MODEL WITH YOUR OWN MODEL"
      ],
      "metadata": {
        "id": "xXXE8oZ0x_GX"
      },
      "execution_count": null,
      "outputs": []
    },
    {
      "cell_type": "markdown",
      "source": [
        "\n",
        "\n",
        "---\n",
        "\n",
        "\n",
        "\n",
        "---\n",
        "\n"
      ],
      "metadata": {
        "id": "dSmvNpdGGrOF"
      }
    }
  ],
  "metadata": {
    "colab": {
      "provenance": [],
      "collapsed_sections": [
        "QSqudPbJY46K"
      ]
    },
    "gpuClass": "standard",
    "kernelspec": {
      "display_name": "Python 3",
      "name": "python3"
    },
    "language_info": {
      "name": "python"
    },
    "accelerator": "GPU"
  },
  "nbformat": 4,
  "nbformat_minor": 0
}