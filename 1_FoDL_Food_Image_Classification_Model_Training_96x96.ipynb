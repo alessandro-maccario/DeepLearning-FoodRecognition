{
  "cells": [
    {
      "cell_type": "markdown",
      "metadata": {
        "id": "IRDSuGm6aDCk"
      },
      "source": [
        "# Food Image Classification for the course _Foundations of Deep Learning_.\n",
        "\n",
        "Professors:\n",
        "Paolo Napoletano\n",
        "Marco Buzzelli\n",
        "\n",
        "Tutor:\n",
        "Mirko Agarla"
      ]
    },
    {
      "cell_type": "markdown",
      "metadata": {
        "id": "-tdNh74B0moD"
      },
      "source": [
        "[TODO]\n",
        "- Introduce the problem you are trying to solve\n",
        "- Show an analysis of the available data (EDA for images)\n",
        "- Describe your solution\n",
        "- Comment positive and negative results of your solution\n",
        "(rely on quantitative and qualitative observations)\n",
        "- Describe alternative (possibly failed) experiments"
      ]
    },
    {
      "cell_type": "markdown",
      "metadata": {
        "id": "56SP2nH5SJKc"
      },
      "source": [
        "# TRAINING NOTEBOOK"
      ]
    },
    {
      "cell_type": "markdown",
      "metadata": {
        "id": "F9ToWEW-1Lwv"
      },
      "source": [
        "The goal of this notebook is to select the best model in terms of accuracy measure and the corresponding hyperparameters in order to use it for the testing phase."
      ]
    },
    {
      "cell_type": "markdown",
      "source": [
        "## Install packages"
      ],
      "metadata": {
        "id": "AF5_CGoXTI42"
      }
    },
    {
      "cell_type": "code",
      "execution_count": 2,
      "metadata": {
        "colab": {
          "base_uri": "https://localhost:8080/"
        },
        "id": "9dY1N2x2Qx0c",
        "outputId": "2a86f927-ad44-403f-f1f1-c50cd510d155"
      },
      "outputs": [
        {
          "output_type": "stream",
          "name": "stdout",
          "text": [
            "Looking in indexes: https://pypi.org/simple, https://us-python.pkg.dev/colab-wheels/public/simple/\n",
            "Collecting scikeras\n",
            "  Downloading scikeras-0.10.0-py3-none-any.whl (27 kB)\n",
            "Requirement already satisfied: packaging>=0.21 in /usr/local/lib/python3.8/dist-packages (from scikeras) (21.3)\n",
            "Requirement already satisfied: scikit-learn>=1.0.0 in /usr/local/lib/python3.8/dist-packages (from scikeras) (1.0.2)\n",
            "Requirement already satisfied: pyparsing!=3.0.5,>=2.0.2 in /usr/local/lib/python3.8/dist-packages (from packaging>=0.21->scikeras) (3.0.9)\n",
            "Requirement already satisfied: threadpoolctl>=2.0.0 in /usr/local/lib/python3.8/dist-packages (from scikit-learn>=1.0.0->scikeras) (3.1.0)\n",
            "Requirement already satisfied: joblib>=0.11 in /usr/local/lib/python3.8/dist-packages (from scikit-learn>=1.0.0->scikeras) (1.2.0)\n",
            "Requirement already satisfied: scipy>=1.1.0 in /usr/local/lib/python3.8/dist-packages (from scikit-learn>=1.0.0->scikeras) (1.7.3)\n",
            "Requirement already satisfied: numpy>=1.14.6 in /usr/local/lib/python3.8/dist-packages (from scikit-learn>=1.0.0->scikeras) (1.21.6)\n",
            "Installing collected packages: scikeras\n",
            "Successfully installed scikeras-0.10.0\n",
            "Looking in indexes: https://pypi.org/simple, https://us-python.pkg.dev/colab-wheels/public/simple/\n",
            "Collecting split-folders\n",
            "  Downloading split_folders-0.5.1-py3-none-any.whl (8.4 kB)\n",
            "Installing collected packages: split-folders\n",
            "Successfully installed split-folders-0.5.1\n",
            "Looking in indexes: https://pypi.org/simple, https://us-python.pkg.dev/colab-wheels/public/simple/\n",
            "Collecting ann_visualizer\n",
            "  Downloading ann_visualizer-2.5.tar.gz (4.7 kB)\n",
            "Building wheels for collected packages: ann-visualizer\n",
            "  Building wheel for ann-visualizer (setup.py) ... \u001b[?25l\u001b[?25hdone\n",
            "  Created wheel for ann-visualizer: filename=ann_visualizer-2.5-py3-none-any.whl size=4168 sha256=aed10823e8859cf7a9a012ab323c8b2f5bba589393bde8d60bf101ef3a1e6013\n",
            "  Stored in directory: /root/.cache/pip/wheels/4b/ef/77/9b8c4ae2f9a11de19957b80bc5c684accd99114bb8dc6b374c\n",
            "Successfully built ann-visualizer\n",
            "Installing collected packages: ann-visualizer\n",
            "Successfully installed ann-visualizer-2.5\n"
          ]
        }
      ],
      "source": [
        "!pip install scikeras\n",
        "!pip install split-folders # install the package to split the images in TRAIN and TEST folders\n",
        "!pip install ann_visualizer # visualize NN architectures"
      ]
    },
    {
      "cell_type": "markdown",
      "source": [
        "## Import libraries"
      ],
      "metadata": {
        "id": "Kg_uU94aTGDf"
      }
    },
    {
      "cell_type": "code",
      "execution_count": 3,
      "metadata": {
        "id": "jtW_r4zDzdRQ"
      },
      "outputs": [],
      "source": [
        "# IMPORT TENSORFLOW/KERAS\n",
        "import tensorflow as tf\n",
        "from tensorflow import keras\n",
        "from tensorflow.keras.models import load_model\n",
        "from tensorflow.keras.preprocessing import image\n",
        "from tensorflow.keras.applications.vgg16 import preprocess_input, decode_predictions\n",
        "\n",
        "from tensorflow.keras.models import load_model\n",
        "from tensorflow.keras.preprocessing import image\n",
        "from tensorflow.keras.applications.vgg16 import preprocess_input, decode_predictions\n",
        "\n",
        "from tensorflow.keras.applications.mobilenet_v2 import MobileNetV2\n",
        "from tensorflow.keras.applications.mobilenet_v2 import preprocess_input, decode_predictions\n",
        "\n",
        "from keras.layers import Input\n",
        "from keras.models import Sequential\n",
        "from keras.layers.core import Dense\n",
        "from keras.layers.core import Dropout\n",
        "from keras.layers.core import Flatten\n",
        "from keras.utils import to_categorical\n",
        "from keras.layers.core import Activation\n",
        "from keras.layers import BatchNormalization\n",
        "from keras.layers.convolutional import Conv2D\n",
        "from keras.layers.convolutional import MaxPooling2D\n",
        "from keras.layers.pooling import GlobalMaxPooling2D\n",
        "from keras.preprocessing.image import ImageDataGenerator\n",
        "\n",
        "# TRANSFER LEARNING\n",
        "from keras.applications.vgg16 import VGG16\n",
        "from tensorflow.keras.applications.resnet50 import ResNet50\n",
        "\n",
        "# SCIKIT-LEARN/SCIKERAS\n",
        "from sklearn import preprocessing\n",
        "import sklearn.metrics as metrics\n",
        "from sklearn.decomposition import PCA\n",
        "from sklearn.model_selection import KFold\n",
        "from sklearn.metrics import confusion_matrix\n",
        "from scikeras.wrappers import KerasClassifier\n",
        "from sklearn.model_selection import GridSearchCV\n",
        "from sklearn.metrics import classification_report\n",
        "from sklearn.model_selection import StratifiedKFold\n",
        "from sklearn.model_selection import train_test_split\n",
        "from sklearn.model_selection import RandomizedSearchCV\n",
        "\n",
        "# IMPORT OTHER MODULES\n",
        "import os\n",
        "import sys\n",
        "import glob\n",
        "import datetime\n",
        "import fnmatch # to count number of image per folder easily\n",
        "import random # to select random images from a folder\n",
        "import numpy as np\n",
        "import pandas as pd\n",
        "import splitfolders # needed to split the images in TRAIN and TEST folders\n",
        "from os import mkdir\n",
        "import seaborn as sns\n",
        "from pathlib import Path\n",
        "from shutil import copyfile # to import \"copyfile\"\n",
        "from numpy.random import seed\n",
        "import plotly.figure_factory as ff # for printing the heatmap\n",
        "from collections import defaultdict\n",
        "from matplotlib import pyplot as plt\n",
        "import matplotlib.image as img_mat\n",
        "from IPython.display import Javascript\n",
        "\n",
        "# CV2\n",
        "import cv2\n",
        "from google.colab.patches import cv2_imshow "
      ]
    },
    {
      "cell_type": "code",
      "source": [
        "# SET RANDOM SEED TO GET, AS MUCH AS POSSIBLE, REPRODUCIBLE RESULTS\n",
        "# USING NUMPY\n",
        "seed(42)\n",
        "\n",
        "# USING TENSORFLOW: IN ADDITION, TENSORFLOW HAS ITS OWN RANDOM NUMBER\n",
        "# GENERATOR THAT MUST ALSO BE SEEDED BY CALLING THE SET_RANDOM_SEED()\n",
        "# FUNCTION IMMEDIATELY AFTER THE NUMPY RANDOM NUMBER GENERATOR\n",
        "tf.random.set_seed(42)"
      ],
      "metadata": {
        "id": "ttiyKUi38GeA"
      },
      "execution_count": 4,
      "outputs": []
    },
    {
      "cell_type": "code",
      "execution_count": 6,
      "metadata": {
        "colab": {
          "base_uri": "https://localhost:8080/"
        },
        "id": "QvrEQvZkzUDs",
        "outputId": "fc4aedcf-fe3c-4c0d-eb2d-42a7f9dabb0f"
      },
      "outputs": [
        {
          "output_type": "stream",
          "name": "stdout",
          "text": [
            "Mounted at /content/gdrive\n"
          ]
        }
      ],
      "source": [
        "# Link Google Drive account\n",
        "from google.colab import drive\n",
        "drive.mount('/content/gdrive')"
      ]
    },
    {
      "cell_type": "code",
      "source": [
        "# IMPORT UTILS.PY\n",
        "\n",
        "# 1.Insert the directory\n",
        "sys.path.insert(0,\"/content/gdrive/MyDrive/Data_Science_2020-2022/Secondo_anno_Secondo_Semestre/FoDL_Project/Project_Example_Food\")\n",
        "\n",
        "# 2.Import your module or file\n",
        "import utils"
      ],
      "metadata": {
        "id": "H7AeCw1OJxG_"
      },
      "execution_count": 7,
      "outputs": []
    },
    {
      "cell_type": "code",
      "execution_count": null,
      "metadata": {
        "id": "ecYDcK7z_k0K"
      },
      "outputs": [],
      "source": [
        "# # TRANSFER THE DATA FROM THE GOOGLE DRIVE FOLDER TO THE VIRTUAL MACHINE\n",
        "\n",
        "# # The first path is the \"data\" folder on my Google Drive, and the second one is the destination in my current runtime\n",
        "# # https://stackoverflow.com/questions/67360001/copy-files-from-a-mounted-google-drive-to-a-local-google-colab-session\n",
        "# !cp -r /content/gdrive/MyDrive/Data_Science_2020-2022/Secondo_anno_Secondo_Semestre/Foundation_of_Deep_Learning/Project_Example_Food/ExampleFoodImageDataset /content/ExampleFoodImageDataset"
      ]
    },
    {
      "cell_type": "code",
      "execution_count": 8,
      "metadata": {
        "id": "qa58qsk8BOmE"
      },
      "outputs": [],
      "source": [
        "# CONSTANT\n",
        "# SCALE_PERCENT = 6 # resizing percentage\n",
        "SEED_VALUE = 42\n",
        "num_classes = 10 # number of output classes\n",
        "batch_size = 16\n",
        "SIZE = 96\n",
        "\n",
        "# PATH TO THE DATA\n",
        "ORIGINAL_DATA = \"/content/gdrive/MyDrive/Data_Science_2020-2022/Secondo_anno_Secondo_Semestre/FoDL_Project/Project_Example_Food/ExampleFoodImageDataset\"\n",
        "PREPROCESSED_DATA = \"/content/gdrive/MyDrive/Data_Science_2020-2022/Secondo_anno_Secondo_Semestre/FoDL_Project/Project_Example_Food/ExampleFoodImageDatasetPreprocessed\"\n",
        "DIR_TRAIN_TEST_DATA = '/content/gdrive/MyDrive/Data_Science_2020-2022/Secondo_anno_Secondo_Semestre/FoDL_Project/Project_Example_Food/train_test' # path contenente i sottoinsiemi di train, test\n",
        "\n",
        "# LOAD THE FOLDERS WHERE THE TRAINING/TESTING/VALIDATION DATA ARE STORED\n",
        "base_path_train = '/content/gdrive/MyDrive/Data_Science_2020-2022/Secondo_anno_Secondo_Semestre/FoDL_Project/Project_Example_Food/train_test/train/'\n",
        "base_path_test = '/content/gdrive/MyDrive/Data_Science_2020-2022/Secondo_anno_Secondo_Semestre/FoDL_Project/Project_Example_Food/train_test/test/'\n",
        "base_path_val = '/content/gdrive/MyDrive/Data_Science_2020-2022/Secondo_anno_Secondo_Semestre/FoDL_Project/Project_Example_Food/train_test/val/'\n",
        "\n",
        "# PATH TO THE DATA\n",
        "DIR_TRAIN_DATA = '/content/gdrive/MyDrive/Data_Science_2020-2022/Secondo_anno_Secondo_Semestre/FoDL_Project/Project_Example_Food/train_test/train/*' # path contenente i sottoinsiemi di train, test\n",
        "DIR_TEST_DATA = '/content/gdrive/MyDrive/Data_Science_2020-2022/Secondo_anno_Secondo_Semestre/FoDL_Project/Project_Example_Food/train_test/test/*' # path contenente i sottoinsiemi di train, test\n",
        "DIR_VAL_DATA = '/content/gdrive/MyDrive/Data_Science_2020-2022/Secondo_anno_Secondo_Semestre/FoDL_Project/Project_Example_Food/train_test/val/*' # path contenente i sottoinsiemi di train, test"
      ]
    },
    {
      "cell_type": "code",
      "source": [
        "# SETTINGS FOR PRETTIER VISUALIZATION IN GOOGLE COLAB\n",
        "def resize_colab_cell():\n",
        "  display(Javascript('google.colab.output.setIframeHeight(0, true, {maxHeight: 300})'))\n",
        "get_ipython().events.register('pre_run_cell', resize_colab_cell)"
      ],
      "metadata": {
        "id": "dZHPXv_AkaOx"
      },
      "execution_count": 9,
      "outputs": []
    },
    {
      "cell_type": "code",
      "execution_count": null,
      "metadata": {
        "id": "xgF4fpYxClBu"
      },
      "outputs": [],
      "source": [
        "# # REMOVE ANY FOLDER NOT EMPTY IN GOOGLE DRIVE THAT YOU DO NOT NEED\n",
        "# import shutil\n",
        "\n",
        "# shutil.rmtree('/content/test')"
      ]
    },
    {
      "cell_type": "markdown",
      "metadata": {
        "id": "MZs2FMppZWUE"
      },
      "source": [
        "-----------------------------------"
      ]
    },
    {
      "cell_type": "markdown",
      "metadata": {
        "id": "477SvQFvTkO7"
      },
      "source": [
        "# 1.Model architectures and training phase\n",
        "This section deals with the models creation, the performance results and dicussion of them."
      ]
    },
    {
      "cell_type": "markdown",
      "metadata": {
        "id": "z9BCr1VJz8B0"
      },
      "source": [
        "## 1.1 Data loader\n",
        "\n"
      ]
    },
    {
      "cell_type": "markdown",
      "metadata": {
        "id": "Q3oWN_M5z-gN"
      },
      "source": [
        "In any deep learning framework, a data loader takes care of (at least) the following tasks:\n",
        "\n",
        "- Loading input and target data\n",
        "- Splitting the dataset into mini batches\n",
        "\n",
        "In this case, no Data Augmentation on-the-fly is done: \n",
        "tf.keras.preprocessing.image_dataset_from_directory generates a tf.data.Dataset from image files in a directory, without any Data Augmentation procedure."
      ]
    },
    {
      "cell_type": "code",
      "source": [
        "# DATA AUGMENTATION ONLY ON THE TRAINING SET\n",
        "train_datagen = ImageDataGenerator(rescale=1./255)  # randomly shift images vertically (fraction of total height))\n",
        "# only rescaling\n",
        "test_datagen = ImageDataGenerator(rescale=1./255) \n",
        "# val_datagen = ImageDataGenerator(rescale=1./255) \n",
        "\n",
        "# this is a generator that will read pictures found in\n",
        "# subfolers of 'data/train', and indefinitely generate\n",
        "# batches of augmented image data\n",
        "train_generator = train_datagen.flow_from_directory(\n",
        "    base_path_train,\n",
        "    color_mode='rgb',\n",
        "    target_size=(SIZE,SIZE),\n",
        "    batch_size=batch_size,\n",
        "    shuffle=True,\n",
        "    class_mode=\"categorical\",\n",
        "    seed = SEED_VALUE)\n",
        "\n",
        "test_generator = test_datagen.flow_from_directory(\n",
        "    base_path_test,\n",
        "    color_mode='rgb',\n",
        "    target_size=(SIZE,SIZE),\n",
        "    batch_size=batch_size,\n",
        "    shuffle=False,\n",
        "    class_mode=\"categorical\",\n",
        "    seed = SEED_VALUE)"
      ],
      "metadata": {
        "id": "GSZu2e-IJzFb",
        "colab": {
          "base_uri": "https://localhost:8080/",
          "height": 53
        },
        "outputId": "8353b841-cd29-42ab-8bf1-e5eb1800d78b"
      },
      "execution_count": 10,
      "outputs": [
        {
          "output_type": "display_data",
          "data": {
            "text/plain": [
              "<IPython.core.display.Javascript object>"
            ],
            "application/javascript": [
              "google.colab.output.setIframeHeight(0, true, {maxHeight: 300})"
            ]
          },
          "metadata": {}
        },
        {
          "output_type": "stream",
          "name": "stdout",
          "text": [
            "Found 3004 images belonging to 10 classes.\n",
            "Found 132 images belonging to 10 classes.\n"
          ]
        }
      ]
    },
    {
      "cell_type": "code",
      "execution_count": null,
      "metadata": {
        "id": "m5JYKncwzUBF"
      },
      "outputs": [],
      "source": [
        "# train_dataset = keras.preprocessing.image_dataset_from_directory(base_path_train,\n",
        "#                                                             image_size=(SIZE,SIZE),\n",
        "#                                                             color_mode='rgb',\n",
        "#                                                             batch_size=batch_size,\n",
        "#                                                             label_mode='categorical',\n",
        "#                                                             # subset='training',\n",
        "#                                                             shuffle=True,\n",
        "#                                                             seed=SEED_VALUE)\n",
        "\n",
        "# test_dataset = keras.preprocessing.image_dataset_from_directory(base_path_test,\n",
        "#                                                             image_size=(SIZE,SIZE),\n",
        "#                                                             color_mode='rgb',\n",
        "#                                                             batch_size=batch_size,\n",
        "#                                                             label_mode='categorical',\n",
        "#                                                             # subset='validation',\n",
        "#                                                             shuffle=False,\n",
        "#                                                             seed=SEED_VALUE)"
      ]
    },
    {
      "cell_type": "code",
      "source": [
        "# # https://stackoverflow.com/questions/61521388/how-knowing-number-of-images-in-flow-from-directory\n",
        "\n",
        "# print(\"Number of sample for train_dataset:\", len(train_dataset.file_paths))\n",
        "# print(\"Number of sample for test_dataset:\", len(test_dataset.file_paths))\n",
        "\n",
        "# # SAVE THE LENGTH INTO VARIABLES\n",
        "# n_samples_train_dataset = len(train_dataset.file_paths)\n",
        "# n_samples_test_dataset = len(test_dataset.file_paths)"
      ],
      "metadata": {
        "id": "Rq5iVY1w-Tgt"
      },
      "execution_count": null,
      "outputs": []
    },
    {
      "cell_type": "markdown",
      "metadata": {
        "id": "lVZA1WxYd3MN"
      },
      "source": [
        "## 1.2.1 Model V01"
      ]
    },
    {
      "cell_type": "markdown",
      "source": [
        "**keras.Input((224, 224, 3))**\n",
        "- 224 rows, 224 columns, 3 RGB channels\n",
        "\n",
        "**tf.keras.layers.Conv2D(filters, kernel_size, padding=\"same\")**\n",
        "\n",
        "- **filters**: 32 filtri\n",
        "- **kernel_size**: 3x3\n",
        "- **padding**: mi dice quanti pixel aggiungere di cornice alla mia immagine prima di fare la convoluzione. Se non fornito, l'output della convoluzione produrrà un immagine un pelo più piccola di quella di partenza spazialmente: nel far scorrere la finestra di convoluzione non riesce a coprire l'intorno del pixel di riferimento nell'immagine. Dando \"same\" il padding viene calcolato automaticamente. \n",
        "\n",
        "**keras.layers.Activation('relu')**\n",
        "\n",
        "- Attivazione **ReLU**: la funzione di attivazione introduce una non linearità. Fa si che il calcolo che permette di trasformare i numeri che stanno nell'input nei numeri che stanno nell'output non sia semplicemente una combinazione lineare dell'input, ma in generale crea un livello di complessità maggiore che è quello di costruire delle astrazioni, ovvero permette alla rete neurale di dire: ok, adesso ho individuato delle linee di base, ora ci costruisco sopra dei ragionamenti più complessi.\n",
        "\n",
        "**keras.layers.MaxPooling2D(3, strides=3, padding='same')**\n",
        "\n",
        "- **MaxPooling** con finestre/windows 3x3 e stride di 3: ciò significa che ogni 3x3 valori dell'input li sostituiamo con il suo Max e poi quando spostiamo la finestra che esegue questa operazione, la spostiamo di 3 pixels a destra. Così facendo non contiamo più volte lo stesso input e in questo caso l'output di questo layer sarà per definizione più piccolo spazialmente dell'input. E' un tipo di layer che ci serve concettualmente per essere meno dipendenti da eventuali piccole variazioni nell'input (se ci sono tralazione dei dati di un pixel a destra) il Max Pooling è abbastanza robusto da queste variazioni trascendendo di qualche misura da variazioni dei dati. Tra l'altro se lo usiamo con questo stride diminuisce la dimensione dell'input e la complessità dei valori che portiamo avanti nella rete neurale. Stiamo infatti passando da 224x224x3 valori a 3 numeri. \n",
        "\n",
        "**keras.layers.GlobalMaxPooling2D()**\n",
        "\n",
        "- Equivalente del Max Pooling, il **Global Pooling** invece che basarsi su una finestra 3x3 utilizza una finestra grande quanto l'intera attivazione del layer precedente.\n",
        "\n",
        "**keras.layers.Dense(num_classes, activation='softmax')**\n",
        "\n",
        "- Questa **softmax** prende i due numeri (le due classi specificate) e dà in input una funzione che ha lo scopo di produrre una pseudo distrubuzione di probabilità. Si assicura che la somma dei valori (dei due valori nel nostro caso), faccia 1, e introduce delle non linearità.\n",
        "\n",
        "**keras.Model(inputs, outputs)**\n",
        "\n",
        "- Con questo comando impacchettiamo tutti i nostri passaggi e diciamo che la mia rete neurale è un modello che parte dalla variabile \"inputs\" e termina con la variabile chiamata \"outputs\". "
      ],
      "metadata": {
        "id": "AHyWo0j2g6LO"
      }
    },
    {
      "cell_type": "code",
      "execution_count": 16,
      "metadata": {
        "id": "ZcxqI3lLzT7_",
        "colab": {
          "base_uri": "https://localhost:8080/",
          "height": 300
        },
        "outputId": "fc01244e-8ed6-4781-9af0-6b7ffbb215c7"
      },
      "outputs": [
        {
          "output_type": "display_data",
          "data": {
            "text/plain": [
              "<IPython.core.display.Javascript object>"
            ],
            "application/javascript": [
              "google.colab.output.setIframeHeight(0, true, {maxHeight: 300})"
            ]
          },
          "metadata": {}
        },
        {
          "output_type": "stream",
          "name": "stdout",
          "text": [
            "Model: \"model_1\"\n",
            "_________________________________________________________________\n",
            " Layer (type)                Output Shape              Param #   \n",
            "=================================================================\n",
            " input_2 (InputLayer)        [(None, 96, 96, 3)]       0         \n",
            "                                                                 \n",
            " conv2d_2 (Conv2D)           (None, 96, 96, 32)        896       \n",
            "                                                                 \n",
            " activation_2 (Activation)   (None, 96, 96, 32)        0         \n",
            "                                                                 \n",
            " max_pooling2d_1 (MaxPooling  (None, 32, 32, 32)       0         \n",
            " 2D)                                                             \n",
            "                                                                 \n",
            " conv2d_3 (Conv2D)           (None, 32, 32, 64)        18496     \n",
            "                                                                 \n",
            " activation_3 (Activation)   (None, 32, 32, 64)        0         \n",
            "                                                                 \n",
            " global_max_pooling2d_1 (Glo  (None, 64)               0         \n",
            " balMaxPooling2D)                                                \n",
            "                                                                 \n",
            " dense_1 (Dense)             (None, 10)                650       \n",
            "                                                                 \n",
            "=================================================================\n",
            "Total params: 20,042\n",
            "Trainable params: 20,042\n",
            "Non-trainable params: 0\n",
            "_________________________________________________________________\n"
          ]
        }
      ],
      "source": [
        "# Architecture definition V01\n",
        "inputs = keras.Input((SIZE, SIZE, 3)) # SIZE rows, SIZE columns, 3 RGB channels\n",
        "\n",
        "x = inputs\n",
        "\n",
        "# 1st Conv layer\n",
        "x = keras.layers.Conv2D(32, 3, padding='same')(x)\n",
        "x = keras.layers.Activation('relu')(x)\n",
        "x = keras.layers.MaxPooling2D(3, strides=3, padding='same')(x) \n",
        "\n",
        "# 2st Conv layer\n",
        "x = keras.layers.Conv2D(64, 3, padding = 'same')(x)\n",
        "x = keras.layers.Activation('relu')(x)\n",
        "x = keras.layers.GlobalMaxPooling2D()(x)\n",
        "\n",
        "# Final dense layer\n",
        "outputs = keras.layers.Dense(num_classes, activation='softmax')(x)\n",
        "\n",
        "net_modelV01 = keras.Model(inputs, outputs)\n",
        "\n",
        "# SUMMARY\n",
        "net_modelV01.summary()"
      ]
    },
    {
      "cell_type": "markdown",
      "source": [
        "<figure>\n",
        "<center>\n",
        "<img src='https://drive.google.com/uc?export=view&id=1epVc7WVGfVZAz38W_S7W25y5C5EQ-uod' />\n",
        "<figcaption>Architecture ModelV01</figcaption></center>\n",
        "</figure>"
      ],
      "metadata": {
        "id": "Kpq89s3ofR1G"
      }
    },
    {
      "cell_type": "markdown",
      "source": [
        "**Compile the model**\n",
        "\n",
        "La compilazione ci serve per definire quali sono le procedure utilizzate durante l'addestramento. La loss in questa esercitazione non è più la differenza tra valore di regressione target e quello stimato ma \"categorical_crossentropy\".\n",
        "Per ogni immagine (dato di input) dice: guardiamo la mi ground truth. Quale era la classe della mia immagine? Era gatto (prima classe). Andiamo a vedere se nel primo dei due valori restituiti dalla rete neurale per quella immagine c'è un valore molto alto (idealmente deve essere 1). Più è distante la stima della classe attesa da 1 e maggiore è la loss (peggior risultato all'aumentare del valore di Loss). \n",
        "Ottimizzatore: basato su RMSProp; Salviamoci l'accuracy: ci dice sul totale delle immagini quante sono state correttamente classificate."
      ],
      "metadata": {
        "id": "Cgbt4_amkL0l"
      }
    },
    {
      "cell_type": "code",
      "execution_count": 17,
      "metadata": {
        "id": "5MMatmoUzT5n",
        "colab": {
          "base_uri": "https://localhost:8080/",
          "height": 17
        },
        "outputId": "e3550a2c-7f94-4d40-fc8d-b91994e86024"
      },
      "outputs": [
        {
          "output_type": "display_data",
          "data": {
            "text/plain": [
              "<IPython.core.display.Javascript object>"
            ],
            "application/javascript": [
              "google.colab.output.setIframeHeight(0, true, {maxHeight: 300})"
            ]
          },
          "metadata": {}
        }
      ],
      "source": [
        "net_modelV01.compile(loss=keras.losses.categorical_crossentropy,\n",
        "            optimizer= keras.optimizers.Adam(learning_rate=0.0001),\n",
        "            metrics=['accuracy'])"
      ]
    },
    {
      "cell_type": "markdown",
      "source": [
        "Se la volta scorsa (durante le esercitazioni) potevamo permetterci di avere in memoria  tutto il dataset qua non possiamo fare altrettanto perché abbiamo immagini e non c'è modo di caricare tutto il dataset in memoria alla procedura di fit. \n",
        "Motivo per il quale stiamo utilizzando il data loader definito all'inizio. avendolo specificato all'inizio il train_dataset prenderà in ingresso 32 (16) immagini alla volta, definito come batch size fino a coprire l'intero dataset.\n",
        "Cosi facendo ha completato una epoca e tira in ballo il validation data loader che congela momentaneamente l'addestramento della rete neurale, fornisce alla rete tutte le immagini del validation set (anche in questo caso 32 (16) alla volta) e calcola il risultato. e salviamo il risultato nella variabile history.\n"
      ],
      "metadata": {
        "id": "ZaPDqudXkotP"
      }
    },
    {
      "cell_type": "code",
      "source": [
        "# DEFINE AN EARLY STOPPING CRITERION\n",
        "callback = keras.callbacks.EarlyStopping(monitor=\"val_loss\", patience=15, restore_best_weights = True)"
      ],
      "metadata": {
        "id": "QiEJ9xHK6Ifm",
        "colab": {
          "base_uri": "https://localhost:8080/",
          "height": 17
        },
        "outputId": "5f52a388-fc89-4b71-eec6-632b72b14ce9"
      },
      "execution_count": 11,
      "outputs": [
        {
          "output_type": "display_data",
          "data": {
            "text/plain": [
              "<IPython.core.display.Javascript object>"
            ],
            "application/javascript": [
              "google.colab.output.setIframeHeight(0, true, {maxHeight: 300})"
            ]
          },
          "metadata": {}
        }
      ]
    },
    {
      "cell_type": "code",
      "source": [
        "# START COUNTING THE TIME\n",
        "start = datetime.datetime.now()\n",
        "\n",
        "# FIT THE MODEL\n",
        "history_modelV01 = net_modelV01.fit(train_generator, \n",
        "                  validation_data = test_generator, # test_generator\n",
        "                  steps_per_epoch = train_generator.n // train_generator.batch_size,\n",
        "                  validation_steps = test_generator.n // test_generator.batch_size, # test_generator\n",
        "                  epochs=50,\n",
        "                  callbacks = [callback])\n",
        "\n",
        "# STOP COUNTING THE TIME\n",
        "end = datetime.datetime.now()\n",
        "print(\"Total execution time is: \", end-start)"
      ],
      "metadata": {
        "id": "TjxlLZWvLicF",
        "colab": {
          "base_uri": "https://localhost:8080/",
          "height": 300
        },
        "outputId": "b760edb2-8aca-45cd-ff55-de23d16dfcda"
      },
      "execution_count": 19,
      "outputs": [
        {
          "output_type": "display_data",
          "data": {
            "text/plain": [
              "<IPython.core.display.Javascript object>"
            ],
            "application/javascript": [
              "google.colab.output.setIframeHeight(0, true, {maxHeight: 300})"
            ]
          },
          "metadata": {}
        },
        {
          "output_type": "stream",
          "name": "stdout",
          "text": [
            "Epoch 1/50\n",
            "187/187 [==============================] - 1261s 7s/step - loss: 2.2897 - accuracy: 0.1178 - val_loss: 2.2819 - val_accuracy: 0.1953\n",
            "Epoch 2/50\n",
            "187/187 [==============================] - 9s 47ms/step - loss: 2.2421 - accuracy: 0.2537 - val_loss: 2.2696 - val_accuracy: 0.1641\n",
            "Epoch 3/50\n",
            "187/187 [==============================] - 9s 46ms/step - loss: 2.1823 - accuracy: 0.3417 - val_loss: 2.2443 - val_accuracy: 0.1562\n",
            "Epoch 4/50\n",
            "187/187 [==============================] - 9s 47ms/step - loss: 2.1059 - accuracy: 0.3782 - val_loss: 2.2332 - val_accuracy: 0.1562\n",
            "Epoch 5/50\n",
            "187/187 [==============================] - 9s 46ms/step - loss: 2.0183 - accuracy: 0.3876 - val_loss: 2.1465 - val_accuracy: 0.2266\n",
            "Epoch 6/50\n",
            "187/187 [==============================] - 10s 51ms/step - loss: 1.9237 - accuracy: 0.4317 - val_loss: 2.0692 - val_accuracy: 0.3281\n",
            "Epoch 7/50\n",
            "187/187 [==============================] - 9s 47ms/step - loss: 1.8367 - accuracy: 0.4421 - val_loss: 2.0218 - val_accuracy: 0.3125\n",
            "Epoch 8/50\n",
            "187/187 [==============================] - 9s 46ms/step - loss: 1.7551 - accuracy: 0.4705 - val_loss: 1.9958 - val_accuracy: 0.2969\n",
            "Epoch 9/50\n",
            "187/187 [==============================] - 9s 46ms/step - loss: 1.6855 - accuracy: 0.4866 - val_loss: 1.9302 - val_accuracy: 0.3281\n",
            "Epoch 10/50\n",
            "187/187 [==============================] - 9s 46ms/step - loss: 1.6224 - accuracy: 0.5030 - val_loss: 1.8907 - val_accuracy: 0.3672\n",
            "Epoch 11/50\n",
            "187/187 [==============================] - 9s 46ms/step - loss: 1.5680 - accuracy: 0.5174 - val_loss: 1.8581 - val_accuracy: 0.3359\n",
            "Epoch 12/50\n",
            "187/187 [==============================] - 9s 46ms/step - loss: 1.5185 - accuracy: 0.5234 - val_loss: 1.8145 - val_accuracy: 0.3516\n",
            "Epoch 13/50\n",
            "187/187 [==============================] - 9s 47ms/step - loss: 1.4755 - accuracy: 0.5268 - val_loss: 1.7727 - val_accuracy: 0.3672\n",
            "Epoch 14/50\n",
            "187/187 [==============================] - 9s 47ms/step - loss: 1.4394 - accuracy: 0.5448 - val_loss: 1.7706 - val_accuracy: 0.3516\n",
            "Epoch 15/50\n",
            "187/187 [==============================] - 9s 46ms/step - loss: 1.4100 - accuracy: 0.5552 - val_loss: 1.7465 - val_accuracy: 0.3516\n",
            "Epoch 16/50\n",
            "187/187 [==============================] - 9s 46ms/step - loss: 1.3826 - accuracy: 0.5663 - val_loss: 1.7693 - val_accuracy: 0.3359\n",
            "Epoch 17/50\n",
            "187/187 [==============================] - 9s 47ms/step - loss: 1.3550 - accuracy: 0.5639 - val_loss: 1.7059 - val_accuracy: 0.3594\n",
            "Epoch 18/50\n",
            "187/187 [==============================] - 9s 46ms/step - loss: 1.3312 - accuracy: 0.5786 - val_loss: 1.7038 - val_accuracy: 0.3750\n",
            "Epoch 19/50\n",
            "187/187 [==============================] - 9s 46ms/step - loss: 1.3071 - accuracy: 0.5840 - val_loss: 1.6719 - val_accuracy: 0.3828\n",
            "Epoch 20/50\n",
            "187/187 [==============================] - 9s 47ms/step - loss: 1.2825 - accuracy: 0.5907 - val_loss: 1.7014 - val_accuracy: 0.3672\n",
            "Epoch 21/50\n",
            "187/187 [==============================] - 9s 49ms/step - loss: 1.2655 - accuracy: 0.5981 - val_loss: 1.6406 - val_accuracy: 0.3750\n",
            "Epoch 22/50\n",
            "187/187 [==============================] - 9s 46ms/step - loss: 1.2457 - accuracy: 0.5977 - val_loss: 1.6551 - val_accuracy: 0.4141\n",
            "Epoch 23/50\n",
            "187/187 [==============================] - 9s 49ms/step - loss: 1.2288 - accuracy: 0.5971 - val_loss: 1.6468 - val_accuracy: 0.3906\n",
            "Epoch 24/50\n",
            "187/187 [==============================] - 9s 46ms/step - loss: 1.2118 - accuracy: 0.6124 - val_loss: 1.5897 - val_accuracy: 0.4531\n",
            "Epoch 25/50\n",
            "187/187 [==============================] - 9s 46ms/step - loss: 1.1968 - accuracy: 0.6138 - val_loss: 1.6025 - val_accuracy: 0.4375\n",
            "Epoch 26/50\n",
            "187/187 [==============================] - 9s 47ms/step - loss: 1.1790 - accuracy: 0.6185 - val_loss: 1.6288 - val_accuracy: 0.4453\n",
            "Epoch 27/50\n",
            "187/187 [==============================] - 9s 47ms/step - loss: 1.1647 - accuracy: 0.6228 - val_loss: 1.6095 - val_accuracy: 0.4297\n",
            "Epoch 28/50\n",
            "187/187 [==============================] - 9s 46ms/step - loss: 1.1505 - accuracy: 0.6396 - val_loss: 1.5550 - val_accuracy: 0.4297\n",
            "Epoch 29/50\n",
            "187/187 [==============================] - 9s 47ms/step - loss: 1.1376 - accuracy: 0.6349 - val_loss: 1.6077 - val_accuracy: 0.3984\n",
            "Epoch 30/50\n",
            "187/187 [==============================] - 9s 47ms/step - loss: 1.1223 - accuracy: 0.6392 - val_loss: 1.6210 - val_accuracy: 0.3750\n",
            "Epoch 31/50\n",
            "187/187 [==============================] - 9s 46ms/step - loss: 1.1086 - accuracy: 0.6365 - val_loss: 1.6040 - val_accuracy: 0.3828\n",
            "Epoch 32/50\n",
            "187/187 [==============================] - 9s 46ms/step - loss: 1.0976 - accuracy: 0.6396 - val_loss: 1.5803 - val_accuracy: 0.4141\n",
            "Epoch 33/50\n",
            "187/187 [==============================] - 9s 47ms/step - loss: 1.0866 - accuracy: 0.6429 - val_loss: 1.5432 - val_accuracy: 0.4531\n",
            "Epoch 34/50\n",
            "187/187 [==============================] - 9s 46ms/step - loss: 1.0729 - accuracy: 0.6503 - val_loss: 1.5286 - val_accuracy: 0.4844\n",
            "Epoch 35/50\n",
            "187/187 [==============================] - 9s 46ms/step - loss: 1.0621 - accuracy: 0.6546 - val_loss: 1.5410 - val_accuracy: 0.4141\n",
            "Epoch 36/50\n",
            "187/187 [==============================] - 9s 47ms/step - loss: 1.0544 - accuracy: 0.6627 - val_loss: 1.5709 - val_accuracy: 0.4297\n",
            "Epoch 37/50\n",
            "187/187 [==============================] - 9s 46ms/step - loss: 1.0360 - accuracy: 0.6693 - val_loss: 1.5447 - val_accuracy: 0.4375\n",
            "Epoch 38/50\n",
            "187/187 [==============================] - 9s 46ms/step - loss: 1.0229 - accuracy: 0.6663 - val_loss: 1.5235 - val_accuracy: 0.4688\n",
            "Epoch 39/50\n",
            "187/187 [==============================] - 9s 47ms/step - loss: 1.0184 - accuracy: 0.6657 - val_loss: 1.4934 - val_accuracy: 0.4844\n",
            "Epoch 40/50\n",
            "187/187 [==============================] - 9s 46ms/step - loss: 1.0080 - accuracy: 0.6724 - val_loss: 1.5226 - val_accuracy: 0.4219\n",
            "Epoch 41/50\n",
            "187/187 [==============================] - 9s 49ms/step - loss: 0.9962 - accuracy: 0.6757 - val_loss: 1.5120 - val_accuracy: 0.4453\n",
            "Epoch 42/50\n",
            "187/187 [==============================] - 9s 46ms/step - loss: 0.9858 - accuracy: 0.6764 - val_loss: 1.5528 - val_accuracy: 0.4141\n",
            "Epoch 43/50\n",
            "187/187 [==============================] - 9s 47ms/step - loss: 0.9796 - accuracy: 0.6780 - val_loss: 1.4836 - val_accuracy: 0.5000\n",
            "Epoch 44/50\n",
            "187/187 [==============================] - 9s 47ms/step - loss: 0.9656 - accuracy: 0.6921 - val_loss: 1.5025 - val_accuracy: 0.4531\n",
            "Epoch 45/50\n",
            "187/187 [==============================] - 9s 46ms/step - loss: 0.9590 - accuracy: 0.6981 - val_loss: 1.4863 - val_accuracy: 0.4844\n",
            "Epoch 46/50\n",
            "187/187 [==============================] - 9s 47ms/step - loss: 0.9488 - accuracy: 0.7055 - val_loss: 1.5292 - val_accuracy: 0.4609\n",
            "Epoch 47/50\n",
            "187/187 [==============================] - 9s 46ms/step - loss: 0.9419 - accuracy: 0.7015 - val_loss: 1.4613 - val_accuracy: 0.5156\n",
            "Epoch 48/50\n",
            "187/187 [==============================] - 9s 46ms/step - loss: 0.9324 - accuracy: 0.7125 - val_loss: 1.5102 - val_accuracy: 0.4375\n",
            "Epoch 49/50\n",
            "187/187 [==============================] - 9s 47ms/step - loss: 0.9206 - accuracy: 0.7129 - val_loss: 1.4647 - val_accuracy: 0.5156\n",
            "Epoch 50/50\n",
            "187/187 [==============================] - 9s 46ms/step - loss: 0.9184 - accuracy: 0.7212 - val_loss: 1.4627 - val_accuracy: 0.4922\n",
            "Total execution time is:  0:29:05.493232\n"
          ]
        }
      ]
    },
    {
      "cell_type": "code",
      "execution_count": null,
      "metadata": {
        "id": "nL26GNBIzTz_"
      },
      "outputs": [],
      "source": [
        "# # START COUNTING THE TIME\n",
        "# start = datetime.datetime.now()\n",
        "\n",
        "# history_modelV01 = net_modelV01.fit(train_dataset, \n",
        "#                   epochs=50, \n",
        "#                   validation_data = test_dataset,\n",
        "#                   # steps_per_epoch = n_samples_train_dataset // batch_size, --> https://stackoverflow.com/questions/59864408/tensorflowyour-input-ran-out-of-data\n",
        "#                   # validation_steps = n_samples_test_dataset // batch_size,\n",
        "#                   callbacks = [callback])\n",
        "\n",
        "# # STOP COUNTING THE TIME\n",
        "# end = datetime.datetime.now()\n",
        "# print(\"Total execution time with PCA is: \", end-start)"
      ]
    },
    {
      "cell_type": "code",
      "execution_count": 20,
      "metadata": {
        "id": "ug2ZfaHGzTun",
        "colab": {
          "base_uri": "https://localhost:8080/",
          "height": 300
        },
        "outputId": "6011efde-b663-4c4d-bea7-ce3f9f200d74"
      },
      "outputs": [
        {
          "output_type": "display_data",
          "data": {
            "text/plain": [
              "<IPython.core.display.Javascript object>"
            ],
            "application/javascript": [
              "google.colab.output.setIframeHeight(0, true, {maxHeight: 300})"
            ]
          },
          "metadata": {}
        },
        {
          "output_type": "execute_result",
          "data": {
            "text/plain": [
              "<matplotlib.legend.Legend at 0x7f55d02c34f0>"
            ]
          },
          "metadata": {},
          "execution_count": 20
        },
        {
          "output_type": "display_data",
          "data": {
            "text/plain": [
              "<Figure size 1080x432 with 2 Axes>"
            ],
            "image/png": "[encoded data removed]"
          },
          "metadata": {
            "needs_background": "light"
          }
        }
      ],
      "source": [
        "# PLOT THEM TOGETHER\n",
        "# Visualization of the learning curves\n",
        "plt.figure(figsize=(15,6))\n",
        "\n",
        "plt.subplot(1, 2, 1)\n",
        "plt.plot(history_modelV01.history['loss'])\n",
        "plt.plot(history_modelV01.history['val_loss'])\n",
        "plt.ylim([0.0, 7.0])\n",
        "plt.title(\"Loss & Val loss Model V01\")\n",
        "plt.xlabel('Epoch')\n",
        "plt.ylabel('Loss')\n",
        "plt.legend(['train', 'valid'])\n",
        "\n",
        "plt.subplot(1, 2, 2)\n",
        "plt.plot(history_modelV01.history['accuracy'])\n",
        "plt.plot(history_modelV01.history['val_accuracy'])\n",
        "plt.ylim([0.0, 1.0])\n",
        "plt.title(\"Accuracy & Val accuracy Model V01\")\n",
        "plt.xlabel('Epoch')\n",
        "plt.ylabel('Accuracy')\n",
        "plt.legend(['train', 'valid'])"
      ]
    },
    {
      "cell_type": "markdown",
      "metadata": {
        "id": "zsAV8Pb989iU"
      },
      "source": [
        "### Performance results Model V01"
      ]
    },
    {
      "cell_type": "code",
      "source": [
        "# SAVE THE TIME NEEDED TO RUN THE ALGORITHM\n",
        "time_duration_modelV01 = end - start\n",
        "print(time_duration_modelV01)"
      ],
      "metadata": {
        "id": "f6kopBQFcMp5",
        "colab": {
          "base_uri": "https://localhost:8080/",
          "height": 35
        },
        "outputId": "de44c3c8-ac52-4406-aa63-30d68717d144"
      },
      "execution_count": 21,
      "outputs": [
        {
          "output_type": "display_data",
          "data": {
            "text/plain": [
              "<IPython.core.display.Javascript object>"
            ],
            "application/javascript": [
              "google.colab.output.setIframeHeight(0, true, {maxHeight: 300})"
            ]
          },
          "metadata": {}
        },
        {
          "output_type": "stream",
          "name": "stdout",
          "text": [
            "0:29:05.493232\n"
          ]
        }
      ]
    },
    {
      "cell_type": "code",
      "source": [
        "# GET THE MINIMUM ACCURACY, THE MAXIMUM ACCURACY, THE MINIMUM LOSS, THE MAXIMUM LOSS AND SAVE THEM IN VARIABLES.\n",
        "# THEN CREATE A DATAFRAME AT THE END WHERE YOU CAN COMPARE DIFFERENT MODELS WITH IT!\n",
        "\n",
        "# LOSS/VAL LOSS\n",
        "modelV01_minLoss = min(history_modelV01.history['loss'])\n",
        "modelV01_maxLoss = max(history_modelV01.history['loss'])\n",
        "modelV01_minValLoss = min(history_modelV01.history['val_loss'])\n",
        "modelV01_maxValLoss = max(history_modelV01.history['val_loss'])\n",
        "\n",
        "# ACCURACY/VAL ACCURACY\n",
        "modelV01_minAccuracy = min(history_modelV01.history['accuracy'])\n",
        "modelV01_maxAccuracy = max(history_modelV01.history['accuracy'])\n",
        "modelV01_minValAccuracy = min(history_modelV01.history['val_accuracy'])\n",
        "modelV01_maxValAccuracy = max(history_modelV01.history['val_accuracy'])\n",
        "\n",
        "# CREATE THE DATAFRAME\n",
        "modelV01_loss_accuracy = pd.DataFrame({\"minLoss\": [modelV01_minLoss],\n",
        "                                       \"maxloss\": [modelV01_maxLoss],\n",
        "                                       \"minValLoss\": [modelV01_minValLoss],\n",
        "                                       \"maxValLoss\": [modelV01_maxValLoss],\n",
        "                                       \"minAccuracy\": [modelV01_minAccuracy],\n",
        "                                       \"maxAccuracy\": [modelV01_maxAccuracy],\n",
        "                                       \"minValAccuracy\": [modelV01_minValAccuracy],\n",
        "                                       \"maxValAccuracy\": [modelV01_maxValAccuracy]}).T\n",
        "\n",
        "# CHANGE THE FIRST COLUMN NAME\n",
        "modelV01_loss_accuracy = modelV01_loss_accuracy.rename(columns={0: 'modelV01'})\n",
        "# CHANGE THE INDEX NAME\n",
        "modelV01_loss_accuracy.index.names = ['Performance']\n",
        "modelV01_loss_accuracy"
      ],
      "metadata": {
        "id": "tPmZNetWmiDp",
        "colab": {
          "base_uri": "https://localhost:8080/",
          "height": 300
        },
        "outputId": "fa1fad4a-9491-4a28-ce2c-5a0ac6638660"
      },
      "execution_count": 22,
      "outputs": [
        {
          "output_type": "display_data",
          "data": {
            "text/plain": [
              "<IPython.core.display.Javascript object>"
            ],
            "application/javascript": [
              "google.colab.output.setIframeHeight(0, true, {maxHeight: 300})"
            ]
          },
          "metadata": {}
        },
        {
          "output_type": "execute_result",
          "data": {
            "text/plain": [
              "                modelV01\n",
              "Performance             \n",
              "minLoss         0.918410\n",
              "maxloss         2.289701\n",
              "minValLoss      1.461262\n",
              "maxValLoss      2.281917\n",
              "minAccuracy     0.117805\n",
              "maxAccuracy     0.721218\n",
              "minValAccuracy  0.156250\n",
              "maxValAccuracy  0.515625"
            ],
            "text/html": [
              "\n",
              "  <div id=\"df-22d79e28-4f99-43e6-9346-a1b7992b7d70\">\n",
              "    <div class=\"colab-df-container\">\n",
              "      <div>\n",
              "<style scoped>\n",
              "    .dataframe tbody tr th:only-of-type {\n",
              "        vertical-align: middle;\n",
              "    }\n",
              "\n",
              "    .dataframe tbody tr th {\n",
              "        vertical-align: top;\n",
              "    }\n",
              "\n",
              "    .dataframe thead th {\n",
              "        text-align: right;\n",
              "    }\n",
              "</style>\n",
              "<table border=\"1\" class=\"dataframe\">\n",
              "  <thead>\n",
              "    <tr style=\"text-align: right;\">\n",
              "      <th></th>\n",
              "      <th>modelV01</th>\n",
              "    </tr>\n",
              "    <tr>\n",
              "      <th>Performance</th>\n",
              "      <th></th>\n",
              "    </tr>\n",
              "  </thead>\n",
              "  <tbody>\n",
              "    <tr>\n",
              "      <th>minLoss</th>\n",
              "      <td>0.918410</td>\n",
              "    </tr>\n",
              "    <tr>\n",
              "      <th>maxloss</th>\n",
              "      <td>2.289701</td>\n",
              "    </tr>\n",
              "    <tr>\n",
              "      <th>minValLoss</th>\n",
              "      <td>1.461262</td>\n",
              "    </tr>\n",
              "    <tr>\n",
              "      <th>maxValLoss</th>\n",
              "      <td>2.281917</td>\n",
              "    </tr>\n",
              "    <tr>\n",
              "      <th>minAccuracy</th>\n",
              "      <td>0.117805</td>\n",
              "    </tr>\n",
              "    <tr>\n",
              "      <th>maxAccuracy</th>\n",
              "      <td>0.721218</td>\n",
              "    </tr>\n",
              "    <tr>\n",
              "      <th>minValAccuracy</th>\n",
              "      <td>0.156250</td>\n",
              "    </tr>\n",
              "    <tr>\n",
              "      <th>maxValAccuracy</th>\n",
              "      <td>0.515625</td>\n",
              "    </tr>\n",
              "  </tbody>\n",
              "</table>\n",
              "</div>\n",
              "      <button class=\"colab-df-convert\" onclick=\"convertToInteractive('df-22d79e28-4f99-43e6-9346-a1b7992b7d70')\"\n",
              "              title=\"Convert this dataframe to an interactive table.\"\n",
              "              style=\"display:none;\">\n",
              "        \n",
              "  <svg xmlns=\"http://www.w3.org/2000/svg\" height=\"24px\"viewBox=\"0 0 24 24\"\n",
              "       width=\"24px\">\n",
              "    <path d=\"M0 0h24v24H0V0z\" fill=\"none\"/>\n",
              "    <path d=\"M18.56 5.44l.94 2.06.94-2.06 2.06-.94-2.06-.94-.94-2.06-.94 2.06-2.06.94zm-11 1L8.5 8.5l.94-2.06 2.06-.94-2.06-.94L8.5 2.5l-.94 2.06-2.06.94zm10 10l.94 2.06.94-2.06 2.06-.94-2.06-.94-.94-2.06-.94 2.06-2.06.94z\"/><path d=\"M17.41 7.96l-1.37-1.37c-.4-.4-.92-.59-1.43-.59-.52 0-1.04.2-1.43.59L10.3 9.45l-7.72 7.72c-.78.78-.78 2.05 0 2.83L4 21.41c.39.39.9.59 1.41.59.51 0 1.02-.2 1.41-.59l7.78-7.78 2.81-2.81c.8-.78.8-2.07 0-2.86zM5.41 20L4 18.59l7.72-7.72 1.47 1.35L5.41 20z\"/>\n",
              "  </svg>\n",
              "      </button>\n",
              "      \n",
              "  <style>\n",
              "    .colab-df-container {\n",
              "      display:flex;\n",
              "      flex-wrap:wrap;\n",
              "      gap: 12px;\n",
              "    }\n",
              "\n",
              "    .colab-df-convert {\n",
              "      background-color: #E8F0FE;\n",
              "      border: none;\n",
              "      border-radius: 50%;\n",
              "      cursor: pointer;\n",
              "      display: none;\n",
              "      fill: #1967D2;\n",
              "      height: 32px;\n",
              "      padding: 0 0 0 0;\n",
              "      width: 32px;\n",
              "    }\n",
              "\n",
              "    .colab-df-convert:hover {\n",
              "      background-color: #E2EBFA;\n",
              "      box-shadow: 0px 1px 2px rgba(60, 64, 67, 0.3), 0px 1px 3px 1px rgba(60, 64, 67, 0.15);\n",
              "      fill: #174EA6;\n",
              "    }\n",
              "\n",
              "    [theme=dark] .colab-df-convert {\n",
              "      background-color: #3B4455;\n",
              "      fill: #D2E3FC;\n",
              "    }\n",
              "\n",
              "    [theme=dark] .colab-df-convert:hover {\n",
              "      background-color: #434B5C;\n",
              "      box-shadow: 0px 1px 3px 1px rgba(0, 0, 0, 0.15);\n",
              "      filter: drop-shadow(0px 1px 2px rgba(0, 0, 0, 0.3));\n",
              "      fill: #FFFFFF;\n",
              "    }\n",
              "  </style>\n",
              "\n",
              "      <script>\n",
              "        const buttonEl =\n",
              "          document.querySelector('#df-22d79e28-4f99-43e6-9346-a1b7992b7d70 button.colab-df-convert');\n",
              "        buttonEl.style.display =\n",
              "          google.colab.kernel.accessAllowed ? 'block' : 'none';\n",
              "\n",
              "        async function convertToInteractive(key) {\n",
              "          const element = document.querySelector('#df-22d79e28-4f99-43e6-9346-a1b7992b7d70');\n",
              "          const dataTable =\n",
              "            await google.colab.kernel.invokeFunction('convertToInteractive',\n",
              "                                                     [key], {});\n",
              "          if (!dataTable) return;\n",
              "\n",
              "          const docLinkHtml = 'Like what you see? Visit the ' +\n",
              "            '<a target=\"_blank\" href=https://colab.research.google.com/notebooks/data_table.ipynb>data table notebook</a>'\n",
              "            + ' to learn more about interactive tables.';\n",
              "          element.innerHTML = '';\n",
              "          dataTable['output_type'] = 'display_data';\n",
              "          await google.colab.output.renderOutput(dataTable, element);\n",
              "          const docLink = document.createElement('div');\n",
              "          docLink.innerHTML = docLinkHtml;\n",
              "          element.appendChild(docLink);\n",
              "        }\n",
              "      </script>\n",
              "    </div>\n",
              "  </div>\n",
              "  "
            ]
          },
          "metadata": {},
          "execution_count": 22
        }
      ]
    },
    {
      "cell_type": "markdown",
      "metadata": {
        "id": "jscA_haNuXFF"
      },
      "source": [
        "## 1.2.2 Model V02 - Model with regularization, Batch normalization and double Dense layer"
      ]
    },
    {
      "cell_type": "code",
      "execution_count": 23,
      "metadata": {
        "colab": {
          "base_uri": "https://localhost:8080/",
          "height": 300
        },
        "id": "yEjqOnwizTlT",
        "outputId": "19c19f16-20d8-4b00-9138-31aafe45ab3d"
      },
      "outputs": [
        {
          "output_type": "display_data",
          "data": {
            "text/plain": [
              "<IPython.core.display.Javascript object>"
            ],
            "application/javascript": [
              "google.colab.output.setIframeHeight(0, true, {maxHeight: 300})"
            ]
          },
          "metadata": {}
        },
        {
          "output_type": "stream",
          "name": "stdout",
          "text": [
            "Model: \"model_2\"\n",
            "_________________________________________________________________\n",
            " Layer (type)                Output Shape              Param #   \n",
            "=================================================================\n",
            " input_3 (InputLayer)        [(None, 96, 96, 3)]       0         \n",
            "                                                                 \n",
            " conv2d_4 (Conv2D)           (None, 96, 96, 32)        896       \n",
            "                                                                 \n",
            " batch_normalization (BatchN  (None, 96, 96, 32)       128       \n",
            " ormalization)                                                   \n",
            "                                                                 \n",
            " activation_4 (Activation)   (None, 96, 96, 32)        0         \n",
            "                                                                 \n",
            " max_pooling2d_2 (MaxPooling  (None, 32, 32, 32)       0         \n",
            " 2D)                                                             \n",
            "                                                                 \n",
            " conv2d_5 (Conv2D)           (None, 32, 32, 64)        18496     \n",
            "                                                                 \n",
            " batch_normalization_1 (Batc  (None, 32, 32, 64)       256       \n",
            " hNormalization)                                                 \n",
            "                                                                 \n",
            " activation_5 (Activation)   (None, 32, 32, 64)        0         \n",
            "                                                                 \n",
            " max_pooling2d_3 (MaxPooling  (None, 11, 11, 64)       0         \n",
            " 2D)                                                             \n",
            "                                                                 \n",
            " conv2d_6 (Conv2D)           (None, 11, 11, 128)       73856     \n",
            "                                                                 \n",
            " batch_normalization_2 (Batc  (None, 11, 11, 128)      512       \n",
            " hNormalization)                                                 \n",
            "                                                                 \n",
            " activation_6 (Activation)   (None, 11, 11, 128)       0         \n",
            "                                                                 \n",
            " global_max_pooling2d_2 (Glo  (None, 128)              0         \n",
            " balMaxPooling2D)                                                \n",
            "                                                                 \n",
            " dense_2 (Dense)             (None, 64)                8256      \n",
            "                                                                 \n",
            " dense_3 (Dense)             (None, 10)                650       \n",
            "                                                                 \n",
            "=================================================================\n",
            "Total params: 103,050\n",
            "Trainable params: 102,602\n",
            "Non-trainable params: 448\n",
            "_________________________________________________________________\n"
          ]
        }
      ],
      "source": [
        "# Architecture definition V02\n",
        "inputs = keras.Input((SIZE,SIZE,3))\n",
        "\n",
        "x = inputs\n",
        "x = keras.layers.Conv2D(32, 3, padding=\"same\", kernel_regularizer=tf.keras.regularizers.l2(0.001))(x)\n",
        "x = keras.layers.BatchNormalization()(x)\n",
        "x = keras.layers.Activation(\"relu\")(x)\n",
        "x = keras.layers.MaxPooling2D(3, strides=3, padding=\"same\")(x)\n",
        "\n",
        "x = keras.layers.Conv2D(64, 3, padding=\"same\", kernel_regularizer=tf.keras.regularizers.l2(0.001))(x)\n",
        "x = keras.layers.BatchNormalization()(x)\n",
        "x = keras.layers.Activation(\"relu\")(x)\n",
        "x = keras.layers.MaxPooling2D(3, strides=3, padding=\"same\")(x)\n",
        "\n",
        "x = keras.layers.Conv2D(128, 3, padding=\"same\", kernel_regularizer=tf.keras.regularizers.l2(0.001))(x)\n",
        "x = keras.layers.BatchNormalization()(x)\n",
        "x = keras.layers.Activation(\"relu\")(x)\n",
        "\n",
        "x = keras.layers.GlobalMaxPooling2D()(x)\n",
        "\n",
        "x = keras.layers.Dense(64, activation=\"relu\", kernel_regularizer=tf.keras.regularizers.l2(0.001))(x)\n",
        "\n",
        "outputs = keras.layers.Dense(num_classes, activation=\"softmax\", kernel_regularizer=tf.keras.regularizers.l2(0.001))(x)\n",
        "\n",
        "net_modelV02 = keras.Model(inputs, outputs)\n",
        "\n",
        "net_modelV02.summary()"
      ]
    },
    {
      "cell_type": "markdown",
      "source": [
        "<figure>\n",
        "<center>\n",
        "<img src='https://drive.google.com/uc?export=view&id=1qKA348F045qujsBUp-TlWSui43jTvVM5' />\n",
        "<figcaption>Architecture ModelV02</figcaption></center>\n",
        "</figure>"
      ],
      "metadata": {
        "id": "an0ZJsgFqZE4"
      }
    },
    {
      "cell_type": "code",
      "execution_count": 24,
      "metadata": {
        "colab": {
          "base_uri": "https://localhost:8080/",
          "height": 17
        },
        "id": "n0BVFH7ouzD-",
        "outputId": "39d83274-7b10-4aa2-9348-62df128e61bc"
      },
      "outputs": [
        {
          "output_type": "display_data",
          "data": {
            "text/plain": [
              "<IPython.core.display.Javascript object>"
            ],
            "application/javascript": [
              "google.colab.output.setIframeHeight(0, true, {maxHeight: 300})"
            ]
          },
          "metadata": {}
        }
      ],
      "source": [
        "# COMPILE THE MODEL\n",
        "net_modelV02.compile(loss=keras.losses.categorical_crossentropy,\n",
        "            optimizer= keras.optimizers.RMSprop(learning_rate=0.0001),\n",
        "            metrics=['accuracy'])"
      ]
    },
    {
      "cell_type": "code",
      "source": [
        "# START COUNTING THE TIME\n",
        "start = datetime.datetime.now()\n",
        "\n",
        "# FIT THE MODEL\n",
        "history_modelV02 = net_modelV02.fit(train_generator, \n",
        "                  validation_data = test_generator, # test_generator\n",
        "                  steps_per_epoch = train_generator.n // train_generator.batch_size,\n",
        "                  validation_steps = test_generator.n // test_generator.batch_size, # test_generator\n",
        "                  epochs=50,\n",
        "                  callbacks = [callback])\n",
        "\n",
        "# STOP COUNTING THE TIME\n",
        "end = datetime.datetime.now()\n",
        "print(\"Total execution time is: \", end-start)"
      ],
      "metadata": {
        "id": "IT2wZ26rMAgS",
        "colab": {
          "base_uri": "https://localhost:8080/",
          "height": 300
        },
        "outputId": "a5d32761-3d5c-4c60-e75e-b2f9491aa7f4"
      },
      "execution_count": 25,
      "outputs": [
        {
          "output_type": "display_data",
          "data": {
            "text/plain": [
              "<IPython.core.display.Javascript object>"
            ],
            "application/javascript": [
              "google.colab.output.setIframeHeight(0, true, {maxHeight: 300})"
            ]
          },
          "metadata": {}
        },
        {
          "output_type": "stream",
          "name": "stdout",
          "text": [
            "Epoch 1/50\n",
            "187/187 [==============================] - 10s 49ms/step - loss: 1.8644 - accuracy: 0.4906 - val_loss: 2.8057 - val_accuracy: 0.0781\n",
            "Epoch 2/50\n",
            "187/187 [==============================] - 12s 67ms/step - loss: 1.2375 - accuracy: 0.7333 - val_loss: 2.7181 - val_accuracy: 0.1719\n",
            "Epoch 3/50\n",
            "187/187 [==============================] - 9s 49ms/step - loss: 0.9836 - accuracy: 0.8196 - val_loss: 1.9128 - val_accuracy: 0.3750\n",
            "Epoch 4/50\n",
            "187/187 [==============================] - 9s 48ms/step - loss: 0.8080 - accuracy: 0.8701 - val_loss: 1.5346 - val_accuracy: 0.5391\n",
            "Epoch 5/50\n",
            "187/187 [==============================] - 9s 47ms/step - loss: 0.6894 - accuracy: 0.9043 - val_loss: 1.5462 - val_accuracy: 0.5156\n",
            "Epoch 6/50\n",
            "187/187 [==============================] - 9s 49ms/step - loss: 0.5949 - accuracy: 0.9311 - val_loss: 1.4056 - val_accuracy: 0.5547\n",
            "Epoch 7/50\n",
            "187/187 [==============================] - 9s 48ms/step - loss: 0.5236 - accuracy: 0.9451 - val_loss: 1.4491 - val_accuracy: 0.5391\n",
            "Epoch 8/50\n",
            "187/187 [==============================] - 9s 48ms/step - loss: 0.4608 - accuracy: 0.9632 - val_loss: 1.2959 - val_accuracy: 0.6406\n",
            "Epoch 9/50\n",
            "187/187 [==============================] - 9s 50ms/step - loss: 0.4134 - accuracy: 0.9746 - val_loss: 1.5058 - val_accuracy: 0.5781\n",
            "Epoch 10/50\n",
            "187/187 [==============================] - 9s 50ms/step - loss: 0.3796 - accuracy: 0.9843 - val_loss: 1.2661 - val_accuracy: 0.6562\n",
            "Epoch 11/50\n",
            "187/187 [==============================] - 9s 47ms/step - loss: 0.3464 - accuracy: 0.9886 - val_loss: 1.2531 - val_accuracy: 0.6641\n",
            "Epoch 12/50\n",
            "187/187 [==============================] - 9s 48ms/step - loss: 0.3201 - accuracy: 0.9933 - val_loss: 1.5161 - val_accuracy: 0.6016\n",
            "Epoch 13/50\n",
            "187/187 [==============================] - 9s 47ms/step - loss: 0.2986 - accuracy: 0.9953 - val_loss: 1.4552 - val_accuracy: 0.6172\n",
            "Epoch 14/50\n",
            "187/187 [==============================] - 9s 47ms/step - loss: 0.2834 - accuracy: 0.9967 - val_loss: 1.4601 - val_accuracy: 0.6094\n",
            "Epoch 15/50\n",
            "187/187 [==============================] - 9s 48ms/step - loss: 0.2682 - accuracy: 0.9977 - val_loss: 1.2440 - val_accuracy: 0.6875\n",
            "Epoch 16/50\n",
            "187/187 [==============================] - 9s 47ms/step - loss: 0.2531 - accuracy: 0.9990 - val_loss: 1.3882 - val_accuracy: 0.5781\n",
            "Epoch 17/50\n",
            "187/187 [==============================] - 9s 48ms/step - loss: 0.2427 - accuracy: 0.9990 - val_loss: 1.2804 - val_accuracy: 0.6562\n",
            "Epoch 18/50\n",
            "187/187 [==============================] - 9s 48ms/step - loss: 0.2332 - accuracy: 1.0000 - val_loss: 1.3019 - val_accuracy: 0.6719\n",
            "Epoch 19/50\n",
            "187/187 [==============================] - 10s 53ms/step - loss: 0.2269 - accuracy: 0.9997 - val_loss: 1.1943 - val_accuracy: 0.6719\n",
            "Epoch 20/50\n",
            "187/187 [==============================] - 9s 49ms/step - loss: 0.2203 - accuracy: 1.0000 - val_loss: 1.2706 - val_accuracy: 0.6797\n",
            "Epoch 21/50\n",
            "187/187 [==============================] - 9s 47ms/step - loss: 0.2146 - accuracy: 0.9997 - val_loss: 1.1673 - val_accuracy: 0.6953\n",
            "Epoch 22/50\n",
            "187/187 [==============================] - 9s 48ms/step - loss: 0.2091 - accuracy: 0.9997 - val_loss: 1.1793 - val_accuracy: 0.6797\n",
            "Epoch 23/50\n",
            "187/187 [==============================] - 9s 47ms/step - loss: 0.2019 - accuracy: 1.0000 - val_loss: 1.2853 - val_accuracy: 0.6641\n",
            "Epoch 24/50\n",
            "187/187 [==============================] - 9s 48ms/step - loss: 0.1972 - accuracy: 0.9997 - val_loss: 1.4497 - val_accuracy: 0.6328\n",
            "Epoch 25/50\n",
            "187/187 [==============================] - 9s 48ms/step - loss: 0.1906 - accuracy: 1.0000 - val_loss: 1.5216 - val_accuracy: 0.5703\n",
            "Epoch 26/50\n",
            "187/187 [==============================] - 9s 48ms/step - loss: 0.1840 - accuracy: 1.0000 - val_loss: 1.3336 - val_accuracy: 0.6406\n",
            "Epoch 27/50\n",
            "187/187 [==============================] - 9s 48ms/step - loss: 0.1770 - accuracy: 1.0000 - val_loss: 1.3548 - val_accuracy: 0.6328\n",
            "Epoch 28/50\n",
            "187/187 [==============================] - 9s 48ms/step - loss: 0.1709 - accuracy: 1.0000 - val_loss: 1.4386 - val_accuracy: 0.6406\n",
            "Epoch 29/50\n",
            "187/187 [==============================] - 9s 48ms/step - loss: 0.1651 - accuracy: 0.9997 - val_loss: 1.4105 - val_accuracy: 0.6016\n",
            "Epoch 30/50\n",
            "187/187 [==============================] - 9s 48ms/step - loss: 0.1583 - accuracy: 1.0000 - val_loss: 1.3277 - val_accuracy: 0.6562\n",
            "Epoch 31/50\n",
            "187/187 [==============================] - 9s 49ms/step - loss: 0.1508 - accuracy: 1.0000 - val_loss: 1.2544 - val_accuracy: 0.6562\n",
            "Epoch 32/50\n",
            "187/187 [==============================] - 9s 48ms/step - loss: 0.1451 - accuracy: 1.0000 - val_loss: 1.2692 - val_accuracy: 0.6875\n",
            "Epoch 33/50\n",
            "187/187 [==============================] - 9s 48ms/step - loss: 0.1386 - accuracy: 1.0000 - val_loss: 1.3140 - val_accuracy: 0.6094\n",
            "Epoch 34/50\n",
            "187/187 [==============================] - 9s 49ms/step - loss: 0.1325 - accuracy: 1.0000 - val_loss: 1.1454 - val_accuracy: 0.7031\n",
            "Epoch 35/50\n",
            "187/187 [==============================] - 9s 49ms/step - loss: 0.1268 - accuracy: 1.0000 - val_loss: 1.2523 - val_accuracy: 0.6875\n",
            "Epoch 36/50\n",
            "187/187 [==============================] - 10s 51ms/step - loss: 0.1214 - accuracy: 1.0000 - val_loss: 1.1660 - val_accuracy: 0.6641\n",
            "Epoch 37/50\n",
            "187/187 [==============================] - 9s 47ms/step - loss: 0.1170 - accuracy: 1.0000 - val_loss: 1.2503 - val_accuracy: 0.6406\n",
            "Epoch 38/50\n",
            "187/187 [==============================] - 9s 48ms/step - loss: 0.1117 - accuracy: 1.0000 - val_loss: 1.2933 - val_accuracy: 0.6484\n",
            "Epoch 39/50\n",
            "187/187 [==============================] - 9s 47ms/step - loss: 0.1069 - accuracy: 1.0000 - val_loss: 1.2110 - val_accuracy: 0.6719\n",
            "Epoch 40/50\n",
            "187/187 [==============================] - 9s 49ms/step - loss: 0.1033 - accuracy: 0.9997 - val_loss: 1.2110 - val_accuracy: 0.6641\n",
            "Epoch 41/50\n",
            "187/187 [==============================] - 9s 48ms/step - loss: 0.0994 - accuracy: 1.0000 - val_loss: 1.1951 - val_accuracy: 0.6719\n",
            "Epoch 42/50\n",
            "187/187 [==============================] - 9s 48ms/step - loss: 0.0947 - accuracy: 1.0000 - val_loss: 1.1652 - val_accuracy: 0.6719\n",
            "Epoch 43/50\n",
            "187/187 [==============================] - 9s 47ms/step - loss: 0.0915 - accuracy: 1.0000 - val_loss: 1.1322 - val_accuracy: 0.6797\n",
            "Epoch 44/50\n",
            "187/187 [==============================] - 9s 49ms/step - loss: 0.0876 - accuracy: 1.0000 - val_loss: 1.1192 - val_accuracy: 0.6797\n",
            "Epoch 45/50\n",
            "187/187 [==============================] - 9s 47ms/step - loss: 0.0845 - accuracy: 0.9997 - val_loss: 1.2581 - val_accuracy: 0.6250\n",
            "Epoch 46/50\n",
            "187/187 [==============================] - 9s 48ms/step - loss: 0.0808 - accuracy: 1.0000 - val_loss: 1.2255 - val_accuracy: 0.6484\n",
            "Epoch 47/50\n",
            "187/187 [==============================] - 9s 51ms/step - loss: 0.0781 - accuracy: 1.0000 - val_loss: 1.0917 - val_accuracy: 0.7188\n",
            "Epoch 48/50\n",
            "187/187 [==============================] - 9s 50ms/step - loss: 0.0760 - accuracy: 0.9997 - val_loss: 1.1001 - val_accuracy: 0.6875\n",
            "Epoch 49/50\n",
            "187/187 [==============================] - 9s 49ms/step - loss: 0.0731 - accuracy: 1.0000 - val_loss: 1.3489 - val_accuracy: 0.6328\n",
            "Epoch 50/50\n",
            "187/187 [==============================] - 10s 51ms/step - loss: 0.0708 - accuracy: 1.0000 - val_loss: 1.0719 - val_accuracy: 0.6875\n",
            "Total execution time is:  0:08:08.857057\n"
          ]
        }
      ]
    },
    {
      "cell_type": "code",
      "execution_count": null,
      "metadata": {
        "id": "UKBiYAo1uy7D"
      },
      "outputs": [],
      "source": [
        "# # START COUNTING THE TIME\n",
        "# start = datetime.datetime.now()\n",
        "\n",
        "# history_modelV02 = net_modelV02.fit(train_dataset, \n",
        "#                            epochs=50, \n",
        "#                            validation_data = test_dataset,\n",
        "#                            callbacks = [callback])\n",
        "\n",
        "# # STOP COUNTING THE TIME\n",
        "# end = datetime.datetime.now()\n",
        "# print(\"Total execution time with PCA is: \", end-start)"
      ]
    },
    {
      "cell_type": "code",
      "execution_count": 29,
      "metadata": {
        "colab": {
          "base_uri": "https://localhost:8080/",
          "height": 300
        },
        "id": "eFyJY2zHEo6v",
        "outputId": "a4aa5aef-2882-4992-bee3-950e3d9778b6"
      },
      "outputs": [
        {
          "output_type": "display_data",
          "data": {
            "text/plain": [
              "<IPython.core.display.Javascript object>"
            ],
            "application/javascript": [
              "google.colab.output.setIframeHeight(0, true, {maxHeight: 300})"
            ]
          },
          "metadata": {}
        },
        {
          "output_type": "execute_result",
          "data": {
            "text/plain": [
              "<matplotlib.legend.Legend at 0x7f55687f6df0>"
            ]
          },
          "metadata": {},
          "execution_count": 29
        },
        {
          "output_type": "display_data",
          "data": {
            "text/plain": [
              "<Figure size 1080x432 with 2 Axes>"
            ],
            "image/png": "[encoded data removed]"
          },
          "metadata": {
            "needs_background": "light"
          }
        }
      ],
      "source": [
        "# PLOT THEM TOGETHER\n",
        "# Visualization of the learning curves\n",
        "plt.figure(figsize=(15,6))\n",
        "\n",
        "plt.subplot(1, 2, 1)\n",
        "plt.plot(history_modelV02.history['loss'])\n",
        "plt.plot(history_modelV02.history['val_loss'])\n",
        "plt.ylim([0.0, 3.0])\n",
        "plt.title(\"Loss & Val loss Model V02\")\n",
        "plt.xlabel('Epoch')\n",
        "plt.ylabel('Loss')\n",
        "plt.legend(['train', 'valid'])\n",
        "\n",
        "plt.subplot(1, 2, 2)\n",
        "plt.plot(history_modelV02.history['accuracy'])\n",
        "plt.plot(history_modelV02.history['val_accuracy'])\n",
        "plt.ylim([0.0, 1.0])\n",
        "plt.title(\"Accuracy & Val accuracy Model V02\")\n",
        "plt.xlabel('Epoch')\n",
        "plt.ylabel('Accuracy')\n",
        "plt.legend(['train', 'valid'])"
      ]
    },
    {
      "cell_type": "markdown",
      "metadata": {
        "id": "VXn9rjr686As"
      },
      "source": [
        "### Performance results Model V02"
      ]
    },
    {
      "cell_type": "code",
      "source": [
        "# SAVE THE TIME NEEDED TO RUN THE ALGORITHM\n",
        "time_duration_modelV02 = end - start\n",
        "print(time_duration_modelV02)"
      ],
      "metadata": {
        "id": "NcuAZFJFcr7O",
        "colab": {
          "base_uri": "https://localhost:8080/",
          "height": 35
        },
        "outputId": "c7da0c4a-cb5c-4af9-e3e6-976667bf48ff"
      },
      "execution_count": 30,
      "outputs": [
        {
          "output_type": "display_data",
          "data": {
            "text/plain": [
              "<IPython.core.display.Javascript object>"
            ],
            "application/javascript": [
              "google.colab.output.setIframeHeight(0, true, {maxHeight: 300})"
            ]
          },
          "metadata": {}
        },
        {
          "output_type": "stream",
          "name": "stdout",
          "text": [
            "0:08:08.857057\n"
          ]
        }
      ]
    },
    {
      "cell_type": "code",
      "source": [
        "# GET THE MINIMUM ACCURACY, THE MAXIMUM ACCURACY, THE MINIMUM LOSS, THE MAXIMUM LOSS AND SAVE THEM IN VARIABLES.\n",
        "# THEN CREATE A DATAFRAME AT THE END WHERE YOU CAN COMPARE DIFFERENT MODELS WITH IT!\n",
        "\n",
        "# LOSS/VAL LOSS\n",
        "modelV02_minLoss = min(history_modelV02.history['loss'])\n",
        "modelV02_maxLoss = max(history_modelV02.history['loss'])\n",
        "modelV02_minValLoss = min(history_modelV02.history['val_loss'])\n",
        "modelV02_maxValLoss = max(history_modelV02.history['val_loss'])\n",
        "\n",
        "# ACCURACY/VAL ACCURACY\n",
        "modelV02_minAccuracy = min(history_modelV02.history['accuracy'])\n",
        "modelV02_maxAccuracy = max(history_modelV02.history['accuracy'])\n",
        "modelV02_minValAccuracy = min(history_modelV02.history['val_accuracy'])\n",
        "modelV02_maxValAccuracy = max(history_modelV02.history['val_accuracy'])\n",
        "\n",
        "# CREATE THE DATAFRAME\n",
        "modelV02_loss_accuracy = pd.DataFrame({\"minLoss\": [modelV02_minLoss],\n",
        "                                       \"maxloss\": [modelV02_maxLoss],\n",
        "                                       \"minValLoss\": [modelV02_minValLoss],\n",
        "                                       \"maxValLoss\": [modelV02_maxValLoss],\n",
        "                                       \"minAccuracy\": [modelV02_minAccuracy],\n",
        "                                       \"maxAccuracy\": [modelV02_maxAccuracy],\n",
        "                                       \"minValAccuracy\": [modelV02_minValAccuracy],\n",
        "                                       \"maxValAccuracy\": [modelV02_maxValAccuracy]}).T\n",
        "\n",
        "# CHANGE THE FIRST COLUMN NAME\n",
        "modelV02_loss_accuracy = modelV02_loss_accuracy.rename(columns={0: 'modelV02'})\n",
        "# CHANGE THE INDEX NAME\n",
        "modelV02_loss_accuracy.index.names = ['Performance']\n",
        "modelV02_loss_accuracy"
      ],
      "metadata": {
        "id": "OFdh7xW2mQQr",
        "colab": {
          "base_uri": "https://localhost:8080/",
          "height": 300
        },
        "outputId": "1ed9c787-4143-46f2-9d72-c8f02e60a96e"
      },
      "execution_count": 31,
      "outputs": [
        {
          "output_type": "display_data",
          "data": {
            "text/plain": [
              "<IPython.core.display.Javascript object>"
            ],
            "application/javascript": [
              "google.colab.output.setIframeHeight(0, true, {maxHeight: 300})"
            ]
          },
          "metadata": {}
        },
        {
          "output_type": "execute_result",
          "data": {
            "text/plain": [
              "                modelV02\n",
              "Performance             \n",
              "minLoss         0.070789\n",
              "maxloss         1.864420\n",
              "minValLoss      1.071938\n",
              "maxValLoss      2.805658\n",
              "minAccuracy     0.490629\n",
              "maxAccuracy     1.000000\n",
              "minValAccuracy  0.078125\n",
              "maxValAccuracy  0.718750"
            ],
            "text/html": [
              "\n",
              "  <div id=\"df-98663ae4-3c22-4a37-9be5-66f0d100f31b\">\n",
              "    <div class=\"colab-df-container\">\n",
              "      <div>\n",
              "<style scoped>\n",
              "    .dataframe tbody tr th:only-of-type {\n",
              "        vertical-align: middle;\n",
              "    }\n",
              "\n",
              "    .dataframe tbody tr th {\n",
              "        vertical-align: top;\n",
              "    }\n",
              "\n",
              "    .dataframe thead th {\n",
              "        text-align: right;\n",
              "    }\n",
              "</style>\n",
              "<table border=\"1\" class=\"dataframe\">\n",
              "  <thead>\n",
              "    <tr style=\"text-align: right;\">\n",
              "      <th></th>\n",
              "      <th>modelV02</th>\n",
              "    </tr>\n",
              "    <tr>\n",
              "      <th>Performance</th>\n",
              "      <th></th>\n",
              "    </tr>\n",
              "  </thead>\n",
              "  <tbody>\n",
              "    <tr>\n",
              "      <th>minLoss</th>\n",
              "      <td>0.070789</td>\n",
              "    </tr>\n",
              "    <tr>\n",
              "      <th>maxloss</th>\n",
              "      <td>1.864420</td>\n",
              "    </tr>\n",
              "    <tr>\n",
              "      <th>minValLoss</th>\n",
              "      <td>1.071938</td>\n",
              "    </tr>\n",
              "    <tr>\n",
              "      <th>maxValLoss</th>\n",
              "      <td>2.805658</td>\n",
              "    </tr>\n",
              "    <tr>\n",
              "      <th>minAccuracy</th>\n",
              "      <td>0.490629</td>\n",
              "    </tr>\n",
              "    <tr>\n",
              "      <th>maxAccuracy</th>\n",
              "      <td>1.000000</td>\n",
              "    </tr>\n",
              "    <tr>\n",
              "      <th>minValAccuracy</th>\n",
              "      <td>0.078125</td>\n",
              "    </tr>\n",
              "    <tr>\n",
              "      <th>maxValAccuracy</th>\n",
              "      <td>0.718750</td>\n",
              "    </tr>\n",
              "  </tbody>\n",
              "</table>\n",
              "</div>\n",
              "      <button class=\"colab-df-convert\" onclick=\"convertToInteractive('df-98663ae4-3c22-4a37-9be5-66f0d100f31b')\"\n",
              "              title=\"Convert this dataframe to an interactive table.\"\n",
              "              style=\"display:none;\">\n",
              "        \n",
              "  <svg xmlns=\"http://www.w3.org/2000/svg\" height=\"24px\"viewBox=\"0 0 24 24\"\n",
              "       width=\"24px\">\n",
              "    <path d=\"M0 0h24v24H0V0z\" fill=\"none\"/>\n",
              "    <path d=\"M18.56 5.44l.94 2.06.94-2.06 2.06-.94-2.06-.94-.94-2.06-.94 2.06-2.06.94zm-11 1L8.5 8.5l.94-2.06 2.06-.94-2.06-.94L8.5 2.5l-.94 2.06-2.06.94zm10 10l.94 2.06.94-2.06 2.06-.94-2.06-.94-.94-2.06-.94 2.06-2.06.94z\"/><path d=\"M17.41 7.96l-1.37-1.37c-.4-.4-.92-.59-1.43-.59-.52 0-1.04.2-1.43.59L10.3 9.45l-7.72 7.72c-.78.78-.78 2.05 0 2.83L4 21.41c.39.39.9.59 1.41.59.51 0 1.02-.2 1.41-.59l7.78-7.78 2.81-2.81c.8-.78.8-2.07 0-2.86zM5.41 20L4 18.59l7.72-7.72 1.47 1.35L5.41 20z\"/>\n",
              "  </svg>\n",
              "      </button>\n",
              "      \n",
              "  <style>\n",
              "    .colab-df-container {\n",
              "      display:flex;\n",
              "      flex-wrap:wrap;\n",
              "      gap: 12px;\n",
              "    }\n",
              "\n",
              "    .colab-df-convert {\n",
              "      background-color: #E8F0FE;\n",
              "      border: none;\n",
              "      border-radius: 50%;\n",
              "      cursor: pointer;\n",
              "      display: none;\n",
              "      fill: #1967D2;\n",
              "      height: 32px;\n",
              "      padding: 0 0 0 0;\n",
              "      width: 32px;\n",
              "    }\n",
              "\n",
              "    .colab-df-convert:hover {\n",
              "      background-color: #E2EBFA;\n",
              "      box-shadow: 0px 1px 2px rgba(60, 64, 67, 0.3), 0px 1px 3px 1px rgba(60, 64, 67, 0.15);\n",
              "      fill: #174EA6;\n",
              "    }\n",
              "\n",
              "    [theme=dark] .colab-df-convert {\n",
              "      background-color: #3B4455;\n",
              "      fill: #D2E3FC;\n",
              "    }\n",
              "\n",
              "    [theme=dark] .colab-df-convert:hover {\n",
              "      background-color: #434B5C;\n",
              "      box-shadow: 0px 1px 3px 1px rgba(0, 0, 0, 0.15);\n",
              "      filter: drop-shadow(0px 1px 2px rgba(0, 0, 0, 0.3));\n",
              "      fill: #FFFFFF;\n",
              "    }\n",
              "  </style>\n",
              "\n",
              "      <script>\n",
              "        const buttonEl =\n",
              "          document.querySelector('#df-98663ae4-3c22-4a37-9be5-66f0d100f31b button.colab-df-convert');\n",
              "        buttonEl.style.display =\n",
              "          google.colab.kernel.accessAllowed ? 'block' : 'none';\n",
              "\n",
              "        async function convertToInteractive(key) {\n",
              "          const element = document.querySelector('#df-98663ae4-3c22-4a37-9be5-66f0d100f31b');\n",
              "          const dataTable =\n",
              "            await google.colab.kernel.invokeFunction('convertToInteractive',\n",
              "                                                     [key], {});\n",
              "          if (!dataTable) return;\n",
              "\n",
              "          const docLinkHtml = 'Like what you see? Visit the ' +\n",
              "            '<a target=\"_blank\" href=https://colab.research.google.com/notebooks/data_table.ipynb>data table notebook</a>'\n",
              "            + ' to learn more about interactive tables.';\n",
              "          element.innerHTML = '';\n",
              "          dataTable['output_type'] = 'display_data';\n",
              "          await google.colab.output.renderOutput(dataTable, element);\n",
              "          const docLink = document.createElement('div');\n",
              "          docLink.innerHTML = docLinkHtml;\n",
              "          element.appendChild(docLink);\n",
              "        }\n",
              "      </script>\n",
              "    </div>\n",
              "  </div>\n",
              "  "
            ]
          },
          "metadata": {},
          "execution_count": 31
        }
      ]
    },
    {
      "cell_type": "markdown",
      "metadata": {
        "id": "x-fbROCI0UT7"
      },
      "source": [
        "## 1.2.3 Model V03 - Training the model with Data Agmentation from keras (regularization and dropout)"
      ]
    },
    {
      "cell_type": "code",
      "execution_count": 36,
      "metadata": {
        "colab": {
          "base_uri": "https://localhost:8080/",
          "height": 72
        },
        "id": "4wEPGZRy0OQh",
        "outputId": "eed1c9ef-4d79-47a6-b05d-34b733439f88"
      },
      "outputs": [
        {
          "output_type": "display_data",
          "data": {
            "text/plain": [
              "<IPython.core.display.Javascript object>"
            ],
            "application/javascript": [
              "google.colab.output.setIframeHeight(0, true, {maxHeight: 300})"
            ]
          },
          "metadata": {}
        },
        {
          "output_type": "stream",
          "name": "stdout",
          "text": [
            "Found 3004 images belonging to 10 classes.\n",
            "Found 132 images belonging to 10 classes.\n",
            "Found 242 images belonging to 10 classes.\n"
          ]
        }
      ],
      "source": [
        "# DATA AUGMENTATION ONLY ON THE TRAINING SET\n",
        "train_datagen = ImageDataGenerator(\n",
        "        rescale=1./255,\n",
        "        shear_range=0.2,\n",
        "        zoom_range=0.1,\n",
        "        horizontal_flip=True,\n",
        "        width_shift_range=0.1,  # randomly shift images horizontally (fraction of total width)\n",
        "        height_shift_range=0.1,\n",
        "        rotation_range=45,\n",
        "        fill_mode='nearest')  # randomly shift images vertically (fraction of total height))\n",
        "\n",
        "# this is the augmentation configuration we will use for testing:\n",
        "# only rescaling\n",
        "test_datagen = ImageDataGenerator(rescale=1./255) \n",
        "val_datagen = ImageDataGenerator(rescale=1./255) \n",
        "\n",
        "# this is a generator that will read pictures found in\n",
        "# subfolers of 'data/train', and indefinitely generate\n",
        "# batches of augmented image data\n",
        "train_generator = train_datagen.flow_from_directory(\n",
        "    base_path_train,\n",
        "    target_size=(SIZE,SIZE),\n",
        "    batch_size=batch_size,\n",
        "    shuffle=True,\n",
        "    class_mode=\"categorical\",\n",
        "    seed = SEED_VALUE)\n",
        "\n",
        "test_generator = test_datagen.flow_from_directory(\n",
        "    base_path_test,\n",
        "    target_size=(SIZE,SIZE),\n",
        "    batch_size=batch_size,\n",
        "    shuffle=False,\n",
        "    class_mode=\"categorical\",\n",
        "    seed = SEED_VALUE)\n",
        "\n",
        "val_generator = val_datagen.flow_from_directory(\n",
        "    base_path_val,\n",
        "    target_size=(SIZE,SIZE),\n",
        "    batch_size=batch_size,\n",
        "    shuffle=False,\n",
        "    class_mode=\"categorical\",\n",
        "    seed = SEED_VALUE)"
      ]
    },
    {
      "cell_type": "code",
      "execution_count": 37,
      "metadata": {
        "id": "ITUAWD7Rt4Cm",
        "colab": {
          "base_uri": "https://localhost:8080/",
          "height": 300
        },
        "outputId": "56fd02fe-49e0-4541-dde9-5c68d85e5340"
      },
      "outputs": [
        {
          "output_type": "display_data",
          "data": {
            "text/plain": [
              "<IPython.core.display.Javascript object>"
            ],
            "application/javascript": [
              "google.colab.output.setIframeHeight(0, true, {maxHeight: 300})"
            ]
          },
          "metadata": {}
        },
        {
          "output_type": "stream",
          "name": "stdout",
          "text": [
            "Model: \"model_4\"\n",
            "_________________________________________________________________\n",
            " Layer (type)                Output Shape              Param #   \n",
            "=================================================================\n",
            " input_5 (InputLayer)        [(None, 96, 96, 3)]       0         \n",
            "                                                                 \n",
            " conv2d_12 (Conv2D)          (None, 96, 96, 32)        896       \n",
            "                                                                 \n",
            " batch_normalization_8 (Batc  (None, 96, 96, 32)       128       \n",
            " hNormalization)                                                 \n",
            "                                                                 \n",
            " activation_12 (Activation)  (None, 96, 96, 32)        0         \n",
            "                                                                 \n",
            " max_pooling2d_8 (MaxPooling  (None, 32, 32, 32)       0         \n",
            " 2D)                                                             \n",
            "                                                                 \n",
            " conv2d_13 (Conv2D)          (None, 32, 32, 64)        18496     \n",
            "                                                                 \n",
            " batch_normalization_9 (Batc  (None, 32, 32, 64)       256       \n",
            " hNormalization)                                                 \n",
            "                                                                 \n",
            " activation_13 (Activation)  (None, 32, 32, 64)        0         \n",
            "                                                                 \n",
            " max_pooling2d_9 (MaxPooling  (None, 11, 11, 64)       0         \n",
            " 2D)                                                             \n",
            "                                                                 \n",
            " conv2d_14 (Conv2D)          (None, 11, 11, 128)       73856     \n",
            "                                                                 \n",
            " batch_normalization_10 (Bat  (None, 11, 11, 128)      512       \n",
            " chNormalization)                                                \n",
            "                                                                 \n",
            " activation_14 (Activation)  (None, 11, 11, 128)       0         \n",
            "                                                                 \n",
            " max_pooling2d_10 (MaxPoolin  (None, 4, 4, 128)        0         \n",
            " g2D)                                                            \n",
            "                                                                 \n",
            " conv2d_15 (Conv2D)          (None, 4, 4, 128)         147584    \n",
            "                                                                 \n",
            " batch_normalization_11 (Bat  (None, 4, 4, 128)        512       \n",
            " chNormalization)                                                \n",
            "                                                                 \n",
            " activation_15 (Activation)  (None, 4, 4, 128)         0         \n",
            "                                                                 \n",
            " max_pooling2d_11 (MaxPoolin  (None, 2, 2, 128)        0         \n",
            " g2D)                                                            \n",
            "                                                                 \n",
            " conv2d_16 (Conv2D)          (None, 2, 2, 512)         590336    \n",
            "                                                                 \n",
            " batch_normalization_12 (Bat  (None, 2, 2, 512)        2048      \n",
            " chNormalization)                                                \n",
            "                                                                 \n",
            " activation_16 (Activation)  (None, 2, 2, 512)         0         \n",
            "                                                                 \n",
            " global_max_pooling2d_4 (Glo  (None, 512)              0         \n",
            " balMaxPooling2D)                                                \n",
            "                                                                 \n",
            " flatten_1 (Flatten)         (None, 512)               0         \n",
            "                                                                 \n",
            " dropout_1 (Dropout)         (None, 512)               0         \n",
            "                                                                 \n",
            " dense_6 (Dense)             (None, 512)               262656    \n",
            "                                                                 \n",
            " dense_7 (Dense)             (None, 10)                5130      \n",
            "                                                                 \n",
            "=================================================================\n",
            "Total params: 1,102,410\n",
            "Trainable params: 1,100,682\n",
            "Non-trainable params: 1,728\n",
            "_________________________________________________________________\n"
          ]
        }
      ],
      "source": [
        "# ARCHITECTURE DEFINITION FOR MODEL V03\n",
        "inputs = keras.Input((SIZE,SIZE,3))\n",
        "\n",
        "x = inputs\n",
        "\n",
        "x = keras.layers.Conv2D(32, 3, padding=\"same\", kernel_initializer=\"he_uniform\", kernel_regularizer=tf.keras.regularizers.l2(0.001))(x)\n",
        "x = keras.layers.BatchNormalization()(x)\n",
        "x = keras.layers.Activation(\"relu\")(x)\n",
        "x = keras.layers.MaxPooling2D(3, strides=3, padding=\"same\")(x)\n",
        "\n",
        "x = keras.layers.Conv2D(64, 3, padding=\"same\", kernel_initializer=\"he_uniform\", kernel_regularizer=tf.keras.regularizers.l2(0.001))(x)\n",
        "x = keras.layers.BatchNormalization()(x)\n",
        "x = keras.layers.Activation(\"relu\")(x)\n",
        "x = keras.layers.MaxPooling2D(3, strides=3, padding=\"same\")(x)\n",
        "\n",
        "x = keras.layers.Conv2D(128, 3, padding=\"same\", kernel_initializer=\"he_uniform\", kernel_regularizer=tf.keras.regularizers.l2(0.001))(x)\n",
        "x = keras.layers.BatchNormalization()(x)\n",
        "x = keras.layers.Activation(\"relu\")(x)\n",
        "x = keras.layers.MaxPooling2D(3, strides=3, padding=\"same\")(x)\n",
        "\n",
        "x = keras.layers.Conv2D(128, 3, padding=\"same\", kernel_initializer=\"he_uniform\", kernel_regularizer=tf.keras.regularizers.l2(0.001))(x)\n",
        "x = keras.layers.BatchNormalization()(x)\n",
        "x = keras.layers.Activation(\"relu\")(x)\n",
        "x = keras.layers.MaxPooling2D(3, strides=3, padding=\"same\")(x)\n",
        "\n",
        "x = keras.layers.Conv2D(512, 3, padding=\"same\", kernel_initializer=\"he_uniform\", kernel_regularizer=tf.keras.regularizers.l2(0.001))(x)\n",
        "x = keras.layers.BatchNormalization()(x)\n",
        "x = keras.layers.Activation(\"relu\")(x)\n",
        "x = keras.layers.GlobalMaxPooling2D()(x)\n",
        "\n",
        "# ADD FLATTEN LAYER\n",
        "x = tf.keras.layers.Flatten()(x)\n",
        "# ADD DROPOUT LAYER\n",
        "x = keras.layers.Dropout(.15)(x)\n",
        "\n",
        "x = keras.layers.Dense(512, activation=\"relu\", kernel_regularizer=tf.keras.regularizers.l2(0.001))(x)\n",
        "\n",
        "outputs = keras.layers.Dense(num_classes, activation=\"softmax\", kernel_regularizer=tf.keras.regularizers.l2(0.001))(x)\n",
        "\n",
        "net_modelV03 = keras.Model(inputs, outputs)\n",
        "\n",
        "# PRINT THE SUMMARY\n",
        "net_modelV03.summary()"
      ]
    },
    {
      "cell_type": "markdown",
      "source": [
        "<figure>\n",
        "<center>\n",
        "<img src='https://drive.google.com/uc?export=view&id=1WMiCo7jjyvtIw3VJW0T0aUDjBMC8Dyaq' />\n",
        "<figcaption>Architecture ModelV03</figcaption></center>\n",
        "</figure>"
      ],
      "metadata": {
        "id": "Kl18NHFgqI8h"
      }
    },
    {
      "cell_type": "code",
      "execution_count": 38,
      "metadata": {
        "id": "eW5lub6TwUuo",
        "colab": {
          "base_uri": "https://localhost:8080/",
          "height": 17
        },
        "outputId": "324c236d-7892-4117-a637-727200fc7d2b"
      },
      "outputs": [
        {
          "output_type": "display_data",
          "data": {
            "text/plain": [
              "<IPython.core.display.Javascript object>"
            ],
            "application/javascript": [
              "google.colab.output.setIframeHeight(0, true, {maxHeight: 300})"
            ]
          },
          "metadata": {}
        }
      ],
      "source": [
        "# COMPILE THE MODEL\n",
        "net_modelV03.compile(loss=keras.losses.categorical_crossentropy,\n",
        "            optimizer= keras.optimizers.Adam(learning_rate=0.0001),\n",
        "            metrics=['accuracy'])"
      ]
    },
    {
      "cell_type": "code",
      "execution_count": 39,
      "metadata": {
        "id": "npw4dDJvwUsZ",
        "colab": {
          "base_uri": "https://localhost:8080/",
          "height": 300
        },
        "outputId": "6dc99352-be1d-44ae-9f93-86e5b4045c2f"
      },
      "outputs": [
        {
          "output_type": "display_data",
          "data": {
            "text/plain": [
              "<IPython.core.display.Javascript object>"
            ],
            "application/javascript": [
              "google.colab.output.setIframeHeight(0, true, {maxHeight: 300})"
            ]
          },
          "metadata": {}
        },
        {
          "output_type": "stream",
          "name": "stdout",
          "text": [
            "Epoch 1/50\n",
            "187/187 [==============================] - 123s 655ms/step - loss: 3.8029 - accuracy: 0.4562 - val_loss: 4.3710 - val_accuracy: 0.1875\n",
            "Epoch 2/50\n",
            "187/187 [==============================] - 16s 84ms/step - loss: 3.2901 - accuracy: 0.6345 - val_loss: 3.8881 - val_accuracy: 0.4417\n",
            "Epoch 3/50\n",
            "187/187 [==============================] - 16s 85ms/step - loss: 3.0986 - accuracy: 0.6878 - val_loss: 3.3842 - val_accuracy: 0.5958\n",
            "Epoch 4/50\n",
            "187/187 [==============================] - 16s 85ms/step - loss: 2.9368 - accuracy: 0.7343 - val_loss: 3.5634 - val_accuracy: 0.5417\n",
            "Epoch 5/50\n",
            "187/187 [==============================] - 16s 86ms/step - loss: 2.8338 - accuracy: 0.7577 - val_loss: 3.3711 - val_accuracy: 0.5917\n",
            "Epoch 6/50\n",
            "187/187 [==============================] - 16s 85ms/step - loss: 2.7453 - accuracy: 0.7831 - val_loss: 3.4585 - val_accuracy: 0.5542\n",
            "Epoch 7/50\n",
            "187/187 [==============================] - 16s 86ms/step - loss: 2.6434 - accuracy: 0.8076 - val_loss: 3.2264 - val_accuracy: 0.6208\n",
            "Epoch 8/50\n",
            "187/187 [==============================] - 16s 86ms/step - loss: 2.5814 - accuracy: 0.8286 - val_loss: 3.1367 - val_accuracy: 0.6208\n",
            "Epoch 9/50\n",
            "187/187 [==============================] - 16s 87ms/step - loss: 2.4963 - accuracy: 0.8340 - val_loss: 3.1001 - val_accuracy: 0.6417\n",
            "Epoch 10/50\n",
            "187/187 [==============================] - 16s 88ms/step - loss: 2.4205 - accuracy: 0.8564 - val_loss: 3.0878 - val_accuracy: 0.6292\n",
            "Epoch 11/50\n",
            "187/187 [==============================] - 16s 85ms/step - loss: 2.3899 - accuracy: 0.8635 - val_loss: 3.0028 - val_accuracy: 0.6750\n",
            "Epoch 12/50\n",
            "187/187 [==============================] - 16s 84ms/step - loss: 2.3004 - accuracy: 0.8852 - val_loss: 3.0930 - val_accuracy: 0.6583\n",
            "Epoch 13/50\n",
            "187/187 [==============================] - 16s 87ms/step - loss: 2.2840 - accuracy: 0.8829 - val_loss: 3.3103 - val_accuracy: 0.5875\n",
            "Epoch 14/50\n",
            "187/187 [==============================] - 16s 85ms/step - loss: 2.2277 - accuracy: 0.8939 - val_loss: 3.2566 - val_accuracy: 0.6542\n",
            "Epoch 15/50\n",
            "187/187 [==============================] - 16s 86ms/step - loss: 2.2015 - accuracy: 0.8902 - val_loss: 2.9567 - val_accuracy: 0.6750\n",
            "Epoch 16/50\n",
            "187/187 [==============================] - 16s 85ms/step - loss: 2.1654 - accuracy: 0.8983 - val_loss: 2.8325 - val_accuracy: 0.6667\n",
            "Epoch 17/50\n",
            "187/187 [==============================] - 16s 85ms/step - loss: 2.1048 - accuracy: 0.9147 - val_loss: 3.5096 - val_accuracy: 0.5875\n",
            "Epoch 18/50\n",
            "187/187 [==============================] - 17s 91ms/step - loss: 2.0731 - accuracy: 0.9147 - val_loss: 2.8235 - val_accuracy: 0.6792\n",
            "Epoch 19/50\n",
            "187/187 [==============================] - 17s 88ms/step - loss: 2.0569 - accuracy: 0.9116 - val_loss: 2.8890 - val_accuracy: 0.6583\n",
            "Epoch 20/50\n",
            "187/187 [==============================] - 16s 86ms/step - loss: 2.0070 - accuracy: 0.9157 - val_loss: 2.8284 - val_accuracy: 0.6875\n",
            "Epoch 21/50\n",
            "187/187 [==============================] - 16s 87ms/step - loss: 1.9607 - accuracy: 0.9297 - val_loss: 2.8343 - val_accuracy: 0.7042\n",
            "Epoch 22/50\n",
            "187/187 [==============================] - 16s 86ms/step - loss: 1.9484 - accuracy: 0.9254 - val_loss: 3.4838 - val_accuracy: 0.5833\n",
            "Epoch 23/50\n",
            "187/187 [==============================] - 16s 87ms/step - loss: 1.9299 - accuracy: 0.9267 - val_loss: 2.8756 - val_accuracy: 0.7083\n",
            "Epoch 24/50\n",
            "187/187 [==============================] - 16s 86ms/step - loss: 1.8849 - accuracy: 0.9378 - val_loss: 3.0182 - val_accuracy: 0.6750\n",
            "Epoch 25/50\n",
            "187/187 [==============================] - 16s 86ms/step - loss: 1.8653 - accuracy: 0.9297 - val_loss: 2.9508 - val_accuracy: 0.6750\n",
            "Epoch 26/50\n",
            "187/187 [==============================] - 16s 86ms/step - loss: 1.8167 - accuracy: 0.9424 - val_loss: 3.2408 - val_accuracy: 0.6042\n",
            "Epoch 27/50\n",
            "187/187 [==============================] - 16s 88ms/step - loss: 1.8101 - accuracy: 0.9388 - val_loss: 2.9588 - val_accuracy: 0.6708\n",
            "Epoch 28/50\n",
            "187/187 [==============================] - 16s 87ms/step - loss: 1.7674 - accuracy: 0.9458 - val_loss: 2.7507 - val_accuracy: 0.7000\n",
            "Epoch 29/50\n",
            "187/187 [==============================] - 16s 85ms/step - loss: 1.7371 - accuracy: 0.9481 - val_loss: 2.6967 - val_accuracy: 0.7042\n",
            "Epoch 30/50\n",
            "187/187 [==============================] - 16s 88ms/step - loss: 1.7442 - accuracy: 0.9401 - val_loss: 3.2609 - val_accuracy: 0.6292\n",
            "Epoch 31/50\n",
            "187/187 [==============================] - 16s 85ms/step - loss: 1.6928 - accuracy: 0.9481 - val_loss: 2.5863 - val_accuracy: 0.7333\n",
            "Epoch 32/50\n",
            "187/187 [==============================] - 16s 84ms/step - loss: 1.6789 - accuracy: 0.9508 - val_loss: 3.0308 - val_accuracy: 0.6708\n",
            "Epoch 33/50\n",
            "187/187 [==============================] - 16s 85ms/step - loss: 1.6875 - accuracy: 0.9357 - val_loss: 2.7383 - val_accuracy: 0.7292\n",
            "Epoch 34/50\n",
            "187/187 [==============================] - 16s 85ms/step - loss: 1.6296 - accuracy: 0.9528 - val_loss: 2.6485 - val_accuracy: 0.7250\n",
            "Epoch 35/50\n",
            "187/187 [==============================] - 16s 85ms/step - loss: 1.6196 - accuracy: 0.9488 - val_loss: 3.0073 - val_accuracy: 0.6500\n",
            "Epoch 36/50\n",
            "187/187 [==============================] - 16s 84ms/step - loss: 1.5761 - accuracy: 0.9612 - val_loss: 2.6873 - val_accuracy: 0.7208\n",
            "Epoch 37/50\n",
            "187/187 [==============================] - 17s 90ms/step - loss: 1.5709 - accuracy: 0.9548 - val_loss: 2.4296 - val_accuracy: 0.7500\n",
            "Epoch 38/50\n",
            "187/187 [==============================] - 16s 85ms/step - loss: 1.5452 - accuracy: 0.9568 - val_loss: 2.2613 - val_accuracy: 0.7875\n",
            "Epoch 39/50\n",
            "187/187 [==============================] - 16s 87ms/step - loss: 1.5300 - accuracy: 0.9592 - val_loss: 2.4305 - val_accuracy: 0.7708\n",
            "Epoch 40/50\n",
            "187/187 [==============================] - 16s 87ms/step - loss: 1.5117 - accuracy: 0.9525 - val_loss: 2.6627 - val_accuracy: 0.6750\n",
            "Epoch 41/50\n",
            "187/187 [==============================] - 16s 85ms/step - loss: 1.4899 - accuracy: 0.9572 - val_loss: 2.4995 - val_accuracy: 0.7500\n",
            "Epoch 42/50\n",
            "187/187 [==============================] - 16s 85ms/step - loss: 1.4587 - accuracy: 0.9605 - val_loss: 2.1978 - val_accuracy: 0.8083\n",
            "Epoch 43/50\n",
            "187/187 [==============================] - 16s 86ms/step - loss: 1.4403 - accuracy: 0.9652 - val_loss: 2.4893 - val_accuracy: 0.7458\n",
            "Epoch 44/50\n",
            "187/187 [==============================] - 16s 84ms/step - loss: 1.4207 - accuracy: 0.9632 - val_loss: 2.4762 - val_accuracy: 0.7417\n",
            "Epoch 45/50\n",
            "187/187 [==============================] - 16s 85ms/step - loss: 1.3952 - accuracy: 0.9659 - val_loss: 2.4285 - val_accuracy: 0.7625\n",
            "Epoch 46/50\n",
            "187/187 [==============================] - 17s 89ms/step - loss: 1.3840 - accuracy: 0.9662 - val_loss: 2.4673 - val_accuracy: 0.7208\n",
            "Epoch 47/50\n",
            "187/187 [==============================] - 16s 87ms/step - loss: 1.3612 - accuracy: 0.9712 - val_loss: 2.3171 - val_accuracy: 0.7833\n",
            "Epoch 48/50\n",
            "187/187 [==============================] - 16s 85ms/step - loss: 1.3692 - accuracy: 0.9575 - val_loss: 2.3267 - val_accuracy: 0.7542\n",
            "Epoch 49/50\n",
            "187/187 [==============================] - 16s 85ms/step - loss: 1.3272 - accuracy: 0.9709 - val_loss: 2.2981 - val_accuracy: 0.7375\n",
            "Epoch 50/50\n",
            "187/187 [==============================] - 16s 84ms/step - loss: 1.3213 - accuracy: 0.9615 - val_loss: 2.5837 - val_accuracy: 0.7458\n",
            "Total execution time with PCA is:  0:17:07.901522\n"
          ]
        }
      ],
      "source": [
        "# START COUNTING THE TIME\n",
        "start = datetime.datetime.now()\n",
        "\n",
        "# FIT THE MODEL\n",
        "history_modelV03 = net_modelV03.fit(train_generator, \n",
        "                  validation_data = val_generator, # test_generator\n",
        "                  steps_per_epoch = train_generator.n // train_generator.batch_size,\n",
        "                  validation_steps = val_generator.n // val_generator.batch_size, # test_generator\n",
        "                  epochs=50,\n",
        "                  callbacks = [callback])\n",
        "\n",
        "# STOP COUNTING THE TIME\n",
        "end = datetime.datetime.now()\n",
        "print(\"Total execution time with PCA is: \", end-start)"
      ]
    },
    {
      "cell_type": "code",
      "execution_count": null,
      "metadata": {
        "id": "igB4TxuBwUqP"
      },
      "outputs": [],
      "source": [
        "# Iterazioni (numero al di sotto delle epoche) viene calcolato come shape del training (in termini di lunghezza)/numero di epoche.\n",
        "# Esempio: se lunghezza di training è 1803 la si divide per batch size di 64 e si ottiene 28 iterazioni per epoca! --> to see all \n",
        "# the datapoints it need 28 iterations."
      ]
    },
    {
      "cell_type": "code",
      "execution_count": null,
      "metadata": {
        "id": "-3g731HbVGJp"
      },
      "outputs": [],
      "source": [
        "# SHOW DIFFERENT TRAINING EPOCHS: USE 40/70/100 TRAINING EPOCHS AND SHOW/COMMENT THE RESULTS!\n",
        "# UTILE PER CAPIRE STEPS PER EPOCH AND VALIDATION STEPS: https://datascience.stackexchange.com/questions/47405/what-to-set-in-steps-per-epoch-in-keras-fit-generator"
      ]
    },
    {
      "cell_type": "code",
      "execution_count": 40,
      "metadata": {
        "colab": {
          "base_uri": "https://localhost:8080/",
          "height": 300
        },
        "id": "C2jLcGKxIjSY",
        "outputId": "86036155-de7d-4493-eb82-49dcacfbaed5"
      },
      "outputs": [
        {
          "output_type": "display_data",
          "data": {
            "text/plain": [
              "<IPython.core.display.Javascript object>"
            ],
            "application/javascript": [
              "google.colab.output.setIframeHeight(0, true, {maxHeight: 300})"
            ]
          },
          "metadata": {}
        },
        {
          "output_type": "execute_result",
          "data": {
            "text/plain": [
              "<matplotlib.legend.Legend at 0x7f556817dbe0>"
            ]
          },
          "metadata": {},
          "execution_count": 40
        },
        {
          "output_type": "display_data",
          "data": {
            "text/plain": [
              "<Figure size 1080x432 with 2 Axes>"
            ],
            "image/png": "[encoded data removed]"
          },
          "metadata": {
            "needs_background": "light"
          }
        }
      ],
      "source": [
        "# PLOT THEM TOGETHER\n",
        "# Visualization of the learning curves\n",
        "plt.figure(figsize=(15,6))\n",
        "\n",
        "# VISUALIZZIAMO NUOVAMENTE L'OUTPUT IN TERMINI DI LOSS FUNCTION\n",
        "plt.subplot(1, 2, 1)\n",
        "plt.plot(history_modelV03.history['loss'])\n",
        "plt.plot(history_modelV03.history['val_loss'])\n",
        "plt.ylim([0.0, 5.0]) # è difficile da dire a priori\n",
        "plt.xlabel('Epoch')\n",
        "plt.ylabel('Loss')\n",
        "plt.legend(['train', 'valid'])\n",
        "\n",
        "plt.subplot(1, 2, 2)\n",
        "plt.plot(history_modelV03.history['accuracy'])\n",
        "plt.plot(history_modelV03.history['val_accuracy'])\n",
        "plt.ylim([0.0, 1.0]) # 0.5 è il minimo sindacale - dummy classifier fa 50% - fino al massimo 1. \n",
        "plt.xlabel('Epoch')\n",
        "plt.ylabel('Accuracy')\n",
        "plt.legend(['train', 'valid'])"
      ]
    },
    {
      "cell_type": "markdown",
      "metadata": {
        "id": "Qc4R6vzqXW1w"
      },
      "source": [
        "TO CHECK:\n",
        "\n",
        "- https://cs230.stanford.edu/projects_fall_2019/reports/26233496.pdf\n",
        "- http://www.warse.org/IJETER/static/pdf/file/ijeter38892020.pdf\n",
        "- https://www.kdnuggets.com/2022/05/image-classification-convolutional-neural-networks-cnns.html\n",
        "- https://towardsdatascience.com/deciding-optimal-filter-size-for-cnns-d6f7b56f9363"
      ]
    },
    {
      "cell_type": "markdown",
      "metadata": {
        "id": "RaBg3ww_83dQ"
      },
      "source": [
        "### Performance results Model V03"
      ]
    },
    {
      "cell_type": "code",
      "source": [
        "# SAVE THE TIME NEEDED TO RUN THE ALGORITHM\n",
        "time_duration_modelV03 = end - start\n",
        "print(time_duration_modelV03)"
      ],
      "metadata": {
        "id": "RIa0AvvFc2xf",
        "colab": {
          "base_uri": "https://localhost:8080/",
          "height": 35
        },
        "outputId": "66807017-10e8-4580-ed3d-802b8c6082a1"
      },
      "execution_count": 43,
      "outputs": [
        {
          "output_type": "display_data",
          "data": {
            "text/plain": [
              "<IPython.core.display.Javascript object>"
            ],
            "application/javascript": [
              "google.colab.output.setIframeHeight(0, true, {maxHeight: 300})"
            ]
          },
          "metadata": {}
        },
        {
          "output_type": "stream",
          "name": "stdout",
          "text": [
            "0:17:07.901522\n"
          ]
        }
      ]
    },
    {
      "cell_type": "code",
      "source": [
        "# GET THE MINIMUM ACCURACY, THE MAXIMUM ACCURACY, THE MINIMUM LOSS, THE MAXIMUM LOSS AND SAVE THEM IN VARIABLES.\n",
        "# THEN CREATE A DATAFRAME AT THE END WHERE YOU CAN COMPARE DIFFERENT MODELS WITH IT!\n",
        "\n",
        "# LOSS/VAL LOSS\n",
        "modelV03_minLoss = min(history_modelV03.history['loss'])\n",
        "modelV03_maxLoss = max(history_modelV03.history['loss'])\n",
        "modelV03_minValLoss = min(history_modelV03.history['val_loss'])\n",
        "modelV03_maxValLoss = max(history_modelV03.history['val_loss'])\n",
        "\n",
        "# ACCURACY/VAL ACCURACY\n",
        "modelV03_minAccuracy = min(history_modelV03.history['accuracy'])\n",
        "modelV03_maxAccuracy = max(history_modelV03.history['accuracy'])\n",
        "modelV03_minValAccuracy = min(history_modelV03.history['val_accuracy'])\n",
        "modelV03_maxValAccuracy = max(history_modelV03.history['val_accuracy'])\n",
        "\n",
        "# CREATE THE DATAFRAME\n",
        "modelV03_loss_accuracy = pd.DataFrame({\"minLoss\": [modelV03_minLoss],\n",
        "                                       \"maxloss\": [modelV03_maxLoss],\n",
        "                                       \"minValLoss\": [modelV03_minValLoss],\n",
        "                                       \"maxValLoss\": [modelV03_maxValLoss],\n",
        "                                       \"minAccuracy\": [modelV03_minAccuracy],\n",
        "                                       \"maxAccuracy\": [modelV03_maxAccuracy],\n",
        "                                       \"minValAccuracy\": [modelV03_minValAccuracy],\n",
        "                                       \"maxValAccuracy\": [modelV03_maxValAccuracy]}).T\n",
        "\n",
        "# CHANGE THE FIRST COLUMN NAME\n",
        "modelV03_loss_accuracy = modelV03_loss_accuracy.rename(columns={0: 'modelV03'})\n",
        "# CHANGE THE INDEX NAME\n",
        "modelV03_loss_accuracy.index.names = ['Performance']\n",
        "modelV03_loss_accuracy"
      ],
      "metadata": {
        "colab": {
          "base_uri": "https://localhost:8080/",
          "height": 300
        },
        "id": "AmZGo-bHiWkN",
        "outputId": "17268e88-992c-4dee-cad2-2c59be441ab2"
      },
      "execution_count": 44,
      "outputs": [
        {
          "output_type": "display_data",
          "data": {
            "text/plain": [
              "<IPython.core.display.Javascript object>"
            ],
            "application/javascript": [
              "google.colab.output.setIframeHeight(0, true, {maxHeight: 300})"
            ]
          },
          "metadata": {}
        },
        {
          "output_type": "execute_result",
          "data": {
            "text/plain": [
              "                modelV03\n",
              "Performance             \n",
              "minLoss         1.321285\n",
              "maxloss         3.802938\n",
              "minValLoss      2.197832\n",
              "maxValLoss      4.370973\n",
              "minAccuracy     0.456158\n",
              "maxAccuracy     0.971218\n",
              "minValAccuracy  0.187500\n",
              "maxValAccuracy  0.808333"
            ],
            "text/html": [
              "\n",
              "  <div id=\"df-7ae1ada6-2ff9-4b7e-97a1-e9155427598e\">\n",
              "    <div class=\"colab-df-container\">\n",
              "      <div>\n",
              "<style scoped>\n",
              "    .dataframe tbody tr th:only-of-type {\n",
              "        vertical-align: middle;\n",
              "    }\n",
              "\n",
              "    .dataframe tbody tr th {\n",
              "        vertical-align: top;\n",
              "    }\n",
              "\n",
              "    .dataframe thead th {\n",
              "        text-align: right;\n",
              "    }\n",
              "</style>\n",
              "<table border=\"1\" class=\"dataframe\">\n",
              "  <thead>\n",
              "    <tr style=\"text-align: right;\">\n",
              "      <th></th>\n",
              "      <th>modelV03</th>\n",
              "    </tr>\n",
              "    <tr>\n",
              "      <th>Performance</th>\n",
              "      <th></th>\n",
              "    </tr>\n",
              "  </thead>\n",
              "  <tbody>\n",
              "    <tr>\n",
              "      <th>minLoss</th>\n",
              "      <td>1.321285</td>\n",
              "    </tr>\n",
              "    <tr>\n",
              "      <th>maxloss</th>\n",
              "      <td>3.802938</td>\n",
              "    </tr>\n",
              "    <tr>\n",
              "      <th>minValLoss</th>\n",
              "      <td>2.197832</td>\n",
              "    </tr>\n",
              "    <tr>\n",
              "      <th>maxValLoss</th>\n",
              "      <td>4.370973</td>\n",
              "    </tr>\n",
              "    <tr>\n",
              "      <th>minAccuracy</th>\n",
              "      <td>0.456158</td>\n",
              "    </tr>\n",
              "    <tr>\n",
              "      <th>maxAccuracy</th>\n",
              "      <td>0.971218</td>\n",
              "    </tr>\n",
              "    <tr>\n",
              "      <th>minValAccuracy</th>\n",
              "      <td>0.187500</td>\n",
              "    </tr>\n",
              "    <tr>\n",
              "      <th>maxValAccuracy</th>\n",
              "      <td>0.808333</td>\n",
              "    </tr>\n",
              "  </tbody>\n",
              "</table>\n",
              "</div>\n",
              "      <button class=\"colab-df-convert\" onclick=\"convertToInteractive('df-7ae1ada6-2ff9-4b7e-97a1-e9155427598e')\"\n",
              "              title=\"Convert this dataframe to an interactive table.\"\n",
              "              style=\"display:none;\">\n",
              "        \n",
              "  <svg xmlns=\"http://www.w3.org/2000/svg\" height=\"24px\"viewBox=\"0 0 24 24\"\n",
              "       width=\"24px\">\n",
              "    <path d=\"M0 0h24v24H0V0z\" fill=\"none\"/>\n",
              "    <path d=\"M18.56 5.44l.94 2.06.94-2.06 2.06-.94-2.06-.94-.94-2.06-.94 2.06-2.06.94zm-11 1L8.5 8.5l.94-2.06 2.06-.94-2.06-.94L8.5 2.5l-.94 2.06-2.06.94zm10 10l.94 2.06.94-2.06 2.06-.94-2.06-.94-.94-2.06-.94 2.06-2.06.94z\"/><path d=\"M17.41 7.96l-1.37-1.37c-.4-.4-.92-.59-1.43-.59-.52 0-1.04.2-1.43.59L10.3 9.45l-7.72 7.72c-.78.78-.78 2.05 0 2.83L4 21.41c.39.39.9.59 1.41.59.51 0 1.02-.2 1.41-.59l7.78-7.78 2.81-2.81c.8-.78.8-2.07 0-2.86zM5.41 20L4 18.59l7.72-7.72 1.47 1.35L5.41 20z\"/>\n",
              "  </svg>\n",
              "      </button>\n",
              "      \n",
              "  <style>\n",
              "    .colab-df-container {\n",
              "      display:flex;\n",
              "      flex-wrap:wrap;\n",
              "      gap: 12px;\n",
              "    }\n",
              "\n",
              "    .colab-df-convert {\n",
              "      background-color: #E8F0FE;\n",
              "      border: none;\n",
              "      border-radius: 50%;\n",
              "      cursor: pointer;\n",
              "      display: none;\n",
              "      fill: #1967D2;\n",
              "      height: 32px;\n",
              "      padding: 0 0 0 0;\n",
              "      width: 32px;\n",
              "    }\n",
              "\n",
              "    .colab-df-convert:hover {\n",
              "      background-color: #E2EBFA;\n",
              "      box-shadow: 0px 1px 2px rgba(60, 64, 67, 0.3), 0px 1px 3px 1px rgba(60, 64, 67, 0.15);\n",
              "      fill: #174EA6;\n",
              "    }\n",
              "\n",
              "    [theme=dark] .colab-df-convert {\n",
              "      background-color: #3B4455;\n",
              "      fill: #D2E3FC;\n",
              "    }\n",
              "\n",
              "    [theme=dark] .colab-df-convert:hover {\n",
              "      background-color: #434B5C;\n",
              "      box-shadow: 0px 1px 3px 1px rgba(0, 0, 0, 0.15);\n",
              "      filter: drop-shadow(0px 1px 2px rgba(0, 0, 0, 0.3));\n",
              "      fill: #FFFFFF;\n",
              "    }\n",
              "  </style>\n",
              "\n",
              "      <script>\n",
              "        const buttonEl =\n",
              "          document.querySelector('#df-7ae1ada6-2ff9-4b7e-97a1-e9155427598e button.colab-df-convert');\n",
              "        buttonEl.style.display =\n",
              "          google.colab.kernel.accessAllowed ? 'block' : 'none';\n",
              "\n",
              "        async function convertToInteractive(key) {\n",
              "          const element = document.querySelector('#df-7ae1ada6-2ff9-4b7e-97a1-e9155427598e');\n",
              "          const dataTable =\n",
              "            await google.colab.kernel.invokeFunction('convertToInteractive',\n",
              "                                                     [key], {});\n",
              "          if (!dataTable) return;\n",
              "\n",
              "          const docLinkHtml = 'Like what you see? Visit the ' +\n",
              "            '<a target=\"_blank\" href=https://colab.research.google.com/notebooks/data_table.ipynb>data table notebook</a>'\n",
              "            + ' to learn more about interactive tables.';\n",
              "          element.innerHTML = '';\n",
              "          dataTable['output_type'] = 'display_data';\n",
              "          await google.colab.output.renderOutput(dataTable, element);\n",
              "          const docLink = document.createElement('div');\n",
              "          docLink.innerHTML = docLinkHtml;\n",
              "          element.appendChild(docLink);\n",
              "        }\n",
              "      </script>\n",
              "    </div>\n",
              "  </div>\n",
              "  "
            ]
          },
          "metadata": {},
          "execution_count": 44
        }
      ]
    },
    {
      "cell_type": "markdown",
      "metadata": {
        "id": "xpgoFdJcJKwp"
      },
      "source": [
        "EXAMPLE OF NOTES THAT YOU CAN ADD:\n",
        "\n",
        "Note:\n",
        "\n",
        "- The increased complexity does not appear to have improved the capability of the network.\n",
        "- It has, however, impacted the validation accuracy curve, which is now converging faster.\n",
        "- We will now address the current behavior to implement an early stopping mechanism."
      ]
    },
    {
      "cell_type": "markdown",
      "metadata": {
        "id": "PvIkA-QhWT7w"
      },
      "source": [
        "Check the following:\n",
        "- https://stackoverflow.com/questions/49017331/keras-flow-from-directorydirectory\n",
        "- https://studymachinelearning.com/keras-imagedatagenerator-with-flow_from_directory/"
      ]
    },
    {
      "cell_type": "markdown",
      "metadata": {
        "id": "1S5qxgwm1ABU"
      },
      "source": [
        "---------------------"
      ]
    },
    {
      "cell_type": "markdown",
      "metadata": {
        "id": "8D1McZOT6nEt"
      },
      "source": [
        "## 1.2.4 MODEL V04 - Training the model with Data Agmentation from keras (regularization and higher dropout) - Deeper model"
      ]
    },
    {
      "cell_type": "code",
      "execution_count": 45,
      "metadata": {
        "id": "gRZSHH8v76FP",
        "colab": {
          "base_uri": "https://localhost:8080/",
          "height": 300
        },
        "outputId": "9d914b50-c675-400d-fa13-4998e7c62bbb"
      },
      "outputs": [
        {
          "output_type": "display_data",
          "data": {
            "text/plain": [
              "<IPython.core.display.Javascript object>"
            ],
            "application/javascript": [
              "google.colab.output.setIframeHeight(0, true, {maxHeight: 300})"
            ]
          },
          "metadata": {}
        },
        {
          "output_type": "stream",
          "name": "stdout",
          "text": [
            "Model: \"model_5\"\n",
            "_________________________________________________________________\n",
            " Layer (type)                Output Shape              Param #   \n",
            "=================================================================\n",
            " input_6 (InputLayer)        [(None, 96, 96, 3)]       0         \n",
            "                                                                 \n",
            " conv2d_17 (Conv2D)          (None, 96, 96, 32)        896       \n",
            "                                                                 \n",
            " batch_normalization_13 (Bat  (None, 96, 96, 32)       128       \n",
            " chNormalization)                                                \n",
            "                                                                 \n",
            " activation_17 (Activation)  (None, 96, 96, 32)        0         \n",
            "                                                                 \n",
            " max_pooling2d_12 (MaxPoolin  (None, 32, 32, 32)       0         \n",
            " g2D)                                                            \n",
            "                                                                 \n",
            " conv2d_18 (Conv2D)          (None, 32, 32, 32)        9248      \n",
            "                                                                 \n",
            " batch_normalization_14 (Bat  (None, 32, 32, 32)       128       \n",
            " chNormalization)                                                \n",
            "                                                                 \n",
            " activation_18 (Activation)  (None, 32, 32, 32)        0         \n",
            "                                                                 \n",
            " max_pooling2d_13 (MaxPoolin  (None, 11, 11, 32)       0         \n",
            " g2D)                                                            \n",
            "                                                                 \n",
            " conv2d_19 (Conv2D)          (None, 11, 11, 64)        18496     \n",
            "                                                                 \n",
            " batch_normalization_15 (Bat  (None, 11, 11, 64)       256       \n",
            " chNormalization)                                                \n",
            "                                                                 \n",
            " activation_19 (Activation)  (None, 11, 11, 64)        0         \n",
            "                                                                 \n",
            " max_pooling2d_14 (MaxPoolin  (None, 4, 4, 64)         0         \n",
            " g2D)                                                            \n",
            "                                                                 \n",
            " conv2d_20 (Conv2D)          (None, 4, 4, 64)          36928     \n",
            "                                                                 \n",
            " batch_normalization_16 (Bat  (None, 4, 4, 64)         256       \n",
            " chNormalization)                                                \n",
            "                                                                 \n",
            " activation_20 (Activation)  (None, 4, 4, 64)          0         \n",
            "                                                                 \n",
            " max_pooling2d_15 (MaxPoolin  (None, 2, 2, 64)         0         \n",
            " g2D)                                                            \n",
            "                                                                 \n",
            " conv2d_21 (Conv2D)          (None, 2, 2, 128)         73856     \n",
            "                                                                 \n",
            " batch_normalization_17 (Bat  (None, 2, 2, 128)        512       \n",
            " chNormalization)                                                \n",
            "                                                                 \n",
            " activation_21 (Activation)  (None, 2, 2, 128)         0         \n",
            "                                                                 \n",
            " max_pooling2d_16 (MaxPoolin  (None, 1, 1, 128)        0         \n",
            " g2D)                                                            \n",
            "                                                                 \n",
            " conv2d_22 (Conv2D)          (None, 1, 1, 128)         147584    \n",
            "                                                                 \n",
            " batch_normalization_18 (Bat  (None, 1, 1, 128)        512       \n",
            " chNormalization)                                                \n",
            "                                                                 \n",
            " activation_22 (Activation)  (None, 1, 1, 128)         0         \n",
            "                                                                 \n",
            " max_pooling2d_17 (MaxPoolin  (None, 1, 1, 128)        0         \n",
            " g2D)                                                            \n",
            "                                                                 \n",
            " conv2d_23 (Conv2D)          (None, 1, 1, 512)         590336    \n",
            "                                                                 \n",
            " batch_normalization_19 (Bat  (None, 1, 1, 512)        2048      \n",
            " chNormalization)                                                \n",
            "                                                                 \n",
            " activation_23 (Activation)  (None, 1, 1, 512)         0         \n",
            "                                                                 \n",
            " global_max_pooling2d_5 (Glo  (None, 512)              0         \n",
            " balMaxPooling2D)                                                \n",
            "                                                                 \n",
            " flatten_2 (Flatten)         (None, 512)               0         \n",
            "                                                                 \n",
            " dense_8 (Dense)             (None, 512)               262656    \n",
            "                                                                 \n",
            " activation_24 (Activation)  (None, 512)               0         \n",
            "                                                                 \n",
            " dropout_2 (Dropout)         (None, 512)               0         \n",
            "                                                                 \n",
            " dense_9 (Dense)             (None, 512)               262656    \n",
            "                                                                 \n",
            " dense_10 (Dense)            (None, 10)                5130      \n",
            "                                                                 \n",
            "=================================================================\n",
            "Total params: 1,411,626\n",
            "Trainable params: 1,409,706\n",
            "Non-trainable params: 1,920\n",
            "_________________________________________________________________\n"
          ]
        }
      ],
      "source": [
        "# ARCHITECTURE FOUND AT: https://blog.keras.io/building-powerful-image-classification-models-using-very-little-data.html\n",
        "inputs = keras.Input((SIZE,SIZE,3))\n",
        "\n",
        "x = inputs\n",
        "\n",
        "x = keras.layers.Conv2D(32, 3, padding=\"same\", kernel_initializer=\"he_uniform\", kernel_regularizer=tf.keras.regularizers.l2(0.001))(x)\n",
        "x = keras.layers.BatchNormalization()(x)\n",
        "x = keras.layers.Activation(\"relu\")(x)\n",
        "x = keras.layers.MaxPooling2D(3, strides=3, padding=\"same\")(x)\n",
        "\n",
        "x = keras.layers.Conv2D(32, 3, padding=\"same\", kernel_initializer=\"he_uniform\", kernel_regularizer=tf.keras.regularizers.l2(0.001))(x)\n",
        "x = keras.layers.BatchNormalization()(x)\n",
        "x = keras.layers.Activation(\"relu\")(x)\n",
        "x = keras.layers.MaxPooling2D(3, strides=3, padding=\"same\")(x)\n",
        "\n",
        "x = keras.layers.Conv2D(64, 3, padding=\"same\", kernel_initializer=\"he_uniform\", kernel_regularizer=tf.keras.regularizers.l2(0.001))(x)\n",
        "x = keras.layers.BatchNormalization()(x)\n",
        "x = keras.layers.Activation(\"relu\")(x)\n",
        "x = keras.layers.MaxPooling2D(3, strides=3, padding=\"same\")(x)\n",
        "\n",
        "x = keras.layers.Conv2D(64, 3, padding=\"same\", kernel_initializer=\"he_uniform\", kernel_regularizer=tf.keras.regularizers.l2(0.001))(x)\n",
        "x = keras.layers.BatchNormalization()(x)\n",
        "x = keras.layers.Activation(\"relu\")(x)\n",
        "x = keras.layers.MaxPooling2D(3, strides=3, padding=\"same\")(x)\n",
        "\n",
        "x = keras.layers.Conv2D(128, 3, padding=\"same\", kernel_initializer=\"he_uniform\", kernel_regularizer=tf.keras.regularizers.l2(0.001))(x)\n",
        "x = keras.layers.BatchNormalization()(x)\n",
        "x = keras.layers.Activation(\"relu\")(x)\n",
        "x = keras.layers.MaxPooling2D(3, strides=3, padding=\"same\")(x)\n",
        "\n",
        "x = keras.layers.Conv2D(128, 3, padding=\"same\", kernel_initializer=\"he_uniform\", kernel_regularizer=tf.keras.regularizers.l2(0.001))(x)\n",
        "x = keras.layers.BatchNormalization()(x)\n",
        "x = keras.layers.Activation(\"relu\")(x)\n",
        "x = keras.layers.MaxPooling2D(3, strides=3, padding=\"same\")(x)\n",
        "\n",
        "x = keras.layers.Conv2D(512, 3, padding=\"same\", kernel_initializer=\"he_uniform\", kernel_regularizer=tf.keras.regularizers.l2(0.001))(x)\n",
        "x = keras.layers.BatchNormalization()(x)\n",
        "x = keras.layers.Activation(\"relu\")(x)\n",
        "x = keras.layers.GlobalMaxPooling2D()(x)\n",
        "\n",
        "# the model so far outputs 3D feature maps (height, width, features)\n",
        "\n",
        "# FLATTEN AND ADD DROPOUT\n",
        "x = tf.keras.layers.Flatten()(x) # this converts our 3D feature maps to 1D feature vectors\n",
        "x = keras.layers.Dense(512, activation=\"relu\", kernel_regularizer=tf.keras.regularizers.l2(0.001))(x)\n",
        "x = keras.layers.Activation(\"relu\")(x)\n",
        "x = keras.layers.Dropout(.20)(x)\n",
        "x = keras.layers.Dense(512, activation=\"relu\", kernel_regularizer=tf.keras.regularizers.l2(0.001))(x)\n",
        "\n",
        "outputs = keras.layers.Dense(num_classes, activation=\"softmax\", kernel_regularizer=tf.keras.regularizers.l2(0.001))(x)\n",
        "\n",
        "net_modelv04 = keras.Model(inputs, outputs)\n",
        "\n",
        "net_modelv04.summary()"
      ]
    },
    {
      "cell_type": "markdown",
      "source": [
        "<figure>\n",
        "<center>\n",
        "<img src='https://drive.google.com/uc?export=view&id=1Zwvj-ZS4q82tea6xj7WHNNqhw_uOzd5U' />\n",
        "<figcaption>Architecture ModelV03</figcaption></center>\n",
        "</figure>"
      ],
      "metadata": {
        "id": "QHADEKR93_wt"
      }
    },
    {
      "cell_type": "code",
      "execution_count": 46,
      "metadata": {
        "id": "JcGjJzW16rbb",
        "colab": {
          "base_uri": "https://localhost:8080/",
          "height": 17
        },
        "outputId": "3327e606-16cc-434d-d11d-6c941af68eaf"
      },
      "outputs": [
        {
          "output_type": "display_data",
          "data": {
            "text/plain": [
              "<IPython.core.display.Javascript object>"
            ],
            "application/javascript": [
              "google.colab.output.setIframeHeight(0, true, {maxHeight: 300})"
            ]
          },
          "metadata": {}
        }
      ],
      "source": [
        "net_modelv04.compile(loss=keras.losses.categorical_crossentropy,\n",
        "            optimizer= keras.optimizers.Adam(learning_rate=0.0001),\n",
        "            metrics=['accuracy'])"
      ]
    },
    {
      "cell_type": "code",
      "execution_count": 47,
      "metadata": {
        "colab": {
          "base_uri": "https://localhost:8080/",
          "height": 300
        },
        "id": "zj50d9Ea6sCU",
        "outputId": "82d6eb2d-1c76-478f-f465-f1271fff272b"
      },
      "outputs": [
        {
          "output_type": "display_data",
          "data": {
            "text/plain": [
              "<IPython.core.display.Javascript object>"
            ],
            "application/javascript": [
              "google.colab.output.setIframeHeight(0, true, {maxHeight: 300})"
            ]
          },
          "metadata": {}
        },
        {
          "output_type": "stream",
          "name": "stdout",
          "text": [
            "Epoch 1/50\n",
            "187/187 [==============================] - 18s 87ms/step - loss: 4.3858 - accuracy: 0.3752 - val_loss: 4.5087 - val_accuracy: 0.1094\n",
            "Epoch 2/50\n",
            "187/187 [==============================] - 16s 84ms/step - loss: 3.4510 - accuracy: 0.5284 - val_loss: 3.7645 - val_accuracy: 0.3672\n",
            "Epoch 3/50\n",
            "187/187 [==============================] - 17s 89ms/step - loss: 3.0286 - accuracy: 0.5997 - val_loss: 3.4219 - val_accuracy: 0.4453\n",
            "Epoch 4/50\n",
            "187/187 [==============================] - 16s 84ms/step - loss: 2.8168 - accuracy: 0.6402 - val_loss: 3.4943 - val_accuracy: 0.3906\n",
            "Epoch 5/50\n",
            "187/187 [==============================] - 16s 84ms/step - loss: 2.6481 - accuracy: 0.6857 - val_loss: 3.4253 - val_accuracy: 0.4453\n",
            "Epoch 6/50\n",
            "187/187 [==============================] - 16s 84ms/step - loss: 2.5365 - accuracy: 0.7075 - val_loss: 3.2187 - val_accuracy: 0.4609\n",
            "Epoch 7/50\n",
            "187/187 [==============================] - 16s 84ms/step - loss: 2.4471 - accuracy: 0.7279 - val_loss: 3.2284 - val_accuracy: 0.4844\n",
            "Epoch 8/50\n",
            "187/187 [==============================] - 16s 84ms/step - loss: 2.3849 - accuracy: 0.7480 - val_loss: 3.3924 - val_accuracy: 0.4688\n",
            "Epoch 9/50\n",
            "187/187 [==============================] - 16s 83ms/step - loss: 2.3292 - accuracy: 0.7520 - val_loss: 2.9472 - val_accuracy: 0.5469\n",
            "Epoch 10/50\n",
            "187/187 [==============================] - 16s 83ms/step - loss: 2.2538 - accuracy: 0.7771 - val_loss: 3.0466 - val_accuracy: 0.5547\n",
            "Epoch 11/50\n",
            "187/187 [==============================] - 16s 84ms/step - loss: 2.1908 - accuracy: 0.7888 - val_loss: 3.3371 - val_accuracy: 0.5625\n",
            "Epoch 12/50\n",
            "187/187 [==============================] - 17s 90ms/step - loss: 2.1506 - accuracy: 0.8066 - val_loss: 3.1533 - val_accuracy: 0.5000\n",
            "Epoch 13/50\n",
            "187/187 [==============================] - 16s 86ms/step - loss: 2.0999 - accuracy: 0.8169 - val_loss: 2.9690 - val_accuracy: 0.5547\n",
            "Epoch 14/50\n",
            "187/187 [==============================] - 16s 84ms/step - loss: 2.0322 - accuracy: 0.8310 - val_loss: 3.0733 - val_accuracy: 0.5859\n",
            "Epoch 15/50\n",
            "187/187 [==============================] - 16s 84ms/step - loss: 2.0134 - accuracy: 0.8310 - val_loss: 3.0364 - val_accuracy: 0.5469\n",
            "Epoch 16/50\n",
            "187/187 [==============================] - 16s 86ms/step - loss: 1.9862 - accuracy: 0.8260 - val_loss: 2.8624 - val_accuracy: 0.5625\n",
            "Epoch 17/50\n",
            "187/187 [==============================] - 16s 84ms/step - loss: 1.9252 - accuracy: 0.8521 - val_loss: 2.9102 - val_accuracy: 0.6094\n",
            "Epoch 18/50\n",
            "187/187 [==============================] - 16s 84ms/step - loss: 1.8703 - accuracy: 0.8571 - val_loss: 2.9932 - val_accuracy: 0.6172\n",
            "Epoch 19/50\n",
            "187/187 [==============================] - 16s 83ms/step - loss: 1.8740 - accuracy: 0.8514 - val_loss: 2.8012 - val_accuracy: 0.6172\n",
            "Epoch 20/50\n",
            "187/187 [==============================] - 16s 86ms/step - loss: 1.7882 - accuracy: 0.8782 - val_loss: 2.8131 - val_accuracy: 0.6328\n",
            "Epoch 21/50\n",
            "187/187 [==============================] - 16s 84ms/step - loss: 1.8139 - accuracy: 0.8611 - val_loss: 2.7757 - val_accuracy: 0.5781\n",
            "Epoch 22/50\n",
            "187/187 [==============================] - 16s 88ms/step - loss: 1.7853 - accuracy: 0.8671 - val_loss: 2.7464 - val_accuracy: 0.6016\n",
            "Epoch 23/50\n",
            "187/187 [==============================] - 16s 84ms/step - loss: 1.7339 - accuracy: 0.8795 - val_loss: 2.7423 - val_accuracy: 0.6094\n",
            "Epoch 24/50\n",
            "187/187 [==============================] - 16s 84ms/step - loss: 1.7117 - accuracy: 0.8892 - val_loss: 2.7186 - val_accuracy: 0.5859\n",
            "Epoch 25/50\n",
            "187/187 [==============================] - 16s 85ms/step - loss: 1.7100 - accuracy: 0.8802 - val_loss: 2.6273 - val_accuracy: 0.6172\n",
            "Epoch 26/50\n",
            "187/187 [==============================] - 16s 83ms/step - loss: 1.6457 - accuracy: 0.8909 - val_loss: 2.8297 - val_accuracy: 0.5625\n",
            "Epoch 27/50\n",
            "187/187 [==============================] - 16s 85ms/step - loss: 1.6246 - accuracy: 0.8979 - val_loss: 2.7144 - val_accuracy: 0.5703\n",
            "Epoch 28/50\n",
            "187/187 [==============================] - 16s 86ms/step - loss: 1.6157 - accuracy: 0.8896 - val_loss: 2.6749 - val_accuracy: 0.5859\n",
            "Epoch 29/50\n",
            "187/187 [==============================] - 16s 85ms/step - loss: 1.5968 - accuracy: 0.8979 - val_loss: 2.4872 - val_accuracy: 0.6250\n",
            "Epoch 30/50\n",
            "187/187 [==============================] - 16s 86ms/step - loss: 1.5809 - accuracy: 0.8899 - val_loss: 2.8138 - val_accuracy: 0.5625\n",
            "Epoch 31/50\n",
            "187/187 [==============================] - 16s 84ms/step - loss: 1.5372 - accuracy: 0.9039 - val_loss: 2.6761 - val_accuracy: 0.6484\n",
            "Epoch 32/50\n",
            "187/187 [==============================] - 17s 90ms/step - loss: 1.5284 - accuracy: 0.8993 - val_loss: 2.5763 - val_accuracy: 0.6328\n",
            "Epoch 33/50\n",
            "187/187 [==============================] - 16s 83ms/step - loss: 1.4822 - accuracy: 0.9106 - val_loss: 3.1612 - val_accuracy: 0.5078\n",
            "Epoch 34/50\n",
            "187/187 [==============================] - 16s 84ms/step - loss: 1.4844 - accuracy: 0.9093 - val_loss: 2.8379 - val_accuracy: 0.6016\n",
            "Epoch 35/50\n",
            "187/187 [==============================] - 16s 85ms/step - loss: 1.4592 - accuracy: 0.9116 - val_loss: 2.7388 - val_accuracy: 0.6328\n",
            "Epoch 36/50\n",
            "187/187 [==============================] - 16s 86ms/step - loss: 1.4412 - accuracy: 0.9100 - val_loss: 2.5393 - val_accuracy: 0.6406\n",
            "Epoch 37/50\n",
            "187/187 [==============================] - 16s 87ms/step - loss: 1.4189 - accuracy: 0.9160 - val_loss: 2.8300 - val_accuracy: 0.6250\n",
            "Epoch 38/50\n",
            "187/187 [==============================] - 16s 86ms/step - loss: 1.4183 - accuracy: 0.9106 - val_loss: 2.6086 - val_accuracy: 0.6953\n",
            "Epoch 39/50\n",
            "187/187 [==============================] - 16s 87ms/step - loss: 1.3759 - accuracy: 0.9220 - val_loss: 2.7765 - val_accuracy: 0.6406\n",
            "Epoch 40/50\n",
            "187/187 [==============================] - 16s 86ms/step - loss: 1.3849 - accuracy: 0.9130 - val_loss: 2.8123 - val_accuracy: 0.6406\n",
            "Epoch 41/50\n",
            "187/187 [==============================] - 17s 92ms/step - loss: 1.3373 - accuracy: 0.9257 - val_loss: 2.5716 - val_accuracy: 0.6328\n",
            "Epoch 42/50\n",
            "187/187 [==============================] - 16s 87ms/step - loss: 1.3387 - accuracy: 0.9183 - val_loss: 2.2954 - val_accuracy: 0.6719\n",
            "Epoch 43/50\n",
            "187/187 [==============================] - 16s 85ms/step - loss: 1.3076 - accuracy: 0.9280 - val_loss: 2.3348 - val_accuracy: 0.6719\n",
            "Epoch 44/50\n",
            "187/187 [==============================] - 16s 86ms/step - loss: 1.2701 - accuracy: 0.9361 - val_loss: 2.5975 - val_accuracy: 0.6250\n",
            "Epoch 45/50\n",
            "187/187 [==============================] - 16s 86ms/step - loss: 1.2748 - accuracy: 0.9277 - val_loss: 2.2800 - val_accuracy: 0.7109\n",
            "Epoch 46/50\n",
            "187/187 [==============================] - 15s 82ms/step - loss: 1.2607 - accuracy: 0.9287 - val_loss: 2.3617 - val_accuracy: 0.6875\n",
            "Epoch 47/50\n",
            "187/187 [==============================] - 16s 84ms/step - loss: 1.2659 - accuracy: 0.9240 - val_loss: 2.4159 - val_accuracy: 0.6484\n",
            "Epoch 48/50\n",
            "187/187 [==============================] - 16s 83ms/step - loss: 1.2406 - accuracy: 0.9277 - val_loss: 2.2540 - val_accuracy: 0.6875\n",
            "Epoch 49/50\n",
            "187/187 [==============================] - 16s 83ms/step - loss: 1.2132 - accuracy: 0.9347 - val_loss: 2.2388 - val_accuracy: 0.6875\n",
            "Epoch 50/50\n",
            "187/187 [==============================] - 16s 84ms/step - loss: 1.1976 - accuracy: 0.9367 - val_loss: 2.6385 - val_accuracy: 0.6250\n",
            "Total execution time with PCA is:  0:14:54.412495\n"
          ]
        }
      ],
      "source": [
        "# START COUNTING THE TIME\n",
        "start = datetime.datetime.now()\n",
        "\n",
        "history_modelv04 = net_modelv04.fit(\n",
        "    train_generator,\n",
        "    steps_per_epoch = train_generator.n // train_generator.batch_size,\n",
        "    epochs=50,\n",
        "    validation_data = test_generator,\n",
        "    validation_steps = test_generator.n // test_generator.batch_size,\n",
        "    callbacks = [callback])\n",
        "\n",
        "# STOP COUNTING THE TIME\n",
        "end = datetime.datetime.now()\n",
        "print(\"Total execution time with PCA is: \", end-start)\n",
        "\n",
        "# model_keras.save_weights('first_try.h5')  # always save your weights after training or during training"
      ]
    },
    {
      "cell_type": "code",
      "execution_count": 48,
      "metadata": {
        "id": "q1EWO0nLMNTi",
        "colab": {
          "base_uri": "https://localhost:8080/",
          "height": 300
        },
        "outputId": "46ba920c-c7a5-4a7e-d37d-8a5053060b31"
      },
      "outputs": [
        {
          "output_type": "display_data",
          "data": {
            "text/plain": [
              "<IPython.core.display.Javascript object>"
            ],
            "application/javascript": [
              "google.colab.output.setIframeHeight(0, true, {maxHeight: 300})"
            ]
          },
          "metadata": {}
        },
        {
          "output_type": "execute_result",
          "data": {
            "text/plain": [
              "<matplotlib.legend.Legend at 0x7f5550258f70>"
            ]
          },
          "metadata": {},
          "execution_count": 48
        },
        {
          "output_type": "display_data",
          "data": {
            "text/plain": [
              "<Figure size 1080x432 with 2 Axes>"
            ],
            "image/png": "[encoded data removed]"
          },
          "metadata": {
            "needs_background": "light"
          }
        }
      ],
      "source": [
        "# PLOT THEM TOGETHER\n",
        "# Visualization of the learning curves\n",
        "plt.figure(figsize=(15,6))\n",
        "\n",
        "# VISUALIZZIAMO NUOVAMENTE L'OUTPUT IN TERMINI DI LOSS FUNCTION\n",
        "plt.subplot(1, 2, 1)\n",
        "plt.plot(history_modelv04.history['loss'])\n",
        "plt.plot(history_modelv04.history['val_loss'])\n",
        "plt.ylim([0.0, 4.0]) # è difficile da dire a priori\n",
        "plt.xlabel('Epoch')\n",
        "plt.ylabel('Loss')\n",
        "plt.legend(['train', 'valid'])\n",
        "\n",
        "plt.subplot(1, 2, 2)\n",
        "plt.plot(history_modelv04.history['accuracy'])\n",
        "plt.plot(history_modelv04.history['val_accuracy'])\n",
        "plt.ylim([0.0, 1.0]) # 0.5 è il minimo sindacale - dummy classifier fa 50% - fino al massimo 1. \n",
        "plt.xlabel('Epoch')\n",
        "plt.ylabel('Accuracy')\n",
        "plt.legend(['train', 'valid'])"
      ]
    },
    {
      "cell_type": "markdown",
      "source": [
        "### Performance results Model V04"
      ],
      "metadata": {
        "id": "s7oyHL5h6hfz"
      }
    },
    {
      "cell_type": "code",
      "source": [
        "# SAVE THE TIME NEEDED TO RUN THE ALGORITHM\n",
        "time_duration_modelV04 = end - start\n",
        "print(time_duration_modelV04)"
      ],
      "metadata": {
        "id": "1AYJEz5Jc8Kq",
        "colab": {
          "base_uri": "https://localhost:8080/",
          "height": 35
        },
        "outputId": "806e4489-65eb-4d67-b339-c855beb7f1ce"
      },
      "execution_count": 49,
      "outputs": [
        {
          "output_type": "display_data",
          "data": {
            "text/plain": [
              "<IPython.core.display.Javascript object>"
            ],
            "application/javascript": [
              "google.colab.output.setIframeHeight(0, true, {maxHeight: 300})"
            ]
          },
          "metadata": {}
        },
        {
          "output_type": "stream",
          "name": "stdout",
          "text": [
            "0:14:54.412495\n"
          ]
        }
      ]
    },
    {
      "cell_type": "code",
      "source": [
        "# GET THE MINIMUM ACCURACY, THE MAXIMUM ACCURACY, THE MINIMUM LOSS, THE MAXIMUM LOSS AND SAVE THEM IN VARIABLES.\n",
        "# THEN CREATE A DATAFRAME AT THE END WHERE YOU CAN COMPARE DIFFERENT MODELS WITH IT!\n",
        "\n",
        "# LOSS/VAL LOSS\n",
        "modelV04_minLoss = min(history_modelv04.history['loss'])\n",
        "modelV04_maxLoss = max(history_modelv04.history['loss'])\n",
        "modelV04_minValLoss = min(history_modelv04.history['val_loss'])\n",
        "modelV04_maxValLoss = max(history_modelv04.history['val_loss'])\n",
        "\n",
        "# ACCURACY/VAL ACCURACY\n",
        "modelV04_minAccuracy = min(history_modelv04.history['accuracy'])\n",
        "modelV04_maxAccuracy = max(history_modelv04.history['accuracy'])\n",
        "modelV04_minValAccuracy = min(history_modelv04.history['val_accuracy'])\n",
        "modelV04_maxValAccuracy = max(history_modelv04.history['val_accuracy'])\n",
        "\n",
        "# CREATE THE DATAFRAME\n",
        "modelV04_loss_accuracy = pd.DataFrame({\"minLoss\": [modelV04_minLoss],\n",
        "                                       \"maxloss\": [modelV04_maxLoss],\n",
        "                                       \"minValLoss\": [modelV04_minValLoss],\n",
        "                                       \"maxValLoss\": [modelV04_maxValLoss],\n",
        "                                       \"minAccuracy\": [modelV04_minAccuracy],\n",
        "                                       \"maxAccuracy\": [modelV04_maxAccuracy],\n",
        "                                       \"minValAccuracy\": [modelV04_minValAccuracy],\n",
        "                                       \"maxValAccuracy\": [modelV04_maxValAccuracy]}).T\n",
        "\n",
        "# CHANGE THE FIRST COLUMN NAME\n",
        "modelV04_loss_accuracy = modelV04_loss_accuracy.rename(columns={0: 'modelV04'})\n",
        "# CHANGE THE INDEX NAME\n",
        "modelV04_loss_accuracy.index.names = ['Performance']\n",
        "modelV04_loss_accuracy"
      ],
      "metadata": {
        "colab": {
          "base_uri": "https://localhost:8080/",
          "height": 300
        },
        "id": "dc2i5Z8NqYbx",
        "outputId": "ffb43bb8-0e0a-44eb-83de-76728ac97ffa"
      },
      "execution_count": 50,
      "outputs": [
        {
          "output_type": "display_data",
          "data": {
            "text/plain": [
              "<IPython.core.display.Javascript object>"
            ],
            "application/javascript": [
              "google.colab.output.setIframeHeight(0, true, {maxHeight: 300})"
            ]
          },
          "metadata": {}
        },
        {
          "output_type": "execute_result",
          "data": {
            "text/plain": [
              "                modelV04\n",
              "Performance             \n",
              "minLoss         1.197597\n",
              "maxloss         4.385833\n",
              "minValLoss      2.238805\n",
              "maxValLoss      4.508698\n",
              "minAccuracy     0.375167\n",
              "maxAccuracy     0.936747\n",
              "minValAccuracy  0.109375\n",
              "maxValAccuracy  0.710938"
            ],
            "text/html": [
              "\n",
              "  <div id=\"df-078b162a-e646-4f49-bde9-2baecbf8fabf\">\n",
              "    <div class=\"colab-df-container\">\n",
              "      <div>\n",
              "<style scoped>\n",
              "    .dataframe tbody tr th:only-of-type {\n",
              "        vertical-align: middle;\n",
              "    }\n",
              "\n",
              "    .dataframe tbody tr th {\n",
              "        vertical-align: top;\n",
              "    }\n",
              "\n",
              "    .dataframe thead th {\n",
              "        text-align: right;\n",
              "    }\n",
              "</style>\n",
              "<table border=\"1\" class=\"dataframe\">\n",
              "  <thead>\n",
              "    <tr style=\"text-align: right;\">\n",
              "      <th></th>\n",
              "      <th>modelV04</th>\n",
              "    </tr>\n",
              "    <tr>\n",
              "      <th>Performance</th>\n",
              "      <th></th>\n",
              "    </tr>\n",
              "  </thead>\n",
              "  <tbody>\n",
              "    <tr>\n",
              "      <th>minLoss</th>\n",
              "      <td>1.197597</td>\n",
              "    </tr>\n",
              "    <tr>\n",
              "      <th>maxloss</th>\n",
              "      <td>4.385833</td>\n",
              "    </tr>\n",
              "    <tr>\n",
              "      <th>minValLoss</th>\n",
              "      <td>2.238805</td>\n",
              "    </tr>\n",
              "    <tr>\n",
              "      <th>maxValLoss</th>\n",
              "      <td>4.508698</td>\n",
              "    </tr>\n",
              "    <tr>\n",
              "      <th>minAccuracy</th>\n",
              "      <td>0.375167</td>\n",
              "    </tr>\n",
              "    <tr>\n",
              "      <th>maxAccuracy</th>\n",
              "      <td>0.936747</td>\n",
              "    </tr>\n",
              "    <tr>\n",
              "      <th>minValAccuracy</th>\n",
              "      <td>0.109375</td>\n",
              "    </tr>\n",
              "    <tr>\n",
              "      <th>maxValAccuracy</th>\n",
              "      <td>0.710938</td>\n",
              "    </tr>\n",
              "  </tbody>\n",
              "</table>\n",
              "</div>\n",
              "      <button class=\"colab-df-convert\" onclick=\"convertToInteractive('df-078b162a-e646-4f49-bde9-2baecbf8fabf')\"\n",
              "              title=\"Convert this dataframe to an interactive table.\"\n",
              "              style=\"display:none;\">\n",
              "        \n",
              "  <svg xmlns=\"http://www.w3.org/2000/svg\" height=\"24px\"viewBox=\"0 0 24 24\"\n",
              "       width=\"24px\">\n",
              "    <path d=\"M0 0h24v24H0V0z\" fill=\"none\"/>\n",
              "    <path d=\"M18.56 5.44l.94 2.06.94-2.06 2.06-.94-2.06-.94-.94-2.06-.94 2.06-2.06.94zm-11 1L8.5 8.5l.94-2.06 2.06-.94-2.06-.94L8.5 2.5l-.94 2.06-2.06.94zm10 10l.94 2.06.94-2.06 2.06-.94-2.06-.94-.94-2.06-.94 2.06-2.06.94z\"/><path d=\"M17.41 7.96l-1.37-1.37c-.4-.4-.92-.59-1.43-.59-.52 0-1.04.2-1.43.59L10.3 9.45l-7.72 7.72c-.78.78-.78 2.05 0 2.83L4 21.41c.39.39.9.59 1.41.59.51 0 1.02-.2 1.41-.59l7.78-7.78 2.81-2.81c.8-.78.8-2.07 0-2.86zM5.41 20L4 18.59l7.72-7.72 1.47 1.35L5.41 20z\"/>\n",
              "  </svg>\n",
              "      </button>\n",
              "      \n",
              "  <style>\n",
              "    .colab-df-container {\n",
              "      display:flex;\n",
              "      flex-wrap:wrap;\n",
              "      gap: 12px;\n",
              "    }\n",
              "\n",
              "    .colab-df-convert {\n",
              "      background-color: #E8F0FE;\n",
              "      border: none;\n",
              "      border-radius: 50%;\n",
              "      cursor: pointer;\n",
              "      display: none;\n",
              "      fill: #1967D2;\n",
              "      height: 32px;\n",
              "      padding: 0 0 0 0;\n",
              "      width: 32px;\n",
              "    }\n",
              "\n",
              "    .colab-df-convert:hover {\n",
              "      background-color: #E2EBFA;\n",
              "      box-shadow: 0px 1px 2px rgba(60, 64, 67, 0.3), 0px 1px 3px 1px rgba(60, 64, 67, 0.15);\n",
              "      fill: #174EA6;\n",
              "    }\n",
              "\n",
              "    [theme=dark] .colab-df-convert {\n",
              "      background-color: #3B4455;\n",
              "      fill: #D2E3FC;\n",
              "    }\n",
              "\n",
              "    [theme=dark] .colab-df-convert:hover {\n",
              "      background-color: #434B5C;\n",
              "      box-shadow: 0px 1px 3px 1px rgba(0, 0, 0, 0.15);\n",
              "      filter: drop-shadow(0px 1px 2px rgba(0, 0, 0, 0.3));\n",
              "      fill: #FFFFFF;\n",
              "    }\n",
              "  </style>\n",
              "\n",
              "      <script>\n",
              "        const buttonEl =\n",
              "          document.querySelector('#df-078b162a-e646-4f49-bde9-2baecbf8fabf button.colab-df-convert');\n",
              "        buttonEl.style.display =\n",
              "          google.colab.kernel.accessAllowed ? 'block' : 'none';\n",
              "\n",
              "        async function convertToInteractive(key) {\n",
              "          const element = document.querySelector('#df-078b162a-e646-4f49-bde9-2baecbf8fabf');\n",
              "          const dataTable =\n",
              "            await google.colab.kernel.invokeFunction('convertToInteractive',\n",
              "                                                     [key], {});\n",
              "          if (!dataTable) return;\n",
              "\n",
              "          const docLinkHtml = 'Like what you see? Visit the ' +\n",
              "            '<a target=\"_blank\" href=https://colab.research.google.com/notebooks/data_table.ipynb>data table notebook</a>'\n",
              "            + ' to learn more about interactive tables.';\n",
              "          element.innerHTML = '';\n",
              "          dataTable['output_type'] = 'display_data';\n",
              "          await google.colab.output.renderOutput(dataTable, element);\n",
              "          const docLink = document.createElement('div');\n",
              "          docLink.innerHTML = docLinkHtml;\n",
              "          element.appendChild(docLink);\n",
              "        }\n",
              "      </script>\n",
              "    </div>\n",
              "  </div>\n",
              "  "
            ]
          },
          "metadata": {},
          "execution_count": 50
        }
      ]
    },
    {
      "cell_type": "markdown",
      "metadata": {
        "id": "Ju16ckfof-LB"
      },
      "source": [
        "## 1.2.5 Model V05 - GRIDSEARCH"
      ]
    },
    {
      "cell_type": "markdown",
      "source": [
        "Ottima spiegazione:\n",
        "\n",
        "- https://stackoverflow.com/questions/49160206/does-gridsearchcv-perform-cross-validation\n",
        "\n",
        "- https://machinelearningmastery.com/dropout-regularization-deep-learning-models-keras/#:~:text=Using%20Dropout%20on%20Hidden%20Layers,layer%20and%20the%20output%20layer."
      ],
      "metadata": {
        "id": "jjqsxoZAkpEU"
      }
    },
    {
      "cell_type": "markdown",
      "metadata": {
        "id": "kLwUBkU15aKq"
      },
      "source": [
        "### Parameters tuning"
      ]
    },
    {
      "cell_type": "code",
      "execution_count": 12,
      "metadata": {
        "id": "BELXoc4S_XAJ",
        "colab": {
          "base_uri": "https://localhost:8080/",
          "height": 35
        },
        "outputId": "db627546-e4ad-4de8-8778-a7399f5b8f0f"
      },
      "outputs": [
        {
          "output_type": "display_data",
          "data": {
            "text/plain": [
              "<IPython.core.display.Javascript object>"
            ],
            "application/javascript": [
              "google.colab.output.setIframeHeight(0, true, {maxHeight: 300})"
            ]
          },
          "metadata": {}
        },
        {
          "output_type": "stream",
          "name": "stdout",
          "text": [
            "Found 3004 images belonging to 10 classes.\n"
          ]
        }
      ],
      "source": [
        "# USE THE FLOW FROM DIRECTORY ONLY FOR THE TRAIN BECAUSE THE GRIDSEARCHCV METHOD\n",
        "# WILL CREATE ITS OWN TEST SET\n",
        "itr = train_datagen.flow_from_directory(\n",
        "    base_path_train,\n",
        "    target_size=(SIZE,SIZE),\n",
        "    batch_size=1803, # you flow through the entire training dataset and get all the images, using just one batch size!\n",
        "    class_mode='categorical')\n",
        "\n",
        "X, y = itr.next()"
      ]
    },
    {
      "cell_type": "markdown",
      "metadata": {
        "id": "wboKoJY9BsOP"
      },
      "source": [
        "- https://stackoverflow.com/questions/42284873/assign-imagedatagenerator-result-to-numpy-array"
      ]
    },
    {
      "cell_type": "markdown",
      "source": [
        "**mantain this function in the same way as it is. the other architectures are ok like you have already done!**"
      ],
      "metadata": {
        "id": "MWl0D0JW7C2h"
      }
    },
    {
      "cell_type": "code",
      "source": [
        "def create_GSCV_model(lr= 0.1, \n",
        "                      init_mode=\"he_uniform\", \n",
        "                      activation = 'relu', \n",
        "                      dropout_rate= 0.0, \n",
        "                      optimizer = 'Adam'):\n",
        "  \n",
        "  model_gridsearchCV = tf.keras.models.Sequential([\n",
        "  keras.Input((SIZE, SIZE, 3)),\n",
        "\n",
        "  # 1st Conv Block\n",
        "  keras.layers.Conv2D(32, 3, padding=\"same\", kernel_initializer=\"he_uniform\", kernel_regularizer=tf.keras.regularizers.l2(0.001)),\n",
        "  keras.layers.BatchNormalization(),\n",
        "  keras.layers.Activation('relu'),\n",
        "  keras.layers.MaxPooling2D(3, strides=3, padding=\"same\"),\n",
        "\n",
        "  # 2nd Conv Block\n",
        "  keras.layers.Conv2D(32, 3, padding=\"same\", kernel_initializer=\"he_uniform\", kernel_regularizer=tf.keras.regularizers.l2(0.001)),\n",
        "  keras.layers.BatchNormalization(),\n",
        "  keras.layers.Activation('relu'),\n",
        "  keras.layers.MaxPooling2D(3, strides=3, padding=\"same\"),\n",
        "\n",
        "  # 3rd Conv block\n",
        "  keras.layers.Conv2D(64, 3, padding=\"same\", kernel_initializer=\"he_uniform\", kernel_regularizer=tf.keras.regularizers.l2(0.001)),\n",
        "  keras.layers.BatchNormalization(),\n",
        "  keras.layers.Activation('relu'),\n",
        "  keras.layers.MaxPooling2D(3, strides=3, padding=\"same\"),\n",
        "\n",
        "  # 4rd Conv block\n",
        "  keras.layers.Conv2D(64, 3, padding=\"same\", kernel_initializer=\"he_uniform\", kernel_regularizer=tf.keras.regularizers.l2(0.001)),\n",
        "  keras.layers.BatchNormalization(),\n",
        "  keras.layers.Activation('relu'),\n",
        "  keras.layers.MaxPooling2D(3, strides=3, padding=\"same\"),\n",
        "\n",
        "  # 5th Conv block\n",
        "  keras.layers.Conv2D(128, 3, padding=\"same\", kernel_initializer=\"he_uniform\", kernel_regularizer=tf.keras.regularizers.l2(0.001)),\n",
        "  keras.layers.BatchNormalization(),\n",
        "  keras.layers.Activation('relu'),\n",
        "  keras.layers.MaxPooling2D(3, strides=3, padding=\"same\"),\n",
        "\n",
        "  # 6th Conv block\n",
        "  keras.layers.Conv2D(128, 3, padding=\"same\", kernel_initializer=\"he_uniform\", kernel_regularizer=tf.keras.regularizers.l2(0.001)),\n",
        "  keras.layers.BatchNormalization(),\n",
        "  keras.layers.Activation('relu'),\n",
        "  keras.layers.MaxPooling2D(3, strides=3, padding=\"same\"),\n",
        "\n",
        "  # 7th Conv block\n",
        "  keras.layers.Conv2D(512, 3, padding=\"same\", kernel_initializer=\"he_uniform\", kernel_regularizer=tf.keras.regularizers.l2(0.001)),\n",
        "  keras.layers.BatchNormalization(),\n",
        "  keras.layers.Activation('relu'),\n",
        "\n",
        "  # the model so far outputs 3D feature maps (height, width, features)\n",
        "\n",
        "  # FLATTEN AND ADD DROPOUT\n",
        "  keras.layers.Flatten(), # this converts our 3D feature maps to 1D feature vectors\n",
        "  keras.layers.Dropout(0.20),\n",
        "  keras.layers.Dense(512, activation='relu', kernel_regularizer=tf.keras.regularizers.l2(0.001)),\n",
        "  keras.layers.Dense(512, activation='relu', kernel_regularizer=tf.keras.regularizers.l2(0.001)),\n",
        "\n",
        "  keras.layers.Dense(num_classes, activation=\"softmax\", kernel_regularizer=tf.keras.regularizers.l2(0.001))\n",
        "  ])\n",
        "\n",
        "  # COMPILE THE MODEL\n",
        "  model_gridsearchCV.compile(loss=keras.losses.categorical_crossentropy,\n",
        "                             optimizer= keras.optimizers.Adam(learning_rate=lr),\n",
        "                             metrics=['accuracy'],\n",
        "                             steps_per_execution=5)\n",
        "\n",
        "  return model_gridsearchCV\n",
        "\n",
        "create_GSCV_model().summary()"
      ],
      "metadata": {
        "id": "3iz4m59_Sn1z",
        "colab": {
          "base_uri": "https://localhost:8080/",
          "height": 300
        },
        "outputId": "177e1d54-78fd-4c20-c72a-5c80b0666b02"
      },
      "execution_count": 13,
      "outputs": [
        {
          "output_type": "display_data",
          "data": {
            "text/plain": [
              "<IPython.core.display.Javascript object>"
            ],
            "application/javascript": [
              "google.colab.output.setIframeHeight(0, true, {maxHeight: 300})"
            ]
          },
          "metadata": {}
        },
        {
          "output_type": "stream",
          "name": "stdout",
          "text": [
            "Model: \"sequential\"\n",
            "_________________________________________________________________\n",
            " Layer (type)                Output Shape              Param #   \n",
            "=================================================================\n",
            " conv2d (Conv2D)             (None, 96, 96, 32)        896       \n",
            "                                                                 \n",
            " batch_normalization (BatchN  (None, 96, 96, 32)       128       \n",
            " ormalization)                                                   \n",
            "                                                                 \n",
            " activation (Activation)     (None, 96, 96, 32)        0         \n",
            "                                                                 \n",
            " max_pooling2d (MaxPooling2D  (None, 32, 32, 32)       0         \n",
            " )                                                               \n",
            "                                                                 \n",
            " conv2d_1 (Conv2D)           (None, 32, 32, 32)        9248      \n",
            "                                                                 \n",
            " batch_normalization_1 (Batc  (None, 32, 32, 32)       128       \n",
            " hNormalization)                                                 \n",
            "                                                                 \n",
            " activation_1 (Activation)   (None, 32, 32, 32)        0         \n",
            "                                                                 \n",
            " max_pooling2d_1 (MaxPooling  (None, 11, 11, 32)       0         \n",
            " 2D)                                                             \n",
            "                                                                 \n",
            " conv2d_2 (Conv2D)           (None, 11, 11, 64)        18496     \n",
            "                                                                 \n",
            " batch_normalization_2 (Batc  (None, 11, 11, 64)       256       \n",
            " hNormalization)                                                 \n",
            "                                                                 \n",
            " activation_2 (Activation)   (None, 11, 11, 64)        0         \n",
            "                                                                 \n",
            " max_pooling2d_2 (MaxPooling  (None, 4, 4, 64)         0         \n",
            " 2D)                                                             \n",
            "                                                                 \n",
            " conv2d_3 (Conv2D)           (None, 4, 4, 64)          36928     \n",
            "                                                                 \n",
            " batch_normalization_3 (Batc  (None, 4, 4, 64)         256       \n",
            " hNormalization)                                                 \n",
            "                                                                 \n",
            " activation_3 (Activation)   (None, 4, 4, 64)          0         \n",
            "                                                                 \n",
            " max_pooling2d_3 (MaxPooling  (None, 2, 2, 64)         0         \n",
            " 2D)                                                             \n",
            "                                                                 \n",
            " conv2d_4 (Conv2D)           (None, 2, 2, 128)         73856     \n",
            "                                                                 \n",
            " batch_normalization_4 (Batc  (None, 2, 2, 128)        512       \n",
            " hNormalization)                                                 \n",
            "                                                                 \n",
            " activation_4 (Activation)   (None, 2, 2, 128)         0         \n",
            "                                                                 \n",
            " max_pooling2d_4 (MaxPooling  (None, 1, 1, 128)        0         \n",
            " 2D)                                                             \n",
            "                                                                 \n",
            " conv2d_5 (Conv2D)           (None, 1, 1, 128)         147584    \n",
            "                                                                 \n",
            " batch_normalization_5 (Batc  (None, 1, 1, 128)        512       \n",
            " hNormalization)                                                 \n",
            "                                                                 \n",
            " activation_5 (Activation)   (None, 1, 1, 128)         0         \n",
            "                                                                 \n",
            " max_pooling2d_5 (MaxPooling  (None, 1, 1, 128)        0         \n",
            " 2D)                                                             \n",
            "                                                                 \n",
            " conv2d_6 (Conv2D)           (None, 1, 1, 512)         590336    \n",
            "                                                                 \n",
            " batch_normalization_6 (Batc  (None, 1, 1, 512)        2048      \n",
            " hNormalization)                                                 \n",
            "                                                                 \n",
            " activation_6 (Activation)   (None, 1, 1, 512)         0         \n",
            "                                                                 \n",
            " flatten (Flatten)           (None, 512)               0         \n",
            "                                                                 \n",
            " dropout (Dropout)           (None, 512)               0         \n",
            "                                                                 \n",
            " dense (Dense)               (None, 512)               262656    \n",
            "                                                                 \n",
            " dense_1 (Dense)             (None, 512)               262656    \n",
            "                                                                 \n",
            " dense_2 (Dense)             (None, 10)                5130      \n",
            "                                                                 \n",
            "=================================================================\n",
            "Total params: 1,411,626\n",
            "Trainable params: 1,409,706\n",
            "Non-trainable params: 1,920\n",
            "_________________________________________________________________\n"
          ]
        }
      ]
    },
    {
      "cell_type": "code",
      "execution_count": 14,
      "metadata": {
        "id": "yGXft6JSNXhi",
        "colab": {
          "base_uri": "https://localhost:8080/",
          "height": 17
        },
        "outputId": "d53324eb-8ce9-4c21-9845-005d6c5bebd7"
      },
      "outputs": [
        {
          "output_type": "display_data",
          "data": {
            "text/plain": [
              "<IPython.core.display.Javascript object>"
            ],
            "application/javascript": [
              "google.colab.output.setIframeHeight(0, true, {maxHeight: 300})"
            ]
          },
          "metadata": {}
        }
      ],
      "source": [
        "# CREATE THE MODEL\n",
        "model_gridsearchcv = KerasClassifier(model = create_GSCV_model, # model = create_GSCV_model(), \n",
        "                                     epochs = 30,  \n",
        "                                     lr = 0.1,\n",
        "                                     verbose = 10,\n",
        "                                     activation = 'relu',\n",
        "                                     optimizer='Adam')"
      ]
    },
    {
      "cell_type": "code",
      "execution_count": 36,
      "metadata": {
        "id": "o0mquIXLDaWQ",
        "colab": {
          "base_uri": "https://localhost:8080/",
          "height": 181
        },
        "outputId": "734ca4d5-e0c1-4f47-eced-6562603ff023"
      },
      "outputs": [
        {
          "output_type": "display_data",
          "data": {
            "text/plain": [
              "<IPython.core.display.Javascript object>"
            ],
            "application/javascript": [
              "google.colab.output.setIframeHeight(0, true, {maxHeight: 300})"
            ]
          },
          "metadata": {}
        },
        {
          "output_type": "execute_result",
          "data": {
            "text/plain": [
              "RandomizedSearchCV(cv=3, error_score='raise',\n",
              "                   estimator=KerasClassifier(activation='relu', epochs=30, lr=0.1, model=<function create_GSCV_model at 0x7f0695baf700>, optimizer='Adam', verbose=10),\n",
              "                   n_jobs=1,\n",
              "                   param_distributions={'activation': ['relu', 'LeakyRelu'],\n",
              "                                        'lr': [0.001, 0.0001],\n",
              "                                        'optimizer': ['SGD', 'Adam']},\n",
              "                   refit='recall_score',\n",
              "                   scoring={'recall_score': make_scorer(recall_score, average=micro)})"
            ]
          },
          "metadata": {},
          "execution_count": 36
        }
      ],
      "source": [
        "from sklearn.metrics import recall_score, make_scorer\n",
        "# DEFINE THE GRID SEARCH PARAMETERS\n",
        "# batch_size = [16, 32]\n",
        "optimizer = ['SGD', 'Adam']\n",
        "lr = [0.001, 0.0001]\n",
        "activation = ['relu', 'LeakyRelu']\n",
        "# scores = [\"recall\"]\n",
        "scorers = {\n",
        "            'recall_score': make_scorer(recall_score, average='micro')\n",
        "          }\n",
        "\n",
        "\n",
        "param_grid_CV = {\n",
        "    # 'batch_size': batch_size,\n",
        "    'optimizer': optimizer,\n",
        "    'lr': lr,\n",
        "    'activation': activation\n",
        "}\n",
        "\n",
        "# DEFINE THE GRIDSEARCHCV METHOD\n",
        "# grid_cv = GridSearchCV(estimator=model_gridsearchcv, param_grid=param_grid, n_jobs = 1, cv=3, error_score=\"raise\")\n",
        "# n_iter_search = 32 \n",
        "grid_cv = RandomizedSearchCV(estimator = model_gridsearchcv, \n",
        "                             param_distributions = param_grid_CV, \n",
        "                             scoring=scorers,\n",
        "                             refit='recall_score',\n",
        "                             n_jobs = 1,\n",
        "                            #  n_iter=n_iter_search,\n",
        "                             cv = 3, \n",
        "                             error_score = \"raise\")\n",
        "\n",
        "grid_cv"
      ]
    },
    {
      "cell_type": "code",
      "execution_count": 37,
      "metadata": {
        "id": "feNsV7HZDf41",
        "colab": {
          "base_uri": "https://localhost:8080/",
          "height": 300
        },
        "outputId": "d1a06877-2fc8-4fb4-eb19-15930ebd5f6c"
      },
      "outputs": [
        {
          "output_type": "display_data",
          "data": {
            "text/plain": [
              "<IPython.core.display.Javascript object>"
            ],
            "application/javascript": [
              "google.colab.output.setIframeHeight(0, true, {maxHeight: 300})"
            ]
          },
          "metadata": {}
        },
        {
          "output_type": "stream",
          "name": "stderr",
          "text": [
            "/usr/local/lib/python3.8/dist-packages/sklearn/model_selection/_search.py:292: UserWarning: The total space of parameters 8 is smaller than n_iter=10. Running 8 iterations. For exhaustive searches, use GridSearchCV.\n",
            "  warnings.warn(\n"
          ]
        },
        {
          "output_type": "stream",
          "name": "stdout",
          "text": [
            "Epoch 1/30\n",
            "Epoch 2/30\n",
            "Epoch 3/30\n",
            "Epoch 4/30\n",
            "Epoch 5/30\n",
            "Epoch 6/30\n",
            "Epoch 7/30\n",
            "Epoch 8/30\n",
            "Epoch 9/30\n",
            "Epoch 10/30\n",
            "Epoch 11/30\n",
            "Epoch 12/30\n",
            "Epoch 13/30\n",
            "Epoch 14/30\n",
            "Epoch 15/30\n",
            "Epoch 16/30\n",
            "Epoch 17/30\n",
            "Epoch 18/30\n",
            "Epoch 19/30\n",
            "Epoch 20/30\n",
            "Epoch 21/30\n",
            "Epoch 22/30\n",
            "Epoch 23/30\n",
            "Epoch 24/30\n",
            "Epoch 25/30\n",
            "Epoch 26/30\n",
            "Epoch 27/30\n",
            "Epoch 28/30\n",
            "Epoch 29/30\n",
            "Epoch 30/30\n",
            "Epoch 1/30\n",
            "Epoch 2/30\n",
            "Epoch 3/30\n",
            "Epoch 4/30\n",
            "Epoch 5/30\n",
            "Epoch 6/30\n",
            "Epoch 7/30\n",
            "Epoch 8/30\n",
            "Epoch 9/30\n",
            "Epoch 10/30\n",
            "Epoch 11/30\n",
            "Epoch 12/30\n",
            "Epoch 13/30\n",
            "Epoch 14/30\n",
            "Epoch 15/30\n",
            "Epoch 16/30\n",
            "Epoch 17/30\n",
            "Epoch 18/30\n",
            "Epoch 19/30\n",
            "Epoch 20/30\n",
            "Epoch 21/30\n",
            "Epoch 22/30\n",
            "Epoch 23/30\n",
            "Epoch 24/30\n",
            "Epoch 25/30\n",
            "Epoch 26/30\n",
            "Epoch 27/30\n",
            "Epoch 28/30\n",
            "Epoch 29/30\n",
            "Epoch 30/30\n",
            "Epoch 1/30\n",
            "Epoch 2/30\n",
            "Epoch 3/30\n",
            "Epoch 4/30\n",
            "Epoch 5/30\n",
            "Epoch 6/30\n",
            "Epoch 7/30\n",
            "Epoch 8/30\n",
            "Epoch 9/30\n",
            "Epoch 10/30\n",
            "Epoch 11/30\n",
            "Epoch 12/30\n",
            "Epoch 13/30\n",
            "Epoch 14/30\n",
            "Epoch 15/30\n",
            "Epoch 16/30\n",
            "Epoch 17/30\n",
            "Epoch 18/30\n",
            "Epoch 19/30\n",
            "Epoch 20/30\n",
            "Epoch 21/30\n",
            "Epoch 22/30\n",
            "Epoch 23/30\n",
            "Epoch 24/30\n",
            "Epoch 25/30\n",
            "Epoch 26/30\n",
            "Epoch 27/30\n",
            "Epoch 28/30\n",
            "Epoch 29/30\n",
            "Epoch 30/30\n",
            "Epoch 1/30\n",
            "Epoch 2/30\n",
            "Epoch 3/30\n",
            "Epoch 4/30\n",
            "Epoch 5/30\n",
            "Epoch 6/30\n",
            "Epoch 7/30\n",
            "Epoch 8/30\n",
            "Epoch 9/30\n",
            "Epoch 10/30\n",
            "Epoch 11/30\n",
            "Epoch 12/30\n",
            "Epoch 13/30\n",
            "Epoch 14/30\n",
            "Epoch 15/30\n",
            "Epoch 16/30\n",
            "Epoch 17/30\n",
            "Epoch 18/30\n",
            "Epoch 19/30\n",
            "Epoch 20/30\n",
            "Epoch 21/30\n",
            "Epoch 22/30\n",
            "Epoch 23/30\n",
            "Epoch 24/30\n",
            "Epoch 25/30\n",
            "Epoch 26/30\n",
            "Epoch 27/30\n",
            "Epoch 28/30\n",
            "Epoch 29/30\n",
            "Epoch 30/30\n",
            "Epoch 1/30\n",
            "Epoch 2/30\n",
            "Epoch 3/30\n",
            "Epoch 4/30\n",
            "Epoch 5/30\n",
            "Epoch 6/30\n",
            "Epoch 7/30\n",
            "Epoch 8/30\n",
            "Epoch 9/30\n",
            "Epoch 10/30\n",
            "Epoch 11/30\n",
            "Epoch 12/30\n",
            "Epoch 13/30\n",
            "Epoch 14/30\n",
            "Epoch 15/30\n",
            "Epoch 16/30\n",
            "Epoch 17/30\n",
            "Epoch 18/30\n",
            "Epoch 19/30\n",
            "Epoch 20/30\n",
            "Epoch 21/30\n",
            "Epoch 22/30\n",
            "Epoch 23/30\n",
            "Epoch 24/30\n",
            "Epoch 25/30\n",
            "Epoch 26/30\n",
            "Epoch 27/30\n",
            "Epoch 28/30\n",
            "Epoch 29/30\n",
            "Epoch 30/30\n",
            "Epoch 1/30\n",
            "Epoch 2/30\n",
            "Epoch 3/30\n",
            "Epoch 4/30\n",
            "Epoch 5/30\n",
            "Epoch 6/30\n",
            "Epoch 7/30\n",
            "Epoch 8/30\n",
            "Epoch 9/30\n",
            "Epoch 10/30\n",
            "Epoch 11/30\n",
            "Epoch 12/30\n",
            "Epoch 13/30\n",
            "Epoch 14/30\n",
            "Epoch 15/30\n",
            "Epoch 16/30\n",
            "Epoch 17/30\n",
            "Epoch 18/30\n",
            "Epoch 19/30\n",
            "Epoch 20/30\n",
            "Epoch 21/30\n",
            "Epoch 22/30\n",
            "Epoch 23/30\n",
            "Epoch 24/30\n",
            "Epoch 25/30\n",
            "Epoch 26/30\n",
            "Epoch 27/30\n",
            "Epoch 28/30\n",
            "Epoch 29/30\n",
            "Epoch 30/30\n",
            "Epoch 1/30\n",
            "Epoch 2/30\n",
            "Epoch 3/30\n",
            "Epoch 4/30\n",
            "Epoch 5/30\n",
            "Epoch 6/30\n",
            "Epoch 7/30\n",
            "Epoch 8/30\n",
            "Epoch 9/30\n",
            "Epoch 10/30\n",
            "Epoch 11/30\n",
            "Epoch 12/30\n",
            "Epoch 13/30\n",
            "Epoch 14/30\n",
            "Epoch 15/30\n",
            "Epoch 16/30\n",
            "Epoch 17/30\n",
            "Epoch 18/30\n",
            "Epoch 19/30\n",
            "Epoch 20/30\n",
            "Epoch 21/30\n",
            "Epoch 22/30\n",
            "Epoch 23/30\n",
            "Epoch 24/30\n",
            "Epoch 25/30\n",
            "Epoch 26/30\n",
            "Epoch 27/30\n",
            "Epoch 28/30\n",
            "Epoch 29/30\n",
            "Epoch 30/30\n",
            "Epoch 1/30\n",
            "Epoch 2/30\n",
            "Epoch 3/30\n",
            "Epoch 4/30\n",
            "Epoch 5/30\n",
            "Epoch 6/30\n",
            "Epoch 7/30\n",
            "Epoch 8/30\n",
            "Epoch 9/30\n",
            "Epoch 10/30\n",
            "Epoch 11/30\n",
            "Epoch 12/30\n",
            "Epoch 13/30\n",
            "Epoch 14/30\n",
            "Epoch 15/30\n",
            "Epoch 16/30\n",
            "Epoch 17/30\n",
            "Epoch 18/30\n",
            "Epoch 19/30\n",
            "Epoch 20/30\n",
            "Epoch 21/30\n",
            "Epoch 22/30\n",
            "Epoch 23/30\n",
            "Epoch 24/30\n",
            "Epoch 25/30\n",
            "Epoch 26/30\n",
            "Epoch 27/30\n",
            "Epoch 28/30\n",
            "Epoch 29/30\n",
            "Epoch 30/30\n",
            "Epoch 1/30\n",
            "Epoch 2/30\n",
            "Epoch 3/30\n",
            "Epoch 4/30\n",
            "Epoch 5/30\n",
            "Epoch 6/30\n",
            "Epoch 7/30\n",
            "Epoch 8/30\n",
            "Epoch 9/30\n",
            "Epoch 10/30\n",
            "Epoch 11/30\n",
            "Epoch 12/30\n",
            "Epoch 13/30\n",
            "Epoch 14/30\n",
            "Epoch 15/30\n",
            "Epoch 16/30\n",
            "Epoch 17/30\n",
            "Epoch 18/30\n",
            "Epoch 19/30\n",
            "Epoch 20/30\n",
            "Epoch 21/30\n",
            "Epoch 22/30\n",
            "Epoch 23/30\n",
            "Epoch 24/30\n",
            "Epoch 25/30\n",
            "Epoch 26/30\n",
            "Epoch 27/30\n",
            "Epoch 28/30\n",
            "Epoch 29/30\n",
            "Epoch 30/30\n",
            "Epoch 1/30\n",
            "Epoch 2/30\n",
            "Epoch 3/30\n",
            "Epoch 4/30\n",
            "Epoch 5/30\n",
            "Epoch 6/30\n",
            "Epoch 7/30\n",
            "Epoch 8/30\n",
            "Epoch 9/30\n",
            "Epoch 10/30\n",
            "Epoch 11/30\n",
            "Epoch 12/30\n",
            "Epoch 13/30\n",
            "Epoch 14/30\n",
            "Epoch 15/30\n",
            "Epoch 16/30\n",
            "Epoch 17/30\n",
            "Epoch 18/30\n",
            "Epoch 19/30\n",
            "Epoch 20/30\n",
            "Epoch 21/30\n",
            "Epoch 22/30\n",
            "Epoch 23/30\n",
            "Epoch 24/30\n",
            "Epoch 25/30\n",
            "Epoch 26/30\n",
            "Epoch 27/30\n",
            "Epoch 28/30\n",
            "Epoch 29/30\n",
            "Epoch 30/30\n",
            "Epoch 1/30\n",
            "Epoch 2/30\n",
            "Epoch 3/30\n",
            "Epoch 4/30\n",
            "Epoch 5/30\n",
            "Epoch 6/30\n",
            "Epoch 7/30\n",
            "Epoch 8/30\n",
            "Epoch 9/30\n",
            "Epoch 10/30\n",
            "Epoch 11/30\n",
            "Epoch 12/30\n",
            "Epoch 13/30\n",
            "Epoch 14/30\n",
            "Epoch 15/30\n",
            "Epoch 16/30\n",
            "Epoch 17/30\n",
            "Epoch 18/30\n",
            "Epoch 19/30\n",
            "Epoch 20/30\n",
            "Epoch 21/30\n",
            "Epoch 22/30\n",
            "Epoch 23/30\n",
            "Epoch 24/30\n",
            "Epoch 25/30\n",
            "Epoch 26/30\n",
            "Epoch 27/30\n",
            "Epoch 28/30\n",
            "Epoch 29/30\n",
            "Epoch 30/30\n",
            "Epoch 1/30\n",
            "Epoch 2/30\n",
            "Epoch 3/30\n",
            "Epoch 4/30\n",
            "Epoch 5/30\n",
            "Epoch 6/30\n",
            "Epoch 7/30\n",
            "Epoch 8/30\n",
            "Epoch 9/30\n",
            "Epoch 10/30\n",
            "Epoch 11/30\n",
            "Epoch 12/30\n",
            "Epoch 13/30\n",
            "Epoch 14/30\n",
            "Epoch 15/30\n",
            "Epoch 16/30\n",
            "Epoch 17/30\n",
            "Epoch 18/30\n",
            "Epoch 19/30\n",
            "Epoch 20/30\n",
            "Epoch 21/30\n",
            "Epoch 22/30\n",
            "Epoch 23/30\n",
            "Epoch 24/30\n",
            "Epoch 25/30\n",
            "Epoch 26/30\n",
            "Epoch 27/30\n",
            "Epoch 28/30\n",
            "Epoch 29/30\n",
            "Epoch 30/30\n",
            "Epoch 1/30\n",
            "Epoch 2/30\n",
            "Epoch 3/30\n",
            "Epoch 4/30\n",
            "Epoch 5/30\n",
            "Epoch 6/30\n",
            "Epoch 7/30\n",
            "Epoch 8/30\n",
            "Epoch 9/30\n",
            "Epoch 10/30\n",
            "Epoch 11/30\n",
            "Epoch 12/30\n",
            "Epoch 13/30\n",
            "Epoch 14/30\n",
            "Epoch 15/30\n",
            "Epoch 16/30\n",
            "Epoch 17/30\n",
            "Epoch 18/30\n",
            "Epoch 19/30\n",
            "Epoch 20/30\n",
            "Epoch 21/30\n",
            "Epoch 22/30\n",
            "Epoch 23/30\n",
            "Epoch 24/30\n",
            "Epoch 25/30\n",
            "Epoch 26/30\n",
            "Epoch 27/30\n",
            "Epoch 28/30\n",
            "Epoch 29/30\n",
            "Epoch 30/30\n",
            "Epoch 1/30\n",
            "Epoch 2/30\n",
            "Epoch 3/30\n",
            "Epoch 4/30\n",
            "Epoch 5/30\n",
            "Epoch 6/30\n",
            "Epoch 7/30\n",
            "Epoch 8/30\n",
            "Epoch 9/30\n",
            "Epoch 10/30\n",
            "Epoch 11/30\n",
            "Epoch 12/30\n",
            "Epoch 13/30\n",
            "Epoch 14/30\n",
            "Epoch 15/30\n",
            "Epoch 16/30\n",
            "Epoch 17/30\n",
            "Epoch 18/30\n",
            "Epoch 19/30\n",
            "Epoch 20/30\n",
            "Epoch 21/30\n",
            "Epoch 22/30\n",
            "Epoch 23/30\n",
            "Epoch 24/30\n",
            "Epoch 25/30\n",
            "Epoch 26/30\n",
            "Epoch 27/30\n",
            "Epoch 28/30\n",
            "Epoch 29/30\n",
            "Epoch 30/30\n",
            "Epoch 1/30\n",
            "Epoch 2/30\n",
            "Epoch 3/30\n",
            "Epoch 4/30\n",
            "Epoch 5/30\n",
            "Epoch 6/30\n",
            "Epoch 7/30\n",
            "Epoch 8/30\n",
            "Epoch 9/30\n",
            "Epoch 10/30\n",
            "Epoch 11/30\n",
            "Epoch 12/30\n",
            "Epoch 13/30\n",
            "Epoch 14/30\n",
            "Epoch 15/30\n",
            "Epoch 16/30\n",
            "Epoch 17/30\n",
            "Epoch 18/30\n",
            "Epoch 19/30\n",
            "Epoch 20/30\n",
            "Epoch 21/30\n",
            "Epoch 22/30\n",
            "Epoch 23/30\n",
            "Epoch 24/30\n",
            "Epoch 25/30\n",
            "Epoch 26/30\n",
            "Epoch 27/30\n",
            "Epoch 28/30\n",
            "Epoch 29/30\n",
            "Epoch 30/30\n",
            "Epoch 1/30\n",
            "Epoch 2/30\n",
            "Epoch 3/30\n",
            "Epoch 4/30\n",
            "Epoch 5/30\n",
            "Epoch 6/30\n",
            "Epoch 7/30\n",
            "Epoch 8/30\n",
            "Epoch 9/30\n",
            "Epoch 10/30\n",
            "Epoch 11/30\n",
            "Epoch 12/30\n",
            "Epoch 13/30\n",
            "Epoch 14/30\n",
            "Epoch 15/30\n",
            "Epoch 16/30\n",
            "Epoch 17/30\n",
            "Epoch 18/30\n",
            "Epoch 19/30\n",
            "Epoch 20/30\n",
            "Epoch 21/30\n",
            "Epoch 22/30\n",
            "Epoch 23/30\n",
            "Epoch 24/30\n",
            "Epoch 25/30\n",
            "Epoch 26/30\n",
            "Epoch 27/30\n",
            "Epoch 28/30\n",
            "Epoch 29/30\n",
            "Epoch 30/30\n",
            "Epoch 1/30\n",
            "Epoch 2/30\n",
            "Epoch 3/30\n",
            "Epoch 4/30\n",
            "Epoch 5/30\n",
            "Epoch 6/30\n",
            "Epoch 7/30\n",
            "Epoch 8/30\n",
            "Epoch 9/30\n",
            "Epoch 10/30\n",
            "Epoch 11/30\n",
            "Epoch 12/30\n",
            "Epoch 13/30\n",
            "Epoch 14/30\n",
            "Epoch 15/30\n",
            "Epoch 16/30\n",
            "Epoch 17/30\n",
            "Epoch 18/30\n",
            "Epoch 19/30\n",
            "Epoch 20/30\n",
            "Epoch 21/30\n",
            "Epoch 22/30\n",
            "Epoch 23/30\n",
            "Epoch 24/30\n",
            "Epoch 25/30\n",
            "Epoch 26/30\n",
            "Epoch 27/30\n",
            "Epoch 28/30\n",
            "Epoch 29/30\n",
            "Epoch 30/30\n",
            "Epoch 1/30\n",
            "Epoch 2/30\n",
            "Epoch 3/30\n",
            "Epoch 4/30\n",
            "Epoch 5/30\n",
            "Epoch 6/30\n",
            "Epoch 7/30\n",
            "Epoch 8/30\n",
            "Epoch 9/30\n",
            "Epoch 10/30\n",
            "Epoch 11/30\n",
            "Epoch 12/30\n",
            "Epoch 13/30\n",
            "Epoch 14/30\n",
            "Epoch 15/30\n",
            "Epoch 16/30\n",
            "Epoch 17/30\n",
            "Epoch 18/30\n",
            "Epoch 19/30\n",
            "Epoch 20/30\n",
            "Epoch 21/30\n",
            "Epoch 22/30\n",
            "Epoch 23/30\n",
            "Epoch 24/30\n",
            "Epoch 25/30\n",
            "Epoch 26/30\n",
            "Epoch 27/30\n",
            "Epoch 28/30\n",
            "Epoch 29/30\n",
            "Epoch 30/30\n",
            "Epoch 1/30\n",
            "Epoch 2/30\n",
            "Epoch 3/30\n",
            "Epoch 4/30\n",
            "Epoch 5/30\n",
            "Epoch 6/30\n",
            "Epoch 7/30\n",
            "Epoch 8/30\n",
            "Epoch 9/30\n",
            "Epoch 10/30\n",
            "Epoch 11/30\n",
            "Epoch 12/30\n",
            "Epoch 13/30\n",
            "Epoch 14/30\n",
            "Epoch 15/30\n",
            "Epoch 16/30\n",
            "Epoch 17/30\n",
            "Epoch 18/30\n",
            "Epoch 19/30\n",
            "Epoch 20/30\n",
            "Epoch 21/30\n",
            "Epoch 22/30\n",
            "Epoch 23/30\n",
            "Epoch 24/30\n",
            "Epoch 25/30\n",
            "Epoch 26/30\n",
            "Epoch 27/30\n",
            "Epoch 28/30\n",
            "Epoch 29/30\n",
            "Epoch 30/30\n",
            "Epoch 1/30\n",
            "Epoch 2/30\n",
            "Epoch 3/30\n",
            "Epoch 4/30\n",
            "Epoch 5/30\n",
            "Epoch 6/30\n",
            "Epoch 7/30\n",
            "Epoch 8/30\n",
            "Epoch 9/30\n",
            "Epoch 10/30\n",
            "Epoch 11/30\n",
            "Epoch 12/30\n",
            "Epoch 13/30\n",
            "Epoch 14/30\n",
            "Epoch 15/30\n",
            "Epoch 16/30\n",
            "Epoch 17/30\n",
            "Epoch 18/30\n",
            "Epoch 19/30\n",
            "Epoch 20/30\n",
            "Epoch 21/30\n",
            "Epoch 22/30\n",
            "Epoch 23/30\n",
            "Epoch 24/30\n",
            "Epoch 25/30\n",
            "Epoch 26/30\n",
            "Epoch 27/30\n",
            "Epoch 28/30\n",
            "Epoch 29/30\n",
            "Epoch 30/30\n",
            "Epoch 1/30\n",
            "Epoch 2/30\n",
            "Epoch 3/30\n",
            "Epoch 4/30\n",
            "Epoch 5/30\n",
            "Epoch 6/30\n",
            "Epoch 7/30\n",
            "Epoch 8/30\n",
            "Epoch 9/30\n",
            "Epoch 10/30\n",
            "Epoch 11/30\n",
            "Epoch 12/30\n",
            "Epoch 13/30\n",
            "Epoch 14/30\n",
            "Epoch 15/30\n",
            "Epoch 16/30\n",
            "Epoch 17/30\n",
            "Epoch 18/30\n",
            "Epoch 19/30\n",
            "Epoch 20/30\n",
            "Epoch 21/30\n",
            "Epoch 22/30\n",
            "Epoch 23/30\n",
            "Epoch 24/30\n",
            "Epoch 25/30\n",
            "Epoch 26/30\n",
            "Epoch 27/30\n",
            "Epoch 28/30\n",
            "Epoch 29/30\n",
            "Epoch 30/30\n",
            "Epoch 1/30\n",
            "Epoch 2/30\n",
            "Epoch 3/30\n",
            "Epoch 4/30\n",
            "Epoch 5/30\n",
            "Epoch 6/30\n",
            "Epoch 7/30\n",
            "Epoch 8/30\n",
            "Epoch 9/30\n",
            "Epoch 10/30\n",
            "Epoch 11/30\n",
            "Epoch 12/30\n",
            "Epoch 13/30\n",
            "Epoch 14/30\n",
            "Epoch 15/30\n",
            "Epoch 16/30\n",
            "Epoch 17/30\n",
            "Epoch 18/30\n",
            "Epoch 19/30\n",
            "Epoch 20/30\n",
            "Epoch 21/30\n",
            "Epoch 22/30\n",
            "Epoch 23/30\n",
            "Epoch 24/30\n",
            "Epoch 25/30\n",
            "Epoch 26/30\n",
            "Epoch 27/30\n",
            "Epoch 28/30\n",
            "Epoch 29/30\n",
            "Epoch 30/30\n",
            "Epoch 1/30\n",
            "Epoch 2/30\n",
            "Epoch 3/30\n",
            "Epoch 4/30\n",
            "Epoch 5/30\n",
            "Epoch 6/30\n",
            "Epoch 7/30\n",
            "Epoch 8/30\n",
            "Epoch 9/30\n",
            "Epoch 10/30\n",
            "Epoch 11/30\n",
            "Epoch 12/30\n",
            "Epoch 13/30\n",
            "Epoch 14/30\n",
            "Epoch 15/30\n",
            "Epoch 16/30\n",
            "Epoch 17/30\n",
            "Epoch 18/30\n",
            "Epoch 19/30\n",
            "Epoch 20/30\n",
            "Epoch 21/30\n",
            "Epoch 22/30\n",
            "Epoch 23/30\n",
            "Epoch 24/30\n",
            "Epoch 25/30\n",
            "Epoch 26/30\n",
            "Epoch 27/30\n",
            "Epoch 28/30\n",
            "Epoch 29/30\n",
            "Epoch 30/30\n",
            "Epoch 1/30\n",
            "Epoch 2/30\n",
            "Epoch 3/30\n",
            "Epoch 4/30\n",
            "Epoch 5/30\n",
            "Epoch 6/30\n",
            "Epoch 7/30\n",
            "Epoch 8/30\n",
            "Epoch 9/30\n",
            "Epoch 10/30\n",
            "Epoch 11/30\n",
            "Epoch 12/30\n",
            "Epoch 13/30\n",
            "Epoch 14/30\n",
            "Epoch 15/30\n",
            "Epoch 16/30\n",
            "Epoch 17/30\n",
            "Epoch 18/30\n",
            "Epoch 19/30\n",
            "Epoch 20/30\n",
            "Epoch 21/30\n",
            "Epoch 22/30\n",
            "Epoch 23/30\n",
            "Epoch 24/30\n",
            "Epoch 25/30\n",
            "Epoch 26/30\n",
            "Epoch 27/30\n",
            "Epoch 28/30\n",
            "Epoch 29/30\n",
            "Epoch 30/30\n",
            "Epoch 1/30\n",
            "Epoch 2/30\n",
            "Epoch 3/30\n",
            "Epoch 4/30\n",
            "Epoch 5/30\n",
            "Epoch 6/30\n",
            "Epoch 7/30\n",
            "Epoch 8/30\n",
            "Epoch 9/30\n",
            "Epoch 10/30\n",
            "Epoch 11/30\n",
            "Epoch 12/30\n",
            "Epoch 13/30\n",
            "Epoch 14/30\n",
            "Epoch 15/30\n",
            "Epoch 16/30\n",
            "Epoch 17/30\n",
            "Epoch 18/30\n",
            "Epoch 19/30\n",
            "Epoch 20/30\n",
            "Epoch 21/30\n",
            "Epoch 22/30\n",
            "Epoch 23/30\n",
            "Epoch 24/30\n",
            "Epoch 25/30\n",
            "Epoch 26/30\n",
            "Epoch 27/30\n",
            "Epoch 28/30\n",
            "Epoch 29/30\n",
            "Epoch 30/30\n",
            "Total execution time is:  0:07:20.599473\n"
          ]
        }
      ],
      "source": [
        "# START COUNTING THE TIME\n",
        "start = datetime.datetime.now()\n",
        "\n",
        "# FIT THE GRIDSEARCH MODEL\n",
        "grid_fit = grid_cv.fit(X, y)\n",
        "\n",
        "# STOP COUNTING THE TIME\n",
        "end = datetime.datetime.now()\n",
        "print(\"Total execution time is: \", end-start)"
      ]
    },
    {
      "cell_type": "code",
      "source": [
        "# SUMMARIZE RESULTS\n",
        "\n",
        "print(\"Best: %f using %s\" % (grid_fit.best_score_, grid_fit.best_params_))\n",
        "means = grid_fit.cv_results_['mean_test_recall_score']\n",
        "stds = grid_fit.cv_results_['std_test_recall_score']\n",
        "params = grid_fit.cv_results_['params']\n",
        "\n",
        "for mean, stdev, param in zip(means, stds, params):\n",
        "    print(\"%f (%f) with: %r\" % (mean, stdev, param))"
      ],
      "metadata": {
        "colab": {
          "base_uri": "https://localhost:8080/",
          "height": 181
        },
        "id": "BhXSx2ic37Tn",
        "outputId": "fc281cce-5241-432e-c74f-e3723ef252a5"
      },
      "execution_count": 40,
      "outputs": [
        {
          "output_type": "display_data",
          "data": {
            "text/plain": [
              "<IPython.core.display.Javascript object>"
            ],
            "application/javascript": [
              "google.colab.output.setIframeHeight(0, true, {maxHeight: 300})"
            ]
          },
          "metadata": {}
        },
        {
          "output_type": "stream",
          "name": "stdout",
          "text": [
            "Best: 0.824182 using {'optimizer': 'Adam', 'lr': 0.0001, 'activation': 'LeakyRelu'}\n",
            "0.707155 (0.097817) with: {'optimizer': 'SGD', 'lr': 0.001, 'activation': 'relu'}\n",
            "0.716029 (0.108152) with: {'optimizer': 'Adam', 'lr': 0.001, 'activation': 'relu'}\n",
            "0.814753 (0.016322) with: {'optimizer': 'SGD', 'lr': 0.0001, 'activation': 'relu'}\n",
            "0.795341 (0.017766) with: {'optimizer': 'Adam', 'lr': 0.0001, 'activation': 'relu'}\n",
            "0.681087 (0.126837) with: {'optimizer': 'SGD', 'lr': 0.001, 'activation': 'LeakyRelu'}\n",
            "0.791459 (0.030267) with: {'optimizer': 'Adam', 'lr': 0.001, 'activation': 'LeakyRelu'}\n",
            "0.818081 (0.008734) with: {'optimizer': 'SGD', 'lr': 0.0001, 'activation': 'LeakyRelu'}\n",
            "0.824182 (0.011065) with: {'optimizer': 'Adam', 'lr': 0.0001, 'activation': 'LeakyRelu'}\n"
          ]
        }
      ]
    },
    {
      "cell_type": "markdown",
      "metadata": {
        "id": "JJcaOkDggEDO"
      },
      "source": [
        "### Performance results Model V05"
      ]
    },
    {
      "cell_type": "code",
      "source": [
        "# SAVE THE TIME NEEDED TO RUN THE ALGORITHM\n",
        "time_duration_modelV05_gridsearchcv = end - start\n",
        "print(time_duration_modelV05_gridsearchcv)"
      ],
      "metadata": {
        "id": "eg8crS49dNIm",
        "colab": {
          "base_uri": "https://localhost:8080/",
          "height": 35
        },
        "outputId": "624cfa64-7eeb-4bb9-a20d-6cba59932a0e"
      },
      "execution_count": 41,
      "outputs": [
        {
          "output_type": "display_data",
          "data": {
            "text/plain": [
              "<IPython.core.display.Javascript object>"
            ],
            "application/javascript": [
              "google.colab.output.setIframeHeight(0, true, {maxHeight: 300})"
            ]
          },
          "metadata": {}
        },
        {
          "output_type": "stream",
          "name": "stdout",
          "text": [
            "0:07:20.599473\n"
          ]
        }
      ]
    },
    {
      "cell_type": "markdown",
      "source": [
        "# IL SEGUENTE CODICE NON DOVREBBE ESSERE IMPORTANTE, NON VAI A CALCOLARE QUESTE METRICHE PER IL RANDOMIZEDGRIDSEARCHCV!"
      ],
      "metadata": {
        "id": "qvKaYgdlz719"
      }
    },
    {
      "cell_type": "code",
      "source": [
        "# # GET THE MINIMUM ACCURACY, THE MAXIMUM ACCURACY, THE MINIMUM LOSS, THE MAXIMUM LOSS AND SAVE THEM IN VARIABLES.\n",
        "# # THEN CREATE A DATAFRAME AT THE END WHERE YOU CAN COMPARE DIFFERENT MODELS WITH IT!\n",
        "\n",
        "# # LOSS/VAL LOSS\n",
        "# modelV05_GDCV_minLoss = min(grid_fit.history['loss'])\n",
        "# modelV05_GDCV_maxLoss = max(grid_fit.history['loss'])\n",
        "# modelV05_GDCV_minValLoss = min(grid_fit.history['val_loss'])\n",
        "# modelV05_GDCV_maxValLoss = max(grid_fit.history['val_loss'])\n",
        "\n",
        "# # ACCURACY/VAL ACCURACY\n",
        "# modelV05_GDCV_minAccuracy = min(grid_fit.history['accuracy'])\n",
        "# modelV05_GDCV_maxAccuracy = max(grid_fit.history['accuracy'])\n",
        "# modelV05_GDCV_minValAccuracy = min(grid_fit.history['val_accuracy'])\n",
        "# modelV05_GDCV_maxValAccuracy = max(grid_fit.history['val_accuracy'])\n",
        "\n",
        "# # CREATE THE DATAFRAME\n",
        "# modelV05_GDCV_loss_accuracy = pd.DataFrame({\"minLoss\": [modelV05_GDCV_minLoss],\n",
        "#                                        \"maxloss\": [modelV05_GDCV_maxLoss],\n",
        "#                                        \"minValLoss\": [modelV05_GDCV_minValLoss],\n",
        "#                                        \"maxValLoss\": [modelV05_GDCV_maxValLoss],\n",
        "#                                        \"minAccuracy\": [modelV05_GDCV_minAccuracy],\n",
        "#                                        \"maxAccuracy\": [modelV05_GDCV_maxAccuracy],\n",
        "#                                        \"minValAccuracy\": [modelV05_GDCV_minValAccuracy],\n",
        "#                                        \"maxValAccuracy\": [modelV05_GDCV_maxValAccuracy]}).T\n",
        "\n",
        "# # CHANGE THE FIRST COLUMN NAME\n",
        "# modelV05_GDCV_loss_accuracy = modelV05_GDCV_loss_accuracy.rename(columns={0: 'modelV07_GDCV'})\n",
        "# # CHANGE THE INDEX NAME\n",
        "# modelV05_GDCV_loss_accuracy.index.names = ['Performance']\n",
        "# modelV05_GDCV_loss_accuracy"
      ],
      "metadata": {
        "id": "vO2yxCMtnbqj"
      },
      "execution_count": null,
      "outputs": []
    },
    {
      "cell_type": "markdown",
      "source": [
        "## 1.2.6 MODEL V04_GRIDSEARCHCV - Retraining with best gridsearchCV parameters"
      ],
      "metadata": {
        "id": "i9cy6VzitmQO"
      }
    },
    {
      "cell_type": "markdown",
      "source": [
        "**USE THE FOLLOWING LINK TO UNDERSTAND: https://www.kaggle.com/code/danbrice/keras-plot-history-full-report-and-grid-search/notebook.\n",
        "FIRST USE GRIDSEARCH. THEN RETRAIN THE MODEL WITH THOSE PARAMETERS!!!** SO, KEEP THE FOLLOWING CODE!"
      ],
      "metadata": {
        "id": "Z4oXiwhyMVmv"
      }
    },
    {
      "cell_type": "code",
      "source": [
        "# BEST PARAMETERS\n",
        "batch_size_CV = 16\n",
        "# optimizer_CV = 'SGD'\n",
        "optimizer_CV = 'Adam'\n",
        "learning_rate_CV = 0.001\n",
        "# learning_rate_CV = 0.0001\n",
        "activation_CV = 'relu'\n",
        "# activation_CV = 'LeakyReLU'\n",
        "scores = \"recall\"\n",
        "\n",
        "# SE PERFORMANCE PEGGIORI, SECMPLICEMENTE STATE THE FACT AND PROCEED WITH TRANSFER LEARNING!\n",
        "# DECISIONE CHE PRENDI, NEL CASO, PROPRIO PER QUESTO MOTIVO!"
      ],
      "metadata": {
        "colab": {
          "base_uri": "https://localhost:8080/",
          "height": 17
        },
        "id": "3hL3gmoutsSp",
        "outputId": "641c87c1-6f48-4694-dfc1-2ede894479c2"
      },
      "execution_count": 54,
      "outputs": [
        {
          "output_type": "display_data",
          "data": {
            "text/plain": [
              "<IPython.core.display.Javascript object>"
            ],
            "application/javascript": [
              "google.colab.output.setIframeHeight(0, true, {maxHeight: 300})"
            ]
          },
          "metadata": {}
        }
      ]
    },
    {
      "cell_type": "code",
      "source": [
        "# DATA AUGMENTATION ONLY ON THE TRAINING SET\n",
        "train_datagen_CV = ImageDataGenerator(\n",
        "        rescale=1./255,\n",
        "        shear_range=0.2,\n",
        "        zoom_range=0.1,\n",
        "        horizontal_flip=True,\n",
        "        width_shift_range=0.1,  # randomly shift images horizontally (fraction of total width)\n",
        "        height_shift_range=0.1,\n",
        "        rotation_range=45,\n",
        "        fill_mode='nearest')  # randomly shift images vertically (fraction of total height))\n",
        "\n",
        "# this is the augmentation configuration we will use for testing:\n",
        "# only rescaling\n",
        "test_datagen_CV = ImageDataGenerator(rescale=1./255) \n",
        "val_datagen_CV = ImageDataGenerator(rescale=1./255) \n",
        "\n",
        "# this is a generator that will read pictures found in\n",
        "# subfolers of 'data/train', and indefinitely generate\n",
        "# batches of augmented image data\n",
        "train_generator_CV = train_datagen_CV.flow_from_directory(\n",
        "    base_path_train,\n",
        "    target_size=(SIZE,SIZE),\n",
        "    batch_size=batch_size_CV,\n",
        "    shuffle=True,\n",
        "    class_mode=\"categorical\",\n",
        "    seed = SEED_VALUE)\n",
        "\n",
        "test_generator_CV = test_datagen_CV.flow_from_directory(\n",
        "    base_path_test,\n",
        "    target_size=(SIZE,SIZE),\n",
        "    batch_size=batch_size_CV,\n",
        "    shuffle=False,\n",
        "    class_mode=\"categorical\",\n",
        "    seed = SEED_VALUE)\n",
        "\n",
        "val_generator_CV = val_datagen_CV.flow_from_directory(\n",
        "    base_path_val,\n",
        "    target_size=(SIZE,SIZE),\n",
        "    batch_size=batch_size_CV,\n",
        "    shuffle=False,\n",
        "    class_mode=\"categorical\",\n",
        "    seed = SEED_VALUE)"
      ],
      "metadata": {
        "colab": {
          "base_uri": "https://localhost:8080/",
          "height": 72
        },
        "id": "9cbd2R5n172W",
        "outputId": "ab0b1647-6103-43cd-9c6e-e96c34a23235"
      },
      "execution_count": 55,
      "outputs": [
        {
          "output_type": "display_data",
          "data": {
            "text/plain": [
              "<IPython.core.display.Javascript object>"
            ],
            "application/javascript": [
              "google.colab.output.setIframeHeight(0, true, {maxHeight: 300})"
            ]
          },
          "metadata": {}
        },
        {
          "output_type": "stream",
          "name": "stdout",
          "text": [
            "Found 3004 images belonging to 10 classes.\n",
            "Found 132 images belonging to 10 classes.\n",
            "Found 242 images belonging to 10 classes.\n"
          ]
        }
      ]
    },
    {
      "cell_type": "code",
      "source": [
        "# ARCHITECTURE FOUND AT: https://blog.keras.io/building-powerful-image-classification-models-using-very-little-data.html\n",
        "inputs = keras.Input((SIZE,SIZE,3))\n",
        "\n",
        "x = inputs\n",
        "\n",
        "x = keras.layers.Conv2D(32, 3, padding=\"same\", kernel_initializer=\"he_uniform\", kernel_regularizer=tf.keras.regularizers.l2(0.001))(x)\n",
        "x = keras.layers.BatchNormalization()(x)\n",
        "x = keras.layers.Activation(activation_CV)(x)\n",
        "x = keras.layers.MaxPooling2D(3, strides=3, padding=\"same\")(x)\n",
        "\n",
        "x = keras.layers.Conv2D(32, 3, padding=\"same\", kernel_initializer=\"he_uniform\", kernel_regularizer=tf.keras.regularizers.l2(0.001))(x)\n",
        "x = keras.layers.BatchNormalization()(x)\n",
        "x = keras.layers.Activation(activation_CV )(x)\n",
        "x = keras.layers.MaxPooling2D(3, strides=3, padding=\"same\")(x)\n",
        "\n",
        "x = keras.layers.Conv2D(64, 3, padding=\"same\", kernel_initializer=\"he_uniform\", kernel_regularizer=tf.keras.regularizers.l2(0.001))(x)\n",
        "x = keras.layers.BatchNormalization()(x)\n",
        "x = keras.layers.Activation(activation_CV)(x)\n",
        "x = keras.layers.MaxPooling2D(3, strides=3, padding=\"same\")(x)\n",
        "\n",
        "x = keras.layers.Conv2D(64, 3, padding=\"same\", kernel_initializer=\"he_uniform\", kernel_regularizer=tf.keras.regularizers.l2(0.001))(x)\n",
        "x = keras.layers.BatchNormalization()(x)\n",
        "x = keras.layers.Activation(activation_CV)(x)\n",
        "x = keras.layers.MaxPooling2D(3, strides=3, padding=\"same\")(x)\n",
        "\n",
        "x = keras.layers.Conv2D(128, 3, padding=\"same\", kernel_initializer=\"he_uniform\", kernel_regularizer=tf.keras.regularizers.l2(0.001))(x)\n",
        "x = keras.layers.BatchNormalization()(x)\n",
        "x = keras.layers.Activation(activation_CV)(x)\n",
        "x = keras.layers.MaxPooling2D(3, strides=3, padding=\"same\")(x)\n",
        "\n",
        "x = keras.layers.Conv2D(128, 3, padding=\"same\", kernel_initializer=\"he_uniform\", kernel_regularizer=tf.keras.regularizers.l2(0.001))(x)\n",
        "x = keras.layers.BatchNormalization()(x)\n",
        "x = keras.layers.Activation(activation_CV)(x)\n",
        "x = keras.layers.MaxPooling2D(3, strides=3, padding=\"same\")(x)\n",
        "\n",
        "x = keras.layers.Conv2D(512, 3, padding=\"same\", kernel_initializer=\"he_uniform\", kernel_regularizer=tf.keras.regularizers.l2(0.001))(x)\n",
        "x = keras.layers.BatchNormalization()(x)\n",
        "x = keras.layers.Activation(activation_CV)(x)\n",
        "x = keras.layers.GlobalMaxPooling2D()(x)\n",
        "\n",
        "# the model so far outputs 3D feature maps (height, width, features)\n",
        "\n",
        "# FLATTEN AND ADD DROPOUT\n",
        "x = tf.keras.layers.Flatten()(x) # this converts our 3D feature maps to 1D feature vectors\n",
        "x = keras.layers.Dense(512, activation=activation_CV, kernel_regularizer=tf.keras.regularizers.l2(0.001))(x)\n",
        "x = keras.layers.Activation(activation_CV)(x)\n",
        "x = keras.layers.Dropout(.20)(x)\n",
        "x = keras.layers.Dense(512, activation=activation_CV, kernel_regularizer=tf.keras.regularizers.l2(0.001))(x)\n",
        "\n",
        "outputs = keras.layers.Dense(num_classes, activation=\"softmax\", kernel_regularizer=tf.keras.regularizers.l2(0.001))(x)\n",
        "\n",
        "net_modelvGSCV = keras.Model(inputs, outputs)\n",
        "\n",
        "net_modelvGSCV.summary()"
      ],
      "metadata": {
        "colab": {
          "base_uri": "https://localhost:8080/",
          "height": 300
        },
        "id": "06uhhTkY2YhS",
        "outputId": "2af2e39e-a97e-4557-82ea-442755adef49"
      },
      "execution_count": 56,
      "outputs": [
        {
          "output_type": "display_data",
          "data": {
            "text/plain": [
              "<IPython.core.display.Javascript object>"
            ],
            "application/javascript": [
              "google.colab.output.setIframeHeight(0, true, {maxHeight: 300})"
            ]
          },
          "metadata": {}
        },
        {
          "output_type": "stream",
          "name": "stdout",
          "text": [
            "Model: \"model_1\"\n",
            "_________________________________________________________________\n",
            " Layer (type)                Output Shape              Param #   \n",
            "=================================================================\n",
            " input_32 (InputLayer)       [(None, 96, 96, 3)]       0         \n",
            "                                                                 \n",
            " conv2d_211 (Conv2D)         (None, 96, 96, 32)        896       \n",
            "                                                                 \n",
            " batch_normalization_211 (Ba  (None, 96, 96, 32)       128       \n",
            " tchNormalization)                                               \n",
            "                                                                 \n",
            " activation_212 (Activation)  (None, 96, 96, 32)       0         \n",
            "                                                                 \n",
            " max_pooling2d_180 (MaxPooli  (None, 32, 32, 32)       0         \n",
            " ng2D)                                                           \n",
            "                                                                 \n",
            " conv2d_212 (Conv2D)         (None, 32, 32, 32)        9248      \n",
            "                                                                 \n",
            " batch_normalization_212 (Ba  (None, 32, 32, 32)       128       \n",
            " tchNormalization)                                               \n",
            "                                                                 \n",
            " activation_213 (Activation)  (None, 32, 32, 32)       0         \n",
            "                                                                 \n",
            " max_pooling2d_181 (MaxPooli  (None, 11, 11, 32)       0         \n",
            " ng2D)                                                           \n",
            "                                                                 \n",
            " conv2d_213 (Conv2D)         (None, 11, 11, 64)        18496     \n",
            "                                                                 \n",
            " batch_normalization_213 (Ba  (None, 11, 11, 64)       256       \n",
            " tchNormalization)                                               \n",
            "                                                                 \n",
            " activation_214 (Activation)  (None, 11, 11, 64)       0         \n",
            "                                                                 \n",
            " max_pooling2d_182 (MaxPooli  (None, 4, 4, 64)         0         \n",
            " ng2D)                                                           \n",
            "                                                                 \n",
            " conv2d_214 (Conv2D)         (None, 4, 4, 64)          36928     \n",
            "                                                                 \n",
            " batch_normalization_214 (Ba  (None, 4, 4, 64)         256       \n",
            " tchNormalization)                                               \n",
            "                                                                 \n",
            " activation_215 (Activation)  (None, 4, 4, 64)         0         \n",
            "                                                                 \n",
            " max_pooling2d_183 (MaxPooli  (None, 2, 2, 64)         0         \n",
            " ng2D)                                                           \n",
            "                                                                 \n",
            " conv2d_215 (Conv2D)         (None, 2, 2, 128)         73856     \n",
            "                                                                 \n",
            " batch_normalization_215 (Ba  (None, 2, 2, 128)        512       \n",
            " tchNormalization)                                               \n",
            "                                                                 \n",
            " activation_216 (Activation)  (None, 2, 2, 128)        0         \n",
            "                                                                 \n",
            " max_pooling2d_184 (MaxPooli  (None, 1, 1, 128)        0         \n",
            " ng2D)                                                           \n",
            "                                                                 \n",
            " conv2d_216 (Conv2D)         (None, 1, 1, 128)         147584    \n",
            "                                                                 \n",
            " batch_normalization_216 (Ba  (None, 1, 1, 128)        512       \n",
            " tchNormalization)                                               \n",
            "                                                                 \n",
            " activation_217 (Activation)  (None, 1, 1, 128)        0         \n",
            "                                                                 \n",
            " max_pooling2d_185 (MaxPooli  (None, 1, 1, 128)        0         \n",
            " ng2D)                                                           \n",
            "                                                                 \n",
            " conv2d_217 (Conv2D)         (None, 1, 1, 512)         590336    \n",
            "                                                                 \n",
            " batch_normalization_217 (Ba  (None, 1, 1, 512)        2048      \n",
            " tchNormalization)                                               \n",
            "                                                                 \n",
            " activation_218 (Activation)  (None, 1, 1, 512)        0         \n",
            "                                                                 \n",
            " global_max_pooling2d_1 (Glo  (None, 512)              0         \n",
            " balMaxPooling2D)                                                \n",
            "                                                                 \n",
            " flatten_30 (Flatten)        (None, 512)               0         \n",
            "                                                                 \n",
            " dense_90 (Dense)            (None, 512)               262656    \n",
            "                                                                 \n",
            " activation_219 (Activation)  (None, 512)              0         \n",
            "                                                                 \n",
            " dropout_30 (Dropout)        (None, 512)               0         \n",
            "                                                                 \n",
            " dense_91 (Dense)            (None, 512)               262656    \n",
            "                                                                 \n",
            " dense_92 (Dense)            (None, 10)                5130      \n",
            "                                                                 \n",
            "=================================================================\n",
            "Total params: 1,411,626\n",
            "Trainable params: 1,409,706\n",
            "Non-trainable params: 1,920\n",
            "_________________________________________________________________\n"
          ]
        }
      ]
    },
    {
      "cell_type": "code",
      "source": [
        "net_modelvGSCV.compile(loss=keras.losses.categorical_crossentropy,\n",
        "            optimizer= keras.optimizers.SGD(learning_rate=learning_rate_CV),\n",
        "            metrics=['accuracy'])"
      ],
      "metadata": {
        "colab": {
          "base_uri": "https://localhost:8080/",
          "height": 17
        },
        "id": "ZvTDe_hP2gAd",
        "outputId": "d8ba75e9-46b8-4efd-b01f-0f068028780e"
      },
      "execution_count": 57,
      "outputs": [
        {
          "output_type": "display_data",
          "data": {
            "text/plain": [
              "<IPython.core.display.Javascript object>"
            ],
            "application/javascript": [
              "google.colab.output.setIframeHeight(0, true, {maxHeight: 300})"
            ]
          },
          "metadata": {}
        }
      ]
    },
    {
      "cell_type": "code",
      "source": [
        "# START COUNTING THE TIME\n",
        "start = datetime.datetime.now()\n",
        "\n",
        "history_modelv04_CV = net_modelvGSCV.fit(\n",
        "        train_generator_CV,\n",
        "        epochs=50, \n",
        "        steps_per_epoch = train_generator_CV.n // train_generator_CV.batch_size,\n",
        "        validation_data = test_generator_CV,\n",
        "        validation_steps = test_generator_CV.n // test_generator_CV.batch_size,\n",
        "        callbacks = [callback])\n",
        "\n",
        "# STOP COUNTING THE TIME\n",
        "end = datetime.datetime.now()\n",
        "print(\"Total execution time is: \", end-start)"
      ],
      "metadata": {
        "colab": {
          "base_uri": "https://localhost:8080/",
          "height": 300
        },
        "id": "FoykFdf824t0",
        "outputId": "95930d72-4399-4821-fa0c-a6d852045f99"
      },
      "execution_count": 58,
      "outputs": [
        {
          "output_type": "display_data",
          "data": {
            "text/plain": [
              "<IPython.core.display.Javascript object>"
            ],
            "application/javascript": [
              "google.colab.output.setIframeHeight(0, true, {maxHeight: 300})"
            ]
          },
          "metadata": {}
        },
        {
          "output_type": "stream",
          "name": "stdout",
          "text": [
            "Epoch 1/50\n",
            "187/187 [==============================] - 17s 84ms/step - loss: 5.2252 - accuracy: 0.1874 - val_loss: 5.2390 - val_accuracy: 0.2109\n",
            "Epoch 2/50\n",
            "187/187 [==============================] - 15s 81ms/step - loss: 4.9186 - accuracy: 0.3370 - val_loss: 5.1145 - val_accuracy: 0.1797\n",
            "Epoch 3/50\n",
            "187/187 [==============================] - 15s 83ms/step - loss: 4.7318 - accuracy: 0.4063 - val_loss: 4.9135 - val_accuracy: 0.2891\n",
            "Epoch 4/50\n",
            "187/187 [==============================] - 17s 88ms/step - loss: 4.5784 - accuracy: 0.4575 - val_loss: 4.8234 - val_accuracy: 0.3438\n",
            "Epoch 5/50\n",
            "187/187 [==============================] - 15s 81ms/step - loss: 4.4675 - accuracy: 0.5000 - val_loss: 4.7179 - val_accuracy: 0.4141\n",
            "Epoch 6/50\n",
            "187/187 [==============================] - 15s 81ms/step - loss: 4.4016 - accuracy: 0.5207 - val_loss: 4.6357 - val_accuracy: 0.4062\n",
            "Epoch 7/50\n",
            "187/187 [==============================] - 15s 82ms/step - loss: 4.3104 - accuracy: 0.5445 - val_loss: 4.6373 - val_accuracy: 0.4062\n",
            "Epoch 8/50\n",
            "187/187 [==============================] - 15s 82ms/step - loss: 4.2528 - accuracy: 0.5549 - val_loss: 4.5843 - val_accuracy: 0.4297\n",
            "Epoch 9/50\n",
            "187/187 [==============================] - 15s 82ms/step - loss: 4.2064 - accuracy: 0.5810 - val_loss: 4.6013 - val_accuracy: 0.4219\n",
            "Epoch 10/50\n",
            "187/187 [==============================] - 16s 88ms/step - loss: 4.1879 - accuracy: 0.5827 - val_loss: 4.5624 - val_accuracy: 0.4766\n",
            "Epoch 11/50\n",
            "187/187 [==============================] - 15s 82ms/step - loss: 4.1121 - accuracy: 0.6101 - val_loss: 4.5357 - val_accuracy: 0.4766\n",
            "Epoch 12/50\n",
            "187/187 [==============================] - 15s 82ms/step - loss: 4.0791 - accuracy: 0.6175 - val_loss: 4.4604 - val_accuracy: 0.4922\n",
            "Epoch 13/50\n",
            "187/187 [==============================] - 15s 82ms/step - loss: 4.0296 - accuracy: 0.6305 - val_loss: 4.4913 - val_accuracy: 0.4844\n",
            "Epoch 14/50\n",
            "187/187 [==============================] - 15s 82ms/step - loss: 3.9901 - accuracy: 0.6389 - val_loss: 4.4391 - val_accuracy: 0.5156\n",
            "Epoch 15/50\n",
            "187/187 [==============================] - 15s 81ms/step - loss: 3.9464 - accuracy: 0.6553 - val_loss: 4.4669 - val_accuracy: 0.4844\n",
            "Epoch 16/50\n",
            "187/187 [==============================] - 15s 82ms/step - loss: 3.9365 - accuracy: 0.6640 - val_loss: 4.4347 - val_accuracy: 0.4922\n",
            "Epoch 17/50\n",
            "187/187 [==============================] - 15s 82ms/step - loss: 3.9043 - accuracy: 0.6780 - val_loss: 4.4377 - val_accuracy: 0.5391\n",
            "Epoch 18/50\n",
            "187/187 [==============================] - 15s 81ms/step - loss: 3.8574 - accuracy: 0.6958 - val_loss: 4.4973 - val_accuracy: 0.4688\n",
            "Epoch 19/50\n",
            "187/187 [==============================] - 16s 83ms/step - loss: 3.8383 - accuracy: 0.6968 - val_loss: 4.4337 - val_accuracy: 0.5391\n",
            "Epoch 20/50\n",
            "187/187 [==============================] - 15s 82ms/step - loss: 3.7714 - accuracy: 0.7048 - val_loss: 4.3487 - val_accuracy: 0.5469\n",
            "Epoch 21/50\n",
            "187/187 [==============================] - 15s 81ms/step - loss: 3.7982 - accuracy: 0.7025 - val_loss: 4.3662 - val_accuracy: 0.5781\n",
            "Epoch 22/50\n",
            "187/187 [==============================] - 16s 87ms/step - loss: 3.7863 - accuracy: 0.7098 - val_loss: 4.3922 - val_accuracy: 0.5625\n",
            "Epoch 23/50\n",
            "187/187 [==============================] - 15s 82ms/step - loss: 3.7383 - accuracy: 0.7306 - val_loss: 4.3133 - val_accuracy: 0.5781\n",
            "Epoch 24/50\n",
            "187/187 [==============================] - 15s 81ms/step - loss: 3.7058 - accuracy: 0.7403 - val_loss: 4.3777 - val_accuracy: 0.6016\n",
            "Epoch 25/50\n",
            "187/187 [==============================] - 15s 82ms/step - loss: 3.6939 - accuracy: 0.7426 - val_loss: 4.3501 - val_accuracy: 0.5547\n",
            "Epoch 26/50\n",
            "187/187 [==============================] - 15s 81ms/step - loss: 3.6701 - accuracy: 0.7460 - val_loss: 4.3329 - val_accuracy: 0.5859\n",
            "Epoch 27/50\n",
            "187/187 [==============================] - 15s 80ms/step - loss: 3.6578 - accuracy: 0.7416 - val_loss: 4.3583 - val_accuracy: 0.5703\n",
            "Epoch 28/50\n",
            "187/187 [==============================] - 15s 81ms/step - loss: 3.6530 - accuracy: 0.7564 - val_loss: 4.4373 - val_accuracy: 0.4766\n",
            "Epoch 29/50\n",
            "187/187 [==============================] - 15s 82ms/step - loss: 3.6347 - accuracy: 0.7614 - val_loss: 4.2643 - val_accuracy: 0.5625\n",
            "Epoch 30/50\n",
            "187/187 [==============================] - 16s 84ms/step - loss: 3.6232 - accuracy: 0.7607 - val_loss: 4.3169 - val_accuracy: 0.5625\n",
            "Epoch 31/50\n",
            "187/187 [==============================] - 15s 83ms/step - loss: 3.6071 - accuracy: 0.7600 - val_loss: 4.3200 - val_accuracy: 0.5781\n",
            "Epoch 32/50\n",
            "187/187 [==============================] - 16s 83ms/step - loss: 3.5921 - accuracy: 0.7691 - val_loss: 4.4254 - val_accuracy: 0.5391\n",
            "Epoch 33/50\n",
            "187/187 [==============================] - 16s 83ms/step - loss: 3.5504 - accuracy: 0.7888 - val_loss: 4.2259 - val_accuracy: 0.6250\n",
            "Epoch 34/50\n",
            "187/187 [==============================] - 16s 84ms/step - loss: 3.5600 - accuracy: 0.7761 - val_loss: 4.2387 - val_accuracy: 0.6094\n",
            "Epoch 35/50\n",
            "187/187 [==============================] - 17s 90ms/step - loss: 3.5386 - accuracy: 0.7882 - val_loss: 4.1661 - val_accuracy: 0.6172\n",
            "Epoch 36/50\n",
            "187/187 [==============================] - 16s 84ms/step - loss: 3.5197 - accuracy: 0.7995 - val_loss: 4.2162 - val_accuracy: 0.5859\n",
            "Epoch 37/50\n",
            "187/187 [==============================] - 16s 83ms/step - loss: 3.4956 - accuracy: 0.7972 - val_loss: 4.2769 - val_accuracy: 0.5859\n",
            "Epoch 38/50\n",
            "187/187 [==============================] - 16s 83ms/step - loss: 3.5155 - accuracy: 0.7892 - val_loss: 4.1893 - val_accuracy: 0.5938\n",
            "Epoch 39/50\n",
            "187/187 [==============================] - 16s 83ms/step - loss: 3.4850 - accuracy: 0.8015 - val_loss: 4.2849 - val_accuracy: 0.5938\n",
            "Epoch 40/50\n",
            "187/187 [==============================] - 16s 83ms/step - loss: 3.4804 - accuracy: 0.7965 - val_loss: 4.3333 - val_accuracy: 0.6250\n",
            "Epoch 41/50\n",
            "187/187 [==============================] - 15s 83ms/step - loss: 3.4746 - accuracy: 0.8032 - val_loss: 4.1578 - val_accuracy: 0.6562\n",
            "Epoch 42/50\n",
            "187/187 [==============================] - 16s 84ms/step - loss: 3.4561 - accuracy: 0.8052 - val_loss: 4.1389 - val_accuracy: 0.6562\n",
            "Epoch 43/50\n",
            "187/187 [==============================] - 16s 83ms/step - loss: 3.4308 - accuracy: 0.8286 - val_loss: 4.3546 - val_accuracy: 0.5703\n",
            "Epoch 44/50\n",
            "187/187 [==============================] - 16s 83ms/step - loss: 3.4245 - accuracy: 0.8196 - val_loss: 4.0820 - val_accuracy: 0.6328\n",
            "Epoch 45/50\n",
            "187/187 [==============================] - 15s 81ms/step - loss: 3.4106 - accuracy: 0.8286 - val_loss: 4.0616 - val_accuracy: 0.6484\n",
            "Epoch 46/50\n",
            "187/187 [==============================] - 15s 81ms/step - loss: 3.3729 - accuracy: 0.8373 - val_loss: 4.2351 - val_accuracy: 0.5938\n",
            "Epoch 47/50\n",
            "187/187 [==============================] - 15s 82ms/step - loss: 3.4063 - accuracy: 0.8199 - val_loss: 4.0518 - val_accuracy: 0.6484\n",
            "Epoch 48/50\n",
            "187/187 [==============================] - 15s 82ms/step - loss: 3.3661 - accuracy: 0.8357 - val_loss: 4.2096 - val_accuracy: 0.6094\n",
            "Epoch 49/50\n",
            "187/187 [==============================] - 16s 87ms/step - loss: 3.3760 - accuracy: 0.8337 - val_loss: 4.1759 - val_accuracy: 0.5938\n",
            "Epoch 50/50\n",
            "187/187 [==============================] - 15s 81ms/step - loss: 3.3490 - accuracy: 0.8410 - val_loss: 4.1343 - val_accuracy: 0.6484\n",
            "Total execution time is:  0:15:24.215236\n"
          ]
        }
      ]
    },
    {
      "cell_type": "code",
      "source": [
        "# PLOT THEM TOGETHER\n",
        "# Visualization of the learning curves\n",
        "plt.figure(figsize=(15,6))\n",
        "\n",
        "# VISUALIZZIAMO NUOVAMENTE L'OUTPUT IN TERMINI DI LOSS FUNCTION\n",
        "plt.subplot(1, 2, 1)\n",
        "plt.plot(history_modelv04_CV.history['loss'])\n",
        "plt.plot(history_modelv04_CV.history['val_loss'])\n",
        "plt.ylim([0.0, 6.0]) # è difficile da dire a priori\n",
        "plt.xlabel('Epoch')\n",
        "plt.ylabel('Loss')\n",
        "plt.legend(['train', 'valid'])\n",
        "\n",
        "plt.subplot(1, 2, 2)\n",
        "plt.plot(history_modelv04_CV.history['accuracy'])\n",
        "plt.plot(history_modelv04_CV.history['val_accuracy'])\n",
        "plt.ylim([0.0, 1.0]) # 0.5 è il minimo sindacale - dummy classifier fa 50% - fino al massimo 1. \n",
        "plt.xlabel('Epoch')\n",
        "plt.ylabel('Accuracy')\n",
        "plt.legend(['train', 'valid'])"
      ],
      "metadata": {
        "colab": {
          "base_uri": "https://localhost:8080/",
          "height": 300
        },
        "id": "s96y5dDM3O-y",
        "outputId": "3d061dd2-acbe-4d51-90f0-ceb07f49e095"
      },
      "execution_count": 59,
      "outputs": [
        {
          "output_type": "display_data",
          "data": {
            "text/plain": [
              "<IPython.core.display.Javascript object>"
            ],
            "application/javascript": [
              "google.colab.output.setIframeHeight(0, true, {maxHeight: 300})"
            ]
          },
          "metadata": {}
        },
        {
          "output_type": "execute_result",
          "data": {
            "text/plain": [
              "<matplotlib.legend.Legend at 0x7f06801785e0>"
            ]
          },
          "metadata": {},
          "execution_count": 59
        },
        {
          "output_type": "display_data",
          "data": {
            "text/plain": [
              "<Figure size 1080x432 with 2 Axes>"
            ],
            "image/png": "[encoded data removed]"
          },
          "metadata": {
            "needs_background": "light"
          }
        }
      ]
    },
    {
      "cell_type": "markdown",
      "source": [
        "### Performance results Model V04 GRIDSEARCHCV"
      ],
      "metadata": {
        "id": "LJBNLLIj3SNw"
      }
    },
    {
      "cell_type": "code",
      "source": [
        "# SAVE THE TIME NEEDED TO RUN THE ALGORITHM\n",
        "time_duration_modelV04_gridsearchCV = end - start\n",
        "print(time_duration_modelV04_gridsearchCV)"
      ],
      "metadata": {
        "id": "5WzV4FvSdj43",
        "colab": {
          "base_uri": "https://localhost:8080/",
          "height": 35
        },
        "outputId": "d16b47cb-cb57-4ef1-c0c9-1a1e4a5655c4"
      },
      "execution_count": 52,
      "outputs": [
        {
          "output_type": "display_data",
          "data": {
            "text/plain": [
              "<IPython.core.display.Javascript object>"
            ],
            "application/javascript": [
              "google.colab.output.setIframeHeight(0, true, {maxHeight: 300})"
            ]
          },
          "metadata": {}
        },
        {
          "output_type": "stream",
          "name": "stdout",
          "text": [
            "0:19:15.087908\n"
          ]
        }
      ]
    },
    {
      "cell_type": "code",
      "source": [
        "# GET THE MINIMUM ACCURACY, THE MAXIMUM ACCURACY, THE MINIMUM LOSS, THE MAXIMUM LOSS AND SAVE THEM IN VARIABLES.\n",
        "# THEN CREATE A DATAFRAME AT THE END WHERE YOU CAN COMPARE DIFFERENT MODELS WITH IT!\n",
        "\n",
        "# LOSS/VAL LOSS\n",
        "modelV04_GDCV_minLoss = min(history_modelv04_CV.history['loss'])\n",
        "modelV04_GDCV_maxLoss = max(history_modelv04_CV.history['loss'])\n",
        "modelV04_GDCV_minValLoss = min(history_modelv04_CV.history['val_loss'])\n",
        "modelV04_GDCV_maxValLoss = max(history_modelv04_CV.history['val_loss'])\n",
        "\n",
        "# ACCURACY/VAL ACCURACY\n",
        "modelV04_GDCV_minAccuracy = min(history_modelv04_CV.history['accuracy'])\n",
        "modelV04_GDCV_maxAccuracy = max(history_modelv04_CV.history['accuracy'])\n",
        "modelV04_GDCV_minValAccuracy = min(history_modelv04_CV.history['val_accuracy'])\n",
        "modelV04_GDCV_maxValAccuracy = max(history_modelv04_CV.history['val_accuracy'])\n",
        "\n",
        "# CREATE THE DATAFRAME\n",
        "modelV04_GDCV_loss_accuracy = pd.DataFrame({\"minLoss\": [modelV04_GDCV_minLoss],\n",
        "                                       \"maxloss\": [modelV04_GDCV_maxLoss],\n",
        "                                       \"minValLoss\": [modelV04_GDCV_minValLoss],\n",
        "                                       \"maxValLoss\": [modelV04_GDCV_maxValLoss],\n",
        "                                       \"minAccuracy\": [modelV04_GDCV_minAccuracy],\n",
        "                                       \"maxAccuracy\": [modelV04_GDCV_maxAccuracy],\n",
        "                                       \"minValAccuracy\": [modelV04_GDCV_minValAccuracy],\n",
        "                                       \"maxValAccuracy\": [modelV04_GDCV_maxValAccuracy]}).T\n",
        "\n",
        "# CHANGE THE FIRST COLUMN NAME\n",
        "modelV04_GDCV_loss_accuracy = modelV04_GDCV_loss_accuracy.rename(columns={0: 'modelV04_GDCV'})\n",
        "# CHANGE THE INDEX NAME\n",
        "modelV04_GDCV_loss_accuracy.index.names = ['Performance']\n",
        "modelV04_GDCV_loss_accuracy"
      ],
      "metadata": {
        "colab": {
          "base_uri": "https://localhost:8080/",
          "height": 300
        },
        "id": "Fje84e7O3VZw",
        "outputId": "882f6994-d928-4c2b-cb3d-7573e28bb95e"
      },
      "execution_count": 53,
      "outputs": [
        {
          "output_type": "display_data",
          "data": {
            "text/plain": [
              "<IPython.core.display.Javascript object>"
            ],
            "application/javascript": [
              "google.colab.output.setIframeHeight(0, true, {maxHeight: 300})"
            ]
          },
          "metadata": {}
        },
        {
          "output_type": "execute_result",
          "data": {
            "text/plain": [
              "                modelV04_GDCV\n",
              "Performance                  \n",
              "minLoss              4.263196\n",
              "maxloss              5.342390\n",
              "minValLoss           4.618885\n",
              "maxValLoss           5.226086\n",
              "minAccuracy          0.110442\n",
              "maxAccuracy          0.565596\n",
              "minValAccuracy       0.187500\n",
              "maxValAccuracy       0.421875"
            ],
            "text/html": [
              "\n",
              "  <div id=\"df-dcdf8ff8-a656-44c0-86e8-6fadf2559b65\">\n",
              "    <div class=\"colab-df-container\">\n",
              "      <div>\n",
              "<style scoped>\n",
              "    .dataframe tbody tr th:only-of-type {\n",
              "        vertical-align: middle;\n",
              "    }\n",
              "\n",
              "    .dataframe tbody tr th {\n",
              "        vertical-align: top;\n",
              "    }\n",
              "\n",
              "    .dataframe thead th {\n",
              "        text-align: right;\n",
              "    }\n",
              "</style>\n",
              "<table border=\"1\" class=\"dataframe\">\n",
              "  <thead>\n",
              "    <tr style=\"text-align: right;\">\n",
              "      <th></th>\n",
              "      <th>modelV04_GDCV</th>\n",
              "    </tr>\n",
              "    <tr>\n",
              "      <th>Performance</th>\n",
              "      <th></th>\n",
              "    </tr>\n",
              "  </thead>\n",
              "  <tbody>\n",
              "    <tr>\n",
              "      <th>minLoss</th>\n",
              "      <td>4.263196</td>\n",
              "    </tr>\n",
              "    <tr>\n",
              "      <th>maxloss</th>\n",
              "      <td>5.342390</td>\n",
              "    </tr>\n",
              "    <tr>\n",
              "      <th>minValLoss</th>\n",
              "      <td>4.618885</td>\n",
              "    </tr>\n",
              "    <tr>\n",
              "      <th>maxValLoss</th>\n",
              "      <td>5.226086</td>\n",
              "    </tr>\n",
              "    <tr>\n",
              "      <th>minAccuracy</th>\n",
              "      <td>0.110442</td>\n",
              "    </tr>\n",
              "    <tr>\n",
              "      <th>maxAccuracy</th>\n",
              "      <td>0.565596</td>\n",
              "    </tr>\n",
              "    <tr>\n",
              "      <th>minValAccuracy</th>\n",
              "      <td>0.187500</td>\n",
              "    </tr>\n",
              "    <tr>\n",
              "      <th>maxValAccuracy</th>\n",
              "      <td>0.421875</td>\n",
              "    </tr>\n",
              "  </tbody>\n",
              "</table>\n",
              "</div>\n",
              "      <button class=\"colab-df-convert\" onclick=\"convertToInteractive('df-dcdf8ff8-a656-44c0-86e8-6fadf2559b65')\"\n",
              "              title=\"Convert this dataframe to an interactive table.\"\n",
              "              style=\"display:none;\">\n",
              "        \n",
              "  <svg xmlns=\"http://www.w3.org/2000/svg\" height=\"24px\"viewBox=\"0 0 24 24\"\n",
              "       width=\"24px\">\n",
              "    <path d=\"M0 0h24v24H0V0z\" fill=\"none\"/>\n",
              "    <path d=\"M18.56 5.44l.94 2.06.94-2.06 2.06-.94-2.06-.94-.94-2.06-.94 2.06-2.06.94zm-11 1L8.5 8.5l.94-2.06 2.06-.94-2.06-.94L8.5 2.5l-.94 2.06-2.06.94zm10 10l.94 2.06.94-2.06 2.06-.94-2.06-.94-.94-2.06-.94 2.06-2.06.94z\"/><path d=\"M17.41 7.96l-1.37-1.37c-.4-.4-.92-.59-1.43-.59-.52 0-1.04.2-1.43.59L10.3 9.45l-7.72 7.72c-.78.78-.78 2.05 0 2.83L4 21.41c.39.39.9.59 1.41.59.51 0 1.02-.2 1.41-.59l7.78-7.78 2.81-2.81c.8-.78.8-2.07 0-2.86zM5.41 20L4 18.59l7.72-7.72 1.47 1.35L5.41 20z\"/>\n",
              "  </svg>\n",
              "      </button>\n",
              "      \n",
              "  <style>\n",
              "    .colab-df-container {\n",
              "      display:flex;\n",
              "      flex-wrap:wrap;\n",
              "      gap: 12px;\n",
              "    }\n",
              "\n",
              "    .colab-df-convert {\n",
              "      background-color: #E8F0FE;\n",
              "      border: none;\n",
              "      border-radius: 50%;\n",
              "      cursor: pointer;\n",
              "      display: none;\n",
              "      fill: #1967D2;\n",
              "      height: 32px;\n",
              "      padding: 0 0 0 0;\n",
              "      width: 32px;\n",
              "    }\n",
              "\n",
              "    .colab-df-convert:hover {\n",
              "      background-color: #E2EBFA;\n",
              "      box-shadow: 0px 1px 2px rgba(60, 64, 67, 0.3), 0px 1px 3px 1px rgba(60, 64, 67, 0.15);\n",
              "      fill: #174EA6;\n",
              "    }\n",
              "\n",
              "    [theme=dark] .colab-df-convert {\n",
              "      background-color: #3B4455;\n",
              "      fill: #D2E3FC;\n",
              "    }\n",
              "\n",
              "    [theme=dark] .colab-df-convert:hover {\n",
              "      background-color: #434B5C;\n",
              "      box-shadow: 0px 1px 3px 1px rgba(0, 0, 0, 0.15);\n",
              "      filter: drop-shadow(0px 1px 2px rgba(0, 0, 0, 0.3));\n",
              "      fill: #FFFFFF;\n",
              "    }\n",
              "  </style>\n",
              "\n",
              "      <script>\n",
              "        const buttonEl =\n",
              "          document.querySelector('#df-dcdf8ff8-a656-44c0-86e8-6fadf2559b65 button.colab-df-convert');\n",
              "        buttonEl.style.display =\n",
              "          google.colab.kernel.accessAllowed ? 'block' : 'none';\n",
              "\n",
              "        async function convertToInteractive(key) {\n",
              "          const element = document.querySelector('#df-dcdf8ff8-a656-44c0-86e8-6fadf2559b65');\n",
              "          const dataTable =\n",
              "            await google.colab.kernel.invokeFunction('convertToInteractive',\n",
              "                                                     [key], {});\n",
              "          if (!dataTable) return;\n",
              "\n",
              "          const docLinkHtml = 'Like what you see? Visit the ' +\n",
              "            '<a target=\"_blank\" href=https://colab.research.google.com/notebooks/data_table.ipynb>data table notebook</a>'\n",
              "            + ' to learn more about interactive tables.';\n",
              "          element.innerHTML = '';\n",
              "          dataTable['output_type'] = 'display_data';\n",
              "          await google.colab.output.renderOutput(dataTable, element);\n",
              "          const docLink = document.createElement('div');\n",
              "          docLink.innerHTML = docLinkHtml;\n",
              "          element.appendChild(docLink);\n",
              "        }\n",
              "      </script>\n",
              "    </div>\n",
              "  </div>\n",
              "  "
            ]
          },
          "metadata": {},
          "execution_count": 53
        }
      ]
    },
    {
      "cell_type": "markdown",
      "source": [
        "\n",
        "\n",
        "---\n",
        "\n",
        "\n",
        "\n",
        "---\n",
        "\n"
      ],
      "metadata": {
        "id": "6aHNAioKO64G"
      }
    },
    {
      "cell_type": "markdown",
      "metadata": {
        "id": "LJcpQKBp0JJW"
      },
      "source": [
        "## 1.2.7 Model V06 - Transfer learning with MOBILENETV2"
      ]
    },
    {
      "cell_type": "markdown",
      "metadata": {
        "id": "ddL-xctx3Sgz"
      },
      "source": [
        "The goal of using a pretrained model is that this model has been built to be very good at extracting useful features from images (it is called _feature extractor_).\n",
        "The all convolutional layer that is not meant to do classification (the last layer) has the goal of extracting features from the images.\n",
        "We will use those features in order to classify our data.\n",
        "\n",
        "(ESTENDERE QUESTA SPIEGAZIONE IN MANIERA MIGLIORE!)"
      ]
    },
    {
      "cell_type": "markdown",
      "source": [
        "#### MOBILENETV2 - GRIDSEARCHCV"
      ],
      "metadata": {
        "id": "z7Pw_Seuc4Fg"
      }
    },
    {
      "cell_type": "code",
      "source": [
        "# DATA AUGMENTATION ONLY ON THE TRAINING SET\n",
        "train_datagen_mnetv2 = ImageDataGenerator(\n",
        "        rescale=1./255,\n",
        "        shear_range=0.2,\n",
        "        zoom_range=0.1,\n",
        "        horizontal_flip=True,\n",
        "        width_shift_range=0.1,  # randomly shift images horizontally (fraction of total width)\n",
        "        height_shift_range=0.1,\n",
        "        rotation_range=45,\n",
        "        fill_mode='nearest')  # randomly shift images vertically (fraction of total height))\n",
        "\n",
        "# this is the augmentation configuration we will use for testing:\n",
        "# only rescaling\n",
        "test_datagen_mnetv2 = ImageDataGenerator(rescale=1./255) \n",
        "val_datagen_mnetv2 = ImageDataGenerator(rescale=1./255) \n",
        "\n",
        "# this is a generator that will read pictures found in\n",
        "# subfolers of 'data/train', and indefinitely generate\n",
        "# batches of augmented image data\n",
        "train_generator_mnetv2 = train_datagen_mnetv2.flow_from_directory(\n",
        "    base_path_train,\n",
        "    target_size=(224,224),\n",
        "    batch_size=batch_size_CV,\n",
        "    shuffle=True,\n",
        "    class_mode=\"categorical\",\n",
        "    seed = SEED_VALUE)\n",
        "\n",
        "test_generator_mnetv2 = test_datagen_mnetv2.flow_from_directory(\n",
        "    base_path_test,\n",
        "    target_size=(224,224),\n",
        "    batch_size=batch_size_CV,\n",
        "    shuffle=False,\n",
        "    class_mode=\"categorical\",\n",
        "    seed = SEED_VALUE)\n",
        "\n",
        "# TOGLIERE: USARE SOLO NEL NOTEBOOK DI TEST!\n",
        "# val_generator = val_datagen.flow_from_directory(\n",
        "#     base_path_val,\n",
        "#     target_size=(224,224),\n",
        "#     batch_size=batch_size_CV,\n",
        "#     shuffle=False,\n",
        "#     class_mode=\"categorical\",\n",
        "#     seed = SEED_VALUE)"
      ],
      "metadata": {
        "colab": {
          "base_uri": "https://localhost:8080/",
          "height": 53
        },
        "id": "CshjsQ-b7fPC",
        "outputId": "b93b2085-58ee-4300-c7de-62eba6354e10"
      },
      "execution_count": 60,
      "outputs": [
        {
          "output_type": "display_data",
          "data": {
            "text/plain": [
              "<IPython.core.display.Javascript object>"
            ],
            "application/javascript": [
              "google.colab.output.setIframeHeight(0, true, {maxHeight: 300})"
            ]
          },
          "metadata": {}
        },
        {
          "output_type": "stream",
          "name": "stdout",
          "text": [
            "Found 3004 images belonging to 10 classes.\n",
            "Found 132 images belonging to 10 classes.\n"
          ]
        }
      ]
    },
    {
      "cell_type": "code",
      "source": [
        "# # INSERISCI SITO E SPIEGAZIONE COME RIFERIMENTO: https://www.image-net.org/download.php\n",
        "\n",
        "# base_model_mobilenetv2 = tf.keras.applications.MobileNetV2(\n",
        "#     input_shape = (224, 224, 3),\n",
        "#     # include_top means: do you want to keep the classification layer, the final classification that the original model was training on.\n",
        "#     # MobileNetV2 was originally trained on the ImageNet dataset. Because the final layer has 1000 classes, if we would keep it, we\n",
        "#     # would have 1000 classes at the end. We do not want that but, instead, we want our own classification layer at the end.\n",
        "#     include_top=False, \n",
        "#     # We keep the same weights\n",
        "#     weights=\"imagenet\",\n",
        "#     # # Average pooling at the end: it will ensure that the output of the pretrained model is one-dimensional (with n classes).\n",
        "#     # pooling=\"avg\"\n",
        "# )\n",
        "# # With the following we ensure that we do not mess with the original\n",
        "# # imagenet weights\n",
        "# base_model_mobilenetv2.trainable = False\n",
        "\n",
        "# x = base_model_mobilenetv2.output\n",
        "# x = keras.layers.GlobalAveragePooling2D()(x)\n",
        "# x = keras.layers.Dense(1024, activation='relu')(x)\n",
        "# x = keras.layers.Dense(512, activation='relu')(x)\n",
        "# x = keras.layers.Dense(512, activation='relu')(x)\n",
        "# # We are using \"softmax\" since we want 9 probability values that all sum to 1 and the highest probability\n",
        "# # will be our classification result.\n",
        "# # For the regularizer: https://github.com/christianversloot/machine-learning-articles/blob/main/how-to-use-l1-l2-and-elastic-net-regularization-with-keras.md\n",
        "# preds = Dense(num_classes, activation='softmax')(x) #final layer with softmax activation for N classes\n",
        "\n",
        "# model_mobilenetv2 = keras.Model(inputs = base_model_mobilenetv2.input, outputs = preds) #specify the inputs and outputs\n",
        "\n",
        "# # LOOK AT THE SUMMARY OF THE MODEL\n",
        "# print(model_mobilenetv2.summary())"
      ],
      "metadata": {
        "id": "Z2R2Rz97vemM"
      },
      "execution_count": null,
      "outputs": []
    },
    {
      "cell_type": "code",
      "source": [
        "def create_mobilenetGSCV_model(\n",
        "    lr= 0.1, \n",
        "    init_mode=\"he_uniform\", \n",
        "    activation = 'relu', \n",
        "    dropout_rate= 0.0, \n",
        "    optimizer = 'Adam'):\n",
        "  \n",
        "  base_model_mobilenetv2 = tf.keras.applications.MobileNetV2(\n",
        "    input_shape = (224, 224, 3),\n",
        "    # include_top means: do you want to keep the classification layer, the final classification that the original model was training on.\n",
        "    # MobileNetV2 was originally trained on the ImageNet dataset. Because the final layer has 1000 classes, if we would keep it, we\n",
        "    # would have 1000 classes at the end. We do not want that but, instead, we want our own classification layer at the end.\n",
        "    include_top=False, \n",
        "    # We keep the same weights\n",
        "    weights=\"imagenet\",\n",
        "    # # Average pooling at the end: it will ensure that the output of the pretrained model is one-dimensional (with n classes).\n",
        "    # pooling=\"avg\"\n",
        "  )\n",
        "  # With the following we ensure that we do not mess with the original\n",
        "  # imagenet weights\n",
        "  base_model_mobilenetv2.trainable = False\n",
        "\n",
        "  x = base_model_mobilenetv2.output\n",
        "  x = keras.layers.GlobalAveragePooling2D()(x)\n",
        "  x = keras.layers.Dense(1024, activation='relu')(x)\n",
        "  x = keras.layers.Dense(512, activation='relu')(x)\n",
        "  x = keras.layers.Dense(512, activation='relu')(x)\n",
        "  # We are using \"softmax\" since we want 9 probability values that all sum to 1 and the highest probability\n",
        "  # will be our classification result.\n",
        "  # For the regularizer: https://github.com/christianversloot/machine-learning-articles/blob/main/how-to-use-l1-l2-and-elastic-net-regularization-with-keras.md\n",
        "  preds = Dense(num_classes, activation='softmax')(x) #final layer with softmax activation for N classes\n",
        "\n",
        "  model_mobilenetv2 = keras.Model(inputs = base_model_mobilenetv2.input, outputs = preds) #specify the inputs and outputs\n",
        "\n",
        "  # USING A LEARNING RATE DECAY/SCHEDULING --> https://keras.io/api/optimizers/\n",
        "  lr_schedule = keras.optimizers.schedules.ExponentialDecay(\n",
        "      initial_learning_rate = 0.0001, # previously 0.001\n",
        "      decay_steps=10000, # previously 10000\n",
        "      decay_rate=0.95) # previously 0.95\n",
        "\n",
        "  # COMPILE THE MODEL\n",
        "  model_mobilenetv2.compile(loss=keras.losses.categorical_crossentropy,\n",
        "                             optimizer= keras.optimizers.Adam(learning_rate=lr_schedule),\n",
        "                             metrics=['accuracy'],\n",
        "                             steps_per_execution=5)\n",
        "\n",
        "  return model_mobilenetv2\n",
        "\n",
        "# LOOK AT THE SUMMARY OF THE MODEL\n",
        "print(create_mobilenetGSCV_model().summary())"
      ],
      "metadata": {
        "colab": {
          "base_uri": "https://localhost:8080/",
          "height": 300
        },
        "id": "4U0N8UJkTrBo",
        "outputId": "3c201b33-1fb4-4d8c-b716-87ed7b4fd424"
      },
      "execution_count": 61,
      "outputs": [
        {
          "output_type": "display_data",
          "data": {
            "text/plain": [
              "<IPython.core.display.Javascript object>"
            ],
            "application/javascript": [
              "google.colab.output.setIframeHeight(0, true, {maxHeight: 300})"
            ]
          },
          "metadata": {}
        },
        {
          "output_type": "stream",
          "name": "stdout",
          "text": [
            "Downloading data from https://storage.googleapis.com/tensorflow/keras-applications/mobilenet_v2/mobilenet_v2_weights_tf_dim_ordering_tf_kernels_1.0_224_no_top.h5\n",
            "9406464/9406464 [==============================] - 0s 0us/step\n",
            "Model: \"model_2\"\n",
            "__________________________________________________________________________________________________\n",
            " Layer (type)                   Output Shape         Param #     Connected to                     \n",
            "==================================================================================================\n",
            " input_33 (InputLayer)          [(None, 224, 224, 3  0           []                               \n",
            "                                )]                                                                \n",
            "                                                                                                  \n",
            " Conv1 (Conv2D)                 (None, 112, 112, 32  864         ['input_33[0][0]']               \n",
            "                                )                                                                 \n",
            "                                                                                                  \n",
            " bn_Conv1 (BatchNormalization)  (None, 112, 112, 32  128         ['Conv1[0][0]']                  \n",
            "                                )                                                                 \n",
            "                                                                                                  \n",
            " Conv1_relu (ReLU)              (None, 112, 112, 32  0           ['bn_Conv1[0][0]']               \n",
            "                                )                                                                 \n",
            "                                                                                                  \n",
            " expanded_conv_depthwise (Depth  (None, 112, 112, 32  288        ['Conv1_relu[0][0]']             \n",
            " wiseConv2D)                    )                                                                 \n",
            "                                                                                                  \n",
            " expanded_conv_depthwise_BN (Ba  (None, 112, 112, 32  128        ['expanded_conv_depthwise[0][0]']\n",
            " tchNormalization)              )                                                                 \n",
            "                                                                                                  \n",
            " expanded_conv_depthwise_relu (  (None, 112, 112, 32  0          ['expanded_conv_depthwise_BN[0][0\n",
            " ReLU)                          )                                ]']                              \n",
            "                                                                                                  \n",
            " expanded_conv_project (Conv2D)  (None, 112, 112, 16  512        ['expanded_conv_depthwise_relu[0]\n",
            "                                )                                [0]']                            \n",
            "                                                                                                  \n",
            " expanded_conv_project_BN (Batc  (None, 112, 112, 16  64         ['expanded_conv_project[0][0]']  \n",
            " hNormalization)                )                                                                 \n",
            "                                                                                                  \n",
            " block_1_expand (Conv2D)        (None, 112, 112, 96  1536        ['expanded_conv_project_BN[0][0]'\n",
            "                                )                                ]                                \n",
            "                                                                                                  \n",
            " block_1_expand_BN (BatchNormal  (None, 112, 112, 96  384        ['block_1_expand[0][0]']         \n",
            " ization)                       )                                                                 \n",
            "                                                                                                  \n",
            " block_1_expand_relu (ReLU)     (None, 112, 112, 96  0           ['block_1_expand_BN[0][0]']      \n",
            "                                )                                                                 \n",
            "                                                                                                  \n",
            " block_1_pad (ZeroPadding2D)    (None, 113, 113, 96  0           ['block_1_expand_relu[0][0]']    \n",
            "                                )                                                                 \n",
            "                                                                                                  \n",
            " block_1_depthwise (DepthwiseCo  (None, 56, 56, 96)  864         ['block_1_pad[0][0]']            \n",
            " nv2D)                                                                                            \n",
            "                                                                                                  \n",
            " block_1_depthwise_BN (BatchNor  (None, 56, 56, 96)  384         ['block_1_depthwise[0][0]']      \n",
            " malization)                                                                                      \n",
            "                                                                                                  \n",
            " block_1_depthwise_relu (ReLU)  (None, 56, 56, 96)   0           ['block_1_depthwise_BN[0][0]']   \n",
            "                                                                                                  \n",
            " block_1_project (Conv2D)       (None, 56, 56, 24)   2304        ['block_1_depthwise_relu[0][0]'] \n",
            "                                                                                                  \n",
            " block_1_project_BN (BatchNorma  (None, 56, 56, 24)  96          ['block_1_project[0][0]']        \n",
            " lization)                                                                                        \n",
            "                                                                                                  \n",
            " block_2_expand (Conv2D)        (None, 56, 56, 144)  3456        ['block_1_project_BN[0][0]']     \n",
            "                                                                                                  \n",
            " block_2_expand_BN (BatchNormal  (None, 56, 56, 144)  576        ['block_2_expand[0][0]']         \n",
            " ization)                                                                                         \n",
            "                                                                                                  \n",
            " block_2_expand_relu (ReLU)     (None, 56, 56, 144)  0           ['block_2_expand_BN[0][0]']      \n",
            "                                                                                                  \n",
            " block_2_depthwise (DepthwiseCo  (None, 56, 56, 144)  1296       ['block_2_expand_relu[0][0]']    \n",
            " nv2D)                                                                                            \n",
            "                                                                                                  \n",
            " block_2_depthwise_BN (BatchNor  (None, 56, 56, 144)  576        ['block_2_depthwise[0][0]']      \n",
            " malization)                                                                                      \n",
            "                                                                                                  \n",
            " block_2_depthwise_relu (ReLU)  (None, 56, 56, 144)  0           ['block_2_depthwise_BN[0][0]']   \n",
            "                                                                                                  \n",
            " block_2_project (Conv2D)       (None, 56, 56, 24)   3456        ['block_2_depthwise_relu[0][0]'] \n",
            "                                                                                                  \n",
            " block_2_project_BN (BatchNorma  (None, 56, 56, 24)  96          ['block_2_project[0][0]']        \n",
            " lization)                                                                                        \n",
            "                                                                                                  \n",
            " block_2_add (Add)              (None, 56, 56, 24)   0           ['block_1_project_BN[0][0]',     \n",
            "                                                                  'block_2_project_BN[0][0]']     \n",
            "                                                                                                  \n",
            " block_3_expand (Conv2D)        (None, 56, 56, 144)  3456        ['block_2_add[0][0]']            \n",
            "                                                                                                  \n",
            " block_3_expand_BN (BatchNormal  (None, 56, 56, 144)  576        ['block_3_expand[0][0]']         \n",
            " ization)                                                                                         \n",
            "                                                                                                  \n",
            " block_3_expand_relu (ReLU)     (None, 56, 56, 144)  0           ['block_3_expand_BN[0][0]']      \n",
            "                                                                                                  \n",
            " block_3_pad (ZeroPadding2D)    (None, 57, 57, 144)  0           ['block_3_expand_relu[0][0]']    \n",
            "                                                                                                  \n",
            " block_3_depthwise (DepthwiseCo  (None, 28, 28, 144)  1296       ['block_3_pad[0][0]']            \n",
            " nv2D)                                                                                            \n",
            "                                                                                                  \n",
            " block_3_depthwise_BN (BatchNor  (None, 28, 28, 144)  576        ['block_3_depthwise[0][0]']      \n",
            " malization)                                                                                      \n",
            "                                                                                                  \n",
            " block_3_depthwise_relu (ReLU)  (None, 28, 28, 144)  0           ['block_3_depthwise_BN[0][0]']   \n",
            "                                                                                                  \n",
            " block_3_project (Conv2D)       (None, 28, 28, 32)   4608        ['block_3_depthwise_relu[0][0]'] \n",
            "                                                                                                  \n",
            " block_3_project_BN (BatchNorma  (None, 28, 28, 32)  128         ['block_3_project[0][0]']        \n",
            " lization)                                                                                        \n",
            "                                                                                                  \n",
            " block_4_expand (Conv2D)        (None, 28, 28, 192)  6144        ['block_3_project_BN[0][0]']     \n",
            "                                                                                                  \n",
            " block_4_expand_BN (BatchNormal  (None, 28, 28, 192)  768        ['block_4_expand[0][0]']         \n",
            " ization)                                                                                         \n",
            "                                                                                                  \n",
            " block_4_expand_relu (ReLU)     (None, 28, 28, 192)  0           ['block_4_expand_BN[0][0]']      \n",
            "                                                                                                  \n",
            " block_4_depthwise (DepthwiseCo  (None, 28, 28, 192)  1728       ['block_4_expand_relu[0][0]']    \n",
            " nv2D)                                                                                            \n",
            "                                                                                                  \n",
            " block_4_depthwise_BN (BatchNor  (None, 28, 28, 192)  768        ['block_4_depthwise[0][0]']      \n",
            " malization)                                                                                      \n",
            "                                                                                                  \n",
            " block_4_depthwise_relu (ReLU)  (None, 28, 28, 192)  0           ['block_4_depthwise_BN[0][0]']   \n",
            "                                                                                                  \n",
            " block_4_project (Conv2D)       (None, 28, 28, 32)   6144        ['block_4_depthwise_relu[0][0]'] \n",
            "                                                                                                  \n",
            " block_4_project_BN (BatchNorma  (None, 28, 28, 32)  128         ['block_4_project[0][0]']        \n",
            " lization)                                                                                        \n",
            "                                                                                                  \n",
            " block_4_add (Add)              (None, 28, 28, 32)   0           ['block_3_project_BN[0][0]',     \n",
            "                                                                  'block_4_project_BN[0][0]']     \n",
            "                                                                                                  \n",
            " block_5_expand (Conv2D)        (None, 28, 28, 192)  6144        ['block_4_add[0][0]']            \n",
            "                                                                                                  \n",
            " block_5_expand_BN (BatchNormal  (None, 28, 28, 192)  768        ['block_5_expand[0][0]']         \n",
            " ization)                                                                                         \n",
            "                                                                                                  \n",
            " block_5_expand_relu (ReLU)     (None, 28, 28, 192)  0           ['block_5_expand_BN[0][0]']      \n",
            "                                                                                                  \n",
            " block_5_depthwise (DepthwiseCo  (None, 28, 28, 192)  1728       ['block_5_expand_relu[0][0]']    \n",
            " nv2D)                                                                                            \n",
            "                                                                                                  \n",
            " block_5_depthwise_BN (BatchNor  (None, 28, 28, 192)  768        ['block_5_depthwise[0][0]']      \n",
            " malization)                                                                                      \n",
            "                                                                                                  \n",
            " block_5_depthwise_relu (ReLU)  (None, 28, 28, 192)  0           ['block_5_depthwise_BN[0][0]']   \n",
            "                                                                                                  \n",
            " block_5_project (Conv2D)       (None, 28, 28, 32)   6144        ['block_5_depthwise_relu[0][0]'] \n",
            "                                                                                                  \n",
            " block_5_project_BN (BatchNorma  (None, 28, 28, 32)  128         ['block_5_project[0][0]']        \n",
            " lization)                                                                                        \n",
            "                                                                                                  \n",
            " block_5_add (Add)              (None, 28, 28, 32)   0           ['block_4_add[0][0]',            \n",
            "                                                                  'block_5_project_BN[0][0]']     \n",
            "                                                                                                  \n",
            " block_6_expand (Conv2D)        (None, 28, 28, 192)  6144        ['block_5_add[0][0]']            \n",
            "                                                                                                  \n",
            " block_6_expand_BN (BatchNormal  (None, 28, 28, 192)  768        ['block_6_expand[0][0]']         \n",
            " ization)                                                                                         \n",
            "                                                                                                  \n",
            " block_6_expand_relu (ReLU)     (None, 28, 28, 192)  0           ['block_6_expand_BN[0][0]']      \n",
            "                                                                                                  \n",
            " block_6_pad (ZeroPadding2D)    (None, 29, 29, 192)  0           ['block_6_expand_relu[0][0]']    \n",
            "                                                                                                  \n",
            " block_6_depthwise (DepthwiseCo  (None, 14, 14, 192)  1728       ['block_6_pad[0][0]']            \n",
            " nv2D)                                                                                            \n",
            "                                                                                                  \n",
            " block_6_depthwise_BN (BatchNor  (None, 14, 14, 192)  768        ['block_6_depthwise[0][0]']      \n",
            " malization)                                                                                      \n",
            "                                                                                                  \n",
            " block_6_depthwise_relu (ReLU)  (None, 14, 14, 192)  0           ['block_6_depthwise_BN[0][0]']   \n",
            "                                                                                                  \n",
            " block_6_project (Conv2D)       (None, 14, 14, 64)   12288       ['block_6_depthwise_relu[0][0]'] \n",
            "                                                                                                  \n",
            " block_6_project_BN (BatchNorma  (None, 14, 14, 64)  256         ['block_6_project[0][0]']        \n",
            " lization)                                                                                        \n",
            "                                                                                                  \n",
            " block_7_expand (Conv2D)        (None, 14, 14, 384)  24576       ['block_6_project_BN[0][0]']     \n",
            "                                                                                                  \n",
            " block_7_expand_BN (BatchNormal  (None, 14, 14, 384)  1536       ['block_7_expand[0][0]']         \n",
            " ization)                                                                                         \n",
            "                                                                                                  \n",
            " block_7_expand_relu (ReLU)     (None, 14, 14, 384)  0           ['block_7_expand_BN[0][0]']      \n",
            "                                                                                                  \n",
            " block_7_depthwise (DepthwiseCo  (None, 14, 14, 384)  3456       ['block_7_expand_relu[0][0]']    \n",
            " nv2D)                                                                                            \n",
            "                                                                                                  \n",
            " block_7_depthwise_BN (BatchNor  (None, 14, 14, 384)  1536       ['block_7_depthwise[0][0]']      \n",
            " malization)                                                                                      \n",
            "                                                                                                  \n",
            " block_7_depthwise_relu (ReLU)  (None, 14, 14, 384)  0           ['block_7_depthwise_BN[0][0]']   \n",
            "                                                                                                  \n",
            " block_7_project (Conv2D)       (None, 14, 14, 64)   24576       ['block_7_depthwise_relu[0][0]'] \n",
            "                                                                                                  \n",
            " block_7_project_BN (BatchNorma  (None, 14, 14, 64)  256         ['block_7_project[0][0]']        \n",
            " lization)                                                                                        \n",
            "                                                                                                  \n",
            " block_7_add (Add)              (None, 14, 14, 64)   0           ['block_6_project_BN[0][0]',     \n",
            "                                                                  'block_7_project_BN[0][0]']     \n",
            "                                                                                                  \n",
            " block_8_expand (Conv2D)        (None, 14, 14, 384)  24576       ['block_7_add[0][0]']            \n",
            "                                                                                                  \n",
            " block_8_expand_BN (BatchNormal  (None, 14, 14, 384)  1536       ['block_8_expand[0][0]']         \n",
            " ization)                                                                                         \n",
            "                                                                                                  \n",
            " block_8_expand_relu (ReLU)     (None, 14, 14, 384)  0           ['block_8_expand_BN[0][0]']      \n",
            "                                                                                                  \n",
            " block_8_depthwise (DepthwiseCo  (None, 14, 14, 384)  3456       ['block_8_expand_relu[0][0]']    \n",
            " nv2D)                                                                                            \n",
            "                                                                                                  \n",
            " block_8_depthwise_BN (BatchNor  (None, 14, 14, 384)  1536       ['block_8_depthwise[0][0]']      \n",
            " malization)                                                                                      \n",
            "                                                                                                  \n",
            " block_8_depthwise_relu (ReLU)  (None, 14, 14, 384)  0           ['block_8_depthwise_BN[0][0]']   \n",
            "                                                                                                  \n",
            " block_8_project (Conv2D)       (None, 14, 14, 64)   24576       ['block_8_depthwise_relu[0][0]'] \n",
            "                                                                                                  \n",
            " block_8_project_BN (BatchNorma  (None, 14, 14, 64)  256         ['block_8_project[0][0]']        \n",
            " lization)                                                                                        \n",
            "                                                                                                  \n",
            " block_8_add (Add)              (None, 14, 14, 64)   0           ['block_7_add[0][0]',            \n",
            "                                                                  'block_8_project_BN[0][0]']     \n",
            "                                                                                                  \n",
            " block_9_expand (Conv2D)        (None, 14, 14, 384)  24576       ['block_8_add[0][0]']            \n",
            "                                                                                                  \n",
            " block_9_expand_BN (BatchNormal  (None, 14, 14, 384)  1536       ['block_9_expand[0][0]']         \n",
            " ization)                                                                                         \n",
            "                                                                                                  \n",
            " block_9_expand_relu (ReLU)     (None, 14, 14, 384)  0           ['block_9_expand_BN[0][0]']      \n",
            "                                                                                                  \n",
            " block_9_depthwise (DepthwiseCo  (None, 14, 14, 384)  3456       ['block_9_expand_relu[0][0]']    \n",
            " nv2D)                                                                                            \n",
            "                                                                                                  \n",
            " block_9_depthwise_BN (BatchNor  (None, 14, 14, 384)  1536       ['block_9_depthwise[0][0]']      \n",
            " malization)                                                                                      \n",
            "                                                                                                  \n",
            " block_9_depthwise_relu (ReLU)  (None, 14, 14, 384)  0           ['block_9_depthwise_BN[0][0]']   \n",
            "                                                                                                  \n",
            " block_9_project (Conv2D)       (None, 14, 14, 64)   24576       ['block_9_depthwise_relu[0][0]'] \n",
            "                                                                                                  \n",
            " block_9_project_BN (BatchNorma  (None, 14, 14, 64)  256         ['block_9_project[0][0]']        \n",
            " lization)                                                                                        \n",
            "                                                                                                  \n",
            " block_9_add (Add)              (None, 14, 14, 64)   0           ['block_8_add[0][0]',            \n",
            "                                                                  'block_9_project_BN[0][0]']     \n",
            "                                                                                                  \n",
            " block_10_expand (Conv2D)       (None, 14, 14, 384)  24576       ['block_9_add[0][0]']            \n",
            "                                                                                                  \n",
            " block_10_expand_BN (BatchNorma  (None, 14, 14, 384)  1536       ['block_10_expand[0][0]']        \n",
            " lization)                                                                                        \n",
            "                                                                                                  \n",
            " block_10_expand_relu (ReLU)    (None, 14, 14, 384)  0           ['block_10_expand_BN[0][0]']     \n",
            "                                                                                                  \n",
            " block_10_depthwise (DepthwiseC  (None, 14, 14, 384)  3456       ['block_10_expand_relu[0][0]']   \n",
            " onv2D)                                                                                           \n",
            "                                                                                                  \n",
            " block_10_depthwise_BN (BatchNo  (None, 14, 14, 384)  1536       ['block_10_depthwise[0][0]']     \n",
            " rmalization)                                                                                     \n",
            "                                                                                                  \n",
            " block_10_depthwise_relu (ReLU)  (None, 14, 14, 384)  0          ['block_10_depthwise_BN[0][0]']  \n",
            "                                                                                                  \n",
            " block_10_project (Conv2D)      (None, 14, 14, 96)   36864       ['block_10_depthwise_relu[0][0]']\n",
            "                                                                                                  \n",
            " block_10_project_BN (BatchNorm  (None, 14, 14, 96)  384         ['block_10_project[0][0]']       \n",
            " alization)                                                                                       \n",
            "                                                                                                  \n",
            " block_11_expand (Conv2D)       (None, 14, 14, 576)  55296       ['block_10_project_BN[0][0]']    \n",
            "                                                                                                  \n",
            " block_11_expand_BN (BatchNorma  (None, 14, 14, 576)  2304       ['block_11_expand[0][0]']        \n",
            " lization)                                                                                        \n",
            "                                                                                                  \n",
            " block_11_expand_relu (ReLU)    (None, 14, 14, 576)  0           ['block_11_expand_BN[0][0]']     \n",
            "                                                                                                  \n",
            " block_11_depthwise (DepthwiseC  (None, 14, 14, 576)  5184       ['block_11_expand_relu[0][0]']   \n",
            " onv2D)                                                                                           \n",
            "                                                                                                  \n",
            " block_11_depthwise_BN (BatchNo  (None, 14, 14, 576)  2304       ['block_11_depthwise[0][0]']     \n",
            " rmalization)                                                                                     \n",
            "                                                                                                  \n",
            " block_11_depthwise_relu (ReLU)  (None, 14, 14, 576)  0          ['block_11_depthwise_BN[0][0]']  \n",
            "                                                                                                  \n",
            " block_11_project (Conv2D)      (None, 14, 14, 96)   55296       ['block_11_depthwise_relu[0][0]']\n",
            "                                                                                                  \n",
            " block_11_project_BN (BatchNorm  (None, 14, 14, 96)  384         ['block_11_project[0][0]']       \n",
            " alization)                                                                                       \n",
            "                                                                                                  \n",
            " block_11_add (Add)             (None, 14, 14, 96)   0           ['block_10_project_BN[0][0]',    \n",
            "                                                                  'block_11_project_BN[0][0]']    \n",
            "                                                                                                  \n",
            " block_12_expand (Conv2D)       (None, 14, 14, 576)  55296       ['block_11_add[0][0]']           \n",
            "                                                                                                  \n",
            " block_12_expand_BN (BatchNorma  (None, 14, 14, 576)  2304       ['block_12_expand[0][0]']        \n",
            " lization)                                                                                        \n",
            "                                                                                                  \n",
            " block_12_expand_relu (ReLU)    (None, 14, 14, 576)  0           ['block_12_expand_BN[0][0]']     \n",
            "                                                                                                  \n",
            " block_12_depthwise (DepthwiseC  (None, 14, 14, 576)  5184       ['block_12_expand_relu[0][0]']   \n",
            " onv2D)                                                                                           \n",
            "                                                                                                  \n",
            " block_12_depthwise_BN (BatchNo  (None, 14, 14, 576)  2304       ['block_12_depthwise[0][0]']     \n",
            " rmalization)                                                                                     \n",
            "                                                                                                  \n",
            " block_12_depthwise_relu (ReLU)  (None, 14, 14, 576)  0          ['block_12_depthwise_BN[0][0]']  \n",
            "                                                                                                  \n",
            " block_12_project (Conv2D)      (None, 14, 14, 96)   55296       ['block_12_depthwise_relu[0][0]']\n",
            "                                                                                                  \n",
            " block_12_project_BN (BatchNorm  (None, 14, 14, 96)  384         ['block_12_project[0][0]']       \n",
            " alization)                                                                                       \n",
            "                                                                                                  \n",
            " block_12_add (Add)             (None, 14, 14, 96)   0           ['block_11_add[0][0]',           \n",
            "                                                                  'block_12_project_BN[0][0]']    \n",
            "                                                                                                  \n",
            " block_13_expand (Conv2D)       (None, 14, 14, 576)  55296       ['block_12_add[0][0]']           \n",
            "                                                                                                  \n",
            " block_13_expand_BN (BatchNorma  (None, 14, 14, 576)  2304       ['block_13_expand[0][0]']        \n",
            " lization)                                                                                        \n",
            "                                                                                                  \n",
            " block_13_expand_relu (ReLU)    (None, 14, 14, 576)  0           ['block_13_expand_BN[0][0]']     \n",
            "                                                                                                  \n",
            " block_13_pad (ZeroPadding2D)   (None, 15, 15, 576)  0           ['block_13_expand_relu[0][0]']   \n",
            "                                                                                                  \n",
            " block_13_depthwise (DepthwiseC  (None, 7, 7, 576)   5184        ['block_13_pad[0][0]']           \n",
            " onv2D)                                                                                           \n",
            "                                                                                                  \n",
            " block_13_depthwise_BN (BatchNo  (None, 7, 7, 576)   2304        ['block_13_depthwise[0][0]']     \n",
            " rmalization)                                                                                     \n",
            "                                                                                                  \n",
            " block_13_depthwise_relu (ReLU)  (None, 7, 7, 576)   0           ['block_13_depthwise_BN[0][0]']  \n",
            "                                                                                                  \n",
            " block_13_project (Conv2D)      (None, 7, 7, 160)    92160       ['block_13_depthwise_relu[0][0]']\n",
            "                                                                                                  \n",
            " block_13_project_BN (BatchNorm  (None, 7, 7, 160)   640         ['block_13_project[0][0]']       \n",
            " alization)                                                                                       \n",
            "                                                                                                  \n",
            " block_14_expand (Conv2D)       (None, 7, 7, 960)    153600      ['block_13_project_BN[0][0]']    \n",
            "                                                                                                  \n",
            " block_14_expand_BN (BatchNorma  (None, 7, 7, 960)   3840        ['block_14_expand[0][0]']        \n",
            " lization)                                                                                        \n",
            "                                                                                                  \n",
            " block_14_expand_relu (ReLU)    (None, 7, 7, 960)    0           ['block_14_expand_BN[0][0]']     \n",
            "                                                                                                  \n",
            " block_14_depthwise (DepthwiseC  (None, 7, 7, 960)   8640        ['block_14_expand_relu[0][0]']   \n",
            " onv2D)                                                                                           \n",
            "                                                                                                  \n",
            " block_14_depthwise_BN (BatchNo  (None, 7, 7, 960)   3840        ['block_14_depthwise[0][0]']     \n",
            " rmalization)                                                                                     \n",
            "                                                                                                  \n",
            " block_14_depthwise_relu (ReLU)  (None, 7, 7, 960)   0           ['block_14_depthwise_BN[0][0]']  \n",
            "                                                                                                  \n",
            " block_14_project (Conv2D)      (None, 7, 7, 160)    153600      ['block_14_depthwise_relu[0][0]']\n",
            "                                                                                                  \n",
            " block_14_project_BN (BatchNorm  (None, 7, 7, 160)   640         ['block_14_project[0][0]']       \n",
            " alization)                                                                                       \n",
            "                                                                                                  \n",
            " block_14_add (Add)             (None, 7, 7, 160)    0           ['block_13_project_BN[0][0]',    \n",
            "                                                                  'block_14_project_BN[0][0]']    \n",
            "                                                                                                  \n",
            " block_15_expand (Conv2D)       (None, 7, 7, 960)    153600      ['block_14_add[0][0]']           \n",
            "                                                                                                  \n",
            " block_15_expand_BN (BatchNorma  (None, 7, 7, 960)   3840        ['block_15_expand[0][0]']        \n",
            " lization)                                                                                        \n",
            "                                                                                                  \n",
            " block_15_expand_relu (ReLU)    (None, 7, 7, 960)    0           ['block_15_expand_BN[0][0]']     \n",
            "                                                                                                  \n",
            " block_15_depthwise (DepthwiseC  (None, 7, 7, 960)   8640        ['block_15_expand_relu[0][0]']   \n",
            " onv2D)                                                                                           \n",
            "                                                                                                  \n",
            " block_15_depthwise_BN (BatchNo  (None, 7, 7, 960)   3840        ['block_15_depthwise[0][0]']     \n",
            " rmalization)                                                                                     \n",
            "                                                                                                  \n",
            " block_15_depthwise_relu (ReLU)  (None, 7, 7, 960)   0           ['block_15_depthwise_BN[0][0]']  \n",
            "                                                                                                  \n",
            " block_15_project (Conv2D)      (None, 7, 7, 160)    153600      ['block_15_depthwise_relu[0][0]']\n",
            "                                                                                                  \n",
            " block_15_project_BN (BatchNorm  (None, 7, 7, 160)   640         ['block_15_project[0][0]']       \n",
            " alization)                                                                                       \n",
            "                                                                                                  \n",
            " block_15_add (Add)             (None, 7, 7, 160)    0           ['block_14_add[0][0]',           \n",
            "                                                                  'block_15_project_BN[0][0]']    \n",
            "                                                                                                  \n",
            " block_16_expand (Conv2D)       (None, 7, 7, 960)    153600      ['block_15_add[0][0]']           \n",
            "                                                                                                  \n",
            " block_16_expand_BN (BatchNorma  (None, 7, 7, 960)   3840        ['block_16_expand[0][0]']        \n",
            " lization)                                                                                        \n",
            "                                                                                                  \n",
            " block_16_expand_relu (ReLU)    (None, 7, 7, 960)    0           ['block_16_expand_BN[0][0]']     \n",
            "                                                                                                  \n",
            " block_16_depthwise (DepthwiseC  (None, 7, 7, 960)   8640        ['block_16_expand_relu[0][0]']   \n",
            " onv2D)                                                                                           \n",
            "                                                                                                  \n",
            " block_16_depthwise_BN (BatchNo  (None, 7, 7, 960)   3840        ['block_16_depthwise[0][0]']     \n",
            " rmalization)                                                                                     \n",
            "                                                                                                  \n",
            " block_16_depthwise_relu (ReLU)  (None, 7, 7, 960)   0           ['block_16_depthwise_BN[0][0]']  \n",
            "                                                                                                  \n",
            " block_16_project (Conv2D)      (None, 7, 7, 320)    307200      ['block_16_depthwise_relu[0][0]']\n",
            "                                                                                                  \n",
            " block_16_project_BN (BatchNorm  (None, 7, 7, 320)   1280        ['block_16_project[0][0]']       \n",
            " alization)                                                                                       \n",
            "                                                                                                  \n",
            " Conv_1 (Conv2D)                (None, 7, 7, 1280)   409600      ['block_16_project_BN[0][0]']    \n",
            "                                                                                                  \n",
            " Conv_1_bn (BatchNormalization)  (None, 7, 7, 1280)  5120        ['Conv_1[0][0]']                 \n",
            "                                                                                                  \n",
            " out_relu (ReLU)                (None, 7, 7, 1280)   0           ['Conv_1_bn[0][0]']              \n",
            "                                                                                                  \n",
            " global_average_pooling2d (Glob  (None, 1280)        0           ['out_relu[0][0]']               \n",
            " alAveragePooling2D)                                                                              \n",
            "                                                                                                  \n",
            " dense_93 (Dense)               (None, 1024)         1311744     ['global_average_pooling2d[0][0]'\n",
            "                                                                 ]                                \n",
            "                                                                                                  \n",
            " dense_94 (Dense)               (None, 512)          524800      ['dense_93[0][0]']               \n",
            "                                                                                                  \n",
            " dense_95 (Dense)               (None, 512)          262656      ['dense_94[0][0]']               \n",
            "                                                                                                  \n",
            " dense_96 (Dense)               (None, 10)           5130        ['dense_95[0][0]']               \n",
            "                                                                                                  \n",
            "==================================================================================================\n",
            "Total params: 4,362,314\n",
            "Trainable params: 2,104,330\n",
            "Non-trainable params: 2,257,984\n",
            "__________________________________________________________________________________________________\n",
            "None\n"
          ]
        }
      ]
    },
    {
      "cell_type": "code",
      "execution_count": null,
      "metadata": {
        "id": "fsuQ4nqs0Nyl",
        "colab": {
          "base_uri": "https://localhost:8080/",
          "height": 17
        },
        "outputId": "bc67e7a1-1bdd-477c-9051-6c002d894d24"
      },
      "outputs": [
        {
          "output_type": "display_data",
          "data": {
            "text/plain": [
              "<IPython.core.display.Javascript object>"
            ],
            "application/javascript": [
              "google.colab.output.setIframeHeight(0, true, {maxHeight: 300})"
            ]
          },
          "metadata": {}
        }
      ],
      "source": [
        "# # USING A LEARNING RATE DECAY/SCHEDULING --> https://keras.io/api/optimizers/\n",
        "# lr_schedule = keras.optimizers.schedules.ExponentialDecay(\n",
        "#     initial_learning_rate = 0.0001, # previously 0.001\n",
        "#     decay_steps=10000, # previously 10000\n",
        "#     decay_rate=0.95) # previously 0.95\n",
        "\n",
        "# # COMPILE THE MODEL\n",
        "# model_mobilenetv2.compile(loss=keras.losses.categorical_crossentropy,\n",
        "#             optimizer= keras.optimizers.Adam(learning_rate=lr_schedule), # previously 0.0001\n",
        "#             metrics=['accuracy'])"
      ]
    },
    {
      "cell_type": "code",
      "execution_count": null,
      "metadata": {
        "colab": {
          "base_uri": "https://localhost:8080/",
          "height": 300
        },
        "id": "z-5aIdic5upG",
        "outputId": "7fc6ab1d-1475-4df9-c440-02e678a05237"
      },
      "outputs": [
        {
          "output_type": "display_data",
          "data": {
            "text/plain": [
              "<IPython.core.display.Javascript object>"
            ],
            "application/javascript": [
              "google.colab.output.setIframeHeight(0, true, {maxHeight: 300})"
            ]
          },
          "metadata": {}
        },
        {
          "output_type": "stream",
          "name": "stdout",
          "text": [
            "Epoch 1/10\n",
            "112/112 [==============================] - 28s 223ms/step - loss: 0.0040 - accuracy: 0.9989 - val_loss: 0.5002 - val_accuracy: 0.9306\n",
            "Epoch 2/10\n",
            "112/112 [==============================] - 28s 251ms/step - loss: 7.8363e-04 - accuracy: 1.0000 - val_loss: 0.5094 - val_accuracy: 0.9306\n",
            "Epoch 3/10\n",
            "112/112 [==============================] - 25s 221ms/step - loss: 0.0017 - accuracy: 0.9994 - val_loss: 0.4955 - val_accuracy: 0.9306\n",
            "Epoch 4/10\n",
            "112/112 [==============================] - 25s 220ms/step - loss: 0.0020 - accuracy: 0.9989 - val_loss: 0.4985 - val_accuracy: 0.9306\n",
            "Epoch 5/10\n",
            "112/112 [==============================] - 24s 212ms/step - loss: 6.4927e-05 - accuracy: 1.0000 - val_loss: 0.4975 - val_accuracy: 0.9375\n",
            "Epoch 6/10\n",
            "112/112 [==============================] - 24s 215ms/step - loss: 2.2388e-04 - accuracy: 1.0000 - val_loss: 0.4854 - val_accuracy: 0.9375\n",
            "Epoch 7/10\n",
            "112/112 [==============================] - 24s 213ms/step - loss: 3.3660e-04 - accuracy: 1.0000 - val_loss: 0.4813 - val_accuracy: 0.9375\n",
            "Epoch 8/10\n",
            "112/112 [==============================] - 24s 213ms/step - loss: 3.0575e-04 - accuracy: 1.0000 - val_loss: 0.4874 - val_accuracy: 0.9375\n",
            "Epoch 9/10\n",
            "112/112 [==============================] - 24s 212ms/step - loss: 3.2867e-05 - accuracy: 1.0000 - val_loss: 0.4874 - val_accuracy: 0.9375\n",
            "Epoch 10/10\n",
            "112/112 [==============================] - 25s 220ms/step - loss: 3.1508e-04 - accuracy: 1.0000 - val_loss: 0.5034 - val_accuracy: 0.9306\n",
            "--- Training Completed ---\n",
            "Total execution time:  0:05:29.576205\n"
          ]
        }
      ],
      "source": [
        "# stepsEpochs = train_generator_mnetv2.n // 16\n",
        "# valSteps = test_generator_mnetv2.n // 16\n",
        "\n",
        "# # START COUNTING THE TIME\n",
        "# start = datetime.datetime.now()\n",
        "\n",
        "# # FIT THE MODEL\n",
        "# history_mobilenetV2 = model_mobilenetv2.fit(train_generator_mnetv2,\n",
        "#                                             validation_data = test_generator_mnetv2,\n",
        "#                                             steps_per_epoch = stepsEpochs,\n",
        "#                                             validation_steps = valSteps, \n",
        "#                                             epochs=10, \n",
        "#                                             callbacks = [callback])\n",
        "                  \n",
        "# print(\"--- Training Completed ---\")\n",
        "\n",
        "# # STOP COUNTING THE TIME\n",
        "# end = datetime.datetime.now()\n",
        "# print(\"Total execution time: \", end-start)"
      ]
    },
    {
      "cell_type": "markdown",
      "source": [
        "**Using GridSearch Cross validation for training MobileNetV2**"
      ],
      "metadata": {
        "id": "dWGv6wO3GiOc"
      }
    },
    {
      "cell_type": "code",
      "source": [
        "# USE THE FLOW FROM DIRECTORY ONLY FOR THE TRAIN BECAUSE THE GRIDSEARCHCV METHOD\n",
        "# WILL CREATE ITS OWN TEST SET\n",
        "itr = train_datagen_mnetv2.flow_from_directory(\n",
        "    base_path_train,\n",
        "    target_size=(224, 224),\n",
        "    batch_size=1803, # you flow through the entire training dataset and get all the images, using just one batch size!\n",
        "    class_mode='categorical')\n",
        "\n",
        "X, y = itr.next()"
      ],
      "metadata": {
        "colab": {
          "base_uri": "https://localhost:8080/",
          "height": 35
        },
        "id": "cvGNw-icScwn",
        "outputId": "88da29a6-fb78-4352-a2b2-9a9977058a97"
      },
      "execution_count": 62,
      "outputs": [
        {
          "output_type": "display_data",
          "data": {
            "text/plain": [
              "<IPython.core.display.Javascript object>"
            ],
            "application/javascript": [
              "google.colab.output.setIframeHeight(0, true, {maxHeight: 300})"
            ]
          },
          "metadata": {}
        },
        {
          "output_type": "stream",
          "name": "stdout",
          "text": [
            "Found 3004 images belonging to 10 classes.\n"
          ]
        }
      ]
    },
    {
      "cell_type": "code",
      "source": [
        "from sklearn.metrics import make_scorer\n",
        "from sklearn.metrics import accuracy_score, precision_score, recall_score\n",
        "\n",
        "# DEFINE THE GRID SEARCH PARAMETERS\n",
        "# batch_size = [16, 32]\n",
        "optimizer = ['SGD', 'Adam']\n",
        "lr = [0.001, 0.0001]\n",
        "activation = ['relu', 'LeakyRelu']\n",
        "\n",
        "param_grid_CV = {\n",
        "    # 'batch_size': batch_size,\n",
        "    'optimizer': optimizer,\n",
        "    'lr': lr,\n",
        "    'activation': activation\n",
        "}\n",
        "\n",
        "scores = [\"recall\"]\n",
        "\n",
        "\n",
        "# DEFINE THE GRIDSEARCHCV METHOD\n",
        "# grid_cv = GridSearchCV(estimator=model_gridsearchcv, param_grid=param_grid, n_jobs = 1, cv=3, error_score=\"raise\")\n",
        "n_iter_search = 32 \n",
        "\n",
        "# WRAP THE MODEL IN A KERAS WRAPPER BEFORE FEEDING IT TO THE RANDOMIZEDSEARCHCV\n",
        "Kmodel = KerasClassifier(model=create_mobilenetGSCV_model,\n",
        "                         epochs = 10,  \n",
        "                         lr = 0.1,\n",
        "                         verbose = 3,\n",
        "                         activation = 'relu',\n",
        "                         optimizer='Adam')\n",
        "\n",
        "grid_cv_mobilenetv2 = RandomizedSearchCV(estimator = Kmodel, \n",
        "                                         param_distributions = param_grid_CV, \n",
        "                                        #  scoring=scores,\n",
        "                                         scoring=scorers,\n",
        "                                         refit='recall_score',\n",
        "                                         n_jobs = 1,\n",
        "                                         n_iter=n_iter_search,\n",
        "                                         cv = 2, \n",
        "                                         error_score = \"raise\")\n",
        "\n",
        "grid_cv_mobilenetv2"
      ],
      "metadata": {
        "colab": {
          "base_uri": "https://localhost:8080/",
          "height": 181
        },
        "id": "LCBvjbIzN467",
        "outputId": "f6621274-b89e-41e8-f49d-69f36492cfc4"
      },
      "execution_count": 67,
      "outputs": [
        {
          "output_type": "display_data",
          "data": {
            "text/plain": [
              "<IPython.core.display.Javascript object>"
            ],
            "application/javascript": [
              "google.colab.output.setIframeHeight(0, true, {maxHeight: 300})"
            ]
          },
          "metadata": {}
        },
        {
          "output_type": "execute_result",
          "data": {
            "text/plain": [
              "RandomizedSearchCV(cv=2, error_score='raise',\n",
              "                   estimator=KerasClassifier(activation='relu', epochs=10, lr=0.1, model=<function create_mobilenetGSCV_model at 0x7f0596fa6d30>, optimizer='Adam', verbose=3),\n",
              "                   n_iter=32, n_jobs=1,\n",
              "                   param_distributions={'activation': ['relu', 'LeakyRelu'],\n",
              "                                        'lr': [0.001, 0.0001],\n",
              "                                        'optimizer': ['SGD', 'Adam']},\n",
              "                   refit='recall_score',\n",
              "                   scoring={'recall_score': make_scorer(recall_score, average=micro)})"
            ]
          },
          "metadata": {},
          "execution_count": 67
        }
      ]
    },
    {
      "cell_type": "code",
      "source": [
        "# START COUNTING THE TIME\n",
        "start = datetime.datetime.now()\n",
        "\n",
        "# FIT THE GRIDSEARCH MODEL\n",
        "history_grid_fit_mobilenetV2 = grid_cv_mobilenetv2.fit(X, y)\n",
        "\n",
        "print(\"--- Training Completed ---\") \n",
        "\n",
        "# STOP COUNTING THE TIME\n",
        "end = datetime.datetime.now()\n",
        "print(\"Total execution time is: \", end-start)"
      ],
      "metadata": {
        "id": "5uAhIgonMkPY",
        "colab": {
          "base_uri": "https://localhost:8080/",
          "height": 300
        },
        "outputId": "367a2dcb-130c-4d89-c01c-0cb0ae141698"
      },
      "execution_count": 68,
      "outputs": [
        {
          "output_type": "display_data",
          "data": {
            "text/plain": [
              "<IPython.core.display.Javascript object>"
            ],
            "application/javascript": [
              "google.colab.output.setIframeHeight(0, true, {maxHeight: 300})"
            ]
          },
          "metadata": {}
        },
        {
          "output_type": "stream",
          "name": "stderr",
          "text": [
            "/usr/local/lib/python3.8/dist-packages/sklearn/model_selection/_search.py:292: UserWarning: The total space of parameters 8 is smaller than n_iter=32. Running 8 iterations. For exhaustive searches, use GridSearchCV.\n",
            "  warnings.warn(\n"
          ]
        },
        {
          "output_type": "stream",
          "name": "stdout",
          "text": [
            "Epoch 1/10\n",
            "Epoch 2/10\n",
            "Epoch 3/10\n",
            "Epoch 4/10\n",
            "Epoch 5/10\n",
            "Epoch 6/10\n",
            "Epoch 7/10\n",
            "Epoch 8/10\n",
            "Epoch 9/10\n",
            "Epoch 10/10\n",
            "Epoch 1/10\n",
            "Epoch 2/10\n",
            "Epoch 3/10\n",
            "Epoch 4/10\n",
            "Epoch 5/10\n",
            "Epoch 6/10\n",
            "Epoch 7/10\n",
            "Epoch 8/10\n",
            "Epoch 9/10\n",
            "Epoch 10/10\n",
            "Epoch 1/10\n",
            "Epoch 2/10\n",
            "Epoch 3/10\n",
            "Epoch 4/10\n",
            "Epoch 5/10\n",
            "Epoch 6/10\n",
            "Epoch 7/10\n",
            "Epoch 8/10\n",
            "Epoch 9/10\n",
            "Epoch 10/10\n",
            "Epoch 1/10\n",
            "Epoch 2/10\n",
            "Epoch 3/10\n",
            "Epoch 4/10\n",
            "Epoch 5/10\n",
            "Epoch 6/10\n",
            "Epoch 7/10\n",
            "Epoch 8/10\n",
            "Epoch 9/10\n",
            "Epoch 10/10\n",
            "Epoch 1/10\n",
            "Epoch 2/10\n",
            "Epoch 3/10\n",
            "Epoch 4/10\n",
            "Epoch 5/10\n",
            "Epoch 6/10\n",
            "Epoch 7/10\n",
            "Epoch 8/10\n",
            "Epoch 9/10\n",
            "Epoch 10/10\n",
            "Epoch 1/10\n",
            "Epoch 2/10\n",
            "Epoch 3/10\n",
            "Epoch 4/10\n",
            "Epoch 5/10\n",
            "Epoch 6/10\n",
            "Epoch 7/10\n",
            "Epoch 8/10\n",
            "Epoch 9/10\n",
            "Epoch 10/10\n",
            "Epoch 1/10\n",
            "Epoch 2/10\n",
            "Epoch 3/10\n",
            "Epoch 4/10\n",
            "Epoch 5/10\n",
            "Epoch 6/10\n",
            "Epoch 7/10\n",
            "Epoch 8/10\n",
            "Epoch 9/10\n",
            "Epoch 10/10\n",
            "Epoch 1/10\n",
            "Epoch 2/10\n",
            "Epoch 3/10\n",
            "Epoch 4/10\n",
            "Epoch 5/10\n",
            "Epoch 6/10\n",
            "Epoch 7/10\n",
            "Epoch 8/10\n",
            "Epoch 9/10\n",
            "Epoch 10/10\n",
            "Epoch 1/10\n",
            "Epoch 2/10\n",
            "Epoch 3/10\n",
            "Epoch 4/10\n",
            "Epoch 5/10\n",
            "Epoch 6/10\n",
            "Epoch 7/10\n",
            "Epoch 8/10\n",
            "Epoch 9/10\n",
            "Epoch 10/10\n",
            "Epoch 1/10\n",
            "Epoch 2/10\n",
            "Epoch 3/10\n",
            "Epoch 4/10\n",
            "Epoch 5/10\n",
            "Epoch 6/10\n",
            "Epoch 7/10\n",
            "Epoch 8/10\n",
            "Epoch 9/10\n",
            "Epoch 10/10\n",
            "Epoch 1/10\n",
            "Epoch 2/10\n",
            "Epoch 3/10\n",
            "Epoch 4/10\n",
            "Epoch 5/10\n",
            "Epoch 6/10\n",
            "Epoch 7/10\n",
            "Epoch 8/10\n",
            "Epoch 9/10\n",
            "Epoch 10/10\n",
            "Epoch 1/10\n",
            "Epoch 2/10\n",
            "Epoch 3/10\n",
            "Epoch 4/10\n",
            "Epoch 5/10\n",
            "Epoch 6/10\n",
            "Epoch 7/10\n",
            "Epoch 8/10\n",
            "Epoch 9/10\n",
            "Epoch 10/10\n",
            "Epoch 1/10\n",
            "Epoch 2/10\n",
            "Epoch 3/10\n",
            "Epoch 4/10\n",
            "Epoch 5/10\n",
            "Epoch 6/10\n",
            "Epoch 7/10\n",
            "Epoch 8/10\n",
            "Epoch 9/10\n",
            "Epoch 10/10\n",
            "Epoch 1/10\n",
            "Epoch 2/10\n",
            "Epoch 3/10\n",
            "Epoch 4/10\n",
            "Epoch 5/10\n",
            "Epoch 6/10\n",
            "Epoch 7/10\n",
            "Epoch 8/10\n",
            "Epoch 9/10\n",
            "Epoch 10/10\n",
            "Epoch 1/10\n",
            "Epoch 2/10\n",
            "Epoch 3/10\n",
            "Epoch 4/10\n",
            "Epoch 5/10\n",
            "Epoch 6/10\n",
            "Epoch 7/10\n",
            "Epoch 8/10\n",
            "Epoch 9/10\n",
            "Epoch 10/10\n",
            "Epoch 1/10\n",
            "Epoch 2/10\n",
            "Epoch 3/10\n",
            "Epoch 4/10\n",
            "Epoch 5/10\n",
            "Epoch 6/10\n",
            "Epoch 7/10\n",
            "Epoch 8/10\n",
            "Epoch 9/10\n",
            "Epoch 10/10\n",
            "Epoch 1/10\n",
            "Epoch 2/10\n",
            "Epoch 3/10\n",
            "Epoch 4/10\n",
            "Epoch 5/10\n",
            "Epoch 6/10\n",
            "Epoch 7/10\n",
            "Epoch 8/10\n",
            "Epoch 9/10\n",
            "Epoch 10/10\n",
            "--- Training Completed ---\n",
            "Total execution time is:  0:06:23.136528\n"
          ]
        }
      ]
    },
    {
      "cell_type": "code",
      "source": [
        "# SUMMARIZE RESULTS\n",
        "\n",
        "print(\"Best: %f using %s\" % (history_grid_fit_mobilenetV2.best_score_, history_grid_fit_mobilenetV2.best_params_))\n",
        "means = history_grid_fit_mobilenetV2.cv_results_['mean_test_recall_score']\n",
        "stds = history_grid_fit_mobilenetV2.cv_results_['std_test_recall_score']\n",
        "params = history_grid_fit_mobilenetV2.cv_results_['params']\n",
        "\n",
        "for mean, stdev, param in zip(means, stds, params):\n",
        "    print(\"%f (%f) with: %r\" % (mean, stdev, param))"
      ],
      "metadata": {
        "id": "fwlrPbImO3AD",
        "colab": {
          "base_uri": "https://localhost:8080/",
          "height": 181
        },
        "outputId": "313d531f-b5f8-45ea-99eb-a85ca2e223af"
      },
      "execution_count": 70,
      "outputs": [
        {
          "output_type": "display_data",
          "data": {
            "text/plain": [
              "<IPython.core.display.Javascript object>"
            ],
            "application/javascript": [
              "google.colab.output.setIframeHeight(0, true, {maxHeight: 300})"
            ]
          },
          "metadata": {}
        },
        {
          "output_type": "stream",
          "name": "stdout",
          "text": [
            "Best: 0.962284 using {'optimizer': 'SGD', 'lr': 0.0001, 'activation': 'LeakyRelu'}\n",
            "0.959507 (0.008342) with: {'optimizer': 'SGD', 'lr': 0.001, 'activation': 'relu'}\n",
            "0.961726 (0.008341) with: {'optimizer': 'Adam', 'lr': 0.001, 'activation': 'relu'}\n",
            "0.956180 (0.007235) with: {'optimizer': 'SGD', 'lr': 0.0001, 'activation': 'relu'}\n",
            "0.962281 (0.007786) with: {'optimizer': 'Adam', 'lr': 0.0001, 'activation': 'relu'}\n",
            "0.958952 (0.010006) with: {'optimizer': 'SGD', 'lr': 0.001, 'activation': 'LeakyRelu'}\n",
            "0.959507 (0.009451) with: {'optimizer': 'Adam', 'lr': 0.001, 'activation': 'LeakyRelu'}\n",
            "0.962284 (0.002239) with: {'optimizer': 'SGD', 'lr': 0.0001, 'activation': 'LeakyRelu'}\n",
            "0.960618 (0.005014) with: {'optimizer': 'Adam', 'lr': 0.0001, 'activation': 'LeakyRelu'}\n"
          ]
        }
      ]
    },
    {
      "cell_type": "code",
      "source": [
        "# stepsEpochs = train_generator_mnetv2.n // 16\n",
        "# valSteps = test_generator_mnetv2.n // 16\n",
        "\n",
        "# # START RECORDING TIME\n",
        "# start = datetime.datetime.now()\n",
        "\n",
        "# print(\"--- Starting Training ---\")\n",
        "\n",
        "# # DEFINE THE K-FOLD CROSS VALIDATOR\n",
        "# kfold = KFold(n_splits = 5, shuffle=True)\n",
        "\n",
        "# # DEFINE PER-FOLD SCORE CONTAINERS\n",
        "# val_acc_per_folder = []\n",
        "# acc_per_folder = []\n",
        "# loss_per_folder = []\n",
        "# val_loss_per_folder = []\n",
        "\n",
        "# # K-FOLD CROSS VALIDATION MODEL EVALUTION\n",
        "# fold_no = 1\n",
        "# for train, test in kfold.split(train_generator_mnetv2, train_generator_mnetv2):\n",
        "  \n",
        "#   ############## NEURAL NETWORK MODEL ##################\n",
        "\n",
        "#   x = base_model_mobilenetv2.output\n",
        "#   x = keras.layers.GlobalAveragePooling2D()(x)\n",
        "#   x = keras.layers.Dense(1024, activation='relu')(x)\n",
        "#   x = keras.layers.Dense(512, activation='relu')(x)\n",
        "#   x = keras.layers.Dense(512, activation='relu')(x)\n",
        "#   # We are using \"softmax\" since we want 9 probability values that all sum to 1 and the highest probability\n",
        "#   # will be our classification result.\n",
        "#   # For the regularizer: https://github.com/christianversloot/machine-learning-articles/blob/main/how-to-use-l1-l2-and-elastic-net-regularization-with-keras.md\n",
        "#   preds = Dense(num_classes, activation='softmax')(x) #final layer with softmax activation for N classes\n",
        "\n",
        "#   model_mobilenetv2_CV = keras.Model(inputs = base_model_mobilenetv2.input, outputs = preds) #specify the inputs and outputs\n",
        "\n",
        "#   # USING A LEARNING RATE DECAY/SCHEDULING --> https://keras.io/api/optimizers/\n",
        "#   lr_schedule = keras.optimizers.schedules.ExponentialDecay(\n",
        "#       initial_learning_rate = 0.0001, # previously 0.001\n",
        "#       decay_steps=10000, # previously 10000\n",
        "#       decay_rate=0.95) # previously 0.95\n",
        "\n",
        "#   # COMPILE THE MODEL\n",
        "#   model_mobilenetv2_CV.compile(loss=keras.losses.categorical_crossentropy,\n",
        "#               optimizer= keras.optimizers.Adam(learning_rate=lr_schedule), # previously 0.0001\n",
        "#               metrics=['accuracy'])\n",
        "\n",
        "#   # GENERATE A MESSAGE\n",
        "#   print('------------------------------------------------------------------------')\n",
        "#   print(f'--- Training for fold {fold_no} ---')\n",
        " \n",
        "#   # FIT THE MODEL AND USE ON-HOT ENCODED Y VALUES\n",
        "#   # FIT THE MODEL\n",
        "#   history_mobilenetV2_CV = model_mobilenetv2_CV.fit(train_generator_mnetv2,\n",
        "#                                                  validation_data = test_generator_mnetv2,\n",
        "#                                                  steps_per_epoch = stepsEpochs,\n",
        "#                                                  validation_steps = valSteps, \n",
        "#                                                  epochs=15, \n",
        "#                                                  callbacks = [callback])\n",
        "\n",
        "  \n",
        "#   # GENERATE GENERALIZATION METRICS\n",
        "#   ## PREDICT ON TEST DATASET\n",
        "\n",
        "#   # PRINT OVERALL ACCURACY\n",
        "#   # print (\"Accuracy = \", metrics.accuracy_score(test_labels, predict_test_PCA))\n",
        "\n",
        "#   # ACCURACY PER FOLDER\n",
        "#   acc_per_folder.append(np.mean(history_mobilenetV2_CV.history['accuracy']))\n",
        "#   val_acc_per_folder.append(np.mean(history_mobilenetV2_CV.history['val_accuracy']))\n",
        "#   loss_per_folder.append(np.mean(history_mobilenetV2_CV.history['loss']))\n",
        "#   val_loss_per_folder.append(np.mean(history_mobilenetV2_CV.history['val_loss']))\n",
        "\n",
        "#   # INCREASE FOLDER NUMBER\n",
        "#   fold_no = fold_no + 1\n",
        "\n",
        "# print(\"--- Training Completed ---\")\n",
        "# # END RECORDING TIME\n",
        "# end = datetime.datetime.now()\n",
        "# print(\"Total execution time is: \", end - start)"
      ],
      "metadata": {
        "id": "4Go2meyZtEuc"
      },
      "execution_count": null,
      "outputs": []
    },
    {
      "cell_type": "markdown",
      "source": [
        "# NON HA SENSO IL SEGUENTE CODICE NELLA CELLA; LO SI USA PER IL MODELLO IN SE NON PER IL RANDOMIZEDGRIDSEARCH!"
      ],
      "metadata": {
        "id": "2-uA12SZAVBI"
      }
    },
    {
      "cell_type": "code",
      "execution_count": null,
      "metadata": {
        "id": "A_8qYFsH5umv"
      },
      "outputs": [],
      "source": [
        "# # PLOT THEM TOGETHER\n",
        "# # Visualization of the learning curves\n",
        "# plt.figure(figsize=(15,6))\n",
        "\n",
        "# # PER IL PLOT DOVRESTI USARE GLI ELEMENTI DERIVANTI DA history_grid_fit_mobilenetV2\n",
        "\n",
        "# plt.subplot(1, 2, 1)\n",
        "# plt.plot(history_grid_fit_mobilenetV2.history['loss'])\n",
        "# plt.plot(history_grid_fit_mobilenetV2.history['val_loss'])\n",
        "# plt.ylim([0.0, 3.0])\n",
        "# plt.title(\"Loss & Val loss MobileNetV2\")\n",
        "# plt.xlabel('Epoch')\n",
        "# plt.ylabel('Loss')\n",
        "# plt.legend(['train', 'valid'])\n",
        "\n",
        "# plt.subplot(1, 2, 2)\n",
        "# plt.plot(history_grid_fit_mobilenetV2.history['accuracy'])\n",
        "# plt.plot(history_grid_fit_mobilenetV2.history['val_accuracy'])\n",
        "# plt.ylim([0.0, 1.0])\n",
        "# plt.title(\"Accuracy & Val accuracy MobileNetV2\")\n",
        "# plt.xlabel('Epoch')\n",
        "# plt.ylabel('Accuracy')\n",
        "# plt.legend(['train', 'valid'])"
      ]
    },
    {
      "cell_type": "markdown",
      "source": [
        "##### Performance results Model V06 Transfer Learning with MobileNetV2"
      ],
      "metadata": {
        "id": "ssixy4acdyXJ"
      }
    },
    {
      "cell_type": "code",
      "source": [
        "# SAVE THE TIME NEEDED TO RUN THE ALGORITHM\n",
        "time_duration_modelV06_mobilenetV2 = end - start\n",
        "print(time_duration_modelV06_mobilenetV2)"
      ],
      "metadata": {
        "id": "fDD5h3F5d1y-",
        "colab": {
          "base_uri": "https://localhost:8080/",
          "height": 35
        },
        "outputId": "1375c60d-05af-457c-de7d-97f63d4d6514"
      },
      "execution_count": 72,
      "outputs": [
        {
          "output_type": "display_data",
          "data": {
            "text/plain": [
              "<IPython.core.display.Javascript object>"
            ],
            "application/javascript": [
              "google.colab.output.setIframeHeight(0, true, {maxHeight: 300})"
            ]
          },
          "metadata": {}
        },
        {
          "output_type": "stream",
          "name": "stdout",
          "text": [
            "0:06:23.136528\n"
          ]
        }
      ]
    },
    {
      "cell_type": "code",
      "source": [
        "# SAVE THE MODELV05 GRIDSEARCHCV\n",
        "keras_file_mobilenetV2_model_gridsearchCV = \"/content/gdrive/MyDrive/Data_Science_2020-2022/Secondo_anno_Secondo_Semestre/FoDL_Project/Project_Example_Food/saved_models/model_gridsearchCV.h5\"\n",
        "tf.keras.models.save_model(create_mobilenetGSCV_model(), keras_file_mobilenetV2_model_gridsearchCV) # MODIFY MODEL WITH YOUR OWN MODEL"
      ],
      "metadata": {
        "id": "Hb5_wKCcZBaN",
        "colab": {
          "base_uri": "https://localhost:8080/",
          "height": 17
        },
        "outputId": "0fd533ea-108b-4ade-a3f7-1f0c6cec72ed"
      },
      "execution_count": 75,
      "outputs": [
        {
          "output_type": "display_data",
          "data": {
            "text/plain": [
              "<IPython.core.display.Javascript object>"
            ],
            "application/javascript": [
              "google.colab.output.setIframeHeight(0, true, {maxHeight: 300})"
            ]
          },
          "metadata": {}
        }
      ]
    },
    {
      "cell_type": "code",
      "source": [
        "# # GET THE MINIMUM ACCURACY, THE MAXIMUM ACCURACY, THE MINIMUM LOSS, THE MAXIMUM LOSS AND SAVE THEM IN VARIABLES.\n",
        "# # THEN CREATE A DATAFRAME AT THE END WHERE YOU CAN COMPARE DIFFERENT MODELS WITH IT!\n",
        "\n",
        "# # LOSS/VAL LOSS\n",
        "# modelVMNV2_minLoss = min(history_grid_fit_mobilenetV2.history['loss'])\n",
        "# modelVMNV2_maxLoss = max(history_grid_fit_mobilenetV2.history['loss'])\n",
        "# modelVMNV2_minValLoss = min(history_grid_fit_mobilenetV2.history['val_loss'])\n",
        "# modelVMNV2_maxValLoss = max(history_grid_fit_mobilenetV2.history['val_loss'])\n",
        "\n",
        "# # ACCURACY/VAL ACCURACY\n",
        "# modelVMNV2_minAccuracy = min(history_grid_fit_mobilenetV2.history['accuracy'])\n",
        "# modelVMNV2_maxAccuracy = max(history_grid_fit_mobilenetV2.history['accuracy'])\n",
        "# modelVMNV2_minValAccuracy = min(history_grid_fit_mobilenetV2.history['val_accuracy'])\n",
        "# modelVMNV2_maxValAccuracy = max(history_grid_fit_mobilenetV2.history['val_accuracy'])\n",
        "\n",
        "# # CREATE THE DATAFRAME\n",
        "# modelVMNV2_loss_accuracy = pd.DataFrame({\"minLoss\": [modelVMNV2_minLoss],\n",
        "#                                        \"maxloss\": [modelVMNV2_maxLoss],\n",
        "#                                        \"minValLoss\": [modelVMNV2_minValLoss],\n",
        "#                                        \"maxValLoss\": [modelVMNV2_maxValLoss],\n",
        "#                                        \"minAccuracy\": [modelVMNV2_minAccuracy],\n",
        "#                                        \"maxAccuracy\": [modelVMNV2_maxAccuracy],\n",
        "#                                        \"minValAccuracy\": [modelVMNV2_minValAccuracy],\n",
        "#                                        \"maxValAccuracy\": [modelVMNV2_maxValAccuracy]}).T\n",
        "\n",
        "# # CHANGE THE FIRST COLUMN NAME\n",
        "# modelVMNV2_loss_accuracy = modelVMNV2_loss_accuracy.rename(columns={0: 'modelVMNV2'})\n",
        "# # CHANGE THE INDEX NAME\n",
        "# modelVMNV2_loss_accuracy.index.names = ['Performance']\n",
        "# modelVMNV2_loss_accuracy"
      ],
      "metadata": {
        "id": "ZVAH5C0ACY2W"
      },
      "execution_count": null,
      "outputs": []
    },
    {
      "cell_type": "markdown",
      "metadata": {
        "id": "GdseqO--6PUO"
      },
      "source": [
        "**Learning rate**\n",
        "https://machinelearningmastery.com/understand-the-dynamics-of-learning-rate-on-deep-learning-neural-networks/\n",
        "\n",
        "The amount that the weights are updated during training is referred to as the step size or the “learning rate.”\n",
        "\n",
        "Specifically, the learning rate is a configurable hyperparameter used in the training of neural networks that has a small positive value, often in the range between 0.0 and 1.0.\n",
        "\n",
        "The learning rate controls how quickly the model is adapted to the problem. Smaller learning rates require more training epochs given the smaller changes made to the weights each update, whereas larger learning rates result in rapid changes and require fewer training epochs.\n",
        "\n",
        "A learning rate that is too large can cause the model to converge too quickly to a suboptimal solution, whereas a learning rate that is too small can cause the process to get stuck.\n",
        "\n",
        "The challenge of training deep learning neural networks involves carefully selecting the learning rate. It may be the most important hyperparameter for the model."
      ]
    },
    {
      "cell_type": "markdown",
      "metadata": {
        "id": "V876d-eKqeBu"
      },
      "source": [
        "USEFUL LINKS:\n",
        "\n",
        "BEST:\n",
        "- https://medium.com/mlearning-ai/7-best-techniques-to-improve-the-accuracy-of-cnn-w-o-overfitting-6db06467182f\n",
        "- https://sgugger.github.io/the-1cycle-policy.html\n",
        "\n",
        "- https://www.paperspace.com/gradient/notebooks\n",
        "- https://stats.stackexchange.com/questions/453221/should-i-use-gridsearchcv-on-all-of-my-data-or-just-the-training-set\n",
        "- https://www.quora.com/What-kind-of-image-pre-processing-should-be-done-before-feeding-it-to-a-Convolutional-Neural-Network\n",
        "- https://opt-ml.org/papers/2021/paper53.pdf\n",
        "- https://towardsai.net/p/l/stop-using-grid-search-the-complete-practical-tutorial-on-keras-tuner\n",
        "- https://machinelearningmastery.com/learning-rate-for-deep-learning-neural-networks/\n",
        "- https://machinelearningmastery.com/grid-search-hyperparameters-deep-learning-models-python-keras/"
      ]
    },
    {
      "cell_type": "markdown",
      "source": [
        "**FORSE DOVRESTI RITRAINARE UN NUOVO MODELLO SUL TRANSFER LEARNING CON I PARAMETRI MIGLIORI E SALVARE SOLO QUELLO COME MODELLO DA UTILIZZARE SUCCESSIVAMENTE. SEMPRE PERò LO STESSO MODELLO SPERANDO DI OTTENERE MIGLIORI RISULTATI. QUESTO SAREBBE DA FARE SUBITO QUI SOTTO! TOGLIERE VGG16 E SPIEGARE CHE SONO STATI FATTI DIVERSI ESPERIMENTI, MA CHE NON HANNO PORTATO A RISULTTI MIGLIORI DI QUELLI OTTENUTI CON LA MOBILENETV2**"
      ],
      "metadata": {
        "id": "cp9GBjqmsEDF"
      }
    },
    {
      "cell_type": "markdown",
      "source": [
        "**tenere vgg16? forse non ha molto senso!**"
      ],
      "metadata": {
        "id": "sc-s3U7xpYH8"
      }
    },
    {
      "cell_type": "markdown",
      "source": [
        "#### MOBILENETV2 - TRAINED AGAIN WITH BEST PARAMETERS FROM GRIDSEARCHCV"
      ],
      "metadata": {
        "id": "b9RYg3H_scRp"
      }
    },
    {
      "cell_type": "code",
      "source": [
        "# BEST PARAMETERS\n",
        "batch_size_CV = 16\n",
        "optimizer_CV = 'SGD'\n",
        "# optimizer_CV = 'Adam'\n",
        "# learning_rate_CV = 0.001\n",
        "learning_rate_CV = 0.0001\n",
        "# activation_CV = 'relu'\n",
        "activation_CV = 'LeakyReLU'\n",
        "# scores = \"recall\"\n",
        "\n",
        "# SE PERFORMANCE PEGGIORI, SECMPLICEMENTE STATE THE FACT AND PROCEED WITH TRANSFER LEARNING!\n",
        "# DECISIONE CHE PRENDI, NEL CASO, PROPRIO PER QUESTO MOTIVO!"
      ],
      "metadata": {
        "id": "Ujqf_lN1shoa"
      },
      "execution_count": null,
      "outputs": []
    },
    {
      "cell_type": "code",
      "source": [
        "# DATA AUGMENTATION ONLY ON THE TRAINING SET\n",
        "train_datagen_GSCV = ImageDataGenerator(\n",
        "        rescale=1./255,\n",
        "        shear_range=0.2,\n",
        "        zoom_range=0.1,\n",
        "        horizontal_flip=True,\n",
        "        width_shift_range=0.1,  # randomly shift images horizontally (fraction of total width)\n",
        "        height_shift_range=0.1,\n",
        "        rotation_range=45,\n",
        "        fill_mode='nearest')  # randomly shift images vertically (fraction of total height))\n",
        "\n",
        "# this is the augmentation configuration we will use for testing:\n",
        "# only rescaling\n",
        "test_datagen_GSCV = ImageDataGenerator(rescale=1./255) \n",
        "val_datagen_GSCV = ImageDataGenerator(rescale=1./255) \n",
        "\n",
        "# this is a generator that will read pictures found in\n",
        "# subfolers of 'data/train', and indefinitely generate\n",
        "# batches of augmented image data\n",
        "train_generator_GSCV = train_datagen_GSCV.flow_from_directory(\n",
        "    base_path_train,\n",
        "    target_size=(SIZE,SIZE),\n",
        "    batch_size=batch_size_CV,\n",
        "    shuffle=True,\n",
        "    class_mode=\"categorical\",\n",
        "    seed = SEED_VALUE)\n",
        "\n",
        "test_generator_GSCV = test_datagen_GSCV.flow_from_directory(\n",
        "    base_path_test,\n",
        "    target_size=(SIZE,SIZE),\n",
        "    batch_size=batch_size_CV,\n",
        "    shuffle=False,\n",
        "    class_mode=\"categorical\",\n",
        "    seed = SEED_VALUE)\n",
        "\n",
        "val_generator_GSCV = val_datagen_GSCV.flow_from_directory(\n",
        "    base_path_val,\n",
        "    target_size=(SIZE,SIZE),\n",
        "    batch_size=batch_size_CV,\n",
        "    shuffle=False,\n",
        "    class_mode=\"categorical\",\n",
        "    seed = SEED_VALUE)"
      ],
      "metadata": {
        "id": "62WPaOlkshl2",
        "colab": {
          "base_uri": "https://localhost:8080/",
          "height": 72
        },
        "outputId": "b738df10-cae9-458c-b71d-92869e386056"
      },
      "execution_count": 80,
      "outputs": [
        {
          "output_type": "display_data",
          "data": {
            "text/plain": [
              "<IPython.core.display.Javascript object>"
            ],
            "application/javascript": [
              "google.colab.output.setIframeHeight(0, true, {maxHeight: 300})"
            ]
          },
          "metadata": {}
        },
        {
          "output_type": "stream",
          "name": "stdout",
          "text": [
            "Found 3004 images belonging to 10 classes.\n",
            "Found 132 images belonging to 10 classes.\n",
            "Found 242 images belonging to 10 classes.\n"
          ]
        }
      ]
    },
    {
      "cell_type": "code",
      "source": [
        "def create_mobilenetGSCV_model(\n",
        "    lr= 0.1, \n",
        "    init_mode=\"he_uniform\", \n",
        "    activation = 'relu', \n",
        "    dropout_rate= 0.0, \n",
        "    optimizer = 'Adam'):\n",
        "  \n",
        "  base_model_mobilenetv2 = tf.keras.applications.MobileNetV2(\n",
        "    input_shape = (224, 224, 3),\n",
        "    # include_top means: do you want to keep the classification layer, the final classification that the original model was training on.\n",
        "    # MobileNetV2 was originally trained on the ImageNet dataset. Because the final layer has 1000 classes, if we would keep it, we\n",
        "    # would have 1000 classes at the end. We do not want that but, instead, we want our own classification layer at the end.\n",
        "    include_top=False, \n",
        "    # We keep the same weights\n",
        "    weights=\"imagenet\",\n",
        "    # # Average pooling at the end: it will ensure that the output of the pretrained model is one-dimensional (with n classes).\n",
        "    # pooling=\"avg\"\n",
        "  )\n",
        "  # With the following we ensure that we do not mess with the original\n",
        "  # imagenet weights\n",
        "  base_model_mobilenetv2.trainable = False\n",
        "\n",
        "  x = base_model_mobilenetv2.output\n",
        "  x = keras.layers.GlobalAveragePooling2D()(x)\n",
        "  x = keras.layers.Dense(1024, activation='relu')(x)\n",
        "  x = keras.layers.Dense(512, activation='relu')(x)\n",
        "  x = keras.layers.Dense(512, activation='relu')(x)\n",
        "  # We are using \"softmax\" since we want 9 probability values that all sum to 1 and the highest probability\n",
        "  # will be our classification result.\n",
        "  # For the regularizer: https://github.com/christianversloot/machine-learning-articles/blob/main/how-to-use-l1-l2-and-elastic-net-regularization-with-keras.md\n",
        "  preds = Dense(num_classes, activation='softmax')(x) #final layer with softmax activation for N classes\n",
        "\n",
        "  model_mobilenetv2 = keras.Model(inputs = base_model_mobilenetv2.input, outputs = preds) #specify the inputs and outputs\n",
        "\n",
        "  # USING A LEARNING RATE DECAY/SCHEDULING --> https://keras.io/api/optimizers/\n",
        "  lr_schedule = keras.optimizers.schedules.ExponentialDecay(\n",
        "      initial_learning_rate = 0.0001, # previously 0.001\n",
        "      decay_steps=10000, # previously 10000\n",
        "      decay_rate=0.95) # previously 0.95\n",
        "\n",
        "  # COMPILE THE MODEL\n",
        "  model_mobilenetv2.compile(loss=keras.losses.categorical_crossentropy,\n",
        "                             optimizer= keras.optimizers.Adam(learning_rate=lr_schedule),\n",
        "                             metrics=['accuracy'],\n",
        "                             steps_per_execution=5)\n",
        "\n",
        "  return model_mobilenetv2\n",
        "\n",
        "# LOOK AT THE SUMMARY OF THE MODEL\n",
        "print(create_mobilenetGSCV_model().summary())"
      ],
      "metadata": {
        "id": "hclb-WETshj3",
        "colab": {
          "base_uri": "https://localhost:8080/",
          "height": 300
        },
        "outputId": "3a264656-ebc5-4c79-a58c-939da90b110f"
      },
      "execution_count": 81,
      "outputs": [
        {
          "output_type": "display_data",
          "data": {
            "text/plain": [
              "<IPython.core.display.Javascript object>"
            ],
            "application/javascript": [
              "google.colab.output.setIframeHeight(0, true, {maxHeight: 300})"
            ]
          },
          "metadata": {}
        },
        {
          "output_type": "stream",
          "name": "stdout",
          "text": [
            "Model: \"model_24\"\n",
            "__________________________________________________________________________________________________\n",
            " Layer (type)                   Output Shape         Param #     Connected to                     \n",
            "==================================================================================================\n",
            " input_55 (InputLayer)          [(None, 224, 224, 3  0           []                               \n",
            "                                )]                                                                \n",
            "                                                                                                  \n",
            " Conv1 (Conv2D)                 (None, 112, 112, 32  864         ['input_55[0][0]']               \n",
            "                                )                                                                 \n",
            "                                                                                                  \n",
            " bn_Conv1 (BatchNormalization)  (None, 112, 112, 32  128         ['Conv1[0][0]']                  \n",
            "                                )                                                                 \n",
            "                                                                                                  \n",
            " Conv1_relu (ReLU)              (None, 112, 112, 32  0           ['bn_Conv1[0][0]']               \n",
            "                                )                                                                 \n",
            "                                                                                                  \n",
            " expanded_conv_depthwise (Depth  (None, 112, 112, 32  288        ['Conv1_relu[0][0]']             \n",
            " wiseConv2D)                    )                                                                 \n",
            "                                                                                                  \n",
            " expanded_conv_depthwise_BN (Ba  (None, 112, 112, 32  128        ['expanded_conv_depthwise[0][0]']\n",
            " tchNormalization)              )                                                                 \n",
            "                                                                                                  \n",
            " expanded_conv_depthwise_relu (  (None, 112, 112, 32  0          ['expanded_conv_depthwise_BN[0][0\n",
            " ReLU)                          )                                ]']                              \n",
            "                                                                                                  \n",
            " expanded_conv_project (Conv2D)  (None, 112, 112, 16  512        ['expanded_conv_depthwise_relu[0]\n",
            "                                )                                [0]']                            \n",
            "                                                                                                  \n",
            " expanded_conv_project_BN (Batc  (None, 112, 112, 16  64         ['expanded_conv_project[0][0]']  \n",
            " hNormalization)                )                                                                 \n",
            "                                                                                                  \n",
            " block_1_expand (Conv2D)        (None, 112, 112, 96  1536        ['expanded_conv_project_BN[0][0]'\n",
            "                                )                                ]                                \n",
            "                                                                                                  \n",
            " block_1_expand_BN (BatchNormal  (None, 112, 112, 96  384        ['block_1_expand[0][0]']         \n",
            " ization)                       )                                                                 \n",
            "                                                                                                  \n",
            " block_1_expand_relu (ReLU)     (None, 112, 112, 96  0           ['block_1_expand_BN[0][0]']      \n",
            "                                )                                                                 \n",
            "                                                                                                  \n",
            " block_1_pad (ZeroPadding2D)    (None, 113, 113, 96  0           ['block_1_expand_relu[0][0]']    \n",
            "                                )                                                                 \n",
            "                                                                                                  \n",
            " block_1_depthwise (DepthwiseCo  (None, 56, 56, 96)  864         ['block_1_pad[0][0]']            \n",
            " nv2D)                                                                                            \n",
            "                                                                                                  \n",
            " block_1_depthwise_BN (BatchNor  (None, 56, 56, 96)  384         ['block_1_depthwise[0][0]']      \n",
            " malization)                                                                                      \n",
            "                                                                                                  \n",
            " block_1_depthwise_relu (ReLU)  (None, 56, 56, 96)   0           ['block_1_depthwise_BN[0][0]']   \n",
            "                                                                                                  \n",
            " block_1_project (Conv2D)       (None, 56, 56, 24)   2304        ['block_1_depthwise_relu[0][0]'] \n",
            "                                                                                                  \n",
            " block_1_project_BN (BatchNorma  (None, 56, 56, 24)  96          ['block_1_project[0][0]']        \n",
            " lization)                                                                                        \n",
            "                                                                                                  \n",
            " block_2_expand (Conv2D)        (None, 56, 56, 144)  3456        ['block_1_project_BN[0][0]']     \n",
            "                                                                                                  \n",
            " block_2_expand_BN (BatchNormal  (None, 56, 56, 144)  576        ['block_2_expand[0][0]']         \n",
            " ization)                                                                                         \n",
            "                                                                                                  \n",
            " block_2_expand_relu (ReLU)     (None, 56, 56, 144)  0           ['block_2_expand_BN[0][0]']      \n",
            "                                                                                                  \n",
            " block_2_depthwise (DepthwiseCo  (None, 56, 56, 144)  1296       ['block_2_expand_relu[0][0]']    \n",
            " nv2D)                                                                                            \n",
            "                                                                                                  \n",
            " block_2_depthwise_BN (BatchNor  (None, 56, 56, 144)  576        ['block_2_depthwise[0][0]']      \n",
            " malization)                                                                                      \n",
            "                                                                                                  \n",
            " block_2_depthwise_relu (ReLU)  (None, 56, 56, 144)  0           ['block_2_depthwise_BN[0][0]']   \n",
            "                                                                                                  \n",
            " block_2_project (Conv2D)       (None, 56, 56, 24)   3456        ['block_2_depthwise_relu[0][0]'] \n",
            "                                                                                                  \n",
            " block_2_project_BN (BatchNorma  (None, 56, 56, 24)  96          ['block_2_project[0][0]']        \n",
            " lization)                                                                                        \n",
            "                                                                                                  \n",
            " block_2_add (Add)              (None, 56, 56, 24)   0           ['block_1_project_BN[0][0]',     \n",
            "                                                                  'block_2_project_BN[0][0]']     \n",
            "                                                                                                  \n",
            " block_3_expand (Conv2D)        (None, 56, 56, 144)  3456        ['block_2_add[0][0]']            \n",
            "                                                                                                  \n",
            " block_3_expand_BN (BatchNormal  (None, 56, 56, 144)  576        ['block_3_expand[0][0]']         \n",
            " ization)                                                                                         \n",
            "                                                                                                  \n",
            " block_3_expand_relu (ReLU)     (None, 56, 56, 144)  0           ['block_3_expand_BN[0][0]']      \n",
            "                                                                                                  \n",
            " block_3_pad (ZeroPadding2D)    (None, 57, 57, 144)  0           ['block_3_expand_relu[0][0]']    \n",
            "                                                                                                  \n",
            " block_3_depthwise (DepthwiseCo  (None, 28, 28, 144)  1296       ['block_3_pad[0][0]']            \n",
            " nv2D)                                                                                            \n",
            "                                                                                                  \n",
            " block_3_depthwise_BN (BatchNor  (None, 28, 28, 144)  576        ['block_3_depthwise[0][0]']      \n",
            " malization)                                                                                      \n",
            "                                                                                                  \n",
            " block_3_depthwise_relu (ReLU)  (None, 28, 28, 144)  0           ['block_3_depthwise_BN[0][0]']   \n",
            "                                                                                                  \n",
            " block_3_project (Conv2D)       (None, 28, 28, 32)   4608        ['block_3_depthwise_relu[0][0]'] \n",
            "                                                                                                  \n",
            " block_3_project_BN (BatchNorma  (None, 28, 28, 32)  128         ['block_3_project[0][0]']        \n",
            " lization)                                                                                        \n",
            "                                                                                                  \n",
            " block_4_expand (Conv2D)        (None, 28, 28, 192)  6144        ['block_3_project_BN[0][0]']     \n",
            "                                                                                                  \n",
            " block_4_expand_BN (BatchNormal  (None, 28, 28, 192)  768        ['block_4_expand[0][0]']         \n",
            " ization)                                                                                         \n",
            "                                                                                                  \n",
            " block_4_expand_relu (ReLU)     (None, 28, 28, 192)  0           ['block_4_expand_BN[0][0]']      \n",
            "                                                                                                  \n",
            " block_4_depthwise (DepthwiseCo  (None, 28, 28, 192)  1728       ['block_4_expand_relu[0][0]']    \n",
            " nv2D)                                                                                            \n",
            "                                                                                                  \n",
            " block_4_depthwise_BN (BatchNor  (None, 28, 28, 192)  768        ['block_4_depthwise[0][0]']      \n",
            " malization)                                                                                      \n",
            "                                                                                                  \n",
            " block_4_depthwise_relu (ReLU)  (None, 28, 28, 192)  0           ['block_4_depthwise_BN[0][0]']   \n",
            "                                                                                                  \n",
            " block_4_project (Conv2D)       (None, 28, 28, 32)   6144        ['block_4_depthwise_relu[0][0]'] \n",
            "                                                                                                  \n",
            " block_4_project_BN (BatchNorma  (None, 28, 28, 32)  128         ['block_4_project[0][0]']        \n",
            " lization)                                                                                        \n",
            "                                                                                                  \n",
            " block_4_add (Add)              (None, 28, 28, 32)   0           ['block_3_project_BN[0][0]',     \n",
            "                                                                  'block_4_project_BN[0][0]']     \n",
            "                                                                                                  \n",
            " block_5_expand (Conv2D)        (None, 28, 28, 192)  6144        ['block_4_add[0][0]']            \n",
            "                                                                                                  \n",
            " block_5_expand_BN (BatchNormal  (None, 28, 28, 192)  768        ['block_5_expand[0][0]']         \n",
            " ization)                                                                                         \n",
            "                                                                                                  \n",
            " block_5_expand_relu (ReLU)     (None, 28, 28, 192)  0           ['block_5_expand_BN[0][0]']      \n",
            "                                                                                                  \n",
            " block_5_depthwise (DepthwiseCo  (None, 28, 28, 192)  1728       ['block_5_expand_relu[0][0]']    \n",
            " nv2D)                                                                                            \n",
            "                                                                                                  \n",
            " block_5_depthwise_BN (BatchNor  (None, 28, 28, 192)  768        ['block_5_depthwise[0][0]']      \n",
            " malization)                                                                                      \n",
            "                                                                                                  \n",
            " block_5_depthwise_relu (ReLU)  (None, 28, 28, 192)  0           ['block_5_depthwise_BN[0][0]']   \n",
            "                                                                                                  \n",
            " block_5_project (Conv2D)       (None, 28, 28, 32)   6144        ['block_5_depthwise_relu[0][0]'] \n",
            "                                                                                                  \n",
            " block_5_project_BN (BatchNorma  (None, 28, 28, 32)  128         ['block_5_project[0][0]']        \n",
            " lization)                                                                                        \n",
            "                                                                                                  \n",
            " block_5_add (Add)              (None, 28, 28, 32)   0           ['block_4_add[0][0]',            \n",
            "                                                                  'block_5_project_BN[0][0]']     \n",
            "                                                                                                  \n",
            " block_6_expand (Conv2D)        (None, 28, 28, 192)  6144        ['block_5_add[0][0]']            \n",
            "                                                                                                  \n",
            " block_6_expand_BN (BatchNormal  (None, 28, 28, 192)  768        ['block_6_expand[0][0]']         \n",
            " ization)                                                                                         \n",
            "                                                                                                  \n",
            " block_6_expand_relu (ReLU)     (None, 28, 28, 192)  0           ['block_6_expand_BN[0][0]']      \n",
            "                                                                                                  \n",
            " block_6_pad (ZeroPadding2D)    (None, 29, 29, 192)  0           ['block_6_expand_relu[0][0]']    \n",
            "                                                                                                  \n",
            " block_6_depthwise (DepthwiseCo  (None, 14, 14, 192)  1728       ['block_6_pad[0][0]']            \n",
            " nv2D)                                                                                            \n",
            "                                                                                                  \n",
            " block_6_depthwise_BN (BatchNor  (None, 14, 14, 192)  768        ['block_6_depthwise[0][0]']      \n",
            " malization)                                                                                      \n",
            "                                                                                                  \n",
            " block_6_depthwise_relu (ReLU)  (None, 14, 14, 192)  0           ['block_6_depthwise_BN[0][0]']   \n",
            "                                                                                                  \n",
            " block_6_project (Conv2D)       (None, 14, 14, 64)   12288       ['block_6_depthwise_relu[0][0]'] \n",
            "                                                                                                  \n",
            " block_6_project_BN (BatchNorma  (None, 14, 14, 64)  256         ['block_6_project[0][0]']        \n",
            " lization)                                                                                        \n",
            "                                                                                                  \n",
            " block_7_expand (Conv2D)        (None, 14, 14, 384)  24576       ['block_6_project_BN[0][0]']     \n",
            "                                                                                                  \n",
            " block_7_expand_BN (BatchNormal  (None, 14, 14, 384)  1536       ['block_7_expand[0][0]']         \n",
            " ization)                                                                                         \n",
            "                                                                                                  \n",
            " block_7_expand_relu (ReLU)     (None, 14, 14, 384)  0           ['block_7_expand_BN[0][0]']      \n",
            "                                                                                                  \n",
            " block_7_depthwise (DepthwiseCo  (None, 14, 14, 384)  3456       ['block_7_expand_relu[0][0]']    \n",
            " nv2D)                                                                                            \n",
            "                                                                                                  \n",
            " block_7_depthwise_BN (BatchNor  (None, 14, 14, 384)  1536       ['block_7_depthwise[0][0]']      \n",
            " malization)                                                                                      \n",
            "                                                                                                  \n",
            " block_7_depthwise_relu (ReLU)  (None, 14, 14, 384)  0           ['block_7_depthwise_BN[0][0]']   \n",
            "                                                                                                  \n",
            " block_7_project (Conv2D)       (None, 14, 14, 64)   24576       ['block_7_depthwise_relu[0][0]'] \n",
            "                                                                                                  \n",
            " block_7_project_BN (BatchNorma  (None, 14, 14, 64)  256         ['block_7_project[0][0]']        \n",
            " lization)                                                                                        \n",
            "                                                                                                  \n",
            " block_7_add (Add)              (None, 14, 14, 64)   0           ['block_6_project_BN[0][0]',     \n",
            "                                                                  'block_7_project_BN[0][0]']     \n",
            "                                                                                                  \n",
            " block_8_expand (Conv2D)        (None, 14, 14, 384)  24576       ['block_7_add[0][0]']            \n",
            "                                                                                                  \n",
            " block_8_expand_BN (BatchNormal  (None, 14, 14, 384)  1536       ['block_8_expand[0][0]']         \n",
            " ization)                                                                                         \n",
            "                                                                                                  \n",
            " block_8_expand_relu (ReLU)     (None, 14, 14, 384)  0           ['block_8_expand_BN[0][0]']      \n",
            "                                                                                                  \n",
            " block_8_depthwise (DepthwiseCo  (None, 14, 14, 384)  3456       ['block_8_expand_relu[0][0]']    \n",
            " nv2D)                                                                                            \n",
            "                                                                                                  \n",
            " block_8_depthwise_BN (BatchNor  (None, 14, 14, 384)  1536       ['block_8_depthwise[0][0]']      \n",
            " malization)                                                                                      \n",
            "                                                                                                  \n",
            " block_8_depthwise_relu (ReLU)  (None, 14, 14, 384)  0           ['block_8_depthwise_BN[0][0]']   \n",
            "                                                                                                  \n",
            " block_8_project (Conv2D)       (None, 14, 14, 64)   24576       ['block_8_depthwise_relu[0][0]'] \n",
            "                                                                                                  \n",
            " block_8_project_BN (BatchNorma  (None, 14, 14, 64)  256         ['block_8_project[0][0]']        \n",
            " lization)                                                                                        \n",
            "                                                                                                  \n",
            " block_8_add (Add)              (None, 14, 14, 64)   0           ['block_7_add[0][0]',            \n",
            "                                                                  'block_8_project_BN[0][0]']     \n",
            "                                                                                                  \n",
            " block_9_expand (Conv2D)        (None, 14, 14, 384)  24576       ['block_8_add[0][0]']            \n",
            "                                                                                                  \n",
            " block_9_expand_BN (BatchNormal  (None, 14, 14, 384)  1536       ['block_9_expand[0][0]']         \n",
            " ization)                                                                                         \n",
            "                                                                                                  \n",
            " block_9_expand_relu (ReLU)     (None, 14, 14, 384)  0           ['block_9_expand_BN[0][0]']      \n",
            "                                                                                                  \n",
            " block_9_depthwise (DepthwiseCo  (None, 14, 14, 384)  3456       ['block_9_expand_relu[0][0]']    \n",
            " nv2D)                                                                                            \n",
            "                                                                                                  \n",
            " block_9_depthwise_BN (BatchNor  (None, 14, 14, 384)  1536       ['block_9_depthwise[0][0]']      \n",
            " malization)                                                                                      \n",
            "                                                                                                  \n",
            " block_9_depthwise_relu (ReLU)  (None, 14, 14, 384)  0           ['block_9_depthwise_BN[0][0]']   \n",
            "                                                                                                  \n",
            " block_9_project (Conv2D)       (None, 14, 14, 64)   24576       ['block_9_depthwise_relu[0][0]'] \n",
            "                                                                                                  \n",
            " block_9_project_BN (BatchNorma  (None, 14, 14, 64)  256         ['block_9_project[0][0]']        \n",
            " lization)                                                                                        \n",
            "                                                                                                  \n",
            " block_9_add (Add)              (None, 14, 14, 64)   0           ['block_8_add[0][0]',            \n",
            "                                                                  'block_9_project_BN[0][0]']     \n",
            "                                                                                                  \n",
            " block_10_expand (Conv2D)       (None, 14, 14, 384)  24576       ['block_9_add[0][0]']            \n",
            "                                                                                                  \n",
            " block_10_expand_BN (BatchNorma  (None, 14, 14, 384)  1536       ['block_10_expand[0][0]']        \n",
            " lization)                                                                                        \n",
            "                                                                                                  \n",
            " block_10_expand_relu (ReLU)    (None, 14, 14, 384)  0           ['block_10_expand_BN[0][0]']     \n",
            "                                                                                                  \n",
            " block_10_depthwise (DepthwiseC  (None, 14, 14, 384)  3456       ['block_10_expand_relu[0][0]']   \n",
            " onv2D)                                                                                           \n",
            "                                                                                                  \n",
            " block_10_depthwise_BN (BatchNo  (None, 14, 14, 384)  1536       ['block_10_depthwise[0][0]']     \n",
            " rmalization)                                                                                     \n",
            "                                                                                                  \n",
            " block_10_depthwise_relu (ReLU)  (None, 14, 14, 384)  0          ['block_10_depthwise_BN[0][0]']  \n",
            "                                                                                                  \n",
            " block_10_project (Conv2D)      (None, 14, 14, 96)   36864       ['block_10_depthwise_relu[0][0]']\n",
            "                                                                                                  \n",
            " block_10_project_BN (BatchNorm  (None, 14, 14, 96)  384         ['block_10_project[0][0]']       \n",
            " alization)                                                                                       \n",
            "                                                                                                  \n",
            " block_11_expand (Conv2D)       (None, 14, 14, 576)  55296       ['block_10_project_BN[0][0]']    \n",
            "                                                                                                  \n",
            " block_11_expand_BN (BatchNorma  (None, 14, 14, 576)  2304       ['block_11_expand[0][0]']        \n",
            " lization)                                                                                        \n",
            "                                                                                                  \n",
            " block_11_expand_relu (ReLU)    (None, 14, 14, 576)  0           ['block_11_expand_BN[0][0]']     \n",
            "                                                                                                  \n",
            " block_11_depthwise (DepthwiseC  (None, 14, 14, 576)  5184       ['block_11_expand_relu[0][0]']   \n",
            " onv2D)                                                                                           \n",
            "                                                                                                  \n",
            " block_11_depthwise_BN (BatchNo  (None, 14, 14, 576)  2304       ['block_11_depthwise[0][0]']     \n",
            " rmalization)                                                                                     \n",
            "                                                                                                  \n",
            " block_11_depthwise_relu (ReLU)  (None, 14, 14, 576)  0          ['block_11_depthwise_BN[0][0]']  \n",
            "                                                                                                  \n",
            " block_11_project (Conv2D)      (None, 14, 14, 96)   55296       ['block_11_depthwise_relu[0][0]']\n",
            "                                                                                                  \n",
            " block_11_project_BN (BatchNorm  (None, 14, 14, 96)  384         ['block_11_project[0][0]']       \n",
            " alization)                                                                                       \n",
            "                                                                                                  \n",
            " block_11_add (Add)             (None, 14, 14, 96)   0           ['block_10_project_BN[0][0]',    \n",
            "                                                                  'block_11_project_BN[0][0]']    \n",
            "                                                                                                  \n",
            " block_12_expand (Conv2D)       (None, 14, 14, 576)  55296       ['block_11_add[0][0]']           \n",
            "                                                                                                  \n",
            " block_12_expand_BN (BatchNorma  (None, 14, 14, 576)  2304       ['block_12_expand[0][0]']        \n",
            " lization)                                                                                        \n",
            "                                                                                                  \n",
            " block_12_expand_relu (ReLU)    (None, 14, 14, 576)  0           ['block_12_expand_BN[0][0]']     \n",
            "                                                                                                  \n",
            " block_12_depthwise (DepthwiseC  (None, 14, 14, 576)  5184       ['block_12_expand_relu[0][0]']   \n",
            " onv2D)                                                                                           \n",
            "                                                                                                  \n",
            " block_12_depthwise_BN (BatchNo  (None, 14, 14, 576)  2304       ['block_12_depthwise[0][0]']     \n",
            " rmalization)                                                                                     \n",
            "                                                                                                  \n",
            " block_12_depthwise_relu (ReLU)  (None, 14, 14, 576)  0          ['block_12_depthwise_BN[0][0]']  \n",
            "                                                                                                  \n",
            " block_12_project (Conv2D)      (None, 14, 14, 96)   55296       ['block_12_depthwise_relu[0][0]']\n",
            "                                                                                                  \n",
            " block_12_project_BN (BatchNorm  (None, 14, 14, 96)  384         ['block_12_project[0][0]']       \n",
            " alization)                                                                                       \n",
            "                                                                                                  \n",
            " block_12_add (Add)             (None, 14, 14, 96)   0           ['block_11_add[0][0]',           \n",
            "                                                                  'block_12_project_BN[0][0]']    \n",
            "                                                                                                  \n",
            " block_13_expand (Conv2D)       (None, 14, 14, 576)  55296       ['block_12_add[0][0]']           \n",
            "                                                                                                  \n",
            " block_13_expand_BN (BatchNorma  (None, 14, 14, 576)  2304       ['block_13_expand[0][0]']        \n",
            " lization)                                                                                        \n",
            "                                                                                                  \n",
            " block_13_expand_relu (ReLU)    (None, 14, 14, 576)  0           ['block_13_expand_BN[0][0]']     \n",
            "                                                                                                  \n",
            " block_13_pad (ZeroPadding2D)   (None, 15, 15, 576)  0           ['block_13_expand_relu[0][0]']   \n",
            "                                                                                                  \n",
            " block_13_depthwise (DepthwiseC  (None, 7, 7, 576)   5184        ['block_13_pad[0][0]']           \n",
            " onv2D)                                                                                           \n",
            "                                                                                                  \n",
            " block_13_depthwise_BN (BatchNo  (None, 7, 7, 576)   2304        ['block_13_depthwise[0][0]']     \n",
            " rmalization)                                                                                     \n",
            "                                                                                                  \n",
            " block_13_depthwise_relu (ReLU)  (None, 7, 7, 576)   0           ['block_13_depthwise_BN[0][0]']  \n",
            "                                                                                                  \n",
            " block_13_project (Conv2D)      (None, 7, 7, 160)    92160       ['block_13_depthwise_relu[0][0]']\n",
            "                                                                                                  \n",
            " block_13_project_BN (BatchNorm  (None, 7, 7, 160)   640         ['block_13_project[0][0]']       \n",
            " alization)                                                                                       \n",
            "                                                                                                  \n",
            " block_14_expand (Conv2D)       (None, 7, 7, 960)    153600      ['block_13_project_BN[0][0]']    \n",
            "                                                                                                  \n",
            " block_14_expand_BN (BatchNorma  (None, 7, 7, 960)   3840        ['block_14_expand[0][0]']        \n",
            " lization)                                                                                        \n",
            "                                                                                                  \n",
            " block_14_expand_relu (ReLU)    (None, 7, 7, 960)    0           ['block_14_expand_BN[0][0]']     \n",
            "                                                                                                  \n",
            " block_14_depthwise (DepthwiseC  (None, 7, 7, 960)   8640        ['block_14_expand_relu[0][0]']   \n",
            " onv2D)                                                                                           \n",
            "                                                                                                  \n",
            " block_14_depthwise_BN (BatchNo  (None, 7, 7, 960)   3840        ['block_14_depthwise[0][0]']     \n",
            " rmalization)                                                                                     \n",
            "                                                                                                  \n",
            " block_14_depthwise_relu (ReLU)  (None, 7, 7, 960)   0           ['block_14_depthwise_BN[0][0]']  \n",
            "                                                                                                  \n",
            " block_14_project (Conv2D)      (None, 7, 7, 160)    153600      ['block_14_depthwise_relu[0][0]']\n",
            "                                                                                                  \n",
            " block_14_project_BN (BatchNorm  (None, 7, 7, 160)   640         ['block_14_project[0][0]']       \n",
            " alization)                                                                                       \n",
            "                                                                                                  \n",
            " block_14_add (Add)             (None, 7, 7, 160)    0           ['block_13_project_BN[0][0]',    \n",
            "                                                                  'block_14_project_BN[0][0]']    \n",
            "                                                                                                  \n",
            " block_15_expand (Conv2D)       (None, 7, 7, 960)    153600      ['block_14_add[0][0]']           \n",
            "                                                                                                  \n",
            " block_15_expand_BN (BatchNorma  (None, 7, 7, 960)   3840        ['block_15_expand[0][0]']        \n",
            " lization)                                                                                        \n",
            "                                                                                                  \n",
            " block_15_expand_relu (ReLU)    (None, 7, 7, 960)    0           ['block_15_expand_BN[0][0]']     \n",
            "                                                                                                  \n",
            " block_15_depthwise (DepthwiseC  (None, 7, 7, 960)   8640        ['block_15_expand_relu[0][0]']   \n",
            " onv2D)                                                                                           \n",
            "                                                                                                  \n",
            " block_15_depthwise_BN (BatchNo  (None, 7, 7, 960)   3840        ['block_15_depthwise[0][0]']     \n",
            " rmalization)                                                                                     \n",
            "                                                                                                  \n",
            " block_15_depthwise_relu (ReLU)  (None, 7, 7, 960)   0           ['block_15_depthwise_BN[0][0]']  \n",
            "                                                                                                  \n",
            " block_15_project (Conv2D)      (None, 7, 7, 160)    153600      ['block_15_depthwise_relu[0][0]']\n",
            "                                                                                                  \n",
            " block_15_project_BN (BatchNorm  (None, 7, 7, 160)   640         ['block_15_project[0][0]']       \n",
            " alization)                                                                                       \n",
            "                                                                                                  \n",
            " block_15_add (Add)             (None, 7, 7, 160)    0           ['block_14_add[0][0]',           \n",
            "                                                                  'block_15_project_BN[0][0]']    \n",
            "                                                                                                  \n",
            " block_16_expand (Conv2D)       (None, 7, 7, 960)    153600      ['block_15_add[0][0]']           \n",
            "                                                                                                  \n",
            " block_16_expand_BN (BatchNorma  (None, 7, 7, 960)   3840        ['block_16_expand[0][0]']        \n",
            " lization)                                                                                        \n",
            "                                                                                                  \n",
            " block_16_expand_relu (ReLU)    (None, 7, 7, 960)    0           ['block_16_expand_BN[0][0]']     \n",
            "                                                                                                  \n",
            " block_16_depthwise (DepthwiseC  (None, 7, 7, 960)   8640        ['block_16_expand_relu[0][0]']   \n",
            " onv2D)                                                                                           \n",
            "                                                                                                  \n",
            " block_16_depthwise_BN (BatchNo  (None, 7, 7, 960)   3840        ['block_16_depthwise[0][0]']     \n",
            " rmalization)                                                                                     \n",
            "                                                                                                  \n",
            " block_16_depthwise_relu (ReLU)  (None, 7, 7, 960)   0           ['block_16_depthwise_BN[0][0]']  \n",
            "                                                                                                  \n",
            " block_16_project (Conv2D)      (None, 7, 7, 320)    307200      ['block_16_depthwise_relu[0][0]']\n",
            "                                                                                                  \n",
            " block_16_project_BN (BatchNorm  (None, 7, 7, 320)   1280        ['block_16_project[0][0]']       \n",
            " alization)                                                                                       \n",
            "                                                                                                  \n",
            " Conv_1 (Conv2D)                (None, 7, 7, 1280)   409600      ['block_16_project_BN[0][0]']    \n",
            "                                                                                                  \n",
            " Conv_1_bn (BatchNormalization)  (None, 7, 7, 1280)  5120        ['Conv_1[0][0]']                 \n",
            "                                                                                                  \n",
            " out_relu (ReLU)                (None, 7, 7, 1280)   0           ['Conv_1_bn[0][0]']              \n",
            "                                                                                                  \n",
            " global_average_pooling2d_22 (G  (None, 1280)        0           ['out_relu[0][0]']               \n",
            " lobalAveragePooling2D)                                                                           \n",
            "                                                                                                  \n",
            " dense_181 (Dense)              (None, 1024)         1311744     ['global_average_pooling2d_22[0][\n",
            "                                                                 0]']                             \n",
            "                                                                                                  \n",
            " dense_182 (Dense)              (None, 512)          524800      ['dense_181[0][0]']              \n",
            "                                                                                                  \n",
            " dense_183 (Dense)              (None, 512)          262656      ['dense_182[0][0]']              \n",
            "                                                                                                  \n",
            " dense_184 (Dense)              (None, 10)           5130        ['dense_183[0][0]']              \n",
            "                                                                                                  \n",
            "==================================================================================================\n",
            "Total params: 4,362,314\n",
            "Trainable params: 2,104,330\n",
            "Non-trainable params: 2,257,984\n",
            "__________________________________________________________________________________________________\n",
            "None\n"
          ]
        }
      ]
    },
    {
      "cell_type": "code",
      "source": [
        "# USING A LEARNING RATE DECAY/SCHEDULING --> https://keras.io/api/optimizers/\n",
        "lr_schedule = keras.optimizers.schedules.ExponentialDecay(\n",
        "    initial_learning_rate = 0.0001, # previously 0.001\n",
        "    decay_steps=10000, # previously 10000\n",
        "    decay_rate=0.95) # previously 0.95\n",
        "\n",
        "# COMPILE THE MODEL\n",
        "create_mobilenetGSCV_model(lr= 0.0001, \n",
        "                           init_mode=\"he_uniform\", \n",
        "                           activation = 'LeakyReLU', \n",
        "                           dropout_rate= 0.0, \n",
        "                           optimizer = 'SGD').compile(loss=keras.losses.categorical_crossentropy, \n",
        "                                                      optimizer= keras.optimizers.SGD(learning_rate=lr_schedule), # previously 0.0001\n",
        "                                                      metrics=['recall'])"
      ],
      "metadata": {
        "colab": {
          "base_uri": "https://localhost:8080/",
          "height": 17
        },
        "id": "5jEHvMeWB26y",
        "outputId": "a8b66de6-f50b-4601-f3c6-ca6fd46e0d88"
      },
      "execution_count": 84,
      "outputs": [
        {
          "output_type": "display_data",
          "data": {
            "text/plain": [
              "<IPython.core.display.Javascript object>"
            ],
            "application/javascript": [
              "google.colab.output.setIframeHeight(0, true, {maxHeight: 300})"
            ]
          },
          "metadata": {}
        }
      ]
    },
    {
      "cell_type": "code",
      "source": [
        "stepsEpochs = train_generator_GSCV.n // 16\n",
        "valSteps = test_generator_GSCV.n // 16\n",
        "\n",
        "# START COUNTING THE TIME\n",
        "start = datetime.datetime.now()\n",
        "\n",
        "# FIT THE MODEL\n",
        "history_mobilenetV2 = create_mobilenetGSCV_model().fit(train_generator_mnetv2,\n",
        "                                            validation_data = test_generator_mnetv2,\n",
        "                                            steps_per_epoch = stepsEpochs,\n",
        "                                            validation_steps = valSteps, \n",
        "                                            epochs=10, # try with 20 epochs!\n",
        "                                            callbacks = [callback])\n",
        "                  \n",
        "print(\"--- Training Completed ---\")\n",
        "\n",
        "# STOP COUNTING THE TIME\n",
        "end = datetime.datetime.now()\n",
        "print(\"Total execution time: \", end-start)"
      ],
      "metadata": {
        "colab": {
          "base_uri": "https://localhost:8080/",
          "height": 199
        },
        "id": "BdORLj1NB24G",
        "outputId": "fcabe15e-4b6f-418b-b5b5-f07777a05aef"
      },
      "execution_count": null,
      "outputs": [
        {
          "output_type": "display_data",
          "data": {
            "text/plain": [
              "<IPython.core.display.Javascript object>"
            ],
            "application/javascript": [
              "google.colab.output.setIframeHeight(0, true, {maxHeight: 300})"
            ]
          },
          "metadata": {}
        },
        {
          "output_type": "stream",
          "name": "stdout",
          "text": [
            "Epoch 1/10\n",
            "187/187 [==============================] - 46s 245ms/step - loss: 0.6357 - accuracy: 0.8384 - val_loss: 0.3191 - val_accuracy: 0.8984\n",
            "Epoch 2/10\n",
            "187/187 [==============================] - 40s 214ms/step - loss: 0.1023 - accuracy: 0.9756 - val_loss: 0.3208 - val_accuracy: 0.8984\n",
            "Epoch 3/10\n",
            "187/187 [==============================] - 38s 205ms/step - loss: 0.0512 - accuracy: 0.9853 - val_loss: 0.3353 - val_accuracy: 0.8984\n",
            "Epoch 4/10\n",
            "187/187 [==============================] - 39s 206ms/step - loss: 0.0372 - accuracy: 0.9896 - val_loss: 0.2804 - val_accuracy: 0.9062\n",
            "Epoch 5/10\n",
            "105/187 [===============>..............] - ETA: 21s - loss: 0.0254 - accuracy: 0.9940"
          ]
        }
      ]
    },
    {
      "cell_type": "code",
      "source": [
        "# PLOT THEM TOGETHER\n",
        "# Visualization of the learning curves\n",
        "plt.figure(figsize=(15,6))\n",
        "\n",
        "# PER IL PLOT DOVRESTI USARE GLI ELEMENTI DERIVANTI DA history_mobilenetV2\n",
        "\n",
        "plt.subplot(1, 2, 1)\n",
        "plt.plot(history_mobilenetV2.history['loss'])\n",
        "plt.plot(history_mobilenetV2.history['val_loss'])\n",
        "plt.ylim([0.0, 3.0])\n",
        "plt.title(\"Loss & Val loss MobileNetV2\")\n",
        "plt.xlabel('Epoch')\n",
        "plt.ylabel('Loss')\n",
        "plt.legend(['train', 'valid'])\n",
        "\n",
        "plt.subplot(1, 2, 2)\n",
        "plt.plot(history_mobilenetV2.history['accuracy'])\n",
        "plt.plot(history_mobilenetV2.history['val_accuracy'])\n",
        "plt.ylim([0.0, 1.0])\n",
        "plt.title(\"Accuracy & Val accuracy MobileNetV2\")\n",
        "plt.xlabel('Epoch')\n",
        "plt.ylabel('Accuracy')\n",
        "plt.legend(['train', 'valid'])"
      ],
      "metadata": {
        "id": "urcliw78B21h"
      },
      "execution_count": null,
      "outputs": []
    },
    {
      "cell_type": "markdown",
      "source": [
        "Performance results Model V06 Transfer Learning with MobileNetV2 **retrained**."
      ],
      "metadata": {
        "id": "hhJvlV2IC7pJ"
      }
    },
    {
      "cell_type": "code",
      "source": [
        "# SAVE THE TIME NEEDED TO RUN THE ALGORITHM\n",
        "time_duration_modelV06_mobilenetV2 = end - start\n",
        "print(time_duration_modelV06_mobilenetV2)"
      ],
      "metadata": {
        "id": "Qy1YC-rBB2rO"
      },
      "execution_count": null,
      "outputs": []
    },
    {
      "cell_type": "code",
      "source": [
        "# SAVE THE MODELV05 GRIDSEARCHCV\n",
        "keras_file_mobilenetV2_model_GSCVR = \"/content/gdrive/MyDrive/Data_Science_2020-2022/Secondo_anno_Secondo_Semestre/FoDL_Project/Project_Example_Food/saved_models/model_GSCV_retrained.h5\"\n",
        "tf.keras.models.save_model(create_mobilenetGSCV_model(), keras_file_mobilenetV2_model_GSCVR) # MODIFY MODEL WITH YOUR OWN MODEL"
      ],
      "metadata": {
        "id": "rT_PTPjJshgx"
      },
      "execution_count": null,
      "outputs": []
    },
    {
      "cell_type": "code",
      "source": [
        "# GET THE MINIMUM ACCURACY, THE MAXIMUM ACCURACY, THE MINIMUM LOSS, THE MAXIMUM LOSS AND SAVE THEM IN VARIABLES.\n",
        "# THEN CREATE A DATAFRAME AT THE END WHERE YOU CAN COMPARE DIFFERENT MODELS WITH IT!\n",
        "\n",
        "# LOSS/VAL LOSS\n",
        "modelVMNV2_minLoss = min(history_mobilenetV2.history['loss'])\n",
        "modelVMNV2_maxLoss = max(history_mobilenetV2.history['loss'])\n",
        "modelVMNV2_minValLoss = min(history_mobilenetV2.history['val_loss'])\n",
        "modelVMNV2_maxValLoss = max(history_mobilenetV2.history['val_loss'])\n",
        "\n",
        "# ACCURACY/VAL ACCURACY\n",
        "modelVMNV2_minAccuracy = min(history_mobilenetV2.history['accuracy'])\n",
        "modelVMNV2_maxAccuracy = max(history_mobilenetV2.history['accuracy'])\n",
        "modelVMNV2_minValAccuracy = min(history_mobilenetV2.history['val_accuracy'])\n",
        "modelVMNV2_maxValAccuracy = max(history_mobilenetV2.history['val_accuracy'])\n",
        "\n",
        "# CREATE THE DATAFRAME\n",
        "modelVMNV2_loss_accuracy = pd.DataFrame({\"minLoss\": [modelVMNV2_minLoss],\n",
        "                                       \"maxloss\": [modelVMNV2_maxLoss],\n",
        "                                       \"minValLoss\": [modelVMNV2_minValLoss],\n",
        "                                       \"maxValLoss\": [modelVMNV2_maxValLoss],\n",
        "                                       \"minAccuracy\": [modelVMNV2_minAccuracy],\n",
        "                                       \"maxAccuracy\": [modelVMNV2_maxAccuracy],\n",
        "                                       \"minValAccuracy\": [modelVMNV2_minValAccuracy],\n",
        "                                       \"maxValAccuracy\": [modelVMNV2_maxValAccuracy]}).T\n",
        "\n",
        "# CHANGE THE FIRST COLUMN NAME\n",
        "modelVMNV2_loss_accuracy = modelVMNV2_loss_accuracy.rename(columns={0: 'modelVMNV2'})\n",
        "# CHANGE THE INDEX NAME\n",
        "modelVMNV2_loss_accuracy.index.names = ['Performance']\n",
        "modelVMNV2_loss_accuracy"
      ],
      "metadata": {
        "id": "pmJcGUgcsheM"
      },
      "execution_count": null,
      "outputs": []
    },
    {
      "cell_type": "markdown",
      "source": [
        "### VGG16"
      ],
      "metadata": {
        "id": "BCcxqpC9dtl2"
      }
    },
    {
      "cell_type": "markdown",
      "source": [
        "ATTENZIONE: DA MODIFICARE PERCHé CREZIONE SBAGLIATA, AFFIDARSI A QUANTO FATTO NELLA MOBILENETV2"
      ],
      "metadata": {
        "id": "VEV9-KjYXOal"
      }
    },
    {
      "cell_type": "code",
      "source": [
        "# INSERISCI SITO E SPIEGAZIONE COME RIFERIMENTO: https://www.image-net.org/download.php\n",
        "\n",
        "pretrained_model_VGG16 = tf.keras.applications.vgg16.VGG16(\n",
        "    input_shape = (224, 224, 3),\n",
        "    # include_top means: do you want to keep the classification layer, the final classification that the original model was training on.\n",
        "    # MobileNetV2 was originally trained on the ImageNet dataset. Because the final layer has 1000 classes, if we would keep it, we\n",
        "    # would have 1000 classes at the end. We do not want that but, instead, we want our own classification layer at the end.\n",
        "    include_top=False, \n",
        "    # We keep the same weights\n",
        "    weights=\"imagenet\",\n",
        "    # Average pooling at the end: it will ensure that the output of the pretrained model is one-dimensional (with n classes).\n",
        "    pooling=\"avg\"\n",
        ")\n",
        "\n",
        "# With the following we ensure that we do not mess with the original\n",
        "# imagenet weights\n",
        "pretrained_model_VGG16.trainable = False"
      ],
      "metadata": {
        "colab": {
          "base_uri": "https://localhost:8080/"
        },
        "id": "_o39Idp5QAu4",
        "outputId": "25fde469-483d-4261-88d4-69b1817e4670"
      },
      "execution_count": null,
      "outputs": [
        {
          "output_type": "stream",
          "name": "stdout",
          "text": [
            "Downloading data from https://storage.googleapis.com/tensorflow/keras-applications/vgg16/vgg16_weights_tf_dim_ordering_tf_kernels_notop.h5\n",
            "58889256/58889256 [==============================] - 5s 0us/step\n"
          ]
        }
      ]
    },
    {
      "cell_type": "code",
      "source": [
        "# ARCHITECTURE DEFINITION FOR MODEL V04 PRETRAINED ON IMAGENET\n",
        "\n",
        "pretrained_model_VGG16 = tf.keras.Sequential([\n",
        "    pretrained_model_VGG16, \n",
        "    tf.keras.layers.Dropout(0.2),\n",
        "    tf.keras.layers.Dense(num_classes, \n",
        "                          activation=\"softmax\",\n",
        "                          kernel_regularizer=tf.keras.regularizers.l2(0.001)),\n",
        "      ]\n",
        "    )"
      ],
      "metadata": {
        "id": "rxt_9EsbQAp7"
      },
      "execution_count": null,
      "outputs": []
    },
    {
      "cell_type": "code",
      "source": [
        "# VISULIZE THE SUMMARY\n",
        "print(pretrained_model_VGG16.summary())"
      ],
      "metadata": {
        "colab": {
          "base_uri": "https://localhost:8080/"
        },
        "id": "SkruR_IYPuuR",
        "outputId": "14550cf5-e3ff-440c-fd4b-2aa1f45c4df2"
      },
      "execution_count": null,
      "outputs": [
        {
          "output_type": "stream",
          "name": "stdout",
          "text": [
            "Model: \"sequential\"\n",
            "_________________________________________________________________\n",
            " Layer (type)                Output Shape              Param #   \n",
            "=================================================================\n",
            " vgg16 (Functional)          (None, 512)               14714688  \n",
            "                                                                 \n",
            " dropout (Dropout)           (None, 512)               0         \n",
            "                                                                 \n",
            " dense (Dense)               (None, 9)                 4617      \n",
            "                                                                 \n",
            "=================================================================\n",
            "Total params: 14,719,305\n",
            "Trainable params: 4,617\n",
            "Non-trainable params: 14,714,688\n",
            "_________________________________________________________________\n",
            "None\n"
          ]
        }
      ]
    },
    {
      "cell_type": "code",
      "source": [
        "# COMPILE THE MODEL\n",
        "pretrained_model_VGG16.compile(loss=keras.losses.categorical_crossentropy,\n",
        "            optimizer= keras.optimizers.Adam(learning_rate=0.0001),\n",
        "            metrics=['accuracy'])"
      ],
      "metadata": {
        "id": "f5QHOjGpPmn0"
      },
      "execution_count": null,
      "outputs": []
    },
    {
      "cell_type": "code",
      "source": [
        "# FIT THE MODEL\n",
        "history_VGG16 = pretrained_model_VGG16.fit(train_generator, \n",
        "                  validation_data = test_generator, \n",
        "                  steps_per_epoch = train_generator.n // train_generator.batch_size,\n",
        "                  validation_steps = test_generator.n // test_generator.batch_size, \n",
        "                  epochs=30) #,\n",
        "                  # callbacks = [callback])\n",
        "\n",
        "print(\"--- Training Completed ---\")"
      ],
      "metadata": {
        "colab": {
          "base_uri": "https://localhost:8080/"
        },
        "id": "NpAYBrOiPmlV",
        "outputId": "e059f20c-5b59-4666-b4e7-9b6d8279337a"
      },
      "execution_count": null,
      "outputs": [
        {
          "output_type": "stream",
          "name": "stdout",
          "text": [
            "Epoch 1/30\n",
            "112/112 [==============================] - 1635s 14s/step - loss: 2.4562 - accuracy: 0.1198 - val_loss: 2.4471 - val_accuracy: 0.0764\n",
            "Epoch 2/30\n",
            "112/112 [==============================] - 26s 234ms/step - loss: 2.2856 - accuracy: 0.1421 - val_loss: 2.2808 - val_accuracy: 0.1458\n",
            "Epoch 3/30\n",
            "112/112 [==============================] - 27s 241ms/step - loss: 2.2287 - accuracy: 0.1550 - val_loss: 2.1898 - val_accuracy: 0.1736\n",
            "Epoch 4/30\n",
            "112/112 [==============================] - 26s 235ms/step - loss: 2.1650 - accuracy: 0.1863 - val_loss: 2.1442 - val_accuracy: 0.2153\n",
            "Epoch 5/30\n",
            "112/112 [==============================] - 28s 247ms/step - loss: 2.1179 - accuracy: 0.2373 - val_loss: 2.1028 - val_accuracy: 0.2431\n",
            "Epoch 6/30\n",
            "112/112 [==============================] - 26s 234ms/step - loss: 2.0778 - accuracy: 0.2703 - val_loss: 2.0744 - val_accuracy: 0.2917\n",
            "Epoch 7/30\n",
            "112/112 [==============================] - 27s 236ms/step - loss: 2.0331 - accuracy: 0.3151 - val_loss: 2.0531 - val_accuracy: 0.2778\n",
            "Epoch 8/30\n",
            "112/112 [==============================] - 27s 240ms/step - loss: 1.9899 - accuracy: 0.3637 - val_loss: 2.0243 - val_accuracy: 0.2986\n",
            "Epoch 9/30\n",
            "112/112 [==============================] - 26s 235ms/step - loss: 1.9488 - accuracy: 0.3996 - val_loss: 1.9988 - val_accuracy: 0.3194\n",
            "Epoch 10/30\n",
            "112/112 [==============================] - 27s 244ms/step - loss: 1.9269 - accuracy: 0.4292 - val_loss: 1.9724 - val_accuracy: 0.3542\n",
            "Epoch 11/30\n",
            "112/112 [==============================] - 26s 234ms/step - loss: 1.8803 - accuracy: 0.4622 - val_loss: 1.9542 - val_accuracy: 0.3403\n",
            "Epoch 12/30\n",
            "112/112 [==============================] - 27s 243ms/step - loss: 1.8541 - accuracy: 0.4617 - val_loss: 1.9228 - val_accuracy: 0.3819\n",
            "Epoch 13/30\n",
            "112/112 [==============================] - 26s 235ms/step - loss: 1.8364 - accuracy: 0.4717 - val_loss: 1.8939 - val_accuracy: 0.4097\n",
            "Epoch 14/30\n",
            "112/112 [==============================] - 27s 244ms/step - loss: 1.8025 - accuracy: 0.5031 - val_loss: 1.8709 - val_accuracy: 0.4375\n",
            "Epoch 15/30\n",
            "112/112 [==============================] - 26s 234ms/step - loss: 1.7642 - accuracy: 0.5193 - val_loss: 1.8535 - val_accuracy: 0.4236\n",
            "Epoch 16/30\n",
            "112/112 [==============================] - 26s 232ms/step - loss: 1.7405 - accuracy: 0.5036 - val_loss: 1.8324 - val_accuracy: 0.4514\n",
            "Epoch 17/30\n",
            "112/112 [==============================] - 26s 234ms/step - loss: 1.7047 - accuracy: 0.5305 - val_loss: 1.8166 - val_accuracy: 0.4444\n",
            "Epoch 18/30\n",
            "112/112 [==============================] - 27s 239ms/step - loss: 1.6758 - accuracy: 0.5607 - val_loss: 1.7884 - val_accuracy: 0.4653\n",
            "Epoch 19/30\n",
            "112/112 [==============================] - 27s 240ms/step - loss: 1.6558 - accuracy: 0.5540 - val_loss: 1.7808 - val_accuracy: 0.4653\n",
            "Epoch 20/30\n",
            "112/112 [==============================] - 26s 234ms/step - loss: 1.6356 - accuracy: 0.5781 - val_loss: 1.7574 - val_accuracy: 0.4722\n",
            "Epoch 21/30\n",
            "112/112 [==============================] - 27s 245ms/step - loss: 1.6018 - accuracy: 0.5797 - val_loss: 1.7336 - val_accuracy: 0.5069\n",
            "Epoch 22/30\n",
            "112/112 [==============================] - 26s 233ms/step - loss: 1.5881 - accuracy: 0.5926 - val_loss: 1.7171 - val_accuracy: 0.5000\n",
            "Epoch 23/30\n",
            "112/112 [==============================] - 27s 244ms/step - loss: 1.5648 - accuracy: 0.6072 - val_loss: 1.6988 - val_accuracy: 0.5278\n",
            "Epoch 24/30\n",
            "112/112 [==============================] - 26s 235ms/step - loss: 1.5536 - accuracy: 0.6139 - val_loss: 1.6890 - val_accuracy: 0.5069\n",
            "Epoch 25/30\n",
            "112/112 [==============================] - 26s 228ms/step - loss: 1.5392 - accuracy: 0.6027 - val_loss: 1.6707 - val_accuracy: 0.5694\n",
            "Epoch 26/30\n",
            "112/112 [==============================] - 27s 242ms/step - loss: 1.5134 - accuracy: 0.6178 - val_loss: 1.6465 - val_accuracy: 0.5764\n",
            "Epoch 27/30\n",
            "112/112 [==============================] - 26s 232ms/step - loss: 1.4903 - accuracy: 0.6368 - val_loss: 1.6468 - val_accuracy: 0.5556\n",
            "Epoch 28/30\n",
            "112/112 [==============================] - 26s 233ms/step - loss: 1.4859 - accuracy: 0.6256 - val_loss: 1.6298 - val_accuracy: 0.5625\n",
            "Epoch 29/30\n",
            "112/112 [==============================] - 26s 232ms/step - loss: 1.4577 - accuracy: 0.6463 - val_loss: 1.6130 - val_accuracy: 0.5903\n",
            "Epoch 30/30\n",
            "112/112 [==============================] - 28s 245ms/step - loss: 1.4438 - accuracy: 0.6469 - val_loss: 1.5927 - val_accuracy: 0.6181\n",
            "--- Training Completed ---\n"
          ]
        }
      ]
    },
    {
      "cell_type": "code",
      "source": [
        "# PLOT THEM TOGETHER\n",
        "# Visualization of the learning curves\n",
        "plt.figure(figsize=(15,6))\n",
        "\n",
        "plt.subplot(1, 2, 1)\n",
        "plt.plot(history_VGG16.history['loss'])\n",
        "plt.plot(history_VGG16.history['val_loss'])\n",
        "plt.ylim([0.0, 3.0])\n",
        "plt.title(\"Loss & Val loss VGG16\")\n",
        "plt.xlabel('Epoch')\n",
        "plt.ylabel('Loss')\n",
        "plt.legend(['train', 'valid'])\n",
        "\n",
        "plt.subplot(1, 2, 2)\n",
        "plt.plot(history_VGG16.history['accuracy'])\n",
        "plt.plot(history_VGG16.history['val_accuracy'])\n",
        "plt.ylim([0.0, 1.0])\n",
        "plt.title(\"Accuracy & Val accuracy VGG16\")\n",
        "plt.xlabel('Epoch')\n",
        "plt.ylabel('Accuracy')\n",
        "plt.legend(['train', 'valid'])"
      ],
      "metadata": {
        "colab": {
          "base_uri": "https://localhost:8080/",
          "height": 421
        },
        "id": "bmAy5XhmPmgi",
        "outputId": "1977da19-227a-4121-c12d-412955201049"
      },
      "execution_count": null,
      "outputs": [
        {
          "output_type": "execute_result",
          "data": {
            "text/plain": [
              "<matplotlib.legend.Legend at 0x7f002661d350>"
            ]
          },
          "metadata": {},
          "execution_count": 13
        },
        {
          "output_type": "display_data",
          "data": {
            "text/plain": [
              "<Figure size 1080x432 with 2 Axes>"
            ],
            "image/png": "[encoded data removed]"
          },
          "metadata": {
            "needs_background": "light"
          }
        }
      ]
    },
    {
      "cell_type": "markdown",
      "source": [
        "#### Performance results Model V06 - VGG16"
      ],
      "metadata": {
        "id": "L4UmwE0ifgwv"
      }
    },
    {
      "cell_type": "markdown",
      "source": [
        "Convergence much slower than MobileNetV2."
      ],
      "metadata": {
        "id": "c6aUg-_-QfFZ"
      }
    },
    {
      "cell_type": "markdown",
      "source": [
        "**COMMENTS**\n",
        "\n",
        "While testing other transfer learning architectures (VGG16, EfficientNetB0, ResNet50), they did not have the same good results as the MobileNetV2."
      ],
      "metadata": {
        "id": "MCEPGU_ACAyI"
      }
    },
    {
      "cell_type": "markdown",
      "source": [
        "https://towardsdatascience.com/step-by-step-vgg16-implementation-in-keras-for-beginners-a833c686ae6c\n",
        "\n",
        "https://machinelearningmastery.com/use-pre-trained-vgg-model-classify-objects-photographs/\n",
        "\n",
        "https://www.learndatasci.com/tutorials/hands-on-transfer-learning-keras/"
      ],
      "metadata": {
        "id": "mSTy2kard9qy"
      }
    },
    {
      "cell_type": "markdown",
      "source": [
        "## 1.2.8 Model V07 - Transfer learning + PCA"
      ],
      "metadata": {
        "id": "QSqudPbJY46K"
      }
    },
    {
      "cell_type": "code",
      "source": [
        "# Capture training data and labels into respective lists\n",
        "train_images = []\n",
        "train_labels = [] \n",
        "\n",
        "# GET THE LABELS\n",
        "for directory_path in glob.glob(DIR_TRAIN_DATA):\n",
        "    tr_label = directory_path.split(\"/\")[-1]\n",
        "    print(tr_label)\n",
        "    # GET THE IMAGES\n",
        "    for img_path in glob.glob(os.path.join(directory_path, \"*.jpg\")):\n",
        "        # print(img_path)\n",
        "        img = cv2.imread(img_path, cv2.IMREAD_COLOR)       \n",
        "        img = cv2.resize(img, (224, 224))\n",
        "        img = cv2.cvtColor(img, cv2.COLOR_RGB2BGR)\n",
        "        train_images.append(img)\n",
        "        train_labels.append(tr_label)\n",
        "\n",
        "# CONVERT LISTS TO ARRAYS\n",
        "train_images = np.array(train_images)\n",
        "train_labels = np.array(train_labels)\n",
        "\n",
        "################################################################\n",
        "# CAPTURE TEST/VALIDATION DATA AND LABELS INTO RESPECTIVE LISTS\n",
        "\n",
        "test_images = []\n",
        "test_labels = [] \n",
        "for directory_path in glob.glob(DIR_TEST_DATA):\n",
        "    tt_label = directory_path.split(\"/\")[-1]\n",
        "    for img_path in glob.glob(os.path.join(directory_path, \"*.jpg\")):\n",
        "        img = cv2.imread(img_path, cv2.IMREAD_COLOR)\n",
        "        img = cv2.resize(img, (224, 224))\n",
        "        img = cv2.cvtColor(img, cv2.COLOR_RGB2BGR)\n",
        "        test_images.append(img)\n",
        "        test_labels.append(tt_label)\n",
        "\n",
        "#Convert lists to arrays                \n",
        "test_images = np.array(test_images)\n",
        "test_labels = np.array(test_labels)"
      ],
      "metadata": {
        "colab": {
          "base_uri": "https://localhost:8080/",
          "height": 173
        },
        "id": "-2ccgqZiZLOA",
        "outputId": "5dbf2f37-bb47-4d03-bf6a-69c74eb22a2e"
      },
      "execution_count": null,
      "outputs": [
        {
          "output_type": "display_data",
          "data": {
            "text/plain": [
              "<IPython.core.display.Javascript object>"
            ],
            "application/javascript": [
              "google.colab.output.setIframeHeight(0, true, {maxHeight: 300})"
            ]
          },
          "metadata": {}
        },
        {
          "output_type": "stream",
          "name": "stdout",
          "text": [
            "french_fries\n",
            "caprese_salad\n",
            "pizza\n",
            "greek_salad\n",
            "sashimi\n",
            "hot_dog\n",
            "caesar_salad\n",
            "hamburger\n",
            "sushi\n"
          ]
        }
      ]
    },
    {
      "cell_type": "code",
      "source": [
        "# ENCODE LABELS FROM TEXT TO INTEGERS\n",
        "le = preprocessing.LabelEncoder()\n",
        "\n",
        "# TRAIN DATA\n",
        "le.fit(train_labels)\n",
        "train_labels_encoded = le.transform(train_labels)\n",
        "\n",
        "# TEST DATA\n",
        "le.fit(test_labels)\n",
        "test_labels_encoded = le.transform(test_labels)\n",
        "\n",
        "# SPLIT DATA INTO TEST AND TRAIN DATASETS (ALREADY SPLIT BUT ASSIGNING TO MEANINGFUL CONVENTION)\n",
        "x_train, y_train, x_test, y_test = train_images, train_labels_encoded, test_images, test_labels_encoded"
      ],
      "metadata": {
        "id": "9n5RboU4ZLLs",
        "colab": {
          "base_uri": "https://localhost:8080/",
          "height": 17
        },
        "outputId": "aef66acd-5955-4e2b-ed35-5b7cd0fefa0e"
      },
      "execution_count": null,
      "outputs": [
        {
          "output_type": "display_data",
          "data": {
            "text/plain": [
              "<IPython.core.display.Javascript object>"
            ],
            "application/javascript": [
              "google.colab.output.setIframeHeight(0, true, {maxHeight: 300})"
            ]
          },
          "metadata": {}
        }
      ]
    },
    {
      "cell_type": "code",
      "source": [
        "# SCALE PIXEL VALUES BETWEEN 0 AND 1\n",
        "x_train, x_test = x_train / 255.0, x_test / 255.0\n",
        "\n",
        "# ONE HOT ENCODE Y VALUES FOR NEURAL NETWORK\n",
        "y_train_one_hot = to_categorical(y_train)\n",
        "y_test_one_hot = to_categorical(y_test)"
      ],
      "metadata": {
        "id": "9ukrE3Q5ZLJ6",
        "colab": {
          "base_uri": "https://localhost:8080/",
          "height": 17
        },
        "outputId": "9508adc9-2359-47a9-bc11-9acf90b4549b"
      },
      "execution_count": null,
      "outputs": [
        {
          "output_type": "display_data",
          "data": {
            "text/plain": [
              "<IPython.core.display.Javascript object>"
            ],
            "application/javascript": [
              "google.colab.output.setIframeHeight(0, true, {maxHeight: 300})"
            ]
          },
          "metadata": {}
        }
      ]
    },
    {
      "cell_type": "code",
      "source": [
        "#############################\n",
        "#Load VGG model with imagenet trained weights and without classifier/fully connected layers\n",
        "#We will use this as feature extractor. \n",
        "base_model_mobilenetv2_PCA = tf.keras.applications.MobileNetV2(\n",
        "    input_shape = (224, 224, 3),\n",
        "    include_top=False, \n",
        "    weights=\"imagenet\"\n",
        ")\n",
        "# With the following we ensure that we do not mess with the original\n",
        "# imagenet weights\n",
        "base_model_mobilenetv2_PCA.trainable = False\n",
        "    \n",
        "base_model_mobilenetv2_PCA.summary()  #Trainable parameters will be 0"
      ],
      "metadata": {
        "colab": {
          "base_uri": "https://localhost:8080/",
          "height": 300
        },
        "id": "-7Rfk2ANguND",
        "outputId": "456cd46c-4cf7-4ece-906a-5a08e250a9d4"
      },
      "execution_count": null,
      "outputs": [
        {
          "output_type": "display_data",
          "data": {
            "text/plain": [
              "<IPython.core.display.Javascript object>"
            ],
            "application/javascript": [
              "google.colab.output.setIframeHeight(0, true, {maxHeight: 300})"
            ]
          },
          "metadata": {}
        },
        {
          "output_type": "stream",
          "name": "stdout",
          "text": [
            "Model: \"model_4\"\n",
            "__________________________________________________________________________________________________\n",
            " Layer (type)                   Output Shape         Param #     Connected to                     \n",
            "==================================================================================================\n",
            " input_6 (InputLayer)           [(None, 224, 224, 3  0           []                               \n",
            "                                )]                                                                \n",
            "                                                                                                  \n",
            " Conv1 (Conv2D)                 (None, 112, 112, 32  864         ['input_6[0][0]']                \n",
            "                                )                                                                 \n",
            "                                                                                                  \n",
            " bn_Conv1 (BatchNormalization)  (None, 112, 112, 32  128         ['Conv1[0][0]']                  \n",
            "                                )                                                                 \n",
            "                                                                                                  \n",
            " Conv1_relu (ReLU)              (None, 112, 112, 32  0           ['bn_Conv1[0][0]']               \n",
            "                                )                                                                 \n",
            "                                                                                                  \n",
            " expanded_conv_depthwise (Depth  (None, 112, 112, 32  288        ['Conv1_relu[0][0]']             \n",
            " wiseConv2D)                    )                                                                 \n",
            "                                                                                                  \n",
            " expanded_conv_depthwise_BN (Ba  (None, 112, 112, 32  128        ['expanded_conv_depthwise[0][0]']\n",
            " tchNormalization)              )                                                                 \n",
            "                                                                                                  \n",
            " expanded_conv_depthwise_relu (  (None, 112, 112, 32  0          ['expanded_conv_depthwise_BN[0][0\n",
            " ReLU)                          )                                ]']                              \n",
            "                                                                                                  \n",
            " expanded_conv_project (Conv2D)  (None, 112, 112, 16  512        ['expanded_conv_depthwise_relu[0]\n",
            "                                )                                [0]']                            \n",
            "                                                                                                  \n",
            " expanded_conv_project_BN (Batc  (None, 112, 112, 16  64         ['expanded_conv_project[0][0]']  \n",
            " hNormalization)                )                                                                 \n",
            "                                                                                                  \n",
            " block_1_expand (Conv2D)        (None, 112, 112, 96  1536        ['expanded_conv_project_BN[0][0]'\n",
            "                                )                                ]                                \n",
            "                                                                                                  \n",
            " block_1_expand_BN (BatchNormal  (None, 112, 112, 96  384        ['block_1_expand[0][0]']         \n",
            " ization)                       )                                                                 \n",
            "                                                                                                  \n",
            " block_1_expand_relu (ReLU)     (None, 112, 112, 96  0           ['block_1_expand_BN[0][0]']      \n",
            "                                )                                                                 \n",
            "                                                                                                  \n",
            " block_1_pad (ZeroPadding2D)    (None, 113, 113, 96  0           ['block_1_expand_relu[0][0]']    \n",
            "                                )                                                                 \n",
            "                                                                                                  \n",
            " block_1_depthwise (DepthwiseCo  (None, 56, 56, 96)  864         ['block_1_pad[0][0]']            \n",
            " nv2D)                                                                                            \n",
            "                                                                                                  \n",
            " block_1_depthwise_BN (BatchNor  (None, 56, 56, 96)  384         ['block_1_depthwise[0][0]']      \n",
            " malization)                                                                                      \n",
            "                                                                                                  \n",
            " block_1_depthwise_relu (ReLU)  (None, 56, 56, 96)   0           ['block_1_depthwise_BN[0][0]']   \n",
            "                                                                                                  \n",
            " block_1_project (Conv2D)       (None, 56, 56, 24)   2304        ['block_1_depthwise_relu[0][0]'] \n",
            "                                                                                                  \n",
            " block_1_project_BN (BatchNorma  (None, 56, 56, 24)  96          ['block_1_project[0][0]']        \n",
            " lization)                                                                                        \n",
            "                                                                                                  \n",
            " block_2_expand (Conv2D)        (None, 56, 56, 144)  3456        ['block_1_project_BN[0][0]']     \n",
            "                                                                                                  \n",
            " block_2_expand_BN (BatchNormal  (None, 56, 56, 144)  576        ['block_2_expand[0][0]']         \n",
            " ization)                                                                                         \n",
            "                                                                                                  \n",
            " block_2_expand_relu (ReLU)     (None, 56, 56, 144)  0           ['block_2_expand_BN[0][0]']      \n",
            "                                                                                                  \n",
            " block_2_depthwise (DepthwiseCo  (None, 56, 56, 144)  1296       ['block_2_expand_relu[0][0]']    \n",
            " nv2D)                                                                                            \n",
            "                                                                                                  \n",
            " block_2_depthwise_BN (BatchNor  (None, 56, 56, 144)  576        ['block_2_depthwise[0][0]']      \n",
            " malization)                                                                                      \n",
            "                                                                                                  \n",
            " block_2_depthwise_relu (ReLU)  (None, 56, 56, 144)  0           ['block_2_depthwise_BN[0][0]']   \n",
            "                                                                                                  \n",
            " block_2_project (Conv2D)       (None, 56, 56, 24)   3456        ['block_2_depthwise_relu[0][0]'] \n",
            "                                                                                                  \n",
            " block_2_project_BN (BatchNorma  (None, 56, 56, 24)  96          ['block_2_project[0][0]']        \n",
            " lization)                                                                                        \n",
            "                                                                                                  \n",
            " block_2_add (Add)              (None, 56, 56, 24)   0           ['block_1_project_BN[0][0]',     \n",
            "                                                                  'block_2_project_BN[0][0]']     \n",
            "                                                                                                  \n",
            " block_3_expand (Conv2D)        (None, 56, 56, 144)  3456        ['block_2_add[0][0]']            \n",
            "                                                                                                  \n",
            " block_3_expand_BN (BatchNormal  (None, 56, 56, 144)  576        ['block_3_expand[0][0]']         \n",
            " ization)                                                                                         \n",
            "                                                                                                  \n",
            " block_3_expand_relu (ReLU)     (None, 56, 56, 144)  0           ['block_3_expand_BN[0][0]']      \n",
            "                                                                                                  \n",
            " block_3_pad (ZeroPadding2D)    (None, 57, 57, 144)  0           ['block_3_expand_relu[0][0]']    \n",
            "                                                                                                  \n",
            " block_3_depthwise (DepthwiseCo  (None, 28, 28, 144)  1296       ['block_3_pad[0][0]']            \n",
            " nv2D)                                                                                            \n",
            "                                                                                                  \n",
            " block_3_depthwise_BN (BatchNor  (None, 28, 28, 144)  576        ['block_3_depthwise[0][0]']      \n",
            " malization)                                                                                      \n",
            "                                                                                                  \n",
            " block_3_depthwise_relu (ReLU)  (None, 28, 28, 144)  0           ['block_3_depthwise_BN[0][0]']   \n",
            "                                                                                                  \n",
            " block_3_project (Conv2D)       (None, 28, 28, 32)   4608        ['block_3_depthwise_relu[0][0]'] \n",
            "                                                                                                  \n",
            " block_3_project_BN (BatchNorma  (None, 28, 28, 32)  128         ['block_3_project[0][0]']        \n",
            " lization)                                                                                        \n",
            "                                                                                                  \n",
            " block_4_expand (Conv2D)        (None, 28, 28, 192)  6144        ['block_3_project_BN[0][0]']     \n",
            "                                                                                                  \n",
            " block_4_expand_BN (BatchNormal  (None, 28, 28, 192)  768        ['block_4_expand[0][0]']         \n",
            " ization)                                                                                         \n",
            "                                                                                                  \n",
            " block_4_expand_relu (ReLU)     (None, 28, 28, 192)  0           ['block_4_expand_BN[0][0]']      \n",
            "                                                                                                  \n",
            " block_4_depthwise (DepthwiseCo  (None, 28, 28, 192)  1728       ['block_4_expand_relu[0][0]']    \n",
            " nv2D)                                                                                            \n",
            "                                                                                                  \n",
            " block_4_depthwise_BN (BatchNor  (None, 28, 28, 192)  768        ['block_4_depthwise[0][0]']      \n",
            " malization)                                                                                      \n",
            "                                                                                                  \n",
            " block_4_depthwise_relu (ReLU)  (None, 28, 28, 192)  0           ['block_4_depthwise_BN[0][0]']   \n",
            "                                                                                                  \n",
            " block_4_project (Conv2D)       (None, 28, 28, 32)   6144        ['block_4_depthwise_relu[0][0]'] \n",
            "                                                                                                  \n",
            " block_4_project_BN (BatchNorma  (None, 28, 28, 32)  128         ['block_4_project[0][0]']        \n",
            " lization)                                                                                        \n",
            "                                                                                                  \n",
            " block_4_add (Add)              (None, 28, 28, 32)   0           ['block_3_project_BN[0][0]',     \n",
            "                                                                  'block_4_project_BN[0][0]']     \n",
            "                                                                                                  \n",
            " block_5_expand (Conv2D)        (None, 28, 28, 192)  6144        ['block_4_add[0][0]']            \n",
            "                                                                                                  \n",
            " block_5_expand_BN (BatchNormal  (None, 28, 28, 192)  768        ['block_5_expand[0][0]']         \n",
            " ization)                                                                                         \n",
            "                                                                                                  \n",
            " block_5_expand_relu (ReLU)     (None, 28, 28, 192)  0           ['block_5_expand_BN[0][0]']      \n",
            "                                                                                                  \n",
            " block_5_depthwise (DepthwiseCo  (None, 28, 28, 192)  1728       ['block_5_expand_relu[0][0]']    \n",
            " nv2D)                                                                                            \n",
            "                                                                                                  \n",
            " block_5_depthwise_BN (BatchNor  (None, 28, 28, 192)  768        ['block_5_depthwise[0][0]']      \n",
            " malization)                                                                                      \n",
            "                                                                                                  \n",
            " block_5_depthwise_relu (ReLU)  (None, 28, 28, 192)  0           ['block_5_depthwise_BN[0][0]']   \n",
            "                                                                                                  \n",
            " block_5_project (Conv2D)       (None, 28, 28, 32)   6144        ['block_5_depthwise_relu[0][0]'] \n",
            "                                                                                                  \n",
            " block_5_project_BN (BatchNorma  (None, 28, 28, 32)  128         ['block_5_project[0][0]']        \n",
            " lization)                                                                                        \n",
            "                                                                                                  \n",
            " block_5_add (Add)              (None, 28, 28, 32)   0           ['block_4_add[0][0]',            \n",
            "                                                                  'block_5_project_BN[0][0]']     \n",
            "                                                                                                  \n",
            " block_6_expand (Conv2D)        (None, 28, 28, 192)  6144        ['block_5_add[0][0]']            \n",
            "                                                                                                  \n",
            " block_6_expand_BN (BatchNormal  (None, 28, 28, 192)  768        ['block_6_expand[0][0]']         \n",
            " ization)                                                                                         \n",
            "                                                                                                  \n",
            " block_6_expand_relu (ReLU)     (None, 28, 28, 192)  0           ['block_6_expand_BN[0][0]']      \n",
            "                                                                                                  \n",
            " block_6_pad (ZeroPadding2D)    (None, 29, 29, 192)  0           ['block_6_expand_relu[0][0]']    \n",
            "                                                                                                  \n",
            " block_6_depthwise (DepthwiseCo  (None, 14, 14, 192)  1728       ['block_6_pad[0][0]']            \n",
            " nv2D)                                                                                            \n",
            "                                                                                                  \n",
            " block_6_depthwise_BN (BatchNor  (None, 14, 14, 192)  768        ['block_6_depthwise[0][0]']      \n",
            " malization)                                                                                      \n",
            "                                                                                                  \n",
            " block_6_depthwise_relu (ReLU)  (None, 14, 14, 192)  0           ['block_6_depthwise_BN[0][0]']   \n",
            "                                                                                                  \n",
            " block_6_project (Conv2D)       (None, 14, 14, 64)   12288       ['block_6_depthwise_relu[0][0]'] \n",
            "                                                                                                  \n",
            " block_6_project_BN (BatchNorma  (None, 14, 14, 64)  256         ['block_6_project[0][0]']        \n",
            " lization)                                                                                        \n",
            "                                                                                                  \n",
            " block_7_expand (Conv2D)        (None, 14, 14, 384)  24576       ['block_6_project_BN[0][0]']     \n",
            "                                                                                                  \n",
            " block_7_expand_BN (BatchNormal  (None, 14, 14, 384)  1536       ['block_7_expand[0][0]']         \n",
            " ization)                                                                                         \n",
            "                                                                                                  \n",
            " block_7_expand_relu (ReLU)     (None, 14, 14, 384)  0           ['block_7_expand_BN[0][0]']      \n",
            "                                                                                                  \n",
            " block_7_depthwise (DepthwiseCo  (None, 14, 14, 384)  3456       ['block_7_expand_relu[0][0]']    \n",
            " nv2D)                                                                                            \n",
            "                                                                                                  \n",
            " block_7_depthwise_BN (BatchNor  (None, 14, 14, 384)  1536       ['block_7_depthwise[0][0]']      \n",
            " malization)                                                                                      \n",
            "                                                                                                  \n",
            " block_7_depthwise_relu (ReLU)  (None, 14, 14, 384)  0           ['block_7_depthwise_BN[0][0]']   \n",
            "                                                                                                  \n",
            " block_7_project (Conv2D)       (None, 14, 14, 64)   24576       ['block_7_depthwise_relu[0][0]'] \n",
            "                                                                                                  \n",
            " block_7_project_BN (BatchNorma  (None, 14, 14, 64)  256         ['block_7_project[0][0]']        \n",
            " lization)                                                                                        \n",
            "                                                                                                  \n",
            " block_7_add (Add)              (None, 14, 14, 64)   0           ['block_6_project_BN[0][0]',     \n",
            "                                                                  'block_7_project_BN[0][0]']     \n",
            "                                                                                                  \n",
            " block_8_expand (Conv2D)        (None, 14, 14, 384)  24576       ['block_7_add[0][0]']            \n",
            "                                                                                                  \n",
            " block_8_expand_BN (BatchNormal  (None, 14, 14, 384)  1536       ['block_8_expand[0][0]']         \n",
            " ization)                                                                                         \n",
            "                                                                                                  \n",
            " block_8_expand_relu (ReLU)     (None, 14, 14, 384)  0           ['block_8_expand_BN[0][0]']      \n",
            "                                                                                                  \n",
            " block_8_depthwise (DepthwiseCo  (None, 14, 14, 384)  3456       ['block_8_expand_relu[0][0]']    \n",
            " nv2D)                                                                                            \n",
            "                                                                                                  \n",
            " block_8_depthwise_BN (BatchNor  (None, 14, 14, 384)  1536       ['block_8_depthwise[0][0]']      \n",
            " malization)                                                                                      \n",
            "                                                                                                  \n",
            " block_8_depthwise_relu (ReLU)  (None, 14, 14, 384)  0           ['block_8_depthwise_BN[0][0]']   \n",
            "                                                                                                  \n",
            " block_8_project (Conv2D)       (None, 14, 14, 64)   24576       ['block_8_depthwise_relu[0][0]'] \n",
            "                                                                                                  \n",
            " block_8_project_BN (BatchNorma  (None, 14, 14, 64)  256         ['block_8_project[0][0]']        \n",
            " lization)                                                                                        \n",
            "                                                                                                  \n",
            " block_8_add (Add)              (None, 14, 14, 64)   0           ['block_7_add[0][0]',            \n",
            "                                                                  'block_8_project_BN[0][0]']     \n",
            "                                                                                                  \n",
            " block_9_expand (Conv2D)        (None, 14, 14, 384)  24576       ['block_8_add[0][0]']            \n",
            "                                                                                                  \n",
            " block_9_expand_BN (BatchNormal  (None, 14, 14, 384)  1536       ['block_9_expand[0][0]']         \n",
            " ization)                                                                                         \n",
            "                                                                                                  \n",
            " block_9_expand_relu (ReLU)     (None, 14, 14, 384)  0           ['block_9_expand_BN[0][0]']      \n",
            "                                                                                                  \n",
            " block_9_depthwise (DepthwiseCo  (None, 14, 14, 384)  3456       ['block_9_expand_relu[0][0]']    \n",
            " nv2D)                                                                                            \n",
            "                                                                                                  \n",
            " block_9_depthwise_BN (BatchNor  (None, 14, 14, 384)  1536       ['block_9_depthwise[0][0]']      \n",
            " malization)                                                                                      \n",
            "                                                                                                  \n",
            " block_9_depthwise_relu (ReLU)  (None, 14, 14, 384)  0           ['block_9_depthwise_BN[0][0]']   \n",
            "                                                                                                  \n",
            " block_9_project (Conv2D)       (None, 14, 14, 64)   24576       ['block_9_depthwise_relu[0][0]'] \n",
            "                                                                                                  \n",
            " block_9_project_BN (BatchNorma  (None, 14, 14, 64)  256         ['block_9_project[0][0]']        \n",
            " lization)                                                                                        \n",
            "                                                                                                  \n",
            " block_9_add (Add)              (None, 14, 14, 64)   0           ['block_8_add[0][0]',            \n",
            "                                                                  'block_9_project_BN[0][0]']     \n",
            "                                                                                                  \n",
            " block_10_expand (Conv2D)       (None, 14, 14, 384)  24576       ['block_9_add[0][0]']            \n",
            "                                                                                                  \n",
            " block_10_expand_BN (BatchNorma  (None, 14, 14, 384)  1536       ['block_10_expand[0][0]']        \n",
            " lization)                                                                                        \n",
            "                                                                                                  \n",
            " block_10_expand_relu (ReLU)    (None, 14, 14, 384)  0           ['block_10_expand_BN[0][0]']     \n",
            "                                                                                                  \n",
            " block_10_depthwise (DepthwiseC  (None, 14, 14, 384)  3456       ['block_10_expand_relu[0][0]']   \n",
            " onv2D)                                                                                           \n",
            "                                                                                                  \n",
            " block_10_depthwise_BN (BatchNo  (None, 14, 14, 384)  1536       ['block_10_depthwise[0][0]']     \n",
            " rmalization)                                                                                     \n",
            "                                                                                                  \n",
            " block_10_depthwise_relu (ReLU)  (None, 14, 14, 384)  0          ['block_10_depthwise_BN[0][0]']  \n",
            "                                                                                                  \n",
            " block_10_project (Conv2D)      (None, 14, 14, 96)   36864       ['block_10_depthwise_relu[0][0]']\n",
            "                                                                                                  \n",
            " block_10_project_BN (BatchNorm  (None, 14, 14, 96)  384         ['block_10_project[0][0]']       \n",
            " alization)                                                                                       \n",
            "                                                                                                  \n",
            " block_11_expand (Conv2D)       (None, 14, 14, 576)  55296       ['block_10_project_BN[0][0]']    \n",
            "                                                                                                  \n",
            " block_11_expand_BN (BatchNorma  (None, 14, 14, 576)  2304       ['block_11_expand[0][0]']        \n",
            " lization)                                                                                        \n",
            "                                                                                                  \n",
            " block_11_expand_relu (ReLU)    (None, 14, 14, 576)  0           ['block_11_expand_BN[0][0]']     \n",
            "                                                                                                  \n",
            " block_11_depthwise (DepthwiseC  (None, 14, 14, 576)  5184       ['block_11_expand_relu[0][0]']   \n",
            " onv2D)                                                                                           \n",
            "                                                                                                  \n",
            " block_11_depthwise_BN (BatchNo  (None, 14, 14, 576)  2304       ['block_11_depthwise[0][0]']     \n",
            " rmalization)                                                                                     \n",
            "                                                                                                  \n",
            " block_11_depthwise_relu (ReLU)  (None, 14, 14, 576)  0          ['block_11_depthwise_BN[0][0]']  \n",
            "                                                                                                  \n",
            " block_11_project (Conv2D)      (None, 14, 14, 96)   55296       ['block_11_depthwise_relu[0][0]']\n",
            "                                                                                                  \n",
            " block_11_project_BN (BatchNorm  (None, 14, 14, 96)  384         ['block_11_project[0][0]']       \n",
            " alization)                                                                                       \n",
            "                                                                                                  \n",
            " block_11_add (Add)             (None, 14, 14, 96)   0           ['block_10_project_BN[0][0]',    \n",
            "                                                                  'block_11_project_BN[0][0]']    \n",
            "                                                                                                  \n",
            " block_12_expand (Conv2D)       (None, 14, 14, 576)  55296       ['block_11_add[0][0]']           \n",
            "                                                                                                  \n",
            " block_12_expand_BN (BatchNorma  (None, 14, 14, 576)  2304       ['block_12_expand[0][0]']        \n",
            " lization)                                                                                        \n",
            "                                                                                                  \n",
            " block_12_expand_relu (ReLU)    (None, 14, 14, 576)  0           ['block_12_expand_BN[0][0]']     \n",
            "                                                                                                  \n",
            " block_12_depthwise (DepthwiseC  (None, 14, 14, 576)  5184       ['block_12_expand_relu[0][0]']   \n",
            " onv2D)                                                                                           \n",
            "                                                                                                  \n",
            " block_12_depthwise_BN (BatchNo  (None, 14, 14, 576)  2304       ['block_12_depthwise[0][0]']     \n",
            " rmalization)                                                                                     \n",
            "                                                                                                  \n",
            " block_12_depthwise_relu (ReLU)  (None, 14, 14, 576)  0          ['block_12_depthwise_BN[0][0]']  \n",
            "                                                                                                  \n",
            " block_12_project (Conv2D)      (None, 14, 14, 96)   55296       ['block_12_depthwise_relu[0][0]']\n",
            "                                                                                                  \n",
            " block_12_project_BN (BatchNorm  (None, 14, 14, 96)  384         ['block_12_project[0][0]']       \n",
            " alization)                                                                                       \n",
            "                                                                                                  \n",
            " block_12_add (Add)             (None, 14, 14, 96)   0           ['block_11_add[0][0]',           \n",
            "                                                                  'block_12_project_BN[0][0]']    \n",
            "                                                                                                  \n",
            " block_13_expand (Conv2D)       (None, 14, 14, 576)  55296       ['block_12_add[0][0]']           \n",
            "                                                                                                  \n",
            " block_13_expand_BN (BatchNorma  (None, 14, 14, 576)  2304       ['block_13_expand[0][0]']        \n",
            " lization)                                                                                        \n",
            "                                                                                                  \n",
            " block_13_expand_relu (ReLU)    (None, 14, 14, 576)  0           ['block_13_expand_BN[0][0]']     \n",
            "                                                                                                  \n",
            " block_13_pad (ZeroPadding2D)   (None, 15, 15, 576)  0           ['block_13_expand_relu[0][0]']   \n",
            "                                                                                                  \n",
            " block_13_depthwise (DepthwiseC  (None, 7, 7, 576)   5184        ['block_13_pad[0][0]']           \n",
            " onv2D)                                                                                           \n",
            "                                                                                                  \n",
            " block_13_depthwise_BN (BatchNo  (None, 7, 7, 576)   2304        ['block_13_depthwise[0][0]']     \n",
            " rmalization)                                                                                     \n",
            "                                                                                                  \n",
            " block_13_depthwise_relu (ReLU)  (None, 7, 7, 576)   0           ['block_13_depthwise_BN[0][0]']  \n",
            "                                                                                                  \n",
            " block_13_project (Conv2D)      (None, 7, 7, 160)    92160       ['block_13_depthwise_relu[0][0]']\n",
            "                                                                                                  \n",
            " block_13_project_BN (BatchNorm  (None, 7, 7, 160)   640         ['block_13_project[0][0]']       \n",
            " alization)                                                                                       \n",
            "                                                                                                  \n",
            " block_14_expand (Conv2D)       (None, 7, 7, 960)    153600      ['block_13_project_BN[0][0]']    \n",
            "                                                                                                  \n",
            " block_14_expand_BN (BatchNorma  (None, 7, 7, 960)   3840        ['block_14_expand[0][0]']        \n",
            " lization)                                                                                        \n",
            "                                                                                                  \n",
            " block_14_expand_relu (ReLU)    (None, 7, 7, 960)    0           ['block_14_expand_BN[0][0]']     \n",
            "                                                                                                  \n",
            " block_14_depthwise (DepthwiseC  (None, 7, 7, 960)   8640        ['block_14_expand_relu[0][0]']   \n",
            " onv2D)                                                                                           \n",
            "                                                                                                  \n",
            " block_14_depthwise_BN (BatchNo  (None, 7, 7, 960)   3840        ['block_14_depthwise[0][0]']     \n",
            " rmalization)                                                                                     \n",
            "                                                                                                  \n",
            " block_14_depthwise_relu (ReLU)  (None, 7, 7, 960)   0           ['block_14_depthwise_BN[0][0]']  \n",
            "                                                                                                  \n",
            " block_14_project (Conv2D)      (None, 7, 7, 160)    153600      ['block_14_depthwise_relu[0][0]']\n",
            "                                                                                                  \n",
            " block_14_project_BN (BatchNorm  (None, 7, 7, 160)   640         ['block_14_project[0][0]']       \n",
            " alization)                                                                                       \n",
            "                                                                                                  \n",
            " block_14_add (Add)             (None, 7, 7, 160)    0           ['block_13_project_BN[0][0]',    \n",
            "                                                                  'block_14_project_BN[0][0]']    \n",
            "                                                                                                  \n",
            " block_15_expand (Conv2D)       (None, 7, 7, 960)    153600      ['block_14_add[0][0]']           \n",
            "                                                                                                  \n",
            " block_15_expand_BN (BatchNorma  (None, 7, 7, 960)   3840        ['block_15_expand[0][0]']        \n",
            " lization)                                                                                        \n",
            "                                                                                                  \n",
            " block_15_expand_relu (ReLU)    (None, 7, 7, 960)    0           ['block_15_expand_BN[0][0]']     \n",
            "                                                                                                  \n",
            " block_15_depthwise (DepthwiseC  (None, 7, 7, 960)   8640        ['block_15_expand_relu[0][0]']   \n",
            " onv2D)                                                                                           \n",
            "                                                                                                  \n",
            " block_15_depthwise_BN (BatchNo  (None, 7, 7, 960)   3840        ['block_15_depthwise[0][0]']     \n",
            " rmalization)                                                                                     \n",
            "                                                                                                  \n",
            " block_15_depthwise_relu (ReLU)  (None, 7, 7, 960)   0           ['block_15_depthwise_BN[0][0]']  \n",
            "                                                                                                  \n",
            " block_15_project (Conv2D)      (None, 7, 7, 160)    153600      ['block_15_depthwise_relu[0][0]']\n",
            "                                                                                                  \n",
            " block_15_project_BN (BatchNorm  (None, 7, 7, 160)   640         ['block_15_project[0][0]']       \n",
            " alization)                                                                                       \n",
            "                                                                                                  \n",
            " block_15_add (Add)             (None, 7, 7, 160)    0           ['block_14_add[0][0]',           \n",
            "                                                                  'block_15_project_BN[0][0]']    \n",
            "                                                                                                  \n",
            " block_16_expand (Conv2D)       (None, 7, 7, 960)    153600      ['block_15_add[0][0]']           \n",
            "                                                                                                  \n",
            " block_16_expand_BN (BatchNorma  (None, 7, 7, 960)   3840        ['block_16_expand[0][0]']        \n",
            " lization)                                                                                        \n",
            "                                                                                                  \n",
            " block_16_expand_relu (ReLU)    (None, 7, 7, 960)    0           ['block_16_expand_BN[0][0]']     \n",
            "                                                                                                  \n",
            " block_16_depthwise (DepthwiseC  (None, 7, 7, 960)   8640        ['block_16_expand_relu[0][0]']   \n",
            " onv2D)                                                                                           \n",
            "                                                                                                  \n",
            " block_16_depthwise_BN (BatchNo  (None, 7, 7, 960)   3840        ['block_16_depthwise[0][0]']     \n",
            " rmalization)                                                                                     \n",
            "                                                                                                  \n",
            " block_16_depthwise_relu (ReLU)  (None, 7, 7, 960)   0           ['block_16_depthwise_BN[0][0]']  \n",
            "                                                                                                  \n",
            " block_16_project (Conv2D)      (None, 7, 7, 320)    307200      ['block_16_depthwise_relu[0][0]']\n",
            "                                                                                                  \n",
            " block_16_project_BN (BatchNorm  (None, 7, 7, 320)   1280        ['block_16_project[0][0]']       \n",
            " alization)                                                                                       \n",
            "                                                                                                  \n",
            " Conv_1 (Conv2D)                (None, 7, 7, 1280)   409600      ['block_16_project_BN[0][0]']    \n",
            "                                                                                                  \n",
            " Conv_1_bn (BatchNormalization)  (None, 7, 7, 1280)  5120        ['Conv_1[0][0]']                 \n",
            "                                                                                                  \n",
            " out_relu (ReLU)                (None, 7, 7, 1280)   0           ['Conv_1_bn[0][0]']              \n",
            "                                                                                                  \n",
            " global_average_pooling2d_5 (Gl  (None, 1280)        0           ['out_relu[0][0]']               \n",
            " obalAveragePooling2D)                                                                            \n",
            "                                                                                                  \n",
            " dense_20 (Dense)               (None, 1024)         1311744     ['global_average_pooling2d_5[0][0\n",
            "                                                                 ]']                              \n",
            "                                                                                                  \n",
            " dense_21 (Dense)               (None, 512)          524800      ['dense_20[0][0]']               \n",
            "                                                                                                  \n",
            " dense_22 (Dense)               (None, 512)          262656      ['dense_21[0][0]']               \n",
            "                                                                                                  \n",
            " dense_23 (Dense)               (None, 9)            4617        ['dense_22[0][0]']               \n",
            "                                                                                                  \n",
            "==================================================================================================\n",
            "Total params: 4,361,801\n",
            "Trainable params: 2,103,817\n",
            "Non-trainable params: 2,257,984\n",
            "__________________________________________________________________________________________________\n"
          ]
        }
      ]
    },
    {
      "cell_type": "code",
      "source": [
        "# NOW, USE THE MOBILENETV2 AS A FEATURE EXTRACTOR\n",
        "# TRAIN FEATURES\n",
        "train_feature_extractor = base_model_mobilenetv2_PCA.predict(x_train)\n",
        "train_features = train_feature_extractor.reshape(train_feature_extractor.shape[0], -1)\n",
        "\n",
        "# TEST FEATURES\n",
        "test_feature_extractor = base_model_mobilenetv2_PCA.predict(x_test)\n",
        "test_features = test_feature_extractor.reshape(test_feature_extractor.shape[0], -1)"
      ],
      "metadata": {
        "colab": {
          "base_uri": "https://localhost:8080/",
          "height": 52
        },
        "id": "ME2gHKhbguKS",
        "outputId": "468ba6b1-aad0-4925-e9fb-0f4826eb4a23"
      },
      "execution_count": null,
      "outputs": [
        {
          "output_type": "display_data",
          "data": {
            "text/plain": [
              "<IPython.core.display.Javascript object>"
            ],
            "application/javascript": [
              "google.colab.output.setIframeHeight(0, true, {maxHeight: 300})"
            ]
          },
          "metadata": {}
        },
        {
          "output_type": "stream",
          "name": "stdout",
          "text": [
            "57/57 [==============================] - 65s 1s/step\n",
            "5/5 [==============================] - 4s 886ms/step\n"
          ]
        }
      ]
    },
    {
      "cell_type": "code",
      "source": [
        "train_features.shape"
      ],
      "metadata": {
        "colab": {
          "base_uri": "https://localhost:8080/",
          "height": 34
        },
        "id": "gQOXkDg9D2pH",
        "outputId": "36e623ff-2d64-44d1-e37c-0039ce752a17"
      },
      "execution_count": null,
      "outputs": [
        {
          "output_type": "display_data",
          "data": {
            "text/plain": [
              "<IPython.core.display.Javascript object>"
            ],
            "application/javascript": [
              "google.colab.output.setIframeHeight(0, true, {maxHeight: 300})"
            ]
          },
          "metadata": {}
        },
        {
          "output_type": "execute_result",
          "data": {
            "text/plain": [
              "(1803, 62720)"
            ]
          },
          "metadata": {},
          "execution_count": 24
        }
      ]
    },
    {
      "cell_type": "code",
      "source": [
        "# REDUCE DIMENSIONS USING PCA\n",
        "\n",
        "#First verfiy the ideal number of PCA components to not lose much information. \n",
        "#Try to retain 90% information, so look where the curve starts to flatten.\n",
        "#Remember that the n_components must be lower than the number of rows or columns (features)\n",
        "pca_test = PCA(n_components=900) #\n",
        "pca_test.fit(train_features)"
      ],
      "metadata": {
        "colab": {
          "base_uri": "https://localhost:8080/",
          "height": 34
        },
        "id": "AxreENS9guIJ",
        "outputId": "42eb28f6-5f09-4e16-a683-5d3b502b3bd5"
      },
      "execution_count": null,
      "outputs": [
        {
          "output_type": "display_data",
          "data": {
            "text/plain": [
              "<IPython.core.display.Javascript object>"
            ],
            "application/javascript": [
              "google.colab.output.setIframeHeight(0, true, {maxHeight: 300})"
            ]
          },
          "metadata": {}
        },
        {
          "output_type": "execute_result",
          "data": {
            "text/plain": [
              "PCA(n_components=900)"
            ]
          },
          "metadata": {},
          "execution_count": 25
        }
      ]
    },
    {
      "cell_type": "code",
      "source": [
        "# Visualization of the cumulative variance plot\n",
        "plt.figure(figsize=(15,6))\n",
        "\n",
        "# PLOT THE RESULTS\n",
        "plt.plot(np.cumsum(pca_test.explained_variance_ratio_))\n",
        "plt.xlabel(\"Number of components\")\n",
        "plt.ylabel(\"Cumulative variance\")"
      ],
      "metadata": {
        "colab": {
          "base_uri": "https://localhost:8080/",
          "height": 300
        },
        "id": "OPPY40qSZLH4",
        "outputId": "1228ef27-614f-4953-9aef-af13af580853"
      },
      "execution_count": null,
      "outputs": [
        {
          "output_type": "display_data",
          "data": {
            "text/plain": [
              "<IPython.core.display.Javascript object>"
            ],
            "application/javascript": [
              "google.colab.output.setIframeHeight(0, true, {maxHeight: 300})"
            ]
          },
          "metadata": {}
        },
        {
          "output_type": "execute_result",
          "data": {
            "text/plain": [
              "Text(0, 0.5, 'Cumulative variance')"
            ]
          },
          "metadata": {},
          "execution_count": 26
        },
        {
          "output_type": "display_data",
          "data": {
            "text/plain": [
              "<Figure size 1080x432 with 1 Axes>"
            ],
            "image/png": "[encoded data removed]"
          },
          "metadata": {
            "needs_background": "light"
          }
        }
      ]
    },
    {
      "cell_type": "code",
      "source": [
        "# START COUNTING TIME\n",
        "start = datetime.datetime.now()\n",
        "\n",
        "#Pick the optimal number of components. This is how many features we will have \n",
        "#for our machine learning\n",
        "n_PCA_components = 900\n",
        "pca = PCA(n_components=n_PCA_components)\n",
        "train_PCA = pca.fit_transform(train_features)\n",
        "test_PCA = pca.transform(test_features) #Make sure you are just transforming, not fitting. \n",
        "\n",
        "end = datetime.datetime.now()\n",
        "print(\"Total execution time with PCA is: \", end-start)"
      ],
      "metadata": {
        "colab": {
          "base_uri": "https://localhost:8080/",
          "height": 34
        },
        "id": "iwtDeaEpiWK-",
        "outputId": "7a5a93e0-844f-43df-fcd7-c0f04b5220e0"
      },
      "execution_count": null,
      "outputs": [
        {
          "output_type": "display_data",
          "data": {
            "text/plain": [
              "<IPython.core.display.Javascript object>"
            ],
            "application/javascript": [
              "google.colab.output.setIframeHeight(0, true, {maxHeight: 300})"
            ]
          },
          "metadata": {}
        },
        {
          "output_type": "stream",
          "name": "stdout",
          "text": [
            "Total execution time with PCA is:  0:00:48.103448\n"
          ]
        }
      ]
    },
    {
      "cell_type": "code",
      "source": [
        "train_PCA.shape"
      ],
      "metadata": {
        "colab": {
          "base_uri": "https://localhost:8080/",
          "height": 34
        },
        "id": "a3ESgKWTEUDv",
        "outputId": "89ed0e2b-ab00-405d-ee4e-2880b95cdef1"
      },
      "execution_count": null,
      "outputs": [
        {
          "output_type": "display_data",
          "data": {
            "text/plain": [
              "<IPython.core.display.Javascript object>"
            ],
            "application/javascript": [
              "google.colab.output.setIframeHeight(0, true, {maxHeight: 300})"
            ]
          },
          "metadata": {}
        },
        {
          "output_type": "execute_result",
          "data": {
            "text/plain": [
              "(1803, 900)"
            ]
          },
          "metadata": {},
          "execution_count": 28
        }
      ]
    },
    {
      "cell_type": "code",
      "source": [
        "test_PCA.shape"
      ],
      "metadata": {
        "colab": {
          "base_uri": "https://localhost:8080/",
          "height": 34
        },
        "id": "itxXDxHhEe0M",
        "outputId": "05705244-0a78-442b-bbf8-ee0b39397262"
      },
      "execution_count": null,
      "outputs": [
        {
          "output_type": "display_data",
          "data": {
            "text/plain": [
              "<IPython.core.display.Javascript object>"
            ],
            "application/javascript": [
              "google.colab.output.setIframeHeight(0, true, {maxHeight: 300})"
            ]
          },
          "metadata": {}
        },
        {
          "output_type": "execute_result",
          "data": {
            "text/plain": [
              "(155, 900)"
            ]
          },
          "metadata": {},
          "execution_count": 29
        }
      ]
    },
    {
      "cell_type": "code",
      "source": [
        "############## Neural Network Approach ##################\n",
        "\n",
        "##Add hidden dense layers and final output/classifier layer.\n",
        "model_PCA = Sequential()\n",
        "inputs_PCA = keras.layers.Input(shape=(n_PCA_components,)) #Shape = n_components\n",
        "hidden_1 = keras.layers.Dense(512, activation='relu')(inputs_PCA)\n",
        "hidden_2 = keras.layers.Dense(256, activation='relu')(hidden_1)\n",
        "output_PCA = keras.layers.Dense(num_classes, activation='softmax')(hidden_2)\n",
        "model_PCA = keras.Model(inputs = inputs_PCA, outputs = output_PCA)\n",
        "\n",
        "# PRINT THE SUMMARY\n",
        "print(model_PCA.summary())\n",
        "\n",
        "# USING A LEARNING RATE DECAY/SCHEDULING --> https://keras.io/api/optimizers/\n",
        "lr_schedule = keras.optimizers.schedules.ExponentialDecay(\n",
        "    initial_learning_rate = 0.001, # previously 0.001\n",
        "    decay_steps=20000, # previously 10000\n",
        "    decay_rate=0.89) # previously 0.95\n",
        "\n",
        "# COMPILE THE MODEL\n",
        "model_PCA.compile(loss=keras.losses.categorical_crossentropy,\n",
        "            optimizer= keras.optimizers.Adam(learning_rate=lr_schedule), # 0.001 # 0.0001\n",
        "            metrics=['accuracy'])"
      ],
      "metadata": {
        "colab": {
          "base_uri": "https://localhost:8080/",
          "height": 300
        },
        "id": "b9S2sIphjXRf",
        "outputId": "972d3723-8a70-4b29-aecb-3ff8046c0605"
      },
      "execution_count": null,
      "outputs": [
        {
          "output_type": "display_data",
          "data": {
            "text/plain": [
              "<IPython.core.display.Javascript object>"
            ],
            "application/javascript": [
              "google.colab.output.setIframeHeight(0, true, {maxHeight: 300})"
            ]
          },
          "metadata": {}
        },
        {
          "output_type": "stream",
          "name": "stdout",
          "text": [
            "Model: \"model_5\"\n",
            "_________________________________________________________________\n",
            " Layer (type)                Output Shape              Param #   \n",
            "=================================================================\n",
            " input_7 (InputLayer)        [(None, 900)]             0         \n",
            "                                                                 \n",
            " dense_24 (Dense)            (None, 512)               461312    \n",
            "                                                                 \n",
            " dense_25 (Dense)            (None, 256)               131328    \n",
            "                                                                 \n",
            " dense_26 (Dense)            (None, 9)                 2313      \n",
            "                                                                 \n",
            "=================================================================\n",
            "Total params: 594,953\n",
            "Trainable params: 594,953\n",
            "Non-trainable params: 0\n",
            "_________________________________________________________________\n",
            "None\n"
          ]
        }
      ]
    },
    {
      "cell_type": "code",
      "source": [
        "# START RECORDING TIME\n",
        "start = datetime.datetime.now()\n",
        "\n",
        "#Fit the model and use on-hot-encoded Y values\n",
        "history_model_PCA = model_PCA.fit(train_PCA, \n",
        "                                  y_train_one_hot, \n",
        "                                  epochs = 30, \n",
        "                                  verbose=3,\n",
        "                                  validation_data=(test_PCA, y_test_one_hot))\n",
        "\n",
        "# END RECORDING TIME\n",
        "end = datetime.datetime.now()\n",
        "print(\"Total execution time with PCA is: \", end-start)"
      ],
      "metadata": {
        "id": "YVLG2W01jXPQ",
        "colab": {
          "base_uri": "https://localhost:8080/",
          "height": 300
        },
        "outputId": "3e63519c-556a-417b-9851-db103f37cfdf"
      },
      "execution_count": null,
      "outputs": [
        {
          "output_type": "display_data",
          "data": {
            "text/plain": [
              "<IPython.core.display.Javascript object>"
            ],
            "application/javascript": [
              "google.colab.output.setIframeHeight(0, true, {maxHeight: 300})"
            ]
          },
          "metadata": {}
        },
        {
          "output_type": "stream",
          "name": "stdout",
          "text": [
            "Epoch 1/30\n",
            "Epoch 2/30\n",
            "Epoch 3/30\n",
            "Epoch 4/30\n",
            "Epoch 5/30\n",
            "Epoch 6/30\n",
            "Epoch 7/30\n",
            "Epoch 8/30\n",
            "Epoch 9/30\n",
            "Epoch 10/30\n",
            "Epoch 11/30\n",
            "Epoch 12/30\n",
            "Epoch 13/30\n",
            "Epoch 14/30\n",
            "Epoch 15/30\n",
            "Epoch 16/30\n",
            "Epoch 17/30\n",
            "Epoch 18/30\n",
            "Epoch 19/30\n",
            "Epoch 20/30\n",
            "Epoch 21/30\n",
            "Epoch 22/30\n",
            "Epoch 23/30\n",
            "Epoch 24/30\n",
            "Epoch 25/30\n",
            "Epoch 26/30\n",
            "Epoch 27/30\n",
            "Epoch 28/30\n",
            "Epoch 29/30\n",
            "Epoch 30/30\n",
            "Total execution time with PCA is:  0:00:14.305635\n"
          ]
        }
      ]
    },
    {
      "cell_type": "code",
      "source": [
        "##Predict on test dataset\n",
        "predict_test_PCA = model_PCA.predict(test_PCA)\n",
        "predict_test_PCA = np.argmax(predict_test_PCA, axis=1)\n",
        "predict_test_PCA = le.inverse_transform(predict_test_PCA)"
      ],
      "metadata": {
        "colab": {
          "base_uri": "https://localhost:8080/",
          "height": 34
        },
        "id": "2AVXV6GIjXMO",
        "outputId": "a577c9f8-f33c-4e2a-8121-c036c8b6e057"
      },
      "execution_count": null,
      "outputs": [
        {
          "output_type": "display_data",
          "data": {
            "text/plain": [
              "<IPython.core.display.Javascript object>"
            ],
            "application/javascript": [
              "google.colab.output.setIframeHeight(0, true, {maxHeight: 300})"
            ]
          },
          "metadata": {}
        },
        {
          "output_type": "stream",
          "name": "stdout",
          "text": [
            "5/5 [==============================] - 0s 4ms/step\n"
          ]
        }
      ]
    },
    {
      "cell_type": "code",
      "source": [
        "# PRINT OVERALL ACCURACY\n",
        "print (\"Accuracy = \", metrics.accuracy_score(test_labels, predict_test_PCA))"
      ],
      "metadata": {
        "colab": {
          "base_uri": "https://localhost:8080/",
          "height": 34
        },
        "id": "7jABQ1PijXJ1",
        "outputId": "252b5863-b2e8-49f2-ea7c-bf5ff66d0224"
      },
      "execution_count": null,
      "outputs": [
        {
          "output_type": "display_data",
          "data": {
            "text/plain": [
              "<IPython.core.display.Javascript object>"
            ],
            "application/javascript": [
              "google.colab.output.setIframeHeight(0, true, {maxHeight: 300})"
            ]
          },
          "metadata": {}
        },
        {
          "output_type": "stream",
          "name": "stdout",
          "text": [
            "Accuracy =  0.8709677419354839\n"
          ]
        }
      ]
    },
    {
      "cell_type": "code",
      "source": [
        "# START RECORDING TIME\n",
        "start = datetime.datetime.now()\n",
        "\n",
        "# DEFINE THE K-FOLD CROSS VALIDATOR\n",
        "kfold = KFold(n_splits = 10, shuffle=True)\n",
        "\n",
        "# DEFINE PER-FOLD SCORE CONTAINERS\n",
        "acc_per_fold = []\n",
        "\n",
        "# K-FOLD CROSS VALIDATION MODEL EVALUTION\n",
        "fold_no = 1\n",
        "for train, test in kfold.split(train_PCA, train_PCA):\n",
        "  \n",
        "  ############## NEURAL NETWORK MODEL ##################\n",
        "\n",
        "  model_PCA = Sequential()\n",
        "  inputs_PCA = keras.layers.Input(shape=(n_PCA_components,)) # Shape = n_components\n",
        "  hidden_1 = keras.layers.Dense(256, activation='relu')(inputs_PCA)\n",
        "  hidden_2 = keras.layers.Dense(512, activation='relu')(hidden_1)\n",
        "  output_PCA = keras.layers.Dense(num_classes, activation='softmax')(hidden_2)\n",
        "  model_PCA = keras.Model(inputs = inputs_PCA, outputs = output_PCA)\n",
        "\n",
        "  # USING A LEARNING RATE DECAY/SCHEDULING --> https://keras.io/api/optimizers/\n",
        "  lr_schedule = keras.optimizers.schedules.ExponentialDecay(\n",
        "      initial_learning_rate = 0.001, # previously 0.001\n",
        "      decay_steps=20000, # previously 10000\n",
        "      decay_rate=0.89) # previously 0.95\n",
        "\n",
        "  # COMPILE THE MODEL\n",
        "  model_PCA.compile(loss=keras.losses.categorical_crossentropy,\n",
        "              optimizer= keras.optimizers.Adam(learning_rate=lr_schedule), # 0.001 # 0.0001\n",
        "              metrics=['accuracy'])\n",
        "\n",
        "\n",
        "  # GENERATE A MESSAGE\n",
        "  print('------------------------------------------------------------------------')\n",
        "  print(f'--- Training for fold {fold_no} ---')\n",
        " \n",
        "  # FIT THE MODEL AND USE ON-HOT ENCODED Y VALUES\n",
        "  history_model_PCA = model_PCA.fit(train_PCA, \n",
        "                                    y_train_one_hot, \n",
        "                                    epochs = 30, \n",
        "                                    verbose=3,\n",
        "                                    validation_data=(test_PCA, y_test_one_hot))\n",
        "\n",
        "  \n",
        "  # GENERATE GENERALIZATION METRICS\n",
        "  ## PREDICT ON TEST DATASET\n",
        "  predict_test_PCA = model_PCA.predict(test_PCA)\n",
        "  predict_test_PCA = np.argmax(predict_test_PCA, axis=1)\n",
        "  predict_test_PCA = le.inverse_transform(predict_test_PCA)\n",
        "\n",
        "  # PRINT OVERALL ACCURACY\n",
        "  print (\"Accuracy = \", metrics.accuracy_score(test_labels, predict_test_PCA))\n",
        "\n",
        "  # ACCURACY PER FOLDER\n",
        "  acc_per_fold.append(metrics.accuracy_score(test_labels, predict_test_PCA))\n",
        "\n",
        "  # INCREASE FOLDER NUMBER\n",
        "  fold_no = fold_no + 1\n",
        "\n",
        "# END RECORDING TIME\n",
        "end = datetime.datetime.now()\n",
        "print(\"Total execution time is: \", end - start)"
      ],
      "metadata": {
        "colab": {
          "base_uri": "https://localhost:8080/"
        },
        "id": "-0pywmObiDCY",
        "outputId": "9074baa8-b9bd-49df-e70c-a20c218c1453"
      },
      "execution_count": null,
      "outputs": [
        {
          "output_type": "stream",
          "name": "stdout",
          "text": [
            "------------------------------------------------------------------------\n",
            "--- Training for fold 1 ---\n",
            "Epoch 1/30\n",
            "Epoch 2/30\n",
            "Epoch 3/30\n",
            "Epoch 4/30\n",
            "Epoch 5/30\n",
            "Epoch 6/30\n",
            "Epoch 7/30\n",
            "Epoch 8/30\n",
            "Epoch 9/30\n",
            "Epoch 10/30\n",
            "Epoch 11/30\n",
            "Epoch 12/30\n",
            "Epoch 13/30\n",
            "Epoch 14/30\n",
            "Epoch 15/30\n",
            "Epoch 16/30\n",
            "Epoch 17/30\n",
            "Epoch 18/30\n",
            "Epoch 19/30\n",
            "Epoch 20/30\n",
            "Epoch 21/30\n",
            "Epoch 22/30\n",
            "Epoch 23/30\n",
            "Epoch 24/30\n",
            "Epoch 25/30\n",
            "Epoch 26/30\n",
            "Epoch 27/30\n",
            "Epoch 28/30\n",
            "Epoch 29/30\n",
            "Epoch 30/30\n",
            "5/5 [==============================] - 0s 8ms/step\n",
            "Accuracy =  0.864516129032258\n",
            "------------------------------------------------------------------------\n",
            "--- Training for fold 2 ---\n",
            "Epoch 1/30\n",
            "Epoch 2/30\n",
            "Epoch 3/30\n",
            "Epoch 4/30\n",
            "Epoch 5/30\n",
            "Epoch 6/30\n",
            "Epoch 7/30\n",
            "Epoch 8/30\n",
            "Epoch 9/30\n",
            "Epoch 10/30\n",
            "Epoch 11/30\n",
            "Epoch 12/30\n",
            "Epoch 13/30\n",
            "Epoch 14/30\n",
            "Epoch 15/30\n",
            "Epoch 16/30\n",
            "Epoch 17/30\n",
            "Epoch 18/30\n",
            "Epoch 19/30\n",
            "Epoch 20/30\n",
            "Epoch 21/30\n",
            "Epoch 22/30\n",
            "Epoch 23/30\n",
            "Epoch 24/30\n",
            "Epoch 25/30\n",
            "Epoch 26/30\n",
            "Epoch 27/30\n",
            "Epoch 28/30\n",
            "Epoch 29/30\n",
            "Epoch 30/30\n",
            "5/5 [==============================] - 0s 5ms/step\n",
            "Accuracy =  0.8774193548387097\n",
            "------------------------------------------------------------------------\n",
            "--- Training for fold 3 ---\n",
            "Epoch 1/30\n",
            "Epoch 2/30\n",
            "Epoch 3/30\n",
            "Epoch 4/30\n",
            "Epoch 5/30\n",
            "Epoch 6/30\n",
            "Epoch 7/30\n",
            "Epoch 8/30\n",
            "Epoch 9/30\n",
            "Epoch 10/30\n",
            "Epoch 11/30\n",
            "Epoch 12/30\n",
            "Epoch 13/30\n",
            "Epoch 14/30\n",
            "Epoch 15/30\n",
            "Epoch 16/30\n",
            "Epoch 17/30\n",
            "Epoch 18/30\n",
            "Epoch 19/30\n",
            "Epoch 20/30\n",
            "Epoch 21/30\n",
            "Epoch 22/30\n",
            "Epoch 23/30\n",
            "Epoch 24/30\n",
            "Epoch 25/30\n",
            "Epoch 26/30\n",
            "Epoch 27/30\n",
            "Epoch 28/30\n",
            "Epoch 29/30\n",
            "Epoch 30/30\n",
            "5/5 [==============================] - 0s 5ms/step\n",
            "Accuracy =  0.8709677419354839\n",
            "------------------------------------------------------------------------\n",
            "--- Training for fold 4 ---\n",
            "Epoch 1/30\n",
            "Epoch 2/30\n",
            "Epoch 3/30\n",
            "Epoch 4/30\n",
            "Epoch 5/30\n",
            "Epoch 6/30\n",
            "Epoch 7/30\n",
            "Epoch 8/30\n",
            "Epoch 9/30\n",
            "Epoch 10/30\n",
            "Epoch 11/30\n",
            "Epoch 12/30\n",
            "Epoch 13/30\n",
            "Epoch 14/30\n",
            "Epoch 15/30\n",
            "Epoch 16/30\n",
            "Epoch 17/30\n",
            "Epoch 18/30\n",
            "Epoch 19/30\n",
            "Epoch 20/30\n",
            "Epoch 21/30\n",
            "Epoch 22/30\n",
            "Epoch 23/30\n",
            "Epoch 24/30\n",
            "Epoch 25/30\n",
            "Epoch 26/30\n",
            "Epoch 27/30\n",
            "Epoch 28/30\n",
            "Epoch 29/30\n",
            "Epoch 30/30\n",
            "5/5 [==============================] - 0s 5ms/step\n",
            "Accuracy =  0.8580645161290322\n",
            "------------------------------------------------------------------------\n",
            "--- Training for fold 5 ---\n",
            "Epoch 1/30\n",
            "Epoch 2/30\n",
            "Epoch 3/30\n",
            "Epoch 4/30\n",
            "Epoch 5/30\n",
            "Epoch 6/30\n",
            "Epoch 7/30\n",
            "Epoch 8/30\n",
            "Epoch 9/30\n",
            "Epoch 10/30\n",
            "Epoch 11/30\n",
            "Epoch 12/30\n",
            "Epoch 13/30\n",
            "Epoch 14/30\n",
            "Epoch 15/30\n",
            "Epoch 16/30\n",
            "Epoch 17/30\n",
            "Epoch 18/30\n",
            "Epoch 19/30\n",
            "Epoch 20/30\n",
            "Epoch 21/30\n",
            "Epoch 22/30\n",
            "Epoch 23/30\n",
            "Epoch 24/30\n",
            "Epoch 25/30\n",
            "Epoch 26/30\n",
            "Epoch 27/30\n",
            "Epoch 28/30\n",
            "Epoch 29/30\n",
            "Epoch 30/30\n",
            "5/5 [==============================] - 0s 4ms/step\n",
            "Accuracy =  0.8903225806451613\n",
            "------------------------------------------------------------------------\n",
            "--- Training for fold 6 ---\n",
            "Epoch 1/30\n",
            "Epoch 2/30\n",
            "Epoch 3/30\n",
            "Epoch 4/30\n",
            "Epoch 5/30\n",
            "Epoch 6/30\n",
            "Epoch 7/30\n",
            "Epoch 8/30\n",
            "Epoch 9/30\n",
            "Epoch 10/30\n",
            "Epoch 11/30\n",
            "Epoch 12/30\n",
            "Epoch 13/30\n",
            "Epoch 14/30\n",
            "Epoch 15/30\n",
            "Epoch 16/30\n",
            "Epoch 17/30\n",
            "Epoch 18/30\n",
            "Epoch 19/30\n",
            "Epoch 20/30\n",
            "Epoch 21/30\n",
            "Epoch 22/30\n",
            "Epoch 23/30\n",
            "Epoch 24/30\n",
            "Epoch 25/30\n",
            "Epoch 26/30\n",
            "Epoch 27/30\n",
            "Epoch 28/30\n",
            "Epoch 29/30\n",
            "Epoch 30/30\n",
            "5/5 [==============================] - 0s 8ms/step\n",
            "Accuracy =  0.8903225806451613\n",
            "------------------------------------------------------------------------\n",
            "--- Training for fold 7 ---\n",
            "Epoch 1/30\n",
            "Epoch 2/30\n",
            "Epoch 3/30\n",
            "Epoch 4/30\n",
            "Epoch 5/30\n",
            "Epoch 6/30\n",
            "Epoch 7/30\n",
            "Epoch 8/30\n",
            "Epoch 9/30\n",
            "Epoch 10/30\n",
            "Epoch 11/30\n",
            "Epoch 12/30\n",
            "Epoch 13/30\n",
            "Epoch 14/30\n",
            "Epoch 15/30\n",
            "Epoch 16/30\n",
            "Epoch 17/30\n",
            "Epoch 18/30\n",
            "Epoch 19/30\n",
            "Epoch 20/30\n",
            "Epoch 21/30\n",
            "Epoch 22/30\n",
            "Epoch 23/30\n",
            "Epoch 24/30\n",
            "Epoch 25/30\n",
            "Epoch 26/30\n",
            "Epoch 27/30\n",
            "Epoch 28/30\n",
            "Epoch 29/30\n",
            "Epoch 30/30\n",
            "5/5 [==============================] - 0s 4ms/step\n",
            "Accuracy =  0.8903225806451613\n",
            "------------------------------------------------------------------------\n",
            "--- Training for fold 8 ---\n",
            "Epoch 1/30\n",
            "Epoch 2/30\n",
            "Epoch 3/30\n",
            "Epoch 4/30\n",
            "Epoch 5/30\n",
            "Epoch 6/30\n",
            "Epoch 7/30\n",
            "Epoch 8/30\n",
            "Epoch 9/30\n",
            "Epoch 10/30\n",
            "Epoch 11/30\n",
            "Epoch 12/30\n",
            "Epoch 13/30\n",
            "Epoch 14/30\n",
            "Epoch 15/30\n",
            "Epoch 16/30\n",
            "Epoch 17/30\n",
            "Epoch 18/30\n",
            "Epoch 19/30\n",
            "Epoch 20/30\n",
            "Epoch 21/30\n",
            "Epoch 22/30\n",
            "Epoch 23/30\n",
            "Epoch 24/30\n",
            "Epoch 25/30\n",
            "Epoch 26/30\n",
            "Epoch 27/30\n",
            "Epoch 28/30\n",
            "Epoch 29/30\n",
            "Epoch 30/30\n",
            "5/5 [==============================] - 0s 8ms/step\n",
            "Accuracy =  0.9161290322580645\n",
            "------------------------------------------------------------------------\n",
            "--- Training for fold 9 ---\n",
            "Epoch 1/30\n",
            "Epoch 2/30\n",
            "Epoch 3/30\n",
            "Epoch 4/30\n",
            "Epoch 5/30\n",
            "Epoch 6/30\n",
            "Epoch 7/30\n",
            "Epoch 8/30\n",
            "Epoch 9/30\n",
            "Epoch 10/30\n",
            "Epoch 11/30\n",
            "Epoch 12/30\n",
            "Epoch 13/30\n",
            "Epoch 14/30\n",
            "Epoch 15/30\n",
            "Epoch 16/30\n",
            "Epoch 17/30\n",
            "Epoch 18/30\n",
            "Epoch 19/30\n",
            "Epoch 20/30\n",
            "Epoch 21/30\n",
            "Epoch 22/30\n",
            "Epoch 23/30\n",
            "Epoch 24/30\n",
            "Epoch 25/30\n",
            "Epoch 26/30\n",
            "Epoch 27/30\n",
            "Epoch 28/30\n",
            "Epoch 29/30\n",
            "Epoch 30/30\n",
            "5/5 [==============================] - 0s 12ms/step\n",
            "Accuracy =  0.9032258064516129\n",
            "------------------------------------------------------------------------\n",
            "--- Training for fold 10 ---\n",
            "Epoch 1/30\n",
            "Epoch 2/30\n",
            "Epoch 3/30\n",
            "Epoch 4/30\n",
            "Epoch 5/30\n",
            "Epoch 6/30\n",
            "Epoch 7/30\n",
            "Epoch 8/30\n",
            "Epoch 9/30\n",
            "Epoch 10/30\n",
            "Epoch 11/30\n",
            "Epoch 12/30\n",
            "Epoch 13/30\n",
            "Epoch 14/30\n",
            "Epoch 15/30\n",
            "Epoch 16/30\n",
            "Epoch 17/30\n",
            "Epoch 18/30\n",
            "Epoch 19/30\n",
            "Epoch 20/30\n",
            "Epoch 21/30\n",
            "Epoch 22/30\n",
            "Epoch 23/30\n",
            "Epoch 24/30\n",
            "Epoch 25/30\n",
            "Epoch 26/30\n",
            "Epoch 27/30\n",
            "Epoch 28/30\n",
            "Epoch 29/30\n",
            "Epoch 30/30\n",
            "5/5 [==============================] - 0s 3ms/step\n",
            "Accuracy =  0.8838709677419355\n"
          ]
        }
      ]
    },
    {
      "cell_type": "code",
      "source": [
        "# COMPUTE THE MEAN OF THE ACCURACY FOR THE CROSS VALIDATION FOR MODEL ASSESSMENT\n",
        "cv_mean = np.mean(acc_per_fold)\n",
        "print(\"Average accuracy for CV is:\", cv_mean)"
      ],
      "metadata": {
        "colab": {
          "base_uri": "https://localhost:8080/"
        },
        "id": "CZjAWSDIiC_w",
        "outputId": "16f119fe-1feb-42fd-ee4e-6dcccdfc72f6"
      },
      "execution_count": null,
      "outputs": [
        {
          "output_type": "stream",
          "name": "stdout",
          "text": [
            "Average accuracy for CV is: 0.8845161290322581\n"
          ]
        }
      ]
    },
    {
      "cell_type": "code",
      "source": [
        "#  VISUALIZATION OF THE CONFUSION MATRIX\n",
        "plt.figure(figsize=(15,6))\n",
        "\n",
        "# CONFUSION MATRIX - VERIFY ACCURACY OF EACH CLASS\n",
        "\n",
        "cm = confusion_matrix(test_labels, predict_test_PCA)\n",
        "sns.heatmap(cm, annot=True)"
      ],
      "metadata": {
        "colab": {
          "base_uri": "https://localhost:8080/",
          "height": 300
        },
        "id": "XZm4KZ1liWIu",
        "outputId": "99d2ad41-2034-49c4-bbba-0f4421660936"
      },
      "execution_count": null,
      "outputs": [
        {
          "output_type": "display_data",
          "data": {
            "text/plain": [
              "<IPython.core.display.Javascript object>"
            ],
            "application/javascript": [
              "google.colab.output.setIframeHeight(0, true, {maxHeight: 300})"
            ]
          },
          "metadata": {}
        },
        {
          "output_type": "execute_result",
          "data": {
            "text/plain": [
              "<matplotlib.axes._subplots.AxesSubplot at 0x7f86b9263fa0>"
            ]
          },
          "metadata": {},
          "execution_count": 34
        },
        {
          "output_type": "display_data",
          "data": {
            "text/plain": [
              "<Figure size 1080x432 with 2 Axes>"
            ],
            "image/png": "[encoded data removed]"
          },
          "metadata": {
            "needs_background": "light"
          }
        }
      ]
    },
    {
      "cell_type": "code",
      "source": [
        "# PLOT THEM TOGETHER\n",
        "# VISUALIZAZION OF THE LEARNING CURVES\n",
        "plt.figure(figsize=(15,6))\n",
        "\n",
        "plt.subplot(1, 2, 1)\n",
        "plt.plot(history_model_PCA.history['loss'])\n",
        "plt.plot(history_model_PCA.history['val_loss'])\n",
        "plt.ylim([-0.1, 3.0])\n",
        "plt.title(\"Loss & Val loss Model MobileNetV2 with PCA\")\n",
        "plt.xlabel('Epoch')\n",
        "plt.ylabel('Loss')\n",
        "plt.legend(['train', 'valid'])\n",
        "\n",
        "plt.subplot(1, 2, 2)\n",
        "plt.plot(history_model_PCA.history['accuracy'])\n",
        "plt.plot(history_model_PCA.history['val_accuracy'])\n",
        "plt.ylim([0.0, 1.1])\n",
        "plt.title(\"Accuracy & Val accuracy Model MobileNetV2 with PCA\")\n",
        "plt.xlabel('Epoch')\n",
        "plt.ylabel('Accuracy')\n",
        "plt.legend(['train', 'valid'])"
      ],
      "metadata": {
        "colab": {
          "base_uri": "https://localhost:8080/",
          "height": 421
        },
        "id": "oh-6rc0rQ_mq",
        "outputId": "12b3041d-7ac6-4e74-b5b0-554fb39a524f"
      },
      "execution_count": null,
      "outputs": [
        {
          "output_type": "execute_result",
          "data": {
            "text/plain": [
              "<matplotlib.legend.Legend at 0x7f74470dafd0>"
            ]
          },
          "metadata": {},
          "execution_count": 140
        },
        {
          "output_type": "display_data",
          "data": {
            "text/plain": [
              "<Figure size 1080x432 with 2 Axes>"
            ],
            "image/png": "[encoded data removed]"
          },
          "metadata": {
            "needs_background": "light"
          }
        }
      ]
    },
    {
      "cell_type": "markdown",
      "source": [
        "#### Test the results over a specified number of images"
      ],
      "metadata": {
        "id": "bni0Y0t3WV6Z"
      }
    },
    {
      "cell_type": "code",
      "source": [
        "# CHECK RESULTS ON A FEW SELECTED IMAGES\n",
        "\n",
        "prediction_list = list() # COLLECT THE PREDICTIONS\n",
        "ground_truth_list = list() # COLLECT THE GROUND TRUTH\n",
        "\n",
        "for i in range(1, 101): # LOOP THROUGH 10 IMAGES\n",
        "  # GET A RANDOM VALUE BETWEEN 0 AND THE THE FIRST DIMENSION OF THE TEST SET\n",
        "  n = np.random.randint(0, x_test.shape[0])\n",
        "  # GET A RANDOM IMAGE\n",
        "  img = x_test[n]\n",
        "  \n",
        "\n",
        "  # INPUT\n",
        "  input_img = np.expand_dims(img, axis=0) #Expand dims so the input is (num images, x, y, c)\n",
        "  input_img_feature = base_model_mobilenetv2_PCA.predict(input_img) # PREDICT THE IMAGE\n",
        "  input_img_features = input_img_feature.reshape(input_img_feature.shape[0], -1)\n",
        "  input_img_PCA = pca.transform(input_img_features)\n",
        "\n",
        "  # PREDICTION\n",
        "  prediction_img = model_PCA.predict(input_img_PCA)\n",
        "  # GET THE MAX VALUE OF PREDICTION\n",
        "  prediction_img = np.argmax(prediction_img, axis=1)\n",
        "  # INVERSE TRANSFORM TO GET THE ORIGINAL IMAGE AFTER APPLIED THE PCA\n",
        "  prediction_img = le.inverse_transform(prediction_img)  #Reverse the label encoder to original name\n",
        "\n",
        "  # PRINT RESULTS\n",
        "  # print(\"The prediction for this image is: \", prediction_img)\n",
        "  # print(\"The actual label for this image is: \", test_labels[n])\n",
        "\n",
        "  # COLLECT THE RESULTS\n",
        "  prediction_list.append(prediction_img[0])\n",
        "  ground_truth_list.append(test_labels[n])\n",
        "  \n",
        "  # INCREASE THE COUNTER\n",
        "  # # PLOT THE RANDOM IMAGE\n",
        "  # plt.imshow(img)\n",
        "\n",
        "  i += 1\n",
        "\n",
        "\n",
        "# CREATE A DATAFRAME TO COMPARE THE RESULTS\n",
        "df_comparison = pd.DataFrame({\"predicted\": prediction_list, \"ground truth\": ground_truth_list})"
      ],
      "metadata": {
        "colab": {
          "base_uri": "https://localhost:8080/"
        },
        "id": "yHGyu87K5kFZ",
        "outputId": "97015771-0008-4fc7-e190-1e83a5a67e68"
      },
      "execution_count": null,
      "outputs": [
        {
          "output_type": "stream",
          "name": "stdout",
          "text": [
            "1/1 [==============================] - 0s 29ms/step\n",
            "1/1 [==============================] - 0s 58ms/step\n",
            "1/1 [==============================] - 0s 33ms/step\n"
          ]
        }
      ]
    },
    {
      "cell_type": "code",
      "source": [
        "df_comparison['comparison'] = np.where(df_comparison['predicted'] == df_comparison['ground truth'], 1, \n",
        "                                      np.where(df_comparison['predicted'] !=  df_comparison['ground truth'], 0, -1))\n",
        "\n",
        "# df_comparison"
      ],
      "metadata": {
        "id": "TfUPrdTqXTE5"
      },
      "execution_count": null,
      "outputs": []
    },
    {
      "cell_type": "code",
      "source": [
        "# COMPUTE ACCURACY OVER THE TEN ELEMENTS\n",
        "accuracy_over_test = (np.sum(df_comparison['comparison'])/len(df_comparison))*100\n",
        "print(f\"Accuracy over {len(df_comparison)} images is:\", accuracy_over_test, \"%\")"
      ],
      "metadata": {
        "colab": {
          "base_uri": "https://localhost:8080/"
        },
        "id": "hrOkYzcnZTKH",
        "outputId": "80f5e78c-109a-45bc-bb9a-416a0a465062"
      },
      "execution_count": null,
      "outputs": [
        {
          "output_type": "stream",
          "name": "stdout",
          "text": [
            "Accuracy over 100 images is: 84.0 %\n"
          ]
        }
      ]
    },
    {
      "cell_type": "markdown",
      "source": [
        "#### Performance results Model V07 Transfer Learning + PCA"
      ],
      "metadata": {
        "id": "UZKvkk_2xw3d"
      }
    },
    {
      "cell_type": "code",
      "source": [
        "# SAVE THE TIME NEEDED TO RUN THE ALGORITHM\n",
        "time_duration_modelV07_cv = end - start\n",
        "print(time_duration_modelV07_cv)"
      ],
      "metadata": {
        "id": "Ij_DiE0nnJLS"
      },
      "execution_count": null,
      "outputs": []
    },
    {
      "cell_type": "code",
      "source": [
        "# WE ARE NOT SAVING THIS MODEL, IT WAS JUST A TEST TO COMPARE TO THE TRANSFER LEARNING"
      ],
      "metadata": {
        "id": "LbUaWGR-x1uP"
      },
      "execution_count": null,
      "outputs": []
    },
    {
      "cell_type": "code",
      "source": [
        "# GET THE MINIMUM ACCURACY, THE MAXIMUM ACCURACY, THE MINIMUM LOSS, THE MAXIMUM LOSS AND SAVE THEM IN VARIABLES.\n",
        "# THEN CREATE A DATAFRAME AT THE END WHERE YOU CAN COMPARE DIFFERENT MODELS WITH IT!\n",
        "\n",
        "# LOSS/VAL LOSS\n",
        "modelV07_GDCV_minLoss = min(history_model_PCA.history['loss'])\n",
        "modelV07_GDCV_maxLoss = max(history_model_PCA.history['loss'])\n",
        "modelV07_GDCV_minValLoss = min(history_model_PCA.history['val_loss'])\n",
        "modelV07_GDCV_maxValLoss = max(history_model_PCA.history['val_loss'])\n",
        "\n",
        "# ACCURACY/VAL ACCURACY\n",
        "modelV07_GDCV_minAccuracy = min(history_model_PCA.history['accuracy'])\n",
        "modelV07_GDCV_maxAccuracy = max(history_model_PCA.history['accuracy'])\n",
        "modelV07_GDCV_minValAccuracy = min(history_model_PCA.history['val_accuracy'])\n",
        "modelV07_GDCV_maxValAccuracy = max(history_model_PCA.history['val_accuracy'])\n",
        "\n",
        "# CREATE THE DATAFRAME\n",
        "modelV07_GDCV_loss_accuracy = pd.DataFrame({\"minLoss\": [modelV07_GDCV_minLoss],\n",
        "                                       \"maxloss\": [modelV07_GDCV_maxLoss],\n",
        "                                       \"minValLoss\": [modelV07_GDCV_minValLoss],\n",
        "                                       \"maxValLoss\": [modelV07_GDCV_maxValLoss],\n",
        "                                       \"minAccuracy\": [modelV07_GDCV_minAccuracy],\n",
        "                                       \"maxAccuracy\": [modelV07_GDCV_maxAccuracy],\n",
        "                                       \"minValAccuracy\": [modelV07_GDCV_minValAccuracy],\n",
        "                                       \"maxValAccuracy\": [modelV07_GDCV_maxValAccuracy]}).T\n",
        "\n",
        "# CHANGE THE FIRST COLUMN NAME\n",
        "modelV07_GDCV_loss_accuracy = modelV07_GDCV_loss_accuracy.rename(columns={0: 'modelV07_GDCV'})\n",
        "# CHANGE THE INDEX NAME\n",
        "modelV07_GDCV_loss_accuracy.index.names = ['Performance']\n",
        "modelV07_GDCV_loss_accuracy"
      ],
      "metadata": {
        "id": "ex8hj_25fXlF"
      },
      "execution_count": null,
      "outputs": []
    },
    {
      "cell_type": "markdown",
      "source": [
        "## 1.2.9 Save the performances of all the models"
      ],
      "metadata": {
        "id": "jNXG3IqehcGp"
      }
    },
    {
      "cell_type": "code",
      "source": [
        "# COMPATTA IN UN DATAFRAME/SERIE IL TEMPO PER OGNI MODELLO, POI TRASPONI E POI\n",
        "# AGGANCIA COME ULTIMA RIGA AL DATAFRAME MERGIATO SEGUENTE\n",
        "timing_df = pd.DataFrame({\"timing\": [time_duration_modelV01,\n",
        "                                     time_duration_modelV02,\n",
        "                                     time_duration_modelV03,\n",
        "                                     time_duration_modelV04,\n",
        "                                     time_duration_modelV04_gridsearchCV,\n",
        "                                     time_duration_modelV05_gridsearchcv,\n",
        "                                     time_duration_modelV06_mobilenetV2,\n",
        "                                     time_duration_modelV07_cv]}).T\n",
        "\n",
        "# CONCATENATE ALL THE PERFORMANCE DATAFRAME\n",
        "final_accuracy_df = pd.concat([modelV01_loss_accuracy, \n",
        "                               modelV02_loss_accuracy, \n",
        "                               modelV03_loss_accuracy, \n",
        "                               modelV04_loss_accuracy, \n",
        "                               modelV04_GDCV_loss_accuracy, \n",
        "                               modelVMNV2_loss_accuracy, \n",
        "                               modelV07_GDCV_loss_accuracy])\n",
        "\n",
        "data_acc_timing = [final_accuracy_df, timing_df]\n",
        "df_performance = pd.concat(data_acc_timing, axis = 0)\n",
        "df_performance"
      ],
      "metadata": {
        "id": "bi_e8_Jxhgov"
      },
      "execution_count": null,
      "outputs": []
    },
    {
      "cell_type": "markdown",
      "source": [
        "# 2 Models persistence\n",
        "\n",
        "### Save the best model to load it again in the TEST notebook"
      ],
      "metadata": {
        "id": "FJM3bBG3x1WZ"
      }
    },
    {
      "cell_type": "code",
      "source": [
        "# SAVE THE MODEL V01\n",
        "keras_file_modelV01 = \"/content/gdrive/MyDrive/Data_Science_2020-2022/Secondo_anno_Secondo_Semestre/FoDL_Project/Project_Example_Food/saved_models/modelV01.h5\"\n",
        "tf.keras.models.save_model(net_modelV01, keras_file_modelV01) # MODIFY MODEL WITH YOUR OWN MODEL\n",
        "\n",
        "# SAVE THE MODEL V02\n",
        "keras_file_modelV02 = \"/content/gdrive/MyDrive/Data_Science_2020-2022/Secondo_anno_Secondo_Semestre/FoDL_Project/Project_Example_Food/saved_models/modelV02.h5\"\n",
        "tf.keras.models.save_model(net_modelV02, keras_file_modelV02) # MODIFY MODEL WITH YOUR OWN MODEL\n",
        "\n",
        "# SAVE THE MODEL V03\n",
        "keras_file_modelV03 = \"/content/gdrive/MyDrive/Data_Science_2020-2022/Secondo_anno_Secondo_Semestre/FoDL_Project/Project_Example_Food/saved_models/modelV03.h5\"\n",
        "tf.keras.models.save_model(net_modelV03, keras_file_modelV03) # MODIFY MODEL WITH YOUR OWN MODEL\n",
        "\n",
        "# SAVE THE MODEL V04\n",
        "keras_file_modelV04 = \"/content/gdrive/MyDrive/Data_Science_2020-2022/Secondo_anno_Secondo_Semestre/FoDL_Project/Project_Example_Food/saved_models/modelV04.h5\"\n",
        "tf.keras.models.save_model(net_modelv04, keras_file_modelV04) # MODIFY MODEL WITH YOUR OWN MODEL\n",
        "\n",
        "# # SAVE THE MODELV04 GRIDSEARCHCV\n",
        "# keras_file_modelV04_gridsearchCV = \"/content/gdrive/MyDrive/Data_Science_2020-2022/Secondo_anno_Secondo_Semestre/FoDL_Project/Project_Example_Food/saved_models/modelV04_GSCV.h5\"\n",
        "# tf.keras.models.save_model(net_modelvGSCV, keras_file_modelV04_gridsearchCV) # MODIFY MODEL WITH YOUR OWN MODEL\n",
        "\n",
        "# SAVE THE MODELV05 GRIDSEARCHCV\n",
        "keras_file_modelV05_gridsearchCV = \"/content/gdrive/MyDrive/Data_Science_2020-2022/Secondo_anno_Secondo_Semestre/FoDL_Project/Project_Example_Food/saved_models/model_gridsearchCV.h5\"\n",
        "tf.keras.models.save_model(create_GSCV_model(), keras_file_modelV05_gridsearchCV) # MODIFY MODEL WITH YOUR OWN MODEL\n",
        "\n",
        "# SAVING THE TRANSFER LEARNING MODEL CALLED mobilenetV2.h5\n",
        "keras_file_mobilenetV2 = \"/content/gdrive/MyDrive/Data_Science_2020-2022/Secondo_anno_Secondo_Semestre/FoDL_Project/Project_Example_Food/saved_models/mobilenetV2.h5\"\n",
        "tf.keras.models.save_model(model_mobilenetv2, keras_file_mobilenetV2) # MODIFY MODEL WITH YOUR OWN MODEL"
      ],
      "metadata": {
        "id": "xXXE8oZ0x_GX"
      },
      "execution_count": null,
      "outputs": []
    },
    {
      "cell_type": "code",
      "source": [
        "# SAVING THE TRANSFER LEARNING MODEL CALLED mobilenetV2.h5\n",
        "keras_file_mobilenetV2 = \"/content/gdrive/MyDrive/Data_Science_2020-2022/Secondo_anno_Secondo_Semestre/FoDL_Project/Project_Example_Food/saved_models/mobilenetV2.h5\"\n",
        "tf.keras.models.save_model(model_mobilenetv2, keras_file_mobilenetV2) # MODIFY MODEL WITH YOUR OWN MODEL"
      ],
      "metadata": {
        "id": "42zcUbMKx_EI",
        "colab": {
          "base_uri": "https://localhost:8080/",
          "height": 17
        },
        "outputId": "5f913c64-6414-43b1-8e98-c32c324052ad"
      },
      "execution_count": null,
      "outputs": [
        {
          "output_type": "display_data",
          "data": {
            "text/plain": [
              "<IPython.core.display.Javascript object>"
            ],
            "application/javascript": [
              "google.colab.output.setIframeHeight(0, true, {maxHeight: 300})"
            ]
          },
          "metadata": {}
        }
      ]
    },
    {
      "cell_type": "code",
      "source": [],
      "metadata": {
        "id": "y8gD0o3ax_B8"
      },
      "execution_count": null,
      "outputs": []
    },
    {
      "cell_type": "code",
      "source": [],
      "metadata": {
        "id": "cq_6jKf-x-_l"
      },
      "execution_count": null,
      "outputs": []
    },
    {
      "cell_type": "markdown",
      "source": [
        "# References\n",
        "\n",
        "IMAGE DATA GENERATOR:\n",
        "- https://www.analyticsvidhya.com/blog/2020/08/image-augmentation-on-the-fly-using-keras-imagedatagenerator/\n",
        "- https://stackoverflow.com/questions/51748514/does-imagedatagenerator-add-more-images-to-my-dataset\n",
        "\n",
        "- https://github.com/bnsreenu/python_for_microscopists/blob/master/176-multiclass_using_VGG_weights_PCA_NN_RF.py\n",
        "- https://github.com/christianversloot/machine-learning-articles/blob/main/how-to-use-k-fold-cross-validation-with-keras.md\n",
        "- https://stackoverflow.com/questions/62341053/validation-accuracy-not-improving\n",
        "- https://medium.com/@draj0718/image-classification-and-prediction-using-transfer-learning-3cf2c736589d\n",
        "- https://towardsdatascience.com/how-to-predict-an-image-with-keras-ca97d9cd4817\n",
        "- https://medium.com/@nutanbhogendrasharma/image-classification-with-resnet50-model-12f4c79c216b#:~:text=keras%2Fmodels%2F.,other%20to%20form%20a%20network.\n",
        "# Check this for explanation of dimension and for explanation of each layer CNN:\n",
        "\n",
        "- https://towardsdatascience.com/image-classification-with-convolutional-neural-networks-12a7b4fb4c91\n",
        "- https://stackoverflow.com/questions/45561306/understanding-model-summary-keras\n",
        "- https://iq.opengenus.org/output-size-of-convolution/#:~:text=Machine%20Learning%20(ML)%20cnn&text=In%20short%2C%20the%20answer%20is,%2F%20(stride%20width)%20%2B%201\n",
        "\n",
        "# Visualization CNN:\n",
        "\n",
        "- https://netron.app/\n",
        "- https://towardsdatascience.com/how-to-visualize-neural-network-architectures-in-python-567cd2aa6d62\n",
        "- http://alexlenail.me/NN-SVG/LeNet.html\n",
        "- https://datascience.stackexchange.com/questions/12851/how-do-you-visualize-neural-network-architectures\n",
        "\n",
        "# For the report:\n",
        "\n",
        "- https://pyimagesearch.com/2019/10/28/3-ways-to-create-a-keras-model-with-tensorflow-2-0-sequential-functional-and-model-subclassing/\n",
        "\n",
        "# Types of creation of a model in keras\n",
        "- https://pyimagesearch.com/2019/10/28/3-ways-to-create-a-keras-model-with-tensorflow-2-0-sequential-functional-and-model-subclassing/\n",
        "\n",
        "# USE THIS:\n",
        "CONVERT IMAGEDATAGENERATOR AS NUMPY ARRAY AND FEED THEM INSIDE GRIDSEARCHCV AS X AND Y:\n",
        "- https://stackoverflow.com/questions/42284873/assign-imagedatagenerator-result-to-numpy-array\n",
        "\n",
        "# FOLLOWING THEN:\n",
        "- https://machinelearningmastery.com/grid-search-hyperparameters-deep-learning-models-python-keras/\n",
        "\n",
        "# CHECK:\n",
        "- https://stackoverflow.com/questions/47279677/how-use-grid-search-with-fit-generator-in-keras\n",
        "- https://stackoverflow.com/questions/59023969/grid-search-hyperparameters-for-an-image-classification-model\n",
        "- https://stackoverflow.com/questions/54078455/grid-search-with-gridsearchcv-scikit-learn-hyperparameter-tuning-using-image\n",
        "\n",
        "# CONVERT IMAGES TO ARRAYS\n",
        "- https://www.quora.com/How-do-I-load-train-and-test-data-from-the-local-drive-for-a-deep-learning-Keras-model\n",
        "\n",
        "Cerca online anche altre architetture di CNN differenti e aumenta deepness dell'architettura per arrivare almeno a 10 layers!\n",
        "\n",
        "- https://towardsdatascience.com/image-classification-with-convolutional-neural-networks-12a7b4fb4c91\n",
        "\n",
        "Altro tipo di architettura:\n",
        "- https://www.kdnuggets.com/2022/05/image-classification-convolutional-neural-networks-cnns.html\n",
        "\n",
        "Try:\n",
        "\n",
        "- https://medium.com/codex/how-to-tune-hyperparameters-for-better-neural-network-performance-b8f542855d2e\n",
        "- https://towardsdatascience.com/increase-the-accuracy-of-your-cnn-by-following-these-5-tips-i-learned-from-the-kaggle-community-27227ad39554\n",
        "- https://medium.com/@navmcgill/k-fold-cross-validation-in-keras-convolutional-neural-networks-835bed559d04\n",
        "\n",
        "Instead of Max pooling, you can also use fractional pooling:\n",
        "\n",
        "https://stackoverflow.com/questions/44991470/using-tensorflow-layers-in-keras\n",
        "\n",
        "Check the paper:\n",
        "Efficient Processing DNN a tutorial and survery, page 10 for reference.\n",
        "\n",
        "-----------------\n",
        "\n",
        "**MobileNetV2**\n",
        "\n",
        "USA QUESTO COME COMPARAZIONE:\n",
        "\n",
        "- https://medium.com/analytics-vidhya/indian-food-image-classification-using-transfer-learning-b8878187ddd1\n",
        "\n",
        "- https://towardsdatascience.com/a-comprehensive-hands-on-guide-to-transfer-learning-with-real-world-applications-in-deep-learning-212bf3b2f27a\n",
        "\n",
        "- https://www.analyticsvidhya.com/blog/2020/10/create-image-classification-model-python-keras/\n",
        "\n",
        "- https://machinelearningmastery.com/evaluate-performance-deep-learning-models-keras/\n",
        "\n",
        "- https://medium.com/analytics-vidhya/indian-food-image-classification-using-transfer-learning-b8878187ddd1\n",
        "\n",
        "- https://medium.com/analytics-vidhya/indian-food-image-classification-using-transfer-learning-b8878187ddd1\n",
        "\n",
        "- https://pyimagesearch.com/2016/08/10/imagenet-classification-with-python-and-keras/\n",
        "\n",
        "QUALE ARCHITETTURA?\n",
        "\n",
        "MOBILENET OR RESNET? APPLICALE ENTRAMBE E COMPARA RISULTATI SU ALMENO 50 EPOCHE!\n",
        "- https://www.tertiaryinfotech.com/comparing-pre-trained-resnet-and-mobilenet/\n",
        "\n",
        "https://towardsdatascience.com/transfer-learning-using-mobilenet-and-keras-c75daf7ff299\n",
        "\n",
        "Comparazione MOBILENETV2 e RESNET50:\n",
        "- https://analyticsindiamag.com/mobilenet-vs-resnet50-two-cnn-transfer-learning-light-frameworks/\n",
        "\n",
        "- https://www.tertiaryinfotech.com/comparing-pre-trained-resnet-and-mobilenet/"
      ],
      "metadata": {
        "id": "4aF5OlHsJ1b9"
      }
    },
    {
      "cell_type": "code",
      "source": [],
      "metadata": {
        "id": "4tmaWFPXJ3Ck"
      },
      "execution_count": null,
      "outputs": []
    }
  ],
  "metadata": {
    "colab": {
      "provenance": [],
      "toc_visible": true
    },
    "gpuClass": "standard",
    "kernelspec": {
      "display_name": "Python 3",
      "name": "python3"
    },
    "language_info": {
      "name": "python"
    },
    "accelerator": "GPU"
  },
  "nbformat": 4,
  "nbformat_minor": 0
}