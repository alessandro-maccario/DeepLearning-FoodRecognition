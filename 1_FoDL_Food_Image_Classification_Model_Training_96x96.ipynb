{
  "cells": [
    {
      "cell_type": "markdown",
      "metadata": {
        "id": "IRDSuGm6aDCk"
      },
      "source": [
        "# Food Image Classification for the course _Foundations of Deep Learning_.\n",
        "\n",
        "Professors:\n",
        "Paolo Napoletano\n",
        "Marco Buzzelli\n",
        "\n",
        "Tutor:\n",
        "Mirko Agarla"
      ]
    },
    {
      "cell_type": "markdown",
      "metadata": {
        "id": "-tdNh74B0moD"
      },
      "source": [
        "[TODO]\n",
        "- Introduce the problem you are trying to solve\n",
        "- Show an analysis of the available data (EDA for images)\n",
        "- Describe your solution\n",
        "- Comment positive and negative results of your solution\n",
        "(rely on quantitative and qualitative observations)\n",
        "- Describe alternative (possibly failed) experiments"
      ]
    },
    {
      "cell_type": "markdown",
      "metadata": {
        "id": "56SP2nH5SJKc"
      },
      "source": [
        "# TRAINING NOTEBOOK"
      ]
    },
    {
      "cell_type": "markdown",
      "metadata": {
        "id": "F9ToWEW-1Lwv"
      },
      "source": [
        "[INSERT DESCRIPTION OF THE NOTEBOOK]"
      ]
    },
    {
      "cell_type": "markdown",
      "source": [
        "## Install packages"
      ],
      "metadata": {
        "id": "AF5_CGoXTI42"
      }
    },
    {
      "cell_type": "code",
      "execution_count": 1,
      "metadata": {
        "colab": {
          "base_uri": "https://localhost:8080/"
        },
        "id": "9dY1N2x2Qx0c",
        "outputId": "8b74fb61-a8bd-453d-d7e9-cefb224933b9"
      },
      "outputs": [
        {
          "output_type": "stream",
          "name": "stdout",
          "text": [
            "Looking in indexes: https://pypi.org/simple, https://us-python.pkg.dev/colab-wheels/public/simple/\n",
            "Collecting scikeras\n",
            "  Downloading scikeras-0.9.0-py3-none-any.whl (27 kB)\n",
            "Requirement already satisfied: importlib-metadata>=3 in /usr/local/lib/python3.7/dist-packages (from scikeras) (4.13.0)\n",
            "Requirement already satisfied: packaging>=0.21 in /usr/local/lib/python3.7/dist-packages (from scikeras) (21.3)\n",
            "Requirement already satisfied: scikit-learn>=1.0.0 in /usr/local/lib/python3.7/dist-packages (from scikeras) (1.0.2)\n",
            "Requirement already satisfied: zipp>=0.5 in /usr/local/lib/python3.7/dist-packages (from importlib-metadata>=3->scikeras) (3.10.0)\n",
            "Requirement already satisfied: typing-extensions>=3.6.4 in /usr/local/lib/python3.7/dist-packages (from importlib-metadata>=3->scikeras) (4.1.1)\n",
            "Requirement already satisfied: pyparsing!=3.0.5,>=2.0.2 in /usr/local/lib/python3.7/dist-packages (from packaging>=0.21->scikeras) (3.0.9)\n",
            "Requirement already satisfied: joblib>=0.11 in /usr/local/lib/python3.7/dist-packages (from scikit-learn>=1.0.0->scikeras) (1.2.0)\n",
            "Requirement already satisfied: numpy>=1.14.6 in /usr/local/lib/python3.7/dist-packages (from scikit-learn>=1.0.0->scikeras) (1.21.6)\n",
            "Requirement already satisfied: scipy>=1.1.0 in /usr/local/lib/python3.7/dist-packages (from scikit-learn>=1.0.0->scikeras) (1.7.3)\n",
            "Requirement already satisfied: threadpoolctl>=2.0.0 in /usr/local/lib/python3.7/dist-packages (from scikit-learn>=1.0.0->scikeras) (3.1.0)\n",
            "Installing collected packages: scikeras\n",
            "Successfully installed scikeras-0.9.0\n",
            "Looking in indexes: https://pypi.org/simple, https://us-python.pkg.dev/colab-wheels/public/simple/\n",
            "Collecting split-folders\n",
            "  Downloading split_folders-0.5.1-py3-none-any.whl (8.4 kB)\n",
            "Installing collected packages: split-folders\n",
            "Successfully installed split-folders-0.5.1\n",
            "Looking in indexes: https://pypi.org/simple, https://us-python.pkg.dev/colab-wheels/public/simple/\n",
            "Collecting ann_visualizer\n",
            "  Downloading ann_visualizer-2.5.tar.gz (4.7 kB)\n",
            "Building wheels for collected packages: ann-visualizer\n",
            "  Building wheel for ann-visualizer (setup.py) ... \u001b[?25l\u001b[?25hdone\n",
            "  Created wheel for ann-visualizer: filename=ann_visualizer-2.5-py3-none-any.whl size=4168 sha256=7b25ee6aee0166a8f51b112a0a7a9533de5dee3595e1e11ebbd8ba87a6488bf3\n",
            "  Stored in directory: /root/.cache/pip/wheels/1b/fc/58/2ab1c3b30350105929308becddda4fb59b1358e54f985e1f4a\n",
            "Successfully built ann-visualizer\n",
            "Installing collected packages: ann-visualizer\n",
            "Successfully installed ann-visualizer-2.5\n"
          ]
        }
      ],
      "source": [
        "!pip install scikeras\n",
        "!pip install split-folders # install the package to split the images in TRAIN and TEST folders\n",
        "!pip install ann_visualizer # visualize NN architectures"
      ]
    },
    {
      "cell_type": "markdown",
      "source": [
        "## Import libraries"
      ],
      "metadata": {
        "id": "Kg_uU94aTGDf"
      }
    },
    {
      "cell_type": "code",
      "execution_count": 37,
      "metadata": {
        "id": "jtW_r4zDzdRQ",
        "colab": {
          "base_uri": "https://localhost:8080/",
          "height": 17
        },
        "outputId": "ce74f808-c6ea-4ef0-81b6-591b7536f1b5"
      },
      "outputs": [
        {
          "output_type": "display_data",
          "data": {
            "text/plain": [
              "<IPython.core.display.Javascript object>"
            ],
            "application/javascript": [
              "google.colab.output.setIframeHeight(0, true, {maxHeight: 300})"
            ]
          },
          "metadata": {}
        }
      ],
      "source": [
        "# IMPORT TENSORFLOW/KERAS\n",
        "import tensorflow as tf\n",
        "from tensorflow import keras\n",
        "from tensorflow.keras.models import load_model\n",
        "from tensorflow.keras.preprocessing import image\n",
        "from tensorflow.keras.applications.vgg16 import preprocess_input, decode_predictions\n",
        "\n",
        "from tensorflow.keras.models import load_model\n",
        "from tensorflow.keras.preprocessing import image\n",
        "from tensorflow.keras.applications.vgg16 import preprocess_input, decode_predictions\n",
        "\n",
        "from tensorflow.keras.applications.mobilenet_v2 import MobileNetV2\n",
        "from tensorflow.keras.applications.mobilenet_v2 import preprocess_input, decode_predictions\n",
        "\n",
        "from keras.layers import Input\n",
        "from keras.models import Sequential\n",
        "from keras.layers.core import Dense\n",
        "from keras.layers.core import Dropout\n",
        "from keras.layers.core import Flatten\n",
        "from keras.utils import to_categorical\n",
        "from keras.layers.core import Activation\n",
        "from keras.layers import BatchNormalization\n",
        "from keras.layers.convolutional import Conv2D\n",
        "from keras.layers.convolutional import MaxPooling2D\n",
        "from keras.layers.pooling import GlobalMaxPooling2D\n",
        "from keras.preprocessing.image import ImageDataGenerator\n",
        "\n",
        "# TRANSFER LEARNING\n",
        "from keras.applications.vgg16 import VGG16\n",
        "from tensorflow.keras.applications.resnet50 import ResNet50\n",
        "\n",
        "# SCIKIT-LEARN/SCIKERAS\n",
        "from sklearn import preprocessing\n",
        "import sklearn.metrics as metrics\n",
        "from sklearn.model_selection import KFold\n",
        "from sklearn.metrics import confusion_matrix\n",
        "from scikeras.wrappers import KerasClassifier\n",
        "from sklearn.model_selection import GridSearchCV\n",
        "from sklearn.metrics import classification_report\n",
        "from sklearn.model_selection import StratifiedKFold\n",
        "from sklearn.model_selection import train_test_split\n",
        "from sklearn.model_selection import RandomizedSearchCV\n",
        "\n",
        "\n",
        "# IMPORT OTHER MODULES\n",
        "import os\n",
        "import glob\n",
        "import datetime\n",
        "import fnmatch # to count number of image per folder easily\n",
        "import random # to select random images from a folder\n",
        "import numpy as np\n",
        "import pandas as pd\n",
        "import splitfolders # needed to split the images in TRAIN and TEST folders\n",
        "from os import mkdir\n",
        "import seaborn as sns\n",
        "from pathlib import Path\n",
        "from shutil import copyfile # to import \"copyfile\"\n",
        "import plotly.figure_factory as ff # for printing the heatmap\n",
        "from collections import defaultdict\n",
        "from matplotlib import pyplot as plt\n",
        "import matplotlib.image as img_mat\n",
        "from sklearn.decomposition import PCA\n",
        "\n",
        "# CV2\n",
        "import cv2\n",
        "from google.colab.patches import cv2_imshow "
      ]
    },
    {
      "cell_type": "code",
      "source": [
        "# SET RANDOM SEED TO GET, AS MUCH AS POSSIBLE, REPRODUCIBLE RESULTS\n",
        "# USING NUMPY\n",
        "from numpy.random import seed\n",
        "seed(42)\n",
        "\n",
        "# USING TENSORFLOW: IN ADDITION, TENSORFLOW HAS ITS OWN RANDOM NUMBER\n",
        "# GENERATOR THAT MUST ALSO BE SEEDED BY CALLING THE SET_RANDOM_SEED()\n",
        "# FUNCTION IMMEDIATELY AFTER THE NUMPY RANDOM NUMBER GENERATOR\n",
        "tf.random.set_seed(42)"
      ],
      "metadata": {
        "id": "ttiyKUi38GeA"
      },
      "execution_count": 3,
      "outputs": []
    },
    {
      "cell_type": "code",
      "execution_count": 4,
      "metadata": {
        "colab": {
          "base_uri": "https://localhost:8080/"
        },
        "id": "QvrEQvZkzUDs",
        "outputId": "8431eb40-9af9-42fb-a341-ec64a8126a1d"
      },
      "outputs": [
        {
          "output_type": "stream",
          "name": "stdout",
          "text": [
            "Mounted at /content/gdrive\n"
          ]
        }
      ],
      "source": [
        "# Link Google Drive account\n",
        "from google.colab import drive\n",
        "drive.mount('/content/gdrive')"
      ]
    },
    {
      "cell_type": "code",
      "source": [
        "# IMPORT UTILS.PY\n",
        "\n",
        "# 1.Insert the directory\n",
        "import sys\n",
        "sys.path.insert(0,\"/content/gdrive/MyDrive/Data_Science_2020-2022/Secondo_anno_Secondo_Semestre/FoDL_Project/Project_Example_Food\")\n",
        "\n",
        "# 2.Import your module or file\n",
        "import utils"
      ],
      "metadata": {
        "id": "H7AeCw1OJxG_"
      },
      "execution_count": 5,
      "outputs": []
    },
    {
      "cell_type": "code",
      "execution_count": null,
      "metadata": {
        "id": "ecYDcK7z_k0K"
      },
      "outputs": [],
      "source": [
        "# # TRANSFER THE DATA FROM THE GOOGLE DRIVE FOLDER TO THE VIRTUAL MACHINE\n",
        "\n",
        "# # The first path is the \"data\" folder on my Google Drive, and the second one is the destination in my current runtime\n",
        "# # https://stackoverflow.com/questions/67360001/copy-files-from-a-mounted-google-drive-to-a-local-google-colab-session\n",
        "# !cp -r /content/gdrive/MyDrive/Data_Science_2020-2022/Secondo_anno_Secondo_Semestre/Foundation_of_Deep_Learning/Project_Example_Food/ExampleFoodImageDataset /content/ExampleFoodImageDataset"
      ]
    },
    {
      "cell_type": "code",
      "execution_count": 10,
      "metadata": {
        "id": "qa58qsk8BOmE",
        "colab": {
          "base_uri": "https://localhost:8080/",
          "height": 17
        },
        "outputId": "5977048e-f3f9-4032-ed6c-555ff1c13196"
      },
      "outputs": [
        {
          "output_type": "display_data",
          "data": {
            "text/plain": [
              "<IPython.core.display.Javascript object>"
            ],
            "application/javascript": [
              "google.colab.output.setIframeHeight(0, true, {maxHeight: 300})"
            ]
          },
          "metadata": {}
        }
      ],
      "source": [
        "# CONSTANT\n",
        "# SCALE_PERCENT = 6 # resizing percentage\n",
        "SEED_VALUE = 42\n",
        "num_classes = 9 # number of output classes\n",
        "batch_size = 16\n",
        "SIZE = 96\n",
        "\n",
        "# PATH TO THE DATA\n",
        "ORIGINAL_DATA = \"/content/gdrive/MyDrive/Data_Science_2020-2022/Secondo_anno_Secondo_Semestre/FoDL_Project/Project_Example_Food/ExampleFoodImageDataset\"\n",
        "PREPROCESSED_DATA = \"/content/gdrive/MyDrive/Data_Science_2020-2022/Secondo_anno_Secondo_Semestre/FoDL_Project/Project_Example_Food/ExampleFoodImageDatasetPreprocessed\"\n",
        "DIR_TRAIN_TEST_DATA = '/content/gdrive/MyDrive/Data_Science_2020-2022/Secondo_anno_Secondo_Semestre/FoDL_Project/Project_Example_Food/train_test' # path contenente i sottoinsiemi di train, test\n",
        "\n",
        "# LOAD THE FOLDERS WHERE THE TRAINING/TESTING/VALIDATION DATA ARE STORED\n",
        "base_path_train = '/content/gdrive/MyDrive/Data_Science_2020-2022/Secondo_anno_Secondo_Semestre/FoDL_Project/Project_Example_Food/train_test/train/'\n",
        "base_path_test = '/content/gdrive/MyDrive/Data_Science_2020-2022/Secondo_anno_Secondo_Semestre/FoDL_Project/Project_Example_Food/train_test/test/'\n",
        "base_path_val = '/content/gdrive/MyDrive/Data_Science_2020-2022/Secondo_anno_Secondo_Semestre/FoDL_Project/Project_Example_Food/train_test/val/'\n",
        "\n",
        "# PATH TO THE DATA\n",
        "DIR_TRAIN_DATA = '/content/gdrive/MyDrive/Data_Science_2020-2022/Secondo_anno_Secondo_Semestre/FoDL_Project/Project_Example_Food/train_test/train/*' # path contenente i sottoinsiemi di train, test\n",
        "DIR_TEST_DATA = '/content/gdrive/MyDrive/Data_Science_2020-2022/Secondo_anno_Secondo_Semestre/FoDL_Project/Project_Example_Food/train_test/test/*' # path contenente i sottoinsiemi di train, test\n",
        "DIR_VAL_DATA = '/content/gdrive/MyDrive/Data_Science_2020-2022/Secondo_anno_Secondo_Semestre/FoDL_Project/Project_Example_Food/train_test/val/*' # path contenente i sottoinsiemi di train, test"
      ]
    },
    {
      "cell_type": "code",
      "source": [
        "# SETTINGS FOR PRETTIER VISUALIZATION IN GOOGLE COLAB\n",
        "from IPython.display import Javascript\n",
        "def resize_colab_cell():\n",
        "  display(Javascript('google.colab.output.setIframeHeight(0, true, {maxHeight: 300})'))\n",
        "get_ipython().events.register('pre_run_cell', resize_colab_cell)"
      ],
      "metadata": {
        "id": "dZHPXv_AkaOx"
      },
      "execution_count": 7,
      "outputs": []
    },
    {
      "cell_type": "code",
      "execution_count": null,
      "metadata": {
        "id": "xgF4fpYxClBu"
      },
      "outputs": [],
      "source": [
        "# # REMOVE ANY FOLDER NOT EMPTY IN GOOGLE DRIVE THAT YOU DO NOT NEED\n",
        "# import shutil\n",
        "\n",
        "# shutil.rmtree('/content/test')"
      ]
    },
    {
      "cell_type": "markdown",
      "metadata": {
        "id": "MZs2FMppZWUE"
      },
      "source": [
        "-----------------------------------"
      ]
    },
    {
      "cell_type": "markdown",
      "metadata": {
        "id": "477SvQFvTkO7"
      },
      "source": [
        "# 5.Model architectures and training phase\n",
        "This section deals with the model creation, results and explanation."
      ]
    },
    {
      "cell_type": "markdown",
      "metadata": {
        "id": "z9BCr1VJz8B0"
      },
      "source": [
        "## 5.1 Data loader\n",
        "\n"
      ]
    },
    {
      "cell_type": "markdown",
      "metadata": {
        "id": "Q3oWN_M5z-gN"
      },
      "source": [
        "In any deep learning framework, a data loader takes care of (at least) the following tasks:\n",
        "\n",
        "- Loading input and target data\n",
        "- Splitting the dataset into mini batches\n",
        "\n",
        "In this case, no Data Augmentation on-the-fly is done: \n",
        "tf.keras.preprocessing.image_dataset_from_directory generates a tf.data.Dataset from image files in a directory, without any Data Augmentation procedure."
      ]
    },
    {
      "cell_type": "code",
      "execution_count": null,
      "metadata": {
        "colab": {
          "base_uri": "https://localhost:8080/",
          "height": 52
        },
        "id": "m5JYKncwzUBF",
        "outputId": "d2cce26a-37fe-4300-9348-ad3e9f7a0db8"
      },
      "outputs": [
        {
          "output_type": "display_data",
          "data": {
            "text/plain": [
              "<IPython.core.display.Javascript object>"
            ],
            "application/javascript": [
              "google.colab.output.setIframeHeight(0, true, {maxHeight: 300})"
            ]
          },
          "metadata": {}
        },
        {
          "output_type": "stream",
          "name": "stdout",
          "text": [
            "Found 1803 files belonging to 9 classes.\n",
            "Found 155 files belonging to 9 classes.\n"
          ]
        }
      ],
      "source": [
        "train_dataset = keras.preprocessing.image_dataset_from_directory(base_path_train,\n",
        "                                                            image_size=(SIZE,SIZE),\n",
        "                                                            color_mode='rgb',\n",
        "                                                            batch_size=batch_size,\n",
        "                                                            label_mode='categorical',\n",
        "                                                            # subset='training',\n",
        "                                                            shuffle=True,\n",
        "                                                            seed=SEED_VALUE)\n",
        "\n",
        "test_dataset = keras.preprocessing.image_dataset_from_directory(base_path_test,\n",
        "                                                            image_size=(SIZE,SIZE),\n",
        "                                                            color_mode='rgb',\n",
        "                                                            batch_size=batch_size,\n",
        "                                                            label_mode='categorical',\n",
        "                                                            # subset='validation',\n",
        "                                                            shuffle=False,\n",
        "                                                            seed=SEED_VALUE)"
      ]
    },
    {
      "cell_type": "code",
      "source": [
        "# # https://stackoverflow.com/questions/61521388/how-knowing-number-of-images-in-flow-from-directory\n",
        "\n",
        "# print(\"Number of sample for train_dataset:\", len(train_dataset.file_paths))\n",
        "# print(\"Number of sample for test_dataset:\", len(test_dataset.file_paths))\n",
        "\n",
        "# # SAVE THE LENGTH INTO VARIABLES\n",
        "# n_samples_train_dataset = len(train_dataset.file_paths)\n",
        "# n_samples_test_dataset = len(test_dataset.file_paths)"
      ],
      "metadata": {
        "id": "Rq5iVY1w-Tgt"
      },
      "execution_count": null,
      "outputs": []
    },
    {
      "cell_type": "markdown",
      "metadata": {
        "id": "lVZA1WxYd3MN"
      },
      "source": [
        "### 5.1.1 Model V01"
      ]
    },
    {
      "cell_type": "markdown",
      "source": [
        "**keras.Input((224, 224, 3))**\n",
        "- 224 rows, 224 columns, 3 RGB channels\n",
        "\n",
        "**tf.keras.layers.Conv2D(filters, kernel_size, padding=\"same\")**\n",
        "\n",
        "- **filters**: 32 filtri\n",
        "- **kernel_size**: 3x3\n",
        "- **padding**: mi dice quanti pixel aggiungere di cornice alla mia immagine prima di fare la convoluzione. Se non fornito, l'output della convoluzione produrrà un immagine un pelo più piccola di quella di partenza spazialmente: nel far scorrere la finestra di convoluzione non riesce a coprire l'intorno del pixel di riferimento nell'immagine. Dando \"same\" il padding viene calcolato automaticamente. \n",
        "\n",
        "**keras.layers.Activation('relu')**\n",
        "\n",
        "- Attivazione **ReLU**: la funzione di attivazione introduce una non linearità. Fa si che il calcolo che permette di trasformare i numeri che stanno nell'input nei numeri che stanno nell'output non sia semplicemente una combinazione lineare dell'input, ma in generale crea un livello di complessità maggiore che è quello di costruire delle astrazioni, ovvero permette alla rete neurale di dire: ok, adesso ho individuato delle linee di base, ora ci costruisco sopra dei ragionamenti più complessi.\n",
        "\n",
        "**keras.layers.MaxPooling2D(3, strides=3, padding='same')**\n",
        "\n",
        "- **MaxPooling** con finestre/windows 3x3 e stride di 3: ciò significa che ogni 3x3 valori dell'input li sostituiamo con il suo Max e poi quando spostiamo la finestra che esegue questa operazione, la spostiamo di 3 pixels a destra. Così facendo non contiamo più volte lo stesso input e in questo caso l'output di questo layer sarà per definizione più piccolo spazialmente dell'input. E' un tipo di layer che ci serve concettualmente per essere meno dipendenti da eventuali piccole variazioni nell'input (se ci sono tralazione dei dati di un pixel a destra) il Max Pooling è abbastanza robusto da queste variazioni trascendendo di qualche misura da variazioni dei dati. Tra l'altro se lo usiamo con questo stride diminuisce la dimensione dell'input e la complessità dei valori che portiamo avanti nella rete neurale. Stiamo infatti passando da 224x224x3 valori a 3 numeri. \n",
        "\n",
        "**keras.layers.GlobalMaxPooling2D()**\n",
        "\n",
        "- Equivalente del Max Pooling, il **Global Pooling** invece che basarsi su una finestra 3x3 utilizza una finestra grande quanto l'intera attivazione del layer precedente.\n",
        "\n",
        "**keras.layers.Dense(num_classes, activation='softmax')**\n",
        "\n",
        "- Questa **softmax** prende i due numeri (le due classi specificate) e dà in input una funzione che ha lo scopo di produrre una pseudo distrubuzione di probabilità. Si assicura che la somma dei valori (dei due valori nel nostro caso), faccia 1, e introduce delle non linearità.\n",
        "\n",
        "**keras.Model(inputs, outputs)**\n",
        "\n",
        "- Con questo comando impacchettiamo tutti i nostri passaggi e diciamo che la mia rete neurale è un modello che parte dalla variabile \"inputs\" e termina con la variabile chiamata \"outputs\". "
      ],
      "metadata": {
        "id": "AHyWo0j2g6LO"
      }
    },
    {
      "cell_type": "code",
      "execution_count": null,
      "metadata": {
        "id": "ZcxqI3lLzT7_",
        "colab": {
          "base_uri": "https://localhost:8080/",
          "height": 300
        },
        "outputId": "61e11a10-b5df-4e3e-9c1b-9c1ec97cbb03"
      },
      "outputs": [
        {
          "output_type": "display_data",
          "data": {
            "text/plain": [
              "<IPython.core.display.Javascript object>"
            ],
            "application/javascript": [
              "google.colab.output.setIframeHeight(0, true, {maxHeight: 300})"
            ]
          },
          "metadata": {}
        },
        {
          "output_type": "stream",
          "name": "stdout",
          "text": [
            "Model: \"model_1\"\n",
            "_________________________________________________________________\n",
            " Layer (type)                Output Shape              Param #   \n",
            "=================================================================\n",
            " input_2 (InputLayer)        [(None, 96, 96, 3)]       0         \n",
            "                                                                 \n",
            " conv2d_2 (Conv2D)           (None, 96, 96, 32)        896       \n",
            "                                                                 \n",
            " activation_2 (Activation)   (None, 96, 96, 32)        0         \n",
            "                                                                 \n",
            " max_pooling2d_1 (MaxPooling  (None, 32, 32, 32)       0         \n",
            " 2D)                                                             \n",
            "                                                                 \n",
            " conv2d_3 (Conv2D)           (None, 32, 32, 64)        18496     \n",
            "                                                                 \n",
            " activation_3 (Activation)   (None, 32, 32, 64)        0         \n",
            "                                                                 \n",
            " global_max_pooling2d_1 (Glo  (None, 64)               0         \n",
            " balMaxPooling2D)                                                \n",
            "                                                                 \n",
            " dense_1 (Dense)             (None, 9)                 585       \n",
            "                                                                 \n",
            "=================================================================\n",
            "Total params: 19,977\n",
            "Trainable params: 19,977\n",
            "Non-trainable params: 0\n",
            "_________________________________________________________________\n"
          ]
        }
      ],
      "source": [
        "# Architecture definition V01\n",
        "inputs = keras.Input((SIZE, SIZE, 3)) # SIZE rows, SIZE columns, 3 RGB channels\n",
        "\n",
        "x = inputs\n",
        "\n",
        "# 1st Conv layer\n",
        "x = keras.layers.Conv2D(32, 3, padding='same')(x)\n",
        "x = keras.layers.Activation('relu')(x)\n",
        "x = keras.layers.MaxPooling2D(3, strides=3, padding='same')(x) \n",
        "\n",
        "# 2st Conv layer\n",
        "x = keras.layers.Conv2D(64, 3, padding = 'same')(x)\n",
        "x = keras.layers.Activation('relu')(x)\n",
        "x = keras.layers.GlobalMaxPooling2D()(x)\n",
        "\n",
        "# Final dense layer\n",
        "outputs = keras.layers.Dense(num_classes, activation='softmax')(x)\n",
        "\n",
        "net_modelV01 = keras.Model(inputs, outputs)\n",
        "\n",
        "# SUMMARY\n",
        "net_modelV01.summary()"
      ]
    },
    {
      "cell_type": "markdown",
      "source": [
        "<figure>\n",
        "<center>\n",
        "<img src='https://drive.google.com/uc?export=view&id=1epVc7WVGfVZAz38W_S7W25y5C5EQ-uod' />\n",
        "<figcaption>Architecture ModelV01</figcaption></center>\n",
        "</figure>"
      ],
      "metadata": {
        "id": "Kpq89s3ofR1G"
      }
    },
    {
      "cell_type": "markdown",
      "source": [
        "**Compile the model**\n",
        "\n",
        "La compilazione ci serve per definire quali sono le procedure utilizzate durante l'addestramento. La loss in questa esercitazione non è più la differenza tra valore di regressione target e quello stimato ma \"categorical_crossentropy\".\n",
        "Per ogni immagine (dato di input) dice: guardiamo la mi ground truth. Quale era la classe della mia immagine? Era gatto (prima classe). Andiamo a vedere se nel primo dei due valori restituiti dalla rete neurale per quella immagine c'è un valore molto alto (idealmente deve essere 1). Più è distante la stima della classe attesa da 1 e maggiore è la loss (peggior risultato all'aumentare del valore di Loss). \n",
        "Ottimizzatore: basato su RMSProp; Salviamoci l'accuracy: ci dice sul totale delle immagini quante sono state correttamente classificate."
      ],
      "metadata": {
        "id": "Cgbt4_amkL0l"
      }
    },
    {
      "cell_type": "code",
      "execution_count": null,
      "metadata": {
        "id": "5MMatmoUzT5n",
        "colab": {
          "base_uri": "https://localhost:8080/",
          "height": 17
        },
        "outputId": "51ecba8c-e49f-4c85-a750-8e8ce05c7e1d"
      },
      "outputs": [
        {
          "output_type": "display_data",
          "data": {
            "text/plain": [
              "<IPython.core.display.Javascript object>"
            ],
            "application/javascript": [
              "google.colab.output.setIframeHeight(0, true, {maxHeight: 300})"
            ]
          },
          "metadata": {}
        }
      ],
      "source": [
        "net_modelV01.compile(loss=keras.losses.categorical_crossentropy,\n",
        "            optimizer= keras.optimizers.RMSprop(learning_rate=0.0001),\n",
        "            metrics=['accuracy'])"
      ]
    },
    {
      "cell_type": "markdown",
      "source": [
        "Se la volta scorsa (durante le esercitazioni) potevamo permetterci di avere in memoria  tutto il dataset qua non possiamo fare altrettanto perché abbiamo immagini e non c'è modo di caricare tutto il dataset in memoria alla procedura di fit. \n",
        "Motivo per il quale stiamo utilizzando il data loader definito all'inizio. avendolo specificato all'inizio il train_dataset prenderà in ingresso 32 (16) immagini alla volta, definito come batch size fino a coprire l'intero dataset.\n",
        "Cosi facendo ha completato una epoca e tira in ballo il validation data loader che congela momentaneamente l'addestramento della rete neurale, fornisce alla rete tutte le immagini del validation set (anche in questo caso 32 (16) alla volta) e calcola il risultato. e salviamo il risultato nella variabile history.\n"
      ],
      "metadata": {
        "id": "ZaPDqudXkotP"
      }
    },
    {
      "cell_type": "code",
      "source": [
        "# DEFINE AN EARLY STOPPING CRITERION\n",
        "callback = keras.callbacks.EarlyStopping(monitor=\"val_loss\", patience=15, restore_best_weights = True)"
      ],
      "metadata": {
        "id": "QiEJ9xHK6Ifm",
        "colab": {
          "base_uri": "https://localhost:8080/",
          "height": 17
        },
        "outputId": "3aa07092-5833-4885-98f4-e75d32738213"
      },
      "execution_count": null,
      "outputs": [
        {
          "output_type": "display_data",
          "data": {
            "text/plain": [
              "<IPython.core.display.Javascript object>"
            ],
            "application/javascript": [
              "google.colab.output.setIframeHeight(0, true, {maxHeight: 300})"
            ]
          },
          "metadata": {}
        }
      ]
    },
    {
      "cell_type": "code",
      "execution_count": null,
      "metadata": {
        "colab": {
          "base_uri": "https://localhost:8080/",
          "height": 300
        },
        "id": "nL26GNBIzTz_",
        "outputId": "5bb48ed7-5bbd-4321-cf8d-32b6dca69ffc"
      },
      "outputs": [
        {
          "output_type": "display_data",
          "data": {
            "text/plain": [
              "<IPython.core.display.Javascript object>"
            ],
            "application/javascript": [
              "google.colab.output.setIframeHeight(0, true, {maxHeight: 300})"
            ]
          },
          "metadata": {}
        },
        {
          "output_type": "stream",
          "name": "stdout",
          "text": [
            "Epoch 1/50\n",
            "113/113 [==============================] - 185s 1s/step - loss: 18.1828 - accuracy: 0.1836 - val_loss: 9.6637 - val_accuracy: 0.1935\n",
            "Epoch 2/50\n",
            "113/113 [==============================] - 4s 31ms/step - loss: 5.6641 - accuracy: 0.2967 - val_loss: 7.8369 - val_accuracy: 0.2000\n",
            "Epoch 3/50\n",
            "113/113 [==============================] - 4s 31ms/step - loss: 4.2742 - accuracy: 0.3982 - val_loss: 5.9939 - val_accuracy: 0.2129\n",
            "Epoch 4/50\n",
            "113/113 [==============================] - 4s 31ms/step - loss: 3.4796 - accuracy: 0.4437 - val_loss: 6.7619 - val_accuracy: 0.2000\n",
            "Epoch 5/50\n",
            "113/113 [==============================] - 4s 31ms/step - loss: 2.9685 - accuracy: 0.4798 - val_loss: 7.5124 - val_accuracy: 0.1742\n",
            "Epoch 6/50\n",
            "113/113 [==============================] - 4s 32ms/step - loss: 2.6751 - accuracy: 0.5202 - val_loss: 6.4061 - val_accuracy: 0.2000\n",
            "Epoch 7/50\n",
            "113/113 [==============================] - 4s 31ms/step - loss: 2.2847 - accuracy: 0.5657 - val_loss: 5.2377 - val_accuracy: 0.2774\n",
            "Epoch 8/50\n",
            "113/113 [==============================] - 4s 31ms/step - loss: 2.0380 - accuracy: 0.5868 - val_loss: 5.1107 - val_accuracy: 0.2968\n",
            "Epoch 9/50\n",
            "113/113 [==============================] - 4s 31ms/step - loss: 1.8402 - accuracy: 0.6234 - val_loss: 4.9800 - val_accuracy: 0.2710\n",
            "Epoch 10/50\n",
            "113/113 [==============================] - 4s 31ms/step - loss: 1.7205 - accuracy: 0.6356 - val_loss: 5.4569 - val_accuracy: 0.2258\n",
            "Epoch 11/50\n",
            "113/113 [==============================] - 4s 30ms/step - loss: 1.5549 - accuracy: 0.6522 - val_loss: 4.9047 - val_accuracy: 0.2323\n",
            "Epoch 12/50\n",
            "113/113 [==============================] - 4s 31ms/step - loss: 1.3843 - accuracy: 0.6811 - val_loss: 4.8051 - val_accuracy: 0.2774\n",
            "Epoch 13/50\n",
            "113/113 [==============================] - 4s 31ms/step - loss: 1.3401 - accuracy: 0.6911 - val_loss: 4.7518 - val_accuracy: 0.2452\n",
            "Epoch 14/50\n",
            "113/113 [==============================] - 4s 31ms/step - loss: 1.2384 - accuracy: 0.6999 - val_loss: 4.7172 - val_accuracy: 0.2516\n",
            "Epoch 15/50\n",
            "113/113 [==============================] - 4s 31ms/step - loss: 1.1401 - accuracy: 0.7210 - val_loss: 4.5791 - val_accuracy: 0.2645\n",
            "Epoch 16/50\n",
            "113/113 [==============================] - 4s 31ms/step - loss: 1.0987 - accuracy: 0.7271 - val_loss: 5.7992 - val_accuracy: 0.3097\n",
            "Epoch 17/50\n",
            "113/113 [==============================] - 4s 31ms/step - loss: 1.0084 - accuracy: 0.7354 - val_loss: 4.4303 - val_accuracy: 0.3161\n",
            "Epoch 18/50\n",
            "113/113 [==============================] - 4s 31ms/step - loss: 0.9097 - accuracy: 0.7604 - val_loss: 4.7984 - val_accuracy: 0.3161\n",
            "Epoch 19/50\n",
            "113/113 [==============================] - 4s 31ms/step - loss: 0.8833 - accuracy: 0.7571 - val_loss: 4.7768 - val_accuracy: 0.2323\n",
            "Epoch 20/50\n",
            "113/113 [==============================] - 5s 41ms/step - loss: 0.8119 - accuracy: 0.7870 - val_loss: 4.5509 - val_accuracy: 0.2839\n",
            "Epoch 21/50\n",
            "113/113 [==============================] - 4s 31ms/step - loss: 0.7469 - accuracy: 0.8003 - val_loss: 4.4085 - val_accuracy: 0.2710\n",
            "Epoch 22/50\n",
            "113/113 [==============================] - 4s 31ms/step - loss: 0.7051 - accuracy: 0.8103 - val_loss: 4.0550 - val_accuracy: 0.3226\n",
            "Epoch 23/50\n",
            "113/113 [==============================] - 4s 31ms/step - loss: 0.6965 - accuracy: 0.8197 - val_loss: 4.0814 - val_accuracy: 0.3290\n",
            "Epoch 24/50\n",
            "113/113 [==============================] - 4s 31ms/step - loss: 0.6320 - accuracy: 0.8225 - val_loss: 4.1283 - val_accuracy: 0.3226\n",
            "Epoch 25/50\n",
            "113/113 [==============================] - 4s 31ms/step - loss: 0.5827 - accuracy: 0.8314 - val_loss: 4.2862 - val_accuracy: 0.3290\n",
            "Epoch 26/50\n",
            "113/113 [==============================] - 4s 31ms/step - loss: 0.5558 - accuracy: 0.8425 - val_loss: 3.8124 - val_accuracy: 0.3226\n",
            "Epoch 27/50\n",
            "113/113 [==============================] - 4s 31ms/step - loss: 0.5095 - accuracy: 0.8519 - val_loss: 3.9638 - val_accuracy: 0.3871\n",
            "Epoch 28/50\n",
            "113/113 [==============================] - 4s 31ms/step - loss: 0.5086 - accuracy: 0.8480 - val_loss: 4.2056 - val_accuracy: 0.2839\n",
            "Epoch 29/50\n",
            "113/113 [==============================] - 4s 31ms/step - loss: 0.4277 - accuracy: 0.8758 - val_loss: 3.9076 - val_accuracy: 0.3161\n",
            "Epoch 30/50\n",
            "113/113 [==============================] - 4s 31ms/step - loss: 0.4472 - accuracy: 0.8702 - val_loss: 4.1502 - val_accuracy: 0.2968\n",
            "Epoch 31/50\n",
            "113/113 [==============================] - 4s 31ms/step - loss: 0.4009 - accuracy: 0.8846 - val_loss: 3.7299 - val_accuracy: 0.3161\n",
            "Epoch 32/50\n",
            "113/113 [==============================] - 4s 31ms/step - loss: 0.3906 - accuracy: 0.8808 - val_loss: 3.8017 - val_accuracy: 0.3355\n",
            "Epoch 33/50\n",
            "113/113 [==============================] - 4s 31ms/step - loss: 0.3639 - accuracy: 0.8819 - val_loss: 4.0944 - val_accuracy: 0.3484\n",
            "Epoch 34/50\n",
            "113/113 [==============================] - 4s 31ms/step - loss: 0.3453 - accuracy: 0.9024 - val_loss: 4.6733 - val_accuracy: 0.2516\n",
            "Epoch 35/50\n",
            "113/113 [==============================] - 4s 31ms/step - loss: 0.3107 - accuracy: 0.9085 - val_loss: 4.2100 - val_accuracy: 0.2968\n",
            "Epoch 36/50\n",
            "113/113 [==============================] - 4s 32ms/step - loss: 0.3183 - accuracy: 0.9018 - val_loss: 4.7994 - val_accuracy: 0.3806\n",
            "Epoch 37/50\n",
            "113/113 [==============================] - 4s 31ms/step - loss: 0.2836 - accuracy: 0.9046 - val_loss: 3.7217 - val_accuracy: 0.3097\n",
            "Epoch 38/50\n",
            "113/113 [==============================] - 4s 31ms/step - loss: 0.2804 - accuracy: 0.9163 - val_loss: 4.2199 - val_accuracy: 0.3161\n",
            "Epoch 39/50\n",
            "113/113 [==============================] - 4s 32ms/step - loss: 0.2628 - accuracy: 0.9207 - val_loss: 3.6255 - val_accuracy: 0.3355\n",
            "Epoch 40/50\n",
            "113/113 [==============================] - 4s 31ms/step - loss: 0.2575 - accuracy: 0.9246 - val_loss: 3.7143 - val_accuracy: 0.2968\n",
            "Epoch 41/50\n",
            "113/113 [==============================] - 4s 31ms/step - loss: 0.2179 - accuracy: 0.9307 - val_loss: 4.0733 - val_accuracy: 0.3032\n",
            "Epoch 42/50\n",
            "113/113 [==============================] - 4s 31ms/step - loss: 0.2298 - accuracy: 0.9268 - val_loss: 3.6642 - val_accuracy: 0.3419\n",
            "Epoch 43/50\n",
            "113/113 [==============================] - 4s 30ms/step - loss: 0.2087 - accuracy: 0.9390 - val_loss: 4.6544 - val_accuracy: 0.2839\n",
            "Epoch 44/50\n",
            "113/113 [==============================] - 4s 31ms/step - loss: 0.2202 - accuracy: 0.9285 - val_loss: 3.7545 - val_accuracy: 0.3161\n",
            "Epoch 45/50\n",
            "113/113 [==============================] - 4s 31ms/step - loss: 0.1869 - accuracy: 0.9390 - val_loss: 4.0919 - val_accuracy: 0.3355\n",
            "Epoch 46/50\n",
            "113/113 [==============================] - 4s 31ms/step - loss: 0.1697 - accuracy: 0.9412 - val_loss: 3.6734 - val_accuracy: 0.3484\n",
            "Epoch 47/50\n",
            "113/113 [==============================] - 4s 32ms/step - loss: 0.1709 - accuracy: 0.9473 - val_loss: 3.7512 - val_accuracy: 0.3742\n",
            "Epoch 48/50\n",
            "113/113 [==============================] - 4s 31ms/step - loss: 0.1601 - accuracy: 0.9479 - val_loss: 3.6045 - val_accuracy: 0.3548\n",
            "Epoch 49/50\n",
            "113/113 [==============================] - 4s 30ms/step - loss: 0.1597 - accuracy: 0.9468 - val_loss: 3.8807 - val_accuracy: 0.2968\n",
            "Epoch 50/50\n",
            "113/113 [==============================] - 4s 32ms/step - loss: 0.1365 - accuracy: 0.9590 - val_loss: 4.1934 - val_accuracy: 0.3032\n"
          ]
        }
      ],
      "source": [
        "# START COUNTING THE TIME\n",
        "start = datetime.datetime.now()\n",
        "\n",
        "history_modelV01 = net_modelV01.fit(train_dataset, \n",
        "                  epochs=50, \n",
        "                  validation_data = test_dataset,\n",
        "                  # steps_per_epoch = n_samples_train_dataset // batch_size, --> https://stackoverflow.com/questions/59864408/tensorflowyour-input-ran-out-of-data\n",
        "                  # validation_steps = n_samples_test_dataset // batch_size,\n",
        "                  callbacks = [callback])\n",
        "\n",
        "# STOP COUNTING THE TIME\n",
        "end = datetime.datetime.now()\n",
        "print(\"Total execution time with PCA is: \", end-start)"
      ]
    },
    {
      "cell_type": "code",
      "execution_count": null,
      "metadata": {
        "id": "ug2ZfaHGzTun",
        "colab": {
          "base_uri": "https://localhost:8080/",
          "height": 300
        },
        "outputId": "7c56056a-0aaf-46a0-8437-b7d74158e890"
      },
      "outputs": [
        {
          "output_type": "display_data",
          "data": {
            "text/plain": [
              "<IPython.core.display.Javascript object>"
            ],
            "application/javascript": [
              "google.colab.output.setIframeHeight(0, true, {maxHeight: 300})"
            ]
          },
          "metadata": {}
        },
        {
          "output_type": "execute_result",
          "data": {
            "text/plain": [
              "<matplotlib.legend.Legend at 0x7f1b400ec110>"
            ]
          },
          "metadata": {},
          "execution_count": 17
        },
        {
          "output_type": "display_data",
          "data": {
            "text/plain": [
              "<Figure size 1080x432 with 2 Axes>"
            ],
            "image/png": "[encoded data removed]"
          },
          "metadata": {
            "needs_background": "light"
          }
        }
      ],
      "source": [
        "# PLOT THEM TOGETHER\n",
        "# Visualization of the learning curves\n",
        "plt.figure(figsize=(15,6))\n",
        "\n",
        "plt.subplot(1, 2, 1)\n",
        "plt.plot(history_modelV01.history['loss'])\n",
        "plt.plot(history_modelV01.history['val_loss'])\n",
        "plt.ylim([0.0, 7.0])\n",
        "plt.title(\"Loss & Val loss Model V01\")\n",
        "plt.xlabel('Epoch')\n",
        "plt.ylabel('Loss')\n",
        "plt.legend(['train', 'valid'])\n",
        "\n",
        "plt.subplot(1, 2, 2)\n",
        "plt.plot(history_modelV01.history['accuracy'])\n",
        "plt.plot(history_modelV01.history['val_accuracy'])\n",
        "plt.ylim([0.0, 1.0])\n",
        "plt.title(\"Accuracy & Val accuracy Model V01\")\n",
        "plt.xlabel('Epoch')\n",
        "plt.ylabel('Accuracy')\n",
        "plt.legend(['train', 'valid'])"
      ]
    },
    {
      "cell_type": "markdown",
      "metadata": {
        "id": "zsAV8Pb989iU"
      },
      "source": [
        "#### Results Model V01"
      ]
    },
    {
      "cell_type": "markdown",
      "source": [
        "**Save each model and test on 10 random images all of them. You have to save them on Google drive in order to give a link to the Professors!**"
      ],
      "metadata": {
        "id": "rhrvdPXs5xiA"
      }
    },
    {
      "cell_type": "code",
      "source": [
        "# GET THE MINIMUM ACCURACY, THE MAXIMUM ACCURACY, THE MINIMUM LOSS, THE MAXIMUM LOSS AND SAVE THEM IN VARIABLES.\n",
        "# THEN CREATE A DATAFRAME AT THE END WHERE YOU CAN COMPARE DIFFERENT MODELS WITH IT!\n",
        "\n",
        "# LOSS/VAL LOSS\n",
        "modelV01_minLoss = min(history_modelV01.history['loss'])\n",
        "modelV01_maxLoss = max(history_modelV01.history['loss'])\n",
        "modelV01_minValLoss = min(history_modelV01.history['val_loss'])\n",
        "modelV01_maxValLoss = max(history_modelV01.history['val_loss'])\n",
        "\n",
        "# ACCURACY/VAL ACCURACY\n",
        "modelV01_minAccuracy = min(history_modelV01.history['accuracy'])\n",
        "modelV01_maxAccuracy = max(history_modelV01.history['accuracy'])\n",
        "modelV01_minValAccuracy = min(history_modelV01.history['val_accuracy'])\n",
        "modelV01_maxValAccuracy = max(history_modelV01.history['val_accuracy'])\n",
        "\n",
        "# CREATE THE DATAFRAME\n",
        "modelV01_loss_accuracy = pd.DataFrame({\"minLoss\": [modelV01_minLoss],\n",
        "                                       \"maxloss\": [modelV01_maxLoss],\n",
        "                                       \"minValLoss\": [modelV01_minValLoss],\n",
        "                                       \"maxValLoss\": [modelV01_maxValLoss],\n",
        "                                       \"minAccuracy\": [modelV01_minAccuracy],\n",
        "                                       \"maxAccuracy\": [modelV01_maxAccuracy],\n",
        "                                       \"minValAccuracy\": [modelV01_minValAccuracy],\n",
        "                                       \"maxValAccuracy\": [modelV01_maxValAccuracy]}).T\n",
        "\n",
        "# CHANGE THE FIRST COLUMN NAME\n",
        "modelV01_loss_accuracy = modelV01_loss_accuracy.rename(columns={0: 'modelV01'})\n",
        "# CHANGE THE INDEX NAME\n",
        "modelV01_loss_accuracy.index.names = ['Performance']\n",
        "modelV01_loss_accuracy"
      ],
      "metadata": {
        "id": "tPmZNetWmiDp"
      },
      "execution_count": null,
      "outputs": []
    },
    {
      "cell_type": "code",
      "source": [
        "keras_file_modelV01 = \"/content/gdrive/MyDrive/Data_Science_2020-2022/Secondo_anno_Secondo_Semestre/FoDL_Project/Project_Example_Food/saved_models/modelV01.h5\"\n",
        "tf.keras.models.save_model(net_modelV01, keras_file_modelV01) # MODIFY MODEL WITH YOUR OWN MODEL"
      ],
      "metadata": {
        "colab": {
          "base_uri": "https://localhost:8080/",
          "height": 17
        },
        "id": "KAXd9mp1ZnAm",
        "outputId": "e12bb5d0-fb6b-4611-8405-d39dc49be817"
      },
      "execution_count": null,
      "outputs": [
        {
          "output_type": "display_data",
          "data": {
            "text/plain": [
              "<IPython.core.display.Javascript object>"
            ],
            "application/javascript": [
              "google.colab.output.setIframeHeight(0, true, {maxHeight: 300})"
            ]
          },
          "metadata": {}
        }
      ]
    },
    {
      "cell_type": "markdown",
      "metadata": {
        "id": "jscA_haNuXFF"
      },
      "source": [
        "### 5.1.2 Model V02 - Model with regularization, Batch normalization and double Dense layer"
      ]
    },
    {
      "cell_type": "code",
      "execution_count": null,
      "metadata": {
        "colab": {
          "base_uri": "https://localhost:8080/",
          "height": 300
        },
        "id": "yEjqOnwizTlT",
        "outputId": "332295a6-5d4a-44c9-80b2-a7f99a5bc372"
      },
      "outputs": [
        {
          "output_type": "display_data",
          "data": {
            "text/plain": [
              "<IPython.core.display.Javascript object>"
            ],
            "application/javascript": [
              "google.colab.output.setIframeHeight(0, true, {maxHeight: 300})"
            ]
          },
          "metadata": {}
        },
        {
          "output_type": "stream",
          "name": "stdout",
          "text": [
            "Model: \"model\"\n",
            "_________________________________________________________________\n",
            " Layer (type)                Output Shape              Param #   \n",
            "=================================================================\n",
            " input_1 (InputLayer)        [(None, 96, 96, 3)]       0         \n",
            "                                                                 \n",
            " conv2d (Conv2D)             (None, 96, 96, 32)        896       \n",
            "                                                                 \n",
            " batch_normalization (BatchN  (None, 96, 96, 32)       128       \n",
            " ormalization)                                                   \n",
            "                                                                 \n",
            " activation (Activation)     (None, 96, 96, 32)        0         \n",
            "                                                                 \n",
            " max_pooling2d (MaxPooling2D  (None, 32, 32, 32)       0         \n",
            " )                                                               \n",
            "                                                                 \n",
            " conv2d_1 (Conv2D)           (None, 32, 32, 64)        18496     \n",
            "                                                                 \n",
            " batch_normalization_1 (Batc  (None, 32, 32, 64)       256       \n",
            " hNormalization)                                                 \n",
            "                                                                 \n",
            " activation_1 (Activation)   (None, 32, 32, 64)        0         \n",
            "                                                                 \n",
            " max_pooling2d_1 (MaxPooling  (None, 11, 11, 64)       0         \n",
            " 2D)                                                             \n",
            "                                                                 \n",
            " conv2d_2 (Conv2D)           (None, 11, 11, 128)       73856     \n",
            "                                                                 \n",
            " batch_normalization_2 (Batc  (None, 11, 11, 128)      512       \n",
            " hNormalization)                                                 \n",
            "                                                                 \n",
            " activation_2 (Activation)   (None, 11, 11, 128)       0         \n",
            "                                                                 \n",
            " global_max_pooling2d (Globa  (None, 128)              0         \n",
            " lMaxPooling2D)                                                  \n",
            "                                                                 \n",
            " dense (Dense)               (None, 64)                8256      \n",
            "                                                                 \n",
            " dense_1 (Dense)             (None, 9)                 585       \n",
            "                                                                 \n",
            "=================================================================\n",
            "Total params: 102,985\n",
            "Trainable params: 102,537\n",
            "Non-trainable params: 448\n",
            "_________________________________________________________________\n"
          ]
        }
      ],
      "source": [
        "# Architecture definition V02\n",
        "inputs = keras.Input((SIZE,SIZE,3))\n",
        "\n",
        "x = inputs\n",
        "x = keras.layers.Conv2D(32, 3, padding=\"same\", kernel_regularizer=tf.keras.regularizers.l2(0.001))(x)\n",
        "x = keras.layers.BatchNormalization()(x)\n",
        "x = keras.layers.Activation(\"relu\")(x)\n",
        "x = keras.layers.MaxPooling2D(3, strides=3, padding=\"same\")(x)\n",
        "\n",
        "x = keras.layers.Conv2D(64, 3, padding=\"same\", kernel_regularizer=tf.keras.regularizers.l2(0.001))(x)\n",
        "x = keras.layers.BatchNormalization()(x)\n",
        "x = keras.layers.Activation(\"relu\")(x)\n",
        "x = keras.layers.MaxPooling2D(3, strides=3, padding=\"same\")(x)\n",
        "\n",
        "x = keras.layers.Conv2D(128, 3, padding=\"same\", kernel_regularizer=tf.keras.regularizers.l2(0.001))(x)\n",
        "x = keras.layers.BatchNormalization()(x)\n",
        "x = keras.layers.Activation(\"relu\")(x)\n",
        "\n",
        "x = keras.layers.GlobalMaxPooling2D()(x)\n",
        "\n",
        "x = keras.layers.Dense(64, activation=\"relu\", kernel_regularizer=tf.keras.regularizers.l2(0.001))(x)\n",
        "\n",
        "outputs = keras.layers.Dense(num_classes, activation=\"softmax\", kernel_regularizer=tf.keras.regularizers.l2(0.001))(x)\n",
        "\n",
        "net_modelV02 = keras.Model(inputs, outputs)\n",
        "\n",
        "net_modelV02.summary()"
      ]
    },
    {
      "cell_type": "markdown",
      "source": [
        "<figure>\n",
        "<center>\n",
        "<img src='https://drive.google.com/uc?export=view&id=1qKA348F045qujsBUp-TlWSui43jTvVM5' />\n",
        "<figcaption>Architecture ModelV02</figcaption></center>\n",
        "</figure>"
      ],
      "metadata": {
        "id": "an0ZJsgFqZE4"
      }
    },
    {
      "cell_type": "code",
      "execution_count": null,
      "metadata": {
        "colab": {
          "base_uri": "https://localhost:8080/",
          "height": 17
        },
        "id": "n0BVFH7ouzD-",
        "outputId": "abc9c997-3d9a-4aad-c442-7ec470014e0b"
      },
      "outputs": [
        {
          "output_type": "display_data",
          "data": {
            "text/plain": [
              "<IPython.core.display.Javascript object>"
            ],
            "application/javascript": [
              "google.colab.output.setIframeHeight(0, true, {maxHeight: 300})"
            ]
          },
          "metadata": {}
        }
      ],
      "source": [
        "# COMPILE THE MODEL\n",
        "net_modelV02.compile(loss=keras.losses.categorical_crossentropy,\n",
        "            optimizer= keras.optimizers.RMSprop(learning_rate=0.0001),\n",
        "            metrics=['accuracy'])"
      ]
    },
    {
      "cell_type": "code",
      "execution_count": null,
      "metadata": {
        "colab": {
          "base_uri": "https://localhost:8080/",
          "height": 300
        },
        "id": "UKBiYAo1uy7D",
        "outputId": "3493a79b-cd6a-43a2-ed2e-7979dee78936"
      },
      "outputs": [
        {
          "output_type": "display_data",
          "data": {
            "text/plain": [
              "<IPython.core.display.Javascript object>"
            ],
            "application/javascript": [
              "google.colab.output.setIframeHeight(0, true, {maxHeight: 300})"
            ]
          },
          "metadata": {}
        },
        {
          "output_type": "stream",
          "name": "stdout",
          "text": [
            "Epoch 1/50\n",
            "113/113 [==============================] - 706s 6s/step - loss: 2.0909 - accuracy: 0.4426 - val_loss: 2.1288 - val_accuracy: 0.3355\n",
            "Epoch 2/50\n",
            "113/113 [==============================] - 4s 33ms/step - loss: 1.3302 - accuracy: 0.6889 - val_loss: 1.8931 - val_accuracy: 0.3677\n",
            "Epoch 3/50\n",
            "113/113 [==============================] - 4s 33ms/step - loss: 1.0627 - accuracy: 0.7809 - val_loss: 1.7225 - val_accuracy: 0.4710\n",
            "Epoch 4/50\n",
            "113/113 [==============================] - 4s 32ms/step - loss: 0.8762 - accuracy: 0.8580 - val_loss: 1.7243 - val_accuracy: 0.4710\n",
            "Epoch 5/50\n",
            "113/113 [==============================] - 4s 32ms/step - loss: 0.7389 - accuracy: 0.9057 - val_loss: 1.8457 - val_accuracy: 0.4065\n",
            "Epoch 6/50\n",
            "113/113 [==============================] - 4s 32ms/step - loss: 0.6491 - accuracy: 0.9262 - val_loss: 1.6771 - val_accuracy: 0.4839\n",
            "Epoch 7/50\n",
            "113/113 [==============================] - 4s 31ms/step - loss: 0.5725 - accuracy: 0.9445 - val_loss: 1.5210 - val_accuracy: 0.5484\n",
            "Epoch 8/50\n",
            "113/113 [==============================] - 4s 31ms/step - loss: 0.5030 - accuracy: 0.9678 - val_loss: 1.5393 - val_accuracy: 0.5548\n",
            "Epoch 9/50\n",
            "113/113 [==============================] - 4s 31ms/step - loss: 0.4461 - accuracy: 0.9806 - val_loss: 1.4654 - val_accuracy: 0.5742\n",
            "Epoch 10/50\n",
            "113/113 [==============================] - 4s 31ms/step - loss: 0.4086 - accuracy: 0.9845 - val_loss: 1.3754 - val_accuracy: 0.5935\n",
            "Epoch 11/50\n",
            "113/113 [==============================] - 4s 32ms/step - loss: 0.3707 - accuracy: 0.9900 - val_loss: 1.4302 - val_accuracy: 0.5613\n",
            "Epoch 12/50\n",
            "113/113 [==============================] - 4s 31ms/step - loss: 0.3406 - accuracy: 0.9956 - val_loss: 1.3437 - val_accuracy: 0.5871\n",
            "Epoch 13/50\n",
            "113/113 [==============================] - 4s 31ms/step - loss: 0.3136 - accuracy: 0.9956 - val_loss: 1.4491 - val_accuracy: 0.5677\n",
            "Epoch 14/50\n",
            "113/113 [==============================] - 4s 31ms/step - loss: 0.2953 - accuracy: 0.9983 - val_loss: 1.3307 - val_accuracy: 0.5935\n",
            "Epoch 15/50\n",
            "113/113 [==============================] - 4s 31ms/step - loss: 0.2771 - accuracy: 0.9989 - val_loss: 1.2920 - val_accuracy: 0.6194\n",
            "Epoch 16/50\n",
            "113/113 [==============================] - 4s 32ms/step - loss: 0.2637 - accuracy: 0.9994 - val_loss: 1.3443 - val_accuracy: 0.6129\n",
            "Epoch 17/50\n",
            "113/113 [==============================] - 4s 31ms/step - loss: 0.2528 - accuracy: 0.9994 - val_loss: 1.3115 - val_accuracy: 0.6258\n",
            "Epoch 18/50\n",
            "113/113 [==============================] - 4s 31ms/step - loss: 0.2425 - accuracy: 1.0000 - val_loss: 1.3219 - val_accuracy: 0.5935\n",
            "Epoch 19/50\n",
            "113/113 [==============================] - 4s 32ms/step - loss: 0.2333 - accuracy: 1.0000 - val_loss: 1.4478 - val_accuracy: 0.6000\n",
            "Epoch 20/50\n",
            "113/113 [==============================] - 5s 40ms/step - loss: 0.2253 - accuracy: 1.0000 - val_loss: 1.2594 - val_accuracy: 0.6516\n",
            "Epoch 21/50\n",
            "113/113 [==============================] - 4s 31ms/step - loss: 0.2186 - accuracy: 1.0000 - val_loss: 1.3288 - val_accuracy: 0.6258\n",
            "Epoch 22/50\n",
            "113/113 [==============================] - 4s 31ms/step - loss: 0.2126 - accuracy: 1.0000 - val_loss: 1.3207 - val_accuracy: 0.6258\n",
            "Epoch 23/50\n",
            "113/113 [==============================] - 4s 32ms/step - loss: 0.2064 - accuracy: 1.0000 - val_loss: 1.4099 - val_accuracy: 0.6194\n",
            "Epoch 24/50\n",
            "113/113 [==============================] - 4s 33ms/step - loss: 0.2013 - accuracy: 1.0000 - val_loss: 1.3150 - val_accuracy: 0.6323\n",
            "Epoch 25/50\n",
            "113/113 [==============================] - 4s 32ms/step - loss: 0.1955 - accuracy: 1.0000 - val_loss: 1.2643 - val_accuracy: 0.6452\n",
            "Epoch 26/50\n",
            "113/113 [==============================] - 4s 32ms/step - loss: 0.1893 - accuracy: 1.0000 - val_loss: 1.4627 - val_accuracy: 0.6065\n",
            "Epoch 27/50\n",
            "113/113 [==============================] - 4s 32ms/step - loss: 0.1842 - accuracy: 1.0000 - val_loss: 1.3089 - val_accuracy: 0.6774\n",
            "Epoch 28/50\n",
            "113/113 [==============================] - 4s 32ms/step - loss: 0.1787 - accuracy: 1.0000 - val_loss: 1.2612 - val_accuracy: 0.6516\n",
            "Epoch 29/50\n",
            "113/113 [==============================] - 4s 31ms/step - loss: 0.1727 - accuracy: 1.0000 - val_loss: 1.2779 - val_accuracy: 0.6581\n",
            "Epoch 30/50\n",
            "113/113 [==============================] - 4s 31ms/step - loss: 0.1660 - accuracy: 1.0000 - val_loss: 1.3183 - val_accuracy: 0.6710\n",
            "Epoch 31/50\n",
            "113/113 [==============================] - 4s 31ms/step - loss: 0.1588 - accuracy: 1.0000 - val_loss: 1.3238 - val_accuracy: 0.6323\n",
            "Epoch 32/50\n",
            "113/113 [==============================] - 4s 32ms/step - loss: 0.1523 - accuracy: 1.0000 - val_loss: 1.2877 - val_accuracy: 0.6516\n",
            "Epoch 33/50\n",
            "113/113 [==============================] - 4s 31ms/step - loss: 0.1466 - accuracy: 1.0000 - val_loss: 1.3052 - val_accuracy: 0.6452\n",
            "Epoch 34/50\n",
            "113/113 [==============================] - 4s 31ms/step - loss: 0.1409 - accuracy: 1.0000 - val_loss: 1.2840 - val_accuracy: 0.6452\n",
            "Epoch 35/50\n",
            "113/113 [==============================] - 4s 31ms/step - loss: 0.1350 - accuracy: 1.0000 - val_loss: 1.2635 - val_accuracy: 0.6387\n"
          ]
        }
      ],
      "source": [
        "# START COUNTING THE TIME\n",
        "start = datetime.datetime.now()\n",
        "\n",
        "history_modelV02 = net_modelV02.fit(train_dataset, \n",
        "                           epochs=50, \n",
        "                           validation_data = test_dataset,\n",
        "                           callbacks = [callback])\n",
        "\n",
        "# STOP COUNTING THE TIME\n",
        "end = datetime.datetime.now()\n",
        "print(\"Total execution time with PCA is: \", end-start)"
      ]
    },
    {
      "cell_type": "code",
      "execution_count": null,
      "metadata": {
        "colab": {
          "base_uri": "https://localhost:8080/",
          "height": 421
        },
        "id": "eFyJY2zHEo6v",
        "outputId": "30d1b48c-572e-42aa-c518-a6314f6b312c"
      },
      "outputs": [
        {
          "output_type": "execute_result",
          "data": {
            "text/plain": [
              "<matplotlib.legend.Legend at 0x7fc656073610>"
            ]
          },
          "metadata": {},
          "execution_count": 14
        },
        {
          "output_type": "display_data",
          "data": {
            "text/plain": [
              "<Figure size 1080x432 with 2 Axes>"
            ],
            "image/png": "[encoded data removed]"
          },
          "metadata": {
            "needs_background": "light"
          }
        }
      ],
      "source": [
        "# PLOT THEM TOGETHER\n",
        "# Visualization of the learning curves\n",
        "plt.figure(figsize=(15,6))\n",
        "\n",
        "plt.subplot(1, 2, 1)\n",
        "plt.plot(history_modelV02.history['loss'])\n",
        "plt.plot(history_modelV02.history['val_loss'])\n",
        "plt.ylim([0.0, 3.0])\n",
        "plt.title(\"Loss & Val loss Model V02\")\n",
        "plt.xlabel('Epoch')\n",
        "plt.ylabel('Loss')\n",
        "plt.legend(['train', 'valid'])\n",
        "\n",
        "plt.subplot(1, 2, 2)\n",
        "plt.plot(history_modelV02.history['accuracy'])\n",
        "plt.plot(history_modelV02.history['val_accuracy'])\n",
        "plt.ylim([0.0, 1.0])\n",
        "plt.title(\"Accuracy & Val accuracy Model V02\")\n",
        "plt.xlabel('Epoch')\n",
        "plt.ylabel('Accuracy')\n",
        "plt.legend(['train', 'valid'])"
      ]
    },
    {
      "cell_type": "markdown",
      "metadata": {
        "id": "VXn9rjr686As"
      },
      "source": [
        "#### Results Model V02"
      ]
    },
    {
      "cell_type": "markdown",
      "metadata": {
        "id": "IN9kj1ax87hp"
      },
      "source": []
    },
    {
      "cell_type": "code",
      "source": [
        "# GET THE MINIMUM ACCURACY, THE MAXIMUM ACCURACY, THE MINIMUM LOSS, THE MAXIMUM LOSS AND SAVE THEM IN VARIABLES.\n",
        "# THEN CREATE A DATAFRAME AT THE END WHERE YOU CAN COMPARE DIFFERENT MODELS WITH IT!\n",
        "\n",
        "# LOSS/VAL LOSS\n",
        "modelV02_minLoss = min(history_modelV02.history['loss'])\n",
        "modelV02_maxLoss = max(history_modelV02.history['loss'])\n",
        "modelV02_minValLoss = min(history_modelV02.history['val_loss'])\n",
        "modelV02_maxValLoss = max(history_modelV02.history['val_loss'])\n",
        "\n",
        "# ACCURACY/VAL ACCURACY\n",
        "modelV02_minAccuracy = min(history_modelV02.history['accuracy'])\n",
        "modelV02_maxAccuracy = max(history_modelV02.history['accuracy'])\n",
        "modelV02_minValAccuracy = min(history_modelV02.history['val_accuracy'])\n",
        "modelV02_maxValAccuracy = max(history_modelV02.history['val_accuracy'])\n",
        "\n",
        "# CREATE THE DATAFRAME\n",
        "modelV02_loss_accuracy = pd.DataFrame({\"minLoss\": [modelV02_minLoss],\n",
        "                                       \"maxloss\": [modelV02_maxLoss],\n",
        "                                       \"minValLoss\": [modelV02_minValLoss],\n",
        "                                       \"maxValLoss\": [modelV02_maxValLoss],\n",
        "                                       \"minAccuracy\": [modelV02_minAccuracy],\n",
        "                                       \"maxAccuracy\": [modelV02_maxAccuracy],\n",
        "                                       \"minValAccuracy\": [modelV02_minValAccuracy],\n",
        "                                       \"maxValAccuracy\": [modelV02_maxValAccuracy]}).T\n",
        "\n",
        "# CHANGE THE FIRST COLUMN NAME\n",
        "modelV02_loss_accuracy = modelV02_loss_accuracy.rename(columns={0: 'modelV02'})\n",
        "# CHANGE THE INDEX NAME\n",
        "modelV02_loss_accuracy.index.names = ['Performance']\n",
        "modelV02_loss_accuracy"
      ],
      "metadata": {
        "id": "OFdh7xW2mQQr"
      },
      "execution_count": null,
      "outputs": []
    },
    {
      "cell_type": "code",
      "source": [
        "# SAVE THE MODEL V02\n",
        "keras_file_modelV02 = \"/content/gdrive/MyDrive/Data_Science_2020-2022/Secondo_anno_Secondo_Semestre/FoDL_Project/Project_Example_Food/saved_models/modelV02.h5\"\n",
        "tf.keras.models.save_model(net_modelV02, keras_file_modelV02) # MODIFY MODEL WITH YOUR OWN MODEL"
      ],
      "metadata": {
        "id": "0dtQM4lOd2x7",
        "colab": {
          "base_uri": "https://localhost:8080/",
          "height": 17
        },
        "outputId": "96782e2d-37ec-45f4-fbd5-a986e288643e"
      },
      "execution_count": null,
      "outputs": [
        {
          "output_type": "display_data",
          "data": {
            "text/plain": [
              "<IPython.core.display.Javascript object>"
            ],
            "application/javascript": [
              "google.colab.output.setIframeHeight(0, true, {maxHeight: 300})"
            ]
          },
          "metadata": {}
        }
      ]
    },
    {
      "cell_type": "markdown",
      "metadata": {
        "id": "x-fbROCI0UT7"
      },
      "source": [
        "### 5.1.3 Model V03 - Training the model with Data Agmentation from keras (regularization and dropout)"
      ]
    },
    {
      "cell_type": "code",
      "execution_count": null,
      "metadata": {
        "colab": {
          "base_uri": "https://localhost:8080/",
          "height": 69
        },
        "id": "4wEPGZRy0OQh",
        "outputId": "dc9e4f55-99cf-425c-94b5-d17a22affaa6"
      },
      "outputs": [
        {
          "output_type": "display_data",
          "data": {
            "text/plain": [
              "<IPython.core.display.Javascript object>"
            ],
            "application/javascript": [
              "google.colab.output.setIframeHeight(0, true, {maxHeight: 300})"
            ]
          },
          "metadata": {}
        },
        {
          "output_type": "stream",
          "name": "stdout",
          "text": [
            "Found 1803 images belonging to 9 classes.\n",
            "Found 155 images belonging to 9 classes.\n",
            "Found 192 images belonging to 9 classes.\n"
          ]
        }
      ],
      "source": [
        "# DATA AUGMENTATION ONLY ON THE TRAINING SET\n",
        "train_datagen = ImageDataGenerator(\n",
        "        rescale=1./255,\n",
        "        shear_range=0.2,\n",
        "        zoom_range=0.1,\n",
        "        horizontal_flip=True,\n",
        "        width_shift_range=0.1,  # randomly shift images horizontally (fraction of total width)\n",
        "        height_shift_range=0.1,\n",
        "        rotation_range=45,\n",
        "        fill_mode='nearest')  # randomly shift images vertically (fraction of total height))\n",
        "\n",
        "# this is the augmentation configuration we will use for testing:\n",
        "# only rescaling\n",
        "test_datagen = ImageDataGenerator(rescale=1./255) \n",
        "val_datagen = ImageDataGenerator(rescale=1./255) \n",
        "\n",
        "# this is a generator that will read pictures found in\n",
        "# subfolers of 'data/train', and indefinitely generate\n",
        "# batches of augmented image data\n",
        "train_generator = train_datagen.flow_from_directory(\n",
        "    base_path_train,\n",
        "    target_size=(SIZE,SIZE),\n",
        "    batch_size=batch_size,\n",
        "    shuffle=True,\n",
        "    class_mode=\"categorical\",\n",
        "    seed = SEED_VALUE)\n",
        "\n",
        "test_generator = test_datagen.flow_from_directory(\n",
        "    base_path_test,\n",
        "    target_size=(SIZE,SIZE),\n",
        "    batch_size=batch_size,\n",
        "    shuffle=False,\n",
        "    class_mode=\"categorical\",\n",
        "    seed = SEED_VALUE)\n",
        "\n",
        "# val_generator = val_datagen.flow_from_directory(\n",
        "#     base_path_val,\n",
        "#     target_size=(SIZE,SIZE),\n",
        "#     batch_size=batch_size,\n",
        "#     shuffle=False,\n",
        "#     class_mode=\"categorical\",\n",
        "#     seed = SEED_VALUE)"
      ]
    },
    {
      "cell_type": "code",
      "execution_count": null,
      "metadata": {
        "id": "ITUAWD7Rt4Cm",
        "colab": {
          "base_uri": "https://localhost:8080/",
          "height": 300
        },
        "outputId": "efbc80dd-6901-4d04-88f7-b61be895d403"
      },
      "outputs": [
        {
          "output_type": "display_data",
          "data": {
            "text/plain": [
              "<IPython.core.display.Javascript object>"
            ],
            "application/javascript": [
              "google.colab.output.setIframeHeight(0, true, {maxHeight: 300})"
            ]
          },
          "metadata": {}
        },
        {
          "output_type": "stream",
          "name": "stdout",
          "text": [
            "Model: \"model_1\"\n",
            "_________________________________________________________________\n",
            " Layer (type)                Output Shape              Param #   \n",
            "=================================================================\n",
            " input_2 (InputLayer)        [(None, 96, 96, 3)]       0         \n",
            "                                                                 \n",
            " conv2d_3 (Conv2D)           (None, 96, 96, 32)        896       \n",
            "                                                                 \n",
            " batch_normalization_3 (Batc  (None, 96, 96, 32)       128       \n",
            " hNormalization)                                                 \n",
            "                                                                 \n",
            " activation_3 (Activation)   (None, 96, 96, 32)        0         \n",
            "                                                                 \n",
            " max_pooling2d_2 (MaxPooling  (None, 32, 32, 32)       0         \n",
            " 2D)                                                             \n",
            "                                                                 \n",
            " conv2d_4 (Conv2D)           (None, 32, 32, 64)        18496     \n",
            "                                                                 \n",
            " batch_normalization_4 (Batc  (None, 32, 32, 64)       256       \n",
            " hNormalization)                                                 \n",
            "                                                                 \n",
            " activation_4 (Activation)   (None, 32, 32, 64)        0         \n",
            "                                                                 \n",
            " max_pooling2d_3 (MaxPooling  (None, 11, 11, 64)       0         \n",
            " 2D)                                                             \n",
            "                                                                 \n",
            " conv2d_5 (Conv2D)           (None, 11, 11, 128)       73856     \n",
            "                                                                 \n",
            " batch_normalization_5 (Batc  (None, 11, 11, 128)      512       \n",
            " hNormalization)                                                 \n",
            "                                                                 \n",
            " activation_5 (Activation)   (None, 11, 11, 128)       0         \n",
            "                                                                 \n",
            " max_pooling2d_4 (MaxPooling  (None, 4, 4, 128)        0         \n",
            " 2D)                                                             \n",
            "                                                                 \n",
            " conv2d_6 (Conv2D)           (None, 4, 4, 128)         147584    \n",
            "                                                                 \n",
            " batch_normalization_6 (Batc  (None, 4, 4, 128)        512       \n",
            " hNormalization)                                                 \n",
            "                                                                 \n",
            " activation_6 (Activation)   (None, 4, 4, 128)         0         \n",
            "                                                                 \n",
            " max_pooling2d_5 (MaxPooling  (None, 2, 2, 128)        0         \n",
            " 2D)                                                             \n",
            "                                                                 \n",
            " conv2d_7 (Conv2D)           (None, 2, 2, 512)         590336    \n",
            "                                                                 \n",
            " batch_normalization_7 (Batc  (None, 2, 2, 512)        2048      \n",
            " hNormalization)                                                 \n",
            "                                                                 \n",
            " activation_7 (Activation)   (None, 2, 2, 512)         0         \n",
            "                                                                 \n",
            " global_max_pooling2d_1 (Glo  (None, 512)              0         \n",
            " balMaxPooling2D)                                                \n",
            "                                                                 \n",
            " flatten (Flatten)           (None, 512)               0         \n",
            "                                                                 \n",
            " dropout (Dropout)           (None, 512)               0         \n",
            "                                                                 \n",
            " dense_2 (Dense)             (None, 512)               262656    \n",
            "                                                                 \n",
            " dense_3 (Dense)             (None, 9)                 4617      \n",
            "                                                                 \n",
            "=================================================================\n",
            "Total params: 1,101,897\n",
            "Trainable params: 1,100,169\n",
            "Non-trainable params: 1,728\n",
            "_________________________________________________________________\n"
          ]
        }
      ],
      "source": [
        "# ARCHITECTURE DEFINITION FOR MODEL V03\n",
        "inputs = keras.Input((SIZE,SIZE,3))\n",
        "\n",
        "x = inputs\n",
        "\n",
        "x = keras.layers.Conv2D(32, 3, padding=\"same\", kernel_initializer=\"he_uniform\", kernel_regularizer=tf.keras.regularizers.l2(0.001))(x)\n",
        "x = keras.layers.BatchNormalization()(x)\n",
        "x = keras.layers.Activation(\"relu\")(x)\n",
        "x = keras.layers.MaxPooling2D(3, strides=3, padding=\"same\")(x)\n",
        "\n",
        "x = keras.layers.Conv2D(64, 3, padding=\"same\", kernel_initializer=\"he_uniform\", kernel_regularizer=tf.keras.regularizers.l2(0.001))(x)\n",
        "x = keras.layers.BatchNormalization()(x)\n",
        "x = keras.layers.Activation(\"relu\")(x)\n",
        "x = keras.layers.MaxPooling2D(3, strides=3, padding=\"same\")(x)\n",
        "\n",
        "x = keras.layers.Conv2D(128, 3, padding=\"same\", kernel_initializer=\"he_uniform\", kernel_regularizer=tf.keras.regularizers.l2(0.001))(x)\n",
        "x = keras.layers.BatchNormalization()(x)\n",
        "x = keras.layers.Activation(\"relu\")(x)\n",
        "x = keras.layers.MaxPooling2D(3, strides=3, padding=\"same\")(x)\n",
        "\n",
        "x = keras.layers.Conv2D(128, 3, padding=\"same\", kernel_initializer=\"he_uniform\", kernel_regularizer=tf.keras.regularizers.l2(0.001))(x)\n",
        "x = keras.layers.BatchNormalization()(x)\n",
        "x = keras.layers.Activation(\"relu\")(x)\n",
        "x = keras.layers.MaxPooling2D(3, strides=3, padding=\"same\")(x)\n",
        "\n",
        "x = keras.layers.Conv2D(512, 3, padding=\"same\", kernel_initializer=\"he_uniform\", kernel_regularizer=tf.keras.regularizers.l2(0.001))(x)\n",
        "x = keras.layers.BatchNormalization()(x)\n",
        "x = keras.layers.Activation(\"relu\")(x)\n",
        "x = keras.layers.GlobalMaxPooling2D()(x)\n",
        "\n",
        "# ADD FLATTEN LAYER\n",
        "x = tf.keras.layers.Flatten()(x)\n",
        "# ADD DROPOUT LAYER\n",
        "x = keras.layers.Dropout(.15)(x)\n",
        "\n",
        "x = keras.layers.Dense(512, activation=\"relu\", kernel_regularizer=tf.keras.regularizers.l2(0.001))(x)\n",
        "\n",
        "outputs = keras.layers.Dense(num_classes, activation=\"softmax\", kernel_regularizer=tf.keras.regularizers.l2(0.001))(x)\n",
        "\n",
        "net_modelV03 = keras.Model(inputs, outputs)\n",
        "\n",
        "# PRINT THE SUMMARY\n",
        "net_modelV03.summary()"
      ]
    },
    {
      "cell_type": "markdown",
      "source": [
        "<figure>\n",
        "<center>\n",
        "<img src='https://drive.google.com/uc?export=view&id=1WMiCo7jjyvtIw3VJW0T0aUDjBMC8Dyaq' />\n",
        "<figcaption>Architecture ModelV03</figcaption></center>\n",
        "</figure>"
      ],
      "metadata": {
        "id": "Kl18NHFgqI8h"
      }
    },
    {
      "cell_type": "code",
      "execution_count": null,
      "metadata": {
        "id": "eW5lub6TwUuo",
        "colab": {
          "base_uri": "https://localhost:8080/",
          "height": 17
        },
        "outputId": "c481779e-bc15-4d8e-a947-bf5b6012e206"
      },
      "outputs": [
        {
          "output_type": "display_data",
          "data": {
            "text/plain": [
              "<IPython.core.display.Javascript object>"
            ],
            "application/javascript": [
              "google.colab.output.setIframeHeight(0, true, {maxHeight: 300})"
            ]
          },
          "metadata": {}
        }
      ],
      "source": [
        "# COMPILE THE MODEL\n",
        "net_modelV03.compile(loss=keras.losses.categorical_crossentropy,\n",
        "            optimizer= keras.optimizers.Adam(learning_rate=0.0001),\n",
        "            metrics=['accuracy'])"
      ]
    },
    {
      "cell_type": "code",
      "execution_count": null,
      "metadata": {
        "id": "npw4dDJvwUsZ",
        "colab": {
          "base_uri": "https://localhost:8080/",
          "height": 300
        },
        "outputId": "daa703f4-4daa-4401-81b6-98036846b3f0"
      },
      "outputs": [
        {
          "output_type": "display_data",
          "data": {
            "text/plain": [
              "<IPython.core.display.Javascript object>"
            ],
            "application/javascript": [
              "google.colab.output.setIframeHeight(0, true, {maxHeight: 300})"
            ]
          },
          "metadata": {}
        },
        {
          "output_type": "stream",
          "name": "stdout",
          "text": [
            "Epoch 1/50\n",
            "112/112 [==============================] - 161s 1s/step - loss: 3.9061 - accuracy: 0.4141 - val_loss: 4.3590 - val_accuracy: 0.1771\n",
            "Epoch 2/50\n",
            "112/112 [==============================] - 9s 84ms/step - loss: 3.4093 - accuracy: 0.5848 - val_loss: 4.3848 - val_accuracy: 0.1615\n",
            "Epoch 3/50\n",
            "112/112 [==============================] - 9s 84ms/step - loss: 3.2299 - accuracy: 0.6542 - val_loss: 3.7984 - val_accuracy: 0.4375\n",
            "Epoch 4/50\n",
            "112/112 [==============================] - 10s 85ms/step - loss: 3.0551 - accuracy: 0.7096 - val_loss: 3.5439 - val_accuracy: 0.5156\n",
            "Epoch 5/50\n",
            "112/112 [==============================] - 10s 86ms/step - loss: 2.9301 - accuracy: 0.7476 - val_loss: 3.6912 - val_accuracy: 0.4115\n",
            "Epoch 6/50\n",
            "112/112 [==============================] - 10s 91ms/step - loss: 2.8781 - accuracy: 0.7487 - val_loss: 3.5380 - val_accuracy: 0.5104\n",
            "Epoch 7/50\n",
            "112/112 [==============================] - 9s 83ms/step - loss: 2.7868 - accuracy: 0.7818 - val_loss: 4.4682 - val_accuracy: 0.3438\n",
            "Epoch 8/50\n",
            "112/112 [==============================] - 9s 84ms/step - loss: 2.7302 - accuracy: 0.7969 - val_loss: 3.7894 - val_accuracy: 0.4427\n",
            "Epoch 9/50\n",
            "112/112 [==============================] - 10s 86ms/step - loss: 2.6667 - accuracy: 0.8148 - val_loss: 3.8484 - val_accuracy: 0.4740\n",
            "Epoch 10/50\n",
            "112/112 [==============================] - 9s 84ms/step - loss: 2.6218 - accuracy: 0.8215 - val_loss: 3.7785 - val_accuracy: 0.4844\n",
            "Epoch 11/50\n",
            "112/112 [==============================] - 10s 88ms/step - loss: 2.5926 - accuracy: 0.8265 - val_loss: 3.3835 - val_accuracy: 0.5521\n",
            "Epoch 12/50\n",
            "112/112 [==============================] - 10s 85ms/step - loss: 2.5261 - accuracy: 0.8450 - val_loss: 3.3976 - val_accuracy: 0.5729\n",
            "Epoch 13/50\n",
            "112/112 [==============================] - 10s 85ms/step - loss: 2.4836 - accuracy: 0.8528 - val_loss: 3.5879 - val_accuracy: 0.5573\n",
            "Epoch 14/50\n",
            "112/112 [==============================] - 9s 84ms/step - loss: 2.4493 - accuracy: 0.8657 - val_loss: 3.6076 - val_accuracy: 0.5417\n",
            "Epoch 15/50\n",
            "112/112 [==============================] - 9s 84ms/step - loss: 2.4043 - accuracy: 0.8696 - val_loss: 3.4820 - val_accuracy: 0.5521\n",
            "Epoch 16/50\n",
            "112/112 [==============================] - 10s 86ms/step - loss: 2.3684 - accuracy: 0.8842 - val_loss: 3.1246 - val_accuracy: 0.6458\n",
            "Epoch 17/50\n",
            "112/112 [==============================] - 10s 85ms/step - loss: 2.3427 - accuracy: 0.8858 - val_loss: 3.1760 - val_accuracy: 0.6510\n",
            "Epoch 18/50\n",
            "112/112 [==============================] - 9s 84ms/step - loss: 2.3119 - accuracy: 0.8853 - val_loss: 3.0956 - val_accuracy: 0.6250\n",
            "Epoch 19/50\n",
            "112/112 [==============================] - 9s 85ms/step - loss: 2.2797 - accuracy: 0.8903 - val_loss: 3.1735 - val_accuracy: 0.6406\n",
            "Epoch 20/50\n",
            "112/112 [==============================] - 9s 84ms/step - loss: 2.2825 - accuracy: 0.8903 - val_loss: 3.1933 - val_accuracy: 0.6823\n",
            "Epoch 21/50\n",
            "112/112 [==============================] - 10s 93ms/step - loss: 2.2227 - accuracy: 0.9032 - val_loss: 3.1226 - val_accuracy: 0.6667\n",
            "Epoch 22/50\n",
            "112/112 [==============================] - 10s 85ms/step - loss: 2.2148 - accuracy: 0.9026 - val_loss: 3.1665 - val_accuracy: 0.6354\n",
            "Epoch 23/50\n",
            "112/112 [==============================] - 9s 84ms/step - loss: 2.1829 - accuracy: 0.9110 - val_loss: 3.5310 - val_accuracy: 0.5938\n",
            "Epoch 24/50\n",
            "112/112 [==============================] - 10s 85ms/step - loss: 2.1549 - accuracy: 0.9133 - val_loss: 3.1764 - val_accuracy: 0.6354\n",
            "Epoch 25/50\n",
            "112/112 [==============================] - 9s 85ms/step - loss: 2.1372 - accuracy: 0.9082 - val_loss: 3.3228 - val_accuracy: 0.6146\n",
            "Epoch 26/50\n",
            "112/112 [==============================] - 9s 85ms/step - loss: 2.1097 - accuracy: 0.9116 - val_loss: 2.7722 - val_accuracy: 0.7292\n",
            "Epoch 27/50\n",
            "112/112 [==============================] - 10s 93ms/step - loss: 2.0834 - accuracy: 0.9105 - val_loss: 3.1268 - val_accuracy: 0.6615\n",
            "Epoch 28/50\n",
            "112/112 [==============================] - 9s 84ms/step - loss: 2.0712 - accuracy: 0.9222 - val_loss: 2.7167 - val_accuracy: 0.7292\n",
            "Epoch 29/50\n",
            "112/112 [==============================] - 9s 83ms/step - loss: 2.0395 - accuracy: 0.9256 - val_loss: 2.9005 - val_accuracy: 0.7031\n",
            "Epoch 30/50\n",
            "112/112 [==============================] - 9s 83ms/step - loss: 2.0397 - accuracy: 0.9233 - val_loss: 2.9368 - val_accuracy: 0.7031\n",
            "Epoch 31/50\n",
            "112/112 [==============================] - 9s 84ms/step - loss: 2.0050 - accuracy: 0.9261 - val_loss: 3.1528 - val_accuracy: 0.6094\n",
            "Epoch 32/50\n",
            "112/112 [==============================] - 9s 84ms/step - loss: 1.9724 - accuracy: 0.9317 - val_loss: 2.9570 - val_accuracy: 0.6875\n",
            "Epoch 33/50\n",
            "112/112 [==============================] - 10s 86ms/step - loss: 1.9464 - accuracy: 0.9440 - val_loss: 2.6846 - val_accuracy: 0.7500\n",
            "Epoch 34/50\n",
            "112/112 [==============================] - 10s 85ms/step - loss: 1.9284 - accuracy: 0.9412 - val_loss: 2.8574 - val_accuracy: 0.6927\n",
            "Epoch 35/50\n",
            "112/112 [==============================] - 9s 84ms/step - loss: 1.9042 - accuracy: 0.9418 - val_loss: 3.3262 - val_accuracy: 0.5990\n",
            "Epoch 36/50\n",
            "112/112 [==============================] - 9s 83ms/step - loss: 1.8925 - accuracy: 0.9424 - val_loss: 3.1952 - val_accuracy: 0.6146\n",
            "Epoch 37/50\n",
            "112/112 [==============================] - 9s 83ms/step - loss: 1.8877 - accuracy: 0.9373 - val_loss: 2.7646 - val_accuracy: 0.7135\n",
            "Epoch 38/50\n",
            "112/112 [==============================] - 13s 114ms/step - loss: 1.8584 - accuracy: 0.9485 - val_loss: 3.1904 - val_accuracy: 0.5938\n",
            "Epoch 39/50\n",
            "112/112 [==============================] - 14s 127ms/step - loss: 1.8320 - accuracy: 0.9513 - val_loss: 2.7508 - val_accuracy: 0.7135\n",
            "Epoch 40/50\n",
            "112/112 [==============================] - 13s 112ms/step - loss: 1.8255 - accuracy: 0.9468 - val_loss: 3.3753 - val_accuracy: 0.6094\n",
            "Epoch 41/50\n",
            "112/112 [==============================] - 12s 110ms/step - loss: 1.7966 - accuracy: 0.9502 - val_loss: 3.4307 - val_accuracy: 0.6406\n",
            "Epoch 42/50\n",
            "112/112 [==============================] - 11s 97ms/step - loss: 1.7827 - accuracy: 0.9530 - val_loss: 2.7653 - val_accuracy: 0.7292\n",
            "Epoch 43/50\n",
            "112/112 [==============================] - 13s 114ms/step - loss: 1.8027 - accuracy: 0.9418 - val_loss: 3.1706 - val_accuracy: 0.5729\n",
            "Epoch 44/50\n",
            "112/112 [==============================] - 11s 103ms/step - loss: 1.7883 - accuracy: 0.9401 - val_loss: 2.8415 - val_accuracy: 0.6719\n",
            "Epoch 45/50\n",
            "112/112 [==============================] - 16s 140ms/step - loss: 1.7457 - accuracy: 0.9619 - val_loss: 2.9440 - val_accuracy: 0.6875\n",
            "Epoch 46/50\n",
            "112/112 [==============================] - 13s 116ms/step - loss: 1.7538 - accuracy: 0.9418 - val_loss: 2.7863 - val_accuracy: 0.6979\n",
            "Epoch 47/50\n",
            "112/112 [==============================] - 13s 117ms/step - loss: 1.7145 - accuracy: 0.9530 - val_loss: 2.9312 - val_accuracy: 0.7135\n",
            "Epoch 48/50\n",
            "112/112 [==============================] - 12s 104ms/step - loss: 1.6865 - accuracy: 0.9586 - val_loss: 2.9823 - val_accuracy: 0.6510\n",
            "Total execution time with PCA is:  0:12:55.861111\n"
          ]
        }
      ],
      "source": [
        "# START COUNTING THE TIME\n",
        "start = datetime.datetime.now()\n",
        "\n",
        "# FIT THE MODEL\n",
        "history_modelV03 = net_modelV03.fit(train_generator, \n",
        "                  validation_data = val_generator, # test_generator\n",
        "                  steps_per_epoch = train_generator.n // train_generator.batch_size,\n",
        "                  validation_steps = val_generator.n // val_generator.batch_size, # test_generator\n",
        "                  epochs=50,\n",
        "                  callbacks = [callback])\n",
        "\n",
        "# STOP COUNTING THE TIME\n",
        "end = datetime.datetime.now()\n",
        "print(\"Total execution time with PCA is: \", end-start)"
      ]
    },
    {
      "cell_type": "code",
      "execution_count": null,
      "metadata": {
        "id": "igB4TxuBwUqP"
      },
      "outputs": [],
      "source": [
        "# Iterazioni (numero al di sotto delle epoche) viene calcolato come shape del training (in termini di lunghezza)/numero di epoche.\n",
        "# Esempio: se lunghezza di training è 1803 la si divide per batch size di 64 e si ottiene 28 iterazioni per epoca! --> to see all \n",
        "# the datapoints it need 28 iterations."
      ]
    },
    {
      "cell_type": "code",
      "execution_count": null,
      "metadata": {
        "id": "-3g731HbVGJp"
      },
      "outputs": [],
      "source": [
        "# SHOW DIFFERENT TRAINING EPOCHS: USE 40/70/100 TRAINING EPOCHS AND SHOW/COMMENT THE RESULTS!\n",
        "# UTILE PER CAPIRE STEPS PER EPOCH AND VALIDATION STEPS: https://datascience.stackexchange.com/questions/47405/what-to-set-in-steps-per-epoch-in-keras-fit-generator"
      ]
    },
    {
      "cell_type": "code",
      "execution_count": null,
      "metadata": {
        "colab": {
          "base_uri": "https://localhost:8080/",
          "height": 300
        },
        "id": "C2jLcGKxIjSY",
        "outputId": "9869d0b9-df85-4378-86cb-f4344318bdc8"
      },
      "outputs": [
        {
          "output_type": "display_data",
          "data": {
            "text/plain": [
              "<IPython.core.display.Javascript object>"
            ],
            "application/javascript": [
              "google.colab.output.setIframeHeight(0, true, {maxHeight: 300})"
            ]
          },
          "metadata": {}
        },
        {
          "output_type": "execute_result",
          "data": {
            "text/plain": [
              "<matplotlib.legend.Legend at 0x7fc62c61bf10>"
            ]
          },
          "metadata": {},
          "execution_count": 27
        },
        {
          "output_type": "display_data",
          "data": {
            "text/plain": [
              "<Figure size 1080x432 with 2 Axes>"
            ],
            "image/png": "[encoded data removed]"
          },
          "metadata": {
            "needs_background": "light"
          }
        }
      ],
      "source": [
        "# PLOT THEM TOGETHER\n",
        "# Visualization of the learning curves\n",
        "plt.figure(figsize=(15,6))\n",
        "\n",
        "# VISUALIZZIAMO NUOVAMENTE L'OUTPUT IN TERMINI DI LOSS FUNCTION\n",
        "plt.subplot(1, 2, 1)\n",
        "plt.plot(history_modelV03.history['loss'])\n",
        "plt.plot(history_modelV03.history['val_loss'])\n",
        "plt.ylim([0.0, 5.0]) # è difficile da dire a priori\n",
        "plt.xlabel('Epoch')\n",
        "plt.ylabel('Loss')\n",
        "plt.legend(['train', 'valid'])\n",
        "\n",
        "plt.subplot(1, 2, 2)\n",
        "plt.plot(history_modelV03.history['accuracy'])\n",
        "plt.plot(history_modelV03.history['val_accuracy'])\n",
        "plt.ylim([0.0, 1.0]) # 0.5 è il minimo sindacale - dummy classifier fa 50% - fino al massimo 1. \n",
        "plt.xlabel('Epoch')\n",
        "plt.ylabel('Accuracy')\n",
        "plt.legend(['train', 'valid'])"
      ]
    },
    {
      "cell_type": "markdown",
      "metadata": {
        "id": "Qc4R6vzqXW1w"
      },
      "source": [
        "TO CHECK:\n",
        "\n",
        "- https://cs230.stanford.edu/projects_fall_2019/reports/26233496.pdf\n",
        "- http://www.warse.org/IJETER/static/pdf/file/ijeter38892020.pdf\n",
        "- https://www.kdnuggets.com/2022/05/image-classification-convolutional-neural-networks-cnns.html\n",
        "- https://towardsdatascience.com/deciding-optimal-filter-size-for-cnns-d6f7b56f9363"
      ]
    },
    {
      "cell_type": "markdown",
      "metadata": {
        "id": "RaBg3ww_83dQ"
      },
      "source": [
        "#### Results Model V03"
      ]
    },
    {
      "cell_type": "markdown",
      "metadata": {
        "id": "qZqOZC4M9Haa"
      },
      "source": []
    },
    {
      "cell_type": "code",
      "source": [
        "# GET THE MINIMUM ACCURACY, THE MAXIMUM ACCURACY, THE MINIMUM LOSS, THE MAXIMUM LOSS AND SAVE THEM IN VARIABLES.\n",
        "# THEN CREATE A DATAFRAME AT THE END WHERE YOU CAN COMPARE DIFFERENT MODELS WITH IT!\n",
        "\n",
        "# LOSS/VAL LOSS\n",
        "modelV03_minLoss = min(history_modelV03.history['loss'])\n",
        "modelV03_maxLoss = max(history_modelV03.history['loss'])\n",
        "modelV03_minValLoss = min(history_modelV03.history['val_loss'])\n",
        "modelV03_maxValLoss = max(history_modelV03.history['val_loss'])\n",
        "\n",
        "# ACCURACY/VAL ACCURACY\n",
        "modelV03_minAccuracy = min(history_modelV03.history['accuracy'])\n",
        "modelV03_maxAccuracy = max(history_modelV03.history['accuracy'])\n",
        "modelV03_minValAccuracy = min(history_modelV03.history['val_accuracy'])\n",
        "modelV03_maxValAccuracy = max(history_modelV03.history['val_accuracy'])\n",
        "\n",
        "# CREATE THE DATAFRAME\n",
        "modelV03_loss_accuracy = pd.DataFrame({\"minLoss\": [modelV03_minLoss],\n",
        "                                       \"maxloss\": [modelV03_maxLoss],\n",
        "                                       \"minValLoss\": [modelV03_minValLoss],\n",
        "                                       \"maxValLoss\": [modelV03_maxValLoss],\n",
        "                                       \"minAccuracy\": [modelV03_minAccuracy],\n",
        "                                       \"maxAccuracy\": [modelV03_maxAccuracy],\n",
        "                                       \"minValAccuracy\": [modelV03_minValAccuracy],\n",
        "                                       \"maxValAccuracy\": [modelV03_maxValAccuracy]}).T\n",
        "\n",
        "# CHANGE THE FIRST COLUMN NAME\n",
        "modelV03_loss_accuracy = modelV03_loss_accuracy.rename(columns={0: 'modelV03'})\n",
        "# CHANGE THE INDEX NAME\n",
        "modelV03_loss_accuracy.index.names = ['Performance']\n",
        "modelV03_loss_accuracy"
      ],
      "metadata": {
        "colab": {
          "base_uri": "https://localhost:8080/",
          "height": 17
        },
        "id": "AmZGo-bHiWkN",
        "outputId": "91831fda-fcf9-47d5-bee9-eccc655029bf"
      },
      "execution_count": null,
      "outputs": [
        {
          "output_type": "display_data",
          "data": {
            "text/plain": [
              "<IPython.core.display.Javascript object>"
            ],
            "application/javascript": [
              "google.colab.output.setIframeHeight(0, true, {maxHeight: 300})"
            ]
          },
          "metadata": {}
        }
      ]
    },
    {
      "cell_type": "code",
      "source": [
        "# SAVE THE MODEL V03\n",
        "keras_file_modelV03 = \"/content/gdrive/MyDrive/Data_Science_2020-2022/Secondo_anno_Secondo_Semestre/FoDL_Project/Project_Example_Food/saved_models/modelV03.h5\"\n",
        "tf.keras.models.save_model(net_modelV03, keras_file_modelV03) # MODIFY MODEL WITH YOUR OWN MODEL"
      ],
      "metadata": {
        "colab": {
          "base_uri": "https://localhost:8080/",
          "height": 17
        },
        "id": "Tcs61cOmhtCt",
        "outputId": "1ae67d45-18f7-475c-8955-17dd92cc3301"
      },
      "execution_count": null,
      "outputs": [
        {
          "output_type": "display_data",
          "data": {
            "text/plain": [
              "<IPython.core.display.Javascript object>"
            ],
            "application/javascript": [
              "google.colab.output.setIframeHeight(0, true, {maxHeight: 300})"
            ]
          },
          "metadata": {}
        }
      ]
    },
    {
      "cell_type": "markdown",
      "metadata": {
        "id": "xpgoFdJcJKwp"
      },
      "source": [
        "EXAMPLE OF NOTES THAT YOU CAN ADD:\n",
        "\n",
        "Note:\n",
        "\n",
        "- The increased complexity does not appear to have improved the capability of the network.\n",
        "- It has, however, impacted the validation accuracy curve, which is now converging faster.\n",
        "- We will now address the current behavior to implement an early stopping mechanism."
      ]
    },
    {
      "cell_type": "markdown",
      "metadata": {
        "id": "PvIkA-QhWT7w"
      },
      "source": [
        "Check the following:\n",
        "- https://stackoverflow.com/questions/49017331/keras-flow-from-directorydirectory\n",
        "- https://studymachinelearning.com/keras-imagedatagenerator-with-flow_from_directory/"
      ]
    },
    {
      "cell_type": "markdown",
      "metadata": {
        "id": "1S5qxgwm1ABU"
      },
      "source": [
        "---------------------"
      ]
    },
    {
      "cell_type": "markdown",
      "metadata": {
        "id": "8D1McZOT6nEt"
      },
      "source": [
        "### 5.1.4 MODEL V04 - Training the model with Data Agmentation from keras (regularization and higher dropout) - Deeper model"
      ]
    },
    {
      "cell_type": "code",
      "execution_count": null,
      "metadata": {
        "id": "gRZSHH8v76FP",
        "colab": {
          "base_uri": "https://localhost:8080/",
          "height": 300
        },
        "outputId": "2a47378e-6a98-40ba-9031-bfa05b4d7656"
      },
      "outputs": [
        {
          "output_type": "display_data",
          "data": {
            "text/plain": [
              "<IPython.core.display.Javascript object>"
            ],
            "application/javascript": [
              "google.colab.output.setIframeHeight(0, true, {maxHeight: 300})"
            ]
          },
          "metadata": {}
        },
        {
          "output_type": "stream",
          "name": "stdout",
          "text": [
            "Model: \"model_3\"\n",
            "_________________________________________________________________\n",
            " Layer (type)                Output Shape              Param #   \n",
            "=================================================================\n",
            " input_4 (InputLayer)        [(None, 96, 96, 3)]       0         \n",
            "                                                                 \n",
            " conv2d_12 (Conv2D)          (None, 96, 96, 32)        896       \n",
            "                                                                 \n",
            " batch_normalization_12 (Bat  (None, 96, 96, 32)       128       \n",
            " chNormalization)                                                \n",
            "                                                                 \n",
            " activation_13 (Activation)  (None, 96, 96, 32)        0         \n",
            "                                                                 \n",
            " max_pooling2d_10 (MaxPoolin  (None, 32, 32, 32)       0         \n",
            " g2D)                                                            \n",
            "                                                                 \n",
            " conv2d_13 (Conv2D)          (None, 32, 32, 32)        9248      \n",
            "                                                                 \n",
            " batch_normalization_13 (Bat  (None, 32, 32, 32)       128       \n",
            " chNormalization)                                                \n",
            "                                                                 \n",
            " activation_14 (Activation)  (None, 32, 32, 32)        0         \n",
            "                                                                 \n",
            " max_pooling2d_11 (MaxPoolin  (None, 11, 11, 32)       0         \n",
            " g2D)                                                            \n",
            "                                                                 \n",
            " conv2d_14 (Conv2D)          (None, 11, 11, 64)        18496     \n",
            "                                                                 \n",
            " batch_normalization_14 (Bat  (None, 11, 11, 64)       256       \n",
            " chNormalization)                                                \n",
            "                                                                 \n",
            " activation_15 (Activation)  (None, 11, 11, 64)        0         \n",
            "                                                                 \n",
            " max_pooling2d_12 (MaxPoolin  (None, 4, 4, 64)         0         \n",
            " g2D)                                                            \n",
            "                                                                 \n",
            " conv2d_15 (Conv2D)          (None, 4, 4, 64)          36928     \n",
            "                                                                 \n",
            " batch_normalization_15 (Bat  (None, 4, 4, 64)         256       \n",
            " chNormalization)                                                \n",
            "                                                                 \n",
            " activation_16 (Activation)  (None, 4, 4, 64)          0         \n",
            "                                                                 \n",
            " max_pooling2d_13 (MaxPoolin  (None, 2, 2, 64)         0         \n",
            " g2D)                                                            \n",
            "                                                                 \n",
            " conv2d_16 (Conv2D)          (None, 2, 2, 128)         73856     \n",
            "                                                                 \n",
            " batch_normalization_16 (Bat  (None, 2, 2, 128)        512       \n",
            " chNormalization)                                                \n",
            "                                                                 \n",
            " activation_17 (Activation)  (None, 2, 2, 128)         0         \n",
            "                                                                 \n",
            " max_pooling2d_14 (MaxPoolin  (None, 1, 1, 128)        0         \n",
            " g2D)                                                            \n",
            "                                                                 \n",
            " conv2d_17 (Conv2D)          (None, 1, 1, 128)         147584    \n",
            "                                                                 \n",
            " batch_normalization_17 (Bat  (None, 1, 1, 128)        512       \n",
            " chNormalization)                                                \n",
            "                                                                 \n",
            " activation_18 (Activation)  (None, 1, 1, 128)         0         \n",
            "                                                                 \n",
            " max_pooling2d_15 (MaxPoolin  (None, 1, 1, 128)        0         \n",
            " g2D)                                                            \n",
            "                                                                 \n",
            " conv2d_18 (Conv2D)          (None, 1, 1, 512)         590336    \n",
            "                                                                 \n",
            " batch_normalization_18 (Bat  (None, 1, 1, 512)        2048      \n",
            " chNormalization)                                                \n",
            "                                                                 \n",
            " activation_19 (Activation)  (None, 1, 1, 512)         0         \n",
            "                                                                 \n",
            " global_max_pooling2d_2 (Glo  (None, 512)              0         \n",
            " balMaxPooling2D)                                                \n",
            "                                                                 \n",
            " flatten_2 (Flatten)         (None, 512)               0         \n",
            "                                                                 \n",
            " dense_7 (Dense)             (None, 512)               262656    \n",
            "                                                                 \n",
            " activation_20 (Activation)  (None, 512)               0         \n",
            "                                                                 \n",
            " dropout_2 (Dropout)         (None, 512)               0         \n",
            "                                                                 \n",
            " dense_8 (Dense)             (None, 512)               262656    \n",
            "                                                                 \n",
            " dense_9 (Dense)             (None, 9)                 4617      \n",
            "                                                                 \n",
            "=================================================================\n",
            "Total params: 1,411,113\n",
            "Trainable params: 1,409,193\n",
            "Non-trainable params: 1,920\n",
            "_________________________________________________________________\n"
          ]
        }
      ],
      "source": [
        "# ARCHITECTURE FOUND AT: https://blog.keras.io/building-powerful-image-classification-models-using-very-little-data.html\n",
        "inputs = keras.Input((SIZE,SIZE,3))\n",
        "\n",
        "x = inputs\n",
        "\n",
        "x = keras.layers.Conv2D(32, 3, padding=\"same\", kernel_initializer=\"he_uniform\", kernel_regularizer=tf.keras.regularizers.l2(0.001))(x)\n",
        "x = keras.layers.BatchNormalization()(x)\n",
        "x = keras.layers.Activation(\"relu\")(x)\n",
        "x = keras.layers.MaxPooling2D(3, strides=3, padding=\"same\")(x)\n",
        "\n",
        "x = keras.layers.Conv2D(32, 3, padding=\"same\", kernel_initializer=\"he_uniform\", kernel_regularizer=tf.keras.regularizers.l2(0.001))(x)\n",
        "x = keras.layers.BatchNormalization()(x)\n",
        "x = keras.layers.Activation(\"relu\")(x)\n",
        "x = keras.layers.MaxPooling2D(3, strides=3, padding=\"same\")(x)\n",
        "\n",
        "x = keras.layers.Conv2D(64, 3, padding=\"same\", kernel_initializer=\"he_uniform\", kernel_regularizer=tf.keras.regularizers.l2(0.001))(x)\n",
        "x = keras.layers.BatchNormalization()(x)\n",
        "x = keras.layers.Activation(\"relu\")(x)\n",
        "x = keras.layers.MaxPooling2D(3, strides=3, padding=\"same\")(x)\n",
        "\n",
        "x = keras.layers.Conv2D(64, 3, padding=\"same\", kernel_initializer=\"he_uniform\", kernel_regularizer=tf.keras.regularizers.l2(0.001))(x)\n",
        "x = keras.layers.BatchNormalization()(x)\n",
        "x = keras.layers.Activation(\"relu\")(x)\n",
        "x = keras.layers.MaxPooling2D(3, strides=3, padding=\"same\")(x)\n",
        "\n",
        "x = keras.layers.Conv2D(128, 3, padding=\"same\", kernel_initializer=\"he_uniform\", kernel_regularizer=tf.keras.regularizers.l2(0.001))(x)\n",
        "x = keras.layers.BatchNormalization()(x)\n",
        "x = keras.layers.Activation(\"relu\")(x)\n",
        "x = keras.layers.MaxPooling2D(3, strides=3, padding=\"same\")(x)\n",
        "\n",
        "x = keras.layers.Conv2D(128, 3, padding=\"same\", kernel_initializer=\"he_uniform\", kernel_regularizer=tf.keras.regularizers.l2(0.001))(x)\n",
        "x = keras.layers.BatchNormalization()(x)\n",
        "x = keras.layers.Activation(\"relu\")(x)\n",
        "x = keras.layers.MaxPooling2D(3, strides=3, padding=\"same\")(x)\n",
        "\n",
        "x = keras.layers.Conv2D(512, 3, padding=\"same\", kernel_initializer=\"he_uniform\", kernel_regularizer=tf.keras.regularizers.l2(0.001))(x)\n",
        "x = keras.layers.BatchNormalization()(x)\n",
        "x = keras.layers.Activation(\"relu\")(x)\n",
        "x = keras.layers.GlobalMaxPooling2D()(x)\n",
        "\n",
        "# the model so far outputs 3D feature maps (height, width, features)\n",
        "\n",
        "# FLATTEN AND ADD DROPOUT\n",
        "x = tf.keras.layers.Flatten()(x) # this converts our 3D feature maps to 1D feature vectors\n",
        "x = keras.layers.Dense(512, activation=\"relu\", kernel_regularizer=tf.keras.regularizers.l2(0.001))(x)\n",
        "x = keras.layers.Activation(\"relu\")(x)\n",
        "x = keras.layers.Dropout(.20)(x)\n",
        "x = keras.layers.Dense(512, activation=\"relu\", kernel_regularizer=tf.keras.regularizers.l2(0.001))(x)\n",
        "\n",
        "outputs = keras.layers.Dense(num_classes, activation=\"softmax\", kernel_regularizer=tf.keras.regularizers.l2(0.001))(x)\n",
        "\n",
        "net_modelv04 = keras.Model(inputs, outputs)\n",
        "\n",
        "net_modelv04.summary()"
      ]
    },
    {
      "cell_type": "markdown",
      "source": [
        "<figure>\n",
        "<center>\n",
        "<img src='https://drive.google.com/uc?export=view&id=1Zwvj-ZS4q82tea6xj7WHNNqhw_uOzd5U' />\n",
        "<figcaption>Architecture ModelV03</figcaption></center>\n",
        "</figure>"
      ],
      "metadata": {
        "id": "QHADEKR93_wt"
      }
    },
    {
      "cell_type": "code",
      "execution_count": null,
      "metadata": {
        "id": "JcGjJzW16rbb",
        "colab": {
          "base_uri": "https://localhost:8080/",
          "height": 17
        },
        "outputId": "d4019d82-490e-4af2-d1cb-eb60a3a8891a"
      },
      "outputs": [
        {
          "output_type": "display_data",
          "data": {
            "text/plain": [
              "<IPython.core.display.Javascript object>"
            ],
            "application/javascript": [
              "google.colab.output.setIframeHeight(0, true, {maxHeight: 300})"
            ]
          },
          "metadata": {}
        }
      ],
      "source": [
        "net_modelv04.compile(loss=keras.losses.categorical_crossentropy,\n",
        "            optimizer= keras.optimizers.Adam(learning_rate=0.0001),\n",
        "            metrics=['accuracy'])"
      ]
    },
    {
      "cell_type": "code",
      "execution_count": null,
      "metadata": {
        "colab": {
          "base_uri": "https://localhost:8080/",
          "height": 300
        },
        "id": "zj50d9Ea6sCU",
        "outputId": "19fee4b4-71ea-4709-92ba-bd903dec820d"
      },
      "outputs": [
        {
          "output_type": "display_data",
          "data": {
            "text/plain": [
              "<IPython.core.display.Javascript object>"
            ],
            "application/javascript": [
              "google.colab.output.setIframeHeight(0, true, {maxHeight: 300})"
            ]
          },
          "metadata": {}
        },
        {
          "output_type": "stream",
          "name": "stdout",
          "text": [
            "Epoch 1/50\n",
            "112/112 [==============================] - 12s 88ms/step - loss: 4.6059 - accuracy: 0.3179 - val_loss: 4.6673 - val_accuracy: 0.1736\n",
            "Epoch 2/50\n",
            "112/112 [==============================] - 10s 86ms/step - loss: 3.8158 - accuracy: 0.4874 - val_loss: 4.1953 - val_accuracy: 0.2014\n",
            "Epoch 3/50\n",
            "112/112 [==============================] - 9s 83ms/step - loss: 3.3841 - accuracy: 0.5333 - val_loss: 3.7128 - val_accuracy: 0.2917\n",
            "Epoch 4/50\n",
            "112/112 [==============================] - 9s 82ms/step - loss: 3.0672 - accuracy: 0.6100 - val_loss: 3.4495 - val_accuracy: 0.4792\n",
            "Epoch 5/50\n",
            "112/112 [==============================] - 9s 83ms/step - loss: 2.8531 - accuracy: 0.6469 - val_loss: 3.2810 - val_accuracy: 0.4444\n",
            "Epoch 6/50\n",
            "112/112 [==============================] - 9s 83ms/step - loss: 2.7023 - accuracy: 0.6805 - val_loss: 3.3462 - val_accuracy: 0.4653\n",
            "Epoch 7/50\n",
            "112/112 [==============================] - 9s 83ms/step - loss: 2.6059 - accuracy: 0.6933 - val_loss: 3.3234 - val_accuracy: 0.4444\n",
            "Epoch 8/50\n",
            "112/112 [==============================] - 10s 89ms/step - loss: 2.5044 - accuracy: 0.7241 - val_loss: 3.2176 - val_accuracy: 0.4931\n",
            "Epoch 9/50\n",
            "112/112 [==============================] - 10s 86ms/step - loss: 2.4478 - accuracy: 0.7381 - val_loss: 3.2096 - val_accuracy: 0.5208\n",
            "Epoch 10/50\n",
            "112/112 [==============================] - 9s 83ms/step - loss: 2.4011 - accuracy: 0.7454 - val_loss: 3.1098 - val_accuracy: 0.5625\n",
            "Epoch 11/50\n",
            "112/112 [==============================] - 9s 83ms/step - loss: 2.3390 - accuracy: 0.7695 - val_loss: 3.2340 - val_accuracy: 0.4861\n",
            "Epoch 12/50\n",
            "112/112 [==============================] - 9s 82ms/step - loss: 2.2767 - accuracy: 0.7935 - val_loss: 3.0989 - val_accuracy: 0.5278\n",
            "Epoch 13/50\n",
            "112/112 [==============================] - 9s 83ms/step - loss: 2.2428 - accuracy: 0.7918 - val_loss: 3.1293 - val_accuracy: 0.4931\n",
            "Epoch 14/50\n",
            "112/112 [==============================] - 9s 83ms/step - loss: 2.1931 - accuracy: 0.7997 - val_loss: 3.0890 - val_accuracy: 0.5069\n",
            "Epoch 15/50\n",
            "112/112 [==============================] - 9s 82ms/step - loss: 2.1455 - accuracy: 0.8170 - val_loss: 3.2390 - val_accuracy: 0.5417\n",
            "Epoch 16/50\n",
            "112/112 [==============================] - 9s 82ms/step - loss: 2.1353 - accuracy: 0.8125 - val_loss: 3.0195 - val_accuracy: 0.5347\n",
            "Epoch 17/50\n",
            "112/112 [==============================] - 9s 84ms/step - loss: 2.1297 - accuracy: 0.8103 - val_loss: 2.8877 - val_accuracy: 0.5972\n",
            "Epoch 18/50\n",
            "112/112 [==============================] - 9s 83ms/step - loss: 2.0476 - accuracy: 0.8304 - val_loss: 3.1662 - val_accuracy: 0.5833\n",
            "Epoch 19/50\n",
            "112/112 [==============================] - 9s 83ms/step - loss: 2.0814 - accuracy: 0.8137 - val_loss: 2.8662 - val_accuracy: 0.5833\n",
            "Epoch 20/50\n",
            "112/112 [==============================] - 9s 83ms/step - loss: 2.0107 - accuracy: 0.8377 - val_loss: 2.9470 - val_accuracy: 0.6389\n",
            "Epoch 21/50\n",
            "112/112 [==============================] - 10s 90ms/step - loss: 1.9786 - accuracy: 0.8511 - val_loss: 2.8659 - val_accuracy: 0.5833\n",
            "Epoch 22/50\n",
            "112/112 [==============================] - 9s 83ms/step - loss: 1.9529 - accuracy: 0.8573 - val_loss: 3.0364 - val_accuracy: 0.5486\n",
            "Epoch 23/50\n",
            "112/112 [==============================] - 10s 85ms/step - loss: 1.9225 - accuracy: 0.8623 - val_loss: 2.8585 - val_accuracy: 0.6250\n",
            "Epoch 24/50\n",
            "112/112 [==============================] - 9s 83ms/step - loss: 1.8946 - accuracy: 0.8640 - val_loss: 2.8880 - val_accuracy: 0.6181\n",
            "Epoch 25/50\n",
            "112/112 [==============================] - 9s 82ms/step - loss: 1.8835 - accuracy: 0.8618 - val_loss: 2.9529 - val_accuracy: 0.6250\n",
            "Epoch 26/50\n",
            "112/112 [==============================] - 9s 84ms/step - loss: 1.8579 - accuracy: 0.8646 - val_loss: 2.7270 - val_accuracy: 0.6458\n",
            "Epoch 27/50\n",
            "112/112 [==============================] - 9s 83ms/step - loss: 1.8579 - accuracy: 0.8685 - val_loss: 2.9548 - val_accuracy: 0.5556\n",
            "Epoch 28/50\n",
            "112/112 [==============================] - 9s 83ms/step - loss: 1.8548 - accuracy: 0.8623 - val_loss: 2.9292 - val_accuracy: 0.5833\n",
            "Epoch 29/50\n",
            "112/112 [==============================] - 10s 91ms/step - loss: 1.8294 - accuracy: 0.8668 - val_loss: 2.9441 - val_accuracy: 0.6111\n",
            "Epoch 30/50\n",
            "112/112 [==============================] - 9s 83ms/step - loss: 1.7601 - accuracy: 0.8858 - val_loss: 3.1472 - val_accuracy: 0.6111\n",
            "Epoch 31/50\n",
            "112/112 [==============================] - 9s 84ms/step - loss: 1.7778 - accuracy: 0.8825 - val_loss: 2.8587 - val_accuracy: 0.5903\n",
            "Epoch 32/50\n",
            "112/112 [==============================] - 9s 84ms/step - loss: 1.7365 - accuracy: 0.8903 - val_loss: 3.0411 - val_accuracy: 0.5833\n",
            "Epoch 33/50\n",
            "112/112 [==============================] - 9s 84ms/step - loss: 1.7348 - accuracy: 0.8881 - val_loss: 2.8158 - val_accuracy: 0.6111\n",
            "Epoch 34/50\n",
            "112/112 [==============================] - 9s 84ms/step - loss: 1.6865 - accuracy: 0.9004 - val_loss: 2.7205 - val_accuracy: 0.6528\n",
            "Epoch 35/50\n",
            "112/112 [==============================] - 9s 83ms/step - loss: 1.6965 - accuracy: 0.8976 - val_loss: 3.1058 - val_accuracy: 0.6250\n",
            "Epoch 36/50\n",
            "112/112 [==============================] - 9s 84ms/step - loss: 1.6843 - accuracy: 0.8976 - val_loss: 2.6784 - val_accuracy: 0.6597\n",
            "Epoch 37/50\n",
            "112/112 [==============================] - 9s 83ms/step - loss: 1.6810 - accuracy: 0.8909 - val_loss: 2.6155 - val_accuracy: 0.7014\n",
            "Epoch 38/50\n",
            "112/112 [==============================] - 9s 83ms/step - loss: 1.6641 - accuracy: 0.8937 - val_loss: 2.6696 - val_accuracy: 0.6389\n",
            "Epoch 39/50\n",
            "112/112 [==============================] - 9s 84ms/step - loss: 1.6368 - accuracy: 0.8909 - val_loss: 2.6214 - val_accuracy: 0.7014\n",
            "Epoch 40/50\n",
            "112/112 [==============================] - 9s 83ms/step - loss: 1.6356 - accuracy: 0.8942 - val_loss: 2.7883 - val_accuracy: 0.6111\n",
            "Epoch 41/50\n",
            "112/112 [==============================] - 9s 83ms/step - loss: 1.5904 - accuracy: 0.9105 - val_loss: 2.5525 - val_accuracy: 0.6736\n",
            "Epoch 42/50\n",
            "112/112 [==============================] - 10s 91ms/step - loss: 1.5785 - accuracy: 0.9071 - val_loss: 2.4663 - val_accuracy: 0.6667\n",
            "Epoch 43/50\n",
            "112/112 [==============================] - 9s 82ms/step - loss: 1.5730 - accuracy: 0.9099 - val_loss: 2.6309 - val_accuracy: 0.6319\n",
            "Epoch 44/50\n",
            "112/112 [==============================] - 9s 83ms/step - loss: 1.5490 - accuracy: 0.9127 - val_loss: 2.4009 - val_accuracy: 0.6667\n",
            "Epoch 45/50\n",
            "112/112 [==============================] - 9s 83ms/step - loss: 1.5310 - accuracy: 0.9032 - val_loss: 2.6430 - val_accuracy: 0.6319\n",
            "Epoch 46/50\n",
            "112/112 [==============================] - 9s 84ms/step - loss: 1.5152 - accuracy: 0.9161 - val_loss: 2.4399 - val_accuracy: 0.6528\n",
            "Epoch 47/50\n",
            "112/112 [==============================] - 9s 84ms/step - loss: 1.5169 - accuracy: 0.9155 - val_loss: 2.5182 - val_accuracy: 0.6528\n",
            "Epoch 48/50\n",
            "112/112 [==============================] - 10s 85ms/step - loss: 1.4912 - accuracy: 0.9149 - val_loss: 2.5704 - val_accuracy: 0.6667\n",
            "Epoch 49/50\n",
            "112/112 [==============================] - 9s 85ms/step - loss: 1.5101 - accuracy: 0.9155 - val_loss: 2.6632 - val_accuracy: 0.6042\n",
            "Epoch 50/50\n",
            "112/112 [==============================] - 10s 93ms/step - loss: 1.4787 - accuracy: 0.9155 - val_loss: 2.9129 - val_accuracy: 0.5764\n",
            "Total execution time with PCA is:  0:08:15.061432\n"
          ]
        }
      ],
      "source": [
        "# START COUNTING THE TIME\n",
        "start = datetime.datetime.now()\n",
        "\n",
        "history_modelv04 = net_modelv04.fit(\n",
        "    train_generator,\n",
        "    steps_per_epoch = train_generator.n // train_generator.batch_size,\n",
        "    epochs=50,\n",
        "    validation_data = test_generator,\n",
        "    validation_steps = test_generator.n // test_generator.batch_size,\n",
        "    callbacks = [callback])\n",
        "\n",
        "# STOP COUNTING THE TIME\n",
        "end = datetime.datetime.now()\n",
        "print(\"Total execution time with PCA is: \", end-start)\n",
        "\n",
        "# model_keras.save_weights('first_try.h5')  # always save your weights after training or during training"
      ]
    },
    {
      "cell_type": "code",
      "execution_count": null,
      "metadata": {
        "id": "q1EWO0nLMNTi",
        "colab": {
          "base_uri": "https://localhost:8080/",
          "height": 300
        },
        "outputId": "23601d7a-c943-4b55-eb4e-db26ca64131c"
      },
      "outputs": [
        {
          "output_type": "display_data",
          "data": {
            "text/plain": [
              "<IPython.core.display.Javascript object>"
            ],
            "application/javascript": [
              "google.colab.output.setIframeHeight(0, true, {maxHeight: 300})"
            ]
          },
          "metadata": {}
        },
        {
          "output_type": "execute_result",
          "data": {
            "text/plain": [
              "<matplotlib.legend.Legend at 0x7fc62b16be90>"
            ]
          },
          "metadata": {},
          "execution_count": 47
        },
        {
          "output_type": "display_data",
          "data": {
            "text/plain": [
              "<Figure size 1080x432 with 2 Axes>"
            ],
            "image/png": "[encoded data removed]"
          },
          "metadata": {
            "needs_background": "light"
          }
        }
      ],
      "source": [
        "# PLOT THEM TOGETHER\n",
        "# Visualization of the learning curves\n",
        "plt.figure(figsize=(15,6))\n",
        "\n",
        "# VISUALIZZIAMO NUOVAMENTE L'OUTPUT IN TERMINI DI LOSS FUNCTION\n",
        "plt.subplot(1, 2, 1)\n",
        "plt.plot(history_modelv04.history['loss'])\n",
        "plt.plot(history_modelv04.history['val_loss'])\n",
        "plt.ylim([0.0, 4.0]) # è difficile da dire a priori\n",
        "plt.xlabel('Epoch')\n",
        "plt.ylabel('Loss')\n",
        "plt.legend(['train', 'valid'])\n",
        "\n",
        "plt.subplot(1, 2, 2)\n",
        "plt.plot(history_modelv04.history['accuracy'])\n",
        "plt.plot(history_modelv04.history['val_accuracy'])\n",
        "plt.ylim([0.0, 1.0]) # 0.5 è il minimo sindacale - dummy classifier fa 50% - fino al massimo 1. \n",
        "plt.xlabel('Epoch')\n",
        "plt.ylabel('Accuracy')\n",
        "plt.legend(['train', 'valid'])"
      ]
    },
    {
      "cell_type": "markdown",
      "source": [
        "#### Results Model V04"
      ],
      "metadata": {
        "id": "s7oyHL5h6hfz"
      }
    },
    {
      "cell_type": "markdown",
      "source": [],
      "metadata": {
        "id": "46k0p6lm6jV6"
      }
    },
    {
      "cell_type": "code",
      "source": [
        "# GET THE MINIMUM ACCURACY, THE MAXIMUM ACCURACY, THE MINIMUM LOSS, THE MAXIMUM LOSS AND SAVE THEM IN VARIABLES.\n",
        "# THEN CREATE A DATAFRAME AT THE END WHERE YOU CAN COMPARE DIFFERENT MODELS WITH IT!\n",
        "\n",
        "# LOSS/VAL LOSS\n",
        "modelV04_minLoss = min(history_modelv04.history['loss'])\n",
        "modelV04_maxLoss = max(history_modelv04.history['loss'])\n",
        "modelV04_minValLoss = min(history_modelv04.history['val_loss'])\n",
        "modelV04_maxValLoss = max(history_modelv04.history['val_loss'])\n",
        "\n",
        "# ACCURACY/VAL ACCURACY\n",
        "modelV04_minAccuracy = min(history_modelv04.history['accuracy'])\n",
        "modelV04_maxAccuracy = max(history_modelv04.history['accuracy'])\n",
        "modelV04_minValAccuracy = min(history_modelv04.history['val_accuracy'])\n",
        "modelV04_maxValAccuracy = max(history_modelv04.history['val_accuracy'])\n",
        "\n",
        "# CREATE THE DATAFRAME\n",
        "modelV04_loss_accuracy = pd.DataFrame({\"minLoss\": [modelV04_minLoss],\n",
        "                                       \"maxloss\": [modelV04_maxLoss],\n",
        "                                       \"minValLoss\": [modelV04_minValLoss],\n",
        "                                       \"maxValLoss\": [modelV04_maxValLoss],\n",
        "                                       \"minAccuracy\": [modelV04_minAccuracy],\n",
        "                                       \"maxAccuracy\": [modelV04_maxAccuracy],\n",
        "                                       \"minValAccuracy\": [modelV04_minValAccuracy],\n",
        "                                       \"maxValAccuracy\": [modelV04_maxValAccuracy]}).T\n",
        "\n",
        "# CHANGE THE FIRST COLUMN NAME\n",
        "modelV04_loss_accuracy = modelV04_loss_accuracy.rename(columns={0: 'modelV04'})\n",
        "# CHANGE THE INDEX NAME\n",
        "modelV04_loss_accuracy.index.names = ['Performance']\n",
        "modelV04_loss_accuracy"
      ],
      "metadata": {
        "colab": {
          "base_uri": "https://localhost:8080/",
          "height": 300
        },
        "id": "dc2i5Z8NqYbx",
        "outputId": "378393ee-0f2c-4983-8846-ea5109c5363f"
      },
      "execution_count": null,
      "outputs": [
        {
          "output_type": "display_data",
          "data": {
            "text/plain": [
              "<IPython.core.display.Javascript object>"
            ],
            "application/javascript": [
              "google.colab.output.setIframeHeight(0, true, {maxHeight: 300})"
            ]
          },
          "metadata": {}
        },
        {
          "output_type": "execute_result",
          "data": {
            "text/plain": [
              "                modelV04\n",
              "Performance             \n",
              "minLoss         1.478675\n",
              "maxloss         4.605874\n",
              "minValLoss      2.400862\n",
              "maxValLoss      4.667253\n",
              "minAccuracy     0.317851\n",
              "maxAccuracy     0.916060\n",
              "minValAccuracy  0.173611\n",
              "maxValAccuracy  0.701389"
            ],
            "text/html": [
              "\n",
              "  <div id=\"df-95b6e0ef-2af0-496c-af6d-089bc3ab52d2\">\n",
              "    <div class=\"colab-df-container\">\n",
              "      <div>\n",
              "<style scoped>\n",
              "    .dataframe tbody tr th:only-of-type {\n",
              "        vertical-align: middle;\n",
              "    }\n",
              "\n",
              "    .dataframe tbody tr th {\n",
              "        vertical-align: top;\n",
              "    }\n",
              "\n",
              "    .dataframe thead th {\n",
              "        text-align: right;\n",
              "    }\n",
              "</style>\n",
              "<table border=\"1\" class=\"dataframe\">\n",
              "  <thead>\n",
              "    <tr style=\"text-align: right;\">\n",
              "      <th></th>\n",
              "      <th>modelV04</th>\n",
              "    </tr>\n",
              "    <tr>\n",
              "      <th>Performance</th>\n",
              "      <th></th>\n",
              "    </tr>\n",
              "  </thead>\n",
              "  <tbody>\n",
              "    <tr>\n",
              "      <th>minLoss</th>\n",
              "      <td>1.478675</td>\n",
              "    </tr>\n",
              "    <tr>\n",
              "      <th>maxloss</th>\n",
              "      <td>4.605874</td>\n",
              "    </tr>\n",
              "    <tr>\n",
              "      <th>minValLoss</th>\n",
              "      <td>2.400862</td>\n",
              "    </tr>\n",
              "    <tr>\n",
              "      <th>maxValLoss</th>\n",
              "      <td>4.667253</td>\n",
              "    </tr>\n",
              "    <tr>\n",
              "      <th>minAccuracy</th>\n",
              "      <td>0.317851</td>\n",
              "    </tr>\n",
              "    <tr>\n",
              "      <th>maxAccuracy</th>\n",
              "      <td>0.916060</td>\n",
              "    </tr>\n",
              "    <tr>\n",
              "      <th>minValAccuracy</th>\n",
              "      <td>0.173611</td>\n",
              "    </tr>\n",
              "    <tr>\n",
              "      <th>maxValAccuracy</th>\n",
              "      <td>0.701389</td>\n",
              "    </tr>\n",
              "  </tbody>\n",
              "</table>\n",
              "</div>\n",
              "      <button class=\"colab-df-convert\" onclick=\"convertToInteractive('df-95b6e0ef-2af0-496c-af6d-089bc3ab52d2')\"\n",
              "              title=\"Convert this dataframe to an interactive table.\"\n",
              "              style=\"display:none;\">\n",
              "        \n",
              "  <svg xmlns=\"http://www.w3.org/2000/svg\" height=\"24px\"viewBox=\"0 0 24 24\"\n",
              "       width=\"24px\">\n",
              "    <path d=\"M0 0h24v24H0V0z\" fill=\"none\"/>\n",
              "    <path d=\"M18.56 5.44l.94 2.06.94-2.06 2.06-.94-2.06-.94-.94-2.06-.94 2.06-2.06.94zm-11 1L8.5 8.5l.94-2.06 2.06-.94-2.06-.94L8.5 2.5l-.94 2.06-2.06.94zm10 10l.94 2.06.94-2.06 2.06-.94-2.06-.94-.94-2.06-.94 2.06-2.06.94z\"/><path d=\"M17.41 7.96l-1.37-1.37c-.4-.4-.92-.59-1.43-.59-.52 0-1.04.2-1.43.59L10.3 9.45l-7.72 7.72c-.78.78-.78 2.05 0 2.83L4 21.41c.39.39.9.59 1.41.59.51 0 1.02-.2 1.41-.59l7.78-7.78 2.81-2.81c.8-.78.8-2.07 0-2.86zM5.41 20L4 18.59l7.72-7.72 1.47 1.35L5.41 20z\"/>\n",
              "  </svg>\n",
              "      </button>\n",
              "      \n",
              "  <style>\n",
              "    .colab-df-container {\n",
              "      display:flex;\n",
              "      flex-wrap:wrap;\n",
              "      gap: 12px;\n",
              "    }\n",
              "\n",
              "    .colab-df-convert {\n",
              "      background-color: #E8F0FE;\n",
              "      border: none;\n",
              "      border-radius: 50%;\n",
              "      cursor: pointer;\n",
              "      display: none;\n",
              "      fill: #1967D2;\n",
              "      height: 32px;\n",
              "      padding: 0 0 0 0;\n",
              "      width: 32px;\n",
              "    }\n",
              "\n",
              "    .colab-df-convert:hover {\n",
              "      background-color: #E2EBFA;\n",
              "      box-shadow: 0px 1px 2px rgba(60, 64, 67, 0.3), 0px 1px 3px 1px rgba(60, 64, 67, 0.15);\n",
              "      fill: #174EA6;\n",
              "    }\n",
              "\n",
              "    [theme=dark] .colab-df-convert {\n",
              "      background-color: #3B4455;\n",
              "      fill: #D2E3FC;\n",
              "    }\n",
              "\n",
              "    [theme=dark] .colab-df-convert:hover {\n",
              "      background-color: #434B5C;\n",
              "      box-shadow: 0px 1px 3px 1px rgba(0, 0, 0, 0.15);\n",
              "      filter: drop-shadow(0px 1px 2px rgba(0, 0, 0, 0.3));\n",
              "      fill: #FFFFFF;\n",
              "    }\n",
              "  </style>\n",
              "\n",
              "      <script>\n",
              "        const buttonEl =\n",
              "          document.querySelector('#df-95b6e0ef-2af0-496c-af6d-089bc3ab52d2 button.colab-df-convert');\n",
              "        buttonEl.style.display =\n",
              "          google.colab.kernel.accessAllowed ? 'block' : 'none';\n",
              "\n",
              "        async function convertToInteractive(key) {\n",
              "          const element = document.querySelector('#df-95b6e0ef-2af0-496c-af6d-089bc3ab52d2');\n",
              "          const dataTable =\n",
              "            await google.colab.kernel.invokeFunction('convertToInteractive',\n",
              "                                                     [key], {});\n",
              "          if (!dataTable) return;\n",
              "\n",
              "          const docLinkHtml = 'Like what you see? Visit the ' +\n",
              "            '<a target=\"_blank\" href=https://colab.research.google.com/notebooks/data_table.ipynb>data table notebook</a>'\n",
              "            + ' to learn more about interactive tables.';\n",
              "          element.innerHTML = '';\n",
              "          dataTable['output_type'] = 'display_data';\n",
              "          await google.colab.output.renderOutput(dataTable, element);\n",
              "          const docLink = document.createElement('div');\n",
              "          docLink.innerHTML = docLinkHtml;\n",
              "          element.appendChild(docLink);\n",
              "        }\n",
              "      </script>\n",
              "    </div>\n",
              "  </div>\n",
              "  "
            ]
          },
          "metadata": {},
          "execution_count": 49
        }
      ]
    },
    {
      "cell_type": "code",
      "source": [
        "# SAVE THE MODEL V04\n",
        "keras_file_modelV04 = \"/content/gdrive/MyDrive/Data_Science_2020-2022/Secondo_anno_Secondo_Semestre/FoDL_Project/Project_Example_Food/saved_models/modelV04.h5\"\n",
        "tf.keras.models.save_model(net_modelv04, keras_file_modelV04) # MODIFY MODEL WITH YOUR OWN MODEL"
      ],
      "metadata": {
        "id": "-uEjxGAMroGC",
        "colab": {
          "base_uri": "https://localhost:8080/",
          "height": 17
        },
        "outputId": "c0e94afc-d907-4822-da95-8b481a7cb83f"
      },
      "execution_count": null,
      "outputs": [
        {
          "output_type": "display_data",
          "data": {
            "text/plain": [
              "<IPython.core.display.Javascript object>"
            ],
            "application/javascript": [
              "google.colab.output.setIframeHeight(0, true, {maxHeight: 300})"
            ]
          },
          "metadata": {}
        }
      ]
    },
    {
      "cell_type": "markdown",
      "metadata": {
        "id": "Ju16ckfof-LB"
      },
      "source": [
        "### 5.1.6 Model V06 - GRIDSEARCH"
      ]
    },
    {
      "cell_type": "markdown",
      "source": [
        "Ottima spiegazione:\n",
        "\n",
        "- https://stackoverflow.com/questions/49160206/does-gridsearchcv-perform-cross-validation\n",
        "\n",
        "- https://machinelearningmastery.com/dropout-regularization-deep-learning-models-keras/#:~:text=Using%20Dropout%20on%20Hidden%20Layers,layer%20and%20the%20output%20layer."
      ],
      "metadata": {
        "id": "jjqsxoZAkpEU"
      }
    },
    {
      "cell_type": "markdown",
      "metadata": {
        "id": "iQFzqCcS4lOT"
      },
      "source": [
        "Non stare ad applicare anche la cross validation, ma fai direttamente GRIDSEARCHCV che tiene in consideraziona ANCHE la cross validation!\n",
        "\n",
        "Attenzione: \"As you proceed through the examples in this post, you will aggregate the best parameters. This is not the best way to grid search because parameters can interact, but it is good for demonstration purposes.\" Based on this comment, you should create a single hypertuning parameter model because the parameters can interact between each others. O, altrimenti, potresti anche provarli uno per uno e poi spiegare che lßappendimento era troppo lungo per poter essere processato in una volta sola in Colab perche la macchina si disconnetteva (ci sono soluzioni a parte pagare?) "
      ]
    },
    {
      "cell_type": "markdown",
      "metadata": {
        "id": "kLwUBkU15aKq"
      },
      "source": [
        "#### Parameters tuning"
      ]
    },
    {
      "cell_type": "code",
      "execution_count": null,
      "metadata": {
        "colab": {
          "base_uri": "https://localhost:8080/",
          "height": 34
        },
        "id": "BELXoc4S_XAJ",
        "outputId": "ece90a2c-744d-45de-b744-8a986ca4f3ab"
      },
      "outputs": [
        {
          "output_type": "display_data",
          "data": {
            "text/plain": [
              "<IPython.core.display.Javascript object>"
            ],
            "application/javascript": [
              "google.colab.output.setIframeHeight(0, true, {maxHeight: 300})"
            ]
          },
          "metadata": {}
        },
        {
          "output_type": "stream",
          "name": "stdout",
          "text": [
            "Found 1803 images belonging to 9 classes.\n"
          ]
        }
      ],
      "source": [
        "# USE THE FLOW FROM DIRECTORY ONLY FOR THE TRAIN BECAUSE THE GRIDSEARCHCV METHOD\n",
        "# WILL CREATE ITS OWN TEST SET\n",
        "itr = train_datagen.flow_from_directory(\n",
        "    base_path_train,\n",
        "    target_size=(SIZE,SIZE),\n",
        "    batch_size=1803, # you flow through the entire training dataset and get all the images, using just one batch size!\n",
        "    class_mode='categorical')\n",
        "\n",
        "X, y = itr.next()"
      ]
    },
    {
      "cell_type": "markdown",
      "metadata": {
        "id": "wboKoJY9BsOP"
      },
      "source": [
        "- https://stackoverflow.com/questions/42284873/assign-imagedatagenerator-result-to-numpy-array"
      ]
    },
    {
      "cell_type": "markdown",
      "source": [
        "**mantain this function in the same way as it is. the other architectures are ok like you have already done!**"
      ],
      "metadata": {
        "id": "MWl0D0JW7C2h"
      }
    },
    {
      "cell_type": "code",
      "source": [
        "def create_GSCV_model(lr= 0.1, \n",
        "                      init_mode=\"he_uniform\", \n",
        "                      activation = 'relu', \n",
        "                      dropout_rate= 0.0, \n",
        "                      optimizer = 'Adam'):\n",
        "  \n",
        "  model_gridsearchCV = tf.keras.models.Sequential([\n",
        "  keras.Input((SIZE, SIZE, 3)),\n",
        "\n",
        "  # 1st Conv Block\n",
        "  keras.layers.Conv2D(32, 3, padding=\"same\", kernel_initializer=\"he_uniform\", kernel_regularizer=tf.keras.regularizers.l2(0.001)),\n",
        "  keras.layers.BatchNormalization(),\n",
        "  keras.layers.Activation('relu'),\n",
        "  keras.layers.MaxPooling2D(3, strides=3, padding=\"same\"),\n",
        "\n",
        "  # 2nd Conv Block\n",
        "  keras.layers.Conv2D(32, 3, padding=\"same\", kernel_initializer=\"he_uniform\", kernel_regularizer=tf.keras.regularizers.l2(0.001)),\n",
        "  keras.layers.BatchNormalization(),\n",
        "  keras.layers.Activation('relu'),\n",
        "  keras.layers.MaxPooling2D(3, strides=3, padding=\"same\"),\n",
        "\n",
        "  # 3rd Conv block\n",
        "  keras.layers.Conv2D(64, 3, padding=\"same\", kernel_initializer=\"he_uniform\", kernel_regularizer=tf.keras.regularizers.l2(0.001)),\n",
        "  keras.layers.BatchNormalization(),\n",
        "  keras.layers.Activation('relu'),\n",
        "  keras.layers.MaxPooling2D(3, strides=3, padding=\"same\"),\n",
        "\n",
        "  # 4rd Conv block\n",
        "  keras.layers.Conv2D(64, 3, padding=\"same\", kernel_initializer=\"he_uniform\", kernel_regularizer=tf.keras.regularizers.l2(0.001)),\n",
        "  keras.layers.BatchNormalization(),\n",
        "  keras.layers.Activation('relu'),\n",
        "  keras.layers.MaxPooling2D(3, strides=3, padding=\"same\"),\n",
        "\n",
        "  # 5th Conv block\n",
        "  keras.layers.Conv2D(128, 3, padding=\"same\", kernel_initializer=\"he_uniform\", kernel_regularizer=tf.keras.regularizers.l2(0.001)),\n",
        "  keras.layers.BatchNormalization(),\n",
        "  keras.layers.Activation('relu'),\n",
        "  keras.layers.MaxPooling2D(3, strides=3, padding=\"same\"),\n",
        "\n",
        "  # 6th Conv block\n",
        "  keras.layers.Conv2D(128, 3, padding=\"same\", kernel_initializer=\"he_uniform\", kernel_regularizer=tf.keras.regularizers.l2(0.001)),\n",
        "  keras.layers.BatchNormalization(),\n",
        "  keras.layers.Activation('relu'),\n",
        "  keras.layers.MaxPooling2D(3, strides=3, padding=\"same\"),\n",
        "\n",
        "  # 7th Conv block\n",
        "  keras.layers.Conv2D(512, 3, padding=\"same\", kernel_initializer=\"he_uniform\", kernel_regularizer=tf.keras.regularizers.l2(0.001)),\n",
        "  keras.layers.BatchNormalization(),\n",
        "  keras.layers.Activation('relu'),\n",
        "\n",
        "  # the model so far outputs 3D feature maps (height, width, features)\n",
        "\n",
        "  # FLATTEN AND ADD DROPOUT\n",
        "  keras.layers.Flatten(), # this converts our 3D feature maps to 1D feature vectors\n",
        "  keras.layers.Dropout(0.20),\n",
        "  keras.layers.Dense(512, activation='relu', kernel_regularizer=tf.keras.regularizers.l2(0.001)),\n",
        "  keras.layers.Dense(512, activation='relu', kernel_regularizer=tf.keras.regularizers.l2(0.001)),\n",
        "\n",
        "  keras.layers.Dense(num_classes, activation=\"softmax\", kernel_regularizer=tf.keras.regularizers.l2(0.001))\n",
        "  ])\n",
        "\n",
        "  # COMPILE THE MODEL\n",
        "  model_gridsearchCV.compile(loss=keras.losses.categorical_crossentropy,\n",
        "                             optimizer= keras.optimizers.Adam(learning_rate=lr),\n",
        "                             metrics=['accuracy'],\n",
        "                             steps_per_execution=5)\n",
        "\n",
        "  return model_gridsearchCV\n",
        "\n",
        "create_GSCV_model().summary()"
      ],
      "metadata": {
        "id": "3iz4m59_Sn1z",
        "colab": {
          "base_uri": "https://localhost:8080/",
          "height": 300
        },
        "outputId": "af9086c8-43fa-4636-9143-284da9811235"
      },
      "execution_count": null,
      "outputs": [
        {
          "output_type": "display_data",
          "data": {
            "text/plain": [
              "<IPython.core.display.Javascript object>"
            ],
            "application/javascript": [
              "google.colab.output.setIframeHeight(0, true, {maxHeight: 300})"
            ]
          },
          "metadata": {}
        },
        {
          "output_type": "stream",
          "name": "stdout",
          "text": [
            "Model: \"sequential_2\"\n",
            "_________________________________________________________________\n",
            " Layer (type)                Output Shape              Param #   \n",
            "=================================================================\n",
            " conv2d_33 (Conv2D)          (None, 96, 96, 32)        896       \n",
            "                                                                 \n",
            " batch_normalization_33 (Bat  (None, 96, 96, 32)       128       \n",
            " chNormalization)                                                \n",
            "                                                                 \n",
            " activation_36 (Activation)  (None, 96, 96, 32)        0         \n",
            "                                                                 \n",
            " max_pooling2d_28 (MaxPoolin  (None, 32, 32, 32)       0         \n",
            " g2D)                                                            \n",
            "                                                                 \n",
            " conv2d_34 (Conv2D)          (None, 32, 32, 32)        9248      \n",
            "                                                                 \n",
            " batch_normalization_34 (Bat  (None, 32, 32, 32)       128       \n",
            " chNormalization)                                                \n",
            "                                                                 \n",
            " activation_37 (Activation)  (None, 32, 32, 32)        0         \n",
            "                                                                 \n",
            " max_pooling2d_29 (MaxPoolin  (None, 11, 11, 32)       0         \n",
            " g2D)                                                            \n",
            "                                                                 \n",
            " conv2d_35 (Conv2D)          (None, 11, 11, 64)        18496     \n",
            "                                                                 \n",
            " batch_normalization_35 (Bat  (None, 11, 11, 64)       256       \n",
            " chNormalization)                                                \n",
            "                                                                 \n",
            " activation_38 (Activation)  (None, 11, 11, 64)        0         \n",
            "                                                                 \n",
            " max_pooling2d_30 (MaxPoolin  (None, 4, 4, 64)         0         \n",
            " g2D)                                                            \n",
            "                                                                 \n",
            " conv2d_36 (Conv2D)          (None, 4, 4, 64)          36928     \n",
            "                                                                 \n",
            " batch_normalization_36 (Bat  (None, 4, 4, 64)         256       \n",
            " chNormalization)                                                \n",
            "                                                                 \n",
            " activation_39 (Activation)  (None, 4, 4, 64)          0         \n",
            "                                                                 \n",
            " max_pooling2d_31 (MaxPoolin  (None, 2, 2, 64)         0         \n",
            " g2D)                                                            \n",
            "                                                                 \n",
            " conv2d_37 (Conv2D)          (None, 2, 2, 128)         73856     \n",
            "                                                                 \n",
            " batch_normalization_37 (Bat  (None, 2, 2, 128)        512       \n",
            " chNormalization)                                                \n",
            "                                                                 \n",
            " activation_40 (Activation)  (None, 2, 2, 128)         0         \n",
            "                                                                 \n",
            " max_pooling2d_32 (MaxPoolin  (None, 1, 1, 128)        0         \n",
            " g2D)                                                            \n",
            "                                                                 \n",
            " conv2d_38 (Conv2D)          (None, 1, 1, 128)         147584    \n",
            "                                                                 \n",
            " batch_normalization_38 (Bat  (None, 1, 1, 128)        512       \n",
            " chNormalization)                                                \n",
            "                                                                 \n",
            " activation_41 (Activation)  (None, 1, 1, 128)         0         \n",
            "                                                                 \n",
            " max_pooling2d_33 (MaxPoolin  (None, 1, 1, 128)        0         \n",
            " g2D)                                                            \n",
            "                                                                 \n",
            " conv2d_39 (Conv2D)          (None, 1, 1, 512)         590336    \n",
            "                                                                 \n",
            " batch_normalization_39 (Bat  (None, 1, 1, 512)        2048      \n",
            " chNormalization)                                                \n",
            "                                                                 \n",
            " activation_42 (Activation)  (None, 1, 1, 512)         0         \n",
            "                                                                 \n",
            " flatten_5 (Flatten)         (None, 512)               0         \n",
            "                                                                 \n",
            " dropout_5 (Dropout)         (None, 512)               0         \n",
            "                                                                 \n",
            " dense_16 (Dense)            (None, 512)               262656    \n",
            "                                                                 \n",
            " dense_17 (Dense)            (None, 512)               262656    \n",
            "                                                                 \n",
            " dense_18 (Dense)            (None, 9)                 4617      \n",
            "                                                                 \n",
            "=================================================================\n",
            "Total params: 1,411,113\n",
            "Trainable params: 1,409,193\n",
            "Non-trainable params: 1,920\n",
            "_________________________________________________________________\n"
          ]
        }
      ]
    },
    {
      "cell_type": "code",
      "execution_count": null,
      "metadata": {
        "id": "yGXft6JSNXhi",
        "colab": {
          "base_uri": "https://localhost:8080/",
          "height": 17
        },
        "outputId": "8e0cee62-282a-40df-b2c2-74089a6eafa1"
      },
      "outputs": [
        {
          "output_type": "display_data",
          "data": {
            "text/plain": [
              "<IPython.core.display.Javascript object>"
            ],
            "application/javascript": [
              "google.colab.output.setIframeHeight(0, true, {maxHeight: 300})"
            ]
          },
          "metadata": {}
        }
      ],
      "source": [
        "# CREATE THE MODEL\n",
        "# model_gridsearchcv = KerasClassifier(model=model_gridsearchCV, epochs=20, verbose=10)\n",
        "model_gridsearchcv = KerasClassifier(model = create_GSCV_model, # model = create_GSCV_model(), \n",
        "                                     epochs = 30,  \n",
        "                                     lr = 0.1,\n",
        "                                     verbose = 10,\n",
        "                                     activation = 'relu',\n",
        "                                     optimizer='Adam')"
      ]
    },
    {
      "cell_type": "markdown",
      "source": [
        "**COPIA QUANTO FATTO NELL'ALTRO NOTEBOOK PER QUESTA PARTE!**"
      ],
      "metadata": {
        "id": "21jGnH6ZVSz1"
      }
    },
    {
      "cell_type": "code",
      "execution_count": null,
      "metadata": {
        "id": "o0mquIXLDaWQ",
        "colab": {
          "base_uri": "https://localhost:8080/",
          "height": 156
        },
        "outputId": "4057ac31-47c3-430b-ebe7-c018f2fb672e"
      },
      "outputs": [
        {
          "output_type": "display_data",
          "data": {
            "text/plain": [
              "<IPython.core.display.Javascript object>"
            ],
            "application/javascript": [
              "google.colab.output.setIframeHeight(0, true, {maxHeight: 300})"
            ]
          },
          "metadata": {}
        },
        {
          "output_type": "execute_result",
          "data": {
            "text/plain": [
              "RandomizedSearchCV(cv=3, error_score='raise',\n",
              "                   estimator=KerasClassifier(activation='relu', epochs=30, lr=0.1, model=<function create_GSCV_model at 0x7fc628214710>, optimizer='Adam', verbose=10),\n",
              "                   n_iter=32, n_jobs=1,\n",
              "                   param_distributions={'activation': ['relu', 'LeakyRelu'],\n",
              "                                        'batch_size': [16, 32],\n",
              "                                        'lr': [0.1, 0.01, 0.001, 0.0001],\n",
              "                                        'optimizer': ['SGD', 'Adam']})"
            ]
          },
          "metadata": {},
          "execution_count": 58
        }
      ],
      "source": [
        "# DEFINE THE GRID SEARCH PARAMETERS\n",
        "batch_size = [16, 32]\n",
        "optimizer = ['SGD', 'Adam']\n",
        "lr = [0.1, 0.01, 0.001, 0.0001]\n",
        "activation = ['relu', 'LeakyRelu']\n",
        "\n",
        "param_grid_CV = {\n",
        "    'batch_size': batch_size,\n",
        "    'optimizer': optimizer,\n",
        "    'lr': lr,\n",
        "    'activation': activation\n",
        "}\n",
        "\n",
        "# DEFINE THE GRIDSEARCHCV METHOD\n",
        "# grid_cv = GridSearchCV(estimator=model_gridsearchcv, param_grid=param_grid, n_jobs = 1, cv=3, error_score=\"raise\")\n",
        "n_iter_search = 32 \n",
        "grid_cv = RandomizedSearchCV(estimator = model_gridsearchcv, \n",
        "                             param_distributions = param_grid_CV, \n",
        "                             n_jobs = 1,\n",
        "                             n_iter=n_iter_search,\n",
        "                             cv = 3, \n",
        "                             error_score = \"raise\")\n",
        "\n",
        "grid_cv"
      ]
    },
    {
      "cell_type": "code",
      "execution_count": null,
      "metadata": {
        "id": "feNsV7HZDf41",
        "colab": {
          "base_uri": "https://localhost:8080/",
          "height": 300
        },
        "outputId": "0d163931-3ba1-433d-ea8c-03f80fdd86fb"
      },
      "outputs": [
        {
          "output_type": "display_data",
          "data": {
            "text/plain": [
              "<IPython.core.display.Javascript object>"
            ],
            "application/javascript": [
              "google.colab.output.setIframeHeight(0, true, {maxHeight: 300})"
            ]
          },
          "metadata": {}
        },
        {
          "output_type": "stream",
          "name": "stdout",
          "text": [
            "Epoch 1/30\n",
            "Epoch 2/30\n",
            "Epoch 3/30\n",
            "Epoch 4/30\n",
            "Epoch 5/30\n",
            "Epoch 6/30\n",
            "Epoch 7/30\n",
            "Epoch 8/30\n",
            "Epoch 9/30\n",
            "Epoch 10/30\n",
            "Epoch 11/30\n",
            "Epoch 12/30\n",
            "Epoch 13/30\n",
            "Epoch 14/30\n",
            "Epoch 15/30\n",
            "Epoch 16/30\n",
            "Epoch 17/30\n",
            "Epoch 18/30\n",
            "Epoch 19/30\n",
            "Epoch 20/30\n",
            "Epoch 21/30\n",
            "Epoch 22/30\n",
            "Epoch 23/30\n",
            "Epoch 24/30\n",
            "Epoch 25/30\n",
            "Epoch 26/30\n",
            "Epoch 27/30\n",
            "Epoch 28/30\n",
            "Epoch 29/30\n",
            "Epoch 30/30\n",
            "Epoch 1/30\n",
            "Epoch 2/30\n",
            "Epoch 3/30\n",
            "Epoch 4/30\n",
            "Epoch 5/30\n",
            "Epoch 6/30\n",
            "Epoch 7/30\n",
            "Epoch 8/30\n",
            "Epoch 9/30\n",
            "Epoch 10/30\n",
            "Epoch 11/30\n",
            "Epoch 12/30\n",
            "Epoch 13/30\n",
            "Epoch 14/30\n",
            "Epoch 15/30\n",
            "Epoch 16/30\n",
            "Epoch 17/30\n",
            "Epoch 18/30\n",
            "Epoch 19/30\n",
            "Epoch 20/30\n",
            "Epoch 21/30\n",
            "Epoch 22/30\n",
            "Epoch 23/30\n",
            "Epoch 24/30\n",
            "Epoch 25/30\n",
            "Epoch 26/30\n",
            "Epoch 27/30\n",
            "Epoch 28/30\n",
            "Epoch 29/30\n",
            "Epoch 30/30\n",
            "Epoch 1/30\n",
            "Epoch 2/30\n",
            "Epoch 3/30\n",
            "Epoch 4/30\n",
            "Epoch 5/30\n",
            "Epoch 6/30\n",
            "Epoch 7/30\n",
            "Epoch 8/30\n",
            "Epoch 9/30\n",
            "Epoch 10/30\n",
            "Epoch 11/30\n",
            "Epoch 12/30\n",
            "Epoch 13/30\n",
            "Epoch 14/30\n",
            "Epoch 15/30\n",
            "Epoch 16/30\n",
            "Epoch 17/30\n",
            "Epoch 18/30\n",
            "Epoch 19/30\n",
            "Epoch 20/30\n",
            "Epoch 21/30\n",
            "Epoch 22/30\n",
            "Epoch 23/30\n",
            "Epoch 24/30\n",
            "Epoch 25/30\n",
            "Epoch 26/30\n",
            "Epoch 27/30\n",
            "Epoch 28/30\n",
            "Epoch 29/30\n",
            "Epoch 30/30\n",
            "Epoch 1/30\n",
            "Epoch 2/30\n",
            "Epoch 3/30\n",
            "Epoch 4/30\n",
            "Epoch 5/30\n",
            "Epoch 6/30\n",
            "Epoch 7/30\n",
            "Epoch 8/30\n",
            "Epoch 9/30\n",
            "Epoch 10/30\n",
            "Epoch 11/30\n",
            "Epoch 12/30\n",
            "Epoch 13/30\n",
            "Epoch 14/30\n",
            "Epoch 15/30\n",
            "Epoch 16/30\n",
            "Epoch 17/30\n",
            "Epoch 18/30\n",
            "Epoch 19/30\n",
            "Epoch 20/30\n",
            "Epoch 21/30\n",
            "Epoch 22/30\n",
            "Epoch 23/30\n",
            "Epoch 24/30\n",
            "Epoch 25/30\n",
            "Epoch 26/30\n",
            "Epoch 27/30\n",
            "Epoch 28/30\n",
            "Epoch 29/30\n",
            "Epoch 30/30\n",
            "Epoch 1/30\n",
            "Epoch 2/30\n",
            "Epoch 3/30\n",
            "Epoch 4/30\n",
            "Epoch 5/30\n",
            "Epoch 6/30\n",
            "Epoch 7/30\n",
            "Epoch 8/30\n",
            "Epoch 9/30\n",
            "Epoch 10/30\n",
            "Epoch 11/30\n",
            "Epoch 12/30\n",
            "Epoch 13/30\n",
            "Epoch 14/30\n",
            "Epoch 15/30\n",
            "Epoch 16/30\n",
            "Epoch 17/30\n",
            "Epoch 18/30\n",
            "Epoch 19/30\n",
            "Epoch 20/30\n",
            "Epoch 21/30\n",
            "Epoch 22/30\n",
            "Epoch 23/30\n",
            "Epoch 24/30\n",
            "Epoch 25/30\n",
            "Epoch 26/30\n",
            "Epoch 27/30\n",
            "Epoch 28/30\n",
            "Epoch 29/30\n",
            "Epoch 30/30\n",
            "Epoch 1/30\n",
            "Epoch 2/30\n",
            "Epoch 3/30\n",
            "Epoch 4/30\n",
            "Epoch 5/30\n",
            "Epoch 6/30\n",
            "Epoch 7/30\n",
            "Epoch 8/30\n",
            "Epoch 9/30\n",
            "Epoch 10/30\n",
            "Epoch 11/30\n",
            "Epoch 12/30\n",
            "Epoch 13/30\n",
            "Epoch 14/30\n",
            "Epoch 15/30\n",
            "Epoch 16/30\n",
            "Epoch 17/30\n",
            "Epoch 18/30\n",
            "Epoch 19/30\n",
            "Epoch 20/30\n",
            "Epoch 21/30\n",
            "Epoch 22/30\n",
            "Epoch 23/30\n",
            "Epoch 24/30\n",
            "Epoch 25/30\n",
            "Epoch 26/30\n",
            "Epoch 27/30\n",
            "Epoch 28/30\n",
            "Epoch 29/30\n",
            "Epoch 30/30\n",
            "Epoch 1/30\n",
            "Epoch 2/30\n",
            "Epoch 3/30\n",
            "Epoch 4/30\n",
            "Epoch 5/30\n",
            "Epoch 6/30\n",
            "Epoch 7/30\n",
            "Epoch 8/30\n",
            "Epoch 9/30\n",
            "Epoch 10/30\n",
            "Epoch 11/30\n",
            "Epoch 12/30\n",
            "Epoch 13/30\n",
            "Epoch 14/30\n",
            "Epoch 15/30\n",
            "Epoch 16/30\n",
            "Epoch 17/30\n",
            "Epoch 18/30\n",
            "Epoch 19/30\n",
            "Epoch 20/30\n",
            "Epoch 21/30\n",
            "Epoch 22/30\n",
            "Epoch 23/30\n",
            "Epoch 24/30\n",
            "Epoch 25/30\n",
            "Epoch 26/30\n",
            "Epoch 27/30\n",
            "Epoch 28/30\n",
            "Epoch 29/30\n",
            "Epoch 30/30\n",
            "Epoch 1/30\n",
            "Epoch 2/30\n",
            "Epoch 3/30\n",
            "Epoch 4/30\n",
            "Epoch 5/30\n",
            "Epoch 6/30\n",
            "Epoch 7/30\n",
            "Epoch 8/30\n",
            "Epoch 9/30\n",
            "Epoch 10/30\n",
            "Epoch 11/30\n",
            "Epoch 12/30\n",
            "Epoch 13/30\n",
            "Epoch 14/30\n",
            "Epoch 15/30\n",
            "Epoch 16/30\n",
            "Epoch 17/30\n",
            "Epoch 18/30\n",
            "Epoch 19/30\n",
            "Epoch 20/30\n",
            "Epoch 21/30\n",
            "Epoch 22/30\n",
            "Epoch 23/30\n",
            "Epoch 24/30\n",
            "Epoch 25/30\n",
            "Epoch 26/30\n",
            "Epoch 27/30\n",
            "Epoch 28/30\n",
            "Epoch 29/30\n",
            "Epoch 30/30\n",
            "Epoch 1/30\n",
            "Epoch 2/30\n",
            "Epoch 3/30\n",
            "Epoch 4/30\n",
            "Epoch 5/30\n",
            "Epoch 6/30\n",
            "Epoch 7/30\n",
            "Epoch 8/30\n",
            "Epoch 9/30\n",
            "Epoch 10/30\n",
            "Epoch 11/30\n",
            "Epoch 12/30\n",
            "Epoch 13/30\n",
            "Epoch 14/30\n",
            "Epoch 15/30\n",
            "Epoch 16/30\n",
            "Epoch 17/30\n",
            "Epoch 18/30\n",
            "Epoch 19/30\n",
            "Epoch 20/30\n",
            "Epoch 21/30\n",
            "Epoch 22/30\n",
            "Epoch 23/30\n",
            "Epoch 24/30\n",
            "Epoch 25/30\n",
            "Epoch 26/30\n",
            "Epoch 27/30\n",
            "Epoch 28/30\n",
            "Epoch 29/30\n",
            "Epoch 30/30\n",
            "Epoch 1/30\n",
            "Epoch 2/30\n",
            "Epoch 3/30\n",
            "Epoch 4/30\n",
            "Epoch 5/30\n",
            "Epoch 6/30\n",
            "Epoch 7/30\n",
            "Epoch 8/30\n",
            "Epoch 9/30\n",
            "Epoch 10/30\n",
            "Epoch 11/30\n",
            "Epoch 12/30\n",
            "Epoch 13/30\n",
            "Epoch 14/30\n",
            "Epoch 15/30\n",
            "Epoch 16/30\n",
            "Epoch 17/30\n",
            "Epoch 18/30\n",
            "Epoch 19/30\n",
            "Epoch 20/30\n",
            "Epoch 21/30\n",
            "Epoch 22/30\n",
            "Epoch 23/30\n",
            "Epoch 24/30\n",
            "Epoch 25/30\n",
            "Epoch 26/30\n",
            "Epoch 27/30\n",
            "Epoch 28/30\n",
            "Epoch 29/30\n",
            "Epoch 30/30\n",
            "Epoch 1/30\n",
            "Epoch 2/30\n",
            "Epoch 3/30\n",
            "Epoch 4/30\n",
            "Epoch 5/30\n",
            "Epoch 6/30\n",
            "Epoch 7/30\n",
            "Epoch 8/30\n",
            "Epoch 9/30\n",
            "Epoch 10/30\n",
            "Epoch 11/30\n",
            "Epoch 12/30\n",
            "Epoch 13/30\n",
            "Epoch 14/30\n",
            "Epoch 15/30\n",
            "Epoch 16/30\n",
            "Epoch 17/30\n",
            "Epoch 18/30\n",
            "Epoch 19/30\n",
            "Epoch 20/30\n",
            "Epoch 21/30\n",
            "Epoch 22/30\n",
            "Epoch 23/30\n",
            "Epoch 24/30\n",
            "Epoch 25/30\n",
            "Epoch 26/30\n",
            "Epoch 27/30\n",
            "Epoch 28/30\n",
            "Epoch 29/30\n",
            "Epoch 30/30\n",
            "Epoch 1/30\n",
            "Epoch 2/30\n",
            "Epoch 3/30\n",
            "Epoch 4/30\n",
            "Epoch 5/30\n",
            "Epoch 6/30\n",
            "Epoch 7/30\n",
            "Epoch 8/30\n",
            "Epoch 9/30\n",
            "Epoch 10/30\n",
            "Epoch 11/30\n",
            "Epoch 12/30\n",
            "Epoch 13/30\n",
            "Epoch 14/30\n",
            "Epoch 15/30\n",
            "Epoch 16/30\n",
            "Epoch 17/30\n",
            "Epoch 18/30\n",
            "Epoch 19/30\n",
            "Epoch 20/30\n",
            "Epoch 21/30\n",
            "Epoch 22/30\n",
            "Epoch 23/30\n",
            "Epoch 24/30\n",
            "Epoch 25/30\n",
            "Epoch 26/30\n",
            "Epoch 27/30\n",
            "Epoch 28/30\n",
            "Epoch 29/30\n",
            "Epoch 30/30\n",
            "Epoch 1/30\n",
            "Epoch 2/30\n",
            "Epoch 3/30\n",
            "Epoch 4/30\n",
            "Epoch 5/30\n",
            "Epoch 6/30\n",
            "Epoch 7/30\n",
            "Epoch 8/30\n",
            "Epoch 9/30\n",
            "Epoch 10/30\n",
            "Epoch 11/30\n",
            "Epoch 12/30\n",
            "Epoch 13/30\n",
            "Epoch 14/30\n",
            "Epoch 15/30\n",
            "Epoch 16/30\n",
            "Epoch 17/30\n",
            "Epoch 18/30\n",
            "Epoch 19/30\n",
            "Epoch 20/30\n",
            "Epoch 21/30\n",
            "Epoch 22/30\n",
            "Epoch 23/30\n",
            "Epoch 24/30\n",
            "Epoch 25/30\n",
            "Epoch 26/30\n",
            "Epoch 27/30\n",
            "Epoch 28/30\n",
            "Epoch 29/30\n",
            "Epoch 30/30\n",
            "Epoch 1/30\n",
            "Epoch 2/30\n",
            "Epoch 3/30\n",
            "Epoch 4/30\n",
            "Epoch 5/30\n",
            "Epoch 6/30\n",
            "Epoch 7/30\n",
            "Epoch 8/30\n",
            "Epoch 9/30\n",
            "Epoch 10/30\n",
            "Epoch 11/30\n",
            "Epoch 12/30\n",
            "Epoch 13/30\n",
            "Epoch 14/30\n",
            "Epoch 15/30\n",
            "Epoch 16/30\n",
            "Epoch 17/30\n",
            "Epoch 18/30\n",
            "Epoch 19/30\n",
            "Epoch 20/30\n",
            "Epoch 21/30\n",
            "Epoch 22/30\n",
            "Epoch 23/30\n",
            "Epoch 24/30\n",
            "Epoch 25/30\n",
            "Epoch 26/30\n",
            "Epoch 27/30\n",
            "Epoch 28/30\n",
            "Epoch 29/30\n",
            "Epoch 30/30\n",
            "Epoch 1/30\n",
            "Epoch 2/30\n",
            "Epoch 3/30\n",
            "Epoch 4/30\n",
            "Epoch 5/30\n",
            "Epoch 6/30\n",
            "Epoch 7/30\n",
            "Epoch 8/30\n",
            "Epoch 9/30\n",
            "Epoch 10/30\n",
            "Epoch 11/30\n",
            "Epoch 12/30\n",
            "Epoch 13/30\n",
            "Epoch 14/30\n",
            "Epoch 15/30\n",
            "Epoch 16/30\n",
            "Epoch 17/30\n",
            "Epoch 18/30\n",
            "Epoch 19/30\n",
            "Epoch 20/30\n",
            "Epoch 21/30\n",
            "Epoch 22/30\n",
            "Epoch 23/30\n",
            "Epoch 24/30\n",
            "Epoch 25/30\n",
            "Epoch 26/30\n",
            "Epoch 27/30\n",
            "Epoch 28/30\n",
            "Epoch 29/30\n",
            "Epoch 30/30\n",
            "Epoch 1/30\n",
            "Epoch 2/30\n",
            "Epoch 3/30\n",
            "Epoch 4/30\n",
            "Epoch 5/30\n",
            "Epoch 6/30\n",
            "Epoch 7/30\n",
            "Epoch 8/30\n",
            "Epoch 9/30\n",
            "Epoch 10/30\n",
            "Epoch 11/30\n",
            "Epoch 12/30\n",
            "Epoch 13/30\n",
            "Epoch 14/30\n",
            "Epoch 15/30\n",
            "Epoch 16/30\n",
            "Epoch 17/30\n",
            "Epoch 18/30\n",
            "Epoch 19/30\n",
            "Epoch 20/30\n",
            "Epoch 21/30\n",
            "Epoch 22/30\n",
            "Epoch 23/30\n",
            "Epoch 24/30\n",
            "Epoch 25/30\n",
            "Epoch 26/30\n",
            "Epoch 27/30\n",
            "Epoch 28/30\n",
            "Epoch 29/30\n",
            "Epoch 30/30\n",
            "Epoch 1/30\n",
            "Epoch 2/30\n",
            "Epoch 3/30\n",
            "Epoch 4/30\n",
            "Epoch 5/30\n",
            "Epoch 6/30\n",
            "Epoch 7/30\n",
            "Epoch 8/30\n",
            "Epoch 9/30\n",
            "Epoch 10/30\n",
            "Epoch 11/30\n",
            "Epoch 12/30\n",
            "Epoch 13/30\n",
            "Epoch 14/30\n",
            "Epoch 15/30\n",
            "Epoch 16/30\n",
            "Epoch 17/30\n",
            "Epoch 18/30\n",
            "Epoch 19/30\n",
            "Epoch 20/30\n",
            "Epoch 21/30\n",
            "Epoch 22/30\n",
            "Epoch 23/30\n",
            "Epoch 24/30\n",
            "Epoch 25/30\n",
            "Epoch 26/30\n",
            "Epoch 27/30\n",
            "Epoch 28/30\n",
            "Epoch 29/30\n",
            "Epoch 30/30\n",
            "Epoch 1/30\n",
            "Epoch 2/30\n",
            "Epoch 3/30\n",
            "Epoch 4/30\n",
            "Epoch 5/30\n",
            "Epoch 6/30\n",
            "Epoch 7/30\n",
            "Epoch 8/30\n",
            "Epoch 9/30\n",
            "Epoch 10/30\n",
            "Epoch 11/30\n",
            "Epoch 12/30\n",
            "Epoch 13/30\n",
            "Epoch 14/30\n",
            "Epoch 15/30\n",
            "Epoch 16/30\n",
            "Epoch 17/30\n",
            "Epoch 18/30\n",
            "Epoch 19/30\n",
            "Epoch 20/30\n",
            "Epoch 21/30\n",
            "Epoch 22/30\n",
            "Epoch 23/30\n",
            "Epoch 24/30\n",
            "Epoch 25/30\n",
            "Epoch 26/30\n",
            "Epoch 27/30\n",
            "Epoch 28/30\n",
            "Epoch 29/30\n",
            "Epoch 30/30\n",
            "Epoch 1/30\n",
            "Epoch 2/30\n",
            "Epoch 3/30\n",
            "Epoch 4/30\n",
            "Epoch 5/30\n",
            "Epoch 6/30\n",
            "Epoch 7/30\n",
            "Epoch 8/30\n",
            "Epoch 9/30\n",
            "Epoch 10/30\n",
            "Epoch 11/30\n",
            "Epoch 12/30\n",
            "Epoch 13/30\n",
            "Epoch 14/30\n",
            "Epoch 15/30\n",
            "Epoch 16/30\n",
            "Epoch 17/30\n",
            "Epoch 18/30\n",
            "Epoch 19/30\n",
            "Epoch 20/30\n",
            "Epoch 21/30\n",
            "Epoch 22/30\n",
            "Epoch 23/30\n",
            "Epoch 24/30\n",
            "Epoch 25/30\n",
            "Epoch 26/30\n",
            "Epoch 27/30\n",
            "Epoch 28/30\n",
            "Epoch 29/30\n",
            "Epoch 30/30\n",
            "Epoch 1/30\n",
            "Epoch 2/30\n",
            "Epoch 3/30\n",
            "Epoch 4/30\n",
            "Epoch 5/30\n",
            "Epoch 6/30\n",
            "Epoch 7/30\n",
            "Epoch 8/30\n",
            "Epoch 9/30\n",
            "Epoch 10/30\n",
            "Epoch 11/30\n",
            "Epoch 12/30\n",
            "Epoch 13/30\n",
            "Epoch 14/30\n",
            "Epoch 15/30\n",
            "Epoch 16/30\n",
            "Epoch 17/30\n",
            "Epoch 18/30\n",
            "Epoch 19/30\n",
            "Epoch 20/30\n",
            "Epoch 21/30\n",
            "Epoch 22/30\n",
            "Epoch 23/30\n",
            "Epoch 24/30\n",
            "Epoch 25/30\n",
            "Epoch 26/30\n",
            "Epoch 27/30\n",
            "Epoch 28/30\n",
            "Epoch 29/30\n",
            "Epoch 30/30\n",
            "Epoch 1/30\n",
            "Epoch 2/30\n",
            "Epoch 3/30\n",
            "Epoch 4/30\n",
            "Epoch 5/30\n",
            "Epoch 6/30\n",
            "Epoch 7/30\n",
            "Epoch 8/30\n",
            "Epoch 9/30\n",
            "Epoch 10/30\n",
            "Epoch 11/30\n",
            "Epoch 12/30\n",
            "Epoch 13/30\n",
            "Epoch 14/30\n",
            "Epoch 15/30\n",
            "Epoch 16/30\n",
            "Epoch 17/30\n",
            "Epoch 18/30\n",
            "Epoch 19/30\n",
            "Epoch 20/30\n",
            "Epoch 21/30\n",
            "Epoch 22/30\n",
            "Epoch 23/30\n",
            "Epoch 24/30\n",
            "Epoch 25/30\n",
            "Epoch 26/30\n",
            "Epoch 27/30\n",
            "Epoch 28/30\n",
            "Epoch 29/30\n",
            "Epoch 30/30\n",
            "Epoch 1/30\n",
            "Epoch 2/30\n",
            "Epoch 3/30\n",
            "Epoch 4/30\n",
            "Epoch 5/30\n",
            "Epoch 6/30\n",
            "Epoch 7/30\n",
            "Epoch 8/30\n",
            "Epoch 9/30\n",
            "Epoch 10/30\n",
            "Epoch 11/30\n",
            "Epoch 12/30\n",
            "Epoch 13/30\n",
            "Epoch 14/30\n",
            "Epoch 15/30\n",
            "Epoch 16/30\n",
            "Epoch 17/30\n",
            "Epoch 18/30\n",
            "Epoch 19/30\n",
            "Epoch 20/30\n",
            "Epoch 21/30\n",
            "Epoch 22/30\n",
            "Epoch 23/30\n",
            "Epoch 24/30\n",
            "Epoch 25/30\n",
            "Epoch 26/30\n",
            "Epoch 27/30\n",
            "Epoch 28/30\n",
            "Epoch 29/30\n",
            "Epoch 30/30\n",
            "Epoch 1/30\n",
            "Epoch 2/30\n",
            "Epoch 3/30\n",
            "Epoch 4/30\n",
            "Epoch 5/30\n",
            "Epoch 6/30\n",
            "Epoch 7/30\n",
            "Epoch 8/30\n",
            "Epoch 9/30\n",
            "Epoch 10/30\n",
            "Epoch 11/30\n",
            "Epoch 12/30\n",
            "Epoch 13/30\n",
            "Epoch 14/30\n",
            "Epoch 15/30\n",
            "Epoch 16/30\n",
            "Epoch 17/30\n",
            "Epoch 18/30\n",
            "Epoch 19/30\n",
            "Epoch 20/30\n",
            "Epoch 21/30\n",
            "Epoch 22/30\n",
            "Epoch 23/30\n",
            "Epoch 24/30\n",
            "Epoch 25/30\n",
            "Epoch 26/30\n",
            "Epoch 27/30\n",
            "Epoch 28/30\n",
            "Epoch 29/30\n",
            "Epoch 30/30\n",
            "Epoch 1/30\n",
            "Epoch 2/30\n",
            "Epoch 3/30\n",
            "Epoch 4/30\n",
            "Epoch 5/30\n",
            "Epoch 6/30\n",
            "Epoch 7/30\n",
            "Epoch 8/30\n",
            "Epoch 9/30\n",
            "Epoch 10/30\n",
            "Epoch 11/30\n",
            "Epoch 12/30\n",
            "Epoch 13/30\n",
            "Epoch 14/30\n",
            "Epoch 15/30\n",
            "Epoch 16/30\n",
            "Epoch 17/30\n",
            "Epoch 18/30\n",
            "Epoch 19/30\n",
            "Epoch 20/30\n",
            "Epoch 21/30\n",
            "Epoch 22/30\n",
            "Epoch 23/30\n",
            "Epoch 24/30\n",
            "Epoch 25/30\n",
            "Epoch 26/30\n",
            "Epoch 27/30\n",
            "Epoch 28/30\n",
            "Epoch 29/30\n",
            "Epoch 30/30\n",
            "Epoch 1/30\n",
            "Epoch 2/30\n",
            "Epoch 3/30\n",
            "Epoch 4/30\n",
            "Epoch 5/30\n",
            "Epoch 6/30\n",
            "Epoch 7/30\n",
            "Epoch 8/30\n",
            "Epoch 9/30\n",
            "Epoch 10/30\n",
            "Epoch 11/30\n",
            "Epoch 12/30\n",
            "Epoch 13/30\n",
            "Epoch 14/30\n",
            "Epoch 15/30\n",
            "Epoch 16/30\n",
            "Epoch 17/30\n",
            "Epoch 18/30\n",
            "Epoch 19/30\n",
            "Epoch 20/30\n",
            "Epoch 21/30\n",
            "Epoch 22/30\n",
            "Epoch 23/30\n",
            "Epoch 24/30\n",
            "Epoch 25/30\n",
            "Epoch 26/30\n",
            "Epoch 27/30\n",
            "Epoch 28/30\n",
            "Epoch 29/30\n",
            "Epoch 30/30\n",
            "Epoch 1/30\n",
            "Epoch 2/30\n",
            "Epoch 3/30\n",
            "Epoch 4/30\n",
            "Epoch 5/30\n",
            "Epoch 6/30\n",
            "Epoch 7/30\n",
            "Epoch 8/30\n",
            "Epoch 9/30\n",
            "Epoch 10/30\n",
            "Epoch 11/30\n",
            "Epoch 12/30\n",
            "Epoch 13/30\n",
            "Epoch 14/30\n",
            "Epoch 15/30\n",
            "Epoch 16/30\n",
            "Epoch 17/30\n",
            "Epoch 18/30\n",
            "Epoch 19/30\n",
            "Epoch 20/30\n",
            "Epoch 21/30\n",
            "Epoch 22/30\n",
            "Epoch 23/30\n",
            "Epoch 24/30\n",
            "Epoch 25/30\n",
            "Epoch 26/30\n",
            "Epoch 27/30\n",
            "Epoch 28/30\n",
            "Epoch 29/30\n",
            "Epoch 30/30\n",
            "Epoch 1/30\n",
            "Epoch 2/30\n",
            "Epoch 3/30\n",
            "Epoch 4/30\n",
            "Epoch 5/30\n",
            "Epoch 6/30\n",
            "Epoch 7/30\n",
            "Epoch 8/30\n",
            "Epoch 9/30\n",
            "Epoch 10/30\n",
            "Epoch 11/30\n",
            "Epoch 12/30\n",
            "Epoch 13/30\n",
            "Epoch 14/30\n",
            "Epoch 15/30\n",
            "Epoch 16/30\n",
            "Epoch 17/30\n",
            "Epoch 18/30\n",
            "Epoch 19/30\n",
            "Epoch 20/30\n",
            "Epoch 21/30\n",
            "Epoch 22/30\n",
            "Epoch 23/30\n",
            "Epoch 24/30\n",
            "Epoch 25/30\n",
            "Epoch 26/30\n",
            "Epoch 27/30\n",
            "Epoch 28/30\n",
            "Epoch 29/30\n",
            "Epoch 30/30\n",
            "Epoch 1/30\n",
            "Epoch 2/30\n",
            "Epoch 3/30\n",
            "Epoch 4/30\n",
            "Epoch 5/30\n",
            "Epoch 6/30\n",
            "Epoch 7/30\n",
            "Epoch 8/30\n",
            "Epoch 9/30\n",
            "Epoch 10/30\n",
            "Epoch 11/30\n",
            "Epoch 12/30\n",
            "Epoch 13/30\n",
            "Epoch 14/30\n",
            "Epoch 15/30\n",
            "Epoch 16/30\n",
            "Epoch 17/30\n",
            "Epoch 18/30\n",
            "Epoch 19/30\n",
            "Epoch 20/30\n",
            "Epoch 21/30\n",
            "Epoch 22/30\n",
            "Epoch 23/30\n",
            "Epoch 24/30\n",
            "Epoch 25/30\n",
            "Epoch 26/30\n",
            "Epoch 27/30\n",
            "Epoch 28/30\n",
            "Epoch 29/30\n",
            "Epoch 30/30\n",
            "Epoch 1/30\n",
            "Epoch 2/30\n",
            "Epoch 3/30\n",
            "Epoch 4/30\n",
            "Epoch 5/30\n",
            "Epoch 6/30\n",
            "Epoch 7/30\n",
            "Epoch 8/30\n",
            "Epoch 9/30\n",
            "Epoch 10/30\n",
            "Epoch 11/30\n",
            "Epoch 12/30\n",
            "Epoch 13/30\n",
            "Epoch 14/30\n",
            "Epoch 15/30\n",
            "Epoch 16/30\n",
            "Epoch 17/30\n",
            "Epoch 18/30\n",
            "Epoch 19/30\n",
            "Epoch 20/30\n",
            "Epoch 21/30\n",
            "Epoch 22/30\n",
            "Epoch 23/30\n",
            "Epoch 24/30\n",
            "Epoch 25/30\n",
            "Epoch 26/30\n",
            "Epoch 27/30\n",
            "Epoch 28/30\n",
            "Epoch 29/30\n",
            "Epoch 30/30\n",
            "Epoch 1/30\n",
            "Epoch 2/30\n",
            "Epoch 3/30\n",
            "Epoch 4/30\n",
            "Epoch 5/30\n",
            "Epoch 6/30\n",
            "Epoch 7/30\n",
            "Epoch 8/30\n",
            "Epoch 9/30\n",
            "Epoch 10/30\n",
            "Epoch 11/30\n",
            "Epoch 12/30\n",
            "Epoch 13/30\n",
            "Epoch 14/30\n",
            "Epoch 15/30\n",
            "Epoch 16/30\n",
            "Epoch 17/30\n",
            "Epoch 18/30\n",
            "Epoch 19/30\n",
            "Epoch 20/30\n",
            "Epoch 21/30\n",
            "Epoch 22/30\n",
            "Epoch 23/30\n",
            "Epoch 24/30\n",
            "Epoch 25/30\n",
            "Epoch 26/30\n",
            "Epoch 27/30\n",
            "Epoch 28/30\n",
            "Epoch 29/30\n",
            "Epoch 30/30\n",
            "Epoch 1/30\n",
            "Epoch 2/30\n",
            "Epoch 3/30\n",
            "Epoch 4/30\n",
            "Epoch 5/30\n",
            "Epoch 6/30\n",
            "Epoch 7/30\n",
            "Epoch 8/30\n",
            "Epoch 9/30\n",
            "Epoch 10/30\n",
            "Epoch 11/30\n",
            "Epoch 12/30\n",
            "Epoch 13/30\n",
            "Epoch 14/30\n",
            "Epoch 15/30\n",
            "Epoch 16/30\n",
            "Epoch 17/30\n",
            "Epoch 18/30\n",
            "Epoch 19/30\n",
            "Epoch 20/30\n",
            "Epoch 21/30\n",
            "Epoch 22/30\n",
            "Epoch 23/30\n",
            "Epoch 24/30\n",
            "Epoch 25/30\n",
            "Epoch 26/30\n",
            "Epoch 27/30\n",
            "Epoch 28/30\n",
            "Epoch 29/30\n",
            "Epoch 30/30\n",
            "Epoch 1/30\n",
            "Epoch 2/30\n",
            "Epoch 3/30\n",
            "Epoch 4/30\n",
            "Epoch 5/30\n",
            "Epoch 6/30\n",
            "Epoch 7/30\n",
            "Epoch 8/30\n",
            "Epoch 9/30\n",
            "Epoch 10/30\n",
            "Epoch 11/30\n",
            "Epoch 12/30\n",
            "Epoch 13/30\n",
            "Epoch 14/30\n",
            "Epoch 15/30\n",
            "Epoch 16/30\n",
            "Epoch 17/30\n",
            "Epoch 18/30\n",
            "Epoch 19/30\n",
            "Epoch 20/30\n",
            "Epoch 21/30\n",
            "Epoch 22/30\n",
            "Epoch 23/30\n",
            "Epoch 24/30\n",
            "Epoch 25/30\n",
            "Epoch 26/30\n",
            "Epoch 27/30\n",
            "Epoch 28/30\n",
            "Epoch 29/30\n",
            "Epoch 30/30\n",
            "Epoch 1/30\n",
            "Epoch 2/30\n",
            "Epoch 3/30\n",
            "Epoch 4/30\n",
            "Epoch 5/30\n",
            "Epoch 6/30\n",
            "Epoch 7/30\n",
            "Epoch 8/30\n",
            "Epoch 9/30\n",
            "Epoch 10/30\n",
            "Epoch 11/30\n",
            "Epoch 12/30\n",
            "Epoch 13/30\n",
            "Epoch 14/30\n",
            "Epoch 15/30\n",
            "Epoch 16/30\n",
            "Epoch 17/30\n",
            "Epoch 18/30\n",
            "Epoch 19/30\n",
            "Epoch 20/30\n",
            "Epoch 21/30\n",
            "Epoch 22/30\n",
            "Epoch 23/30\n",
            "Epoch 24/30\n",
            "Epoch 25/30\n",
            "Epoch 26/30\n",
            "Epoch 27/30\n",
            "Epoch 28/30\n",
            "Epoch 29/30\n",
            "Epoch 30/30\n",
            "Epoch 1/30\n",
            "Epoch 2/30\n",
            "Epoch 3/30\n",
            "Epoch 4/30\n",
            "Epoch 5/30\n",
            "Epoch 6/30\n",
            "Epoch 7/30\n",
            "Epoch 8/30\n",
            "Epoch 9/30\n",
            "Epoch 10/30\n",
            "Epoch 11/30\n",
            "Epoch 12/30\n",
            "Epoch 13/30\n",
            "Epoch 14/30\n",
            "Epoch 15/30\n",
            "Epoch 16/30\n",
            "Epoch 17/30\n",
            "Epoch 18/30\n",
            "Epoch 19/30\n",
            "Epoch 20/30\n",
            "Epoch 21/30\n",
            "Epoch 22/30\n",
            "Epoch 23/30\n",
            "Epoch 24/30\n",
            "Epoch 25/30\n",
            "Epoch 26/30\n",
            "Epoch 27/30\n",
            "Epoch 28/30\n",
            "Epoch 29/30\n",
            "Epoch 30/30\n",
            "Epoch 1/30\n",
            "Epoch 2/30\n",
            "Epoch 3/30\n",
            "Epoch 4/30\n",
            "Epoch 5/30\n",
            "Epoch 6/30\n",
            "Epoch 7/30\n",
            "Epoch 8/30\n",
            "Epoch 9/30\n",
            "Epoch 10/30\n",
            "Epoch 11/30\n",
            "Epoch 12/30\n",
            "Epoch 13/30\n",
            "Epoch 14/30\n",
            "Epoch 15/30\n",
            "Epoch 16/30\n",
            "Epoch 17/30\n",
            "Epoch 18/30\n",
            "Epoch 19/30\n",
            "Epoch 20/30\n",
            "Epoch 21/30\n",
            "Epoch 22/30\n",
            "Epoch 23/30\n",
            "Epoch 24/30\n",
            "Epoch 25/30\n",
            "Epoch 26/30\n",
            "Epoch 27/30\n",
            "Epoch 28/30\n",
            "Epoch 29/30\n",
            "Epoch 30/30\n",
            "Epoch 1/30\n",
            "Epoch 2/30\n",
            "Epoch 3/30\n",
            "Epoch 4/30\n",
            "Epoch 5/30\n",
            "Epoch 6/30\n",
            "Epoch 7/30\n",
            "Epoch 8/30\n",
            "Epoch 9/30\n",
            "Epoch 10/30\n",
            "Epoch 11/30\n",
            "Epoch 12/30\n",
            "Epoch 13/30\n",
            "Epoch 14/30\n",
            "Epoch 15/30\n",
            "Epoch 16/30\n",
            "Epoch 17/30\n",
            "Epoch 18/30\n",
            "Epoch 19/30\n",
            "Epoch 20/30\n",
            "Epoch 21/30\n",
            "Epoch 22/30\n",
            "Epoch 23/30\n",
            "Epoch 24/30\n",
            "Epoch 25/30\n",
            "Epoch 26/30\n",
            "Epoch 27/30\n",
            "Epoch 28/30\n",
            "Epoch 29/30\n",
            "Epoch 30/30\n",
            "Epoch 1/30\n",
            "Epoch 2/30\n",
            "Epoch 3/30\n",
            "Epoch 4/30\n",
            "Epoch 5/30\n",
            "Epoch 6/30\n",
            "Epoch 7/30\n",
            "Epoch 8/30\n",
            "Epoch 9/30\n",
            "Epoch 10/30\n",
            "Epoch 11/30\n",
            "Epoch 12/30\n",
            "Epoch 13/30\n",
            "Epoch 14/30\n",
            "Epoch 15/30\n",
            "Epoch 16/30\n",
            "Epoch 17/30\n",
            "Epoch 18/30\n",
            "Epoch 19/30\n",
            "Epoch 20/30\n",
            "Epoch 21/30\n",
            "Epoch 22/30\n",
            "Epoch 23/30\n",
            "Epoch 24/30\n",
            "Epoch 25/30\n",
            "Epoch 26/30\n",
            "Epoch 27/30\n",
            "Epoch 28/30\n",
            "Epoch 29/30\n",
            "Epoch 30/30\n",
            "Epoch 1/30\n",
            "Epoch 2/30\n",
            "Epoch 3/30\n",
            "Epoch 4/30\n",
            "Epoch 5/30\n",
            "Epoch 6/30\n",
            "Epoch 7/30\n",
            "Epoch 8/30\n",
            "Epoch 9/30\n",
            "Epoch 10/30\n",
            "Epoch 11/30\n",
            "Epoch 12/30\n",
            "Epoch 13/30\n",
            "Epoch 14/30\n",
            "Epoch 15/30\n",
            "Epoch 16/30\n",
            "Epoch 17/30\n",
            "Epoch 18/30\n",
            "Epoch 19/30\n",
            "Epoch 20/30\n",
            "Epoch 21/30\n",
            "Epoch 22/30\n",
            "Epoch 23/30\n",
            "Epoch 24/30\n",
            "Epoch 25/30\n",
            "Epoch 26/30\n",
            "Epoch 27/30\n",
            "Epoch 28/30\n",
            "Epoch 29/30\n",
            "Epoch 30/30\n",
            "Epoch 1/30\n",
            "Epoch 2/30\n",
            "Epoch 3/30\n",
            "Epoch 4/30\n",
            "Epoch 5/30\n",
            "Epoch 6/30\n",
            "Epoch 7/30\n",
            "Epoch 8/30\n",
            "Epoch 9/30\n",
            "Epoch 10/30\n",
            "Epoch 11/30\n",
            "Epoch 12/30\n",
            "Epoch 13/30\n",
            "Epoch 14/30\n",
            "Epoch 15/30\n",
            "Epoch 16/30\n",
            "Epoch 17/30\n",
            "Epoch 18/30\n",
            "Epoch 19/30\n",
            "Epoch 20/30\n",
            "Epoch 21/30\n",
            "Epoch 22/30\n",
            "Epoch 23/30\n",
            "Epoch 24/30\n",
            "Epoch 25/30\n",
            "Epoch 26/30\n",
            "Epoch 27/30\n",
            "Epoch 28/30\n",
            "Epoch 29/30\n",
            "Epoch 30/30\n",
            "Epoch 1/30\n",
            "Epoch 2/30\n",
            "Epoch 3/30\n",
            "Epoch 4/30\n",
            "Epoch 5/30\n",
            "Epoch 6/30\n",
            "Epoch 7/30\n",
            "Epoch 8/30\n",
            "Epoch 9/30\n",
            "Epoch 10/30\n",
            "Epoch 11/30\n",
            "Epoch 12/30\n",
            "Epoch 13/30\n",
            "Epoch 14/30\n",
            "Epoch 15/30\n",
            "Epoch 16/30\n",
            "Epoch 17/30\n",
            "Epoch 18/30\n",
            "Epoch 19/30\n",
            "Epoch 20/30\n",
            "Epoch 21/30\n",
            "Epoch 22/30\n",
            "Epoch 23/30\n",
            "Epoch 24/30\n",
            "Epoch 25/30\n",
            "Epoch 26/30\n",
            "Epoch 27/30\n",
            "Epoch 28/30\n",
            "Epoch 29/30\n",
            "Epoch 30/30\n",
            "Epoch 1/30\n",
            "Epoch 2/30\n",
            "Epoch 3/30\n",
            "Epoch 4/30\n",
            "Epoch 5/30\n",
            "Epoch 6/30\n",
            "Epoch 7/30\n",
            "Epoch 8/30\n",
            "Epoch 9/30\n",
            "Epoch 10/30\n",
            "Epoch 11/30\n",
            "Epoch 12/30\n",
            "Epoch 13/30\n",
            "Epoch 14/30\n",
            "Epoch 15/30\n",
            "Epoch 16/30\n",
            "Epoch 17/30\n",
            "Epoch 18/30\n",
            "Epoch 19/30\n",
            "Epoch 20/30\n",
            "Epoch 21/30\n",
            "Epoch 22/30\n",
            "Epoch 23/30\n",
            "Epoch 24/30\n",
            "Epoch 25/30\n",
            "Epoch 26/30\n",
            "Epoch 27/30\n",
            "Epoch 28/30\n",
            "Epoch 29/30\n",
            "Epoch 30/30\n",
            "Epoch 1/30\n",
            "Epoch 2/30\n",
            "Epoch 3/30\n",
            "Epoch 4/30\n",
            "Epoch 5/30\n",
            "Epoch 6/30\n",
            "Epoch 7/30\n",
            "Epoch 8/30\n",
            "Epoch 9/30\n",
            "Epoch 10/30\n",
            "Epoch 11/30\n",
            "Epoch 12/30\n",
            "Epoch 13/30\n",
            "Epoch 14/30\n",
            "Epoch 15/30\n",
            "Epoch 16/30\n",
            "Epoch 17/30\n",
            "Epoch 18/30\n",
            "Epoch 19/30\n",
            "Epoch 20/30\n",
            "Epoch 21/30\n",
            "Epoch 22/30\n",
            "Epoch 23/30\n",
            "Epoch 24/30\n",
            "Epoch 25/30\n",
            "Epoch 26/30\n",
            "Epoch 27/30\n",
            "Epoch 28/30\n",
            "Epoch 29/30\n",
            "Epoch 30/30\n",
            "Epoch 1/30\n",
            "Epoch 2/30\n",
            "Epoch 3/30\n",
            "Epoch 4/30\n",
            "Epoch 5/30\n",
            "Epoch 6/30\n",
            "Epoch 7/30\n",
            "Epoch 8/30\n",
            "Epoch 9/30\n",
            "Epoch 10/30\n",
            "Epoch 11/30\n",
            "Epoch 12/30\n",
            "Epoch 13/30\n",
            "Epoch 14/30\n",
            "Epoch 15/30\n",
            "Epoch 16/30\n",
            "Epoch 17/30\n",
            "Epoch 18/30\n",
            "Epoch 19/30\n",
            "Epoch 20/30\n",
            "Epoch 21/30\n",
            "Epoch 22/30\n",
            "Epoch 23/30\n",
            "Epoch 24/30\n",
            "Epoch 25/30\n",
            "Epoch 26/30\n",
            "Epoch 27/30\n",
            "Epoch 28/30\n",
            "Epoch 29/30\n",
            "Epoch 30/30\n",
            "Epoch 1/30\n",
            "Epoch 2/30\n",
            "Epoch 3/30\n",
            "Epoch 4/30\n",
            "Epoch 5/30\n",
            "Epoch 6/30\n",
            "Epoch 7/30\n",
            "Epoch 8/30\n",
            "Epoch 9/30\n",
            "Epoch 10/30\n",
            "Epoch 11/30\n",
            "Epoch 12/30\n",
            "Epoch 13/30\n",
            "Epoch 14/30\n",
            "Epoch 15/30\n",
            "Epoch 16/30\n",
            "Epoch 17/30\n",
            "Epoch 18/30\n",
            "Epoch 19/30\n",
            "Epoch 20/30\n",
            "Epoch 21/30\n",
            "Epoch 22/30\n",
            "Epoch 23/30\n",
            "Epoch 24/30\n",
            "Epoch 25/30\n",
            "Epoch 26/30\n",
            "Epoch 27/30\n",
            "Epoch 28/30\n",
            "Epoch 29/30\n",
            "Epoch 30/30\n",
            "Epoch 1/30\n",
            "Epoch 2/30\n",
            "Epoch 3/30\n",
            "Epoch 4/30\n",
            "Epoch 5/30\n",
            "Epoch 6/30\n",
            "Epoch 7/30\n",
            "Epoch 8/30\n",
            "Epoch 9/30\n",
            "Epoch 10/30\n",
            "Epoch 11/30\n",
            "Epoch 12/30\n",
            "Epoch 13/30\n",
            "Epoch 14/30\n",
            "Epoch 15/30\n",
            "Epoch 16/30\n",
            "Epoch 17/30\n",
            "Epoch 18/30\n",
            "Epoch 19/30\n",
            "Epoch 20/30\n",
            "Epoch 21/30\n",
            "Epoch 22/30\n",
            "Epoch 23/30\n",
            "Epoch 24/30\n",
            "Epoch 25/30\n",
            "Epoch 26/30\n",
            "Epoch 27/30\n",
            "Epoch 28/30\n",
            "Epoch 29/30\n",
            "Epoch 30/30\n",
            "Epoch 1/30\n",
            "Epoch 2/30\n",
            "Epoch 3/30\n",
            "Epoch 4/30\n",
            "Epoch 5/30\n",
            "Epoch 6/30\n",
            "Epoch 7/30\n",
            "Epoch 8/30\n",
            "Epoch 9/30\n",
            "Epoch 10/30\n",
            "Epoch 11/30\n",
            "Epoch 12/30\n",
            "Epoch 13/30\n",
            "Epoch 14/30\n",
            "Epoch 15/30\n",
            "Epoch 16/30\n",
            "Epoch 17/30\n",
            "Epoch 18/30\n",
            "Epoch 19/30\n",
            "Epoch 20/30\n",
            "Epoch 21/30\n",
            "Epoch 22/30\n",
            "Epoch 23/30\n",
            "Epoch 24/30\n",
            "Epoch 25/30\n",
            "Epoch 26/30\n",
            "Epoch 27/30\n",
            "Epoch 28/30\n",
            "Epoch 29/30\n",
            "Epoch 30/30\n",
            "Epoch 1/30\n",
            "Epoch 2/30\n",
            "Epoch 3/30\n",
            "Epoch 4/30\n",
            "Epoch 5/30\n",
            "Epoch 6/30\n",
            "Epoch 7/30\n",
            "Epoch 8/30\n",
            "Epoch 9/30\n",
            "Epoch 10/30\n",
            "Epoch 11/30\n",
            "Epoch 12/30\n",
            "Epoch 13/30\n",
            "Epoch 14/30\n",
            "Epoch 15/30\n",
            "Epoch 16/30\n",
            "Epoch 17/30\n",
            "Epoch 18/30\n",
            "Epoch 19/30\n",
            "Epoch 20/30\n",
            "Epoch 21/30\n",
            "Epoch 22/30\n",
            "Epoch 23/30\n",
            "Epoch 24/30\n",
            "Epoch 25/30\n",
            "Epoch 26/30\n",
            "Epoch 27/30\n",
            "Epoch 28/30\n",
            "Epoch 29/30\n",
            "Epoch 30/30\n",
            "Epoch 1/30\n",
            "Epoch 2/30\n",
            "Epoch 3/30\n",
            "Epoch 4/30\n",
            "Epoch 5/30\n",
            "Epoch 6/30\n",
            "Epoch 7/30\n",
            "Epoch 8/30\n",
            "Epoch 9/30\n",
            "Epoch 10/30\n",
            "Epoch 11/30\n",
            "Epoch 12/30\n",
            "Epoch 13/30\n",
            "Epoch 14/30\n",
            "Epoch 15/30\n",
            "Epoch 16/30\n",
            "Epoch 17/30\n",
            "Epoch 18/30\n",
            "Epoch 19/30\n",
            "Epoch 20/30\n",
            "Epoch 21/30\n",
            "Epoch 22/30\n",
            "Epoch 23/30\n",
            "Epoch 24/30\n",
            "Epoch 25/30\n",
            "Epoch 26/30\n",
            "Epoch 27/30\n",
            "Epoch 28/30\n",
            "Epoch 29/30\n",
            "Epoch 30/30\n",
            "Epoch 1/30\n",
            "Epoch 2/30\n",
            "Epoch 3/30\n",
            "Epoch 4/30\n",
            "Epoch 5/30\n",
            "Epoch 6/30\n",
            "Epoch 7/30\n",
            "Epoch 8/30\n",
            "Epoch 9/30\n",
            "Epoch 10/30\n",
            "Epoch 11/30\n",
            "Epoch 12/30\n",
            "Epoch 13/30\n",
            "Epoch 14/30\n",
            "Epoch 15/30\n",
            "Epoch 16/30\n",
            "Epoch 17/30\n",
            "Epoch 18/30\n",
            "Epoch 19/30\n",
            "Epoch 20/30\n",
            "Epoch 21/30\n",
            "Epoch 22/30\n",
            "Epoch 23/30\n",
            "Epoch 24/30\n",
            "Epoch 25/30\n",
            "Epoch 26/30\n",
            "Epoch 27/30\n",
            "Epoch 28/30\n",
            "Epoch 29/30\n",
            "Epoch 30/30\n",
            "Epoch 1/30\n",
            "Epoch 2/30\n",
            "Epoch 3/30\n",
            "Epoch 4/30\n",
            "Epoch 5/30\n",
            "Epoch 6/30\n",
            "Epoch 7/30\n",
            "Epoch 8/30\n",
            "Epoch 9/30\n",
            "Epoch 10/30\n",
            "Epoch 11/30\n",
            "Epoch 12/30\n",
            "Epoch 13/30\n",
            "Epoch 14/30\n",
            "Epoch 15/30\n",
            "Epoch 16/30\n",
            "Epoch 17/30\n",
            "Epoch 18/30\n",
            "Epoch 19/30\n",
            "Epoch 20/30\n",
            "Epoch 21/30\n",
            "Epoch 22/30\n",
            "Epoch 23/30\n",
            "Epoch 24/30\n",
            "Epoch 25/30\n",
            "Epoch 26/30\n",
            "Epoch 27/30\n",
            "Epoch 28/30\n",
            "Epoch 29/30\n",
            "Epoch 30/30\n",
            "Epoch 1/30\n",
            "Epoch 2/30\n",
            "Epoch 3/30\n",
            "Epoch 4/30\n",
            "Epoch 5/30\n",
            "Epoch 6/30\n",
            "Epoch 7/30\n",
            "Epoch 8/30\n",
            "Epoch 9/30\n",
            "Epoch 10/30\n",
            "Epoch 11/30\n",
            "Epoch 12/30\n",
            "Epoch 13/30\n",
            "Epoch 14/30\n",
            "Epoch 15/30\n",
            "Epoch 16/30\n",
            "Epoch 17/30\n",
            "Epoch 18/30\n",
            "Epoch 19/30\n",
            "Epoch 20/30\n",
            "Epoch 21/30\n",
            "Epoch 22/30\n",
            "Epoch 23/30\n",
            "Epoch 24/30\n",
            "Epoch 25/30\n",
            "Epoch 26/30\n",
            "Epoch 27/30\n",
            "Epoch 28/30\n",
            "Epoch 29/30\n",
            "Epoch 30/30\n",
            "Epoch 1/30\n",
            "Epoch 2/30\n",
            "Epoch 3/30\n",
            "Epoch 4/30\n",
            "Epoch 5/30\n",
            "Epoch 6/30\n",
            "Epoch 7/30\n",
            "Epoch 8/30\n",
            "Epoch 9/30\n",
            "Epoch 10/30\n",
            "Epoch 11/30\n",
            "Epoch 12/30\n",
            "Epoch 13/30\n",
            "Epoch 14/30\n",
            "Epoch 15/30\n",
            "Epoch 16/30\n",
            "Epoch 17/30\n",
            "Epoch 18/30\n",
            "Epoch 19/30\n",
            "Epoch 20/30\n",
            "Epoch 21/30\n",
            "Epoch 22/30\n",
            "Epoch 23/30\n",
            "Epoch 24/30\n",
            "Epoch 25/30\n",
            "Epoch 26/30\n",
            "Epoch 27/30\n",
            "Epoch 28/30\n",
            "Epoch 29/30\n",
            "Epoch 30/30\n",
            "Epoch 1/30\n",
            "Epoch 2/30\n",
            "Epoch 3/30\n",
            "Epoch 4/30\n",
            "Epoch 5/30\n",
            "Epoch 6/30\n",
            "Epoch 7/30\n",
            "Epoch 8/30\n",
            "Epoch 9/30\n",
            "Epoch 10/30\n",
            "Epoch 11/30\n",
            "Epoch 12/30\n",
            "Epoch 13/30\n",
            "Epoch 14/30\n",
            "Epoch 15/30\n",
            "Epoch 16/30\n",
            "Epoch 17/30\n",
            "Epoch 18/30\n",
            "Epoch 19/30\n",
            "Epoch 20/30\n",
            "Epoch 21/30\n",
            "Epoch 22/30\n",
            "Epoch 23/30\n",
            "Epoch 24/30\n",
            "Epoch 25/30\n",
            "Epoch 26/30\n",
            "Epoch 27/30\n",
            "Epoch 28/30\n",
            "Epoch 29/30\n",
            "Epoch 30/30\n",
            "Epoch 1/30\n",
            "Epoch 2/30\n",
            "Epoch 3/30\n",
            "Epoch 4/30\n",
            "Epoch 5/30\n",
            "Epoch 6/30\n",
            "Epoch 7/30\n",
            "Epoch 8/30\n",
            "Epoch 9/30\n",
            "Epoch 10/30\n",
            "Epoch 11/30\n",
            "Epoch 12/30\n",
            "Epoch 13/30\n",
            "Epoch 14/30\n",
            "Epoch 15/30\n",
            "Epoch 16/30\n",
            "Epoch 17/30\n",
            "Epoch 18/30\n",
            "Epoch 19/30\n",
            "Epoch 20/30\n",
            "Epoch 21/30\n",
            "Epoch 22/30\n",
            "Epoch 23/30\n",
            "Epoch 24/30\n",
            "Epoch 25/30\n",
            "Epoch 26/30\n",
            "Epoch 27/30\n",
            "Epoch 28/30\n",
            "Epoch 29/30\n",
            "Epoch 30/30\n",
            "Epoch 1/30\n",
            "Epoch 2/30\n",
            "Epoch 3/30\n",
            "Epoch 4/30\n",
            "Epoch 5/30\n",
            "Epoch 6/30\n",
            "Epoch 7/30\n",
            "Epoch 8/30\n",
            "Epoch 9/30\n",
            "Epoch 10/30\n",
            "Epoch 11/30\n",
            "Epoch 12/30\n",
            "Epoch 13/30\n",
            "Epoch 14/30\n",
            "Epoch 15/30\n",
            "Epoch 16/30\n",
            "Epoch 17/30\n",
            "Epoch 18/30\n",
            "Epoch 19/30\n",
            "Epoch 20/30\n",
            "Epoch 21/30\n",
            "Epoch 22/30\n",
            "Epoch 23/30\n",
            "Epoch 24/30\n",
            "Epoch 25/30\n",
            "Epoch 26/30\n",
            "Epoch 27/30\n",
            "Epoch 28/30\n",
            "Epoch 29/30\n",
            "Epoch 30/30\n",
            "Epoch 1/30\n",
            "Epoch 2/30\n",
            "Epoch 3/30\n",
            "Epoch 4/30\n",
            "Epoch 5/30\n",
            "Epoch 6/30\n",
            "Epoch 7/30\n",
            "Epoch 8/30\n",
            "Epoch 9/30\n",
            "Epoch 10/30\n",
            "Epoch 11/30\n",
            "Epoch 12/30\n",
            "Epoch 13/30\n",
            "Epoch 14/30\n",
            "Epoch 15/30\n",
            "Epoch 16/30\n",
            "Epoch 17/30\n",
            "Epoch 18/30\n",
            "Epoch 19/30\n",
            "Epoch 20/30\n",
            "Epoch 21/30\n",
            "Epoch 22/30\n",
            "Epoch 23/30\n",
            "Epoch 24/30\n",
            "Epoch 25/30\n",
            "Epoch 26/30\n",
            "Epoch 27/30\n",
            "Epoch 28/30\n",
            "Epoch 29/30\n",
            "Epoch 30/30\n",
            "Epoch 1/30\n",
            "Epoch 2/30\n",
            "Epoch 3/30\n",
            "Epoch 4/30\n",
            "Epoch 5/30\n",
            "Epoch 6/30\n",
            "Epoch 7/30\n",
            "Epoch 8/30\n",
            "Epoch 9/30\n",
            "Epoch 10/30\n",
            "Epoch 11/30\n",
            "Epoch 12/30\n",
            "Epoch 13/30\n",
            "Epoch 14/30\n",
            "Epoch 15/30\n",
            "Epoch 16/30\n",
            "Epoch 17/30\n",
            "Epoch 18/30\n",
            "Epoch 19/30\n",
            "Epoch 20/30\n",
            "Epoch 21/30\n",
            "Epoch 22/30\n",
            "Epoch 23/30\n",
            "Epoch 24/30\n",
            "Epoch 25/30\n",
            "Epoch 26/30\n",
            "Epoch 27/30\n",
            "Epoch 28/30\n",
            "Epoch 29/30\n",
            "Epoch 30/30\n",
            "Epoch 1/30\n",
            "Epoch 2/30\n",
            "Epoch 3/30\n",
            "Epoch 4/30\n",
            "Epoch 5/30\n",
            "Epoch 6/30\n",
            "Epoch 7/30\n",
            "Epoch 8/30\n",
            "Epoch 9/30\n",
            "Epoch 10/30\n",
            "Epoch 11/30\n",
            "Epoch 12/30\n",
            "Epoch 13/30\n",
            "Epoch 14/30\n",
            "Epoch 15/30\n",
            "Epoch 16/30\n",
            "Epoch 17/30\n",
            "Epoch 18/30\n",
            "Epoch 19/30\n",
            "Epoch 20/30\n",
            "Epoch 21/30\n",
            "Epoch 22/30\n",
            "Epoch 23/30\n",
            "Epoch 24/30\n",
            "Epoch 25/30\n",
            "Epoch 26/30\n",
            "Epoch 27/30\n",
            "Epoch 28/30\n",
            "Epoch 29/30\n",
            "Epoch 30/30\n",
            "Epoch 1/30\n",
            "Epoch 2/30\n",
            "Epoch 3/30\n",
            "Epoch 4/30\n",
            "Epoch 5/30\n",
            "Epoch 6/30\n",
            "Epoch 7/30\n",
            "Epoch 8/30\n",
            "Epoch 9/30\n",
            "Epoch 10/30\n",
            "Epoch 11/30\n",
            "Epoch 12/30\n",
            "Epoch 13/30\n",
            "Epoch 14/30\n",
            "Epoch 15/30\n",
            "Epoch 16/30\n",
            "Epoch 17/30\n",
            "Epoch 18/30\n",
            "Epoch 19/30\n",
            "Epoch 20/30\n",
            "Epoch 21/30\n",
            "Epoch 22/30\n",
            "Epoch 23/30\n",
            "Epoch 24/30\n",
            "Epoch 25/30\n",
            "Epoch 26/30\n",
            "Epoch 27/30\n",
            "Epoch 28/30\n",
            "Epoch 29/30\n",
            "Epoch 30/30\n",
            "Epoch 1/30\n",
            "Epoch 2/30\n",
            "Epoch 3/30\n",
            "Epoch 4/30\n",
            "Epoch 5/30\n",
            "Epoch 6/30\n",
            "Epoch 7/30\n",
            "Epoch 8/30\n",
            "Epoch 9/30\n",
            "Epoch 10/30\n",
            "Epoch 11/30\n",
            "Epoch 12/30\n",
            "Epoch 13/30\n",
            "Epoch 14/30\n",
            "Epoch 15/30\n",
            "Epoch 16/30\n",
            "Epoch 17/30\n",
            "Epoch 18/30\n",
            "Epoch 19/30\n",
            "Epoch 20/30\n",
            "Epoch 21/30\n",
            "Epoch 22/30\n",
            "Epoch 23/30\n",
            "Epoch 24/30\n",
            "Epoch 25/30\n",
            "Epoch 26/30\n",
            "Epoch 27/30\n",
            "Epoch 28/30\n",
            "Epoch 29/30\n",
            "Epoch 30/30\n",
            "Epoch 1/30\n",
            "Epoch 2/30\n",
            "Epoch 3/30\n",
            "Epoch 4/30\n",
            "Epoch 5/30\n",
            "Epoch 6/30\n",
            "Epoch 7/30\n",
            "Epoch 8/30\n",
            "Epoch 9/30\n",
            "Epoch 10/30\n",
            "Epoch 11/30\n",
            "Epoch 12/30\n",
            "Epoch 13/30\n",
            "Epoch 14/30\n",
            "Epoch 15/30\n",
            "Epoch 16/30\n",
            "Epoch 17/30\n",
            "Epoch 18/30\n",
            "Epoch 19/30\n",
            "Epoch 20/30\n",
            "Epoch 21/30\n",
            "Epoch 22/30\n",
            "Epoch 23/30\n",
            "Epoch 24/30\n",
            "Epoch 25/30\n",
            "Epoch 26/30\n",
            "Epoch 27/30\n",
            "Epoch 28/30\n",
            "Epoch 29/30\n",
            "Epoch 30/30\n",
            "Epoch 1/30\n",
            "Epoch 2/30\n",
            "Epoch 3/30\n",
            "Epoch 4/30\n",
            "Epoch 5/30\n",
            "Epoch 6/30\n",
            "Epoch 7/30\n",
            "Epoch 8/30\n",
            "Epoch 9/30\n",
            "Epoch 10/30\n",
            "Epoch 11/30\n",
            "Epoch 12/30\n",
            "Epoch 13/30\n",
            "Epoch 14/30\n",
            "Epoch 15/30\n",
            "Epoch 16/30\n",
            "Epoch 17/30\n",
            "Epoch 18/30\n",
            "Epoch 19/30\n",
            "Epoch 20/30\n",
            "Epoch 21/30\n",
            "Epoch 22/30\n",
            "Epoch 23/30\n",
            "Epoch 24/30\n",
            "Epoch 25/30\n",
            "Epoch 26/30\n",
            "Epoch 27/30\n",
            "Epoch 28/30\n",
            "Epoch 29/30\n",
            "Epoch 30/30\n",
            "Epoch 1/30\n",
            "Epoch 2/30\n",
            "Epoch 3/30\n",
            "Epoch 4/30\n",
            "Epoch 5/30\n",
            "Epoch 6/30\n",
            "Epoch 7/30\n",
            "Epoch 8/30\n",
            "Epoch 9/30\n",
            "Epoch 10/30\n",
            "Epoch 11/30\n",
            "Epoch 12/30\n",
            "Epoch 13/30\n",
            "Epoch 14/30\n",
            "Epoch 15/30\n",
            "Epoch 16/30\n",
            "Epoch 17/30\n",
            "Epoch 18/30\n",
            "Epoch 19/30\n",
            "Epoch 20/30\n",
            "Epoch 21/30\n",
            "Epoch 22/30\n",
            "Epoch 23/30\n",
            "Epoch 24/30\n",
            "Epoch 25/30\n",
            "Epoch 26/30\n",
            "Epoch 27/30\n",
            "Epoch 28/30\n",
            "Epoch 29/30\n",
            "Epoch 30/30\n",
            "Epoch 1/30\n",
            "Epoch 2/30\n",
            "Epoch 3/30\n",
            "Epoch 4/30\n",
            "Epoch 5/30\n",
            "Epoch 6/30\n",
            "Epoch 7/30\n",
            "Epoch 8/30\n",
            "Epoch 9/30\n",
            "Epoch 10/30\n",
            "Epoch 11/30\n",
            "Epoch 12/30\n",
            "Epoch 13/30\n",
            "Epoch 14/30\n",
            "Epoch 15/30\n",
            "Epoch 16/30\n",
            "Epoch 17/30\n",
            "Epoch 18/30\n",
            "Epoch 19/30\n",
            "Epoch 20/30\n",
            "Epoch 21/30\n",
            "Epoch 22/30\n",
            "Epoch 23/30\n",
            "Epoch 24/30\n",
            "Epoch 25/30\n",
            "Epoch 26/30\n",
            "Epoch 27/30\n",
            "Epoch 28/30\n",
            "Epoch 29/30\n",
            "Epoch 30/30\n",
            "Epoch 1/30\n",
            "Epoch 2/30\n",
            "Epoch 3/30\n",
            "Epoch 4/30\n",
            "Epoch 5/30\n",
            "Epoch 6/30\n",
            "Epoch 7/30\n",
            "Epoch 8/30\n",
            "Epoch 9/30\n",
            "Epoch 10/30\n",
            "Epoch 11/30\n",
            "Epoch 12/30\n",
            "Epoch 13/30\n",
            "Epoch 14/30\n",
            "Epoch 15/30\n",
            "Epoch 16/30\n",
            "Epoch 17/30\n",
            "Epoch 18/30\n",
            "Epoch 19/30\n",
            "Epoch 20/30\n",
            "Epoch 21/30\n",
            "Epoch 22/30\n",
            "Epoch 23/30\n",
            "Epoch 24/30\n",
            "Epoch 25/30\n",
            "Epoch 26/30\n",
            "Epoch 27/30\n",
            "Epoch 28/30\n",
            "Epoch 29/30\n",
            "Epoch 30/30\n",
            "Epoch 1/30\n",
            "Epoch 2/30\n",
            "Epoch 3/30\n",
            "Epoch 4/30\n",
            "Epoch 5/30\n",
            "Epoch 6/30\n",
            "Epoch 7/30\n",
            "Epoch 8/30\n",
            "Epoch 9/30\n",
            "Epoch 10/30\n",
            "Epoch 11/30\n",
            "Epoch 12/30\n",
            "Epoch 13/30\n",
            "Epoch 14/30\n",
            "Epoch 15/30\n",
            "Epoch 16/30\n",
            "Epoch 17/30\n",
            "Epoch 18/30\n",
            "Epoch 19/30\n",
            "Epoch 20/30\n",
            "Epoch 21/30\n",
            "Epoch 22/30\n",
            "Epoch 23/30\n",
            "Epoch 24/30\n",
            "Epoch 25/30\n",
            "Epoch 26/30\n",
            "Epoch 27/30\n",
            "Epoch 28/30\n",
            "Epoch 29/30\n",
            "Epoch 30/30\n",
            "Epoch 1/30\n",
            "Epoch 2/30\n",
            "Epoch 3/30\n",
            "Epoch 4/30\n",
            "Epoch 5/30\n",
            "Epoch 6/30\n",
            "Epoch 7/30\n",
            "Epoch 8/30\n",
            "Epoch 9/30\n",
            "Epoch 10/30\n",
            "Epoch 11/30\n",
            "Epoch 12/30\n",
            "Epoch 13/30\n",
            "Epoch 14/30\n",
            "Epoch 15/30\n",
            "Epoch 16/30\n",
            "Epoch 17/30\n",
            "Epoch 18/30\n",
            "Epoch 19/30\n",
            "Epoch 20/30\n",
            "Epoch 21/30\n",
            "Epoch 22/30\n",
            "Epoch 23/30\n",
            "Epoch 24/30\n",
            "Epoch 25/30\n",
            "Epoch 26/30\n",
            "Epoch 27/30\n",
            "Epoch 28/30\n",
            "Epoch 29/30\n",
            "Epoch 30/30\n",
            "Epoch 1/30\n",
            "Epoch 2/30\n",
            "Epoch 3/30\n",
            "Epoch 4/30\n",
            "Epoch 5/30\n",
            "Epoch 6/30\n",
            "Epoch 7/30\n",
            "Epoch 8/30\n",
            "Epoch 9/30\n",
            "Epoch 10/30\n",
            "Epoch 11/30\n",
            "Epoch 12/30\n",
            "Epoch 13/30\n",
            "Epoch 14/30\n",
            "Epoch 15/30\n",
            "Epoch 16/30\n",
            "Epoch 17/30\n",
            "Epoch 18/30\n",
            "Epoch 19/30\n",
            "Epoch 20/30\n",
            "Epoch 21/30\n",
            "Epoch 22/30\n",
            "Epoch 23/30\n",
            "Epoch 24/30\n",
            "Epoch 25/30\n",
            "Epoch 26/30\n",
            "Epoch 27/30\n",
            "Epoch 28/30\n",
            "Epoch 29/30\n",
            "Epoch 30/30\n",
            "Epoch 1/30\n",
            "Epoch 2/30\n",
            "Epoch 3/30\n",
            "Epoch 4/30\n",
            "Epoch 5/30\n",
            "Epoch 6/30\n",
            "Epoch 7/30\n",
            "Epoch 8/30\n",
            "Epoch 9/30\n",
            "Epoch 10/30\n",
            "Epoch 11/30\n",
            "Epoch 12/30\n",
            "Epoch 13/30\n",
            "Epoch 14/30\n",
            "Epoch 15/30\n",
            "Epoch 16/30\n",
            "Epoch 17/30\n",
            "Epoch 18/30\n",
            "Epoch 19/30\n",
            "Epoch 20/30\n",
            "Epoch 21/30\n",
            "Epoch 22/30\n",
            "Epoch 23/30\n",
            "Epoch 24/30\n",
            "Epoch 25/30\n",
            "Epoch 26/30\n",
            "Epoch 27/30\n",
            "Epoch 28/30\n",
            "Epoch 29/30\n",
            "Epoch 30/30\n",
            "Epoch 1/30\n",
            "Epoch 2/30\n",
            "Epoch 3/30\n",
            "Epoch 4/30\n",
            "Epoch 5/30\n",
            "Epoch 6/30\n",
            "Epoch 7/30\n",
            "Epoch 8/30\n",
            "Epoch 9/30\n",
            "Epoch 10/30\n",
            "Epoch 11/30\n",
            "Epoch 12/30\n",
            "Epoch 13/30\n",
            "Epoch 14/30\n",
            "Epoch 15/30\n",
            "Epoch 16/30\n",
            "Epoch 17/30\n",
            "Epoch 18/30\n",
            "Epoch 19/30\n",
            "Epoch 20/30\n",
            "Epoch 21/30\n",
            "Epoch 22/30\n",
            "Epoch 23/30\n",
            "Epoch 24/30\n",
            "Epoch 25/30\n",
            "Epoch 26/30\n",
            "Epoch 27/30\n",
            "Epoch 28/30\n",
            "Epoch 29/30\n",
            "Epoch 30/30\n",
            "Epoch 1/30\n",
            "Epoch 2/30\n",
            "Epoch 3/30\n",
            "Epoch 4/30\n",
            "Epoch 5/30\n",
            "Epoch 6/30\n",
            "Epoch 7/30\n",
            "Epoch 8/30\n",
            "Epoch 9/30\n",
            "Epoch 10/30\n",
            "Epoch 11/30\n",
            "Epoch 12/30\n",
            "Epoch 13/30\n",
            "Epoch 14/30\n",
            "Epoch 15/30\n",
            "Epoch 16/30\n",
            "Epoch 17/30\n",
            "Epoch 18/30\n",
            "Epoch 19/30\n",
            "Epoch 20/30\n",
            "Epoch 21/30\n",
            "Epoch 22/30\n",
            "Epoch 23/30\n",
            "Epoch 24/30\n",
            "Epoch 25/30\n",
            "Epoch 26/30\n",
            "Epoch 27/30\n",
            "Epoch 28/30\n",
            "Epoch 29/30\n",
            "Epoch 30/30\n",
            "Epoch 1/30\n",
            "Epoch 2/30\n",
            "Epoch 3/30\n",
            "Epoch 4/30\n",
            "Epoch 5/30\n",
            "Epoch 6/30\n",
            "Epoch 7/30\n",
            "Epoch 8/30\n",
            "Epoch 9/30\n",
            "Epoch 10/30\n",
            "Epoch 11/30\n",
            "Epoch 12/30\n",
            "Epoch 13/30\n",
            "Epoch 14/30\n",
            "Epoch 15/30\n",
            "Epoch 16/30\n",
            "Epoch 17/30\n",
            "Epoch 18/30\n",
            "Epoch 19/30\n",
            "Epoch 20/30\n",
            "Epoch 21/30\n",
            "Epoch 22/30\n",
            "Epoch 23/30\n",
            "Epoch 24/30\n",
            "Epoch 25/30\n",
            "Epoch 26/30\n",
            "Epoch 27/30\n",
            "Epoch 28/30\n",
            "Epoch 29/30\n",
            "Epoch 30/30\n",
            "Epoch 1/30\n",
            "Epoch 2/30\n",
            "Epoch 3/30\n",
            "Epoch 4/30\n",
            "Epoch 5/30\n",
            "Epoch 6/30\n",
            "Epoch 7/30\n",
            "Epoch 8/30\n",
            "Epoch 9/30\n",
            "Epoch 10/30\n",
            "Epoch 11/30\n",
            "Epoch 12/30\n",
            "Epoch 13/30\n",
            "Epoch 14/30\n",
            "Epoch 15/30\n",
            "Epoch 16/30\n",
            "Epoch 17/30\n",
            "Epoch 18/30\n",
            "Epoch 19/30\n",
            "Epoch 20/30\n",
            "Epoch 21/30\n",
            "Epoch 22/30\n",
            "Epoch 23/30\n",
            "Epoch 24/30\n",
            "Epoch 25/30\n",
            "Epoch 26/30\n",
            "Epoch 27/30\n",
            "Epoch 28/30\n",
            "Epoch 29/30\n",
            "Epoch 30/30\n",
            "Epoch 1/30\n",
            "Epoch 2/30\n",
            "Epoch 3/30\n",
            "Epoch 4/30\n",
            "Epoch 5/30\n",
            "Epoch 6/30\n",
            "Epoch 7/30\n",
            "Epoch 8/30\n",
            "Epoch 9/30\n",
            "Epoch 10/30\n",
            "Epoch 11/30\n",
            "Epoch 12/30\n",
            "Epoch 13/30\n",
            "Epoch 14/30\n",
            "Epoch 15/30\n",
            "Epoch 16/30\n",
            "Epoch 17/30\n",
            "Epoch 18/30\n",
            "Epoch 19/30\n",
            "Epoch 20/30\n",
            "Epoch 21/30\n",
            "Epoch 22/30\n",
            "Epoch 23/30\n",
            "Epoch 24/30\n",
            "Epoch 25/30\n",
            "Epoch 26/30\n",
            "Epoch 27/30\n",
            "Epoch 28/30\n",
            "Epoch 29/30\n",
            "Epoch 30/30\n",
            "Epoch 1/30\n",
            "Epoch 2/30\n",
            "Epoch 3/30\n",
            "Epoch 4/30\n",
            "Epoch 5/30\n",
            "Epoch 6/30\n",
            "Epoch 7/30\n",
            "Epoch 8/30\n",
            "Epoch 9/30\n",
            "Epoch 10/30\n",
            "Epoch 11/30\n",
            "Epoch 12/30\n",
            "Epoch 13/30\n",
            "Epoch 14/30\n",
            "Epoch 15/30\n",
            "Epoch 16/30\n",
            "Epoch 17/30\n",
            "Epoch 18/30\n",
            "Epoch 19/30\n",
            "Epoch 20/30\n",
            "Epoch 21/30\n",
            "Epoch 22/30\n",
            "Epoch 23/30\n",
            "Epoch 24/30\n",
            "Epoch 25/30\n",
            "Epoch 26/30\n",
            "Epoch 27/30\n",
            "Epoch 28/30\n",
            "Epoch 29/30\n",
            "Epoch 30/30\n",
            "Epoch 1/30\n",
            "Epoch 2/30\n",
            "Epoch 3/30\n",
            "Epoch 4/30\n",
            "Epoch 5/30\n",
            "Epoch 6/30\n",
            "Epoch 7/30\n",
            "Epoch 8/30\n",
            "Epoch 9/30\n",
            "Epoch 10/30\n",
            "Epoch 11/30\n",
            "Epoch 12/30\n",
            "Epoch 13/30\n",
            "Epoch 14/30\n",
            "Epoch 15/30\n",
            "Epoch 16/30\n",
            "Epoch 17/30\n",
            "Epoch 18/30\n",
            "Epoch 19/30\n",
            "Epoch 20/30\n",
            "Epoch 21/30\n",
            "Epoch 22/30\n",
            "Epoch 23/30\n",
            "Epoch 24/30\n",
            "Epoch 25/30\n",
            "Epoch 26/30\n",
            "Epoch 27/30\n",
            "Epoch 28/30\n",
            "Epoch 29/30\n",
            "Epoch 30/30\n",
            "Epoch 1/30\n",
            "Epoch 2/30\n",
            "Epoch 3/30\n",
            "Epoch 4/30\n",
            "Epoch 5/30\n",
            "Epoch 6/30\n",
            "Epoch 7/30\n",
            "Epoch 8/30\n",
            "Epoch 9/30\n",
            "Epoch 10/30\n",
            "Epoch 11/30\n",
            "Epoch 12/30\n",
            "Epoch 13/30\n",
            "Epoch 14/30\n",
            "Epoch 15/30\n",
            "Epoch 16/30\n",
            "Epoch 17/30\n",
            "Epoch 18/30\n",
            "Epoch 19/30\n",
            "Epoch 20/30\n",
            "Epoch 21/30\n",
            "Epoch 22/30\n",
            "Epoch 23/30\n",
            "Epoch 24/30\n",
            "Epoch 25/30\n",
            "Epoch 26/30\n",
            "Epoch 27/30\n",
            "Epoch 28/30\n",
            "Epoch 29/30\n",
            "Epoch 30/30\n",
            "Epoch 1/30\n",
            "Epoch 2/30\n",
            "Epoch 3/30\n",
            "Epoch 4/30\n",
            "Epoch 5/30\n",
            "Epoch 6/30\n",
            "Epoch 7/30\n",
            "Epoch 8/30\n",
            "Epoch 9/30\n",
            "Epoch 10/30\n",
            "Epoch 11/30\n",
            "Epoch 12/30\n",
            "Epoch 13/30\n",
            "Epoch 14/30\n",
            "Epoch 15/30\n",
            "Epoch 16/30\n",
            "Epoch 17/30\n",
            "Epoch 18/30\n",
            "Epoch 19/30\n",
            "Epoch 20/30\n",
            "Epoch 21/30\n",
            "Epoch 22/30\n",
            "Epoch 23/30\n",
            "Epoch 24/30\n",
            "Epoch 25/30\n",
            "Epoch 26/30\n",
            "Epoch 27/30\n",
            "Epoch 28/30\n",
            "Epoch 29/30\n",
            "Epoch 30/30\n",
            "Epoch 1/30\n",
            "Epoch 2/30\n",
            "Epoch 3/30\n",
            "Epoch 4/30\n",
            "Epoch 5/30\n",
            "Epoch 6/30\n",
            "Epoch 7/30\n",
            "Epoch 8/30\n",
            "Epoch 9/30\n",
            "Epoch 10/30\n",
            "Epoch 11/30\n",
            "Epoch 12/30\n",
            "Epoch 13/30\n",
            "Epoch 14/30\n",
            "Epoch 15/30\n",
            "Epoch 16/30\n",
            "Epoch 17/30\n",
            "Epoch 18/30\n",
            "Epoch 19/30\n",
            "Epoch 20/30\n",
            "Epoch 21/30\n",
            "Epoch 22/30\n",
            "Epoch 23/30\n",
            "Epoch 24/30\n",
            "Epoch 25/30\n",
            "Epoch 26/30\n",
            "Epoch 27/30\n",
            "Epoch 28/30\n",
            "Epoch 29/30\n",
            "Epoch 30/30\n",
            "Epoch 1/30\n",
            "Epoch 2/30\n",
            "Epoch 3/30\n",
            "Epoch 4/30\n",
            "Epoch 5/30\n",
            "Epoch 6/30\n",
            "Epoch 7/30\n",
            "Epoch 8/30\n",
            "Epoch 9/30\n",
            "Epoch 10/30\n",
            "Epoch 11/30\n",
            "Epoch 12/30\n",
            "Epoch 13/30\n",
            "Epoch 14/30\n",
            "Epoch 15/30\n",
            "Epoch 16/30\n",
            "Epoch 17/30\n",
            "Epoch 18/30\n",
            "Epoch 19/30\n",
            "Epoch 20/30\n",
            "Epoch 21/30\n",
            "Epoch 22/30\n",
            "Epoch 23/30\n",
            "Epoch 24/30\n",
            "Epoch 25/30\n",
            "Epoch 26/30\n",
            "Epoch 27/30\n",
            "Epoch 28/30\n",
            "Epoch 29/30\n",
            "Epoch 30/30\n",
            "Epoch 1/30\n",
            "Epoch 2/30\n",
            "Epoch 3/30\n",
            "Epoch 4/30\n",
            "Epoch 5/30\n",
            "Epoch 6/30\n",
            "Epoch 7/30\n",
            "Epoch 8/30\n",
            "Epoch 9/30\n",
            "Epoch 10/30\n",
            "Epoch 11/30\n",
            "Epoch 12/30\n",
            "Epoch 13/30\n",
            "Epoch 14/30\n",
            "Epoch 15/30\n",
            "Epoch 16/30\n",
            "Epoch 17/30\n",
            "Epoch 18/30\n",
            "Epoch 19/30\n",
            "Epoch 20/30\n",
            "Epoch 21/30\n",
            "Epoch 22/30\n",
            "Epoch 23/30\n",
            "Epoch 24/30\n",
            "Epoch 25/30\n",
            "Epoch 26/30\n",
            "Epoch 27/30\n",
            "Epoch 28/30\n",
            "Epoch 29/30\n",
            "Epoch 30/30\n",
            "Epoch 1/30\n",
            "Epoch 2/30\n",
            "Epoch 3/30\n",
            "Epoch 4/30\n",
            "Epoch 5/30\n",
            "Epoch 6/30\n",
            "Epoch 7/30\n",
            "Epoch 8/30\n",
            "Epoch 9/30\n",
            "Epoch 10/30\n",
            "Epoch 11/30\n",
            "Epoch 12/30\n",
            "Epoch 13/30\n",
            "Epoch 14/30\n",
            "Epoch 15/30\n",
            "Epoch 16/30\n",
            "Epoch 17/30\n",
            "Epoch 18/30\n",
            "Epoch 19/30\n",
            "Epoch 20/30\n",
            "Epoch 21/30\n",
            "Epoch 22/30\n",
            "Epoch 23/30\n",
            "Epoch 24/30\n",
            "Epoch 25/30\n",
            "Epoch 26/30\n",
            "Epoch 27/30\n",
            "Epoch 28/30\n",
            "Epoch 29/30\n",
            "Epoch 30/30\n",
            "Epoch 1/30\n",
            "Epoch 2/30\n",
            "Epoch 3/30\n",
            "Epoch 4/30\n",
            "Epoch 5/30\n",
            "Epoch 6/30\n",
            "Epoch 7/30\n",
            "Epoch 8/30\n",
            "Epoch 9/30\n",
            "Epoch 10/30\n",
            "Epoch 11/30\n",
            "Epoch 12/30\n",
            "Epoch 13/30\n",
            "Epoch 14/30\n",
            "Epoch 15/30\n",
            "Epoch 16/30\n",
            "Epoch 17/30\n",
            "Epoch 18/30\n",
            "Epoch 19/30\n",
            "Epoch 20/30\n",
            "Epoch 21/30\n",
            "Epoch 22/30\n",
            "Epoch 23/30\n",
            "Epoch 24/30\n",
            "Epoch 25/30\n",
            "Epoch 26/30\n",
            "Epoch 27/30\n",
            "Epoch 28/30\n",
            "Epoch 29/30\n",
            "Epoch 30/30\n",
            "Epoch 1/30\n",
            "Epoch 2/30\n",
            "Epoch 3/30\n",
            "Epoch 4/30\n",
            "Epoch 5/30\n",
            "Epoch 6/30\n",
            "Epoch 7/30\n",
            "Epoch 8/30\n",
            "Epoch 9/30\n",
            "Epoch 10/30\n",
            "Epoch 11/30\n",
            "Epoch 12/30\n",
            "Epoch 13/30\n",
            "Epoch 14/30\n",
            "Epoch 15/30\n",
            "Epoch 16/30\n",
            "Epoch 17/30\n",
            "Epoch 18/30\n",
            "Epoch 19/30\n",
            "Epoch 20/30\n",
            "Epoch 21/30\n",
            "Epoch 22/30\n",
            "Epoch 23/30\n",
            "Epoch 24/30\n",
            "Epoch 25/30\n",
            "Epoch 26/30\n",
            "Epoch 27/30\n",
            "Epoch 28/30\n",
            "Epoch 29/30\n",
            "Epoch 30/30\n",
            "Epoch 1/30\n",
            "Epoch 2/30\n",
            "Epoch 3/30\n",
            "Epoch 4/30\n",
            "Epoch 5/30\n",
            "Epoch 6/30\n",
            "Epoch 7/30\n",
            "Epoch 8/30\n",
            "Epoch 9/30\n",
            "Epoch 10/30\n",
            "Epoch 11/30\n",
            "Epoch 12/30\n",
            "Epoch 13/30\n",
            "Epoch 14/30\n",
            "Epoch 15/30\n",
            "Epoch 16/30\n",
            "Epoch 17/30\n",
            "Epoch 18/30\n",
            "Epoch 19/30\n",
            "Epoch 20/30\n",
            "Epoch 21/30\n",
            "Epoch 22/30\n",
            "Epoch 23/30\n",
            "Epoch 24/30\n",
            "Epoch 25/30\n",
            "Epoch 26/30\n",
            "Epoch 27/30\n",
            "Epoch 28/30\n",
            "Epoch 29/30\n",
            "Epoch 30/30\n",
            "Epoch 1/30\n",
            "Epoch 2/30\n",
            "Epoch 3/30\n",
            "Epoch 4/30\n",
            "Epoch 5/30\n",
            "Epoch 6/30\n",
            "Epoch 7/30\n",
            "Epoch 8/30\n",
            "Epoch 9/30\n",
            "Epoch 10/30\n",
            "Epoch 11/30\n",
            "Epoch 12/30\n",
            "Epoch 13/30\n",
            "Epoch 14/30\n",
            "Epoch 15/30\n",
            "Epoch 16/30\n",
            "Epoch 17/30\n",
            "Epoch 18/30\n",
            "Epoch 19/30\n",
            "Epoch 20/30\n",
            "Epoch 21/30\n",
            "Epoch 22/30\n",
            "Epoch 23/30\n",
            "Epoch 24/30\n",
            "Epoch 25/30\n",
            "Epoch 26/30\n",
            "Epoch 27/30\n",
            "Epoch 28/30\n",
            "Epoch 29/30\n",
            "Epoch 30/30\n",
            "Epoch 1/30\n",
            "Epoch 2/30\n",
            "Epoch 3/30\n",
            "Epoch 4/30\n",
            "Epoch 5/30\n",
            "Epoch 6/30\n",
            "Epoch 7/30\n",
            "Epoch 8/30\n",
            "Epoch 9/30\n",
            "Epoch 10/30\n",
            "Epoch 11/30\n",
            "Epoch 12/30\n",
            "Epoch 13/30\n",
            "Epoch 14/30\n",
            "Epoch 15/30\n",
            "Epoch 16/30\n",
            "Epoch 17/30\n",
            "Epoch 18/30\n",
            "Epoch 19/30\n",
            "Epoch 20/30\n",
            "Epoch 21/30\n",
            "Epoch 22/30\n",
            "Epoch 23/30\n",
            "Epoch 24/30\n",
            "Epoch 25/30\n",
            "Epoch 26/30\n",
            "Epoch 27/30\n",
            "Epoch 28/30\n",
            "Epoch 29/30\n",
            "Epoch 30/30\n",
            "Epoch 1/30\n",
            "Epoch 2/30\n",
            "Epoch 3/30\n",
            "Epoch 4/30\n",
            "Epoch 5/30\n",
            "Epoch 6/30\n",
            "Epoch 7/30\n",
            "Epoch 8/30\n",
            "Epoch 9/30\n",
            "Epoch 10/30\n",
            "Epoch 11/30\n",
            "Epoch 12/30\n",
            "Epoch 13/30\n",
            "Epoch 14/30\n",
            "Epoch 15/30\n",
            "Epoch 16/30\n",
            "Epoch 17/30\n",
            "Epoch 18/30\n",
            "Epoch 19/30\n",
            "Epoch 20/30\n",
            "Epoch 21/30\n",
            "Epoch 22/30\n",
            "Epoch 23/30\n",
            "Epoch 24/30\n",
            "Epoch 25/30\n",
            "Epoch 26/30\n",
            "Epoch 27/30\n",
            "Epoch 28/30\n",
            "Epoch 29/30\n",
            "Epoch 30/30\n",
            "Epoch 1/30\n",
            "Epoch 2/30\n",
            "Epoch 3/30\n",
            "Epoch 4/30\n",
            "Epoch 5/30\n",
            "Epoch 6/30\n",
            "Epoch 7/30\n",
            "Epoch 8/30\n",
            "Epoch 9/30\n",
            "Epoch 10/30\n",
            "Epoch 11/30\n",
            "Epoch 12/30\n",
            "Epoch 13/30\n",
            "Epoch 14/30\n",
            "Epoch 15/30\n",
            "Epoch 16/30\n",
            "Epoch 17/30\n",
            "Epoch 18/30\n",
            "Epoch 19/30\n",
            "Epoch 20/30\n",
            "Epoch 21/30\n",
            "Epoch 22/30\n",
            "Epoch 23/30\n",
            "Epoch 24/30\n",
            "Epoch 25/30\n",
            "Epoch 26/30\n",
            "Epoch 27/30\n",
            "Epoch 28/30\n",
            "Epoch 29/30\n",
            "Epoch 30/30\n",
            "Epoch 1/30\n",
            "Epoch 2/30\n",
            "Epoch 3/30\n",
            "Epoch 4/30\n",
            "Epoch 5/30\n",
            "Epoch 6/30\n",
            "Epoch 7/30\n",
            "Epoch 8/30\n",
            "Epoch 9/30\n",
            "Epoch 10/30\n",
            "Epoch 11/30\n",
            "Epoch 12/30\n",
            "Epoch 13/30\n",
            "Epoch 14/30\n",
            "Epoch 15/30\n",
            "Epoch 16/30\n",
            "Epoch 17/30\n",
            "Epoch 18/30\n",
            "Epoch 19/30\n",
            "Epoch 20/30\n",
            "Epoch 21/30\n",
            "Epoch 22/30\n",
            "Epoch 23/30\n",
            "Epoch 24/30\n",
            "Epoch 25/30\n",
            "Epoch 26/30\n",
            "Epoch 27/30\n",
            "Epoch 28/30\n",
            "Epoch 29/30\n",
            "Epoch 30/30\n",
            "Epoch 1/30\n",
            "Epoch 2/30\n",
            "Epoch 3/30\n",
            "Epoch 4/30\n",
            "Epoch 5/30\n",
            "Epoch 6/30\n",
            "Epoch 7/30\n",
            "Epoch 8/30\n",
            "Epoch 9/30\n",
            "Epoch 10/30\n",
            "Epoch 11/30\n",
            "Epoch 12/30\n",
            "Epoch 13/30\n",
            "Epoch 14/30\n",
            "Epoch 15/30\n",
            "Epoch 16/30\n",
            "Epoch 17/30\n",
            "Epoch 18/30\n",
            "Epoch 19/30\n",
            "Epoch 20/30\n",
            "Epoch 21/30\n",
            "Epoch 22/30\n",
            "Epoch 23/30\n",
            "Epoch 24/30\n",
            "Epoch 25/30\n",
            "Epoch 26/30\n",
            "Epoch 27/30\n",
            "Epoch 28/30\n",
            "Epoch 29/30\n",
            "Epoch 30/30\n",
            "Epoch 1/30\n",
            "Epoch 2/30\n",
            "Epoch 3/30\n",
            "Epoch 4/30\n",
            "Epoch 5/30\n",
            "Epoch 6/30\n",
            "Epoch 7/30\n",
            "Epoch 8/30\n",
            "Epoch 9/30\n",
            "Epoch 10/30\n",
            "Epoch 11/30\n",
            "Epoch 12/30\n",
            "Epoch 13/30\n",
            "Epoch 14/30\n",
            "Epoch 15/30\n",
            "Epoch 16/30\n",
            "Epoch 17/30\n",
            "Epoch 18/30\n",
            "Epoch 19/30\n",
            "Epoch 20/30\n",
            "Epoch 21/30\n",
            "Epoch 22/30\n",
            "Epoch 23/30\n",
            "Epoch 24/30\n",
            "Epoch 25/30\n",
            "Epoch 26/30\n",
            "Epoch 27/30\n",
            "Epoch 28/30\n",
            "Epoch 29/30\n",
            "Epoch 30/30\n",
            "Epoch 1/30\n",
            "Epoch 2/30\n",
            "Epoch 3/30\n",
            "Epoch 4/30\n",
            "Epoch 5/30\n",
            "Epoch 6/30\n",
            "Epoch 7/30\n",
            "Epoch 8/30\n",
            "Epoch 9/30\n",
            "Epoch 10/30\n",
            "Epoch 11/30\n",
            "Epoch 12/30\n",
            "Epoch 13/30\n",
            "Epoch 14/30\n",
            "Epoch 15/30\n",
            "Epoch 16/30\n",
            "Epoch 17/30\n",
            "Epoch 18/30\n",
            "Epoch 19/30\n",
            "Epoch 20/30\n",
            "Epoch 21/30\n",
            "Epoch 22/30\n",
            "Epoch 23/30\n",
            "Epoch 24/30\n",
            "Epoch 25/30\n",
            "Epoch 26/30\n",
            "Epoch 27/30\n",
            "Epoch 28/30\n",
            "Epoch 29/30\n",
            "Epoch 30/30\n",
            "Epoch 1/30\n",
            "Epoch 2/30\n",
            "Epoch 3/30\n",
            "Epoch 4/30\n",
            "Epoch 5/30\n",
            "Epoch 6/30\n",
            "Epoch 7/30\n",
            "Epoch 8/30\n",
            "Epoch 9/30\n",
            "Epoch 10/30\n",
            "Epoch 11/30\n",
            "Epoch 12/30\n",
            "Epoch 13/30\n",
            "Epoch 14/30\n",
            "Epoch 15/30\n",
            "Epoch 16/30\n",
            "Epoch 17/30\n",
            "Epoch 18/30\n",
            "Epoch 19/30\n",
            "Epoch 20/30\n",
            "Epoch 21/30\n",
            "Epoch 22/30\n",
            "Epoch 23/30\n",
            "Epoch 24/30\n",
            "Epoch 25/30\n",
            "Epoch 26/30\n",
            "Epoch 27/30\n",
            "Epoch 28/30\n",
            "Epoch 29/30\n",
            "Epoch 30/30\n",
            "Epoch 1/30\n",
            "Epoch 2/30\n",
            "Epoch 3/30\n",
            "Epoch 4/30\n",
            "Epoch 5/30\n",
            "Epoch 6/30\n",
            "Epoch 7/30\n",
            "Epoch 8/30\n",
            "Epoch 9/30\n",
            "Epoch 10/30\n",
            "Epoch 11/30\n",
            "Epoch 12/30\n",
            "Epoch 13/30\n",
            "Epoch 14/30\n",
            "Epoch 15/30\n",
            "Epoch 16/30\n",
            "Epoch 17/30\n",
            "Epoch 18/30\n",
            "Epoch 19/30\n",
            "Epoch 20/30\n",
            "Epoch 21/30\n",
            "Epoch 22/30\n",
            "Epoch 23/30\n",
            "Epoch 24/30\n",
            "Epoch 25/30\n",
            "Epoch 26/30\n",
            "Epoch 27/30\n",
            "Epoch 28/30\n",
            "Epoch 29/30\n",
            "Epoch 30/30\n",
            "Epoch 1/30\n",
            "Epoch 2/30\n",
            "Epoch 3/30\n",
            "Epoch 4/30\n",
            "Epoch 5/30\n",
            "Epoch 6/30\n",
            "Epoch 7/30\n",
            "Epoch 8/30\n",
            "Epoch 9/30\n",
            "Epoch 10/30\n",
            "Epoch 11/30\n",
            "Epoch 12/30\n",
            "Epoch 13/30\n",
            "Epoch 14/30\n",
            "Epoch 15/30\n",
            "Epoch 16/30\n",
            "Epoch 17/30\n",
            "Epoch 18/30\n",
            "Epoch 19/30\n",
            "Epoch 20/30\n",
            "Epoch 21/30\n",
            "Epoch 22/30\n",
            "Epoch 23/30\n",
            "Epoch 24/30\n",
            "Epoch 25/30\n",
            "Epoch 26/30\n",
            "Epoch 27/30\n",
            "Epoch 28/30\n",
            "Epoch 29/30\n",
            "Epoch 30/30\n",
            "Epoch 1/30\n",
            "Epoch 2/30\n",
            "Epoch 3/30\n",
            "Epoch 4/30\n",
            "Epoch 5/30\n",
            "Epoch 6/30\n",
            "Epoch 7/30\n",
            "Epoch 8/30\n",
            "Epoch 9/30\n",
            "Epoch 10/30\n",
            "Epoch 11/30\n",
            "Epoch 12/30\n",
            "Epoch 13/30\n",
            "Epoch 14/30\n",
            "Epoch 15/30\n",
            "Epoch 16/30\n",
            "Epoch 17/30\n",
            "Epoch 18/30\n",
            "Epoch 19/30\n",
            "Epoch 20/30\n",
            "Epoch 21/30\n",
            "Epoch 22/30\n",
            "Epoch 23/30\n",
            "Epoch 24/30\n",
            "Epoch 25/30\n",
            "Epoch 26/30\n",
            "Epoch 27/30\n",
            "Epoch 28/30\n",
            "Epoch 29/30\n",
            "Epoch 30/30\n",
            "Total execution time with PCA is:  0:29:24.597143\n"
          ]
        }
      ],
      "source": [
        "# START COUNTING THE TIME\n",
        "start = datetime.datetime.now()\n",
        "\n",
        "# FIT THE GRIDSEARCH MODEL\n",
        "grid_fit = grid_cv.fit(X, y)\n",
        "\n",
        "# STOP COUNTING THE TIME\n",
        "end = datetime.datetime.now()\n",
        "print(\"Total execution time with PCA is: \", end-start)"
      ]
    },
    {
      "cell_type": "code",
      "source": [
        "# SUMMARIZE RESULTS\n",
        "\n",
        "print(\"Best: %f using %s\" % (grid_fit.best_score_, grid_fit.best_params_))\n",
        "means = grid_fit.cv_results_['mean_test_score']\n",
        "stds = grid_fit.cv_results_['std_test_score']\n",
        "params = grid_fit.cv_results_['params']\n",
        "\n",
        "for mean, stdev, param in zip(means, stds, params):\n",
        "    print(\"%f (%f) with: %r\" % (mean, stdev, param))"
      ],
      "metadata": {
        "colab": {
          "base_uri": "https://localhost:8080/",
          "height": 300
        },
        "id": "BhXSx2ic37Tn",
        "outputId": "6e77a750-7137-4224-f96e-b9ee79888b31"
      },
      "execution_count": null,
      "outputs": [
        {
          "output_type": "display_data",
          "data": {
            "text/plain": [
              "<IPython.core.display.Javascript object>"
            ],
            "application/javascript": [
              "google.colab.output.setIframeHeight(0, true, {maxHeight: 300})"
            ]
          },
          "metadata": {}
        },
        {
          "output_type": "stream",
          "name": "stdout",
          "text": [
            "Best: 0.728785 using {'optimizer': 'SGD', 'lr': 0.001, 'batch_size': 16, 'activation': 'relu'}\n",
            "0.160843 (0.075841) with: {'optimizer': 'SGD', 'lr': 0.1, 'batch_size': 16, 'activation': 'relu'}\n",
            "0.103716 (0.006972) with: {'optimizer': 'Adam', 'lr': 0.1, 'batch_size': 16, 'activation': 'relu'}\n",
            "0.234054 (0.091885) with: {'optimizer': 'SGD', 'lr': 0.01, 'batch_size': 16, 'activation': 'relu'}\n",
            "0.312257 (0.004150) with: {'optimizer': 'Adam', 'lr': 0.01, 'batch_size': 16, 'activation': 'relu'}\n",
            "0.728785 (0.043728) with: {'optimizer': 'SGD', 'lr': 0.001, 'batch_size': 16, 'activation': 'relu'}\n",
            "0.696062 (0.010197) with: {'optimizer': 'Adam', 'lr': 0.001, 'batch_size': 16, 'activation': 'relu'}\n",
            "0.690516 (0.014184) with: {'optimizer': 'SGD', 'lr': 0.0001, 'batch_size': 16, 'activation': 'relu'}\n",
            "0.714920 (0.006126) with: {'optimizer': 'Adam', 'lr': 0.0001, 'batch_size': 16, 'activation': 'relu'}\n",
            "0.171381 (0.057511) with: {'optimizer': 'SGD', 'lr': 0.1, 'batch_size': 32, 'activation': 'relu'}\n",
            "0.125347 (0.017521) with: {'optimizer': 'Adam', 'lr': 0.1, 'batch_size': 32, 'activation': 'relu'}\n",
            "0.337216 (0.100141) with: {'optimizer': 'SGD', 'lr': 0.01, 'batch_size': 32, 'activation': 'relu'}\n",
            "0.285080 (0.042298) with: {'optimizer': 'Adam', 'lr': 0.01, 'batch_size': 32, 'activation': 'relu'}\n",
            "0.716583 (0.011554) with: {'optimizer': 'SGD', 'lr': 0.001, 'batch_size': 32, 'activation': 'relu'}\n",
            "0.714365 (0.051002) with: {'optimizer': 'Adam', 'lr': 0.001, 'batch_size': 32, 'activation': 'relu'}\n",
            "0.690516 (0.020013) with: {'optimizer': 'SGD', 'lr': 0.0001, 'batch_size': 32, 'activation': 'relu'}\n",
            "0.677759 (0.017309) with: {'optimizer': 'Adam', 'lr': 0.0001, 'batch_size': 32, 'activation': 'relu'}\n",
            "0.103716 (0.006972) with: {'optimizer': 'SGD', 'lr': 0.1, 'batch_size': 16, 'activation': 'LeakyRelu'}\n",
            "0.103716 (0.006972) with: {'optimizer': 'Adam', 'lr': 0.1, 'batch_size': 16, 'activation': 'LeakyRelu'}\n",
            "0.220189 (0.079882) with: {'optimizer': 'SGD', 'lr': 0.01, 'batch_size': 16, 'activation': 'LeakyRelu'}\n",
            "0.317804 (0.069500) with: {'optimizer': 'Adam', 'lr': 0.01, 'batch_size': 16, 'activation': 'LeakyRelu'}\n",
            "0.693289 (0.046516) with: {'optimizer': 'SGD', 'lr': 0.001, 'batch_size': 16, 'activation': 'LeakyRelu'}\n",
            "0.689407 (0.053007) with: {'optimizer': 'Adam', 'lr': 0.001, 'batch_size': 16, 'activation': 'LeakyRelu'}\n",
            "0.686633 (0.022420) with: {'optimizer': 'SGD', 'lr': 0.0001, 'batch_size': 16, 'activation': 'LeakyRelu'}\n",
            "0.708264 (0.025246) with: {'optimizer': 'Adam', 'lr': 0.0001, 'batch_size': 16, 'activation': 'LeakyRelu'}\n",
            "0.173045 (0.027743) with: {'optimizer': 'SGD', 'lr': 0.1, 'batch_size': 32, 'activation': 'LeakyRelu'}\n",
            "0.140876 (0.047692) with: {'optimizer': 'Adam', 'lr': 0.1, 'batch_size': 32, 'activation': 'LeakyRelu'}\n",
            "0.255130 (0.016987) with: {'optimizer': 'SGD', 'lr': 0.01, 'batch_size': 32, 'activation': 'LeakyRelu'}\n",
            "0.335552 (0.092316) with: {'optimizer': 'Adam', 'lr': 0.01, 'batch_size': 32, 'activation': 'LeakyRelu'}\n",
            "0.646145 (0.072162) with: {'optimizer': 'SGD', 'lr': 0.001, 'batch_size': 32, 'activation': 'LeakyRelu'}\n",
            "0.693844 (0.021864) with: {'optimizer': 'Adam', 'lr': 0.001, 'batch_size': 32, 'activation': 'LeakyRelu'}\n",
            "0.661120 (0.012177) with: {'optimizer': 'SGD', 'lr': 0.0001, 'batch_size': 32, 'activation': 'LeakyRelu'}\n",
            "0.676095 (0.017521) with: {'optimizer': 'Adam', 'lr': 0.0001, 'batch_size': 32, 'activation': 'LeakyRelu'}\n"
          ]
        }
      ]
    },
    {
      "cell_type": "markdown",
      "metadata": {
        "id": "JJcaOkDggEDO"
      },
      "source": [
        "#### Results Model V06"
      ]
    },
    {
      "cell_type": "markdown",
      "metadata": {
        "id": "qZt0BJzdgFmI"
      },
      "source": []
    },
    {
      "cell_type": "code",
      "source": [
        "# SAVE THE MODEL GRIDSEARCHCV\n",
        "keras_file_gridsearchCV = \"/content/gdrive/MyDrive/Data_Science_2020-2022/Secondo_anno_Secondo_Semestre/FoDL_Project/Project_Example_Food/saved_models/model_gridsearchCV.h5\"\n",
        "tf.keras.models.save_model(create_GSCV_model(), keras_file_gridsearchCV) # MODIFY MODEL WITH YOUR OWN MODEL"
      ],
      "metadata": {
        "colab": {
          "base_uri": "https://localhost:8080/",
          "height": 17
        },
        "id": "th18D2Wh1Y66",
        "outputId": "89cc55ca-d362-4928-ef1e-2e24f572bab2"
      },
      "execution_count": null,
      "outputs": [
        {
          "output_type": "display_data",
          "data": {
            "text/plain": [
              "<IPython.core.display.Javascript object>"
            ],
            "application/javascript": [
              "google.colab.output.setIframeHeight(0, true, {maxHeight: 300})"
            ]
          },
          "metadata": {}
        }
      ]
    },
    {
      "cell_type": "markdown",
      "source": [
        "**USE THID NEW PARAMETERS FOR FITTING THE BEST PREVIOUS MODEL AND SEE THE FINAL ACCURACY. SAVE THE FINAL MODEL. AFTER THIS, THEN TRANSFER LEARNING TO COMPARE THE RESULTS.**"
      ],
      "metadata": {
        "id": "68yzE0-07Zph"
      }
    },
    {
      "cell_type": "markdown",
      "source": [
        "### 5.1.6 MODEL V04_GRIDSEARCHCV - Retraining with best gridsearchCV parameters - Training the model with Data Agmentation from keras (regularization and dropout)"
      ],
      "metadata": {
        "id": "i9cy6VzitmQO"
      }
    },
    {
      "cell_type": "code",
      "source": [
        "# BEST PARAMETERS\n",
        "batch_size_CV = 16\n",
        "optimizer_CV = 'SGD'\n",
        "learning_rate_CV = 0.001\n",
        "activation_CV = 'relu'\n",
        "\n",
        "# SE PERFORMANCE PEGGIORI, SECMPLICEMENTE STATE THE FACT AND PROCEED WITH TRANSFER LEARNING!\n",
        "# DECISIONE CHE PRENDI, NEL CASO, PROPRIO PER QUESTO MOTIVO!"
      ],
      "metadata": {
        "colab": {
          "base_uri": "https://localhost:8080/",
          "height": 17
        },
        "id": "3hL3gmoutsSp",
        "outputId": "0a559bdb-8cde-4d29-9814-44eb5dbb46c5"
      },
      "execution_count": null,
      "outputs": [
        {
          "output_type": "display_data",
          "data": {
            "text/plain": [
              "<IPython.core.display.Javascript object>"
            ],
            "application/javascript": [
              "google.colab.output.setIframeHeight(0, true, {maxHeight: 300})"
            ]
          },
          "metadata": {}
        }
      ]
    },
    {
      "cell_type": "code",
      "source": [
        "# DATA AUGMENTATION ONLY ON THE TRAINING SET\n",
        "train_datagen_CV = ImageDataGenerator(\n",
        "        rescale=1./255,\n",
        "        shear_range=0.2,\n",
        "        zoom_range=0.1,\n",
        "        horizontal_flip=True,\n",
        "        width_shift_range=0.1,  # randomly shift images horizontally (fraction of total width)\n",
        "        height_shift_range=0.1,\n",
        "        rotation_range=45,\n",
        "        fill_mode='nearest')  # randomly shift images vertically (fraction of total height))\n",
        "\n",
        "# this is the augmentation configuration we will use for testing:\n",
        "# only rescaling\n",
        "test_datagen_CV = ImageDataGenerator(rescale=1./255) \n",
        "val_datagen_CV = ImageDataGenerator(rescale=1./255) \n",
        "\n",
        "# this is a generator that will read pictures found in\n",
        "# subfolers of 'data/train', and indefinitely generate\n",
        "# batches of augmented image data\n",
        "train_generator_CV = train_datagen_CV.flow_from_directory(\n",
        "    base_path_train,\n",
        "    target_size=(SIZE,SIZE),\n",
        "    batch_size=batch_size_CV,\n",
        "    shuffle=True,\n",
        "    class_mode=\"categorical\",\n",
        "    seed = SEED_VALUE)\n",
        "\n",
        "test_generator_CV = test_datagen_CV.flow_from_directory(\n",
        "    base_path_test,\n",
        "    target_size=(SIZE,SIZE),\n",
        "    batch_size=batch_size_CV,\n",
        "    shuffle=False,\n",
        "    class_mode=\"categorical\",\n",
        "    seed = SEED_VALUE)\n",
        "\n",
        "val_generator_CV = val_datagen_CV.flow_from_directory(\n",
        "    base_path_val,\n",
        "    target_size=(SIZE,SIZE),\n",
        "    batch_size=batch_size_CV,\n",
        "    shuffle=False,\n",
        "    class_mode=\"categorical\",\n",
        "    seed = SEED_VALUE)"
      ],
      "metadata": {
        "colab": {
          "base_uri": "https://localhost:8080/",
          "height": 69
        },
        "id": "9cbd2R5n172W",
        "outputId": "31ffa4df-8739-4aa7-dfcf-d18ea00049a3"
      },
      "execution_count": null,
      "outputs": [
        {
          "output_type": "display_data",
          "data": {
            "text/plain": [
              "<IPython.core.display.Javascript object>"
            ],
            "application/javascript": [
              "google.colab.output.setIframeHeight(0, true, {maxHeight: 300})"
            ]
          },
          "metadata": {}
        },
        {
          "output_type": "stream",
          "name": "stdout",
          "text": [
            "Found 1803 images belonging to 9 classes.\n",
            "Found 155 images belonging to 9 classes.\n",
            "Found 192 images belonging to 9 classes.\n"
          ]
        }
      ]
    },
    {
      "cell_type": "code",
      "source": [
        "# ARCHITECTURE FOUND AT: https://blog.keras.io/building-powerful-image-classification-models-using-very-little-data.html\n",
        "inputs = keras.Input((SIZE,SIZE,3))\n",
        "\n",
        "x = inputs\n",
        "\n",
        "x = keras.layers.Conv2D(32, 3, padding=\"same\", kernel_initializer=\"he_uniform\", kernel_regularizer=tf.keras.regularizers.l2(0.001))(x)\n",
        "x = keras.layers.BatchNormalization()(x)\n",
        "x = keras.layers.Activation(activation_CV)(x)\n",
        "x = keras.layers.MaxPooling2D(3, strides=3, padding=\"same\")(x)\n",
        "\n",
        "x = keras.layers.Conv2D(32, 3, padding=\"same\", kernel_initializer=\"he_uniform\", kernel_regularizer=tf.keras.regularizers.l2(0.001))(x)\n",
        "x = keras.layers.BatchNormalization()(x)\n",
        "x = keras.layers.Activation(activation_CV )(x)\n",
        "x = keras.layers.MaxPooling2D(3, strides=3, padding=\"same\")(x)\n",
        "\n",
        "x = keras.layers.Conv2D(64, 3, padding=\"same\", kernel_initializer=\"he_uniform\", kernel_regularizer=tf.keras.regularizers.l2(0.001))(x)\n",
        "x = keras.layers.BatchNormalization()(x)\n",
        "x = keras.layers.Activation(activation_CV)(x)\n",
        "x = keras.layers.MaxPooling2D(3, strides=3, padding=\"same\")(x)\n",
        "\n",
        "x = keras.layers.Conv2D(64, 3, padding=\"same\", kernel_initializer=\"he_uniform\", kernel_regularizer=tf.keras.regularizers.l2(0.001))(x)\n",
        "x = keras.layers.BatchNormalization()(x)\n",
        "x = keras.layers.Activation(activation_CV)(x)\n",
        "x = keras.layers.MaxPooling2D(3, strides=3, padding=\"same\")(x)\n",
        "\n",
        "x = keras.layers.Conv2D(128, 3, padding=\"same\", kernel_initializer=\"he_uniform\", kernel_regularizer=tf.keras.regularizers.l2(0.001))(x)\n",
        "x = keras.layers.BatchNormalization()(x)\n",
        "x = keras.layers.Activation(activation_CV)(x)\n",
        "x = keras.layers.MaxPooling2D(3, strides=3, padding=\"same\")(x)\n",
        "\n",
        "x = keras.layers.Conv2D(128, 3, padding=\"same\", kernel_initializer=\"he_uniform\", kernel_regularizer=tf.keras.regularizers.l2(0.001))(x)\n",
        "x = keras.layers.BatchNormalization()(x)\n",
        "x = keras.layers.Activation(activation_CV)(x)\n",
        "x = keras.layers.MaxPooling2D(3, strides=3, padding=\"same\")(x)\n",
        "\n",
        "x = keras.layers.Conv2D(512, 3, padding=\"same\", kernel_initializer=\"he_uniform\", kernel_regularizer=tf.keras.regularizers.l2(0.001))(x)\n",
        "x = keras.layers.BatchNormalization()(x)\n",
        "x = keras.layers.Activation(activation_CV)(x)\n",
        "x = keras.layers.GlobalMaxPooling2D()(x)\n",
        "\n",
        "# the model so far outputs 3D feature maps (height, width, features)\n",
        "\n",
        "# FLATTEN AND ADD DROPOUT\n",
        "x = tf.keras.layers.Flatten()(x) # this converts our 3D feature maps to 1D feature vectors\n",
        "x = keras.layers.Dense(512, activation=activation_CV, kernel_regularizer=tf.keras.regularizers.l2(0.001))(x)\n",
        "x = keras.layers.Activation(activation_CV)(x)\n",
        "x = keras.layers.Dropout(.20)(x)\n",
        "x = keras.layers.Dense(512, activation=activation_CV, kernel_regularizer=tf.keras.regularizers.l2(0.001))(x)\n",
        "\n",
        "outputs = keras.layers.Dense(num_classes, activation=\"softmax\", kernel_regularizer=tf.keras.regularizers.l2(0.001))(x)\n",
        "\n",
        "net_modelvGSCV = keras.Model(inputs, outputs)\n",
        "\n",
        "net_modelvGSCV.summary()"
      ],
      "metadata": {
        "colab": {
          "base_uri": "https://localhost:8080/",
          "height": 300
        },
        "id": "06uhhTkY2YhS",
        "outputId": "283d17cb-26a7-4ab6-b6f2-4c1c2944dbc6"
      },
      "execution_count": null,
      "outputs": [
        {
          "output_type": "display_data",
          "data": {
            "text/plain": [
              "<IPython.core.display.Javascript object>"
            ],
            "application/javascript": [
              "google.colab.output.setIframeHeight(0, true, {maxHeight: 300})"
            ]
          },
          "metadata": {}
        },
        {
          "output_type": "stream",
          "name": "stdout",
          "text": [
            "Model: \"model_4\"\n",
            "_________________________________________________________________\n",
            " Layer (type)                Output Shape              Param #   \n",
            "=================================================================\n",
            " input_106 (InputLayer)      [(None, 96, 96, 3)]       0         \n",
            "                                                                 \n",
            " conv2d_726 (Conv2D)         (None, 96, 96, 32)        896       \n",
            "                                                                 \n",
            " batch_normalization_726 (Ba  (None, 96, 96, 32)       128       \n",
            " tchNormalization)                                               \n",
            "                                                                 \n",
            " activation_729 (Activation)  (None, 96, 96, 32)       0         \n",
            "                                                                 \n",
            " max_pooling2d_622 (MaxPooli  (None, 32, 32, 32)       0         \n",
            " ng2D)                                                           \n",
            "                                                                 \n",
            " conv2d_727 (Conv2D)         (None, 32, 32, 32)        9248      \n",
            "                                                                 \n",
            " batch_normalization_727 (Ba  (None, 32, 32, 32)       128       \n",
            " tchNormalization)                                               \n",
            "                                                                 \n",
            " activation_730 (Activation)  (None, 32, 32, 32)       0         \n",
            "                                                                 \n",
            " max_pooling2d_623 (MaxPooli  (None, 11, 11, 32)       0         \n",
            " ng2D)                                                           \n",
            "                                                                 \n",
            " conv2d_728 (Conv2D)         (None, 11, 11, 64)        18496     \n",
            "                                                                 \n",
            " batch_normalization_728 (Ba  (None, 11, 11, 64)       256       \n",
            " tchNormalization)                                               \n",
            "                                                                 \n",
            " activation_731 (Activation)  (None, 11, 11, 64)       0         \n",
            "                                                                 \n",
            " max_pooling2d_624 (MaxPooli  (None, 4, 4, 64)         0         \n",
            " ng2D)                                                           \n",
            "                                                                 \n",
            " conv2d_729 (Conv2D)         (None, 4, 4, 64)          36928     \n",
            "                                                                 \n",
            " batch_normalization_729 (Ba  (None, 4, 4, 64)         256       \n",
            " tchNormalization)                                               \n",
            "                                                                 \n",
            " activation_732 (Activation)  (None, 4, 4, 64)         0         \n",
            "                                                                 \n",
            " max_pooling2d_625 (MaxPooli  (None, 2, 2, 64)         0         \n",
            " ng2D)                                                           \n",
            "                                                                 \n",
            " conv2d_730 (Conv2D)         (None, 2, 2, 128)         73856     \n",
            "                                                                 \n",
            " batch_normalization_730 (Ba  (None, 2, 2, 128)        512       \n",
            " tchNormalization)                                               \n",
            "                                                                 \n",
            " activation_733 (Activation)  (None, 2, 2, 128)        0         \n",
            "                                                                 \n",
            " max_pooling2d_626 (MaxPooli  (None, 1, 1, 128)        0         \n",
            " ng2D)                                                           \n",
            "                                                                 \n",
            " conv2d_731 (Conv2D)         (None, 1, 1, 128)         147584    \n",
            "                                                                 \n",
            " batch_normalization_731 (Ba  (None, 1, 1, 128)        512       \n",
            " tchNormalization)                                               \n",
            "                                                                 \n",
            " activation_734 (Activation)  (None, 1, 1, 128)        0         \n",
            "                                                                 \n",
            " max_pooling2d_627 (MaxPooli  (None, 1, 1, 128)        0         \n",
            " ng2D)                                                           \n",
            "                                                                 \n",
            " conv2d_732 (Conv2D)         (None, 1, 1, 512)         590336    \n",
            "                                                                 \n",
            " batch_normalization_732 (Ba  (None, 1, 1, 512)        2048      \n",
            " tchNormalization)                                               \n",
            "                                                                 \n",
            " activation_735 (Activation)  (None, 1, 1, 512)        0         \n",
            "                                                                 \n",
            " global_max_pooling2d_3 (Glo  (None, 512)              0         \n",
            " balMaxPooling2D)                                                \n",
            "                                                                 \n",
            " flatten_104 (Flatten)       (None, 512)               0         \n",
            "                                                                 \n",
            " dense_313 (Dense)           (None, 512)               262656    \n",
            "                                                                 \n",
            " activation_736 (Activation)  (None, 512)              0         \n",
            "                                                                 \n",
            " dropout_104 (Dropout)       (None, 512)               0         \n",
            "                                                                 \n",
            " dense_314 (Dense)           (None, 512)               262656    \n",
            "                                                                 \n",
            " dense_315 (Dense)           (None, 9)                 4617      \n",
            "                                                                 \n",
            "=================================================================\n",
            "Total params: 1,411,113\n",
            "Trainable params: 1,409,193\n",
            "Non-trainable params: 1,920\n",
            "_________________________________________________________________\n"
          ]
        }
      ]
    },
    {
      "cell_type": "code",
      "source": [
        "net_modelvGSCV.compile(loss=keras.losses.categorical_crossentropy,\n",
        "            optimizer= keras.optimizers.SGD(learning_rate=learning_rate_CV),\n",
        "            metrics=['accuracy'])"
      ],
      "metadata": {
        "colab": {
          "base_uri": "https://localhost:8080/",
          "height": 17
        },
        "id": "ZvTDe_hP2gAd",
        "outputId": "1f9e84ea-7144-420f-881a-016cd7b7c6f4"
      },
      "execution_count": null,
      "outputs": [
        {
          "output_type": "display_data",
          "data": {
            "text/plain": [
              "<IPython.core.display.Javascript object>"
            ],
            "application/javascript": [
              "google.colab.output.setIframeHeight(0, true, {maxHeight: 300})"
            ]
          },
          "metadata": {}
        }
      ]
    },
    {
      "cell_type": "code",
      "source": [
        "# START COUNTING THE TIME\n",
        "start = datetime.datetime.now()\n",
        "\n",
        "history_modelv04_CV = net_modelvGSCV.fit(\n",
        "        train_generator_CV,\n",
        "        epochs=50, \n",
        "        steps_per_epoch = train_generator_CV.n // train_generator_CV.batch_size,\n",
        "        validation_data = test_generator_CV,\n",
        "        validation_steps = test_generator_CV.n // test_generator_CV.batch_size,\n",
        "        callbacks = [callback])\n",
        "\n",
        "# STOP COUNTING THE TIME\n",
        "end = datetime.datetime.now()\n",
        "print(\"Total execution time with PCA is: \", end-start)"
      ],
      "metadata": {
        "colab": {
          "base_uri": "https://localhost:8080/",
          "height": 300
        },
        "id": "FoykFdf824t0",
        "outputId": "23b1619f-021e-41e9-fd7b-83b232ecd0da"
      },
      "execution_count": null,
      "outputs": [
        {
          "output_type": "display_data",
          "data": {
            "text/plain": [
              "<IPython.core.display.Javascript object>"
            ],
            "application/javascript": [
              "google.colab.output.setIframeHeight(0, true, {maxHeight: 300})"
            ]
          },
          "metadata": {}
        },
        {
          "output_type": "stream",
          "name": "stdout",
          "text": [
            "Epoch 1/50\n",
            "112/112 [==============================] - 11s 85ms/step - loss: 5.1672 - accuracy: 0.1623 - val_loss: 5.1807 - val_accuracy: 0.0556\n",
            "Epoch 2/50\n",
            "112/112 [==============================] - 10s 90ms/step - loss: 4.9839 - accuracy: 0.2792 - val_loss: 5.1629 - val_accuracy: 0.0833\n",
            "Epoch 3/50\n",
            "112/112 [==============================] - 9s 82ms/step - loss: 4.8854 - accuracy: 0.3218 - val_loss: 5.0296 - val_accuracy: 0.2569\n",
            "Epoch 4/50\n",
            "112/112 [==============================] - 9s 82ms/step - loss: 4.7529 - accuracy: 0.3744 - val_loss: 4.9052 - val_accuracy: 0.2778\n",
            "Epoch 5/50\n",
            "112/112 [==============================] - 9s 82ms/step - loss: 4.6695 - accuracy: 0.4068 - val_loss: 4.8639 - val_accuracy: 0.2847\n",
            "Epoch 6/50\n",
            "112/112 [==============================] - 10s 88ms/step - loss: 4.6041 - accuracy: 0.4219 - val_loss: 4.8644 - val_accuracy: 0.2569\n",
            "Epoch 7/50\n",
            "112/112 [==============================] - 9s 82ms/step - loss: 4.5297 - accuracy: 0.4460 - val_loss: 4.8261 - val_accuracy: 0.2500\n",
            "Epoch 8/50\n",
            "112/112 [==============================] - 9s 82ms/step - loss: 4.4602 - accuracy: 0.4617 - val_loss: 4.7581 - val_accuracy: 0.3264\n",
            "Epoch 9/50\n",
            "112/112 [==============================] - 9s 82ms/step - loss: 4.4247 - accuracy: 0.4807 - val_loss: 4.7482 - val_accuracy: 0.3125\n",
            "Epoch 10/50\n",
            "112/112 [==============================] - 9s 82ms/step - loss: 4.3900 - accuracy: 0.4969 - val_loss: 4.7599 - val_accuracy: 0.2986\n",
            "Epoch 11/50\n",
            "112/112 [==============================] - 9s 82ms/step - loss: 4.3472 - accuracy: 0.5171 - val_loss: 4.6982 - val_accuracy: 0.3264\n",
            "Epoch 12/50\n",
            "112/112 [==============================] - 9s 82ms/step - loss: 4.2880 - accuracy: 0.5327 - val_loss: 4.7632 - val_accuracy: 0.2708\n",
            "Epoch 13/50\n",
            "112/112 [==============================] - 9s 82ms/step - loss: 4.2666 - accuracy: 0.5456 - val_loss: 4.6868 - val_accuracy: 0.3056\n",
            "Epoch 14/50\n",
            "112/112 [==============================] - 9s 82ms/step - loss: 4.2312 - accuracy: 0.5562 - val_loss: 4.6407 - val_accuracy: 0.3264\n",
            "Epoch 15/50\n",
            "112/112 [==============================] - 10s 88ms/step - loss: 4.1897 - accuracy: 0.5753 - val_loss: 4.6092 - val_accuracy: 0.3542\n",
            "Epoch 16/50\n",
            "112/112 [==============================] - 9s 84ms/step - loss: 4.1735 - accuracy: 0.5618 - val_loss: 4.6324 - val_accuracy: 0.3333\n",
            "Epoch 17/50\n",
            "112/112 [==============================] - 10s 89ms/step - loss: 4.1327 - accuracy: 0.5797 - val_loss: 4.6447 - val_accuracy: 0.3264\n",
            "Epoch 18/50\n",
            "112/112 [==============================] - 9s 81ms/step - loss: 4.1078 - accuracy: 0.6010 - val_loss: 4.6118 - val_accuracy: 0.3264\n",
            "Epoch 19/50\n",
            "112/112 [==============================] - 9s 82ms/step - loss: 4.0853 - accuracy: 0.6072 - val_loss: 4.5789 - val_accuracy: 0.3542\n",
            "Epoch 20/50\n",
            "112/112 [==============================] - 10s 86ms/step - loss: 4.0415 - accuracy: 0.6223 - val_loss: 4.6151 - val_accuracy: 0.3403\n",
            "Epoch 21/50\n",
            "112/112 [==============================] - 10s 91ms/step - loss: 4.0401 - accuracy: 0.6200 - val_loss: 4.5403 - val_accuracy: 0.3819\n",
            "Epoch 22/50\n",
            "112/112 [==============================] - 9s 82ms/step - loss: 3.9947 - accuracy: 0.6340 - val_loss: 4.5236 - val_accuracy: 0.4028\n",
            "Epoch 23/50\n",
            "112/112 [==============================] - 9s 83ms/step - loss: 3.9780 - accuracy: 0.6385 - val_loss: 4.5259 - val_accuracy: 0.3958\n",
            "Epoch 24/50\n",
            "112/112 [==============================] - 9s 82ms/step - loss: 3.9569 - accuracy: 0.6491 - val_loss: 4.4765 - val_accuracy: 0.3958\n",
            "Epoch 25/50\n",
            "112/112 [==============================] - 9s 84ms/step - loss: 3.9299 - accuracy: 0.6491 - val_loss: 4.4709 - val_accuracy: 0.3750\n",
            "Epoch 26/50\n",
            "112/112 [==============================] - 9s 82ms/step - loss: 3.9030 - accuracy: 0.6659 - val_loss: 4.4344 - val_accuracy: 0.4167\n",
            "Epoch 27/50\n",
            "112/112 [==============================] - 9s 81ms/step - loss: 3.9286 - accuracy: 0.6480 - val_loss: 4.4929 - val_accuracy: 0.3819\n",
            "Epoch 28/50\n",
            "112/112 [==============================] - 9s 82ms/step - loss: 3.8914 - accuracy: 0.6698 - val_loss: 4.4255 - val_accuracy: 0.4236\n",
            "Epoch 29/50\n",
            "112/112 [==============================] - 9s 81ms/step - loss: 3.8571 - accuracy: 0.6894 - val_loss: 4.4852 - val_accuracy: 0.4028\n",
            "Epoch 30/50\n",
            "112/112 [==============================] - 9s 81ms/step - loss: 3.8337 - accuracy: 0.6821 - val_loss: 4.4009 - val_accuracy: 0.3889\n",
            "Epoch 31/50\n",
            "112/112 [==============================] - 9s 82ms/step - loss: 3.8145 - accuracy: 0.6950 - val_loss: 4.3575 - val_accuracy: 0.4375\n",
            "Epoch 32/50\n",
            "112/112 [==============================] - 9s 82ms/step - loss: 3.7838 - accuracy: 0.7068 - val_loss: 4.3208 - val_accuracy: 0.4931\n",
            "Epoch 33/50\n",
            "112/112 [==============================] - 9s 82ms/step - loss: 3.7919 - accuracy: 0.7079 - val_loss: 4.3643 - val_accuracy: 0.4514\n",
            "Epoch 34/50\n",
            "112/112 [==============================] - 9s 82ms/step - loss: 3.7814 - accuracy: 0.7079 - val_loss: 4.3553 - val_accuracy: 0.4514\n",
            "Epoch 35/50\n",
            "112/112 [==============================] - 10s 90ms/step - loss: 3.7476 - accuracy: 0.7068 - val_loss: 4.2614 - val_accuracy: 0.5139\n",
            "Epoch 36/50\n",
            "112/112 [==============================] - 9s 81ms/step - loss: 3.7476 - accuracy: 0.7191 - val_loss: 4.3474 - val_accuracy: 0.4653\n",
            "Epoch 37/50\n",
            "112/112 [==============================] - 9s 82ms/step - loss: 3.6981 - accuracy: 0.7415 - val_loss: 4.3152 - val_accuracy: 0.4792\n",
            "Epoch 38/50\n",
            "112/112 [==============================] - 9s 81ms/step - loss: 3.7265 - accuracy: 0.7124 - val_loss: 4.2982 - val_accuracy: 0.4931\n",
            "Epoch 39/50\n",
            "112/112 [==============================] - 9s 81ms/step - loss: 3.6897 - accuracy: 0.7342 - val_loss: 4.3211 - val_accuracy: 0.4514\n",
            "Epoch 40/50\n",
            "112/112 [==============================] - 10s 90ms/step - loss: 3.6746 - accuracy: 0.7420 - val_loss: 4.3281 - val_accuracy: 0.4514\n",
            "Epoch 41/50\n",
            "112/112 [==============================] - 9s 82ms/step - loss: 3.6483 - accuracy: 0.7532 - val_loss: 4.2324 - val_accuracy: 0.4931\n",
            "Epoch 42/50\n",
            "112/112 [==============================] - 9s 81ms/step - loss: 3.6568 - accuracy: 0.7431 - val_loss: 4.2553 - val_accuracy: 0.5000\n",
            "Epoch 43/50\n",
            "112/112 [==============================] - 9s 82ms/step - loss: 3.6283 - accuracy: 0.7538 - val_loss: 4.2475 - val_accuracy: 0.5000\n",
            "Epoch 44/50\n",
            "112/112 [==============================] - 9s 82ms/step - loss: 3.6297 - accuracy: 0.7459 - val_loss: 4.1844 - val_accuracy: 0.5069\n",
            "Epoch 45/50\n",
            "112/112 [==============================] - 9s 82ms/step - loss: 3.6167 - accuracy: 0.7487 - val_loss: 4.1813 - val_accuracy: 0.5347\n",
            "Epoch 46/50\n",
            "112/112 [==============================] - 9s 81ms/step - loss: 3.5907 - accuracy: 0.7644 - val_loss: 4.2219 - val_accuracy: 0.5139\n",
            "Epoch 47/50\n",
            "112/112 [==============================] - 9s 83ms/step - loss: 3.5828 - accuracy: 0.7644 - val_loss: 4.1705 - val_accuracy: 0.5347\n",
            "Epoch 48/50\n",
            "112/112 [==============================] - 9s 84ms/step - loss: 3.5807 - accuracy: 0.7678 - val_loss: 4.1811 - val_accuracy: 0.5139\n",
            "Epoch 49/50\n",
            "112/112 [==============================] - 9s 81ms/step - loss: 3.5539 - accuracy: 0.7773 - val_loss: 4.1945 - val_accuracy: 0.5069\n",
            "Epoch 50/50\n",
            "112/112 [==============================] - 9s 82ms/step - loss: 3.5480 - accuracy: 0.7957 - val_loss: 4.1839 - val_accuracy: 0.5208\n",
            "Total execution time with PCA is:  0:08:15.187521\n"
          ]
        }
      ]
    },
    {
      "cell_type": "code",
      "source": [
        "# PLOT THEM TOGETHER\n",
        "# Visualization of the learning curves\n",
        "plt.figure(figsize=(15,6))\n",
        "\n",
        "# VISUALIZZIAMO NUOVAMENTE L'OUTPUT IN TERMINI DI LOSS FUNCTION\n",
        "plt.subplot(1, 2, 1)\n",
        "plt.plot(history_modelv04_CV.history['loss'])\n",
        "plt.plot(history_modelv04_CV.history['val_loss'])\n",
        "plt.ylim([0.0, 6.0]) # è difficile da dire a priori\n",
        "plt.xlabel('Epoch')\n",
        "plt.ylabel('Loss')\n",
        "plt.legend(['train', 'valid'])\n",
        "\n",
        "plt.subplot(1, 2, 2)\n",
        "plt.plot(history_modelv04_CV.history['accuracy'])\n",
        "plt.plot(history_modelv04_CV.history['val_accuracy'])\n",
        "plt.ylim([0.0, 1.0]) # 0.5 è il minimo sindacale - dummy classifier fa 50% - fino al massimo 1. \n",
        "plt.xlabel('Epoch')\n",
        "plt.ylabel('Accuracy')\n",
        "plt.legend(['train', 'valid'])"
      ],
      "metadata": {
        "colab": {
          "base_uri": "https://localhost:8080/",
          "height": 300
        },
        "id": "s96y5dDM3O-y",
        "outputId": "a9ab25f6-8862-48a8-a0cb-c61a318ee050"
      },
      "execution_count": null,
      "outputs": [
        {
          "output_type": "display_data",
          "data": {
            "text/plain": [
              "<IPython.core.display.Javascript object>"
            ],
            "application/javascript": [
              "google.colab.output.setIframeHeight(0, true, {maxHeight: 300})"
            ]
          },
          "metadata": {}
        },
        {
          "output_type": "execute_result",
          "data": {
            "text/plain": [
              "<matplotlib.legend.Legend at 0x7fc5da799610>"
            ]
          },
          "metadata": {},
          "execution_count": 69
        },
        {
          "output_type": "display_data",
          "data": {
            "text/plain": [
              "<Figure size 1080x432 with 2 Axes>"
            ],
            "image/png": "[encoded data removed]"
          },
          "metadata": {
            "needs_background": "light"
          }
        }
      ]
    },
    {
      "cell_type": "markdown",
      "source": [
        "#### Results Model V04 GRIDSEARCHCV"
      ],
      "metadata": {
        "id": "LJBNLLIj3SNw"
      }
    },
    {
      "cell_type": "markdown",
      "source": [],
      "metadata": {
        "id": "5ZtOI97g3VD2"
      }
    },
    {
      "cell_type": "code",
      "source": [
        "# SAVE THE MODEL GRIDSEARCHCV\n",
        "keras_file_modelV04_gridsearchCV = \"/content/gdrive/MyDrive/Data_Science_2020-2022/Secondo_anno_Secondo_Semestre/FoDL_Project/Project_Example_Food/saved_models/modelV04_GSCV.h5\"\n",
        "tf.keras.models.save_model(net_modelvGSCV, keras_file_modelV04_gridsearchCV) # MODIFY MODEL WITH YOUR OWN MODEL"
      ],
      "metadata": {
        "colab": {
          "base_uri": "https://localhost:8080/",
          "height": 17
        },
        "id": "CoHtDdGG6kQX",
        "outputId": "105bcde6-37fa-44f6-b138-540685c4a295"
      },
      "execution_count": null,
      "outputs": [
        {
          "output_type": "display_data",
          "data": {
            "text/plain": [
              "<IPython.core.display.Javascript object>"
            ],
            "application/javascript": [
              "google.colab.output.setIframeHeight(0, true, {maxHeight: 300})"
            ]
          },
          "metadata": {}
        }
      ]
    },
    {
      "cell_type": "code",
      "source": [
        "# GET THE MINIMUM ACCURACY, THE MAXIMUM ACCURACY, THE MINIMUM LOSS, THE MAXIMUM LOSS AND SAVE THEM IN VARIABLES.\n",
        "# THEN CREATE A DATAFRAME AT THE END WHERE YOU CAN COMPARE DIFFERENT MODELS WITH IT!\n",
        "\n",
        "# LOSS/VAL LOSS\n",
        "modelV04_GDCV_minLoss = min(history_modelv04_CV.history['loss'])\n",
        "modelV04_GDCV_maxLoss = max(history_modelv04_CV.history['loss'])\n",
        "modelV04_GDCV_minValLoss = min(history_modelv04_CV.history['val_loss'])\n",
        "modelV04_GDCV_maxValLoss = max(history_modelv04_CV.history['val_loss'])\n",
        "\n",
        "# ACCURACY/VAL ACCURACY\n",
        "modelV04_GDCV_minAccuracy = min(history_modelv04_CV.history['accuracy'])\n",
        "modelV04_GDCV_maxAccuracy = max(history_modelv04_CV.history['accuracy'])\n",
        "modelV04_GDCV_minValAccuracy = min(history_modelv04_CV.history['val_accuracy'])\n",
        "modelV04_GDCV_maxValAccuracy = max(history_modelv04_CV.history['val_accuracy'])\n",
        "\n",
        "# CREATE THE DATAFRAME\n",
        "modelV04_GDCV_loss_accuracy = pd.DataFrame({\"minLoss\": [modelV04_GDCV_minLoss],\n",
        "                                       \"maxloss\": [modelV04_GDCV_maxLoss],\n",
        "                                       \"minValLoss\": [modelV04_GDCV_minValLoss],\n",
        "                                       \"maxValLoss\": [modelV04_GDCV_maxValLoss],\n",
        "                                       \"minAccuracy\": [modelV04_GDCV_minAccuracy],\n",
        "                                       \"maxAccuracy\": [modelV04_GDCV_maxAccuracy],\n",
        "                                       \"minValAccuracy\": [modelV04_GDCV_minValAccuracy],\n",
        "                                       \"maxValAccuracy\": [modelV04_GDCV_maxValAccuracy]}).T\n",
        "\n",
        "# CHANGE THE FIRST COLUMN NAME\n",
        "modelV04_GDCV_loss_accuracy = modelV04_GDCV_loss_accuracy.rename(columns={0: 'modelV04_GDCV'})\n",
        "# CHANGE THE INDEX NAME\n",
        "modelV04_GDCV_loss_accuracy.index.names = ['Performance']\n",
        "modelV04_GDCV_loss_accuracy"
      ],
      "metadata": {
        "colab": {
          "base_uri": "https://localhost:8080/",
          "height": 300
        },
        "id": "Fje84e7O3VZw",
        "outputId": "63e1455a-0321-4940-dd01-6862cb8e35a6"
      },
      "execution_count": null,
      "outputs": [
        {
          "output_type": "display_data",
          "data": {
            "text/plain": [
              "<IPython.core.display.Javascript object>"
            ],
            "application/javascript": [
              "google.colab.output.setIframeHeight(0, true, {maxHeight: 300})"
            ]
          },
          "metadata": {}
        },
        {
          "output_type": "execute_result",
          "data": {
            "text/plain": [
              "                modelV04_GDCV\n",
              "Performance                  \n",
              "minLoss              3.547980\n",
              "maxloss              5.167212\n",
              "minValLoss           4.170539\n",
              "maxValLoss           5.180653\n",
              "minAccuracy          0.162283\n",
              "maxAccuracy          0.795747\n",
              "minValAccuracy       0.055556\n",
              "maxValAccuracy       0.534722"
            ],
            "text/html": [
              "\n",
              "  <div id=\"df-a6759d72-1cbc-4d87-8d0b-9dda34cf5b16\">\n",
              "    <div class=\"colab-df-container\">\n",
              "      <div>\n",
              "<style scoped>\n",
              "    .dataframe tbody tr th:only-of-type {\n",
              "        vertical-align: middle;\n",
              "    }\n",
              "\n",
              "    .dataframe tbody tr th {\n",
              "        vertical-align: top;\n",
              "    }\n",
              "\n",
              "    .dataframe thead th {\n",
              "        text-align: right;\n",
              "    }\n",
              "</style>\n",
              "<table border=\"1\" class=\"dataframe\">\n",
              "  <thead>\n",
              "    <tr style=\"text-align: right;\">\n",
              "      <th></th>\n",
              "      <th>modelV04_GDCV</th>\n",
              "    </tr>\n",
              "    <tr>\n",
              "      <th>Performance</th>\n",
              "      <th></th>\n",
              "    </tr>\n",
              "  </thead>\n",
              "  <tbody>\n",
              "    <tr>\n",
              "      <th>minLoss</th>\n",
              "      <td>3.547980</td>\n",
              "    </tr>\n",
              "    <tr>\n",
              "      <th>maxloss</th>\n",
              "      <td>5.167212</td>\n",
              "    </tr>\n",
              "    <tr>\n",
              "      <th>minValLoss</th>\n",
              "      <td>4.170539</td>\n",
              "    </tr>\n",
              "    <tr>\n",
              "      <th>maxValLoss</th>\n",
              "      <td>5.180653</td>\n",
              "    </tr>\n",
              "    <tr>\n",
              "      <th>minAccuracy</th>\n",
              "      <td>0.162283</td>\n",
              "    </tr>\n",
              "    <tr>\n",
              "      <th>maxAccuracy</th>\n",
              "      <td>0.795747</td>\n",
              "    </tr>\n",
              "    <tr>\n",
              "      <th>minValAccuracy</th>\n",
              "      <td>0.055556</td>\n",
              "    </tr>\n",
              "    <tr>\n",
              "      <th>maxValAccuracy</th>\n",
              "      <td>0.534722</td>\n",
              "    </tr>\n",
              "  </tbody>\n",
              "</table>\n",
              "</div>\n",
              "      <button class=\"colab-df-convert\" onclick=\"convertToInteractive('df-a6759d72-1cbc-4d87-8d0b-9dda34cf5b16')\"\n",
              "              title=\"Convert this dataframe to an interactive table.\"\n",
              "              style=\"display:none;\">\n",
              "        \n",
              "  <svg xmlns=\"http://www.w3.org/2000/svg\" height=\"24px\"viewBox=\"0 0 24 24\"\n",
              "       width=\"24px\">\n",
              "    <path d=\"M0 0h24v24H0V0z\" fill=\"none\"/>\n",
              "    <path d=\"M18.56 5.44l.94 2.06.94-2.06 2.06-.94-2.06-.94-.94-2.06-.94 2.06-2.06.94zm-11 1L8.5 8.5l.94-2.06 2.06-.94-2.06-.94L8.5 2.5l-.94 2.06-2.06.94zm10 10l.94 2.06.94-2.06 2.06-.94-2.06-.94-.94-2.06-.94 2.06-2.06.94z\"/><path d=\"M17.41 7.96l-1.37-1.37c-.4-.4-.92-.59-1.43-.59-.52 0-1.04.2-1.43.59L10.3 9.45l-7.72 7.72c-.78.78-.78 2.05 0 2.83L4 21.41c.39.39.9.59 1.41.59.51 0 1.02-.2 1.41-.59l7.78-7.78 2.81-2.81c.8-.78.8-2.07 0-2.86zM5.41 20L4 18.59l7.72-7.72 1.47 1.35L5.41 20z\"/>\n",
              "  </svg>\n",
              "      </button>\n",
              "      \n",
              "  <style>\n",
              "    .colab-df-container {\n",
              "      display:flex;\n",
              "      flex-wrap:wrap;\n",
              "      gap: 12px;\n",
              "    }\n",
              "\n",
              "    .colab-df-convert {\n",
              "      background-color: #E8F0FE;\n",
              "      border: none;\n",
              "      border-radius: 50%;\n",
              "      cursor: pointer;\n",
              "      display: none;\n",
              "      fill: #1967D2;\n",
              "      height: 32px;\n",
              "      padding: 0 0 0 0;\n",
              "      width: 32px;\n",
              "    }\n",
              "\n",
              "    .colab-df-convert:hover {\n",
              "      background-color: #E2EBFA;\n",
              "      box-shadow: 0px 1px 2px rgba(60, 64, 67, 0.3), 0px 1px 3px 1px rgba(60, 64, 67, 0.15);\n",
              "      fill: #174EA6;\n",
              "    }\n",
              "\n",
              "    [theme=dark] .colab-df-convert {\n",
              "      background-color: #3B4455;\n",
              "      fill: #D2E3FC;\n",
              "    }\n",
              "\n",
              "    [theme=dark] .colab-df-convert:hover {\n",
              "      background-color: #434B5C;\n",
              "      box-shadow: 0px 1px 3px 1px rgba(0, 0, 0, 0.15);\n",
              "      filter: drop-shadow(0px 1px 2px rgba(0, 0, 0, 0.3));\n",
              "      fill: #FFFFFF;\n",
              "    }\n",
              "  </style>\n",
              "\n",
              "      <script>\n",
              "        const buttonEl =\n",
              "          document.querySelector('#df-a6759d72-1cbc-4d87-8d0b-9dda34cf5b16 button.colab-df-convert');\n",
              "        buttonEl.style.display =\n",
              "          google.colab.kernel.accessAllowed ? 'block' : 'none';\n",
              "\n",
              "        async function convertToInteractive(key) {\n",
              "          const element = document.querySelector('#df-a6759d72-1cbc-4d87-8d0b-9dda34cf5b16');\n",
              "          const dataTable =\n",
              "            await google.colab.kernel.invokeFunction('convertToInteractive',\n",
              "                                                     [key], {});\n",
              "          if (!dataTable) return;\n",
              "\n",
              "          const docLinkHtml = 'Like what you see? Visit the ' +\n",
              "            '<a target=\"_blank\" href=https://colab.research.google.com/notebooks/data_table.ipynb>data table notebook</a>'\n",
              "            + ' to learn more about interactive tables.';\n",
              "          element.innerHTML = '';\n",
              "          dataTable['output_type'] = 'display_data';\n",
              "          await google.colab.output.renderOutput(dataTable, element);\n",
              "          const docLink = document.createElement('div');\n",
              "          docLink.innerHTML = docLinkHtml;\n",
              "          element.appendChild(docLink);\n",
              "        }\n",
              "      </script>\n",
              "    </div>\n",
              "  </div>\n",
              "  "
            ]
          },
          "metadata": {},
          "execution_count": 70
        }
      ]
    },
    {
      "cell_type": "markdown",
      "source": [
        "\n",
        "\n",
        "---\n",
        "\n",
        "\n",
        "\n",
        "---\n",
        "\n"
      ],
      "metadata": {
        "id": "6aHNAioKO64G"
      }
    },
    {
      "cell_type": "markdown",
      "metadata": {
        "id": "LJcpQKBp0JJW"
      },
      "source": [
        "### 5.1.7 Model V04 - Transfer learning with MOBILENETV2"
      ]
    },
    {
      "cell_type": "markdown",
      "source": [
        "USA QUESTO COME COMPARAZIONE:\n",
        "\n",
        "- https://medium.com/analytics-vidhya/indian-food-image-classification-using-transfer-learning-b8878187ddd1\n",
        "\n",
        "- https://towardsdatascience.com/a-comprehensive-hands-on-guide-to-transfer-learning-with-real-world-applications-in-deep-learning-212bf3b2f27a\n",
        "\n",
        "- https://www.analyticsvidhya.com/blog/2020/10/create-image-classification-model-python-keras/\n",
        "\n",
        "- https://machinelearningmastery.com/evaluate-performance-deep-learning-models-keras/\n",
        "\n",
        "- https://medium.com/analytics-vidhya/indian-food-image-classification-using-transfer-learning-b8878187ddd1\n",
        "\n",
        "- https://medium.com/analytics-vidhya/indian-food-image-classification-using-transfer-learning-b8878187ddd1\n",
        "\n",
        "- https://pyimagesearch.com/2016/08/10/imagenet-classification-with-python-and-keras/\n",
        "\n",
        "QUALE ARCHITETTURA?\n",
        "\n",
        "MOBILENET OR RESNET? APPLICALE ENTRAMBE E COMPARA RISULTATI SU ALMENO 50 EPOCHE!\n",
        "- https://www.tertiaryinfotech.com/comparing-pre-trained-resnet-and-mobilenet/"
      ],
      "metadata": {
        "id": "j3E7HMdqM2vu"
      }
    },
    {
      "cell_type": "markdown",
      "metadata": {
        "id": "ddL-xctx3Sgz"
      },
      "source": [
        "The goal of using a pretrained model is that this model has been built to be very good at extracting useful features from images (it is called _feature extractor_).\n",
        "The all convolutional layer that is not meant to do classification (the last layer) has the goal of extracting features from the images.\n",
        "We will use those features in order to classify our data.\n",
        "\n",
        "(ESTENDERE QUESTA SPIEGAZIONE IN MANIERA MIGLIORE!)"
      ]
    },
    {
      "cell_type": "markdown",
      "source": [
        "##### MOBILENETV2"
      ],
      "metadata": {
        "id": "z7Pw_Seuc4Fg"
      }
    },
    {
      "cell_type": "markdown",
      "source": [
        "https://towardsdatascience.com/transfer-learning-using-mobilenet-and-keras-c75daf7ff299\n",
        "\n",
        "Comparazione MOBILENETV2 e RESNET50:\n",
        "- https://analyticsindiamag.com/mobilenet-vs-resnet50-two-cnn-transfer-learning-light-frameworks/\n",
        "\n",
        "- https://www.tertiaryinfotech.com/comparing-pre-trained-resnet-and-mobilenet/"
      ],
      "metadata": {
        "id": "dEV9W-a-eAKJ"
      }
    },
    {
      "cell_type": "code",
      "source": [
        "# DATA AUGMENTATION ONLY ON THE TRAINING SET\n",
        "train_datagen_mnetv2 = ImageDataGenerator(\n",
        "        rescale=1./255,\n",
        "        shear_range=0.2,\n",
        "        zoom_range=0.1,\n",
        "        horizontal_flip=True,\n",
        "        width_shift_range=0.1,  # randomly shift images horizontally (fraction of total width)\n",
        "        height_shift_range=0.1,\n",
        "        rotation_range=45,\n",
        "        fill_mode='nearest')  # randomly shift images vertically (fraction of total height))\n",
        "\n",
        "# this is the augmentation configuration we will use for testing:\n",
        "# only rescaling\n",
        "test_datagen_mnetv2 = ImageDataGenerator(rescale=1./255) \n",
        "val_datagen_mnetv2 = ImageDataGenerator(rescale=1./255) \n",
        "\n",
        "# this is a generator that will read pictures found in\n",
        "# subfolers of 'data/train', and indefinitely generate\n",
        "# batches of augmented image data\n",
        "train_generator_mnetv2 = train_datagen_mnetv2.flow_from_directory(\n",
        "    base_path_train,\n",
        "    target_size=(224,224),\n",
        "    batch_size=batch_size_CV,\n",
        "    shuffle=True,\n",
        "    class_mode=\"categorical\",\n",
        "    seed = SEED_VALUE)\n",
        "\n",
        "test_generator_mnetv2 = test_datagen_mnetv2.flow_from_directory(\n",
        "    base_path_test,\n",
        "    target_size=(224,224),\n",
        "    batch_size=batch_size_CV,\n",
        "    shuffle=False,\n",
        "    class_mode=\"categorical\",\n",
        "    seed = SEED_VALUE)\n",
        "\n",
        "# TOGLIERE: USARE SOLO NEL NOTEBOOK DI TEST!\n",
        "# val_generator = val_datagen.flow_from_directory(\n",
        "#     base_path_val,\n",
        "#     target_size=(224,224),\n",
        "#     batch_size=batch_size_CV,\n",
        "#     shuffle=False,\n",
        "#     class_mode=\"categorical\",\n",
        "#     seed = SEED_VALUE)"
      ],
      "metadata": {
        "colab": {
          "base_uri": "https://localhost:8080/",
          "height": 69
        },
        "id": "CshjsQ-b7fPC",
        "outputId": "4dc63249-02c3-4984-93f1-6b66dada0d9e"
      },
      "execution_count": null,
      "outputs": [
        {
          "output_type": "display_data",
          "data": {
            "text/plain": [
              "<IPython.core.display.Javascript object>"
            ],
            "application/javascript": [
              "google.colab.output.setIframeHeight(0, true, {maxHeight: 300})"
            ]
          },
          "metadata": {}
        },
        {
          "output_type": "stream",
          "name": "stdout",
          "text": [
            "Found 1803 images belonging to 9 classes.\n",
            "Found 155 images belonging to 9 classes.\n",
            "Found 192 images belonging to 9 classes.\n"
          ]
        }
      ]
    },
    {
      "cell_type": "code",
      "source": [
        "# INSERISCI SITO E SPIEGAZIONE COME RIFERIMENTO: https://www.image-net.org/download.php\n",
        "\n",
        "base_model_mobilenetv2 = tf.keras.applications.MobileNetV2(\n",
        "    input_shape = (224, 224, 3),\n",
        "    # include_top means: do you want to keep the classification layer, the final classification that the original model was training on.\n",
        "    # MobileNetV2 was originally trained on the ImageNet dataset. Because the final layer has 1000 classes, if we would keep it, we\n",
        "    # would have 1000 classes at the end. We do not want that but, instead, we want our own classification layer at the end.\n",
        "    include_top=False, \n",
        "    # We keep the same weights\n",
        "    weights=\"imagenet\",\n",
        "    # # Average pooling at the end: it will ensure that the output of the pretrained model is one-dimensional (with n classes).\n",
        "    # pooling=\"avg\"\n",
        ")\n",
        "# With the following we ensure that we do not mess with the original\n",
        "# imagenet weights\n",
        "base_model_mobilenetv2.trainable = False\n",
        "\n",
        "\n",
        "x = base_model_mobilenetv2.output\n",
        "x = keras.layers.GlobalAveragePooling2D()(x)\n",
        "x = keras.layers.Dense(512, activation='relu')(x)\n",
        "# We are using \"softmax\" since we want 9 probability values that all sum to 1 and the highest probability\n",
        "# will be our classification result.\n",
        "# For the regularizer: https://github.com/christianversloot/machine-learning-articles/blob/main/how-to-use-l1-l2-and-elastic-net-regularization-with-keras.md\n",
        "preds = Dense(num_classes, activation='softmax')(x) #final layer with softmax activation for N classes\n",
        "\n",
        "model_mobilenetv2 = keras.Model(inputs = base_model_mobilenetv2.input, outputs = preds) #specify the inputs and outputs"
      ],
      "metadata": {
        "colab": {
          "base_uri": "https://localhost:8080/",
          "height": 52
        },
        "id": "Z2R2Rz97vemM",
        "outputId": "27f22201-523b-49e3-be85-e743c0ee1488"
      },
      "execution_count": null,
      "outputs": [
        {
          "output_type": "display_data",
          "data": {
            "text/plain": [
              "<IPython.core.display.Javascript object>"
            ],
            "application/javascript": [
              "google.colab.output.setIframeHeight(0, true, {maxHeight: 300})"
            ]
          },
          "metadata": {}
        },
        {
          "output_type": "stream",
          "name": "stdout",
          "text": [
            "Downloading data from https://storage.googleapis.com/tensorflow/keras-applications/mobilenet_v2/mobilenet_v2_weights_tf_dim_ordering_tf_kernels_1.0_224_no_top.h5\n",
            "9406464/9406464 [==============================] - 0s 0us/step\n"
          ]
        }
      ]
    },
    {
      "cell_type": "code",
      "execution_count": null,
      "metadata": {
        "id": "PXr6-CYSzbYH",
        "colab": {
          "base_uri": "https://localhost:8080/",
          "height": 300
        },
        "outputId": "bac4ee96-b8ab-4152-efb1-6875e20b538d"
      },
      "outputs": [
        {
          "output_type": "display_data",
          "data": {
            "text/plain": [
              "<IPython.core.display.Javascript object>"
            ],
            "application/javascript": [
              "google.colab.output.setIframeHeight(0, true, {maxHeight: 300})"
            ]
          },
          "metadata": {}
        },
        {
          "output_type": "stream",
          "name": "stdout",
          "text": [
            "Model: \"model\"\n",
            "__________________________________________________________________________________________________\n",
            " Layer (type)                   Output Shape         Param #     Connected to                     \n",
            "==================================================================================================\n",
            " input_1 (InputLayer)           [(None, 224, 224, 3  0           []                               \n",
            "                                )]                                                                \n",
            "                                                                                                  \n",
            " Conv1 (Conv2D)                 (None, 112, 112, 32  864         ['input_1[0][0]']                \n",
            "                                )                                                                 \n",
            "                                                                                                  \n",
            " bn_Conv1 (BatchNormalization)  (None, 112, 112, 32  128         ['Conv1[0][0]']                  \n",
            "                                )                                                                 \n",
            "                                                                                                  \n",
            " Conv1_relu (ReLU)              (None, 112, 112, 32  0           ['bn_Conv1[0][0]']               \n",
            "                                )                                                                 \n",
            "                                                                                                  \n",
            " expanded_conv_depthwise (Depth  (None, 112, 112, 32  288        ['Conv1_relu[0][0]']             \n",
            " wiseConv2D)                    )                                                                 \n",
            "                                                                                                  \n",
            " expanded_conv_depthwise_BN (Ba  (None, 112, 112, 32  128        ['expanded_conv_depthwise[0][0]']\n",
            " tchNormalization)              )                                                                 \n",
            "                                                                                                  \n",
            " expanded_conv_depthwise_relu (  (None, 112, 112, 32  0          ['expanded_conv_depthwise_BN[0][0\n",
            " ReLU)                          )                                ]']                              \n",
            "                                                                                                  \n",
            " expanded_conv_project (Conv2D)  (None, 112, 112, 16  512        ['expanded_conv_depthwise_relu[0]\n",
            "                                )                                [0]']                            \n",
            "                                                                                                  \n",
            " expanded_conv_project_BN (Batc  (None, 112, 112, 16  64         ['expanded_conv_project[0][0]']  \n",
            " hNormalization)                )                                                                 \n",
            "                                                                                                  \n",
            " block_1_expand (Conv2D)        (None, 112, 112, 96  1536        ['expanded_conv_project_BN[0][0]'\n",
            "                                )                                ]                                \n",
            "                                                                                                  \n",
            " block_1_expand_BN (BatchNormal  (None, 112, 112, 96  384        ['block_1_expand[0][0]']         \n",
            " ization)                       )                                                                 \n",
            "                                                                                                  \n",
            " block_1_expand_relu (ReLU)     (None, 112, 112, 96  0           ['block_1_expand_BN[0][0]']      \n",
            "                                )                                                                 \n",
            "                                                                                                  \n",
            " block_1_pad (ZeroPadding2D)    (None, 113, 113, 96  0           ['block_1_expand_relu[0][0]']    \n",
            "                                )                                                                 \n",
            "                                                                                                  \n",
            " block_1_depthwise (DepthwiseCo  (None, 56, 56, 96)  864         ['block_1_pad[0][0]']            \n",
            " nv2D)                                                                                            \n",
            "                                                                                                  \n",
            " block_1_depthwise_BN (BatchNor  (None, 56, 56, 96)  384         ['block_1_depthwise[0][0]']      \n",
            " malization)                                                                                      \n",
            "                                                                                                  \n",
            " block_1_depthwise_relu (ReLU)  (None, 56, 56, 96)   0           ['block_1_depthwise_BN[0][0]']   \n",
            "                                                                                                  \n",
            " block_1_project (Conv2D)       (None, 56, 56, 24)   2304        ['block_1_depthwise_relu[0][0]'] \n",
            "                                                                                                  \n",
            " block_1_project_BN (BatchNorma  (None, 56, 56, 24)  96          ['block_1_project[0][0]']        \n",
            " lization)                                                                                        \n",
            "                                                                                                  \n",
            " block_2_expand (Conv2D)        (None, 56, 56, 144)  3456        ['block_1_project_BN[0][0]']     \n",
            "                                                                                                  \n",
            " block_2_expand_BN (BatchNormal  (None, 56, 56, 144)  576        ['block_2_expand[0][0]']         \n",
            " ization)                                                                                         \n",
            "                                                                                                  \n",
            " block_2_expand_relu (ReLU)     (None, 56, 56, 144)  0           ['block_2_expand_BN[0][0]']      \n",
            "                                                                                                  \n",
            " block_2_depthwise (DepthwiseCo  (None, 56, 56, 144)  1296       ['block_2_expand_relu[0][0]']    \n",
            " nv2D)                                                                                            \n",
            "                                                                                                  \n",
            " block_2_depthwise_BN (BatchNor  (None, 56, 56, 144)  576        ['block_2_depthwise[0][0]']      \n",
            " malization)                                                                                      \n",
            "                                                                                                  \n",
            " block_2_depthwise_relu (ReLU)  (None, 56, 56, 144)  0           ['block_2_depthwise_BN[0][0]']   \n",
            "                                                                                                  \n",
            " block_2_project (Conv2D)       (None, 56, 56, 24)   3456        ['block_2_depthwise_relu[0][0]'] \n",
            "                                                                                                  \n",
            " block_2_project_BN (BatchNorma  (None, 56, 56, 24)  96          ['block_2_project[0][0]']        \n",
            " lization)                                                                                        \n",
            "                                                                                                  \n",
            " block_2_add (Add)              (None, 56, 56, 24)   0           ['block_1_project_BN[0][0]',     \n",
            "                                                                  'block_2_project_BN[0][0]']     \n",
            "                                                                                                  \n",
            " block_3_expand (Conv2D)        (None, 56, 56, 144)  3456        ['block_2_add[0][0]']            \n",
            "                                                                                                  \n",
            " block_3_expand_BN (BatchNormal  (None, 56, 56, 144)  576        ['block_3_expand[0][0]']         \n",
            " ization)                                                                                         \n",
            "                                                                                                  \n",
            " block_3_expand_relu (ReLU)     (None, 56, 56, 144)  0           ['block_3_expand_BN[0][0]']      \n",
            "                                                                                                  \n",
            " block_3_pad (ZeroPadding2D)    (None, 57, 57, 144)  0           ['block_3_expand_relu[0][0]']    \n",
            "                                                                                                  \n",
            " block_3_depthwise (DepthwiseCo  (None, 28, 28, 144)  1296       ['block_3_pad[0][0]']            \n",
            " nv2D)                                                                                            \n",
            "                                                                                                  \n",
            " block_3_depthwise_BN (BatchNor  (None, 28, 28, 144)  576        ['block_3_depthwise[0][0]']      \n",
            " malization)                                                                                      \n",
            "                                                                                                  \n",
            " block_3_depthwise_relu (ReLU)  (None, 28, 28, 144)  0           ['block_3_depthwise_BN[0][0]']   \n",
            "                                                                                                  \n",
            " block_3_project (Conv2D)       (None, 28, 28, 32)   4608        ['block_3_depthwise_relu[0][0]'] \n",
            "                                                                                                  \n",
            " block_3_project_BN (BatchNorma  (None, 28, 28, 32)  128         ['block_3_project[0][0]']        \n",
            " lization)                                                                                        \n",
            "                                                                                                  \n",
            " block_4_expand (Conv2D)        (None, 28, 28, 192)  6144        ['block_3_project_BN[0][0]']     \n",
            "                                                                                                  \n",
            " block_4_expand_BN (BatchNormal  (None, 28, 28, 192)  768        ['block_4_expand[0][0]']         \n",
            " ization)                                                                                         \n",
            "                                                                                                  \n",
            " block_4_expand_relu (ReLU)     (None, 28, 28, 192)  0           ['block_4_expand_BN[0][0]']      \n",
            "                                                                                                  \n",
            " block_4_depthwise (DepthwiseCo  (None, 28, 28, 192)  1728       ['block_4_expand_relu[0][0]']    \n",
            " nv2D)                                                                                            \n",
            "                                                                                                  \n",
            " block_4_depthwise_BN (BatchNor  (None, 28, 28, 192)  768        ['block_4_depthwise[0][0]']      \n",
            " malization)                                                                                      \n",
            "                                                                                                  \n",
            " block_4_depthwise_relu (ReLU)  (None, 28, 28, 192)  0           ['block_4_depthwise_BN[0][0]']   \n",
            "                                                                                                  \n",
            " block_4_project (Conv2D)       (None, 28, 28, 32)   6144        ['block_4_depthwise_relu[0][0]'] \n",
            "                                                                                                  \n",
            " block_4_project_BN (BatchNorma  (None, 28, 28, 32)  128         ['block_4_project[0][0]']        \n",
            " lization)                                                                                        \n",
            "                                                                                                  \n",
            " block_4_add (Add)              (None, 28, 28, 32)   0           ['block_3_project_BN[0][0]',     \n",
            "                                                                  'block_4_project_BN[0][0]']     \n",
            "                                                                                                  \n",
            " block_5_expand (Conv2D)        (None, 28, 28, 192)  6144        ['block_4_add[0][0]']            \n",
            "                                                                                                  \n",
            " block_5_expand_BN (BatchNormal  (None, 28, 28, 192)  768        ['block_5_expand[0][0]']         \n",
            " ization)                                                                                         \n",
            "                                                                                                  \n",
            " block_5_expand_relu (ReLU)     (None, 28, 28, 192)  0           ['block_5_expand_BN[0][0]']      \n",
            "                                                                                                  \n",
            " block_5_depthwise (DepthwiseCo  (None, 28, 28, 192)  1728       ['block_5_expand_relu[0][0]']    \n",
            " nv2D)                                                                                            \n",
            "                                                                                                  \n",
            " block_5_depthwise_BN (BatchNor  (None, 28, 28, 192)  768        ['block_5_depthwise[0][0]']      \n",
            " malization)                                                                                      \n",
            "                                                                                                  \n",
            " block_5_depthwise_relu (ReLU)  (None, 28, 28, 192)  0           ['block_5_depthwise_BN[0][0]']   \n",
            "                                                                                                  \n",
            " block_5_project (Conv2D)       (None, 28, 28, 32)   6144        ['block_5_depthwise_relu[0][0]'] \n",
            "                                                                                                  \n",
            " block_5_project_BN (BatchNorma  (None, 28, 28, 32)  128         ['block_5_project[0][0]']        \n",
            " lization)                                                                                        \n",
            "                                                                                                  \n",
            " block_5_add (Add)              (None, 28, 28, 32)   0           ['block_4_add[0][0]',            \n",
            "                                                                  'block_5_project_BN[0][0]']     \n",
            "                                                                                                  \n",
            " block_6_expand (Conv2D)        (None, 28, 28, 192)  6144        ['block_5_add[0][0]']            \n",
            "                                                                                                  \n",
            " block_6_expand_BN (BatchNormal  (None, 28, 28, 192)  768        ['block_6_expand[0][0]']         \n",
            " ization)                                                                                         \n",
            "                                                                                                  \n",
            " block_6_expand_relu (ReLU)     (None, 28, 28, 192)  0           ['block_6_expand_BN[0][0]']      \n",
            "                                                                                                  \n",
            " block_6_pad (ZeroPadding2D)    (None, 29, 29, 192)  0           ['block_6_expand_relu[0][0]']    \n",
            "                                                                                                  \n",
            " block_6_depthwise (DepthwiseCo  (None, 14, 14, 192)  1728       ['block_6_pad[0][0]']            \n",
            " nv2D)                                                                                            \n",
            "                                                                                                  \n",
            " block_6_depthwise_BN (BatchNor  (None, 14, 14, 192)  768        ['block_6_depthwise[0][0]']      \n",
            " malization)                                                                                      \n",
            "                                                                                                  \n",
            " block_6_depthwise_relu (ReLU)  (None, 14, 14, 192)  0           ['block_6_depthwise_BN[0][0]']   \n",
            "                                                                                                  \n",
            " block_6_project (Conv2D)       (None, 14, 14, 64)   12288       ['block_6_depthwise_relu[0][0]'] \n",
            "                                                                                                  \n",
            " block_6_project_BN (BatchNorma  (None, 14, 14, 64)  256         ['block_6_project[0][0]']        \n",
            " lization)                                                                                        \n",
            "                                                                                                  \n",
            " block_7_expand (Conv2D)        (None, 14, 14, 384)  24576       ['block_6_project_BN[0][0]']     \n",
            "                                                                                                  \n",
            " block_7_expand_BN (BatchNormal  (None, 14, 14, 384)  1536       ['block_7_expand[0][0]']         \n",
            " ization)                                                                                         \n",
            "                                                                                                  \n",
            " block_7_expand_relu (ReLU)     (None, 14, 14, 384)  0           ['block_7_expand_BN[0][0]']      \n",
            "                                                                                                  \n",
            " block_7_depthwise (DepthwiseCo  (None, 14, 14, 384)  3456       ['block_7_expand_relu[0][0]']    \n",
            " nv2D)                                                                                            \n",
            "                                                                                                  \n",
            " block_7_depthwise_BN (BatchNor  (None, 14, 14, 384)  1536       ['block_7_depthwise[0][0]']      \n",
            " malization)                                                                                      \n",
            "                                                                                                  \n",
            " block_7_depthwise_relu (ReLU)  (None, 14, 14, 384)  0           ['block_7_depthwise_BN[0][0]']   \n",
            "                                                                                                  \n",
            " block_7_project (Conv2D)       (None, 14, 14, 64)   24576       ['block_7_depthwise_relu[0][0]'] \n",
            "                                                                                                  \n",
            " block_7_project_BN (BatchNorma  (None, 14, 14, 64)  256         ['block_7_project[0][0]']        \n",
            " lization)                                                                                        \n",
            "                                                                                                  \n",
            " block_7_add (Add)              (None, 14, 14, 64)   0           ['block_6_project_BN[0][0]',     \n",
            "                                                                  'block_7_project_BN[0][0]']     \n",
            "                                                                                                  \n",
            " block_8_expand (Conv2D)        (None, 14, 14, 384)  24576       ['block_7_add[0][0]']            \n",
            "                                                                                                  \n",
            " block_8_expand_BN (BatchNormal  (None, 14, 14, 384)  1536       ['block_8_expand[0][0]']         \n",
            " ization)                                                                                         \n",
            "                                                                                                  \n",
            " block_8_expand_relu (ReLU)     (None, 14, 14, 384)  0           ['block_8_expand_BN[0][0]']      \n",
            "                                                                                                  \n",
            " block_8_depthwise (DepthwiseCo  (None, 14, 14, 384)  3456       ['block_8_expand_relu[0][0]']    \n",
            " nv2D)                                                                                            \n",
            "                                                                                                  \n",
            " block_8_depthwise_BN (BatchNor  (None, 14, 14, 384)  1536       ['block_8_depthwise[0][0]']      \n",
            " malization)                                                                                      \n",
            "                                                                                                  \n",
            " block_8_depthwise_relu (ReLU)  (None, 14, 14, 384)  0           ['block_8_depthwise_BN[0][0]']   \n",
            "                                                                                                  \n",
            " block_8_project (Conv2D)       (None, 14, 14, 64)   24576       ['block_8_depthwise_relu[0][0]'] \n",
            "                                                                                                  \n",
            " block_8_project_BN (BatchNorma  (None, 14, 14, 64)  256         ['block_8_project[0][0]']        \n",
            " lization)                                                                                        \n",
            "                                                                                                  \n",
            " block_8_add (Add)              (None, 14, 14, 64)   0           ['block_7_add[0][0]',            \n",
            "                                                                  'block_8_project_BN[0][0]']     \n",
            "                                                                                                  \n",
            " block_9_expand (Conv2D)        (None, 14, 14, 384)  24576       ['block_8_add[0][0]']            \n",
            "                                                                                                  \n",
            " block_9_expand_BN (BatchNormal  (None, 14, 14, 384)  1536       ['block_9_expand[0][0]']         \n",
            " ization)                                                                                         \n",
            "                                                                                                  \n",
            " block_9_expand_relu (ReLU)     (None, 14, 14, 384)  0           ['block_9_expand_BN[0][0]']      \n",
            "                                                                                                  \n",
            " block_9_depthwise (DepthwiseCo  (None, 14, 14, 384)  3456       ['block_9_expand_relu[0][0]']    \n",
            " nv2D)                                                                                            \n",
            "                                                                                                  \n",
            " block_9_depthwise_BN (BatchNor  (None, 14, 14, 384)  1536       ['block_9_depthwise[0][0]']      \n",
            " malization)                                                                                      \n",
            "                                                                                                  \n",
            " block_9_depthwise_relu (ReLU)  (None, 14, 14, 384)  0           ['block_9_depthwise_BN[0][0]']   \n",
            "                                                                                                  \n",
            " block_9_project (Conv2D)       (None, 14, 14, 64)   24576       ['block_9_depthwise_relu[0][0]'] \n",
            "                                                                                                  \n",
            " block_9_project_BN (BatchNorma  (None, 14, 14, 64)  256         ['block_9_project[0][0]']        \n",
            " lization)                                                                                        \n",
            "                                                                                                  \n",
            " block_9_add (Add)              (None, 14, 14, 64)   0           ['block_8_add[0][0]',            \n",
            "                                                                  'block_9_project_BN[0][0]']     \n",
            "                                                                                                  \n",
            " block_10_expand (Conv2D)       (None, 14, 14, 384)  24576       ['block_9_add[0][0]']            \n",
            "                                                                                                  \n",
            " block_10_expand_BN (BatchNorma  (None, 14, 14, 384)  1536       ['block_10_expand[0][0]']        \n",
            " lization)                                                                                        \n",
            "                                                                                                  \n",
            " block_10_expand_relu (ReLU)    (None, 14, 14, 384)  0           ['block_10_expand_BN[0][0]']     \n",
            "                                                                                                  \n",
            " block_10_depthwise (DepthwiseC  (None, 14, 14, 384)  3456       ['block_10_expand_relu[0][0]']   \n",
            " onv2D)                                                                                           \n",
            "                                                                                                  \n",
            " block_10_depthwise_BN (BatchNo  (None, 14, 14, 384)  1536       ['block_10_depthwise[0][0]']     \n",
            " rmalization)                                                                                     \n",
            "                                                                                                  \n",
            " block_10_depthwise_relu (ReLU)  (None, 14, 14, 384)  0          ['block_10_depthwise_BN[0][0]']  \n",
            "                                                                                                  \n",
            " block_10_project (Conv2D)      (None, 14, 14, 96)   36864       ['block_10_depthwise_relu[0][0]']\n",
            "                                                                                                  \n",
            " block_10_project_BN (BatchNorm  (None, 14, 14, 96)  384         ['block_10_project[0][0]']       \n",
            " alization)                                                                                       \n",
            "                                                                                                  \n",
            " block_11_expand (Conv2D)       (None, 14, 14, 576)  55296       ['block_10_project_BN[0][0]']    \n",
            "                                                                                                  \n",
            " block_11_expand_BN (BatchNorma  (None, 14, 14, 576)  2304       ['block_11_expand[0][0]']        \n",
            " lization)                                                                                        \n",
            "                                                                                                  \n",
            " block_11_expand_relu (ReLU)    (None, 14, 14, 576)  0           ['block_11_expand_BN[0][0]']     \n",
            "                                                                                                  \n",
            " block_11_depthwise (DepthwiseC  (None, 14, 14, 576)  5184       ['block_11_expand_relu[0][0]']   \n",
            " onv2D)                                                                                           \n",
            "                                                                                                  \n",
            " block_11_depthwise_BN (BatchNo  (None, 14, 14, 576)  2304       ['block_11_depthwise[0][0]']     \n",
            " rmalization)                                                                                     \n",
            "                                                                                                  \n",
            " block_11_depthwise_relu (ReLU)  (None, 14, 14, 576)  0          ['block_11_depthwise_BN[0][0]']  \n",
            "                                                                                                  \n",
            " block_11_project (Conv2D)      (None, 14, 14, 96)   55296       ['block_11_depthwise_relu[0][0]']\n",
            "                                                                                                  \n",
            " block_11_project_BN (BatchNorm  (None, 14, 14, 96)  384         ['block_11_project[0][0]']       \n",
            " alization)                                                                                       \n",
            "                                                                                                  \n",
            " block_11_add (Add)             (None, 14, 14, 96)   0           ['block_10_project_BN[0][0]',    \n",
            "                                                                  'block_11_project_BN[0][0]']    \n",
            "                                                                                                  \n",
            " block_12_expand (Conv2D)       (None, 14, 14, 576)  55296       ['block_11_add[0][0]']           \n",
            "                                                                                                  \n",
            " block_12_expand_BN (BatchNorma  (None, 14, 14, 576)  2304       ['block_12_expand[0][0]']        \n",
            " lization)                                                                                        \n",
            "                                                                                                  \n",
            " block_12_expand_relu (ReLU)    (None, 14, 14, 576)  0           ['block_12_expand_BN[0][0]']     \n",
            "                                                                                                  \n",
            " block_12_depthwise (DepthwiseC  (None, 14, 14, 576)  5184       ['block_12_expand_relu[0][0]']   \n",
            " onv2D)                                                                                           \n",
            "                                                                                                  \n",
            " block_12_depthwise_BN (BatchNo  (None, 14, 14, 576)  2304       ['block_12_depthwise[0][0]']     \n",
            " rmalization)                                                                                     \n",
            "                                                                                                  \n",
            " block_12_depthwise_relu (ReLU)  (None, 14, 14, 576)  0          ['block_12_depthwise_BN[0][0]']  \n",
            "                                                                                                  \n",
            " block_12_project (Conv2D)      (None, 14, 14, 96)   55296       ['block_12_depthwise_relu[0][0]']\n",
            "                                                                                                  \n",
            " block_12_project_BN (BatchNorm  (None, 14, 14, 96)  384         ['block_12_project[0][0]']       \n",
            " alization)                                                                                       \n",
            "                                                                                                  \n",
            " block_12_add (Add)             (None, 14, 14, 96)   0           ['block_11_add[0][0]',           \n",
            "                                                                  'block_12_project_BN[0][0]']    \n",
            "                                                                                                  \n",
            " block_13_expand (Conv2D)       (None, 14, 14, 576)  55296       ['block_12_add[0][0]']           \n",
            "                                                                                                  \n",
            " block_13_expand_BN (BatchNorma  (None, 14, 14, 576)  2304       ['block_13_expand[0][0]']        \n",
            " lization)                                                                                        \n",
            "                                                                                                  \n",
            " block_13_expand_relu (ReLU)    (None, 14, 14, 576)  0           ['block_13_expand_BN[0][0]']     \n",
            "                                                                                                  \n",
            " block_13_pad (ZeroPadding2D)   (None, 15, 15, 576)  0           ['block_13_expand_relu[0][0]']   \n",
            "                                                                                                  \n",
            " block_13_depthwise (DepthwiseC  (None, 7, 7, 576)   5184        ['block_13_pad[0][0]']           \n",
            " onv2D)                                                                                           \n",
            "                                                                                                  \n",
            " block_13_depthwise_BN (BatchNo  (None, 7, 7, 576)   2304        ['block_13_depthwise[0][0]']     \n",
            " rmalization)                                                                                     \n",
            "                                                                                                  \n",
            " block_13_depthwise_relu (ReLU)  (None, 7, 7, 576)   0           ['block_13_depthwise_BN[0][0]']  \n",
            "                                                                                                  \n",
            " block_13_project (Conv2D)      (None, 7, 7, 160)    92160       ['block_13_depthwise_relu[0][0]']\n",
            "                                                                                                  \n",
            " block_13_project_BN (BatchNorm  (None, 7, 7, 160)   640         ['block_13_project[0][0]']       \n",
            " alization)                                                                                       \n",
            "                                                                                                  \n",
            " block_14_expand (Conv2D)       (None, 7, 7, 960)    153600      ['block_13_project_BN[0][0]']    \n",
            "                                                                                                  \n",
            " block_14_expand_BN (BatchNorma  (None, 7, 7, 960)   3840        ['block_14_expand[0][0]']        \n",
            " lization)                                                                                        \n",
            "                                                                                                  \n",
            " block_14_expand_relu (ReLU)    (None, 7, 7, 960)    0           ['block_14_expand_BN[0][0]']     \n",
            "                                                                                                  \n",
            " block_14_depthwise (DepthwiseC  (None, 7, 7, 960)   8640        ['block_14_expand_relu[0][0]']   \n",
            " onv2D)                                                                                           \n",
            "                                                                                                  \n",
            " block_14_depthwise_BN (BatchNo  (None, 7, 7, 960)   3840        ['block_14_depthwise[0][0]']     \n",
            " rmalization)                                                                                     \n",
            "                                                                                                  \n",
            " block_14_depthwise_relu (ReLU)  (None, 7, 7, 960)   0           ['block_14_depthwise_BN[0][0]']  \n",
            "                                                                                                  \n",
            " block_14_project (Conv2D)      (None, 7, 7, 160)    153600      ['block_14_depthwise_relu[0][0]']\n",
            "                                                                                                  \n",
            " block_14_project_BN (BatchNorm  (None, 7, 7, 160)   640         ['block_14_project[0][0]']       \n",
            " alization)                                                                                       \n",
            "                                                                                                  \n",
            " block_14_add (Add)             (None, 7, 7, 160)    0           ['block_13_project_BN[0][0]',    \n",
            "                                                                  'block_14_project_BN[0][0]']    \n",
            "                                                                                                  \n",
            " block_15_expand (Conv2D)       (None, 7, 7, 960)    153600      ['block_14_add[0][0]']           \n",
            "                                                                                                  \n",
            " block_15_expand_BN (BatchNorma  (None, 7, 7, 960)   3840        ['block_15_expand[0][0]']        \n",
            " lization)                                                                                        \n",
            "                                                                                                  \n",
            " block_15_expand_relu (ReLU)    (None, 7, 7, 960)    0           ['block_15_expand_BN[0][0]']     \n",
            "                                                                                                  \n",
            " block_15_depthwise (DepthwiseC  (None, 7, 7, 960)   8640        ['block_15_expand_relu[0][0]']   \n",
            " onv2D)                                                                                           \n",
            "                                                                                                  \n",
            " block_15_depthwise_BN (BatchNo  (None, 7, 7, 960)   3840        ['block_15_depthwise[0][0]']     \n",
            " rmalization)                                                                                     \n",
            "                                                                                                  \n",
            " block_15_depthwise_relu (ReLU)  (None, 7, 7, 960)   0           ['block_15_depthwise_BN[0][0]']  \n",
            "                                                                                                  \n",
            " block_15_project (Conv2D)      (None, 7, 7, 160)    153600      ['block_15_depthwise_relu[0][0]']\n",
            "                                                                                                  \n",
            " block_15_project_BN (BatchNorm  (None, 7, 7, 160)   640         ['block_15_project[0][0]']       \n",
            " alization)                                                                                       \n",
            "                                                                                                  \n",
            " block_15_add (Add)             (None, 7, 7, 160)    0           ['block_14_add[0][0]',           \n",
            "                                                                  'block_15_project_BN[0][0]']    \n",
            "                                                                                                  \n",
            " block_16_expand (Conv2D)       (None, 7, 7, 960)    153600      ['block_15_add[0][0]']           \n",
            "                                                                                                  \n",
            " block_16_expand_BN (BatchNorma  (None, 7, 7, 960)   3840        ['block_16_expand[0][0]']        \n",
            " lization)                                                                                        \n",
            "                                                                                                  \n",
            " block_16_expand_relu (ReLU)    (None, 7, 7, 960)    0           ['block_16_expand_BN[0][0]']     \n",
            "                                                                                                  \n",
            " block_16_depthwise (DepthwiseC  (None, 7, 7, 960)   8640        ['block_16_expand_relu[0][0]']   \n",
            " onv2D)                                                                                           \n",
            "                                                                                                  \n",
            " block_16_depthwise_BN (BatchNo  (None, 7, 7, 960)   3840        ['block_16_depthwise[0][0]']     \n",
            " rmalization)                                                                                     \n",
            "                                                                                                  \n",
            " block_16_depthwise_relu (ReLU)  (None, 7, 7, 960)   0           ['block_16_depthwise_BN[0][0]']  \n",
            "                                                                                                  \n",
            " block_16_project (Conv2D)      (None, 7, 7, 320)    307200      ['block_16_depthwise_relu[0][0]']\n",
            "                                                                                                  \n",
            " block_16_project_BN (BatchNorm  (None, 7, 7, 320)   1280        ['block_16_project[0][0]']       \n",
            " alization)                                                                                       \n",
            "                                                                                                  \n",
            " Conv_1 (Conv2D)                (None, 7, 7, 1280)   409600      ['block_16_project_BN[0][0]']    \n",
            "                                                                                                  \n",
            " Conv_1_bn (BatchNormalization)  (None, 7, 7, 1280)  5120        ['Conv_1[0][0]']                 \n",
            "                                                                                                  \n",
            " out_relu (ReLU)                (None, 7, 7, 1280)   0           ['Conv_1_bn[0][0]']              \n",
            "                                                                                                  \n",
            " global_average_pooling2d (Glob  (None, 1280)        0           ['out_relu[0][0]']               \n",
            " alAveragePooling2D)                                                                              \n",
            "                                                                                                  \n",
            " dense (Dense)                  (None, 512)          655872      ['global_average_pooling2d[0][0]'\n",
            "                                                                 ]                                \n",
            "                                                                                                  \n",
            " dense_1 (Dense)                (None, 9)            4617        ['dense[0][0]']                  \n",
            "                                                                                                  \n",
            "==================================================================================================\n",
            "Total params: 2,918,473\n",
            "Trainable params: 660,489\n",
            "Non-trainable params: 2,257,984\n",
            "__________________________________________________________________________________________________\n",
            "None\n"
          ]
        }
      ],
      "source": [
        "# LOOK AT THE SUMMARY OF THE MODEL\n",
        "print(model_mobilenetv2.summary())"
      ]
    },
    {
      "cell_type": "code",
      "execution_count": null,
      "metadata": {
        "id": "fsuQ4nqs0Nyl",
        "colab": {
          "base_uri": "https://localhost:8080/",
          "height": 17
        },
        "outputId": "43db0a94-89a4-4c20-8f22-a74b65ef8062"
      },
      "outputs": [
        {
          "output_type": "display_data",
          "data": {
            "text/plain": [
              "<IPython.core.display.Javascript object>"
            ],
            "application/javascript": [
              "google.colab.output.setIframeHeight(0, true, {maxHeight: 300})"
            ]
          },
          "metadata": {}
        }
      ],
      "source": [
        "# COMPILE THE MODEL\n",
        "model_mobilenetv2.compile(loss=keras.losses.categorical_crossentropy,\n",
        "            optimizer= keras.optimizers.Adam(learning_rate=0.0001),\n",
        "            metrics=['accuracy'])"
      ]
    },
    {
      "cell_type": "code",
      "execution_count": null,
      "metadata": {
        "colab": {
          "base_uri": "https://localhost:8080/",
          "height": 300
        },
        "id": "z-5aIdic5upG",
        "outputId": "f988e4df-9abf-43a3-c213-55c730fcaf22"
      },
      "outputs": [
        {
          "output_type": "display_data",
          "data": {
            "text/plain": [
              "<IPython.core.display.Javascript object>"
            ],
            "application/javascript": [
              "google.colab.output.setIframeHeight(0, true, {maxHeight: 300})"
            ]
          },
          "metadata": {}
        },
        {
          "output_type": "stream",
          "name": "stdout",
          "text": [
            "Epoch 1/20\n",
            "112/112 [==============================] - 457s 4s/step - loss: 1.0039 - accuracy: 0.7185 - val_loss: 0.4983 - val_accuracy: 0.8889\n",
            "Epoch 2/20\n",
            "112/112 [==============================] - 24s 215ms/step - loss: 0.2866 - accuracy: 0.9485 - val_loss: 0.3243 - val_accuracy: 0.9306\n",
            "Epoch 3/20\n",
            "112/112 [==============================] - 41s 363ms/step - loss: 0.1661 - accuracy: 0.9642 - val_loss: 0.2941 - val_accuracy: 0.9306\n",
            "Epoch 4/20\n",
            "112/112 [==============================] - 40s 358ms/step - loss: 0.1091 - accuracy: 0.9765 - val_loss: 0.2813 - val_accuracy: 0.9306\n",
            "Epoch 5/20\n",
            "112/112 [==============================] - 29s 257ms/step - loss: 0.0818 - accuracy: 0.9855 - val_loss: 0.2542 - val_accuracy: 0.9236\n",
            "Epoch 6/20\n",
            "112/112 [==============================] - 28s 249ms/step - loss: 0.0620 - accuracy: 0.9894 - val_loss: 0.2572 - val_accuracy: 0.9236\n",
            "Epoch 7/20\n",
            "112/112 [==============================] - 24s 216ms/step - loss: 0.0473 - accuracy: 0.9961 - val_loss: 0.2306 - val_accuracy: 0.9236\n",
            "Epoch 8/20\n",
            "112/112 [==============================] - 25s 225ms/step - loss: 0.0466 - accuracy: 0.9910 - val_loss: 0.2327 - val_accuracy: 0.9375\n",
            "Epoch 9/20\n",
            "112/112 [==============================] - 24s 212ms/step - loss: 0.0369 - accuracy: 0.9944 - val_loss: 0.2270 - val_accuracy: 0.9306\n",
            "Epoch 10/20\n",
            "112/112 [==============================] - 25s 220ms/step - loss: 0.0302 - accuracy: 0.9978 - val_loss: 0.2189 - val_accuracy: 0.9514\n",
            "Epoch 11/20\n",
            "112/112 [==============================] - 24s 214ms/step - loss: 0.0246 - accuracy: 0.9966 - val_loss: 0.2204 - val_accuracy: 0.9444\n",
            "Epoch 12/20\n",
            "112/112 [==============================] - 24s 212ms/step - loss: 0.0214 - accuracy: 0.9978 - val_loss: 0.2300 - val_accuracy: 0.9444\n",
            "Epoch 13/20\n",
            "112/112 [==============================] - 25s 219ms/step - loss: 0.0190 - accuracy: 0.9972 - val_loss: 0.2082 - val_accuracy: 0.9514\n",
            "Epoch 14/20\n",
            "112/112 [==============================] - 24s 217ms/step - loss: 0.0176 - accuracy: 0.9989 - val_loss: 0.2106 - val_accuracy: 0.9444\n",
            "Epoch 15/20\n",
            "112/112 [==============================] - 23s 208ms/step - loss: 0.0179 - accuracy: 0.9972 - val_loss: 0.2216 - val_accuracy: 0.9375\n",
            "Epoch 16/20\n",
            "112/112 [==============================] - 24s 214ms/step - loss: 0.0138 - accuracy: 0.9994 - val_loss: 0.2166 - val_accuracy: 0.9375\n",
            "Epoch 17/20\n",
            "112/112 [==============================] - 24s 210ms/step - loss: 0.0148 - accuracy: 0.9978 - val_loss: 0.2036 - val_accuracy: 0.9514\n",
            "Epoch 18/20\n",
            "112/112 [==============================] - 24s 213ms/step - loss: 0.0136 - accuracy: 0.9983 - val_loss: 0.2172 - val_accuracy: 0.9444\n",
            "Epoch 19/20\n",
            "112/112 [==============================] - 23s 209ms/step - loss: 0.0083 - accuracy: 1.0000 - val_loss: 0.2109 - val_accuracy: 0.9375\n",
            "Epoch 20/20\n",
            "112/112 [==============================] - 24s 210ms/step - loss: 0.0126 - accuracy: 0.9972 - val_loss: 0.2169 - val_accuracy: 0.9444\n",
            "--- Training Completed ---\n",
            "Total execution time with PCA is:  0:18:47.448974\n"
          ]
        }
      ],
      "source": [
        "stepsEpochs = train_generator_mnetv2.n // 16\n",
        "valSteps = test_generator_mnetv2.n // 16\n",
        "\n",
        "# START COUNTING THE TIME\n",
        "start = datetime.datetime.now()\n",
        "\n",
        "# FIT THE MODEL\n",
        "history_mobilenetV2 = model_mobilenetv2.fit(train_generator_mnetv2,\n",
        "                                            validation_data = test_generator_mnetv2,\n",
        "                                            steps_per_epoch = stepsEpochs,\n",
        "                                            validation_steps = valSteps, \n",
        "                                            epochs=20, \n",
        "                                            callbacks = [callback])\n",
        "                  \n",
        "print(\"--- Training Completed ---\")\n",
        "\n",
        "# STOP COUNTING THE TIME\n",
        "end = datetime.datetime.now()\n",
        "print(\"Total execution time: \", end-start)"
      ]
    },
    {
      "cell_type": "code",
      "execution_count": null,
      "metadata": {
        "id": "A_8qYFsH5umv",
        "colab": {
          "base_uri": "https://localhost:8080/",
          "height": 300
        },
        "outputId": "1a010396-c115-4e0a-ab7d-7a47ba133b01"
      },
      "outputs": [
        {
          "output_type": "display_data",
          "data": {
            "text/plain": [
              "<IPython.core.display.Javascript object>"
            ],
            "application/javascript": [
              "google.colab.output.setIframeHeight(0, true, {maxHeight: 300})"
            ]
          },
          "metadata": {}
        },
        {
          "output_type": "execute_result",
          "data": {
            "text/plain": [
              "<matplotlib.legend.Legend at 0x7fd252d07f90>"
            ]
          },
          "metadata": {},
          "execution_count": 16
        },
        {
          "output_type": "display_data",
          "data": {
            "text/plain": [
              "<Figure size 1080x432 with 2 Axes>"
            ],
            "image/png": "[encoded data removed]"
          },
          "metadata": {
            "needs_background": "light"
          }
        }
      ],
      "source": [
        "# PLOT THEM TOGETHER\n",
        "# Visualization of the learning curves\n",
        "plt.figure(figsize=(15,6))\n",
        "\n",
        "plt.subplot(1, 2, 1)\n",
        "plt.plot(history_mobilenetV2.history['loss'])\n",
        "plt.plot(history_mobilenetV2.history['val_loss'])\n",
        "plt.ylim([0.0, 3.0])\n",
        "plt.title(\"Loss & Val loss MobileNetV2\")\n",
        "plt.xlabel('Epoch')\n",
        "plt.ylabel('Loss')\n",
        "plt.legend(['train', 'valid'])\n",
        "\n",
        "plt.subplot(1, 2, 2)\n",
        "plt.plot(history_mobilenetV2.history['accuracy'])\n",
        "plt.plot(history_mobilenetV2.history['val_accuracy'])\n",
        "plt.ylim([0.0, 1.0])\n",
        "plt.title(\"Accuracy & Val accuracy MobileNetV2\")\n",
        "plt.xlabel('Epoch')\n",
        "plt.ylabel('Accuracy')\n",
        "plt.legend(['train', 'valid'])"
      ]
    },
    {
      "cell_type": "code",
      "source": [
        "# GET THE MINIMUM ACCURACY, THE MAXIMUM ACCURACY, THE MINIMUM LOSS, THE MAXIMUM LOSS AND SAVE THEM IN VARIABLES.\n",
        "# THEN CREATE A DATAFRAME AT THE END WHERE YOU CAN COMPARE DIFFERENT MODELS WITH IT!\n",
        "\n",
        "# LOSS/VAL LOSS\n",
        "modelVMNV2_minLoss = min(history_mobilenetV2.history['loss'])\n",
        "modelVMNV2_maxLoss = max(history_mobilenetV2.history['loss'])\n",
        "modelVMNV2_minValLoss = min(history_mobilenetV2.history['val_loss'])\n",
        "modelVMNV2_maxValLoss = max(history_mobilenetV2.history['val_loss'])\n",
        "\n",
        "# ACCURACY/VAL ACCURACY\n",
        "modelVMNV2_minAccuracy = min(history_mobilenetV2.history['accuracy'])\n",
        "modelVMNV2_maxAccuracy = max(history_mobilenetV2.history['accuracy'])\n",
        "modelVMNV2_minValAccuracy = min(history_mobilenetV2.history['val_accuracy'])\n",
        "modelVMNV2_maxValAccuracy = max(history_mobilenetV2.history['val_accuracy'])\n",
        "\n",
        "# CREATE THE DATAFRAME\n",
        "modelVMNV2_loss_accuracy = pd.DataFrame({\"minLoss\": [modelVMNV2_minLoss],\n",
        "                                       \"maxloss\": [modelVMNV2_maxLoss],\n",
        "                                       \"minValLoss\": [modelVMNV2_minValLoss],\n",
        "                                       \"maxValLoss\": [modelVMNV2_maxValLoss],\n",
        "                                       \"minAccuracy\": [modelVMNV2_minAccuracy],\n",
        "                                       \"maxAccuracy\": [modelVMNV2_maxAccuracy],\n",
        "                                       \"minValAccuracy\": [modelVMNV2_minValAccuracy],\n",
        "                                       \"maxValAccuracy\": [modelVMNV2_maxValAccuracy]}).T\n",
        "\n",
        "# CHANGE THE FIRST COLUMN NAME\n",
        "modelVMNV2_loss_accuracy = modelVMNV2_loss_accuracy.rename(columns={0: 'modelVMNV2'})\n",
        "# CHANGE THE INDEX NAME\n",
        "modelVMNV2_loss_accuracy.index.names = ['Performance']\n",
        "modelVMNV2_loss_accuracy"
      ],
      "metadata": {
        "colab": {
          "base_uri": "https://localhost:8080/",
          "height": 300
        },
        "id": "ZVAH5C0ACY2W",
        "outputId": "3cf135b1-ad32-4b13-b8e6-4cacfe069749"
      },
      "execution_count": null,
      "outputs": [
        {
          "output_type": "display_data",
          "data": {
            "text/plain": [
              "<IPython.core.display.Javascript object>"
            ],
            "application/javascript": [
              "google.colab.output.setIframeHeight(0, true, {maxHeight: 300})"
            ]
          },
          "metadata": {}
        },
        {
          "output_type": "execute_result",
          "data": {
            "text/plain": [
              "                modelVMNV2\n",
              "Performance               \n",
              "minLoss           0.008312\n",
              "maxloss           1.003903\n",
              "minValLoss        0.203633\n",
              "maxValLoss        0.498268\n",
              "minAccuracy       0.718523\n",
              "maxAccuracy       1.000000\n",
              "minValAccuracy    0.888889\n",
              "maxValAccuracy    0.951389"
            ],
            "text/html": [
              "\n",
              "  <div id=\"df-d4676fb1-d249-4bf4-904d-f7ea7ebb4730\">\n",
              "    <div class=\"colab-df-container\">\n",
              "      <div>\n",
              "<style scoped>\n",
              "    .dataframe tbody tr th:only-of-type {\n",
              "        vertical-align: middle;\n",
              "    }\n",
              "\n",
              "    .dataframe tbody tr th {\n",
              "        vertical-align: top;\n",
              "    }\n",
              "\n",
              "    .dataframe thead th {\n",
              "        text-align: right;\n",
              "    }\n",
              "</style>\n",
              "<table border=\"1\" class=\"dataframe\">\n",
              "  <thead>\n",
              "    <tr style=\"text-align: right;\">\n",
              "      <th></th>\n",
              "      <th>modelVMNV2</th>\n",
              "    </tr>\n",
              "    <tr>\n",
              "      <th>Performance</th>\n",
              "      <th></th>\n",
              "    </tr>\n",
              "  </thead>\n",
              "  <tbody>\n",
              "    <tr>\n",
              "      <th>minLoss</th>\n",
              "      <td>0.008312</td>\n",
              "    </tr>\n",
              "    <tr>\n",
              "      <th>maxloss</th>\n",
              "      <td>1.003903</td>\n",
              "    </tr>\n",
              "    <tr>\n",
              "      <th>minValLoss</th>\n",
              "      <td>0.203633</td>\n",
              "    </tr>\n",
              "    <tr>\n",
              "      <th>maxValLoss</th>\n",
              "      <td>0.498268</td>\n",
              "    </tr>\n",
              "    <tr>\n",
              "      <th>minAccuracy</th>\n",
              "      <td>0.718523</td>\n",
              "    </tr>\n",
              "    <tr>\n",
              "      <th>maxAccuracy</th>\n",
              "      <td>1.000000</td>\n",
              "    </tr>\n",
              "    <tr>\n",
              "      <th>minValAccuracy</th>\n",
              "      <td>0.888889</td>\n",
              "    </tr>\n",
              "    <tr>\n",
              "      <th>maxValAccuracy</th>\n",
              "      <td>0.951389</td>\n",
              "    </tr>\n",
              "  </tbody>\n",
              "</table>\n",
              "</div>\n",
              "      <button class=\"colab-df-convert\" onclick=\"convertToInteractive('df-d4676fb1-d249-4bf4-904d-f7ea7ebb4730')\"\n",
              "              title=\"Convert this dataframe to an interactive table.\"\n",
              "              style=\"display:none;\">\n",
              "        \n",
              "  <svg xmlns=\"http://www.w3.org/2000/svg\" height=\"24px\"viewBox=\"0 0 24 24\"\n",
              "       width=\"24px\">\n",
              "    <path d=\"M0 0h24v24H0V0z\" fill=\"none\"/>\n",
              "    <path d=\"M18.56 5.44l.94 2.06.94-2.06 2.06-.94-2.06-.94-.94-2.06-.94 2.06-2.06.94zm-11 1L8.5 8.5l.94-2.06 2.06-.94-2.06-.94L8.5 2.5l-.94 2.06-2.06.94zm10 10l.94 2.06.94-2.06 2.06-.94-2.06-.94-.94-2.06-.94 2.06-2.06.94z\"/><path d=\"M17.41 7.96l-1.37-1.37c-.4-.4-.92-.59-1.43-.59-.52 0-1.04.2-1.43.59L10.3 9.45l-7.72 7.72c-.78.78-.78 2.05 0 2.83L4 21.41c.39.39.9.59 1.41.59.51 0 1.02-.2 1.41-.59l7.78-7.78 2.81-2.81c.8-.78.8-2.07 0-2.86zM5.41 20L4 18.59l7.72-7.72 1.47 1.35L5.41 20z\"/>\n",
              "  </svg>\n",
              "      </button>\n",
              "      \n",
              "  <style>\n",
              "    .colab-df-container {\n",
              "      display:flex;\n",
              "      flex-wrap:wrap;\n",
              "      gap: 12px;\n",
              "    }\n",
              "\n",
              "    .colab-df-convert {\n",
              "      background-color: #E8F0FE;\n",
              "      border: none;\n",
              "      border-radius: 50%;\n",
              "      cursor: pointer;\n",
              "      display: none;\n",
              "      fill: #1967D2;\n",
              "      height: 32px;\n",
              "      padding: 0 0 0 0;\n",
              "      width: 32px;\n",
              "    }\n",
              "\n",
              "    .colab-df-convert:hover {\n",
              "      background-color: #E2EBFA;\n",
              "      box-shadow: 0px 1px 2px rgba(60, 64, 67, 0.3), 0px 1px 3px 1px rgba(60, 64, 67, 0.15);\n",
              "      fill: #174EA6;\n",
              "    }\n",
              "\n",
              "    [theme=dark] .colab-df-convert {\n",
              "      background-color: #3B4455;\n",
              "      fill: #D2E3FC;\n",
              "    }\n",
              "\n",
              "    [theme=dark] .colab-df-convert:hover {\n",
              "      background-color: #434B5C;\n",
              "      box-shadow: 0px 1px 3px 1px rgba(0, 0, 0, 0.15);\n",
              "      filter: drop-shadow(0px 1px 2px rgba(0, 0, 0, 0.3));\n",
              "      fill: #FFFFFF;\n",
              "    }\n",
              "  </style>\n",
              "\n",
              "      <script>\n",
              "        const buttonEl =\n",
              "          document.querySelector('#df-d4676fb1-d249-4bf4-904d-f7ea7ebb4730 button.colab-df-convert');\n",
              "        buttonEl.style.display =\n",
              "          google.colab.kernel.accessAllowed ? 'block' : 'none';\n",
              "\n",
              "        async function convertToInteractive(key) {\n",
              "          const element = document.querySelector('#df-d4676fb1-d249-4bf4-904d-f7ea7ebb4730');\n",
              "          const dataTable =\n",
              "            await google.colab.kernel.invokeFunction('convertToInteractive',\n",
              "                                                     [key], {});\n",
              "          if (!dataTable) return;\n",
              "\n",
              "          const docLinkHtml = 'Like what you see? Visit the ' +\n",
              "            '<a target=\"_blank\" href=https://colab.research.google.com/notebooks/data_table.ipynb>data table notebook</a>'\n",
              "            + ' to learn more about interactive tables.';\n",
              "          element.innerHTML = '';\n",
              "          dataTable['output_type'] = 'display_data';\n",
              "          await google.colab.output.renderOutput(dataTable, element);\n",
              "          const docLink = document.createElement('div');\n",
              "          docLink.innerHTML = docLinkHtml;\n",
              "          element.appendChild(docLink);\n",
              "        }\n",
              "      </script>\n",
              "    </div>\n",
              "  </div>\n",
              "  "
            ]
          },
          "metadata": {},
          "execution_count": 18
        }
      ]
    },
    {
      "cell_type": "markdown",
      "metadata": {
        "id": "GdseqO--6PUO"
      },
      "source": [
        "**Learning rate**\n",
        "https://machinelearningmastery.com/understand-the-dynamics-of-learning-rate-on-deep-learning-neural-networks/\n",
        "\n",
        "The amount that the weights are updated during training is referred to as the step size or the “learning rate.”\n",
        "\n",
        "Specifically, the learning rate is a configurable hyperparameter used in the training of neural networks that has a small positive value, often in the range between 0.0 and 1.0.\n",
        "\n",
        "The learning rate controls how quickly the model is adapted to the problem. Smaller learning rates require more training epochs given the smaller changes made to the weights each update, whereas larger learning rates result in rapid changes and require fewer training epochs.\n",
        "\n",
        "A learning rate that is too large can cause the model to converge too quickly to a suboptimal solution, whereas a learning rate that is too small can cause the process to get stuck.\n",
        "\n",
        "The challenge of training deep learning neural networks involves carefully selecting the learning rate. It may be the most important hyperparameter for the model."
      ]
    },
    {
      "cell_type": "markdown",
      "metadata": {
        "id": "V876d-eKqeBu"
      },
      "source": [
        "USEFUL LINKS:\n",
        "\n",
        "BEST:\n",
        "- https://medium.com/mlearning-ai/7-best-techniques-to-improve-the-accuracy-of-cnn-w-o-overfitting-6db06467182f\n",
        "- https://sgugger.github.io/the-1cycle-policy.html\n",
        "\n",
        "- https://www.paperspace.com/gradient/notebooks\n",
        "- https://stats.stackexchange.com/questions/453221/should-i-use-gridsearchcv-on-all-of-my-data-or-just-the-training-set\n",
        "- https://www.quora.com/What-kind-of-image-pre-processing-should-be-done-before-feeding-it-to-a-Convolutional-Neural-Network\n",
        "- https://opt-ml.org/papers/2021/paper53.pdf\n",
        "- https://towardsai.net/p/l/stop-using-grid-search-the-complete-practical-tutorial-on-keras-tuner\n",
        "- https://machinelearningmastery.com/learning-rate-for-deep-learning-neural-networks/\n",
        "- https://machinelearningmastery.com/grid-search-hyperparameters-deep-learning-models-python-keras/"
      ]
    },
    {
      "cell_type": "markdown",
      "metadata": {
        "id": "y-2eDbu08xc9"
      },
      "source": [
        "###### Results Model V04 - MobileNetV2"
      ]
    },
    {
      "cell_type": "markdown",
      "metadata": {
        "id": "6u2OYTyA9F3X"
      },
      "source": []
    },
    {
      "cell_type": "markdown",
      "source": [
        "#### RESNET50"
      ],
      "metadata": {
        "id": "RZnzGvNrc-Cd"
      }
    },
    {
      "cell_type": "markdown",
      "source": [
        "https://medium.com/@nutanbhogendrasharma/image-classification-with-resnet50-model-12f4c79c216b#:~:text=keras%2Fmodels%2F.,other%20to%20form%20a%20network."
      ],
      "metadata": {
        "id": "lBuVGtK9gwC8"
      }
    },
    {
      "cell_type": "markdown",
      "source": [
        "ATTENZIONE: DA MODIFICARE PERCHé CREZIONE SBAGLIATA, AFFIDARSI A QUANTO FATTO NELLA MOBILENETV2"
      ],
      "metadata": {
        "id": "ihAmISMlXEUF"
      }
    },
    {
      "cell_type": "code",
      "source": [
        "# INSERISCI SITO E SPIEGAZIONE COME RIFERIMENTO: https://www.image-net.org/download.php\n",
        "\n",
        "pretrained_model_resnet50 = tf.keras.applications.ResNet50(\n",
        "    input_shape = (224, 224, 3),\n",
        "    # include_top means: do you want to keep the classification layer, the final classification that the original model was training on.\n",
        "    # MobileNetV2 was originally trained on the ImageNet dataset. Because the final layer has 1000 classes, if we would keep it, we\n",
        "    # would have 1000 classes at the end. We do not want that but, instead, we want our own classification layer at the end.\n",
        "    include_top=False, \n",
        "    # We keep the same weights\n",
        "    weights=\"imagenet\",\n",
        "    # Average pooling at the end: it will ensure that the output of the pretrained model is one-dimensional (with n classes).\n",
        "    pooling=\"avg\"\n",
        ")\n",
        "\n",
        "# With the following we ensure that we do not mess with the original\n",
        "# imagenet weights\n",
        "pretrained_model_resnet50.trainable = False"
      ],
      "metadata": {
        "id": "Pmq90cojdKkg"
      },
      "execution_count": null,
      "outputs": []
    },
    {
      "cell_type": "code",
      "source": [
        "# ARCHITECTURE DEFINITION FOR MODEL V04 PRETRAINED ON IMAGENET\n",
        "\n",
        "model_pretrained_resnet50 = tf.keras.Sequential([\n",
        "    pretrained_model, \n",
        "    tf.keras.layers.Dropout(0.2),\n",
        "    tf.keras.layers.Dense(num_classes, \n",
        "                          activation=\"softmax\",\n",
        "                          kernel_regularizer=tf.keras.regularizers.l2(0.001)),\n",
        "      ]\n",
        "    )"
      ],
      "metadata": {
        "id": "zfSP1myTdKih"
      },
      "execution_count": null,
      "outputs": []
    },
    {
      "cell_type": "code",
      "source": [
        "print(model_pretrained_resnet50.summary())"
      ],
      "metadata": {
        "colab": {
          "base_uri": "https://localhost:8080/"
        },
        "id": "R4Jfo2VvdfsH",
        "outputId": "4d40db46-a711-4152-d414-80f884d7a7b4"
      },
      "execution_count": null,
      "outputs": [
        {
          "output_type": "stream",
          "name": "stdout",
          "text": [
            "Model: \"sequential_1\"\n",
            "_________________________________________________________________\n",
            " Layer (type)                Output Shape              Param #   \n",
            "=================================================================\n",
            " resnet50 (Functional)       (None, 2048)              23587712  \n",
            "                                                                 \n",
            " dropout_1 (Dropout)         (None, 2048)              0         \n",
            "                                                                 \n",
            " dense_1 (Dense)             (None, 9)                 18441     \n",
            "                                                                 \n",
            "=================================================================\n",
            "Total params: 23,606,153\n",
            "Trainable params: 18,441\n",
            "Non-trainable params: 23,587,712\n",
            "_________________________________________________________________\n",
            "None\n"
          ]
        }
      ]
    },
    {
      "cell_type": "code",
      "source": [
        "model_pretrained_resnet50.compile(loss=keras.losses.categorical_crossentropy,\n",
        "            optimizer= keras.optimizers.Adam(learning_rate=0.0001),\n",
        "            metrics=['accuracy'])"
      ],
      "metadata": {
        "id": "SE3lpHC6dKfr"
      },
      "execution_count": null,
      "outputs": []
    },
    {
      "cell_type": "code",
      "source": [
        "history_resnet50 = model_pretrained_resnet50.fit(train_generator, \n",
        "                  validation_data = test_generator, \n",
        "                  steps_per_epoch = train_generator.n // train_generator.batch_size,\n",
        "                  validation_steps = test_generator.n // test_generator.batch_size, \n",
        "                  epochs=30) #,\n",
        "                  # callbacks = [callback])"
      ],
      "metadata": {
        "colab": {
          "base_uri": "https://localhost:8080/"
        },
        "id": "aV7dV3fHdKdd",
        "outputId": "41d32ffd-d66c-43b1-ae58-5b64b7a0d653"
      },
      "execution_count": null,
      "outputs": [
        {
          "output_type": "stream",
          "name": "stdout",
          "text": [
            "Epoch 1/30\n",
            "112/112 [==============================] - 231s 2s/step - loss: 2.3727 - accuracy: 0.1058 - val_loss: 2.1891 - val_accuracy: 0.1458\n",
            "Epoch 2/30\n",
            "112/112 [==============================] - 237s 2s/step - loss: 2.2725 - accuracy: 0.1158 - val_loss: 2.1665 - val_accuracy: 0.3264\n",
            "Epoch 3/30\n",
            "112/112 [==============================] - 257s 2s/step - loss: 2.2518 - accuracy: 0.1253 - val_loss: 2.2194 - val_accuracy: 0.0347\n",
            "Epoch 4/30\n",
            "112/112 [==============================] - 230s 2s/step - loss: 2.2403 - accuracy: 0.1253 - val_loss: 2.2044 - val_accuracy: 0.0417\n",
            "Epoch 5/30\n",
            "112/112 [==============================] - 222s 2s/step - loss: 2.2018 - accuracy: 0.1528 - val_loss: 2.1858 - val_accuracy: 0.0694\n",
            "Epoch 6/30\n",
            "112/112 [==============================] - 227s 2s/step - loss: 2.2185 - accuracy: 0.1472 - val_loss: 2.1569 - val_accuracy: 0.0764\n",
            "Epoch 7/30\n",
            "112/112 [==============================] - 222s 2s/step - loss: 2.1886 - accuracy: 0.1477 - val_loss: 2.2001 - val_accuracy: 0.0417\n",
            "Epoch 8/30\n",
            "112/112 [==============================] - 223s 2s/step - loss: 2.1756 - accuracy: 0.1617 - val_loss: 2.1864 - val_accuracy: 0.0625\n",
            "Epoch 9/30\n",
            "112/112 [==============================] - 224s 2s/step - loss: 2.1554 - accuracy: 0.1712 - val_loss: 2.1843 - val_accuracy: 0.0833\n",
            "Epoch 10/30\n",
            "112/112 [==============================] - 225s 2s/step - loss: 2.1467 - accuracy: 0.1729 - val_loss: 2.1649 - val_accuracy: 0.0556\n",
            "Epoch 11/30\n",
            "112/112 [==============================] - 225s 2s/step - loss: 2.1404 - accuracy: 0.1835 - val_loss: 2.1623 - val_accuracy: 0.0486\n",
            "Epoch 12/30\n",
            "112/112 [==============================] - 225s 2s/step - loss: 2.1237 - accuracy: 0.1841 - val_loss: 2.1311 - val_accuracy: 0.1250\n",
            "Epoch 13/30\n",
            "112/112 [==============================] - 225s 2s/step - loss: 2.1212 - accuracy: 0.1919 - val_loss: 2.1213 - val_accuracy: 0.1111\n",
            "Epoch 14/30\n",
            "112/112 [==============================] - 225s 2s/step - loss: 2.1272 - accuracy: 0.1752 - val_loss: 2.1314 - val_accuracy: 0.1042\n",
            "Epoch 15/30\n",
            "112/112 [==============================] - 225s 2s/step - loss: 2.1062 - accuracy: 0.1875 - val_loss: 2.1510 - val_accuracy: 0.0694\n",
            "Epoch 16/30\n",
            "112/112 [==============================] - 225s 2s/step - loss: 2.1090 - accuracy: 0.1936 - val_loss: 2.1434 - val_accuracy: 0.0556\n",
            "Epoch 17/30\n",
            "112/112 [==============================] - 226s 2s/step - loss: 2.1021 - accuracy: 0.1987 - val_loss: 2.1265 - val_accuracy: 0.1389\n",
            "Epoch 18/30\n",
            "112/112 [==============================] - 226s 2s/step - loss: 2.0904 - accuracy: 0.1975 - val_loss: 2.1477 - val_accuracy: 0.0833\n",
            "Epoch 19/30\n",
            "112/112 [==============================] - 225s 2s/step - loss: 2.0784 - accuracy: 0.2082 - val_loss: 2.1774 - val_accuracy: 0.0625\n",
            "Epoch 20/30\n",
            "112/112 [==============================] - 225s 2s/step - loss: 2.0783 - accuracy: 0.2043 - val_loss: 2.1443 - val_accuracy: 0.0833\n",
            "Epoch 21/30\n",
            "112/112 [==============================] - 227s 2s/step - loss: 2.0699 - accuracy: 0.2244 - val_loss: 2.1024 - val_accuracy: 0.1250\n",
            "Epoch 22/30\n",
            "112/112 [==============================] - 225s 2s/step - loss: 2.0562 - accuracy: 0.2294 - val_loss: 2.1363 - val_accuracy: 0.0694\n",
            "Epoch 23/30\n",
            "112/112 [==============================] - 222s 2s/step - loss: 2.0591 - accuracy: 0.2278 - val_loss: 2.1471 - val_accuracy: 0.0486\n",
            "Epoch 24/30\n",
            "112/112 [==============================] - 223s 2s/step - loss: 2.0617 - accuracy: 0.2361 - val_loss: 2.0912 - val_accuracy: 0.1944\n",
            "Epoch 25/30\n",
            "112/112 [==============================] - 222s 2s/step - loss: 2.0492 - accuracy: 0.2261 - val_loss: 2.1055 - val_accuracy: 0.1042\n",
            "Epoch 26/30\n",
            "112/112 [==============================] - 222s 2s/step - loss: 2.0578 - accuracy: 0.2328 - val_loss: 2.0750 - val_accuracy: 0.1667\n",
            "Epoch 27/30\n",
            "112/112 [==============================] - 221s 2s/step - loss: 2.0499 - accuracy: 0.2250 - val_loss: 2.1324 - val_accuracy: 0.0625\n",
            "Epoch 28/30\n",
            "112/112 [==============================] - 223s 2s/step - loss: 2.0431 - accuracy: 0.2194 - val_loss: 2.1643 - val_accuracy: 0.0625\n",
            "Epoch 29/30\n",
            "112/112 [==============================] - 221s 2s/step - loss: 2.0386 - accuracy: 0.2417 - val_loss: 2.1302 - val_accuracy: 0.1042\n",
            "Epoch 30/30\n",
            "112/112 [==============================] - 224s 2s/step - loss: 2.0310 - accuracy: 0.2507 - val_loss: 2.1268 - val_accuracy: 0.0694\n"
          ]
        }
      ]
    },
    {
      "cell_type": "markdown",
      "source": [
        "SE I RISULTATI NON SONO BUONI è PERCHé LA RESNET è PIù GRANDE DELLA MOBILENETV2 CON MOLTI PIù PARAMETRI. CERFCA SE QUESTO POTREBBE ESSERE UN MOTIVO!"
      ],
      "metadata": {
        "id": "W3BHxSyTipe_"
      }
    },
    {
      "cell_type": "code",
      "source": [
        "# PLOT THEM TOGETHER\n",
        "# Visualization of the learning curves\n",
        "plt.figure(figsize=(15,6))\n",
        "\n",
        "plt.subplot(1, 2, 1)\n",
        "plt.plot(history_resnet50.history['loss'])\n",
        "plt.plot(history_resnet50.history['val_loss'])\n",
        "plt.ylim([0.0, 3.0])\n",
        "plt.title(\"Loss & Val loss RESNET50\")\n",
        "plt.xlabel('Epoch')\n",
        "plt.ylabel('Loss')\n",
        "plt.legend(['train', 'valid'])\n",
        "\n",
        "plt.subplot(1, 2, 2)\n",
        "plt.plot(history_resnet50.history['accuracy'])\n",
        "plt.plot(history_resnet50.history['val_accuracy'])\n",
        "plt.ylim([0.0, 1.0])\n",
        "plt.title(\"Accuracy & Val accuracy RESNET50\")\n",
        "plt.xlabel('Epoch')\n",
        "plt.ylabel('Accuracy')\n",
        "plt.legend(['train', 'valid'])"
      ],
      "metadata": {
        "colab": {
          "base_uri": "https://localhost:8080/",
          "height": 421
        },
        "id": "cDfK-Z-edKbP",
        "outputId": "b95cf1b0-3c8f-4000-d378-63b0a8fb6cf1"
      },
      "execution_count": null,
      "outputs": [
        {
          "output_type": "execute_result",
          "data": {
            "text/plain": [
              "<matplotlib.legend.Legend at 0x7fe45c391310>"
            ]
          },
          "metadata": {},
          "execution_count": 31
        },
        {
          "output_type": "display_data",
          "data": {
            "text/plain": [
              "<Figure size 1080x432 with 2 Axes>"
            ],
            "image/png": "[encoded data removed]"
          },
          "metadata": {
            "needs_background": "light"
          }
        }
      ]
    },
    {
      "cell_type": "markdown",
      "source": [
        "###### Results Model V04 - ResNet50"
      ],
      "metadata": {
        "id": "cZI5YpC6feEX"
      }
    },
    {
      "cell_type": "markdown",
      "source": [
        "#### VGG16"
      ],
      "metadata": {
        "id": "BCcxqpC9dtl2"
      }
    },
    {
      "cell_type": "markdown",
      "source": [
        "ATTENZIONE: DA MODIFICARE PERCHé CREZIONE SBAGLIATA, AFFIDARSI A QUANTO FATTO NELLA MOBILENETV2"
      ],
      "metadata": {
        "id": "VEV9-KjYXOal"
      }
    },
    {
      "cell_type": "code",
      "source": [
        "# INSERISCI SITO E SPIEGAZIONE COME RIFERIMENTO: https://www.image-net.org/download.php\n",
        "\n",
        "pretrained_model_VGG16 = tf.keras.applications.vgg16.VGG16(\n",
        "    input_shape = (224, 224, 3),\n",
        "    # include_top means: do you want to keep the classification layer, the final classification that the original model was training on.\n",
        "    # MobileNetV2 was originally trained on the ImageNet dataset. Because the final layer has 1000 classes, if we would keep it, we\n",
        "    # would have 1000 classes at the end. We do not want that but, instead, we want our own classification layer at the end.\n",
        "    include_top=False, \n",
        "    # We keep the same weights\n",
        "    weights=\"imagenet\",\n",
        "    # Average pooling at the end: it will ensure that the output of the pretrained model is one-dimensional (with n classes).\n",
        "    pooling=\"avg\"\n",
        ")\n",
        "\n",
        "# With the following we ensure that we do not mess with the original\n",
        "# imagenet weights\n",
        "pretrained_model_VGG16.trainable = False"
      ],
      "metadata": {
        "colab": {
          "base_uri": "https://localhost:8080/"
        },
        "id": "_o39Idp5QAu4",
        "outputId": "25fde469-483d-4261-88d4-69b1817e4670"
      },
      "execution_count": null,
      "outputs": [
        {
          "output_type": "stream",
          "name": "stdout",
          "text": [
            "Downloading data from https://storage.googleapis.com/tensorflow/keras-applications/vgg16/vgg16_weights_tf_dim_ordering_tf_kernels_notop.h5\n",
            "58889256/58889256 [==============================] - 5s 0us/step\n"
          ]
        }
      ]
    },
    {
      "cell_type": "code",
      "source": [
        "# ARCHITECTURE DEFINITION FOR MODEL V04 PRETRAINED ON IMAGENET\n",
        "\n",
        "pretrained_model_VGG16 = tf.keras.Sequential([\n",
        "    pretrained_model_VGG16, \n",
        "    tf.keras.layers.Dropout(0.2),\n",
        "    tf.keras.layers.Dense(num_classes, \n",
        "                          activation=\"softmax\",\n",
        "                          kernel_regularizer=tf.keras.regularizers.l2(0.001)),\n",
        "      ]\n",
        "    )"
      ],
      "metadata": {
        "id": "rxt_9EsbQAp7"
      },
      "execution_count": null,
      "outputs": []
    },
    {
      "cell_type": "code",
      "source": [
        "# VISULIZE THE SUMMARY\n",
        "print(pretrained_model_VGG16.summary())"
      ],
      "metadata": {
        "colab": {
          "base_uri": "https://localhost:8080/"
        },
        "id": "SkruR_IYPuuR",
        "outputId": "14550cf5-e3ff-440c-fd4b-2aa1f45c4df2"
      },
      "execution_count": null,
      "outputs": [
        {
          "output_type": "stream",
          "name": "stdout",
          "text": [
            "Model: \"sequential\"\n",
            "_________________________________________________________________\n",
            " Layer (type)                Output Shape              Param #   \n",
            "=================================================================\n",
            " vgg16 (Functional)          (None, 512)               14714688  \n",
            "                                                                 \n",
            " dropout (Dropout)           (None, 512)               0         \n",
            "                                                                 \n",
            " dense (Dense)               (None, 9)                 4617      \n",
            "                                                                 \n",
            "=================================================================\n",
            "Total params: 14,719,305\n",
            "Trainable params: 4,617\n",
            "Non-trainable params: 14,714,688\n",
            "_________________________________________________________________\n",
            "None\n"
          ]
        }
      ]
    },
    {
      "cell_type": "code",
      "source": [
        "# COMPILE THE MODEL\n",
        "pretrained_model_VGG16.compile(loss=keras.losses.categorical_crossentropy,\n",
        "            optimizer= keras.optimizers.Adam(learning_rate=0.0001),\n",
        "            metrics=['accuracy'])"
      ],
      "metadata": {
        "id": "f5QHOjGpPmn0"
      },
      "execution_count": null,
      "outputs": []
    },
    {
      "cell_type": "code",
      "source": [
        "# FIT THE MODEL\n",
        "history_VGG16 = pretrained_model_VGG16.fit(train_generator, \n",
        "                  validation_data = test_generator, \n",
        "                  steps_per_epoch = train_generator.n // train_generator.batch_size,\n",
        "                  validation_steps = test_generator.n // test_generator.batch_size, \n",
        "                  epochs=5) #,\n",
        "                  # callbacks = [callback])\n",
        "\n",
        "print(\"--- Training Completed ---\")"
      ],
      "metadata": {
        "colab": {
          "base_uri": "https://localhost:8080/"
        },
        "id": "NpAYBrOiPmlV",
        "outputId": "e059f20c-5b59-4666-b4e7-9b6d8279337a"
      },
      "execution_count": null,
      "outputs": [
        {
          "output_type": "stream",
          "name": "stdout",
          "text": [
            "Epoch 1/30\n",
            "112/112 [==============================] - 1635s 14s/step - loss: 2.4562 - accuracy: 0.1198 - val_loss: 2.4471 - val_accuracy: 0.0764\n",
            "Epoch 2/30\n",
            "112/112 [==============================] - 26s 234ms/step - loss: 2.2856 - accuracy: 0.1421 - val_loss: 2.2808 - val_accuracy: 0.1458\n",
            "Epoch 3/30\n",
            "112/112 [==============================] - 27s 241ms/step - loss: 2.2287 - accuracy: 0.1550 - val_loss: 2.1898 - val_accuracy: 0.1736\n",
            "Epoch 4/30\n",
            "112/112 [==============================] - 26s 235ms/step - loss: 2.1650 - accuracy: 0.1863 - val_loss: 2.1442 - val_accuracy: 0.2153\n",
            "Epoch 5/30\n",
            "112/112 [==============================] - 28s 247ms/step - loss: 2.1179 - accuracy: 0.2373 - val_loss: 2.1028 - val_accuracy: 0.2431\n",
            "Epoch 6/30\n",
            "112/112 [==============================] - 26s 234ms/step - loss: 2.0778 - accuracy: 0.2703 - val_loss: 2.0744 - val_accuracy: 0.2917\n",
            "Epoch 7/30\n",
            "112/112 [==============================] - 27s 236ms/step - loss: 2.0331 - accuracy: 0.3151 - val_loss: 2.0531 - val_accuracy: 0.2778\n",
            "Epoch 8/30\n",
            "112/112 [==============================] - 27s 240ms/step - loss: 1.9899 - accuracy: 0.3637 - val_loss: 2.0243 - val_accuracy: 0.2986\n",
            "Epoch 9/30\n",
            "112/112 [==============================] - 26s 235ms/step - loss: 1.9488 - accuracy: 0.3996 - val_loss: 1.9988 - val_accuracy: 0.3194\n",
            "Epoch 10/30\n",
            "112/112 [==============================] - 27s 244ms/step - loss: 1.9269 - accuracy: 0.4292 - val_loss: 1.9724 - val_accuracy: 0.3542\n",
            "Epoch 11/30\n",
            "112/112 [==============================] - 26s 234ms/step - loss: 1.8803 - accuracy: 0.4622 - val_loss: 1.9542 - val_accuracy: 0.3403\n",
            "Epoch 12/30\n",
            "112/112 [==============================] - 27s 243ms/step - loss: 1.8541 - accuracy: 0.4617 - val_loss: 1.9228 - val_accuracy: 0.3819\n",
            "Epoch 13/30\n",
            "112/112 [==============================] - 26s 235ms/step - loss: 1.8364 - accuracy: 0.4717 - val_loss: 1.8939 - val_accuracy: 0.4097\n",
            "Epoch 14/30\n",
            "112/112 [==============================] - 27s 244ms/step - loss: 1.8025 - accuracy: 0.5031 - val_loss: 1.8709 - val_accuracy: 0.4375\n",
            "Epoch 15/30\n",
            "112/112 [==============================] - 26s 234ms/step - loss: 1.7642 - accuracy: 0.5193 - val_loss: 1.8535 - val_accuracy: 0.4236\n",
            "Epoch 16/30\n",
            "112/112 [==============================] - 26s 232ms/step - loss: 1.7405 - accuracy: 0.5036 - val_loss: 1.8324 - val_accuracy: 0.4514\n",
            "Epoch 17/30\n",
            "112/112 [==============================] - 26s 234ms/step - loss: 1.7047 - accuracy: 0.5305 - val_loss: 1.8166 - val_accuracy: 0.4444\n",
            "Epoch 18/30\n",
            "112/112 [==============================] - 27s 239ms/step - loss: 1.6758 - accuracy: 0.5607 - val_loss: 1.7884 - val_accuracy: 0.4653\n",
            "Epoch 19/30\n",
            "112/112 [==============================] - 27s 240ms/step - loss: 1.6558 - accuracy: 0.5540 - val_loss: 1.7808 - val_accuracy: 0.4653\n",
            "Epoch 20/30\n",
            "112/112 [==============================] - 26s 234ms/step - loss: 1.6356 - accuracy: 0.5781 - val_loss: 1.7574 - val_accuracy: 0.4722\n",
            "Epoch 21/30\n",
            "112/112 [==============================] - 27s 245ms/step - loss: 1.6018 - accuracy: 0.5797 - val_loss: 1.7336 - val_accuracy: 0.5069\n",
            "Epoch 22/30\n",
            "112/112 [==============================] - 26s 233ms/step - loss: 1.5881 - accuracy: 0.5926 - val_loss: 1.7171 - val_accuracy: 0.5000\n",
            "Epoch 23/30\n",
            "112/112 [==============================] - 27s 244ms/step - loss: 1.5648 - accuracy: 0.6072 - val_loss: 1.6988 - val_accuracy: 0.5278\n",
            "Epoch 24/30\n",
            "112/112 [==============================] - 26s 235ms/step - loss: 1.5536 - accuracy: 0.6139 - val_loss: 1.6890 - val_accuracy: 0.5069\n",
            "Epoch 25/30\n",
            "112/112 [==============================] - 26s 228ms/step - loss: 1.5392 - accuracy: 0.6027 - val_loss: 1.6707 - val_accuracy: 0.5694\n",
            "Epoch 26/30\n",
            "112/112 [==============================] - 27s 242ms/step - loss: 1.5134 - accuracy: 0.6178 - val_loss: 1.6465 - val_accuracy: 0.5764\n",
            "Epoch 27/30\n",
            "112/112 [==============================] - 26s 232ms/step - loss: 1.4903 - accuracy: 0.6368 - val_loss: 1.6468 - val_accuracy: 0.5556\n",
            "Epoch 28/30\n",
            "112/112 [==============================] - 26s 233ms/step - loss: 1.4859 - accuracy: 0.6256 - val_loss: 1.6298 - val_accuracy: 0.5625\n",
            "Epoch 29/30\n",
            "112/112 [==============================] - 26s 232ms/step - loss: 1.4577 - accuracy: 0.6463 - val_loss: 1.6130 - val_accuracy: 0.5903\n",
            "Epoch 30/30\n",
            "112/112 [==============================] - 28s 245ms/step - loss: 1.4438 - accuracy: 0.6469 - val_loss: 1.5927 - val_accuracy: 0.6181\n",
            "--- Training Completed ---\n"
          ]
        }
      ]
    },
    {
      "cell_type": "code",
      "source": [
        "# PLOT THEM TOGETHER\n",
        "# Visualization of the learning curves\n",
        "plt.figure(figsize=(15,6))\n",
        "\n",
        "plt.subplot(1, 2, 1)\n",
        "plt.plot(history_VGG16.history['loss'])\n",
        "plt.plot(history_VGG16.history['val_loss'])\n",
        "plt.ylim([0.0, 3.0])\n",
        "plt.title(\"Loss & Val loss VGG16\")\n",
        "plt.xlabel('Epoch')\n",
        "plt.ylabel('Loss')\n",
        "plt.legend(['train', 'valid'])\n",
        "\n",
        "plt.subplot(1, 2, 2)\n",
        "plt.plot(history_VGG16.history['accuracy'])\n",
        "plt.plot(history_VGG16.history['val_accuracy'])\n",
        "plt.ylim([0.0, 1.0])\n",
        "plt.title(\"Accuracy & Val accuracy VGG16\")\n",
        "plt.xlabel('Epoch')\n",
        "plt.ylabel('Accuracy')\n",
        "plt.legend(['train', 'valid'])"
      ],
      "metadata": {
        "colab": {
          "base_uri": "https://localhost:8080/",
          "height": 421
        },
        "id": "bmAy5XhmPmgi",
        "outputId": "1977da19-227a-4121-c12d-412955201049"
      },
      "execution_count": null,
      "outputs": [
        {
          "output_type": "execute_result",
          "data": {
            "text/plain": [
              "<matplotlib.legend.Legend at 0x7f002661d350>"
            ]
          },
          "metadata": {},
          "execution_count": 13
        },
        {
          "output_type": "display_data",
          "data": {
            "text/plain": [
              "<Figure size 1080x432 with 2 Axes>"
            ],
            "image/png": "[encoded data removed]"
          },
          "metadata": {
            "needs_background": "light"
          }
        }
      ]
    },
    {
      "cell_type": "markdown",
      "source": [
        "###### Results Model V04 - VGG16"
      ],
      "metadata": {
        "id": "L4UmwE0ifgwv"
      }
    },
    {
      "cell_type": "markdown",
      "source": [
        "Convergence much slower than MobileNetV2. Why? (for sure better than ResNet50. Why?)"
      ],
      "metadata": {
        "id": "c6aUg-_-QfFZ"
      }
    },
    {
      "cell_type": "markdown",
      "source": [
        "https://towardsdatascience.com/step-by-step-vgg16-implementation-in-keras-for-beginners-a833c686ae6c\n",
        "\n",
        "https://machinelearningmastery.com/use-pre-trained-vgg-model-classify-objects-photographs/\n",
        "\n",
        "https://www.learndatasci.com/tutorials/hands-on-transfer-learning-keras/"
      ],
      "metadata": {
        "id": "mSTy2kard9qy"
      }
    },
    {
      "cell_type": "markdown",
      "source": [
        "### 5.1.8 Model V04 - Transfer learning + PCA"
      ],
      "metadata": {
        "id": "QSqudPbJY46K"
      }
    },
    {
      "cell_type": "code",
      "source": [
        "# Capture training data and labels into respective lists\n",
        "train_images = []\n",
        "train_labels = [] \n",
        "\n",
        "# GET THE LABELS\n",
        "for directory_path in glob.glob(DIR_TRAIN_DATA):\n",
        "    tr_label = directory_path.split(\"/\")[-1]\n",
        "    print(tr_label)\n",
        "    # GET THE IMAGES\n",
        "    for img_path in glob.glob(os.path.join(directory_path, \"*.jpg\")):\n",
        "        # print(img_path)\n",
        "        img = cv2.imread(img_path, cv2.IMREAD_COLOR)       \n",
        "        img = cv2.resize(img, (224, 224))\n",
        "        img = cv2.cvtColor(img, cv2.COLOR_RGB2BGR)\n",
        "        train_images.append(img)\n",
        "        train_labels.append(tr_label)\n",
        "\n",
        "# CONVERT LISTS TO ARRAYS\n",
        "train_images = np.array(train_images)\n",
        "train_labels = np.array(train_labels)\n",
        "\n",
        "################################################################\n",
        "# CAPTURE TEST/VALIDATION DATA AND LABELS INTO RESPECTIVE LISTS\n",
        "\n",
        "test_images = []\n",
        "test_labels = [] \n",
        "for directory_path in glob.glob(DIR_TEST_DATA):\n",
        "    tt_label = directory_path.split(\"/\")[-1]\n",
        "    for img_path in glob.glob(os.path.join(directory_path, \"*.jpg\")):\n",
        "        img = cv2.imread(img_path, cv2.IMREAD_COLOR)\n",
        "        img = cv2.resize(img, (224, 224))\n",
        "        img = cv2.cvtColor(img, cv2.COLOR_RGB2BGR)\n",
        "        test_images.append(img)\n",
        "        test_labels.append(tt_label)\n",
        "\n",
        "#Convert lists to arrays                \n",
        "test_images = np.array(test_images)\n",
        "test_labels = np.array(test_labels)"
      ],
      "metadata": {
        "colab": {
          "base_uri": "https://localhost:8080/",
          "height": 173
        },
        "id": "-2ccgqZiZLOA",
        "outputId": "dd752d2a-77c7-4064-9417-219f646a3899"
      },
      "execution_count": 19,
      "outputs": [
        {
          "output_type": "display_data",
          "data": {
            "text/plain": [
              "<IPython.core.display.Javascript object>"
            ],
            "application/javascript": [
              "google.colab.output.setIframeHeight(0, true, {maxHeight: 300})"
            ]
          },
          "metadata": {}
        },
        {
          "output_type": "stream",
          "name": "stdout",
          "text": [
            "french_fries\n",
            "caprese_salad\n",
            "pizza\n",
            "greek_salad\n",
            "sashimi\n",
            "hot_dog\n",
            "caesar_salad\n",
            "hamburger\n",
            "sushi\n"
          ]
        }
      ]
    },
    {
      "cell_type": "code",
      "source": [
        "# ENCODE LABELS FROM TEXT TO INTEGERS\n",
        "le = preprocessing.LabelEncoder()\n",
        "\n",
        "# TRAIN DATA\n",
        "le.fit(train_labels)\n",
        "train_labels_encoded = le.transform(train_labels)\n",
        "\n",
        "# TEST DATA\n",
        "le.fit(test_labels)\n",
        "test_labels_encoded = le.transform(test_labels)\n",
        "\n",
        "# SPLIT DATA INTO TEST AND TRAIN DATASETS (ALREADY SPLIT BUT ASSIGNING TO MEANINGFUL CONVENTION)\n",
        "x_train, y_train, x_test, y_test = train_images, train_labels_encoded, test_images, test_labels_encoded"
      ],
      "metadata": {
        "colab": {
          "base_uri": "https://localhost:8080/",
          "height": 17
        },
        "id": "9n5RboU4ZLLs",
        "outputId": "077f883e-ddac-44cf-947d-7ea84f9107c1"
      },
      "execution_count": 20,
      "outputs": [
        {
          "output_type": "display_data",
          "data": {
            "text/plain": [
              "<IPython.core.display.Javascript object>"
            ],
            "application/javascript": [
              "google.colab.output.setIframeHeight(0, true, {maxHeight: 300})"
            ]
          },
          "metadata": {}
        }
      ]
    },
    {
      "cell_type": "code",
      "source": [
        "# SCALE PIXEL VALUES BETWEEN 0 AND 1\n",
        "x_train, x_test = x_train / 255.0, x_test / 255.0\n",
        "\n",
        "# ONE HOT ENCODE Y VALUES FOR NEURAL NETWORK\n",
        "y_train_one_hot = to_categorical(y_train)\n",
        "y_test_one_hot = to_categorical(y_test)"
      ],
      "metadata": {
        "colab": {
          "base_uri": "https://localhost:8080/",
          "height": 17
        },
        "id": "9ukrE3Q5ZLJ6",
        "outputId": "6b58a68a-a578-46e6-f5e6-b9159c638bf9"
      },
      "execution_count": 21,
      "outputs": [
        {
          "output_type": "display_data",
          "data": {
            "text/plain": [
              "<IPython.core.display.Javascript object>"
            ],
            "application/javascript": [
              "google.colab.output.setIframeHeight(0, true, {maxHeight: 300})"
            ]
          },
          "metadata": {}
        }
      ]
    },
    {
      "cell_type": "code",
      "source": [
        "#############################\n",
        "#Load VGG model with imagenet trained weights and without classifier/fully connected layers\n",
        "#We will use this as feature extractor. \n",
        "base_model_mobilenetv2_PCA = tf.keras.applications.MobileNetV2(\n",
        "    input_shape = (224, 224, 3),\n",
        "    include_top=False, \n",
        "    weights=\"imagenet\"\n",
        ")\n",
        "# With the following we ensure that we do not mess with the original\n",
        "# imagenet weights\n",
        "base_model_mobilenetv2_PCA.trainable = False\n",
        "    \n",
        "base_model_mobilenetv2_PCA.summary()  #Trainable parameters will be 0"
      ],
      "metadata": {
        "colab": {
          "base_uri": "https://localhost:8080/",
          "height": 300
        },
        "id": "-7Rfk2ANguND",
        "outputId": "1f4527fb-cba1-43a5-ff6d-e0349d56a5d8"
      },
      "execution_count": 22,
      "outputs": [
        {
          "output_type": "display_data",
          "data": {
            "text/plain": [
              "<IPython.core.display.Javascript object>"
            ],
            "application/javascript": [
              "google.colab.output.setIframeHeight(0, true, {maxHeight: 300})"
            ]
          },
          "metadata": {}
        },
        {
          "output_type": "stream",
          "name": "stdout",
          "text": [
            "Model: \"mobilenetv2_1.00_224\"\n",
            "__________________________________________________________________________________________________\n",
            " Layer (type)                   Output Shape         Param #     Connected to                     \n",
            "==================================================================================================\n",
            " input_2 (InputLayer)           [(None, 224, 224, 3  0           []                               \n",
            "                                )]                                                                \n",
            "                                                                                                  \n",
            " Conv1 (Conv2D)                 (None, 112, 112, 32  864         ['input_2[0][0]']                \n",
            "                                )                                                                 \n",
            "                                                                                                  \n",
            " bn_Conv1 (BatchNormalization)  (None, 112, 112, 32  128         ['Conv1[0][0]']                  \n",
            "                                )                                                                 \n",
            "                                                                                                  \n",
            " Conv1_relu (ReLU)              (None, 112, 112, 32  0           ['bn_Conv1[0][0]']               \n",
            "                                )                                                                 \n",
            "                                                                                                  \n",
            " expanded_conv_depthwise (Depth  (None, 112, 112, 32  288        ['Conv1_relu[0][0]']             \n",
            " wiseConv2D)                    )                                                                 \n",
            "                                                                                                  \n",
            " expanded_conv_depthwise_BN (Ba  (None, 112, 112, 32  128        ['expanded_conv_depthwise[0][0]']\n",
            " tchNormalization)              )                                                                 \n",
            "                                                                                                  \n",
            " expanded_conv_depthwise_relu (  (None, 112, 112, 32  0          ['expanded_conv_depthwise_BN[0][0\n",
            " ReLU)                          )                                ]']                              \n",
            "                                                                                                  \n",
            " expanded_conv_project (Conv2D)  (None, 112, 112, 16  512        ['expanded_conv_depthwise_relu[0]\n",
            "                                )                                [0]']                            \n",
            "                                                                                                  \n",
            " expanded_conv_project_BN (Batc  (None, 112, 112, 16  64         ['expanded_conv_project[0][0]']  \n",
            " hNormalization)                )                                                                 \n",
            "                                                                                                  \n",
            " block_1_expand (Conv2D)        (None, 112, 112, 96  1536        ['expanded_conv_project_BN[0][0]'\n",
            "                                )                                ]                                \n",
            "                                                                                                  \n",
            " block_1_expand_BN (BatchNormal  (None, 112, 112, 96  384        ['block_1_expand[0][0]']         \n",
            " ization)                       )                                                                 \n",
            "                                                                                                  \n",
            " block_1_expand_relu (ReLU)     (None, 112, 112, 96  0           ['block_1_expand_BN[0][0]']      \n",
            "                                )                                                                 \n",
            "                                                                                                  \n",
            " block_1_pad (ZeroPadding2D)    (None, 113, 113, 96  0           ['block_1_expand_relu[0][0]']    \n",
            "                                )                                                                 \n",
            "                                                                                                  \n",
            " block_1_depthwise (DepthwiseCo  (None, 56, 56, 96)  864         ['block_1_pad[0][0]']            \n",
            " nv2D)                                                                                            \n",
            "                                                                                                  \n",
            " block_1_depthwise_BN (BatchNor  (None, 56, 56, 96)  384         ['block_1_depthwise[0][0]']      \n",
            " malization)                                                                                      \n",
            "                                                                                                  \n",
            " block_1_depthwise_relu (ReLU)  (None, 56, 56, 96)   0           ['block_1_depthwise_BN[0][0]']   \n",
            "                                                                                                  \n",
            " block_1_project (Conv2D)       (None, 56, 56, 24)   2304        ['block_1_depthwise_relu[0][0]'] \n",
            "                                                                                                  \n",
            " block_1_project_BN (BatchNorma  (None, 56, 56, 24)  96          ['block_1_project[0][0]']        \n",
            " lization)                                                                                        \n",
            "                                                                                                  \n",
            " block_2_expand (Conv2D)        (None, 56, 56, 144)  3456        ['block_1_project_BN[0][0]']     \n",
            "                                                                                                  \n",
            " block_2_expand_BN (BatchNormal  (None, 56, 56, 144)  576        ['block_2_expand[0][0]']         \n",
            " ization)                                                                                         \n",
            "                                                                                                  \n",
            " block_2_expand_relu (ReLU)     (None, 56, 56, 144)  0           ['block_2_expand_BN[0][0]']      \n",
            "                                                                                                  \n",
            " block_2_depthwise (DepthwiseCo  (None, 56, 56, 144)  1296       ['block_2_expand_relu[0][0]']    \n",
            " nv2D)                                                                                            \n",
            "                                                                                                  \n",
            " block_2_depthwise_BN (BatchNor  (None, 56, 56, 144)  576        ['block_2_depthwise[0][0]']      \n",
            " malization)                                                                                      \n",
            "                                                                                                  \n",
            " block_2_depthwise_relu (ReLU)  (None, 56, 56, 144)  0           ['block_2_depthwise_BN[0][0]']   \n",
            "                                                                                                  \n",
            " block_2_project (Conv2D)       (None, 56, 56, 24)   3456        ['block_2_depthwise_relu[0][0]'] \n",
            "                                                                                                  \n",
            " block_2_project_BN (BatchNorma  (None, 56, 56, 24)  96          ['block_2_project[0][0]']        \n",
            " lization)                                                                                        \n",
            "                                                                                                  \n",
            " block_2_add (Add)              (None, 56, 56, 24)   0           ['block_1_project_BN[0][0]',     \n",
            "                                                                  'block_2_project_BN[0][0]']     \n",
            "                                                                                                  \n",
            " block_3_expand (Conv2D)        (None, 56, 56, 144)  3456        ['block_2_add[0][0]']            \n",
            "                                                                                                  \n",
            " block_3_expand_BN (BatchNormal  (None, 56, 56, 144)  576        ['block_3_expand[0][0]']         \n",
            " ization)                                                                                         \n",
            "                                                                                                  \n",
            " block_3_expand_relu (ReLU)     (None, 56, 56, 144)  0           ['block_3_expand_BN[0][0]']      \n",
            "                                                                                                  \n",
            " block_3_pad (ZeroPadding2D)    (None, 57, 57, 144)  0           ['block_3_expand_relu[0][0]']    \n",
            "                                                                                                  \n",
            " block_3_depthwise (DepthwiseCo  (None, 28, 28, 144)  1296       ['block_3_pad[0][0]']            \n",
            " nv2D)                                                                                            \n",
            "                                                                                                  \n",
            " block_3_depthwise_BN (BatchNor  (None, 28, 28, 144)  576        ['block_3_depthwise[0][0]']      \n",
            " malization)                                                                                      \n",
            "                                                                                                  \n",
            " block_3_depthwise_relu (ReLU)  (None, 28, 28, 144)  0           ['block_3_depthwise_BN[0][0]']   \n",
            "                                                                                                  \n",
            " block_3_project (Conv2D)       (None, 28, 28, 32)   4608        ['block_3_depthwise_relu[0][0]'] \n",
            "                                                                                                  \n",
            " block_3_project_BN (BatchNorma  (None, 28, 28, 32)  128         ['block_3_project[0][0]']        \n",
            " lization)                                                                                        \n",
            "                                                                                                  \n",
            " block_4_expand (Conv2D)        (None, 28, 28, 192)  6144        ['block_3_project_BN[0][0]']     \n",
            "                                                                                                  \n",
            " block_4_expand_BN (BatchNormal  (None, 28, 28, 192)  768        ['block_4_expand[0][0]']         \n",
            " ization)                                                                                         \n",
            "                                                                                                  \n",
            " block_4_expand_relu (ReLU)     (None, 28, 28, 192)  0           ['block_4_expand_BN[0][0]']      \n",
            "                                                                                                  \n",
            " block_4_depthwise (DepthwiseCo  (None, 28, 28, 192)  1728       ['block_4_expand_relu[0][0]']    \n",
            " nv2D)                                                                                            \n",
            "                                                                                                  \n",
            " block_4_depthwise_BN (BatchNor  (None, 28, 28, 192)  768        ['block_4_depthwise[0][0]']      \n",
            " malization)                                                                                      \n",
            "                                                                                                  \n",
            " block_4_depthwise_relu (ReLU)  (None, 28, 28, 192)  0           ['block_4_depthwise_BN[0][0]']   \n",
            "                                                                                                  \n",
            " block_4_project (Conv2D)       (None, 28, 28, 32)   6144        ['block_4_depthwise_relu[0][0]'] \n",
            "                                                                                                  \n",
            " block_4_project_BN (BatchNorma  (None, 28, 28, 32)  128         ['block_4_project[0][0]']        \n",
            " lization)                                                                                        \n",
            "                                                                                                  \n",
            " block_4_add (Add)              (None, 28, 28, 32)   0           ['block_3_project_BN[0][0]',     \n",
            "                                                                  'block_4_project_BN[0][0]']     \n",
            "                                                                                                  \n",
            " block_5_expand (Conv2D)        (None, 28, 28, 192)  6144        ['block_4_add[0][0]']            \n",
            "                                                                                                  \n",
            " block_5_expand_BN (BatchNormal  (None, 28, 28, 192)  768        ['block_5_expand[0][0]']         \n",
            " ization)                                                                                         \n",
            "                                                                                                  \n",
            " block_5_expand_relu (ReLU)     (None, 28, 28, 192)  0           ['block_5_expand_BN[0][0]']      \n",
            "                                                                                                  \n",
            " block_5_depthwise (DepthwiseCo  (None, 28, 28, 192)  1728       ['block_5_expand_relu[0][0]']    \n",
            " nv2D)                                                                                            \n",
            "                                                                                                  \n",
            " block_5_depthwise_BN (BatchNor  (None, 28, 28, 192)  768        ['block_5_depthwise[0][0]']      \n",
            " malization)                                                                                      \n",
            "                                                                                                  \n",
            " block_5_depthwise_relu (ReLU)  (None, 28, 28, 192)  0           ['block_5_depthwise_BN[0][0]']   \n",
            "                                                                                                  \n",
            " block_5_project (Conv2D)       (None, 28, 28, 32)   6144        ['block_5_depthwise_relu[0][0]'] \n",
            "                                                                                                  \n",
            " block_5_project_BN (BatchNorma  (None, 28, 28, 32)  128         ['block_5_project[0][0]']        \n",
            " lization)                                                                                        \n",
            "                                                                                                  \n",
            " block_5_add (Add)              (None, 28, 28, 32)   0           ['block_4_add[0][0]',            \n",
            "                                                                  'block_5_project_BN[0][0]']     \n",
            "                                                                                                  \n",
            " block_6_expand (Conv2D)        (None, 28, 28, 192)  6144        ['block_5_add[0][0]']            \n",
            "                                                                                                  \n",
            " block_6_expand_BN (BatchNormal  (None, 28, 28, 192)  768        ['block_6_expand[0][0]']         \n",
            " ization)                                                                                         \n",
            "                                                                                                  \n",
            " block_6_expand_relu (ReLU)     (None, 28, 28, 192)  0           ['block_6_expand_BN[0][0]']      \n",
            "                                                                                                  \n",
            " block_6_pad (ZeroPadding2D)    (None, 29, 29, 192)  0           ['block_6_expand_relu[0][0]']    \n",
            "                                                                                                  \n",
            " block_6_depthwise (DepthwiseCo  (None, 14, 14, 192)  1728       ['block_6_pad[0][0]']            \n",
            " nv2D)                                                                                            \n",
            "                                                                                                  \n",
            " block_6_depthwise_BN (BatchNor  (None, 14, 14, 192)  768        ['block_6_depthwise[0][0]']      \n",
            " malization)                                                                                      \n",
            "                                                                                                  \n",
            " block_6_depthwise_relu (ReLU)  (None, 14, 14, 192)  0           ['block_6_depthwise_BN[0][0]']   \n",
            "                                                                                                  \n",
            " block_6_project (Conv2D)       (None, 14, 14, 64)   12288       ['block_6_depthwise_relu[0][0]'] \n",
            "                                                                                                  \n",
            " block_6_project_BN (BatchNorma  (None, 14, 14, 64)  256         ['block_6_project[0][0]']        \n",
            " lization)                                                                                        \n",
            "                                                                                                  \n",
            " block_7_expand (Conv2D)        (None, 14, 14, 384)  24576       ['block_6_project_BN[0][0]']     \n",
            "                                                                                                  \n",
            " block_7_expand_BN (BatchNormal  (None, 14, 14, 384)  1536       ['block_7_expand[0][0]']         \n",
            " ization)                                                                                         \n",
            "                                                                                                  \n",
            " block_7_expand_relu (ReLU)     (None, 14, 14, 384)  0           ['block_7_expand_BN[0][0]']      \n",
            "                                                                                                  \n",
            " block_7_depthwise (DepthwiseCo  (None, 14, 14, 384)  3456       ['block_7_expand_relu[0][0]']    \n",
            " nv2D)                                                                                            \n",
            "                                                                                                  \n",
            " block_7_depthwise_BN (BatchNor  (None, 14, 14, 384)  1536       ['block_7_depthwise[0][0]']      \n",
            " malization)                                                                                      \n",
            "                                                                                                  \n",
            " block_7_depthwise_relu (ReLU)  (None, 14, 14, 384)  0           ['block_7_depthwise_BN[0][0]']   \n",
            "                                                                                                  \n",
            " block_7_project (Conv2D)       (None, 14, 14, 64)   24576       ['block_7_depthwise_relu[0][0]'] \n",
            "                                                                                                  \n",
            " block_7_project_BN (BatchNorma  (None, 14, 14, 64)  256         ['block_7_project[0][0]']        \n",
            " lization)                                                                                        \n",
            "                                                                                                  \n",
            " block_7_add (Add)              (None, 14, 14, 64)   0           ['block_6_project_BN[0][0]',     \n",
            "                                                                  'block_7_project_BN[0][0]']     \n",
            "                                                                                                  \n",
            " block_8_expand (Conv2D)        (None, 14, 14, 384)  24576       ['block_7_add[0][0]']            \n",
            "                                                                                                  \n",
            " block_8_expand_BN (BatchNormal  (None, 14, 14, 384)  1536       ['block_8_expand[0][0]']         \n",
            " ization)                                                                                         \n",
            "                                                                                                  \n",
            " block_8_expand_relu (ReLU)     (None, 14, 14, 384)  0           ['block_8_expand_BN[0][0]']      \n",
            "                                                                                                  \n",
            " block_8_depthwise (DepthwiseCo  (None, 14, 14, 384)  3456       ['block_8_expand_relu[0][0]']    \n",
            " nv2D)                                                                                            \n",
            "                                                                                                  \n",
            " block_8_depthwise_BN (BatchNor  (None, 14, 14, 384)  1536       ['block_8_depthwise[0][0]']      \n",
            " malization)                                                                                      \n",
            "                                                                                                  \n",
            " block_8_depthwise_relu (ReLU)  (None, 14, 14, 384)  0           ['block_8_depthwise_BN[0][0]']   \n",
            "                                                                                                  \n",
            " block_8_project (Conv2D)       (None, 14, 14, 64)   24576       ['block_8_depthwise_relu[0][0]'] \n",
            "                                                                                                  \n",
            " block_8_project_BN (BatchNorma  (None, 14, 14, 64)  256         ['block_8_project[0][0]']        \n",
            " lization)                                                                                        \n",
            "                                                                                                  \n",
            " block_8_add (Add)              (None, 14, 14, 64)   0           ['block_7_add[0][0]',            \n",
            "                                                                  'block_8_project_BN[0][0]']     \n",
            "                                                                                                  \n",
            " block_9_expand (Conv2D)        (None, 14, 14, 384)  24576       ['block_8_add[0][0]']            \n",
            "                                                                                                  \n",
            " block_9_expand_BN (BatchNormal  (None, 14, 14, 384)  1536       ['block_9_expand[0][0]']         \n",
            " ization)                                                                                         \n",
            "                                                                                                  \n",
            " block_9_expand_relu (ReLU)     (None, 14, 14, 384)  0           ['block_9_expand_BN[0][0]']      \n",
            "                                                                                                  \n",
            " block_9_depthwise (DepthwiseCo  (None, 14, 14, 384)  3456       ['block_9_expand_relu[0][0]']    \n",
            " nv2D)                                                                                            \n",
            "                                                                                                  \n",
            " block_9_depthwise_BN (BatchNor  (None, 14, 14, 384)  1536       ['block_9_depthwise[0][0]']      \n",
            " malization)                                                                                      \n",
            "                                                                                                  \n",
            " block_9_depthwise_relu (ReLU)  (None, 14, 14, 384)  0           ['block_9_depthwise_BN[0][0]']   \n",
            "                                                                                                  \n",
            " block_9_project (Conv2D)       (None, 14, 14, 64)   24576       ['block_9_depthwise_relu[0][0]'] \n",
            "                                                                                                  \n",
            " block_9_project_BN (BatchNorma  (None, 14, 14, 64)  256         ['block_9_project[0][0]']        \n",
            " lization)                                                                                        \n",
            "                                                                                                  \n",
            " block_9_add (Add)              (None, 14, 14, 64)   0           ['block_8_add[0][0]',            \n",
            "                                                                  'block_9_project_BN[0][0]']     \n",
            "                                                                                                  \n",
            " block_10_expand (Conv2D)       (None, 14, 14, 384)  24576       ['block_9_add[0][0]']            \n",
            "                                                                                                  \n",
            " block_10_expand_BN (BatchNorma  (None, 14, 14, 384)  1536       ['block_10_expand[0][0]']        \n",
            " lization)                                                                                        \n",
            "                                                                                                  \n",
            " block_10_expand_relu (ReLU)    (None, 14, 14, 384)  0           ['block_10_expand_BN[0][0]']     \n",
            "                                                                                                  \n",
            " block_10_depthwise (DepthwiseC  (None, 14, 14, 384)  3456       ['block_10_expand_relu[0][0]']   \n",
            " onv2D)                                                                                           \n",
            "                                                                                                  \n",
            " block_10_depthwise_BN (BatchNo  (None, 14, 14, 384)  1536       ['block_10_depthwise[0][0]']     \n",
            " rmalization)                                                                                     \n",
            "                                                                                                  \n",
            " block_10_depthwise_relu (ReLU)  (None, 14, 14, 384)  0          ['block_10_depthwise_BN[0][0]']  \n",
            "                                                                                                  \n",
            " block_10_project (Conv2D)      (None, 14, 14, 96)   36864       ['block_10_depthwise_relu[0][0]']\n",
            "                                                                                                  \n",
            " block_10_project_BN (BatchNorm  (None, 14, 14, 96)  384         ['block_10_project[0][0]']       \n",
            " alization)                                                                                       \n",
            "                                                                                                  \n",
            " block_11_expand (Conv2D)       (None, 14, 14, 576)  55296       ['block_10_project_BN[0][0]']    \n",
            "                                                                                                  \n",
            " block_11_expand_BN (BatchNorma  (None, 14, 14, 576)  2304       ['block_11_expand[0][0]']        \n",
            " lization)                                                                                        \n",
            "                                                                                                  \n",
            " block_11_expand_relu (ReLU)    (None, 14, 14, 576)  0           ['block_11_expand_BN[0][0]']     \n",
            "                                                                                                  \n",
            " block_11_depthwise (DepthwiseC  (None, 14, 14, 576)  5184       ['block_11_expand_relu[0][0]']   \n",
            " onv2D)                                                                                           \n",
            "                                                                                                  \n",
            " block_11_depthwise_BN (BatchNo  (None, 14, 14, 576)  2304       ['block_11_depthwise[0][0]']     \n",
            " rmalization)                                                                                     \n",
            "                                                                                                  \n",
            " block_11_depthwise_relu (ReLU)  (None, 14, 14, 576)  0          ['block_11_depthwise_BN[0][0]']  \n",
            "                                                                                                  \n",
            " block_11_project (Conv2D)      (None, 14, 14, 96)   55296       ['block_11_depthwise_relu[0][0]']\n",
            "                                                                                                  \n",
            " block_11_project_BN (BatchNorm  (None, 14, 14, 96)  384         ['block_11_project[0][0]']       \n",
            " alization)                                                                                       \n",
            "                                                                                                  \n",
            " block_11_add (Add)             (None, 14, 14, 96)   0           ['block_10_project_BN[0][0]',    \n",
            "                                                                  'block_11_project_BN[0][0]']    \n",
            "                                                                                                  \n",
            " block_12_expand (Conv2D)       (None, 14, 14, 576)  55296       ['block_11_add[0][0]']           \n",
            "                                                                                                  \n",
            " block_12_expand_BN (BatchNorma  (None, 14, 14, 576)  2304       ['block_12_expand[0][0]']        \n",
            " lization)                                                                                        \n",
            "                                                                                                  \n",
            " block_12_expand_relu (ReLU)    (None, 14, 14, 576)  0           ['block_12_expand_BN[0][0]']     \n",
            "                                                                                                  \n",
            " block_12_depthwise (DepthwiseC  (None, 14, 14, 576)  5184       ['block_12_expand_relu[0][0]']   \n",
            " onv2D)                                                                                           \n",
            "                                                                                                  \n",
            " block_12_depthwise_BN (BatchNo  (None, 14, 14, 576)  2304       ['block_12_depthwise[0][0]']     \n",
            " rmalization)                                                                                     \n",
            "                                                                                                  \n",
            " block_12_depthwise_relu (ReLU)  (None, 14, 14, 576)  0          ['block_12_depthwise_BN[0][0]']  \n",
            "                                                                                                  \n",
            " block_12_project (Conv2D)      (None, 14, 14, 96)   55296       ['block_12_depthwise_relu[0][0]']\n",
            "                                                                                                  \n",
            " block_12_project_BN (BatchNorm  (None, 14, 14, 96)  384         ['block_12_project[0][0]']       \n",
            " alization)                                                                                       \n",
            "                                                                                                  \n",
            " block_12_add (Add)             (None, 14, 14, 96)   0           ['block_11_add[0][0]',           \n",
            "                                                                  'block_12_project_BN[0][0]']    \n",
            "                                                                                                  \n",
            " block_13_expand (Conv2D)       (None, 14, 14, 576)  55296       ['block_12_add[0][0]']           \n",
            "                                                                                                  \n",
            " block_13_expand_BN (BatchNorma  (None, 14, 14, 576)  2304       ['block_13_expand[0][0]']        \n",
            " lization)                                                                                        \n",
            "                                                                                                  \n",
            " block_13_expand_relu (ReLU)    (None, 14, 14, 576)  0           ['block_13_expand_BN[0][0]']     \n",
            "                                                                                                  \n",
            " block_13_pad (ZeroPadding2D)   (None, 15, 15, 576)  0           ['block_13_expand_relu[0][0]']   \n",
            "                                                                                                  \n",
            " block_13_depthwise (DepthwiseC  (None, 7, 7, 576)   5184        ['block_13_pad[0][0]']           \n",
            " onv2D)                                                                                           \n",
            "                                                                                                  \n",
            " block_13_depthwise_BN (BatchNo  (None, 7, 7, 576)   2304        ['block_13_depthwise[0][0]']     \n",
            " rmalization)                                                                                     \n",
            "                                                                                                  \n",
            " block_13_depthwise_relu (ReLU)  (None, 7, 7, 576)   0           ['block_13_depthwise_BN[0][0]']  \n",
            "                                                                                                  \n",
            " block_13_project (Conv2D)      (None, 7, 7, 160)    92160       ['block_13_depthwise_relu[0][0]']\n",
            "                                                                                                  \n",
            " block_13_project_BN (BatchNorm  (None, 7, 7, 160)   640         ['block_13_project[0][0]']       \n",
            " alization)                                                                                       \n",
            "                                                                                                  \n",
            " block_14_expand (Conv2D)       (None, 7, 7, 960)    153600      ['block_13_project_BN[0][0]']    \n",
            "                                                                                                  \n",
            " block_14_expand_BN (BatchNorma  (None, 7, 7, 960)   3840        ['block_14_expand[0][0]']        \n",
            " lization)                                                                                        \n",
            "                                                                                                  \n",
            " block_14_expand_relu (ReLU)    (None, 7, 7, 960)    0           ['block_14_expand_BN[0][0]']     \n",
            "                                                                                                  \n",
            " block_14_depthwise (DepthwiseC  (None, 7, 7, 960)   8640        ['block_14_expand_relu[0][0]']   \n",
            " onv2D)                                                                                           \n",
            "                                                                                                  \n",
            " block_14_depthwise_BN (BatchNo  (None, 7, 7, 960)   3840        ['block_14_depthwise[0][0]']     \n",
            " rmalization)                                                                                     \n",
            "                                                                                                  \n",
            " block_14_depthwise_relu (ReLU)  (None, 7, 7, 960)   0           ['block_14_depthwise_BN[0][0]']  \n",
            "                                                                                                  \n",
            " block_14_project (Conv2D)      (None, 7, 7, 160)    153600      ['block_14_depthwise_relu[0][0]']\n",
            "                                                                                                  \n",
            " block_14_project_BN (BatchNorm  (None, 7, 7, 160)   640         ['block_14_project[0][0]']       \n",
            " alization)                                                                                       \n",
            "                                                                                                  \n",
            " block_14_add (Add)             (None, 7, 7, 160)    0           ['block_13_project_BN[0][0]',    \n",
            "                                                                  'block_14_project_BN[0][0]']    \n",
            "                                                                                                  \n",
            " block_15_expand (Conv2D)       (None, 7, 7, 960)    153600      ['block_14_add[0][0]']           \n",
            "                                                                                                  \n",
            " block_15_expand_BN (BatchNorma  (None, 7, 7, 960)   3840        ['block_15_expand[0][0]']        \n",
            " lization)                                                                                        \n",
            "                                                                                                  \n",
            " block_15_expand_relu (ReLU)    (None, 7, 7, 960)    0           ['block_15_expand_BN[0][0]']     \n",
            "                                                                                                  \n",
            " block_15_depthwise (DepthwiseC  (None, 7, 7, 960)   8640        ['block_15_expand_relu[0][0]']   \n",
            " onv2D)                                                                                           \n",
            "                                                                                                  \n",
            " block_15_depthwise_BN (BatchNo  (None, 7, 7, 960)   3840        ['block_15_depthwise[0][0]']     \n",
            " rmalization)                                                                                     \n",
            "                                                                                                  \n",
            " block_15_depthwise_relu (ReLU)  (None, 7, 7, 960)   0           ['block_15_depthwise_BN[0][0]']  \n",
            "                                                                                                  \n",
            " block_15_project (Conv2D)      (None, 7, 7, 160)    153600      ['block_15_depthwise_relu[0][0]']\n",
            "                                                                                                  \n",
            " block_15_project_BN (BatchNorm  (None, 7, 7, 160)   640         ['block_15_project[0][0]']       \n",
            " alization)                                                                                       \n",
            "                                                                                                  \n",
            " block_15_add (Add)             (None, 7, 7, 160)    0           ['block_14_add[0][0]',           \n",
            "                                                                  'block_15_project_BN[0][0]']    \n",
            "                                                                                                  \n",
            " block_16_expand (Conv2D)       (None, 7, 7, 960)    153600      ['block_15_add[0][0]']           \n",
            "                                                                                                  \n",
            " block_16_expand_BN (BatchNorma  (None, 7, 7, 960)   3840        ['block_16_expand[0][0]']        \n",
            " lization)                                                                                        \n",
            "                                                                                                  \n",
            " block_16_expand_relu (ReLU)    (None, 7, 7, 960)    0           ['block_16_expand_BN[0][0]']     \n",
            "                                                                                                  \n",
            " block_16_depthwise (DepthwiseC  (None, 7, 7, 960)   8640        ['block_16_expand_relu[0][0]']   \n",
            " onv2D)                                                                                           \n",
            "                                                                                                  \n",
            " block_16_depthwise_BN (BatchNo  (None, 7, 7, 960)   3840        ['block_16_depthwise[0][0]']     \n",
            " rmalization)                                                                                     \n",
            "                                                                                                  \n",
            " block_16_depthwise_relu (ReLU)  (None, 7, 7, 960)   0           ['block_16_depthwise_BN[0][0]']  \n",
            "                                                                                                  \n",
            " block_16_project (Conv2D)      (None, 7, 7, 320)    307200      ['block_16_depthwise_relu[0][0]']\n",
            "                                                                                                  \n",
            " block_16_project_BN (BatchNorm  (None, 7, 7, 320)   1280        ['block_16_project[0][0]']       \n",
            " alization)                                                                                       \n",
            "                                                                                                  \n",
            " Conv_1 (Conv2D)                (None, 7, 7, 1280)   409600      ['block_16_project_BN[0][0]']    \n",
            "                                                                                                  \n",
            " Conv_1_bn (BatchNormalization)  (None, 7, 7, 1280)  5120        ['Conv_1[0][0]']                 \n",
            "                                                                                                  \n",
            " out_relu (ReLU)                (None, 7, 7, 1280)   0           ['Conv_1_bn[0][0]']              \n",
            "                                                                                                  \n",
            "==================================================================================================\n",
            "Total params: 2,257,984\n",
            "Trainable params: 0\n",
            "Non-trainable params: 2,257,984\n",
            "__________________________________________________________________________________________________\n"
          ]
        }
      ]
    },
    {
      "cell_type": "code",
      "source": [
        "# NOW, USE THE MOBILENETV2 AS A FEATURE EXTRACTOR\n",
        "# TRAIN FEATURES\n",
        "train_feature_extractor = base_model_mobilenetv2_PCA.predict(x_train)\n",
        "train_features = train_feature_extractor.reshape(train_feature_extractor.shape[0], -1)\n",
        "\n",
        "# TEST FEATURES\n",
        "test_feature_extractor = base_model_mobilenetv2_PCA.predict(x_test)\n",
        "test_features = test_feature_extractor.reshape(test_feature_extractor.shape[0], -1)"
      ],
      "metadata": {
        "colab": {
          "base_uri": "https://localhost:8080/",
          "height": 52
        },
        "id": "ME2gHKhbguKS",
        "outputId": "89a9e240-b18a-4028-c88d-377c6bd61d17"
      },
      "execution_count": 23,
      "outputs": [
        {
          "output_type": "display_data",
          "data": {
            "text/plain": [
              "<IPython.core.display.Javascript object>"
            ],
            "application/javascript": [
              "google.colab.output.setIframeHeight(0, true, {maxHeight: 300})"
            ]
          },
          "metadata": {}
        },
        {
          "output_type": "stream",
          "name": "stdout",
          "text": [
            "57/57 [==============================] - 79s 1s/step\n",
            "5/5 [==============================] - 6s 1s/step\n"
          ]
        }
      ]
    },
    {
      "cell_type": "code",
      "source": [
        "train_features.shape"
      ],
      "metadata": {
        "colab": {
          "base_uri": "https://localhost:8080/",
          "height": 34
        },
        "id": "gQOXkDg9D2pH",
        "outputId": "221d02bd-ce0e-4250-d278-30c36200d3e6"
      },
      "execution_count": 63,
      "outputs": [
        {
          "output_type": "display_data",
          "data": {
            "text/plain": [
              "<IPython.core.display.Javascript object>"
            ],
            "application/javascript": [
              "google.colab.output.setIframeHeight(0, true, {maxHeight: 300})"
            ]
          },
          "metadata": {}
        },
        {
          "output_type": "execute_result",
          "data": {
            "text/plain": [
              "(1803, 62720)"
            ]
          },
          "metadata": {},
          "execution_count": 63
        }
      ]
    },
    {
      "cell_type": "code",
      "source": [
        "# REDUCE DIMENSIONS USING PCA\n",
        "\n",
        "#First verfiy the ideal number of PCA components to not lose much information. \n",
        "#Try to retain 90% information, so look where the curve starts to flatten.\n",
        "#Remember that the n_components must be lower than the number of rows or columns (features)\n",
        "pca_test = PCA(n_components=900) #\n",
        "pca_test.fit(train_features)"
      ],
      "metadata": {
        "colab": {
          "base_uri": "https://localhost:8080/",
          "height": 34
        },
        "id": "AxreENS9guIJ",
        "outputId": "c8095204-509e-4d8b-e259-2a8f8c8d6c4d"
      },
      "execution_count": 80,
      "outputs": [
        {
          "output_type": "display_data",
          "data": {
            "text/plain": [
              "<IPython.core.display.Javascript object>"
            ],
            "application/javascript": [
              "google.colab.output.setIframeHeight(0, true, {maxHeight: 300})"
            ]
          },
          "metadata": {}
        },
        {
          "output_type": "execute_result",
          "data": {
            "text/plain": [
              "PCA(n_components=900)"
            ]
          },
          "metadata": {},
          "execution_count": 80
        }
      ]
    },
    {
      "cell_type": "code",
      "source": [
        "# Visualization of the cumulative variance plot\n",
        "plt.figure(figsize=(15,6))\n",
        "\n",
        "# PLOT THE RESULTS\n",
        "plt.plot(np.cumsum(pca_test.explained_variance_ratio_))\n",
        "plt.xlabel(\"Number of components\")\n",
        "plt.ylabel(\"Cumulative variance\")"
      ],
      "metadata": {
        "colab": {
          "base_uri": "https://localhost:8080/",
          "height": 300
        },
        "id": "OPPY40qSZLH4",
        "outputId": "cb8f45da-13cc-434b-fbee-276917bb1f8d"
      },
      "execution_count": 81,
      "outputs": [
        {
          "output_type": "display_data",
          "data": {
            "text/plain": [
              "<IPython.core.display.Javascript object>"
            ],
            "application/javascript": [
              "google.colab.output.setIframeHeight(0, true, {maxHeight: 300})"
            ]
          },
          "metadata": {}
        },
        {
          "output_type": "execute_result",
          "data": {
            "text/plain": [
              "Text(0, 0.5, 'Cumulative variance')"
            ]
          },
          "metadata": {},
          "execution_count": 81
        },
        {
          "output_type": "display_data",
          "data": {
            "text/plain": [
              "<Figure size 1080x432 with 1 Axes>"
            ],
            "image/png": "[encoded data removed]"
          },
          "metadata": {
            "needs_background": "light"
          }
        }
      ]
    },
    {
      "cell_type": "code",
      "source": [
        "# START COUNTING TIME\n",
        "start = datetime.datetime.now()\n",
        "\n",
        "#Pick the optimal number of components. This is how many features we will have \n",
        "#for our machine learning\n",
        "n_PCA_components = 900\n",
        "pca = PCA(n_components=n_PCA_components)\n",
        "train_PCA = pca.fit_transform(train_features)\n",
        "test_PCA = pca.transform(test_features) #Make sure you are just transforming, not fitting. \n",
        "\n",
        "end = datetime.datetime.now()\n",
        "print(\"Total execution time with PCA is: \", end-start)"
      ],
      "metadata": {
        "colab": {
          "base_uri": "https://localhost:8080/",
          "height": 34
        },
        "id": "iwtDeaEpiWK-",
        "outputId": "39e6280d-c37e-4968-d4df-4be11852f187"
      },
      "execution_count": 83,
      "outputs": [
        {
          "output_type": "display_data",
          "data": {
            "text/plain": [
              "<IPython.core.display.Javascript object>"
            ],
            "application/javascript": [
              "google.colab.output.setIframeHeight(0, true, {maxHeight: 300})"
            ]
          },
          "metadata": {}
        },
        {
          "output_type": "stream",
          "name": "stdout",
          "text": [
            "Total execution time with PCA is:  0:01:13.301501\n"
          ]
        }
      ]
    },
    {
      "cell_type": "code",
      "source": [
        "train_PCA.shape"
      ],
      "metadata": {
        "colab": {
          "base_uri": "https://localhost:8080/",
          "height": 34
        },
        "id": "a3ESgKWTEUDv",
        "outputId": "2656a39a-a6a0-4034-f8c4-2a29cc71d4f3"
      },
      "execution_count": 84,
      "outputs": [
        {
          "output_type": "display_data",
          "data": {
            "text/plain": [
              "<IPython.core.display.Javascript object>"
            ],
            "application/javascript": [
              "google.colab.output.setIframeHeight(0, true, {maxHeight: 300})"
            ]
          },
          "metadata": {}
        },
        {
          "output_type": "execute_result",
          "data": {
            "text/plain": [
              "(1803, 900)"
            ]
          },
          "metadata": {},
          "execution_count": 84
        }
      ]
    },
    {
      "cell_type": "code",
      "source": [
        "test_PCA.shape"
      ],
      "metadata": {
        "colab": {
          "base_uri": "https://localhost:8080/",
          "height": 34
        },
        "id": "itxXDxHhEe0M",
        "outputId": "08f3b46d-1823-4a79-f56c-f7829b4471f9"
      },
      "execution_count": 85,
      "outputs": [
        {
          "output_type": "display_data",
          "data": {
            "text/plain": [
              "<IPython.core.display.Javascript object>"
            ],
            "application/javascript": [
              "google.colab.output.setIframeHeight(0, true, {maxHeight: 300})"
            ]
          },
          "metadata": {}
        },
        {
          "output_type": "execute_result",
          "data": {
            "text/plain": [
              "(155, 900)"
            ]
          },
          "metadata": {},
          "execution_count": 85
        }
      ]
    },
    {
      "cell_type": "code",
      "source": [
        "############## Neural Network Approach ##################\n",
        "\n",
        "##Add hidden dense layers and final output/classifier layer.\n",
        "model_PCA = Sequential()\n",
        "inputs_PCA = keras.layers.Input(shape=(n_PCA_components,)) #Shape = n_components\n",
        "hidden_1 = keras.layers.Dense(256, activation='relu')(inputs_PCA)\n",
        "hidden_2 = keras.layers.Dense(512, activation='relu')(hidden_1)\n",
        "#hidden1 = Dense(512, activation='relu')(inputs_PCA)\n",
        "#hidden2 = Dense(256, activation='relu')(hidden1)\n",
        "output_PCA = keras.layers.Dense(num_classes, activation='softmax')(hidden_2)\n",
        "model_PCA = keras.Model(inputs = inputs_PCA, outputs = output_PCA)\n",
        "\n",
        "# PRINT THE SUMMARY\n",
        "print(model_PCA.summary())\n",
        "\n",
        "# USING A LEARNING RATE DECAY/SCHEDULING --> https://keras.io/api/optimizers/\n",
        "lr_schedule = keras.optimizers.schedules.ExponentialDecay(\n",
        "    initial_learning_rate = 0.001,\n",
        "    decay_steps=10000,\n",
        "    decay_rate=0.85) # previously 0.95\n",
        "\n",
        "# COMPILE THE MODEL\n",
        "model_PCA.compile(loss=keras.losses.categorical_crossentropy,\n",
        "            optimizer= keras.optimizers.Adam(learning_rate=lr_schedule), # 0.001 # 0.0001\n",
        "            metrics=['accuracy'])"
      ],
      "metadata": {
        "colab": {
          "base_uri": "https://localhost:8080/",
          "height": 300
        },
        "id": "b9S2sIphjXRf",
        "outputId": "a1f28ab9-1b63-4173-ccde-fd844066561b"
      },
      "execution_count": 141,
      "outputs": [
        {
          "output_type": "display_data",
          "data": {
            "text/plain": [
              "<IPython.core.display.Javascript object>"
            ],
            "application/javascript": [
              "google.colab.output.setIframeHeight(0, true, {maxHeight: 300})"
            ]
          },
          "metadata": {}
        },
        {
          "output_type": "stream",
          "name": "stdout",
          "text": [
            "Model: \"model_15\"\n",
            "_________________________________________________________________\n",
            " Layer (type)                Output Shape              Param #   \n",
            "=================================================================\n",
            " input_18 (InputLayer)       [(None, 900)]             0         \n",
            "                                                                 \n",
            " dense_49 (Dense)            (None, 256)               230656    \n",
            "                                                                 \n",
            " dense_50 (Dense)            (None, 512)               131584    \n",
            "                                                                 \n",
            " dense_51 (Dense)            (None, 9)                 4617      \n",
            "                                                                 \n",
            "=================================================================\n",
            "Total params: 366,857\n",
            "Trainable params: 366,857\n",
            "Non-trainable params: 0\n",
            "_________________________________________________________________\n",
            "None\n"
          ]
        }
      ]
    },
    {
      "cell_type": "code",
      "source": [
        "# START RECORDING TIME\n",
        "start = datetime.datetime.now()\n",
        "\n",
        "#Fit the model and use on-hot-encoded Y values\n",
        "history_model_PCA = model_PCA.fit(train_PCA, \n",
        "                                  y_train_one_hot, \n",
        "                                  epochs = 300, \n",
        "                                  verbose=10,\n",
        "                                  validation_data=(test_PCA, y_test_one_hot))\n",
        "\n",
        "# END RECORDING TIME\n",
        "end = datetime.datetime.now()\n",
        "print(\"Total execution time with PCA is: \", end-start)"
      ],
      "metadata": {
        "colab": {
          "base_uri": "https://localhost:8080/",
          "height": 300
        },
        "id": "YVLG2W01jXPQ",
        "outputId": "644a2b58-5b30-4440-ee06-2bf142d5d206"
      },
      "execution_count": 142,
      "outputs": [
        {
          "output_type": "display_data",
          "data": {
            "text/plain": [
              "<IPython.core.display.Javascript object>"
            ],
            "application/javascript": [
              "google.colab.output.setIframeHeight(0, true, {maxHeight: 300})"
            ]
          },
          "metadata": {}
        },
        {
          "output_type": "stream",
          "name": "stdout",
          "text": [
            "Epoch 1/300\n",
            "Epoch 2/300\n",
            "Epoch 3/300\n",
            "Epoch 4/300\n",
            "Epoch 5/300\n",
            "Epoch 6/300\n",
            "Epoch 7/300\n",
            "Epoch 8/300\n",
            "Epoch 9/300\n",
            "Epoch 10/300\n",
            "Epoch 11/300\n",
            "Epoch 12/300\n",
            "Epoch 13/300\n",
            "Epoch 14/300\n",
            "Epoch 15/300\n",
            "Epoch 16/300\n",
            "Epoch 17/300\n",
            "Epoch 18/300\n",
            "Epoch 19/300\n",
            "Epoch 20/300\n",
            "Epoch 21/300\n",
            "Epoch 22/300\n",
            "Epoch 23/300\n",
            "Epoch 24/300\n",
            "Epoch 25/300\n",
            "Epoch 26/300\n",
            "Epoch 27/300\n",
            "Epoch 28/300\n",
            "Epoch 29/300\n",
            "Epoch 30/300\n",
            "Epoch 31/300\n",
            "Epoch 32/300\n",
            "Epoch 33/300\n",
            "Epoch 34/300\n",
            "Epoch 35/300\n",
            "Epoch 36/300\n",
            "Epoch 37/300\n",
            "Epoch 38/300\n",
            "Epoch 39/300\n",
            "Epoch 40/300\n",
            "Epoch 41/300\n",
            "Epoch 42/300\n",
            "Epoch 43/300\n",
            "Epoch 44/300\n",
            "Epoch 45/300\n",
            "Epoch 46/300\n",
            "Epoch 47/300\n",
            "Epoch 48/300\n",
            "Epoch 49/300\n",
            "Epoch 50/300\n",
            "Epoch 51/300\n",
            "Epoch 52/300\n",
            "Epoch 53/300\n",
            "Epoch 54/300\n",
            "Epoch 55/300\n",
            "Epoch 56/300\n",
            "Epoch 57/300\n",
            "Epoch 58/300\n",
            "Epoch 59/300\n",
            "Epoch 60/300\n",
            "Epoch 61/300\n",
            "Epoch 62/300\n",
            "Epoch 63/300\n",
            "Epoch 64/300\n",
            "Epoch 65/300\n",
            "Epoch 66/300\n",
            "Epoch 67/300\n",
            "Epoch 68/300\n",
            "Epoch 69/300\n",
            "Epoch 70/300\n",
            "Epoch 71/300\n",
            "Epoch 72/300\n",
            "Epoch 73/300\n",
            "Epoch 74/300\n",
            "Epoch 75/300\n",
            "Epoch 76/300\n",
            "Epoch 77/300\n",
            "Epoch 78/300\n",
            "Epoch 79/300\n",
            "Epoch 80/300\n",
            "Epoch 81/300\n",
            "Epoch 82/300\n",
            "Epoch 83/300\n",
            "Epoch 84/300\n",
            "Epoch 85/300\n",
            "Epoch 86/300\n",
            "Epoch 87/300\n",
            "Epoch 88/300\n",
            "Epoch 89/300\n",
            "Epoch 90/300\n",
            "Epoch 91/300\n",
            "Epoch 92/300\n",
            "Epoch 93/300\n",
            "Epoch 94/300\n",
            "Epoch 95/300\n",
            "Epoch 96/300\n",
            "Epoch 97/300\n",
            "Epoch 98/300\n",
            "Epoch 99/300\n",
            "Epoch 100/300\n",
            "Epoch 101/300\n",
            "Epoch 102/300\n",
            "Epoch 103/300\n",
            "Epoch 104/300\n",
            "Epoch 105/300\n",
            "Epoch 106/300\n",
            "Epoch 107/300\n",
            "Epoch 108/300\n",
            "Epoch 109/300\n",
            "Epoch 110/300\n",
            "Epoch 111/300\n",
            "Epoch 112/300\n",
            "Epoch 113/300\n",
            "Epoch 114/300\n",
            "Epoch 115/300\n",
            "Epoch 116/300\n",
            "Epoch 117/300\n",
            "Epoch 118/300\n",
            "Epoch 119/300\n",
            "Epoch 120/300\n",
            "Epoch 121/300\n",
            "Epoch 122/300\n",
            "Epoch 123/300\n",
            "Epoch 124/300\n",
            "Epoch 125/300\n",
            "Epoch 126/300\n",
            "Epoch 127/300\n",
            "Epoch 128/300\n",
            "Epoch 129/300\n",
            "Epoch 130/300\n",
            "Epoch 131/300\n",
            "Epoch 132/300\n",
            "Epoch 133/300\n",
            "Epoch 134/300\n",
            "Epoch 135/300\n",
            "Epoch 136/300\n",
            "Epoch 137/300\n",
            "Epoch 138/300\n",
            "Epoch 139/300\n",
            "Epoch 140/300\n",
            "Epoch 141/300\n",
            "Epoch 142/300\n",
            "Epoch 143/300\n",
            "Epoch 144/300\n",
            "Epoch 145/300\n",
            "Epoch 146/300\n",
            "Epoch 147/300\n",
            "Epoch 148/300\n",
            "Epoch 149/300\n",
            "Epoch 150/300\n",
            "Epoch 151/300\n",
            "Epoch 152/300\n",
            "Epoch 153/300\n",
            "Epoch 154/300\n",
            "Epoch 155/300\n",
            "Epoch 156/300\n",
            "Epoch 157/300\n",
            "Epoch 158/300\n",
            "Epoch 159/300\n",
            "Epoch 160/300\n",
            "Epoch 161/300\n",
            "Epoch 162/300\n",
            "Epoch 163/300\n",
            "Epoch 164/300\n",
            "Epoch 165/300\n",
            "Epoch 166/300\n",
            "Epoch 167/300\n",
            "Epoch 168/300\n",
            "Epoch 169/300\n",
            "Epoch 170/300\n",
            "Epoch 171/300\n",
            "Epoch 172/300\n",
            "Epoch 173/300\n",
            "Epoch 174/300\n",
            "Epoch 175/300\n",
            "Epoch 176/300\n",
            "Epoch 177/300\n",
            "Epoch 178/300\n",
            "Epoch 179/300\n",
            "Epoch 180/300\n",
            "Epoch 181/300\n",
            "Epoch 182/300\n",
            "Epoch 183/300\n",
            "Epoch 184/300\n",
            "Epoch 185/300\n",
            "Epoch 186/300\n",
            "Epoch 187/300\n",
            "Epoch 188/300\n",
            "Epoch 189/300\n",
            "Epoch 190/300\n",
            "Epoch 191/300\n",
            "Epoch 192/300\n",
            "Epoch 193/300\n",
            "Epoch 194/300\n",
            "Epoch 195/300\n",
            "Epoch 196/300\n",
            "Epoch 197/300\n",
            "Epoch 198/300\n",
            "Epoch 199/300\n",
            "Epoch 200/300\n",
            "Epoch 201/300\n",
            "Epoch 202/300\n",
            "Epoch 203/300\n",
            "Epoch 204/300\n",
            "Epoch 205/300\n",
            "Epoch 206/300\n",
            "Epoch 207/300\n",
            "Epoch 208/300\n",
            "Epoch 209/300\n",
            "Epoch 210/300\n",
            "Epoch 211/300\n",
            "Epoch 212/300\n",
            "Epoch 213/300\n",
            "Epoch 214/300\n",
            "Epoch 215/300\n",
            "Epoch 216/300\n",
            "Epoch 217/300\n",
            "Epoch 218/300\n",
            "Epoch 219/300\n",
            "Epoch 220/300\n",
            "Epoch 221/300\n",
            "Epoch 222/300\n",
            "Epoch 223/300\n",
            "Epoch 224/300\n",
            "Epoch 225/300\n",
            "Epoch 226/300\n",
            "Epoch 227/300\n",
            "Epoch 228/300\n",
            "Epoch 229/300\n",
            "Epoch 230/300\n",
            "Epoch 231/300\n",
            "Epoch 232/300\n",
            "Epoch 233/300\n",
            "Epoch 234/300\n",
            "Epoch 235/300\n",
            "Epoch 236/300\n",
            "Epoch 237/300\n",
            "Epoch 238/300\n",
            "Epoch 239/300\n",
            "Epoch 240/300\n",
            "Epoch 241/300\n",
            "Epoch 242/300\n",
            "Epoch 243/300\n",
            "Epoch 244/300\n",
            "Epoch 245/300\n",
            "Epoch 246/300\n",
            "Epoch 247/300\n",
            "Epoch 248/300\n",
            "Epoch 249/300\n",
            "Epoch 250/300\n",
            "Epoch 251/300\n",
            "Epoch 252/300\n",
            "Epoch 253/300\n",
            "Epoch 254/300\n",
            "Epoch 255/300\n",
            "Epoch 256/300\n",
            "Epoch 257/300\n",
            "Epoch 258/300\n",
            "Epoch 259/300\n",
            "Epoch 260/300\n",
            "Epoch 261/300\n",
            "Epoch 262/300\n",
            "Epoch 263/300\n",
            "Epoch 264/300\n",
            "Epoch 265/300\n",
            "Epoch 266/300\n",
            "Epoch 267/300\n",
            "Epoch 268/300\n",
            "Epoch 269/300\n",
            "Epoch 270/300\n",
            "Epoch 271/300\n",
            "Epoch 272/300\n",
            "Epoch 273/300\n",
            "Epoch 274/300\n",
            "Epoch 275/300\n",
            "Epoch 276/300\n",
            "Epoch 277/300\n",
            "Epoch 278/300\n",
            "Epoch 279/300\n",
            "Epoch 280/300\n",
            "Epoch 281/300\n",
            "Epoch 282/300\n",
            "Epoch 283/300\n",
            "Epoch 284/300\n",
            "Epoch 285/300\n",
            "Epoch 286/300\n",
            "Epoch 287/300\n",
            "Epoch 288/300\n",
            "Epoch 289/300\n",
            "Epoch 290/300\n",
            "Epoch 291/300\n",
            "Epoch 292/300\n",
            "Epoch 293/300\n",
            "Epoch 294/300\n",
            "Epoch 295/300\n",
            "Epoch 296/300\n",
            "Epoch 297/300\n",
            "Epoch 298/300\n",
            "Epoch 299/300\n",
            "Epoch 300/300\n",
            "Total execution time with PCA is:  0:02:22.583879\n"
          ]
        }
      ]
    },
    {
      "cell_type": "code",
      "source": [
        "##Predict on test dataset\n",
        "predict_test_PCA = model_PCA.predict(test_PCA)\n",
        "predict_test_PCA = np.argmax(predict_test_PCA, axis=1)\n",
        "predict_test_PCA = le.inverse_transform(predict_test_PCA)"
      ],
      "metadata": {
        "colab": {
          "base_uri": "https://localhost:8080/",
          "height": 34
        },
        "id": "2AVXV6GIjXMO",
        "outputId": "80e55bfc-18b9-456c-883e-1c9dd906dd30"
      },
      "execution_count": 143,
      "outputs": [
        {
          "output_type": "display_data",
          "data": {
            "text/plain": [
              "<IPython.core.display.Javascript object>"
            ],
            "application/javascript": [
              "google.colab.output.setIframeHeight(0, true, {maxHeight: 300})"
            ]
          },
          "metadata": {}
        },
        {
          "output_type": "stream",
          "name": "stdout",
          "text": [
            "5/5 [==============================] - 0s 4ms/step\n"
          ]
        }
      ]
    },
    {
      "cell_type": "code",
      "source": [
        "# INCRREASE DEEPNESS\n",
        "##Print overall accuracy\n",
        "print (\"Accuracy = \", metrics.accuracy_score(test_labels, predict_test_PCA))"
      ],
      "metadata": {
        "colab": {
          "base_uri": "https://localhost:8080/",
          "height": 34
        },
        "id": "7jABQ1PijXJ1",
        "outputId": "ed787345-36e4-4676-9bcf-e144b7bdd9c6"
      },
      "execution_count": 144,
      "outputs": [
        {
          "output_type": "display_data",
          "data": {
            "text/plain": [
              "<IPython.core.display.Javascript object>"
            ],
            "application/javascript": [
              "google.colab.output.setIframeHeight(0, true, {maxHeight: 300})"
            ]
          },
          "metadata": {}
        },
        {
          "output_type": "stream",
          "name": "stdout",
          "text": [
            "Accuracy =  0.9161290322580645\n"
          ]
        }
      ]
    },
    {
      "cell_type": "code",
      "source": [
        "# Visualization of the confusion matrix\n",
        "plt.figure(figsize=(15,6))\n",
        "\n",
        "# CONFUSION MATRIX - VERIFY ACCURACY OF EACH CLASS\n",
        "\n",
        "cm = confusion_matrix(test_labels, predict_test_PCA)\n",
        "sns.heatmap(cm, annot=True)"
      ],
      "metadata": {
        "colab": {
          "base_uri": "https://localhost:8080/",
          "height": 300
        },
        "id": "XZm4KZ1liWIu",
        "outputId": "c8b202d2-45d4-4bc3-80b1-8520f1b07094"
      },
      "execution_count": 145,
      "outputs": [
        {
          "output_type": "display_data",
          "data": {
            "text/plain": [
              "<IPython.core.display.Javascript object>"
            ],
            "application/javascript": [
              "google.colab.output.setIframeHeight(0, true, {maxHeight: 300})"
            ]
          },
          "metadata": {}
        },
        {
          "output_type": "execute_result",
          "data": {
            "text/plain": [
              "<matplotlib.axes._subplots.AxesSubplot at 0x7f2eba22e6d0>"
            ]
          },
          "metadata": {},
          "execution_count": 145
        },
        {
          "output_type": "display_data",
          "data": {
            "text/plain": [
              "<Figure size 1080x432 with 2 Axes>"
            ],
            "image/png": "[encoded data removed]"
          },
          "metadata": {
            "needs_background": "light"
          }
        }
      ]
    },
    {
      "cell_type": "code",
      "source": [
        "# PLOT THEM TOGETHER\n",
        "# Visualization of the learning curves\n",
        "plt.figure(figsize=(15,6))\n",
        "\n",
        "plt.subplot(1, 2, 1)\n",
        "plt.plot(history_model_PCA.history['loss'])\n",
        "plt.plot(history_model_PCA.history['val_loss'])\n",
        "plt.ylim([-0.1, 3.0])\n",
        "plt.title(\"Loss & Val loss Model MobileNetV2 with PCA\")\n",
        "plt.xlabel('Epoch')\n",
        "plt.ylabel('Loss')\n",
        "plt.legend(['train', 'valid'])\n",
        "\n",
        "plt.subplot(1, 2, 2)\n",
        "plt.plot(history_model_PCA.history['accuracy'])\n",
        "plt.plot(history_model_PCA.history['val_accuracy'])\n",
        "plt.ylim([0.0, 1.1])\n",
        "plt.title(\"Accuracy & Val accuracy Model MobileNetV2 with PCA\")\n",
        "plt.xlabel('Epoch')\n",
        "plt.ylabel('Accuracy')\n",
        "plt.legend(['train', 'valid'])"
      ],
      "metadata": {
        "colab": {
          "base_uri": "https://localhost:8080/",
          "height": 300
        },
        "id": "oh-6rc0rQ_mq",
        "outputId": "e28d72f5-8c9c-46d4-d055-f85bc3c6f23a"
      },
      "execution_count": 146,
      "outputs": [
        {
          "output_type": "display_data",
          "data": {
            "text/plain": [
              "<IPython.core.display.Javascript object>"
            ],
            "application/javascript": [
              "google.colab.output.setIframeHeight(0, true, {maxHeight: 300})"
            ]
          },
          "metadata": {}
        },
        {
          "output_type": "execute_result",
          "data": {
            "text/plain": [
              "<matplotlib.legend.Legend at 0x7f2eb5b3e210>"
            ]
          },
          "metadata": {},
          "execution_count": 146
        },
        {
          "output_type": "display_data",
          "data": {
            "text/plain": [
              "<Figure size 1080x432 with 2 Axes>"
            ],
            "image/png": "[encoded data removed]"
          },
          "metadata": {
            "needs_background": "light"
          }
        }
      ]
    },
    {
      "cell_type": "markdown",
      "source": [
        "**TRY WITH 10 DIFFERENT IMAGES TO SEE THE ACCURACY!!**"
      ],
      "metadata": {
        "id": "bni0Y0t3WV6Z"
      }
    },
    {
      "cell_type": "code",
      "source": [
        "# CHECK RESULTS ON A FEW SELECTED IMAGES\n",
        "n = np.random.randint(0, x_test.shape[0])\n",
        "img = x_test[n]\n",
        "plt.imshow(img)\n",
        "\n",
        "# INPUT\n",
        "input_img = np.expand_dims(img, axis=0) #Expand dims so the input is (num images, x, y, c)\n",
        "input_img_feature = base_model_mobilenetv2_PCA.predict(input_img)\n",
        "input_img_features = input_img_feature.reshape(input_img_feature.shape[0], -1)\n",
        "input_img_PCA = pca.transform(input_img_features)\n",
        "\n",
        "# PREDICTION\n",
        "prediction_img = model_PCA.predict(input_img_PCA)\n",
        "prediction_img = np.argmax(prediction_img, axis=1)\n",
        "prediction_img = le.inverse_transform(prediction_img)  #Reverse the label encoder to original name\n",
        "\n",
        "# PRINT RESULTS\n",
        "print(\"The prediction for this image is: \", prediction_img)\n",
        "print(\"The actual label for this image is: \", test_labels[n])"
      ],
      "metadata": {
        "colab": {
          "base_uri": "https://localhost:8080/",
          "height": 300
        },
        "id": "2bcSsMkYZLFr",
        "outputId": "8a7b1453-fbd9-4bc6-e5b4-079344893628"
      },
      "execution_count": 154,
      "outputs": [
        {
          "output_type": "display_data",
          "data": {
            "text/plain": [
              "<IPython.core.display.Javascript object>"
            ],
            "application/javascript": [
              "google.colab.output.setIframeHeight(0, true, {maxHeight: 300})"
            ]
          },
          "metadata": {}
        },
        {
          "output_type": "stream",
          "name": "stdout",
          "text": [
            "1/1 [==============================] - 0s 148ms/step\n",
            "1/1 [==============================] - 0s 32ms/step\n",
            "The prediction for this image is:  ['sushi']\n",
            "The actual label for this image is:  sushi\n"
          ]
        },
        {
          "output_type": "display_data",
          "data": {
            "text/plain": [
              "<Figure size 432x288 with 1 Axes>"
            ],
            "image/png": "[encoded data removed]"
          },
          "metadata": {
            "needs_background": "light"
          }
        }
      ]
    },
    {
      "cell_type": "code",
      "source": [],
      "metadata": {
        "id": "NKNipITNZLDP"
      },
      "execution_count": null,
      "outputs": []
    },
    {
      "cell_type": "markdown",
      "source": [
        "### 5.1.9 Save the best model to load it again in the TEST notebook"
      ],
      "metadata": {
        "id": "vdoj8yEbZg3f"
      }
    },
    {
      "cell_type": "code",
      "source": [
        "keras_file = \"mobilenetV2.h5\"\n",
        "tf.keras.models.save_model(model_mobilenetv2, keras_file) # MODIFY MODEL WITH YOUR OWN MODEL"
      ],
      "metadata": {
        "id": "pHYiYpv4T0ZW",
        "colab": {
          "base_uri": "https://localhost:8080/",
          "height": 17
        },
        "outputId": "14ae5817-87a8-4718-cc2e-e860bd15c403"
      },
      "execution_count": null,
      "outputs": [
        {
          "output_type": "display_data",
          "data": {
            "text/plain": [
              "<IPython.core.display.Javascript object>"
            ],
            "application/javascript": [
              "google.colab.output.setIframeHeight(0, true, {maxHeight: 300})"
            ]
          },
          "metadata": {}
        }
      ]
    },
    {
      "cell_type": "markdown",
      "source": [
        "# Refactoring the code:\n",
        "\n",
        "* USE TYPE ANNOTATION:\n",
        "  - https://towardsdatascience.com/type-annotations-in-python-d90990b172dc\n",
        "  - https://blog.logrocket.com/understanding-type-annotation-python/\n",
        "\n",
        "*   CONVERT REUSABLE CODE IN FUNCTIONS AND MOVE THEM TO THE UTILS.PY FILE\n",
        "\n",
        "* YOU SHOULD ALSO GET THE CODE USED IN BOSCH FOR SAVING THE FINAL DATASET WITH ALL THE PERFOMANCE MEASURES AND TIME SPENT FOR EACH MODEL:\n",
        "  - https://github.com/alessandro-maccario/Industry-Lab-project-private/blob/main/Notebooks/Part2_Training.ipynb\n",
        "\n"
      ],
      "metadata": {
        "id": "JN1GDHI8IqsV"
      }
    },
    {
      "cell_type": "markdown",
      "source": [
        "SPOSTARE: CROSS VALIDATION E GRIDSEARCHCV SOPRA! DEVONO STARE AL DI SOTTO DEI CUSTOM MODELS! UTILIZZA IPERPARAMETRI CHE HAI TROVATO IN GRIDSEARCH PER QUESTO ULTIMO MODELLO IN TERMINI DI TRANSFER LEARNING!"
      ],
      "metadata": {
        "id": "CMPbJSE_XGOs"
      }
    },
    {
      "cell_type": "markdown",
      "source": [
        "# References\n",
        "\n",
        "- https://github.com/bnsreenu/python_for_microscopists/blob/master/176-multiclass_using_VGG_weights_PCA_NN_RF.py"
      ],
      "metadata": {
        "id": "4aF5OlHsJ1b9"
      }
    },
    {
      "cell_type": "code",
      "source": [],
      "metadata": {
        "id": "4tmaWFPXJ3Ck"
      },
      "execution_count": null,
      "outputs": []
    }
  ],
  "metadata": {
    "colab": {
      "provenance": [],
      "collapsed_sections": [
        "RZnzGvNrc-Cd"
      ],
      "toc_visible": true
    },
    "gpuClass": "standard",
    "kernelspec": {
      "display_name": "Python 3",
      "name": "python3"
    },
    "language_info": {
      "name": "python"
    }
  },
  "nbformat": 4,
  "nbformat_minor": 0
}