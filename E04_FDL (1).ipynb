{
  "nbformat": 4,
  "nbformat_minor": 0,
  "metadata": {
    "colab": {
      "provenance": [],
      "collapsed_sections": []
    },
    "kernelspec": {
      "name": "python3",
      "display_name": "Python 3"
    },
    "language_info": {
      "name": "python"
    },
    "accelerator": "GPU"
  },
  "cells": [
    {
      "cell_type": "code",
      "execution_count": 5,
      "metadata": {
        "colab": {
          "base_uri": "https://localhost:8080/",
          "height": 17
        },
        "id": "WWST-j45se8F",
        "outputId": "1a6c35ba-48ca-4e35-af53-242ea6d086a0"
      },
      "outputs": [
        {
          "output_type": "display_data",
          "data": {
            "text/plain": [
              "<IPython.core.display.Javascript object>"
            ],
            "application/javascript": [
              "google.colab.output.setIframeHeight(0, true, {maxHeight: 300})"
            ]
          },
          "metadata": {}
        }
      ],
      "source": [
        "# Imports and reproducibility\n",
        "!PYTHONHASHSEED=0\n",
        "import tensorflow as tf\n",
        "from tensorflow import keras\n",
        "from matplotlib import pyplot as plt\n",
        "import zipfile\n",
        "from shutil import copyfile\n",
        "from time import time\n",
        "import numpy as np\n",
        "import random as python_random\n",
        "np.random.seed(0)\n",
        "python_random.seed(0)\n",
        "tf.random.set_seed(0)\n",
        "\n",
        "# Settings for prettier visualization in Google Colab\n",
        "from IPython.display import Javascript\n",
        "def resize_colab_cell():\n",
        "  display(Javascript('google.colab.output.setIframeHeight(0, true, {maxHeight: 300})'))\n",
        "get_ipython().events.register('pre_run_cell', resize_colab_cell)"
      ]
    },
    {
      "cell_type": "code",
      "source": [
        "# VARIABILI GLOBALI\n",
        "num_classes = 2"
      ],
      "metadata": {
        "colab": {
          "base_uri": "https://localhost:8080/",
          "height": 17
        },
        "id": "RO8wah0VCUDK",
        "outputId": "dd4fd56b-1cb7-46c9-acda-cc18e547985d"
      },
      "execution_count": 6,
      "outputs": [
        {
          "output_type": "display_data",
          "data": {
            "text/plain": [
              "<IPython.core.display.Javascript object>"
            ],
            "application/javascript": [
              "google.colab.output.setIframeHeight(0, true, {maxHeight: 300})"
            ]
          },
          "metadata": {}
        },
        {
          "output_type": "display_data",
          "data": {
            "text/plain": [
              "<IPython.core.display.Javascript object>"
            ],
            "application/javascript": [
              "google.colab.output.setIframeHeight(0, true, {maxHeight: 300})"
            ]
          },
          "metadata": {}
        }
      ]
    },
    {
      "cell_type": "code",
      "source": [
        "# CONNETTITI A DRIVE PER POTER LINKARE IL DATASET ED USARLO SENZA SCARICARLO\n",
        "# IN LOCALE. LA CONNESSIONE CON DRIVE FUNZIONA UNICAMENTE SE ANCHE IL NOTEBOOK\n",
        "# SI TROVA ALL'INTERNO DELLO STESSO DRIVE.\n",
        "\n",
        "from google.colab import drive # importare pacchetto\n",
        "drive.mount(\"/content/gdrive\") # monta drive"
      ],
      "metadata": {
        "colab": {
          "base_uri": "https://localhost:8080/",
          "height": 34
        },
        "id": "mmOsR1GfsnPB",
        "outputId": "35484bc8-6d71-4b6a-aa6c-77f72c934b1d"
      },
      "execution_count": 7,
      "outputs": [
        {
          "output_type": "display_data",
          "data": {
            "text/plain": [
              "<IPython.core.display.Javascript object>"
            ],
            "application/javascript": [
              "google.colab.output.setIframeHeight(0, true, {maxHeight: 300})"
            ]
          },
          "metadata": {}
        },
        {
          "output_type": "display_data",
          "data": {
            "text/plain": [
              "<IPython.core.display.Javascript object>"
            ],
            "application/javascript": [
              "google.colab.output.setIframeHeight(0, true, {maxHeight: 300})"
            ]
          },
          "metadata": {}
        },
        {
          "output_type": "stream",
          "name": "stdout",
          "text": [
            "Mounted at /content/gdrive\n"
          ]
        }
      ]
    },
    {
      "cell_type": "code",
      "source": [
        "# IMPORTA IL FILE ZIP SULLA MACCHINA VIRTUALE DI GOOGLE COLAB\n",
        "# CHE CI è STATA ASSEGNATA. FINO A QUESTO MOMENTO ABBIAMO SOLO MONTATO\n",
        "# GOOGLE DRIVE. ORA DOBBIAMO ANDARE A COPIARE IL FILE (CHE SU GOOGLE DRIVE\n",
        "# PER NOI ATTUALMENTE è SOLO UN LINK) DIRETTAMENTE NELLA MIA ROOT FOLDER\n",
        "# DOVE STO LAVORANDO (PER AVERE IL VERO E PROPRIO FILE E NON SOLO IL LINK).\n",
        "\n",
        "copyfile(\"/content/gdrive/MyDrive/Data_Science_2020-2022/Secondo_anno_Secondo_Semestre/Foundation_of_Deep_Learning/catvsdog.zip\", \"catvsdog.zip\") # il secondo argomento dice dove andare a copiare il file. Lasciando solamente il nome del file la si copia direttamente nella root folder di Colab"
      ],
      "metadata": {
        "colab": {
          "base_uri": "https://localhost:8080/",
          "height": 35
        },
        "id": "-vtO6hDJs3NR",
        "outputId": "b0ed7a8a-ffc8-4e28-b13d-7c9c5151c141"
      },
      "execution_count": 8,
      "outputs": [
        {
          "output_type": "display_data",
          "data": {
            "text/plain": [
              "<IPython.core.display.Javascript object>"
            ],
            "application/javascript": [
              "google.colab.output.setIframeHeight(0, true, {maxHeight: 300})"
            ]
          },
          "metadata": {}
        },
        {
          "output_type": "display_data",
          "data": {
            "text/plain": [
              "<IPython.core.display.Javascript object>"
            ],
            "application/javascript": [
              "google.colab.output.setIframeHeight(0, true, {maxHeight: 300})"
            ]
          },
          "metadata": {}
        },
        {
          "output_type": "execute_result",
          "data": {
            "text/plain": [
              "'catvsdog.zip'"
            ],
            "application/vnd.google.colaboratory.intrinsic+json": {
              "type": "string"
            }
          },
          "metadata": {},
          "execution_count": 8
        }
      ]
    },
    {
      "cell_type": "code",
      "source": [
        "# ESTRAIAMO LO ZIP\n",
        "zip = zipfile.ZipFile(\"catvsdog.zip\") # inizializza lo zipper e poi invocare zip.extract()\n",
        "zip.extractall()\n",
        "zip.close()"
      ],
      "metadata": {
        "colab": {
          "base_uri": "https://localhost:8080/",
          "height": 17
        },
        "id": "ZcxDfVM37d1c",
        "outputId": "6ecbec17-2957-463b-8257-01d636030cda"
      },
      "execution_count": 9,
      "outputs": [
        {
          "output_type": "display_data",
          "data": {
            "text/plain": [
              "<IPython.core.display.Javascript object>"
            ],
            "application/javascript": [
              "google.colab.output.setIframeHeight(0, true, {maxHeight: 300})"
            ]
          },
          "metadata": {}
        },
        {
          "output_type": "display_data",
          "data": {
            "text/plain": [
              "<IPython.core.display.Javascript object>"
            ],
            "application/javascript": [
              "google.colab.output.setIframeHeight(0, true, {maxHeight: 300})"
            ]
          },
          "metadata": {}
        }
      ]
    },
    {
      "cell_type": "markdown",
      "source": [
        "La struttura della cartella che vediamo con la cartella *catvsdog* e poi le sottocartelle *cat* e *dog* è abbastanza standard con i vari framework di deep learning."
      ],
      "metadata": {
        "id": "99qALmAc8F9x"
      }
    },
    {
      "cell_type": "markdown",
      "source": [
        "Andiamo a definire un data loader: è un concetto molto utile nel contesto del machine learning/deep learning. e' una classe/funzione, un costrutto che si occupa di caricare i dati dal disco e fornirli alla procedura di apprendimento ovvero al processo di training. l'idea è che non dobbiamo scriverci noi il codice per importarci l'immagine e darla in input alla funzione fit per\n",
        "addestrare la nostra rete neurale.\n",
        "Per il data loader in keras, facciamo riferimento al seguente link:\n",
        "https://keras.io/api/preprocessing/image/\n",
        "\n",
        "e usiamo:\n",
        "image_dataset_from_directory\n",
        "\n",
        "che è un data loader che si aspetta i dati nella struttura che abbiamo appena descritto, quindi cartelle con i file già divisi.\n",
        "\n"
      ],
      "metadata": {
        "id": "yakwRJzJ9MO5"
      }
    },
    {
      "cell_type": "code",
      "source": [
        "base_path = \"catvsdog500/\" # CREAZIONE DEL PATH. 500 PERCHé PRENDIAMO UN SET DI IMMAGINI PIù PICCOLO E NON TUTTE LE 25000.\n",
        "train_dataset = keras.preprocessing.image_dataset_from_directory(base_path,\n",
        "                                                 image_size = (224, 224),\n",
        "                                                 batch_size = 32,\n",
        "                                                 label_mode = \"categorical\",\n",
        "                                                 subset = \"training\",\n",
        "                                                 validation_split = 0.2,\n",
        "                                                 shuffle = True,\n",
        "                                                 seed = 1)"
      ],
      "metadata": {
        "colab": {
          "base_uri": "https://localhost:8080/",
          "height": 52
        },
        "id": "RwoFjlsm9ca6",
        "outputId": "7a935d42-5130-47f3-fbcd-80940f508287"
      },
      "execution_count": 10,
      "outputs": [
        {
          "output_type": "display_data",
          "data": {
            "text/plain": [
              "<IPython.core.display.Javascript object>"
            ],
            "application/javascript": [
              "google.colab.output.setIframeHeight(0, true, {maxHeight: 300})"
            ]
          },
          "metadata": {}
        },
        {
          "output_type": "display_data",
          "data": {
            "text/plain": [
              "<IPython.core.display.Javascript object>"
            ],
            "application/javascript": [
              "google.colab.output.setIframeHeight(0, true, {maxHeight: 300})"
            ]
          },
          "metadata": {}
        },
        {
          "output_type": "stream",
          "name": "stdout",
          "text": [
            "Found 1000 files belonging to 2 classes.\n",
            "Using 800 files for training.\n"
          ]
        }
      ]
    },
    {
      "cell_type": "markdown",
      "source": [
        "- *image_size*: resize dell'immagine. Perché? Perché il batch processing vede\n",
        "n immagini alla volta. Queste devono essere impilate in un unico\n",
        "tensore a 4 dimensioni e per poterlo fare devono avere\n",
        "tutte la stessa dimensione. Un altro motivo per cui le immagini\n",
        "vengono ridimensionate tutte alla stessa dimensione in un problema\n",
        "di classificazione di immagini con delle reti neurali è che alcuni\n",
        "livelli neurali funzionano indipendentemente dalla dimensione \n",
        "dell'input, altri sono costruiti, nel momento in cui li definiamo, si aspettano che l'input abbia una specifica cardinalità e se non riportiamo tutto alla stessa dimensione, avremo problemi successivi quando andiamo ad utilizzare questi layer.\n",
        "224 x 224 pixel è la dimensione standard che molte reti neurali\n",
        "possiamo già utilizzare perché pre implementate si aspettano.\n",
        "\n",
        "- *batch_size*: non diamo in input al processo di training un'immagine alla volta, ma gliene diamo n, il batch size identifica esattamente questo. Valore arbitrario. Come rule of thumb: utilizza il batch size più grande possibile finché sta in memoria. Perché più grande possibile? Perché stiamo affrontando il problema di imparare la rete neurale usando lo Stochastic Gradient Descent (o una sua variante). Idealmente noi diamo tutti i dati in input alla rete neurale e la miglioriamo con l'obiettivo di migliorare le performance su tutti i dati in input.\n",
        "Poiché non ci stanno tutti contemporaneamente li diamo poco per volta, ma non possiamo darne una solta alla volta: altrimenti l'algoritmo pensa il seguente: per questa singola immagine che vedo dovrò modificare i pesi in un certo modo; per la successiva singola immagine devo modificare i pesi in un altro modo. Il processo non è stabile! Quello che idealmente vorremmo trovare è un singolo criterio che possa modificare i pesi per tutte o il maggior numero di immagini possibili.\n",
        "\n",
        "- *label_mode* = categorical. Le nostre classi sono identificate da delle etichette (cat e dog) che verranno automaticamente inferite dai nomi delle cartelle. \n",
        "\n",
        "- *subset* = One of \"training\" or \"validation\". Only used if validation_split is set.\n",
        "\n",
        "- *validation_split* = Optional float between 0 and 1, fraction of data to reserve for validation.\n",
        "\n",
        "- *shuffle* = True. Imposta che le immagini non vengano prese in ordine del nome del file ma vengano riordinate casualmente\n",
        "L'intero comando prenderà le cartelle con i file e deciderà autonomamente di prendere l'80% da usare per il training e il 20% da usare per il validation.\n",
        "\n",
        "Del totale dei 1000 file, 800 vengono usati per il training (addestramento) e, successivamente quando specifichiamo il validation, vedimo che 200 file vengono usati per il validation, cioè il restante 20%. "
      ],
      "metadata": {
        "id": "UiNfpWvU_sYU"
      }
    },
    {
      "cell_type": "code",
      "source": [
        "val_dataset = keras.preprocessing.image_dataset_from_directory(base_path,\n",
        "                                                 image_size = (224, 224),\n",
        "                                                 batch_size = 32,\n",
        "                                                 label_mode = \"categorical\",\n",
        "                                                 subset = \"validation\",\n",
        "                                                 validation_split = 0.2,\n",
        "                                                 shuffle = True,\n",
        "                                                 seed = 1)"
      ],
      "metadata": {
        "colab": {
          "base_uri": "https://localhost:8080/",
          "height": 52
        },
        "id": "4a1ezT8dALZU",
        "outputId": "68b07d07-92e3-4dad-9afe-7a448aef807c"
      },
      "execution_count": 11,
      "outputs": [
        {
          "output_type": "display_data",
          "data": {
            "text/plain": [
              "<IPython.core.display.Javascript object>"
            ],
            "application/javascript": [
              "google.colab.output.setIframeHeight(0, true, {maxHeight: 300})"
            ]
          },
          "metadata": {}
        },
        {
          "output_type": "display_data",
          "data": {
            "text/plain": [
              "<IPython.core.display.Javascript object>"
            ],
            "application/javascript": [
              "google.colab.output.setIframeHeight(0, true, {maxHeight: 300})"
            ]
          },
          "metadata": {}
        },
        {
          "output_type": "stream",
          "name": "stdout",
          "text": [
            "Found 1000 files belonging to 2 classes.\n",
            "Using 200 files for validation.\n"
          ]
        }
      ]
    },
    {
      "cell_type": "markdown",
      "source": [
        "## Architettura della rete"
      ],
      "metadata": {
        "id": "V9B4n8TZCYYm"
      }
    },
    {
      "cell_type": "markdown",
      "source": [
        "Che caratteristiche dovrà avere la nostra rete neurale?\n",
        "- input layer\n",
        "- 2D convolutional layer con le seguenti caratteristiche: \n",
        "  - 3x3 filter (ogni filto di un layer di convoluzione 2D ha una certa dimensione spaziale che è questo 3x3 che occupa in profondità qualunque sia la dimensione dell'input) e di questi ne vogliamo 32.\n",
        "- relu activation function (con un layer a parte o inserita nel layer precedente)\n",
        "- max pooling (con un filtro 3x3)\n",
        "- 2D convolutional layer che mappi a 64 canali (filtro 3x3 che mappa a 64 canali)\n",
        "- relu activation function\n",
        "- maxpooling globale: non andiamo più a dire quale è la dimensione del filtro, ma vogliamo che sia automaticamente determinata prendendo spazialmente tutti i pixel di un canale e li riduca ad un numero. Poi passi al canale successivo, prenda tutti i pixel di quel canale e li riduca ad un numero usando l'operazione del max pooling\n",
        "- fully connected (Dense in keras) che mappi a 2 (dando la probabilità che sia cane/gatto con activation SoftMax\n",
        "- rmspropr e learning rate = 0.001."
      ],
      "metadata": {
        "id": "jkqHjNSPCcB-"
      }
    },
    {
      "cell_type": "code",
      "source": [
        "# ARCHITETTURA DI RETE CONVOLUZIONALE PER CLASSIFICAZIONE DI IMMAGINI CAT/DOG\n",
        "\n",
        "inputs = keras.Input((224, 224, 3)) # 224 rows, 224 columns, 3 RGB channels\n",
        "\n",
        "x = inputs\n",
        "# 32 filtri 3x3. Padding: mi dice quanti pixel aggiungere di cornice alla mia \n",
        "# immagine prima di fare la convoluzione. Se non fornito, l'output della \n",
        "# convoluzione produrrà un immagine un pelo più piccola di quella di partenza \n",
        "# spazialmente: nel far scorrere la finestra di convoluzione non riesce a coprire\n",
        "# l'intorno del pixel di riferimento nell'immagine. Dando \"same\" il padding\n",
        "# viene calcolato automaticamente. \n",
        "x = keras.layers.Conv2D(32, 3, padding='same')(x)\n",
        "# Attivazione ReLU: la funzione di attivazione introduce una non linearità.\n",
        "# Fa si che il calcolo che permette di trasformare i numeri che stanno nell'input\n",
        "# nei numeri che stanno nell'output non sia semplicemente una combinazione\n",
        "# lineare dell'input, ma in generale crea un livello di complessità maggiore\n",
        "# che è quello di costruire delle astrazioni, ovvero permette alla rete neurale\n",
        "# di dire: ok, adesso ho individuato delle linee di base, ora ci costruisco\n",
        "# sopra dei ragionamenti più complessi.\n",
        "# x = keras.layers.Activation('relu')(x)\n",
        "x = keras.layers.Activation('relu')(x)\n",
        "# MaxPooling con finestre/windows 3x3 e stride di 3: ciò significa che ogni\n",
        "# 3x3 valori dell'input li sostituiamo con il suo Max e poi quando spostiamo\n",
        "# la finestra che esegue questa operazione, la spostiamo di 3 pixels a destra.\n",
        "# Così facendo non contiamo più volte lo stesso input e in questo caso l'output\n",
        "# di questo layer sarà per definizione più piccolo spazialmente dell'input.\n",
        "# E' un tipo di layer che ci serve concettualmente per essere meno dipendenti\n",
        "# da eventuali piccole variazioni nell'input (se ci sono tralazione dei dati\n",
        "# di un pixel a destra) il Max Pooling è abbastanza robusto da queste variazioni\n",
        "# trascendendo di qualche misura da variazioni dei dati. \n",
        "# Tra l'altro se lo usiamo con questo stride diminuisce la dimensione dell'input\n",
        "# e la complessità dei valori che portiamo avanti nella rete neurale. Stiamo\n",
        "# infatti passando da 224x224x3 valori a 3 numeri. \n",
        "x = keras.layers.MaxPooling2D(3, strides=3, padding='same')(x) \n",
        "\n",
        "x = keras.layers.Conv2D(64, 3, padding = 'same')(x)\n",
        "x = keras.layers.Activation('relu')(x)\n",
        "\n",
        "# Equivalente del Max Pooling ma in automatico calcola, invece che basarsi su\n",
        "# una finestra 3x3 utilizza una finestra grande quanto l'intera attivazione\n",
        "# del layer precedente.\n",
        "x = keras.layers.GlobalMaxPooling2D()(x)\n",
        "\n",
        "# Questa softmax prende i due numeri (le due classi specificate) e dà in input\n",
        "# una funzione che ha lo scopo di produrre una pseudo distrubuzione di \n",
        "# probabilità. Si assicura che la somma dei valori (dei due valori nel nostro\n",
        "# caso), faccia 1, e introduce delle non linearità.\n",
        "outputs = keras.layers.Dense(num_classes, activation='softmax')(x)\n",
        "\n",
        "# Con questo comando impacchettiamo tutti i nostri passaggi e diciamo \n",
        "# che la mia rete neurale è un modello che parte dalla variabile \"inputs\" e\n",
        "# termina con la variabile chiamata \"outputs\". \n",
        "net = keras.Model(inputs, outputs)"
      ],
      "metadata": {
        "colab": {
          "base_uri": "https://localhost:8080/",
          "height": 17
        },
        "id": "hQmKo-3bCXJj",
        "outputId": "f39892c2-f6c1-4a83-9172-62108d9642d8"
      },
      "execution_count": 19,
      "outputs": [
        {
          "output_type": "display_data",
          "data": {
            "text/plain": [
              "<IPython.core.display.Javascript object>"
            ],
            "application/javascript": [
              "google.colab.output.setIframeHeight(0, true, {maxHeight: 300})"
            ]
          },
          "metadata": {}
        },
        {
          "output_type": "display_data",
          "data": {
            "text/plain": [
              "<IPython.core.display.Javascript object>"
            ],
            "application/javascript": [
              "google.colab.output.setIframeHeight(0, true, {maxHeight: 300})"
            ]
          },
          "metadata": {}
        }
      ]
    },
    {
      "cell_type": "markdown",
      "source": [
        "Commento al codice di creazione dell'architettura.\n",
        "\n",
        "- layer di input = non è indispensabile per definire una rete neurale, ma può essere utile perché se noi informiamo tutto il resto dell'architettura che i nostri dati in input hanno 3 canali, nel momento in cui dichiariamo la convoluzione 2D non abbiamo bisogno di dire quanto è grande la dimensione in input perché viene definita direttamente.  "
      ],
      "metadata": {
        "id": "8wleeYBlGIED"
      }
    },
    {
      "cell_type": "code",
      "source": [
        "# La compilazione ci serve per definire quali sono le procedure utilizzate \n",
        "# durante l'addestramento. La loss in questa esercitazione non è più la differenza\n",
        "# tra valore di regressione target e quello stimato ma \"categorical_crossentropy\".\n",
        "# Per ogni immagine (dato di input) dice: guardiamo la mi ground truth. Quale era\n",
        "# la classe della mia immagine? Era gatto (prima classe). Andiamo a vedere se\n",
        "# nel primo dei due valori restituiti dalla rete neurale per quella immagine\n",
        "# c'è un valore molto alto (idealmente deve essere 1). Più è distante la stima\n",
        "# della classe attesa da 1 e maggiore è la loss (peggior risultato all'aumentare\n",
        "# del valore di Loss). \n",
        "# Ottimizzatore: basato su RMSProp;\n",
        "# Salviamoci l'accuracy: ci dice sul totale delle immagini quante sono state\n",
        "# correttamente classificate.\n",
        "net.compile(loss=keras.losses.categorical_crossentropy,\n",
        "            optimizer= keras.optimizers.RMSprop(learning_rate=0.001),\n",
        "            metrics=['accuracy'])"
      ],
      "metadata": {
        "colab": {
          "base_uri": "https://localhost:8080/",
          "height": 17
        },
        "id": "QkjlGBH5g8bV",
        "outputId": "4fde704e-1b0a-4cdc-e732-bd9d136ced21"
      },
      "execution_count": 20,
      "outputs": [
        {
          "output_type": "display_data",
          "data": {
            "text/plain": [
              "<IPython.core.display.Javascript object>"
            ],
            "application/javascript": [
              "google.colab.output.setIframeHeight(0, true, {maxHeight: 300})"
            ]
          },
          "metadata": {}
        },
        {
          "output_type": "display_data",
          "data": {
            "text/plain": [
              "<IPython.core.display.Javascript object>"
            ],
            "application/javascript": [
              "google.colab.output.setIframeHeight(0, true, {maxHeight: 300})"
            ]
          },
          "metadata": {}
        }
      ]
    },
    {
      "cell_type": "code",
      "source": [
        "# SETTINGS FOR PRETTIER VISUALIZATION IN GOOGLE COLAB\n",
        "from IPython.display import Javascript\n",
        "def resize_colab_cell():\n",
        "  display(Javascript('google.colab.output.setIframeHeight(0, true, {maxHeight: 300})'))\n",
        "get_ipython().events.register('pre_run_cell', resize_colab_cell)"
      ],
      "metadata": {
        "colab": {
          "base_uri": "https://localhost:8080/",
          "height": 17
        },
        "id": "iuVpGc1wiEB7",
        "outputId": "83354d6b-5740-4290-bb12-4ee098829100"
      },
      "execution_count": 21,
      "outputs": [
        {
          "output_type": "display_data",
          "data": {
            "text/plain": [
              "<IPython.core.display.Javascript object>"
            ],
            "application/javascript": [
              "google.colab.output.setIframeHeight(0, true, {maxHeight: 300})"
            ]
          },
          "metadata": {}
        },
        {
          "output_type": "display_data",
          "data": {
            "text/plain": [
              "<IPython.core.display.Javascript object>"
            ],
            "application/javascript": [
              "google.colab.output.setIframeHeight(0, true, {maxHeight: 300})"
            ]
          },
          "metadata": {}
        }
      ]
    },
    {
      "cell_type": "code",
      "source": [
        "# SE LA VOLTA SCORSA POTEVAMO PERMETTERCI DI AVERE IN MEMORIA TUTTO IL DATASET\n",
        "# QUA NON POSSIAMO FARE ALTRETTANTO PERCHé ABBIAMO IMMAGINI E NON C'è\n",
        "# MODO DI CARICARE TUTTO IL DATASET IN MEMORIA ALLA PROCEDURA DI FIT. \n",
        "# MOTIVO PER IL QUALE STIAMO UTILIZZANDO IL DATA LOADER DEFINITO ALL'INIZIO. \n",
        "# AVENDOLO SPECIFICATO ALL'INIZIO IL TRAIN_DATASET PRENDERà IN INGRESSO 32\n",
        "# IMMAGINI ALLA VOLTA, DEFINITO COME BATCH SIZE FINO A COPRIRE L'INTERO DATASET.\n",
        "# COSI FACENDO HA COMPLETATO UNA EPOCA E TIRA IN BALLO IL VALIDATION\n",
        "# DATA LOADER CHE CONGELA MOMENTANEAMENTE L'ADDESTRAMENTO DELLA RETE NEURALE,\n",
        "# FORNISCE ALLA RETE TUTTE LE IMMAGINI DEL VALIDATION SET (ANCHE IN QUESTO\n",
        "# CASO 32 ALLA VOLTA) E CALCOLA IL RISULTATO. E SALVIAMO IL RISULTATO NELLA\n",
        "# VARIABILE HISTORY.\n",
        "history = net.fit(train_dataset, epochs=40, validation_data = val_dataset)"
      ],
      "metadata": {
        "colab": {
          "base_uri": "https://localhost:8080/",
          "height": 300
        },
        "id": "9KcO4PCGlzIe",
        "outputId": "0d3d6b07-2ef1-4a6e-dbd3-fc81fad264e8"
      },
      "execution_count": 22,
      "outputs": [
        {
          "output_type": "display_data",
          "data": {
            "text/plain": [
              "<IPython.core.display.Javascript object>"
            ],
            "application/javascript": [
              "google.colab.output.setIframeHeight(0, true, {maxHeight: 300})"
            ]
          },
          "metadata": {}
        },
        {
          "output_type": "display_data",
          "data": {
            "text/plain": [
              "<IPython.core.display.Javascript object>"
            ],
            "application/javascript": [
              "google.colab.output.setIframeHeight(0, true, {maxHeight: 300})"
            ]
          },
          "metadata": {}
        },
        {
          "output_type": "display_data",
          "data": {
            "text/plain": [
              "<IPython.core.display.Javascript object>"
            ],
            "application/javascript": [
              "google.colab.output.setIframeHeight(0, true, {maxHeight: 300})"
            ]
          },
          "metadata": {}
        },
        {
          "output_type": "stream",
          "name": "stdout",
          "text": [
            "Epoch 1/40\n",
            "25/25 [==============================] - 13s 78ms/step - loss: 18.9627 - accuracy: 0.4888 - val_loss: 5.8575 - val_accuracy: 0.5150\n",
            "Epoch 2/40\n",
            "25/25 [==============================] - 3s 96ms/step - loss: 5.2925 - accuracy: 0.5337 - val_loss: 6.5298 - val_accuracy: 0.5200\n",
            "Epoch 3/40\n",
            "25/25 [==============================] - 2s 66ms/step - loss: 3.0363 - accuracy: 0.5625 - val_loss: 2.6584 - val_accuracy: 0.4950\n",
            "Epoch 4/40\n",
            "25/25 [==============================] - 2s 65ms/step - loss: 2.0566 - accuracy: 0.5562 - val_loss: 1.7506 - val_accuracy: 0.5500\n",
            "Epoch 5/40\n",
            "25/25 [==============================] - 2s 64ms/step - loss: 1.2761 - accuracy: 0.5813 - val_loss: 1.1112 - val_accuracy: 0.5750\n",
            "Epoch 6/40\n",
            "25/25 [==============================] - 2s 67ms/step - loss: 0.9730 - accuracy: 0.6025 - val_loss: 1.1402 - val_accuracy: 0.5300\n",
            "Epoch 7/40\n",
            "25/25 [==============================] - 2s 67ms/step - loss: 0.8217 - accuracy: 0.6600 - val_loss: 1.0466 - val_accuracy: 0.5400\n",
            "Epoch 8/40\n",
            "25/25 [==============================] - 2s 66ms/step - loss: 0.7213 - accuracy: 0.6800 - val_loss: 1.1647 - val_accuracy: 0.5250\n",
            "Epoch 9/40\n",
            "25/25 [==============================] - 2s 65ms/step - loss: 0.5954 - accuracy: 0.7200 - val_loss: 1.3170 - val_accuracy: 0.5500\n",
            "Epoch 10/40\n",
            "25/25 [==============================] - 2s 73ms/step - loss: 0.6237 - accuracy: 0.7125 - val_loss: 1.0288 - val_accuracy: 0.5650\n",
            "Epoch 11/40\n",
            "25/25 [==============================] - 2s 70ms/step - loss: 0.5245 - accuracy: 0.7412 - val_loss: 1.2488 - val_accuracy: 0.5550\n",
            "Epoch 12/40\n",
            "25/25 [==============================] - 2s 72ms/step - loss: 0.4235 - accuracy: 0.8138 - val_loss: 0.9585 - val_accuracy: 0.5950\n",
            "Epoch 13/40\n",
            "25/25 [==============================] - 3s 81ms/step - loss: 0.4578 - accuracy: 0.7788 - val_loss: 0.9592 - val_accuracy: 0.6050\n",
            "Epoch 14/40\n",
            "25/25 [==============================] - 2s 76ms/step - loss: 0.3405 - accuracy: 0.8487 - val_loss: 1.8070 - val_accuracy: 0.5000\n",
            "Epoch 15/40\n",
            "25/25 [==============================] - 2s 74ms/step - loss: 0.3723 - accuracy: 0.8175 - val_loss: 1.2209 - val_accuracy: 0.5900\n",
            "Epoch 16/40\n",
            "25/25 [==============================] - 2s 75ms/step - loss: 0.3359 - accuracy: 0.8675 - val_loss: 1.2027 - val_accuracy: 0.5550\n",
            "Epoch 17/40\n",
            "25/25 [==============================] - 2s 84ms/step - loss: 0.3457 - accuracy: 0.8575 - val_loss: 1.6237 - val_accuracy: 0.5350\n",
            "Epoch 18/40\n",
            "25/25 [==============================] - 2s 73ms/step - loss: 0.2745 - accuracy: 0.8813 - val_loss: 1.0240 - val_accuracy: 0.6150\n",
            "Epoch 19/40\n",
            "25/25 [==============================] - 2s 68ms/step - loss: 0.2955 - accuracy: 0.8725 - val_loss: 1.1492 - val_accuracy: 0.6050\n",
            "Epoch 20/40\n",
            "25/25 [==============================] - 2s 73ms/step - loss: 0.1853 - accuracy: 0.9362 - val_loss: 2.3885 - val_accuracy: 0.4900\n",
            "Epoch 21/40\n",
            "25/25 [==============================] - 2s 74ms/step - loss: 0.3690 - accuracy: 0.8687 - val_loss: 1.1364 - val_accuracy: 0.5700\n",
            "Epoch 22/40\n",
            "25/25 [==============================] - 2s 65ms/step - loss: 0.1468 - accuracy: 0.9538 - val_loss: 1.4432 - val_accuracy: 0.5700\n",
            "Epoch 23/40\n",
            "25/25 [==============================] - 2s 66ms/step - loss: 0.2655 - accuracy: 0.9100 - val_loss: 1.0433 - val_accuracy: 0.6300\n",
            "Epoch 24/40\n",
            "25/25 [==============================] - 2s 66ms/step - loss: 0.2258 - accuracy: 0.9125 - val_loss: 1.8057 - val_accuracy: 0.4950\n",
            "Epoch 25/40\n",
            "25/25 [==============================] - 2s 66ms/step - loss: 0.1754 - accuracy: 0.9325 - val_loss: 1.0991 - val_accuracy: 0.6150\n",
            "Epoch 26/40\n",
            "25/25 [==============================] - 2s 67ms/step - loss: 0.2295 - accuracy: 0.9087 - val_loss: 1.0876 - val_accuracy: 0.6250\n",
            "Epoch 27/40\n",
            "25/25 [==============================] - 2s 70ms/step - loss: 0.1506 - accuracy: 0.9463 - val_loss: 1.1561 - val_accuracy: 0.6200\n",
            "Epoch 28/40\n",
            "25/25 [==============================] - 2s 81ms/step - loss: 0.1999 - accuracy: 0.9150 - val_loss: 1.1731 - val_accuracy: 0.6350\n",
            "Epoch 29/40\n",
            "25/25 [==============================] - 2s 72ms/step - loss: 0.1379 - accuracy: 0.9538 - val_loss: 1.1846 - val_accuracy: 0.6100\n",
            "Epoch 30/40\n",
            "25/25 [==============================] - 2s 73ms/step - loss: 0.1369 - accuracy: 0.9513 - val_loss: 1.1437 - val_accuracy: 0.6150\n",
            "Epoch 31/40\n",
            "25/25 [==============================] - 2s 73ms/step - loss: 0.1706 - accuracy: 0.9362 - val_loss: 1.1763 - val_accuracy: 0.6100\n",
            "Epoch 32/40\n",
            "25/25 [==============================] - 2s 74ms/step - loss: 0.1029 - accuracy: 0.9638 - val_loss: 1.2512 - val_accuracy: 0.6400\n",
            "Epoch 33/40\n",
            "25/25 [==============================] - 2s 76ms/step - loss: 0.2280 - accuracy: 0.9350 - val_loss: 1.3482 - val_accuracy: 0.5650\n",
            "Epoch 34/40\n",
            "25/25 [==============================] - 2s 72ms/step - loss: 0.0817 - accuracy: 0.9762 - val_loss: 2.7950 - val_accuracy: 0.5000\n",
            "Epoch 35/40\n",
            "25/25 [==============================] - 2s 70ms/step - loss: 0.1150 - accuracy: 0.9563 - val_loss: 2.4629 - val_accuracy: 0.5150\n",
            "Epoch 36/40\n",
            "25/25 [==============================] - 2s 75ms/step - loss: 0.0838 - accuracy: 0.9762 - val_loss: 1.4685 - val_accuracy: 0.5250\n",
            "Epoch 37/40\n",
            "25/25 [==============================] - 3s 90ms/step - loss: 0.1573 - accuracy: 0.9575 - val_loss: 1.2048 - val_accuracy: 0.6050\n",
            "Epoch 38/40\n",
            "25/25 [==============================] - 2s 73ms/step - loss: 0.1919 - accuracy: 0.9287 - val_loss: 1.1758 - val_accuracy: 0.6300\n",
            "Epoch 39/40\n",
            "25/25 [==============================] - 2s 69ms/step - loss: 0.0335 - accuracy: 0.9950 - val_loss: 1.2793 - val_accuracy: 0.6100\n",
            "Epoch 40/40\n",
            "25/25 [==============================] - 3s 91ms/step - loss: 0.2375 - accuracy: 0.9438 - val_loss: 1.3449 - val_accuracy: 0.5900\n"
          ]
        }
      ]
    },
    {
      "cell_type": "markdown",
      "source": [
        "Visualizziamo le curve di accuracy."
      ],
      "metadata": {
        "id": "0lJCB6i6m9wy"
      }
    },
    {
      "cell_type": "code",
      "source": [
        "plt.plot(history.history['accuracy'])\n",
        "plt.plot(history.history['val_accuracy'])\n",
        "plt.ylim([0.5, 1.0]) # 0.5 è il minimo sindacale - dummy classifier fa 50% - fino al massimo 1.\n",
        "plt.xlabel('Epoch')\n",
        "plt.ylabel('Accuracy')\n",
        "plt.legend(['train', 'val'])"
      ],
      "metadata": {
        "colab": {
          "base_uri": "https://localhost:8080/",
          "height": 300
        },
        "id": "3L8zSMA4l_en",
        "outputId": "14aa9693-4dba-47d3-ae11-cc9e436364e1"
      },
      "execution_count": 23,
      "outputs": [
        {
          "output_type": "display_data",
          "data": {
            "text/plain": [
              "<IPython.core.display.Javascript object>"
            ],
            "application/javascript": [
              "google.colab.output.setIframeHeight(0, true, {maxHeight: 300})"
            ]
          },
          "metadata": {}
        },
        {
          "output_type": "display_data",
          "data": {
            "text/plain": [
              "<IPython.core.display.Javascript object>"
            ],
            "application/javascript": [
              "google.colab.output.setIframeHeight(0, true, {maxHeight: 300})"
            ]
          },
          "metadata": {}
        },
        {
          "output_type": "display_data",
          "data": {
            "text/plain": [
              "<IPython.core.display.Javascript object>"
            ],
            "application/javascript": [
              "google.colab.output.setIframeHeight(0, true, {maxHeight: 300})"
            ]
          },
          "metadata": {}
        },
        {
          "output_type": "execute_result",
          "data": {
            "text/plain": [
              "<matplotlib.legend.Legend at 0x7f73a60d7cd0>"
            ]
          },
          "metadata": {},
          "execution_count": 23
        },
        {
          "output_type": "display_data",
          "data": {
            "text/plain": [
              "<Figure size 432x288 with 1 Axes>"
            ],
            "image/png": "[encoded data removed]"
          },
          "metadata": {
            "needs_background": "light"
          }
        }
      ]
    },
    {
      "cell_type": "markdown",
      "source": [
        "Su dati mai visti non un granché.\n",
        "Come miglioriamo il risultato? Introducendo la batch normalization, un layer dopo ciascuna convoluzione 2D.\n",
        "Quindi, riprendiamo la rete definita precedentemente e inseriamo la batch normalization.\n",
        "\n",
        "Quindi:\n",
        "- Add a batchnorm layer after every conv2D layer\n",
        "- compile\n",
        "- fit"
      ],
      "metadata": {
        "id": "D0QqZfkZnhmv"
      }
    },
    {
      "cell_type": "code",
      "source": [
        "# NUOVA ARCHITETTURA DI RETE CONVOLUZIONALE CON BATCH NORMALIZATION\n",
        "\n",
        "inputs = keras.Input((224, 224, 3)) # 224 rows, 224 columns, 3 RGB channels\n",
        "\n",
        "x = inputs\n",
        "x = keras.layers.Conv2D(32, 3, padding='same')(x)\n",
        "# AGGIUNGI BATCH NORMALIZATION LAYER\n",
        "x = keras.layers.BatchNormalization()(x)\n",
        "\n",
        "x = keras.layers.Activation('relu')(x)\n",
        "x = keras.layers.MaxPooling2D(3, strides=3, padding='same')(x) \n",
        "x = keras.layers.Conv2D(64, 3, padding = 'same')(x)\n",
        "# AGGIUNGI BATCH NORMALIZATION LAYER\n",
        "x = keras.layers.BatchNormalization()(x)\n",
        "\n",
        "x = keras.layers.Activation('relu')(x)\n",
        "x = keras.layers.GlobalMaxPooling2D()(x)\n",
        "outputs = keras.layers.Dense(num_classes, activation='softmax')(x)\n",
        "\n",
        "net = keras.Model(inputs, outputs)"
      ],
      "metadata": {
        "colab": {
          "base_uri": "https://localhost:8080/",
          "height": 17
        },
        "id": "UxVRKyX5nd6D",
        "outputId": "e358a398-562a-4eea-9b1b-bf3719219f2c"
      },
      "execution_count": 24,
      "outputs": [
        {
          "output_type": "display_data",
          "data": {
            "text/plain": [
              "<IPython.core.display.Javascript object>"
            ],
            "application/javascript": [
              "google.colab.output.setIframeHeight(0, true, {maxHeight: 300})"
            ]
          },
          "metadata": {}
        },
        {
          "output_type": "display_data",
          "data": {
            "text/plain": [
              "<IPython.core.display.Javascript object>"
            ],
            "application/javascript": [
              "google.colab.output.setIframeHeight(0, true, {maxHeight: 300})"
            ]
          },
          "metadata": {}
        },
        {
          "output_type": "display_data",
          "data": {
            "text/plain": [
              "<IPython.core.display.Javascript object>"
            ],
            "application/javascript": [
              "google.colab.output.setIframeHeight(0, true, {maxHeight: 300})"
            ]
          },
          "metadata": {}
        }
      ]
    },
    {
      "cell_type": "code",
      "source": [
        "# RICOOMPILIAMO\n",
        "net.compile(loss=keras.losses.categorical_crossentropy,\n",
        "            optimizer= keras.optimizers.RMSprop(learning_rate=0.001),\n",
        "            metrics=['accuracy'])"
      ],
      "metadata": {
        "colab": {
          "base_uri": "https://localhost:8080/",
          "height": 17
        },
        "id": "eJsQs8-mo6go",
        "outputId": "e7e2190b-d9a0-4121-e75a-253f366f391c"
      },
      "execution_count": 25,
      "outputs": [
        {
          "output_type": "display_data",
          "data": {
            "text/plain": [
              "<IPython.core.display.Javascript object>"
            ],
            "application/javascript": [
              "google.colab.output.setIframeHeight(0, true, {maxHeight: 300})"
            ]
          },
          "metadata": {}
        },
        {
          "output_type": "display_data",
          "data": {
            "text/plain": [
              "<IPython.core.display.Javascript object>"
            ],
            "application/javascript": [
              "google.colab.output.setIframeHeight(0, true, {maxHeight: 300})"
            ]
          },
          "metadata": {}
        },
        {
          "output_type": "display_data",
          "data": {
            "text/plain": [
              "<IPython.core.display.Javascript object>"
            ],
            "application/javascript": [
              "google.colab.output.setIframeHeight(0, true, {maxHeight: 300})"
            ]
          },
          "metadata": {}
        }
      ]
    },
    {
      "cell_type": "code",
      "source": [
        "# RIFITTIAMO\n",
        "history = net.fit(train_dataset, epochs=40, validation_data = val_dataset)"
      ],
      "metadata": {
        "colab": {
          "base_uri": "https://localhost:8080/",
          "height": 300
        },
        "id": "w3_nHC0To-QB",
        "outputId": "9ff7a5e2-13ec-498c-a875-d19146320cc3"
      },
      "execution_count": 26,
      "outputs": [
        {
          "output_type": "display_data",
          "data": {
            "text/plain": [
              "<IPython.core.display.Javascript object>"
            ],
            "application/javascript": [
              "google.colab.output.setIframeHeight(0, true, {maxHeight: 300})"
            ]
          },
          "metadata": {}
        },
        {
          "output_type": "display_data",
          "data": {
            "text/plain": [
              "<IPython.core.display.Javascript object>"
            ],
            "application/javascript": [
              "google.colab.output.setIframeHeight(0, true, {maxHeight: 300})"
            ]
          },
          "metadata": {}
        },
        {
          "output_type": "display_data",
          "data": {
            "text/plain": [
              "<IPython.core.display.Javascript object>"
            ],
            "application/javascript": [
              "google.colab.output.setIframeHeight(0, true, {maxHeight: 300})"
            ]
          },
          "metadata": {}
        },
        {
          "output_type": "stream",
          "name": "stdout",
          "text": [
            "Epoch 1/40\n",
            "25/25 [==============================] - 3s 81ms/step - loss: 1.4428 - accuracy: 0.5013 - val_loss: 1.1819 - val_accuracy: 0.5500\n",
            "Epoch 2/40\n",
            "25/25 [==============================] - 2s 75ms/step - loss: 0.7860 - accuracy: 0.5875 - val_loss: 1.5941 - val_accuracy: 0.5150\n",
            "Epoch 3/40\n",
            "25/25 [==============================] - 2s 73ms/step - loss: 0.7191 - accuracy: 0.6400 - val_loss: 0.9976 - val_accuracy: 0.5400\n",
            "Epoch 4/40\n",
            "25/25 [==============================] - 2s 72ms/step - loss: 0.6911 - accuracy: 0.6513 - val_loss: 1.0690 - val_accuracy: 0.5150\n",
            "Epoch 5/40\n",
            "25/25 [==============================] - 2s 74ms/step - loss: 0.6237 - accuracy: 0.6750 - val_loss: 0.7652 - val_accuracy: 0.6000\n",
            "Epoch 6/40\n",
            "25/25 [==============================] - 3s 129ms/step - loss: 0.5751 - accuracy: 0.7113 - val_loss: 0.8879 - val_accuracy: 0.5500\n",
            "Epoch 7/40\n",
            "25/25 [==============================] - 3s 88ms/step - loss: 0.5541 - accuracy: 0.7262 - val_loss: 0.6571 - val_accuracy: 0.6300\n",
            "Epoch 8/40\n",
            "25/25 [==============================] - 3s 90ms/step - loss: 0.5199 - accuracy: 0.7425 - val_loss: 0.6294 - val_accuracy: 0.6800\n",
            "Epoch 9/40\n",
            "25/25 [==============================] - 2s 76ms/step - loss: 0.5368 - accuracy: 0.7225 - val_loss: 0.6080 - val_accuracy: 0.6700\n",
            "Epoch 10/40\n",
            "25/25 [==============================] - 2s 83ms/step - loss: 0.4590 - accuracy: 0.7800 - val_loss: 0.8906 - val_accuracy: 0.5900\n",
            "Epoch 11/40\n",
            "25/25 [==============================] - 2s 73ms/step - loss: 0.4636 - accuracy: 0.7950 - val_loss: 0.6785 - val_accuracy: 0.5950\n",
            "Epoch 12/40\n",
            "25/25 [==============================] - 2s 73ms/step - loss: 0.4343 - accuracy: 0.7975 - val_loss: 0.6469 - val_accuracy: 0.6250\n",
            "Epoch 13/40\n",
            "25/25 [==============================] - 2s 74ms/step - loss: 0.4284 - accuracy: 0.7912 - val_loss: 0.6107 - val_accuracy: 0.6900\n",
            "Epoch 14/40\n",
            "25/25 [==============================] - 2s 74ms/step - loss: 0.4018 - accuracy: 0.8200 - val_loss: 0.6138 - val_accuracy: 0.6450\n",
            "Epoch 15/40\n",
            "25/25 [==============================] - 2s 74ms/step - loss: 0.3664 - accuracy: 0.8537 - val_loss: 0.6468 - val_accuracy: 0.6700\n",
            "Epoch 16/40\n",
            "25/25 [==============================] - 2s 73ms/step - loss: 0.3601 - accuracy: 0.8512 - val_loss: 0.6454 - val_accuracy: 0.6500\n",
            "Epoch 17/40\n",
            "25/25 [==============================] - 2s 75ms/step - loss: 0.3779 - accuracy: 0.8487 - val_loss: 0.6022 - val_accuracy: 0.7000\n",
            "Epoch 18/40\n",
            "25/25 [==============================] - 2s 74ms/step - loss: 0.3611 - accuracy: 0.8637 - val_loss: 0.6063 - val_accuracy: 0.6900\n",
            "Epoch 19/40\n",
            "25/25 [==============================] - 2s 74ms/step - loss: 0.3148 - accuracy: 0.8587 - val_loss: 0.5981 - val_accuracy: 0.7000\n",
            "Epoch 20/40\n",
            "25/25 [==============================] - 2s 74ms/step - loss: 0.3154 - accuracy: 0.8813 - val_loss: 0.6249 - val_accuracy: 0.6450\n",
            "Epoch 21/40\n",
            "25/25 [==============================] - 2s 73ms/step - loss: 0.3305 - accuracy: 0.8612 - val_loss: 0.6984 - val_accuracy: 0.6650\n",
            "Epoch 22/40\n",
            "25/25 [==============================] - 2s 73ms/step - loss: 0.3040 - accuracy: 0.8988 - val_loss: 0.6005 - val_accuracy: 0.7050\n",
            "Epoch 23/40\n",
            "25/25 [==============================] - 2s 75ms/step - loss: 0.2762 - accuracy: 0.8963 - val_loss: 0.5925 - val_accuracy: 0.6900\n",
            "Epoch 24/40\n",
            "25/25 [==============================] - 2s 74ms/step - loss: 0.2727 - accuracy: 0.8913 - val_loss: 0.6976 - val_accuracy: 0.6250\n",
            "Epoch 25/40\n",
            "25/25 [==============================] - 2s 75ms/step - loss: 0.3247 - accuracy: 0.8838 - val_loss: 0.5959 - val_accuracy: 0.6900\n",
            "Epoch 26/40\n",
            "25/25 [==============================] - 2s 75ms/step - loss: 0.2544 - accuracy: 0.9225 - val_loss: 0.6680 - val_accuracy: 0.6500\n",
            "Epoch 27/40\n",
            "25/25 [==============================] - 2s 74ms/step - loss: 0.2430 - accuracy: 0.9175 - val_loss: 0.6031 - val_accuracy: 0.6800\n",
            "Epoch 28/40\n",
            "25/25 [==============================] - 2s 76ms/step - loss: 0.2755 - accuracy: 0.8950 - val_loss: 0.7062 - val_accuracy: 0.6400\n",
            "Epoch 29/40\n",
            "25/25 [==============================] - 2s 74ms/step - loss: 0.2384 - accuracy: 0.9125 - val_loss: 0.6019 - val_accuracy: 0.7200\n",
            "Epoch 30/40\n",
            "25/25 [==============================] - 2s 75ms/step - loss: 0.2504 - accuracy: 0.9100 - val_loss: 0.6607 - val_accuracy: 0.6650\n",
            "Epoch 31/40\n",
            "25/25 [==============================] - 2s 74ms/step - loss: 0.1987 - accuracy: 0.9538 - val_loss: 0.5975 - val_accuracy: 0.6900\n",
            "Epoch 32/40\n",
            "25/25 [==============================] - 2s 75ms/step - loss: 0.2121 - accuracy: 0.9325 - val_loss: 0.6428 - val_accuracy: 0.6700\n",
            "Epoch 33/40\n",
            "25/25 [==============================] - 2s 75ms/step - loss: 0.2344 - accuracy: 0.9112 - val_loss: 0.6891 - val_accuracy: 0.7150\n",
            "Epoch 34/40\n",
            "25/25 [==============================] - 2s 73ms/step - loss: 0.1949 - accuracy: 0.9413 - val_loss: 0.7617 - val_accuracy: 0.6550\n",
            "Epoch 35/40\n",
            "25/25 [==============================] - 2s 75ms/step - loss: 0.2094 - accuracy: 0.9375 - val_loss: 0.6099 - val_accuracy: 0.6900\n",
            "Epoch 36/40\n",
            "25/25 [==============================] - 2s 75ms/step - loss: 0.1690 - accuracy: 0.9625 - val_loss: 0.6036 - val_accuracy: 0.7050\n",
            "Epoch 37/40\n",
            "25/25 [==============================] - 2s 75ms/step - loss: 0.2458 - accuracy: 0.9075 - val_loss: 0.6133 - val_accuracy: 0.7050\n",
            "Epoch 38/40\n",
            "25/25 [==============================] - 2s 75ms/step - loss: 0.1561 - accuracy: 0.9625 - val_loss: 0.6093 - val_accuracy: 0.7150\n",
            "Epoch 39/40\n",
            "25/25 [==============================] - 2s 74ms/step - loss: 0.1616 - accuracy: 0.9575 - val_loss: 0.6358 - val_accuracy: 0.6900\n",
            "Epoch 40/40\n",
            "25/25 [==============================] - 2s 75ms/step - loss: 0.2006 - accuracy: 0.9350 - val_loss: 0.7196 - val_accuracy: 0.6650\n"
          ]
        }
      ]
    },
    {
      "cell_type": "code",
      "source": [
        "# VISUALIZZIAMO NUOVAMENTE L'OUTPUT\n",
        "plt.plot(history.history['accuracy'])\n",
        "plt.plot(history.history['val_accuracy'])\n",
        "plt.ylim([0.5, 1.0]) # 0.5 è il minimo sindacale - dummy classifier fa 50% - fino al massimo 1.\n",
        "plt.xlabel('Epoch')\n",
        "plt.ylabel('Accuracy')\n",
        "plt.legend(['train', 'val'])"
      ],
      "metadata": {
        "colab": {
          "base_uri": "https://localhost:8080/",
          "height": 300
        },
        "id": "QuOY6rZQpDD7",
        "outputId": "7231e556-ec14-4004-b654-317a3fabbf78"
      },
      "execution_count": 27,
      "outputs": [
        {
          "output_type": "display_data",
          "data": {
            "text/plain": [
              "<IPython.core.display.Javascript object>"
            ],
            "application/javascript": [
              "google.colab.output.setIframeHeight(0, true, {maxHeight: 300})"
            ]
          },
          "metadata": {}
        },
        {
          "output_type": "display_data",
          "data": {
            "text/plain": [
              "<IPython.core.display.Javascript object>"
            ],
            "application/javascript": [
              "google.colab.output.setIframeHeight(0, true, {maxHeight: 300})"
            ]
          },
          "metadata": {}
        },
        {
          "output_type": "display_data",
          "data": {
            "text/plain": [
              "<IPython.core.display.Javascript object>"
            ],
            "application/javascript": [
              "google.colab.output.setIframeHeight(0, true, {maxHeight: 300})"
            ]
          },
          "metadata": {}
        },
        {
          "output_type": "execute_result",
          "data": {
            "text/plain": [
              "<matplotlib.legend.Legend at 0x7f738cc50a10>"
            ]
          },
          "metadata": {},
          "execution_count": 27
        },
        {
          "output_type": "display_data",
          "data": {
            "text/plain": [
              "<Figure size 432x288 with 1 Axes>"
            ],
            "image/png": "[encoded data removed]"
          },
          "metadata": {
            "needs_background": "light"
          }
        }
      ]
    },
    {
      "cell_type": "markdown",
      "source": [
        "Idea della batch normalization: standardizza i dati per il livello successivo. I dati di partenza nella variabile inputs si trovano tra 0 e 255 o tra 0 e 1 a seconda di come è trattato l'input. Nel momento in cui applichiamo una convoluzione 2D coon dei filtri inizializzati con valori randomici è difficile prevedere che valore (range) avrà l'output e più si va a fondo di una rete neurale è più è imprevedibile sapere che range di valori hanno le attivazioni (i range di ooutput dei layers).\n",
        "\n",
        "ARRIVATO A 1:04:00 EZIONE E04"
      ],
      "metadata": {
        "id": "1R9yW6s9pcx5"
      }
    },
    {
      "cell_type": "code",
      "source": [],
      "metadata": {
        "id": "w9Hgd1XKpJQO"
      },
      "execution_count": null,
      "outputs": []
    }
  ]
}