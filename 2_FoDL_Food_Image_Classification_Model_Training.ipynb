{
  "cells": [
    {
      "cell_type": "markdown",
      "source": [
        "# **TRAINING NOTEBOOK**"
      ],
      "metadata": {
        "id": "cw1E75EqIVyt"
      }
    },
    {
      "cell_type": "markdown",
      "metadata": {
        "id": "IRDSuGm6aDCk"
      },
      "source": [
        "## **Food Image Classification for the course _Foundations of Deep Learning_.**\n",
        "\n",
        "**Professors:**\n",
        "\n",
        "Paolo Napoletano\n",
        "\n",
        "Marco Buzzelli\n",
        "\n",
        "**Tutor:**\n",
        "\n",
        "Mirko Agarla"
      ]
    },
    {
      "cell_type": "markdown",
      "metadata": {
        "id": "56SP2nH5SJKc"
      },
      "source": [
        "## Notebook for training"
      ]
    },
    {
      "cell_type": "markdown",
      "metadata": {
        "id": "F9ToWEW-1Lwv"
      },
      "source": [
        "> What does it do?\n",
        "\n",
        "This notebook approach the training phase with the creation of different models in order to try out some custom ones and, specifically, the Transfer Learning technique. With the latter will be in the end used for saving the best model and use it in the testing and deployment phase.\n",
        "\n",
        "> What is the goal?\n",
        "\n",
        "The goal of this notebook is to select the best model in terms of accuracy measure and the corresponding hyperparameters in order to use it for the testing and deployment phase."
      ]
    },
    {
      "cell_type": "markdown",
      "source": [
        "## Install packages"
      ],
      "metadata": {
        "id": "AF5_CGoXTI42"
      }
    },
    {
      "cell_type": "code",
      "execution_count": null,
      "metadata": {
        "colab": {
          "base_uri": "https://localhost:8080/"
        },
        "id": "9dY1N2x2Qx0c",
        "outputId": "f3dcac94-ab49-4e78-b201-9acda2bfe7a8"
      },
      "outputs": [
        {
          "output_type": "stream",
          "name": "stdout",
          "text": [
            "Looking in indexes: https://pypi.org/simple, https://us-python.pkg.dev/colab-wheels/public/simple/\n",
            "Collecting scikeras\n",
            "  Downloading scikeras-0.10.0-py3-none-any.whl (27 kB)\n",
            "Requirement already satisfied: packaging>=0.21 in /usr/local/lib/python3.8/dist-packages (from scikeras) (21.3)\n",
            "Requirement already satisfied: scikit-learn>=1.0.0 in /usr/local/lib/python3.8/dist-packages (from scikeras) (1.0.2)\n",
            "Requirement already satisfied: pyparsing!=3.0.5,>=2.0.2 in /usr/local/lib/python3.8/dist-packages (from packaging>=0.21->scikeras) (3.0.9)\n",
            "Requirement already satisfied: joblib>=0.11 in /usr/local/lib/python3.8/dist-packages (from scikit-learn>=1.0.0->scikeras) (1.2.0)\n",
            "Requirement already satisfied: scipy>=1.1.0 in /usr/local/lib/python3.8/dist-packages (from scikit-learn>=1.0.0->scikeras) (1.7.3)\n",
            "Requirement already satisfied: numpy>=1.14.6 in /usr/local/lib/python3.8/dist-packages (from scikit-learn>=1.0.0->scikeras) (1.21.6)\n",
            "Requirement already satisfied: threadpoolctl>=2.0.0 in /usr/local/lib/python3.8/dist-packages (from scikit-learn>=1.0.0->scikeras) (3.1.0)\n",
            "Installing collected packages: scikeras\n",
            "Successfully installed scikeras-0.10.0\n"
          ]
        }
      ],
      "source": [
        "# INSTALL SCIKERAS, SPLIT-FOLDERS AND ANN VISUALIZER PACKAGES\n",
        "!pip install scikeras"
      ]
    },
    {
      "cell_type": "markdown",
      "source": [
        "## Import libraries"
      ],
      "metadata": {
        "id": "Kg_uU94aTGDf"
      }
    },
    {
      "cell_type": "code",
      "execution_count": null,
      "metadata": {
        "id": "jtW_r4zDzdRQ"
      },
      "outputs": [],
      "source": [
        "# IMPORT TENSORFLOW/KERAS\n",
        "import tensorflow as tf\n",
        "from tensorflow import keras\n",
        "from keras.models import load_model\n",
        "from keras.preprocessing import image\n",
        "from keras.applications.vgg16 import VGG16\n",
        "from keras.applications.mobilenet_v2 import MobileNetV2\n",
        "from tensorflow.keras.applications.resnet50 import ResNet50\n",
        "\n",
        "# KERAS LAYERS\n",
        "from keras.layers import Input\n",
        "from keras.models import Sequential\n",
        "from keras.layers.core import Dense\n",
        "from keras.layers.core import Dropout\n",
        "from keras.layers.core import Flatten\n",
        "from keras.utils import to_categorical\n",
        "from keras.layers.core import Activation\n",
        "from keras.layers import BatchNormalization\n",
        "from keras.layers.convolutional import Conv2D\n",
        "from keras.layers.convolutional import MaxPooling2D\n",
        "from keras.layers.pooling import GlobalMaxPooling2D\n",
        "from keras.preprocessing.image import ImageDataGenerator\n",
        "\n",
        "# SCIKIT-LEARN MODELS/SCIKERAS\n",
        "from sklearn import preprocessing\n",
        "import sklearn.metrics as metrics\n",
        "from sklearn.decomposition import PCA\n",
        "from sklearn.model_selection import KFold\n",
        "from sklearn.metrics import confusion_matrix\n",
        "from scikeras.wrappers import KerasClassifier\n",
        "from sklearn.model_selection import GridSearchCV\n",
        "from sklearn.metrics import classification_report\n",
        "from sklearn.model_selection import StratifiedKFold\n",
        "from sklearn.model_selection import train_test_split\n",
        "from sklearn.model_selection import RandomizedSearchCV\n",
        "from sklearn.metrics import accuracy_score, recall_score, make_scorer\n",
        "\n",
        "# IMPORT OTHER MODULES\n",
        "import os\n",
        "import sys\n",
        "import glob\n",
        "import datetime\n",
        "import random # to select random images from a folder\n",
        "import fnmatch # to count number of image per folder\n",
        "import numpy as np\n",
        "import pandas as pd\n",
        "from os import mkdir\n",
        "import seaborn as sns\n",
        "from pathlib import Path\n",
        "from shutil import copyfile # to import \"copyfile\"\n",
        "from numpy.random import seed\n",
        "import plotly.figure_factory as ff # for printing the heatmap\n",
        "import matplotlib.image as img_mat\n",
        "from collections import defaultdict\n",
        "from matplotlib import pyplot as plt\n",
        "from IPython.display import Javascript\n",
        "\n",
        "# CV2\n",
        "import cv2\n",
        "from google.colab.patches import cv2_imshow "
      ]
    },
    {
      "cell_type": "code",
      "source": [
        "# SET RANDOM SEED TO GET, AS MUCH AS POSSIBLE, REPRODUCIBLE RESULTS\n",
        "# USING NUMPY\n",
        "seed(42)\n",
        "\n",
        "# IN ADDITION, WE SET THE RANDOM NUMBER WITH TENSORFLOW BECAUSE IT HAS \n",
        "# ITS OWN RANDOM NUMBER GENERATOR THAT MUST ALSO BE SEEDED \n",
        "# BY CALLING THE SET_RANDOM_SEED() FUNCTION IMMEDIATELY \n",
        "# AFTER THE NUMPY RANDOM NUMBER GENERATOR\n",
        "tf.random.set_seed(42)"
      ],
      "metadata": {
        "id": "ttiyKUi38GeA"
      },
      "execution_count": null,
      "outputs": []
    },
    {
      "cell_type": "code",
      "execution_count": null,
      "metadata": {
        "id": "QvrEQvZkzUDs",
        "colab": {
          "base_uri": "https://localhost:8080/"
        },
        "outputId": "e8bf38fd-7412-49b9-fc64-34e8a09c9328"
      },
      "outputs": [
        {
          "output_type": "stream",
          "name": "stdout",
          "text": [
            "Mounted at /content/gdrive\n"
          ]
        }
      ],
      "source": [
        "# Link Google Drive account\n",
        "from google.colab import drive\n",
        "drive.mount('/content/gdrive')"
      ]
    },
    {
      "cell_type": "code",
      "source": [
        "# IMPORT UTILS.PY: utils.py contains different useful custom functions\n",
        "\n",
        "# 1.Insert the directory\n",
        "sys.path.insert(0,\"/content/gdrive/MyDrive/Data_Science_2020-2022/Secondo_anno_Secondo_Semestre/FoDL_Project/Project_Example_Food\")\n",
        "\n",
        "# 2.Import your module or file\n",
        "import utils"
      ],
      "metadata": {
        "id": "H7AeCw1OJxG_"
      },
      "execution_count": null,
      "outputs": []
    },
    {
      "cell_type": "code",
      "execution_count": null,
      "metadata": {
        "id": "qa58qsk8BOmE"
      },
      "outputs": [],
      "source": [
        "# CONSTANTS\n",
        "SEED_VALUE = 42\n",
        "num_classes = 10 # number of output classes\n",
        "batch_size = 16\n",
        "SIZE = 224 # size for resizing the images\n",
        "\n",
        "# DEFINE AN EARLY STOPPING CRITERION\n",
        "callback = keras.callbacks.EarlyStopping(monitor=\"val_loss\", patience=15, restore_best_weights = True)\n",
        "\n",
        "# PATH TO THE DATA\n",
        "ORIGINAL_DATA = \"/content/gdrive/MyDrive/Data_Science_2020-2022/Secondo_anno_Secondo_Semestre/FoDL_Project/Project_Example_Food/ExampleFoodImageDataset\"\n",
        "PREPROCESSED_DATA = \"/content/gdrive/MyDrive/Data_Science_2020-2022/Secondo_anno_Secondo_Semestre/FoDL_Project/Project_Example_Food/ExampleFoodImageDatasetPreprocessed\"\n",
        "DIR_TRAIN_TEST_DATA = '/content/gdrive/MyDrive/Data_Science_2020-2022/Secondo_anno_Secondo_Semestre/FoDL_Project/Project_Example_Food/train_test'\n",
        "\n",
        "# LOAD THE FOLDERS WHERE THE TRAINING/TESTING/VALIDATION DATA ARE STORED\n",
        "base_path_train = '/content/gdrive/MyDrive/Data_Science_2020-2022/Secondo_anno_Secondo_Semestre/FoDL_Project/Project_Example_Food/train_test/train/'\n",
        "base_path_test = '/content/gdrive/MyDrive/Data_Science_2020-2022/Secondo_anno_Secondo_Semestre/FoDL_Project/Project_Example_Food/train_test/test/'\n",
        "base_path_val = '/content/gdrive/MyDrive/Data_Science_2020-2022/Secondo_anno_Secondo_Semestre/FoDL_Project/Project_Example_Food/train_test/val/'\n",
        "\n",
        "# PATH TO THE DATA\n",
        "DIR_TRAIN_DATA = '/content/gdrive/MyDrive/Data_Science_2020-2022/Secondo_anno_Secondo_Semestre/FoDL_Project/Project_Example_Food/train_test/train/*'\n",
        "DIR_TEST_DATA = '/content/gdrive/MyDrive/Data_Science_2020-2022/Secondo_anno_Secondo_Semestre/FoDL_Project/Project_Example_Food/train_test/test/*'\n",
        "DIR_VAL_DATA = '/content/gdrive/MyDrive/Data_Science_2020-2022/Secondo_anno_Secondo_Semestre/FoDL_Project/Project_Example_Food/train_test/val/*'"
      ]
    },
    {
      "cell_type": "code",
      "source": [
        "# SETTINGS FOR PRETTIER VISUALIZATION IN GOOGLE COLAB\n",
        "def resize_colab_cell():\n",
        "  display(Javascript('google.colab.output.setIframeHeight(0, true, {maxHeight: 300})'))\n",
        "get_ipython().events.register('pre_run_cell', resize_colab_cell)"
      ],
      "metadata": {
        "id": "dZHPXv_AkaOx"
      },
      "execution_count": null,
      "outputs": []
    },
    {
      "cell_type": "markdown",
      "metadata": {
        "id": "477SvQFvTkO7"
      },
      "source": [
        "# 1.Model architectures and training phase\n",
        "This section deals with the models creation, the performance results and the dicussion of them."
      ]
    },
    {
      "cell_type": "markdown",
      "metadata": {
        "id": "z9BCr1VJz8B0"
      },
      "source": [
        "## 1.1 Data loader\n",
        "\n"
      ]
    },
    {
      "cell_type": "markdown",
      "metadata": {
        "id": "Q3oWN_M5z-gN"
      },
      "source": [
        "In any deep learning framework, a data loader takes care of (at least) the following tasks:\n",
        "\n",
        "- Loading input and target data\n",
        "- Splitting the dataset into mini batches\n",
        "\n",
        "In this case, no Data Augmentation on-the-fly is done: \n",
        "**tf.keras.preprocessing.image_dataset_from_directory** generates a **tf.data.Dataset** from image files in a directory, without any Data Augmentation procedure."
      ]
    },
    {
      "cell_type": "code",
      "source": [
        "# RESCALE THE IMAGES\n",
        "train_datagen = ImageDataGenerator(rescale=1./255)\n",
        "val_datagen = ImageDataGenerator(rescale=1./255)\n",
        "\n",
        "# This is a generator that will read pictures found in\n",
        "# subfolers of 'data/train', and generate\n",
        "# batches of image data.\n",
        "# Only deal with the validation data. The test data\n",
        "# will be used in the TEST NOTEBOOK\n",
        "train_generator = train_datagen.flow_from_directory(\n",
        "    base_path_train,\n",
        "    color_mode='rgb',\n",
        "    target_size=(SIZE,SIZE),\n",
        "    batch_size=batch_size,\n",
        "    shuffle=True,\n",
        "    class_mode=\"categorical\",\n",
        "    seed = SEED_VALUE)\n",
        "\n",
        "val_generator = val_datagen.flow_from_directory(\n",
        "    base_path_val,\n",
        "    color_mode='rgb',\n",
        "    target_size=(SIZE,SIZE),\n",
        "    batch_size=batch_size,\n",
        "    shuffle=False,\n",
        "    class_mode=\"categorical\",\n",
        "    seed = SEED_VALUE)"
      ],
      "metadata": {
        "id": "GSZu2e-IJzFb",
        "colab": {
          "base_uri": "https://localhost:8080/",
          "height": 52
        },
        "outputId": "703d56bb-6b38-4f20-93f1-9be765557eb0"
      },
      "execution_count": null,
      "outputs": [
        {
          "output_type": "display_data",
          "data": {
            "text/plain": [
              "<IPython.core.display.Javascript object>"
            ],
            "application/javascript": [
              "google.colab.output.setIframeHeight(0, true, {maxHeight: 300})"
            ]
          },
          "metadata": {}
        },
        {
          "output_type": "stream",
          "name": "stdout",
          "text": [
            "Found 2003 images belonging to 10 classes.\n",
            "Found 242 images belonging to 10 classes.\n"
          ]
        }
      ]
    },
    {
      "cell_type": "markdown",
      "metadata": {
        "id": "lVZA1WxYd3MN"
      },
      "source": [
        "## 1.2.1 Model V01\n",
        "\n",
        "Create the first model to be fed with the image data."
      ]
    },
    {
      "cell_type": "code",
      "execution_count": null,
      "metadata": {
        "id": "ZcxqI3lLzT7_",
        "colab": {
          "base_uri": "https://localhost:8080/",
          "height": 300
        },
        "outputId": "d6714876-c131-4311-98a8-2fa5faff9f83"
      },
      "outputs": [
        {
          "output_type": "display_data",
          "data": {
            "text/plain": [
              "<IPython.core.display.Javascript object>"
            ],
            "application/javascript": [
              "google.colab.output.setIframeHeight(0, true, {maxHeight: 300})"
            ]
          },
          "metadata": {}
        },
        {
          "output_type": "stream",
          "name": "stdout",
          "text": [
            "Model: \"model\"\n",
            "_________________________________________________________________\n",
            " Layer (type)                Output Shape              Param #   \n",
            "=================================================================\n",
            " input_1 (InputLayer)        [(None, 224, 224, 3)]     0         \n",
            "                                                                 \n",
            " conv2d (Conv2D)             (None, 224, 224, 32)      896       \n",
            "                                                                 \n",
            " activation (Activation)     (None, 224, 224, 32)      0         \n",
            "                                                                 \n",
            " max_pooling2d (MaxPooling2D  (None, 75, 75, 32)       0         \n",
            " )                                                               \n",
            "                                                                 \n",
            " conv2d_1 (Conv2D)           (None, 75, 75, 64)        18496     \n",
            "                                                                 \n",
            " activation_1 (Activation)   (None, 75, 75, 64)        0         \n",
            "                                                                 \n",
            " global_max_pooling2d (Globa  (None, 64)               0         \n",
            " lMaxPooling2D)                                                  \n",
            "                                                                 \n",
            " dense (Dense)               (None, 10)                650       \n",
            "                                                                 \n",
            "=================================================================\n",
            "Total params: 20,042\n",
            "Trainable params: 20,042\n",
            "Non-trainable params: 0\n",
            "_________________________________________________________________\n"
          ]
        }
      ],
      "source": [
        "# Architecture definition V01\n",
        "inputs = keras.Input((SIZE, SIZE, 3)) # SIZE rows, SIZE columns, 3 RGB channels\n",
        "\n",
        "x = inputs\n",
        "\n",
        "# 1st Conv layer\n",
        "x = keras.layers.Conv2D(32, 3, padding='same')(x)\n",
        "x = keras.layers.Activation('relu')(x)\n",
        "x = keras.layers.MaxPooling2D(3, strides=3, padding='same')(x) \n",
        "\n",
        "# 2st Conv layer\n",
        "x = keras.layers.Conv2D(64, 3, padding = 'same')(x)\n",
        "x = keras.layers.Activation('relu')(x)\n",
        "x = keras.layers.GlobalMaxPooling2D()(x)\n",
        "\n",
        "# Final dense layer\n",
        "outputs = keras.layers.Dense(num_classes, activation='softmax')(x)\n",
        "\n",
        "net_modelV01 = keras.Model(inputs, outputs)\n",
        "\n",
        "# SUMMARY\n",
        "net_modelV01.summary()"
      ]
    },
    {
      "cell_type": "markdown",
      "source": [
        "**Compile the model**\n",
        "\n",
        "We need to compile the model. \n",
        "The loss chose is the *categorical_crossentropy* because the problem to solve is a multi-class classification problem (multi-class classification: in such problems the classes are mutually exclusive). \n",
        "\n",
        "For each image (input data) the categorical crossentropy is looking at the ground truth. The value returned by the neural network ideally should be 1, indicating the correct prediction. The farther the expected class estimate is from 1, the greater the loss (obtaining worse result as the value of Loss increases)."
      ],
      "metadata": {
        "id": "Cgbt4_amkL0l"
      }
    },
    {
      "cell_type": "code",
      "execution_count": null,
      "metadata": {
        "id": "5MMatmoUzT5n",
        "colab": {
          "base_uri": "https://localhost:8080/",
          "height": 17
        },
        "outputId": "4a65a904-65fa-476f-b784-c9fda3d89aef"
      },
      "outputs": [
        {
          "output_type": "display_data",
          "data": {
            "text/plain": [
              "<IPython.core.display.Javascript object>"
            ],
            "application/javascript": [
              "google.colab.output.setIframeHeight(0, true, {maxHeight: 300})"
            ]
          },
          "metadata": {}
        }
      ],
      "source": [
        "net_modelV01.compile(loss=keras.losses.categorical_crossentropy,\n",
        "            optimizer= keras.optimizers.Adam(learning_rate=0.0001),\n",
        "            metrics=['accuracy'])"
      ]
    },
    {
      "cell_type": "markdown",
      "source": [
        "Because it is usually not possible (or not convenient) to load all the dataset in memory very easily when dealing with images, we are using the data loader defined at the beginning. The train_dataset will take in **n** images at a time, defined from the batch size until the entire dataset is covered.\n",
        "\n",
        "By doing so it has completed an epoch; at this point the validation data loader is called which momentarily freezes the training of the neural network, giving the network all the images in the validation set (again, depending on the batch size. So, for instance, 16 at a time) and computes the result. The results are then saved in the *history* variable.\n"
      ],
      "metadata": {
        "id": "ZaPDqudXkotP"
      }
    },
    {
      "cell_type": "code",
      "source": [
        "# START COUNTING THE TIME\n",
        "start = datetime.datetime.now()\n",
        "\n",
        "# FIT THE MODEL\n",
        "history_modelV01 = net_modelV01.fit(train_generator, \n",
        "                  validation_data = val_generator,\n",
        "                  steps_per_epoch = train_generator.n // train_generator.batch_size,\n",
        "                  validation_steps = val_generator.n // val_generator.batch_size,\n",
        "                  epochs=30,\n",
        "                  callbacks = [callback])\n",
        "\n",
        "# STOP COUNTING THE TIME\n",
        "end = datetime.datetime.now()\n",
        "print(\"Total execution time is: \", end-start)"
      ],
      "metadata": {
        "id": "TjxlLZWvLicF",
        "colab": {
          "base_uri": "https://localhost:8080/",
          "height": 300
        },
        "outputId": "07e0f334-74c9-40df-be29-33a0ead02434"
      },
      "execution_count": null,
      "outputs": [
        {
          "output_type": "display_data",
          "data": {
            "text/plain": [
              "<IPython.core.display.Javascript object>"
            ],
            "application/javascript": [
              "google.colab.output.setIframeHeight(0, true, {maxHeight: 300})"
            ]
          },
          "metadata": {}
        },
        {
          "output_type": "stream",
          "name": "stdout",
          "text": [
            "Epoch 1/30\n",
            "125/125 [==============================] - 430s 3s/step - loss: 2.2906 - accuracy: 0.1193 - val_loss: 2.3054 - val_accuracy: 0.1208\n",
            "Epoch 2/30\n",
            "125/125 [==============================] - 98s 783ms/step - loss: 2.2505 - accuracy: 0.2360 - val_loss: 2.3024 - val_accuracy: 0.0667\n",
            "Epoch 3/30\n",
            "125/125 [==============================] - 98s 783ms/step - loss: 2.2134 - accuracy: 0.3115 - val_loss: 2.2619 - val_accuracy: 0.2083\n",
            "Epoch 4/30\n",
            "125/125 [==============================] - 98s 785ms/step - loss: 2.1687 - accuracy: 0.3342 - val_loss: 2.2125 - val_accuracy: 0.2708\n",
            "Epoch 5/30\n",
            "125/125 [==============================] - 100s 799ms/step - loss: 2.1195 - accuracy: 0.3770 - val_loss: 2.1920 - val_accuracy: 0.2958\n",
            "Epoch 6/30\n",
            "125/125 [==============================] - 98s 783ms/step - loss: 2.0729 - accuracy: 0.3624 - val_loss: 2.1648 - val_accuracy: 0.2667\n",
            "Epoch 7/30\n",
            "125/125 [==============================] - 100s 799ms/step - loss: 2.0208 - accuracy: 0.3790 - val_loss: 2.1086 - val_accuracy: 0.3125\n",
            "Epoch 8/30\n",
            "125/125 [==============================] - 98s 783ms/step - loss: 1.9745 - accuracy: 0.3941 - val_loss: 2.1038 - val_accuracy: 0.2875\n",
            "Epoch 9/30\n",
            "125/125 [==============================] - 100s 801ms/step - loss: 1.9238 - accuracy: 0.3991 - val_loss: 2.0572 - val_accuracy: 0.2958\n",
            "Epoch 10/30\n",
            "125/125 [==============================] - 98s 782ms/step - loss: 1.8800 - accuracy: 0.4076 - val_loss: 2.0266 - val_accuracy: 0.3083\n",
            "Epoch 11/30\n",
            "125/125 [==============================] - 100s 801ms/step - loss: 1.8336 - accuracy: 0.4187 - val_loss: 1.9800 - val_accuracy: 0.3042\n",
            "Epoch 12/30\n",
            "125/125 [==============================] - 98s 786ms/step - loss: 1.7944 - accuracy: 0.4233 - val_loss: 2.0260 - val_accuracy: 0.2792\n",
            "Epoch 13/30\n",
            "125/125 [==============================] - 100s 802ms/step - loss: 1.7524 - accuracy: 0.4389 - val_loss: 1.9418 - val_accuracy: 0.3250\n",
            "Epoch 14/30\n",
            "125/125 [==============================] - 98s 787ms/step - loss: 1.7155 - accuracy: 0.4509 - val_loss: 1.9557 - val_accuracy: 0.2875\n",
            "Epoch 15/30\n",
            "125/125 [==============================] - 101s 804ms/step - loss: 1.6776 - accuracy: 0.4459 - val_loss: 1.9314 - val_accuracy: 0.2500\n",
            "Epoch 16/30\n",
            "125/125 [==============================] - 98s 785ms/step - loss: 1.6462 - accuracy: 0.4610 - val_loss: 1.9062 - val_accuracy: 0.3042\n",
            "Epoch 17/30\n",
            "125/125 [==============================] - 101s 805ms/step - loss: 1.6100 - accuracy: 0.4716 - val_loss: 1.8558 - val_accuracy: 0.3167\n",
            "Epoch 18/30\n",
            "125/125 [==============================] - 99s 788ms/step - loss: 1.5882 - accuracy: 0.4716 - val_loss: 1.8576 - val_accuracy: 0.3167\n",
            "Epoch 19/30\n",
            "125/125 [==============================] - 101s 805ms/step - loss: 1.5500 - accuracy: 0.4836 - val_loss: 1.8788 - val_accuracy: 0.2750\n",
            "Epoch 20/30\n",
            "125/125 [==============================] - 98s 788ms/step - loss: 1.5317 - accuracy: 0.4912 - val_loss: 1.8744 - val_accuracy: 0.2958\n",
            "Epoch 21/30\n",
            "125/125 [==============================] - 98s 786ms/step - loss: 1.5056 - accuracy: 0.5043 - val_loss: 1.8118 - val_accuracy: 0.3417\n",
            "Epoch 22/30\n",
            "125/125 [==============================] - 100s 801ms/step - loss: 1.4824 - accuracy: 0.5063 - val_loss: 1.8649 - val_accuracy: 0.3167\n",
            "Epoch 23/30\n",
            "125/125 [==============================] - 98s 787ms/step - loss: 1.4621 - accuracy: 0.5113 - val_loss: 1.8089 - val_accuracy: 0.3208\n",
            "Epoch 24/30\n",
            "125/125 [==============================] - 107s 852ms/step - loss: 1.4433 - accuracy: 0.5164 - val_loss: 1.8019 - val_accuracy: 0.3083\n",
            "Epoch 25/30\n",
            "125/125 [==============================] - 99s 791ms/step - loss: 1.4238 - accuracy: 0.5244 - val_loss: 1.7421 - val_accuracy: 0.3417\n",
            "Epoch 26/30\n",
            "125/125 [==============================] - 100s 802ms/step - loss: 1.4061 - accuracy: 0.5269 - val_loss: 1.7594 - val_accuracy: 0.3375\n",
            "Epoch 27/30\n",
            "125/125 [==============================] - 99s 788ms/step - loss: 1.3800 - accuracy: 0.5445 - val_loss: 1.7587 - val_accuracy: 0.3500\n",
            "Epoch 28/30\n",
            "125/125 [==============================] - 101s 809ms/step - loss: 1.3691 - accuracy: 0.5320 - val_loss: 1.7846 - val_accuracy: 0.3333\n",
            "Epoch 29/30\n",
            "125/125 [==============================] - 99s 789ms/step - loss: 1.3547 - accuracy: 0.5491 - val_loss: 1.7691 - val_accuracy: 0.3333\n",
            "Epoch 30/30\n",
            "125/125 [==============================] - 99s 790ms/step - loss: 1.3349 - accuracy: 0.5642 - val_loss: 1.7450 - val_accuracy: 0.3458\n",
            "Total execution time is:  1:08:51.221825\n"
          ]
        }
      ]
    },
    {
      "cell_type": "code",
      "execution_count": null,
      "metadata": {
        "id": "ug2ZfaHGzTun",
        "colab": {
          "base_uri": "https://localhost:8080/",
          "height": 300
        },
        "outputId": "b4c48c50-deda-445a-8938-67641efb7081"
      },
      "outputs": [
        {
          "output_type": "display_data",
          "data": {
            "text/plain": [
              "<IPython.core.display.Javascript object>"
            ],
            "application/javascript": [
              "google.colab.output.setIframeHeight(0, true, {maxHeight: 300})"
            ]
          },
          "metadata": {}
        },
        {
          "output_type": "execute_result",
          "data": {
            "text/plain": [
              "<matplotlib.legend.Legend at 0x7fe635222880>"
            ]
          },
          "metadata": {},
          "execution_count": 12
        },
        {
          "output_type": "display_data",
          "data": {
            "text/plain": [
              "<Figure size 1080x432 with 2 Axes>"
            ],
            "image/png": "[encoded data removed]"
          },
          "metadata": {
            "needs_background": "light"
          }
        }
      ],
      "source": [
        "# PLOT THE LEARNING CURVES\n",
        "plt.figure(figsize=(15,6))\n",
        "\n",
        "# LOSS\n",
        "plt.subplot(1, 2, 1)\n",
        "plt.plot(history_modelV01.history['loss'])\n",
        "plt.plot(history_modelV01.history['val_loss'])\n",
        "plt.ylim([0.0, 7.0])\n",
        "plt.title(\"Loss & Val loss Model V01\")\n",
        "plt.xlabel('Epoch')\n",
        "plt.ylabel('Loss')\n",
        "plt.legend(['train', 'valid'])\n",
        "\n",
        "# ACCURACY\n",
        "plt.subplot(1, 2, 2)\n",
        "plt.plot(history_modelV01.history['accuracy'])\n",
        "plt.plot(history_modelV01.history['val_accuracy'])\n",
        "plt.ylim([0.0, 1.0])\n",
        "plt.title(\"Accuracy & Val accuracy Model V01\")\n",
        "plt.xlabel('Epoch')\n",
        "plt.ylabel('Accuracy')\n",
        "plt.legend(['train', 'valid'])"
      ]
    },
    {
      "cell_type": "markdown",
      "metadata": {
        "id": "zsAV8Pb989iU"
      },
      "source": [
        "### Performance results Model V01 and Model Persistence\n",
        "\n",
        "The performance in terms of validation accuracy are not better enough with respect to a dummy classifier."
      ]
    },
    {
      "cell_type": "code",
      "source": [
        "# SAVE THE TIME NEEDED TO RUN THE ALGORITHM\n",
        "time_duration_modelV01 = end - start\n",
        "print(time_duration_modelV01)"
      ],
      "metadata": {
        "id": "f6kopBQFcMp5",
        "colab": {
          "base_uri": "https://localhost:8080/",
          "height": 34
        },
        "outputId": "4768e6cc-5649-4673-a1a6-3935e321bc54"
      },
      "execution_count": null,
      "outputs": [
        {
          "output_type": "display_data",
          "data": {
            "text/plain": [
              "<IPython.core.display.Javascript object>"
            ],
            "application/javascript": [
              "google.colab.output.setIframeHeight(0, true, {maxHeight: 300})"
            ]
          },
          "metadata": {}
        },
        {
          "output_type": "stream",
          "name": "stdout",
          "text": [
            "1:08:51.221825\n"
          ]
        }
      ]
    },
    {
      "cell_type": "code",
      "source": [
        "# GET THE MINIMUM ACCURACY, THE MAXIMUM ACCURACY, THE MINIMUM LOSS, THE MAXIMUM LOSS AND SAVE THEM IN VARIABLES.\n",
        "\n",
        "# LOSS/VAL LOSS\n",
        "modelV01_minLoss = min(history_modelV01.history['loss'])\n",
        "modelV01_maxLoss = max(history_modelV01.history['loss'])\n",
        "modelV01_minValLoss = min(history_modelV01.history['val_loss'])\n",
        "modelV01_maxValLoss = max(history_modelV01.history['val_loss'])\n",
        "\n",
        "# ACCURACY/VAL ACCURACY\n",
        "modelV01_minAccuracy = min(history_modelV01.history['accuracy'])\n",
        "modelV01_maxAccuracy = max(history_modelV01.history['accuracy'])\n",
        "modelV01_minValAccuracy = min(history_modelV01.history['val_accuracy'])\n",
        "modelV01_maxValAccuracy = max(history_modelV01.history['val_accuracy'])\n",
        "\n",
        "# CREATE THE DATAFRAME\n",
        "modelV01_loss_accuracy = pd.DataFrame({\"minLoss\": [modelV01_minLoss],\n",
        "                                       \"maxloss\": [modelV01_maxLoss],\n",
        "                                       \"minValLoss\": [modelV01_minValLoss],\n",
        "                                       \"maxValLoss\": [modelV01_maxValLoss],\n",
        "                                       \"minAccuracy\": [modelV01_minAccuracy],\n",
        "                                       \"maxAccuracy\": [modelV01_maxAccuracy],\n",
        "                                       \"minValAccuracy\": [modelV01_minValAccuracy],\n",
        "                                       \"maxValAccuracy\": [modelV01_maxValAccuracy]}).T\n",
        "\n",
        "# CHANGE THE FIRST COLUMN NAME\n",
        "modelV01_loss_accuracy = modelV01_loss_accuracy.rename(columns={0: 'modelV01'})\n",
        "# CHANGE THE INDEX NAME\n",
        "modelV01_loss_accuracy.index.names = ['Performance']\n",
        "modelV01_loss_accuracy"
      ],
      "metadata": {
        "id": "tPmZNetWmiDp",
        "colab": {
          "base_uri": "https://localhost:8080/",
          "height": 300
        },
        "outputId": "04dd6408-e3af-4e85-c5f0-1bc5bbbdb826"
      },
      "execution_count": null,
      "outputs": [
        {
          "output_type": "display_data",
          "data": {
            "text/plain": [
              "<IPython.core.display.Javascript object>"
            ],
            "application/javascript": [
              "google.colab.output.setIframeHeight(0, true, {maxHeight: 300})"
            ]
          },
          "metadata": {}
        },
        {
          "output_type": "execute_result",
          "data": {
            "text/plain": [
              "                modelV01\n",
              "Performance             \n",
              "minLoss         1.334919\n",
              "maxloss         2.290601\n",
              "minValLoss      1.742101\n",
              "maxValLoss      2.305438\n",
              "minAccuracy     0.119275\n",
              "maxAccuracy     0.564167\n",
              "minValAccuracy  0.066667\n",
              "maxValAccuracy  0.350000"
            ],
            "text/html": [
              "\n",
              "  <div id=\"df-7c2df4b4-f242-47bb-b769-d734ea8c68d5\">\n",
              "    <div class=\"colab-df-container\">\n",
              "      <div>\n",
              "<style scoped>\n",
              "    .dataframe tbody tr th:only-of-type {\n",
              "        vertical-align: middle;\n",
              "    }\n",
              "\n",
              "    .dataframe tbody tr th {\n",
              "        vertical-align: top;\n",
              "    }\n",
              "\n",
              "    .dataframe thead th {\n",
              "        text-align: right;\n",
              "    }\n",
              "</style>\n",
              "<table border=\"1\" class=\"dataframe\">\n",
              "  <thead>\n",
              "    <tr style=\"text-align: right;\">\n",
              "      <th></th>\n",
              "      <th>modelV01</th>\n",
              "    </tr>\n",
              "    <tr>\n",
              "      <th>Performance</th>\n",
              "      <th></th>\n",
              "    </tr>\n",
              "  </thead>\n",
              "  <tbody>\n",
              "    <tr>\n",
              "      <th>minLoss</th>\n",
              "      <td>1.334919</td>\n",
              "    </tr>\n",
              "    <tr>\n",
              "      <th>maxloss</th>\n",
              "      <td>2.290601</td>\n",
              "    </tr>\n",
              "    <tr>\n",
              "      <th>minValLoss</th>\n",
              "      <td>1.742101</td>\n",
              "    </tr>\n",
              "    <tr>\n",
              "      <th>maxValLoss</th>\n",
              "      <td>2.305438</td>\n",
              "    </tr>\n",
              "    <tr>\n",
              "      <th>minAccuracy</th>\n",
              "      <td>0.119275</td>\n",
              "    </tr>\n",
              "    <tr>\n",
              "      <th>maxAccuracy</th>\n",
              "      <td>0.564167</td>\n",
              "    </tr>\n",
              "    <tr>\n",
              "      <th>minValAccuracy</th>\n",
              "      <td>0.066667</td>\n",
              "    </tr>\n",
              "    <tr>\n",
              "      <th>maxValAccuracy</th>\n",
              "      <td>0.350000</td>\n",
              "    </tr>\n",
              "  </tbody>\n",
              "</table>\n",
              "</div>\n",
              "      <button class=\"colab-df-convert\" onclick=\"convertToInteractive('df-7c2df4b4-f242-47bb-b769-d734ea8c68d5')\"\n",
              "              title=\"Convert this dataframe to an interactive table.\"\n",
              "              style=\"display:none;\">\n",
              "        \n",
              "  <svg xmlns=\"http://www.w3.org/2000/svg\" height=\"24px\"viewBox=\"0 0 24 24\"\n",
              "       width=\"24px\">\n",
              "    <path d=\"M0 0h24v24H0V0z\" fill=\"none\"/>\n",
              "    <path d=\"M18.56 5.44l.94 2.06.94-2.06 2.06-.94-2.06-.94-.94-2.06-.94 2.06-2.06.94zm-11 1L8.5 8.5l.94-2.06 2.06-.94-2.06-.94L8.5 2.5l-.94 2.06-2.06.94zm10 10l.94 2.06.94-2.06 2.06-.94-2.06-.94-.94-2.06-.94 2.06-2.06.94z\"/><path d=\"M17.41 7.96l-1.37-1.37c-.4-.4-.92-.59-1.43-.59-.52 0-1.04.2-1.43.59L10.3 9.45l-7.72 7.72c-.78.78-.78 2.05 0 2.83L4 21.41c.39.39.9.59 1.41.59.51 0 1.02-.2 1.41-.59l7.78-7.78 2.81-2.81c.8-.78.8-2.07 0-2.86zM5.41 20L4 18.59l7.72-7.72 1.47 1.35L5.41 20z\"/>\n",
              "  </svg>\n",
              "      </button>\n",
              "      \n",
              "  <style>\n",
              "    .colab-df-container {\n",
              "      display:flex;\n",
              "      flex-wrap:wrap;\n",
              "      gap: 12px;\n",
              "    }\n",
              "\n",
              "    .colab-df-convert {\n",
              "      background-color: #E8F0FE;\n",
              "      border: none;\n",
              "      border-radius: 50%;\n",
              "      cursor: pointer;\n",
              "      display: none;\n",
              "      fill: #1967D2;\n",
              "      height: 32px;\n",
              "      padding: 0 0 0 0;\n",
              "      width: 32px;\n",
              "    }\n",
              "\n",
              "    .colab-df-convert:hover {\n",
              "      background-color: #E2EBFA;\n",
              "      box-shadow: 0px 1px 2px rgba(60, 64, 67, 0.3), 0px 1px 3px 1px rgba(60, 64, 67, 0.15);\n",
              "      fill: #174EA6;\n",
              "    }\n",
              "\n",
              "    [theme=dark] .colab-df-convert {\n",
              "      background-color: #3B4455;\n",
              "      fill: #D2E3FC;\n",
              "    }\n",
              "\n",
              "    [theme=dark] .colab-df-convert:hover {\n",
              "      background-color: #434B5C;\n",
              "      box-shadow: 0px 1px 3px 1px rgba(0, 0, 0, 0.15);\n",
              "      filter: drop-shadow(0px 1px 2px rgba(0, 0, 0, 0.3));\n",
              "      fill: #FFFFFF;\n",
              "    }\n",
              "  </style>\n",
              "\n",
              "      <script>\n",
              "        const buttonEl =\n",
              "          document.querySelector('#df-7c2df4b4-f242-47bb-b769-d734ea8c68d5 button.colab-df-convert');\n",
              "        buttonEl.style.display =\n",
              "          google.colab.kernel.accessAllowed ? 'block' : 'none';\n",
              "\n",
              "        async function convertToInteractive(key) {\n",
              "          const element = document.querySelector('#df-7c2df4b4-f242-47bb-b769-d734ea8c68d5');\n",
              "          const dataTable =\n",
              "            await google.colab.kernel.invokeFunction('convertToInteractive',\n",
              "                                                     [key], {});\n",
              "          if (!dataTable) return;\n",
              "\n",
              "          const docLinkHtml = 'Like what you see? Visit the ' +\n",
              "            '<a target=\"_blank\" href=https://colab.research.google.com/notebooks/data_table.ipynb>data table notebook</a>'\n",
              "            + ' to learn more about interactive tables.';\n",
              "          element.innerHTML = '';\n",
              "          dataTable['output_type'] = 'display_data';\n",
              "          await google.colab.output.renderOutput(dataTable, element);\n",
              "          const docLink = document.createElement('div');\n",
              "          docLink.innerHTML = docLinkHtml;\n",
              "          element.appendChild(docLink);\n",
              "        }\n",
              "      </script>\n",
              "    </div>\n",
              "  </div>\n",
              "  "
            ]
          },
          "metadata": {},
          "execution_count": 14
        }
      ]
    },
    {
      "cell_type": "code",
      "source": [
        "# SAVE THE MODEL V01\n",
        "keras_file_modelV01 = \"/content/gdrive/MyDrive/Data_Science_2020-2022/Secondo_anno_Secondo_Semestre/FoDL_Project/Project_Example_Food/saved_models/modelV01.h5\"\n",
        "tf.keras.models.save_model(net_modelV01, keras_file_modelV01) # MODIFY MODEL WITH YOUR OWN MODEL"
      ],
      "metadata": {
        "id": "wuBWYE3hEEMD",
        "colab": {
          "base_uri": "https://localhost:8080/",
          "height": 17
        },
        "outputId": "e466f77c-c971-4099-9d0b-180f46ab09b6"
      },
      "execution_count": null,
      "outputs": [
        {
          "output_type": "display_data",
          "data": {
            "text/plain": [
              "<IPython.core.display.Javascript object>"
            ],
            "application/javascript": [
              "google.colab.output.setIframeHeight(0, true, {maxHeight: 300})"
            ]
          },
          "metadata": {}
        }
      ]
    },
    {
      "cell_type": "markdown",
      "metadata": {
        "id": "jscA_haNuXFF"
      },
      "source": [
        "## 1.2.2 Model V02 - Model with regularization, Batch normalization and double Dense layer\n",
        "\n",
        "Create the second model to be fed with the image data."
      ]
    },
    {
      "cell_type": "code",
      "execution_count": null,
      "metadata": {
        "colab": {
          "base_uri": "https://localhost:8080/",
          "height": 300
        },
        "id": "yEjqOnwizTlT",
        "outputId": "2a8a94ee-e89c-406f-9a07-6e221ec6ea30"
      },
      "outputs": [
        {
          "output_type": "display_data",
          "data": {
            "text/plain": [
              "<IPython.core.display.Javascript object>"
            ],
            "application/javascript": [
              "google.colab.output.setIframeHeight(0, true, {maxHeight: 300})"
            ]
          },
          "metadata": {}
        },
        {
          "output_type": "stream",
          "name": "stdout",
          "text": [
            "Model: \"model_1\"\n",
            "_________________________________________________________________\n",
            " Layer (type)                Output Shape              Param #   \n",
            "=================================================================\n",
            " input_2 (InputLayer)        [(None, 224, 224, 3)]     0         \n",
            "                                                                 \n",
            " conv2d_2 (Conv2D)           (None, 224, 224, 32)      896       \n",
            "                                                                 \n",
            " batch_normalization (BatchN  (None, 224, 224, 32)     128       \n",
            " ormalization)                                                   \n",
            "                                                                 \n",
            " activation_2 (Activation)   (None, 224, 224, 32)      0         \n",
            "                                                                 \n",
            " max_pooling2d_1 (MaxPooling  (None, 75, 75, 32)       0         \n",
            " 2D)                                                             \n",
            "                                                                 \n",
            " conv2d_3 (Conv2D)           (None, 75, 75, 64)        18496     \n",
            "                                                                 \n",
            " batch_normalization_1 (Batc  (None, 75, 75, 64)       256       \n",
            " hNormalization)                                                 \n",
            "                                                                 \n",
            " activation_3 (Activation)   (None, 75, 75, 64)        0         \n",
            "                                                                 \n",
            " max_pooling2d_2 (MaxPooling  (None, 25, 25, 64)       0         \n",
            " 2D)                                                             \n",
            "                                                                 \n",
            " conv2d_4 (Conv2D)           (None, 25, 25, 128)       73856     \n",
            "                                                                 \n",
            " batch_normalization_2 (Batc  (None, 25, 25, 128)      512       \n",
            " hNormalization)                                                 \n",
            "                                                                 \n",
            " activation_4 (Activation)   (None, 25, 25, 128)       0         \n",
            "                                                                 \n",
            " global_max_pooling2d_1 (Glo  (None, 128)              0         \n",
            " balMaxPooling2D)                                                \n",
            "                                                                 \n",
            " dense_1 (Dense)             (None, 64)                8256      \n",
            "                                                                 \n",
            " dense_2 (Dense)             (None, 10)                650       \n",
            "                                                                 \n",
            "=================================================================\n",
            "Total params: 103,050\n",
            "Trainable params: 102,602\n",
            "Non-trainable params: 448\n",
            "_________________________________________________________________\n"
          ]
        }
      ],
      "source": [
        "# Architecture definition V02\n",
        "inputs = keras.Input((SIZE,SIZE,3))\n",
        "\n",
        "x = inputs\n",
        "x = keras.layers.Conv2D(32, 3, padding=\"same\", kernel_regularizer=tf.keras.regularizers.l2(0.001))(x)\n",
        "x = keras.layers.BatchNormalization()(x)\n",
        "x = keras.layers.Activation(\"relu\")(x)\n",
        "x = keras.layers.MaxPooling2D(3, strides=3, padding=\"same\")(x)\n",
        "\n",
        "x = keras.layers.Conv2D(64, 3, padding=\"same\", kernel_regularizer=tf.keras.regularizers.l2(0.001))(x)\n",
        "x = keras.layers.BatchNormalization()(x)\n",
        "x = keras.layers.Activation(\"relu\")(x)\n",
        "x = keras.layers.MaxPooling2D(3, strides=3, padding=\"same\")(x)\n",
        "\n",
        "x = keras.layers.Conv2D(128, 3, padding=\"same\", kernel_regularizer=tf.keras.regularizers.l2(0.001))(x)\n",
        "x = keras.layers.BatchNormalization()(x)\n",
        "x = keras.layers.Activation(\"relu\")(x)\n",
        "\n",
        "x = keras.layers.GlobalMaxPooling2D()(x)\n",
        "\n",
        "x = keras.layers.Dense(64, activation=\"relu\", kernel_regularizer=tf.keras.regularizers.l2(0.001))(x)\n",
        "\n",
        "outputs = keras.layers.Dense(num_classes, activation=\"softmax\", kernel_regularizer=tf.keras.regularizers.l2(0.001))(x)\n",
        "\n",
        "net_modelV02 = keras.Model(inputs, outputs)\n",
        "\n",
        "net_modelV02.summary()"
      ]
    },
    {
      "cell_type": "code",
      "execution_count": null,
      "metadata": {
        "colab": {
          "base_uri": "https://localhost:8080/",
          "height": 17
        },
        "id": "n0BVFH7ouzD-",
        "outputId": "b9de7963-b9c1-4a84-b693-9a1b92ca0214"
      },
      "outputs": [
        {
          "output_type": "display_data",
          "data": {
            "text/plain": [
              "<IPython.core.display.Javascript object>"
            ],
            "application/javascript": [
              "google.colab.output.setIframeHeight(0, true, {maxHeight: 300})"
            ]
          },
          "metadata": {}
        }
      ],
      "source": [
        "# COMPILE THE MODEL\n",
        "net_modelV02.compile(loss=keras.losses.categorical_crossentropy,\n",
        "            optimizer= keras.optimizers.Adam(learning_rate=0.0001),\n",
        "            metrics=['accuracy'])"
      ]
    },
    {
      "cell_type": "code",
      "source": [
        "# START COUNTING THE TIME\n",
        "start = datetime.datetime.now()\n",
        "\n",
        "# FIT THE MODEL\n",
        "history_modelV02 = net_modelV02.fit(train_generator, \n",
        "                  validation_data = val_generator,\n",
        "                  steps_per_epoch = train_generator.n // train_generator.batch_size,\n",
        "                  validation_steps = val_generator.n // val_generator.batch_size,\n",
        "                  epochs=30,\n",
        "                  callbacks = [callback])\n",
        "\n",
        "# STOP COUNTING THE TIME\n",
        "end = datetime.datetime.now()\n",
        "print(\"Total execution time is: \", end-start)"
      ],
      "metadata": {
        "id": "IT2wZ26rMAgS",
        "colab": {
          "base_uri": "https://localhost:8080/",
          "height": 300
        },
        "outputId": "f672748f-d133-4d12-f42a-570af0f0fd02"
      },
      "execution_count": null,
      "outputs": [
        {
          "output_type": "display_data",
          "data": {
            "text/plain": [
              "<IPython.core.display.Javascript object>"
            ],
            "application/javascript": [
              "google.colab.output.setIframeHeight(0, true, {maxHeight: 300})"
            ]
          },
          "metadata": {}
        },
        {
          "output_type": "stream",
          "name": "stdout",
          "text": [
            "Epoch 1/30\n",
            "125/125 [==============================] - 160s 1s/step - loss: 2.6492 - accuracy: 0.3226 - val_loss: 2.4056 - val_accuracy: 0.1958\n",
            "Epoch 2/30\n",
            "125/125 [==============================] - 156s 1s/step - loss: 1.5098 - accuracy: 0.5989 - val_loss: 2.5417 - val_accuracy: 0.1958\n",
            "Epoch 3/30\n",
            "125/125 [==============================] - 160s 1s/step - loss: 1.2524 - accuracy: 0.6995 - val_loss: 2.4648 - val_accuracy: 0.2000\n",
            "Epoch 4/30\n",
            "125/125 [==============================] - 156s 1s/step - loss: 1.0641 - accuracy: 0.7690 - val_loss: 2.0695 - val_accuracy: 0.3000\n",
            "Epoch 5/30\n",
            "125/125 [==============================] - 159s 1s/step - loss: 0.9479 - accuracy: 0.8138 - val_loss: 1.8683 - val_accuracy: 0.4083\n",
            "Epoch 6/30\n",
            "125/125 [==============================] - 157s 1s/step - loss: 0.8307 - accuracy: 0.8551 - val_loss: 1.5887 - val_accuracy: 0.5583\n",
            "Epoch 7/30\n",
            "125/125 [==============================] - 157s 1s/step - loss: 0.7749 - accuracy: 0.8707 - val_loss: 1.5072 - val_accuracy: 0.5375\n",
            "Epoch 8/30\n",
            "125/125 [==============================] - 157s 1s/step - loss: 0.7102 - accuracy: 0.8968 - val_loss: 1.4991 - val_accuracy: 0.5625\n",
            "Epoch 9/30\n",
            "125/125 [==============================] - 159s 1s/step - loss: 0.6584 - accuracy: 0.9069 - val_loss: 1.5731 - val_accuracy: 0.5208\n",
            "Epoch 10/30\n",
            "125/125 [==============================] - 159s 1s/step - loss: 0.5985 - accuracy: 0.9311 - val_loss: 1.4786 - val_accuracy: 0.5583\n",
            "Epoch 11/30\n",
            "125/125 [==============================] - 157s 1s/step - loss: 0.5587 - accuracy: 0.9436 - val_loss: 1.4657 - val_accuracy: 0.5583\n",
            "Epoch 12/30\n",
            "125/125 [==============================] - 159s 1s/step - loss: 0.5146 - accuracy: 0.9577 - val_loss: 1.4299 - val_accuracy: 0.5542\n",
            "Epoch 13/30\n",
            "125/125 [==============================] - 157s 1s/step - loss: 0.4815 - accuracy: 0.9663 - val_loss: 1.4734 - val_accuracy: 0.5458\n",
            "Epoch 14/30\n",
            "125/125 [==============================] - 175s 1s/step - loss: 0.4536 - accuracy: 0.9688 - val_loss: 1.4958 - val_accuracy: 0.5375\n",
            "Epoch 15/30\n",
            "125/125 [==============================] - 157s 1s/step - loss: 0.4243 - accuracy: 0.9814 - val_loss: 1.3968 - val_accuracy: 0.6000\n",
            "Epoch 16/30\n",
            "125/125 [==============================] - 156s 1s/step - loss: 0.3937 - accuracy: 0.9879 - val_loss: 1.3849 - val_accuracy: 0.5917\n",
            "Epoch 17/30\n",
            "125/125 [==============================] - 160s 1s/step - loss: 0.3787 - accuracy: 0.9884 - val_loss: 1.4095 - val_accuracy: 0.5833\n",
            "Epoch 18/30\n",
            "125/125 [==============================] - 158s 1s/step - loss: 0.3653 - accuracy: 0.9899 - val_loss: 1.3925 - val_accuracy: 0.6083\n",
            "Epoch 19/30\n",
            "125/125 [==============================] - 161s 1s/step - loss: 0.3450 - accuracy: 0.9950 - val_loss: 1.3630 - val_accuracy: 0.6417\n",
            "Epoch 20/30\n",
            "125/125 [==============================] - 159s 1s/step - loss: 0.3297 - accuracy: 0.9975 - val_loss: 1.3860 - val_accuracy: 0.6125\n",
            "Epoch 21/30\n",
            "125/125 [==============================] - 163s 1s/step - loss: 0.3228 - accuracy: 0.9945 - val_loss: 1.4017 - val_accuracy: 0.5833\n",
            "Epoch 22/30\n",
            "125/125 [==============================] - 159s 1s/step - loss: 0.3127 - accuracy: 0.9985 - val_loss: 1.3459 - val_accuracy: 0.6208\n",
            "Epoch 23/30\n",
            "125/125 [==============================] - 160s 1s/step - loss: 0.2978 - accuracy: 0.9995 - val_loss: 1.3861 - val_accuracy: 0.6125\n",
            "Epoch 24/30\n",
            "125/125 [==============================] - 158s 1s/step - loss: 0.2884 - accuracy: 0.9985 - val_loss: 1.4055 - val_accuracy: 0.6083\n",
            "Epoch 25/30\n",
            "125/125 [==============================] - 162s 1s/step - loss: 0.2820 - accuracy: 0.9975 - val_loss: 1.3568 - val_accuracy: 0.6250\n",
            "Epoch 26/30\n",
            "125/125 [==============================] - 158s 1s/step - loss: 0.2725 - accuracy: 0.9995 - val_loss: 1.3888 - val_accuracy: 0.6083\n",
            "Epoch 27/30\n",
            "125/125 [==============================] - 158s 1s/step - loss: 0.2670 - accuracy: 0.9985 - val_loss: 1.3872 - val_accuracy: 0.5917\n",
            "Epoch 28/30\n",
            "125/125 [==============================] - 158s 1s/step - loss: 0.2667 - accuracy: 0.9995 - val_loss: 1.3418 - val_accuracy: 0.6167\n",
            "Epoch 29/30\n",
            "125/125 [==============================] - 160s 1s/step - loss: 0.2583 - accuracy: 1.0000 - val_loss: 1.3167 - val_accuracy: 0.6417\n",
            "Epoch 30/30\n",
            "125/125 [==============================] - 160s 1s/step - loss: 0.2540 - accuracy: 0.9995 - val_loss: 1.3932 - val_accuracy: 0.6042\n",
            "Total execution time is:  1:32:19.577008\n"
          ]
        }
      ]
    },
    {
      "cell_type": "code",
      "execution_count": null,
      "metadata": {
        "colab": {
          "base_uri": "https://localhost:8080/",
          "height": 300
        },
        "id": "eFyJY2zHEo6v",
        "outputId": "8870af94-6434-48a1-c80f-74bd6b700d70"
      },
      "outputs": [
        {
          "output_type": "display_data",
          "data": {
            "text/plain": [
              "<IPython.core.display.Javascript object>"
            ],
            "application/javascript": [
              "google.colab.output.setIframeHeight(0, true, {maxHeight: 300})"
            ]
          },
          "metadata": {}
        },
        {
          "output_type": "execute_result",
          "data": {
            "text/plain": [
              "<matplotlib.legend.Legend at 0x7fe6348d2fd0>"
            ]
          },
          "metadata": {},
          "execution_count": 19
        },
        {
          "output_type": "display_data",
          "data": {
            "text/plain": [
              "<Figure size 1080x432 with 2 Axes>"
            ],
            "image/png": "[encoded data removed]"
          },
          "metadata": {
            "needs_background": "light"
          }
        }
      ],
      "source": [
        "# PLOT THEM TOGETHER\n",
        "# Visualization of the learning curves\n",
        "plt.figure(figsize=(15,6))\n",
        "\n",
        "plt.subplot(1, 2, 1)\n",
        "plt.plot(history_modelV02.history['loss'])\n",
        "plt.plot(history_modelV02.history['val_loss'])\n",
        "plt.ylim([0.0, 3.0])\n",
        "plt.title(\"Loss & Val loss Model V02\")\n",
        "plt.xlabel('Epoch')\n",
        "plt.ylabel('Loss')\n",
        "plt.legend(['train', 'valid'])\n",
        "\n",
        "plt.subplot(1, 2, 2)\n",
        "plt.plot(history_modelV02.history['accuracy'])\n",
        "plt.plot(history_modelV02.history['val_accuracy'])\n",
        "plt.ylim([0.0, 1.0])\n",
        "plt.title(\"Accuracy & Val accuracy Model V02\")\n",
        "plt.xlabel('Epoch')\n",
        "plt.ylabel('Accuracy')\n",
        "plt.legend(['train', 'valid'])"
      ]
    },
    {
      "cell_type": "markdown",
      "metadata": {
        "id": "VXn9rjr686As"
      },
      "source": [
        "### Performance results Model V02 and Model Persistence\n",
        "\n",
        "The model performs sligthly better than the first one, but not enough to be used as a final classifier. The validation accuracy is too low and the model heavily underfit the data on the training set."
      ]
    },
    {
      "cell_type": "code",
      "source": [
        "# SAVE THE TIME NEEDED TO RUN THE ALGORITHM\n",
        "time_duration_modelV02 = end - start\n",
        "print(time_duration_modelV02)"
      ],
      "metadata": {
        "id": "NcuAZFJFcr7O",
        "colab": {
          "base_uri": "https://localhost:8080/",
          "height": 34
        },
        "outputId": "9fe5f4de-0a18-44e8-937b-4fa8346422b1"
      },
      "execution_count": null,
      "outputs": [
        {
          "output_type": "display_data",
          "data": {
            "text/plain": [
              "<IPython.core.display.Javascript object>"
            ],
            "application/javascript": [
              "google.colab.output.setIframeHeight(0, true, {maxHeight: 300})"
            ]
          },
          "metadata": {}
        },
        {
          "output_type": "stream",
          "name": "stdout",
          "text": [
            "1:32:19.577008\n"
          ]
        }
      ]
    },
    {
      "cell_type": "code",
      "source": [
        "# GET THE MINIMUM ACCURACY, THE MAXIMUM ACCURACY, THE MINIMUM LOSS, THE MAXIMUM LOSS AND SAVE THEM IN VARIABLES.\n",
        "\n",
        "# LOSS/VAL LOSS\n",
        "modelV02_minLoss = min(history_modelV02.history['loss'])\n",
        "modelV02_maxLoss = max(history_modelV02.history['loss'])\n",
        "modelV02_minValLoss = min(history_modelV02.history['val_loss'])\n",
        "modelV02_maxValLoss = max(history_modelV02.history['val_loss'])\n",
        "\n",
        "# ACCURACY/VAL ACCURACY\n",
        "modelV02_minAccuracy = min(history_modelV02.history['accuracy'])\n",
        "modelV02_maxAccuracy = max(history_modelV02.history['accuracy'])\n",
        "modelV02_minValAccuracy = min(history_modelV02.history['val_accuracy'])\n",
        "modelV02_maxValAccuracy = max(history_modelV02.history['val_accuracy'])\n",
        "\n",
        "# CREATE THE DATAFRAME\n",
        "modelV02_loss_accuracy = pd.DataFrame({\"minLoss\": [modelV02_minLoss],\n",
        "                                       \"maxloss\": [modelV02_maxLoss],\n",
        "                                       \"minValLoss\": [modelV02_minValLoss],\n",
        "                                       \"maxValLoss\": [modelV02_maxValLoss],\n",
        "                                       \"minAccuracy\": [modelV02_minAccuracy],\n",
        "                                       \"maxAccuracy\": [modelV02_maxAccuracy],\n",
        "                                       \"minValAccuracy\": [modelV02_minValAccuracy],\n",
        "                                       \"maxValAccuracy\": [modelV02_maxValAccuracy]}).T\n",
        "\n",
        "# CHANGE THE FIRST COLUMN NAME\n",
        "modelV02_loss_accuracy = modelV02_loss_accuracy.rename(columns={0: 'modelV02'})\n",
        "# CHANGE THE INDEX NAME\n",
        "modelV02_loss_accuracy.index.names = ['Performance']\n",
        "modelV02_loss_accuracy"
      ],
      "metadata": {
        "id": "OFdh7xW2mQQr",
        "colab": {
          "base_uri": "https://localhost:8080/",
          "height": 300
        },
        "outputId": "99a951e4-0a71-4274-da22-69301562b033"
      },
      "execution_count": null,
      "outputs": [
        {
          "output_type": "display_data",
          "data": {
            "text/plain": [
              "<IPython.core.display.Javascript object>"
            ],
            "application/javascript": [
              "google.colab.output.setIframeHeight(0, true, {maxHeight: 300})"
            ]
          },
          "metadata": {}
        },
        {
          "output_type": "execute_result",
          "data": {
            "text/plain": [
              "                modelV02\n",
              "Performance             \n",
              "minLoss         0.254020\n",
              "maxloss         2.649243\n",
              "minValLoss      1.316684\n",
              "maxValLoss      2.541699\n",
              "minAccuracy     0.322597\n",
              "maxAccuracy     1.000000\n",
              "minValAccuracy  0.195833\n",
              "maxValAccuracy  0.641667"
            ],
            "text/html": [
              "\n",
              "  <div id=\"df-73d73ae2-f3af-4d42-89e5-4c3d89f98d49\">\n",
              "    <div class=\"colab-df-container\">\n",
              "      <div>\n",
              "<style scoped>\n",
              "    .dataframe tbody tr th:only-of-type {\n",
              "        vertical-align: middle;\n",
              "    }\n",
              "\n",
              "    .dataframe tbody tr th {\n",
              "        vertical-align: top;\n",
              "    }\n",
              "\n",
              "    .dataframe thead th {\n",
              "        text-align: right;\n",
              "    }\n",
              "</style>\n",
              "<table border=\"1\" class=\"dataframe\">\n",
              "  <thead>\n",
              "    <tr style=\"text-align: right;\">\n",
              "      <th></th>\n",
              "      <th>modelV02</th>\n",
              "    </tr>\n",
              "    <tr>\n",
              "      <th>Performance</th>\n",
              "      <th></th>\n",
              "    </tr>\n",
              "  </thead>\n",
              "  <tbody>\n",
              "    <tr>\n",
              "      <th>minLoss</th>\n",
              "      <td>0.254020</td>\n",
              "    </tr>\n",
              "    <tr>\n",
              "      <th>maxloss</th>\n",
              "      <td>2.649243</td>\n",
              "    </tr>\n",
              "    <tr>\n",
              "      <th>minValLoss</th>\n",
              "      <td>1.316684</td>\n",
              "    </tr>\n",
              "    <tr>\n",
              "      <th>maxValLoss</th>\n",
              "      <td>2.541699</td>\n",
              "    </tr>\n",
              "    <tr>\n",
              "      <th>minAccuracy</th>\n",
              "      <td>0.322597</td>\n",
              "    </tr>\n",
              "    <tr>\n",
              "      <th>maxAccuracy</th>\n",
              "      <td>1.000000</td>\n",
              "    </tr>\n",
              "    <tr>\n",
              "      <th>minValAccuracy</th>\n",
              "      <td>0.195833</td>\n",
              "    </tr>\n",
              "    <tr>\n",
              "      <th>maxValAccuracy</th>\n",
              "      <td>0.641667</td>\n",
              "    </tr>\n",
              "  </tbody>\n",
              "</table>\n",
              "</div>\n",
              "      <button class=\"colab-df-convert\" onclick=\"convertToInteractive('df-73d73ae2-f3af-4d42-89e5-4c3d89f98d49')\"\n",
              "              title=\"Convert this dataframe to an interactive table.\"\n",
              "              style=\"display:none;\">\n",
              "        \n",
              "  <svg xmlns=\"http://www.w3.org/2000/svg\" height=\"24px\"viewBox=\"0 0 24 24\"\n",
              "       width=\"24px\">\n",
              "    <path d=\"M0 0h24v24H0V0z\" fill=\"none\"/>\n",
              "    <path d=\"M18.56 5.44l.94 2.06.94-2.06 2.06-.94-2.06-.94-.94-2.06-.94 2.06-2.06.94zm-11 1L8.5 8.5l.94-2.06 2.06-.94-2.06-.94L8.5 2.5l-.94 2.06-2.06.94zm10 10l.94 2.06.94-2.06 2.06-.94-2.06-.94-.94-2.06-.94 2.06-2.06.94z\"/><path d=\"M17.41 7.96l-1.37-1.37c-.4-.4-.92-.59-1.43-.59-.52 0-1.04.2-1.43.59L10.3 9.45l-7.72 7.72c-.78.78-.78 2.05 0 2.83L4 21.41c.39.39.9.59 1.41.59.51 0 1.02-.2 1.41-.59l7.78-7.78 2.81-2.81c.8-.78.8-2.07 0-2.86zM5.41 20L4 18.59l7.72-7.72 1.47 1.35L5.41 20z\"/>\n",
              "  </svg>\n",
              "      </button>\n",
              "      \n",
              "  <style>\n",
              "    .colab-df-container {\n",
              "      display:flex;\n",
              "      flex-wrap:wrap;\n",
              "      gap: 12px;\n",
              "    }\n",
              "\n",
              "    .colab-df-convert {\n",
              "      background-color: #E8F0FE;\n",
              "      border: none;\n",
              "      border-radius: 50%;\n",
              "      cursor: pointer;\n",
              "      display: none;\n",
              "      fill: #1967D2;\n",
              "      height: 32px;\n",
              "      padding: 0 0 0 0;\n",
              "      width: 32px;\n",
              "    }\n",
              "\n",
              "    .colab-df-convert:hover {\n",
              "      background-color: #E2EBFA;\n",
              "      box-shadow: 0px 1px 2px rgba(60, 64, 67, 0.3), 0px 1px 3px 1px rgba(60, 64, 67, 0.15);\n",
              "      fill: #174EA6;\n",
              "    }\n",
              "\n",
              "    [theme=dark] .colab-df-convert {\n",
              "      background-color: #3B4455;\n",
              "      fill: #D2E3FC;\n",
              "    }\n",
              "\n",
              "    [theme=dark] .colab-df-convert:hover {\n",
              "      background-color: #434B5C;\n",
              "      box-shadow: 0px 1px 3px 1px rgba(0, 0, 0, 0.15);\n",
              "      filter: drop-shadow(0px 1px 2px rgba(0, 0, 0, 0.3));\n",
              "      fill: #FFFFFF;\n",
              "    }\n",
              "  </style>\n",
              "\n",
              "      <script>\n",
              "        const buttonEl =\n",
              "          document.querySelector('#df-73d73ae2-f3af-4d42-89e5-4c3d89f98d49 button.colab-df-convert');\n",
              "        buttonEl.style.display =\n",
              "          google.colab.kernel.accessAllowed ? 'block' : 'none';\n",
              "\n",
              "        async function convertToInteractive(key) {\n",
              "          const element = document.querySelector('#df-73d73ae2-f3af-4d42-89e5-4c3d89f98d49');\n",
              "          const dataTable =\n",
              "            await google.colab.kernel.invokeFunction('convertToInteractive',\n",
              "                                                     [key], {});\n",
              "          if (!dataTable) return;\n",
              "\n",
              "          const docLinkHtml = 'Like what you see? Visit the ' +\n",
              "            '<a target=\"_blank\" href=https://colab.research.google.com/notebooks/data_table.ipynb>data table notebook</a>'\n",
              "            + ' to learn more about interactive tables.';\n",
              "          element.innerHTML = '';\n",
              "          dataTable['output_type'] = 'display_data';\n",
              "          await google.colab.output.renderOutput(dataTable, element);\n",
              "          const docLink = document.createElement('div');\n",
              "          docLink.innerHTML = docLinkHtml;\n",
              "          element.appendChild(docLink);\n",
              "        }\n",
              "      </script>\n",
              "    </div>\n",
              "  </div>\n",
              "  "
            ]
          },
          "metadata": {},
          "execution_count": 21
        }
      ]
    },
    {
      "cell_type": "code",
      "source": [
        "# SAVE THE MODEL V02\n",
        "keras_file_modelV02 = \"/content/gdrive/MyDrive/Data_Science_2020-2022/Secondo_anno_Secondo_Semestre/FoDL_Project/Project_Example_Food/saved_models/modelV02.h5\"\n",
        "tf.keras.models.save_model(net_modelV02, keras_file_modelV02) # MODIFY MODEL WITH YOUR OWN MODEL"
      ],
      "metadata": {
        "id": "uDjrAelREKK2",
        "colab": {
          "base_uri": "https://localhost:8080/",
          "height": 17
        },
        "outputId": "1663743b-5601-4827-adf2-3bdd22849938"
      },
      "execution_count": null,
      "outputs": [
        {
          "output_type": "display_data",
          "data": {
            "text/plain": [
              "<IPython.core.display.Javascript object>"
            ],
            "application/javascript": [
              "google.colab.output.setIframeHeight(0, true, {maxHeight: 300})"
            ]
          },
          "metadata": {}
        }
      ]
    },
    {
      "cell_type": "markdown",
      "metadata": {
        "id": "x-fbROCI0UT7"
      },
      "source": [
        "## 1.2.3 Model V03 - Training the model with Data Agmentation from keras (regularization and dropout)\n",
        "\n",
        "Create the third model to be fed with the image data."
      ]
    },
    {
      "cell_type": "code",
      "execution_count": null,
      "metadata": {
        "colab": {
          "base_uri": "https://localhost:8080/",
          "height": 52
        },
        "id": "4wEPGZRy0OQh",
        "outputId": "67822129-26b2-4a0f-bad9-afab3616bf42"
      },
      "outputs": [
        {
          "output_type": "display_data",
          "data": {
            "text/plain": [
              "<IPython.core.display.Javascript object>"
            ],
            "application/javascript": [
              "google.colab.output.setIframeHeight(0, true, {maxHeight: 300})"
            ]
          },
          "metadata": {}
        },
        {
          "output_type": "stream",
          "name": "stdout",
          "text": [
            "Found 2003 images belonging to 10 classes.\n",
            "Found 242 images belonging to 10 classes.\n"
          ]
        }
      ],
      "source": [
        "# DATA AUGMENTATION ONLY ON THE TRAINING SET\n",
        "train_datagen = ImageDataGenerator(\n",
        "        rescale=1./255,\n",
        "        shear_range=0.2,\n",
        "        zoom_range=0.1,\n",
        "        horizontal_flip=True,\n",
        "        width_shift_range=0.1,  # randomly shift images horizontally (fraction of total width)\n",
        "        height_shift_range=0.1, # randomly shift images vertically (fraction of total height))\n",
        "        rotation_range=45,\n",
        "        fill_mode='nearest') \n",
        "\n",
        "# this is the augmentation configuration we will use for testing:\n",
        "# only rescaling\n",
        "val_datagen = ImageDataGenerator(rescale=1./255) \n",
        "\n",
        "# this is a generator that will read pictures found in\n",
        "# subfolers of 'data/train', and indefinitely generate\n",
        "# batches of augmented image data\n",
        "train_generator = train_datagen.flow_from_directory(\n",
        "    base_path_train,\n",
        "    target_size=(SIZE,SIZE),\n",
        "    batch_size=batch_size,\n",
        "    shuffle=True,\n",
        "    class_mode=\"categorical\",\n",
        "    seed = SEED_VALUE)\n",
        "\n",
        "val_generator = val_datagen.flow_from_directory(\n",
        "    base_path_val,\n",
        "    target_size=(SIZE,SIZE),\n",
        "    batch_size=batch_size,\n",
        "    shuffle=False,\n",
        "    class_mode=\"categorical\",\n",
        "    seed = SEED_VALUE)"
      ]
    },
    {
      "cell_type": "code",
      "execution_count": null,
      "metadata": {
        "id": "ITUAWD7Rt4Cm",
        "colab": {
          "base_uri": "https://localhost:8080/",
          "height": 300
        },
        "outputId": "3b893d90-109b-4814-f2a3-8feabd275e8b"
      },
      "outputs": [
        {
          "output_type": "display_data",
          "data": {
            "text/plain": [
              "<IPython.core.display.Javascript object>"
            ],
            "application/javascript": [
              "google.colab.output.setIframeHeight(0, true, {maxHeight: 300})"
            ]
          },
          "metadata": {}
        },
        {
          "output_type": "stream",
          "name": "stdout",
          "text": [
            "Model: \"model\"\n",
            "_________________________________________________________________\n",
            " Layer (type)                Output Shape              Param #   \n",
            "=================================================================\n",
            " input_1 (InputLayer)        [(None, 224, 224, 3)]     0         \n",
            "                                                                 \n",
            " conv2d (Conv2D)             (None, 224, 224, 32)      896       \n",
            "                                                                 \n",
            " batch_normalization (BatchN  (None, 224, 224, 32)     128       \n",
            " ormalization)                                                   \n",
            "                                                                 \n",
            " activation (Activation)     (None, 224, 224, 32)      0         \n",
            "                                                                 \n",
            " max_pooling2d (MaxPooling2D  (None, 75, 75, 32)       0         \n",
            " )                                                               \n",
            "                                                                 \n",
            " conv2d_1 (Conv2D)           (None, 75, 75, 64)        18496     \n",
            "                                                                 \n",
            " batch_normalization_1 (Batc  (None, 75, 75, 64)       256       \n",
            " hNormalization)                                                 \n",
            "                                                                 \n",
            " activation_1 (Activation)   (None, 75, 75, 64)        0         \n",
            "                                                                 \n",
            " max_pooling2d_1 (MaxPooling  (None, 25, 25, 64)       0         \n",
            " 2D)                                                             \n",
            "                                                                 \n",
            " conv2d_2 (Conv2D)           (None, 25, 25, 128)       73856     \n",
            "                                                                 \n",
            " batch_normalization_2 (Batc  (None, 25, 25, 128)      512       \n",
            " hNormalization)                                                 \n",
            "                                                                 \n",
            " activation_2 (Activation)   (None, 25, 25, 128)       0         \n",
            "                                                                 \n",
            " max_pooling2d_2 (MaxPooling  (None, 9, 9, 128)        0         \n",
            " 2D)                                                             \n",
            "                                                                 \n",
            " conv2d_3 (Conv2D)           (None, 9, 9, 128)         147584    \n",
            "                                                                 \n",
            " batch_normalization_3 (Batc  (None, 9, 9, 128)        512       \n",
            " hNormalization)                                                 \n",
            "                                                                 \n",
            " activation_3 (Activation)   (None, 9, 9, 128)         0         \n",
            "                                                                 \n",
            " max_pooling2d_3 (MaxPooling  (None, 3, 3, 128)        0         \n",
            " 2D)                                                             \n",
            "                                                                 \n",
            " conv2d_4 (Conv2D)           (None, 3, 3, 512)         590336    \n",
            "                                                                 \n",
            " batch_normalization_4 (Batc  (None, 3, 3, 512)        2048      \n",
            " hNormalization)                                                 \n",
            "                                                                 \n",
            " activation_4 (Activation)   (None, 3, 3, 512)         0         \n",
            "                                                                 \n",
            " global_max_pooling2d (Globa  (None, 512)              0         \n",
            " lMaxPooling2D)                                                  \n",
            "                                                                 \n",
            " flatten (Flatten)           (None, 512)               0         \n",
            "                                                                 \n",
            " dropout (Dropout)           (None, 512)               0         \n",
            "                                                                 \n",
            " dense (Dense)               (None, 512)               262656    \n",
            "                                                                 \n",
            " dense_1 (Dense)             (None, 10)                5130      \n",
            "                                                                 \n",
            "=================================================================\n",
            "Total params: 1,102,410\n",
            "Trainable params: 1,100,682\n",
            "Non-trainable params: 1,728\n",
            "_________________________________________________________________\n"
          ]
        }
      ],
      "source": [
        "# ARCHITECTURE DEFINITION FOR MODEL V03\n",
        "inputs = keras.Input((SIZE,SIZE,3))\n",
        "\n",
        "x = inputs\n",
        "\n",
        "x = keras.layers.Conv2D(32, 3, padding=\"same\", kernel_initializer=\"he_uniform\", kernel_regularizer=tf.keras.regularizers.l2(0.001))(x)\n",
        "x = keras.layers.BatchNormalization()(x)\n",
        "x = keras.layers.Activation(\"relu\")(x)\n",
        "x = keras.layers.MaxPooling2D(3, strides=3, padding=\"same\")(x)\n",
        "\n",
        "x = keras.layers.Conv2D(64, 3, padding=\"same\", kernel_initializer=\"he_uniform\", kernel_regularizer=tf.keras.regularizers.l2(0.001))(x)\n",
        "x = keras.layers.BatchNormalization()(x)\n",
        "x = keras.layers.Activation(\"relu\")(x)\n",
        "x = keras.layers.MaxPooling2D(3, strides=3, padding=\"same\")(x)\n",
        "\n",
        "x = keras.layers.Conv2D(128, 3, padding=\"same\", kernel_initializer=\"he_uniform\", kernel_regularizer=tf.keras.regularizers.l2(0.001))(x)\n",
        "x = keras.layers.BatchNormalization()(x)\n",
        "x = keras.layers.Activation(\"relu\")(x)\n",
        "x = keras.layers.MaxPooling2D(3, strides=3, padding=\"same\")(x)\n",
        "\n",
        "x = keras.layers.Conv2D(128, 3, padding=\"same\", kernel_initializer=\"he_uniform\", kernel_regularizer=tf.keras.regularizers.l2(0.001))(x)\n",
        "x = keras.layers.BatchNormalization()(x)\n",
        "x = keras.layers.Activation(\"relu\")(x)\n",
        "x = keras.layers.MaxPooling2D(3, strides=3, padding=\"same\")(x)\n",
        "\n",
        "x = keras.layers.Conv2D(512, 3, padding=\"same\", kernel_initializer=\"he_uniform\", kernel_regularizer=tf.keras.regularizers.l2(0.001))(x)\n",
        "x = keras.layers.BatchNormalization()(x)\n",
        "x = keras.layers.Activation(\"relu\")(x)\n",
        "x = keras.layers.GlobalMaxPooling2D()(x)\n",
        "\n",
        "# ADD FLATTEN LAYER\n",
        "x = tf.keras.layers.Flatten()(x)\n",
        "# ADD DROPOUT LAYER\n",
        "x = keras.layers.Dropout(.15)(x)\n",
        "\n",
        "x = keras.layers.Dense(512, activation=\"relu\", kernel_regularizer=tf.keras.regularizers.l2(0.001))(x)\n",
        "\n",
        "outputs = keras.layers.Dense(num_classes, activation=\"softmax\", kernel_regularizer=tf.keras.regularizers.l2(0.001))(x)\n",
        "\n",
        "net_modelV03 = keras.Model(inputs, outputs)\n",
        "\n",
        "# PRINT THE SUMMARY\n",
        "net_modelV03.summary()"
      ]
    },
    {
      "cell_type": "code",
      "execution_count": null,
      "metadata": {
        "id": "eW5lub6TwUuo",
        "colab": {
          "base_uri": "https://localhost:8080/",
          "height": 17
        },
        "outputId": "c976539b-6ea1-4501-83c4-1e9c9680175b"
      },
      "outputs": [
        {
          "output_type": "display_data",
          "data": {
            "text/plain": [
              "<IPython.core.display.Javascript object>"
            ],
            "application/javascript": [
              "google.colab.output.setIframeHeight(0, true, {maxHeight: 300})"
            ]
          },
          "metadata": {}
        }
      ],
      "source": [
        "# COMPILE THE MODEL\n",
        "net_modelV03.compile(loss=keras.losses.categorical_crossentropy,\n",
        "            optimizer= keras.optimizers.Adam(learning_rate=0.0001),\n",
        "            metrics=['accuracy'])"
      ]
    },
    {
      "cell_type": "code",
      "execution_count": null,
      "metadata": {
        "id": "npw4dDJvwUsZ",
        "colab": {
          "base_uri": "https://localhost:8080/",
          "height": 300
        },
        "outputId": "a18e00c8-a0cf-477a-f5a8-d76ed3bb75be"
      },
      "outputs": [
        {
          "output_type": "display_data",
          "data": {
            "text/plain": [
              "<IPython.core.display.Javascript object>"
            ],
            "application/javascript": [
              "google.colab.output.setIframeHeight(0, true, {maxHeight: 300})"
            ]
          },
          "metadata": {}
        },
        {
          "output_type": "stream",
          "name": "stdout",
          "text": [
            "Epoch 1/30\n",
            "125/125 [==============================] - 1665s 13s/step - loss: 3.9601 - accuracy: 0.4112 - val_loss: 4.9358 - val_accuracy: 0.0417\n",
            "Epoch 2/30\n",
            "125/125 [==============================] - 28s 222ms/step - loss: 3.4219 - accuracy: 0.5954 - val_loss: 4.4593 - val_accuracy: 0.2000\n",
            "Epoch 3/30\n",
            "125/125 [==============================] - 28s 220ms/step - loss: 3.1710 - accuracy: 0.6764 - val_loss: 3.8786 - val_accuracy: 0.4250\n",
            "Epoch 4/30\n",
            "125/125 [==============================] - 28s 221ms/step - loss: 3.0158 - accuracy: 0.7292 - val_loss: 3.3308 - val_accuracy: 0.5792\n",
            "Epoch 5/30\n",
            "125/125 [==============================] - 29s 231ms/step - loss: 2.9339 - accuracy: 0.7554 - val_loss: 3.3604 - val_accuracy: 0.5542\n",
            "Epoch 6/30\n",
            "125/125 [==============================] - 28s 221ms/step - loss: 2.8408 - accuracy: 0.7675 - val_loss: 3.4254 - val_accuracy: 0.5500\n",
            "Epoch 7/30\n",
            "125/125 [==============================] - 27s 219ms/step - loss: 2.7515 - accuracy: 0.8012 - val_loss: 3.4925 - val_accuracy: 0.5458\n",
            "Epoch 8/30\n",
            "125/125 [==============================] - 28s 220ms/step - loss: 2.7211 - accuracy: 0.7947 - val_loss: 3.2090 - val_accuracy: 0.6083\n",
            "Epoch 9/30\n",
            "125/125 [==============================] - 27s 218ms/step - loss: 2.6384 - accuracy: 0.8213 - val_loss: 3.4097 - val_accuracy: 0.5458\n",
            "Epoch 10/30\n",
            "125/125 [==============================] - 27s 220ms/step - loss: 2.5752 - accuracy: 0.8334 - val_loss: 3.1794 - val_accuracy: 0.6083\n",
            "Epoch 11/30\n",
            "125/125 [==============================] - 33s 264ms/step - loss: 2.5156 - accuracy: 0.8621 - val_loss: 3.1468 - val_accuracy: 0.6167\n",
            "Epoch 12/30\n",
            "125/125 [==============================] - 32s 252ms/step - loss: 2.4796 - accuracy: 0.8586 - val_loss: 3.1394 - val_accuracy: 0.6292\n",
            "Epoch 13/30\n",
            "125/125 [==============================] - 29s 229ms/step - loss: 2.4641 - accuracy: 0.8546 - val_loss: 3.2036 - val_accuracy: 0.6500\n",
            "Epoch 14/30\n",
            "125/125 [==============================] - 27s 219ms/step - loss: 2.4032 - accuracy: 0.8777 - val_loss: 3.0743 - val_accuracy: 0.7167\n",
            "Epoch 15/30\n",
            "125/125 [==============================] - 27s 219ms/step - loss: 2.3797 - accuracy: 0.8767 - val_loss: 2.9230 - val_accuracy: 0.7292\n",
            "Epoch 16/30\n",
            "125/125 [==============================] - 27s 219ms/step - loss: 2.3560 - accuracy: 0.8792 - val_loss: 2.9973 - val_accuracy: 0.6333\n",
            "Epoch 17/30\n",
            "125/125 [==============================] - 28s 223ms/step - loss: 2.3318 - accuracy: 0.8757 - val_loss: 3.0124 - val_accuracy: 0.6667\n",
            "Epoch 18/30\n",
            "125/125 [==============================] - 27s 218ms/step - loss: 2.2893 - accuracy: 0.8953 - val_loss: 2.8493 - val_accuracy: 0.7500\n",
            "Epoch 19/30\n",
            "125/125 [==============================] - 27s 217ms/step - loss: 2.2166 - accuracy: 0.9200 - val_loss: 2.9834 - val_accuracy: 0.7042\n",
            "Epoch 20/30\n",
            "125/125 [==============================] - 29s 231ms/step - loss: 2.2023 - accuracy: 0.9064 - val_loss: 2.7653 - val_accuracy: 0.7333\n",
            "Epoch 21/30\n",
            "125/125 [==============================] - 27s 218ms/step - loss: 2.1932 - accuracy: 0.9029 - val_loss: 2.9562 - val_accuracy: 0.6833\n",
            "Epoch 22/30\n",
            "125/125 [==============================] - 27s 218ms/step - loss: 2.1876 - accuracy: 0.9079 - val_loss: 2.9204 - val_accuracy: 0.6667\n",
            "Epoch 23/30\n",
            "125/125 [==============================] - 27s 217ms/step - loss: 2.1268 - accuracy: 0.9149 - val_loss: 2.8596 - val_accuracy: 0.7083\n",
            "Epoch 24/30\n",
            "125/125 [==============================] - 27s 219ms/step - loss: 2.1251 - accuracy: 0.9185 - val_loss: 2.7833 - val_accuracy: 0.7417\n",
            "Epoch 25/30\n",
            "125/125 [==============================] - 27s 219ms/step - loss: 2.0868 - accuracy: 0.9155 - val_loss: 3.0397 - val_accuracy: 0.6958\n",
            "Epoch 26/30\n",
            "125/125 [==============================] - 27s 219ms/step - loss: 2.0537 - accuracy: 0.9270 - val_loss: 2.6839 - val_accuracy: 0.7417\n",
            "Epoch 27/30\n",
            "125/125 [==============================] - 27s 219ms/step - loss: 2.0555 - accuracy: 0.9200 - val_loss: 2.9361 - val_accuracy: 0.6708\n",
            "Epoch 28/30\n",
            "125/125 [==============================] - 28s 226ms/step - loss: 2.0737 - accuracy: 0.9129 - val_loss: 3.1801 - val_accuracy: 0.6875\n",
            "Epoch 29/30\n",
            "125/125 [==============================] - 28s 220ms/step - loss: 2.0180 - accuracy: 0.9260 - val_loss: 2.7663 - val_accuracy: 0.7292\n",
            "Epoch 30/30\n",
            "125/125 [==============================] - 27s 217ms/step - loss: 1.9972 - accuracy: 0.9245 - val_loss: 2.5279 - val_accuracy: 0.8083\n",
            "Total execution time with PCA is:  0:44:50.872350\n"
          ]
        }
      ],
      "source": [
        "# START COUNTING THE TIME\n",
        "start = datetime.datetime.now()\n",
        "\n",
        "# FIT THE MODEL\n",
        "history_modelV03 = net_modelV03.fit(train_generator, \n",
        "                  validation_data = val_generator,\n",
        "                  steps_per_epoch = train_generator.n // train_generator.batch_size,\n",
        "                  validation_steps = val_generator.n // val_generator.batch_size,\n",
        "                  epochs=30,\n",
        "                  callbacks = [callback])\n",
        "\n",
        "# STOP COUNTING THE TIME\n",
        "end = datetime.datetime.now()\n",
        "print(\"Total execution time is: \", end-start)"
      ]
    },
    {
      "cell_type": "code",
      "execution_count": null,
      "metadata": {
        "colab": {
          "base_uri": "https://localhost:8080/",
          "height": 300
        },
        "id": "C2jLcGKxIjSY",
        "outputId": "4b7006bb-9ea0-4467-9975-80ed7971364e"
      },
      "outputs": [
        {
          "output_type": "display_data",
          "data": {
            "text/plain": [
              "<IPython.core.display.Javascript object>"
            ],
            "application/javascript": [
              "google.colab.output.setIframeHeight(0, true, {maxHeight: 300})"
            ]
          },
          "metadata": {}
        },
        {
          "output_type": "execute_result",
          "data": {
            "text/plain": [
              "<matplotlib.legend.Legend at 0x7f9e56741b80>"
            ]
          },
          "metadata": {},
          "execution_count": 12
        },
        {
          "output_type": "display_data",
          "data": {
            "text/plain": [
              "<Figure size 1080x432 with 2 Axes>"
            ],
            "image/png": "[encoded data removed]"
          },
          "metadata": {
            "needs_background": "light"
          }
        }
      ],
      "source": [
        "# VISUALIZATION OF THE LEARNING CURVES\n",
        "plt.figure(figsize=(15,6))\n",
        "\n",
        "# VISUALIZZIAMO NUOVAMENTE L'OUTPUT IN TERMINI DI LOSS FUNCTION\n",
        "plt.subplot(1, 2, 1)\n",
        "plt.plot(history_modelV03.history['loss'])\n",
        "plt.plot(history_modelV03.history['val_loss'])\n",
        "plt.ylim([0.0, 5.0])\n",
        "plt.xlabel('Epoch')\n",
        "plt.ylabel('Loss')\n",
        "plt.legend(['train', 'valid'])\n",
        "\n",
        "plt.subplot(1, 2, 2)\n",
        "plt.plot(history_modelV03.history['accuracy'])\n",
        "plt.plot(history_modelV03.history['val_accuracy'])\n",
        "plt.ylim([0.0, 1.0])\n",
        "plt.xlabel('Epoch')\n",
        "plt.ylabel('Accuracy')\n",
        "plt.legend(['train', 'valid'])"
      ]
    },
    {
      "cell_type": "markdown",
      "metadata": {
        "id": "RaBg3ww_83dQ"
      },
      "source": [
        "### Performance results Model V03 and Model Persistence"
      ]
    },
    {
      "cell_type": "markdown",
      "source": [
        "The increased complexity appears to have improved the capability of the neural network that is able to reach over 70% accuracy on the validation set and almost 100% on the training set. Nevertheless, it is clear that it is still underfitting the data eventhough it appears to have a better learning curve compare to the previous and simpler models."
      ],
      "metadata": {
        "id": "nMo7dAZUXnxn"
      }
    },
    {
      "cell_type": "code",
      "source": [
        "# SAVE THE TIME NEEDED TO RUN THE ALGORITHM\n",
        "time_duration_modelV03 = end - start\n",
        "print(time_duration_modelV03)"
      ],
      "metadata": {
        "id": "RIa0AvvFc2xf",
        "colab": {
          "base_uri": "https://localhost:8080/",
          "height": 34
        },
        "outputId": "05e153dd-60be-401e-ce85-f199e600dd9e"
      },
      "execution_count": null,
      "outputs": [
        {
          "output_type": "display_data",
          "data": {
            "text/plain": [
              "<IPython.core.display.Javascript object>"
            ],
            "application/javascript": [
              "google.colab.output.setIframeHeight(0, true, {maxHeight: 300})"
            ]
          },
          "metadata": {}
        },
        {
          "output_type": "stream",
          "name": "stdout",
          "text": [
            "0:44:50.872350\n"
          ]
        }
      ]
    },
    {
      "cell_type": "code",
      "source": [
        "# GET THE MINIMUM ACCURACY, THE MAXIMUM ACCURACY, THE MINIMUM LOSS, THE MAXIMUM LOSS AND SAVE THEM IN VARIABLES.\n",
        "\n",
        "# LOSS/VAL LOSS\n",
        "modelV03_minLoss = min(history_modelV03.history['loss'])\n",
        "modelV03_maxLoss = max(history_modelV03.history['loss'])\n",
        "modelV03_minValLoss = min(history_modelV03.history['val_loss'])\n",
        "modelV03_maxValLoss = max(history_modelV03.history['val_loss'])\n",
        "\n",
        "# ACCURACY/VAL ACCURACY\n",
        "modelV03_minAccuracy = min(history_modelV03.history['accuracy'])\n",
        "modelV03_maxAccuracy = max(history_modelV03.history['accuracy'])\n",
        "modelV03_minValAccuracy = min(history_modelV03.history['val_accuracy'])\n",
        "modelV03_maxValAccuracy = max(history_modelV03.history['val_accuracy'])\n",
        "\n",
        "# CREATE THE DATAFRAME\n",
        "modelV03_loss_accuracy = pd.DataFrame({\"minLoss\": [modelV03_minLoss],\n",
        "                                       \"maxloss\": [modelV03_maxLoss],\n",
        "                                       \"minValLoss\": [modelV03_minValLoss],\n",
        "                                       \"maxValLoss\": [modelV03_maxValLoss],\n",
        "                                       \"minAccuracy\": [modelV03_minAccuracy],\n",
        "                                       \"maxAccuracy\": [modelV03_maxAccuracy],\n",
        "                                       \"minValAccuracy\": [modelV03_minValAccuracy],\n",
        "                                       \"maxValAccuracy\": [modelV03_maxValAccuracy]}).T\n",
        "\n",
        "# CHANGE THE FIRST COLUMN NAME\n",
        "modelV03_loss_accuracy = modelV03_loss_accuracy.rename(columns={0: 'modelV03'})\n",
        "# CHANGE THE INDEX NAME\n",
        "modelV03_loss_accuracy.index.names = ['Performance']\n",
        "modelV03_loss_accuracy"
      ],
      "metadata": {
        "colab": {
          "base_uri": "https://localhost:8080/",
          "height": 300
        },
        "id": "AmZGo-bHiWkN",
        "outputId": "8400a2d3-0ea5-4910-c207-74705aec4187"
      },
      "execution_count": null,
      "outputs": [
        {
          "output_type": "display_data",
          "data": {
            "text/plain": [
              "<IPython.core.display.Javascript object>"
            ],
            "application/javascript": [
              "google.colab.output.setIframeHeight(0, true, {maxHeight: 300})"
            ]
          },
          "metadata": {}
        },
        {
          "output_type": "execute_result",
          "data": {
            "text/plain": [
              "                modelV03\n",
              "Performance             \n",
              "minLoss         1.997178\n",
              "maxloss         3.960058\n",
              "minValLoss      2.527908\n",
              "maxValLoss      4.935792\n",
              "minAccuracy     0.411173\n",
              "maxAccuracy     0.927026\n",
              "minValAccuracy  0.041667\n",
              "maxValAccuracy  0.808333"
            ],
            "text/html": [
              "\n",
              "  <div id=\"df-87c864b0-d9b9-46ca-be65-96622f8ce05a\">\n",
              "    <div class=\"colab-df-container\">\n",
              "      <div>\n",
              "<style scoped>\n",
              "    .dataframe tbody tr th:only-of-type {\n",
              "        vertical-align: middle;\n",
              "    }\n",
              "\n",
              "    .dataframe tbody tr th {\n",
              "        vertical-align: top;\n",
              "    }\n",
              "\n",
              "    .dataframe thead th {\n",
              "        text-align: right;\n",
              "    }\n",
              "</style>\n",
              "<table border=\"1\" class=\"dataframe\">\n",
              "  <thead>\n",
              "    <tr style=\"text-align: right;\">\n",
              "      <th></th>\n",
              "      <th>modelV03</th>\n",
              "    </tr>\n",
              "    <tr>\n",
              "      <th>Performance</th>\n",
              "      <th></th>\n",
              "    </tr>\n",
              "  </thead>\n",
              "  <tbody>\n",
              "    <tr>\n",
              "      <th>minLoss</th>\n",
              "      <td>1.997178</td>\n",
              "    </tr>\n",
              "    <tr>\n",
              "      <th>maxloss</th>\n",
              "      <td>3.960058</td>\n",
              "    </tr>\n",
              "    <tr>\n",
              "      <th>minValLoss</th>\n",
              "      <td>2.527908</td>\n",
              "    </tr>\n",
              "    <tr>\n",
              "      <th>maxValLoss</th>\n",
              "      <td>4.935792</td>\n",
              "    </tr>\n",
              "    <tr>\n",
              "      <th>minAccuracy</th>\n",
              "      <td>0.411173</td>\n",
              "    </tr>\n",
              "    <tr>\n",
              "      <th>maxAccuracy</th>\n",
              "      <td>0.927026</td>\n",
              "    </tr>\n",
              "    <tr>\n",
              "      <th>minValAccuracy</th>\n",
              "      <td>0.041667</td>\n",
              "    </tr>\n",
              "    <tr>\n",
              "      <th>maxValAccuracy</th>\n",
              "      <td>0.808333</td>\n",
              "    </tr>\n",
              "  </tbody>\n",
              "</table>\n",
              "</div>\n",
              "      <button class=\"colab-df-convert\" onclick=\"convertToInteractive('df-87c864b0-d9b9-46ca-be65-96622f8ce05a')\"\n",
              "              title=\"Convert this dataframe to an interactive table.\"\n",
              "              style=\"display:none;\">\n",
              "        \n",
              "  <svg xmlns=\"http://www.w3.org/2000/svg\" height=\"24px\"viewBox=\"0 0 24 24\"\n",
              "       width=\"24px\">\n",
              "    <path d=\"M0 0h24v24H0V0z\" fill=\"none\"/>\n",
              "    <path d=\"M18.56 5.44l.94 2.06.94-2.06 2.06-.94-2.06-.94-.94-2.06-.94 2.06-2.06.94zm-11 1L8.5 8.5l.94-2.06 2.06-.94-2.06-.94L8.5 2.5l-.94 2.06-2.06.94zm10 10l.94 2.06.94-2.06 2.06-.94-2.06-.94-.94-2.06-.94 2.06-2.06.94z\"/><path d=\"M17.41 7.96l-1.37-1.37c-.4-.4-.92-.59-1.43-.59-.52 0-1.04.2-1.43.59L10.3 9.45l-7.72 7.72c-.78.78-.78 2.05 0 2.83L4 21.41c.39.39.9.59 1.41.59.51 0 1.02-.2 1.41-.59l7.78-7.78 2.81-2.81c.8-.78.8-2.07 0-2.86zM5.41 20L4 18.59l7.72-7.72 1.47 1.35L5.41 20z\"/>\n",
              "  </svg>\n",
              "      </button>\n",
              "      \n",
              "  <style>\n",
              "    .colab-df-container {\n",
              "      display:flex;\n",
              "      flex-wrap:wrap;\n",
              "      gap: 12px;\n",
              "    }\n",
              "\n",
              "    .colab-df-convert {\n",
              "      background-color: #E8F0FE;\n",
              "      border: none;\n",
              "      border-radius: 50%;\n",
              "      cursor: pointer;\n",
              "      display: none;\n",
              "      fill: #1967D2;\n",
              "      height: 32px;\n",
              "      padding: 0 0 0 0;\n",
              "      width: 32px;\n",
              "    }\n",
              "\n",
              "    .colab-df-convert:hover {\n",
              "      background-color: #E2EBFA;\n",
              "      box-shadow: 0px 1px 2px rgba(60, 64, 67, 0.3), 0px 1px 3px 1px rgba(60, 64, 67, 0.15);\n",
              "      fill: #174EA6;\n",
              "    }\n",
              "\n",
              "    [theme=dark] .colab-df-convert {\n",
              "      background-color: #3B4455;\n",
              "      fill: #D2E3FC;\n",
              "    }\n",
              "\n",
              "    [theme=dark] .colab-df-convert:hover {\n",
              "      background-color: #434B5C;\n",
              "      box-shadow: 0px 1px 3px 1px rgba(0, 0, 0, 0.15);\n",
              "      filter: drop-shadow(0px 1px 2px rgba(0, 0, 0, 0.3));\n",
              "      fill: #FFFFFF;\n",
              "    }\n",
              "  </style>\n",
              "\n",
              "      <script>\n",
              "        const buttonEl =\n",
              "          document.querySelector('#df-87c864b0-d9b9-46ca-be65-96622f8ce05a button.colab-df-convert');\n",
              "        buttonEl.style.display =\n",
              "          google.colab.kernel.accessAllowed ? 'block' : 'none';\n",
              "\n",
              "        async function convertToInteractive(key) {\n",
              "          const element = document.querySelector('#df-87c864b0-d9b9-46ca-be65-96622f8ce05a');\n",
              "          const dataTable =\n",
              "            await google.colab.kernel.invokeFunction('convertToInteractive',\n",
              "                                                     [key], {});\n",
              "          if (!dataTable) return;\n",
              "\n",
              "          const docLinkHtml = 'Like what you see? Visit the ' +\n",
              "            '<a target=\"_blank\" href=https://colab.research.google.com/notebooks/data_table.ipynb>data table notebook</a>'\n",
              "            + ' to learn more about interactive tables.';\n",
              "          element.innerHTML = '';\n",
              "          dataTable['output_type'] = 'display_data';\n",
              "          await google.colab.output.renderOutput(dataTable, element);\n",
              "          const docLink = document.createElement('div');\n",
              "          docLink.innerHTML = docLinkHtml;\n",
              "          element.appendChild(docLink);\n",
              "        }\n",
              "      </script>\n",
              "    </div>\n",
              "  </div>\n",
              "  "
            ]
          },
          "metadata": {},
          "execution_count": 14
        }
      ]
    },
    {
      "cell_type": "code",
      "source": [
        "# SAVE THE MODEL V03\n",
        "keras_file_modelV03 = \"/content/gdrive/MyDrive/Data_Science_2020-2022/Secondo_anno_Secondo_Semestre/FoDL_Project/Project_Example_Food/saved_models/modelV03.h5\"\n",
        "tf.keras.models.save_model(net_modelV03, keras_file_modelV03) # MODIFY MODEL WITH YOUR OWN MODEL"
      ],
      "metadata": {
        "id": "jPAdoZgaEP22",
        "colab": {
          "base_uri": "https://localhost:8080/",
          "height": 17
        },
        "outputId": "94cddae5-2a94-428a-a667-360a1a51b26b"
      },
      "execution_count": null,
      "outputs": [
        {
          "output_type": "display_data",
          "data": {
            "text/plain": [
              "<IPython.core.display.Javascript object>"
            ],
            "application/javascript": [
              "google.colab.output.setIframeHeight(0, true, {maxHeight: 300})"
            ]
          },
          "metadata": {}
        }
      ]
    },
    {
      "cell_type": "markdown",
      "metadata": {
        "id": "1S5qxgwm1ABU"
      },
      "source": [
        "---------------------"
      ]
    },
    {
      "cell_type": "markdown",
      "metadata": {
        "id": "8D1McZOT6nEt"
      },
      "source": [
        "## 1.2.4 MODEL V04 - Training the model with Data Agmentation from keras (regularization and higher dropout) - Deeper model"
      ]
    },
    {
      "cell_type": "code",
      "execution_count": null,
      "metadata": {
        "id": "gRZSHH8v76FP",
        "colab": {
          "base_uri": "https://localhost:8080/",
          "height": 300
        },
        "outputId": "c3750389-8d22-4339-bd94-48dd34a94f31"
      },
      "outputs": [
        {
          "output_type": "display_data",
          "data": {
            "text/plain": [
              "<IPython.core.display.Javascript object>"
            ],
            "application/javascript": [
              "google.colab.output.setIframeHeight(0, true, {maxHeight: 300})"
            ]
          },
          "metadata": {}
        },
        {
          "output_type": "stream",
          "name": "stdout",
          "text": [
            "Model: \"model_1\"\n",
            "_________________________________________________________________\n",
            " Layer (type)                Output Shape              Param #   \n",
            "=================================================================\n",
            " input_2 (InputLayer)        [(None, 224, 224, 3)]     0         \n",
            "                                                                 \n",
            " conv2d_5 (Conv2D)           (None, 224, 224, 32)      896       \n",
            "                                                                 \n",
            " batch_normalization_5 (Batc  (None, 224, 224, 32)     128       \n",
            " hNormalization)                                                 \n",
            "                                                                 \n",
            " activation_5 (Activation)   (None, 224, 224, 32)      0         \n",
            "                                                                 \n",
            " max_pooling2d_4 (MaxPooling  (None, 75, 75, 32)       0         \n",
            " 2D)                                                             \n",
            "                                                                 \n",
            " conv2d_6 (Conv2D)           (None, 75, 75, 32)        9248      \n",
            "                                                                 \n",
            " batch_normalization_6 (Batc  (None, 75, 75, 32)       128       \n",
            " hNormalization)                                                 \n",
            "                                                                 \n",
            " activation_6 (Activation)   (None, 75, 75, 32)        0         \n",
            "                                                                 \n",
            " max_pooling2d_5 (MaxPooling  (None, 25, 25, 32)       0         \n",
            " 2D)                                                             \n",
            "                                                                 \n",
            " conv2d_7 (Conv2D)           (None, 25, 25, 64)        18496     \n",
            "                                                                 \n",
            " batch_normalization_7 (Batc  (None, 25, 25, 64)       256       \n",
            " hNormalization)                                                 \n",
            "                                                                 \n",
            " activation_7 (Activation)   (None, 25, 25, 64)        0         \n",
            "                                                                 \n",
            " max_pooling2d_6 (MaxPooling  (None, 9, 9, 64)         0         \n",
            " 2D)                                                             \n",
            "                                                                 \n",
            " conv2d_8 (Conv2D)           (None, 9, 9, 64)          36928     \n",
            "                                                                 \n",
            " batch_normalization_8 (Batc  (None, 9, 9, 64)         256       \n",
            " hNormalization)                                                 \n",
            "                                                                 \n",
            " activation_8 (Activation)   (None, 9, 9, 64)          0         \n",
            "                                                                 \n",
            " max_pooling2d_7 (MaxPooling  (None, 3, 3, 64)         0         \n",
            " 2D)                                                             \n",
            "                                                                 \n",
            " conv2d_9 (Conv2D)           (None, 3, 3, 128)         73856     \n",
            "                                                                 \n",
            " batch_normalization_9 (Batc  (None, 3, 3, 128)        512       \n",
            " hNormalization)                                                 \n",
            "                                                                 \n",
            " activation_9 (Activation)   (None, 3, 3, 128)         0         \n",
            "                                                                 \n",
            " max_pooling2d_8 (MaxPooling  (None, 1, 1, 128)        0         \n",
            " 2D)                                                             \n",
            "                                                                 \n",
            " conv2d_10 (Conv2D)          (None, 1, 1, 128)         147584    \n",
            "                                                                 \n",
            " batch_normalization_10 (Bat  (None, 1, 1, 128)        512       \n",
            " chNormalization)                                                \n",
            "                                                                 \n",
            " activation_10 (Activation)  (None, 1, 1, 128)         0         \n",
            "                                                                 \n",
            " max_pooling2d_9 (MaxPooling  (None, 1, 1, 128)        0         \n",
            " 2D)                                                             \n",
            "                                                                 \n",
            " conv2d_11 (Conv2D)          (None, 1, 1, 512)         590336    \n",
            "                                                                 \n",
            " batch_normalization_11 (Bat  (None, 1, 1, 512)        2048      \n",
            " chNormalization)                                                \n",
            "                                                                 \n",
            " activation_11 (Activation)  (None, 1, 1, 512)         0         \n",
            "                                                                 \n",
            " global_max_pooling2d_1 (Glo  (None, 512)              0         \n",
            " balMaxPooling2D)                                                \n",
            "                                                                 \n",
            " flatten_1 (Flatten)         (None, 512)               0         \n",
            "                                                                 \n",
            " dense_2 (Dense)             (None, 512)               262656    \n",
            "                                                                 \n",
            " activation_12 (Activation)  (None, 512)               0         \n",
            "                                                                 \n",
            " dropout_1 (Dropout)         (None, 512)               0         \n",
            "                                                                 \n",
            " dense_3 (Dense)             (None, 512)               262656    \n",
            "                                                                 \n",
            " dense_4 (Dense)             (None, 10)                5130      \n",
            "                                                                 \n",
            "=================================================================\n",
            "Total params: 1,411,626\n",
            "Trainable params: 1,409,706\n",
            "Non-trainable params: 1,920\n",
            "_________________________________________________________________\n"
          ]
        }
      ],
      "source": [
        "inputs = keras.Input((SIZE,SIZE,3))\n",
        "\n",
        "x = inputs\n",
        "\n",
        "x = keras.layers.Conv2D(32, 3, padding=\"same\", kernel_initializer=\"he_uniform\", kernel_regularizer=tf.keras.regularizers.l2(0.001))(x)\n",
        "x = keras.layers.BatchNormalization()(x)\n",
        "x = keras.layers.Activation(\"relu\")(x)\n",
        "x = keras.layers.MaxPooling2D(3, strides=3, padding=\"same\")(x)\n",
        "\n",
        "x = keras.layers.Conv2D(32, 3, padding=\"same\", kernel_initializer=\"he_uniform\", kernel_regularizer=tf.keras.regularizers.l2(0.001))(x)\n",
        "x = keras.layers.BatchNormalization()(x)\n",
        "x = keras.layers.Activation(\"relu\")(x)\n",
        "x = keras.layers.MaxPooling2D(3, strides=3, padding=\"same\")(x)\n",
        "\n",
        "x = keras.layers.Conv2D(64, 3, padding=\"same\", kernel_initializer=\"he_uniform\", kernel_regularizer=tf.keras.regularizers.l2(0.001))(x)\n",
        "x = keras.layers.BatchNormalization()(x)\n",
        "x = keras.layers.Activation(\"relu\")(x)\n",
        "x = keras.layers.MaxPooling2D(3, strides=3, padding=\"same\")(x)\n",
        "\n",
        "x = keras.layers.Conv2D(64, 3, padding=\"same\", kernel_initializer=\"he_uniform\", kernel_regularizer=tf.keras.regularizers.l2(0.001))(x)\n",
        "x = keras.layers.BatchNormalization()(x)\n",
        "x = keras.layers.Activation(\"relu\")(x)\n",
        "x = keras.layers.MaxPooling2D(3, strides=3, padding=\"same\")(x)\n",
        "\n",
        "x = keras.layers.Conv2D(128, 3, padding=\"same\", kernel_initializer=\"he_uniform\", kernel_regularizer=tf.keras.regularizers.l2(0.001))(x)\n",
        "x = keras.layers.BatchNormalization()(x)\n",
        "x = keras.layers.Activation(\"relu\")(x)\n",
        "x = keras.layers.MaxPooling2D(3, strides=3, padding=\"same\")(x)\n",
        "\n",
        "x = keras.layers.Conv2D(128, 3, padding=\"same\", kernel_initializer=\"he_uniform\", kernel_regularizer=tf.keras.regularizers.l2(0.001))(x)\n",
        "x = keras.layers.BatchNormalization()(x)\n",
        "x = keras.layers.Activation(\"relu\")(x)\n",
        "x = keras.layers.MaxPooling2D(3, strides=3, padding=\"same\")(x)\n",
        "\n",
        "x = keras.layers.Conv2D(512, 3, padding=\"same\", kernel_initializer=\"he_uniform\", kernel_regularizer=tf.keras.regularizers.l2(0.001))(x)\n",
        "x = keras.layers.BatchNormalization()(x)\n",
        "x = keras.layers.Activation(\"relu\")(x)\n",
        "x = keras.layers.GlobalMaxPooling2D()(x)\n",
        "\n",
        "# the model so far outputs 3D feature maps (height, width, features)\n",
        "\n",
        "# FLATTEN AND ADD DROPOUT\n",
        "x = tf.keras.layers.Flatten()(x) # this converts our 3D feature maps to 1D feature vectors\n",
        "x = keras.layers.Dense(512, activation=\"relu\", kernel_regularizer=tf.keras.regularizers.l2(0.001))(x)\n",
        "x = keras.layers.Activation(\"relu\")(x)\n",
        "x = keras.layers.Dropout(.20)(x)\n",
        "x = keras.layers.Dense(512, activation=\"relu\", kernel_regularizer=tf.keras.regularizers.l2(0.001))(x)\n",
        "\n",
        "outputs = keras.layers.Dense(num_classes, activation=\"softmax\", kernel_regularizer=tf.keras.regularizers.l2(0.001))(x)\n",
        "\n",
        "net_modelv04 = keras.Model(inputs, outputs)\n",
        "\n",
        "net_modelv04.summary()"
      ]
    },
    {
      "cell_type": "code",
      "execution_count": null,
      "metadata": {
        "id": "JcGjJzW16rbb",
        "colab": {
          "base_uri": "https://localhost:8080/",
          "height": 17
        },
        "outputId": "467b9e58-03a1-4ed6-fb84-536ae5aceae5"
      },
      "outputs": [
        {
          "output_type": "display_data",
          "data": {
            "text/plain": [
              "<IPython.core.display.Javascript object>"
            ],
            "application/javascript": [
              "google.colab.output.setIframeHeight(0, true, {maxHeight: 300})"
            ]
          },
          "metadata": {}
        }
      ],
      "source": [
        "net_modelv04.compile(loss=keras.losses.categorical_crossentropy,\n",
        "            optimizer= keras.optimizers.Adam(learning_rate=0.0001),\n",
        "            metrics=['accuracy'])"
      ]
    },
    {
      "cell_type": "code",
      "execution_count": null,
      "metadata": {
        "colab": {
          "base_uri": "https://localhost:8080/",
          "height": 300
        },
        "id": "zj50d9Ea6sCU",
        "outputId": "d808da61-fea7-4421-ca06-38566f445ef7"
      },
      "outputs": [
        {
          "output_type": "display_data",
          "data": {
            "text/plain": [
              "<IPython.core.display.Javascript object>"
            ],
            "application/javascript": [
              "google.colab.output.setIframeHeight(0, true, {maxHeight: 300})"
            ]
          },
          "metadata": {}
        },
        {
          "output_type": "stream",
          "name": "stdout",
          "text": [
            "Epoch 1/30\n",
            "125/125 [==============================] - 32s 241ms/step - loss: 4.5298 - accuracy: 0.3739 - val_loss: 4.7522 - val_accuracy: 0.0542\n",
            "Epoch 2/30\n",
            "125/125 [==============================] - 28s 224ms/step - loss: 3.6123 - accuracy: 0.5561 - val_loss: 4.4080 - val_accuracy: 0.1083\n",
            "Epoch 3/30\n",
            "125/125 [==============================] - 28s 223ms/step - loss: 3.1744 - accuracy: 0.6170 - val_loss: 3.6694 - val_accuracy: 0.3708\n",
            "Epoch 4/30\n",
            "125/125 [==============================] - 27s 218ms/step - loss: 2.8797 - accuracy: 0.6779 - val_loss: 3.2493 - val_accuracy: 0.4750\n",
            "Epoch 5/30\n",
            "125/125 [==============================] - 28s 225ms/step - loss: 2.7278 - accuracy: 0.6980 - val_loss: 3.1926 - val_accuracy: 0.4667\n",
            "Epoch 6/30\n",
            "125/125 [==============================] - 28s 222ms/step - loss: 2.5870 - accuracy: 0.7247 - val_loss: 3.0155 - val_accuracy: 0.5667\n",
            "Epoch 7/30\n",
            "125/125 [==============================] - 29s 229ms/step - loss: 2.4581 - accuracy: 0.7564 - val_loss: 3.0496 - val_accuracy: 0.5708\n",
            "Epoch 8/30\n",
            "125/125 [==============================] - 27s 218ms/step - loss: 2.4235 - accuracy: 0.7594 - val_loss: 3.0424 - val_accuracy: 0.5708\n",
            "Epoch 9/30\n",
            "125/125 [==============================] - 27s 219ms/step - loss: 2.3680 - accuracy: 0.7695 - val_loss: 2.9394 - val_accuracy: 0.5833\n",
            "Epoch 10/30\n",
            "125/125 [==============================] - 27s 217ms/step - loss: 2.2776 - accuracy: 0.7962 - val_loss: 3.0687 - val_accuracy: 0.5500\n",
            "Epoch 11/30\n",
            "125/125 [==============================] - 27s 217ms/step - loss: 2.2482 - accuracy: 0.8007 - val_loss: 2.9401 - val_accuracy: 0.5708\n",
            "Epoch 12/30\n",
            "125/125 [==============================] - 27s 219ms/step - loss: 2.2253 - accuracy: 0.8138 - val_loss: 2.8061 - val_accuracy: 0.5958\n",
            "Epoch 13/30\n",
            "125/125 [==============================] - 27s 217ms/step - loss: 2.1682 - accuracy: 0.8213 - val_loss: 2.8423 - val_accuracy: 0.5792\n",
            "Epoch 14/30\n",
            "125/125 [==============================] - 27s 217ms/step - loss: 2.1290 - accuracy: 0.8269 - val_loss: 2.8796 - val_accuracy: 0.5708\n",
            "Epoch 15/30\n",
            "125/125 [==============================] - 27s 217ms/step - loss: 2.0979 - accuracy: 0.8334 - val_loss: 2.7023 - val_accuracy: 0.6542\n",
            "Epoch 16/30\n",
            "125/125 [==============================] - 27s 217ms/step - loss: 2.0555 - accuracy: 0.8530 - val_loss: 2.7736 - val_accuracy: 0.6125\n",
            "Epoch 17/30\n",
            "125/125 [==============================] - 27s 218ms/step - loss: 2.0339 - accuracy: 0.8636 - val_loss: 2.8185 - val_accuracy: 0.6083\n",
            "Epoch 18/30\n",
            "125/125 [==============================] - 27s 217ms/step - loss: 2.0411 - accuracy: 0.8420 - val_loss: 2.8024 - val_accuracy: 0.6458\n",
            "Epoch 19/30\n",
            "125/125 [==============================] - 27s 217ms/step - loss: 1.9589 - accuracy: 0.8636 - val_loss: 2.7151 - val_accuracy: 0.6250\n",
            "Epoch 20/30\n",
            "125/125 [==============================] - 27s 218ms/step - loss: 1.9597 - accuracy: 0.8606 - val_loss: 2.7034 - val_accuracy: 0.6583\n",
            "Epoch 21/30\n",
            "125/125 [==============================] - 28s 220ms/step - loss: 1.9229 - accuracy: 0.8686 - val_loss: 2.7290 - val_accuracy: 0.6500\n",
            "Epoch 22/30\n",
            "125/125 [==============================] - 27s 218ms/step - loss: 1.9090 - accuracy: 0.8777 - val_loss: 2.8661 - val_accuracy: 0.6417\n",
            "Epoch 23/30\n",
            "125/125 [==============================] - 27s 217ms/step - loss: 1.8692 - accuracy: 0.8752 - val_loss: 2.7855 - val_accuracy: 0.6458\n",
            "Epoch 24/30\n",
            "125/125 [==============================] - 27s 217ms/step - loss: 1.8571 - accuracy: 0.8842 - val_loss: 2.5995 - val_accuracy: 0.6792\n",
            "Epoch 25/30\n",
            "125/125 [==============================] - 27s 218ms/step - loss: 1.8343 - accuracy: 0.8807 - val_loss: 2.5433 - val_accuracy: 0.6542\n",
            "Epoch 26/30\n",
            "125/125 [==============================] - 27s 218ms/step - loss: 1.8073 - accuracy: 0.8870 - val_loss: 2.5032 - val_accuracy: 0.6833\n",
            "Epoch 27/30\n",
            "125/125 [==============================] - 27s 219ms/step - loss: 1.7886 - accuracy: 0.8948 - val_loss: 2.5230 - val_accuracy: 0.6750\n",
            "Epoch 28/30\n",
            "125/125 [==============================] - 27s 218ms/step - loss: 1.7787 - accuracy: 0.8918 - val_loss: 2.7712 - val_accuracy: 0.6375\n",
            "Epoch 29/30\n",
            "125/125 [==============================] - 27s 219ms/step - loss: 1.7354 - accuracy: 0.9044 - val_loss: 2.5758 - val_accuracy: 0.6583\n",
            "Epoch 30/30\n",
            "125/125 [==============================] - 28s 221ms/step - loss: 1.7282 - accuracy: 0.8988 - val_loss: 2.7680 - val_accuracy: 0.6292\n",
            "Total execution time is:  0:17:09.794419\n"
          ]
        }
      ],
      "source": [
        "# START COUNTING THE TIME\n",
        "start = datetime.datetime.now()\n",
        "\n",
        "history_modelv04 = net_modelv04.fit(train_generator,\n",
        "                                    steps_per_epoch = train_generator.n // train_generator.batch_size,\n",
        "                                    validation_data = val_generator,\n",
        "                                    validation_steps = val_generator.n // val_generator.batch_size,\n",
        "                                    epochs=30,\n",
        "                                    callbacks = [callback])\n",
        "\n",
        "# STOP COUNTING THE TIME\n",
        "end = datetime.datetime.now()\n",
        "print(\"Total execution time is: \", end-start)"
      ]
    },
    {
      "cell_type": "code",
      "execution_count": null,
      "metadata": {
        "id": "q1EWO0nLMNTi",
        "colab": {
          "base_uri": "https://localhost:8080/",
          "height": 300
        },
        "outputId": "beabbe4b-57b8-4ed1-d4df-db9147bed823"
      },
      "outputs": [
        {
          "output_type": "display_data",
          "data": {
            "text/plain": [
              "<IPython.core.display.Javascript object>"
            ],
            "application/javascript": [
              "google.colab.output.setIframeHeight(0, true, {maxHeight: 300})"
            ]
          },
          "metadata": {}
        },
        {
          "output_type": "execute_result",
          "data": {
            "text/plain": [
              "<matplotlib.legend.Legend at 0x7f9df22e6040>"
            ]
          },
          "metadata": {},
          "execution_count": 21
        },
        {
          "output_type": "display_data",
          "data": {
            "text/plain": [
              "<Figure size 1080x432 with 2 Axes>"
            ],
            "image/png": "[encoded data removed]"
          },
          "metadata": {
            "needs_background": "light"
          }
        }
      ],
      "source": [
        "# PLOT THEM TOGETHER\n",
        "# Visualization of the learning curves\n",
        "plt.figure(figsize=(15,6))\n",
        "\n",
        "# VISUALIZZIAMO NUOVAMENTE L'OUTPUT IN TERMINI DI LOSS FUNCTION\n",
        "plt.subplot(1, 2, 1)\n",
        "plt.plot(history_modelv04.history['loss'])\n",
        "plt.plot(history_modelv04.history['val_loss'])\n",
        "plt.ylim([0.0, 4.0]) # è difficile da dire a priori\n",
        "plt.xlabel('Epoch')\n",
        "plt.ylabel('Loss')\n",
        "plt.legend(['train', 'valid'])\n",
        "\n",
        "plt.subplot(1, 2, 2)\n",
        "plt.plot(history_modelv04.history['accuracy'])\n",
        "plt.plot(history_modelv04.history['val_accuracy'])\n",
        "plt.ylim([0.0, 1.0]) # 0.5 è il minimo sindacale - dummy classifier fa 50% - fino al massimo 1. \n",
        "plt.xlabel('Epoch')\n",
        "plt.ylabel('Accuracy')\n",
        "plt.legend(['train', 'valid'])"
      ]
    },
    {
      "cell_type": "markdown",
      "source": [
        "### Performance results Model V04 and Model Persistence"
      ],
      "metadata": {
        "id": "s7oyHL5h6hfz"
      }
    },
    {
      "cell_type": "code",
      "source": [
        "# SAVE THE TIME NEEDED TO RUN THE ALGORITHM\n",
        "time_duration_modelV04 = end - start\n",
        "print(time_duration_modelV04)"
      ],
      "metadata": {
        "id": "1AYJEz5Jc8Kq",
        "colab": {
          "base_uri": "https://localhost:8080/",
          "height": 34
        },
        "outputId": "69df3cfe-62d6-4c4b-a32c-ae9fc6fba72a"
      },
      "execution_count": null,
      "outputs": [
        {
          "output_type": "display_data",
          "data": {
            "text/plain": [
              "<IPython.core.display.Javascript object>"
            ],
            "application/javascript": [
              "google.colab.output.setIframeHeight(0, true, {maxHeight: 300})"
            ]
          },
          "metadata": {}
        },
        {
          "output_type": "stream",
          "name": "stdout",
          "text": [
            "0:17:09.794419\n"
          ]
        }
      ]
    },
    {
      "cell_type": "code",
      "source": [
        "# GET THE MINIMUM ACCURACY, THE MAXIMUM ACCURACY, THE MINIMUM LOSS, THE MAXIMUM LOSS AND SAVE THEM IN VARIABLES.\n",
        "\n",
        "# LOSS/VAL LOSS\n",
        "modelV04_minLoss = min(history_modelv04.history['loss'])\n",
        "modelV04_maxLoss = max(history_modelv04.history['loss'])\n",
        "modelV04_minValLoss = min(history_modelv04.history['val_loss'])\n",
        "modelV04_maxValLoss = max(history_modelv04.history['val_loss'])\n",
        "\n",
        "# ACCURACY/VAL ACCURACY\n",
        "modelV04_minAccuracy = min(history_modelv04.history['accuracy'])\n",
        "modelV04_maxAccuracy = max(history_modelv04.history['accuracy'])\n",
        "modelV04_minValAccuracy = min(history_modelv04.history['val_accuracy'])\n",
        "modelV04_maxValAccuracy = max(history_modelv04.history['val_accuracy'])\n",
        "\n",
        "# CREATE THE DATAFRAME\n",
        "modelV04_loss_accuracy = pd.DataFrame({\"minLoss\": [modelV04_minLoss],\n",
        "                                       \"maxloss\": [modelV04_maxLoss],\n",
        "                                       \"minValLoss\": [modelV04_minValLoss],\n",
        "                                       \"maxValLoss\": [modelV04_maxValLoss],\n",
        "                                       \"minAccuracy\": [modelV04_minAccuracy],\n",
        "                                       \"maxAccuracy\": [modelV04_maxAccuracy],\n",
        "                                       \"minValAccuracy\": [modelV04_minValAccuracy],\n",
        "                                       \"maxValAccuracy\": [modelV04_maxValAccuracy]}).T\n",
        "\n",
        "# CHANGE THE FIRST COLUMN NAME\n",
        "modelV04_loss_accuracy = modelV04_loss_accuracy.rename(columns={0: 'modelV04'})\n",
        "# CHANGE THE INDEX NAME\n",
        "modelV04_loss_accuracy.index.names = ['Performance']\n",
        "modelV04_loss_accuracy"
      ],
      "metadata": {
        "colab": {
          "base_uri": "https://localhost:8080/",
          "height": 300
        },
        "id": "dc2i5Z8NqYbx",
        "outputId": "a4f04dc1-7f2a-4eee-852d-aac379d4fbe3"
      },
      "execution_count": null,
      "outputs": [
        {
          "output_type": "display_data",
          "data": {
            "text/plain": [
              "<IPython.core.display.Javascript object>"
            ],
            "application/javascript": [
              "google.colab.output.setIframeHeight(0, true, {maxHeight: 300})"
            ]
          },
          "metadata": {}
        },
        {
          "output_type": "execute_result",
          "data": {
            "text/plain": [
              "                modelV04\n",
              "Performance             \n",
              "minLoss         1.728224\n",
              "maxloss         4.529798\n",
              "minValLoss      2.503199\n",
              "maxValLoss      4.752210\n",
              "minAccuracy     0.373931\n",
              "maxAccuracy     0.904378\n",
              "minValAccuracy  0.054167\n",
              "maxValAccuracy  0.683333"
            ],
            "text/html": [
              "\n",
              "  <div id=\"df-e044c2aa-410f-4567-8dec-ffd2a2cdd87f\">\n",
              "    <div class=\"colab-df-container\">\n",
              "      <div>\n",
              "<style scoped>\n",
              "    .dataframe tbody tr th:only-of-type {\n",
              "        vertical-align: middle;\n",
              "    }\n",
              "\n",
              "    .dataframe tbody tr th {\n",
              "        vertical-align: top;\n",
              "    }\n",
              "\n",
              "    .dataframe thead th {\n",
              "        text-align: right;\n",
              "    }\n",
              "</style>\n",
              "<table border=\"1\" class=\"dataframe\">\n",
              "  <thead>\n",
              "    <tr style=\"text-align: right;\">\n",
              "      <th></th>\n",
              "      <th>modelV04</th>\n",
              "    </tr>\n",
              "    <tr>\n",
              "      <th>Performance</th>\n",
              "      <th></th>\n",
              "    </tr>\n",
              "  </thead>\n",
              "  <tbody>\n",
              "    <tr>\n",
              "      <th>minLoss</th>\n",
              "      <td>1.728224</td>\n",
              "    </tr>\n",
              "    <tr>\n",
              "      <th>maxloss</th>\n",
              "      <td>4.529798</td>\n",
              "    </tr>\n",
              "    <tr>\n",
              "      <th>minValLoss</th>\n",
              "      <td>2.503199</td>\n",
              "    </tr>\n",
              "    <tr>\n",
              "      <th>maxValLoss</th>\n",
              "      <td>4.752210</td>\n",
              "    </tr>\n",
              "    <tr>\n",
              "      <th>minAccuracy</th>\n",
              "      <td>0.373931</td>\n",
              "    </tr>\n",
              "    <tr>\n",
              "      <th>maxAccuracy</th>\n",
              "      <td>0.904378</td>\n",
              "    </tr>\n",
              "    <tr>\n",
              "      <th>minValAccuracy</th>\n",
              "      <td>0.054167</td>\n",
              "    </tr>\n",
              "    <tr>\n",
              "      <th>maxValAccuracy</th>\n",
              "      <td>0.683333</td>\n",
              "    </tr>\n",
              "  </tbody>\n",
              "</table>\n",
              "</div>\n",
              "      <button class=\"colab-df-convert\" onclick=\"convertToInteractive('df-e044c2aa-410f-4567-8dec-ffd2a2cdd87f')\"\n",
              "              title=\"Convert this dataframe to an interactive table.\"\n",
              "              style=\"display:none;\">\n",
              "        \n",
              "  <svg xmlns=\"http://www.w3.org/2000/svg\" height=\"24px\"viewBox=\"0 0 24 24\"\n",
              "       width=\"24px\">\n",
              "    <path d=\"M0 0h24v24H0V0z\" fill=\"none\"/>\n",
              "    <path d=\"M18.56 5.44l.94 2.06.94-2.06 2.06-.94-2.06-.94-.94-2.06-.94 2.06-2.06.94zm-11 1L8.5 8.5l.94-2.06 2.06-.94-2.06-.94L8.5 2.5l-.94 2.06-2.06.94zm10 10l.94 2.06.94-2.06 2.06-.94-2.06-.94-.94-2.06-.94 2.06-2.06.94z\"/><path d=\"M17.41 7.96l-1.37-1.37c-.4-.4-.92-.59-1.43-.59-.52 0-1.04.2-1.43.59L10.3 9.45l-7.72 7.72c-.78.78-.78 2.05 0 2.83L4 21.41c.39.39.9.59 1.41.59.51 0 1.02-.2 1.41-.59l7.78-7.78 2.81-2.81c.8-.78.8-2.07 0-2.86zM5.41 20L4 18.59l7.72-7.72 1.47 1.35L5.41 20z\"/>\n",
              "  </svg>\n",
              "      </button>\n",
              "      \n",
              "  <style>\n",
              "    .colab-df-container {\n",
              "      display:flex;\n",
              "      flex-wrap:wrap;\n",
              "      gap: 12px;\n",
              "    }\n",
              "\n",
              "    .colab-df-convert {\n",
              "      background-color: #E8F0FE;\n",
              "      border: none;\n",
              "      border-radius: 50%;\n",
              "      cursor: pointer;\n",
              "      display: none;\n",
              "      fill: #1967D2;\n",
              "      height: 32px;\n",
              "      padding: 0 0 0 0;\n",
              "      width: 32px;\n",
              "    }\n",
              "\n",
              "    .colab-df-convert:hover {\n",
              "      background-color: #E2EBFA;\n",
              "      box-shadow: 0px 1px 2px rgba(60, 64, 67, 0.3), 0px 1px 3px 1px rgba(60, 64, 67, 0.15);\n",
              "      fill: #174EA6;\n",
              "    }\n",
              "\n",
              "    [theme=dark] .colab-df-convert {\n",
              "      background-color: #3B4455;\n",
              "      fill: #D2E3FC;\n",
              "    }\n",
              "\n",
              "    [theme=dark] .colab-df-convert:hover {\n",
              "      background-color: #434B5C;\n",
              "      box-shadow: 0px 1px 3px 1px rgba(0, 0, 0, 0.15);\n",
              "      filter: drop-shadow(0px 1px 2px rgba(0, 0, 0, 0.3));\n",
              "      fill: #FFFFFF;\n",
              "    }\n",
              "  </style>\n",
              "\n",
              "      <script>\n",
              "        const buttonEl =\n",
              "          document.querySelector('#df-e044c2aa-410f-4567-8dec-ffd2a2cdd87f button.colab-df-convert');\n",
              "        buttonEl.style.display =\n",
              "          google.colab.kernel.accessAllowed ? 'block' : 'none';\n",
              "\n",
              "        async function convertToInteractive(key) {\n",
              "          const element = document.querySelector('#df-e044c2aa-410f-4567-8dec-ffd2a2cdd87f');\n",
              "          const dataTable =\n",
              "            await google.colab.kernel.invokeFunction('convertToInteractive',\n",
              "                                                     [key], {});\n",
              "          if (!dataTable) return;\n",
              "\n",
              "          const docLinkHtml = 'Like what you see? Visit the ' +\n",
              "            '<a target=\"_blank\" href=https://colab.research.google.com/notebooks/data_table.ipynb>data table notebook</a>'\n",
              "            + ' to learn more about interactive tables.';\n",
              "          element.innerHTML = '';\n",
              "          dataTable['output_type'] = 'display_data';\n",
              "          await google.colab.output.renderOutput(dataTable, element);\n",
              "          const docLink = document.createElement('div');\n",
              "          docLink.innerHTML = docLinkHtml;\n",
              "          element.appendChild(docLink);\n",
              "        }\n",
              "      </script>\n",
              "    </div>\n",
              "  </div>\n",
              "  "
            ]
          },
          "metadata": {},
          "execution_count": 23
        }
      ]
    },
    {
      "cell_type": "code",
      "source": [
        "# SAVE THE MODEL V04\n",
        "keras_file_modelV04 = \"/content/gdrive/MyDrive/Data_Science_2020-2022/Secondo_anno_Secondo_Semestre/FoDL_Project/Project_Example_Food/saved_models/modelV04.h5\"\n",
        "tf.keras.models.save_model(net_modelv04, keras_file_modelV04) # MODIFY MODEL WITH YOUR OWN MODEL"
      ],
      "metadata": {
        "id": "xhuGeQLfEWPP",
        "colab": {
          "base_uri": "https://localhost:8080/",
          "height": 17
        },
        "outputId": "69d65315-1015-4af4-8999-b9f00791ff93"
      },
      "execution_count": null,
      "outputs": [
        {
          "output_type": "display_data",
          "data": {
            "text/plain": [
              "<IPython.core.display.Javascript object>"
            ],
            "application/javascript": [
              "google.colab.output.setIframeHeight(0, true, {maxHeight: 300})"
            ]
          },
          "metadata": {}
        }
      ]
    },
    {
      "cell_type": "markdown",
      "metadata": {
        "id": "Ju16ckfof-LB"
      },
      "source": [
        "## 1.2.5 Model V05 - GRIDSEARCHCV\n",
        "\n",
        "GridSearchCV helps to loop through a predefined set of hyperparameters in order to fit the model on the training set. Doing so, it is possible to select the best parameters from the listed hyperparameters and automatically refit the model on those best ones that give the highest accuracy value.\n",
        "\n",
        "The *gridsearchcv* function applies also the cross-validation procedure: different portions of the data are used to train and test the model in order to feed it not only with one single portion of it. This technique should prevents the model to see only a specific chunck of the data."
      ]
    },
    {
      "cell_type": "markdown",
      "metadata": {
        "id": "kLwUBkU15aKq"
      },
      "source": [
        "### Parameters tuning"
      ]
    },
    {
      "cell_type": "code",
      "execution_count": null,
      "metadata": {
        "id": "BELXoc4S_XAJ",
        "colab": {
          "base_uri": "https://localhost:8080/",
          "height": 34
        },
        "outputId": "d1d8cc13-6d3d-464c-99f9-775d52e20da6"
      },
      "outputs": [
        {
          "output_type": "display_data",
          "data": {
            "text/plain": [
              "<IPython.core.display.Javascript object>"
            ],
            "application/javascript": [
              "google.colab.output.setIframeHeight(0, true, {maxHeight: 300})"
            ]
          },
          "metadata": {}
        },
        {
          "output_type": "stream",
          "name": "stdout",
          "text": [
            "Found 2003 images belonging to 10 classes.\n"
          ]
        }
      ],
      "source": [
        "# USE THE FLOW FROM DIRECTORY ONLY FOR THE TRAIN BECAUSE THE GRIDSEARCHCV METHOD\n",
        "# WILL CREATE ITS OWN TEST SET\n",
        "itr = train_datagen.flow_from_directory(\n",
        "    base_path_train,\n",
        "    target_size=(SIZE,SIZE),\n",
        "    batch_size= train_generator.n) # or use the value 3004. You flow through the entire training dataset and get all the images, using just one batch size!\n",
        "    # class_mode='categorical')\n",
        "\n",
        "X, y = itr.next()"
      ]
    },
    {
      "cell_type": "markdown",
      "source": [
        "Create the function *create_GSCV_model()* in order to create the model."
      ],
      "metadata": {
        "id": "Ww2tiX4oPNvD"
      }
    },
    {
      "cell_type": "code",
      "source": [
        "def create_GSCV_model(lr= 0.1, \n",
        "                      init_mode=\"he_uniform\", \n",
        "                      activation = 'relu', \n",
        "                      dropout_rate= 0.0, \n",
        "                      optimizer = 'Adam'):\n",
        "  \n",
        "  model_gridsearchCV = tf.keras.models.Sequential([\n",
        "  keras.Input((SIZE, SIZE, 3)),\n",
        "\n",
        "  # 1st Conv Block\n",
        "  keras.layers.Conv2D(32, 3, padding=\"same\", kernel_initializer=\"he_uniform\", kernel_regularizer=tf.keras.regularizers.l2(0.001)),\n",
        "  keras.layers.BatchNormalization(),\n",
        "  keras.layers.Activation('relu'),\n",
        "  keras.layers.MaxPooling2D(3, strides=3, padding=\"same\"),\n",
        "\n",
        "  # 2nd Conv Block\n",
        "  keras.layers.Conv2D(32, 3, padding=\"same\", kernel_initializer=\"he_uniform\", kernel_regularizer=tf.keras.regularizers.l2(0.001)),\n",
        "  keras.layers.BatchNormalization(),\n",
        "  keras.layers.Activation('relu'),\n",
        "  keras.layers.MaxPooling2D(3, strides=3, padding=\"same\"),\n",
        "\n",
        "  # 3rd Conv block\n",
        "  keras.layers.Conv2D(64, 3, padding=\"same\", kernel_initializer=\"he_uniform\", kernel_regularizer=tf.keras.regularizers.l2(0.001)),\n",
        "  keras.layers.BatchNormalization(),\n",
        "  keras.layers.Activation('relu'),\n",
        "  keras.layers.MaxPooling2D(3, strides=3, padding=\"same\"),\n",
        "\n",
        "  # 4rd Conv block\n",
        "  keras.layers.Conv2D(64, 3, padding=\"same\", kernel_initializer=\"he_uniform\", kernel_regularizer=tf.keras.regularizers.l2(0.001)),\n",
        "  keras.layers.BatchNormalization(),\n",
        "  keras.layers.Activation('relu'),\n",
        "  keras.layers.MaxPooling2D(3, strides=3, padding=\"same\"),\n",
        "\n",
        "  # 5th Conv block\n",
        "  keras.layers.Conv2D(128, 3, padding=\"same\", kernel_initializer=\"he_uniform\", kernel_regularizer=tf.keras.regularizers.l2(0.001)),\n",
        "  keras.layers.BatchNormalization(),\n",
        "  keras.layers.Activation('relu'),\n",
        "  keras.layers.MaxPooling2D(3, strides=3, padding=\"same\"),\n",
        "\n",
        "  # 6th Conv block\n",
        "  keras.layers.Conv2D(128, 3, padding=\"same\", kernel_initializer=\"he_uniform\", kernel_regularizer=tf.keras.regularizers.l2(0.001)),\n",
        "  keras.layers.BatchNormalization(),\n",
        "  keras.layers.Activation('relu'),\n",
        "  keras.layers.MaxPooling2D(3, strides=3, padding=\"same\"),\n",
        "\n",
        "  # 7th Conv block\n",
        "  keras.layers.Conv2D(512, 3, padding=\"same\", kernel_initializer=\"he_uniform\", kernel_regularizer=tf.keras.regularizers.l2(0.001)),\n",
        "  keras.layers.BatchNormalization(),\n",
        "  keras.layers.Activation('relu'),\n",
        "\n",
        "  # the model so far outputs 3D feature maps (height, width, features)\n",
        "\n",
        "  # FLATTEN AND ADD DROPOUT\n",
        "  keras.layers.Flatten(), # this converts our 3D feature maps to 1D feature vectors\n",
        "  keras.layers.Dropout(0.20),\n",
        "  keras.layers.Dense(512, activation='relu', kernel_regularizer=tf.keras.regularizers.l2(0.001)),\n",
        "  keras.layers.Dense(512, activation='relu', kernel_regularizer=tf.keras.regularizers.l2(0.001)),\n",
        "\n",
        "  keras.layers.Dense(num_classes, activation=\"softmax\", kernel_regularizer=tf.keras.regularizers.l2(0.001))\n",
        "  ])\n",
        "\n",
        "  # COMPILE THE MODEL\n",
        "  model_gridsearchCV.compile(loss=keras.losses.categorical_crossentropy,\n",
        "                             optimizer= keras.optimizers.Adam(learning_rate=lr),\n",
        "                             metrics=['accuracy'],\n",
        "                             steps_per_execution=5)\n",
        "\n",
        "  return model_gridsearchCV\n",
        "\n",
        "create_GSCV_model().summary()"
      ],
      "metadata": {
        "id": "3iz4m59_Sn1z",
        "colab": {
          "base_uri": "https://localhost:8080/",
          "height": 300
        },
        "outputId": "41b60459-2483-4605-cdb7-7539b9f4d932"
      },
      "execution_count": null,
      "outputs": [
        {
          "output_type": "display_data",
          "data": {
            "text/plain": [
              "<IPython.core.display.Javascript object>"
            ],
            "application/javascript": [
              "google.colab.output.setIframeHeight(0, true, {maxHeight: 300})"
            ]
          },
          "metadata": {}
        },
        {
          "output_type": "stream",
          "name": "stdout",
          "text": [
            "Model: \"sequential\"\n",
            "_________________________________________________________________\n",
            " Layer (type)                Output Shape              Param #   \n",
            "=================================================================\n",
            " conv2d_12 (Conv2D)          (None, 224, 224, 32)      896       \n",
            "                                                                 \n",
            " batch_normalization_12 (Bat  (None, 224, 224, 32)     128       \n",
            " chNormalization)                                                \n",
            "                                                                 \n",
            " activation_13 (Activation)  (None, 224, 224, 32)      0         \n",
            "                                                                 \n",
            " max_pooling2d_10 (MaxPoolin  (None, 75, 75, 32)       0         \n",
            " g2D)                                                            \n",
            "                                                                 \n",
            " conv2d_13 (Conv2D)          (None, 75, 75, 32)        9248      \n",
            "                                                                 \n",
            " batch_normalization_13 (Bat  (None, 75, 75, 32)       128       \n",
            " chNormalization)                                                \n",
            "                                                                 \n",
            " activation_14 (Activation)  (None, 75, 75, 32)        0         \n",
            "                                                                 \n",
            " max_pooling2d_11 (MaxPoolin  (None, 25, 25, 32)       0         \n",
            " g2D)                                                            \n",
            "                                                                 \n",
            " conv2d_14 (Conv2D)          (None, 25, 25, 64)        18496     \n",
            "                                                                 \n",
            " batch_normalization_14 (Bat  (None, 25, 25, 64)       256       \n",
            " chNormalization)                                                \n",
            "                                                                 \n",
            " activation_15 (Activation)  (None, 25, 25, 64)        0         \n",
            "                                                                 \n",
            " max_pooling2d_12 (MaxPoolin  (None, 9, 9, 64)         0         \n",
            " g2D)                                                            \n",
            "                                                                 \n",
            " conv2d_15 (Conv2D)          (None, 9, 9, 64)          36928     \n",
            "                                                                 \n",
            " batch_normalization_15 (Bat  (None, 9, 9, 64)         256       \n",
            " chNormalization)                                                \n",
            "                                                                 \n",
            " activation_16 (Activation)  (None, 9, 9, 64)          0         \n",
            "                                                                 \n",
            " max_pooling2d_13 (MaxPoolin  (None, 3, 3, 64)         0         \n",
            " g2D)                                                            \n",
            "                                                                 \n",
            " conv2d_16 (Conv2D)          (None, 3, 3, 128)         73856     \n",
            "                                                                 \n",
            " batch_normalization_16 (Bat  (None, 3, 3, 128)        512       \n",
            " chNormalization)                                                \n",
            "                                                                 \n",
            " activation_17 (Activation)  (None, 3, 3, 128)         0         \n",
            "                                                                 \n",
            " max_pooling2d_14 (MaxPoolin  (None, 1, 1, 128)        0         \n",
            " g2D)                                                            \n",
            "                                                                 \n",
            " conv2d_17 (Conv2D)          (None, 1, 1, 128)         147584    \n",
            "                                                                 \n",
            " batch_normalization_17 (Bat  (None, 1, 1, 128)        512       \n",
            " chNormalization)                                                \n",
            "                                                                 \n",
            " activation_18 (Activation)  (None, 1, 1, 128)         0         \n",
            "                                                                 \n",
            " max_pooling2d_15 (MaxPoolin  (None, 1, 1, 128)        0         \n",
            " g2D)                                                            \n",
            "                                                                 \n",
            " conv2d_18 (Conv2D)          (None, 1, 1, 512)         590336    \n",
            "                                                                 \n",
            " batch_normalization_18 (Bat  (None, 1, 1, 512)        2048      \n",
            " chNormalization)                                                \n",
            "                                                                 \n",
            " activation_19 (Activation)  (None, 1, 1, 512)         0         \n",
            "                                                                 \n",
            " flatten_2 (Flatten)         (None, 512)               0         \n",
            "                                                                 \n",
            " dropout_2 (Dropout)         (None, 512)               0         \n",
            "                                                                 \n",
            " dense_5 (Dense)             (None, 512)               262656    \n",
            "                                                                 \n",
            " dense_6 (Dense)             (None, 512)               262656    \n",
            "                                                                 \n",
            " dense_7 (Dense)             (None, 10)                5130      \n",
            "                                                                 \n",
            "=================================================================\n",
            "Total params: 1,411,626\n",
            "Trainable params: 1,409,706\n",
            "Non-trainable params: 1,920\n",
            "_________________________________________________________________\n"
          ]
        }
      ]
    },
    {
      "cell_type": "code",
      "execution_count": null,
      "metadata": {
        "id": "yGXft6JSNXhi",
        "colab": {
          "base_uri": "https://localhost:8080/",
          "height": 17
        },
        "outputId": "567fcc45-698b-494c-fcd1-55843d043a10"
      },
      "outputs": [
        {
          "output_type": "display_data",
          "data": {
            "text/plain": [
              "<IPython.core.display.Javascript object>"
            ],
            "application/javascript": [
              "google.colab.output.setIframeHeight(0, true, {maxHeight: 300})"
            ]
          },
          "metadata": {}
        }
      ],
      "source": [
        "# CREATE THE MODEL\n",
        "model_gridsearchcv = KerasClassifier(model = create_GSCV_model, # model = create_GSCV_model(), \n",
        "                                     epochs = 30,  \n",
        "                                     lr = 0.1,\n",
        "                                     verbose = 10,\n",
        "                                     activation = 'relu',\n",
        "                                     optimizer='Adam')"
      ]
    },
    {
      "cell_type": "code",
      "execution_count": null,
      "metadata": {
        "id": "o0mquIXLDaWQ",
        "colab": {
          "base_uri": "https://localhost:8080/",
          "height": 173
        },
        "outputId": "c8e94211-65ec-4f7e-dfd0-24df7be43b8c"
      },
      "outputs": [
        {
          "output_type": "display_data",
          "data": {
            "text/plain": [
              "<IPython.core.display.Javascript object>"
            ],
            "application/javascript": [
              "google.colab.output.setIframeHeight(0, true, {maxHeight: 300})"
            ]
          },
          "metadata": {}
        },
        {
          "output_type": "execute_result",
          "data": {
            "text/plain": [
              "RandomizedSearchCV(cv=3, error_score='raise',\n",
              "                   estimator=KerasClassifier(activation='relu', epochs=30, lr=0.1, model=<function create_GSCV_model at 0x7f9e566c4040>, optimizer='Adam', verbose=10),\n",
              "                   n_jobs=1,\n",
              "                   param_distributions={'activation': ['relu', 'LeakyRelu'],\n",
              "                                        'lr': [0.001, 0.0001],\n",
              "                                        'optimizer': ['SGD', 'Adam']},\n",
              "                   refit='accuracy_score',\n",
              "                   scoring={'accuracy_score': make_scorer(accuracy_score)})"
            ]
          },
          "metadata": {},
          "execution_count": 28
        }
      ],
      "source": [
        "# DEFINE THE GRID SEARCH PARAMETERS\n",
        "# batch_size = [16, 32]\n",
        "optimizer = ['SGD', 'Adam']\n",
        "lr = [0.001, 0.0001]\n",
        "activation = ['relu', 'LeakyRelu']\n",
        "\n",
        "# DEFINE THE SCORE DICTIONARY\n",
        "scorers = { \n",
        "            # 'recall_score': make_scorer(recall_score, average='micro')\n",
        "            'accuracy_score': make_scorer(accuracy_score)\n",
        "          }\n",
        "\n",
        "# DEFINE THE DICTIONARY PARAMETERS\n",
        "param_grid_CV = {\n",
        "    # 'batch_size': batch_size,\n",
        "    'optimizer': optimizer,\n",
        "    'lr': lr,\n",
        "    'activation': activation\n",
        "}\n",
        "\n",
        "# DEFINE THE GRIDSEARCHCV METHOD\n",
        "# n_iter_search = 32 \n",
        "grid_cv = RandomizedSearchCV(estimator = model_gridsearchcv, \n",
        "                             param_distributions = param_grid_CV, \n",
        "                             scoring=scorers,\n",
        "                            #  refit='recall_score',\n",
        "                             refit='accuracy_score',\n",
        "                             n_jobs = 1,\n",
        "                            #  n_iter=n_iter_search,\n",
        "                             cv = 3, \n",
        "                             error_score = \"raise\")\n",
        "\n",
        "grid_cv"
      ]
    },
    {
      "cell_type": "code",
      "execution_count": null,
      "metadata": {
        "id": "feNsV7HZDf41",
        "colab": {
          "base_uri": "https://localhost:8080/",
          "height": 300
        },
        "outputId": "60c11376-37f6-4928-9c04-1df205b284c1"
      },
      "outputs": [
        {
          "output_type": "display_data",
          "data": {
            "text/plain": [
              "<IPython.core.display.Javascript object>"
            ],
            "application/javascript": [
              "google.colab.output.setIframeHeight(0, true, {maxHeight: 300})"
            ]
          },
          "metadata": {}
        },
        {
          "output_type": "stream",
          "name": "stderr",
          "text": [
            "/usr/local/lib/python3.8/dist-packages/sklearn/model_selection/_search.py:292: UserWarning: The total space of parameters 8 is smaller than n_iter=10. Running 8 iterations. For exhaustive searches, use GridSearchCV.\n",
            "  warnings.warn(\n"
          ]
        },
        {
          "output_type": "stream",
          "name": "stdout",
          "text": [
            "Epoch 1/30\n",
            "Epoch 2/30\n",
            "Epoch 3/30\n",
            "Epoch 4/30\n",
            "Epoch 5/30\n",
            "Epoch 6/30\n",
            "Epoch 7/30\n",
            "Epoch 8/30\n",
            "Epoch 9/30\n",
            "Epoch 10/30\n",
            "Epoch 11/30\n",
            "Epoch 12/30\n",
            "Epoch 13/30\n",
            "Epoch 14/30\n",
            "Epoch 15/30\n",
            "Epoch 16/30\n",
            "Epoch 17/30\n",
            "Epoch 18/30\n",
            "Epoch 19/30\n",
            "Epoch 20/30\n",
            "Epoch 21/30\n",
            "Epoch 22/30\n",
            "Epoch 23/30\n",
            "Epoch 24/30\n",
            "Epoch 25/30\n",
            "Epoch 26/30\n",
            "Epoch 27/30\n",
            "Epoch 28/30\n",
            "Epoch 29/30\n",
            "Epoch 30/30\n",
            "Epoch 1/30\n",
            "Epoch 2/30\n",
            "Epoch 3/30\n",
            "Epoch 4/30\n",
            "Epoch 5/30\n",
            "Epoch 6/30\n",
            "Epoch 7/30\n",
            "Epoch 8/30\n",
            "Epoch 9/30\n",
            "Epoch 10/30\n",
            "Epoch 11/30\n",
            "Epoch 12/30\n",
            "Epoch 13/30\n",
            "Epoch 14/30\n",
            "Epoch 15/30\n",
            "Epoch 16/30\n",
            "Epoch 17/30\n",
            "Epoch 18/30\n",
            "Epoch 19/30\n",
            "Epoch 20/30\n",
            "Epoch 21/30\n",
            "Epoch 22/30\n",
            "Epoch 23/30\n",
            "Epoch 24/30\n",
            "Epoch 25/30\n",
            "Epoch 26/30\n",
            "Epoch 27/30\n",
            "Epoch 28/30\n",
            "Epoch 29/30\n",
            "Epoch 30/30\n",
            "Epoch 1/30\n",
            "Epoch 2/30\n",
            "Epoch 3/30\n",
            "Epoch 4/30\n",
            "Epoch 5/30\n",
            "Epoch 6/30\n",
            "Epoch 7/30\n",
            "Epoch 8/30\n",
            "Epoch 9/30\n",
            "Epoch 10/30\n",
            "Epoch 11/30\n",
            "Epoch 12/30\n",
            "Epoch 13/30\n",
            "Epoch 14/30\n",
            "Epoch 15/30\n",
            "Epoch 16/30\n",
            "Epoch 17/30\n",
            "Epoch 18/30\n",
            "Epoch 19/30\n",
            "Epoch 20/30\n",
            "Epoch 21/30\n",
            "Epoch 22/30\n",
            "Epoch 23/30\n",
            "Epoch 24/30\n",
            "Epoch 25/30\n",
            "Epoch 26/30\n",
            "Epoch 27/30\n",
            "Epoch 28/30\n",
            "Epoch 29/30\n",
            "Epoch 30/30\n",
            "Epoch 1/30\n",
            "Epoch 2/30\n",
            "Epoch 3/30\n",
            "Epoch 4/30\n",
            "Epoch 5/30\n",
            "Epoch 6/30\n",
            "Epoch 7/30\n",
            "Epoch 8/30\n",
            "Epoch 9/30\n",
            "Epoch 10/30\n",
            "Epoch 11/30\n",
            "Epoch 12/30\n",
            "Epoch 13/30\n",
            "Epoch 14/30\n",
            "Epoch 15/30\n",
            "Epoch 16/30\n",
            "Epoch 17/30\n",
            "Epoch 18/30\n",
            "Epoch 19/30\n",
            "Epoch 20/30\n",
            "Epoch 21/30\n",
            "Epoch 22/30\n",
            "Epoch 23/30\n",
            "Epoch 24/30\n",
            "Epoch 25/30\n",
            "Epoch 26/30\n",
            "Epoch 27/30\n",
            "Epoch 28/30\n",
            "Epoch 29/30\n",
            "Epoch 30/30\n",
            "Epoch 1/30\n",
            "Epoch 2/30\n",
            "Epoch 3/30\n",
            "Epoch 4/30\n",
            "Epoch 5/30\n",
            "Epoch 6/30\n",
            "Epoch 7/30\n",
            "Epoch 8/30\n",
            "Epoch 9/30\n",
            "Epoch 10/30\n",
            "Epoch 11/30\n",
            "Epoch 12/30\n",
            "Epoch 13/30\n",
            "Epoch 14/30\n",
            "Epoch 15/30\n",
            "Epoch 16/30\n",
            "Epoch 17/30\n",
            "Epoch 18/30\n",
            "Epoch 19/30\n",
            "Epoch 20/30\n",
            "Epoch 21/30\n",
            "Epoch 22/30\n",
            "Epoch 23/30\n",
            "Epoch 24/30\n",
            "Epoch 25/30\n",
            "Epoch 26/30\n",
            "Epoch 27/30\n",
            "Epoch 28/30\n",
            "Epoch 29/30\n",
            "Epoch 30/30\n",
            "Epoch 1/30\n",
            "Epoch 2/30\n",
            "Epoch 3/30\n",
            "Epoch 4/30\n",
            "Epoch 5/30\n",
            "Epoch 6/30\n",
            "Epoch 7/30\n",
            "Epoch 8/30\n",
            "Epoch 9/30\n",
            "Epoch 10/30\n",
            "Epoch 11/30\n",
            "Epoch 12/30\n",
            "Epoch 13/30\n",
            "Epoch 14/30\n",
            "Epoch 15/30\n",
            "Epoch 16/30\n",
            "Epoch 17/30\n",
            "Epoch 18/30\n",
            "Epoch 19/30\n",
            "Epoch 20/30\n",
            "Epoch 21/30\n",
            "Epoch 22/30\n",
            "Epoch 23/30\n",
            "Epoch 24/30\n",
            "Epoch 25/30\n",
            "Epoch 26/30\n",
            "Epoch 27/30\n",
            "Epoch 28/30\n",
            "Epoch 29/30\n",
            "Epoch 30/30\n",
            "Epoch 1/30\n",
            "Epoch 2/30\n",
            "Epoch 3/30\n",
            "Epoch 4/30\n",
            "Epoch 5/30\n",
            "Epoch 6/30\n",
            "Epoch 7/30\n",
            "Epoch 8/30\n",
            "Epoch 9/30\n",
            "Epoch 10/30\n",
            "Epoch 11/30\n",
            "Epoch 12/30\n",
            "Epoch 13/30\n",
            "Epoch 14/30\n",
            "Epoch 15/30\n",
            "Epoch 16/30\n",
            "Epoch 17/30\n",
            "Epoch 18/30\n",
            "Epoch 19/30\n",
            "Epoch 20/30\n",
            "Epoch 21/30\n",
            "Epoch 22/30\n",
            "Epoch 23/30\n",
            "Epoch 24/30\n",
            "Epoch 25/30\n",
            "Epoch 26/30\n",
            "Epoch 27/30\n",
            "Epoch 28/30\n",
            "Epoch 29/30\n",
            "Epoch 30/30\n",
            "Epoch 1/30\n",
            "Epoch 2/30\n",
            "Epoch 3/30\n",
            "Epoch 4/30\n",
            "Epoch 5/30\n",
            "Epoch 6/30\n",
            "Epoch 7/30\n",
            "Epoch 8/30\n",
            "Epoch 9/30\n",
            "Epoch 10/30\n",
            "Epoch 11/30\n",
            "Epoch 12/30\n",
            "Epoch 13/30\n",
            "Epoch 14/30\n",
            "Epoch 15/30\n",
            "Epoch 16/30\n",
            "Epoch 17/30\n",
            "Epoch 18/30\n",
            "Epoch 19/30\n",
            "Epoch 20/30\n",
            "Epoch 21/30\n",
            "Epoch 22/30\n",
            "Epoch 23/30\n",
            "Epoch 24/30\n",
            "Epoch 25/30\n",
            "Epoch 26/30\n",
            "Epoch 27/30\n",
            "Epoch 28/30\n",
            "Epoch 29/30\n",
            "Epoch 30/30\n",
            "Epoch 1/30\n",
            "Epoch 2/30\n",
            "Epoch 3/30\n",
            "Epoch 4/30\n",
            "Epoch 5/30\n",
            "Epoch 6/30\n",
            "Epoch 7/30\n",
            "Epoch 8/30\n",
            "Epoch 9/30\n",
            "Epoch 10/30\n",
            "Epoch 11/30\n",
            "Epoch 12/30\n",
            "Epoch 13/30\n",
            "Epoch 14/30\n",
            "Epoch 15/30\n",
            "Epoch 16/30\n",
            "Epoch 17/30\n",
            "Epoch 18/30\n",
            "Epoch 19/30\n",
            "Epoch 20/30\n",
            "Epoch 21/30\n",
            "Epoch 22/30\n",
            "Epoch 23/30\n",
            "Epoch 24/30\n",
            "Epoch 25/30\n",
            "Epoch 26/30\n",
            "Epoch 27/30\n",
            "Epoch 28/30\n",
            "Epoch 29/30\n",
            "Epoch 30/30\n",
            "Epoch 1/30\n",
            "Epoch 2/30\n",
            "Epoch 3/30\n",
            "Epoch 4/30\n",
            "Epoch 5/30\n",
            "Epoch 6/30\n",
            "Epoch 7/30\n",
            "Epoch 8/30\n",
            "Epoch 9/30\n",
            "Epoch 10/30\n",
            "Epoch 11/30\n",
            "Epoch 12/30\n",
            "Epoch 13/30\n",
            "Epoch 14/30\n",
            "Epoch 15/30\n",
            "Epoch 16/30\n",
            "Epoch 17/30\n",
            "Epoch 18/30\n",
            "Epoch 19/30\n",
            "Epoch 20/30\n",
            "Epoch 21/30\n",
            "Epoch 22/30\n",
            "Epoch 23/30\n",
            "Epoch 24/30\n",
            "Epoch 25/30\n",
            "Epoch 26/30\n",
            "Epoch 27/30\n",
            "Epoch 28/30\n",
            "Epoch 29/30\n",
            "Epoch 30/30\n",
            "Epoch 1/30\n",
            "Epoch 2/30\n",
            "Epoch 3/30\n",
            "Epoch 4/30\n",
            "Epoch 5/30\n",
            "Epoch 6/30\n",
            "Epoch 7/30\n",
            "Epoch 8/30\n",
            "Epoch 9/30\n",
            "Epoch 10/30\n",
            "Epoch 11/30\n",
            "Epoch 12/30\n",
            "Epoch 13/30\n",
            "Epoch 14/30\n",
            "Epoch 15/30\n",
            "Epoch 16/30\n",
            "Epoch 17/30\n",
            "Epoch 18/30\n",
            "Epoch 19/30\n",
            "Epoch 20/30\n",
            "Epoch 21/30\n",
            "Epoch 22/30\n",
            "Epoch 23/30\n",
            "Epoch 24/30\n",
            "Epoch 25/30\n",
            "Epoch 26/30\n",
            "Epoch 27/30\n",
            "Epoch 28/30\n",
            "Epoch 29/30\n",
            "Epoch 30/30\n",
            "Epoch 1/30\n",
            "Epoch 2/30\n",
            "Epoch 3/30\n",
            "Epoch 4/30\n",
            "Epoch 5/30\n",
            "Epoch 6/30\n",
            "Epoch 7/30\n",
            "Epoch 8/30\n",
            "Epoch 9/30\n",
            "Epoch 10/30\n",
            "Epoch 11/30\n",
            "Epoch 12/30\n",
            "Epoch 13/30\n",
            "Epoch 14/30\n",
            "Epoch 15/30\n",
            "Epoch 16/30\n",
            "Epoch 17/30\n",
            "Epoch 18/30\n",
            "Epoch 19/30\n",
            "Epoch 20/30\n",
            "Epoch 21/30\n",
            "Epoch 22/30\n",
            "Epoch 23/30\n",
            "Epoch 24/30\n",
            "Epoch 25/30\n",
            "Epoch 26/30\n",
            "Epoch 27/30\n",
            "Epoch 28/30\n",
            "Epoch 29/30\n",
            "Epoch 30/30\n",
            "Epoch 1/30\n",
            "Epoch 2/30\n",
            "Epoch 3/30\n",
            "Epoch 4/30\n",
            "Epoch 5/30\n",
            "Epoch 6/30\n",
            "Epoch 7/30\n",
            "Epoch 8/30\n",
            "Epoch 9/30\n",
            "Epoch 10/30\n",
            "Epoch 11/30\n",
            "Epoch 12/30\n",
            "Epoch 13/30\n",
            "Epoch 14/30\n",
            "Epoch 15/30\n",
            "Epoch 16/30\n",
            "Epoch 17/30\n",
            "Epoch 18/30\n",
            "Epoch 19/30\n",
            "Epoch 20/30\n",
            "Epoch 21/30\n",
            "Epoch 22/30\n",
            "Epoch 23/30\n",
            "Epoch 24/30\n",
            "Epoch 25/30\n",
            "Epoch 26/30\n",
            "Epoch 27/30\n",
            "Epoch 28/30\n",
            "Epoch 29/30\n",
            "Epoch 30/30\n",
            "Epoch 1/30\n",
            "Epoch 2/30\n",
            "Epoch 3/30\n",
            "Epoch 4/30\n",
            "Epoch 5/30\n",
            "Epoch 6/30\n",
            "Epoch 7/30\n",
            "Epoch 8/30\n",
            "Epoch 9/30\n",
            "Epoch 10/30\n",
            "Epoch 11/30\n",
            "Epoch 12/30\n",
            "Epoch 13/30\n",
            "Epoch 14/30\n",
            "Epoch 15/30\n",
            "Epoch 16/30\n",
            "Epoch 17/30\n",
            "Epoch 18/30\n",
            "Epoch 19/30\n",
            "Epoch 20/30\n",
            "Epoch 21/30\n",
            "Epoch 22/30\n",
            "Epoch 23/30\n",
            "Epoch 24/30\n",
            "Epoch 25/30\n",
            "Epoch 26/30\n",
            "Epoch 27/30\n",
            "Epoch 28/30\n",
            "Epoch 29/30\n",
            "Epoch 30/30\n",
            "Epoch 1/30\n",
            "Epoch 2/30\n",
            "Epoch 3/30\n",
            "Epoch 4/30\n",
            "Epoch 5/30\n",
            "Epoch 6/30\n",
            "Epoch 7/30\n",
            "Epoch 8/30\n",
            "Epoch 9/30\n",
            "Epoch 10/30\n",
            "Epoch 11/30\n",
            "Epoch 12/30\n",
            "Epoch 13/30\n",
            "Epoch 14/30\n",
            "Epoch 15/30\n",
            "Epoch 16/30\n",
            "Epoch 17/30\n",
            "Epoch 18/30\n",
            "Epoch 19/30\n",
            "Epoch 20/30\n",
            "Epoch 21/30\n",
            "Epoch 22/30\n",
            "Epoch 23/30\n",
            "Epoch 24/30\n",
            "Epoch 25/30\n",
            "Epoch 26/30\n",
            "Epoch 27/30\n",
            "Epoch 28/30\n",
            "Epoch 29/30\n",
            "Epoch 30/30\n",
            "Epoch 1/30\n",
            "Epoch 2/30\n",
            "Epoch 3/30\n",
            "Epoch 4/30\n",
            "Epoch 5/30\n",
            "Epoch 6/30\n",
            "Epoch 7/30\n",
            "Epoch 8/30\n",
            "Epoch 9/30\n",
            "Epoch 10/30\n",
            "Epoch 11/30\n",
            "Epoch 12/30\n",
            "Epoch 13/30\n",
            "Epoch 14/30\n",
            "Epoch 15/30\n",
            "Epoch 16/30\n",
            "Epoch 17/30\n",
            "Epoch 18/30\n",
            "Epoch 19/30\n",
            "Epoch 20/30\n",
            "Epoch 21/30\n",
            "Epoch 22/30\n",
            "Epoch 23/30\n",
            "Epoch 24/30\n",
            "Epoch 25/30\n",
            "Epoch 26/30\n",
            "Epoch 27/30\n",
            "Epoch 28/30\n",
            "Epoch 29/30\n",
            "Epoch 30/30\n",
            "Epoch 1/30\n",
            "Epoch 2/30\n",
            "Epoch 3/30\n",
            "Epoch 4/30\n",
            "Epoch 5/30\n",
            "Epoch 6/30\n",
            "Epoch 7/30\n",
            "Epoch 8/30\n",
            "Epoch 9/30\n",
            "Epoch 10/30\n",
            "Epoch 11/30\n",
            "Epoch 12/30\n",
            "Epoch 13/30\n",
            "Epoch 14/30\n",
            "Epoch 15/30\n",
            "Epoch 16/30\n",
            "Epoch 17/30\n",
            "Epoch 18/30\n",
            "Epoch 19/30\n",
            "Epoch 20/30\n",
            "Epoch 21/30\n",
            "Epoch 22/30\n",
            "Epoch 23/30\n",
            "Epoch 24/30\n",
            "Epoch 25/30\n",
            "Epoch 26/30\n",
            "Epoch 27/30\n",
            "Epoch 28/30\n",
            "Epoch 29/30\n",
            "Epoch 30/30\n",
            "Epoch 1/30\n",
            "Epoch 2/30\n",
            "Epoch 3/30\n",
            "Epoch 4/30\n",
            "Epoch 5/30\n",
            "Epoch 6/30\n",
            "Epoch 7/30\n",
            "Epoch 8/30\n",
            "Epoch 9/30\n",
            "Epoch 10/30\n",
            "Epoch 11/30\n",
            "Epoch 12/30\n",
            "Epoch 13/30\n",
            "Epoch 14/30\n",
            "Epoch 15/30\n",
            "Epoch 16/30\n",
            "Epoch 17/30\n",
            "Epoch 18/30\n",
            "Epoch 19/30\n",
            "Epoch 20/30\n",
            "Epoch 21/30\n",
            "Epoch 22/30\n",
            "Epoch 23/30\n",
            "Epoch 24/30\n",
            "Epoch 25/30\n",
            "Epoch 26/30\n",
            "Epoch 27/30\n",
            "Epoch 28/30\n",
            "Epoch 29/30\n",
            "Epoch 30/30\n",
            "Epoch 1/30\n",
            "Epoch 2/30\n",
            "Epoch 3/30\n",
            "Epoch 4/30\n",
            "Epoch 5/30\n",
            "Epoch 6/30\n",
            "Epoch 7/30\n",
            "Epoch 8/30\n",
            "Epoch 9/30\n",
            "Epoch 10/30\n",
            "Epoch 11/30\n",
            "Epoch 12/30\n",
            "Epoch 13/30\n",
            "Epoch 14/30\n",
            "Epoch 15/30\n",
            "Epoch 16/30\n",
            "Epoch 17/30\n",
            "Epoch 18/30\n",
            "Epoch 19/30\n",
            "Epoch 20/30\n",
            "Epoch 21/30\n",
            "Epoch 22/30\n",
            "Epoch 23/30\n",
            "Epoch 24/30\n",
            "Epoch 25/30\n",
            "Epoch 26/30\n",
            "Epoch 27/30\n",
            "Epoch 28/30\n",
            "Epoch 29/30\n",
            "Epoch 30/30\n",
            "Epoch 1/30\n",
            "Epoch 2/30\n",
            "Epoch 3/30\n",
            "Epoch 4/30\n",
            "Epoch 5/30\n",
            "Epoch 6/30\n",
            "Epoch 7/30\n",
            "Epoch 8/30\n",
            "Epoch 9/30\n",
            "Epoch 10/30\n",
            "Epoch 11/30\n",
            "Epoch 12/30\n",
            "Epoch 13/30\n",
            "Epoch 14/30\n",
            "Epoch 15/30\n",
            "Epoch 16/30\n",
            "Epoch 17/30\n",
            "Epoch 18/30\n",
            "Epoch 19/30\n",
            "Epoch 20/30\n",
            "Epoch 21/30\n",
            "Epoch 22/30\n",
            "Epoch 23/30\n",
            "Epoch 24/30\n",
            "Epoch 25/30\n",
            "Epoch 26/30\n",
            "Epoch 27/30\n",
            "Epoch 28/30\n",
            "Epoch 29/30\n",
            "Epoch 30/30\n",
            "Epoch 1/30\n",
            "Epoch 2/30\n",
            "Epoch 3/30\n",
            "Epoch 4/30\n",
            "Epoch 5/30\n",
            "Epoch 6/30\n",
            "Epoch 7/30\n",
            "Epoch 8/30\n",
            "Epoch 9/30\n",
            "Epoch 10/30\n",
            "Epoch 11/30\n",
            "Epoch 12/30\n",
            "Epoch 13/30\n",
            "Epoch 14/30\n",
            "Epoch 15/30\n",
            "Epoch 16/30\n",
            "Epoch 17/30\n",
            "Epoch 18/30\n",
            "Epoch 19/30\n",
            "Epoch 20/30\n",
            "Epoch 21/30\n",
            "Epoch 22/30\n",
            "Epoch 23/30\n",
            "Epoch 24/30\n",
            "Epoch 25/30\n",
            "Epoch 26/30\n",
            "Epoch 27/30\n",
            "Epoch 28/30\n",
            "Epoch 29/30\n",
            "Epoch 30/30\n",
            "Epoch 1/30\n",
            "Epoch 2/30\n",
            "Epoch 3/30\n",
            "Epoch 4/30\n",
            "Epoch 5/30\n",
            "Epoch 6/30\n",
            "Epoch 7/30\n",
            "Epoch 8/30\n",
            "Epoch 9/30\n",
            "Epoch 10/30\n",
            "Epoch 11/30\n",
            "Epoch 12/30\n",
            "Epoch 13/30\n",
            "Epoch 14/30\n",
            "Epoch 15/30\n",
            "Epoch 16/30\n",
            "Epoch 17/30\n",
            "Epoch 18/30\n",
            "Epoch 19/30\n",
            "Epoch 20/30\n",
            "Epoch 21/30\n",
            "Epoch 22/30\n",
            "Epoch 23/30\n",
            "Epoch 24/30\n",
            "Epoch 25/30\n",
            "Epoch 26/30\n",
            "Epoch 27/30\n",
            "Epoch 28/30\n",
            "Epoch 29/30\n",
            "Epoch 30/30\n",
            "Epoch 1/30\n",
            "Epoch 2/30\n",
            "Epoch 3/30\n",
            "Epoch 4/30\n",
            "Epoch 5/30\n",
            "Epoch 6/30\n",
            "Epoch 7/30\n",
            "Epoch 8/30\n",
            "Epoch 9/30\n",
            "Epoch 10/30\n",
            "Epoch 11/30\n",
            "Epoch 12/30\n",
            "Epoch 13/30\n",
            "Epoch 14/30\n",
            "Epoch 15/30\n",
            "Epoch 16/30\n",
            "Epoch 17/30\n",
            "Epoch 18/30\n",
            "Epoch 19/30\n",
            "Epoch 20/30\n",
            "Epoch 21/30\n",
            "Epoch 22/30\n",
            "Epoch 23/30\n",
            "Epoch 24/30\n",
            "Epoch 25/30\n",
            "Epoch 26/30\n",
            "Epoch 27/30\n",
            "Epoch 28/30\n",
            "Epoch 29/30\n",
            "Epoch 30/30\n",
            "Epoch 1/30\n",
            "Epoch 2/30\n",
            "Epoch 3/30\n",
            "Epoch 4/30\n",
            "Epoch 5/30\n",
            "Epoch 6/30\n",
            "Epoch 7/30\n",
            "Epoch 8/30\n",
            "Epoch 9/30\n",
            "Epoch 10/30\n",
            "Epoch 11/30\n",
            "Epoch 12/30\n",
            "Epoch 13/30\n",
            "Epoch 14/30\n",
            "Epoch 15/30\n",
            "Epoch 16/30\n",
            "Epoch 17/30\n",
            "Epoch 18/30\n",
            "Epoch 19/30\n",
            "Epoch 20/30\n",
            "Epoch 21/30\n",
            "Epoch 22/30\n",
            "Epoch 23/30\n",
            "Epoch 24/30\n",
            "Epoch 25/30\n",
            "Epoch 26/30\n",
            "Epoch 27/30\n",
            "Epoch 28/30\n",
            "Epoch 29/30\n",
            "Epoch 30/30\n",
            "Epoch 1/30\n",
            "Epoch 2/30\n",
            "Epoch 3/30\n",
            "Epoch 4/30\n",
            "Epoch 5/30\n",
            "Epoch 6/30\n",
            "Epoch 7/30\n",
            "Epoch 8/30\n",
            "Epoch 9/30\n",
            "Epoch 10/30\n",
            "Epoch 11/30\n",
            "Epoch 12/30\n",
            "Epoch 13/30\n",
            "Epoch 14/30\n",
            "Epoch 15/30\n",
            "Epoch 16/30\n",
            "Epoch 17/30\n",
            "Epoch 18/30\n",
            "Epoch 19/30\n",
            "Epoch 20/30\n",
            "Epoch 21/30\n",
            "Epoch 22/30\n",
            "Epoch 23/30\n",
            "Epoch 24/30\n",
            "Epoch 25/30\n",
            "Epoch 26/30\n",
            "Epoch 27/30\n",
            "Epoch 28/30\n",
            "Epoch 29/30\n",
            "Epoch 30/30\n",
            "Total execution time is:  0:25:14.838595\n"
          ]
        }
      ],
      "source": [
        "# START COUNTING THE TIME\n",
        "start = datetime.datetime.now()\n",
        "\n",
        "# FIT THE GRIDSEARCH MODEL\n",
        "grid_fit = grid_cv.fit(X, y)\n",
        "\n",
        "# STOP COUNTING THE TIME\n",
        "end = datetime.datetime.now()\n",
        "print(\"Total execution time is: \", end-start)"
      ]
    },
    {
      "cell_type": "code",
      "source": [
        "# SUMMARIZE RESULTS AND SHOW BEST VALUES\n",
        "\n",
        "print(\"Best: %f using %s\" % (grid_fit.best_score_, grid_fit.best_params_))\n",
        "means = grid_fit.cv_results_['mean_test_accuracy_score']\n",
        "stds = grid_fit.cv_results_['std_test_accuracy_score']\n",
        "params = grid_fit.cv_results_['params']\n",
        "\n",
        "for mean, stdev, param in zip(means, stds, params):\n",
        "    print(\"%f (%f) with: %r\" % (mean, stdev, param))"
      ],
      "metadata": {
        "colab": {
          "base_uri": "https://localhost:8080/",
          "height": 173
        },
        "id": "BhXSx2ic37Tn",
        "outputId": "155b222f-efbb-4f67-d221-3ece485614c8"
      },
      "execution_count": null,
      "outputs": [
        {
          "output_type": "display_data",
          "data": {
            "text/plain": [
              "<IPython.core.display.Javascript object>"
            ],
            "application/javascript": [
              "google.colab.output.setIframeHeight(0, true, {maxHeight: 300})"
            ]
          },
          "metadata": {}
        },
        {
          "output_type": "stream",
          "name": "stdout",
          "text": [
            "Best: 0.737390 using {'optimizer': 'Adam', 'lr': 0.001, 'activation': 'LeakyRelu'}\n",
            "0.714423 (0.038721) with: {'optimizer': 'SGD', 'lr': 0.001, 'activation': 'relu'}\n",
            "0.700904 (0.063506) with: {'optimizer': 'Adam', 'lr': 0.001, 'activation': 'relu'}\n",
            "0.729902 (0.034608) with: {'optimizer': 'SGD', 'lr': 0.0001, 'activation': 'relu'}\n",
            "0.712436 (0.019340) with: {'optimizer': 'Adam', 'lr': 0.0001, 'activation': 'relu'}\n",
            "0.719398 (0.034903) with: {'optimizer': 'SGD', 'lr': 0.001, 'activation': 'LeakyRelu'}\n",
            "0.737390 (0.028190) with: {'optimizer': 'Adam', 'lr': 0.001, 'activation': 'LeakyRelu'}\n",
            "0.720420 (0.008098) with: {'optimizer': 'SGD', 'lr': 0.0001, 'activation': 'LeakyRelu'}\n",
            "0.719915 (0.014923) with: {'optimizer': 'Adam', 'lr': 0.0001, 'activation': 'LeakyRelu'}\n"
          ]
        }
      ]
    },
    {
      "cell_type": "markdown",
      "metadata": {
        "id": "JJcaOkDggEDO"
      },
      "source": [
        "### Performance results Model V05"
      ]
    },
    {
      "cell_type": "code",
      "source": [
        "# SAVE THE TIME NEEDED TO RUN THE ALGORITHM\n",
        "time_duration_modelV05_gridsearchcv = end - start\n",
        "print(time_duration_modelV05_gridsearchcv)"
      ],
      "metadata": {
        "id": "eg8crS49dNIm",
        "colab": {
          "base_uri": "https://localhost:8080/",
          "height": 34
        },
        "outputId": "6934d013-1fe6-4979-ef69-b2a5fb2474fb"
      },
      "execution_count": null,
      "outputs": [
        {
          "output_type": "display_data",
          "data": {
            "text/plain": [
              "<IPython.core.display.Javascript object>"
            ],
            "application/javascript": [
              "google.colab.output.setIframeHeight(0, true, {maxHeight: 300})"
            ]
          },
          "metadata": {}
        },
        {
          "output_type": "stream",
          "name": "stdout",
          "text": [
            "0:25:14.838595\n"
          ]
        }
      ]
    },
    {
      "cell_type": "markdown",
      "source": [
        "## 1.2.6 MODEL V04_GRIDSEARCHCV - Retraining with best gridsearchCV parameters founded.\n",
        "\n",
        "We are going to retrain the model V04 with the best parameters obtained in model V05 in order to be able to show also all the metrics that we already saved for the other models."
      ],
      "metadata": {
        "id": "i9cy6VzitmQO"
      }
    },
    {
      "cell_type": "code",
      "source": [
        "from keras.layers import LeakyReLU\n",
        "\n",
        "# BEST PARAMETERS\n",
        "batch_size_GSCV = 16\n",
        "optimizer_GSCV = 'Adam'\n",
        "learning_rate_GSCV = 0.001"
      ],
      "metadata": {
        "colab": {
          "base_uri": "https://localhost:8080/",
          "height": 17
        },
        "id": "3hL3gmoutsSp",
        "outputId": "05a98f84-98d5-4065-c7d0-3c2baf2b6847"
      },
      "execution_count": null,
      "outputs": [
        {
          "output_type": "display_data",
          "data": {
            "text/plain": [
              "<IPython.core.display.Javascript object>"
            ],
            "application/javascript": [
              "google.colab.output.setIframeHeight(0, true, {maxHeight: 300})"
            ]
          },
          "metadata": {}
        }
      ]
    },
    {
      "cell_type": "code",
      "source": [
        "inputs = keras.Input((SIZE,SIZE,3))\n",
        "\n",
        "x = inputs\n",
        "\n",
        "x = keras.layers.Conv2D(32, 3, padding=\"same\", kernel_initializer=\"he_uniform\", kernel_regularizer=tf.keras.regularizers.l2(0.001))(x)\n",
        "x = keras.layers.BatchNormalization()(x)\n",
        "x = keras.layers.Activation(LeakyReLU())(x)\n",
        "x = keras.layers.MaxPooling2D(3, strides=3, padding=\"same\")(x)\n",
        "\n",
        "x = keras.layers.Conv2D(32, 3, padding=\"same\", kernel_initializer=\"he_uniform\", kernel_regularizer=tf.keras.regularizers.l2(0.001))(x)\n",
        "x = keras.layers.BatchNormalization()(x)\n",
        "x = keras.layers.Activation(LeakyReLU())(x)\n",
        "x = keras.layers.MaxPooling2D(3, strides=3, padding=\"same\")(x)\n",
        "\n",
        "x = keras.layers.Conv2D(64, 3, padding=\"same\", kernel_initializer=\"he_uniform\", kernel_regularizer=tf.keras.regularizers.l2(0.001))(x)\n",
        "x = keras.layers.BatchNormalization()(x)\n",
        "x = keras.layers.Activation(LeakyReLU())(x)\n",
        "x = keras.layers.MaxPooling2D(3, strides=3, padding=\"same\")(x)\n",
        "\n",
        "x = keras.layers.Conv2D(64, 3, padding=\"same\", kernel_initializer=\"he_uniform\", kernel_regularizer=tf.keras.regularizers.l2(0.001))(x)\n",
        "x = keras.layers.BatchNormalization()(x)\n",
        "x = keras.layers.Activation(LeakyReLU())(x)\n",
        "x = keras.layers.MaxPooling2D(3, strides=3, padding=\"same\")(x)\n",
        "\n",
        "x = keras.layers.Conv2D(128, 3, padding=\"same\", kernel_initializer=\"he_uniform\", kernel_regularizer=tf.keras.regularizers.l2(0.001))(x)\n",
        "x = keras.layers.BatchNormalization()(x)\n",
        "x = keras.layers.Activation(LeakyReLU())(x)\n",
        "x = keras.layers.MaxPooling2D(3, strides=3, padding=\"same\")(x)\n",
        "\n",
        "x = keras.layers.Conv2D(128, 3, padding=\"same\", kernel_initializer=\"he_uniform\", kernel_regularizer=tf.keras.regularizers.l2(0.001))(x)\n",
        "x = keras.layers.BatchNormalization()(x)\n",
        "x = keras.layers.Activation(LeakyReLU())(x)\n",
        "x = keras.layers.MaxPooling2D(3, strides=3, padding=\"same\")(x)\n",
        "\n",
        "x = keras.layers.Conv2D(512, 3, padding=\"same\", kernel_initializer=\"he_uniform\", kernel_regularizer=tf.keras.regularizers.l2(0.001))(x)\n",
        "x = keras.layers.BatchNormalization()(x)\n",
        "x = keras.layers.Activation(LeakyReLU())(x)\n",
        "x = keras.layers.GlobalMaxPooling2D()(x)\n",
        "\n",
        "# the model so far outputs 3D feature maps (height, width, features)\n",
        "\n",
        "# FLATTEN AND ADD DROPOUT\n",
        "x = tf.keras.layers.Flatten()(x) # this converts our 3D feature maps to 1D feature vectors\n",
        "x = keras.layers.Dense(512, activation=LeakyReLU(), kernel_regularizer=tf.keras.regularizers.l2(0.001))(x)\n",
        "x = keras.layers.Activation(LeakyReLU())(x)\n",
        "x = keras.layers.Dropout(.15)(x)\n",
        "x = keras.layers.Dense(512, activation=LeakyReLU(), kernel_regularizer=tf.keras.regularizers.l2(0.001))(x)\n",
        "\n",
        "outputs = keras.layers.Dense(num_classes, activation=\"softmax\", kernel_regularizer=tf.keras.regularizers.l2(0.001))(x)\n",
        "\n",
        "net_modelvGSCV = keras.Model(inputs, outputs)\n",
        "\n",
        "net_modelvGSCV.summary()"
      ],
      "metadata": {
        "colab": {
          "base_uri": "https://localhost:8080/",
          "height": 300
        },
        "id": "06uhhTkY2YhS",
        "outputId": "f61d23a5-7f78-4ebd-bcfa-e62c879c7eeb"
      },
      "execution_count": null,
      "outputs": [
        {
          "output_type": "display_data",
          "data": {
            "text/plain": [
              "<IPython.core.display.Javascript object>"
            ],
            "application/javascript": [
              "google.colab.output.setIframeHeight(0, true, {maxHeight: 300})"
            ]
          },
          "metadata": {}
        },
        {
          "output_type": "stream",
          "name": "stdout",
          "text": [
            "Model: \"model_3\"\n",
            "_________________________________________________________________\n",
            " Layer (type)                Output Shape              Param #   \n",
            "=================================================================\n",
            " input_31 (InputLayer)       [(None, 224, 224, 3)]     0         \n",
            "                                                                 \n",
            " conv2d_202 (Conv2D)         (None, 224, 224, 32)      896       \n",
            "                                                                 \n",
            " batch_normalization_202 (Ba  (None, 224, 224, 32)     128       \n",
            " tchNormalization)                                               \n",
            "                                                                 \n",
            " activation_204 (Activation)  (None, 224, 224, 32)     0         \n",
            "                                                                 \n",
            " max_pooling2d_172 (MaxPooli  (None, 75, 75, 32)       0         \n",
            " ng2D)                                                           \n",
            "                                                                 \n",
            " conv2d_203 (Conv2D)         (None, 75, 75, 32)        9248      \n",
            "                                                                 \n",
            " batch_normalization_203 (Ba  (None, 75, 75, 32)       128       \n",
            " tchNormalization)                                               \n",
            "                                                                 \n",
            " activation_205 (Activation)  (None, 75, 75, 32)       0         \n",
            "                                                                 \n",
            " max_pooling2d_173 (MaxPooli  (None, 25, 25, 32)       0         \n",
            " ng2D)                                                           \n",
            "                                                                 \n",
            " conv2d_204 (Conv2D)         (None, 25, 25, 64)        18496     \n",
            "                                                                 \n",
            " batch_normalization_204 (Ba  (None, 25, 25, 64)       256       \n",
            " tchNormalization)                                               \n",
            "                                                                 \n",
            " activation_206 (Activation)  (None, 25, 25, 64)       0         \n",
            "                                                                 \n",
            " max_pooling2d_174 (MaxPooli  (None, 9, 9, 64)         0         \n",
            " ng2D)                                                           \n",
            "                                                                 \n",
            " conv2d_205 (Conv2D)         (None, 9, 9, 64)          36928     \n",
            "                                                                 \n",
            " batch_normalization_205 (Ba  (None, 9, 9, 64)         256       \n",
            " tchNormalization)                                               \n",
            "                                                                 \n",
            " activation_207 (Activation)  (None, 9, 9, 64)         0         \n",
            "                                                                 \n",
            " max_pooling2d_175 (MaxPooli  (None, 3, 3, 64)         0         \n",
            " ng2D)                                                           \n",
            "                                                                 \n",
            " conv2d_206 (Conv2D)         (None, 3, 3, 128)         73856     \n",
            "                                                                 \n",
            " batch_normalization_206 (Ba  (None, 3, 3, 128)        512       \n",
            " tchNormalization)                                               \n",
            "                                                                 \n",
            " activation_208 (Activation)  (None, 3, 3, 128)        0         \n",
            "                                                                 \n",
            " max_pooling2d_176 (MaxPooli  (None, 1, 1, 128)        0         \n",
            " ng2D)                                                           \n",
            "                                                                 \n",
            " conv2d_207 (Conv2D)         (None, 1, 1, 128)         147584    \n",
            "                                                                 \n",
            " batch_normalization_207 (Ba  (None, 1, 1, 128)        512       \n",
            " tchNormalization)                                               \n",
            "                                                                 \n",
            " activation_209 (Activation)  (None, 1, 1, 128)        0         \n",
            "                                                                 \n",
            " max_pooling2d_177 (MaxPooli  (None, 1, 1, 128)        0         \n",
            " ng2D)                                                           \n",
            "                                                                 \n",
            " conv2d_208 (Conv2D)         (None, 1, 1, 512)         590336    \n",
            "                                                                 \n",
            " batch_normalization_208 (Ba  (None, 1, 1, 512)        2048      \n",
            " tchNormalization)                                               \n",
            "                                                                 \n",
            " activation_210 (Activation)  (None, 1, 1, 512)        0         \n",
            "                                                                 \n",
            " global_max_pooling2d_3 (Glo  (None, 512)              0         \n",
            " balMaxPooling2D)                                                \n",
            "                                                                 \n",
            " flatten_29 (Flatten)        (None, 512)               0         \n",
            "                                                                 \n",
            " dense_86 (Dense)            (None, 512)               262656    \n",
            "                                                                 \n",
            " activation_211 (Activation)  (None, 512)              0         \n",
            "                                                                 \n",
            " dropout_29 (Dropout)        (None, 512)               0         \n",
            "                                                                 \n",
            " dense_87 (Dense)            (None, 512)               262656    \n",
            "                                                                 \n",
            " dense_88 (Dense)            (None, 10)                5130      \n",
            "                                                                 \n",
            "=================================================================\n",
            "Total params: 1,411,626\n",
            "Trainable params: 1,409,706\n",
            "Non-trainable params: 1,920\n",
            "_________________________________________________________________\n"
          ]
        }
      ]
    },
    {
      "cell_type": "code",
      "source": [
        "net_modelvGSCV.compile(loss=keras.losses.categorical_crossentropy,\n",
        "            optimizer= keras.optimizers.Adam(learning_rate=learning_rate_GSCV),\n",
        "            metrics=['accuracy'])"
      ],
      "metadata": {
        "colab": {
          "base_uri": "https://localhost:8080/",
          "height": 17
        },
        "id": "ZvTDe_hP2gAd",
        "outputId": "c2f8f9df-59e9-43fd-cb5e-6f84e9d76a16"
      },
      "execution_count": null,
      "outputs": [
        {
          "output_type": "display_data",
          "data": {
            "text/plain": [
              "<IPython.core.display.Javascript object>"
            ],
            "application/javascript": [
              "google.colab.output.setIframeHeight(0, true, {maxHeight: 300})"
            ]
          },
          "metadata": {}
        }
      ]
    },
    {
      "cell_type": "code",
      "source": [
        "# START COUNTING THE TIME\n",
        "start = datetime.datetime.now()\n",
        "\n",
        "history_modelv04_CV = net_modelvGSCV.fit(\n",
        "        train_generator,\n",
        "        epochs=30, \n",
        "        steps_per_epoch = train_generator.n // train_generator.batch_size,\n",
        "        validation_data = val_generator,\n",
        "        validation_steps = val_generator.n // val_generator.batch_size,\n",
        "        callbacks = [callback])\n",
        "\n",
        "# STOP COUNTING THE TIME\n",
        "end = datetime.datetime.now()\n",
        "print(\"Total execution time is: \", end-start)"
      ],
      "metadata": {
        "colab": {
          "base_uri": "https://localhost:8080/",
          "height": 300
        },
        "id": "FoykFdf824t0",
        "outputId": "00eb4b12-1ea3-490d-d305-9c452f487b04"
      },
      "execution_count": null,
      "outputs": [
        {
          "output_type": "display_data",
          "data": {
            "text/plain": [
              "<IPython.core.display.Javascript object>"
            ],
            "application/javascript": [
              "google.colab.output.setIframeHeight(0, true, {maxHeight: 300})"
            ]
          },
          "metadata": {}
        },
        {
          "output_type": "stream",
          "name": "stdout",
          "text": [
            "Epoch 1/30\n",
            "125/125 [==============================] - 34s 258ms/step - loss: 3.4448 - accuracy: 0.5098 - val_loss: 4.0223 - val_accuracy: 0.1208\n",
            "Epoch 2/30\n",
            "125/125 [==============================] - 27s 217ms/step - loss: 2.7256 - accuracy: 0.6366 - val_loss: 5.0529 - val_accuracy: 0.1750\n",
            "Epoch 3/30\n",
            "125/125 [==============================] - 29s 232ms/step - loss: 2.4511 - accuracy: 0.6885 - val_loss: 3.9423 - val_accuracy: 0.2667\n",
            "Epoch 4/30\n",
            "125/125 [==============================] - 27s 219ms/step - loss: 2.1831 - accuracy: 0.7343 - val_loss: 2.7046 - val_accuracy: 0.5625\n",
            "Epoch 5/30\n",
            "125/125 [==============================] - 28s 227ms/step - loss: 2.0673 - accuracy: 0.7383 - val_loss: 2.4602 - val_accuracy: 0.6250\n",
            "Epoch 6/30\n",
            "125/125 [==============================] - 27s 219ms/step - loss: 1.8635 - accuracy: 0.7816 - val_loss: 2.8895 - val_accuracy: 0.4833\n",
            "Epoch 7/30\n",
            "125/125 [==============================] - 28s 224ms/step - loss: 1.8233 - accuracy: 0.7650 - val_loss: 2.4642 - val_accuracy: 0.5500\n",
            "Epoch 8/30\n",
            "125/125 [==============================] - 28s 224ms/step - loss: 1.7144 - accuracy: 0.7831 - val_loss: 2.3772 - val_accuracy: 0.5875\n",
            "Epoch 9/30\n",
            "125/125 [==============================] - 29s 234ms/step - loss: 1.5564 - accuracy: 0.8193 - val_loss: 2.1713 - val_accuracy: 0.6333\n",
            "Epoch 10/30\n",
            "125/125 [==============================] - 28s 222ms/step - loss: 1.4651 - accuracy: 0.8239 - val_loss: 2.4101 - val_accuracy: 0.5833\n",
            "Epoch 11/30\n",
            "125/125 [==============================] - 28s 225ms/step - loss: 1.4467 - accuracy: 0.8198 - val_loss: 2.5304 - val_accuracy: 0.5625\n",
            "Epoch 12/30\n",
            "125/125 [==============================] - 27s 218ms/step - loss: 1.4085 - accuracy: 0.8178 - val_loss: 1.9683 - val_accuracy: 0.6708\n",
            "Epoch 13/30\n",
            "125/125 [==============================] - 29s 229ms/step - loss: 1.2936 - accuracy: 0.8415 - val_loss: 2.3322 - val_accuracy: 0.5000\n",
            "Epoch 14/30\n",
            "125/125 [==============================] - 28s 227ms/step - loss: 1.2661 - accuracy: 0.8420 - val_loss: 2.3765 - val_accuracy: 0.5500\n",
            "Epoch 15/30\n",
            "125/125 [==============================] - 28s 225ms/step - loss: 1.2382 - accuracy: 0.8379 - val_loss: 2.6931 - val_accuracy: 0.5417\n",
            "Epoch 16/30\n",
            "125/125 [==============================] - 27s 219ms/step - loss: 1.1851 - accuracy: 0.8611 - val_loss: 1.9252 - val_accuracy: 0.6333\n",
            "Epoch 17/30\n",
            "125/125 [==============================] - 31s 250ms/step - loss: 1.1475 - accuracy: 0.8566 - val_loss: 2.2353 - val_accuracy: 0.6250\n",
            "Epoch 18/30\n",
            "125/125 [==============================] - 34s 271ms/step - loss: 1.1136 - accuracy: 0.8556 - val_loss: 2.7985 - val_accuracy: 0.4833\n",
            "Epoch 19/30\n",
            "125/125 [==============================] - 28s 225ms/step - loss: 1.0900 - accuracy: 0.8611 - val_loss: 2.8548 - val_accuracy: 0.4792\n",
            "Epoch 20/30\n",
            "125/125 [==============================] - 29s 229ms/step - loss: 1.0790 - accuracy: 0.8641 - val_loss: 2.1121 - val_accuracy: 0.5708\n",
            "Epoch 21/30\n",
            "125/125 [==============================] - 28s 227ms/step - loss: 1.0394 - accuracy: 0.8777 - val_loss: 1.8199 - val_accuracy: 0.6833\n",
            "Epoch 22/30\n",
            "125/125 [==============================] - 27s 219ms/step - loss: 1.0695 - accuracy: 0.8596 - val_loss: 2.0293 - val_accuracy: 0.6375\n",
            "Epoch 23/30\n",
            "125/125 [==============================] - 29s 232ms/step - loss: 1.0231 - accuracy: 0.8616 - val_loss: 2.3007 - val_accuracy: 0.5875\n",
            "Epoch 24/30\n",
            "125/125 [==============================] - 28s 224ms/step - loss: 0.9636 - accuracy: 0.8868 - val_loss: 1.8307 - val_accuracy: 0.6292\n",
            "Epoch 25/30\n",
            "125/125 [==============================] - 29s 229ms/step - loss: 1.0134 - accuracy: 0.8712 - val_loss: 2.7254 - val_accuracy: 0.5292\n",
            "Epoch 26/30\n",
            "125/125 [==============================] - 29s 232ms/step - loss: 1.0008 - accuracy: 0.8686 - val_loss: 1.8366 - val_accuracy: 0.6417\n",
            "Epoch 27/30\n",
            "125/125 [==============================] - 29s 228ms/step - loss: 0.9192 - accuracy: 0.8928 - val_loss: 2.0425 - val_accuracy: 0.6083\n",
            "Epoch 28/30\n",
            "125/125 [==============================] - 28s 222ms/step - loss: 0.9255 - accuracy: 0.8858 - val_loss: 1.4575 - val_accuracy: 0.7458\n",
            "Epoch 29/30\n",
            "125/125 [==============================] - 29s 229ms/step - loss: 0.8779 - accuracy: 0.8973 - val_loss: 1.8097 - val_accuracy: 0.6708\n",
            "Epoch 30/30\n",
            "125/125 [==============================] - 28s 221ms/step - loss: 0.9707 - accuracy: 0.8697 - val_loss: 1.7087 - val_accuracy: 0.6958\n",
            "Total execution time is:  0:18:09.093354\n"
          ]
        }
      ]
    },
    {
      "cell_type": "code",
      "source": [
        "# PLOT THEM TOGETHER\n",
        "# Visualization of the learning curves\n",
        "plt.figure(figsize=(15,6))\n",
        "\n",
        "# VISUALIZZIAMO NUOVAMENTE L'OUTPUT IN TERMINI DI LOSS FUNCTION\n",
        "plt.subplot(1, 2, 1)\n",
        "plt.plot(history_modelv04_CV.history['loss'])\n",
        "plt.plot(history_modelv04_CV.history['val_loss'])\n",
        "plt.ylim([0.0, 6.0]) # è difficile da dire a priori\n",
        "plt.xlabel('Epoch')\n",
        "plt.ylabel('Loss')\n",
        "plt.legend(['train', 'valid'])\n",
        "\n",
        "plt.subplot(1, 2, 2)\n",
        "plt.plot(history_modelv04_CV.history['accuracy'])\n",
        "plt.plot(history_modelv04_CV.history['val_accuracy'])\n",
        "plt.ylim([0.0, 1.0]) # 0.5 è il minimo sindacale - dummy classifier fa 50% - fino al massimo 1. \n",
        "plt.xlabel('Epoch')\n",
        "plt.ylabel('Accuracy')\n",
        "plt.legend(['train', 'valid'])"
      ],
      "metadata": {
        "colab": {
          "base_uri": "https://localhost:8080/",
          "height": 300
        },
        "id": "s96y5dDM3O-y",
        "outputId": "26aa0bfe-8fe4-4623-c621-f92aac35dad9"
      },
      "execution_count": null,
      "outputs": [
        {
          "output_type": "display_data",
          "data": {
            "text/plain": [
              "<IPython.core.display.Javascript object>"
            ],
            "application/javascript": [
              "google.colab.output.setIframeHeight(0, true, {maxHeight: 300})"
            ]
          },
          "metadata": {}
        },
        {
          "output_type": "execute_result",
          "data": {
            "text/plain": [
              "<matplotlib.legend.Legend at 0x7f9dd9f426d0>"
            ]
          },
          "metadata": {},
          "execution_count": 43
        },
        {
          "output_type": "display_data",
          "data": {
            "text/plain": [
              "<Figure size 1080x432 with 2 Axes>"
            ],
            "image/png": "[encoded data removed]"
          },
          "metadata": {
            "needs_background": "light"
          }
        }
      ]
    },
    {
      "cell_type": "markdown",
      "source": [
        "### Performance results Model V04 GRIDSEARCHCV and Model Persistence\n",
        "\n",
        "The model performs better than the previous ones reducing the overfitting problem, but still not reaching a high accuracy on the validation set compare to the following models."
      ],
      "metadata": {
        "id": "LJBNLLIj3SNw"
      }
    },
    {
      "cell_type": "code",
      "source": [
        "# SAVE THE TIME NEEDED TO RUN THE ALGORITHM\n",
        "time_duration_modelV04_gridsearchCV = end - start\n",
        "print(time_duration_modelV04_gridsearchCV)"
      ],
      "metadata": {
        "id": "5WzV4FvSdj43",
        "colab": {
          "base_uri": "https://localhost:8080/",
          "height": 34
        },
        "outputId": "30ebfdda-1fb7-4d3e-dfb9-755640752c4a"
      },
      "execution_count": null,
      "outputs": [
        {
          "output_type": "display_data",
          "data": {
            "text/plain": [
              "<IPython.core.display.Javascript object>"
            ],
            "application/javascript": [
              "google.colab.output.setIframeHeight(0, true, {maxHeight: 300})"
            ]
          },
          "metadata": {}
        },
        {
          "output_type": "stream",
          "name": "stdout",
          "text": [
            "0:18:09.093354\n"
          ]
        }
      ]
    },
    {
      "cell_type": "code",
      "source": [
        "# GET THE MINIMUM ACCURACY, THE MAXIMUM ACCURACY, THE MINIMUM LOSS, THE MAXIMUM LOSS AND SAVE THEM IN VARIABLES.\n",
        "# THEN CREATE A DATAFRAME AT THE END WHERE YOU CAN COMPARE DIFFERENT MODELS WITH IT!\n",
        "\n",
        "# LOSS/VAL LOSS\n",
        "modelV04_GDCV_minLoss = min(history_modelv04_CV.history['loss'])\n",
        "modelV04_GDCV_maxLoss = max(history_modelv04_CV.history['loss'])\n",
        "modelV04_GDCV_minValLoss = min(history_modelv04_CV.history['val_loss'])\n",
        "modelV04_GDCV_maxValLoss = max(history_modelv04_CV.history['val_loss'])\n",
        "\n",
        "# ACCURACY/VAL ACCURACY\n",
        "modelV04_GDCV_minAccuracy = min(history_modelv04_CV.history['accuracy'])\n",
        "modelV04_GDCV_maxAccuracy = max(history_modelv04_CV.history['accuracy'])\n",
        "modelV04_GDCV_minValAccuracy = min(history_modelv04_CV.history['val_accuracy'])\n",
        "modelV04_GDCV_maxValAccuracy = max(history_modelv04_CV.history['val_accuracy'])\n",
        "\n",
        "# CREATE THE DATAFRAME\n",
        "modelV04_GDCV_loss_accuracy = pd.DataFrame({\"minLoss\": [modelV04_GDCV_minLoss],\n",
        "                                       \"maxloss\": [modelV04_GDCV_maxLoss],\n",
        "                                       \"minValLoss\": [modelV04_GDCV_minValLoss],\n",
        "                                       \"maxValLoss\": [modelV04_GDCV_maxValLoss],\n",
        "                                       \"minAccuracy\": [modelV04_GDCV_minAccuracy],\n",
        "                                       \"maxAccuracy\": [modelV04_GDCV_maxAccuracy],\n",
        "                                       \"minValAccuracy\": [modelV04_GDCV_minValAccuracy],\n",
        "                                       \"maxValAccuracy\": [modelV04_GDCV_maxValAccuracy]}).T\n",
        "\n",
        "# CHANGE THE FIRST COLUMN NAME\n",
        "modelV04_GDCV_loss_accuracy = modelV04_GDCV_loss_accuracy.rename(columns={0: 'modelV04_GDCV'})\n",
        "# CHANGE THE INDEX NAME\n",
        "modelV04_GDCV_loss_accuracy.index.names = ['Performance']\n",
        "modelV04_GDCV_loss_accuracy"
      ],
      "metadata": {
        "colab": {
          "base_uri": "https://localhost:8080/",
          "height": 300
        },
        "id": "Fje84e7O3VZw",
        "outputId": "88b64a1a-4fe6-47f4-9515-0449e73ac707"
      },
      "execution_count": null,
      "outputs": [
        {
          "output_type": "display_data",
          "data": {
            "text/plain": [
              "<IPython.core.display.Javascript object>"
            ],
            "application/javascript": [
              "google.colab.output.setIframeHeight(0, true, {maxHeight: 300})"
            ]
          },
          "metadata": {}
        },
        {
          "output_type": "execute_result",
          "data": {
            "text/plain": [
              "                modelV04_GDCV\n",
              "Performance                  \n",
              "minLoss              0.877889\n",
              "maxloss              3.444823\n",
              "minValLoss           1.457513\n",
              "maxValLoss           5.052853\n",
              "minAccuracy          0.509814\n",
              "maxAccuracy          0.897333\n",
              "minValAccuracy       0.120833\n",
              "maxValAccuracy       0.745833"
            ],
            "text/html": [
              "\n",
              "  <div id=\"df-d46b7fb2-763b-4d5a-aad6-a9c3fcc24ea3\">\n",
              "    <div class=\"colab-df-container\">\n",
              "      <div>\n",
              "<style scoped>\n",
              "    .dataframe tbody tr th:only-of-type {\n",
              "        vertical-align: middle;\n",
              "    }\n",
              "\n",
              "    .dataframe tbody tr th {\n",
              "        vertical-align: top;\n",
              "    }\n",
              "\n",
              "    .dataframe thead th {\n",
              "        text-align: right;\n",
              "    }\n",
              "</style>\n",
              "<table border=\"1\" class=\"dataframe\">\n",
              "  <thead>\n",
              "    <tr style=\"text-align: right;\">\n",
              "      <th></th>\n",
              "      <th>modelV04_GDCV</th>\n",
              "    </tr>\n",
              "    <tr>\n",
              "      <th>Performance</th>\n",
              "      <th></th>\n",
              "    </tr>\n",
              "  </thead>\n",
              "  <tbody>\n",
              "    <tr>\n",
              "      <th>minLoss</th>\n",
              "      <td>0.877889</td>\n",
              "    </tr>\n",
              "    <tr>\n",
              "      <th>maxloss</th>\n",
              "      <td>3.444823</td>\n",
              "    </tr>\n",
              "    <tr>\n",
              "      <th>minValLoss</th>\n",
              "      <td>1.457513</td>\n",
              "    </tr>\n",
              "    <tr>\n",
              "      <th>maxValLoss</th>\n",
              "      <td>5.052853</td>\n",
              "    </tr>\n",
              "    <tr>\n",
              "      <th>minAccuracy</th>\n",
              "      <td>0.509814</td>\n",
              "    </tr>\n",
              "    <tr>\n",
              "      <th>maxAccuracy</th>\n",
              "      <td>0.897333</td>\n",
              "    </tr>\n",
              "    <tr>\n",
              "      <th>minValAccuracy</th>\n",
              "      <td>0.120833</td>\n",
              "    </tr>\n",
              "    <tr>\n",
              "      <th>maxValAccuracy</th>\n",
              "      <td>0.745833</td>\n",
              "    </tr>\n",
              "  </tbody>\n",
              "</table>\n",
              "</div>\n",
              "      <button class=\"colab-df-convert\" onclick=\"convertToInteractive('df-d46b7fb2-763b-4d5a-aad6-a9c3fcc24ea3')\"\n",
              "              title=\"Convert this dataframe to an interactive table.\"\n",
              "              style=\"display:none;\">\n",
              "        \n",
              "  <svg xmlns=\"http://www.w3.org/2000/svg\" height=\"24px\"viewBox=\"0 0 24 24\"\n",
              "       width=\"24px\">\n",
              "    <path d=\"M0 0h24v24H0V0z\" fill=\"none\"/>\n",
              "    <path d=\"M18.56 5.44l.94 2.06.94-2.06 2.06-.94-2.06-.94-.94-2.06-.94 2.06-2.06.94zm-11 1L8.5 8.5l.94-2.06 2.06-.94-2.06-.94L8.5 2.5l-.94 2.06-2.06.94zm10 10l.94 2.06.94-2.06 2.06-.94-2.06-.94-.94-2.06-.94 2.06-2.06.94z\"/><path d=\"M17.41 7.96l-1.37-1.37c-.4-.4-.92-.59-1.43-.59-.52 0-1.04.2-1.43.59L10.3 9.45l-7.72 7.72c-.78.78-.78 2.05 0 2.83L4 21.41c.39.39.9.59 1.41.59.51 0 1.02-.2 1.41-.59l7.78-7.78 2.81-2.81c.8-.78.8-2.07 0-2.86zM5.41 20L4 18.59l7.72-7.72 1.47 1.35L5.41 20z\"/>\n",
              "  </svg>\n",
              "      </button>\n",
              "      \n",
              "  <style>\n",
              "    .colab-df-container {\n",
              "      display:flex;\n",
              "      flex-wrap:wrap;\n",
              "      gap: 12px;\n",
              "    }\n",
              "\n",
              "    .colab-df-convert {\n",
              "      background-color: #E8F0FE;\n",
              "      border: none;\n",
              "      border-radius: 50%;\n",
              "      cursor: pointer;\n",
              "      display: none;\n",
              "      fill: #1967D2;\n",
              "      height: 32px;\n",
              "      padding: 0 0 0 0;\n",
              "      width: 32px;\n",
              "    }\n",
              "\n",
              "    .colab-df-convert:hover {\n",
              "      background-color: #E2EBFA;\n",
              "      box-shadow: 0px 1px 2px rgba(60, 64, 67, 0.3), 0px 1px 3px 1px rgba(60, 64, 67, 0.15);\n",
              "      fill: #174EA6;\n",
              "    }\n",
              "\n",
              "    [theme=dark] .colab-df-convert {\n",
              "      background-color: #3B4455;\n",
              "      fill: #D2E3FC;\n",
              "    }\n",
              "\n",
              "    [theme=dark] .colab-df-convert:hover {\n",
              "      background-color: #434B5C;\n",
              "      box-shadow: 0px 1px 3px 1px rgba(0, 0, 0, 0.15);\n",
              "      filter: drop-shadow(0px 1px 2px rgba(0, 0, 0, 0.3));\n",
              "      fill: #FFFFFF;\n",
              "    }\n",
              "  </style>\n",
              "\n",
              "      <script>\n",
              "        const buttonEl =\n",
              "          document.querySelector('#df-d46b7fb2-763b-4d5a-aad6-a9c3fcc24ea3 button.colab-df-convert');\n",
              "        buttonEl.style.display =\n",
              "          google.colab.kernel.accessAllowed ? 'block' : 'none';\n",
              "\n",
              "        async function convertToInteractive(key) {\n",
              "          const element = document.querySelector('#df-d46b7fb2-763b-4d5a-aad6-a9c3fcc24ea3');\n",
              "          const dataTable =\n",
              "            await google.colab.kernel.invokeFunction('convertToInteractive',\n",
              "                                                     [key], {});\n",
              "          if (!dataTable) return;\n",
              "\n",
              "          const docLinkHtml = 'Like what you see? Visit the ' +\n",
              "            '<a target=\"_blank\" href=https://colab.research.google.com/notebooks/data_table.ipynb>data table notebook</a>'\n",
              "            + ' to learn more about interactive tables.';\n",
              "          element.innerHTML = '';\n",
              "          dataTable['output_type'] = 'display_data';\n",
              "          await google.colab.output.renderOutput(dataTable, element);\n",
              "          const docLink = document.createElement('div');\n",
              "          docLink.innerHTML = docLinkHtml;\n",
              "          element.appendChild(docLink);\n",
              "        }\n",
              "      </script>\n",
              "    </div>\n",
              "  </div>\n",
              "  "
            ]
          },
          "metadata": {},
          "execution_count": 45
        }
      ]
    },
    {
      "cell_type": "code",
      "source": [
        "# SAVE THE MODELV04 GRIDSEARCHCV\n",
        "keras_file_modelV04_gridsearchCV = \"/content/gdrive/MyDrive/Data_Science_2020-2022/Secondo_anno_Secondo_Semestre/FoDL_Project/Project_Example_Food/saved_models/modelV04_GSCV.h5\"\n",
        "tf.keras.models.save_model(net_modelvGSCV, keras_file_modelV04_gridsearchCV) # MODIFY MODEL WITH YOUR OWN MODEL"
      ],
      "metadata": {
        "id": "JV75tkcyEiuW",
        "colab": {
          "base_uri": "https://localhost:8080/",
          "height": 17
        },
        "outputId": "b8cdad66-f302-4b5b-f911-857282b0bf1a"
      },
      "execution_count": null,
      "outputs": [
        {
          "output_type": "display_data",
          "data": {
            "text/plain": [
              "<IPython.core.display.Javascript object>"
            ],
            "application/javascript": [
              "google.colab.output.setIframeHeight(0, true, {maxHeight: 300})"
            ]
          },
          "metadata": {}
        }
      ]
    },
    {
      "cell_type": "markdown",
      "source": [
        "\n",
        "\n",
        "---\n",
        "\n",
        "\n",
        "\n",
        "---\n",
        "\n"
      ],
      "metadata": {
        "id": "6aHNAioKO64G"
      }
    },
    {
      "cell_type": "markdown",
      "metadata": {
        "id": "LJcpQKBp0JJW"
      },
      "source": [
        "## 1.2.7 Model V06 - Transfer learning with MOBILENETV2 and VGG16"
      ]
    },
    {
      "cell_type": "markdown",
      "metadata": {
        "id": "ddL-xctx3Sgz"
      },
      "source": [
        "The goal of using a pretrained model is that this model has been built to be very good at extracting useful features from images (it is called _feature extractor_).\n",
        "The convolutional layer that is not meant to do classification (the last layer) has the goal of extracting features from the images.\n",
        "We will use those features in order to classify our data.\n",
        "\n",
        "As state in <a href = \"https://cs231n.github.io/convolutional-networks/\"> **CS231n Convolutional Neural Networks for Visual Recognition**:\n",
        "\n",
        "*In practice: use whatever works best on ImageNet. If you’re feeling a bit of a fatigue in thinking about the architectural decisions, you’ll be pleased to know that in 90% or more of applications you should not have to worry about these. I like to summarize this point as “don’t be a hero”: Instead of rolling your own architecture for a problem, you should look at whatever architecture currently works best on ImageNet, download a pretrained model and finetune it on your data. You should rarely ever have to train a ConvNet from scratch or design one from scratch.*</a>\n",
        "\n",
        "In this section we are going to try out three different architectures in order to compare their performance and choose the best one to solve our food image classification problem."
      ]
    },
    {
      "cell_type": "markdown",
      "source": [
        "#### **MOBILENETV2**"
      ],
      "metadata": {
        "id": "z7Pw_Seuc4Fg"
      }
    },
    {
      "cell_type": "code",
      "source": [
        "# BEST PARAMETERS\n",
        "batch_size_CV = 16\n",
        "optimizer_CV = 'Adam'\n",
        "learning_rate_CV = 0.0001\n",
        "activation_CV = 'relu'"
      ],
      "metadata": {
        "id": "SCcwU9KjiV2V",
        "colab": {
          "base_uri": "https://localhost:8080/",
          "height": 17
        },
        "outputId": "b2a127e1-8dab-46e3-805b-c6f941aa72c0"
      },
      "execution_count": null,
      "outputs": [
        {
          "output_type": "display_data",
          "data": {
            "text/plain": [
              "<IPython.core.display.Javascript object>"
            ],
            "application/javascript": [
              "google.colab.output.setIframeHeight(0, true, {maxHeight: 300})"
            ]
          },
          "metadata": {}
        }
      ]
    },
    {
      "cell_type": "code",
      "source": [
        "# DATA AUGMENTATION ONLY ON THE TRAINING SET\n",
        "train_datagen_mnetv2 = ImageDataGenerator(\n",
        "        rescale=1./255.0,\n",
        "        shear_range=0.2,\n",
        "        zoom_range=0.1,\n",
        "        horizontal_flip=True,\n",
        "        width_shift_range=0.1,\n",
        "        height_shift_range=0.1,\n",
        "        rotation_range=45,\n",
        "        fill_mode='nearest')\n",
        "\n",
        "# this is the augmentation configuration we will use for testing:\n",
        "# only rescaling\n",
        "val_datagen_mnetv2 = ImageDataGenerator(rescale=1./255.0) \n",
        "\n",
        "# this is a generator that will read pictures found in\n",
        "# subfolers of 'data/train', and indefinitely generate\n",
        "# batches of augmented image data\n",
        "train_generator_mnetv2 = train_datagen_mnetv2.flow_from_directory(\n",
        "    base_path_train,\n",
        "    target_size=(SIZE, SIZE),\n",
        "    color_mode=\"rgb\",\n",
        "    batch_size=batch_size_CV,\n",
        "    shuffle=True,\n",
        "    class_mode=\"categorical\",\n",
        "    seed = SEED_VALUE)\n",
        "\n",
        "val_generator_mnetv2 = val_datagen_mnetv2.flow_from_directory(\n",
        "    base_path_val,\n",
        "    target_size=(SIZE, SIZE),\n",
        "    color_mode=\"rgb\",\n",
        "    batch_size=batch_size_CV,\n",
        "    shuffle=False,\n",
        "    class_mode=\"categorical\",\n",
        "    seed = SEED_VALUE)"
      ],
      "metadata": {
        "colab": {
          "base_uri": "https://localhost:8080/",
          "height": 52
        },
        "id": "CshjsQ-b7fPC",
        "outputId": "1ebf2341-7316-48ac-da1e-ffd813fb6fb4"
      },
      "execution_count": null,
      "outputs": [
        {
          "output_type": "display_data",
          "data": {
            "text/plain": [
              "<IPython.core.display.Javascript object>"
            ],
            "application/javascript": [
              "google.colab.output.setIframeHeight(0, true, {maxHeight: 300})"
            ]
          },
          "metadata": {}
        },
        {
          "output_type": "stream",
          "name": "stdout",
          "text": [
            "Found 2003 images belonging to 10 classes.\n",
            "Found 242 images belonging to 10 classes.\n"
          ]
        }
      ]
    },
    {
      "cell_type": "code",
      "source": [
        "# INSERISCI SITO E SPIEGAZIONE COME RIFERIMENTO: https://www.image-net.org/download.php\n",
        "\n",
        "base_model_mobilenetv2 = tf.keras.applications.MobileNetV2(\n",
        "    input_shape = (SIZE, SIZE, 3),\n",
        "    include_top=False, \n",
        "    weights=\"imagenet\",\n",
        ")\n",
        "# With the following we ensure that we do not mess with the original\n",
        "# imagenet weights\n",
        "base_model_mobilenetv2.trainable = False\n",
        "\n",
        "\n",
        "x = base_model_mobilenetv2.output\n",
        "x = keras.layers.GlobalAveragePooling2D()(x)\n",
        "x = keras.layers.Dense(512, activation='relu')(x)\n",
        "\n",
        "# We are using \"softmax\" since we want 10 probability values that all sum to 1 and the highest probability\n",
        "# will be our classification result.\n",
        "preds = Dense(num_classes, activation='softmax')(x) # final layer with softmax activation for N classes\n",
        "\n",
        "# OUTPUT THE MODEL\n",
        "model_mobilenetv2 = keras.Model(inputs = base_model_mobilenetv2.input, outputs = preds) #specify the inputs and outputs"
      ],
      "metadata": {
        "id": "ohj8zH7qPFSH",
        "colab": {
          "base_uri": "https://localhost:8080/",
          "height": 72
        },
        "outputId": "2e5bdd1b-a7ec-4165-9665-b91984ce6cb3"
      },
      "execution_count": null,
      "outputs": [
        {
          "output_type": "display_data",
          "data": {
            "text/plain": [
              "<IPython.core.display.Javascript object>"
            ],
            "application/javascript": [
              "google.colab.output.setIframeHeight(0, true, {maxHeight: 300})"
            ]
          },
          "metadata": {}
        },
        {
          "output_type": "stream",
          "name": "stdout",
          "text": [
            "Downloading data from https://storage.googleapis.com/tensorflow/keras-applications/mobilenet_v2/mobilenet_v2_weights_tf_dim_ordering_tf_kernels_1.0_224_no_top.h5\n",
            "9406464/9406464 [==============================] - 0s 0us/step\n"
          ]
        }
      ]
    },
    {
      "cell_type": "code",
      "execution_count": null,
      "metadata": {
        "id": "fsuQ4nqs0Nyl",
        "colab": {
          "base_uri": "https://localhost:8080/",
          "height": 17
        },
        "outputId": "a92c89f3-b0d9-4ef4-ab4c-1a7675de265d"
      },
      "outputs": [
        {
          "output_type": "display_data",
          "data": {
            "text/plain": [
              "<IPython.core.display.Javascript object>"
            ],
            "application/javascript": [
              "google.colab.output.setIframeHeight(0, true, {maxHeight: 300})"
            ]
          },
          "metadata": {}
        }
      ],
      "source": [
        "# COMPILE THE MODEL\n",
        "model_mobilenetv2.compile(loss=keras.losses.categorical_crossentropy,\n",
        "            optimizer= keras.optimizers.Adam(learning_rate=0.0001),\n",
        "            metrics=['accuracy', tf.keras.metrics.Recall()])"
      ]
    },
    {
      "cell_type": "code",
      "execution_count": null,
      "metadata": {
        "id": "z-5aIdic5upG",
        "colab": {
          "base_uri": "https://localhost:8080/",
          "height": 300
        },
        "outputId": "9eef28a2-7e7f-4561-91ab-361efda24dd7"
      },
      "outputs": [
        {
          "output_type": "display_data",
          "data": {
            "text/plain": [
              "<IPython.core.display.Javascript object>"
            ],
            "application/javascript": [
              "google.colab.output.setIframeHeight(0, true, {maxHeight: 300})"
            ]
          },
          "metadata": {}
        },
        {
          "output_type": "stream",
          "name": "stdout",
          "text": [
            "Epoch 1/30\n",
            "125/125 [==============================] - 36s 265ms/step - loss: 0.9693 - accuracy: 0.7378 - recall_1: 0.4927 - val_loss: 0.5895 - val_accuracy: 0.8625 - val_recall_1: 0.6833\n",
            "Epoch 2/30\n",
            "125/125 [==============================] - 28s 225ms/step - loss: 0.2719 - accuracy: 0.9421 - recall_1: 0.8853 - val_loss: 0.4233 - val_accuracy: 0.8667 - val_recall_1: 0.7958\n",
            "Epoch 3/30\n",
            "125/125 [==============================] - 28s 221ms/step - loss: 0.1562 - accuracy: 0.9683 - recall_1: 0.9477 - val_loss: 0.3825 - val_accuracy: 0.8792 - val_recall_1: 0.8417\n",
            "Epoch 4/30\n",
            "125/125 [==============================] - 29s 231ms/step - loss: 0.1060 - accuracy: 0.9819 - recall_1: 0.9698 - val_loss: 0.3160 - val_accuracy: 0.9042 - val_recall_1: 0.8875\n",
            "Epoch 5/30\n",
            "125/125 [==============================] - 28s 223ms/step - loss: 0.0801 - accuracy: 0.9819 - recall_1: 0.9733 - val_loss: 0.3321 - val_accuracy: 0.8958 - val_recall_1: 0.8708\n",
            "Epoch 6/30\n",
            "125/125 [==============================] - 28s 226ms/step - loss: 0.0637 - accuracy: 0.9889 - recall_1: 0.9849 - val_loss: 0.2986 - val_accuracy: 0.9125 - val_recall_1: 0.9000\n",
            "Epoch 7/30\n",
            "125/125 [==============================] - 28s 221ms/step - loss: 0.0495 - accuracy: 0.9919 - recall_1: 0.9879 - val_loss: 0.3009 - val_accuracy: 0.9083 - val_recall_1: 0.8958\n",
            "Epoch 8/30\n",
            "125/125 [==============================] - 28s 222ms/step - loss: 0.0402 - accuracy: 0.9945 - recall_1: 0.9909 - val_loss: 0.2965 - val_accuracy: 0.9167 - val_recall_1: 0.9042\n",
            "Epoch 9/30\n",
            "125/125 [==============================] - 29s 229ms/step - loss: 0.0379 - accuracy: 0.9925 - recall_1: 0.9909 - val_loss: 0.2932 - val_accuracy: 0.9083 - val_recall_1: 0.9000\n",
            "Epoch 10/30\n",
            "125/125 [==============================] - 28s 222ms/step - loss: 0.0294 - accuracy: 0.9955 - recall_1: 0.9935 - val_loss: 0.2690 - val_accuracy: 0.9208 - val_recall_1: 0.9083\n",
            "Epoch 11/30\n",
            "125/125 [==============================] - 29s 231ms/step - loss: 0.0289 - accuracy: 0.9960 - recall_1: 0.9940 - val_loss: 0.2748 - val_accuracy: 0.9208 - val_recall_1: 0.9083\n",
            "Epoch 12/30\n",
            "125/125 [==============================] - 28s 222ms/step - loss: 0.0239 - accuracy: 0.9975 - recall_1: 0.9950 - val_loss: 0.2637 - val_accuracy: 0.9208 - val_recall_1: 0.9083\n",
            "Epoch 13/30\n",
            "125/125 [==============================] - 28s 220ms/step - loss: 0.0207 - accuracy: 0.9965 - recall_1: 0.9960 - val_loss: 0.2763 - val_accuracy: 0.9208 - val_recall_1: 0.9167\n",
            "Epoch 14/30\n",
            "125/125 [==============================] - 29s 233ms/step - loss: 0.0172 - accuracy: 0.9980 - recall_1: 0.9975 - val_loss: 0.2587 - val_accuracy: 0.9167 - val_recall_1: 0.9083\n",
            "Epoch 15/30\n",
            "125/125 [==============================] - 27s 216ms/step - loss: 0.0155 - accuracy: 1.0000 - recall_1: 0.9985 - val_loss: 0.2579 - val_accuracy: 0.9167 - val_recall_1: 0.9167\n",
            "Epoch 16/30\n",
            "125/125 [==============================] - 28s 225ms/step - loss: 0.0131 - accuracy: 0.9995 - recall_1: 0.9980 - val_loss: 0.2550 - val_accuracy: 0.9250 - val_recall_1: 0.9167\n",
            "Epoch 17/30\n",
            "125/125 [==============================] - 27s 218ms/step - loss: 0.0165 - accuracy: 0.9965 - recall_1: 0.9965 - val_loss: 0.2591 - val_accuracy: 0.9250 - val_recall_1: 0.9250\n",
            "Epoch 18/30\n",
            "125/125 [==============================] - 27s 218ms/step - loss: 0.0169 - accuracy: 0.9950 - recall_1: 0.9950 - val_loss: 0.2606 - val_accuracy: 0.9208 - val_recall_1: 0.9167\n",
            "Epoch 19/30\n",
            "125/125 [==============================] - 28s 227ms/step - loss: 0.0142 - accuracy: 0.9970 - recall_1: 0.9960 - val_loss: 0.2815 - val_accuracy: 0.9167 - val_recall_1: 0.9125\n",
            "Epoch 20/30\n",
            "125/125 [==============================] - 27s 217ms/step - loss: 0.0115 - accuracy: 0.9975 - recall_1: 0.9975 - val_loss: 0.2861 - val_accuracy: 0.9125 - val_recall_1: 0.9042\n",
            "Epoch 21/30\n",
            "125/125 [==============================] - 28s 221ms/step - loss: 0.0095 - accuracy: 0.9995 - recall_1: 0.9990 - val_loss: 0.2698 - val_accuracy: 0.9208 - val_recall_1: 0.9125\n",
            "Epoch 22/30\n",
            "125/125 [==============================] - 27s 217ms/step - loss: 0.0090 - accuracy: 0.9995 - recall_1: 0.9995 - val_loss: 0.2713 - val_accuracy: 0.9292 - val_recall_1: 0.9250\n",
            "Epoch 23/30\n",
            "125/125 [==============================] - 28s 221ms/step - loss: 0.0069 - accuracy: 1.0000 - recall_1: 0.9990 - val_loss: 0.2832 - val_accuracy: 0.9125 - val_recall_1: 0.9083\n",
            "Epoch 24/30\n",
            "125/125 [==============================] - 28s 227ms/step - loss: 0.0058 - accuracy: 1.0000 - recall_1: 1.0000 - val_loss: 0.2772 - val_accuracy: 0.9250 - val_recall_1: 0.9208\n",
            "Epoch 25/30\n",
            "125/125 [==============================] - 27s 216ms/step - loss: 0.0096 - accuracy: 0.9985 - recall_1: 0.9970 - val_loss: 0.2709 - val_accuracy: 0.9208 - val_recall_1: 0.9167\n",
            "Epoch 26/30\n",
            "125/125 [==============================] - 27s 218ms/step - loss: 0.0073 - accuracy: 0.9995 - recall_1: 0.9990 - val_loss: 0.3024 - val_accuracy: 0.9125 - val_recall_1: 0.9083\n",
            "Epoch 27/30\n",
            "125/125 [==============================] - 27s 217ms/step - loss: 0.0081 - accuracy: 0.9985 - recall_1: 0.9985 - val_loss: 0.3339 - val_accuracy: 0.9042 - val_recall_1: 0.9000\n",
            "Epoch 28/30\n",
            "125/125 [==============================] - 27s 217ms/step - loss: 0.0098 - accuracy: 0.9985 - recall_1: 0.9980 - val_loss: 0.2663 - val_accuracy: 0.9333 - val_recall_1: 0.9333\n",
            "Epoch 29/30\n",
            "125/125 [==============================] - 28s 225ms/step - loss: 0.0058 - accuracy: 0.9995 - recall_1: 0.9995 - val_loss: 0.2854 - val_accuracy: 0.9167 - val_recall_1: 0.9125\n",
            "Epoch 30/30\n",
            "125/125 [==============================] - 27s 219ms/step - loss: 0.0049 - accuracy: 0.9995 - recall_1: 0.9995 - val_loss: 0.2716 - val_accuracy: 0.9333 - val_recall_1: 0.9292\n",
            "--- Training Completed ---\n",
            "Total execution time:  0:17:51.943809\n"
          ]
        }
      ],
      "source": [
        "stepsEpochs = train_generator_mnetv2.n // batch_size_CV # 16\n",
        "valSteps = val_generator_mnetv2.n // batch_size_CV # 16\n",
        "\n",
        "# START COUNTING THE TIME\n",
        "start = datetime.datetime.now()\n",
        "\n",
        "# FIT THE MODEL\n",
        "history_mobilenetV2 = model_mobilenetv2.fit(train_generator_mnetv2,\n",
        "                                            validation_data = val_generator_mnetv2,\n",
        "                                            steps_per_epoch = stepsEpochs,\n",
        "                                            validation_steps = valSteps, \n",
        "                                            epochs=30, \n",
        "                                            callbacks = [callback])\n",
        "                  \n",
        "print(\"--- Training Completed ---\")\n",
        "\n",
        "# STOP COUNTING THE TIME\n",
        "end = datetime.datetime.now()\n",
        "print(\"Total execution time is: \", end-start)"
      ]
    },
    {
      "cell_type": "code",
      "execution_count": null,
      "metadata": {
        "id": "A_8qYFsH5umv",
        "colab": {
          "base_uri": "https://localhost:8080/",
          "height": 300
        },
        "outputId": "114fb9ad-55be-4373-c9cf-e19175385280"
      },
      "outputs": [
        {
          "output_type": "display_data",
          "data": {
            "text/plain": [
              "<IPython.core.display.Javascript object>"
            ],
            "application/javascript": [
              "google.colab.output.setIframeHeight(0, true, {maxHeight: 300})"
            ]
          },
          "metadata": {}
        },
        {
          "output_type": "execute_result",
          "data": {
            "text/plain": [
              "<matplotlib.legend.Legend at 0x7f33bfbbb430>"
            ]
          },
          "metadata": {},
          "execution_count": 19
        },
        {
          "output_type": "display_data",
          "data": {
            "text/plain": [
              "<Figure size 1080x432 with 2 Axes>"
            ],
            "image/png": "[encoded data removed]"
          },
          "metadata": {
            "needs_background": "light"
          }
        }
      ],
      "source": [
        "# PLOT THEM TOGETHER\n",
        "# Visualization of the learning curves\n",
        "plt.figure(figsize=(15,6))\n",
        "\n",
        "# PER IL PLOT DOVRESTI USARE GLI ELEMENTI DERIVANTI DA history_grid_fit_mobilenetV2\n",
        "\n",
        "plt.subplot(1, 2, 1)\n",
        "plt.plot(history_mobilenetV2.history['loss'])\n",
        "plt.plot(history_mobilenetV2.history['val_loss'])\n",
        "plt.ylim([0.0, 3.0])\n",
        "plt.title(\"Loss & Val loss MobileNetV2\")\n",
        "plt.xlabel('Epoch')\n",
        "plt.ylabel('Loss')\n",
        "plt.legend(['train', 'valid'])\n",
        "\n",
        "plt.subplot(1, 2, 2)\n",
        "plt.plot(history_mobilenetV2.history['accuracy'])\n",
        "plt.plot(history_mobilenetV2.history['val_accuracy'])\n",
        "plt.ylim([0.0, 1.0])\n",
        "plt.title(\"Accuracy & Val accuracy MobileNetV2\")\n",
        "plt.xlabel('Epoch')\n",
        "plt.ylabel('Accuracy')\n",
        "plt.legend(['train', 'valid'])"
      ]
    },
    {
      "cell_type": "code",
      "source": [
        "# SAVE THE MODELV05\n",
        "keras_model_mobilenetV2 = \"/content/gdrive/MyDrive/Data_Science_2020-2022/Secondo_anno_Secondo_Semestre/FoDL_Project/Project_Example_Food/saved_models/model_mobilenetV2_QUARTA_PROVA_FUNZIONANTE_REJ_CLASS.h5\"\n",
        "tf.keras.models.save_model(model_mobilenetv2, keras_model_mobilenetV2)"
      ],
      "metadata": {
        "id": "Hb5_wKCcZBaN",
        "colab": {
          "base_uri": "https://localhost:8080/",
          "height": 17
        },
        "outputId": "fcc7c0a6-1cb1-4753-f962-c076c7868658"
      },
      "execution_count": null,
      "outputs": [
        {
          "output_type": "display_data",
          "data": {
            "text/plain": [
              "<IPython.core.display.Javascript object>"
            ],
            "application/javascript": [
              "google.colab.output.setIframeHeight(0, true, {maxHeight: 300})"
            ]
          },
          "metadata": {}
        }
      ]
    },
    {
      "cell_type": "markdown",
      "source": [
        "###### Performance results Model V06 Transfer Learning with MobileNetV2\n",
        "\n",
        "The performance of the MobileNetV2 are impressivily high than all of the other models, in just a few epochs. This model will be used, in the end, as the classifier for this project."
      ],
      "metadata": {
        "id": "ssixy4acdyXJ"
      }
    },
    {
      "cell_type": "code",
      "source": [
        "# SAVE THE TIME NEEDED TO RUN THE ALGORITHM\n",
        "time_duration_modelV06_mobilenetV2 = end - start\n",
        "print(time_duration_modelV06_mobilenetV2)"
      ],
      "metadata": {
        "id": "fDD5h3F5d1y-"
      },
      "execution_count": null,
      "outputs": []
    },
    {
      "cell_type": "code",
      "source": [
        "# GET THE MINIMUM ACCURACY, THE MAXIMUM ACCURACY, THE MINIMUM LOSS, THE MAXIMUM LOSS AND SAVE THEM IN VARIABLES.\n",
        "\n",
        "# LOSS/VAL LOSS\n",
        "modelVMNV2_minLoss = min(history_mobilenetV2.history['loss'])\n",
        "modelVMNV2_maxLoss = max(history_mobilenetV2.history['loss'])\n",
        "modelVMNV2_minValLoss = min(history_mobilenetV2.history['val_loss'])\n",
        "modelVMNV2_maxValLoss = max(history_mobilenetV2.history['val_loss'])\n",
        "\n",
        "# ACCURACY/VAL ACCURACY\n",
        "modelVMNV2_minAccuracy = min(history_mobilenetV2.history['accuracy'])\n",
        "modelVMNV2_maxAccuracy = max(history_mobilenetV2.history['accuracy'])\n",
        "modelVMNV2_minValAccuracy = min(history_mobilenetV2.history['val_accuracy'])\n",
        "modelVMNV2_maxValAccuracy = max(history_mobilenetV2.history['val_accuracy'])\n",
        "\n",
        "# CREATE THE DATAFRAME\n",
        "modelVMNV2_loss_accuracy = pd.DataFrame({\"minLoss\": [modelVMNV2_minLoss],\n",
        "                                       \"maxloss\": [modelVMNV2_maxLoss],\n",
        "                                       \"minValLoss\": [modelVMNV2_minValLoss],\n",
        "                                       \"maxValLoss\": [modelVMNV2_maxValLoss],\n",
        "                                       \"minAccuracy\": [modelVMNV2_minAccuracy],\n",
        "                                       \"maxAccuracy\": [modelVMNV2_maxAccuracy],\n",
        "                                       \"minValAccuracy\": [modelVMNV2_minValAccuracy],\n",
        "                                       \"maxValAccuracy\": [modelVMNV2_maxValAccuracy]}).T\n",
        "\n",
        "# CHANGE THE FIRST COLUMN NAME\n",
        "modelVMNV2_loss_accuracy = modelVMNV2_loss_accuracy.rename(columns={0: 'modelVMNV2'})\n",
        "# CHANGE THE INDEX NAME\n",
        "modelVMNV2_loss_accuracy.index.names = ['Performance']\n",
        "modelVMNV2_loss_accuracy"
      ],
      "metadata": {
        "id": "ZVAH5C0ACY2W",
        "colab": {
          "base_uri": "https://localhost:8080/",
          "height": 300
        },
        "outputId": "7d9dfe1b-3ada-41e2-956b-f72eb89f4205"
      },
      "execution_count": null,
      "outputs": [
        {
          "output_type": "display_data",
          "data": {
            "text/plain": [
              "<IPython.core.display.Javascript object>"
            ],
            "application/javascript": [
              "google.colab.output.setIframeHeight(0, true, {maxHeight: 300})"
            ]
          },
          "metadata": {}
        },
        {
          "output_type": "execute_result",
          "data": {
            "text/plain": [
              "                modelVMNV2\n",
              "Performance               \n",
              "minLoss           0.004928\n",
              "maxloss           0.969267\n",
              "minValLoss        0.255021\n",
              "maxValLoss        0.589518\n",
              "minAccuracy       0.737796\n",
              "maxAccuracy       1.000000\n",
              "minValAccuracy    0.862500\n",
              "maxValAccuracy    0.933333"
            ],
            "text/html": [
              "\n",
              "  <div id=\"df-62946227-bab0-46d6-b0ab-ab52c74a1587\">\n",
              "    <div class=\"colab-df-container\">\n",
              "      <div>\n",
              "<style scoped>\n",
              "    .dataframe tbody tr th:only-of-type {\n",
              "        vertical-align: middle;\n",
              "    }\n",
              "\n",
              "    .dataframe tbody tr th {\n",
              "        vertical-align: top;\n",
              "    }\n",
              "\n",
              "    .dataframe thead th {\n",
              "        text-align: right;\n",
              "    }\n",
              "</style>\n",
              "<table border=\"1\" class=\"dataframe\">\n",
              "  <thead>\n",
              "    <tr style=\"text-align: right;\">\n",
              "      <th></th>\n",
              "      <th>modelVMNV2</th>\n",
              "    </tr>\n",
              "    <tr>\n",
              "      <th>Performance</th>\n",
              "      <th></th>\n",
              "    </tr>\n",
              "  </thead>\n",
              "  <tbody>\n",
              "    <tr>\n",
              "      <th>minLoss</th>\n",
              "      <td>0.004928</td>\n",
              "    </tr>\n",
              "    <tr>\n",
              "      <th>maxloss</th>\n",
              "      <td>0.969267</td>\n",
              "    </tr>\n",
              "    <tr>\n",
              "      <th>minValLoss</th>\n",
              "      <td>0.255021</td>\n",
              "    </tr>\n",
              "    <tr>\n",
              "      <th>maxValLoss</th>\n",
              "      <td>0.589518</td>\n",
              "    </tr>\n",
              "    <tr>\n",
              "      <th>minAccuracy</th>\n",
              "      <td>0.737796</td>\n",
              "    </tr>\n",
              "    <tr>\n",
              "      <th>maxAccuracy</th>\n",
              "      <td>1.000000</td>\n",
              "    </tr>\n",
              "    <tr>\n",
              "      <th>minValAccuracy</th>\n",
              "      <td>0.862500</td>\n",
              "    </tr>\n",
              "    <tr>\n",
              "      <th>maxValAccuracy</th>\n",
              "      <td>0.933333</td>\n",
              "    </tr>\n",
              "  </tbody>\n",
              "</table>\n",
              "</div>\n",
              "      <button class=\"colab-df-convert\" onclick=\"convertToInteractive('df-62946227-bab0-46d6-b0ab-ab52c74a1587')\"\n",
              "              title=\"Convert this dataframe to an interactive table.\"\n",
              "              style=\"display:none;\">\n",
              "        \n",
              "  <svg xmlns=\"http://www.w3.org/2000/svg\" height=\"24px\"viewBox=\"0 0 24 24\"\n",
              "       width=\"24px\">\n",
              "    <path d=\"M0 0h24v24H0V0z\" fill=\"none\"/>\n",
              "    <path d=\"M18.56 5.44l.94 2.06.94-2.06 2.06-.94-2.06-.94-.94-2.06-.94 2.06-2.06.94zm-11 1L8.5 8.5l.94-2.06 2.06-.94-2.06-.94L8.5 2.5l-.94 2.06-2.06.94zm10 10l.94 2.06.94-2.06 2.06-.94-2.06-.94-.94-2.06-.94 2.06-2.06.94z\"/><path d=\"M17.41 7.96l-1.37-1.37c-.4-.4-.92-.59-1.43-.59-.52 0-1.04.2-1.43.59L10.3 9.45l-7.72 7.72c-.78.78-.78 2.05 0 2.83L4 21.41c.39.39.9.59 1.41.59.51 0 1.02-.2 1.41-.59l7.78-7.78 2.81-2.81c.8-.78.8-2.07 0-2.86zM5.41 20L4 18.59l7.72-7.72 1.47 1.35L5.41 20z\"/>\n",
              "  </svg>\n",
              "      </button>\n",
              "      \n",
              "  <style>\n",
              "    .colab-df-container {\n",
              "      display:flex;\n",
              "      flex-wrap:wrap;\n",
              "      gap: 12px;\n",
              "    }\n",
              "\n",
              "    .colab-df-convert {\n",
              "      background-color: #E8F0FE;\n",
              "      border: none;\n",
              "      border-radius: 50%;\n",
              "      cursor: pointer;\n",
              "      display: none;\n",
              "      fill: #1967D2;\n",
              "      height: 32px;\n",
              "      padding: 0 0 0 0;\n",
              "      width: 32px;\n",
              "    }\n",
              "\n",
              "    .colab-df-convert:hover {\n",
              "      background-color: #E2EBFA;\n",
              "      box-shadow: 0px 1px 2px rgba(60, 64, 67, 0.3), 0px 1px 3px 1px rgba(60, 64, 67, 0.15);\n",
              "      fill: #174EA6;\n",
              "    }\n",
              "\n",
              "    [theme=dark] .colab-df-convert {\n",
              "      background-color: #3B4455;\n",
              "      fill: #D2E3FC;\n",
              "    }\n",
              "\n",
              "    [theme=dark] .colab-df-convert:hover {\n",
              "      background-color: #434B5C;\n",
              "      box-shadow: 0px 1px 3px 1px rgba(0, 0, 0, 0.15);\n",
              "      filter: drop-shadow(0px 1px 2px rgba(0, 0, 0, 0.3));\n",
              "      fill: #FFFFFF;\n",
              "    }\n",
              "  </style>\n",
              "\n",
              "      <script>\n",
              "        const buttonEl =\n",
              "          document.querySelector('#df-62946227-bab0-46d6-b0ab-ab52c74a1587 button.colab-df-convert');\n",
              "        buttonEl.style.display =\n",
              "          google.colab.kernel.accessAllowed ? 'block' : 'none';\n",
              "\n",
              "        async function convertToInteractive(key) {\n",
              "          const element = document.querySelector('#df-62946227-bab0-46d6-b0ab-ab52c74a1587');\n",
              "          const dataTable =\n",
              "            await google.colab.kernel.invokeFunction('convertToInteractive',\n",
              "                                                     [key], {});\n",
              "          if (!dataTable) return;\n",
              "\n",
              "          const docLinkHtml = 'Like what you see? Visit the ' +\n",
              "            '<a target=\"_blank\" href=https://colab.research.google.com/notebooks/data_table.ipynb>data table notebook</a>'\n",
              "            + ' to learn more about interactive tables.';\n",
              "          element.innerHTML = '';\n",
              "          dataTable['output_type'] = 'display_data';\n",
              "          await google.colab.output.renderOutput(dataTable, element);\n",
              "          const docLink = document.createElement('div');\n",
              "          docLink.innerHTML = docLinkHtml;\n",
              "          element.appendChild(docLink);\n",
              "        }\n",
              "      </script>\n",
              "    </div>\n",
              "  </div>\n",
              "  "
            ]
          },
          "metadata": {},
          "execution_count": 20
        }
      ]
    },
    {
      "cell_type": "markdown",
      "source": [
        "#### **VGG16**"
      ],
      "metadata": {
        "id": "BCcxqpC9dtl2"
      }
    },
    {
      "cell_type": "code",
      "source": [
        "base_model_VGG16 = tf.keras.applications.vgg16.VGG16(\n",
        "    input_shape = (SIZE, SIZE, 3),\n",
        "    include_top=False, \n",
        "    weights=\"imagenet\"\n",
        ")\n",
        "# With the following we ensure that we do not mess with the original\n",
        "# imagenet weights\n",
        "base_model_VGG16.trainable = False\n",
        "\n",
        "\n",
        "x = base_model_VGG16.output\n",
        "x = keras.layers.GlobalAveragePooling2D()(x)\n",
        "x = keras.layers.Dense(512, activation='relu')(x)\n",
        "\n",
        "# We are using \"softmax\" since we want 10 probability values that all sum to 1 and the highest probability\n",
        "# will be our classification result.\n",
        "# For the regularizer: https://github.com/christianversloot/machine-learning-articles/blob/main/how-to-use-l1-l2-and-elastic-net-regularization-with-keras.md\n",
        "preds = Dense(num_classes, activation='softmax')(x) #final layer with softmax activation for N classes\n",
        "\n",
        "# OUTPUT THE MODEL\n",
        "model_VGG16 = keras.Model(inputs = base_model_VGG16.input, outputs = preds) #specify the inputs and outputs\n",
        "\n",
        "# VISUALIZE THE SUMMARY\n",
        "print(model_VGG16.summary())"
      ],
      "metadata": {
        "id": "swHdFepAQ9WG",
        "colab": {
          "base_uri": "https://localhost:8080/",
          "height": 300
        },
        "outputId": "8f84a08c-97f5-4e84-b141-072f972dd031"
      },
      "execution_count": null,
      "outputs": [
        {
          "output_type": "display_data",
          "data": {
            "text/plain": [
              "<IPython.core.display.Javascript object>"
            ],
            "application/javascript": [
              "google.colab.output.setIframeHeight(0, true, {maxHeight: 300})"
            ]
          },
          "metadata": {}
        },
        {
          "output_type": "stream",
          "name": "stdout",
          "text": [
            "Downloading data from https://storage.googleapis.com/tensorflow/keras-applications/vgg16/vgg16_weights_tf_dim_ordering_tf_kernels_notop.h5\n",
            "58889256/58889256 [==============================] - 3s 0us/step\n",
            "Model: \"model\"\n",
            "_________________________________________________________________\n",
            " Layer (type)                Output Shape              Param #   \n",
            "=================================================================\n",
            " input_1 (InputLayer)        [(None, 224, 224, 3)]     0         \n",
            "                                                                 \n",
            " block1_conv1 (Conv2D)       (None, 224, 224, 64)      1792      \n",
            "                                                                 \n",
            " block1_conv2 (Conv2D)       (None, 224, 224, 64)      36928     \n",
            "                                                                 \n",
            " block1_pool (MaxPooling2D)  (None, 112, 112, 64)      0         \n",
            "                                                                 \n",
            " block2_conv1 (Conv2D)       (None, 112, 112, 128)     73856     \n",
            "                                                                 \n",
            " block2_conv2 (Conv2D)       (None, 112, 112, 128)     147584    \n",
            "                                                                 \n",
            " block2_pool (MaxPooling2D)  (None, 56, 56, 128)       0         \n",
            "                                                                 \n",
            " block3_conv1 (Conv2D)       (None, 56, 56, 256)       295168    \n",
            "                                                                 \n",
            " block3_conv2 (Conv2D)       (None, 56, 56, 256)       590080    \n",
            "                                                                 \n",
            " block3_conv3 (Conv2D)       (None, 56, 56, 256)       590080    \n",
            "                                                                 \n",
            " block3_pool (MaxPooling2D)  (None, 28, 28, 256)       0         \n",
            "                                                                 \n",
            " block4_conv1 (Conv2D)       (None, 28, 28, 512)       1180160   \n",
            "                                                                 \n",
            " block4_conv2 (Conv2D)       (None, 28, 28, 512)       2359808   \n",
            "                                                                 \n",
            " block4_conv3 (Conv2D)       (None, 28, 28, 512)       2359808   \n",
            "                                                                 \n",
            " block4_pool (MaxPooling2D)  (None, 14, 14, 512)       0         \n",
            "                                                                 \n",
            " block5_conv1 (Conv2D)       (None, 14, 14, 512)       2359808   \n",
            "                                                                 \n",
            " block5_conv2 (Conv2D)       (None, 14, 14, 512)       2359808   \n",
            "                                                                 \n",
            " block5_conv3 (Conv2D)       (None, 14, 14, 512)       2359808   \n",
            "                                                                 \n",
            " block5_pool (MaxPooling2D)  (None, 7, 7, 512)         0         \n",
            "                                                                 \n",
            " global_average_pooling2d (G  (None, 512)              0         \n",
            " lobalAveragePooling2D)                                          \n",
            "                                                                 \n",
            " dense (Dense)               (None, 512)               262656    \n",
            "                                                                 \n",
            " dense_1 (Dense)             (None, 10)                5130      \n",
            "                                                                 \n",
            "=================================================================\n",
            "Total params: 14,982,474\n",
            "Trainable params: 267,786\n",
            "Non-trainable params: 14,714,688\n",
            "_________________________________________________________________\n",
            "None\n"
          ]
        }
      ]
    },
    {
      "cell_type": "code",
      "source": [
        "# COMPILE THE MODEL\n",
        "model_VGG16.compile(loss=keras.losses.categorical_crossentropy,\n",
        "                         optimizer= keras.optimizers.Adam(learning_rate=0.0001),\n",
        "                         metrics=['accuracy', tf.keras.metrics.Recall()])"
      ],
      "metadata": {
        "id": "f5QHOjGpPmn0",
        "colab": {
          "base_uri": "https://localhost:8080/",
          "height": 17
        },
        "outputId": "821053ca-9f13-4b14-d423-497eecc60e27"
      },
      "execution_count": null,
      "outputs": [
        {
          "output_type": "display_data",
          "data": {
            "text/plain": [
              "<IPython.core.display.Javascript object>"
            ],
            "application/javascript": [
              "google.colab.output.setIframeHeight(0, true, {maxHeight: 300})"
            ]
          },
          "metadata": {}
        }
      ]
    },
    {
      "cell_type": "code",
      "source": [
        "stepsEpochs = train_generator_mnetv2.n // batch_size_CV # 16\n",
        "valSteps = val_generator_mnetv2.n // batch_size_CV # 16\n",
        "\n",
        "# START COUNTING THE TIME\n",
        "start = datetime.datetime.now()\n",
        "\n",
        "\n",
        "# FIT THE MODEL\n",
        "history_VGG16 = model_VGG16.fit(train_generator_mnetv2, \n",
        "                  validation_data = val_generator_mnetv2, \n",
        "                  steps_per_epoch = stepsEpochs,\n",
        "                  validation_steps = valSteps, \n",
        "                  epochs=30,\n",
        "                  callbacks = [callback])\n",
        "\n",
        "print(\"--- Training Completed ---\")\n",
        "\n",
        "# STOP COUNTING THE TIME\n",
        "end = datetime.datetime.now()\n",
        "print(\"Total execution time is: \", end-start)"
      ],
      "metadata": {
        "id": "NpAYBrOiPmlV",
        "colab": {
          "base_uri": "https://localhost:8080/",
          "height": 300
        },
        "outputId": "2357a6f4-c1bf-4522-a63e-245203d38a99"
      },
      "execution_count": null,
      "outputs": [
        {
          "data": {
            "application/javascript": [
              "google.colab.output.setIframeHeight(0, true, {maxHeight: 300})"
            ],
            "text/plain": [
              "<IPython.core.display.Javascript object>"
            ]
          },
          "metadata": {},
          "output_type": "display_data"
        },
        {
          "output_type": "stream",
          "name": "stdout",
          "text": [
            "Epoch 1/30\n",
            "125/125 [==============================] - 1703s 14s/step - loss: 2.1424 - accuracy: 0.3452 - recall: 0.0000e+00 - val_loss: 2.1050 - val_accuracy: 0.2667 - val_recall: 0.0000e+00\n",
            "Epoch 2/30\n",
            "125/125 [==============================] - 29s 231ms/step - loss: 1.7758 - accuracy: 0.5767 - recall: 0.0030 - val_loss: 1.7731 - val_accuracy: 0.5792 - val_recall: 0.0000e+00\n",
            "Epoch 3/30\n",
            "125/125 [==============================] - 31s 249ms/step - loss: 1.4924 - accuracy: 0.6824 - recall: 0.0991 - val_loss: 1.5271 - val_accuracy: 0.6333 - val_recall: 0.0708\n",
            "Epoch 4/30\n",
            "125/125 [==============================] - 29s 235ms/step - loss: 1.2921 - accuracy: 0.7071 - recall: 0.2235 - val_loss: 1.4574 - val_accuracy: 0.5792 - val_recall: 0.1708\n",
            "Epoch 5/30\n",
            "125/125 [==============================] - 29s 235ms/step - loss: 1.1455 - accuracy: 0.7378 - recall: 0.3120 - val_loss: 1.3168 - val_accuracy: 0.6083 - val_recall: 0.2167\n",
            "Epoch 6/30\n",
            "125/125 [==============================] - 29s 233ms/step - loss: 1.0382 - accuracy: 0.7569 - recall: 0.3790 - val_loss: 1.2282 - val_accuracy: 0.6250 - val_recall: 0.2542\n",
            "Epoch 7/30\n",
            "125/125 [==============================] - 29s 232ms/step - loss: 0.9588 - accuracy: 0.7655 - recall: 0.4454 - val_loss: 1.1169 - val_accuracy: 0.6958 - val_recall: 0.3583\n",
            "Epoch 8/30\n",
            "125/125 [==============================] - 29s 231ms/step - loss: 0.8887 - accuracy: 0.7750 - recall: 0.4872 - val_loss: 1.0721 - val_accuracy: 0.6750 - val_recall: 0.3792\n",
            "Epoch 9/30\n",
            "125/125 [==============================] - 29s 232ms/step - loss: 0.8358 - accuracy: 0.7836 - recall: 0.5214 - val_loss: 1.0371 - val_accuracy: 0.6708 - val_recall: 0.4167\n",
            "Epoch 10/30\n",
            "125/125 [==============================] - 29s 232ms/step - loss: 0.7907 - accuracy: 0.7927 - recall: 0.5501 - val_loss: 0.9755 - val_accuracy: 0.7083 - val_recall: 0.4500\n",
            "Epoch 11/30\n",
            "125/125 [==============================] - 31s 245ms/step - loss: 0.7411 - accuracy: 0.8088 - recall: 0.5833 - val_loss: 0.9839 - val_accuracy: 0.6750 - val_recall: 0.4625\n",
            "Epoch 12/30\n",
            "125/125 [==============================] - 29s 235ms/step - loss: 0.7042 - accuracy: 0.8183 - recall: 0.6120 - val_loss: 0.9434 - val_accuracy: 0.6833 - val_recall: 0.4750\n",
            "Epoch 13/30\n",
            "125/125 [==============================] - 29s 233ms/step - loss: 0.6681 - accuracy: 0.8198 - recall: 0.6241 - val_loss: 0.9017 - val_accuracy: 0.7042 - val_recall: 0.5250\n",
            "Epoch 14/30\n",
            "125/125 [==============================] - 28s 228ms/step - loss: 0.6309 - accuracy: 0.8289 - recall: 0.6558 - val_loss: 0.9042 - val_accuracy: 0.6917 - val_recall: 0.5042\n",
            "Epoch 15/30\n",
            "125/125 [==============================] - 29s 230ms/step - loss: 0.6100 - accuracy: 0.8369 - recall: 0.6714 - val_loss: 0.8266 - val_accuracy: 0.7417 - val_recall: 0.5625\n",
            "Epoch 16/30\n",
            "125/125 [==============================] - 29s 229ms/step - loss: 0.5900 - accuracy: 0.8425 - recall: 0.6885 - val_loss: 0.8422 - val_accuracy: 0.7333 - val_recall: 0.5750\n",
            "Epoch 17/30\n",
            "125/125 [==============================] - 29s 231ms/step - loss: 0.5740 - accuracy: 0.8349 - recall: 0.7006 - val_loss: 0.8175 - val_accuracy: 0.7375 - val_recall: 0.5958\n",
            "Epoch 18/30\n",
            "125/125 [==============================] - 29s 229ms/step - loss: 0.5448 - accuracy: 0.8596 - recall: 0.7151 - val_loss: 0.8188 - val_accuracy: 0.7292 - val_recall: 0.5833\n",
            "Epoch 19/30\n",
            "125/125 [==============================] - 29s 232ms/step - loss: 0.5268 - accuracy: 0.8621 - recall: 0.7267 - val_loss: 0.7718 - val_accuracy: 0.7417 - val_recall: 0.6250\n",
            "Epoch 20/30\n",
            "125/125 [==============================] - 30s 235ms/step - loss: 0.5069 - accuracy: 0.8641 - recall: 0.7358 - val_loss: 0.8209 - val_accuracy: 0.7167 - val_recall: 0.5833\n",
            "Epoch 21/30\n",
            "125/125 [==============================] - 29s 233ms/step - loss: 0.4897 - accuracy: 0.8757 - recall: 0.7549 - val_loss: 0.7698 - val_accuracy: 0.7458 - val_recall: 0.6333\n",
            "Epoch 22/30\n",
            "125/125 [==============================] - 29s 229ms/step - loss: 0.4704 - accuracy: 0.8707 - recall: 0.7650 - val_loss: 0.7648 - val_accuracy: 0.7417 - val_recall: 0.6167\n",
            "Epoch 23/30\n",
            "125/125 [==============================] - 28s 227ms/step - loss: 0.4555 - accuracy: 0.8873 - recall: 0.7760 - val_loss: 0.7575 - val_accuracy: 0.7500 - val_recall: 0.6250\n",
            "Epoch 24/30\n",
            "125/125 [==============================] - 28s 227ms/step - loss: 0.4378 - accuracy: 0.8888 - recall: 0.7796 - val_loss: 0.7580 - val_accuracy: 0.7458 - val_recall: 0.6292\n",
            "Epoch 25/30\n",
            "125/125 [==============================] - 29s 228ms/step - loss: 0.4269 - accuracy: 0.8908 - recall: 0.7861 - val_loss: 0.7301 - val_accuracy: 0.7625 - val_recall: 0.6583\n",
            "Epoch 26/30\n",
            "125/125 [==============================] - 29s 228ms/step - loss: 0.4113 - accuracy: 0.8938 - recall: 0.8062 - val_loss: 0.7283 - val_accuracy: 0.7542 - val_recall: 0.6583\n",
            "Epoch 27/30\n",
            "125/125 [==============================] - 28s 226ms/step - loss: 0.4065 - accuracy: 0.8993 - recall: 0.8067 - val_loss: 0.7355 - val_accuracy: 0.7458 - val_recall: 0.6417\n",
            "Epoch 28/30\n",
            "125/125 [==============================] - 30s 242ms/step - loss: 0.3809 - accuracy: 0.9099 - recall: 0.8188 - val_loss: 0.7381 - val_accuracy: 0.7375 - val_recall: 0.6458\n",
            "Epoch 29/30\n",
            "125/125 [==============================] - 28s 227ms/step - loss: 0.3839 - accuracy: 0.9064 - recall: 0.8113 - val_loss: 0.7072 - val_accuracy: 0.7667 - val_recall: 0.6750\n",
            "Epoch 30/30\n",
            "125/125 [==============================] - 29s 229ms/step - loss: 0.3628 - accuracy: 0.9134 - recall: 0.8274 - val_loss: 0.7202 - val_accuracy: 0.7583 - val_recall: 0.6750\n",
            "--- Training Completed ---\n",
            "Total execution time:  0:46:01.365818\n"
          ]
        }
      ]
    },
    {
      "cell_type": "code",
      "source": [
        "# PLOT THEM TOGETHER\n",
        "# Visualization of the learning curves\n",
        "plt.figure(figsize=(15,6))\n",
        "\n",
        "plt.subplot(1, 2, 1)\n",
        "plt.plot(history_VGG16.history['loss'])\n",
        "plt.plot(history_VGG16.history['val_loss'])\n",
        "plt.ylim([0.0, 3.0])\n",
        "plt.title(\"Loss & Val loss VGG16\")\n",
        "plt.xlabel('Epoch')\n",
        "plt.ylabel('Loss')\n",
        "plt.legend(['train', 'valid'])\n",
        "\n",
        "plt.subplot(1, 2, 2)\n",
        "plt.plot(history_VGG16.history['accuracy'])\n",
        "plt.plot(history_VGG16.history['val_accuracy'])\n",
        "plt.ylim([0.0, 1.0])\n",
        "plt.title(\"Accuracy & Val accuracy VGG16\")\n",
        "plt.xlabel('Epoch')\n",
        "plt.ylabel('Accuracy')\n",
        "plt.legend(['train', 'valid'])"
      ],
      "metadata": {
        "id": "bmAy5XhmPmgi",
        "colab": {
          "base_uri": "https://localhost:8080/",
          "height": 300
        },
        "outputId": "dca4693d-426f-4618-e22f-f64710f1fb0b"
      },
      "execution_count": null,
      "outputs": [
        {
          "output_type": "display_data",
          "data": {
            "text/plain": [
              "<IPython.core.display.Javascript object>"
            ],
            "application/javascript": [
              "google.colab.output.setIframeHeight(0, true, {maxHeight: 300})"
            ]
          },
          "metadata": {}
        },
        {
          "output_type": "execute_result",
          "data": {
            "text/plain": [
              "<matplotlib.legend.Legend at 0x7f05e01a9670>"
            ]
          },
          "metadata": {},
          "execution_count": 13
        },
        {
          "output_type": "display_data",
          "data": {
            "text/plain": [
              "<Figure size 1080x432 with 2 Axes>"
            ],
            "image/png": "[encoded data removed]"
          },
          "metadata": {
            "needs_background": "light"
          }
        }
      ]
    },
    {
      "cell_type": "code",
      "source": [
        "# SAVE THE keras_model_VGG16\n",
        "keras_model_VGG16 = \"/content/gdrive/MyDrive/Data_Science_2020-2022/Secondo_anno_Secondo_Semestre/FoDL_Project/Project_Example_Food/saved_models/model_VGG16.h5\"\n",
        "tf.keras.models.save_model(model_VGG16, keras_model_VGG16)"
      ],
      "metadata": {
        "id": "D8zZ37PDJN29",
        "colab": {
          "base_uri": "https://localhost:8080/",
          "height": 17
        },
        "outputId": "c143c9f7-1d3f-4f59-e479-e764d0191147"
      },
      "execution_count": null,
      "outputs": [
        {
          "output_type": "display_data",
          "data": {
            "text/plain": [
              "<IPython.core.display.Javascript object>"
            ],
            "application/javascript": [
              "google.colab.output.setIframeHeight(0, true, {maxHeight: 300})"
            ]
          },
          "metadata": {}
        }
      ]
    },
    {
      "cell_type": "markdown",
      "source": [
        "##### Performance results Model V06 Transfer Learning with  VGG16"
      ],
      "metadata": {
        "id": "L4UmwE0ifgwv"
      }
    },
    {
      "cell_type": "markdown",
      "source": [
        "The convergence is much slower than MobileNetV2, but the results are high enough to be used as a classifier."
      ],
      "metadata": {
        "id": "c6aUg-_-QfFZ"
      }
    },
    {
      "cell_type": "code",
      "source": [
        "# GET THE MINIMUM ACCURACY, THE MAXIMUM ACCURACY, THE MINIMUM LOSS, THE MAXIMUM LOSS AND SAVE THEM IN VARIABLES.\n",
        "\n",
        "# LOSS/VAL LOSS\n",
        "modelVGG16_minLoss = min(history_VGG16.history['loss'])\n",
        "modelVGG16_maxLoss = max(history_VGG16.history['loss'])\n",
        "modelVGG16_minValLoss = min(history_VGG16.history['val_loss'])\n",
        "modelVGG16_maxValLoss = max(history_VGG16.history['val_loss'])\n",
        "\n",
        "# ACCURACY/VAL ACCURACY\n",
        "modelVGG16_minAccuracy = min(history_VGG16.history['accuracy'])\n",
        "modelVGG16_maxAccuracy = max(history_VGG16.history['accuracy'])\n",
        "modelVGG16_minValAccuracy = min(history_VGG16.history['val_accuracy'])\n",
        "modelVGG16_maxValAccuracy = max(history_VGG16.history['val_accuracy'])\n",
        "\n",
        "# CREATE THE DATAFRAME\n",
        "modelVGG16_loss_accuracy = pd.DataFrame({\"minLoss\": [modelVGG16_minLoss],\n",
        "                                       \"maxloss\": [modelVGG16_maxLoss],\n",
        "                                       \"minValLoss\": [modelVGG16_minValLoss],\n",
        "                                       \"maxValLoss\": [modelVGG16_maxValLoss],\n",
        "                                       \"minAccuracy\": [modelVGG16_minAccuracy],\n",
        "                                       \"maxAccuracy\": [modelVGG16_maxAccuracy],\n",
        "                                       \"minValAccuracy\": [modelVGG16_minValAccuracy],\n",
        "                                       \"maxValAccuracy\": [modelVGG16_maxValAccuracy]}).T\n",
        "\n",
        "# CHANGE THE FIRST COLUMN NAME\n",
        "modelVGG16_loss_accuracy = modelVGG16_loss_accuracy.rename(columns={0: 'modelVGG16'})\n",
        "# CHANGE THE INDEX NAME\n",
        "modelVGG16_loss_accuracy.index.names = ['Performance']\n",
        "modelVGG16_loss_accuracy"
      ],
      "metadata": {
        "id": "v31tUbMn6iby",
        "colab": {
          "base_uri": "https://localhost:8080/",
          "height": 300
        },
        "outputId": "f1620373-f32b-4db3-9c28-e9c8ea8775ff"
      },
      "execution_count": null,
      "outputs": [
        {
          "output_type": "display_data",
          "data": {
            "text/plain": [
              "<IPython.core.display.Javascript object>"
            ],
            "application/javascript": [
              "google.colab.output.setIframeHeight(0, true, {maxHeight: 300})"
            ]
          },
          "metadata": {}
        },
        {
          "output_type": "execute_result",
          "data": {
            "text/plain": [
              "                modelVGG16\n",
              "Performance               \n",
              "minLoss           0.362814\n",
              "maxloss           2.142412\n",
              "minValLoss        0.707158\n",
              "maxValLoss        2.105003\n",
              "minAccuracy       0.345244\n",
              "maxAccuracy       0.913437\n",
              "minValAccuracy    0.266667\n",
              "maxValAccuracy    0.766667"
            ],
            "text/html": [
              "\n",
              "  <div id=\"df-b106b66b-bff4-4fef-bb2a-eed046c8f0dc\">\n",
              "    <div class=\"colab-df-container\">\n",
              "      <div>\n",
              "<style scoped>\n",
              "    .dataframe tbody tr th:only-of-type {\n",
              "        vertical-align: middle;\n",
              "    }\n",
              "\n",
              "    .dataframe tbody tr th {\n",
              "        vertical-align: top;\n",
              "    }\n",
              "\n",
              "    .dataframe thead th {\n",
              "        text-align: right;\n",
              "    }\n",
              "</style>\n",
              "<table border=\"1\" class=\"dataframe\">\n",
              "  <thead>\n",
              "    <tr style=\"text-align: right;\">\n",
              "      <th></th>\n",
              "      <th>modelVGG16</th>\n",
              "    </tr>\n",
              "    <tr>\n",
              "      <th>Performance</th>\n",
              "      <th></th>\n",
              "    </tr>\n",
              "  </thead>\n",
              "  <tbody>\n",
              "    <tr>\n",
              "      <th>minLoss</th>\n",
              "      <td>0.362814</td>\n",
              "    </tr>\n",
              "    <tr>\n",
              "      <th>maxloss</th>\n",
              "      <td>2.142412</td>\n",
              "    </tr>\n",
              "    <tr>\n",
              "      <th>minValLoss</th>\n",
              "      <td>0.707158</td>\n",
              "    </tr>\n",
              "    <tr>\n",
              "      <th>maxValLoss</th>\n",
              "      <td>2.105003</td>\n",
              "    </tr>\n",
              "    <tr>\n",
              "      <th>minAccuracy</th>\n",
              "      <td>0.345244</td>\n",
              "    </tr>\n",
              "    <tr>\n",
              "      <th>maxAccuracy</th>\n",
              "      <td>0.913437</td>\n",
              "    </tr>\n",
              "    <tr>\n",
              "      <th>minValAccuracy</th>\n",
              "      <td>0.266667</td>\n",
              "    </tr>\n",
              "    <tr>\n",
              "      <th>maxValAccuracy</th>\n",
              "      <td>0.766667</td>\n",
              "    </tr>\n",
              "  </tbody>\n",
              "</table>\n",
              "</div>\n",
              "      <button class=\"colab-df-convert\" onclick=\"convertToInteractive('df-b106b66b-bff4-4fef-bb2a-eed046c8f0dc')\"\n",
              "              title=\"Convert this dataframe to an interactive table.\"\n",
              "              style=\"display:none;\">\n",
              "        \n",
              "  <svg xmlns=\"http://www.w3.org/2000/svg\" height=\"24px\"viewBox=\"0 0 24 24\"\n",
              "       width=\"24px\">\n",
              "    <path d=\"M0 0h24v24H0V0z\" fill=\"none\"/>\n",
              "    <path d=\"M18.56 5.44l.94 2.06.94-2.06 2.06-.94-2.06-.94-.94-2.06-.94 2.06-2.06.94zm-11 1L8.5 8.5l.94-2.06 2.06-.94-2.06-.94L8.5 2.5l-.94 2.06-2.06.94zm10 10l.94 2.06.94-2.06 2.06-.94-2.06-.94-.94-2.06-.94 2.06-2.06.94z\"/><path d=\"M17.41 7.96l-1.37-1.37c-.4-.4-.92-.59-1.43-.59-.52 0-1.04.2-1.43.59L10.3 9.45l-7.72 7.72c-.78.78-.78 2.05 0 2.83L4 21.41c.39.39.9.59 1.41.59.51 0 1.02-.2 1.41-.59l7.78-7.78 2.81-2.81c.8-.78.8-2.07 0-2.86zM5.41 20L4 18.59l7.72-7.72 1.47 1.35L5.41 20z\"/>\n",
              "  </svg>\n",
              "      </button>\n",
              "      \n",
              "  <style>\n",
              "    .colab-df-container {\n",
              "      display:flex;\n",
              "      flex-wrap:wrap;\n",
              "      gap: 12px;\n",
              "    }\n",
              "\n",
              "    .colab-df-convert {\n",
              "      background-color: #E8F0FE;\n",
              "      border: none;\n",
              "      border-radius: 50%;\n",
              "      cursor: pointer;\n",
              "      display: none;\n",
              "      fill: #1967D2;\n",
              "      height: 32px;\n",
              "      padding: 0 0 0 0;\n",
              "      width: 32px;\n",
              "    }\n",
              "\n",
              "    .colab-df-convert:hover {\n",
              "      background-color: #E2EBFA;\n",
              "      box-shadow: 0px 1px 2px rgba(60, 64, 67, 0.3), 0px 1px 3px 1px rgba(60, 64, 67, 0.15);\n",
              "      fill: #174EA6;\n",
              "    }\n",
              "\n",
              "    [theme=dark] .colab-df-convert {\n",
              "      background-color: #3B4455;\n",
              "      fill: #D2E3FC;\n",
              "    }\n",
              "\n",
              "    [theme=dark] .colab-df-convert:hover {\n",
              "      background-color: #434B5C;\n",
              "      box-shadow: 0px 1px 3px 1px rgba(0, 0, 0, 0.15);\n",
              "      filter: drop-shadow(0px 1px 2px rgba(0, 0, 0, 0.3));\n",
              "      fill: #FFFFFF;\n",
              "    }\n",
              "  </style>\n",
              "\n",
              "      <script>\n",
              "        const buttonEl =\n",
              "          document.querySelector('#df-b106b66b-bff4-4fef-bb2a-eed046c8f0dc button.colab-df-convert');\n",
              "        buttonEl.style.display =\n",
              "          google.colab.kernel.accessAllowed ? 'block' : 'none';\n",
              "\n",
              "        async function convertToInteractive(key) {\n",
              "          const element = document.querySelector('#df-b106b66b-bff4-4fef-bb2a-eed046c8f0dc');\n",
              "          const dataTable =\n",
              "            await google.colab.kernel.invokeFunction('convertToInteractive',\n",
              "                                                     [key], {});\n",
              "          if (!dataTable) return;\n",
              "\n",
              "          const docLinkHtml = 'Like what you see? Visit the ' +\n",
              "            '<a target=\"_blank\" href=https://colab.research.google.com/notebooks/data_table.ipynb>data table notebook</a>'\n",
              "            + ' to learn more about interactive tables.';\n",
              "          element.innerHTML = '';\n",
              "          dataTable['output_type'] = 'display_data';\n",
              "          await google.colab.output.renderOutput(dataTable, element);\n",
              "          const docLink = document.createElement('div');\n",
              "          docLink.innerHTML = docLinkHtml;\n",
              "          element.appendChild(docLink);\n",
              "        }\n",
              "      </script>\n",
              "    </div>\n",
              "  </div>\n",
              "  "
            ]
          },
          "metadata": {},
          "execution_count": 15
        }
      ]
    },
    {
      "cell_type": "markdown",
      "source": [
        "#### ResNet50"
      ],
      "metadata": {
        "id": "LQT2Sn2uK_9r"
      }
    },
    {
      "cell_type": "code",
      "source": [
        "base_model_resnet50 = tf.keras.applications.resnet50.ResNet50(\n",
        "    input_shape = (SIZE, SIZE, 3),\n",
        "    include_top=False, \n",
        "    weights=\"imagenet\",\n",
        ")\n",
        "# With the following we ensure that we do not mess with the original\n",
        "# imagenet weights\n",
        "base_model_resnet50.trainable = False\n",
        "\n",
        "\n",
        "x = base_model_resnet50.output\n",
        "x = keras.layers.GlobalAveragePooling2D()(x)\n",
        "x = keras.layers.Dense(512, activation='relu')(x)\n",
        "\n",
        "# We are using \"softmax\" since we want 10 probability values that all sum to 1 and the highest probability\n",
        "# will be our classification result.\n",
        "# For the regularizer: https://github.com/christianversloot/machine-learning-articles/blob/main/how-to-use-l1-l2-and-elastic-net-regularization-with-keras.md\n",
        "preds = Dense(num_classes, activation='softmax')(x) #final layer with softmax activation for N classes\n",
        "\n",
        "# OUTPUT THE MODEL\n",
        "model_resnet50 = keras.Model(inputs = base_model_resnet50.input, outputs = preds) #specify the inputs and outputs"
      ],
      "metadata": {
        "id": "yX9OOF-dTDNC",
        "colab": {
          "base_uri": "https://localhost:8080/",
          "height": 72
        },
        "outputId": "bfd05bd6-e3f2-4bd4-83bd-72e6a5c4b257"
      },
      "execution_count": null,
      "outputs": [
        {
          "output_type": "display_data",
          "data": {
            "text/plain": [
              "<IPython.core.display.Javascript object>"
            ],
            "application/javascript": [
              "google.colab.output.setIframeHeight(0, true, {maxHeight: 300})"
            ]
          },
          "metadata": {}
        },
        {
          "output_type": "stream",
          "name": "stdout",
          "text": [
            "Downloading data from https://storage.googleapis.com/tensorflow/keras-applications/resnet/resnet50_weights_tf_dim_ordering_tf_kernels_notop.h5\n",
            "94765736/94765736 [==============================] - 5s 0us/step\n"
          ]
        }
      ]
    },
    {
      "cell_type": "code",
      "source": [
        "# COMPILE THE MODEL\n",
        "model_resnet50.compile(loss=keras.losses.categorical_crossentropy,\n",
        "                         optimizer= keras.optimizers.Adam(learning_rate=0.0001),\n",
        "                         metrics=['accuracy', tf.keras.metrics.Recall()])"
      ],
      "metadata": {
        "id": "zBnrBtQ82f5a",
        "colab": {
          "base_uri": "https://localhost:8080/",
          "height": 17
        },
        "outputId": "7e0e05dc-59ba-4753-df21-9bf73f3387ea"
      },
      "execution_count": null,
      "outputs": [
        {
          "output_type": "display_data",
          "data": {
            "text/plain": [
              "<IPython.core.display.Javascript object>"
            ],
            "application/javascript": [
              "google.colab.output.setIframeHeight(0, true, {maxHeight: 300})"
            ]
          },
          "metadata": {}
        }
      ]
    },
    {
      "cell_type": "code",
      "source": [
        "stepsEpochs = train_generator_mnetv2.n // batch_size_CV # 16\n",
        "valSteps = val_generator_mnetv2.n // batch_size_CV # 16\n",
        "\n",
        "# START COUNTING THE TIME\n",
        "start = datetime.datetime.now()\n",
        "\n",
        "# FIT THE MODEL\n",
        "history_resnet50 = model_resnet50.fit(train_generator_mnetv2,\n",
        "                                      validation_data = val_generator_mnetv2,\n",
        "                                      steps_per_epoch = stepsEpochs,\n",
        "                                      validation_steps = valSteps, \n",
        "                                      epochs=30, \n",
        "                                      callbacks = [callback])\n",
        "                  \n",
        "print(\"--- Training Completed ---\")\n",
        "\n",
        "# STOP COUNTING THE TIME\n",
        "end = datetime.datetime.now()\n",
        "print(\"Total execution time is: \", end-start)"
      ],
      "metadata": {
        "id": "TvklIutcK_sa",
        "colab": {
          "base_uri": "https://localhost:8080/",
          "height": 300
        },
        "outputId": "9b77011a-4422-49c1-dbb2-c71c96675395"
      },
      "execution_count": null,
      "outputs": [
        {
          "output_type": "display_data",
          "data": {
            "text/plain": [
              "<IPython.core.display.Javascript object>"
            ],
            "application/javascript": [
              "google.colab.output.setIframeHeight(0, true, {maxHeight: 300})"
            ]
          },
          "metadata": {}
        },
        {
          "output_type": "stream",
          "name": "stdout",
          "text": [
            "Epoch 1/30\n",
            "125/125 [==============================] - 1622s 13s/step - loss: 2.2806 - accuracy: 0.1772 - recall: 0.0015 - val_loss: 2.2737 - val_accuracy: 0.2000 - val_recall: 0.0000e+00\n",
            "Epoch 2/30\n",
            "125/125 [==============================] - 30s 240ms/step - loss: 2.1511 - accuracy: 0.2456 - recall: 0.0030 - val_loss: 2.2922 - val_accuracy: 0.0625 - val_recall: 0.0000e+00\n",
            "Epoch 3/30\n",
            "125/125 [==============================] - 31s 251ms/step - loss: 2.0752 - accuracy: 0.2592 - recall: 0.0126 - val_loss: 2.2874 - val_accuracy: 0.0750 - val_recall: 0.0000e+00\n",
            "Epoch 4/30\n",
            "125/125 [==============================] - 30s 238ms/step - loss: 2.0201 - accuracy: 0.2899 - recall: 0.0317 - val_loss: 2.3072 - val_accuracy: 0.1167 - val_recall: 0.0000e+00\n",
            "Epoch 5/30\n",
            "125/125 [==============================] - 30s 236ms/step - loss: 1.9758 - accuracy: 0.3035 - recall: 0.0438 - val_loss: 2.1666 - val_accuracy: 0.1792 - val_recall: 0.0208\n",
            "Epoch 6/30\n",
            "125/125 [==============================] - 30s 238ms/step - loss: 1.9326 - accuracy: 0.3075 - recall: 0.0533 - val_loss: 2.1723 - val_accuracy: 0.1667 - val_recall: 0.0292\n",
            "Epoch 7/30\n",
            "125/125 [==============================] - 29s 234ms/step - loss: 1.9187 - accuracy: 0.3181 - recall: 0.0629 - val_loss: 2.1769 - val_accuracy: 0.2083 - val_recall: 0.0208\n",
            "Epoch 8/30\n",
            "125/125 [==============================] - 31s 245ms/step - loss: 1.8920 - accuracy: 0.3266 - recall: 0.0654 - val_loss: 2.2097 - val_accuracy: 0.1417 - val_recall: 0.0333\n",
            "Epoch 9/30\n",
            "125/125 [==============================] - 29s 233ms/step - loss: 1.8742 - accuracy: 0.3110 - recall: 0.0664 - val_loss: 2.0889 - val_accuracy: 0.1917 - val_recall: 0.0292\n",
            "Epoch 10/30\n",
            "125/125 [==============================] - 30s 242ms/step - loss: 1.8543 - accuracy: 0.3463 - recall: 0.0679 - val_loss: 2.3473 - val_accuracy: 0.1042 - val_recall: 0.0375\n",
            "Epoch 11/30\n",
            "125/125 [==============================] - 30s 238ms/step - loss: 1.8372 - accuracy: 0.3457 - recall: 0.0735 - val_loss: 2.0701 - val_accuracy: 0.2625 - val_recall: 0.0333\n",
            "Epoch 12/30\n",
            "125/125 [==============================] - 30s 237ms/step - loss: 1.8100 - accuracy: 0.3744 - recall: 0.0770 - val_loss: 2.1543 - val_accuracy: 0.1750 - val_recall: 0.0333\n",
            "Epoch 13/30\n",
            "125/125 [==============================] - 31s 245ms/step - loss: 1.8077 - accuracy: 0.3644 - recall: 0.0775 - val_loss: 2.1174 - val_accuracy: 0.1875 - val_recall: 0.0375\n",
            "Epoch 14/30\n",
            "125/125 [==============================] - 29s 235ms/step - loss: 1.8006 - accuracy: 0.3644 - recall: 0.0745 - val_loss: 2.1379 - val_accuracy: 0.1542 - val_recall: 0.0292\n",
            "Epoch 15/30\n",
            "125/125 [==============================] - 29s 234ms/step - loss: 1.7775 - accuracy: 0.3744 - recall: 0.0916 - val_loss: 2.1084 - val_accuracy: 0.1542 - val_recall: 0.0292\n",
            "Epoch 16/30\n",
            "125/125 [==============================] - 30s 237ms/step - loss: 1.7541 - accuracy: 0.3931 - recall: 0.0840 - val_loss: 2.1557 - val_accuracy: 0.1583 - val_recall: 0.0333\n",
            "Epoch 17/30\n",
            "125/125 [==============================] - 30s 242ms/step - loss: 1.7716 - accuracy: 0.3593 - recall: 0.0815 - val_loss: 2.1597 - val_accuracy: 0.1458 - val_recall: 0.0333\n",
            "Epoch 18/30\n",
            "125/125 [==============================] - 30s 239ms/step - loss: 1.7461 - accuracy: 0.3870 - recall: 0.0931 - val_loss: 2.0247 - val_accuracy: 0.2542 - val_recall: 0.0292\n",
            "Epoch 19/30\n",
            "125/125 [==============================] - 30s 237ms/step - loss: 1.7421 - accuracy: 0.3850 - recall: 0.0986 - val_loss: 2.1208 - val_accuracy: 0.1750 - val_recall: 0.0333\n",
            "Epoch 20/30\n",
            "125/125 [==============================] - 30s 239ms/step - loss: 1.7348 - accuracy: 0.4021 - recall: 0.1012 - val_loss: 2.1801 - val_accuracy: 0.1292 - val_recall: 0.0375\n",
            "Epoch 21/30\n",
            "125/125 [==============================] - 31s 245ms/step - loss: 1.7224 - accuracy: 0.3931 - recall: 0.1122 - val_loss: 2.1079 - val_accuracy: 0.1875 - val_recall: 0.0333\n",
            "Epoch 22/30\n",
            "125/125 [==============================] - 29s 234ms/step - loss: 1.7244 - accuracy: 0.3951 - recall: 0.1062 - val_loss: 2.1487 - val_accuracy: 0.1500 - val_recall: 0.0375\n",
            "Epoch 23/30\n",
            "125/125 [==============================] - 30s 241ms/step - loss: 1.7123 - accuracy: 0.3976 - recall: 0.1077 - val_loss: 2.0680 - val_accuracy: 0.2125 - val_recall: 0.0375\n",
            "Epoch 24/30\n",
            "125/125 [==============================] - 29s 232ms/step - loss: 1.7181 - accuracy: 0.4056 - recall: 0.1047 - val_loss: 2.1420 - val_accuracy: 0.1500 - val_recall: 0.0375\n",
            "Epoch 25/30\n",
            "125/125 [==============================] - 29s 232ms/step - loss: 1.6948 - accuracy: 0.4177 - recall: 0.1158 - val_loss: 2.1487 - val_accuracy: 0.1708 - val_recall: 0.0417\n",
            "Epoch 26/30\n",
            "125/125 [==============================] - 29s 234ms/step - loss: 1.6912 - accuracy: 0.4112 - recall: 0.1324 - val_loss: 2.0962 - val_accuracy: 0.1833 - val_recall: 0.0333\n",
            "Epoch 27/30\n",
            "125/125 [==============================] - 30s 236ms/step - loss: 1.6885 - accuracy: 0.4041 - recall: 0.1102 - val_loss: 2.0278 - val_accuracy: 0.2375 - val_recall: 0.0292\n",
            "Epoch 28/30\n",
            "125/125 [==============================] - 32s 252ms/step - loss: 1.6792 - accuracy: 0.4192 - recall: 0.1273 - val_loss: 2.0202 - val_accuracy: 0.2542 - val_recall: 0.0333\n",
            "Epoch 29/30\n",
            "125/125 [==============================] - 30s 240ms/step - loss: 1.6785 - accuracy: 0.4112 - recall: 0.1309 - val_loss: 2.0527 - val_accuracy: 0.1917 - val_recall: 0.0417\n",
            "Epoch 30/30\n",
            "125/125 [==============================] - 29s 236ms/step - loss: 1.6724 - accuracy: 0.4172 - recall: 0.1334 - val_loss: 2.1037 - val_accuracy: 0.1917 - val_recall: 0.0375\n",
            "--- Training Completed ---\n",
            "Total execution time:  0:45:15.631427\n"
          ]
        }
      ]
    },
    {
      "cell_type": "code",
      "source": [
        "# PLOT THEM TOGETHER\n",
        "# Visualization of the learning curves\n",
        "plt.figure(figsize=(15,6))\n",
        "\n",
        "plt.subplot(1, 2, 1)\n",
        "plt.plot(history_resnet50.history['loss'])\n",
        "plt.plot(history_resnet50.history['val_loss'])\n",
        "plt.ylim([0.0, 3.0])\n",
        "plt.title(\"Loss & Val loss ResNet50\")\n",
        "plt.xlabel('Epoch')\n",
        "plt.ylabel('Loss')\n",
        "plt.legend(['train', 'valid'])\n",
        "\n",
        "plt.subplot(1, 2, 2)\n",
        "plt.plot(history_resnet50.history['accuracy'])\n",
        "plt.plot(history_resnet50.history['val_accuracy'])\n",
        "plt.ylim([0.0, 1.0])\n",
        "plt.title(\"Accuracy & Val accuracy ResNet50\")\n",
        "plt.xlabel('Epoch')\n",
        "plt.ylabel('Accuracy')\n",
        "plt.legend(['train', 'valid'])"
      ],
      "metadata": {
        "id": "hLePunILytPT",
        "colab": {
          "base_uri": "https://localhost:8080/",
          "height": 300
        },
        "outputId": "fa89ca43-a8bf-43f8-ce8b-5db909fc65f2"
      },
      "execution_count": null,
      "outputs": [
        {
          "output_type": "display_data",
          "data": {
            "text/plain": [
              "<IPython.core.display.Javascript object>"
            ],
            "application/javascript": [
              "google.colab.output.setIframeHeight(0, true, {maxHeight: 300})"
            ]
          },
          "metadata": {}
        },
        {
          "output_type": "execute_result",
          "data": {
            "text/plain": [
              "<matplotlib.legend.Legend at 0x7f33e63e01c0>"
            ]
          },
          "metadata": {},
          "execution_count": 13
        },
        {
          "output_type": "display_data",
          "data": {
            "text/plain": [
              "<Figure size 1080x432 with 2 Axes>"
            ],
            "image/png": "[encoded data removed]"
          },
          "metadata": {
            "needs_background": "light"
          }
        }
      ]
    },
    {
      "cell_type": "code",
      "source": [
        "# SAVE THE MODELV05\n",
        "keras_model_resnet50 = \"/content/gdrive/MyDrive/Data_Science_2020-2022/Secondo_anno_Secondo_Semestre/FoDL_Project/Project_Example_Food/saved_models/model_resnet50.h5\"\n",
        "tf.keras.models.save_model(model_resnet50, keras_model_resnet50)"
      ],
      "metadata": {
        "id": "d2uB43p3Mq9w",
        "colab": {
          "base_uri": "https://localhost:8080/",
          "height": 17
        },
        "outputId": "7a1c612a-1c79-4833-e6c9-e7fb85adf056"
      },
      "execution_count": null,
      "outputs": [
        {
          "output_type": "display_data",
          "data": {
            "text/plain": [
              "<IPython.core.display.Javascript object>"
            ],
            "application/javascript": [
              "google.colab.output.setIframeHeight(0, true, {maxHeight: 300})"
            ]
          },
          "metadata": {}
        }
      ]
    },
    {
      "cell_type": "markdown",
      "source": [
        "###### Performance results Model V06 Transfer Learning with ResNet50\n",
        "\n",
        "The ResNet50 is not able to achieve even the 50% validation accuracy of a dummy classifier and it performs the worse compared to every other models."
      ],
      "metadata": {
        "id": "pNk6E0K6MtmM"
      }
    },
    {
      "cell_type": "code",
      "source": [
        "# GET THE MINIMUM ACCURACY, THE MAXIMUM ACCURACY, THE MINIMUM LOSS, THE MAXIMUM LOSS AND SAVE THEM IN VARIABLES.\n",
        "\n",
        "# LOSS/VAL LOSS\n",
        "modelresnet50_minLoss = min(history_resnet50.history['loss'])\n",
        "modelresnet50_maxLoss = max(history_resnet50.history['loss'])\n",
        "modelresnet50_minValLoss = min(history_resnet50.history['val_loss'])\n",
        "modelresnet50_maxValLoss = max(history_resnet50.history['val_loss'])\n",
        "\n",
        "# ACCURACY/VAL ACCURACY\n",
        "modelresnet50_minAccuracy = min(history_resnet50.history['accuracy'])\n",
        "modelresnet50_maxAccuracy = max(history_resnet50.history['accuracy'])\n",
        "modelresnet50_minValAccuracy = min(history_resnet50.history['val_accuracy'])\n",
        "modelresnet50_maxValAccuracy = max(history_resnet50.history['val_accuracy'])\n",
        "\n",
        "# CREATE THE DATAFRAME\n",
        "modelresnet50_loss_accuracy = pd.DataFrame({\"minLoss\": [modelresnet50_minLoss],\n",
        "                                       \"maxloss\": [modelresnet50_maxLoss],\n",
        "                                       \"minValLoss\": [modelresnet50_minValLoss],\n",
        "                                       \"maxValLoss\": [modelresnet50_maxValLoss],\n",
        "                                       \"minAccuracy\": [modelresnet50_minAccuracy],\n",
        "                                       \"maxAccuracy\": [modelresnet50_maxAccuracy],\n",
        "                                       \"minValAccuracy\": [modelresnet50_minValAccuracy],\n",
        "                                       \"maxValAccuracy\": [modelresnet50_maxValAccuracy]}).T\n",
        "\n",
        "# CHANGE THE FIRST COLUMN NAME\n",
        "modelresnet50_loss_accuracy = modelresnet50_loss_accuracy.rename(columns={0: 'modelresnet50'})\n",
        "# CHANGE THE INDEX NAME\n",
        "modelresnet50_loss_accuracy.index.names = ['Performance']\n",
        "modelresnet50_loss_accuracy"
      ],
      "metadata": {
        "id": "NeorfPUd673E",
        "colab": {
          "base_uri": "https://localhost:8080/",
          "height": 300
        },
        "outputId": "043e1b6b-f89d-48de-e9b0-693e646c9930"
      },
      "execution_count": null,
      "outputs": [
        {
          "output_type": "display_data",
          "data": {
            "text/plain": [
              "<IPython.core.display.Javascript object>"
            ],
            "application/javascript": [
              "google.colab.output.setIframeHeight(0, true, {maxHeight: 300})"
            ]
          },
          "metadata": {}
        },
        {
          "output_type": "execute_result",
          "data": {
            "text/plain": [
              "                modelresnet50\n",
              "Performance                  \n",
              "minLoss              1.672373\n",
              "maxloss              2.280624\n",
              "minValLoss           2.020194\n",
              "maxValLoss           2.347321\n",
              "minAccuracy          0.177151\n",
              "maxAccuracy          0.419225\n",
              "minValAccuracy       0.062500\n",
              "maxValAccuracy       0.262500"
            ],
            "text/html": [
              "\n",
              "  <div id=\"df-72874647-29d6-47bf-90a2-9565edfe80c8\">\n",
              "    <div class=\"colab-df-container\">\n",
              "      <div>\n",
              "<style scoped>\n",
              "    .dataframe tbody tr th:only-of-type {\n",
              "        vertical-align: middle;\n",
              "    }\n",
              "\n",
              "    .dataframe tbody tr th {\n",
              "        vertical-align: top;\n",
              "    }\n",
              "\n",
              "    .dataframe thead th {\n",
              "        text-align: right;\n",
              "    }\n",
              "</style>\n",
              "<table border=\"1\" class=\"dataframe\">\n",
              "  <thead>\n",
              "    <tr style=\"text-align: right;\">\n",
              "      <th></th>\n",
              "      <th>modelresnet50</th>\n",
              "    </tr>\n",
              "    <tr>\n",
              "      <th>Performance</th>\n",
              "      <th></th>\n",
              "    </tr>\n",
              "  </thead>\n",
              "  <tbody>\n",
              "    <tr>\n",
              "      <th>minLoss</th>\n",
              "      <td>1.672373</td>\n",
              "    </tr>\n",
              "    <tr>\n",
              "      <th>maxloss</th>\n",
              "      <td>2.280624</td>\n",
              "    </tr>\n",
              "    <tr>\n",
              "      <th>minValLoss</th>\n",
              "      <td>2.020194</td>\n",
              "    </tr>\n",
              "    <tr>\n",
              "      <th>maxValLoss</th>\n",
              "      <td>2.347321</td>\n",
              "    </tr>\n",
              "    <tr>\n",
              "      <th>minAccuracy</th>\n",
              "      <td>0.177151</td>\n",
              "    </tr>\n",
              "    <tr>\n",
              "      <th>maxAccuracy</th>\n",
              "      <td>0.419225</td>\n",
              "    </tr>\n",
              "    <tr>\n",
              "      <th>minValAccuracy</th>\n",
              "      <td>0.062500</td>\n",
              "    </tr>\n",
              "    <tr>\n",
              "      <th>maxValAccuracy</th>\n",
              "      <td>0.262500</td>\n",
              "    </tr>\n",
              "  </tbody>\n",
              "</table>\n",
              "</div>\n",
              "      <button class=\"colab-df-convert\" onclick=\"convertToInteractive('df-72874647-29d6-47bf-90a2-9565edfe80c8')\"\n",
              "              title=\"Convert this dataframe to an interactive table.\"\n",
              "              style=\"display:none;\">\n",
              "        \n",
              "  <svg xmlns=\"http://www.w3.org/2000/svg\" height=\"24px\"viewBox=\"0 0 24 24\"\n",
              "       width=\"24px\">\n",
              "    <path d=\"M0 0h24v24H0V0z\" fill=\"none\"/>\n",
              "    <path d=\"M18.56 5.44l.94 2.06.94-2.06 2.06-.94-2.06-.94-.94-2.06-.94 2.06-2.06.94zm-11 1L8.5 8.5l.94-2.06 2.06-.94-2.06-.94L8.5 2.5l-.94 2.06-2.06.94zm10 10l.94 2.06.94-2.06 2.06-.94-2.06-.94-.94-2.06-.94 2.06-2.06.94z\"/><path d=\"M17.41 7.96l-1.37-1.37c-.4-.4-.92-.59-1.43-.59-.52 0-1.04.2-1.43.59L10.3 9.45l-7.72 7.72c-.78.78-.78 2.05 0 2.83L4 21.41c.39.39.9.59 1.41.59.51 0 1.02-.2 1.41-.59l7.78-7.78 2.81-2.81c.8-.78.8-2.07 0-2.86zM5.41 20L4 18.59l7.72-7.72 1.47 1.35L5.41 20z\"/>\n",
              "  </svg>\n",
              "      </button>\n",
              "      \n",
              "  <style>\n",
              "    .colab-df-container {\n",
              "      display:flex;\n",
              "      flex-wrap:wrap;\n",
              "      gap: 12px;\n",
              "    }\n",
              "\n",
              "    .colab-df-convert {\n",
              "      background-color: #E8F0FE;\n",
              "      border: none;\n",
              "      border-radius: 50%;\n",
              "      cursor: pointer;\n",
              "      display: none;\n",
              "      fill: #1967D2;\n",
              "      height: 32px;\n",
              "      padding: 0 0 0 0;\n",
              "      width: 32px;\n",
              "    }\n",
              "\n",
              "    .colab-df-convert:hover {\n",
              "      background-color: #E2EBFA;\n",
              "      box-shadow: 0px 1px 2px rgba(60, 64, 67, 0.3), 0px 1px 3px 1px rgba(60, 64, 67, 0.15);\n",
              "      fill: #174EA6;\n",
              "    }\n",
              "\n",
              "    [theme=dark] .colab-df-convert {\n",
              "      background-color: #3B4455;\n",
              "      fill: #D2E3FC;\n",
              "    }\n",
              "\n",
              "    [theme=dark] .colab-df-convert:hover {\n",
              "      background-color: #434B5C;\n",
              "      box-shadow: 0px 1px 3px 1px rgba(0, 0, 0, 0.15);\n",
              "      filter: drop-shadow(0px 1px 2px rgba(0, 0, 0, 0.3));\n",
              "      fill: #FFFFFF;\n",
              "    }\n",
              "  </style>\n",
              "\n",
              "      <script>\n",
              "        const buttonEl =\n",
              "          document.querySelector('#df-72874647-29d6-47bf-90a2-9565edfe80c8 button.colab-df-convert');\n",
              "        buttonEl.style.display =\n",
              "          google.colab.kernel.accessAllowed ? 'block' : 'none';\n",
              "\n",
              "        async function convertToInteractive(key) {\n",
              "          const element = document.querySelector('#df-72874647-29d6-47bf-90a2-9565edfe80c8');\n",
              "          const dataTable =\n",
              "            await google.colab.kernel.invokeFunction('convertToInteractive',\n",
              "                                                     [key], {});\n",
              "          if (!dataTable) return;\n",
              "\n",
              "          const docLinkHtml = 'Like what you see? Visit the ' +\n",
              "            '<a target=\"_blank\" href=https://colab.research.google.com/notebooks/data_table.ipynb>data table notebook</a>'\n",
              "            + ' to learn more about interactive tables.';\n",
              "          element.innerHTML = '';\n",
              "          dataTable['output_type'] = 'display_data';\n",
              "          await google.colab.output.renderOutput(dataTable, element);\n",
              "          const docLink = document.createElement('div');\n",
              "          docLink.innerHTML = docLinkHtml;\n",
              "          element.appendChild(docLink);\n",
              "        }\n",
              "      </script>\n",
              "    </div>\n",
              "  </div>\n",
              "  "
            ]
          },
          "metadata": {},
          "execution_count": 15
        }
      ]
    },
    {
      "cell_type": "code",
      "source": [
        "# JOIN THE THREE DATAFRAMES TO GET A COMPARISON OF THE RESULTS\n",
        "# performance_concat_transfer_learning = pd.concat([modelVMNV2_loss_accuracy, modelVGG16_loss_accuracy, modelresnet50_loss_accuracy], axis=1)\n",
        "# performance_concat_transfer_learning"
      ],
      "metadata": {
        "id": "2j_DkPa97hLM"
      },
      "execution_count": null,
      "outputs": []
    },
    {
      "cell_type": "markdown",
      "source": [
        "## 1.2.8 Model V07 - Transfer learning & PCA\n",
        "\n"
      ],
      "metadata": {
        "id": "QSqudPbJY46K"
      }
    },
    {
      "cell_type": "code",
      "source": [
        "# # Capture training data and labels into respective lists\n",
        "# train_images = []\n",
        "# train_labels = [] \n",
        "\n",
        "# # GET THE LABELS\n",
        "# for directory_path in glob.glob(DIR_TRAIN_DATA):\n",
        "#     tr_label = directory_path.split(\"/\")[-1]\n",
        "#     print(tr_label)\n",
        "#     # GET THE IMAGES\n",
        "#     for img_path in glob.glob(os.path.join(directory_path, \"*.jpg\")):\n",
        "#         # print(img_path)\n",
        "#         img = cv2.imread(img_path, cv2.IMREAD_COLOR)       \n",
        "#         img = cv2.resize(img, (224, 224))\n",
        "#         img = cv2.cvtColor(img, cv2.COLOR_RGB2BGR)\n",
        "#         train_images.append(img)\n",
        "#         train_labels.append(tr_label)\n",
        "\n",
        "# # CONVERT LISTS TO ARRAYS\n",
        "# train_images = np.array(train_images)\n",
        "# train_labels = np.array(train_labels)\n",
        "\n",
        "# ################################################################\n",
        "# # CAPTURE TEST/VALIDATION DATA AND LABELS INTO RESPECTIVE LISTS\n",
        "\n",
        "# test_images = []\n",
        "# test_labels = [] \n",
        "# for directory_path in glob.glob(DIR_TEST_DATA):\n",
        "#     tt_label = directory_path.split(\"/\")[-1]\n",
        "#     for img_path in glob.glob(os.path.join(directory_path, \"*.jpg\")):\n",
        "#         img = cv2.imread(img_path, cv2.IMREAD_COLOR)\n",
        "#         img = cv2.resize(img, (224, 224))\n",
        "#         img = cv2.cvtColor(img, cv2.COLOR_RGB2BGR)\n",
        "#         test_images.append(img)\n",
        "#         test_labels.append(tt_label)\n",
        "\n",
        "# #Convert lists to arrays                \n",
        "# test_images = np.array(test_images)\n",
        "# test_labels = np.array(test_labels)"
      ],
      "metadata": {
        "id": "-2ccgqZiZLOA"
      },
      "execution_count": null,
      "outputs": []
    },
    {
      "cell_type": "code",
      "source": [
        "# # ENCODE LABELS FROM TEXT TO INTEGERS\n",
        "# le = preprocessing.LabelEncoder()\n",
        "\n",
        "# # TRAIN DATA\n",
        "# le.fit(train_labels)\n",
        "# train_labels_encoded = le.transform(train_labels)\n",
        "\n",
        "# # TEST DATA\n",
        "# le.fit(test_labels)\n",
        "# test_labels_encoded = le.transform(test_labels)\n",
        "\n",
        "# # SPLIT DATA INTO TEST AND TRAIN DATASETS (ALREADY SPLIT BUT ASSIGNING TO MEANINGFUL CONVENTION)\n",
        "# x_train, y_train, x_test, y_test = train_images, train_labels_encoded, test_images, test_labels_encoded"
      ],
      "metadata": {
        "id": "9n5RboU4ZLLs",
        "colab": {
          "base_uri": "https://localhost:8080/",
          "height": 17
        },
        "outputId": "aef66acd-5955-4e2b-ed35-5b7cd0fefa0e"
      },
      "execution_count": null,
      "outputs": [
        {
          "output_type": "display_data",
          "data": {
            "text/plain": [
              "<IPython.core.display.Javascript object>"
            ],
            "application/javascript": [
              "google.colab.output.setIframeHeight(0, true, {maxHeight: 300})"
            ]
          },
          "metadata": {}
        }
      ]
    },
    {
      "cell_type": "code",
      "source": [
        "# # SCALE PIXEL VALUES BETWEEN 0 AND 1\n",
        "# x_train, x_test = x_train / 255.0, x_test / 255.0\n",
        "\n",
        "# # ONE HOT ENCODE Y VALUES FOR NEURAL NETWORK\n",
        "# y_train_one_hot = to_categorical(y_train)\n",
        "# y_test_one_hot = to_categorical(y_test)"
      ],
      "metadata": {
        "id": "9ukrE3Q5ZLJ6",
        "colab": {
          "base_uri": "https://localhost:8080/",
          "height": 17
        },
        "outputId": "9508adc9-2359-47a9-bc11-9acf90b4549b"
      },
      "execution_count": null,
      "outputs": [
        {
          "output_type": "display_data",
          "data": {
            "text/plain": [
              "<IPython.core.display.Javascript object>"
            ],
            "application/javascript": [
              "google.colab.output.setIframeHeight(0, true, {maxHeight: 300})"
            ]
          },
          "metadata": {}
        }
      ]
    },
    {
      "cell_type": "code",
      "source": [
        "# #############################\n",
        "# #Load VGG model with imagenet trained weights and without classifier/fully connected layers\n",
        "# #We will use this as feature extractor. \n",
        "# base_model_mobilenetv2_PCA = tf.keras.applications.MobileNetV2(\n",
        "#     input_shape = (224, 224, 3),\n",
        "#     include_top=False, \n",
        "#     weights=\"imagenet\"\n",
        "# )\n",
        "# # With the following we ensure that we do not mess with the original\n",
        "# # imagenet weights\n",
        "# base_model_mobilenetv2_PCA.trainable = False\n",
        "    \n",
        "# base_model_mobilenetv2_PCA.summary()  #Trainable parameters will be 0"
      ],
      "metadata": {
        "id": "-7Rfk2ANguND"
      },
      "execution_count": null,
      "outputs": []
    },
    {
      "cell_type": "code",
      "source": [
        "# # NOW, USE THE MOBILENETV2 AS A FEATURE EXTRACTOR\n",
        "# # TRAIN FEATURES\n",
        "# train_feature_extractor = base_model_mobilenetv2_PCA.predict(x_train)\n",
        "# train_features = train_feature_extractor.reshape(train_feature_extractor.shape[0], -1)\n",
        "\n",
        "# # TEST FEATURES\n",
        "# test_feature_extractor = base_model_mobilenetv2_PCA.predict(x_test)\n",
        "# test_features = test_feature_extractor.reshape(test_feature_extractor.shape[0], -1)"
      ],
      "metadata": {
        "id": "ME2gHKhbguKS"
      },
      "execution_count": null,
      "outputs": []
    },
    {
      "cell_type": "code",
      "source": [
        "# train_features.shape"
      ],
      "metadata": {
        "id": "gQOXkDg9D2pH"
      },
      "execution_count": null,
      "outputs": []
    },
    {
      "cell_type": "code",
      "source": [
        "# # REDUCE DIMENSIONS USING PCA\n",
        "\n",
        "# #First verify the ideal number of PCA components to not lose much information. \n",
        "# #Try to retain 90% information, so look where the curve starts to flatten.\n",
        "# #Remember that the n_components must be lower than the number of rows or columns (features)\n",
        "# pca_test = PCA(n_components=900) #\n",
        "# pca_test.fit(train_features)"
      ],
      "metadata": {
        "id": "AxreENS9guIJ"
      },
      "execution_count": null,
      "outputs": []
    },
    {
      "cell_type": "code",
      "source": [
        "# # Visualization of the cumulative variance plot\n",
        "# plt.figure(figsize=(15,6))\n",
        "\n",
        "# # PLOT THE RESULTS\n",
        "# plt.plot(np.cumsum(pca_test.explained_variance_ratio_))\n",
        "# plt.xlabel(\"Number of components\")\n",
        "# plt.ylabel(\"Cumulative variance\")"
      ],
      "metadata": {
        "id": "OPPY40qSZLH4"
      },
      "execution_count": null,
      "outputs": []
    },
    {
      "cell_type": "code",
      "source": [
        "# # START COUNTING TIME\n",
        "# start = datetime.datetime.now()\n",
        "\n",
        "# #Pick the optimal number of components. This is how many features we will have \n",
        "# #for our machine learning\n",
        "# n_PCA_components = 900\n",
        "# pca = PCA(n_components=n_PCA_components)\n",
        "# train_PCA = pca.fit_transform(train_features)\n",
        "# test_PCA = pca.transform(test_features) #Make sure you are just transforming, not fitting. \n",
        "\n",
        "# end = datetime.datetime.now()\n",
        "# print(\"Total execution time with PCA is: \", end-start)"
      ],
      "metadata": {
        "id": "iwtDeaEpiWK-"
      },
      "execution_count": null,
      "outputs": []
    },
    {
      "cell_type": "code",
      "source": [
        "# train_PCA.shape"
      ],
      "metadata": {
        "id": "a3ESgKWTEUDv"
      },
      "execution_count": null,
      "outputs": []
    },
    {
      "cell_type": "code",
      "source": [
        "# test_PCA.shape"
      ],
      "metadata": {
        "id": "itxXDxHhEe0M"
      },
      "execution_count": null,
      "outputs": []
    },
    {
      "cell_type": "code",
      "source": [
        "# ############## Neural Network Approach ##################\n",
        "\n",
        "# ##Add hidden dense layers and final output/classifier layer.\n",
        "# model_PCA = Sequential()\n",
        "# inputs_PCA = keras.layers.Input(shape=(n_PCA_components,)) #Shape = n_components\n",
        "# hidden_1 = keras.layers.Dense(512, activation='relu')(inputs_PCA)\n",
        "# hidden_2 = keras.layers.Dense(256, activation='relu')(hidden_1)\n",
        "# output_PCA = keras.layers.Dense(num_classes, activation='softmax')(hidden_2)\n",
        "# model_PCA = keras.Model(inputs = inputs_PCA, outputs = output_PCA)\n",
        "\n",
        "# # PRINT THE SUMMARY\n",
        "# print(model_PCA.summary())\n",
        "\n",
        "# # USING A LEARNING RATE DECAY/SCHEDULING --> https://keras.io/api/optimizers/\n",
        "# lr_schedule = keras.optimizers.schedules.ExponentialDecay(\n",
        "#     initial_learning_rate = 0.001, # previously 0.001\n",
        "#     decay_steps=20000, # previously 10000\n",
        "#     decay_rate=0.89) # previously 0.95\n",
        "\n",
        "# # COMPILE THE MODEL\n",
        "# model_PCA.compile(loss=keras.losses.categorical_crossentropy,\n",
        "#             optimizer= keras.optimizers.Adam(learning_rate=lr_schedule), # 0.001 # 0.0001\n",
        "#             metrics=['accuracy'])"
      ],
      "metadata": {
        "id": "b9S2sIphjXRf"
      },
      "execution_count": null,
      "outputs": []
    },
    {
      "cell_type": "code",
      "source": [
        "# # START RECORDING TIME\n",
        "# start = datetime.datetime.now()\n",
        "\n",
        "# #Fit the model and use on-hot-encoded Y values\n",
        "# history_model_PCA = model_PCA.fit(train_PCA, \n",
        "#                                   y_train_one_hot, \n",
        "#                                   epochs = 30, \n",
        "#                                   verbose=3,\n",
        "#                                   validation_data=(test_PCA, y_test_one_hot))\n",
        "\n",
        "# # END RECORDING TIME\n",
        "# end = datetime.datetime.now()\n",
        "# print(\"Total execution time with PCA is: \", end-start)"
      ],
      "metadata": {
        "id": "YVLG2W01jXPQ"
      },
      "execution_count": null,
      "outputs": []
    },
    {
      "cell_type": "code",
      "source": [
        "# ##Predict on test dataset\n",
        "# predict_test_PCA = model_PCA.predict(test_PCA)\n",
        "# predict_test_PCA = np.argmax(predict_test_PCA, axis=1)\n",
        "# predict_test_PCA = le.inverse_transform(predict_test_PCA)"
      ],
      "metadata": {
        "id": "2AVXV6GIjXMO"
      },
      "execution_count": null,
      "outputs": []
    },
    {
      "cell_type": "code",
      "source": [
        "# # PRINT OVERALL ACCURACY\n",
        "# print (\"Accuracy = \", metrics.accuracy_score(test_labels, predict_test_PCA))"
      ],
      "metadata": {
        "id": "7jABQ1PijXJ1"
      },
      "execution_count": null,
      "outputs": []
    },
    {
      "cell_type": "code",
      "source": [
        "# # START RECORDING TIME\n",
        "# start = datetime.datetime.now()\n",
        "\n",
        "# # DEFINE THE K-FOLD CROSS VALIDATOR\n",
        "# kfold = KFold(n_splits = 10, shuffle=True)\n",
        "\n",
        "# # DEFINE PER-FOLD SCORE CONTAINERS\n",
        "# acc_per_fold = []\n",
        "\n",
        "# # K-FOLD CROSS VALIDATION MODEL EVALUTION\n",
        "# fold_no = 1\n",
        "# for train, test in kfold.split(train_PCA, train_PCA):\n",
        "  \n",
        "#   ############## NEURAL NETWORK MODEL ##################\n",
        "\n",
        "#   model_PCA = Sequential()\n",
        "#   inputs_PCA = keras.layers.Input(shape=(n_PCA_components,)) # Shape = n_components\n",
        "#   hidden_1 = keras.layers.Dense(256, activation='relu')(inputs_PCA)\n",
        "#   hidden_2 = keras.layers.Dense(512, activation='relu')(hidden_1)\n",
        "#   output_PCA = keras.layers.Dense(num_classes, activation='softmax')(hidden_2)\n",
        "#   model_PCA = keras.Model(inputs = inputs_PCA, outputs = output_PCA)\n",
        "\n",
        "#   # USING A LEARNING RATE DECAY/SCHEDULING --> https://keras.io/api/optimizers/\n",
        "#   lr_schedule = keras.optimizers.schedules.ExponentialDecay(\n",
        "#       initial_learning_rate = 0.001, # previously 0.001\n",
        "#       decay_steps=20000, # previously 10000\n",
        "#       decay_rate=0.89) # previously 0.95\n",
        "\n",
        "#   # COMPILE THE MODEL\n",
        "#   model_PCA.compile(loss=keras.losses.categorical_crossentropy,\n",
        "#               optimizer= keras.optimizers.Adam(learning_rate=lr_schedule), # 0.001 # 0.0001\n",
        "#               metrics=['accuracy'])\n",
        "\n",
        "\n",
        "#   # GENERATE A MESSAGE\n",
        "#   print('------------------------------------------------------------------------')\n",
        "#   print(f'--- Training for fold {fold_no} ---')\n",
        " \n",
        "#   # FIT THE MODEL AND USE ON-HOT ENCODED Y VALUES\n",
        "#   history_model_PCA = model_PCA.fit(train_PCA, \n",
        "#                                     y_train_one_hot, \n",
        "#                                     epochs = 30, \n",
        "#                                     verbose=3,\n",
        "#                                     validation_data=(test_PCA, y_test_one_hot))\n",
        "\n",
        "  \n",
        "#   # GENERATE GENERALIZATION METRICS\n",
        "#   ## PREDICT ON TEST DATASET\n",
        "#   predict_test_PCA = model_PCA.predict(test_PCA)\n",
        "#   predict_test_PCA = np.argmax(predict_test_PCA, axis=1)\n",
        "#   predict_test_PCA = le.inverse_transform(predict_test_PCA)\n",
        "\n",
        "#   # PRINT OVERALL ACCURACY\n",
        "#   print (\"Accuracy = \", metrics.accuracy_score(test_labels, predict_test_PCA))\n",
        "\n",
        "#   # ACCURACY PER FOLDER\n",
        "#   acc_per_fold.append(metrics.accuracy_score(test_labels, predict_test_PCA))\n",
        "\n",
        "#   # INCREASE FOLDER NUMBER\n",
        "#   fold_no = fold_no + 1\n",
        "\n",
        "# # END RECORDING TIME\n",
        "# end = datetime.datetime.now()\n",
        "# print(\"Total execution time is: \", end - start)"
      ],
      "metadata": {
        "id": "-0pywmObiDCY"
      },
      "execution_count": null,
      "outputs": []
    },
    {
      "cell_type": "code",
      "source": [
        "# # COMPUTE THE MEAN OF THE ACCURACY FOR THE CROSS VALIDATION FOR MODEL ASSESSMENT\n",
        "# cv_mean = np.mean(acc_per_fold)\n",
        "# print(\"Average accuracy for CV is:\", cv_mean)"
      ],
      "metadata": {
        "id": "CZjAWSDIiC_w"
      },
      "execution_count": null,
      "outputs": []
    },
    {
      "cell_type": "code",
      "source": [
        "# #  VISUALIZATION OF THE CONFUSION MATRIX\n",
        "# plt.figure(figsize=(15,6))\n",
        "\n",
        "# # CONFUSION MATRIX - VERIFY ACCURACY OF EACH CLASS\n",
        "\n",
        "# cm = confusion_matrix(test_labels, predict_test_PCA)\n",
        "# sns.heatmap(cm, annot=True)"
      ],
      "metadata": {
        "id": "XZm4KZ1liWIu"
      },
      "execution_count": null,
      "outputs": []
    },
    {
      "cell_type": "code",
      "source": [
        "# # PLOT THEM TOGETHER\n",
        "# # VISUALIZAZION OF THE LEARNING CURVES\n",
        "# plt.figure(figsize=(15,6))\n",
        "\n",
        "# plt.subplot(1, 2, 1)\n",
        "# plt.plot(history_model_PCA.history['loss'])\n",
        "# plt.plot(history_model_PCA.history['val_loss'])\n",
        "# plt.ylim([-0.1, 3.0])\n",
        "# plt.title(\"Loss & Val loss Model MobileNetV2 with PCA\")\n",
        "# plt.xlabel('Epoch')\n",
        "# plt.ylabel('Loss')\n",
        "# plt.legend(['train', 'valid'])\n",
        "\n",
        "# plt.subplot(1, 2, 2)\n",
        "# plt.plot(history_model_PCA.history['accuracy'])\n",
        "# plt.plot(history_model_PCA.history['val_accuracy'])\n",
        "# plt.ylim([0.0, 1.1])\n",
        "# plt.title(\"Accuracy & Val accuracy Model MobileNetV2 with PCA\")\n",
        "# plt.xlabel('Epoch')\n",
        "# plt.ylabel('Accuracy')\n",
        "# plt.legend(['train', 'valid'])"
      ],
      "metadata": {
        "id": "oh-6rc0rQ_mq"
      },
      "execution_count": null,
      "outputs": []
    },
    {
      "cell_type": "markdown",
      "source": [
        "#### Test the results over a specified number of images"
      ],
      "metadata": {
        "id": "bni0Y0t3WV6Z"
      }
    },
    {
      "cell_type": "code",
      "source": [
        "# # CHECK RESULTS ON A FEW SELECTED IMAGES\n",
        "\n",
        "# prediction_list = list() # COLLECT THE PREDICTIONS\n",
        "# ground_truth_list = list() # COLLECT THE GROUND TRUTH\n",
        "\n",
        "# for i in range(1, 101): # LOOP THROUGH 10 IMAGES\n",
        "#   # GET A RANDOM VALUE BETWEEN 0 AND THE THE FIRST DIMENSION OF THE TEST SET\n",
        "#   n = np.random.randint(0, x_test.shape[0])\n",
        "#   # GET A RANDOM IMAGE\n",
        "#   img = x_test[n]\n",
        "  \n",
        "\n",
        "#   # INPUT\n",
        "#   input_img = np.expand_dims(img, axis=0) #Expand dims so the input is (num images, x, y, c)\n",
        "#   input_img_feature = base_model_mobilenetv2_PCA.predict(input_img) # PREDICT THE IMAGE\n",
        "#   input_img_features = input_img_feature.reshape(input_img_feature.shape[0], -1)\n",
        "#   input_img_PCA = pca.transform(input_img_features)\n",
        "\n",
        "#   # PREDICTION\n",
        "#   prediction_img = model_PCA.predict(input_img_PCA)\n",
        "#   # GET THE MAX VALUE OF PREDICTION\n",
        "#   prediction_img = np.argmax(prediction_img, axis=1)\n",
        "#   # INVERSE TRANSFORM TO GET THE ORIGINAL IMAGE AFTER APPLIED THE PCA\n",
        "#   prediction_img = le.inverse_transform(prediction_img)  #Reverse the label encoder to original name\n",
        "\n",
        "#   # PRINT RESULTS\n",
        "#   # print(\"The prediction for this image is: \", prediction_img)\n",
        "#   # print(\"The actual label for this image is: \", test_labels[n])\n",
        "\n",
        "#   # COLLECT THE RESULTS\n",
        "#   prediction_list.append(prediction_img[0])\n",
        "#   ground_truth_list.append(test_labels[n])\n",
        "  \n",
        "#   # INCREASE THE COUNTER\n",
        "#   # # PLOT THE RANDOM IMAGE\n",
        "#   # plt.imshow(img)\n",
        "\n",
        "#   i += 1\n",
        "\n",
        "\n",
        "# # CREATE A DATAFRAME TO COMPARE THE RESULTS\n",
        "# df_comparison = pd.DataFrame({\"predicted\": prediction_list, \"ground truth\": ground_truth_list})"
      ],
      "metadata": {
        "id": "yHGyu87K5kFZ"
      },
      "execution_count": null,
      "outputs": []
    },
    {
      "cell_type": "code",
      "source": [
        "# df_comparison['comparison'] = np.where(df_comparison['predicted'] == df_comparison['ground truth'], 1, \n",
        "#                                       np.where(df_comparison['predicted'] !=  df_comparison['ground truth'], 0, -1))\n",
        "\n",
        "# # df_comparison"
      ],
      "metadata": {
        "id": "TfUPrdTqXTE5"
      },
      "execution_count": null,
      "outputs": []
    },
    {
      "cell_type": "code",
      "source": [
        "# # COMPUTE ACCURACY OVER THE TEN ELEMENTS\n",
        "# accuracy_over_test = (np.sum(df_comparison['comparison'])/len(df_comparison))*100\n",
        "# print(f\"Accuracy over {len(df_comparison)} images is:\", accuracy_over_test, \"%\")"
      ],
      "metadata": {
        "id": "hrOkYzcnZTKH"
      },
      "execution_count": null,
      "outputs": []
    },
    {
      "cell_type": "markdown",
      "source": [
        "#### Performance results Model V07 Transfer Learning + PCA"
      ],
      "metadata": {
        "id": "UZKvkk_2xw3d"
      }
    },
    {
      "cell_type": "code",
      "source": [
        "# # SAVE THE TIME NEEDED TO RUN THE ALGORITHM\n",
        "# time_duration_modelV07_cv = end - start\n",
        "# print(time_duration_modelV07_cv)"
      ],
      "metadata": {
        "id": "Ij_DiE0nnJLS"
      },
      "execution_count": null,
      "outputs": []
    },
    {
      "cell_type": "code",
      "source": [
        "# WE ARE NOT SAVING THIS MODEL, IT WAS JUST A TEST TO COMPARE TO THE TRANSFER LEARNING"
      ],
      "metadata": {
        "id": "LbUaWGR-x1uP"
      },
      "execution_count": null,
      "outputs": []
    },
    {
      "cell_type": "code",
      "source": [
        "# # GET THE MINIMUM ACCURACY, THE MAXIMUM ACCURACY, THE MINIMUM LOSS, THE MAXIMUM LOSS AND SAVE THEM IN VARIABLES.\n",
        "# # THEN CREATE A DATAFRAME AT THE END WHERE YOU CAN COMPARE DIFFERENT MODELS WITH IT!\n",
        "\n",
        "# # LOSS/VAL LOSS\n",
        "# modelV07_GDCV_minLoss = min(history_model_PCA.history['loss'])\n",
        "# modelV07_GDCV_maxLoss = max(history_model_PCA.history['loss'])\n",
        "# modelV07_GDCV_minValLoss = min(history_model_PCA.history['val_loss'])\n",
        "# modelV07_GDCV_maxValLoss = max(history_model_PCA.history['val_loss'])\n",
        "\n",
        "# # ACCURACY/VAL ACCURACY\n",
        "# modelV07_GDCV_minAccuracy = min(history_model_PCA.history['accuracy'])\n",
        "# modelV07_GDCV_maxAccuracy = max(history_model_PCA.history['accuracy'])\n",
        "# modelV07_GDCV_minValAccuracy = min(history_model_PCA.history['val_accuracy'])\n",
        "# modelV07_GDCV_maxValAccuracy = max(history_model_PCA.history['val_accuracy'])\n",
        "\n",
        "# # CREATE THE DATAFRAME\n",
        "# modelV07_GDCV_loss_accuracy = pd.DataFrame({\"minLoss\": [modelV07_GDCV_minLoss],\n",
        "#                                        \"maxloss\": [modelV07_GDCV_maxLoss],\n",
        "#                                        \"minValLoss\": [modelV07_GDCV_minValLoss],\n",
        "#                                        \"maxValLoss\": [modelV07_GDCV_maxValLoss],\n",
        "#                                        \"minAccuracy\": [modelV07_GDCV_minAccuracy],\n",
        "#                                        \"maxAccuracy\": [modelV07_GDCV_maxAccuracy],\n",
        "#                                        \"minValAccuracy\": [modelV07_GDCV_minValAccuracy],\n",
        "#                                        \"maxValAccuracy\": [modelV07_GDCV_maxValAccuracy]}).T\n",
        "\n",
        "# # CHANGE THE FIRST COLUMN NAME\n",
        "# modelV07_GDCV_loss_accuracy = modelV07_GDCV_loss_accuracy.rename(columns={0: 'modelV07_GDCV'})\n",
        "# # CHANGE THE INDEX NAME\n",
        "# modelV07_GDCV_loss_accuracy.index.names = ['Performance']\n",
        "# modelV07_GDCV_loss_accuracy"
      ],
      "metadata": {
        "id": "ex8hj_25fXlF"
      },
      "execution_count": null,
      "outputs": []
    },
    {
      "cell_type": "markdown",
      "source": [
        "\n",
        "\n",
        "---\n",
        "\n",
        "\n",
        "\n",
        "---\n",
        "\n"
      ],
      "metadata": {
        "id": "dSmvNpdGGrOF"
      }
    },
    {
      "cell_type": "markdown",
      "source": [
        "# References\n",
        "\n",
        "- https://datascience.stackexchange.com/questions/47405/what-to-set-in-steps-per-epoch-in-keras-fit-generator\n",
        "- https://stackoverflow.com/questions/49017331/keras-flow-from-directorydirectory\n",
        "- https://studymachinelearning.com/keras-imagedatagenerator-with-flow_from_directory/"
      ],
      "metadata": {
        "id": "mhmKJlvvXeb_"
      }
    }
  ],
  "metadata": {
    "colab": {
      "provenance": []
    },
    "gpuClass": "standard",
    "kernelspec": {
      "display_name": "Python 3",
      "name": "python3"
    },
    "language_info": {
      "name": "python"
    },
    "accelerator": "GPU"
  },
  "nbformat": 4,
  "nbformat_minor": 0
}