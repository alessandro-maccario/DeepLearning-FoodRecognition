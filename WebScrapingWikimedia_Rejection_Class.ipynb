{
  "nbformat": 4,
  "nbformat_minor": 0,
  "metadata": {
    "colab": {
      "provenance": []
    },
    "kernelspec": {
      "name": "python3",
      "display_name": "Python 3"
    },
    "language_info": {
      "name": "python"
    }
  },
  "cells": [
    {
      "cell_type": "code",
      "execution_count": 154,
      "metadata": {
        "id": "lN_98ffzOBE5"
      },
      "outputs": [],
      "source": [
        "from lxml import html\n",
        "from re import search\n",
        "import urllib.request\n",
        "from urllib.request import urlopen\n",
        "from bs4 import BeautifulSoup as bs4"
      ]
    },
    {
      "cell_type": "code",
      "source": [
        "# BASE URL FOR CATEGORY\n",
        "BASE_URL_CATEGORY = \"https://commons.wikimedia.org/wiki/Category:Landscapes\"\n",
        "\n",
        "# BASE URL FOR WIKIMEDIA\n",
        "BASE_URL_WIKIMEDIA = \"https://commons.wikimedia.org\""
      ],
      "metadata": {
        "id": "lKudpTw8dgRU"
      },
      "execution_count": 167,
      "outputs": []
    },
    {
      "cell_type": "code",
      "source": [
        "def get_download_path(base_url):\n",
        "  \"\"\"\n",
        "    The goal of this function is to get the downloadable paths\n",
        "    to use in the scrape_images function.\n",
        "    You are going to get all the path for each single image that you'll\n",
        "    use after with the scrape_images function.\n",
        "    \n",
        "    From https://www.simplilearn.com/tutorials/python-tutorial/python-internet-access-using-urllib-request-and-urlopen#:~:text=The%20urlopen()%20function%20provides,objects%20that%20perform%20these%20services.:\n",
        "    \n",
        "    The urlopen() function provides a fairly simple interface. \n",
        "    It is capable of retrieving URLs with a variety of protocols. \n",
        "    It also has a little more complicated interface for dealing with typical \n",
        "    scenarios, such as basic authentication, cookies, and proxies. \n",
        "    Handlers and openers are objects that perform these services.\n",
        "  \"\"\"\n",
        "\n",
        "  # FETCH THE BASE URL\n",
        "  html = urlopen(base_url)\n",
        "  bs4_apply = bs4(html, 'html.parser')\n",
        "  # FIND ALL ELEMENTS WITH THE CLASS galleryfilename galleryfilename-truncate\n",
        "  link_images = bs4_apply.find_all('a', {\"class\": \"galleryfilename galleryfilename-truncate\"})\n",
        "\n",
        "  save_href_list = []\n",
        "\n",
        "  for el in link_images:\n",
        "    get_ref = el.get('href')\n",
        "    save_href_list.append(BASE_URL_WIKIMEDIA + get_ref)\n",
        "    # print(el.get('href'))\n",
        "\n",
        "  print(save_href_list)"
      ],
      "metadata": {
        "id": "jBqigV8ndgPT"
      },
      "execution_count": 168,
      "outputs": []
    },
    {
      "cell_type": "code",
      "source": [
        "get_download_path(BASE_URL_CATEGORY)"
      ],
      "metadata": {
        "colab": {
          "base_uri": "https://localhost:8080/"
        },
        "id": "4W21f9pYdgM4",
        "outputId": "3211a8c7-0195-4922-f868-8e9b81832b39"
      },
      "execution_count": 169,
      "outputs": [
        {
          "output_type": "stream",
          "name": "stdout",
          "text": [
            "['https://commons.wikimedia.org/wiki/File:Crest-_Yosemite%3F_(17a34fd143a7446ea27c2138f52c2e16).jpg', 'https://commons.wikimedia.org/wiki/File:Fallcreek_Oct_2008.jpg', 'https://commons.wikimedia.org/wiki/File:IMG-20210214-WA0300.jpg', 'https://commons.wikimedia.org/wiki/File:In_Bangor.JPG', 'https://commons.wikimedia.org/wiki/File:Joe_Mania_2016-08-01_(Unsplash_PFLchrsv9jY).jpg', 'https://commons.wikimedia.org/wiki/File:Layakharo_Evining_sunset_scenery.jpg', 'https://commons.wikimedia.org/wiki/File:Mountain_Glacier_Landscape_(from_AvoPix).jpg', 'https://commons.wikimedia.org/wiki/File:%D0%AF%D1%8F_412a.jpg']\n"
          ]
        }
      ]
    },
    {
      "cell_type": "code",
      "source": [],
      "metadata": {
        "id": "DrGizkosdgLS"
      },
      "execution_count": null,
      "outputs": []
    },
    {
      "cell_type": "code",
      "source": [
        "def scrape_images(download_path):\n",
        "  \"\"\"\n",
        "  Using the download_path url this function fetch\n",
        "  the correct url and download the image in the \n",
        "  current working directory.\n",
        "  \"\"\"\n",
        "  # GET THE FILE NAME IN ORDER TO USE IT LATER TO SAVE THE FILE\n",
        "  file_name = download_path.split(\"File:\")[1] # TO CHECK: IS THIS A STRING?\n",
        "  html = urlopen(download_path)\n",
        "  bs4_apply = bs4(html, 'html.parser')\n",
        "  images = bs4_apply.find_all('a')\n",
        "  \n",
        "  save_list = []\n",
        "\n",
        "  for el in images:\n",
        "    get_ref = el.get('href')\n",
        "    save_list.append(get_ref)\n",
        "    \n",
        "  save_list = save_list[1:]\n",
        "\n",
        "  correct_url_image = []\n",
        "  # string in the list\n",
        "  for s in save_list:\n",
        "    if 'https' in s:\n",
        "      # print(s)\n",
        "      correct_url_image.append(s)\n",
        "\n",
        "  print(correct_url_image[0])\n",
        "  # SAVE THE IMAGE\n",
        "  urllib.request.urlretrieve(correct_url_image[0], file_name)"
      ],
      "metadata": {
        "id": "8cEQZKknOUF_"
      },
      "execution_count": 174,
      "outputs": []
    },
    {
      "cell_type": "code",
      "source": [
        "scrape_images(\"https://commons.wikimedia.org/wiki/File:Crest-_Yosemite%3F_(17a34fd143a7446ea27c2138f52c2e16).jpg\")"
      ],
      "metadata": {
        "colab": {
          "base_uri": "https://localhost:8080/"
        },
        "id": "vB2j8SUSDVMg",
        "outputId": "40ebae67-14ca-40f9-92da-dc18001d63a1"
      },
      "execution_count": 175,
      "outputs": [
        {
          "output_type": "stream",
          "name": "stdout",
          "text": [
            "https://upload.wikimedia.org/wikipedia/commons/0/0f/Crest-_Yosemite%3F_%2817a34fd143a7446ea27c2138f52c2e16%29.jpg\n"
          ]
        }
      ]
    },
    {
      "cell_type": "code",
      "source": [],
      "metadata": {
        "id": "hreEaMJxDiMP"
      },
      "execution_count": null,
      "outputs": []
    }
  ]
}