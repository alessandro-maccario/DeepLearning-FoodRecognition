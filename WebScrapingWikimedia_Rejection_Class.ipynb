{
  "nbformat": 4,
  "nbformat_minor": 0,
  "metadata": {
    "colab": {
      "provenance": []
    },
    "kernelspec": {
      "name": "python3",
      "display_name": "Python 3"
    },
    "language_info": {
      "name": "python"
    }
  },
  "cells": [
    {
      "cell_type": "markdown",
      "source": [
        "# 0. NOTEBOOK EXPLANATION\n",
        "\n",
        "> What does it do?\n",
        "\n",
        "This notebook provide a way of downloading images from https://commons.wikimedia.org by scraping, based on a manual choice of specific image categories. The amount of images scraped amount to 48 for three categories such as *landscapes*, *clouds*, *entertainment*.\n",
        "Before scraping, the page https://commons.wikimedia.org/robots.txt has been checked in order to understand if any violation was committed. There was no indication that the specific files were not free to download or scrape.\n",
        "Furthermore, they are available either under CC (Creative Commons) licence, Creative Commons Attribution-ShareAlike 4.0 International or the images come from https://unsplash.com (licence: https://unsplash.com/it/licenza), so they are freely available to be used by everyone.\n",
        "\n",
        "> What is the goal?\n",
        "\n",
        "The goal of this notebook is to obtain a certain amount of images in order to create another class, the *rejection_class* that it should be used in order to train the model. Doing that should give the possibility to the classifier to be able to distinguish also categories different from food, the main topic of this project.\n"
      ],
      "metadata": {
        "id": "0tSXgtNIE-0y"
      }
    },
    {
      "cell_type": "code",
      "source": [
        "# # REMOVE PREVIOUS FOLDER IF EXISTS\n",
        "# !rm -rf rejection_class/"
      ],
      "metadata": {
        "id": "qApW1p6aF6nI"
      },
      "execution_count": 41,
      "outputs": []
    },
    {
      "cell_type": "code",
      "execution_count": 42,
      "metadata": {
        "id": "lN_98ffzOBE5"
      },
      "outputs": [],
      "source": [
        "# IMPORTING PACKAGES\n",
        "import time\n",
        "import os.path\n",
        "from os import path\n",
        "from lxml import html\n",
        "from re import search\n",
        "import urllib.request\n",
        "from urllib.request import urlopen\n",
        "from bs4 import BeautifulSoup as bs4\n",
        "\n",
        "# import os\n",
        "# from PIL import Image\n",
        "# from pathlib import Path"
      ]
    },
    {
      "cell_type": "code",
      "source": [
        "# Link Google Drive account\n",
        "from google.colab import drive\n",
        "drive.mount('/content/gdrive')"
      ],
      "metadata": {
        "colab": {
          "base_uri": "https://localhost:8080/"
        },
        "id": "ga6PPLkJpxE0",
        "outputId": "fe4f8045-db4b-4eca-e220-9e1bcb32aa19"
      },
      "execution_count": 43,
      "outputs": [
        {
          "output_type": "stream",
          "name": "stdout",
          "text": [
            "Drive already mounted at /content/gdrive; to attempt to forcibly remount, call drive.mount(\"/content/gdrive\", force_remount=True).\n"
          ]
        }
      ]
    },
    {
      "cell_type": "code",
      "source": [
        "# PATH TO WHERE SAVE THE NEW DATA\n",
        "DIR_ORIGINAL_DATA = r\"/content/gdrive/MyDrive/Data_Science_2020-2022/Secondo_anno_Secondo_Semestre/FoDL_Project/Project_Example_Food/ExampleFoodImageDataset/rejection_class\""
      ],
      "metadata": {
        "id": "ZNOC-vc3p1Gp"
      },
      "execution_count": 44,
      "outputs": []
    },
    {
      "cell_type": "code",
      "source": [
        "# BASE URL FOR CATEGORY\n",
        "BASE_URL_CATEGORY_LANDSCAPES = r\"https://commons.wikimedia.org/wiki/Category:Landscapes\"\n",
        "# BASE_URL_CATEGORY_ARCHITECTURE = r\"https://commons.wikimedia.org/wiki/Category:Architecture\"\n",
        "BASE_URL_CATEGORY_CLOUDS = r\"https://commons.wikimedia.org/wiki/Category:Clouds_in_Nottuln\"\n",
        "BASE_URL_CATEGORY_ENTERTAINMENT = r\"https://commons.wikimedia.org/wiki/Category:Aerial_photographs_of_events\"\n",
        "\n",
        "# BASE URL FOR WIKIMEDIA\n",
        "BASE_URL_WIKIMEDIA = r\"https://commons.wikimedia.org\""
      ],
      "metadata": {
        "id": "lKudpTw8dgRU"
      },
      "execution_count": 45,
      "outputs": []
    },
    {
      "cell_type": "code",
      "source": [
        "def get_download_path(base_url):\n",
        "  \"\"\"\n",
        "    The goal of this function is to get the downloadable paths\n",
        "    to use in the scrape_images function.\n",
        "    You are going to get all the path for each single image that you'll\n",
        "    use after with the scrape_images function.\n",
        "    \n",
        "    From https://www.simplilearn.com/tutorials/python-tutorial/python-internet-access-using-urllib-request-and-urlopen#:~:text=The%20urlopen()%20function%20provides,objects%20that%20perform%20these%20services.:\n",
        "    \n",
        "    The urlopen() function provides a fairly simple interface. \n",
        "    It is capable of retrieving URLs with a variety of protocols. \n",
        "    It also has a little more complicated interface for dealing with typical \n",
        "    scenarios, such as basic authentication, cookies, and proxies. \n",
        "    Handlers and openers are objects that perform these services.\n",
        "  \"\"\"\n",
        "\n",
        "  # FETCH THE BASE URL\n",
        "  # ERROR! HERE YOU NEED A STRING, NOT A LIST OF URL!!!\n",
        "  # E SE SALVASSIMO I RISULTATI IN UNA LISTA E POI DA QUELLA LISTA, E NON\n",
        "  # DALLA FUNZIONE, INIZIASSIMO AD APPLICARE LA FUNZIONE FINALE?\n",
        "  html = urlopen(base_url)\n",
        "\n",
        "  # APPLY bs4\n",
        "  bs4_apply = bs4(html, 'html.parser')\n",
        "  # FIND ALL ELEMENTS WITH THE CLASS galleryfilename galleryfilename-truncate\n",
        "  link_images = bs4_apply.find_all('a', {\"class\": \"galleryfilename galleryfilename-truncate\"})\n",
        "\n",
        "  # CREATE AN EMPTY LIST WHERE TO SAVE ALL THE LINKS\n",
        "  save_href_list = []\n",
        "\n",
        "  for el in link_images:\n",
        "    get_ref = el.get('href')\n",
        "    save_href_list.append(BASE_URL_WIKIMEDIA + get_ref)\n",
        "\n",
        "  print(save_href_list)\n",
        "\n",
        "  return save_href_list"
      ],
      "metadata": {
        "id": "jBqigV8ndgPT"
      },
      "execution_count": 46,
      "outputs": []
    },
    {
      "cell_type": "code",
      "source": [
        "# CREATE LISTS WHERE TO STORE ALL THE LINKS FOR THE IMAGES\n",
        "landscapes = get_download_path(BASE_URL_CATEGORY_LANDSCAPES)\n",
        "# architecture = get_download_path(BASE_URL_CATEGORY_ARCHITECTURE)\n",
        "clouds = get_download_path(BASE_URL_CATEGORY_CLOUDS)\n",
        "entertainment = get_download_path(BASE_URL_CATEGORY_ENTERTAINMENT)"
      ],
      "metadata": {
        "colab": {
          "base_uri": "https://localhost:8080/"
        },
        "id": "4W21f9pYdgM4",
        "outputId": "a76b9d7c-18f3-41f7-8302-29283221f161"
      },
      "execution_count": 47,
      "outputs": [
        {
          "output_type": "stream",
          "name": "stdout",
          "text": [
            "['https://commons.wikimedia.org/wiki/File:Crest-_Yosemite%3F_(17a34fd143a7446ea27c2138f52c2e16).jpg', 'https://commons.wikimedia.org/wiki/File:Fallcreek_Oct_2008.jpg', 'https://commons.wikimedia.org/wiki/File:IMG-20210214-WA0300.jpg', 'https://commons.wikimedia.org/wiki/File:In_Bangor.JPG', 'https://commons.wikimedia.org/wiki/File:Joe_Mania_2016-08-01_(Unsplash_PFLchrsv9jY).jpg', 'https://commons.wikimedia.org/wiki/File:Layakharo_Evining_sunset_scenery.jpg', 'https://commons.wikimedia.org/wiki/File:Mountain_Glacier_Landscape_(from_AvoPix).jpg', 'https://commons.wikimedia.org/wiki/File:Port_Waikato_Township.jpg', 'https://commons.wikimedia.org/wiki/File:%D0%AF%D1%8F_412a.jpg']\n",
            "['https://commons.wikimedia.org/wiki/File:Nottuln,_Appelh%C3%BClsen,_Haus_Klein-Schonebeck_--_2015_--_01132.jpg', 'https://commons.wikimedia.org/wiki/File:Nottuln,_Appelh%C3%BClsen,_Haus_Klein-Schonebeck_--_2015_--_01133.jpg', 'https://commons.wikimedia.org/wiki/File:Nottuln,_Appelh%C3%BClsen,_Haus_Klein-Schonebeck_--_2015_--_01135.jpg', 'https://commons.wikimedia.org/wiki/File:Nottuln,_Appelh%C3%BClsen,_Kriegerged%C3%A4chtniskapelle_--_2015_--_5459.jpg', 'https://commons.wikimedia.org/wiki/File:Nottuln,_Appelh%C3%BClsen,_Pfarramt_--_2015_--_5472.jpg', 'https://commons.wikimedia.org/wiki/File:Nottuln,_Appelh%C3%BClsen,_Schulze-Frenkings-Hof_--_2015_--_5455.jpg', 'https://commons.wikimedia.org/wiki/File:Nottuln,_Appelh%C3%BClsen,_Schulze-Frenkings-Hof_--_2015_--_5476.jpg', 'https://commons.wikimedia.org/wiki/File:Nottuln,_Appelh%C3%BClsen,_Schulze-Frenkings-Hof_--_2015_--_5477.jpg', 'https://commons.wikimedia.org/wiki/File:Nottuln,_Appelh%C3%BClsen,_Schulze-Frenkings-Hof_--_2015_--_5478.jpg', 'https://commons.wikimedia.org/wiki/File:Nottuln,_Appelh%C3%BClsen,_Schulze-Frenkings-Hof_--_2015_--_5482.jpg', 'https://commons.wikimedia.org/wiki/File:Nottuln,_Appelh%C3%BClsen,_Schulze-Frenkings-Hof_--_2015_--_5484.jpg', 'https://commons.wikimedia.org/wiki/File:Nottuln,_Appelh%C3%BClsen,_Schulze-Frenkings-Hof_--_2015_--_5486.jpg', 'https://commons.wikimedia.org/wiki/File:Nottuln,_Appelh%C3%BClsen,_St.-Maria-Himmelfahrt-Kirche_--_2015_--_5462.jpg', 'https://commons.wikimedia.org/wiki/File:Nottuln,_Appelh%C3%BClsen,_St.-Maria-Himmelfahrt-Kirche_--_2015_--_5463.jpg', 'https://commons.wikimedia.org/wiki/File:Nottuln,_Appelh%C3%BClsen,_St.-Maria-Himmelfahrt-Kirche_--_2015_--_5466.jpg', 'https://commons.wikimedia.org/wiki/File:Nottuln,_Geb%C3%A4ude_-Ascheberg%27sche_Kurie-_--_2016_--_3826.jpg', 'https://commons.wikimedia.org/wiki/File:Nottuln,_St.-Martinus-Kirche_--_2016_--_3818.jpg', 'https://commons.wikimedia.org/wiki/File:Nottuln,_Stockum,_Rapsfeld_--_2021_--_8077.jpg', 'https://commons.wikimedia.org/wiki/File:Nottuln,_Stockum,_Rapsfeld_--_2021_--_8078.jpg', 'https://commons.wikimedia.org/wiki/File:Nottuln,_Stockum,_Rapsfeld_--_2021_--_8079.jpg', 'https://commons.wikimedia.org/wiki/File:Nottuln,_Wasserm%C3%BChle_Schulze_Westerath_--_2016_--_1463.jpg', 'https://commons.wikimedia.org/wiki/File:Nottuln,_Wasserm%C3%BChle_Schulze_Westerath_--_2016_--_1464-70.jpg']\n",
            "['https://commons.wikimedia.org/wiki/File:1979_Festival_Aerial_Image.jpg', 'https://commons.wikimedia.org/wiki/File:1979_Festival_main.jpg', 'https://commons.wikimedia.org/wiki/File:1979_Festival_parking_and_camping.jpg', 'https://commons.wikimedia.org/wiki/File:20120621-FS-UNK-0002.jpg', 'https://commons.wikimedia.org/wiki/File:Aerial_view_of_Al_Ghadha.jpg', 'https://commons.wikimedia.org/wiki/File:After_the_game_(4058587551).jpg', 'https://commons.wikimedia.org/wiki/File:Al_Ghadha_Desert_Festival.jpg', 'https://commons.wikimedia.org/wiki/File:Al_Ghadha_Festival,_Unaizah.jpg', 'https://commons.wikimedia.org/wiki/File:Bonn_Rheinkultur.JPG', 'https://commons.wikimedia.org/wiki/File:Chaos_Communication_Camp_2015_aerial.jpg', 'https://commons.wikimedia.org/wiki/File:D%C3%BClmen,_Wiese_am_Kapellenweg_--_2014_--_8020.jpg', 'https://commons.wikimedia.org/wiki/File:D%C3%BClmen,_Wiese_am_Kapellenweg_--_2014_--_8021.jpg', 'https://commons.wikimedia.org/wiki/File:D%C3%BClmen,_Wiese_am_Kapellenweg_--_2014_--_8085.jpg', 'https://commons.wikimedia.org/wiki/File:Finger_Lakes_GrassRoots_Festival_of_Music_%26_Dance.jpeg', 'https://commons.wikimedia.org/wiki/File:Helicopter_view.jpg', 'https://commons.wikimedia.org/wiki/File:Justice_4_George_March_April,_19,_2021_(51128047348).jpg', 'https://commons.wikimedia.org/wiki/File:Luftbild_Ragnar%C3%B6k_Festival_2010_Rieden.jpg', 'https://commons.wikimedia.org/wiki/File:McMahon_Stadium_6.jpg', 'https://commons.wikimedia.org/wiki/File:Occupy_UC_Davis_from_helium_balloon_2011-11-21.jpg', 'https://commons.wikimedia.org/wiki/File:Reading_Festival_2007,_bird%27s_eye_view_1.jpg', 'https://commons.wikimedia.org/wiki/File:Reading_Festival_2007,_bird%27s_eye_view_2.jpg', 'https://commons.wikimedia.org/wiki/File:Rocco_del_Schlacko_AirPano.jpg', 'https://commons.wikimedia.org/wiki/File:Splashy_Fen_2009_Aerial.jpg', 'https://commons.wikimedia.org/wiki/File:TyroneWoodsFuneralByPhilKonstantin.jpg']\n"
          ]
        }
      ]
    },
    {
      "cell_type": "markdown",
      "source": [
        "# Create the functions to fetch the correct link and to download the images."
      ],
      "metadata": {
        "id": "YwzhAT0-FLhX"
      }
    },
    {
      "cell_type": "code",
      "source": [
        "def scrape_images(download_path):\n",
        "  \"\"\"\n",
        "  Using the download_path url this function fetch\n",
        "  the correct url and download the image in the \n",
        "  current working directory.\n",
        "  \"\"\"\n",
        "  try:\n",
        "    time.sleep(5)\n",
        "    print(\"Download path is:\", download_path)\n",
        "\n",
        "    # GET THE FILE NAME IN ORDER TO USE IT LATER TO SAVE THE FILE\n",
        "    current_link = str(download_path)\n",
        "    # print(\"CURRENT LINK:\", current_link)\n",
        "\n",
        "    file_name = current_link.split(\"File:\")[1] # TO CHECK: IS THIS A STRING?\n",
        "    html = urlopen(download_path)\n",
        "    bs4_apply = bs4(html, 'html.parser')\n",
        "    images = bs4_apply.find_all('a')\n",
        "    \n",
        "    save_list = []\n",
        "\n",
        "    for el in images:\n",
        "      get_ref = el.get('href')\n",
        "      save_list.append(get_ref)\n",
        "      \n",
        "    save_list = save_list[1:]\n",
        "\n",
        "    correct_url_image = []\n",
        "    # string in the list\n",
        "    for s in save_list:\n",
        "      if 'https' in s:\n",
        "        # print(s)\n",
        "        correct_url_image.append(s)\n",
        "\n",
        "    # print(correct_url_image[0])\n",
        "    # FOR SAVING JUST ONE IMAGE THE IMAGE\n",
        "    # urllib.request.urlretrieve(correct_url_image[0], file_name)\n",
        "\n",
        "    # FOR SAVING MULTIPLE IMAGES\n",
        "    # FIRST CREATE A FOLDER WHERE TO STORE THE IMAGES, AND USE IT AS A REPO\n",
        "    # FOR ALL THE IMAGES DOWNLOADED. DOWNLOAD THE FOLDER TO YOUR LOCAL COMPUTER\n",
        "\n",
        "    # CREATE THE REJECTION_CLASS FOLDER IF IT DOES NOT EXISTS\n",
        "    # if path.exists('/content/rejection_class') == False:\n",
        "    #   os.mkdir('/content/rejection_class')\n",
        "\n",
        "    # CREATE THE REJECTION_CLASS FOLDER IF IT DOES NOT EXISTS ON GOOGLE DRIVE\n",
        "    if path.exists(DIR_ORIGINAL_DATA) == False:\n",
        "      os.mkdir(DIR_ORIGINAL_DATA)\n",
        "\n",
        "    # return urllib.request.urlretrieve(correct_url_image[0], f\"/content/rejection_class/{file_name}\")\n",
        "    # SAVE TO GOOGLE DRIVE\n",
        "    return urllib.request.urlretrieve(correct_url_image[0], f\"{DIR_ORIGINAL_DATA}/{file_name}\")\n",
        "  except:\n",
        "    print(\"Error, image not saved. Continue with the next one.\")"
      ],
      "metadata": {
        "id": "8cEQZKknOUF_"
      },
      "execution_count": 48,
      "outputs": []
    },
    {
      "cell_type": "code",
      "source": [
        "# TEST ON HOW TO DOWNLOAD AN IMAGE\n",
        "# scrape_images(\"https://commons.wikimedia.org/wiki/File:Crest-_Yosemite%3F_(17a34fd143a7446ea27c2138f52c2e16).jpg\")"
      ],
      "metadata": {
        "id": "vB2j8SUSDVMg"
      },
      "execution_count": 49,
      "outputs": []
    },
    {
      "cell_type": "markdown",
      "source": [
        "# Looping trough the lists, get the links and download the images"
      ],
      "metadata": {
        "id": "TnBiyQ3t-DdH"
      }
    },
    {
      "cell_type": "code",
      "source": [
        "# Looping trought the LANDSCAPES links\n",
        "for each_link_land in landscapes:\n",
        "  scrape_images(each_link_land)"
      ],
      "metadata": {
        "id": "hreEaMJxDiMP",
        "colab": {
          "base_uri": "https://localhost:8080/"
        },
        "outputId": "6f1568c4-7313-486f-8e43-2efe676c10fe"
      },
      "execution_count": 50,
      "outputs": [
        {
          "output_type": "stream",
          "name": "stdout",
          "text": [
            "Download path is: https://commons.wikimedia.org/wiki/File:Crest-_Yosemite%3F_(17a34fd143a7446ea27c2138f52c2e16).jpg\n",
            "https://upload.wikimedia.org/wikipedia/commons/0/0f/Crest-_Yosemite%3F_%2817a34fd143a7446ea27c2138f52c2e16%29.jpg\n",
            "Download path is: https://commons.wikimedia.org/wiki/File:Fallcreek_Oct_2008.jpg\n",
            "https://upload.wikimedia.org/wikipedia/commons/0/07/Fallcreek_Oct_2008.jpg\n",
            "Download path is: https://commons.wikimedia.org/wiki/File:IMG-20210214-WA0300.jpg\n",
            "https://upload.wikimedia.org/wikipedia/commons/2/2f/IMG-20210214-WA0300.jpg\n",
            "Download path is: https://commons.wikimedia.org/wiki/File:In_Bangor.JPG\n",
            "https://upload.wikimedia.org/wikipedia/commons/e/ee/In_Bangor.JPG\n",
            "Download path is: https://commons.wikimedia.org/wiki/File:Joe_Mania_2016-08-01_(Unsplash_PFLchrsv9jY).jpg\n",
            "https://upload.wikimedia.org/wikipedia/commons/6/62/Joe_Mania_2016-08-01_%28Unsplash_PFLchrsv9jY%29.jpg\n",
            "Download path is: https://commons.wikimedia.org/wiki/File:Layakharo_Evining_sunset_scenery.jpg\n",
            "https://upload.wikimedia.org/wikipedia/commons/8/8c/Layakharo_Evining_sunset_scenery.jpg\n",
            "Download path is: https://commons.wikimedia.org/wiki/File:Mountain_Glacier_Landscape_(from_AvoPix).jpg\n",
            "https://upload.wikimedia.org/wikipedia/commons/3/3e/Mountain_Glacier_Landscape_%28from_AvoPix%29.jpg\n",
            "Download path is: https://commons.wikimedia.org/wiki/File:Port_Waikato_Township.jpg\n",
            "https://upload.wikimedia.org/wikipedia/commons/f/f3/Port_Waikato_Township.jpg\n",
            "Download path is: https://commons.wikimedia.org/wiki/File:%D0%AF%D1%8F_412a.jpg\n",
            "https://upload.wikimedia.org/wikipedia/commons/f/f1/%D0%AF%D1%8F_412a.jpg\n"
          ]
        }
      ]
    },
    {
      "cell_type": "code",
      "source": [
        "# Looping trought the CLOUDS links\n",
        "for each_link_clouds in clouds:\n",
        "  scrape_images(each_link_clouds)"
      ],
      "metadata": {
        "id": "PQTtrMsKFS9i",
        "colab": {
          "base_uri": "https://localhost:8080/"
        },
        "outputId": "9570e78d-7cfd-4884-dc6a-72d5a3665877"
      },
      "execution_count": 52,
      "outputs": [
        {
          "output_type": "stream",
          "name": "stdout",
          "text": [
            "Download path is: https://commons.wikimedia.org/wiki/File:Nottuln,_Appelh%C3%BClsen,_Haus_Klein-Schonebeck_--_2015_--_01132.jpg\n",
            "https://upload.wikimedia.org/wikipedia/commons/6/60/Nottuln%2C_Appelh%C3%BClsen%2C_Haus_Klein-Schonebeck_--_2015_--_01132.jpg\n",
            "Download path is: https://commons.wikimedia.org/wiki/File:Nottuln,_Appelh%C3%BClsen,_Haus_Klein-Schonebeck_--_2015_--_01133.jpg\n",
            "https://upload.wikimedia.org/wikipedia/commons/6/65/Nottuln%2C_Appelh%C3%BClsen%2C_Haus_Klein-Schonebeck_--_2015_--_01133.jpg\n",
            "Download path is: https://commons.wikimedia.org/wiki/File:Nottuln,_Appelh%C3%BClsen,_Haus_Klein-Schonebeck_--_2015_--_01135.jpg\n",
            "https://upload.wikimedia.org/wikipedia/commons/0/0f/Nottuln%2C_Appelh%C3%BClsen%2C_Haus_Klein-Schonebeck_--_2015_--_01135.jpg\n",
            "Download path is: https://commons.wikimedia.org/wiki/File:Nottuln,_Appelh%C3%BClsen,_Kriegerged%C3%A4chtniskapelle_--_2015_--_5459.jpg\n",
            "https://upload.wikimedia.org/wikipedia/commons/2/27/Nottuln%2C_Appelh%C3%BClsen%2C_Kriegerged%C3%A4chtniskapelle_--_2015_--_5459.jpg\n",
            "Download path is: https://commons.wikimedia.org/wiki/File:Nottuln,_Appelh%C3%BClsen,_Pfarramt_--_2015_--_5472.jpg\n",
            "https://upload.wikimedia.org/wikipedia/commons/d/d2/Nottuln%2C_Appelh%C3%BClsen%2C_Pfarramt_--_2015_--_5472.jpg\n",
            "Download path is: https://commons.wikimedia.org/wiki/File:Nottuln,_Appelh%C3%BClsen,_Schulze-Frenkings-Hof_--_2015_--_5455.jpg\n",
            "https://upload.wikimedia.org/wikipedia/commons/2/2a/Nottuln%2C_Appelh%C3%BClsen%2C_Schulze-Frenkings-Hof_--_2015_--_5455.jpg\n",
            "Download path is: https://commons.wikimedia.org/wiki/File:Nottuln,_Appelh%C3%BClsen,_Schulze-Frenkings-Hof_--_2015_--_5476.jpg\n",
            "https://upload.wikimedia.org/wikipedia/commons/5/56/Nottuln%2C_Appelh%C3%BClsen%2C_Schulze-Frenkings-Hof_--_2015_--_5476.jpg\n",
            "Download path is: https://commons.wikimedia.org/wiki/File:Nottuln,_Appelh%C3%BClsen,_Schulze-Frenkings-Hof_--_2015_--_5477.jpg\n",
            "https://upload.wikimedia.org/wikipedia/commons/2/2e/Nottuln%2C_Appelh%C3%BClsen%2C_Schulze-Frenkings-Hof_--_2015_--_5477.jpg\n",
            "Download path is: https://commons.wikimedia.org/wiki/File:Nottuln,_Appelh%C3%BClsen,_Schulze-Frenkings-Hof_--_2015_--_5478.jpg\n",
            "https://upload.wikimedia.org/wikipedia/commons/8/83/Nottuln%2C_Appelh%C3%BClsen%2C_Schulze-Frenkings-Hof_--_2015_--_5478.jpg\n",
            "Download path is: https://commons.wikimedia.org/wiki/File:Nottuln,_Appelh%C3%BClsen,_Schulze-Frenkings-Hof_--_2015_--_5482.jpg\n",
            "https://upload.wikimedia.org/wikipedia/commons/d/d9/Nottuln%2C_Appelh%C3%BClsen%2C_Schulze-Frenkings-Hof_--_2015_--_5482.jpg\n",
            "Download path is: https://commons.wikimedia.org/wiki/File:Nottuln,_Appelh%C3%BClsen,_Schulze-Frenkings-Hof_--_2015_--_5484.jpg\n",
            "https://upload.wikimedia.org/wikipedia/commons/c/c5/Nottuln%2C_Appelh%C3%BClsen%2C_Schulze-Frenkings-Hof_--_2015_--_5484.jpg\n",
            "Download path is: https://commons.wikimedia.org/wiki/File:Nottuln,_Appelh%C3%BClsen,_Schulze-Frenkings-Hof_--_2015_--_5486.jpg\n",
            "https://upload.wikimedia.org/wikipedia/commons/6/69/Nottuln%2C_Appelh%C3%BClsen%2C_Schulze-Frenkings-Hof_--_2015_--_5486.jpg\n",
            "Download path is: https://commons.wikimedia.org/wiki/File:Nottuln,_Appelh%C3%BClsen,_St.-Maria-Himmelfahrt-Kirche_--_2015_--_5462.jpg\n",
            "https://upload.wikimedia.org/wikipedia/commons/c/c1/Nottuln%2C_Appelh%C3%BClsen%2C_St.-Maria-Himmelfahrt-Kirche_--_2015_--_5462.jpg\n",
            "Download path is: https://commons.wikimedia.org/wiki/File:Nottuln,_Appelh%C3%BClsen,_St.-Maria-Himmelfahrt-Kirche_--_2015_--_5463.jpg\n",
            "https://upload.wikimedia.org/wikipedia/commons/f/f0/Nottuln%2C_Appelh%C3%BClsen%2C_St.-Maria-Himmelfahrt-Kirche_--_2015_--_5463.jpg\n",
            "Download path is: https://commons.wikimedia.org/wiki/File:Nottuln,_Appelh%C3%BClsen,_St.-Maria-Himmelfahrt-Kirche_--_2015_--_5466.jpg\n",
            "https://upload.wikimedia.org/wikipedia/commons/5/59/Nottuln%2C_Appelh%C3%BClsen%2C_St.-Maria-Himmelfahrt-Kirche_--_2015_--_5466.jpg\n",
            "Download path is: https://commons.wikimedia.org/wiki/File:Nottuln,_Geb%C3%A4ude_-Ascheberg%27sche_Kurie-_--_2016_--_3826.jpg\n",
            "https://upload.wikimedia.org/wikipedia/commons/a/ad/Nottuln%2C_Geb%C3%A4ude_-Ascheberg%27sche_Kurie-_--_2016_--_3826.jpg\n",
            "Download path is: https://commons.wikimedia.org/wiki/File:Nottuln,_St.-Martinus-Kirche_--_2016_--_3818.jpg\n",
            "https://upload.wikimedia.org/wikipedia/commons/4/4f/Nottuln%2C_St.-Martinus-Kirche_--_2016_--_3818.jpg\n",
            "Download path is: https://commons.wikimedia.org/wiki/File:Nottuln,_Stockum,_Rapsfeld_--_2021_--_8077.jpg\n",
            "https://upload.wikimedia.org/wikipedia/commons/4/4c/Nottuln%2C_Stockum%2C_Rapsfeld_--_2021_--_8077.jpg\n",
            "Download path is: https://commons.wikimedia.org/wiki/File:Nottuln,_Stockum,_Rapsfeld_--_2021_--_8078.jpg\n",
            "https://upload.wikimedia.org/wikipedia/commons/9/95/Nottuln%2C_Stockum%2C_Rapsfeld_--_2021_--_8078.jpg\n",
            "Download path is: https://commons.wikimedia.org/wiki/File:Nottuln,_Stockum,_Rapsfeld_--_2021_--_8079.jpg\n",
            "https://upload.wikimedia.org/wikipedia/commons/2/23/Nottuln%2C_Stockum%2C_Rapsfeld_--_2021_--_8079.jpg\n",
            "Download path is: https://commons.wikimedia.org/wiki/File:Nottuln,_Wasserm%C3%BChle_Schulze_Westerath_--_2016_--_1463.jpg\n",
            "https://upload.wikimedia.org/wikipedia/commons/5/57/Nottuln%2C_Wasserm%C3%BChle_Schulze_Westerath_--_2016_--_1463.jpg\n",
            "Download path is: https://commons.wikimedia.org/wiki/File:Nottuln,_Wasserm%C3%BChle_Schulze_Westerath_--_2016_--_1464-70.jpg\n",
            "https://upload.wikimedia.org/wikipedia/commons/5/55/Nottuln%2C_Wasserm%C3%BChle_Schulze_Westerath_--_2016_--_1464-70.jpg\n"
          ]
        }
      ]
    },
    {
      "cell_type": "code",
      "source": [
        "# Looping trought the ENTERTAINMENT links\n",
        "for each_link_entertainment in entertainment:\n",
        "  scrape_images(each_link_entertainment)"
      ],
      "metadata": {
        "id": "VIa6exnYFS6j",
        "colab": {
          "base_uri": "https://localhost:8080/"
        },
        "outputId": "32afb77d-cb33-4781-eae6-e62b1a9b87da"
      },
      "execution_count": 53,
      "outputs": [
        {
          "output_type": "stream",
          "name": "stdout",
          "text": [
            "Download path is: https://commons.wikimedia.org/wiki/File:1979_Festival_Aerial_Image.jpg\n",
            "https://upload.wikimedia.org/wikipedia/commons/e/ec/1979_Festival_Aerial_Image.jpg\n",
            "Download path is: https://commons.wikimedia.org/wiki/File:1979_Festival_main.jpg\n",
            "https://upload.wikimedia.org/wikipedia/commons/8/82/1979_Festival_main.jpg\n",
            "Download path is: https://commons.wikimedia.org/wiki/File:1979_Festival_parking_and_camping.jpg\n",
            "https://upload.wikimedia.org/wikipedia/commons/a/a6/1979_Festival_parking_and_camping.jpg\n",
            "Download path is: https://commons.wikimedia.org/wiki/File:20120621-FS-UNK-0002.jpg\n",
            "https://upload.wikimedia.org/wikipedia/commons/d/d9/20120621-FS-UNK-0002.jpg\n",
            "Download path is: https://commons.wikimedia.org/wiki/File:Aerial_view_of_Al_Ghadha.jpg\n",
            "https://upload.wikimedia.org/wikipedia/commons/a/a5/Aerial_view_of_Al_Ghadha.jpg\n",
            "Download path is: https://commons.wikimedia.org/wiki/File:After_the_game_(4058587551).jpg\n",
            "https://upload.wikimedia.org/wikipedia/commons/9/9e/After_the_game_%284058587551%29.jpg\n",
            "Download path is: https://commons.wikimedia.org/wiki/File:Al_Ghadha_Desert_Festival.jpg\n",
            "https://upload.wikimedia.org/wikipedia/commons/2/2b/Al_Ghadha_Desert_Festival.jpg\n",
            "Download path is: https://commons.wikimedia.org/wiki/File:Al_Ghadha_Festival,_Unaizah.jpg\n",
            "https://upload.wikimedia.org/wikipedia/commons/c/c1/Al_Ghadha_Festival%2C_Unaizah.jpg\n",
            "Download path is: https://commons.wikimedia.org/wiki/File:Bonn_Rheinkultur.JPG\n",
            "https://upload.wikimedia.org/wikipedia/commons/a/ac/Bonn_Rheinkultur.JPG\n",
            "Download path is: https://commons.wikimedia.org/wiki/File:Chaos_Communication_Camp_2015_aerial.jpg\n",
            "https://upload.wikimedia.org/wikipedia/commons/8/83/Chaos_Communication_Camp_2015_aerial.jpg\n",
            "Download path is: https://commons.wikimedia.org/wiki/File:D%C3%BClmen,_Wiese_am_Kapellenweg_--_2014_--_8020.jpg\n",
            "https://upload.wikimedia.org/wikipedia/commons/1/13/D%C3%BClmen%2C_Wiese_am_Kapellenweg_--_2014_--_8020.jpg\n",
            "Download path is: https://commons.wikimedia.org/wiki/File:D%C3%BClmen,_Wiese_am_Kapellenweg_--_2014_--_8021.jpg\n",
            "https://upload.wikimedia.org/wikipedia/commons/a/ae/D%C3%BClmen%2C_Wiese_am_Kapellenweg_--_2014_--_8021.jpg\n",
            "Download path is: https://commons.wikimedia.org/wiki/File:D%C3%BClmen,_Wiese_am_Kapellenweg_--_2014_--_8085.jpg\n",
            "https://upload.wikimedia.org/wikipedia/commons/f/fa/D%C3%BClmen%2C_Wiese_am_Kapellenweg_--_2014_--_8085.jpg\n",
            "Download path is: https://commons.wikimedia.org/wiki/File:Finger_Lakes_GrassRoots_Festival_of_Music_%26_Dance.jpeg\n",
            "https://upload.wikimedia.org/wikipedia/commons/f/f9/Finger_Lakes_GrassRoots_Festival_of_Music_%26_Dance.jpeg\n",
            "Download path is: https://commons.wikimedia.org/wiki/File:Helicopter_view.jpg\n",
            "https://upload.wikimedia.org/wikipedia/commons/5/58/Helicopter_view.jpg\n",
            "Download path is: https://commons.wikimedia.org/wiki/File:Justice_4_George_March_April,_19,_2021_(51128047348).jpg\n",
            "https://upload.wikimedia.org/wikipedia/commons/d/d3/Justice_4_George_March_April%2C_19%2C_2021_%2851128047348%29.jpg\n",
            "Download path is: https://commons.wikimedia.org/wiki/File:Luftbild_Ragnar%C3%B6k_Festival_2010_Rieden.jpg\n",
            "https://upload.wikimedia.org/wikipedia/commons/6/69/Luftbild_Ragnar%C3%B6k_Festival_2010_Rieden.jpg\n",
            "Download path is: https://commons.wikimedia.org/wiki/File:McMahon_Stadium_6.jpg\n",
            "https://upload.wikimedia.org/wikipedia/commons/a/a5/McMahon_Stadium_6.jpg\n",
            "Download path is: https://commons.wikimedia.org/wiki/File:Occupy_UC_Davis_from_helium_balloon_2011-11-21.jpg\n",
            "https://upload.wikimedia.org/wikipedia/commons/0/0d/Occupy_UC_Davis_from_helium_balloon_2011-11-21.jpg\n",
            "Download path is: https://commons.wikimedia.org/wiki/File:Reading_Festival_2007,_bird%27s_eye_view_1.jpg\n",
            "https://upload.wikimedia.org/wikipedia/commons/5/54/Reading_Festival_2007%2C_bird%27s_eye_view_1.jpg\n",
            "Download path is: https://commons.wikimedia.org/wiki/File:Reading_Festival_2007,_bird%27s_eye_view_2.jpg\n",
            "https://upload.wikimedia.org/wikipedia/commons/e/e2/Reading_Festival_2007%2C_bird%27s_eye_view_2.jpg\n",
            "Download path is: https://commons.wikimedia.org/wiki/File:Rocco_del_Schlacko_AirPano.jpg\n",
            "https://upload.wikimedia.org/wikipedia/commons/e/e4/Rocco_del_Schlacko_AirPano.jpg\n",
            "Download path is: https://commons.wikimedia.org/wiki/File:Splashy_Fen_2009_Aerial.jpg\n",
            "https://upload.wikimedia.org/wikipedia/commons/5/5d/Splashy_Fen_2009_Aerial.jpg\n",
            "Download path is: https://commons.wikimedia.org/wiki/File:TyroneWoodsFuneralByPhilKonstantin.jpg\n",
            "https://upload.wikimedia.org/wikipedia/commons/0/01/TyroneWoodsFuneralByPhilKonstantin.jpg\n"
          ]
        }
      ]
    },
    {
      "cell_type": "code",
      "source": [
        "# # CONVERT THE REJECTION_CLASS FOLDER TO ZIP IN ORDER TO DOWNLOAD IT\n",
        "# !zip -r /content/rejection_class.zip /content/rejection_class"
      ],
      "metadata": {
        "id": "G3lLNYZfB0cn"
      },
      "execution_count": 54,
      "outputs": []
    },
    {
      "cell_type": "code",
      "source": [
        "# # DOWNLOAD THE REJECTION_CLASS FOLDER TO YOUR LOCAL COMPUTER\n",
        "# from google.colab import files\n",
        "# files.download(\"/content/rejection_class.zip\")"
      ],
      "metadata": {
        "id": "Q-fI6LZi4Xf6"
      },
      "execution_count": 55,
      "outputs": []
    }
  ]
}