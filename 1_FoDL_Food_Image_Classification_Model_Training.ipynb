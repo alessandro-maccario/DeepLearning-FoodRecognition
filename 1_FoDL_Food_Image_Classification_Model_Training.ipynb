{
  "cells": [
    {
      "cell_type": "markdown",
      "metadata": {
        "id": "IRDSuGm6aDCk"
      },
      "source": [
        "# Food Image Classification for the course _Foundations of Deep Learning_.\n",
        "\n",
        "Professors:\n",
        "Paolo Napoletano\n",
        "Marco Buzzelli\n",
        "\n",
        "Tutor:\n",
        "Mirko Agarla"
      ]
    },
    {
      "cell_type": "markdown",
      "metadata": {
        "id": "-tdNh74B0moD"
      },
      "source": [
        "[TODO]\n",
        "- Introduce the problem you are trying to solve\n",
        "- Show an analysis of the available data (EDA for images)\n",
        "- Describe your solution\n",
        "- Comment positive and negative results of your solution\n",
        "(rely on quantitative and qualitative observations)\n",
        "- Describe alternative (possibly failed) experiments"
      ]
    },
    {
      "cell_type": "markdown",
      "metadata": {
        "id": "F9ToWEW-1Lwv"
      },
      "source": [
        "Dataset: \\\\\n",
        "_Example Food Images_\n",
        "- https://de.mathworks.com/help/deeplearning/ug/data-sets-for-deep-learning.html\n",
        "\n",
        "The Example Food Images data set contains 978 photographs of food in nine classes (caesar_salad, caprese_salad, french_fries, greek_salad, hamburger, hot_dog, pizza, sashimi, and sushi)."
      ]
    },
    {
      "cell_type": "markdown",
      "metadata": {
        "id": "56SP2nH5SJKc"
      },
      "source": [
        "# 1.Data Set\n",
        "In this section we will describe the data at hand."
      ]
    },
    {
      "cell_type": "markdown",
      "metadata": {
        "id": "9_E8v79qzZBM"
      },
      "source": [
        "\n",
        "\n",
        "> ## Data management\n",
        "\n"
      ]
    },
    {
      "cell_type": "code",
      "execution_count": null,
      "metadata": {
        "colab": {
          "base_uri": "https://localhost:8080/"
        },
        "id": "9dY1N2x2Qx0c",
        "outputId": "ebb21431-b066-42d2-9cfd-cc364fbf27a8"
      },
      "outputs": [
        {
          "output_type": "stream",
          "name": "stdout",
          "text": [
            "Looking in indexes: https://pypi.org/simple, https://us-python.pkg.dev/colab-wheels/public/simple/\n",
            "Collecting scikeras\n",
            "  Downloading scikeras-0.9.0-py3-none-any.whl (27 kB)\n",
            "Requirement already satisfied: importlib-metadata>=3 in /usr/local/lib/python3.7/dist-packages (from scikeras) (4.13.0)\n",
            "Requirement already satisfied: scikit-learn>=1.0.0 in /usr/local/lib/python3.7/dist-packages (from scikeras) (1.0.2)\n",
            "Requirement already satisfied: packaging>=0.21 in /usr/local/lib/python3.7/dist-packages (from scikeras) (21.3)\n",
            "Requirement already satisfied: typing-extensions>=3.6.4 in /usr/local/lib/python3.7/dist-packages (from importlib-metadata>=3->scikeras) (4.1.1)\n",
            "Requirement already satisfied: zipp>=0.5 in /usr/local/lib/python3.7/dist-packages (from importlib-metadata>=3->scikeras) (3.10.0)\n",
            "Requirement already satisfied: pyparsing!=3.0.5,>=2.0.2 in /usr/local/lib/python3.7/dist-packages (from packaging>=0.21->scikeras) (3.0.9)\n",
            "Requirement already satisfied: scipy>=1.1.0 in /usr/local/lib/python3.7/dist-packages (from scikit-learn>=1.0.0->scikeras) (1.7.3)\n",
            "Requirement already satisfied: numpy>=1.14.6 in /usr/local/lib/python3.7/dist-packages (from scikit-learn>=1.0.0->scikeras) (1.21.6)\n",
            "Requirement already satisfied: joblib>=0.11 in /usr/local/lib/python3.7/dist-packages (from scikit-learn>=1.0.0->scikeras) (1.2.0)\n",
            "Requirement already satisfied: threadpoolctl>=2.0.0 in /usr/local/lib/python3.7/dist-packages (from scikit-learn>=1.0.0->scikeras) (3.1.0)\n",
            "Installing collected packages: scikeras\n",
            "Successfully installed scikeras-0.9.0\n",
            "Looking in indexes: https://pypi.org/simple, https://us-python.pkg.dev/colab-wheels/public/simple/\n",
            "Collecting split-folders\n",
            "  Downloading split_folders-0.5.1-py3-none-any.whl (8.4 kB)\n",
            "Installing collected packages: split-folders\n",
            "Successfully installed split-folders-0.5.1\n"
          ]
        }
      ],
      "source": [
        "!pip install scikeras\n",
        "!pip install split-folders # install the package to split the images in TRAIN and TEST folders"
      ]
    },
    {
      "cell_type": "code",
      "execution_count": null,
      "metadata": {
        "id": "jtW_r4zDzdRQ"
      },
      "outputs": [],
      "source": [
        "# IMPORT TENSORFLOW/KERAS\n",
        "import tensorflow as tf\n",
        "from tensorflow import keras\n",
        "from keras.layers import Dense\n",
        "from keras.layers import Input\n",
        "from keras.layers import Conv2D\n",
        "from keras.layers import Flatten\n",
        "from keras.layers import Dropout\n",
        "from keras.layers import Activation\n",
        "from keras.models import Sequential\n",
        "from keras.layers import MaxPooling2D\n",
        "from keras.layers import BatchNormalization\n",
        "from keras.layers import GlobalMaxPooling2D\n",
        "from keras.preprocessing.image import ImageDataGenerator\n",
        "\n",
        "# SCIKIT-LEARN/SCIKERAS\n",
        "from scikeras.wrappers import KerasClassifier\n",
        "from sklearn.model_selection import GridSearchCV\n",
        "from sklearn.model_selection import train_test_split\n",
        "from sklearn.model_selection import RandomizedSearchCV\n",
        "\n",
        "# IMPORT OTHER MODULES\n",
        "import os\n",
        "import fnmatch # to count number of image per folder easily\n",
        "import random # to select random images from a folder\n",
        "import numpy as np\n",
        "import pandas as pd\n",
        "import splitfolders # needed to split the images in TRAIN and TEST folders\n",
        "from shutil import copyfile # to import \"copyfile\"\n",
        "from matplotlib import pyplot as plt\n",
        "\n",
        "# CV2\n",
        "import cv2\n",
        "from google.colab.patches import cv2_imshow "
      ]
    },
    {
      "cell_type": "code",
      "execution_count": null,
      "metadata": {
        "colab": {
          "base_uri": "https://localhost:8080/"
        },
        "id": "QvrEQvZkzUDs",
        "outputId": "1a575493-694c-42ad-866c-e815311c6d82"
      },
      "outputs": [
        {
          "output_type": "stream",
          "name": "stdout",
          "text": [
            "Mounted at /content/gdrive\n"
          ]
        }
      ],
      "source": [
        "# Link Google Drive account\n",
        "from google.colab import drive\n",
        "drive.mount('/content/gdrive')"
      ]
    },
    {
      "cell_type": "code",
      "source": [
        "# IMPORT UTILS.PY\n",
        "\n",
        "# 1.Insert the directory\n",
        "import sys\n",
        "sys.path.insert(0,\"/content/gdrive/MyDrive/Data_Science_2020-2022/Secondo_anno_Secondo_Semestre/FoDL_Project/Project_Example_Food\")\n",
        "\n",
        "# 2.Import your module or file\n",
        "import utils"
      ],
      "metadata": {
        "id": "H7AeCw1OJxG_"
      },
      "execution_count": null,
      "outputs": []
    },
    {
      "cell_type": "code",
      "execution_count": null,
      "metadata": {
        "id": "ecYDcK7z_k0K"
      },
      "outputs": [],
      "source": [
        "# # TRANSFER THE DATA FROM THE GOOGLE DRIVE FOLDER TO THE VIRTUAL MACHINE\n",
        "\n",
        "# # The first path is the \"data\" folder on my Google Drive, and the second one is the destination in my current runtime\n",
        "# # https://stackoverflow.com/questions/67360001/copy-files-from-a-mounted-google-drive-to-a-local-google-colab-session\n",
        "# !cp -r /content/gdrive/MyDrive/Data_Science_2020-2022/Secondo_anno_Secondo_Semestre/Foundation_of_Deep_Learning/Project_Example_Food/ExampleFoodImageDataset /content/ExampleFoodImageDataset"
      ]
    },
    {
      "cell_type": "code",
      "execution_count": null,
      "metadata": {
        "id": "qa58qsk8BOmE"
      },
      "outputs": [],
      "source": [
        "# CONSTANT\n",
        "# SCALE_PERCENT = 6 # resizing percentage\n",
        "SEED_VALUE = 42\n",
        "num_classes = 9 # number of output classes\n",
        "\n",
        "# PATH TO THE DATA\n",
        "ORIGINAL_DATA = \"/content/gdrive/MyDrive/Data_Science_2020-2022/Secondo_anno_Secondo_Semestre/FoDL_Project/Project_Example_Food/ExampleFoodImageDataset\"\n",
        "PREPROCESSED_DATA = \"/content/gdrive/MyDrive/Data_Science_2020-2022/Secondo_anno_Secondo_Semestre/FoDL_Project/Project_Example_Food/ExampleFoodImageDatasetPreprocessed\"\n",
        "DIR_TRAIN_TEST_DATA = '/content/gdrive/MyDrive/Data_Science_2020-2022/Secondo_anno_Secondo_Semestre/FoDL_Project/Project_Example_Food/train_test' # path contenente i sottoinsiemi di train, test"
      ]
    },
    {
      "cell_type": "code",
      "execution_count": null,
      "metadata": {
        "id": "xgF4fpYxClBu"
      },
      "outputs": [],
      "source": [
        "# # REMOVE ANY FOLDER NOT EMPTY IN GOOGLE DRIVE THAT YOU DO NOT NEED\n",
        "# import shutil\n",
        "\n",
        "# shutil.rmtree('/content/test')"
      ]
    },
    {
      "cell_type": "markdown",
      "metadata": {
        "id": "MZs2FMppZWUE"
      },
      "source": [
        "-----------------------------------"
      ]
    },
    {
      "cell_type": "markdown",
      "metadata": {
        "id": "477SvQFvTkO7"
      },
      "source": [
        "# 5.Model Training\n",
        "This section deals with the model creation, results and explanation."
      ]
    },
    {
      "cell_type": "markdown",
      "metadata": {
        "id": "z9BCr1VJz8B0"
      },
      "source": [
        "\n",
        "\n",
        "> ## 5.1 Data loader\n",
        "\n"
      ]
    },
    {
      "cell_type": "markdown",
      "metadata": {
        "id": "Q3oWN_M5z-gN"
      },
      "source": [
        "In any deep learning framework, a data loader takes care of (at least) the following tasks:\n",
        "\n",
        "- Loading input and target data\n",
        "- Splitting the dataset into mini batches"
      ]
    },
    {
      "cell_type": "code",
      "execution_count": null,
      "metadata": {
        "id": "sPjpDdso0Cbo"
      },
      "outputs": [],
      "source": [
        "base_path_train = '/content/gdrive/MyDrive/Data_Science_2020-2022/Secondo_anno_Secondo_Semestre/FoDL_Project/Project_Example_Food/train_test/train/'\n",
        "base_path_test = '/content/gdrive/MyDrive/Data_Science_2020-2022/Secondo_anno_Secondo_Semestre/FoDL_Project/Project_Example_Food/train_test/test/'\n",
        "base_path_val = '/content/gdrive/MyDrive/Data_Science_2020-2022/Secondo_anno_Secondo_Semestre/FoDL_Project/Project_Example_Food/train_test/val/'"
      ]
    },
    {
      "cell_type": "code",
      "execution_count": null,
      "metadata": {
        "colab": {
          "base_uri": "https://localhost:8080/"
        },
        "id": "m5JYKncwzUBF",
        "outputId": "28bb53f1-402f-4b09-87bc-669ee3626cc6"
      },
      "outputs": [
        {
          "name": "stdout",
          "output_type": "stream",
          "text": [
            "Found 2004 files belonging to 10 classes.\n",
            "Found 374 files belonging to 10 classes.\n"
          ]
        }
      ],
      "source": [
        "train_dataset = keras.preprocessing.image_dataset_from_directory(base_path_train,\n",
        "                                                            image_size=(224,224),\n",
        "                                                            color_mode='rgb',\n",
        "                                                            batch_size=32,\n",
        "                                                            label_mode='categorical',\n",
        "                                                            # subset='training',\n",
        "                                                            shuffle=True,\n",
        "                                                            seed=1)\n",
        "\n",
        "test_dataset = keras.preprocessing.image_dataset_from_directory(base_path_test,\n",
        "                                                            image_size=(224,224),\n",
        "                                                            color_mode='rgb',\n",
        "                                                            batch_size=32,\n",
        "                                                            label_mode='categorical',\n",
        "                                                            # subset='validation',\n",
        "                                                            shuffle=True,\n",
        "                                                            seed=1)"
      ]
    },
    {
      "cell_type": "markdown",
      "metadata": {
        "id": "DUH8diKGWn4n"
      },
      "source": [
        "## 5.2 Architecture model"
      ]
    },
    {
      "cell_type": "markdown",
      "metadata": {
        "id": "lVZA1WxYd3MN"
      },
      "source": [
        "## 5.3 Model V01"
      ]
    },
    {
      "cell_type": "code",
      "execution_count": null,
      "metadata": {
        "id": "ZcxqI3lLzT7_"
      },
      "outputs": [],
      "source": [
        "# Architecture definition V01\n",
        "inputs = keras.Input((224, 224, 3)) # 224 rows, 224 columns, 3 RGB channels\n",
        "\n",
        "x = inputs\n",
        "# 32 filtri 3x3. Padding: mi dice quanti pixel aggiungere di cornice alla mia \n",
        "# immagine prima di fare la convoluzione. Se non fornito, l'output della \n",
        "# convoluzione produrrà un immagine un pelo più piccola di quella di partenza \n",
        "# spazialmente: nel far scorrere la finestra di convoluzione non riesce a coprire\n",
        "# l'intorno del pixel di riferimento nell'immagine. Dando \"same\" il padding\n",
        "# viene calcolato automaticamente. \n",
        "x = keras.layers.Conv2D(32, 3, padding='same')(x)\n",
        "# Attivazione ReLU: la funzione di attivazione introduce una non linearità.\n",
        "# Fa si che il calcolo che permette di trasformare i numeri che stanno nell'input\n",
        "# nei numeri che stanno nell'output non sia semplicemente una combinazione\n",
        "# lineare dell'input, ma in generale crea un livello di complessità maggiore\n",
        "# che è quello di costruire delle astrazioni, ovvero permette alla rete neurale\n",
        "# di dire: ok, adesso ho individuato delle linee di base, ora ci costruisco\n",
        "# sopra dei ragionamenti più complessi.\n",
        "# x = keras.layers.Activation('relu')(x)\n",
        "x = keras.layers.Activation('relu')(x)\n",
        "# MaxPooling con finestre/windows 3x3 e stride di 3: ciò significa che ogni\n",
        "# 3x3 valori dell'input li sostituiamo con il suo Max e poi quando spostiamo\n",
        "# la finestra che esegue questa operazione, la spostiamo di 3 pixels a destra.\n",
        "# Così facendo non contiamo più volte lo stesso input e in questo caso l'output\n",
        "# di questo layer sarà per definizione più piccolo spazialmente dell'input.\n",
        "# E' un tipo di layer che ci serve concettualmente per essere meno dipendenti\n",
        "# da eventuali piccole variazioni nell'input (se ci sono tralazione dei dati\n",
        "# di un pixel a destra) il Max Pooling è abbastanza robusto da queste variazioni\n",
        "# trascendendo di qualche misura da variazioni dei dati. \n",
        "# Tra l'altro se lo usiamo con questo stride diminuisce la dimensione dell'input\n",
        "# e la complessità dei valori che portiamo avanti nella rete neurale. Stiamo\n",
        "# infatti passando da 224x224x3 valori a 3 numeri. \n",
        "x = keras.layers.MaxPooling2D(3, strides=3, padding='same')(x) \n",
        "\n",
        "x = keras.layers.Conv2D(64, 3, padding = 'same')(x)\n",
        "x = keras.layers.Activation('relu')(x)\n",
        "\n",
        "# Equivalente del Max Pooling ma in automatico calcola, invece che basarsi su\n",
        "# una finestra 3x3 utilizza una finestra grande quanto l'intera attivazione\n",
        "# del layer precedente.\n",
        "x = keras.layers.GlobalMaxPooling2D()(x)\n",
        "\n",
        "# Questa softmax prende i due numeri (le due classi specificate) e dà in input\n",
        "# una funzione che ha lo scopo di produrre una pseudo distrubuzione di \n",
        "# probabilità. Si assicura che la somma dei valori (dei due valori nel nostro\n",
        "# caso), faccia 1, e introduce delle non linearità.\n",
        "outputs = keras.layers.Dense(num_classes, activation='softmax')(x)\n",
        "\n",
        "# Con questo comando impacchettiamo tutti i nostri passaggi e diciamo \n",
        "# che la mia rete neurale è un modello che parte dalla variabile \"inputs\" e\n",
        "# termina con la variabile chiamata \"outputs\". \n",
        "net = keras.Model(inputs, outputs)"
      ]
    },
    {
      "cell_type": "code",
      "execution_count": null,
      "metadata": {
        "id": "5MMatmoUzT5n"
      },
      "outputs": [],
      "source": [
        "# La compilazione ci serve per definire quali sono le procedure utilizzate \n",
        "# durante l'addestramento. La loss in questa esercitazione non è più la differenza\n",
        "# tra valore di regressione target e quello stimato ma \"categorical_crossentropy\".\n",
        "# Per ogni immagine (dato di input) dice: guardiamo la mi ground truth. Quale era\n",
        "# la classe della mia immagine? Era gatto (prima classe). Andiamo a vedere se\n",
        "# nel primo dei due valori restituiti dalla rete neurale per quella immagine\n",
        "# c'è un valore molto alto (idealmente deve essere 1). Più è distante la stima\n",
        "# della classe attesa da 1 e maggiore è la loss (peggior risultato all'aumentare\n",
        "# del valore di Loss). \n",
        "# Ottimizzatore: basato su RMSProp;\n",
        "# Salviamoci l'accuracy: ci dice sul totale delle immagini quante sono state\n",
        "# correttamente classificate.\n",
        "net.compile(loss=keras.losses.categorical_crossentropy,\n",
        "            optimizer= keras.optimizers.RMSprop(learning_rate=0.001),\n",
        "            metrics=['accuracy'])"
      ]
    },
    {
      "cell_type": "code",
      "execution_count": null,
      "metadata": {
        "id": "tneRf5PFzT2r"
      },
      "outputs": [],
      "source": [
        "# SETTINGS FOR PRETTIER VISUALIZATION IN GOOGLE COLAB\n",
        "from IPython.display import Javascript\n",
        "def resize_colab_cell():\n",
        "  display(Javascript('google.colab.output.setIframeHeight(0, true, {maxHeight: 300})'))\n",
        "get_ipython().events.register('pre_run_cell', resize_colab_cell)"
      ]
    },
    {
      "cell_type": "code",
      "execution_count": null,
      "metadata": {
        "colab": {
          "base_uri": "https://localhost:8080/",
          "height": 300
        },
        "id": "nL26GNBIzTz_",
        "outputId": "d429f1df-59ac-4e33-847d-fb8096bebc22"
      },
      "outputs": [
        {
          "data": {
            "application/javascript": [
              "google.colab.output.setIframeHeight(0, true, {maxHeight: 300})"
            ],
            "text/plain": [
              "<IPython.core.display.Javascript object>"
            ]
          },
          "metadata": {},
          "output_type": "display_data"
        },
        {
          "name": "stdout",
          "output_type": "stream",
          "text": [
            "Epoch 1/40\n",
            "63/63 [==============================] - 98s 2s/step - loss: 19.6711 - accuracy: 0.1512 - val_loss: 8.6752 - val_accuracy: 0.2834\n",
            "Epoch 2/40\n",
            "63/63 [==============================] - 93s 1s/step - loss: 5.5136 - accuracy: 0.2794 - val_loss: 5.4895 - val_accuracy: 0.1497\n",
            "Epoch 3/40\n",
            "63/63 [==============================] - 93s 1s/step - loss: 3.2412 - accuracy: 0.3593 - val_loss: 3.4216 - val_accuracy: 0.2620\n",
            "Epoch 4/40\n",
            "63/63 [==============================] - 93s 1s/step - loss: 2.1604 - accuracy: 0.4611 - val_loss: 2.3904 - val_accuracy: 0.3316\n",
            "Epoch 5/40\n",
            "63/63 [==============================] - 94s 1s/step - loss: 1.7188 - accuracy: 0.5195 - val_loss: 2.2664 - val_accuracy: 0.3422\n",
            "Epoch 6/40\n",
            "63/63 [==============================] - 95s 1s/step - loss: 1.4030 - accuracy: 0.5739 - val_loss: 2.0782 - val_accuracy: 0.3636\n",
            "Epoch 7/40\n",
            "63/63 [==============================] - 91s 1s/step - loss: 1.2917 - accuracy: 0.6018 - val_loss: 2.7290 - val_accuracy: 0.2460\n",
            "Epoch 8/40\n",
            "63/63 [==============================] - 94s 1s/step - loss: 1.1863 - accuracy: 0.6357 - val_loss: 2.3469 - val_accuracy: 0.3422\n",
            "Epoch 9/40\n",
            "63/63 [==============================] - 92s 1s/step - loss: 1.1081 - accuracy: 0.6542 - val_loss: 2.4472 - val_accuracy: 0.3209\n",
            "Epoch 10/40\n",
            "63/63 [==============================] - 92s 1s/step - loss: 1.0422 - accuracy: 0.6582 - val_loss: 2.3494 - val_accuracy: 0.3690\n",
            "Epoch 11/40\n",
            "63/63 [==============================] - 92s 1s/step - loss: 0.9996 - accuracy: 0.6841 - val_loss: 2.3139 - val_accuracy: 0.3155\n",
            "Epoch 12/40\n",
            "63/63 [==============================] - 92s 1s/step - loss: 0.9310 - accuracy: 0.7071 - val_loss: 3.2328 - val_accuracy: 0.2193\n",
            "Epoch 13/40\n",
            "63/63 [==============================] - 92s 1s/step - loss: 0.9081 - accuracy: 0.7111 - val_loss: 2.4199 - val_accuracy: 0.3877\n",
            "Epoch 14/40\n",
            "63/63 [==============================] - 90s 1s/step - loss: 0.8342 - accuracy: 0.7350 - val_loss: 2.3249 - val_accuracy: 0.3770\n",
            "Epoch 15/40\n",
            "63/63 [==============================] - 94s 1s/step - loss: 0.8202 - accuracy: 0.7335 - val_loss: 2.3964 - val_accuracy: 0.3797\n",
            "Epoch 16/40\n",
            "63/63 [==============================] - 92s 1s/step - loss: 0.7584 - accuracy: 0.7520 - val_loss: 2.4654 - val_accuracy: 0.3369\n",
            "Epoch 17/40\n",
            "63/63 [==============================] - 95s 1s/step - loss: 0.7467 - accuracy: 0.7630 - val_loss: 2.0918 - val_accuracy: 0.4144\n",
            "Epoch 18/40\n",
            "63/63 [==============================] - 91s 1s/step - loss: 0.6613 - accuracy: 0.7750 - val_loss: 2.7256 - val_accuracy: 0.3850\n",
            "Epoch 19/40\n",
            "63/63 [==============================] - 95s 1s/step - loss: 0.6934 - accuracy: 0.7655 - val_loss: 2.5995 - val_accuracy: 0.3877\n",
            "Epoch 20/40\n",
            "63/63 [==============================] - 91s 1s/step - loss: 0.6610 - accuracy: 0.7889 - val_loss: 2.3180 - val_accuracy: 0.4358\n",
            "Epoch 21/40\n",
            "63/63 [==============================] - 93s 1s/step - loss: 0.6082 - accuracy: 0.8034 - val_loss: 2.1285 - val_accuracy: 0.4492\n",
            "Epoch 22/40\n",
            "63/63 [==============================] - 93s 1s/step - loss: 0.6609 - accuracy: 0.7864 - val_loss: 2.5513 - val_accuracy: 0.4144\n",
            "Epoch 23/40\n",
            "63/63 [==============================] - 93s 1s/step - loss: 0.5797 - accuracy: 0.8114 - val_loss: 2.7145 - val_accuracy: 0.4011\n",
            "Epoch 24/40\n",
            "63/63 [==============================] - 93s 1s/step - loss: 0.5807 - accuracy: 0.8024 - val_loss: 2.5049 - val_accuracy: 0.4278\n",
            "Epoch 25/40\n",
            "63/63 [==============================] - 92s 1s/step - loss: 0.5563 - accuracy: 0.8159 - val_loss: 2.7829 - val_accuracy: 0.4198\n",
            "Epoch 26/40\n",
            "63/63 [==============================] - 95s 1s/step - loss: 0.5294 - accuracy: 0.8273 - val_loss: 2.5878 - val_accuracy: 0.4251\n",
            "Epoch 27/40\n",
            "63/63 [==============================] - 91s 1s/step - loss: 0.5426 - accuracy: 0.8209 - val_loss: 2.3719 - val_accuracy: 0.4626\n",
            "Epoch 28/40\n",
            "63/63 [==============================] - 95s 2s/step - loss: 0.4916 - accuracy: 0.8453 - val_loss: 2.5342 - val_accuracy: 0.4840\n",
            "Epoch 29/40\n",
            "63/63 [==============================] - 91s 1s/step - loss: 0.4786 - accuracy: 0.8438 - val_loss: 2.6988 - val_accuracy: 0.4251\n",
            "Epoch 30/40\n",
            "63/63 [==============================] - 95s 1s/step - loss: 0.5023 - accuracy: 0.8458 - val_loss: 2.3324 - val_accuracy: 0.4572\n",
            "Epoch 31/40\n",
            "63/63 [==============================] - 90s 1s/step - loss: 0.4796 - accuracy: 0.8398 - val_loss: 2.8523 - val_accuracy: 0.4064\n",
            "Epoch 32/40\n",
            "63/63 [==============================] - 95s 1s/step - loss: 0.4498 - accuracy: 0.8428 - val_loss: 2.3815 - val_accuracy: 0.4626\n",
            "Epoch 33/40\n",
            "63/63 [==============================] - 91s 1s/step - loss: 0.4350 - accuracy: 0.8493 - val_loss: 2.5210 - val_accuracy: 0.4706\n",
            "Epoch 34/40\n",
            "63/63 [==============================] - 95s 1s/step - loss: 0.4167 - accuracy: 0.8568 - val_loss: 2.6932 - val_accuracy: 0.4091\n",
            "Epoch 35/40\n",
            "63/63 [==============================] - 91s 1s/step - loss: 0.4157 - accuracy: 0.8548 - val_loss: 2.6776 - val_accuracy: 0.4759\n",
            "Epoch 36/40\n",
            "63/63 [==============================] - 95s 1s/step - loss: 0.4358 - accuracy: 0.8583 - val_loss: 2.5095 - val_accuracy: 0.4706\n",
            "Epoch 37/40\n",
            "63/63 [==============================] - 92s 1s/step - loss: 0.3944 - accuracy: 0.8772 - val_loss: 2.5275 - val_accuracy: 0.4866\n",
            "Epoch 38/40\n",
            "63/63 [==============================] - 92s 1s/step - loss: 0.3980 - accuracy: 0.8698 - val_loss: 2.6815 - val_accuracy: 0.4439\n",
            "Epoch 39/40\n",
            "63/63 [==============================] - 95s 1s/step - loss: 0.3742 - accuracy: 0.8807 - val_loss: 2.9114 - val_accuracy: 0.4064\n",
            "Epoch 40/40\n",
            "63/63 [==============================] - 91s 1s/step - loss: 0.4107 - accuracy: 0.8668 - val_loss: 2.5944 - val_accuracy: 0.4545\n"
          ]
        }
      ],
      "source": [
        "# SE LA VOLTA SCORSA POTEVAMO PERMETTERCI DI AVERE IN MEMORIA TUTTO IL DATASET\n",
        "# QUA NON POSSIAMO FARE ALTRETTANTO PERCHé ABBIAMO IMMAGINI E NON C'è\n",
        "# MODO DI CARICARE TUTTO IL DATASET IN MEMORIA ALLA PROCEDURA DI FIT. \n",
        "# MOTIVO PER IL QUALE STIAMO UTILIZZANDO IL DATA LOADER DEFINITO ALL'INIZIO. \n",
        "# AVENDOLO SPECIFICATO ALL'INIZIO IL TRAIN_DATASET PRENDERà IN INGRESSO 32\n",
        "# IMMAGINI ALLA VOLTA, DEFINITO COME BATCH SIZE FINO A COPRIRE L'INTERO DATASET.\n",
        "# COSI FACENDO HA COMPLETATO UNA EPOCA E TIRA IN BALLO IL VALIDATION\n",
        "# DATA LOADER CHE CONGELA MOMENTANEAMENTE L'ADDESTRAMENTO DELLA RETE NEURALE,\n",
        "# FORNISCE ALLA RETE TUTTE LE IMMAGINI DEL VALIDATION SET (ANCHE IN QUESTO\n",
        "# CASO 32 ALLA VOLTA) E CALCOLA IL RISULTATO. E SALVIAMO IL RISULTATO NELLA\n",
        "# VARIABILE HISTORY.\n",
        "history = net.fit(train_dataset, epochs=40, validation_data = test_dataset)"
      ]
    },
    {
      "cell_type": "code",
      "execution_count": null,
      "metadata": {
        "colab": {
          "base_uri": "https://localhost:8080/",
          "height": 300
        },
        "id": "ug2ZfaHGzTun",
        "outputId": "bca02708-aca8-4577-e0c5-18b5aada9846"
      },
      "outputs": [
        {
          "data": {
            "application/javascript": [
              "google.colab.output.setIframeHeight(0, true, {maxHeight: 300})"
            ],
            "text/plain": [
              "<IPython.core.display.Javascript object>"
            ]
          },
          "metadata": {},
          "output_type": "display_data"
        },
        {
          "data": {
            "text/plain": [
              "<matplotlib.legend.Legend at 0x7fa11aba4990>"
            ]
          },
          "execution_count": 48,
          "metadata": {},
          "output_type": "execute_result"
        },
        {
          "data": {
            "image/png": "[encoded data removed]",
            "text/plain": [
              "<Figure size 432x288 with 1 Axes>"
            ]
          },
          "metadata": {},
          "output_type": "display_data"
        }
      ],
      "source": [
        "plt.plot(history.history['accuracy'])\n",
        "plt.plot(history.history['val_accuracy'])\n",
        "plt.ylim([0.0, 1.0]) # 0.5 è il minimo sindacale - dummy classifier fa 50% - fino al massimo 1.\n",
        "plt.xlabel('Epoch')\n",
        "plt.ylabel('Accuracy')\n",
        "plt.legend(['train', 'val'])"
      ]
    },
    {
      "cell_type": "markdown",
      "metadata": {
        "id": "zsAV8Pb989iU"
      },
      "source": [
        "### Results Model V01"
      ]
    },
    {
      "cell_type": "markdown",
      "metadata": {
        "id": "Q_CnXSn18-2A"
      },
      "source": []
    },
    {
      "cell_type": "markdown",
      "metadata": {
        "id": "jscA_haNuXFF"
      },
      "source": [
        "## 5.4 Model V02 - Model with regularization, Batch normalization and double Dense layer"
      ]
    },
    {
      "cell_type": "code",
      "execution_count": null,
      "metadata": {
        "colab": {
          "base_uri": "https://localhost:8080/",
          "height": 17
        },
        "id": "yEjqOnwizTlT",
        "outputId": "e61f20b2-caea-45d4-e6f8-4677aed98165"
      },
      "outputs": [
        {
          "data": {
            "application/javascript": [
              "google.colab.output.setIframeHeight(0, true, {maxHeight: 300})"
            ],
            "text/plain": [
              "<IPython.core.display.Javascript object>"
            ]
          },
          "metadata": {},
          "output_type": "display_data"
        }
      ],
      "source": [
        "# Architecture definition V02\n",
        "inputs = keras.Input((224,224,3))\n",
        "\n",
        "x = inputs\n",
        "x = keras.layers.Conv2D(32, 3, padding=\"same\", kernel_regularizer=tf.keras.regularizers.l2(0.001))(x)\n",
        "x = keras.layers.BatchNormalization()(x)\n",
        "x = keras.layers.Activation(\"relu\")(x)\n",
        "x = keras.layers.MaxPooling2D(3, strides=3, padding=\"same\")(x)\n",
        "\n",
        "x = keras.layers.Conv2D(64, 3, padding=\"same\", kernel_regularizer=tf.keras.regularizers.l2(0.001))(x)\n",
        "x = keras.layers.BatchNormalization()(x)\n",
        "x = keras.layers.Activation(\"relu\")(x)\n",
        "x = keras.layers.MaxPooling2D(3, strides=3, padding=\"same\")(x)\n",
        "\n",
        "x = keras.layers.Conv2D(128, 3, padding=\"same\", kernel_regularizer=tf.keras.regularizers.l2(0.001))(x)\n",
        "x = keras.layers.BatchNormalization()(x)\n",
        "x = keras.layers.Activation(\"relu\")(x)\n",
        "\n",
        "x = keras.layers.GlobalMaxPooling2D()(x)\n",
        "\n",
        "x = keras.layers.Dense(64, activation=\"relu\", kernel_regularizer=tf.keras.regularizers.l2(0.001))(x)\n",
        "\n",
        "outputs = keras.layers.Dense(num_classes, activation=\"softmax\", kernel_regularizer=tf.keras.regularizers.l2(0.001))(x)\n",
        "\n",
        "net = keras.Model(inputs, outputs)"
      ]
    },
    {
      "cell_type": "code",
      "execution_count": null,
      "metadata": {
        "colab": {
          "base_uri": "https://localhost:8080/",
          "height": 17
        },
        "id": "n0BVFH7ouzD-",
        "outputId": "3bc25292-9953-47ac-d33d-727eca489c09"
      },
      "outputs": [
        {
          "data": {
            "application/javascript": [
              "google.colab.output.setIframeHeight(0, true, {maxHeight: 300})"
            ],
            "text/plain": [
              "<IPython.core.display.Javascript object>"
            ]
          },
          "metadata": {},
          "output_type": "display_data"
        }
      ],
      "source": [
        "# COMPILE THE MODEL\n",
        "net.compile(loss=keras.losses.categorical_crossentropy,\n",
        "            optimizer= keras.optimizers.RMSprop(learning_rate=0.001),\n",
        "            metrics=['accuracy'])"
      ]
    },
    {
      "cell_type": "code",
      "execution_count": null,
      "metadata": {
        "colab": {
          "base_uri": "https://localhost:8080/",
          "height": 300
        },
        "id": "UKBiYAo1uy7D",
        "outputId": "e440f82e-4fe0-41ab-afb3-34d729a0121b"
      },
      "outputs": [
        {
          "data": {
            "application/javascript": [
              "google.colab.output.setIframeHeight(0, true, {maxHeight: 300})"
            ],
            "text/plain": [
              "<IPython.core.display.Javascript object>"
            ]
          },
          "metadata": {},
          "output_type": "display_data"
        },
        {
          "name": "stdout",
          "output_type": "stream",
          "text": [
            "Epoch 1/40\n",
            "63/63 [==============================] - 152s 2s/step - loss: 2.0911 - accuracy: 0.4202 - val_loss: 2.6330 - val_accuracy: 0.2032\n",
            "Epoch 2/40\n",
            "63/63 [==============================] - 150s 2s/step - loss: 1.4108 - accuracy: 0.5928 - val_loss: 1.9250 - val_accuracy: 0.3102\n",
            "Epoch 3/40\n",
            "63/63 [==============================] - 152s 2s/step - loss: 1.1655 - accuracy: 0.6766 - val_loss: 1.8387 - val_accuracy: 0.3930\n",
            "Epoch 4/40\n",
            "63/63 [==============================] - 153s 2s/step - loss: 1.0295 - accuracy: 0.7241 - val_loss: 1.9279 - val_accuracy: 0.4011\n",
            "Epoch 5/40\n",
            "63/63 [==============================] - 153s 2s/step - loss: 0.8984 - accuracy: 0.7745 - val_loss: 1.6479 - val_accuracy: 0.5160\n",
            "Epoch 6/40\n",
            "63/63 [==============================] - 150s 2s/step - loss: 0.8114 - accuracy: 0.8114 - val_loss: 2.2183 - val_accuracy: 0.3690\n",
            "Epoch 7/40\n",
            "63/63 [==============================] - 152s 2s/step - loss: 0.7764 - accuracy: 0.8094 - val_loss: 2.1543 - val_accuracy: 0.3690\n",
            "Epoch 8/40\n",
            "63/63 [==============================] - 150s 2s/step - loss: 0.6871 - accuracy: 0.8488 - val_loss: 2.2144 - val_accuracy: 0.3476\n",
            "Epoch 9/40\n",
            "63/63 [==============================] - 163s 3s/step - loss: 0.6642 - accuracy: 0.8578 - val_loss: 1.6729 - val_accuracy: 0.5428\n",
            "Epoch 10/40\n",
            "63/63 [==============================] - 174s 3s/step - loss: 0.6208 - accuracy: 0.8733 - val_loss: 1.6299 - val_accuracy: 0.5455\n",
            "Epoch 11/40\n",
            "63/63 [==============================] - 152s 2s/step - loss: 0.5981 - accuracy: 0.8767 - val_loss: 1.6279 - val_accuracy: 0.5508\n",
            "Epoch 12/40\n",
            "63/63 [==============================] - 151s 2s/step - loss: 0.5419 - accuracy: 0.9077 - val_loss: 1.6805 - val_accuracy: 0.5374\n",
            "Epoch 13/40\n",
            "63/63 [==============================] - 154s 2s/step - loss: 0.5103 - accuracy: 0.9047 - val_loss: 2.1142 - val_accuracy: 0.4278\n",
            "Epoch 14/40\n",
            "63/63 [==============================] - 154s 2s/step - loss: 0.4815 - accuracy: 0.9172 - val_loss: 2.0493 - val_accuracy: 0.4278\n",
            "Epoch 15/40\n",
            "63/63 [==============================] - 152s 2s/step - loss: 0.4930 - accuracy: 0.9172 - val_loss: 2.2054 - val_accuracy: 0.4679\n",
            "Epoch 16/40\n",
            "63/63 [==============================] - 153s 2s/step - loss: 0.4399 - accuracy: 0.9356 - val_loss: 1.9577 - val_accuracy: 0.4652\n",
            "Epoch 17/40\n",
            "63/63 [==============================] - 152s 2s/step - loss: 0.4181 - accuracy: 0.9451 - val_loss: 1.5752 - val_accuracy: 0.5722\n",
            "Epoch 18/40\n",
            "63/63 [==============================] - 150s 2s/step - loss: 0.4197 - accuracy: 0.9376 - val_loss: 1.7696 - val_accuracy: 0.5241\n",
            "Epoch 19/40\n",
            "63/63 [==============================] - 152s 2s/step - loss: 0.4152 - accuracy: 0.9456 - val_loss: 1.7187 - val_accuracy: 0.5722\n",
            "Epoch 20/40\n",
            "63/63 [==============================] - 154s 2s/step - loss: 0.3847 - accuracy: 0.9501 - val_loss: 1.8636 - val_accuracy: 0.5508\n",
            "Epoch 21/40\n",
            "63/63 [==============================] - 155s 2s/step - loss: 0.3866 - accuracy: 0.9496 - val_loss: 1.9433 - val_accuracy: 0.4759\n",
            "Epoch 22/40\n",
            "63/63 [==============================] - 155s 2s/step - loss: 0.3642 - accuracy: 0.9616 - val_loss: 1.6198 - val_accuracy: 0.6070\n",
            "Epoch 23/40\n",
            "63/63 [==============================] - 155s 2s/step - loss: 0.3704 - accuracy: 0.9571 - val_loss: 1.6962 - val_accuracy: 0.5963\n",
            "Epoch 24/40\n",
            "63/63 [==============================] - 152s 2s/step - loss: 0.3560 - accuracy: 0.9561 - val_loss: 2.1823 - val_accuracy: 0.4626\n",
            "Epoch 25/40\n",
            "63/63 [==============================] - 154s 2s/step - loss: 0.3499 - accuracy: 0.9616 - val_loss: 2.3309 - val_accuracy: 0.4973\n",
            "Epoch 26/40\n",
            "63/63 [==============================] - 155s 2s/step - loss: 0.3543 - accuracy: 0.9616 - val_loss: 1.6577 - val_accuracy: 0.5936\n",
            "Epoch 27/40\n",
            "63/63 [==============================] - 155s 2s/step - loss: 0.3254 - accuracy: 0.9681 - val_loss: 1.8722 - val_accuracy: 0.5267\n",
            "Epoch 28/40\n",
            "63/63 [==============================] - 155s 2s/step - loss: 0.3264 - accuracy: 0.9726 - val_loss: 1.7309 - val_accuracy: 0.5642\n",
            "Epoch 29/40\n",
            "63/63 [==============================] - 157s 2s/step - loss: 0.3316 - accuracy: 0.9686 - val_loss: 1.6819 - val_accuracy: 0.5775\n",
            "Epoch 30/40\n",
            "63/63 [==============================] - 157s 2s/step - loss: 0.2994 - accuracy: 0.9780 - val_loss: 2.0273 - val_accuracy: 0.5321\n",
            "Epoch 31/40\n",
            "63/63 [==============================] - 155s 2s/step - loss: 0.3206 - accuracy: 0.9696 - val_loss: 2.2607 - val_accuracy: 0.4973\n",
            "Epoch 32/40\n",
            "63/63 [==============================] - 157s 2s/step - loss: 0.3122 - accuracy: 0.9731 - val_loss: 2.0620 - val_accuracy: 0.5267\n",
            "Epoch 33/40\n",
            "63/63 [==============================] - 157s 2s/step - loss: 0.3145 - accuracy: 0.9736 - val_loss: 1.7275 - val_accuracy: 0.5963\n",
            "Epoch 34/40\n",
            "63/63 [==============================] - 157s 2s/step - loss: 0.2898 - accuracy: 0.9746 - val_loss: 2.6748 - val_accuracy: 0.4545\n",
            "Epoch 35/40\n",
            "63/63 [==============================] - 155s 2s/step - loss: 0.3065 - accuracy: 0.9691 - val_loss: 1.7589 - val_accuracy: 0.5775\n",
            "Epoch 36/40\n",
            "63/63 [==============================] - 153s 2s/step - loss: 0.3022 - accuracy: 0.9721 - val_loss: 2.7975 - val_accuracy: 0.4733\n",
            "Epoch 37/40\n",
            "63/63 [==============================] - 155s 2s/step - loss: 0.2979 - accuracy: 0.9711 - val_loss: 1.9291 - val_accuracy: 0.5642\n",
            "Epoch 38/40\n",
            "63/63 [==============================] - 155s 2s/step - loss: 0.2679 - accuracy: 0.9840 - val_loss: 1.8268 - val_accuracy: 0.5909\n",
            "Epoch 39/40\n",
            "63/63 [==============================] - 155s 2s/step - loss: 0.2981 - accuracy: 0.9711 - val_loss: 1.9376 - val_accuracy: 0.5561\n",
            "Epoch 40/40\n",
            "63/63 [==============================] - 157s 2s/step - loss: 0.2875 - accuracy: 0.9711 - val_loss: 1.9424 - val_accuracy: 0.5722\n"
          ]
        }
      ],
      "source": [
        "history = net.fit(train_dataset, epochs=40, validation_data = test_dataset)"
      ]
    },
    {
      "cell_type": "code",
      "execution_count": null,
      "metadata": {
        "colab": {
          "base_uri": "https://localhost:8080/",
          "height": 300
        },
        "id": "eFyJY2zHEo6v",
        "outputId": "325d5585-4558-430c-bb35-2d07f57e9a7d"
      },
      "outputs": [
        {
          "data": {
            "application/javascript": [
              "google.colab.output.setIframeHeight(0, true, {maxHeight: 300})"
            ],
            "text/plain": [
              "<IPython.core.display.Javascript object>"
            ]
          },
          "metadata": {},
          "output_type": "display_data"
        },
        {
          "data": {
            "text/plain": [
              "<matplotlib.legend.Legend at 0x7fa11a66c5d0>"
            ]
          },
          "execution_count": 53,
          "metadata": {},
          "output_type": "execute_result"
        },
        {
          "data": {
            "image/png": "[encoded data removed]",
            "text/plain": [
              "<Figure size 432x288 with 1 Axes>"
            ]
          },
          "metadata": {},
          "output_type": "display_data"
        }
      ],
      "source": [
        "plt.plot(history.history['accuracy'])\n",
        "plt.plot(history.history['val_accuracy'])\n",
        "plt.ylim([0.0, 1.0]) # 0.5 è il minimo sindacale - dummy classifier fa 50% - fino al massimo 1.\n",
        "plt.xlabel('Epoch')\n",
        "plt.ylabel('Accuracy')\n",
        "plt.legend(['train', 'val'])"
      ]
    },
    {
      "cell_type": "code",
      "execution_count": null,
      "metadata": {
        "id": "pXIU9VNg25LQ"
      },
      "outputs": [],
      "source": [
        "# VISUALIZZIAMO NUOVAMENTE L'OUTPUT IN TERMINI DI LOSS FUNCTION\n",
        "plt.plot(history.history['loss'])\n",
        "plt.plot(history.history['val_loss'])\n",
        "plt.ylim([0.0, 5]) # è difficile da dire a priori\n",
        "plt.xlabel('Epoch')\n",
        "plt.ylabel('Loss')\n",
        "plt.legend(['train', 'val'])"
      ]
    },
    {
      "cell_type": "markdown",
      "metadata": {
        "id": "VXn9rjr686As"
      },
      "source": [
        "### Results Model V02"
      ]
    },
    {
      "cell_type": "markdown",
      "metadata": {
        "id": "IN9kj1ax87hp"
      },
      "source": []
    },
    {
      "cell_type": "markdown",
      "metadata": {
        "id": "x-fbROCI0UT7"
      },
      "source": [
        "## 5.5 Model V03 - Training the model with Data Agmentation from keras (regularization and dropout)"
      ]
    },
    {
      "cell_type": "code",
      "execution_count": null,
      "metadata": {
        "colab": {
          "base_uri": "https://localhost:8080/"
        },
        "id": "4wEPGZRy0OQh",
        "outputId": "823c0df0-6b74-4f35-8c6b-e618fffd47d3"
      },
      "outputs": [
        {
          "output_type": "stream",
          "name": "stdout",
          "text": [
            "Found 1803 images belonging to 9 classes.\n",
            "Found 155 images belonging to 9 classes.\n",
            "Found 192 images belonging to 9 classes.\n"
          ]
        }
      ],
      "source": [
        "batch_size = 16\n",
        "# DATA AUGMENTATION ONLY ON THE TRAINING SET\n",
        "train_datagen = ImageDataGenerator(\n",
        "        rescale=1./255,\n",
        "        shear_range=0.2,\n",
        "        zoom_range=0.1,\n",
        "        horizontal_flip=True,\n",
        "        width_shift_range=0.1,  # randomly shift images horizontally (fraction of total width)\n",
        "        height_shift_range=0.1,\n",
        "        rotation_range=45,\n",
        "        fill_mode='nearest')  # randomly shift images vertically (fraction of total height))\n",
        "\n",
        "# this is the augmentation configuration we will use for testing:\n",
        "# only rescaling\n",
        "test_datagen = ImageDataGenerator(rescale=1./255) \n",
        "val_datagen = ImageDataGenerator(rescale=1./255) \n",
        "####################################################à\n",
        "\n",
        "# this is a generator that will read pictures found in\n",
        "# subfolers of 'data/train', and indefinitely generate\n",
        "# batches of augmented image data\n",
        "train_generator = train_datagen.flow_from_directory(\n",
        "    base_path_train,\n",
        "    target_size=(224,224),\n",
        "    batch_size=batch_size,\n",
        "    shuffle=True,\n",
        "    class_mode=\"categorical\",\n",
        "    seed = SEED_VALUE)\n",
        "\n",
        "test_generator = test_datagen.flow_from_directory(\n",
        "    base_path_test,\n",
        "    target_size=(224,224),\n",
        "    batch_size=batch_size,\n",
        "    shuffle=False,\n",
        "    class_mode=\"categorical\",\n",
        "    seed = SEED_VALUE)\n",
        "\n",
        "val_generator = val_datagen.flow_from_directory(\n",
        "    base_path_val,\n",
        "    target_size=(224,224),\n",
        "    batch_size=batch_size,\n",
        "    shuffle=False,\n",
        "    class_mode=\"categorical\",\n",
        "    seed = SEED_VALUE)"
      ]
    },
    {
      "cell_type": "code",
      "execution_count": null,
      "metadata": {
        "id": "mJacdSjPIIWD"
      },
      "outputs": [],
      "source": [
        "# DEFINE AN EARLY STOPPING CRITERION\n",
        "# callback = keras.callbacks.EarlyStopping(monitor=\"val_loss\", patience=80, restore_best_weights = True)"
      ]
    },
    {
      "cell_type": "code",
      "execution_count": null,
      "metadata": {
        "id": "ITUAWD7Rt4Cm"
      },
      "outputs": [],
      "source": [
        "# ARCHITECTURE DEFINITION FOR MODEL V03\n",
        "inputs = keras.Input((224,224,3))\n",
        "\n",
        "x = inputs\n",
        "\n",
        "x = keras.layers.Conv2D(32, 3, padding=\"same\", kernel_initializer=\"he_uniform\", kernel_regularizer=tf.keras.regularizers.l2(0.001))(x)\n",
        "x = keras.layers.BatchNormalization()(x)\n",
        "x = keras.layers.Activation(\"LeakyReLU\")(x)\n",
        "x = keras.layers.MaxPooling2D(3, strides=3, padding=\"same\")(x)\n",
        "\n",
        "x = keras.layers.Conv2D(64, 3, padding=\"same\", kernel_initializer=\"he_uniform\", kernel_regularizer=tf.keras.regularizers.l2(0.001))(x)\n",
        "x = keras.layers.BatchNormalization()(x)\n",
        "x = keras.layers.Activation(\"LeakyReLU\")(x)\n",
        "x = keras.layers.MaxPooling2D(3, strides=3, padding=\"same\")(x)\n",
        "\n",
        "x = keras.layers.Conv2D(128, 3, padding=\"same\", kernel_initializer=\"he_uniform\", kernel_regularizer=tf.keras.regularizers.l2(0.001))(x)\n",
        "x = keras.layers.BatchNormalization()(x)\n",
        "x = keras.layers.Activation(\"LeakyReLU\")(x)\n",
        "x = keras.layers.MaxPooling2D(3, strides=3, padding=\"same\")(x)\n",
        "\n",
        "x = keras.layers.Conv2D(128, 3, padding=\"same\", kernel_initializer=\"he_uniform\", kernel_regularizer=tf.keras.regularizers.l2(0.001))(x)\n",
        "x = keras.layers.BatchNormalization()(x)\n",
        "x = keras.layers.Activation(\"LeakyReLU\")(x)\n",
        "x = keras.layers.MaxPooling2D(3, strides=3, padding=\"same\")(x)\n",
        "\n",
        "x = keras.layers.Conv2D(512, 3, padding=\"same\", kernel_initializer=\"he_uniform\", kernel_regularizer=tf.keras.regularizers.l2(0.001))(x)\n",
        "x = keras.layers.BatchNormalization()(x)\n",
        "x = keras.layers.Activation(\"LeakyReLU\")(x)\n",
        "x = keras.layers.GlobalMaxPooling2D()(x)\n",
        "\n",
        "# ADD FLATTEN LAYER\n",
        "x = tf.keras.layers.Flatten()(x)\n",
        "# ADD DROPOUT LAYER\n",
        "x = keras.layers.Dropout(.15)(x)\n",
        "\n",
        "x = keras.layers.Dense(512, activation=\"LeakyReLU\", kernel_regularizer=tf.keras.regularizers.l2(0.001))(x)\n",
        "\n",
        "outputs = keras.layers.Dense(num_classes, activation=\"softmax\", kernel_regularizer=tf.keras.regularizers.l2(0.001))(x)\n",
        "\n",
        "net = keras.Model(inputs, outputs)"
      ]
    },
    {
      "cell_type": "code",
      "execution_count": null,
      "metadata": {
        "id": "eW5lub6TwUuo"
      },
      "outputs": [],
      "source": [
        "# COMPILE THE MODEL\n",
        "net.compile(loss=keras.losses.categorical_crossentropy,\n",
        "            optimizer= keras.optimizers.Adam(learning_rate=0.001),\n",
        "            metrics=['accuracy'])"
      ]
    },
    {
      "cell_type": "code",
      "execution_count": null,
      "metadata": {
        "id": "npw4dDJvwUsZ"
      },
      "outputs": [],
      "source": [
        "# FIT THE MODEL\n",
        "history = net.fit(train_generator, \n",
        "                  validation_data = val_generator, # test_generator\n",
        "                  steps_per_epoch = train_generator.n // train_generator.batch_size,\n",
        "                  validation_steps = val_generator.n // val_generator.batch_size, # test_generator\n",
        "                  epochs=100)\n",
        "                  # callbacks = [callback])"
      ]
    },
    {
      "cell_type": "markdown",
      "metadata": {
        "id": "K4u73kaKTn8C"
      },
      "source": [
        "# Prova a cross validare con questo modello, vedi se ottieni risultati migliori!\n",
        "\n",
        "- https://stackoverflow.com/questions/62341053/validation-accuracy-not-improving"
      ]
    },
    {
      "cell_type": "code",
      "execution_count": null,
      "metadata": {
        "id": "igB4TxuBwUqP"
      },
      "outputs": [],
      "source": [
        "# Iterazioni (numero al di sotto delle epoche) viene calcolato come shape del training (in termini di lunghezza)/numero di epoche.\n",
        "# Esempio: se lunghezza di training è 1803 la si divide per batch size di 64 e si ottiene 28 iterazioni per epoca! --> to see all \n",
        "# the datapoints it need 28 iterations."
      ]
    },
    {
      "cell_type": "code",
      "execution_count": null,
      "metadata": {
        "id": "-3g731HbVGJp"
      },
      "outputs": [],
      "source": [
        "# SHOW DIFFERENT TRAINING EPOCHS: USE 40/70/100 TRAINING EPOCHS AND SHOW/COMMENT THE RESULTS!\n",
        "# UTILE PER CAPIRE STEPS PER EPOCH AND VALIDATION STEPS: https://datascience.stackexchange.com/questions/47405/what-to-set-in-steps-per-epoch-in-keras-fit-generator"
      ]
    },
    {
      "cell_type": "code",
      "execution_count": null,
      "metadata": {
        "id": "R8hL0WpUY2yI"
      },
      "outputs": [],
      "source": [
        "history.history"
      ]
    },
    {
      "cell_type": "code",
      "execution_count": null,
      "metadata": {
        "colab": {
          "base_uri": "https://localhost:8080/",
          "height": 300
        },
        "id": "C2jLcGKxIjSY",
        "outputId": "0123a010-9d98-4aaa-f844-b94453a1b4aa"
      },
      "outputs": [
        {
          "data": {
            "text/plain": [
              "<matplotlib.legend.Legend at 0x7fa754149dd0>"
            ]
          },
          "execution_count": 15,
          "metadata": {},
          "output_type": "execute_result"
        },
        {
          "data": {
            "image/png": "[encoded data removed]",
            "text/plain": [
              "<Figure size 432x288 with 2 Axes>"
            ]
          },
          "metadata": {},
          "output_type": "display_data"
        }
      ],
      "source": [
        "# PLOT THEM TOGETHER\n",
        "# Visualization of the learning curves\n",
        "\n",
        "# VISUALIZZIAMO NUOVAMENTE L'OUTPUT IN TERMINI DI LOSS FUNCTION\n",
        "plt.subplot(1, 2, 1)\n",
        "plt.plot(history.history['loss'])\n",
        "plt.plot(history.history['val_loss'])\n",
        "plt.ylim([0.0, 3.0]) # è difficile da dire a priori\n",
        "plt.xlabel('Epoch')\n",
        "plt.ylabel('Loss')\n",
        "plt.legend(['train', 'valid'])\n",
        "\n",
        "\n",
        "plt.subplot(1, 2, 2)\n",
        "plt.plot(history.history['accuracy'])\n",
        "plt.plot(history.history['val_accuracy'])\n",
        "plt.ylim([0.0, 1.0]) # 0.5 è il minimo sindacale - dummy classifier fa 50% - fino al massimo 1. \n",
        "plt.xlabel('Epoch')\n",
        "plt.ylabel('Accuracy')\n",
        "plt.legend(['train', 'valid'])"
      ]
    },
    {
      "cell_type": "markdown",
      "metadata": {
        "id": "Qc4R6vzqXW1w"
      },
      "source": [
        "TO CHECK:\n",
        "\n",
        "- https://cs230.stanford.edu/projects_fall_2019/reports/26233496.pdf\n",
        "- http://www.warse.org/IJETER/static/pdf/file/ijeter38892020.pdf\n",
        "- https://www.kdnuggets.com/2022/05/image-classification-convolutional-neural-networks-cnns.html\n",
        "- https://towardsdatascience.com/deciding-optimal-filter-size-for-cnns-d6f7b56f9363"
      ]
    },
    {
      "cell_type": "markdown",
      "metadata": {
        "id": "RaBg3ww_83dQ"
      },
      "source": [
        "### Results Model V03"
      ]
    },
    {
      "cell_type": "markdown",
      "metadata": {
        "id": "qZqOZC4M9Haa"
      },
      "source": []
    },
    {
      "cell_type": "markdown",
      "metadata": {
        "id": "xpgoFdJcJKwp"
      },
      "source": [
        "EXAMPLE OF NOTES THAT YOU CAN ADD:\n",
        "\n",
        "Note:\n",
        "\n",
        "- The increased complexity does not appear to have improved the capability of the network.\n",
        "- It has, however, impacted the validation accuracy curve, which is now converging faster.\n",
        "- We will now address the current behavior to implement an early stopping mechanism."
      ]
    },
    {
      "cell_type": "markdown",
      "metadata": {
        "id": "PvIkA-QhWT7w"
      },
      "source": [
        "Check the following:\n",
        "- https://stackoverflow.com/questions/49017331/keras-flow-from-directorydirectory\n",
        "- https://studymachinelearning.com/keras-imagedatagenerator-with-flow_from_directory/\n",
        "\n",
        "RUN THE PREVIOUS CODE FOR ANOTHER 40 EPOCHS, THEN CONTINUE WITH THE REST"
      ]
    },
    {
      "cell_type": "markdown",
      "metadata": {
        "id": "1S5qxgwm1ABU"
      },
      "source": [
        "---------------------"
      ]
    },
    {
      "cell_type": "markdown",
      "metadata": {
        "id": "8D1McZOT6nEt"
      },
      "source": [
        "## 5.6 MODEL V03.01 - Model from Keras"
      ]
    },
    {
      "cell_type": "code",
      "execution_count": null,
      "metadata": {
        "id": "gRZSHH8v76FP"
      },
      "outputs": [],
      "source": [
        "# ARCHITECTURE FOUND AT: https://blog.keras.io/building-powerful-image-classification-models-using-very-little-data.html\n",
        "inputs = keras.Input((224,224,3))\n",
        "\n",
        "x = inputs\n",
        "\n",
        "x = keras.layers.Conv2D(32, 3, padding=\"same\", kernel_initializer=\"he_uniform\", kernel_regularizer=tf.keras.regularizers.l2(0.001))(x)\n",
        "x = keras.layers.BatchNormalization()(x)\n",
        "x = keras.layers.Activation(\"relu\")(x)\n",
        "x = keras.layers.MaxPooling2D(3, strides=3, padding=\"same\")(x)\n",
        "\n",
        "x = keras.layers.Conv2D(32, 3, padding=\"same\", kernel_initializer=\"he_uniform\", kernel_regularizer=tf.keras.regularizers.l2(0.001))(x)\n",
        "# x = keras.layers.BatchNormalization()(x)\n",
        "x = keras.layers.Activation(\"relu\")(x)\n",
        "x = keras.layers.MaxPooling2D(3, strides=3, padding=\"same\")(x)\n",
        "\n",
        "x = keras.layers.Conv2D(64, 3, padding=\"same\", kernel_initializer=\"he_uniform\", kernel_regularizer=tf.keras.regularizers.l2(0.001))(x)\n",
        "x = keras.layers.BatchNormalization()(x)\n",
        "x = keras.layers.Activation(\"relu\")(x)\n",
        "x = keras.layers.MaxPooling2D(3, strides=3, padding=\"same\")(x)\n",
        "\n",
        "x = keras.layers.Conv2D(64, 3, padding=\"same\", kernel_initializer=\"he_uniform\", kernel_regularizer=tf.keras.regularizers.l2(0.001))(x)\n",
        "# x = keras.layers.BatchNormalization()(x)\n",
        "x = keras.layers.Activation(\"relu\")(x)\n",
        "x = keras.layers.MaxPooling2D(3, strides=3, padding=\"same\")(x)\n",
        "\n",
        "# the model so far outputs 3D feature maps (height, width, features)\n",
        "\n",
        "# FLATTEN AND ADD DROPOUT\n",
        "x = tf.keras.layers.Flatten()(x) # this converts our 3D feature maps to 1D feature vectors\n",
        "x = keras.layers.Dense(512, activation=\"relu\", kernel_regularizer=tf.keras.regularizers.l2(0.001))(x)\n",
        "x = keras.layers.Activation(\"relu\")(x)\n",
        "x = keras.layers.Dropout(.20)(x)\n",
        "x = keras.layers.Dense(512, activation=\"relu\", kernel_regularizer=tf.keras.regularizers.l2(0.001))(x)\n",
        "\n",
        "outputs = keras.layers.Dense(num_classes, activation=\"softmax\", kernel_regularizer=tf.keras.regularizers.l2(0.001))(x)\n",
        "\n",
        "net = keras.Model(inputs, outputs)"
      ]
    },
    {
      "cell_type": "code",
      "execution_count": null,
      "metadata": {
        "id": "JcGjJzW16rbb"
      },
      "outputs": [],
      "source": [
        "net.compile(loss=keras.losses.categorical_crossentropy,\n",
        "            optimizer= keras.optimizers.Adam(learning_rate=0.001),\n",
        "            metrics=['accuracy'])"
      ]
    },
    {
      "cell_type": "code",
      "execution_count": null,
      "metadata": {
        "colab": {
          "base_uri": "https://localhost:8080/",
          "height": 1000
        },
        "id": "zj50d9Ea6sCU",
        "outputId": "36e5e4fd-b833-4616-89ea-a9aa6aa58cb3"
      },
      "outputs": [
        {
          "name": "stdout",
          "output_type": "stream",
          "text": [
            "Epoch 1/100\n",
            "112/112 [==============================] - 136s 1s/step - loss: 2.7998 - accuracy: 0.4555 - val_loss: 3.9889 - val_accuracy: 0.0469\n",
            "Epoch 2/100\n",
            "112/112 [==============================] - 134s 1s/step - loss: 2.0931 - accuracy: 0.6279 - val_loss: 3.0080 - val_accuracy: 0.2344\n",
            "Epoch 3/100\n",
            "112/112 [==============================] - 134s 1s/step - loss: 1.7741 - accuracy: 0.7180 - val_loss: 3.0519 - val_accuracy: 0.3490\n",
            "Epoch 4/100\n",
            "112/112 [==============================] - 144s 1s/step - loss: 1.5874 - accuracy: 0.7560 - val_loss: 2.5707 - val_accuracy: 0.4583\n",
            "Epoch 5/100\n",
            "112/112 [==============================] - 138s 1s/step - loss: 1.4959 - accuracy: 0.7577 - val_loss: 2.1596 - val_accuracy: 0.5781\n",
            "Epoch 6/100\n",
            "112/112 [==============================] - 135s 1s/step - loss: 1.3601 - accuracy: 0.7918 - val_loss: 2.1973 - val_accuracy: 0.5781\n",
            "Epoch 7/100\n",
            "112/112 [==============================] - 131s 1s/step - loss: 1.2946 - accuracy: 0.8069 - val_loss: 2.0946 - val_accuracy: 0.6146\n",
            "Epoch 8/100\n",
            "112/112 [==============================] - 135s 1s/step - loss: 1.1638 - accuracy: 0.8388 - val_loss: 2.1827 - val_accuracy: 0.5052\n",
            "Epoch 9/100\n",
            "112/112 [==============================] - 133s 1s/step - loss: 1.1617 - accuracy: 0.8355 - val_loss: 2.0088 - val_accuracy: 0.5990\n",
            "Epoch 10/100\n",
            "112/112 [==============================] - 135s 1s/step - loss: 1.0801 - accuracy: 0.8523 - val_loss: 2.0761 - val_accuracy: 0.5312\n",
            "Epoch 11/100\n",
            "112/112 [==============================] - 132s 1s/step - loss: 1.0235 - accuracy: 0.8607 - val_loss: 2.1673 - val_accuracy: 0.5365\n",
            "Epoch 12/100\n",
            "112/112 [==============================] - 134s 1s/step - loss: 0.9849 - accuracy: 0.8713 - val_loss: 1.8596 - val_accuracy: 0.5990\n",
            "Epoch 13/100\n",
            "112/112 [==============================] - 131s 1s/step - loss: 0.9228 - accuracy: 0.8763 - val_loss: 2.1295 - val_accuracy: 0.5833\n",
            "Epoch 14/100\n",
            "112/112 [==============================] - 144s 1s/step - loss: 0.9076 - accuracy: 0.8881 - val_loss: 2.0493 - val_accuracy: 0.6042\n",
            "Epoch 15/100\n",
            "112/112 [==============================] - 131s 1s/step - loss: 0.8305 - accuracy: 0.9071 - val_loss: 1.8938 - val_accuracy: 0.5885\n",
            "Epoch 16/100\n",
            "112/112 [==============================] - 133s 1s/step - loss: 0.8338 - accuracy: 0.8931 - val_loss: 1.9295 - val_accuracy: 0.4948\n",
            "Epoch 17/100\n",
            "112/112 [==============================] - 131s 1s/step - loss: 0.8492 - accuracy: 0.8898 - val_loss: 2.3482 - val_accuracy: 0.5104\n",
            "Epoch 18/100\n",
            "112/112 [==============================] - 132s 1s/step - loss: 0.7861 - accuracy: 0.9133 - val_loss: 2.2356 - val_accuracy: 0.4792\n",
            "Epoch 19/100\n",
            "112/112 [==============================] - 146s 1s/step - loss: 0.7918 - accuracy: 0.8993 - val_loss: 2.2959 - val_accuracy: 0.5052\n",
            "Epoch 20/100\n",
            "112/112 [==============================] - 152s 1s/step - loss: 0.7598 - accuracy: 0.9127 - val_loss: 1.9737 - val_accuracy: 0.5729\n",
            "Epoch 21/100\n",
            "112/112 [==============================] - 135s 1s/step - loss: 0.7408 - accuracy: 0.9138 - val_loss: 1.7072 - val_accuracy: 0.6198\n",
            "Epoch 22/100\n",
            "112/112 [==============================] - 134s 1s/step - loss: 0.6844 - accuracy: 0.9289 - val_loss: 1.7604 - val_accuracy: 0.6354\n",
            "Epoch 23/100\n",
            "112/112 [==============================] - 140s 1s/step - loss: 0.6802 - accuracy: 0.9278 - val_loss: 1.8895 - val_accuracy: 0.6250\n",
            "Epoch 24/100\n",
            "112/112 [==============================] - 135s 1s/step - loss: 0.6927 - accuracy: 0.9211 - val_loss: 1.8228 - val_accuracy: 0.6406\n",
            "Epoch 25/100\n",
            "112/112 [==============================] - 131s 1s/step - loss: 0.6966 - accuracy: 0.9144 - val_loss: 1.6740 - val_accuracy: 0.6458\n",
            "Epoch 26/100\n",
            "112/112 [==============================] - 135s 1s/step - loss: 0.6645 - accuracy: 0.9328 - val_loss: 2.4087 - val_accuracy: 0.5312\n",
            "Epoch 27/100\n",
            "112/112 [==============================] - 131s 1s/step - loss: 0.6623 - accuracy: 0.9183 - val_loss: 1.8600 - val_accuracy: 0.7031\n",
            "Epoch 28/100\n",
            "112/112 [==============================] - 135s 1s/step - loss: 0.6789 - accuracy: 0.9099 - val_loss: 1.9114 - val_accuracy: 0.6458\n",
            "Epoch 29/100\n",
            "112/112 [==============================] - 128s 1s/step - loss: 0.6709 - accuracy: 0.9177 - val_loss: 1.7657 - val_accuracy: 0.6562\n",
            "Epoch 30/100\n",
            "112/112 [==============================] - 126s 1s/step - loss: 0.6770 - accuracy: 0.9205 - val_loss: 1.5822 - val_accuracy: 0.7344\n",
            "Epoch 31/100\n",
            "112/112 [==============================] - 124s 1s/step - loss: 0.6074 - accuracy: 0.9379 - val_loss: 1.4849 - val_accuracy: 0.6927\n",
            "Epoch 32/100\n",
            "112/112 [==============================] - 126s 1s/step - loss: 0.6030 - accuracy: 0.9368 - val_loss: 1.8238 - val_accuracy: 0.6458\n",
            "Epoch 33/100\n",
            "112/112 [==============================] - 124s 1s/step - loss: 0.6198 - accuracy: 0.9267 - val_loss: 1.8685 - val_accuracy: 0.6458\n",
            "Epoch 34/100\n",
            "112/112 [==============================] - 126s 1s/step - loss: 0.6316 - accuracy: 0.9239 - val_loss: 2.1092 - val_accuracy: 0.5885\n",
            "Epoch 35/100\n",
            "112/112 [==============================] - 122s 1s/step - loss: 0.5686 - accuracy: 0.9474 - val_loss: 2.0804 - val_accuracy: 0.6250\n",
            "Epoch 36/100\n",
            "112/112 [==============================] - 127s 1s/step - loss: 0.5781 - accuracy: 0.9435 - val_loss: 1.5935 - val_accuracy: 0.6927\n",
            "Epoch 37/100\n",
            "112/112 [==============================] - 125s 1s/step - loss: 0.6089 - accuracy: 0.9289 - val_loss: 1.5902 - val_accuracy: 0.6510\n",
            "Epoch 38/100\n",
            "112/112 [==============================] - 129s 1s/step - loss: 0.5546 - accuracy: 0.9418 - val_loss: 1.5611 - val_accuracy: 0.7135\n",
            "Epoch 39/100\n",
            "112/112 [==============================] - 124s 1s/step - loss: 0.5870 - accuracy: 0.9289 - val_loss: 2.5033 - val_accuracy: 0.5208\n",
            "Epoch 40/100\n",
            "112/112 [==============================] - 126s 1s/step - loss: 0.5994 - accuracy: 0.9289 - val_loss: 2.0541 - val_accuracy: 0.6094\n",
            "Epoch 41/100\n",
            "112/112 [==============================] - 124s 1s/step - loss: 0.5328 - accuracy: 0.9508 - val_loss: 2.0960 - val_accuracy: 0.5990\n",
            "Epoch 42/100\n",
            "112/112 [==============================] - 127s 1s/step - loss: 0.5507 - accuracy: 0.9345 - val_loss: 1.6619 - val_accuracy: 0.6667\n",
            "Epoch 43/100\n",
            "112/112 [==============================] - 124s 1s/step - loss: 0.5395 - accuracy: 0.9424 - val_loss: 1.6087 - val_accuracy: 0.6667\n",
            "Epoch 44/100\n",
            "112/112 [==============================] - 126s 1s/step - loss: 0.5677 - accuracy: 0.9340 - val_loss: 2.7854 - val_accuracy: 0.5469\n",
            "Epoch 45/100\n",
            "112/112 [==============================] - 124s 1s/step - loss: 0.5222 - accuracy: 0.9474 - val_loss: 1.9433 - val_accuracy: 0.6615\n",
            "Epoch 46/100\n",
            "112/112 [==============================] - 126s 1s/step - loss: 0.5564 - accuracy: 0.9345 - val_loss: 1.6452 - val_accuracy: 0.6875\n",
            "Epoch 47/100\n",
            "112/112 [==============================] - 126s 1s/step - loss: 0.5012 - accuracy: 0.9536 - val_loss: 1.9816 - val_accuracy: 0.6198\n",
            "Epoch 48/100\n",
            "112/112 [==============================] - 126s 1s/step - loss: 0.5500 - accuracy: 0.9362 - val_loss: 1.5770 - val_accuracy: 0.7240\n",
            "Epoch 49/100\n",
            "112/112 [==============================] - 126s 1s/step - loss: 0.5526 - accuracy: 0.9334 - val_loss: 2.9764 - val_accuracy: 0.4688\n",
            "Epoch 50/100\n",
            "112/112 [==============================] - 126s 1s/step - loss: 0.5463 - accuracy: 0.9384 - val_loss: 1.8169 - val_accuracy: 0.6615\n",
            "Epoch 51/100\n",
            "112/112 [==============================] - 126s 1s/step - loss: 0.5431 - accuracy: 0.9435 - val_loss: 1.5823 - val_accuracy: 0.7083\n",
            "Epoch 52/100\n",
            "112/112 [==============================] - 126s 1s/step - loss: 0.4863 - accuracy: 0.9569 - val_loss: 2.0284 - val_accuracy: 0.6406\n",
            "Epoch 53/100\n",
            "112/112 [==============================] - 129s 1s/step - loss: 0.5430 - accuracy: 0.9362 - val_loss: 1.7031 - val_accuracy: 0.6823\n",
            "Epoch 54/100\n",
            "112/112 [==============================] - 132s 1s/step - loss: 0.4971 - accuracy: 0.9435 - val_loss: 2.0291 - val_accuracy: 0.6250\n",
            "Epoch 55/100\n",
            " 87/112 [======================>.......] - ETA: 28s - loss: 0.5049 - accuracy: 0.9438"
          ]
        },
        {
          "ename": "KeyboardInterrupt",
          "evalue": "ignored",
          "output_type": "error",
          "traceback": [
            "\u001b[0;31m---------------------------------------------------------------------------\u001b[0m",
            "\u001b[0;31mKeyboardInterrupt\u001b[0m                         Traceback (most recent call last)",
            "\u001b[0;32m<ipython-input-52-7ee3f5525158>\u001b[0m in \u001b[0;36m<module>\u001b[0;34m\u001b[0m\n\u001b[1;32m      4\u001b[0m     \u001b[0mepochs\u001b[0m\u001b[0;34m=\u001b[0m\u001b[0;36m100\u001b[0m\u001b[0;34m,\u001b[0m\u001b[0;34m\u001b[0m\u001b[0;34m\u001b[0m\u001b[0m\n\u001b[1;32m      5\u001b[0m     \u001b[0mvalidation_data\u001b[0m\u001b[0;34m=\u001b[0m\u001b[0mval_generator\u001b[0m\u001b[0;34m,\u001b[0m\u001b[0;34m\u001b[0m\u001b[0;34m\u001b[0m\u001b[0m\n\u001b[0;32m----> 6\u001b[0;31m     validation_steps= val_generator.n // val_generator.batch_size)\n\u001b[0m\u001b[1;32m      7\u001b[0m \u001b[0;34m\u001b[0m\u001b[0m\n\u001b[1;32m      8\u001b[0m \u001b[0;31m# model_keras.save_weights('first_try.h5')  # always save your weights after training or during training\u001b[0m\u001b[0;34m\u001b[0m\u001b[0;34m\u001b[0m\u001b[0;34m\u001b[0m\u001b[0m\n",
            "\u001b[0;32m/usr/local/lib/python3.7/dist-packages/keras/utils/traceback_utils.py\u001b[0m in \u001b[0;36merror_handler\u001b[0;34m(*args, **kwargs)\u001b[0m\n\u001b[1;32m     62\u001b[0m     \u001b[0mfiltered_tb\u001b[0m \u001b[0;34m=\u001b[0m \u001b[0;32mNone\u001b[0m\u001b[0;34m\u001b[0m\u001b[0;34m\u001b[0m\u001b[0m\n\u001b[1;32m     63\u001b[0m     \u001b[0;32mtry\u001b[0m\u001b[0;34m:\u001b[0m\u001b[0;34m\u001b[0m\u001b[0;34m\u001b[0m\u001b[0m\n\u001b[0;32m---> 64\u001b[0;31m       \u001b[0;32mreturn\u001b[0m \u001b[0mfn\u001b[0m\u001b[0;34m(\u001b[0m\u001b[0;34m*\u001b[0m\u001b[0margs\u001b[0m\u001b[0;34m,\u001b[0m \u001b[0;34m**\u001b[0m\u001b[0mkwargs\u001b[0m\u001b[0;34m)\u001b[0m\u001b[0;34m\u001b[0m\u001b[0;34m\u001b[0m\u001b[0m\n\u001b[0m\u001b[1;32m     65\u001b[0m     \u001b[0;32mexcept\u001b[0m \u001b[0mException\u001b[0m \u001b[0;32mas\u001b[0m \u001b[0me\u001b[0m\u001b[0;34m:\u001b[0m  \u001b[0;31m# pylint: disable=broad-except\u001b[0m\u001b[0;34m\u001b[0m\u001b[0;34m\u001b[0m\u001b[0m\n\u001b[1;32m     66\u001b[0m       \u001b[0mfiltered_tb\u001b[0m \u001b[0;34m=\u001b[0m \u001b[0m_process_traceback_frames\u001b[0m\u001b[0;34m(\u001b[0m\u001b[0me\u001b[0m\u001b[0;34m.\u001b[0m\u001b[0m__traceback__\u001b[0m\u001b[0;34m)\u001b[0m\u001b[0;34m\u001b[0m\u001b[0;34m\u001b[0m\u001b[0m\n",
            "\u001b[0;32m/usr/local/lib/python3.7/dist-packages/keras/engine/training.py\u001b[0m in \u001b[0;36mfit\u001b[0;34m(self, x, y, batch_size, epochs, verbose, callbacks, validation_split, validation_data, shuffle, class_weight, sample_weight, initial_epoch, steps_per_epoch, validation_steps, validation_batch_size, validation_freq, max_queue_size, workers, use_multiprocessing)\u001b[0m\n\u001b[1;32m   1407\u001b[0m                 _r=1):\n\u001b[1;32m   1408\u001b[0m               \u001b[0mcallbacks\u001b[0m\u001b[0;34m.\u001b[0m\u001b[0mon_train_batch_begin\u001b[0m\u001b[0;34m(\u001b[0m\u001b[0mstep\u001b[0m\u001b[0;34m)\u001b[0m\u001b[0;34m\u001b[0m\u001b[0;34m\u001b[0m\u001b[0m\n\u001b[0;32m-> 1409\u001b[0;31m               \u001b[0mtmp_logs\u001b[0m \u001b[0;34m=\u001b[0m \u001b[0mself\u001b[0m\u001b[0;34m.\u001b[0m\u001b[0mtrain_function\u001b[0m\u001b[0;34m(\u001b[0m\u001b[0miterator\u001b[0m\u001b[0;34m)\u001b[0m\u001b[0;34m\u001b[0m\u001b[0;34m\u001b[0m\u001b[0m\n\u001b[0m\u001b[1;32m   1410\u001b[0m               \u001b[0;32mif\u001b[0m \u001b[0mdata_handler\u001b[0m\u001b[0;34m.\u001b[0m\u001b[0mshould_sync\u001b[0m\u001b[0;34m:\u001b[0m\u001b[0;34m\u001b[0m\u001b[0;34m\u001b[0m\u001b[0m\n\u001b[1;32m   1411\u001b[0m                 \u001b[0mcontext\u001b[0m\u001b[0;34m.\u001b[0m\u001b[0masync_wait\u001b[0m\u001b[0;34m(\u001b[0m\u001b[0;34m)\u001b[0m\u001b[0;34m\u001b[0m\u001b[0;34m\u001b[0m\u001b[0m\n",
            "\u001b[0;32m/usr/local/lib/python3.7/dist-packages/tensorflow/python/util/traceback_utils.py\u001b[0m in \u001b[0;36merror_handler\u001b[0;34m(*args, **kwargs)\u001b[0m\n\u001b[1;32m    148\u001b[0m     \u001b[0mfiltered_tb\u001b[0m \u001b[0;34m=\u001b[0m \u001b[0;32mNone\u001b[0m\u001b[0;34m\u001b[0m\u001b[0;34m\u001b[0m\u001b[0m\n\u001b[1;32m    149\u001b[0m     \u001b[0;32mtry\u001b[0m\u001b[0;34m:\u001b[0m\u001b[0;34m\u001b[0m\u001b[0;34m\u001b[0m\u001b[0m\n\u001b[0;32m--> 150\u001b[0;31m       \u001b[0;32mreturn\u001b[0m \u001b[0mfn\u001b[0m\u001b[0;34m(\u001b[0m\u001b[0;34m*\u001b[0m\u001b[0margs\u001b[0m\u001b[0;34m,\u001b[0m \u001b[0;34m**\u001b[0m\u001b[0mkwargs\u001b[0m\u001b[0;34m)\u001b[0m\u001b[0;34m\u001b[0m\u001b[0;34m\u001b[0m\u001b[0m\n\u001b[0m\u001b[1;32m    151\u001b[0m     \u001b[0;32mexcept\u001b[0m \u001b[0mException\u001b[0m \u001b[0;32mas\u001b[0m \u001b[0me\u001b[0m\u001b[0;34m:\u001b[0m\u001b[0;34m\u001b[0m\u001b[0;34m\u001b[0m\u001b[0m\n\u001b[1;32m    152\u001b[0m       \u001b[0mfiltered_tb\u001b[0m \u001b[0;34m=\u001b[0m \u001b[0m_process_traceback_frames\u001b[0m\u001b[0;34m(\u001b[0m\u001b[0me\u001b[0m\u001b[0;34m.\u001b[0m\u001b[0m__traceback__\u001b[0m\u001b[0;34m)\u001b[0m\u001b[0;34m\u001b[0m\u001b[0;34m\u001b[0m\u001b[0m\n",
            "\u001b[0;32m/usr/local/lib/python3.7/dist-packages/tensorflow/python/eager/def_function.py\u001b[0m in \u001b[0;36m__call__\u001b[0;34m(self, *args, **kwds)\u001b[0m\n\u001b[1;32m    913\u001b[0m \u001b[0;34m\u001b[0m\u001b[0m\n\u001b[1;32m    914\u001b[0m       \u001b[0;32mwith\u001b[0m \u001b[0mOptionalXlaContext\u001b[0m\u001b[0;34m(\u001b[0m\u001b[0mself\u001b[0m\u001b[0;34m.\u001b[0m\u001b[0m_jit_compile\u001b[0m\u001b[0;34m)\u001b[0m\u001b[0;34m:\u001b[0m\u001b[0;34m\u001b[0m\u001b[0;34m\u001b[0m\u001b[0m\n\u001b[0;32m--> 915\u001b[0;31m         \u001b[0mresult\u001b[0m \u001b[0;34m=\u001b[0m \u001b[0mself\u001b[0m\u001b[0;34m.\u001b[0m\u001b[0m_call\u001b[0m\u001b[0;34m(\u001b[0m\u001b[0;34m*\u001b[0m\u001b[0margs\u001b[0m\u001b[0;34m,\u001b[0m \u001b[0;34m**\u001b[0m\u001b[0mkwds\u001b[0m\u001b[0;34m)\u001b[0m\u001b[0;34m\u001b[0m\u001b[0;34m\u001b[0m\u001b[0m\n\u001b[0m\u001b[1;32m    916\u001b[0m \u001b[0;34m\u001b[0m\u001b[0m\n\u001b[1;32m    917\u001b[0m       \u001b[0mnew_tracing_count\u001b[0m \u001b[0;34m=\u001b[0m \u001b[0mself\u001b[0m\u001b[0;34m.\u001b[0m\u001b[0mexperimental_get_tracing_count\u001b[0m\u001b[0;34m(\u001b[0m\u001b[0;34m)\u001b[0m\u001b[0;34m\u001b[0m\u001b[0;34m\u001b[0m\u001b[0m\n",
            "\u001b[0;32m/usr/local/lib/python3.7/dist-packages/tensorflow/python/eager/def_function.py\u001b[0m in \u001b[0;36m_call\u001b[0;34m(self, *args, **kwds)\u001b[0m\n\u001b[1;32m    945\u001b[0m       \u001b[0;31m# In this case we have created variables on the first call, so we run the\u001b[0m\u001b[0;34m\u001b[0m\u001b[0;34m\u001b[0m\u001b[0;34m\u001b[0m\u001b[0m\n\u001b[1;32m    946\u001b[0m       \u001b[0;31m# defunned version which is guaranteed to never create variables.\u001b[0m\u001b[0;34m\u001b[0m\u001b[0;34m\u001b[0m\u001b[0;34m\u001b[0m\u001b[0m\n\u001b[0;32m--> 947\u001b[0;31m       \u001b[0;32mreturn\u001b[0m \u001b[0mself\u001b[0m\u001b[0;34m.\u001b[0m\u001b[0m_stateless_fn\u001b[0m\u001b[0;34m(\u001b[0m\u001b[0;34m*\u001b[0m\u001b[0margs\u001b[0m\u001b[0;34m,\u001b[0m \u001b[0;34m**\u001b[0m\u001b[0mkwds\u001b[0m\u001b[0;34m)\u001b[0m  \u001b[0;31m# pylint: disable=not-callable\u001b[0m\u001b[0;34m\u001b[0m\u001b[0;34m\u001b[0m\u001b[0m\n\u001b[0m\u001b[1;32m    948\u001b[0m     \u001b[0;32melif\u001b[0m \u001b[0mself\u001b[0m\u001b[0;34m.\u001b[0m\u001b[0m_stateful_fn\u001b[0m \u001b[0;32mis\u001b[0m \u001b[0;32mnot\u001b[0m \u001b[0;32mNone\u001b[0m\u001b[0;34m:\u001b[0m\u001b[0;34m\u001b[0m\u001b[0;34m\u001b[0m\u001b[0m\n\u001b[1;32m    949\u001b[0m       \u001b[0;31m# Release the lock early so that multiple threads can perform the call\u001b[0m\u001b[0;34m\u001b[0m\u001b[0;34m\u001b[0m\u001b[0;34m\u001b[0m\u001b[0m\n",
            "\u001b[0;32m/usr/local/lib/python3.7/dist-packages/tensorflow/python/eager/function.py\u001b[0m in \u001b[0;36m__call__\u001b[0;34m(self, *args, **kwargs)\u001b[0m\n\u001b[1;32m   2452\u001b[0m        filtered_flat_args) = self._maybe_define_function(args, kwargs)\n\u001b[1;32m   2453\u001b[0m     return graph_function._call_flat(\n\u001b[0;32m-> 2454\u001b[0;31m         filtered_flat_args, captured_inputs=graph_function.captured_inputs)  # pylint: disable=protected-access\n\u001b[0m\u001b[1;32m   2455\u001b[0m \u001b[0;34m\u001b[0m\u001b[0m\n\u001b[1;32m   2456\u001b[0m   \u001b[0;34m@\u001b[0m\u001b[0mproperty\u001b[0m\u001b[0;34m\u001b[0m\u001b[0;34m\u001b[0m\u001b[0m\n",
            "\u001b[0;32m/usr/local/lib/python3.7/dist-packages/tensorflow/python/eager/function.py\u001b[0m in \u001b[0;36m_call_flat\u001b[0;34m(self, args, captured_inputs, cancellation_manager)\u001b[0m\n\u001b[1;32m   1859\u001b[0m       \u001b[0;31m# No tape is watching; skip to running the function.\u001b[0m\u001b[0;34m\u001b[0m\u001b[0;34m\u001b[0m\u001b[0;34m\u001b[0m\u001b[0m\n\u001b[1;32m   1860\u001b[0m       return self._build_call_outputs(self._inference_function.call(\n\u001b[0;32m-> 1861\u001b[0;31m           ctx, args, cancellation_manager=cancellation_manager))\n\u001b[0m\u001b[1;32m   1862\u001b[0m     forward_backward = self._select_forward_and_backward_functions(\n\u001b[1;32m   1863\u001b[0m         \u001b[0margs\u001b[0m\u001b[0;34m,\u001b[0m\u001b[0;34m\u001b[0m\u001b[0;34m\u001b[0m\u001b[0m\n",
            "\u001b[0;32m/usr/local/lib/python3.7/dist-packages/tensorflow/python/eager/function.py\u001b[0m in \u001b[0;36mcall\u001b[0;34m(self, ctx, args, cancellation_manager)\u001b[0m\n\u001b[1;32m    500\u001b[0m               \u001b[0minputs\u001b[0m\u001b[0;34m=\u001b[0m\u001b[0margs\u001b[0m\u001b[0;34m,\u001b[0m\u001b[0;34m\u001b[0m\u001b[0;34m\u001b[0m\u001b[0m\n\u001b[1;32m    501\u001b[0m               \u001b[0mattrs\u001b[0m\u001b[0;34m=\u001b[0m\u001b[0mattrs\u001b[0m\u001b[0;34m,\u001b[0m\u001b[0;34m\u001b[0m\u001b[0;34m\u001b[0m\u001b[0m\n\u001b[0;32m--> 502\u001b[0;31m               ctx=ctx)\n\u001b[0m\u001b[1;32m    503\u001b[0m         \u001b[0;32melse\u001b[0m\u001b[0;34m:\u001b[0m\u001b[0;34m\u001b[0m\u001b[0;34m\u001b[0m\u001b[0m\n\u001b[1;32m    504\u001b[0m           outputs = execute.execute_with_cancellation(\n",
            "\u001b[0;32m/usr/local/lib/python3.7/dist-packages/tensorflow/python/eager/execute.py\u001b[0m in \u001b[0;36mquick_execute\u001b[0;34m(op_name, num_outputs, inputs, attrs, ctx, name)\u001b[0m\n\u001b[1;32m     53\u001b[0m     \u001b[0mctx\u001b[0m\u001b[0;34m.\u001b[0m\u001b[0mensure_initialized\u001b[0m\u001b[0;34m(\u001b[0m\u001b[0;34m)\u001b[0m\u001b[0;34m\u001b[0m\u001b[0;34m\u001b[0m\u001b[0m\n\u001b[1;32m     54\u001b[0m     tensors = pywrap_tfe.TFE_Py_Execute(ctx._handle, device_name, op_name,\n\u001b[0;32m---> 55\u001b[0;31m                                         inputs, attrs, num_outputs)\n\u001b[0m\u001b[1;32m     56\u001b[0m   \u001b[0;32mexcept\u001b[0m \u001b[0mcore\u001b[0m\u001b[0;34m.\u001b[0m\u001b[0m_NotOkStatusException\u001b[0m \u001b[0;32mas\u001b[0m \u001b[0me\u001b[0m\u001b[0;34m:\u001b[0m\u001b[0;34m\u001b[0m\u001b[0;34m\u001b[0m\u001b[0m\n\u001b[1;32m     57\u001b[0m     \u001b[0;32mif\u001b[0m \u001b[0mname\u001b[0m \u001b[0;32mis\u001b[0m \u001b[0;32mnot\u001b[0m \u001b[0;32mNone\u001b[0m\u001b[0;34m:\u001b[0m\u001b[0;34m\u001b[0m\u001b[0;34m\u001b[0m\u001b[0m\n",
            "\u001b[0;31mKeyboardInterrupt\u001b[0m: "
          ]
        }
      ],
      "source": [
        "history = net.fit(\n",
        "    train_generator,\n",
        "    steps_per_epoch= train_generator.n // train_generator.batch_size,\n",
        "    epochs=100,\n",
        "    validation_data=val_generator,\n",
        "    validation_steps= val_generator.n // val_generator.batch_size)\n",
        "\n",
        "# model_keras.save_weights('first_try.h5')  # always save your weights after training or during training"
      ]
    },
    {
      "cell_type": "code",
      "execution_count": null,
      "metadata": {
        "id": "q1EWO0nLMNTi"
      },
      "outputs": [],
      "source": [
        "# PLOT THEM TOGETHER\n",
        "# Visualization of the learning curves\n",
        "\n",
        "# VISUALIZZIAMO NUOVAMENTE L'OUTPUT IN TERMINI DI LOSS FUNCTION\n",
        "plt.subplot(1, 2, 1)\n",
        "plt.plot(history.history['loss'])\n",
        "plt.plot(history.history['val_loss'])\n",
        "plt.ylim([0.0, 3.0]) # è difficile da dire a priori\n",
        "plt.xlabel('Epoch')\n",
        "plt.ylabel('Loss')\n",
        "plt.legend(['train', 'valid'])\n",
        "\n",
        "plt.subplot(1, 2, 2)\n",
        "plt.plot(history.history['accuracy'])\n",
        "plt.plot(history.history['val_accuracy'])\n",
        "plt.ylim([0.0, 1.0]) # 0.5 è il minimo sindacale - dummy classifier fa 50% - fino al massimo 1. \n",
        "plt.xlabel('Epoch')\n",
        "plt.ylabel('Accuracy')\n",
        "plt.legend(['train', 'valid'])"
      ]
    },
    {
      "cell_type": "markdown",
      "metadata": {
        "id": "LJcpQKBp0JJW"
      },
      "source": [
        "## 5.7 Model V04 - Transfer learning (and dropout)"
      ]
    },
    {
      "cell_type": "markdown",
      "source": [
        "Usa questo come comparazione: \n",
        "\n",
        "- https://medium.com/analytics-vidhya/indian-food-image-classification-using-transfer-learning-b8878187ddd1"
      ],
      "metadata": {
        "id": "j3E7HMdqM2vu"
      }
    },
    {
      "cell_type": "markdown",
      "metadata": {
        "id": "ddL-xctx3Sgz"
      },
      "source": [
        "The goal of using a pretrained model is that this model has been built to be very good at extracting useful features from images (it is called _feature extractor_).\n",
        "The all convolutional layer that is not meant to do classification (the last layer) has the goal of extracting features from the images.\n",
        "We will use those features in order to classify our data.\n",
        "\n",
        "(ESTENDERE QUESTA SPIEGAZIONE IN MANIERA MIGLIORE!)"
      ]
    },
    {
      "cell_type": "code",
      "execution_count": null,
      "metadata": {
        "colab": {
          "base_uri": "https://localhost:8080/"
        },
        "id": "B5pbigr00N1B",
        "outputId": "0f383a7c-ffe9-49d9-884d-cc8027375079"
      },
      "outputs": [
        {
          "output_type": "stream",
          "name": "stdout",
          "text": [
            "Downloading data from https://storage.googleapis.com/tensorflow/keras-applications/mobilenet_v2/mobilenet_v2_weights_tf_dim_ordering_tf_kernels_1.0_224_no_top.h5\n",
            "9406464/9406464 [==============================] - 0s 0us/step\n"
          ]
        }
      ],
      "source": [
        "# INSERISCI SITO E SPIEGAZIONE COME RIFERIMENTO: https://www.image-net.org/download.php\n",
        "\n",
        "pretrained_model = tf.keras.applications.MobileNetV2(\n",
        "    input_shape = (224, 224, 3),\n",
        "    # include_top means: do you want to keep the classification layer, the final classification that the original model was training on.\n",
        "    # MobileNetV2 was originally trained on the ImageNet dataset. Because the final layer has 1000 classes, if we would keep it, we\n",
        "    # would have 1000 classes at the end. We do not want that but, instead, we want our own classification layer at the end.\n",
        "    include_top=False, \n",
        "    # We keep the same weights\n",
        "    weights=\"imagenet\",\n",
        "    # Average pooling at the end: it will ensure that the output of the pretrained model is one-dimensional (with n classes).\n",
        "    pooling=\"avg\",\n",
        "    random_state = SEED_VALUE\n",
        ")\n",
        "\n",
        "# With the following we ensure that we do not mess with the original\n",
        "# imagenet weights\n",
        "pretrained_model.trainable = False"
      ]
    },
    {
      "cell_type": "code",
      "execution_count": null,
      "metadata": {
        "id": "ZFSz75dezban"
      },
      "outputs": [],
      "source": [
        "# ARCHITECTURE DEFINITION FOR MODEL V04 PRETRAINED ON IMAGENET\n",
        "# inputs = pretrained_model.input\n",
        "\n",
        "\n",
        "model_pretrained = tf.keras.Sequential([\n",
        "    pretrained_model, \n",
        "    tf.keras.layers.Dropout(0.2),\n",
        "    # tf.keras.layers.MaxPooling2D(),\n",
        "    tf.keras.layers.Dense(num_classes, \n",
        "                          activation=\"softmax\",\n",
        "                          kernel_regularizer=tf.keras.regularizers.l2(0.001)),\n",
        "      ]\n",
        "    )\n",
        "\n",
        "########################################\n",
        "# ADD DROPOUT\n",
        "# x = keras.layers.Dropout(.1)(x)\n",
        "# x = keras.layers.Dense(64, activation=\"relu\", kernel_regularizer=tf.keras.regularizers.l2(0.001))(x)\n",
        "\n",
        "# We are using \"softmax\" since we want 9 probability values that all sum to 1 and the highest probability\n",
        "# will be our classification result.\n",
        "# For the regularizer: https://github.com/christianversloot/machine-learning-articles/blob/main/how-to-use-l1-l2-and-elastic-net-regularization-with-keras.md\n",
        "# outputs = keras.layers.Dense(num_classes, activation=\"softmax\", kernel_regularizer=tf.keras.regularizers.l2(0.001))(x)\n",
        "# outputs = keras.layers.Dense(num_classes, activation=\"softmax\", kernel_regularizer=tf.keras.regularizers.l2(0.001))(x)\n",
        "\n",
        "# net = keras.Model(inputs, outputs)"
      ]
    },
    {
      "cell_type": "code",
      "execution_count": null,
      "metadata": {
        "id": "PXr6-CYSzbYH",
        "colab": {
          "base_uri": "https://localhost:8080/"
        },
        "outputId": "ba3470a5-903b-49bc-e6f8-21e5d3ec1d13"
      },
      "outputs": [
        {
          "output_type": "stream",
          "name": "stdout",
          "text": [
            "Model: \"sequential\"\n",
            "_________________________________________________________________\n",
            " Layer (type)                Output Shape              Param #   \n",
            "=================================================================\n",
            " mobilenetv2_1.00_224 (Funct  (None, 1280)             2257984   \n",
            " ional)                                                          \n",
            "                                                                 \n",
            " dropout (Dropout)           (None, 1280)              0         \n",
            "                                                                 \n",
            " dense (Dense)               (None, 9)                 11529     \n",
            "                                                                 \n",
            "=================================================================\n",
            "Total params: 2,269,513\n",
            "Trainable params: 11,529\n",
            "Non-trainable params: 2,257,984\n",
            "_________________________________________________________________\n",
            "None\n"
          ]
        }
      ],
      "source": [
        "print(model_pretrained.summary())"
      ]
    },
    {
      "cell_type": "code",
      "execution_count": null,
      "metadata": {
        "id": "fsuQ4nqs0Nyl"
      },
      "outputs": [],
      "source": [
        "model_pretrained.compile(loss=keras.losses.categorical_crossentropy,\n",
        "            optimizer= keras.optimizers.Adam(learning_rate=0.0001),\n",
        "            metrics=['accuracy'])"
      ]
    },
    {
      "cell_type": "code",
      "execution_count": null,
      "metadata": {
        "colab": {
          "base_uri": "https://localhost:8080/",
          "height": 1000
        },
        "id": "z-5aIdic5upG",
        "outputId": "2be68b06-ea8e-4390-a229-2db25c2e6b61"
      },
      "outputs": [
        {
          "output_type": "stream",
          "name": "stdout",
          "text": [
            "Epoch 1/50\n",
            "112/112 [==============================] - 618s 5s/step - loss: 2.4625 - accuracy: 0.1729 - val_loss: 2.1176 - val_accuracy: 0.2083\n",
            "Epoch 2/50\n",
            "112/112 [==============================] - 76s 675ms/step - loss: 1.7306 - accuracy: 0.3833 - val_loss: 1.5197 - val_accuracy: 0.5278\n",
            "Epoch 3/50\n",
            "112/112 [==============================] - 75s 672ms/step - loss: 1.2933 - accuracy: 0.5809 - val_loss: 1.1904 - val_accuracy: 0.6528\n",
            "Epoch 4/50\n",
            "112/112 [==============================] - 76s 679ms/step - loss: 1.0119 - accuracy: 0.7112 - val_loss: 0.9667 - val_accuracy: 0.7500\n",
            "Epoch 5/50\n",
            "112/112 [==============================] - 76s 679ms/step - loss: 0.8194 - accuracy: 0.7834 - val_loss: 0.8138 - val_accuracy: 0.7847\n",
            "Epoch 6/50\n",
            "112/112 [==============================] - 87s 780ms/step - loss: 0.7078 - accuracy: 0.8075 - val_loss: 0.6961 - val_accuracy: 0.8264\n",
            "Epoch 7/50\n",
            "112/112 [==============================] - 88s 782ms/step - loss: 0.6207 - accuracy: 0.8377 - val_loss: 0.6372 - val_accuracy: 0.8542\n",
            "Epoch 8/50\n",
            "112/112 [==============================] - 76s 675ms/step - loss: 0.5583 - accuracy: 0.8646 - val_loss: 0.5852 - val_accuracy: 0.8472\n",
            "Epoch 9/50\n",
            "112/112 [==============================] - 75s 664ms/step - loss: 0.4986 - accuracy: 0.8797 - val_loss: 0.5354 - val_accuracy: 0.8750\n",
            "Epoch 10/50\n",
            "112/112 [==============================] - 75s 665ms/step - loss: 0.4553 - accuracy: 0.8909 - val_loss: 0.5081 - val_accuracy: 0.8750\n",
            "Epoch 11/50\n",
            "112/112 [==============================] - 75s 669ms/step - loss: 0.4231 - accuracy: 0.9060 - val_loss: 0.4913 - val_accuracy: 0.8750\n",
            "Epoch 12/50\n",
            "112/112 [==============================] - 73s 650ms/step - loss: 0.3696 - accuracy: 0.9233 - val_loss: 0.4554 - val_accuracy: 0.8819\n",
            "Epoch 13/50\n",
            "112/112 [==============================] - 73s 649ms/step - loss: 0.3550 - accuracy: 0.9245 - val_loss: 0.4398 - val_accuracy: 0.9028\n",
            "Epoch 14/50\n",
            "112/112 [==============================] - 79s 701ms/step - loss: 0.3276 - accuracy: 0.9317 - val_loss: 0.4350 - val_accuracy: 0.8958\n",
            "Epoch 15/50\n",
            "112/112 [==============================] - 73s 647ms/step - loss: 0.3300 - accuracy: 0.9233 - val_loss: 0.4072 - val_accuracy: 0.9097\n",
            "Epoch 16/50\n",
            "112/112 [==============================] - 74s 655ms/step - loss: 0.2927 - accuracy: 0.9418 - val_loss: 0.4048 - val_accuracy: 0.9097\n",
            "Epoch 17/50\n",
            "112/112 [==============================] - 74s 656ms/step - loss: 0.2695 - accuracy: 0.9519 - val_loss: 0.3860 - val_accuracy: 0.9028\n",
            "Epoch 18/50\n",
            "112/112 [==============================] - 74s 656ms/step - loss: 0.2698 - accuracy: 0.9379 - val_loss: 0.3929 - val_accuracy: 0.9028\n",
            "Epoch 19/50\n",
            "112/112 [==============================] - 74s 657ms/step - loss: 0.2494 - accuracy: 0.9541 - val_loss: 0.3750 - val_accuracy: 0.8958\n",
            "Epoch 20/50\n",
            "112/112 [==============================] - 74s 660ms/step - loss: 0.2489 - accuracy: 0.9396 - val_loss: 0.3648 - val_accuracy: 0.9097\n",
            "Epoch 21/50\n",
            "112/112 [==============================] - 76s 681ms/step - loss: 0.2370 - accuracy: 0.9524 - val_loss: 0.3608 - val_accuracy: 0.8958\n",
            "Epoch 22/50\n",
            "112/112 [==============================] - 75s 666ms/step - loss: 0.2197 - accuracy: 0.9591 - val_loss: 0.3578 - val_accuracy: 0.8958\n",
            "Epoch 23/50\n",
            "112/112 [==============================] - 75s 664ms/step - loss: 0.2133 - accuracy: 0.9558 - val_loss: 0.3501 - val_accuracy: 0.9097\n",
            "Epoch 24/50\n",
            "112/112 [==============================] - 74s 661ms/step - loss: 0.2070 - accuracy: 0.9580 - val_loss: 0.3441 - val_accuracy: 0.9028\n",
            "Epoch 25/50\n",
            "112/112 [==============================] - 74s 660ms/step - loss: 0.2011 - accuracy: 0.9580 - val_loss: 0.3356 - val_accuracy: 0.9167\n",
            "Epoch 26/50\n",
            "112/112 [==============================] - 78s 698ms/step - loss: 0.1984 - accuracy: 0.9580 - val_loss: 0.3394 - val_accuracy: 0.9028\n",
            "Epoch 27/50\n",
            "112/112 [==============================] - 75s 669ms/step - loss: 0.1731 - accuracy: 0.9715 - val_loss: 0.3350 - val_accuracy: 0.9028\n",
            "Epoch 28/50\n",
            "112/112 [==============================] - 75s 666ms/step - loss: 0.1795 - accuracy: 0.9653 - val_loss: 0.3351 - val_accuracy: 0.9167\n",
            "Epoch 29/50\n",
            "112/112 [==============================] - 75s 669ms/step - loss: 0.1788 - accuracy: 0.9625 - val_loss: 0.3242 - val_accuracy: 0.9028\n",
            "Epoch 30/50\n",
            "112/112 [==============================] - 75s 667ms/step - loss: 0.1564 - accuracy: 0.9743 - val_loss: 0.3293 - val_accuracy: 0.9028\n",
            "Epoch 31/50\n",
            " 17/112 [===>..........................] - ETA: 59s - loss: 0.1541 - accuracy: 0.9779 "
          ]
        },
        {
          "output_type": "error",
          "ename": "KeyboardInterrupt",
          "evalue": "ignored",
          "traceback": [
            "\u001b[0;31m---------------------------------------------------------------------------\u001b[0m",
            "\u001b[0;31mKeyboardInterrupt\u001b[0m                         Traceback (most recent call last)",
            "\u001b[0;32m<ipython-input-12-1869971848c3>\u001b[0m in \u001b[0;36m<module>\u001b[0;34m\u001b[0m\n\u001b[1;32m      3\u001b[0m                   \u001b[0msteps_per_epoch\u001b[0m \u001b[0;34m=\u001b[0m \u001b[0mtrain_generator\u001b[0m\u001b[0;34m.\u001b[0m\u001b[0mn\u001b[0m \u001b[0;34m//\u001b[0m \u001b[0mtrain_generator\u001b[0m\u001b[0;34m.\u001b[0m\u001b[0mbatch_size\u001b[0m\u001b[0;34m,\u001b[0m\u001b[0;34m\u001b[0m\u001b[0;34m\u001b[0m\u001b[0m\n\u001b[1;32m      4\u001b[0m                   \u001b[0mvalidation_steps\u001b[0m \u001b[0;34m=\u001b[0m \u001b[0mtest_generator\u001b[0m\u001b[0;34m.\u001b[0m\u001b[0mn\u001b[0m \u001b[0;34m//\u001b[0m \u001b[0mtest_generator\u001b[0m\u001b[0;34m.\u001b[0m\u001b[0mbatch_size\u001b[0m\u001b[0;34m,\u001b[0m\u001b[0;34m\u001b[0m\u001b[0;34m\u001b[0m\u001b[0m\n\u001b[0;32m----> 5\u001b[0;31m                   epochs=50) #,\n\u001b[0m\u001b[1;32m      6\u001b[0m                   \u001b[0;31m# callbacks = [callback])\u001b[0m\u001b[0;34m\u001b[0m\u001b[0;34m\u001b[0m\u001b[0;34m\u001b[0m\u001b[0m\n",
            "\u001b[0;32m/usr/local/lib/python3.7/dist-packages/keras/utils/traceback_utils.py\u001b[0m in \u001b[0;36merror_handler\u001b[0;34m(*args, **kwargs)\u001b[0m\n\u001b[1;32m     62\u001b[0m     \u001b[0mfiltered_tb\u001b[0m \u001b[0;34m=\u001b[0m \u001b[0;32mNone\u001b[0m\u001b[0;34m\u001b[0m\u001b[0;34m\u001b[0m\u001b[0m\n\u001b[1;32m     63\u001b[0m     \u001b[0;32mtry\u001b[0m\u001b[0;34m:\u001b[0m\u001b[0;34m\u001b[0m\u001b[0;34m\u001b[0m\u001b[0m\n\u001b[0;32m---> 64\u001b[0;31m       \u001b[0;32mreturn\u001b[0m \u001b[0mfn\u001b[0m\u001b[0;34m(\u001b[0m\u001b[0;34m*\u001b[0m\u001b[0margs\u001b[0m\u001b[0;34m,\u001b[0m \u001b[0;34m**\u001b[0m\u001b[0mkwargs\u001b[0m\u001b[0;34m)\u001b[0m\u001b[0;34m\u001b[0m\u001b[0;34m\u001b[0m\u001b[0m\n\u001b[0m\u001b[1;32m     65\u001b[0m     \u001b[0;32mexcept\u001b[0m \u001b[0mException\u001b[0m \u001b[0;32mas\u001b[0m \u001b[0me\u001b[0m\u001b[0;34m:\u001b[0m  \u001b[0;31m# pylint: disable=broad-except\u001b[0m\u001b[0;34m\u001b[0m\u001b[0;34m\u001b[0m\u001b[0m\n\u001b[1;32m     66\u001b[0m       \u001b[0mfiltered_tb\u001b[0m \u001b[0;34m=\u001b[0m \u001b[0m_process_traceback_frames\u001b[0m\u001b[0;34m(\u001b[0m\u001b[0me\u001b[0m\u001b[0;34m.\u001b[0m\u001b[0m__traceback__\u001b[0m\u001b[0;34m)\u001b[0m\u001b[0;34m\u001b[0m\u001b[0;34m\u001b[0m\u001b[0m\n",
            "\u001b[0;32m/usr/local/lib/python3.7/dist-packages/keras/engine/training.py\u001b[0m in \u001b[0;36mfit\u001b[0;34m(self, x, y, batch_size, epochs, verbose, callbacks, validation_split, validation_data, shuffle, class_weight, sample_weight, initial_epoch, steps_per_epoch, validation_steps, validation_batch_size, validation_freq, max_queue_size, workers, use_multiprocessing)\u001b[0m\n\u001b[1;32m   1407\u001b[0m                 _r=1):\n\u001b[1;32m   1408\u001b[0m               \u001b[0mcallbacks\u001b[0m\u001b[0;34m.\u001b[0m\u001b[0mon_train_batch_begin\u001b[0m\u001b[0;34m(\u001b[0m\u001b[0mstep\u001b[0m\u001b[0;34m)\u001b[0m\u001b[0;34m\u001b[0m\u001b[0;34m\u001b[0m\u001b[0m\n\u001b[0;32m-> 1409\u001b[0;31m               \u001b[0mtmp_logs\u001b[0m \u001b[0;34m=\u001b[0m \u001b[0mself\u001b[0m\u001b[0;34m.\u001b[0m\u001b[0mtrain_function\u001b[0m\u001b[0;34m(\u001b[0m\u001b[0miterator\u001b[0m\u001b[0;34m)\u001b[0m\u001b[0;34m\u001b[0m\u001b[0;34m\u001b[0m\u001b[0m\n\u001b[0m\u001b[1;32m   1410\u001b[0m               \u001b[0;32mif\u001b[0m \u001b[0mdata_handler\u001b[0m\u001b[0;34m.\u001b[0m\u001b[0mshould_sync\u001b[0m\u001b[0;34m:\u001b[0m\u001b[0;34m\u001b[0m\u001b[0;34m\u001b[0m\u001b[0m\n\u001b[1;32m   1411\u001b[0m                 \u001b[0mcontext\u001b[0m\u001b[0;34m.\u001b[0m\u001b[0masync_wait\u001b[0m\u001b[0;34m(\u001b[0m\u001b[0;34m)\u001b[0m\u001b[0;34m\u001b[0m\u001b[0;34m\u001b[0m\u001b[0m\n",
            "\u001b[0;32m/usr/local/lib/python3.7/dist-packages/tensorflow/python/util/traceback_utils.py\u001b[0m in \u001b[0;36merror_handler\u001b[0;34m(*args, **kwargs)\u001b[0m\n\u001b[1;32m    148\u001b[0m     \u001b[0mfiltered_tb\u001b[0m \u001b[0;34m=\u001b[0m \u001b[0;32mNone\u001b[0m\u001b[0;34m\u001b[0m\u001b[0;34m\u001b[0m\u001b[0m\n\u001b[1;32m    149\u001b[0m     \u001b[0;32mtry\u001b[0m\u001b[0;34m:\u001b[0m\u001b[0;34m\u001b[0m\u001b[0;34m\u001b[0m\u001b[0m\n\u001b[0;32m--> 150\u001b[0;31m       \u001b[0;32mreturn\u001b[0m \u001b[0mfn\u001b[0m\u001b[0;34m(\u001b[0m\u001b[0;34m*\u001b[0m\u001b[0margs\u001b[0m\u001b[0;34m,\u001b[0m \u001b[0;34m**\u001b[0m\u001b[0mkwargs\u001b[0m\u001b[0;34m)\u001b[0m\u001b[0;34m\u001b[0m\u001b[0;34m\u001b[0m\u001b[0m\n\u001b[0m\u001b[1;32m    151\u001b[0m     \u001b[0;32mexcept\u001b[0m \u001b[0mException\u001b[0m \u001b[0;32mas\u001b[0m \u001b[0me\u001b[0m\u001b[0;34m:\u001b[0m\u001b[0;34m\u001b[0m\u001b[0;34m\u001b[0m\u001b[0m\n\u001b[1;32m    152\u001b[0m       \u001b[0mfiltered_tb\u001b[0m \u001b[0;34m=\u001b[0m \u001b[0m_process_traceback_frames\u001b[0m\u001b[0;34m(\u001b[0m\u001b[0me\u001b[0m\u001b[0;34m.\u001b[0m\u001b[0m__traceback__\u001b[0m\u001b[0;34m)\u001b[0m\u001b[0;34m\u001b[0m\u001b[0;34m\u001b[0m\u001b[0m\n",
            "\u001b[0;32m/usr/local/lib/python3.7/dist-packages/tensorflow/python/eager/def_function.py\u001b[0m in \u001b[0;36m__call__\u001b[0;34m(self, *args, **kwds)\u001b[0m\n\u001b[1;32m    913\u001b[0m \u001b[0;34m\u001b[0m\u001b[0m\n\u001b[1;32m    914\u001b[0m       \u001b[0;32mwith\u001b[0m \u001b[0mOptionalXlaContext\u001b[0m\u001b[0;34m(\u001b[0m\u001b[0mself\u001b[0m\u001b[0;34m.\u001b[0m\u001b[0m_jit_compile\u001b[0m\u001b[0;34m)\u001b[0m\u001b[0;34m:\u001b[0m\u001b[0;34m\u001b[0m\u001b[0;34m\u001b[0m\u001b[0m\n\u001b[0;32m--> 915\u001b[0;31m         \u001b[0mresult\u001b[0m \u001b[0;34m=\u001b[0m \u001b[0mself\u001b[0m\u001b[0;34m.\u001b[0m\u001b[0m_call\u001b[0m\u001b[0;34m(\u001b[0m\u001b[0;34m*\u001b[0m\u001b[0margs\u001b[0m\u001b[0;34m,\u001b[0m \u001b[0;34m**\u001b[0m\u001b[0mkwds\u001b[0m\u001b[0;34m)\u001b[0m\u001b[0;34m\u001b[0m\u001b[0;34m\u001b[0m\u001b[0m\n\u001b[0m\u001b[1;32m    916\u001b[0m \u001b[0;34m\u001b[0m\u001b[0m\n\u001b[1;32m    917\u001b[0m       \u001b[0mnew_tracing_count\u001b[0m \u001b[0;34m=\u001b[0m \u001b[0mself\u001b[0m\u001b[0;34m.\u001b[0m\u001b[0mexperimental_get_tracing_count\u001b[0m\u001b[0;34m(\u001b[0m\u001b[0;34m)\u001b[0m\u001b[0;34m\u001b[0m\u001b[0;34m\u001b[0m\u001b[0m\n",
            "\u001b[0;32m/usr/local/lib/python3.7/dist-packages/tensorflow/python/eager/def_function.py\u001b[0m in \u001b[0;36m_call\u001b[0;34m(self, *args, **kwds)\u001b[0m\n\u001b[1;32m    945\u001b[0m       \u001b[0;31m# In this case we have created variables on the first call, so we run the\u001b[0m\u001b[0;34m\u001b[0m\u001b[0;34m\u001b[0m\u001b[0;34m\u001b[0m\u001b[0m\n\u001b[1;32m    946\u001b[0m       \u001b[0;31m# defunned version which is guaranteed to never create variables.\u001b[0m\u001b[0;34m\u001b[0m\u001b[0;34m\u001b[0m\u001b[0;34m\u001b[0m\u001b[0m\n\u001b[0;32m--> 947\u001b[0;31m       \u001b[0;32mreturn\u001b[0m \u001b[0mself\u001b[0m\u001b[0;34m.\u001b[0m\u001b[0m_stateless_fn\u001b[0m\u001b[0;34m(\u001b[0m\u001b[0;34m*\u001b[0m\u001b[0margs\u001b[0m\u001b[0;34m,\u001b[0m \u001b[0;34m**\u001b[0m\u001b[0mkwds\u001b[0m\u001b[0;34m)\u001b[0m  \u001b[0;31m# pylint: disable=not-callable\u001b[0m\u001b[0;34m\u001b[0m\u001b[0;34m\u001b[0m\u001b[0m\n\u001b[0m\u001b[1;32m    948\u001b[0m     \u001b[0;32melif\u001b[0m \u001b[0mself\u001b[0m\u001b[0;34m.\u001b[0m\u001b[0m_stateful_fn\u001b[0m \u001b[0;32mis\u001b[0m \u001b[0;32mnot\u001b[0m \u001b[0;32mNone\u001b[0m\u001b[0;34m:\u001b[0m\u001b[0;34m\u001b[0m\u001b[0;34m\u001b[0m\u001b[0m\n\u001b[1;32m    949\u001b[0m       \u001b[0;31m# Release the lock early so that multiple threads can perform the call\u001b[0m\u001b[0;34m\u001b[0m\u001b[0;34m\u001b[0m\u001b[0;34m\u001b[0m\u001b[0m\n",
            "\u001b[0;32m/usr/local/lib/python3.7/dist-packages/tensorflow/python/eager/function.py\u001b[0m in \u001b[0;36m__call__\u001b[0;34m(self, *args, **kwargs)\u001b[0m\n\u001b[1;32m   2452\u001b[0m        filtered_flat_args) = self._maybe_define_function(args, kwargs)\n\u001b[1;32m   2453\u001b[0m     return graph_function._call_flat(\n\u001b[0;32m-> 2454\u001b[0;31m         filtered_flat_args, captured_inputs=graph_function.captured_inputs)  # pylint: disable=protected-access\n\u001b[0m\u001b[1;32m   2455\u001b[0m \u001b[0;34m\u001b[0m\u001b[0m\n\u001b[1;32m   2456\u001b[0m   \u001b[0;34m@\u001b[0m\u001b[0mproperty\u001b[0m\u001b[0;34m\u001b[0m\u001b[0;34m\u001b[0m\u001b[0m\n",
            "\u001b[0;32m/usr/local/lib/python3.7/dist-packages/tensorflow/python/eager/function.py\u001b[0m in \u001b[0;36m_call_flat\u001b[0;34m(self, args, captured_inputs, cancellation_manager)\u001b[0m\n\u001b[1;32m   1859\u001b[0m       \u001b[0;31m# No tape is watching; skip to running the function.\u001b[0m\u001b[0;34m\u001b[0m\u001b[0;34m\u001b[0m\u001b[0;34m\u001b[0m\u001b[0m\n\u001b[1;32m   1860\u001b[0m       return self._build_call_outputs(self._inference_function.call(\n\u001b[0;32m-> 1861\u001b[0;31m           ctx, args, cancellation_manager=cancellation_manager))\n\u001b[0m\u001b[1;32m   1862\u001b[0m     forward_backward = self._select_forward_and_backward_functions(\n\u001b[1;32m   1863\u001b[0m         \u001b[0margs\u001b[0m\u001b[0;34m,\u001b[0m\u001b[0;34m\u001b[0m\u001b[0;34m\u001b[0m\u001b[0m\n",
            "\u001b[0;32m/usr/local/lib/python3.7/dist-packages/tensorflow/python/eager/function.py\u001b[0m in \u001b[0;36mcall\u001b[0;34m(self, ctx, args, cancellation_manager)\u001b[0m\n\u001b[1;32m    500\u001b[0m               \u001b[0minputs\u001b[0m\u001b[0;34m=\u001b[0m\u001b[0margs\u001b[0m\u001b[0;34m,\u001b[0m\u001b[0;34m\u001b[0m\u001b[0;34m\u001b[0m\u001b[0m\n\u001b[1;32m    501\u001b[0m               \u001b[0mattrs\u001b[0m\u001b[0;34m=\u001b[0m\u001b[0mattrs\u001b[0m\u001b[0;34m,\u001b[0m\u001b[0;34m\u001b[0m\u001b[0;34m\u001b[0m\u001b[0m\n\u001b[0;32m--> 502\u001b[0;31m               ctx=ctx)\n\u001b[0m\u001b[1;32m    503\u001b[0m         \u001b[0;32melse\u001b[0m\u001b[0;34m:\u001b[0m\u001b[0;34m\u001b[0m\u001b[0;34m\u001b[0m\u001b[0m\n\u001b[1;32m    504\u001b[0m           outputs = execute.execute_with_cancellation(\n",
            "\u001b[0;32m/usr/local/lib/python3.7/dist-packages/tensorflow/python/eager/execute.py\u001b[0m in \u001b[0;36mquick_execute\u001b[0;34m(op_name, num_outputs, inputs, attrs, ctx, name)\u001b[0m\n\u001b[1;32m     53\u001b[0m     \u001b[0mctx\u001b[0m\u001b[0;34m.\u001b[0m\u001b[0mensure_initialized\u001b[0m\u001b[0;34m(\u001b[0m\u001b[0;34m)\u001b[0m\u001b[0;34m\u001b[0m\u001b[0;34m\u001b[0m\u001b[0m\n\u001b[1;32m     54\u001b[0m     tensors = pywrap_tfe.TFE_Py_Execute(ctx._handle, device_name, op_name,\n\u001b[0;32m---> 55\u001b[0;31m                                         inputs, attrs, num_outputs)\n\u001b[0m\u001b[1;32m     56\u001b[0m   \u001b[0;32mexcept\u001b[0m \u001b[0mcore\u001b[0m\u001b[0;34m.\u001b[0m\u001b[0m_NotOkStatusException\u001b[0m \u001b[0;32mas\u001b[0m \u001b[0me\u001b[0m\u001b[0;34m:\u001b[0m\u001b[0;34m\u001b[0m\u001b[0;34m\u001b[0m\u001b[0m\n\u001b[1;32m     57\u001b[0m     \u001b[0;32mif\u001b[0m \u001b[0mname\u001b[0m \u001b[0;32mis\u001b[0m \u001b[0;32mnot\u001b[0m \u001b[0;32mNone\u001b[0m\u001b[0;34m:\u001b[0m\u001b[0;34m\u001b[0m\u001b[0;34m\u001b[0m\u001b[0m\n",
            "\u001b[0;31mKeyboardInterrupt\u001b[0m: "
          ]
        }
      ],
      "source": [
        "history = model_pretrained.fit(train_generator, \n",
        "                  validation_data = test_generator, \n",
        "                  steps_per_epoch = train_generator.n // train_generator.batch_size,\n",
        "                  validation_steps = test_generator.n // test_generator.batch_size, \n",
        "                  epochs=50) #,\n",
        "                  # callbacks = [callback])"
      ]
    },
    {
      "cell_type": "markdown",
      "metadata": {
        "id": "GdseqO--6PUO"
      },
      "source": [
        "**Learning rate**\n",
        "https://machinelearningmastery.com/understand-the-dynamics-of-learning-rate-on-deep-learning-neural-networks/\n",
        "\n",
        "The amount that the weights are updated during training is referred to as the step size or the “learning rate.”\n",
        "\n",
        "Specifically, the learning rate is a configurable hyperparameter used in the training of neural networks that has a small positive value, often in the range between 0.0 and 1.0.\n",
        "\n",
        "The learning rate controls how quickly the model is adapted to the problem. Smaller learning rates require more training epochs given the smaller changes made to the weights each update, whereas larger learning rates result in rapid changes and require fewer training epochs.\n",
        "\n",
        "A learning rate that is too large can cause the model to converge too quickly to a suboptimal solution, whereas a learning rate that is too small can cause the process to get stuck.\n",
        "\n",
        "The challenge of training deep learning neural networks involves carefully selecting the learning rate. It may be the most important hyperparameter for the model."
      ]
    },
    {
      "cell_type": "markdown",
      "metadata": {
        "id": "V876d-eKqeBu"
      },
      "source": [
        "USEFUL LINKS:\n",
        "\n",
        "BEST:\n",
        "- https://medium.com/mlearning-ai/7-best-techniques-to-improve-the-accuracy-of-cnn-w-o-overfitting-6db06467182f\n",
        "- https://sgugger.github.io/the-1cycle-policy.html\n",
        "\n",
        "- https://www.paperspace.com/gradient/notebooks\n",
        "- https://stats.stackexchange.com/questions/453221/should-i-use-gridsearchcv-on-all-of-my-data-or-just-the-training-set\n",
        "- https://www.quora.com/What-kind-of-image-pre-processing-should-be-done-before-feeding-it-to-a-Convolutional-Neural-Network\n",
        "- https://opt-ml.org/papers/2021/paper53.pdf\n",
        "- https://towardsai.net/p/l/stop-using-grid-search-the-complete-practical-tutorial-on-keras-tuner\n",
        "- https://machinelearningmastery.com/learning-rate-for-deep-learning-neural-networks/\n",
        "- https://machinelearningmastery.com/grid-search-hyperparameters-deep-learning-models-python-keras/"
      ]
    },
    {
      "cell_type": "code",
      "execution_count": null,
      "metadata": {
        "colab": {
          "base_uri": "https://localhost:8080/",
          "height": 301
        },
        "id": "A_8qYFsH5umv",
        "outputId": "17a9cf16-ddc0-4a0a-bb49-7c359b926909"
      },
      "outputs": [
        {
          "data": {
            "text/plain": [
              "<matplotlib.legend.Legend at 0x7f605df863d0>"
            ]
          },
          "execution_count": 12,
          "metadata": {},
          "output_type": "execute_result"
        },
        {
          "data": {
            "image/png": "[encoded data removed]",
            "text/plain": [
              "<Figure size 432x288 with 2 Axes>"
            ]
          },
          "metadata": {},
          "output_type": "display_data"
        }
      ],
      "source": [
        "# PLOT THEM TOGETHER\n",
        "# Visualization of the learning curves\n",
        "plt.figure(figsize=(10,8))\n",
        "\n",
        "plt.subplot(1, 2, 1)\n",
        "plt.plot(history.history['loss'])\n",
        "plt.plot(history.history['val_loss'])\n",
        "plt.ylim([0.0, 3.0])\n",
        "plt.xlabel('Epoch')\n",
        "plt.ylabel('Loss')\n",
        "plt.legend(['train', 'valid'])\n",
        "\n",
        "plt.subplot(1, 2, 2)\n",
        "plt.plot(history.history['accuracy'])\n",
        "plt.plot(history.history['val_accuracy'])\n",
        "plt.ylim([0.0, 1.0])\n",
        "plt.xlabel('Epoch')\n",
        "plt.ylabel('Accuracy')\n",
        "plt.legend(['train', 'valid'])"
      ]
    },
    {
      "cell_type": "code",
      "execution_count": null,
      "metadata": {
        "id": "qq3Tu_1i5ukS"
      },
      "outputs": [],
      "source": []
    },
    {
      "cell_type": "markdown",
      "metadata": {
        "id": "y-2eDbu08xc9"
      },
      "source": [
        "#### Results Model V04"
      ]
    },
    {
      "cell_type": "markdown",
      "metadata": {
        "id": "6u2OYTyA9F3X"
      },
      "source": []
    },
    {
      "cell_type": "markdown",
      "metadata": {
        "id": "_XRFH-gp07K5"
      },
      "source": [
        "## 5.8 Model V05 - Cross validation\n",
        "\n",
        "Here you use only the train/test and not validation! That's because the cross validation procedure already takes a validation set in consideration!"
      ]
    },
    {
      "cell_type": "code",
      "execution_count": null,
      "metadata": {
        "id": "rFwC8RRQzigl"
      },
      "outputs": [],
      "source": [
        "from pathlib import Path\n",
        "from sklearn.model_selection import KFold\n",
        "from sklearn.model_selection import StratifiedKFold"
      ]
    },
    {
      "cell_type": "markdown",
      "metadata": {
        "id": "_lMIwSKYQpwz"
      },
      "source": [
        "### Creating path dataframe"
      ]
    },
    {
      "cell_type": "code",
      "execution_count": null,
      "metadata": {
        "id": "Dm1e6tGPQwcZ"
      },
      "outputs": [],
      "source": [
        "# use Path object to grab all the images in a folder\n",
        "caesar_salad_dir  = Path(\"/content/gdrive/MyDrive/Data_Science_2020-2022/Secondo_anno_Secondo_Semestre/FoDL_Project/Project_Example_Food/ExampleFoodImageDataset/caesar_salad\")\n",
        "caprese_salad_dir = Path(\"/content/gdrive/MyDrive/Data_Science_2020-2022/Secondo_anno_Secondo_Semestre/FoDL_Project/Project_Example_Food/ExampleFoodImageDataset/caprese_salad\")\n",
        "french_fries_dir  = Path(\"/content/gdrive/MyDrive/Data_Science_2020-2022/Secondo_anno_Secondo_Semestre/FoDL_Project/Project_Example_Food/ExampleFoodImageDataset/french_fries\")\n",
        "greek_salad_dir   = Path(\"/content/gdrive/MyDrive/Data_Science_2020-2022/Secondo_anno_Secondo_Semestre/FoDL_Project/Project_Example_Food/ExampleFoodImageDataset/greek_salad\")\n",
        "hamburger_dir     = Path(\"/content/gdrive/MyDrive/Data_Science_2020-2022/Secondo_anno_Secondo_Semestre/FoDL_Project/Project_Example_Food/ExampleFoodImageDataset/hamburger\")\n",
        "hot_dog_dir       = Path(\"/content/gdrive/MyDrive/Data_Science_2020-2022/Secondo_anno_Secondo_Semestre/FoDL_Project/Project_Example_Food/ExampleFoodImageDataset/hot_dog\")\n",
        "pizza_dir         = Path(\"/content/gdrive/MyDrive/Data_Science_2020-2022/Secondo_anno_Secondo_Semestre/FoDL_Project/Project_Example_Food/ExampleFoodImageDataset/pizza\")\n",
        "sashimi_dir       = Path(\"/content/gdrive/MyDrive/Data_Science_2020-2022/Secondo_anno_Secondo_Semestre/FoDL_Project/Project_Example_Food/ExampleFoodImageDataset/sashimi\")\n",
        "sushi_dir         = Path(\"/content/gdrive/MyDrive/Data_Science_2020-2022/Secondo_anno_Secondo_Semestre/FoDL_Project/Project_Example_Food/ExampleFoodImageDataset/sushi\")"
      ]
    },
    {
      "cell_type": "code",
      "execution_count": null,
      "metadata": {
        "id": "NdRly4TGziew"
      },
      "outputs": [],
      "source": [
        "def generate_df(image_dir, label): \n",
        "  # get all the filepath. Convert to string for using flow_from_dataframe later\n",
        "  filepaths = pd.Series(list(image_dir.glob(r'*.jpg')), name=\"Filepath\").astype(str) # name: give the Series a name\n",
        "  # labels\n",
        "  labels = pd.Series(label, name=\"Label\", index=filepaths.index)\n",
        "  # concatenate two series as a dataframe\n",
        "  df = pd.concat([filepaths, labels], axis=1)\n",
        "\n",
        "  return df"
      ]
    },
    {
      "cell_type": "code",
      "execution_count": null,
      "metadata": {
        "id": "6Oly7YLHzidJ"
      },
      "outputs": [],
      "source": [
        "caesar_salad_df  = generate_df(caesar_salad_dir,  label=\"CAESAR_SALAD\")\n",
        "caprese_salad_df = generate_df(caprese_salad_dir, label=\"CAPRESE_SALAD\")\n",
        "french_fries_df  = generate_df(french_fries_dir,  label=\"FRENCH_FRIES\")\n",
        "greek_salad_df   = generate_df(greek_salad_dir,   label=\"GREEK_SALAD\")\n",
        "hamburger_df     = generate_df(hamburger_dir,     label=\"HAMBURGER\")\n",
        "hot_dog_df       = generate_df(hot_dog_dir,       label=\"HOT_DOG\")\n",
        "pizza_df         = generate_df(pizza_dir,         label=\"PIZZA\")\n",
        "sashimi_df       = generate_df(sashimi_dir,       label=\"SASHIMI\")\n",
        "caesar_salad_df  = generate_df(caesar_salad_dir,  label=\"CAESAR_SALAD\")\n",
        "sushi_df         = generate_df(sushi_dir,         label=\"SUSHI\")"
      ]
    },
    {
      "cell_type": "code",
      "execution_count": null,
      "metadata": {
        "colab": {
          "base_uri": "https://localhost:8080/",
          "height": 423
        },
        "id": "QFDGaCSPziYM",
        "outputId": "e53ac04b-714e-4171-87a5-5b472729e5f2"
      },
      "outputs": [
        {
          "output_type": "execute_result",
          "data": {
            "text/plain": [
              "                                               Filepath          Label\n",
              "0     /content/gdrive/MyDrive/Data_Science_2020-2022...          SUSHI\n",
              "1     /content/gdrive/MyDrive/Data_Science_2020-2022...          PIZZA\n",
              "2     /content/gdrive/MyDrive/Data_Science_2020-2022...          PIZZA\n",
              "3     /content/gdrive/MyDrive/Data_Science_2020-2022...      HAMBURGER\n",
              "4     /content/gdrive/MyDrive/Data_Science_2020-2022...          PIZZA\n",
              "...                                                 ...            ...\n",
              "999   /content/gdrive/MyDrive/Data_Science_2020-2022...          PIZZA\n",
              "1000  /content/gdrive/MyDrive/Data_Science_2020-2022...   FRENCH_FRIES\n",
              "1001  /content/gdrive/MyDrive/Data_Science_2020-2022...          SUSHI\n",
              "1002  /content/gdrive/MyDrive/Data_Science_2020-2022...    GREEK_SALAD\n",
              "1003  /content/gdrive/MyDrive/Data_Science_2020-2022...  CAPRESE_SALAD\n",
              "\n",
              "[1004 rows x 2 columns]"
            ],
            "text/html": [
              "\n",
              "  <div id=\"df-3a5da5e3-007a-4884-9bd1-aedbe37a773d\">\n",
              "    <div class=\"colab-df-container\">\n",
              "      <div>\n",
              "<style scoped>\n",
              "    .dataframe tbody tr th:only-of-type {\n",
              "        vertical-align: middle;\n",
              "    }\n",
              "\n",
              "    .dataframe tbody tr th {\n",
              "        vertical-align: top;\n",
              "    }\n",
              "\n",
              "    .dataframe thead th {\n",
              "        text-align: right;\n",
              "    }\n",
              "</style>\n",
              "<table border=\"1\" class=\"dataframe\">\n",
              "  <thead>\n",
              "    <tr style=\"text-align: right;\">\n",
              "      <th></th>\n",
              "      <th>Filepath</th>\n",
              "      <th>Label</th>\n",
              "    </tr>\n",
              "  </thead>\n",
              "  <tbody>\n",
              "    <tr>\n",
              "      <th>0</th>\n",
              "      <td>/content/gdrive/MyDrive/Data_Science_2020-2022...</td>\n",
              "      <td>SUSHI</td>\n",
              "    </tr>\n",
              "    <tr>\n",
              "      <th>1</th>\n",
              "      <td>/content/gdrive/MyDrive/Data_Science_2020-2022...</td>\n",
              "      <td>PIZZA</td>\n",
              "    </tr>\n",
              "    <tr>\n",
              "      <th>2</th>\n",
              "      <td>/content/gdrive/MyDrive/Data_Science_2020-2022...</td>\n",
              "      <td>PIZZA</td>\n",
              "    </tr>\n",
              "    <tr>\n",
              "      <th>3</th>\n",
              "      <td>/content/gdrive/MyDrive/Data_Science_2020-2022...</td>\n",
              "      <td>HAMBURGER</td>\n",
              "    </tr>\n",
              "    <tr>\n",
              "      <th>4</th>\n",
              "      <td>/content/gdrive/MyDrive/Data_Science_2020-2022...</td>\n",
              "      <td>PIZZA</td>\n",
              "    </tr>\n",
              "    <tr>\n",
              "      <th>...</th>\n",
              "      <td>...</td>\n",
              "      <td>...</td>\n",
              "    </tr>\n",
              "    <tr>\n",
              "      <th>999</th>\n",
              "      <td>/content/gdrive/MyDrive/Data_Science_2020-2022...</td>\n",
              "      <td>PIZZA</td>\n",
              "    </tr>\n",
              "    <tr>\n",
              "      <th>1000</th>\n",
              "      <td>/content/gdrive/MyDrive/Data_Science_2020-2022...</td>\n",
              "      <td>FRENCH_FRIES</td>\n",
              "    </tr>\n",
              "    <tr>\n",
              "      <th>1001</th>\n",
              "      <td>/content/gdrive/MyDrive/Data_Science_2020-2022...</td>\n",
              "      <td>SUSHI</td>\n",
              "    </tr>\n",
              "    <tr>\n",
              "      <th>1002</th>\n",
              "      <td>/content/gdrive/MyDrive/Data_Science_2020-2022...</td>\n",
              "      <td>GREEK_SALAD</td>\n",
              "    </tr>\n",
              "    <tr>\n",
              "      <th>1003</th>\n",
              "      <td>/content/gdrive/MyDrive/Data_Science_2020-2022...</td>\n",
              "      <td>CAPRESE_SALAD</td>\n",
              "    </tr>\n",
              "  </tbody>\n",
              "</table>\n",
              "<p>1004 rows × 2 columns</p>\n",
              "</div>\n",
              "      <button class=\"colab-df-convert\" onclick=\"convertToInteractive('df-3a5da5e3-007a-4884-9bd1-aedbe37a773d')\"\n",
              "              title=\"Convert this dataframe to an interactive table.\"\n",
              "              style=\"display:none;\">\n",
              "        \n",
              "  <svg xmlns=\"http://www.w3.org/2000/svg\" height=\"24px\"viewBox=\"0 0 24 24\"\n",
              "       width=\"24px\">\n",
              "    <path d=\"M0 0h24v24H0V0z\" fill=\"none\"/>\n",
              "    <path d=\"M18.56 5.44l.94 2.06.94-2.06 2.06-.94-2.06-.94-.94-2.06-.94 2.06-2.06.94zm-11 1L8.5 8.5l.94-2.06 2.06-.94-2.06-.94L8.5 2.5l-.94 2.06-2.06.94zm10 10l.94 2.06.94-2.06 2.06-.94-2.06-.94-.94-2.06-.94 2.06-2.06.94z\"/><path d=\"M17.41 7.96l-1.37-1.37c-.4-.4-.92-.59-1.43-.59-.52 0-1.04.2-1.43.59L10.3 9.45l-7.72 7.72c-.78.78-.78 2.05 0 2.83L4 21.41c.39.39.9.59 1.41.59.51 0 1.02-.2 1.41-.59l7.78-7.78 2.81-2.81c.8-.78.8-2.07 0-2.86zM5.41 20L4 18.59l7.72-7.72 1.47 1.35L5.41 20z\"/>\n",
              "  </svg>\n",
              "      </button>\n",
              "      \n",
              "  <style>\n",
              "    .colab-df-container {\n",
              "      display:flex;\n",
              "      flex-wrap:wrap;\n",
              "      gap: 12px;\n",
              "    }\n",
              "\n",
              "    .colab-df-convert {\n",
              "      background-color: #E8F0FE;\n",
              "      border: none;\n",
              "      border-radius: 50%;\n",
              "      cursor: pointer;\n",
              "      display: none;\n",
              "      fill: #1967D2;\n",
              "      height: 32px;\n",
              "      padding: 0 0 0 0;\n",
              "      width: 32px;\n",
              "    }\n",
              "\n",
              "    .colab-df-convert:hover {\n",
              "      background-color: #E2EBFA;\n",
              "      box-shadow: 0px 1px 2px rgba(60, 64, 67, 0.3), 0px 1px 3px 1px rgba(60, 64, 67, 0.15);\n",
              "      fill: #174EA6;\n",
              "    }\n",
              "\n",
              "    [theme=dark] .colab-df-convert {\n",
              "      background-color: #3B4455;\n",
              "      fill: #D2E3FC;\n",
              "    }\n",
              "\n",
              "    [theme=dark] .colab-df-convert:hover {\n",
              "      background-color: #434B5C;\n",
              "      box-shadow: 0px 1px 3px 1px rgba(0, 0, 0, 0.15);\n",
              "      filter: drop-shadow(0px 1px 2px rgba(0, 0, 0, 0.3));\n",
              "      fill: #FFFFFF;\n",
              "    }\n",
              "  </style>\n",
              "\n",
              "      <script>\n",
              "        const buttonEl =\n",
              "          document.querySelector('#df-3a5da5e3-007a-4884-9bd1-aedbe37a773d button.colab-df-convert');\n",
              "        buttonEl.style.display =\n",
              "          google.colab.kernel.accessAllowed ? 'block' : 'none';\n",
              "\n",
              "        async function convertToInteractive(key) {\n",
              "          const element = document.querySelector('#df-3a5da5e3-007a-4884-9bd1-aedbe37a773d');\n",
              "          const dataTable =\n",
              "            await google.colab.kernel.invokeFunction('convertToInteractive',\n",
              "                                                     [key], {});\n",
              "          if (!dataTable) return;\n",
              "\n",
              "          const docLinkHtml = 'Like what you see? Visit the ' +\n",
              "            '<a target=\"_blank\" href=https://colab.research.google.com/notebooks/data_table.ipynb>data table notebook</a>'\n",
              "            + ' to learn more about interactive tables.';\n",
              "          element.innerHTML = '';\n",
              "          dataTable['output_type'] = 'display_data';\n",
              "          await google.colab.output.renderOutput(dataTable, element);\n",
              "          const docLink = document.createElement('div');\n",
              "          docLink.innerHTML = docLinkHtml;\n",
              "          element.appendChild(docLink);\n",
              "        }\n",
              "      </script>\n",
              "    </div>\n",
              "  </div>\n",
              "  "
            ]
          },
          "metadata": {},
          "execution_count": 12
        }
      ],
      "source": [
        "all_df = pd.concat([caesar_salad_df,\n",
        "                    caprese_salad_df,\n",
        "                    french_fries_df,\n",
        "                    greek_salad_df,\n",
        "                    hamburger_df,\n",
        "                    hot_dog_df,\n",
        "                    pizza_df,\n",
        "                    sashimi_df,\n",
        "                    caesar_salad_df,\n",
        "                    sushi_df], \n",
        "                   axis=0).sample(frac=1.0, random_state=1).reset_index(drop=True) \n",
        "                   # sample and shuffle at the same time and reset index to have the correct values.\n",
        "                   # drop the previous index so you do not have another column for that.\n",
        "\n",
        "# problems:\n",
        "#   - indeces are wrong\n",
        "#   - the label are on top of each other and not shuffled\n",
        "all_df"
      ]
    },
    {
      "cell_type": "code",
      "execution_count": null,
      "metadata": {
        "id": "AD6_FYixRfZ8"
      },
      "outputs": [],
      "source": [
        "Y_kfold = all_df[['Label']]\n",
        "\n",
        "# kf = KFold(n_splits = 5)\n",
        "skf = StratifiedKFold(n_splits=3, shuffle=True, random_state=SEED_VALUE) "
      ]
    },
    {
      "cell_type": "code",
      "execution_count": null,
      "metadata": {
        "id": "MA2sF8uKRfXS"
      },
      "outputs": [],
      "source": [
        "# DATA AUGMENTATION ONLY ON THE TRAINING SET\n",
        "train_datagen_CV = ImageDataGenerator(\n",
        "        rescale=1./255,\n",
        "        shear_range=0.2,\n",
        "        zoom_range=0.1,\n",
        "        horizontal_flip=True,\n",
        "        width_shift_range=0.1,  # randomly shift images horizontally (fraction of total width)\n",
        "        height_shift_range=0.1,\n",
        "        rotation_range=1,\n",
        "        fill_mode='nearest')  # randomly shift images vertically (fraction of total height))"
      ]
    },
    {
      "cell_type": "markdown",
      "metadata": {
        "id": "Z5WKEjGuS_Cz"
      },
      "source": [
        "It can be seen, that the validation_split argument is not given any value as we will be creating the validation set using one of the k splits.\n",
        "\n",
        "We also need to save the best model in each fold.\n",
        "\n",
        "Auxiliary function for getting model name in each of the k iterations"
      ]
    },
    {
      "cell_type": "code",
      "execution_count": null,
      "metadata": {
        "id": "POHANLYWRfUT"
      },
      "outputs": [],
      "source": [
        "def get_model_name(k):\n",
        "    return 'model_'+str(k)+'.h5'"
      ]
    },
    {
      "cell_type": "markdown",
      "metadata": {
        "id": "bRNbjZl8TB0I"
      },
      "source": [
        "Getting the folds and creating the data generators."
      ]
    },
    {
      "cell_type": "code",
      "execution_count": null,
      "metadata": {
        "colab": {
          "base_uri": "https://localhost:8080/"
        },
        "id": "4dIMxKzLpthm",
        "outputId": "96e1ff05-a5f4-42b4-bb2b-d3d8317e2e09"
      },
      "outputs": [
        {
          "output_type": "stream",
          "name": "stdout",
          "text": [
            "Found 1803 images belonging to 9 classes.\n",
            "Found 155 images belonging to 9 classes.\n"
          ]
        }
      ],
      "source": [
        "train_data_generator = train_datagen_CV.flow_from_directory(\n",
        "    base_path_train,\n",
        "    target_size=(224,224),\n",
        "    batch_size=32,\n",
        "    shuffle=True,\n",
        "    class_mode=\"categorical\",\n",
        "    seed = SEED_VALUE)\n",
        "\n",
        "test_data_generator = train_datagen_CV.flow_from_directory(\n",
        "    base_path_test,\n",
        "    target_size=(224,224),\n",
        "    batch_size=32,\n",
        "    shuffle=False,\n",
        "    seed = SEED_VALUE,\n",
        "    class_mode = \"categorical\")\n",
        "\t\n",
        "# CREATE NEW MODEL\n",
        "# DEFINE A SEQUENTIAL MODEL\n",
        "def create_new_model(lr=0.001):\n",
        "  model = tf.keras.models.Sequential([\n",
        "  keras.Input((224, 224, 3)),\n",
        "\n",
        "  # 1st Conv Block\n",
        "  keras.layers.Conv2D(32, 3, padding=\"same\", kernel_initializer=\"he_uniform\", kernel_regularizer=tf.keras.regularizers.l2(0.001)),\n",
        "  keras.layers.BatchNormalization(),\n",
        "  keras.layers.Activation(\"relu\"),\n",
        "  keras.layers.MaxPooling2D(3, strides=3, padding=\"same\"),\n",
        "\n",
        "  # 2nd Conv Block\n",
        "  keras.layers.Conv2D(32, 3, padding=\"same\", kernel_initializer=\"he_uniform\", kernel_regularizer=tf.keras.regularizers.l2(0.001)),\n",
        "  keras.layers.Activation(\"relu\"),\n",
        "  keras.layers.MaxPooling2D(3, strides=3, padding=\"same\"),\n",
        "\n",
        "  # 3rd Conv block\n",
        "  keras.layers.Conv2D(64, 3, padding=\"same\", kernel_initializer=\"he_uniform\", kernel_regularizer=tf.keras.regularizers.l2(0.001)),\n",
        "  keras.layers.BatchNormalization(),\n",
        "  keras.layers.Activation(\"relu\"),\n",
        "  keras.layers.MaxPooling2D(3, strides=3, padding=\"same\"),\n",
        "\n",
        "  # 4rd Conv block\n",
        "  keras.layers.Conv2D(64, 3, padding=\"same\", kernel_initializer=\"he_uniform\", kernel_regularizer=tf.keras.regularizers.l2(0.001)),\n",
        "  keras.layers.Activation(\"relu\"),\n",
        "  keras.layers.MaxPooling2D(3, strides=3, padding=\"same\"),\n",
        "\n",
        "  # the model so far outputs 3D feature maps (height, width, features)\n",
        "\n",
        "  # FLATTEN AND ADD DROPOUT\n",
        "  keras.layers.Flatten(), # this converts our 3D feature maps to 1D feature vectors\n",
        "  keras.layers.Dense(512, activation=\"relu\", kernel_regularizer=tf.keras.regularizers.l2(0.001)),\n",
        "  keras.layers.Activation(\"relu\"),\n",
        "  keras.layers.Dropout(.20),\n",
        "  keras.layers.Dense(512, activation=\"relu\", kernel_regularizer=tf.keras.regularizers.l2(0.001)),\n",
        "\n",
        "  keras.layers.Dense(num_classes, activation=\"softmax\", kernel_regularizer=tf.keras.regularizers.l2(0.001))\n",
        "\n",
        "  ])\n",
        "\n",
        "  return model"
      ]
    },
    {
      "cell_type": "code",
      "execution_count": null,
      "metadata": {
        "id": "ERYcara2hfqD"
      },
      "outputs": [],
      "source": [
        "SAVED_MODELS = \"/content/gdrive/MyDrive/Data_Science_2020-2022/Secondo_anno_Secondo_Semestre/FoDL_Project/Project_Example_Food/ExampleFoodImageDatasetPreprocessed/saved_models/\""
      ]
    },
    {
      "cell_type": "code",
      "execution_count": null,
      "metadata": {
        "colab": {
          "base_uri": "https://localhost:8080/"
        },
        "id": "yqK-94yWhWeX",
        "outputId": "1c8f0405-c97f-4c62-d506-34c6c98a131e"
      },
      "outputs": [
        {
          "output_type": "stream",
          "name": "stdout",
          "text": [
            "Folder already found.\n"
          ]
        }
      ],
      "source": [
        "from os import mkdir\n",
        "from collections import defaultdict\n",
        "# CREATE A DIRECTORY FOR THE PROCESSED IMAGES\n",
        "try:\n",
        "    os.mkdir(SAVED_MODELS)\n",
        "except:\n",
        "    print(\"Folder already found.\")"
      ]
    },
    {
      "cell_type": "code",
      "execution_count": null,
      "metadata": {
        "colab": {
          "base_uri": "https://localhost:8080/"
        },
        "id": "2_lUQY1JRfRw",
        "outputId": "6aaee805-937c-434a-86fe-91c9c65f9ec9"
      },
      "outputs": [
        {
          "output_type": "stream",
          "name": "stdout",
          "text": [
            "fold_var number is: 1\n",
            "Epoch 1/100\n",
            "57/57 [==============================] - ETA: 0s - loss: 2.9982 - accuracy: 0.4049\n",
            "Epoch 1: val_accuracy improved from -inf to 0.29032, saving model to /content/gdrive/MyDrive/Data_Science_2020-2022/Secondo_anno_Secondo_Semestre/FoDL_Project/Project_Example_Food/ExampleFoodImageDatasetPreprocessed/saved_models/model_1.h5\n",
            "57/57 [==============================] - 569s 10s/step - loss: 2.9982 - accuracy: 0.4049 - val_loss: 3.0298 - val_accuracy: 0.2903\n",
            "Epoch 2/100\n",
            "57/57 [==============================] - ETA: 0s - loss: 2.1140 - accuracy: 0.6323\n",
            "Epoch 2: val_accuracy did not improve from 0.29032\n",
            "57/57 [==============================] - 122s 2s/step - loss: 2.1140 - accuracy: 0.6323 - val_loss: 3.7335 - val_accuracy: 0.1161\n",
            "Epoch 3/100\n",
            "57/57 [==============================] - ETA: 0s - loss: 1.8008 - accuracy: 0.7249\n",
            "Epoch 3: val_accuracy did not improve from 0.29032\n",
            "57/57 [==============================] - 121s 2s/step - loss: 1.8008 - accuracy: 0.7249 - val_loss: 4.8540 - val_accuracy: 0.0839\n",
            "Epoch 4/100\n",
            "57/57 [==============================] - ETA: 0s - loss: 1.5765 - accuracy: 0.7920\n",
            "Epoch 4: val_accuracy did not improve from 0.29032\n",
            "57/57 [==============================] - 121s 2s/step - loss: 1.5765 - accuracy: 0.7920 - val_loss: 3.4871 - val_accuracy: 0.1484\n",
            "Epoch 5/100\n",
            "57/57 [==============================] - ETA: 0s - loss: 1.4082 - accuracy: 0.8303\n",
            "Epoch 5: val_accuracy improved from 0.29032 to 0.39355, saving model to /content/gdrive/MyDrive/Data_Science_2020-2022/Secondo_anno_Secondo_Semestre/FoDL_Project/Project_Example_Food/ExampleFoodImageDatasetPreprocessed/saved_models/model_1.h5\n",
            "57/57 [==============================] - 122s 2s/step - loss: 1.4082 - accuracy: 0.8303 - val_loss: 2.6948 - val_accuracy: 0.3935\n",
            "Epoch 6/100\n",
            "57/57 [==============================] - ETA: 0s - loss: 1.3480 - accuracy: 0.8430\n",
            "Epoch 6: val_accuracy did not improve from 0.39355\n",
            "57/57 [==============================] - 121s 2s/step - loss: 1.3480 - accuracy: 0.8430 - val_loss: 2.9535 - val_accuracy: 0.3290\n",
            "Epoch 7/100\n",
            "57/57 [==============================] - ETA: 0s - loss: 1.2494 - accuracy: 0.8680\n",
            "Epoch 7: val_accuracy improved from 0.39355 to 0.51613, saving model to /content/gdrive/MyDrive/Data_Science_2020-2022/Secondo_anno_Secondo_Semestre/FoDL_Project/Project_Example_Food/ExampleFoodImageDatasetPreprocessed/saved_models/model_1.h5\n",
            "57/57 [==============================] - 122s 2s/step - loss: 1.2494 - accuracy: 0.8680 - val_loss: 2.2573 - val_accuracy: 0.5161\n",
            "Epoch 8/100\n",
            "57/57 [==============================] - ETA: 0s - loss: 1.1979 - accuracy: 0.8785\n",
            "Epoch 8: val_accuracy improved from 0.51613 to 0.52903, saving model to /content/gdrive/MyDrive/Data_Science_2020-2022/Secondo_anno_Secondo_Semestre/FoDL_Project/Project_Example_Food/ExampleFoodImageDatasetPreprocessed/saved_models/model_1.h5\n",
            "57/57 [==============================] - 122s 2s/step - loss: 1.1979 - accuracy: 0.8785 - val_loss: 2.1297 - val_accuracy: 0.5290\n",
            "Epoch 9/100\n",
            "57/57 [==============================] - ETA: 0s - loss: 1.1459 - accuracy: 0.8796\n",
            "Epoch 9: val_accuracy did not improve from 0.52903\n",
            "57/57 [==============================] - 124s 2s/step - loss: 1.1459 - accuracy: 0.8796 - val_loss: 2.9377 - val_accuracy: 0.4258\n",
            "Epoch 10/100\n",
            "57/57 [==============================] - ETA: 0s - loss: 1.0319 - accuracy: 0.9018\n",
            "Epoch 10: val_accuracy improved from 0.52903 to 0.59355, saving model to /content/gdrive/MyDrive/Data_Science_2020-2022/Secondo_anno_Secondo_Semestre/FoDL_Project/Project_Example_Food/ExampleFoodImageDatasetPreprocessed/saved_models/model_1.h5\n",
            "57/57 [==============================] - 123s 2s/step - loss: 1.0319 - accuracy: 0.9018 - val_loss: 1.9840 - val_accuracy: 0.5935\n",
            "Epoch 11/100\n",
            "57/57 [==============================] - ETA: 0s - loss: 1.0287 - accuracy: 0.9002\n",
            "Epoch 11: val_accuracy improved from 0.59355 to 0.62581, saving model to /content/gdrive/MyDrive/Data_Science_2020-2022/Secondo_anno_Secondo_Semestre/FoDL_Project/Project_Example_Food/ExampleFoodImageDatasetPreprocessed/saved_models/model_1.h5\n",
            "57/57 [==============================] - 125s 2s/step - loss: 1.0287 - accuracy: 0.9002 - val_loss: 1.8688 - val_accuracy: 0.6258\n",
            "Epoch 12/100\n",
            "57/57 [==============================] - ETA: 0s - loss: 0.9624 - accuracy: 0.9196\n",
            "Epoch 12: val_accuracy improved from 0.62581 to 0.63226, saving model to /content/gdrive/MyDrive/Data_Science_2020-2022/Secondo_anno_Secondo_Semestre/FoDL_Project/Project_Example_Food/ExampleFoodImageDatasetPreprocessed/saved_models/model_1.h5\n",
            "57/57 [==============================] - 131s 2s/step - loss: 0.9624 - accuracy: 0.9196 - val_loss: 2.1253 - val_accuracy: 0.6323\n",
            "Epoch 13/100\n",
            "57/57 [==============================] - ETA: 0s - loss: 0.9074 - accuracy: 0.9346\n",
            "Epoch 13: val_accuracy did not improve from 0.63226\n",
            "57/57 [==============================] - 130s 2s/step - loss: 0.9074 - accuracy: 0.9346 - val_loss: 2.4262 - val_accuracy: 0.5290\n",
            "Epoch 14/100\n",
            "57/57 [==============================] - ETA: 0s - loss: 0.9230 - accuracy: 0.9168\n",
            "Epoch 14: val_accuracy improved from 0.63226 to 0.65161, saving model to /content/gdrive/MyDrive/Data_Science_2020-2022/Secondo_anno_Secondo_Semestre/FoDL_Project/Project_Example_Food/ExampleFoodImageDatasetPreprocessed/saved_models/model_1.h5\n",
            "57/57 [==============================] - 133s 2s/step - loss: 0.9230 - accuracy: 0.9168 - val_loss: 2.0887 - val_accuracy: 0.6516\n",
            "Epoch 15/100\n",
            "57/57 [==============================] - ETA: 0s - loss: 0.8726 - accuracy: 0.9279\n",
            "Epoch 15: val_accuracy improved from 0.65161 to 0.67097, saving model to /content/gdrive/MyDrive/Data_Science_2020-2022/Secondo_anno_Secondo_Semestre/FoDL_Project/Project_Example_Food/ExampleFoodImageDatasetPreprocessed/saved_models/model_1.h5\n",
            "57/57 [==============================] - 131s 2s/step - loss: 0.8726 - accuracy: 0.9279 - val_loss: 1.9170 - val_accuracy: 0.6710\n",
            "Epoch 16/100\n",
            "57/57 [==============================] - ETA: 0s - loss: 0.8412 - accuracy: 0.9312\n",
            "Epoch 16: val_accuracy did not improve from 0.67097\n",
            "57/57 [==============================] - 129s 2s/step - loss: 0.8412 - accuracy: 0.9312 - val_loss: 1.8358 - val_accuracy: 0.6323\n",
            "Epoch 17/100\n",
            "57/57 [==============================] - ETA: 0s - loss: 0.8209 - accuracy: 0.9312\n",
            "Epoch 17: val_accuracy did not improve from 0.67097\n",
            "57/57 [==============================] - 122s 2s/step - loss: 0.8209 - accuracy: 0.9312 - val_loss: 2.1859 - val_accuracy: 0.6452\n",
            "Epoch 18/100\n",
            "57/57 [==============================] - ETA: 0s - loss: 0.7776 - accuracy: 0.9462\n",
            "Epoch 18: val_accuracy did not improve from 0.67097\n",
            "57/57 [==============================] - 122s 2s/step - loss: 0.7776 - accuracy: 0.9462 - val_loss: 2.5905 - val_accuracy: 0.5742\n",
            "Epoch 19/100\n",
            "57/57 [==============================] - ETA: 0s - loss: 0.7573 - accuracy: 0.9429\n",
            "Epoch 19: val_accuracy did not improve from 0.67097\n",
            "57/57 [==============================] - 124s 2s/step - loss: 0.7573 - accuracy: 0.9429 - val_loss: 2.2980 - val_accuracy: 0.6065\n",
            "Epoch 20/100\n",
            "57/57 [==============================] - ETA: 0s - loss: 0.7757 - accuracy: 0.9296\n",
            "Epoch 20: val_accuracy improved from 0.67097 to 0.67742, saving model to /content/gdrive/MyDrive/Data_Science_2020-2022/Secondo_anno_Secondo_Semestre/FoDL_Project/Project_Example_Food/ExampleFoodImageDatasetPreprocessed/saved_models/model_1.h5\n",
            "57/57 [==============================] - 122s 2s/step - loss: 0.7757 - accuracy: 0.9296 - val_loss: 1.7912 - val_accuracy: 0.6774\n",
            "Epoch 21/100\n",
            "57/57 [==============================] - ETA: 0s - loss: 0.7551 - accuracy: 0.9346\n",
            "Epoch 21: val_accuracy did not improve from 0.67742\n",
            "57/57 [==============================] - 122s 2s/step - loss: 0.7551 - accuracy: 0.9346 - val_loss: 1.9141 - val_accuracy: 0.6194\n",
            "Epoch 22/100\n",
            "57/57 [==============================] - ETA: 0s - loss: 0.6876 - accuracy: 0.9562\n",
            "Epoch 22: val_accuracy did not improve from 0.67742\n",
            "57/57 [==============================] - 122s 2s/step - loss: 0.6876 - accuracy: 0.9562 - val_loss: 2.0387 - val_accuracy: 0.6581\n",
            "Epoch 23/100\n",
            "57/57 [==============================] - ETA: 0s - loss: 0.6500 - accuracy: 0.9651\n",
            "Epoch 23: val_accuracy improved from 0.67742 to 0.74839, saving model to /content/gdrive/MyDrive/Data_Science_2020-2022/Secondo_anno_Secondo_Semestre/FoDL_Project/Project_Example_Food/ExampleFoodImageDatasetPreprocessed/saved_models/model_1.h5\n",
            "57/57 [==============================] - 122s 2s/step - loss: 0.6500 - accuracy: 0.9651 - val_loss: 1.5889 - val_accuracy: 0.7484\n",
            "Epoch 24/100\n",
            "57/57 [==============================] - ETA: 0s - loss: 0.6276 - accuracy: 0.9584\n",
            "Epoch 24: val_accuracy did not improve from 0.74839\n",
            "57/57 [==============================] - 122s 2s/step - loss: 0.6276 - accuracy: 0.9584 - val_loss: 1.9461 - val_accuracy: 0.6516\n",
            "Epoch 25/100\n",
            "57/57 [==============================] - ETA: 0s - loss: 0.6519 - accuracy: 0.9545\n",
            "Epoch 25: val_accuracy did not improve from 0.74839\n",
            "57/57 [==============================] - 121s 2s/step - loss: 0.6519 - accuracy: 0.9545 - val_loss: 2.0175 - val_accuracy: 0.6323\n",
            "Epoch 26/100\n",
            "57/57 [==============================] - ETA: 0s - loss: 0.6080 - accuracy: 0.9656\n",
            "Epoch 26: val_accuracy did not improve from 0.74839\n",
            "57/57 [==============================] - 122s 2s/step - loss: 0.6080 - accuracy: 0.9656 - val_loss: 1.9545 - val_accuracy: 0.6387\n",
            "Epoch 27/100\n",
            "57/57 [==============================] - ETA: 0s - loss: 0.6486 - accuracy: 0.9512\n",
            "Epoch 27: val_accuracy did not improve from 0.74839\n",
            "57/57 [==============================] - 122s 2s/step - loss: 0.6486 - accuracy: 0.9512 - val_loss: 1.6762 - val_accuracy: 0.7419\n",
            "Epoch 28/100\n",
            "57/57 [==============================] - ETA: 0s - loss: 0.6191 - accuracy: 0.9540\n",
            "Epoch 28: val_accuracy did not improve from 0.74839\n",
            "57/57 [==============================] - 122s 2s/step - loss: 0.6191 - accuracy: 0.9540 - val_loss: 2.1547 - val_accuracy: 0.5935\n",
            "Epoch 29/100\n",
            "57/57 [==============================] - ETA: 0s - loss: 0.5961 - accuracy: 0.9623\n",
            "Epoch 29: val_accuracy did not improve from 0.74839\n",
            "57/57 [==============================] - 122s 2s/step - loss: 0.5961 - accuracy: 0.9623 - val_loss: 1.9728 - val_accuracy: 0.6065\n",
            "Epoch 30/100\n",
            "57/57 [==============================] - ETA: 0s - loss: 0.5840 - accuracy: 0.9623\n",
            "Epoch 30: val_accuracy did not improve from 0.74839\n",
            "57/57 [==============================] - 122s 2s/step - loss: 0.5840 - accuracy: 0.9623 - val_loss: 2.1784 - val_accuracy: 0.5548\n",
            "Epoch 31/100\n",
            "57/57 [==============================] - ETA: 0s - loss: 0.5610 - accuracy: 0.9689\n",
            "Epoch 31: val_accuracy did not improve from 0.74839\n",
            "57/57 [==============================] - 122s 2s/step - loss: 0.5610 - accuracy: 0.9689 - val_loss: 1.6860 - val_accuracy: 0.6645\n",
            "Epoch 32/100\n",
            "57/57 [==============================] - ETA: 0s - loss: 0.5330 - accuracy: 0.9689\n",
            "Epoch 32: val_accuracy did not improve from 0.74839\n",
            "57/57 [==============================] - 122s 2s/step - loss: 0.5330 - accuracy: 0.9689 - val_loss: 1.7717 - val_accuracy: 0.6968\n",
            "Epoch 33/100\n",
            "57/57 [==============================] - ETA: 0s - loss: 0.5940 - accuracy: 0.9423\n",
            "Epoch 33: val_accuracy did not improve from 0.74839\n",
            "57/57 [==============================] - 122s 2s/step - loss: 0.5940 - accuracy: 0.9423 - val_loss: 1.8307 - val_accuracy: 0.6903\n",
            "Epoch 34/100\n",
            "57/57 [==============================] - ETA: 0s - loss: 0.5527 - accuracy: 0.9606\n",
            "Epoch 34: val_accuracy did not improve from 0.74839\n",
            "57/57 [==============================] - 121s 2s/step - loss: 0.5527 - accuracy: 0.9606 - val_loss: 1.8173 - val_accuracy: 0.7161\n",
            "Epoch 35/100\n",
            "57/57 [==============================] - ETA: 0s - loss: 0.5376 - accuracy: 0.9706\n",
            "Epoch 35: val_accuracy did not improve from 0.74839\n",
            "57/57 [==============================] - 122s 2s/step - loss: 0.5376 - accuracy: 0.9706 - val_loss: 1.8304 - val_accuracy: 0.6710\n",
            "Epoch 36/100\n",
            "57/57 [==============================] - ETA: 0s - loss: 0.5372 - accuracy: 0.9634\n",
            "Epoch 36: val_accuracy did not improve from 0.74839\n",
            "57/57 [==============================] - 122s 2s/step - loss: 0.5372 - accuracy: 0.9634 - val_loss: 2.2304 - val_accuracy: 0.5742\n",
            "Epoch 37/100\n",
            "57/57 [==============================] - ETA: 0s - loss: 0.5561 - accuracy: 0.9545\n",
            "Epoch 37: val_accuracy did not improve from 0.74839\n",
            "57/57 [==============================] - 122s 2s/step - loss: 0.5561 - accuracy: 0.9545 - val_loss: 1.5704 - val_accuracy: 0.7097\n",
            "Epoch 38/100\n",
            "57/57 [==============================] - ETA: 0s - loss: 0.4888 - accuracy: 0.9745\n",
            "Epoch 38: val_accuracy did not improve from 0.74839\n",
            "57/57 [==============================] - 121s 2s/step - loss: 0.4888 - accuracy: 0.9745 - val_loss: 1.6969 - val_accuracy: 0.7419\n",
            "Epoch 39/100\n",
            "57/57 [==============================] - ETA: 0s - loss: 0.5681 - accuracy: 0.9501\n",
            "Epoch 39: val_accuracy did not improve from 0.74839\n",
            "57/57 [==============================] - 122s 2s/step - loss: 0.5681 - accuracy: 0.9501 - val_loss: 2.0150 - val_accuracy: 0.6710\n",
            "Epoch 40/100\n",
            "57/57 [==============================] - ETA: 0s - loss: 0.5222 - accuracy: 0.9601\n",
            "Epoch 40: val_accuracy did not improve from 0.74839\n",
            "57/57 [==============================] - 124s 2s/step - loss: 0.5222 - accuracy: 0.9601 - val_loss: 1.8811 - val_accuracy: 0.6774\n",
            "Epoch 41/100\n",
            "57/57 [==============================] - ETA: 0s - loss: 0.5318 - accuracy: 0.9562\n",
            "Epoch 41: val_accuracy did not improve from 0.74839\n",
            "57/57 [==============================] - 127s 2s/step - loss: 0.5318 - accuracy: 0.9562 - val_loss: 1.8878 - val_accuracy: 0.6065\n",
            "Epoch 42/100\n",
            "57/57 [==============================] - ETA: 0s - loss: 0.4803 - accuracy: 0.9728\n",
            "Epoch 42: val_accuracy did not improve from 0.74839\n",
            "57/57 [==============================] - 125s 2s/step - loss: 0.4803 - accuracy: 0.9728 - val_loss: 1.7908 - val_accuracy: 0.6516\n",
            "Epoch 43/100\n",
            "57/57 [==============================] - ETA: 0s - loss: 0.4798 - accuracy: 0.9712\n",
            "Epoch 43: val_accuracy did not improve from 0.74839\n",
            "57/57 [==============================] - 122s 2s/step - loss: 0.4798 - accuracy: 0.9712 - val_loss: 1.6565 - val_accuracy: 0.7419\n",
            "Epoch 44/100\n",
            "57/57 [==============================] - ETA: 0s - loss: 0.4885 - accuracy: 0.9706\n",
            "Epoch 44: val_accuracy did not improve from 0.74839\n",
            "57/57 [==============================] - 124s 2s/step - loss: 0.4885 - accuracy: 0.9706 - val_loss: 1.5704 - val_accuracy: 0.7484\n",
            "Epoch 45/100\n",
            "57/57 [==============================] - ETA: 0s - loss: 0.4660 - accuracy: 0.9695\n",
            "Epoch 45: val_accuracy did not improve from 0.74839\n",
            "57/57 [==============================] - 122s 2s/step - loss: 0.4660 - accuracy: 0.9695 - val_loss: 1.7781 - val_accuracy: 0.6645\n",
            "Epoch 46/100\n",
            "57/57 [==============================] - ETA: 0s - loss: 0.4510 - accuracy: 0.9739\n",
            "Epoch 46: val_accuracy did not improve from 0.74839\n",
            "57/57 [==============================] - 121s 2s/step - loss: 0.4510 - accuracy: 0.9739 - val_loss: 1.6352 - val_accuracy: 0.7290\n",
            "Epoch 47/100\n",
            "57/57 [==============================] - ETA: 0s - loss: 0.4626 - accuracy: 0.9706\n",
            "Epoch 47: val_accuracy did not improve from 0.74839\n",
            "57/57 [==============================] - 121s 2s/step - loss: 0.4626 - accuracy: 0.9706 - val_loss: 2.0779 - val_accuracy: 0.6645\n",
            "Epoch 48/100\n",
            "57/57 [==============================] - ETA: 0s - loss: 0.4567 - accuracy: 0.9750\n",
            "Epoch 48: val_accuracy did not improve from 0.74839\n",
            "57/57 [==============================] - 122s 2s/step - loss: 0.4567 - accuracy: 0.9750 - val_loss: 2.5425 - val_accuracy: 0.5871\n",
            "Epoch 49/100\n",
            "57/57 [==============================] - ETA: 0s - loss: 0.4456 - accuracy: 0.9739\n",
            "Epoch 49: val_accuracy did not improve from 0.74839\n",
            "57/57 [==============================] - 122s 2s/step - loss: 0.4456 - accuracy: 0.9739 - val_loss: 1.4999 - val_accuracy: 0.6903\n",
            "Epoch 50/100\n",
            "57/57 [==============================] - ETA: 0s - loss: 0.4326 - accuracy: 0.9767\n",
            "Epoch 50: val_accuracy did not improve from 0.74839\n",
            "57/57 [==============================] - 122s 2s/step - loss: 0.4326 - accuracy: 0.9767 - val_loss: 2.1212 - val_accuracy: 0.6258\n",
            "Epoch 51/100\n",
            "57/57 [==============================] - ETA: 0s - loss: 0.4148 - accuracy: 0.9784\n",
            "Epoch 51: val_accuracy did not improve from 0.74839\n",
            "57/57 [==============================] - 121s 2s/step - loss: 0.4148 - accuracy: 0.9784 - val_loss: 1.7441 - val_accuracy: 0.6839\n",
            "Epoch 52/100\n",
            "57/57 [==============================] - ETA: 0s - loss: 0.4761 - accuracy: 0.9595\n",
            "Epoch 52: val_accuracy did not improve from 0.74839\n",
            "57/57 [==============================] - 121s 2s/step - loss: 0.4761 - accuracy: 0.9595 - val_loss: 1.8009 - val_accuracy: 0.6387\n",
            "Epoch 53/100\n",
            "57/57 [==============================] - ETA: 0s - loss: 0.4714 - accuracy: 0.9545\n",
            "Epoch 53: val_accuracy did not improve from 0.74839\n",
            "57/57 [==============================] - 121s 2s/step - loss: 0.4714 - accuracy: 0.9545 - val_loss: 1.7214 - val_accuracy: 0.6645\n",
            "Epoch 54/100\n",
            "57/57 [==============================] - ETA: 0s - loss: 0.4169 - accuracy: 0.9739\n",
            "Epoch 54: val_accuracy did not improve from 0.74839\n",
            "57/57 [==============================] - 122s 2s/step - loss: 0.4169 - accuracy: 0.9739 - val_loss: 1.8403 - val_accuracy: 0.7032\n",
            "Epoch 55/100\n",
            "57/57 [==============================] - ETA: 0s - loss: 0.4308 - accuracy: 0.9728\n",
            "Epoch 55: val_accuracy did not improve from 0.74839\n",
            "57/57 [==============================] - 129s 2s/step - loss: 0.4308 - accuracy: 0.9728 - val_loss: 1.7331 - val_accuracy: 0.6968\n",
            "Epoch 56/100\n",
            "57/57 [==============================] - ETA: 0s - loss: 0.4596 - accuracy: 0.9517\n",
            "Epoch 56: val_accuracy did not improve from 0.74839\n",
            "57/57 [==============================] - 135s 2s/step - loss: 0.4596 - accuracy: 0.9517 - val_loss: 1.4753 - val_accuracy: 0.7226\n",
            "Epoch 57/100\n",
            "57/57 [==============================] - ETA: 0s - loss: 0.4252 - accuracy: 0.9750\n",
            "Epoch 57: val_accuracy did not improve from 0.74839\n",
            "57/57 [==============================] - 125s 2s/step - loss: 0.4252 - accuracy: 0.9750 - val_loss: 1.6923 - val_accuracy: 0.6774\n",
            "Epoch 58/100\n",
            "57/57 [==============================] - ETA: 0s - loss: 0.4706 - accuracy: 0.9651\n",
            "Epoch 58: val_accuracy did not improve from 0.74839\n",
            "57/57 [==============================] - 124s 2s/step - loss: 0.4706 - accuracy: 0.9651 - val_loss: 2.1115 - val_accuracy: 0.5742\n",
            "Epoch 59/100\n",
            "57/57 [==============================] - ETA: 0s - loss: 0.4574 - accuracy: 0.9612\n",
            "Epoch 59: val_accuracy did not improve from 0.74839\n",
            "57/57 [==============================] - 121s 2s/step - loss: 0.4574 - accuracy: 0.9612 - val_loss: 1.9823 - val_accuracy: 0.6065\n",
            "Epoch 60/100\n",
            "57/57 [==============================] - ETA: 0s - loss: 0.4202 - accuracy: 0.9756\n",
            "Epoch 60: val_accuracy improved from 0.74839 to 0.77419, saving model to /content/gdrive/MyDrive/Data_Science_2020-2022/Secondo_anno_Secondo_Semestre/FoDL_Project/Project_Example_Food/ExampleFoodImageDatasetPreprocessed/saved_models/model_1.h5\n",
            "57/57 [==============================] - 122s 2s/step - loss: 0.4202 - accuracy: 0.9756 - val_loss: 1.3873 - val_accuracy: 0.7742\n",
            "Epoch 61/100\n",
            "57/57 [==============================] - ETA: 0s - loss: 0.4108 - accuracy: 0.9723\n",
            "Epoch 61: val_accuracy did not improve from 0.77419\n",
            "57/57 [==============================] - 121s 2s/step - loss: 0.4108 - accuracy: 0.9723 - val_loss: 1.5692 - val_accuracy: 0.6323\n",
            "Epoch 62/100\n",
            "57/57 [==============================] - ETA: 0s - loss: 0.4128 - accuracy: 0.9673\n",
            "Epoch 62: val_accuracy did not improve from 0.77419\n",
            "57/57 [==============================] - 121s 2s/step - loss: 0.4128 - accuracy: 0.9673 - val_loss: 1.4871 - val_accuracy: 0.7161\n",
            "Epoch 63/100\n",
            "57/57 [==============================] - ETA: 0s - loss: 0.4080 - accuracy: 0.9728\n",
            "Epoch 63: val_accuracy did not improve from 0.77419\n",
            "57/57 [==============================] - 121s 2s/step - loss: 0.4080 - accuracy: 0.9728 - val_loss: 1.7192 - val_accuracy: 0.6903\n",
            "Epoch 64/100\n",
            "57/57 [==============================] - ETA: 0s - loss: 0.3917 - accuracy: 0.9795\n",
            "Epoch 64: val_accuracy did not improve from 0.77419\n",
            "57/57 [==============================] - 121s 2s/step - loss: 0.3917 - accuracy: 0.9795 - val_loss: 1.6134 - val_accuracy: 0.7161\n",
            "Epoch 65/100\n",
            "57/57 [==============================] - ETA: 0s - loss: 0.3984 - accuracy: 0.9712\n",
            "Epoch 65: val_accuracy did not improve from 0.77419\n",
            "57/57 [==============================] - 123s 2s/step - loss: 0.3984 - accuracy: 0.9712 - val_loss: 1.5093 - val_accuracy: 0.7226\n",
            "Epoch 66/100\n",
            "57/57 [==============================] - ETA: 0s - loss: 0.3951 - accuracy: 0.9717\n",
            "Epoch 66: val_accuracy did not improve from 0.77419\n",
            "57/57 [==============================] - 122s 2s/step - loss: 0.3951 - accuracy: 0.9717 - val_loss: 1.3047 - val_accuracy: 0.7613\n",
            "Epoch 67/100\n",
            "57/57 [==============================] - ETA: 0s - loss: 0.4010 - accuracy: 0.9723\n",
            "Epoch 67: val_accuracy did not improve from 0.77419\n",
            "57/57 [==============================] - 122s 2s/step - loss: 0.4010 - accuracy: 0.9723 - val_loss: 1.5496 - val_accuracy: 0.7161\n",
            "Epoch 68/100\n",
            "57/57 [==============================] - ETA: 0s - loss: 0.3934 - accuracy: 0.9734\n",
            "Epoch 68: val_accuracy did not improve from 0.77419\n",
            "57/57 [==============================] - 122s 2s/step - loss: 0.3934 - accuracy: 0.9734 - val_loss: 1.5724 - val_accuracy: 0.6774\n",
            "Epoch 69/100\n",
            "57/57 [==============================] - ETA: 0s - loss: 0.4093 - accuracy: 0.9656\n",
            "Epoch 69: val_accuracy did not improve from 0.77419\n",
            "57/57 [==============================] - 122s 2s/step - loss: 0.4093 - accuracy: 0.9656 - val_loss: 1.8528 - val_accuracy: 0.6581\n",
            "Epoch 70/100\n",
            "42/57 [=====================>........] - ETA: 31s - loss: 0.3838 - accuracy: 0.9762"
          ]
        },
        {
          "output_type": "error",
          "ename": "KeyboardInterrupt",
          "evalue": "ignored",
          "traceback": [
            "\u001b[0;31m---------------------------------------------------------------------------\u001b[0m",
            "\u001b[0;31mKeyboardInterrupt\u001b[0m                         Traceback (most recent call last)",
            "\u001b[0;32m<ipython-input-19-632042288a1a>\u001b[0m in \u001b[0;36m<module>\u001b[0;34m\u001b[0m\n\u001b[1;32m     75\u001b[0m                             \u001b[0mepochs\u001b[0m\u001b[0;34m=\u001b[0m\u001b[0;36m100\u001b[0m\u001b[0;34m,\u001b[0m\u001b[0;34m\u001b[0m\u001b[0;34m\u001b[0m\u001b[0m\n\u001b[1;32m     76\u001b[0m                             \u001b[0mcallbacks\u001b[0m\u001b[0;34m=\u001b[0m\u001b[0mcallbacks_list\u001b[0m\u001b[0;34m,\u001b[0m\u001b[0;34m\u001b[0m\u001b[0;34m\u001b[0m\u001b[0m\n\u001b[0;32m---> 77\u001b[0;31m \t\t\t    validation_data=test_data_generator)\n\u001b[0m\u001b[1;32m     78\u001b[0m \u001b[0;34m\u001b[0m\u001b[0m\n\u001b[1;32m     79\u001b[0m   \u001b[0mall_history\u001b[0m\u001b[0;34m[\u001b[0m\u001b[0;34mf'history-fold-{fold_var}'\u001b[0m\u001b[0;34m]\u001b[0m \u001b[0;34m=\u001b[0m \u001b[0mhistory_CV\u001b[0m\u001b[0;34m.\u001b[0m\u001b[0mhistory\u001b[0m\u001b[0;34m\u001b[0m\u001b[0;34m\u001b[0m\u001b[0m\n",
            "\u001b[0;32m/usr/local/lib/python3.7/dist-packages/keras/utils/traceback_utils.py\u001b[0m in \u001b[0;36merror_handler\u001b[0;34m(*args, **kwargs)\u001b[0m\n\u001b[1;32m     62\u001b[0m     \u001b[0mfiltered_tb\u001b[0m \u001b[0;34m=\u001b[0m \u001b[0;32mNone\u001b[0m\u001b[0;34m\u001b[0m\u001b[0;34m\u001b[0m\u001b[0m\n\u001b[1;32m     63\u001b[0m     \u001b[0;32mtry\u001b[0m\u001b[0;34m:\u001b[0m\u001b[0;34m\u001b[0m\u001b[0;34m\u001b[0m\u001b[0m\n\u001b[0;32m---> 64\u001b[0;31m       \u001b[0;32mreturn\u001b[0m \u001b[0mfn\u001b[0m\u001b[0;34m(\u001b[0m\u001b[0;34m*\u001b[0m\u001b[0margs\u001b[0m\u001b[0;34m,\u001b[0m \u001b[0;34m**\u001b[0m\u001b[0mkwargs\u001b[0m\u001b[0;34m)\u001b[0m\u001b[0;34m\u001b[0m\u001b[0;34m\u001b[0m\u001b[0m\n\u001b[0m\u001b[1;32m     65\u001b[0m     \u001b[0;32mexcept\u001b[0m \u001b[0mException\u001b[0m \u001b[0;32mas\u001b[0m \u001b[0me\u001b[0m\u001b[0;34m:\u001b[0m  \u001b[0;31m# pylint: disable=broad-except\u001b[0m\u001b[0;34m\u001b[0m\u001b[0;34m\u001b[0m\u001b[0m\n\u001b[1;32m     66\u001b[0m       \u001b[0mfiltered_tb\u001b[0m \u001b[0;34m=\u001b[0m \u001b[0m_process_traceback_frames\u001b[0m\u001b[0;34m(\u001b[0m\u001b[0me\u001b[0m\u001b[0;34m.\u001b[0m\u001b[0m__traceback__\u001b[0m\u001b[0;34m)\u001b[0m\u001b[0;34m\u001b[0m\u001b[0;34m\u001b[0m\u001b[0m\n",
            "\u001b[0;32m/usr/local/lib/python3.7/dist-packages/keras/engine/training.py\u001b[0m in \u001b[0;36mfit\u001b[0;34m(self, x, y, batch_size, epochs, verbose, callbacks, validation_split, validation_data, shuffle, class_weight, sample_weight, initial_epoch, steps_per_epoch, validation_steps, validation_batch_size, validation_freq, max_queue_size, workers, use_multiprocessing)\u001b[0m\n\u001b[1;32m   1407\u001b[0m                 _r=1):\n\u001b[1;32m   1408\u001b[0m               \u001b[0mcallbacks\u001b[0m\u001b[0;34m.\u001b[0m\u001b[0mon_train_batch_begin\u001b[0m\u001b[0;34m(\u001b[0m\u001b[0mstep\u001b[0m\u001b[0;34m)\u001b[0m\u001b[0;34m\u001b[0m\u001b[0;34m\u001b[0m\u001b[0m\n\u001b[0;32m-> 1409\u001b[0;31m               \u001b[0mtmp_logs\u001b[0m \u001b[0;34m=\u001b[0m \u001b[0mself\u001b[0m\u001b[0;34m.\u001b[0m\u001b[0mtrain_function\u001b[0m\u001b[0;34m(\u001b[0m\u001b[0miterator\u001b[0m\u001b[0;34m)\u001b[0m\u001b[0;34m\u001b[0m\u001b[0;34m\u001b[0m\u001b[0m\n\u001b[0m\u001b[1;32m   1410\u001b[0m               \u001b[0;32mif\u001b[0m \u001b[0mdata_handler\u001b[0m\u001b[0;34m.\u001b[0m\u001b[0mshould_sync\u001b[0m\u001b[0;34m:\u001b[0m\u001b[0;34m\u001b[0m\u001b[0;34m\u001b[0m\u001b[0m\n\u001b[1;32m   1411\u001b[0m                 \u001b[0mcontext\u001b[0m\u001b[0;34m.\u001b[0m\u001b[0masync_wait\u001b[0m\u001b[0;34m(\u001b[0m\u001b[0;34m)\u001b[0m\u001b[0;34m\u001b[0m\u001b[0;34m\u001b[0m\u001b[0m\n",
            "\u001b[0;32m/usr/local/lib/python3.7/dist-packages/tensorflow/python/util/traceback_utils.py\u001b[0m in \u001b[0;36merror_handler\u001b[0;34m(*args, **kwargs)\u001b[0m\n\u001b[1;32m    148\u001b[0m     \u001b[0mfiltered_tb\u001b[0m \u001b[0;34m=\u001b[0m \u001b[0;32mNone\u001b[0m\u001b[0;34m\u001b[0m\u001b[0;34m\u001b[0m\u001b[0m\n\u001b[1;32m    149\u001b[0m     \u001b[0;32mtry\u001b[0m\u001b[0;34m:\u001b[0m\u001b[0;34m\u001b[0m\u001b[0;34m\u001b[0m\u001b[0m\n\u001b[0;32m--> 150\u001b[0;31m       \u001b[0;32mreturn\u001b[0m \u001b[0mfn\u001b[0m\u001b[0;34m(\u001b[0m\u001b[0;34m*\u001b[0m\u001b[0margs\u001b[0m\u001b[0;34m,\u001b[0m \u001b[0;34m**\u001b[0m\u001b[0mkwargs\u001b[0m\u001b[0;34m)\u001b[0m\u001b[0;34m\u001b[0m\u001b[0;34m\u001b[0m\u001b[0m\n\u001b[0m\u001b[1;32m    151\u001b[0m     \u001b[0;32mexcept\u001b[0m \u001b[0mException\u001b[0m \u001b[0;32mas\u001b[0m \u001b[0me\u001b[0m\u001b[0;34m:\u001b[0m\u001b[0;34m\u001b[0m\u001b[0;34m\u001b[0m\u001b[0m\n\u001b[1;32m    152\u001b[0m       \u001b[0mfiltered_tb\u001b[0m \u001b[0;34m=\u001b[0m \u001b[0m_process_traceback_frames\u001b[0m\u001b[0;34m(\u001b[0m\u001b[0me\u001b[0m\u001b[0;34m.\u001b[0m\u001b[0m__traceback__\u001b[0m\u001b[0;34m)\u001b[0m\u001b[0;34m\u001b[0m\u001b[0;34m\u001b[0m\u001b[0m\n",
            "\u001b[0;32m/usr/local/lib/python3.7/dist-packages/tensorflow/python/eager/def_function.py\u001b[0m in \u001b[0;36m__call__\u001b[0;34m(self, *args, **kwds)\u001b[0m\n\u001b[1;32m    913\u001b[0m \u001b[0;34m\u001b[0m\u001b[0m\n\u001b[1;32m    914\u001b[0m       \u001b[0;32mwith\u001b[0m \u001b[0mOptionalXlaContext\u001b[0m\u001b[0;34m(\u001b[0m\u001b[0mself\u001b[0m\u001b[0;34m.\u001b[0m\u001b[0m_jit_compile\u001b[0m\u001b[0;34m)\u001b[0m\u001b[0;34m:\u001b[0m\u001b[0;34m\u001b[0m\u001b[0;34m\u001b[0m\u001b[0m\n\u001b[0;32m--> 915\u001b[0;31m         \u001b[0mresult\u001b[0m \u001b[0;34m=\u001b[0m \u001b[0mself\u001b[0m\u001b[0;34m.\u001b[0m\u001b[0m_call\u001b[0m\u001b[0;34m(\u001b[0m\u001b[0;34m*\u001b[0m\u001b[0margs\u001b[0m\u001b[0;34m,\u001b[0m \u001b[0;34m**\u001b[0m\u001b[0mkwds\u001b[0m\u001b[0;34m)\u001b[0m\u001b[0;34m\u001b[0m\u001b[0;34m\u001b[0m\u001b[0m\n\u001b[0m\u001b[1;32m    916\u001b[0m \u001b[0;34m\u001b[0m\u001b[0m\n\u001b[1;32m    917\u001b[0m       \u001b[0mnew_tracing_count\u001b[0m \u001b[0;34m=\u001b[0m \u001b[0mself\u001b[0m\u001b[0;34m.\u001b[0m\u001b[0mexperimental_get_tracing_count\u001b[0m\u001b[0;34m(\u001b[0m\u001b[0;34m)\u001b[0m\u001b[0;34m\u001b[0m\u001b[0;34m\u001b[0m\u001b[0m\n",
            "\u001b[0;32m/usr/local/lib/python3.7/dist-packages/tensorflow/python/eager/def_function.py\u001b[0m in \u001b[0;36m_call\u001b[0;34m(self, *args, **kwds)\u001b[0m\n\u001b[1;32m    945\u001b[0m       \u001b[0;31m# In this case we have created variables on the first call, so we run the\u001b[0m\u001b[0;34m\u001b[0m\u001b[0;34m\u001b[0m\u001b[0;34m\u001b[0m\u001b[0m\n\u001b[1;32m    946\u001b[0m       \u001b[0;31m# defunned version which is guaranteed to never create variables.\u001b[0m\u001b[0;34m\u001b[0m\u001b[0;34m\u001b[0m\u001b[0;34m\u001b[0m\u001b[0m\n\u001b[0;32m--> 947\u001b[0;31m       \u001b[0;32mreturn\u001b[0m \u001b[0mself\u001b[0m\u001b[0;34m.\u001b[0m\u001b[0m_stateless_fn\u001b[0m\u001b[0;34m(\u001b[0m\u001b[0;34m*\u001b[0m\u001b[0margs\u001b[0m\u001b[0;34m,\u001b[0m \u001b[0;34m**\u001b[0m\u001b[0mkwds\u001b[0m\u001b[0;34m)\u001b[0m  \u001b[0;31m# pylint: disable=not-callable\u001b[0m\u001b[0;34m\u001b[0m\u001b[0;34m\u001b[0m\u001b[0m\n\u001b[0m\u001b[1;32m    948\u001b[0m     \u001b[0;32melif\u001b[0m \u001b[0mself\u001b[0m\u001b[0;34m.\u001b[0m\u001b[0m_stateful_fn\u001b[0m \u001b[0;32mis\u001b[0m \u001b[0;32mnot\u001b[0m \u001b[0;32mNone\u001b[0m\u001b[0;34m:\u001b[0m\u001b[0;34m\u001b[0m\u001b[0;34m\u001b[0m\u001b[0m\n\u001b[1;32m    949\u001b[0m       \u001b[0;31m# Release the lock early so that multiple threads can perform the call\u001b[0m\u001b[0;34m\u001b[0m\u001b[0;34m\u001b[0m\u001b[0;34m\u001b[0m\u001b[0m\n",
            "\u001b[0;32m/usr/local/lib/python3.7/dist-packages/tensorflow/python/eager/function.py\u001b[0m in \u001b[0;36m__call__\u001b[0;34m(self, *args, **kwargs)\u001b[0m\n\u001b[1;32m   2452\u001b[0m        filtered_flat_args) = self._maybe_define_function(args, kwargs)\n\u001b[1;32m   2453\u001b[0m     return graph_function._call_flat(\n\u001b[0;32m-> 2454\u001b[0;31m         filtered_flat_args, captured_inputs=graph_function.captured_inputs)  # pylint: disable=protected-access\n\u001b[0m\u001b[1;32m   2455\u001b[0m \u001b[0;34m\u001b[0m\u001b[0m\n\u001b[1;32m   2456\u001b[0m   \u001b[0;34m@\u001b[0m\u001b[0mproperty\u001b[0m\u001b[0;34m\u001b[0m\u001b[0;34m\u001b[0m\u001b[0m\n",
            "\u001b[0;32m/usr/local/lib/python3.7/dist-packages/tensorflow/python/eager/function.py\u001b[0m in \u001b[0;36m_call_flat\u001b[0;34m(self, args, captured_inputs, cancellation_manager)\u001b[0m\n\u001b[1;32m   1859\u001b[0m       \u001b[0;31m# No tape is watching; skip to running the function.\u001b[0m\u001b[0;34m\u001b[0m\u001b[0;34m\u001b[0m\u001b[0;34m\u001b[0m\u001b[0m\n\u001b[1;32m   1860\u001b[0m       return self._build_call_outputs(self._inference_function.call(\n\u001b[0;32m-> 1861\u001b[0;31m           ctx, args, cancellation_manager=cancellation_manager))\n\u001b[0m\u001b[1;32m   1862\u001b[0m     forward_backward = self._select_forward_and_backward_functions(\n\u001b[1;32m   1863\u001b[0m         \u001b[0margs\u001b[0m\u001b[0;34m,\u001b[0m\u001b[0;34m\u001b[0m\u001b[0;34m\u001b[0m\u001b[0m\n",
            "\u001b[0;32m/usr/local/lib/python3.7/dist-packages/tensorflow/python/eager/function.py\u001b[0m in \u001b[0;36mcall\u001b[0;34m(self, ctx, args, cancellation_manager)\u001b[0m\n\u001b[1;32m    500\u001b[0m               \u001b[0minputs\u001b[0m\u001b[0;34m=\u001b[0m\u001b[0margs\u001b[0m\u001b[0;34m,\u001b[0m\u001b[0;34m\u001b[0m\u001b[0;34m\u001b[0m\u001b[0m\n\u001b[1;32m    501\u001b[0m               \u001b[0mattrs\u001b[0m\u001b[0;34m=\u001b[0m\u001b[0mattrs\u001b[0m\u001b[0;34m,\u001b[0m\u001b[0;34m\u001b[0m\u001b[0;34m\u001b[0m\u001b[0m\n\u001b[0;32m--> 502\u001b[0;31m               ctx=ctx)\n\u001b[0m\u001b[1;32m    503\u001b[0m         \u001b[0;32melse\u001b[0m\u001b[0;34m:\u001b[0m\u001b[0;34m\u001b[0m\u001b[0;34m\u001b[0m\u001b[0m\n\u001b[1;32m    504\u001b[0m           outputs = execute.execute_with_cancellation(\n",
            "\u001b[0;32m/usr/local/lib/python3.7/dist-packages/tensorflow/python/eager/execute.py\u001b[0m in \u001b[0;36mquick_execute\u001b[0;34m(op_name, num_outputs, inputs, attrs, ctx, name)\u001b[0m\n\u001b[1;32m     53\u001b[0m     \u001b[0mctx\u001b[0m\u001b[0;34m.\u001b[0m\u001b[0mensure_initialized\u001b[0m\u001b[0;34m(\u001b[0m\u001b[0;34m)\u001b[0m\u001b[0;34m\u001b[0m\u001b[0;34m\u001b[0m\u001b[0m\n\u001b[1;32m     54\u001b[0m     tensors = pywrap_tfe.TFE_Py_Execute(ctx._handle, device_name, op_name,\n\u001b[0;32m---> 55\u001b[0;31m                                         inputs, attrs, num_outputs)\n\u001b[0m\u001b[1;32m     56\u001b[0m   \u001b[0;32mexcept\u001b[0m \u001b[0mcore\u001b[0m\u001b[0;34m.\u001b[0m\u001b[0m_NotOkStatusException\u001b[0m \u001b[0;32mas\u001b[0m \u001b[0me\u001b[0m\u001b[0;34m:\u001b[0m\u001b[0;34m\u001b[0m\u001b[0;34m\u001b[0m\u001b[0m\n\u001b[1;32m     57\u001b[0m     \u001b[0;32mif\u001b[0m \u001b[0mname\u001b[0m \u001b[0;32mis\u001b[0m \u001b[0;32mnot\u001b[0m \u001b[0;32mNone\u001b[0m\u001b[0;34m:\u001b[0m\u001b[0;34m\u001b[0m\u001b[0;34m\u001b[0m\u001b[0m\n",
            "\u001b[0;31mKeyboardInterrupt\u001b[0m: "
          ]
        }
      ],
      "source": [
        "VALIDATION_ACCURACY = []\n",
        "VALIDATION_LOSS = []\n",
        "all_history = {}\n",
        "\n",
        "save_dir = SAVED_MODELS\n",
        "fold_var = 1\n",
        "\n",
        "for train_index, val_index in skf.split(np.zeros(len(all_df)), Y_kfold):\n",
        "  print(\"fold_var number is:\", fold_var)\n",
        "  # print(\"train_index:\", train_index)\n",
        "  # print(\"val_index:\", val_index)\n",
        "\n",
        "  # EXPLAIN BETTER HOW THIS IS WORKING! CAN YOU ENSURE THAT THIS IS THE \n",
        "  # SAME SPLITTING DONE BEFORE? HOW DOES THIS SPLITTING WORKS?\n",
        "  # training_data = all_df.iloc[train_index]\n",
        "  # validation_data = all_df.iloc[val_index]\n",
        "\n",
        "  # print(\"training_data\", training_data)\n",
        "  # print(\"validation_data\", validation_data)\n",
        "\t \n",
        "  model_instance = create_new_model()\n",
        "\t# COMPILE NEW MODEL\n",
        "  model_instance.compile(loss=keras.losses.categorical_crossentropy, \n",
        "                         optimizer=keras.optimizers.Adam(learning_rate=0.001), \n",
        "                         metrics=['accuracy'])\n",
        "\t\n",
        "\t# CREATE CALLBACKS\n",
        "  checkpoint = tf.keras.callbacks.ModelCheckpoint(\n",
        "      save_dir+get_model_name(fold_var), \n",
        "      monitor='val_accuracy', \n",
        "      verbose=1, \n",
        "      save_best_only=True, \n",
        "      mode='max')\n",
        " \n",
        "  callbacks_list = [checkpoint]\n",
        "\t# There can be other callbacks, but just showing one because it involves the model name\n",
        "\t# This saves the best model\n",
        "\t#########################################\n",
        "  # INSERT THE LOOP FOR THE PARAMETERS    #\n",
        "  #########################################\n",
        "\n",
        "  # LEGGI: https://stackoverflow.com/questions/47279677/how-use-grid-search-with-fit-generator-in-keras\n",
        "  # LEGGI: https://medium.com/the-owl/k-fold-cross-validation-in-keras-3ec4a3a00538\n",
        "  # LEGGI: https://medium.com/the-owl/k-fold-cross-validation-in-keras-3ec4a3a00538\n",
        "\n",
        "  # def try_fit(learn_rate):\n",
        "  #   history_page=[]\n",
        "  #   for lr in learn_rate:\n",
        "  #     # for moment in momentum:\n",
        "  #     model_instance = create_new_model(lr)\n",
        "  #     model_instance.compile(loss=keras.losses.categorical_crossentropy, \n",
        "  #                       optimizer=keras.optimizers.Adam(learning_rate=lr), \n",
        "  #                       metrics=['accuracy'])\n",
        "  #     history = model_instance.fit_generator(\n",
        "  #         train_generator,\n",
        "  #         epochs=5,\n",
        "  #         validation_data = test_generator,\n",
        "  #         steps_per_epoch = train_generator.n // train_generator.batch_size,\n",
        "  #         validation_steps = test_generator.n // test_generator.batch_size)    \n",
        "        \n",
        "  #     history_page.append(history)\n",
        "    \n",
        "  #   return history_page\n",
        "\n",
        "  # for param in param_list:\n",
        "  #   history_page = try_fit(learn_rate)\n",
        "  #   history_page[0].history['accuracy']\n",
        "\n",
        "  #########################################\n",
        "  #                                       #\n",
        "  #########################################\n",
        "  \n",
        "  # FIT THE MODEL\n",
        "  history_CV = model_instance.fit(train_data_generator,\n",
        "\t\t\t    epochs=100,\n",
        "\t\t\t    callbacks=callbacks_list,\n",
        "\t\t\t    validation_data=test_data_generator)\n",
        "\n",
        "  all_history[f'history-fold-{fold_var}'] = history_CV.history\n",
        "\n",
        "\n",
        "\t#PLOT HISTORY\n",
        "\t#\t\t:\n",
        "\t#\t\t:\n",
        "\t# PROVA A SALVARE LA HISTORY COME è STATO FATTO QUI --> SICURAMENTE MEGLIO!\n",
        "  # https://towardsdatascience.com/increase-the-accuracy-of-your-cnn-by-following-these-5-tips-i-learned-from-the-kaggle-community-27227ad39554\n",
        "  # https://medium.com/the-owl/k-fold-cross-validation-in-keras-3ec4a3a00538\n",
        "\n",
        "\t# LOAD BEST MODEL to evaluate the performance of the model\n",
        "  model_instance.load_weights(f\"/{SAVED_MODELS}/model_\"+str(fold_var)+\".h5\")\n",
        "\t\n",
        "  results = model_instance.evaluate(test_data_generator)\n",
        "  results = dict(zip(model_instance.metrics_names,results))\n",
        "\t\n",
        "  VALIDATION_ACCURACY.append(results['accuracy'])\n",
        "  VALIDATION_LOSS.append(results['loss'])\n",
        "\t\n",
        "  tf.keras.backend.clear_session()\n",
        "\t\n",
        "  fold_var += 1"
      ]
    },
    {
      "cell_type": "markdown",
      "metadata": {
        "id": "DkLQejE86ntD"
      },
      "source": [
        "USE THIS:\n",
        "CONVERT IMAGEDATAGENERATOR AS NUMPY ARRAY AND FEED THEM INSIDE GRIDSEARCHCV AS X AND Y:\n",
        "- https://stackoverflow.com/questions/42284873/assign-imagedatagenerator-result-to-numpy-array\n",
        "\n",
        "FOLLOWING THEN:\n",
        "- https://machinelearningmastery.com/grid-search-hyperparameters-deep-learning-models-python-keras/"
      ]
    },
    {
      "cell_type": "markdown",
      "metadata": {
        "id": "hjch9lbi5B3-"
      },
      "source": [
        "CHECK:\n",
        "- https://stackoverflow.com/questions/47279677/how-use-grid-search-with-fit-generator-in-keras\n",
        "- https://stackoverflow.com/questions/59023969/grid-search-hyperparameters-for-an-image-classification-model\n",
        "- https://stackoverflow.com/questions/54078455/grid-search-with-gridsearchcv-scikit-learn-hyperparameter-tuning-using-image\n",
        "\n",
        "CONVERT IMAGES TO ARRAYS\n",
        "- https://www.quora.com/How-do-I-load-train-and-test-data-from-the-local-drive-for-a-deep-learning-Keras-model"
      ]
    },
    {
      "cell_type": "markdown",
      "metadata": {
        "id": "uczgbTRx5B0S"
      },
      "source": []
    },
    {
      "cell_type": "code",
      "execution_count": null,
      "metadata": {
        "colab": {
          "base_uri": "https://localhost:8080/",
          "height": 286
        },
        "id": "tNppGYgTRfNQ",
        "outputId": "c275898f-1afd-47cc-a120-752eeefac684"
      },
      "outputs": [
        {
          "data": {
            "text/plain": [
              "[<matplotlib.lines.Line2D at 0x7f288c663f90>]"
            ]
          },
          "execution_count": 64,
          "metadata": {},
          "output_type": "execute_result"
        },
        {
          "data": {
            "image/png": "[encoded data removed]",
            "text/plain": [
              "<Figure size 432x288 with 1 Axes>"
            ]
          },
          "metadata": {},
          "output_type": "display_data"
        }
      ],
      "source": [
        "plt.plot(VALIDATION_ACCURACY)"
      ]
    },
    {
      "cell_type": "code",
      "execution_count": null,
      "metadata": {
        "colab": {
          "base_uri": "https://localhost:8080/",
          "height": 282
        },
        "id": "7hDElpW2RfKl",
        "outputId": "e40528ab-d437-4e3d-ad26-a4dbff22c3dc"
      },
      "outputs": [
        {
          "data": {
            "text/plain": [
              "[<matplotlib.lines.Line2D at 0x7f288865f510>]"
            ]
          },
          "execution_count": 65,
          "metadata": {},
          "output_type": "execute_result"
        },
        {
          "data": {
            "image/png": "[encoded data removed]",
            "text/plain": [
              "<Figure size 432x288 with 1 Axes>"
            ]
          },
          "metadata": {},
          "output_type": "display_data"
        }
      ],
      "source": [
        "plt.plot(VALIDATION_LOSS)"
      ]
    },
    {
      "cell_type": "code",
      "execution_count": null,
      "metadata": {
        "colab": {
          "base_uri": "https://localhost:8080/"
        },
        "id": "aSbiVFbo06vf",
        "outputId": "743fdeaa-8c44-48bd-8139-9da8c1b92dfb"
      },
      "outputs": [
        {
          "data": {
            "text/plain": [
              "dict_values([{'loss': [3.6216585636138916, 2.5981621742248535, 2.2140607833862305, 2.0119338035583496, 1.8069442510604858], 'accuracy': [0.26012203097343445, 0.4409317672252655, 0.5330005288124084, 0.5773710608482361, 0.6289517283439636], 'val_loss': [3.214730739593506, 3.060303211212158, 2.9301836490631104, 2.8610901832580566, 2.784550905227661], 'val_accuracy': [0.1806451678276062, 0.21935483813285828, 0.26451611518859863, 0.2709677517414093, 0.2774193584918976]}, {'loss': [3.4453530311584473, 2.568146228790283, 2.193359613418579, 1.935943365097046, 1.7505513429641724], 'accuracy': [0.24736550450325012, 0.4315030574798584, 0.5219079256057739, 0.5901275873184204, 0.6317248940467834], 'val_loss': [3.163815975189209, 2.9759769439697266, 2.865057945251465, 2.720505952835083, 2.6555404663085938], 'val_accuracy': [0.18709677457809448, 0.20645160973072052, 0.3612903356552124, 0.42580646276474, 0.40645161271095276]}, {'loss': [3.7552313804626465, 2.735039234161377, 2.3069467544555664, 2.0152926445007324, 1.833892822265625], 'accuracy': [0.21907931566238403, 0.3948974013328552, 0.5252357125282288, 0.5912368297576904, 0.6433721780776978], 'val_loss': [3.2187492847442627, 3.094531536102295, 3.000582695007324, 2.8791985511779785, 2.7786331176757812], 'val_accuracy': [0.21290323138237, 0.3032258152961731, 0.16129031777381897, 0.34193548560142517, 0.31612902879714966]}, {'loss': [3.405961275100708, 2.5065324306488037, 2.138073205947876, 1.873376488685608, 1.7704670429229736], 'accuracy': [0.2562395930290222, 0.44758734107017517, 0.5318912863731384, 0.6073211431503296, 0.6189683675765991], 'val_loss': [3.1594059467315674, 2.9701826572418213, 2.861898422241211, 2.7606282234191895, 2.6771416664123535], 'val_accuracy': [0.1548387110233307, 0.38064515590667725, 0.2451612949371338, 0.32258063554763794, 0.41290321946144104]}, {'loss': [3.32955002784729, 2.5161855220794678, 2.098564386367798, 1.8809573650360107, 1.7376723289489746], 'accuracy': [0.28119799494743347, 0.45701608061790466, 0.5612867474555969, 0.6245146989822388, 0.6566833257675171], 'val_loss': [3.195452928543091, 3.0275063514709473, 2.9140303134918213, 2.821290969848633, 2.661663055419922], 'val_accuracy': [0.29032257199287415, 0.10967741906642914, 0.10967741906642914, 0.12903225421905518, 0.4516128897666931]}])"
            ]
          },
          "execution_count": 77,
          "metadata": {},
          "output_type": "execute_result"
        }
      ],
      "source": [
        "all_history.values()"
      ]
    },
    {
      "cell_type": "markdown",
      "metadata": {
        "id": "8m0QuYjp0uZj"
      },
      "source": [
        "Cerca online anche altre architetture di CNN differenti e aumenta deepness dell'architettura per arrivare almeno a 10 layers!\n",
        "\n",
        "- https://towardsdatascience.com/image-classification-with-convolutional-neural-networks-12a7b4fb4c91\n",
        "\n",
        "Altro tipo di architettura:\n",
        "- https://www.kdnuggets.com/2022/05/image-classification-convolutional-neural-networks-cnns.html\n",
        "\n",
        "Try:\n",
        "\n",
        "- https://medium.com/codex/how-to-tune-hyperparameters-for-better-neural-network-performance-b8f542855d2e\n",
        "- https://towardsdatascience.com/increase-the-accuracy-of-your-cnn-by-following-these-5-tips-i-learned-from-the-kaggle-community-27227ad39554\n",
        "- https://medium.com/@navmcgill/k-fold-cross-validation-in-keras-convolutional-neural-networks-835bed559d04"
      ]
    },
    {
      "cell_type": "markdown",
      "metadata": {
        "id": "_uQYUPBJwajx"
      },
      "source": [
        "Instead of Max pooling, you can also use fractional pooling:\n",
        "\n",
        "https://stackoverflow.com/questions/44991470/using-tensorflow-layers-in-keras\n",
        "\n",
        "Check the paper:\n",
        "Efficient Processing DNN a tutorial and survery, page 10 for reference."
      ]
    },
    {
      "cell_type": "markdown",
      "metadata": {
        "id": "AWObZF7b8pj7"
      },
      "source": [
        "### Results Model V05"
      ]
    },
    {
      "cell_type": "markdown",
      "metadata": {
        "id": "pIcZ6ifT9FcE"
      },
      "source": []
    },
    {
      "cell_type": "markdown",
      "metadata": {
        "id": "Ju16ckfof-LB"
      },
      "source": [
        "## 5.9 Model V06 - GRIDSEARCH"
      ]
    },
    {
      "cell_type": "markdown",
      "source": [
        "Ottima spiegazione:\n",
        "https://stackoverflow.com/questions/49160206/does-gridsearchcv-perform-cross-validation"
      ],
      "metadata": {
        "id": "jjqsxoZAkpEU"
      }
    },
    {
      "cell_type": "markdown",
      "metadata": {
        "id": "iQFzqCcS4lOT"
      },
      "source": [
        "Non stare ad applicare anche la cross validation, ma fai direttamente GRIDSEARCHCV che tiene in consideraziona ANCHE la cross validation!\n",
        "\n",
        "Attenzione: \"As you proceed through the examples in this post, you will aggregate the best parameters. This is not the best way to grid search because parameters can interact, but it is good for demonstration purposes.\" Based on this comment, you should create a single hypertuning parameter model because the parameters can interact between each others. O, altrimenti, potresti anche provarli uno per uno e poi spiegare che lßappendimento era troppo lungo per poter essere processato in una volta sola in Colab perche la macchina si disconnetteva (ci sono soluzioni a parte pagare?) "
      ]
    },
    {
      "cell_type": "markdown",
      "metadata": {
        "id": "kLwUBkU15aKq"
      },
      "source": [
        "### 1. How to Tune Batch Size and Number of Epochs"
      ]
    },
    {
      "cell_type": "code",
      "execution_count": null,
      "metadata": {
        "colab": {
          "base_uri": "https://localhost:8080/"
        },
        "id": "BELXoc4S_XAJ",
        "outputId": "9d31d44e-284b-4267-acfc-02c34672203b"
      },
      "outputs": [
        {
          "output_type": "stream",
          "name": "stdout",
          "text": [
            "Found 1803 images belonging to 9 classes.\n"
          ]
        }
      ],
      "source": [
        "itr = train_datagen.flow_from_directory(\n",
        "    base_path_train,\n",
        "    target_size=(224,224),\n",
        "    batch_size=1803, # you flow through the entire training dataset and get all the images, using just one batch size!\n",
        "    class_mode='categorical')\n",
        "\n",
        "X, y = itr.next()"
      ]
    },
    {
      "cell_type": "markdown",
      "metadata": {
        "id": "wboKoJY9BsOP"
      },
      "source": [
        "- https://stackoverflow.com/questions/42284873/assign-imagedatagenerator-result-to-numpy-array"
      ]
    },
    {
      "cell_type": "code",
      "source": [
        "def create_GSCV_model(lr=0.001, init_mode=\"he_uniform\", activation = \"relu\", dropout_rate=0.0):\n",
        "  model_gridsearchCV = tf.keras.models.Sequential([\n",
        "  keras.Input((224, 224, 3)),\n",
        "\n",
        "  # 1st Conv Block\n",
        "  keras.layers.Conv2D(32, 3, padding=\"same\", kernel_initializer=\"he_uniform\", kernel_regularizer=tf.keras.regularizers.l2(0.001)),\n",
        "  keras.layers.BatchNormalization(),\n",
        "  keras.layers.Activation('relu'),\n",
        "  keras.layers.MaxPooling2D(3, strides=3, padding=\"same\"),\n",
        "\n",
        "  # 2nd Conv Block\n",
        "  keras.layers.Conv2D(32, 3, padding=\"same\", kernel_initializer=\"he_uniform\", kernel_regularizer=tf.keras.regularizers.l2(0.001)),\n",
        "  keras.layers.Activation('relu'),\n",
        "  keras.layers.MaxPooling2D(3, strides=3, padding=\"same\"),\n",
        "\n",
        "  # 3rd Conv block\n",
        "  keras.layers.Conv2D(64, 3, padding=\"same\", kernel_initializer=\"he_uniform\", kernel_regularizer=tf.keras.regularizers.l2(0.001)),\n",
        "  keras.layers.BatchNormalization(),\n",
        "  keras.layers.Activation('relu'),\n",
        "  keras.layers.MaxPooling2D(3, strides=3, padding=\"same\"),\n",
        "\n",
        "  # 4rd Conv block\n",
        "  keras.layers.Conv2D(64, 3, padding=\"same\", kernel_initializer=\"he_uniform\", kernel_regularizer=tf.keras.regularizers.l2(0.001)),\n",
        "  keras.layers.Activation('relu'),\n",
        "  keras.layers.MaxPooling2D(3, strides=3, padding=\"same\"),\n",
        "\n",
        "  # the model so far outputs 3D feature maps (height, width, features)\n",
        "\n",
        "  # FLATTEN AND ADD DROPOUT\n",
        "  keras.layers.Flatten(), # this converts our 3D feature maps to 1D feature vectors\n",
        "  keras.layers.Dropout(0.25),\n",
        "  keras.layers.Dense(512, activation='relu', kernel_regularizer=tf.keras.regularizers.l2(0.001)),\n",
        "  keras.layers.Activation('relu'),\n",
        "  keras.layers.Dense(512, activation='relu', kernel_regularizer=tf.keras.regularizers.l2(0.001)),\n",
        "\n",
        "  keras.layers.Dense(num_classes, activation=\"softmax\", kernel_regularizer=tf.keras.regularizers.l2(0.001))\n",
        "  ])\n",
        "\n",
        "  # COMPILE THE MODEL\n",
        "  model_gridsearchCV.compile(loss=keras.losses.categorical_crossentropy,\n",
        "                             optimizer= keras.optimizers.Adam(learning_rate=lr),\n",
        "                             metrics=['accuracy'])\n",
        "\n",
        "  return model_gridsearchCV"
      ],
      "metadata": {
        "id": "3iz4m59_Sn1z"
      },
      "execution_count": null,
      "outputs": []
    },
    {
      "cell_type": "code",
      "execution_count": null,
      "metadata": {
        "id": "yGXft6JSNXhi"
      },
      "outputs": [],
      "source": [
        "# CREATE THE MODEL\n",
        "# model_gridsearchcv = KerasClassifier(model=model_gridsearchCV, epochs=20, verbose=10)\n",
        "model_gridsearchcv = KerasClassifier(model=create_GSCV_model(), epochs=20, verbose=10)"
      ]
    },
    {
      "cell_type": "code",
      "execution_count": null,
      "metadata": {
        "id": "o0mquIXLDaWQ"
      },
      "outputs": [],
      "source": [
        "# DEFINE THE GRID SEARCH PARAMETERS\n",
        "batch_size = [32, 64, 128]\n",
        "optimizer = ['SGD', 'RMSprop', 'Adam']\n",
        "lr = [0.1, 0.01, 0.001]\n",
        "# momentum = [0.0, 0.2, 0.4]\n",
        "# activation = ['softmax', 'relu', 'LeakyRelu']\n",
        "# init_mode = ['uniform', 'lecun_uniform', 'he_uniform']\n",
        "# dropout_rate = [0.0, 0.1, 0.2] \n",
        "\n",
        "# CREATE THE PARAM GRID\n",
        "param_grid_CV = dict(batch_size = batch_size, \n",
        "                  optimizer = optimizer, \n",
        "                  optimizer__learning_rate = lr)\n",
        "                  # optimizer__momentum = momentum,\n",
        "                  # model__activation = activation)\n",
        "                  # model__dropout_rate = dropout_rate)\n",
        "                  # model__init_mode=init_mode)\n",
        "\n",
        "# DEFINE THE GRIDSEARCHCV METHOD\n",
        "# grid_cv = GridSearchCV(estimator=model_gridsearchcv, param_grid=param_grid, n_jobs = 1, cv=3, error_score=\"raise\")\n",
        "grid_cv = RandomizedSearchCV(estimator = model_gridsearchcv, \n",
        "                             param_distributions = param_grid_CV, \n",
        "                             n_jobs = 1, \n",
        "                             cv = 3, \n",
        "                             error_score = \"raise\")\n",
        "\n",
        "grid_cv"
      ]
    },
    {
      "cell_type": "code",
      "execution_count": null,
      "metadata": {
        "id": "feNsV7HZDf41",
        "colab": {
          "base_uri": "https://localhost:8080/"
        },
        "outputId": "84d59da3-b4e6-4dce-d48b-36cedba095ec"
      },
      "outputs": [
        {
          "output_type": "stream",
          "name": "stderr",
          "text": [
            "WARNING:absl:Found untraced functions such as _jit_compiled_convolution_op, _jit_compiled_convolution_op, _jit_compiled_convolution_op, _jit_compiled_convolution_op while saving (showing 4 of 4). These functions will not be directly callable after loading.\n",
            "WARNING:absl:Found untraced functions such as _jit_compiled_convolution_op, _jit_compiled_convolution_op, _jit_compiled_convolution_op, _jit_compiled_convolution_op while saving (showing 4 of 4). These functions will not be directly callable after loading.\n"
          ]
        },
        {
          "output_type": "stream",
          "name": "stdout",
          "text": [
            "Epoch 1/20\n",
            "Epoch 2/20\n",
            "Epoch 3/20\n",
            "Epoch 4/20\n",
            "Epoch 5/20\n",
            "Epoch 6/20\n",
            "Epoch 7/20\n",
            "Epoch 8/20\n",
            "Epoch 9/20\n",
            "Epoch 10/20\n",
            "Epoch 11/20\n",
            "Epoch 12/20\n",
            "Epoch 13/20\n",
            "Epoch 14/20\n",
            "Epoch 15/20\n",
            "Epoch 16/20\n",
            "Epoch 17/20\n",
            "Epoch 18/20\n",
            "Epoch 19/20\n",
            "Epoch 20/20\n"
          ]
        },
        {
          "output_type": "stream",
          "name": "stderr",
          "text": [
            "WARNING:absl:Found untraced functions such as _jit_compiled_convolution_op, _jit_compiled_convolution_op, _jit_compiled_convolution_op, _jit_compiled_convolution_op while saving (showing 4 of 4). These functions will not be directly callable after loading.\n"
          ]
        },
        {
          "output_type": "stream",
          "name": "stdout",
          "text": [
            "Epoch 1/20\n",
            "Epoch 2/20\n",
            "Epoch 3/20\n",
            "Epoch 4/20\n",
            "Epoch 5/20\n",
            "Epoch 6/20\n",
            "Epoch 7/20\n",
            "Epoch 8/20\n",
            "Epoch 9/20\n",
            "Epoch 10/20\n",
            "Epoch 11/20\n",
            "Epoch 12/20\n",
            "Epoch 13/20\n",
            "Epoch 14/20\n",
            "Epoch 15/20\n",
            "Epoch 16/20\n",
            "Epoch 17/20\n",
            "Epoch 18/20\n",
            "Epoch 19/20\n",
            "Epoch 20/20\n"
          ]
        },
        {
          "output_type": "stream",
          "name": "stderr",
          "text": [
            "WARNING:absl:Found untraced functions such as _jit_compiled_convolution_op, _jit_compiled_convolution_op, _jit_compiled_convolution_op, _jit_compiled_convolution_op while saving (showing 4 of 4). These functions will not be directly callable after loading.\n"
          ]
        },
        {
          "output_type": "stream",
          "name": "stdout",
          "text": [
            "Epoch 1/20\n",
            "Epoch 2/20\n",
            "Epoch 3/20\n",
            "Epoch 4/20\n",
            "Epoch 5/20\n",
            "Epoch 6/20\n",
            "Epoch 7/20\n",
            "Epoch 8/20\n",
            "Epoch 9/20\n",
            "Epoch 10/20\n",
            "Epoch 11/20\n",
            "Epoch 12/20\n",
            "Epoch 13/20\n",
            "Epoch 14/20\n",
            "Epoch 15/20\n",
            "Epoch 16/20\n",
            "Epoch 17/20\n",
            "Epoch 18/20\n",
            "Epoch 19/20\n",
            "Epoch 20/20\n"
          ]
        },
        {
          "output_type": "stream",
          "name": "stderr",
          "text": [
            "WARNING:absl:Found untraced functions such as _jit_compiled_convolution_op, _jit_compiled_convolution_op, _jit_compiled_convolution_op, _jit_compiled_convolution_op while saving (showing 4 of 4). These functions will not be directly callable after loading.\n"
          ]
        },
        {
          "output_type": "stream",
          "name": "stdout",
          "text": [
            "Epoch 1/20\n",
            "Epoch 2/20\n",
            "Epoch 3/20\n",
            "Epoch 4/20\n",
            "Epoch 5/20\n",
            "Epoch 6/20\n",
            "Epoch 7/20\n",
            "Epoch 8/20\n",
            "Epoch 9/20\n",
            "Epoch 10/20\n",
            "Epoch 11/20\n",
            "Epoch 12/20\n",
            "Epoch 13/20\n",
            "Epoch 14/20\n",
            "Epoch 15/20\n",
            "Epoch 16/20\n",
            "Epoch 17/20\n",
            "Epoch 18/20\n",
            "Epoch 19/20\n",
            "Epoch 20/20\n"
          ]
        },
        {
          "output_type": "stream",
          "name": "stderr",
          "text": [
            "WARNING:absl:Found untraced functions such as _jit_compiled_convolution_op, _jit_compiled_convolution_op, _jit_compiled_convolution_op, _jit_compiled_convolution_op while saving (showing 4 of 4). These functions will not be directly callable after loading.\n"
          ]
        },
        {
          "output_type": "stream",
          "name": "stdout",
          "text": [
            "Epoch 1/20\n",
            "Epoch 2/20\n",
            "Epoch 3/20\n",
            "Epoch 4/20\n",
            "Epoch 5/20\n",
            "Epoch 6/20\n",
            "Epoch 7/20\n",
            "Epoch 8/20\n",
            "Epoch 9/20\n",
            "Epoch 10/20\n",
            "Epoch 11/20\n",
            "Epoch 12/20\n",
            "Epoch 13/20\n",
            "Epoch 14/20\n",
            "Epoch 15/20\n",
            "Epoch 16/20\n",
            "Epoch 17/20\n",
            "Epoch 18/20\n",
            "Epoch 19/20\n",
            "Epoch 20/20\n"
          ]
        },
        {
          "output_type": "stream",
          "name": "stderr",
          "text": [
            "WARNING:absl:Found untraced functions such as _jit_compiled_convolution_op, _jit_compiled_convolution_op, _jit_compiled_convolution_op, _jit_compiled_convolution_op while saving (showing 4 of 4). These functions will not be directly callable after loading.\n"
          ]
        },
        {
          "output_type": "stream",
          "name": "stdout",
          "text": [
            "Epoch 1/20\n",
            "Epoch 2/20\n",
            "Epoch 3/20\n",
            "Epoch 4/20\n",
            "Epoch 5/20\n",
            "Epoch 6/20\n",
            "Epoch 7/20\n",
            "Epoch 8/20\n",
            "Epoch 9/20\n",
            "Epoch 10/20\n",
            "Epoch 11/20\n",
            "Epoch 12/20\n",
            "Epoch 13/20\n",
            "Epoch 14/20\n",
            "Epoch 15/20\n",
            "Epoch 16/20\n",
            "Epoch 17/20\n",
            "Epoch 18/20\n",
            "Epoch 19/20\n",
            "Epoch 20/20\n"
          ]
        },
        {
          "output_type": "stream",
          "name": "stderr",
          "text": [
            "WARNING:absl:Found untraced functions such as _jit_compiled_convolution_op, _jit_compiled_convolution_op, _jit_compiled_convolution_op, _jit_compiled_convolution_op while saving (showing 4 of 4). These functions will not be directly callable after loading.\n"
          ]
        },
        {
          "output_type": "stream",
          "name": "stdout",
          "text": [
            "Epoch 1/20\n",
            "Epoch 2/20\n",
            "Epoch 3/20\n",
            "Epoch 4/20\n",
            "Epoch 5/20\n",
            "Epoch 6/20\n",
            "Epoch 7/20\n",
            "Epoch 8/20\n",
            "Epoch 9/20\n",
            "Epoch 10/20\n",
            "Epoch 11/20\n",
            "Epoch 12/20\n",
            "Epoch 13/20\n",
            "Epoch 14/20\n",
            "Epoch 15/20\n",
            "Epoch 16/20\n",
            "Epoch 17/20\n",
            "Epoch 18/20\n",
            "Epoch 19/20\n",
            "Epoch 20/20\n"
          ]
        },
        {
          "output_type": "stream",
          "name": "stderr",
          "text": [
            "WARNING:absl:Found untraced functions such as _jit_compiled_convolution_op, _jit_compiled_convolution_op, _jit_compiled_convolution_op, _jit_compiled_convolution_op while saving (showing 4 of 4). These functions will not be directly callable after loading.\n"
          ]
        },
        {
          "output_type": "stream",
          "name": "stdout",
          "text": [
            "Epoch 1/20\n",
            "Epoch 2/20\n",
            "Epoch 3/20\n",
            "Epoch 4/20\n",
            "Epoch 5/20\n",
            "Epoch 6/20\n",
            "Epoch 7/20\n",
            "Epoch 8/20\n",
            "Epoch 9/20\n",
            "Epoch 10/20\n",
            "Epoch 11/20\n",
            "Epoch 12/20\n",
            "Epoch 13/20\n",
            "Epoch 14/20\n",
            "Epoch 15/20\n",
            "Epoch 16/20\n",
            "Epoch 17/20\n",
            "Epoch 18/20\n",
            "Epoch 19/20\n",
            "Epoch 20/20\n"
          ]
        },
        {
          "output_type": "stream",
          "name": "stderr",
          "text": [
            "WARNING:absl:Found untraced functions such as _jit_compiled_convolution_op, _jit_compiled_convolution_op, _jit_compiled_convolution_op, _jit_compiled_convolution_op while saving (showing 4 of 4). These functions will not be directly callable after loading.\n"
          ]
        },
        {
          "output_type": "stream",
          "name": "stdout",
          "text": [
            "Epoch 1/20\n",
            "Epoch 2/20\n",
            "Epoch 3/20\n",
            "Epoch 4/20\n",
            "Epoch 5/20\n",
            "Epoch 6/20\n",
            "Epoch 7/20\n",
            "Epoch 8/20\n",
            "Epoch 9/20\n",
            "Epoch 10/20\n",
            "Epoch 11/20\n",
            "Epoch 12/20\n",
            "Epoch 13/20\n",
            "Epoch 14/20\n",
            "Epoch 15/20\n",
            "Epoch 16/20\n",
            "Epoch 17/20\n",
            "Epoch 18/20\n",
            "Epoch 19/20\n",
            "Epoch 20/20\n"
          ]
        },
        {
          "output_type": "stream",
          "name": "stderr",
          "text": [
            "WARNING:absl:Found untraced functions such as _jit_compiled_convolution_op, _jit_compiled_convolution_op, _jit_compiled_convolution_op, _jit_compiled_convolution_op while saving (showing 4 of 4). These functions will not be directly callable after loading.\n"
          ]
        },
        {
          "output_type": "stream",
          "name": "stdout",
          "text": [
            "Epoch 1/20\n",
            "Epoch 2/20\n",
            "Epoch 3/20\n",
            "Epoch 4/20\n",
            "Epoch 5/20\n",
            "Epoch 6/20\n",
            "Epoch 7/20\n",
            "Epoch 8/20\n",
            "Epoch 9/20\n",
            "Epoch 10/20\n",
            "Epoch 11/20\n",
            "Epoch 12/20\n",
            "Epoch 13/20\n",
            "Epoch 14/20\n",
            "Epoch 15/20\n",
            "Epoch 16/20\n",
            "Epoch 17/20\n",
            "Epoch 18/20\n",
            "Epoch 19/20\n",
            "Epoch 20/20\n"
          ]
        },
        {
          "output_type": "stream",
          "name": "stderr",
          "text": [
            "WARNING:absl:Found untraced functions such as _jit_compiled_convolution_op, _jit_compiled_convolution_op, _jit_compiled_convolution_op, _jit_compiled_convolution_op while saving (showing 4 of 4). These functions will not be directly callable after loading.\n"
          ]
        },
        {
          "output_type": "stream",
          "name": "stdout",
          "text": [
            "Epoch 1/20\n",
            "Epoch 2/20\n",
            "Epoch 3/20\n",
            "Epoch 4/20\n",
            "Epoch 5/20\n",
            "Epoch 6/20\n",
            "Epoch 7/20\n",
            "Epoch 8/20\n",
            "Epoch 9/20\n",
            "Epoch 10/20\n",
            "Epoch 11/20\n",
            "Epoch 12/20\n",
            "Epoch 13/20\n",
            "Epoch 14/20\n",
            "Epoch 15/20\n",
            "Epoch 16/20\n",
            "Epoch 17/20\n",
            "Epoch 18/20\n",
            "Epoch 19/20\n",
            "Epoch 20/20\n"
          ]
        },
        {
          "output_type": "stream",
          "name": "stderr",
          "text": [
            "WARNING:absl:Found untraced functions such as _jit_compiled_convolution_op, _jit_compiled_convolution_op, _jit_compiled_convolution_op, _jit_compiled_convolution_op while saving (showing 4 of 4). These functions will not be directly callable after loading.\n"
          ]
        },
        {
          "output_type": "stream",
          "name": "stdout",
          "text": [
            "Epoch 1/20\n",
            "Epoch 2/20\n",
            "Epoch 3/20\n",
            "Epoch 4/20\n",
            "Epoch 5/20\n",
            "Epoch 6/20\n",
            "Epoch 7/20\n",
            "Epoch 8/20\n",
            "Epoch 9/20\n",
            "Epoch 10/20\n",
            "Epoch 11/20\n",
            "Epoch 12/20\n",
            "Epoch 13/20\n",
            "Epoch 14/20\n",
            "Epoch 15/20\n",
            "Epoch 16/20\n",
            "Epoch 17/20\n",
            "Epoch 18/20\n",
            "Epoch 19/20\n",
            "Epoch 20/20\n"
          ]
        },
        {
          "output_type": "stream",
          "name": "stderr",
          "text": [
            "WARNING:absl:Found untraced functions such as _jit_compiled_convolution_op, _jit_compiled_convolution_op, _jit_compiled_convolution_op, _jit_compiled_convolution_op while saving (showing 4 of 4). These functions will not be directly callable after loading.\n"
          ]
        },
        {
          "output_type": "stream",
          "name": "stdout",
          "text": [
            "Epoch 1/20\n",
            "Epoch 2/20\n",
            "Epoch 3/20\n",
            "Epoch 4/20\n",
            "Epoch 5/20\n",
            "Epoch 6/20\n",
            "Epoch 7/20\n",
            "Epoch 8/20\n",
            "Epoch 9/20\n",
            "Epoch 10/20\n",
            "Epoch 11/20\n",
            "Epoch 12/20\n",
            "Epoch 13/20\n",
            "Epoch 14/20\n",
            "Epoch 15/20\n",
            "Epoch 16/20\n",
            "Epoch 17/20\n",
            "Epoch 18/20\n",
            "Epoch 19/20\n",
            "Epoch 20/20\n"
          ]
        },
        {
          "output_type": "stream",
          "name": "stderr",
          "text": [
            "WARNING:absl:Found untraced functions such as _jit_compiled_convolution_op, _jit_compiled_convolution_op, _jit_compiled_convolution_op, _jit_compiled_convolution_op while saving (showing 4 of 4). These functions will not be directly callable after loading.\n"
          ]
        },
        {
          "output_type": "stream",
          "name": "stdout",
          "text": [
            "Epoch 1/20\n",
            "Epoch 2/20\n",
            "Epoch 3/20\n",
            "Epoch 4/20\n",
            "Epoch 5/20\n",
            "Epoch 6/20\n",
            "Epoch 7/20\n",
            "Epoch 8/20\n",
            "Epoch 9/20\n",
            "Epoch 10/20\n",
            "Epoch 11/20\n",
            "Epoch 12/20\n",
            "Epoch 13/20\n",
            "Epoch 14/20\n",
            "Epoch 15/20\n",
            "Epoch 16/20\n",
            "Epoch 17/20\n",
            "Epoch 18/20\n",
            "Epoch 19/20\n",
            "Epoch 20/20\n"
          ]
        },
        {
          "output_type": "stream",
          "name": "stderr",
          "text": [
            "WARNING:absl:Found untraced functions such as _jit_compiled_convolution_op, _jit_compiled_convolution_op, _jit_compiled_convolution_op, _jit_compiled_convolution_op while saving (showing 4 of 4). These functions will not be directly callable after loading.\n"
          ]
        },
        {
          "output_type": "stream",
          "name": "stdout",
          "text": [
            "Epoch 1/20\n",
            "Epoch 2/20\n",
            "Epoch 3/20\n",
            "Epoch 4/20\n",
            "Epoch 5/20\n",
            "Epoch 6/20\n",
            "Epoch 7/20\n",
            "Epoch 8/20\n",
            "Epoch 9/20\n",
            "Epoch 10/20\n",
            "Epoch 11/20\n",
            "Epoch 12/20\n",
            "Epoch 13/20\n",
            "Epoch 14/20\n",
            "Epoch 15/20\n",
            "Epoch 16/20\n",
            "Epoch 17/20\n",
            "Epoch 18/20\n",
            "Epoch 19/20\n",
            "Epoch 20/20\n"
          ]
        },
        {
          "output_type": "stream",
          "name": "stderr",
          "text": [
            "WARNING:absl:Found untraced functions such as _jit_compiled_convolution_op, _jit_compiled_convolution_op, _jit_compiled_convolution_op, _jit_compiled_convolution_op while saving (showing 4 of 4). These functions will not be directly callable after loading.\n"
          ]
        },
        {
          "output_type": "stream",
          "name": "stdout",
          "text": [
            "Epoch 1/20\n",
            "Epoch 2/20\n",
            "Epoch 3/20\n",
            "Epoch 4/20\n",
            "Epoch 5/20\n",
            "Epoch 6/20\n",
            "Epoch 7/20\n",
            "Epoch 8/20\n",
            "Epoch 9/20\n",
            "Epoch 10/20\n",
            "Epoch 11/20\n",
            "Epoch 12/20\n",
            "Epoch 13/20\n",
            "Epoch 14/20\n",
            "Epoch 15/20\n",
            "Epoch 16/20\n",
            "Epoch 17/20\n",
            "Epoch 18/20\n",
            "Epoch 19/20\n",
            "Epoch 20/20\n"
          ]
        },
        {
          "output_type": "stream",
          "name": "stderr",
          "text": [
            "WARNING:absl:Found untraced functions such as _jit_compiled_convolution_op, _jit_compiled_convolution_op, _jit_compiled_convolution_op, _jit_compiled_convolution_op while saving (showing 4 of 4). These functions will not be directly callable after loading.\n"
          ]
        },
        {
          "output_type": "stream",
          "name": "stdout",
          "text": [
            "Epoch 1/20\n",
            "Epoch 2/20\n",
            "Epoch 3/20\n",
            "Epoch 4/20\n",
            "Epoch 5/20\n",
            "Epoch 6/20\n",
            "Epoch 7/20\n",
            "Epoch 8/20\n",
            "Epoch 9/20\n",
            "Epoch 10/20\n",
            "Epoch 11/20\n",
            "Epoch 12/20\n",
            "Epoch 13/20\n",
            "Epoch 14/20\n",
            "Epoch 15/20\n",
            "Epoch 16/20\n",
            "Epoch 17/20\n",
            "Epoch 18/20\n",
            "Epoch 19/20\n",
            "Epoch 20/20\n"
          ]
        },
        {
          "output_type": "stream",
          "name": "stderr",
          "text": [
            "WARNING:absl:Found untraced functions such as _jit_compiled_convolution_op, _jit_compiled_convolution_op, _jit_compiled_convolution_op, _jit_compiled_convolution_op while saving (showing 4 of 4). These functions will not be directly callable after loading.\n"
          ]
        },
        {
          "output_type": "stream",
          "name": "stdout",
          "text": [
            "Epoch 1/20\n",
            "Epoch 2/20\n",
            "Epoch 3/20\n",
            "Epoch 4/20\n",
            "Epoch 5/20\n",
            "Epoch 6/20\n",
            "Epoch 7/20\n",
            "Epoch 8/20\n",
            "Epoch 9/20\n",
            "Epoch 10/20\n",
            "Epoch 11/20\n",
            "Epoch 12/20\n",
            "Epoch 13/20\n",
            "Epoch 14/20\n",
            "Epoch 15/20\n",
            "Epoch 16/20\n",
            "Epoch 17/20\n",
            "Epoch 18/20\n",
            "Epoch 19/20\n",
            "Epoch 20/20\n"
          ]
        },
        {
          "output_type": "stream",
          "name": "stderr",
          "text": [
            "WARNING:absl:Found untraced functions such as _jit_compiled_convolution_op, _jit_compiled_convolution_op, _jit_compiled_convolution_op, _jit_compiled_convolution_op while saving (showing 4 of 4). These functions will not be directly callable after loading.\n"
          ]
        },
        {
          "output_type": "stream",
          "name": "stdout",
          "text": [
            "Epoch 1/20\n",
            "Epoch 2/20\n",
            "Epoch 3/20\n",
            "Epoch 4/20\n",
            "Epoch 5/20\n",
            "Epoch 6/20\n",
            "Epoch 7/20\n",
            "Epoch 8/20\n",
            "Epoch 9/20\n",
            "Epoch 10/20\n",
            "Epoch 11/20\n",
            "Epoch 12/20\n",
            "Epoch 13/20\n",
            "Epoch 14/20\n",
            "Epoch 15/20\n",
            "Epoch 16/20\n",
            "Epoch 17/20\n",
            "Epoch 18/20\n",
            "Epoch 19/20\n",
            "Epoch 20/20\n"
          ]
        },
        {
          "output_type": "stream",
          "name": "stderr",
          "text": [
            "WARNING:absl:Found untraced functions such as _jit_compiled_convolution_op, _jit_compiled_convolution_op, _jit_compiled_convolution_op, _jit_compiled_convolution_op while saving (showing 4 of 4). These functions will not be directly callable after loading.\n"
          ]
        },
        {
          "output_type": "stream",
          "name": "stdout",
          "text": [
            "Epoch 1/20\n",
            "Epoch 2/20\n",
            "Epoch 3/20\n",
            "Epoch 4/20\n",
            "Epoch 5/20\n",
            "Epoch 6/20\n",
            "Epoch 7/20\n",
            "Epoch 8/20\n",
            "Epoch 9/20\n",
            "Epoch 10/20\n",
            "Epoch 11/20\n",
            "Epoch 12/20\n",
            "Epoch 13/20\n",
            "Epoch 14/20\n",
            "Epoch 15/20\n",
            "Epoch 16/20\n",
            "Epoch 17/20\n",
            "Epoch 18/20\n",
            "Epoch 19/20\n",
            "Epoch 20/20\n"
          ]
        },
        {
          "output_type": "stream",
          "name": "stderr",
          "text": [
            "WARNING:absl:Found untraced functions such as _jit_compiled_convolution_op, _jit_compiled_convolution_op, _jit_compiled_convolution_op, _jit_compiled_convolution_op while saving (showing 4 of 4). These functions will not be directly callable after loading.\n"
          ]
        },
        {
          "output_type": "stream",
          "name": "stdout",
          "text": [
            "Epoch 1/20\n",
            "Epoch 2/20\n",
            "Epoch 3/20\n",
            "Epoch 4/20\n",
            "Epoch 5/20\n",
            "Epoch 6/20\n",
            "Epoch 7/20\n",
            "Epoch 8/20\n",
            "Epoch 9/20\n",
            "Epoch 10/20\n",
            "Epoch 11/20\n",
            "Epoch 12/20\n",
            "Epoch 13/20\n",
            "Epoch 14/20\n",
            "Epoch 15/20\n",
            "Epoch 16/20\n",
            "Epoch 17/20\n",
            "Epoch 18/20\n",
            "Epoch 19/20\n",
            "Epoch 20/20\n"
          ]
        },
        {
          "output_type": "stream",
          "name": "stderr",
          "text": [
            "WARNING:absl:Found untraced functions such as _jit_compiled_convolution_op, _jit_compiled_convolution_op, _jit_compiled_convolution_op, _jit_compiled_convolution_op while saving (showing 4 of 4). These functions will not be directly callable after loading.\n"
          ]
        },
        {
          "output_type": "stream",
          "name": "stdout",
          "text": [
            "Epoch 1/20\n",
            "Epoch 2/20\n",
            "Epoch 3/20\n",
            "Epoch 4/20\n",
            "Epoch 5/20\n",
            "Epoch 6/20\n",
            "Epoch 7/20\n",
            "Epoch 8/20\n",
            "Epoch 9/20\n",
            "Epoch 10/20\n",
            "Epoch 11/20\n",
            "Epoch 12/20\n",
            "Epoch 13/20\n",
            "Epoch 14/20\n",
            "Epoch 15/20\n",
            "Epoch 16/20\n",
            "Epoch 17/20\n",
            "Epoch 18/20\n",
            "Epoch 19/20\n",
            "Epoch 20/20\n"
          ]
        },
        {
          "output_type": "stream",
          "name": "stderr",
          "text": [
            "WARNING:absl:Found untraced functions such as _jit_compiled_convolution_op, _jit_compiled_convolution_op, _jit_compiled_convolution_op, _jit_compiled_convolution_op while saving (showing 4 of 4). These functions will not be directly callable after loading.\n"
          ]
        },
        {
          "output_type": "stream",
          "name": "stdout",
          "text": [
            "Epoch 1/20\n",
            "Epoch 2/20\n",
            "Epoch 3/20\n",
            "Epoch 4/20\n",
            "Epoch 5/20\n",
            "Epoch 6/20\n",
            "Epoch 7/20\n",
            "Epoch 8/20\n",
            "Epoch 9/20\n",
            "Epoch 10/20\n",
            "Epoch 11/20\n",
            "Epoch 12/20\n",
            "Epoch 13/20\n",
            "Epoch 14/20\n",
            "Epoch 15/20\n",
            "Epoch 16/20\n",
            "Epoch 17/20\n",
            "Epoch 18/20\n",
            "Epoch 19/20\n",
            "Epoch 20/20\n"
          ]
        },
        {
          "output_type": "stream",
          "name": "stderr",
          "text": [
            "WARNING:absl:Found untraced functions such as _jit_compiled_convolution_op, _jit_compiled_convolution_op, _jit_compiled_convolution_op, _jit_compiled_convolution_op while saving (showing 4 of 4). These functions will not be directly callable after loading.\n"
          ]
        },
        {
          "output_type": "stream",
          "name": "stdout",
          "text": [
            "Epoch 1/20\n",
            "Epoch 2/20\n",
            "Epoch 3/20\n",
            "Epoch 4/20\n",
            "Epoch 5/20\n",
            "Epoch 6/20\n",
            "Epoch 7/20\n",
            "Epoch 8/20\n",
            "Epoch 9/20\n",
            "Epoch 10/20\n",
            "Epoch 11/20\n",
            "Epoch 12/20\n",
            "Epoch 13/20\n",
            "Epoch 14/20\n",
            "Epoch 15/20\n",
            "Epoch 16/20\n",
            "Epoch 17/20\n",
            "Epoch 18/20\n",
            "Epoch 19/20\n",
            "Epoch 20/20\n"
          ]
        },
        {
          "output_type": "stream",
          "name": "stderr",
          "text": [
            "WARNING:absl:Found untraced functions such as _jit_compiled_convolution_op, _jit_compiled_convolution_op, _jit_compiled_convolution_op, _jit_compiled_convolution_op while saving (showing 4 of 4). These functions will not be directly callable after loading.\n"
          ]
        },
        {
          "output_type": "stream",
          "name": "stdout",
          "text": [
            "Epoch 1/20\n",
            "Epoch 2/20\n",
            "Epoch 3/20\n",
            "Epoch 4/20\n",
            "Epoch 5/20\n",
            "Epoch 6/20\n",
            "Epoch 7/20\n",
            "Epoch 8/20\n",
            "Epoch 9/20\n",
            "Epoch 10/20\n",
            "Epoch 11/20\n",
            "Epoch 12/20\n",
            "Epoch 13/20\n",
            "Epoch 14/20\n",
            "Epoch 15/20\n",
            "Epoch 16/20\n",
            "Epoch 17/20\n",
            "Epoch 18/20\n",
            "Epoch 19/20\n",
            "Epoch 20/20\n"
          ]
        },
        {
          "output_type": "stream",
          "name": "stderr",
          "text": [
            "WARNING:absl:Found untraced functions such as _jit_compiled_convolution_op, _jit_compiled_convolution_op, _jit_compiled_convolution_op, _jit_compiled_convolution_op while saving (showing 4 of 4). These functions will not be directly callable after loading.\n"
          ]
        },
        {
          "output_type": "stream",
          "name": "stdout",
          "text": [
            "Epoch 1/20\n",
            "Epoch 2/20\n",
            "Epoch 3/20\n",
            "Epoch 4/20\n",
            "Epoch 5/20\n",
            "Epoch 6/20\n",
            "Epoch 7/20\n",
            "Epoch 8/20\n",
            "Epoch 9/20\n",
            "Epoch 10/20\n",
            "Epoch 11/20\n",
            "Epoch 12/20\n",
            "Epoch 13/20\n",
            "Epoch 14/20\n",
            "Epoch 15/20\n",
            "Epoch 16/20\n",
            "Epoch 17/20\n",
            "Epoch 18/20\n",
            "Epoch 19/20\n",
            "Epoch 20/20\n"
          ]
        },
        {
          "output_type": "stream",
          "name": "stderr",
          "text": [
            "WARNING:absl:Found untraced functions such as _jit_compiled_convolution_op, _jit_compiled_convolution_op, _jit_compiled_convolution_op, _jit_compiled_convolution_op while saving (showing 4 of 4). These functions will not be directly callable after loading.\n"
          ]
        },
        {
          "output_type": "stream",
          "name": "stdout",
          "text": [
            "Epoch 1/20\n",
            "Epoch 2/20\n",
            "Epoch 3/20\n",
            "Epoch 4/20\n",
            "Epoch 5/20\n",
            "Epoch 6/20\n",
            "Epoch 7/20\n",
            "Epoch 8/20\n",
            "Epoch 9/20\n",
            "Epoch 10/20\n",
            "Epoch 11/20\n",
            "Epoch 12/20\n",
            "Epoch 13/20\n",
            "Epoch 14/20\n",
            "Epoch 15/20\n",
            "Epoch 16/20\n",
            "Epoch 17/20\n",
            "Epoch 18/20\n",
            "Epoch 19/20\n",
            "Epoch 20/20\n"
          ]
        },
        {
          "output_type": "stream",
          "name": "stderr",
          "text": [
            "WARNING:absl:Found untraced functions such as _jit_compiled_convolution_op, _jit_compiled_convolution_op, _jit_compiled_convolution_op, _jit_compiled_convolution_op while saving (showing 4 of 4). These functions will not be directly callable after loading.\n"
          ]
        },
        {
          "output_type": "stream",
          "name": "stdout",
          "text": [
            "Epoch 1/20\n",
            "Epoch 2/20\n",
            "Epoch 3/20\n",
            "Epoch 4/20\n",
            "Epoch 5/20\n",
            "Epoch 6/20\n",
            "Epoch 7/20\n",
            "Epoch 8/20\n",
            "Epoch 9/20\n",
            "Epoch 10/20\n",
            "Epoch 11/20\n",
            "Epoch 12/20\n",
            "Epoch 13/20\n",
            "Epoch 14/20\n",
            "Epoch 15/20\n",
            "Epoch 16/20\n",
            "Epoch 17/20\n",
            "Epoch 18/20\n",
            "Epoch 19/20\n",
            "Epoch 20/20\n"
          ]
        },
        {
          "output_type": "stream",
          "name": "stderr",
          "text": [
            "WARNING:absl:Found untraced functions such as _jit_compiled_convolution_op, _jit_compiled_convolution_op, _jit_compiled_convolution_op, _jit_compiled_convolution_op while saving (showing 4 of 4). These functions will not be directly callable after loading.\n"
          ]
        },
        {
          "output_type": "stream",
          "name": "stdout",
          "text": [
            "Epoch 1/20\n",
            "Epoch 2/20\n",
            "Epoch 3/20\n",
            "Epoch 4/20\n",
            "Epoch 5/20\n",
            "Epoch 6/20\n",
            "Epoch 7/20\n",
            "Epoch 8/20\n",
            "Epoch 9/20\n",
            "Epoch 10/20\n",
            "Epoch 11/20\n",
            "Epoch 12/20\n",
            "Epoch 13/20\n",
            "Epoch 14/20\n",
            "Epoch 15/20\n",
            "Epoch 16/20\n",
            "Epoch 17/20\n",
            "Epoch 18/20\n",
            "Epoch 19/20\n",
            "Epoch 20/20\n"
          ]
        },
        {
          "output_type": "stream",
          "name": "stderr",
          "text": [
            "WARNING:absl:Found untraced functions such as _jit_compiled_convolution_op, _jit_compiled_convolution_op, _jit_compiled_convolution_op, _jit_compiled_convolution_op while saving (showing 4 of 4). These functions will not be directly callable after loading.\n"
          ]
        },
        {
          "output_type": "stream",
          "name": "stdout",
          "text": [
            "Epoch 1/20\n",
            "Epoch 2/20\n",
            "Epoch 3/20\n",
            "Epoch 4/20\n",
            "Epoch 5/20\n",
            "Epoch 6/20\n",
            "Epoch 7/20\n",
            "Epoch 8/20\n",
            "Epoch 9/20\n",
            "Epoch 10/20\n",
            "Epoch 11/20\n",
            "Epoch 12/20\n",
            "Epoch 13/20\n",
            "Epoch 14/20\n",
            "Epoch 15/20\n",
            "Epoch 16/20\n",
            "Epoch 17/20\n",
            "Epoch 18/20\n",
            "Epoch 19/20\n",
            "Epoch 20/20\n"
          ]
        },
        {
          "output_type": "stream",
          "name": "stderr",
          "text": [
            "WARNING:absl:Found untraced functions such as _jit_compiled_convolution_op, _jit_compiled_convolution_op, _jit_compiled_convolution_op, _jit_compiled_convolution_op while saving (showing 4 of 4). These functions will not be directly callable after loading.\n",
            "WARNING:absl:Found untraced functions such as _jit_compiled_convolution_op, _jit_compiled_convolution_op, _jit_compiled_convolution_op, _jit_compiled_convolution_op while saving (showing 4 of 4). These functions will not be directly callable after loading.\n"
          ]
        },
        {
          "output_type": "stream",
          "name": "stdout",
          "text": [
            "Epoch 1/20\n",
            "Epoch 2/20\n",
            "Epoch 3/20\n",
            "Epoch 4/20\n",
            "Epoch 5/20\n",
            "Epoch 6/20\n",
            "Epoch 7/20\n",
            "Epoch 8/20\n",
            "Epoch 9/20\n",
            "Epoch 10/20\n",
            "Epoch 11/20\n",
            "Epoch 12/20\n",
            "Epoch 13/20\n",
            "Epoch 14/20\n",
            "Epoch 15/20\n",
            "Epoch 16/20\n",
            "Epoch 17/20\n",
            "Epoch 18/20\n",
            "Epoch 19/20\n",
            "Epoch 20/20\n"
          ]
        }
      ],
      "source": [
        "# FIT THE GRIDSEARCH MODEL\n",
        "grid_fit = grid_cv.fit(X, y)"
      ]
    },
    {
      "cell_type": "code",
      "source": [
        "# SUMMARIZE RESULTS\n",
        "\n",
        "print(\"Best: %f using %s\" % (grid_fit.best_score_, grid_fit.best_params_))\n",
        "means = grid_fit.cv_results_['mean_test_score']\n",
        "stds = grid_fit.cv_results_['std_test_score']\n",
        "params = grid_fit.cv_results_['params']\n",
        "\n",
        "for mean, stdev, param in zip(means, stds, params):\n",
        "    print(\"%f (%f) with: %r\" % (mean, stdev, param))"
      ],
      "metadata": {
        "colab": {
          "base_uri": "https://localhost:8080/"
        },
        "id": "BhXSx2ic37Tn",
        "outputId": "eddbebe5-5fe7-47b9-e1a5-2594f53b8ab8"
      },
      "execution_count": null,
      "outputs": [
        {
          "output_type": "stream",
          "name": "stdout",
          "text": [
            "Best: 0.799224 using {'optimizer__learning_rate': 0.01, 'optimizer': 'RMSprop', 'batch_size': 32}\n",
            "0.550194 (0.015746) with: {'optimizer__learning_rate': 0.1, 'optimizer': 'RMSprop', 'batch_size': 64}\n",
            "0.236273 (0.014119) with: {'optimizer__learning_rate': 0.01, 'optimizer': 'SGD', 'batch_size': 128}\n",
            "0.782585 (0.029338) with: {'optimizer__learning_rate': 0.001, 'optimizer': 'SGD', 'batch_size': 32}\n",
            "0.602884 (0.090182) with: {'optimizer__learning_rate': 0.01, 'optimizer': 'SGD', 'batch_size': 64}\n",
            "0.530782 (0.046011) with: {'optimizer__learning_rate': 0.001, 'optimizer': 'RMSprop', 'batch_size': 64}\n",
            "0.214642 (0.031335) with: {'optimizer__learning_rate': 0.1, 'optimizer': 'RMSprop', 'batch_size': 128}\n",
            "0.505824 (0.054189) with: {'optimizer__learning_rate': 0.001, 'optimizer': 'SGD', 'batch_size': 64}\n",
            "0.777593 (0.025136) with: {'optimizer__learning_rate': 0.1, 'optimizer': 'SGD', 'batch_size': 32}\n",
            "0.799224 (0.021666) with: {'optimizer__learning_rate': 0.01, 'optimizer': 'RMSprop', 'batch_size': 32}\n",
            "0.197449 (0.037412) with: {'optimizer__learning_rate': 0.1, 'optimizer': 'SGD', 'batch_size': 128}\n"
          ]
        }
      ]
    },
    {
      "cell_type": "code",
      "execution_count": null,
      "metadata": {
        "id": "HAClkuf75-DN"
      },
      "outputs": [],
      "source": [
        "# ALTRO MODO DI FITTARE:\n",
        "# grid_result_history = grid_cv.fit(X, y, # test_generator\n",
        "#                        steps_per_epoch = train_generator.n // train_generator.batch_size,\n",
        "#                        validation_steps = val_generator.n // val_generator.batch_size)# test_generator\n",
        "#                        # callbacks = [callback])"
      ]
    },
    {
      "cell_type": "markdown",
      "metadata": {
        "id": "JJcaOkDggEDO"
      },
      "source": [
        "### Results Model V06"
      ]
    },
    {
      "cell_type": "markdown",
      "metadata": {
        "id": "qZt0BJzdgFmI"
      },
      "source": []
    },
    {
      "cell_type": "markdown",
      "source": [
        "## 6.Bayesian Optimization for hyperparameters optimization"
      ],
      "metadata": {
        "id": "LqNfH2oE3bjC"
      }
    },
    {
      "cell_type": "markdown",
      "source": [
        "Automatic Hyperparameter Optimization With Keras Tuner:\n",
        "https://blog.paperspace.com/hyperparameter-optimization-with-keras-tuner/"
      ],
      "metadata": {
        "id": "550vRdL9F83A"
      }
    },
    {
      "cell_type": "markdown",
      "metadata": {
        "id": "UiDtFd-iUGTI"
      },
      "source": [
        "# 7.Evaluate and Test on the test data"
      ]
    },
    {
      "cell_type": "markdown",
      "metadata": {
        "id": "diwUOGtMUIFi"
      },
      "source": [
        "# 8.Results Analysis"
      ]
    },
    {
      "cell_type": "markdown",
      "metadata": {
        "id": "ulELjHtnzlqU"
      },
      "source": [
        "# 9.Deploy in data app --> chek this out: https://dev.to/code_jedi/how-to-turn-your-python-machine-learning-code-into-a-web-app-2hfc\n",
        "\n",
        "https://towardsdatascience.com/how-to-deploy-machine-learning-models-601f8c13ff45\n",
        "\n",
        "https://www.youtube.com/watch?v=xl0N7tHiwlw"
      ]
    },
    {
      "cell_type": "markdown",
      "metadata": {
        "id": "dtMCYsIJUJ1L"
      },
      "source": [
        "# 10.Future Work and Improvements"
      ]
    },
    {
      "cell_type": "markdown",
      "source": [
        "---------------------------"
      ],
      "metadata": {
        "id": "--gl5y-x3uDp"
      }
    },
    {
      "cell_type": "markdown",
      "source": [
        "# Comments:\n",
        "\n",
        "\n",
        "*   Considera, nella parte finale, di aumentare le immagini ad almeno 1000 per classe (se non addirittura a 2000/3000)\n",
        "\n"
      ],
      "metadata": {
        "id": "Aapa-cXb3nf5"
      }
    }
  ],
  "metadata": {
    "colab": {
      "collapsed_sections": [
        "VXn9rjr686As"
      ],
      "provenance": []
    },
    "gpuClass": "standard",
    "kernelspec": {
      "display_name": "Python 3",
      "name": "python3"
    },
    "language_info": {
      "name": "python"
    },
    "accelerator": "GPU"
  },
  "nbformat": 4,
  "nbformat_minor": 0
}