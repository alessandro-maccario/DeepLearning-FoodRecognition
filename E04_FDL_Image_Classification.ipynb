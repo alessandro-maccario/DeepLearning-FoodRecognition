{
  "nbformat": 4,
  "nbformat_minor": 0,
  "metadata": {
    "colab": {
      "provenance": [],
      "collapsed_sections": []
    },
    "kernelspec": {
      "name": "python3",
      "display_name": "Python 3"
    },
    "language_info": {
      "name": "python"
    },
    "accelerator": "GPU"
  },
  "cells": [
    {
      "cell_type": "code",
      "execution_count": 1,
      "metadata": {
        "id": "WWST-j45se8F"
      },
      "outputs": [],
      "source": [
        "# Imports and reproducibility\n",
        "!PYTHONHASHSEED=0\n",
        "import tensorflow as tf\n",
        "from tensorflow import keras\n",
        "from matplotlib import pyplot as plt\n",
        "import zipfile\n",
        "from shutil import copyfile\n",
        "from time import time\n",
        "import numpy as np\n",
        "import random as python_random\n",
        "np.random.seed(0)\n",
        "python_random.seed(0)\n",
        "tf.random.set_seed(0)\n",
        "\n",
        "# Settings for prettier visualization in Google Colab\n",
        "from IPython.display import Javascript\n",
        "def resize_colab_cell():\n",
        "  display(Javascript('google.colab.output.setIframeHeight(0, true, {maxHeight: 300})'))\n",
        "get_ipython().events.register('pre_run_cell', resize_colab_cell)"
      ]
    },
    {
      "cell_type": "code",
      "source": [
        "# VARIABILI GLOBALI\n",
        "num_classes = 2"
      ],
      "metadata": {
        "colab": {
          "base_uri": "https://localhost:8080/",
          "height": 17
        },
        "id": "RO8wah0VCUDK",
        "outputId": "224d5847-ead5-4b73-d022-0da375028a80"
      },
      "execution_count": 2,
      "outputs": [
        {
          "output_type": "display_data",
          "data": {
            "text/plain": [
              "<IPython.core.display.Javascript object>"
            ],
            "application/javascript": [
              "google.colab.output.setIframeHeight(0, true, {maxHeight: 300})"
            ]
          },
          "metadata": {}
        }
      ]
    },
    {
      "cell_type": "code",
      "source": [
        "# CONNETTITI A DRIVE PER POTER LINKARE IL DATASET ED USARLO SENZA SCARICARLO\n",
        "# IN LOCALE. LA CONNESSIONE CON DRIVE FUNZIONA UNICAMENTE SE ANCHE IL NOTEBOOK\n",
        "# SI TROVA ALL'INTERNO DELLO STESSO DRIVE.\n",
        "\n",
        "from google.colab import drive # importare pacchetto\n",
        "drive.mount(\"/content/gdrive\") # monta drive"
      ],
      "metadata": {
        "colab": {
          "base_uri": "https://localhost:8080/",
          "height": 34
        },
        "id": "mmOsR1GfsnPB",
        "outputId": "5bc0eef0-dd41-4266-d76b-4da414e75a20"
      },
      "execution_count": 3,
      "outputs": [
        {
          "output_type": "display_data",
          "data": {
            "text/plain": [
              "<IPython.core.display.Javascript object>"
            ],
            "application/javascript": [
              "google.colab.output.setIframeHeight(0, true, {maxHeight: 300})"
            ]
          },
          "metadata": {}
        },
        {
          "output_type": "stream",
          "name": "stdout",
          "text": [
            "Mounted at /content/gdrive\n"
          ]
        }
      ]
    },
    {
      "cell_type": "code",
      "source": [
        "# IMPORTA IL FILE ZIP SULLA MACCHINA VIRTUALE DI GOOGLE COLAB\n",
        "# CHE CI è STATA ASSEGNATA. FINO A QUESTO MOMENTO ABBIAMO SOLO MONTATO\n",
        "# GOOGLE DRIVE. ORA DOBBIAMO ANDARE A COPIARE IL FILE (CHE SU GOOGLE DRIVE\n",
        "# PER NOI ATTUALMENTE è SOLO UN LINK) DIRETTAMENTE NELLA MIA ROOT FOLDER\n",
        "# DOVE STO LAVORANDO (PER AVERE IL VERO E PROPRIO FILE E NON SOLO IL LINK).\n",
        "\n",
        "copyfile(\"/content/gdrive/MyDrive/Data_Science_2020-2022/Secondo_anno_Secondo_Semestre/Foundation_of_Deep_Learning/catvsdog.zip\", \"catvsdog.zip\") # il secondo argomento dice dove andare a copiare il file. Lasciando solamente il nome del file la si copia direttamente nella root folder di Colab"
      ],
      "metadata": {
        "colab": {
          "base_uri": "https://localhost:8080/",
          "height": 35
        },
        "id": "-vtO6hDJs3NR",
        "outputId": "6e47896f-6a32-4ae8-c742-3b8592c21a91"
      },
      "execution_count": 4,
      "outputs": [
        {
          "output_type": "display_data",
          "data": {
            "text/plain": [
              "<IPython.core.display.Javascript object>"
            ],
            "application/javascript": [
              "google.colab.output.setIframeHeight(0, true, {maxHeight: 300})"
            ]
          },
          "metadata": {}
        },
        {
          "output_type": "execute_result",
          "data": {
            "text/plain": [
              "'catvsdog.zip'"
            ],
            "application/vnd.google.colaboratory.intrinsic+json": {
              "type": "string"
            }
          },
          "metadata": {},
          "execution_count": 4
        }
      ]
    },
    {
      "cell_type": "code",
      "source": [
        "# ESTRAIAMO LO ZIP\n",
        "zip = zipfile.ZipFile(\"catvsdog.zip\") # inizializza lo zipper e poi invocare zip.extract()\n",
        "zip.extractall()\n",
        "zip.close()"
      ],
      "metadata": {
        "colab": {
          "base_uri": "https://localhost:8080/",
          "height": 17
        },
        "id": "ZcxDfVM37d1c",
        "outputId": "bc4ede05-5d4b-4ca6-8a41-4f93029b2d00"
      },
      "execution_count": 5,
      "outputs": [
        {
          "output_type": "display_data",
          "data": {
            "text/plain": [
              "<IPython.core.display.Javascript object>"
            ],
            "application/javascript": [
              "google.colab.output.setIframeHeight(0, true, {maxHeight: 300})"
            ]
          },
          "metadata": {}
        }
      ]
    },
    {
      "cell_type": "markdown",
      "source": [
        "La struttura della cartella che vediamo con la cartella *catvsdog* e poi le sottocartelle *cat* e *dog* è abbastanza standard con i vari framework di deep learning."
      ],
      "metadata": {
        "id": "99qALmAc8F9x"
      }
    },
    {
      "cell_type": "markdown",
      "source": [
        "Andiamo a definire un data loader: è un concetto molto utile nel contesto del machine learning/deep learning. e' una classe/funzione, un costrutto che si occupa di caricare i dati dal disco e fornirli alla procedura di apprendimento ovvero al processo di training. l'idea è che non dobbiamo scriverci noi il codice per importarci l'immagine e darla in input alla funzione fit per\n",
        "addestrare la nostra rete neurale.\n",
        "Per il data loader in keras, facciamo riferimento al seguente link:\n",
        "https://keras.io/api/preprocessing/image/\n",
        "\n",
        "e usiamo:\n",
        "image_dataset_from_directory\n",
        "\n",
        "che è un data loader che si aspetta i dati nella struttura che abbiamo appena descritto, quindi cartelle con i file già divisi.\n",
        "\n"
      ],
      "metadata": {
        "id": "yakwRJzJ9MO5"
      }
    },
    {
      "cell_type": "code",
      "source": [
        "base_path = \"catvsdog500/\" # CREAZIONE DEL PATH. 500 PERCHé PRENDIAMO UN SET DI IMMAGINI PIù PICCOLO E NON TUTTE LE 25000.\n",
        "train_dataset = keras.preprocessing.image_dataset_from_directory(base_path,\n",
        "                                                 image_size = (224, 224),\n",
        "                                                 batch_size = 32,\n",
        "                                                 label_mode = \"categorical\",\n",
        "                                                 subset = \"training\",\n",
        "                                                 validation_split = 0.2,\n",
        "                                                 shuffle = True,\n",
        "                                                 seed = 1)"
      ],
      "metadata": {
        "colab": {
          "base_uri": "https://localhost:8080/",
          "height": 52
        },
        "id": "RwoFjlsm9ca6",
        "outputId": "a6b9c09f-e6fa-4aa3-c93c-00b3ec20ae3a"
      },
      "execution_count": 6,
      "outputs": [
        {
          "output_type": "display_data",
          "data": {
            "text/plain": [
              "<IPython.core.display.Javascript object>"
            ],
            "application/javascript": [
              "google.colab.output.setIframeHeight(0, true, {maxHeight: 300})"
            ]
          },
          "metadata": {}
        },
        {
          "output_type": "stream",
          "name": "stdout",
          "text": [
            "Found 1000 files belonging to 2 classes.\n",
            "Using 800 files for training.\n"
          ]
        }
      ]
    },
    {
      "cell_type": "markdown",
      "source": [
        "- *image_size*: resize dell'immagine. Perché? Perché il batch processing vede\n",
        "n immagini alla volta. Queste devono essere impilate in un unico\n",
        "tensore a 4 dimensioni e per poterlo fare devono avere\n",
        "tutte la stessa dimensione. Un altro motivo per cui le immagini\n",
        "vengono ridimensionate tutte alla stessa dimensione in un problema\n",
        "di classificazione di immagini con delle reti neurali è che alcuni\n",
        "livelli neurali funzionano indipendentemente dalla dimensione \n",
        "dell'input, altri sono costruiti, nel momento in cui li definiamo, si aspettano che l'input abbia una specifica cardinalità e se non riportiamo tutto alla stessa dimensione, avremo problemi successivi quando andiamo ad utilizzare questi layer.\n",
        "224 x 224 pixel è la dimensione standard che molte reti neurali\n",
        "possiamo già utilizzare perché pre implementate si aspettano.\n",
        "\n",
        "- *batch_size*: non diamo in input al processo di training un'immagine alla volta, ma gliene diamo n, il batch size identifica esattamente questo. Valore arbitrario. Come rule of thumb: utilizza il batch size più grande possibile finché sta in memoria. Perché più grande possibile? Perché stiamo affrontando il problema di imparare la rete neurale usando lo Stochastic Gradient Descent (o una sua variante). Idealmente noi diamo tutti i dati in input alla rete neurale e la miglioriamo con l'obiettivo di migliorare le performance su tutti i dati in input.\n",
        "Poiché non ci stanno tutti contemporaneamente li diamo poco per volta, ma non possiamo darne una solta alla volta: altrimenti l'algoritmo pensa il seguente: per questa singola immagine che vedo dovrò modificare i pesi in un certo modo; per la successiva singola immagine devo modificare i pesi in un altro modo. Il processo non è stabile! Quello che idealmente vorremmo trovare è un singolo criterio che possa modificare i pesi per tutte o il maggior numero di immagini possibili.\n",
        "\n",
        "- *label_mode* = categorical. Le nostre classi sono identificate da delle etichette (cat e dog) che verranno automaticamente inferite dai nomi delle cartelle. \n",
        "\n",
        "- *subset* = One of \"training\" or \"validation\". Only used if validation_split is set.\n",
        "\n",
        "- *validation_split* = Optional float between 0 and 1, fraction of data to reserve for validation.\n",
        "\n",
        "- *shuffle* = True. Imposta che le immagini non vengano prese in ordine del nome del file ma vengano riordinate casualmente\n",
        "L'intero comando prenderà le cartelle con i file e deciderà autonomamente di prendere l'80% da usare per il training e il 20% da usare per il validation.\n",
        "\n",
        "Del totale dei 1000 file, 800 vengono usati per il training (addestramento) e, successivamente quando specifichiamo il validation, vedimo che 200 file vengono usati per il validation, cioè il restante 20%. "
      ],
      "metadata": {
        "id": "UiNfpWvU_sYU"
      }
    },
    {
      "cell_type": "code",
      "source": [
        "val_dataset = keras.preprocessing.image_dataset_from_directory(base_path,\n",
        "                                                 image_size = (224, 224),\n",
        "                                                 batch_size = 32,\n",
        "                                                 label_mode = \"categorical\",\n",
        "                                                 subset = \"validation\",\n",
        "                                                 validation_split = 0.2,\n",
        "                                                 shuffle = True,\n",
        "                                                 seed = 1)"
      ],
      "metadata": {
        "colab": {
          "base_uri": "https://localhost:8080/",
          "height": 52
        },
        "id": "4a1ezT8dALZU",
        "outputId": "e2eabf73-61da-4ae4-a697-cdc80f51fd25"
      },
      "execution_count": 7,
      "outputs": [
        {
          "output_type": "display_data",
          "data": {
            "text/plain": [
              "<IPython.core.display.Javascript object>"
            ],
            "application/javascript": [
              "google.colab.output.setIframeHeight(0, true, {maxHeight: 300})"
            ]
          },
          "metadata": {}
        },
        {
          "output_type": "stream",
          "name": "stdout",
          "text": [
            "Found 1000 files belonging to 2 classes.\n",
            "Using 200 files for validation.\n"
          ]
        }
      ]
    },
    {
      "cell_type": "markdown",
      "source": [
        "## Architettura della rete"
      ],
      "metadata": {
        "id": "V9B4n8TZCYYm"
      }
    },
    {
      "cell_type": "markdown",
      "source": [
        "Che caratteristiche dovrà avere la nostra rete neurale?\n",
        "- input layer\n",
        "- 2D convolutional layer con le seguenti caratteristiche: \n",
        "  - 3x3 filter (ogni filto di un layer di convoluzione 2D ha una certa dimensione spaziale che è questo 3x3 che occupa in profondità qualunque sia la dimensione dell'input) e di questi ne vogliamo 32.\n",
        "- relu activation function (con un layer a parte o inserita nel layer precedente)\n",
        "- max pooling (con un filtro 3x3)\n",
        "- 2D convolutional layer che mappi a 64 canali (filtro 3x3 che mappa a 64 canali)\n",
        "- relu activation function\n",
        "- maxpooling globale: non andiamo più a dire quale è la dimensione del filtro, ma vogliamo che sia automaticamente determinata prendendo spazialmente tutti i pixel di un canale e li riduca ad un numero. Poi passi al canale successivo, prenda tutti i pixel di quel canale e li riduca ad un numero usando l'operazione del max pooling\n",
        "- fully connected (Dense in keras) che mappi a 2 (dando la probabilità che sia cane/gatto con activation SoftMax\n",
        "- rmspropr e learning rate = 0.001."
      ],
      "metadata": {
        "id": "jkqHjNSPCcB-"
      }
    },
    {
      "cell_type": "code",
      "source": [
        "# ARCHITETTURA DI RETE CONVOLUZIONALE PER CLASSIFICAZIONE DI IMMAGINI CAT/DOG\n",
        "\n",
        "inputs = keras.Input((224, 224, 3)) # 224 rows, 224 columns, 3 RGB channels\n",
        "\n",
        "x = inputs\n",
        "# 32 filtri 3x3. Padding: mi dice quanti pixel aggiungere di cornice alla mia \n",
        "# immagine prima di fare la convoluzione. Se non fornito, l'output della \n",
        "# convoluzione produrrà un immagine un pelo più piccola di quella di partenza \n",
        "# spazialmente: nel far scorrere la finestra di convoluzione non riesce a coprire\n",
        "# l'intorno del pixel di riferimento nell'immagine. Dando \"same\" il padding\n",
        "# viene calcolato automaticamente. \n",
        "x = keras.layers.Conv2D(32, 3, padding='same')(x)\n",
        "# Attivazione ReLU: la funzione di attivazione introduce una non linearità.\n",
        "# Fa si che il calcolo che permette di trasformare i numeri che stanno nell'input\n",
        "# nei numeri che stanno nell'output non sia semplicemente una combinazione\n",
        "# lineare dell'input, ma in generale crea un livello di complessità maggiore\n",
        "# che è quello di costruire delle astrazioni, ovvero permette alla rete neurale\n",
        "# di dire: ok, adesso ho individuato delle linee di base, ora ci costruisco\n",
        "# sopra dei ragionamenti più complessi.\n",
        "# x = keras.layers.Activation('relu')(x)\n",
        "x = keras.layers.Activation('relu')(x)\n",
        "# MaxPooling con finestre/windows 3x3 e stride di 3: ciò significa che ogni\n",
        "# 3x3 valori dell'input li sostituiamo con il suo Max e poi quando spostiamo\n",
        "# la finestra che esegue questa operazione, la spostiamo di 3 pixels a destra.\n",
        "# Così facendo non contiamo più volte lo stesso input e in questo caso l'output\n",
        "# di questo layer sarà per definizione più piccolo spazialmente dell'input.\n",
        "# E' un tipo di layer che ci serve concettualmente per essere meno dipendenti\n",
        "# da eventuali piccole variazioni nell'input (se ci sono tralazione dei dati\n",
        "# di un pixel a destra) il Max Pooling è abbastanza robusto da queste variazioni\n",
        "# trascendendo di qualche misura da variazioni dei dati. \n",
        "# Tra l'altro se lo usiamo con questo stride diminuisce la dimensione dell'input\n",
        "# e la complessità dei valori che portiamo avanti nella rete neurale. Stiamo\n",
        "# infatti passando da 224x224x3 valori a 3 numeri. \n",
        "x = keras.layers.MaxPooling2D(3, strides=3, padding='same')(x) \n",
        "\n",
        "x = keras.layers.Conv2D(64, 3, padding = 'same')(x)\n",
        "x = keras.layers.Activation('relu')(x)\n",
        "\n",
        "# Equivalente del Max Pooling ma in automatico calcola, invece che basarsi su\n",
        "# una finestra 3x3 utilizza una finestra grande quanto l'intera attivazione\n",
        "# del layer precedente.\n",
        "x = keras.layers.GlobalMaxPooling2D()(x)\n",
        "\n",
        "# Questa softmax prende i due numeri (le due classi specificate) e dà in input\n",
        "# una funzione che ha lo scopo di produrre una pseudo distrubuzione di \n",
        "# probabilità. Si assicura che la somma dei valori (dei due valori nel nostro\n",
        "# caso), faccia 1, e introduce delle non linearità.\n",
        "outputs = keras.layers.Dense(num_classes, activation='softmax')(x)\n",
        "\n",
        "# Con questo comando impacchettiamo tutti i nostri passaggi e diciamo \n",
        "# che la mia rete neurale è un modello che parte dalla variabile \"inputs\" e\n",
        "# termina con la variabile chiamata \"outputs\". \n",
        "net = keras.Model(inputs, outputs)"
      ],
      "metadata": {
        "colab": {
          "base_uri": "https://localhost:8080/",
          "height": 17
        },
        "id": "hQmKo-3bCXJj",
        "outputId": "dc444e7c-eb05-4701-a4f7-8f3ed2c05b47"
      },
      "execution_count": 8,
      "outputs": [
        {
          "output_type": "display_data",
          "data": {
            "text/plain": [
              "<IPython.core.display.Javascript object>"
            ],
            "application/javascript": [
              "google.colab.output.setIframeHeight(0, true, {maxHeight: 300})"
            ]
          },
          "metadata": {}
        }
      ]
    },
    {
      "cell_type": "markdown",
      "source": [
        "Commento al codice di creazione dell'architettura.\n",
        "\n",
        "- layer di input = non è indispensabile per definire una rete neurale, ma può essere utile perché se noi informiamo tutto il resto dell'architettura che i nostri dati in input hanno 3 canali, nel momento in cui dichiariamo la convoluzione 2D non abbiamo bisogno di dire quanto è grande la dimensione in input perché viene definita direttamente.  "
      ],
      "metadata": {
        "id": "8wleeYBlGIED"
      }
    },
    {
      "cell_type": "code",
      "source": [
        "# La compilazione ci serve per definire quali sono le procedure utilizzate \n",
        "# durante l'addestramento. La loss in questa esercitazione non è più la differenza\n",
        "# tra valore di regressione target e quello stimato ma \"categorical_crossentropy\".\n",
        "# Per ogni immagine (dato di input) dice: guardiamo la mi ground truth. Quale era\n",
        "# la classe della mia immagine? Era gatto (prima classe). Andiamo a vedere se\n",
        "# nel primo dei due valori restituiti dalla rete neurale per quella immagine\n",
        "# c'è un valore molto alto (idealmente deve essere 1). Più è distante la stima\n",
        "# della classe attesa da 1 e maggiore è la loss (peggior risultato all'aumentare\n",
        "# del valore di Loss). \n",
        "# Ottimizzatore: basato su RMSProp;\n",
        "# Salviamoci l'accuracy: ci dice sul totale delle immagini quante sono state\n",
        "# correttamente classificate.\n",
        "net.compile(loss=keras.losses.categorical_crossentropy,\n",
        "            optimizer= keras.optimizers.RMSprop(learning_rate=0.001),\n",
        "            metrics=['accuracy'])"
      ],
      "metadata": {
        "colab": {
          "base_uri": "https://localhost:8080/",
          "height": 17
        },
        "id": "QkjlGBH5g8bV",
        "outputId": "7a992080-d11e-4aa0-ca1b-f87fa4fd9410"
      },
      "execution_count": 9,
      "outputs": [
        {
          "output_type": "display_data",
          "data": {
            "text/plain": [
              "<IPython.core.display.Javascript object>"
            ],
            "application/javascript": [
              "google.colab.output.setIframeHeight(0, true, {maxHeight: 300})"
            ]
          },
          "metadata": {}
        }
      ]
    },
    {
      "cell_type": "code",
      "source": [
        "# SETTINGS FOR PRETTIER VISUALIZATION IN GOOGLE COLAB\n",
        "from IPython.display import Javascript\n",
        "def resize_colab_cell():\n",
        "  display(Javascript('google.colab.output.setIframeHeight(0, true, {maxHeight: 300})'))\n",
        "get_ipython().events.register('pre_run_cell', resize_colab_cell)"
      ],
      "metadata": {
        "colab": {
          "base_uri": "https://localhost:8080/",
          "height": 17
        },
        "id": "iuVpGc1wiEB7",
        "outputId": "7e28ebf8-f2f5-484d-fd74-80e6e4975e8e"
      },
      "execution_count": 10,
      "outputs": [
        {
          "output_type": "display_data",
          "data": {
            "text/plain": [
              "<IPython.core.display.Javascript object>"
            ],
            "application/javascript": [
              "google.colab.output.setIframeHeight(0, true, {maxHeight: 300})"
            ]
          },
          "metadata": {}
        }
      ]
    },
    {
      "cell_type": "code",
      "source": [
        "# SE LA VOLTA SCORSA POTEVAMO PERMETTERCI DI AVERE IN MEMORIA TUTTO IL DATASET\n",
        "# QUA NON POSSIAMO FARE ALTRETTANTO PERCHé ABBIAMO IMMAGINI E NON C'è\n",
        "# MODO DI CARICARE TUTTO IL DATASET IN MEMORIA ALLA PROCEDURA DI FIT. \n",
        "# MOTIVO PER IL QUALE STIAMO UTILIZZANDO IL DATA LOADER DEFINITO ALL'INIZIO. \n",
        "# AVENDOLO SPECIFICATO ALL'INIZIO IL TRAIN_DATASET PRENDERà IN INGRESSO 32\n",
        "# IMMAGINI ALLA VOLTA, DEFINITO COME BATCH SIZE FINO A COPRIRE L'INTERO DATASET.\n",
        "# COSI FACENDO HA COMPLETATO UNA EPOCA E TIRA IN BALLO IL VALIDATION\n",
        "# DATA LOADER CHE CONGELA MOMENTANEAMENTE L'ADDESTRAMENTO DELLA RETE NEURALE,\n",
        "# FORNISCE ALLA RETE TUTTE LE IMMAGINI DEL VALIDATION SET (ANCHE IN QUESTO\n",
        "# CASO 32 ALLA VOLTA) E CALCOLA IL RISULTATO. E SALVIAMO IL RISULTATO NELLA\n",
        "# VARIABILE HISTORY.\n",
        "history = net.fit(train_dataset, epochs=40, validation_data = val_dataset)"
      ],
      "metadata": {
        "colab": {
          "base_uri": "https://localhost:8080/",
          "height": 300
        },
        "id": "9KcO4PCGlzIe",
        "outputId": "7d57042c-8f5f-4fdf-d70e-0f623900b516"
      },
      "execution_count": 11,
      "outputs": [
        {
          "output_type": "display_data",
          "data": {
            "text/plain": [
              "<IPython.core.display.Javascript object>"
            ],
            "application/javascript": [
              "google.colab.output.setIframeHeight(0, true, {maxHeight: 300})"
            ]
          },
          "metadata": {}
        },
        {
          "output_type": "display_data",
          "data": {
            "text/plain": [
              "<IPython.core.display.Javascript object>"
            ],
            "application/javascript": [
              "google.colab.output.setIframeHeight(0, true, {maxHeight: 300})"
            ]
          },
          "metadata": {}
        },
        {
          "output_type": "stream",
          "name": "stdout",
          "text": [
            "Epoch 1/40\n",
            "25/25 [==============================] - 44s 2s/step - loss: 18.9632 - accuracy: 0.4888 - val_loss: 5.9177 - val_accuracy: 0.5000\n",
            "Epoch 2/40\n",
            "25/25 [==============================] - 42s 2s/step - loss: 5.2253 - accuracy: 0.5412 - val_loss: 7.3136 - val_accuracy: 0.5200\n",
            "Epoch 3/40\n",
            "25/25 [==============================] - 41s 2s/step - loss: 3.0518 - accuracy: 0.5788 - val_loss: 2.7804 - val_accuracy: 0.4950\n",
            "Epoch 4/40\n",
            "25/25 [==============================] - 41s 2s/step - loss: 2.1843 - accuracy: 0.5337 - val_loss: 2.0129 - val_accuracy: 0.5500\n",
            "Epoch 5/40\n",
            "25/25 [==============================] - 41s 2s/step - loss: 1.4333 - accuracy: 0.5763 - val_loss: 1.3512 - val_accuracy: 0.5850\n",
            "Epoch 6/40\n",
            "25/25 [==============================] - 41s 2s/step - loss: 1.0697 - accuracy: 0.6263 - val_loss: 1.1684 - val_accuracy: 0.5600\n",
            "Epoch 7/40\n",
            "25/25 [==============================] - 41s 2s/step - loss: 0.8814 - accuracy: 0.6650 - val_loss: 1.1826 - val_accuracy: 0.5800\n",
            "Epoch 8/40\n",
            "25/25 [==============================] - 43s 2s/step - loss: 0.7749 - accuracy: 0.6787 - val_loss: 1.0266 - val_accuracy: 0.5800\n",
            "Epoch 9/40\n",
            "25/25 [==============================] - 41s 2s/step - loss: 0.6171 - accuracy: 0.7025 - val_loss: 0.9865 - val_accuracy: 0.5400\n",
            "Epoch 10/40\n",
            "25/25 [==============================] - 41s 2s/step - loss: 0.7771 - accuracy: 0.6750 - val_loss: 1.3095 - val_accuracy: 0.5600\n",
            "Epoch 11/40\n",
            "25/25 [==============================] - 40s 2s/step - loss: 0.5712 - accuracy: 0.7437 - val_loss: 2.8825 - val_accuracy: 0.4950\n",
            "Epoch 12/40\n",
            "25/25 [==============================] - 40s 2s/step - loss: 0.5577 - accuracy: 0.7375 - val_loss: 1.0184 - val_accuracy: 0.5800\n",
            "Epoch 13/40\n",
            "25/25 [==============================] - 40s 2s/step - loss: 0.4582 - accuracy: 0.7912 - val_loss: 1.2411 - val_accuracy: 0.5500\n",
            "Epoch 14/40\n",
            "25/25 [==============================] - 41s 2s/step - loss: 0.3713 - accuracy: 0.8213 - val_loss: 1.6016 - val_accuracy: 0.5500\n",
            "Epoch 15/40\n",
            "25/25 [==============================] - 41s 2s/step - loss: 0.4006 - accuracy: 0.8100 - val_loss: 1.4869 - val_accuracy: 0.5700\n",
            "Epoch 16/40\n",
            "25/25 [==============================] - 41s 2s/step - loss: 0.3851 - accuracy: 0.8263 - val_loss: 1.1994 - val_accuracy: 0.5850\n",
            "Epoch 17/40\n",
            "25/25 [==============================] - 41s 2s/step - loss: 0.3912 - accuracy: 0.8475 - val_loss: 1.0705 - val_accuracy: 0.6050\n",
            "Epoch 18/40\n",
            "25/25 [==============================] - 41s 2s/step - loss: 0.3288 - accuracy: 0.8500 - val_loss: 1.0283 - val_accuracy: 0.6300\n",
            "Epoch 19/40\n",
            "25/25 [==============================] - 41s 2s/step - loss: 0.3202 - accuracy: 0.8712 - val_loss: 1.0130 - val_accuracy: 0.6450\n",
            "Epoch 20/40\n",
            "25/25 [==============================] - 41s 2s/step - loss: 0.2600 - accuracy: 0.8875 - val_loss: 1.5279 - val_accuracy: 0.5450\n",
            "Epoch 21/40\n",
            "25/25 [==============================] - 43s 2s/step - loss: 0.3167 - accuracy: 0.8550 - val_loss: 0.9901 - val_accuracy: 0.6150\n",
            "Epoch 22/40\n",
            "25/25 [==============================] - 41s 2s/step - loss: 0.2447 - accuracy: 0.8975 - val_loss: 1.0434 - val_accuracy: 0.6400\n",
            "Epoch 23/40\n",
            "25/25 [==============================] - 41s 2s/step - loss: 0.1887 - accuracy: 0.9212 - val_loss: 1.0535 - val_accuracy: 0.6650\n",
            "Epoch 24/40\n",
            "25/25 [==============================] - 41s 2s/step - loss: 0.2769 - accuracy: 0.8988 - val_loss: 1.3156 - val_accuracy: 0.6000\n",
            "Epoch 25/40\n",
            "25/25 [==============================] - 41s 2s/step - loss: 0.1942 - accuracy: 0.9350 - val_loss: 1.1847 - val_accuracy: 0.5950\n",
            "Epoch 26/40\n",
            "25/25 [==============================] - 41s 2s/step - loss: 0.2306 - accuracy: 0.9087 - val_loss: 1.2809 - val_accuracy: 0.6050\n",
            "Epoch 27/40\n",
            "25/25 [==============================] - 41s 2s/step - loss: 0.2284 - accuracy: 0.9200 - val_loss: 1.2019 - val_accuracy: 0.6000\n",
            "Epoch 28/40\n",
            "25/25 [==============================] - 41s 2s/step - loss: 0.2968 - accuracy: 0.8913 - val_loss: 1.2993 - val_accuracy: 0.6250\n",
            "Epoch 29/40\n",
            "25/25 [==============================] - 41s 2s/step - loss: 0.0956 - accuracy: 0.9700 - val_loss: 1.3692 - val_accuracy: 0.5900\n",
            "Epoch 30/40\n",
            "25/25 [==============================] - 41s 2s/step - loss: 0.2976 - accuracy: 0.9175 - val_loss: 1.1697 - val_accuracy: 0.6200\n",
            "Epoch 31/40\n",
            "25/25 [==============================] - 41s 2s/step - loss: 0.1468 - accuracy: 0.9337 - val_loss: 1.1997 - val_accuracy: 0.6200\n",
            "Epoch 32/40\n",
            "25/25 [==============================] - 41s 2s/step - loss: 0.2547 - accuracy: 0.9212 - val_loss: 1.2136 - val_accuracy: 0.5900\n",
            "Epoch 33/40\n",
            "25/25 [==============================] - 43s 2s/step - loss: 0.1499 - accuracy: 0.9538 - val_loss: 1.3368 - val_accuracy: 0.6000\n",
            "Epoch 34/40\n",
            "25/25 [==============================] - 41s 2s/step - loss: 0.1281 - accuracy: 0.9525 - val_loss: 1.2050 - val_accuracy: 0.6200\n",
            "Epoch 35/40\n",
            "25/25 [==============================] - 41s 2s/step - loss: 0.1862 - accuracy: 0.9450 - val_loss: 1.5343 - val_accuracy: 0.5850\n",
            "Epoch 36/40\n",
            "25/25 [==============================] - 41s 2s/step - loss: 0.1452 - accuracy: 0.9463 - val_loss: 1.2712 - val_accuracy: 0.5900\n",
            "Epoch 37/40\n",
            "25/25 [==============================] - 41s 2s/step - loss: 0.0513 - accuracy: 0.9925 - val_loss: 1.3667 - val_accuracy: 0.6300\n",
            "Epoch 38/40\n",
            "25/25 [==============================] - 41s 2s/step - loss: 0.2149 - accuracy: 0.9300 - val_loss: 1.3701 - val_accuracy: 0.6250\n",
            "Epoch 39/40\n",
            "25/25 [==============================] - 41s 2s/step - loss: 0.1182 - accuracy: 0.9712 - val_loss: 1.8484 - val_accuracy: 0.5750\n",
            "Epoch 40/40\n",
            "25/25 [==============================] - 41s 2s/step - loss: 0.0830 - accuracy: 0.9762 - val_loss: 1.3867 - val_accuracy: 0.6300\n"
          ]
        }
      ]
    },
    {
      "cell_type": "markdown",
      "source": [
        "Visualizziamo le curve di accuracy."
      ],
      "metadata": {
        "id": "0lJCB6i6m9wy"
      }
    },
    {
      "cell_type": "code",
      "source": [
        "plt.plot(history.history['accuracy'])\n",
        "plt.plot(history.history['val_accuracy'])\n",
        "plt.ylim([0.5, 1.0]) # 0.5 è il minimo sindacale - dummy classifier fa 50% - fino al massimo 1.\n",
        "plt.xlabel('Epoch')\n",
        "plt.ylabel('Accuracy')\n",
        "plt.legend(['train', 'val'])"
      ],
      "metadata": {
        "colab": {
          "base_uri": "https://localhost:8080/",
          "height": 300
        },
        "id": "3L8zSMA4l_en",
        "outputId": "85996878-15ee-4c0b-eaf0-627dbd37f150"
      },
      "execution_count": 12,
      "outputs": [
        {
          "output_type": "display_data",
          "data": {
            "text/plain": [
              "<IPython.core.display.Javascript object>"
            ],
            "application/javascript": [
              "google.colab.output.setIframeHeight(0, true, {maxHeight: 300})"
            ]
          },
          "metadata": {}
        },
        {
          "output_type": "display_data",
          "data": {
            "text/plain": [
              "<IPython.core.display.Javascript object>"
            ],
            "application/javascript": [
              "google.colab.output.setIframeHeight(0, true, {maxHeight: 300})"
            ]
          },
          "metadata": {}
        },
        {
          "output_type": "execute_result",
          "data": {
            "text/plain": [
              "<matplotlib.legend.Legend at 0x7f1216d0fdd0>"
            ]
          },
          "metadata": {},
          "execution_count": 12
        },
        {
          "output_type": "display_data",
          "data": {
            "text/plain": [
              "<Figure size 432x288 with 1 Axes>"
            ],
            "image/png": "[encoded data removed]"
          },
          "metadata": {
            "needs_background": "light"
          }
        }
      ]
    },
    {
      "cell_type": "markdown",
      "source": [
        "Su dati mai visti non un granché.\n",
        "Come miglioriamo il risultato? Introducendo la batch normalization, un layer dopo ciascuna convoluzione 2D.\n",
        "Quindi, riprendiamo la rete definita precedentemente e inseriamo la batch normalization.\n",
        "\n",
        "Quindi:\n",
        "- Add a batchnorm layer after every conv2D layer\n",
        "- compile\n",
        "- fit"
      ],
      "metadata": {
        "id": "D0QqZfkZnhmv"
      }
    },
    {
      "cell_type": "code",
      "source": [
        "# NUOVA ARCHITETTURA DI RETE CONVOLUZIONALE CON BATCH NORMALIZATION\n",
        "\n",
        "inputs = keras.Input((224, 224, 3)) # 224 rows, 224 columns, 3 RGB channels\n",
        "\n",
        "x = inputs\n",
        "x = keras.layers.Conv2D(32, 3, padding='same')(x)\n",
        "# AGGIUNGI BATCH NORMALIZATION LAYER\n",
        "x = keras.layers.BatchNormalization()(x)\n",
        "x = keras.layers.Activation('relu')(x)\n",
        "x = keras.layers.MaxPooling2D(3, strides=3, padding='same')(x) \n",
        "\n",
        "x = keras.layers.Conv2D(64, 3, padding = 'same')(x)\n",
        "# AGGIUNGI BATCH NORMALIZATION LAYER\n",
        "x = keras.layers.BatchNormalization()(x)\n",
        "x = keras.layers.Activation('relu')(x)\n",
        "\n",
        "x = keras.layers.GlobalMaxPooling2D()(x)\n",
        "\n",
        "outputs = keras.layers.Dense(num_classes, activation='softmax')(x)\n",
        "\n",
        "net = keras.Model(inputs, outputs)"
      ],
      "metadata": {
        "colab": {
          "base_uri": "https://localhost:8080/",
          "height": 17
        },
        "id": "UxVRKyX5nd6D",
        "outputId": "897438d2-0db5-4742-bb2c-d1f804f17490"
      },
      "execution_count": 13,
      "outputs": [
        {
          "output_type": "display_data",
          "data": {
            "text/plain": [
              "<IPython.core.display.Javascript object>"
            ],
            "application/javascript": [
              "google.colab.output.setIframeHeight(0, true, {maxHeight: 300})"
            ]
          },
          "metadata": {}
        },
        {
          "output_type": "display_data",
          "data": {
            "text/plain": [
              "<IPython.core.display.Javascript object>"
            ],
            "application/javascript": [
              "google.colab.output.setIframeHeight(0, true, {maxHeight: 300})"
            ]
          },
          "metadata": {}
        }
      ]
    },
    {
      "cell_type": "code",
      "source": [
        "# RICOOMPILIAMO\n",
        "net.compile(loss=keras.losses.categorical_crossentropy,\n",
        "            optimizer= keras.optimizers.RMSprop(learning_rate=0.001),\n",
        "            metrics=['accuracy'])"
      ],
      "metadata": {
        "colab": {
          "base_uri": "https://localhost:8080/",
          "height": 17
        },
        "id": "eJsQs8-mo6go",
        "outputId": "fd4ed930-1d87-4c59-c046-09420989e23d"
      },
      "execution_count": 14,
      "outputs": [
        {
          "output_type": "display_data",
          "data": {
            "text/plain": [
              "<IPython.core.display.Javascript object>"
            ],
            "application/javascript": [
              "google.colab.output.setIframeHeight(0, true, {maxHeight: 300})"
            ]
          },
          "metadata": {}
        },
        {
          "output_type": "display_data",
          "data": {
            "text/plain": [
              "<IPython.core.display.Javascript object>"
            ],
            "application/javascript": [
              "google.colab.output.setIframeHeight(0, true, {maxHeight: 300})"
            ]
          },
          "metadata": {}
        }
      ]
    },
    {
      "cell_type": "code",
      "source": [
        "# RIFITTIAMO\n",
        "history = net.fit(train_dataset, epochs=40, validation_data = val_dataset)"
      ],
      "metadata": {
        "colab": {
          "base_uri": "https://localhost:8080/",
          "height": 300
        },
        "id": "w3_nHC0To-QB",
        "outputId": "ea73d45a-aa36-4494-bfd2-989d94f29e9a"
      },
      "execution_count": 15,
      "outputs": [
        {
          "output_type": "display_data",
          "data": {
            "text/plain": [
              "<IPython.core.display.Javascript object>"
            ],
            "application/javascript": [
              "google.colab.output.setIframeHeight(0, true, {maxHeight: 300})"
            ]
          },
          "metadata": {}
        },
        {
          "output_type": "display_data",
          "data": {
            "text/plain": [
              "<IPython.core.display.Javascript object>"
            ],
            "application/javascript": [
              "google.colab.output.setIframeHeight(0, true, {maxHeight: 300})"
            ]
          },
          "metadata": {}
        },
        {
          "output_type": "stream",
          "name": "stdout",
          "text": [
            "Epoch 1/40\n",
            "25/25 [==============================] - 67s 3s/step - loss: 1.4416 - accuracy: 0.5038 - val_loss: 1.1599 - val_accuracy: 0.5400\n",
            "Epoch 2/40\n",
            "25/25 [==============================] - 66s 3s/step - loss: 0.8057 - accuracy: 0.5750 - val_loss: 1.1678 - val_accuracy: 0.5400\n",
            "Epoch 3/40\n",
            "25/25 [==============================] - 66s 3s/step - loss: 0.7139 - accuracy: 0.6350 - val_loss: 1.0766 - val_accuracy: 0.5250\n",
            "Epoch 4/40\n",
            "25/25 [==============================] - 67s 3s/step - loss: 0.6608 - accuracy: 0.6662 - val_loss: 1.1275 - val_accuracy: 0.5200\n",
            "Epoch 5/40\n",
            "25/25 [==============================] - 65s 3s/step - loss: 0.6239 - accuracy: 0.6750 - val_loss: 0.7673 - val_accuracy: 0.6150\n",
            "Epoch 6/40\n",
            "25/25 [==============================] - 66s 3s/step - loss: 0.5860 - accuracy: 0.7050 - val_loss: 0.7793 - val_accuracy: 0.6050\n",
            "Epoch 7/40\n",
            "25/25 [==============================] - 66s 3s/step - loss: 0.5548 - accuracy: 0.7350 - val_loss: 0.6421 - val_accuracy: 0.6700\n",
            "Epoch 8/40\n",
            "25/25 [==============================] - 66s 3s/step - loss: 0.5108 - accuracy: 0.7375 - val_loss: 0.6348 - val_accuracy: 0.6800\n",
            "Epoch 9/40\n",
            "25/25 [==============================] - 66s 3s/step - loss: 0.5350 - accuracy: 0.7225 - val_loss: 0.6279 - val_accuracy: 0.6700\n",
            "Epoch 10/40\n",
            "25/25 [==============================] - 65s 3s/step - loss: 0.4466 - accuracy: 0.7900 - val_loss: 0.8354 - val_accuracy: 0.5850\n",
            "Epoch 11/40\n",
            "25/25 [==============================] - 66s 3s/step - loss: 0.4631 - accuracy: 0.7725 - val_loss: 0.6553 - val_accuracy: 0.6400\n",
            "Epoch 12/40\n",
            "25/25 [==============================] - 65s 3s/step - loss: 0.4290 - accuracy: 0.7987 - val_loss: 0.6809 - val_accuracy: 0.6150\n",
            "Epoch 13/40\n",
            "25/25 [==============================] - 66s 3s/step - loss: 0.4156 - accuracy: 0.8075 - val_loss: 0.6662 - val_accuracy: 0.6050\n",
            "Epoch 14/40\n",
            "25/25 [==============================] - 66s 3s/step - loss: 0.3843 - accuracy: 0.8400 - val_loss: 0.7634 - val_accuracy: 0.5900\n",
            "Epoch 15/40\n",
            "25/25 [==============================] - 66s 3s/step - loss: 0.3620 - accuracy: 0.8500 - val_loss: 0.6338 - val_accuracy: 0.6850\n",
            "Epoch 16/40\n",
            "25/25 [==============================] - 66s 3s/step - loss: 0.3493 - accuracy: 0.8550 - val_loss: 0.6618 - val_accuracy: 0.6250\n",
            "Epoch 17/40\n",
            "25/25 [==============================] - 66s 3s/step - loss: 0.3673 - accuracy: 0.8462 - val_loss: 0.6289 - val_accuracy: 0.6400\n",
            "Epoch 18/40\n",
            "25/25 [==============================] - 66s 3s/step - loss: 0.3501 - accuracy: 0.8662 - val_loss: 0.6047 - val_accuracy: 0.6700\n",
            "Epoch 19/40\n",
            "25/25 [==============================] - 66s 3s/step - loss: 0.3141 - accuracy: 0.8800 - val_loss: 0.6494 - val_accuracy: 0.6400\n",
            "Epoch 20/40\n",
            "25/25 [==============================] - 66s 3s/step - loss: 0.2893 - accuracy: 0.9013 - val_loss: 0.6083 - val_accuracy: 0.6450\n",
            "Epoch 21/40\n",
            "25/25 [==============================] - 66s 3s/step - loss: 0.3272 - accuracy: 0.8700 - val_loss: 0.6888 - val_accuracy: 0.6150\n",
            "Epoch 22/40\n",
            "25/25 [==============================] - 66s 3s/step - loss: 0.2964 - accuracy: 0.9137 - val_loss: 0.6354 - val_accuracy: 0.6900\n",
            "Epoch 23/40\n",
            "25/25 [==============================] - 66s 3s/step - loss: 0.2465 - accuracy: 0.9225 - val_loss: 0.6025 - val_accuracy: 0.6700\n",
            "Epoch 24/40\n",
            "25/25 [==============================] - 66s 3s/step - loss: 0.2724 - accuracy: 0.8938 - val_loss: 0.8307 - val_accuracy: 0.5900\n",
            "Epoch 25/40\n",
            "25/25 [==============================] - 67s 3s/step - loss: 0.3080 - accuracy: 0.8763 - val_loss: 0.6155 - val_accuracy: 0.6650\n",
            "Epoch 26/40\n",
            "25/25 [==============================] - 67s 3s/step - loss: 0.2520 - accuracy: 0.9200 - val_loss: 0.7374 - val_accuracy: 0.6250\n",
            "Epoch 27/40\n",
            "25/25 [==============================] - 66s 3s/step - loss: 0.2345 - accuracy: 0.9200 - val_loss: 0.6703 - val_accuracy: 0.6350\n",
            "Epoch 28/40\n",
            "25/25 [==============================] - 66s 3s/step - loss: 0.2481 - accuracy: 0.9087 - val_loss: 0.9871 - val_accuracy: 0.5900\n",
            "Epoch 29/40\n",
            "25/25 [==============================] - 66s 3s/step - loss: 0.2257 - accuracy: 0.9137 - val_loss: 0.6703 - val_accuracy: 0.6400\n",
            "Epoch 30/40\n",
            "25/25 [==============================] - 66s 3s/step - loss: 0.2589 - accuracy: 0.8963 - val_loss: 0.7392 - val_accuracy: 0.6000\n",
            "Epoch 31/40\n",
            "25/25 [==============================] - 66s 3s/step - loss: 0.1818 - accuracy: 0.9538 - val_loss: 0.7464 - val_accuracy: 0.6350\n",
            "Epoch 32/40\n",
            "25/25 [==============================] - 66s 3s/step - loss: 0.2052 - accuracy: 0.9438 - val_loss: 0.6664 - val_accuracy: 0.6200\n",
            "Epoch 33/40\n",
            "25/25 [==============================] - 65s 3s/step - loss: 0.2226 - accuracy: 0.9137 - val_loss: 0.8090 - val_accuracy: 0.6800\n",
            "Epoch 34/40\n",
            "25/25 [==============================] - 65s 3s/step - loss: 0.1954 - accuracy: 0.9275 - val_loss: 1.0228 - val_accuracy: 0.5750\n",
            "Epoch 35/40\n",
            "25/25 [==============================] - 66s 3s/step - loss: 0.1885 - accuracy: 0.9525 - val_loss: 0.7401 - val_accuracy: 0.6350\n",
            "Epoch 36/40\n",
            "25/25 [==============================] - 66s 3s/step - loss: 0.1752 - accuracy: 0.9525 - val_loss: 1.0593 - val_accuracy: 0.5650\n",
            "Epoch 37/40\n",
            "25/25 [==============================] - 66s 3s/step - loss: 0.1879 - accuracy: 0.9413 - val_loss: 1.0230 - val_accuracy: 0.6050\n",
            "Epoch 38/40\n",
            "25/25 [==============================] - 66s 3s/step - loss: 0.2042 - accuracy: 0.9350 - val_loss: 0.6197 - val_accuracy: 0.6800\n",
            "Epoch 39/40\n",
            "25/25 [==============================] - 66s 3s/step - loss: 0.1546 - accuracy: 0.9575 - val_loss: 0.6721 - val_accuracy: 0.6900\n",
            "Epoch 40/40\n",
            "25/25 [==============================] - 65s 3s/step - loss: 0.1952 - accuracy: 0.9300 - val_loss: 0.6687 - val_accuracy: 0.6350\n"
          ]
        }
      ]
    },
    {
      "cell_type": "code",
      "source": [
        "# VISUALIZZIAMO NUOVAMENTE L'OUTPUT\n",
        "plt.plot(history.history['accuracy'])\n",
        "plt.plot(history.history['val_accuracy'])\n",
        "plt.ylim([0.5, 1.0]) # 0.5 è il minimo sindacale - dummy classifier fa 50% - fino al massimo 1.\n",
        "plt.xlabel('Epoch')\n",
        "plt.ylabel('Accuracy')\n",
        "plt.legend(['train', 'val'])"
      ],
      "metadata": {
        "colab": {
          "base_uri": "https://localhost:8080/",
          "height": 300
        },
        "id": "QuOY6rZQpDD7",
        "outputId": "65576351-c0eb-486d-863f-b7024c189f1b"
      },
      "execution_count": 16,
      "outputs": [
        {
          "output_type": "display_data",
          "data": {
            "text/plain": [
              "<IPython.core.display.Javascript object>"
            ],
            "application/javascript": [
              "google.colab.output.setIframeHeight(0, true, {maxHeight: 300})"
            ]
          },
          "metadata": {}
        },
        {
          "output_type": "display_data",
          "data": {
            "text/plain": [
              "<IPython.core.display.Javascript object>"
            ],
            "application/javascript": [
              "google.colab.output.setIframeHeight(0, true, {maxHeight: 300})"
            ]
          },
          "metadata": {}
        },
        {
          "output_type": "execute_result",
          "data": {
            "text/plain": [
              "<matplotlib.legend.Legend at 0x7f1213d1d610>"
            ]
          },
          "metadata": {},
          "execution_count": 16
        },
        {
          "output_type": "display_data",
          "data": {
            "text/plain": [
              "<Figure size 432x288 with 1 Axes>"
            ],
            "image/png": "[encoded data removed]"
          },
          "metadata": {
            "needs_background": "light"
          }
        }
      ]
    },
    {
      "cell_type": "markdown",
      "source": [
        "Idea della batch normalization: standardizza i dati per il livello successivo. I dati di partenza nella variabile inputs si trovano tra 0 e 255 o tra 0 e 1 a seconda di come è trattato l'input. Nel momento in cui applichiamo una convoluzione 2D coon dei filtri inizializzati con valori randomici è difficile prevedere che valore (range) avrà l'output e più si va a fondo di una rete neurale è più è imprevedibile sapere che range di valori hanno le attivazioni (le attivazioni sono gli output dei layers). Per alcuni livelli neurali questo può essere un problema: la batch normalization si occupa di riportare i dati sempre in un stesso range (non è un range specifico). Quello che fa è portare la media del training set a 0 e la std del training set a 1. Questa normalizzazione permette di migliorare l'apprendimento dei layer successivi. E' una forma di regolarizzazione. \n",
        "\n",
        "Il miglioramento ci fa arrivare al 65% anche se non ci fa impazzire.\n",
        "Avendo fatto un passo per combattere l'overfitting (accuracy sul training elevata, mentre l'accuracy sul validation bassa), proviamo ad aumentare la complessità della rete, facendola più profonda (128 neuroni - quello che vogliamo fare approfondendo la rete è di diminuire la dimensione spaziale, cosa fatta col Max Pooling e allo stesso tempo aumentare la profondità dei canali, da 32 a 64 a 128).\n",
        "\n",
        "Riprendiamo il codice della rete precedente e aggiungiamo un altro blocco di convolution, batch, activation e Max Pooling."
      ],
      "metadata": {
        "id": "1R9yW6s9pcx5"
      }
    },
    {
      "cell_type": "code",
      "source": [
        "# NUOVA ARCHITETTURA CON UN \"BLOCCO\" AGGIUNTIVO\n",
        "\n",
        "inputs = keras.Input((224, 224, 3)) # 224 rows, 224 columns, 3 RGB channels\n",
        "\n",
        "x = inputs\n",
        "x = keras.layers.Conv2D(32, 3, padding='same')(x)\n",
        "# AGGIUNGI BATCH NORMALIZATION LAYER\n",
        "x = keras.layers.BatchNormalization()(x)\n",
        "x = keras.layers.Activation('relu')(x)\n",
        "x = keras.layers.MaxPooling2D(3, strides=3, padding='same')(x) \n",
        "\n",
        "x = keras.layers.Conv2D(64, 3, padding = 'same')(x)\n",
        "# AGGIUNGI BATCH NORMALIZATION LAYER\n",
        "x = keras.layers.BatchNormalization()(x)\n",
        "x = keras.layers.Activation('relu')(x)\n",
        "# QUI AGGIUNGIAMO UN MAX POOLING ANCHE IN QUESTO BLOCCO\n",
        "x = keras.layers.MaxPooling2D(3, strides=3, padding='same')(x) \n",
        "\n",
        "x = keras.layers.Conv2D(128, 3, padding = 'same')(x)\n",
        "# AGGIUNGI BATCH NORMALIZATION LAYER\n",
        "x = keras.layers.BatchNormalization()(x)\n",
        "x = keras.layers.Activation('relu')(x)\n",
        "\n",
        "x = keras.layers.GlobalMaxPooling2D()(x)\n",
        "\n",
        "outputs = keras.layers.Dense(num_classes, activation='softmax')(x)\n",
        "\n",
        "net = keras.Model(inputs, outputs)"
      ],
      "metadata": {
        "id": "w9Hgd1XKpJQO",
        "colab": {
          "base_uri": "https://localhost:8080/",
          "height": 17
        },
        "outputId": "ed6c9460-edeb-4ebd-a541-485fa7730642"
      },
      "execution_count": 17,
      "outputs": [
        {
          "output_type": "display_data",
          "data": {
            "text/plain": [
              "<IPython.core.display.Javascript object>"
            ],
            "application/javascript": [
              "google.colab.output.setIframeHeight(0, true, {maxHeight: 300})"
            ]
          },
          "metadata": {}
        },
        {
          "output_type": "display_data",
          "data": {
            "text/plain": [
              "<IPython.core.display.Javascript object>"
            ],
            "application/javascript": [
              "google.colab.output.setIframeHeight(0, true, {maxHeight: 300})"
            ]
          },
          "metadata": {}
        }
      ]
    },
    {
      "cell_type": "code",
      "source": [
        "# RICOOMPILIAMO\n",
        "net.compile(loss=keras.losses.categorical_crossentropy,\n",
        "            optimizer= keras.optimizers.RMSprop(learning_rate=0.001),\n",
        "            metrics=['accuracy'])"
      ],
      "metadata": {
        "colab": {
          "base_uri": "https://localhost:8080/",
          "height": 17
        },
        "id": "fDSzZP0yb3iS",
        "outputId": "5204c4d7-c1d9-42b6-ace8-49661eacf1da"
      },
      "execution_count": 18,
      "outputs": [
        {
          "output_type": "display_data",
          "data": {
            "text/plain": [
              "<IPython.core.display.Javascript object>"
            ],
            "application/javascript": [
              "google.colab.output.setIframeHeight(0, true, {maxHeight: 300})"
            ]
          },
          "metadata": {}
        },
        {
          "output_type": "display_data",
          "data": {
            "text/plain": [
              "<IPython.core.display.Javascript object>"
            ],
            "application/javascript": [
              "google.colab.output.setIframeHeight(0, true, {maxHeight: 300})"
            ]
          },
          "metadata": {}
        }
      ]
    },
    {
      "cell_type": "code",
      "source": [
        "# RIFITTIAMO\n",
        "history = net.fit(train_dataset, epochs=40, validation_data = val_dataset)"
      ],
      "metadata": {
        "colab": {
          "base_uri": "https://localhost:8080/",
          "height": 300
        },
        "id": "4_tymiz9b6NX",
        "outputId": "db889171-e146-4ae4-922e-c226e8aa3d41"
      },
      "execution_count": 19,
      "outputs": [
        {
          "output_type": "display_data",
          "data": {
            "text/plain": [
              "<IPython.core.display.Javascript object>"
            ],
            "application/javascript": [
              "google.colab.output.setIframeHeight(0, true, {maxHeight: 300})"
            ]
          },
          "metadata": {}
        },
        {
          "output_type": "display_data",
          "data": {
            "text/plain": [
              "<IPython.core.display.Javascript object>"
            ],
            "application/javascript": [
              "google.colab.output.setIframeHeight(0, true, {maxHeight: 300})"
            ]
          },
          "metadata": {}
        },
        {
          "output_type": "stream",
          "name": "stdout",
          "text": [
            "Epoch 1/40\n",
            "25/25 [==============================] - 75s 3s/step - loss: 1.2566 - accuracy: 0.5288 - val_loss: 1.1062 - val_accuracy: 0.4850\n",
            "Epoch 2/40\n",
            "25/25 [==============================] - 73s 3s/step - loss: 0.6378 - accuracy: 0.6762 - val_loss: 1.4293 - val_accuracy: 0.4850\n",
            "Epoch 3/40\n",
            "25/25 [==============================] - 73s 3s/step - loss: 0.5693 - accuracy: 0.7200 - val_loss: 1.2144 - val_accuracy: 0.4850\n",
            "Epoch 4/40\n",
            "25/25 [==============================] - 73s 3s/step - loss: 0.4987 - accuracy: 0.7613 - val_loss: 1.2611 - val_accuracy: 0.5150\n",
            "Epoch 5/40\n",
            "25/25 [==============================] - 73s 3s/step - loss: 0.4294 - accuracy: 0.8125 - val_loss: 1.0599 - val_accuracy: 0.5600\n",
            "Epoch 6/40\n",
            "25/25 [==============================] - 73s 3s/step - loss: 0.3762 - accuracy: 0.8462 - val_loss: 0.6624 - val_accuracy: 0.7000\n",
            "Epoch 7/40\n",
            "25/25 [==============================] - 73s 3s/step - loss: 0.3764 - accuracy: 0.8313 - val_loss: 0.6088 - val_accuracy: 0.6950\n",
            "Epoch 8/40\n",
            "25/25 [==============================] - 72s 3s/step - loss: 0.3094 - accuracy: 0.8650 - val_loss: 0.6170 - val_accuracy: 0.7050\n",
            "Epoch 9/40\n",
            "25/25 [==============================] - 73s 3s/step - loss: 0.3003 - accuracy: 0.8825 - val_loss: 0.6686 - val_accuracy: 0.6500\n",
            "Epoch 10/40\n",
            "25/25 [==============================] - 73s 3s/step - loss: 0.2189 - accuracy: 0.9262 - val_loss: 0.6025 - val_accuracy: 0.7450\n",
            "Epoch 11/40\n",
            "25/25 [==============================] - 73s 3s/step - loss: 0.2160 - accuracy: 0.9262 - val_loss: 0.5553 - val_accuracy: 0.7100\n",
            "Epoch 12/40\n",
            "25/25 [==============================] - 73s 3s/step - loss: 0.1904 - accuracy: 0.9400 - val_loss: 0.7118 - val_accuracy: 0.6650\n",
            "Epoch 13/40\n",
            "25/25 [==============================] - 72s 3s/step - loss: 0.1380 - accuracy: 0.9650 - val_loss: 0.5602 - val_accuracy: 0.7500\n",
            "Epoch 14/40\n",
            "25/25 [==============================] - 73s 3s/step - loss: 0.1580 - accuracy: 0.9575 - val_loss: 0.8895 - val_accuracy: 0.6250\n",
            "Epoch 15/40\n",
            "25/25 [==============================] - 73s 3s/step - loss: 0.1314 - accuracy: 0.9600 - val_loss: 0.6231 - val_accuracy: 0.6950\n",
            "Epoch 16/40\n",
            "25/25 [==============================] - 72s 3s/step - loss: 0.0878 - accuracy: 0.9887 - val_loss: 1.4493 - val_accuracy: 0.5200\n",
            "Epoch 17/40\n",
            "25/25 [==============================] - 72s 3s/step - loss: 0.0943 - accuracy: 0.9837 - val_loss: 0.5238 - val_accuracy: 0.7900\n",
            "Epoch 18/40\n",
            "25/25 [==============================] - 73s 3s/step - loss: 0.1122 - accuracy: 0.9700 - val_loss: 0.5952 - val_accuracy: 0.7050\n",
            "Epoch 19/40\n",
            "25/25 [==============================] - 73s 3s/step - loss: 0.1048 - accuracy: 0.9625 - val_loss: 0.5884 - val_accuracy: 0.7350\n",
            "Epoch 20/40\n",
            "25/25 [==============================] - 73s 3s/step - loss: 0.0431 - accuracy: 0.9987 - val_loss: 0.6072 - val_accuracy: 0.7050\n",
            "Epoch 21/40\n",
            "25/25 [==============================] - 72s 3s/step - loss: 0.0588 - accuracy: 0.9912 - val_loss: 0.6001 - val_accuracy: 0.7400\n",
            "Epoch 22/40\n",
            "25/25 [==============================] - 72s 3s/step - loss: 0.0389 - accuracy: 0.9987 - val_loss: 0.5984 - val_accuracy: 0.7500\n",
            "Epoch 23/40\n",
            "25/25 [==============================] - 73s 3s/step - loss: 0.1116 - accuracy: 0.9638 - val_loss: 0.5808 - val_accuracy: 0.7700\n",
            "Epoch 24/40\n",
            "25/25 [==============================] - 73s 3s/step - loss: 0.0219 - accuracy: 1.0000 - val_loss: 0.5710 - val_accuracy: 0.7500\n",
            "Epoch 25/40\n",
            "25/25 [==============================] - 73s 3s/step - loss: 0.0940 - accuracy: 0.9688 - val_loss: 0.6392 - val_accuracy: 0.7700\n",
            "Epoch 26/40\n",
            "25/25 [==============================] - 73s 3s/step - loss: 0.0178 - accuracy: 1.0000 - val_loss: 0.7705 - val_accuracy: 0.6700\n",
            "Epoch 27/40\n",
            "25/25 [==============================] - 73s 3s/step - loss: 0.0670 - accuracy: 0.9812 - val_loss: 0.6198 - val_accuracy: 0.7300\n",
            "Epoch 28/40\n",
            "25/25 [==============================] - 73s 3s/step - loss: 0.0150 - accuracy: 1.0000 - val_loss: 0.6490 - val_accuracy: 0.7150\n",
            "Epoch 29/40\n",
            "25/25 [==============================] - 73s 3s/step - loss: 0.0125 - accuracy: 0.9975 - val_loss: 1.0530 - val_accuracy: 0.6250\n",
            "Epoch 30/40\n",
            "25/25 [==============================] - 73s 3s/step - loss: 0.0818 - accuracy: 0.9762 - val_loss: 0.6415 - val_accuracy: 0.7550\n",
            "Epoch 31/40\n",
            "25/25 [==============================] - 73s 3s/step - loss: 0.0434 - accuracy: 0.9900 - val_loss: 1.4651 - val_accuracy: 0.5750\n",
            "Epoch 32/40\n",
            "25/25 [==============================] - 73s 3s/step - loss: 0.0149 - accuracy: 0.9987 - val_loss: 0.5974 - val_accuracy: 0.7850\n",
            "Epoch 33/40\n",
            "25/25 [==============================] - 73s 3s/step - loss: 0.0151 - accuracy: 0.9987 - val_loss: 0.7419 - val_accuracy: 0.7100\n",
            "Epoch 34/40\n",
            "25/25 [==============================] - 73s 3s/step - loss: 0.0686 - accuracy: 0.9737 - val_loss: 0.5264 - val_accuracy: 0.8000\n",
            "Epoch 35/40\n",
            "25/25 [==============================] - 73s 3s/step - loss: 0.0056 - accuracy: 1.0000 - val_loss: 0.5475 - val_accuracy: 0.7700\n",
            "Epoch 36/40\n",
            "25/25 [==============================] - 73s 3s/step - loss: 0.0275 - accuracy: 0.9975 - val_loss: 0.8380 - val_accuracy: 0.7100\n",
            "Epoch 37/40\n",
            "25/25 [==============================] - 72s 3s/step - loss: 0.0049 - accuracy: 1.0000 - val_loss: 0.8642 - val_accuracy: 0.7200\n",
            "Epoch 38/40\n",
            "25/25 [==============================] - 72s 3s/step - loss: 0.0258 - accuracy: 0.9925 - val_loss: 0.5611 - val_accuracy: 0.7750\n",
            "Epoch 39/40\n",
            "25/25 [==============================] - 72s 3s/step - loss: 0.0168 - accuracy: 1.0000 - val_loss: 0.6521 - val_accuracy: 0.7450\n",
            "Epoch 40/40\n",
            "25/25 [==============================] - 73s 3s/step - loss: 0.0040 - accuracy: 1.0000 - val_loss: 0.6382 - val_accuracy: 0.7600\n"
          ]
        }
      ]
    },
    {
      "cell_type": "code",
      "source": [
        "# VISUALIZZIAMO NUOVAMENTE L'OUTPUT\n",
        "plt.plot(history.history['accuracy'])\n",
        "plt.plot(history.history['val_accuracy'])\n",
        "plt.ylim([0.5, 1.0]) # 0.5 è il minimo sindacale - dummy classifier fa 50% - fino al massimo 1.\n",
        "plt.xlabel('Epoch')\n",
        "plt.ylabel('Accuracy')\n",
        "plt.legend(['train', 'val'])"
      ],
      "metadata": {
        "colab": {
          "base_uri": "https://localhost:8080/",
          "height": 300
        },
        "id": "GnYDpUlsb8tC",
        "outputId": "2acef4a6-2daa-423b-e219-dfcd73ac9e5e"
      },
      "execution_count": 20,
      "outputs": [
        {
          "output_type": "display_data",
          "data": {
            "text/plain": [
              "<IPython.core.display.Javascript object>"
            ],
            "application/javascript": [
              "google.colab.output.setIframeHeight(0, true, {maxHeight: 300})"
            ]
          },
          "metadata": {}
        },
        {
          "output_type": "display_data",
          "data": {
            "text/plain": [
              "<IPython.core.display.Javascript object>"
            ],
            "application/javascript": [
              "google.colab.output.setIframeHeight(0, true, {maxHeight: 300})"
            ]
          },
          "metadata": {}
        },
        {
          "output_type": "execute_result",
          "data": {
            "text/plain": [
              "<matplotlib.legend.Legend at 0x7f12131fe4d0>"
            ]
          },
          "metadata": {},
          "execution_count": 20
        },
        {
          "output_type": "display_data",
          "data": {
            "text/plain": [
              "<Figure size 432x288 with 1 Axes>"
            ],
            "image/png": "[encoded data removed]"
          },
          "metadata": {
            "needs_background": "light"
          }
        }
      ]
    },
    {
      "cell_type": "markdown",
      "source": [
        "## Nel notebook della lezione sono presenti altri passaggi che non sono stati visti a lezione ma che potrebbero essere importanti da guardare anche in vista del progetto!\n",
        "\n",
        "Per ora visualizziamo l'architettura che abbiamo definito: sarebbe utile avere una sorta di report dell'architettura definita anche per fare una sorta di debug dell'architettura definita."
      ],
      "metadata": {
        "id": "zLyQy4zLcQ1i"
      }
    },
    {
      "cell_type": "code",
      "source": [
        "# IN QUESTO CASO NON è MOLTO SIGNIFICATIVO PERCHé L'ARCHITETTURA\n",
        "# E' SEQUENZIALE: ABBIAMO UN LAYER SEGUITO DA UN ALTRO LAYER ETC.\n",
        "keras.utils.plot_model(net)"
      ],
      "metadata": {
        "colab": {
          "base_uri": "https://localhost:8080/",
          "height": 300
        },
        "id": "Kk3VTxs6b9_Q",
        "outputId": "617387eb-d5a4-4e70-dfb9-9043c48b34b4"
      },
      "execution_count": 21,
      "outputs": [
        {
          "output_type": "display_data",
          "data": {
            "text/plain": [
              "<IPython.core.display.Javascript object>"
            ],
            "application/javascript": [
              "google.colab.output.setIframeHeight(0, true, {maxHeight: 300})"
            ]
          },
          "metadata": {}
        },
        {
          "output_type": "display_data",
          "data": {
            "text/plain": [
              "<IPython.core.display.Javascript object>"
            ],
            "application/javascript": [
              "google.colab.output.setIframeHeight(0, true, {maxHeight: 300})"
            ]
          },
          "metadata": {}
        },
        {
          "output_type": "execute_result",
          "data": {
            "image/png": "[encoded data removed]",
            "text/plain": [
              "<IPython.core.display.Image object>"
            ]
          },
          "metadata": {},
          "execution_count": 21
        }
      ]
    },
    {
      "cell_type": "code",
      "source": [
        "# TABELLA UTILE PER LA DIMENSIONE DELLE ATTIVAZIONI E SUL \n",
        "# NUMERO DI PARAMETRI. PER CIASCUN LAYER CI DICE QUANTO ERA GRANDE\n",
        "# \n",
        "net.summary()"
      ],
      "metadata": {
        "colab": {
          "base_uri": "https://localhost:8080/",
          "height": 300
        },
        "id": "20O0tXYwcndn",
        "outputId": "18a9024b-8ff0-46ae-82d5-034a3623e59f"
      },
      "execution_count": 22,
      "outputs": [
        {
          "output_type": "display_data",
          "data": {
            "text/plain": [
              "<IPython.core.display.Javascript object>"
            ],
            "application/javascript": [
              "google.colab.output.setIframeHeight(0, true, {maxHeight: 300})"
            ]
          },
          "metadata": {}
        },
        {
          "output_type": "display_data",
          "data": {
            "text/plain": [
              "<IPython.core.display.Javascript object>"
            ],
            "application/javascript": [
              "google.colab.output.setIframeHeight(0, true, {maxHeight: 300})"
            ]
          },
          "metadata": {}
        },
        {
          "output_type": "stream",
          "name": "stdout",
          "text": [
            "Model: \"model_2\"\n",
            "_________________________________________________________________\n",
            " Layer (type)                Output Shape              Param #   \n",
            "=================================================================\n",
            " input_3 (InputLayer)        [(None, 224, 224, 3)]     0         \n",
            "                                                                 \n",
            " conv2d_4 (Conv2D)           (None, 224, 224, 32)      896       \n",
            "                                                                 \n",
            " batch_normalization_2 (Batc  (None, 224, 224, 32)     128       \n",
            " hNormalization)                                                 \n",
            "                                                                 \n",
            " activation_4 (Activation)   (None, 224, 224, 32)      0         \n",
            "                                                                 \n",
            " max_pooling2d_2 (MaxPooling  (None, 75, 75, 32)       0         \n",
            " 2D)                                                             \n",
            "                                                                 \n",
            " conv2d_5 (Conv2D)           (None, 75, 75, 64)        18496     \n",
            "                                                                 \n",
            " batch_normalization_3 (Batc  (None, 75, 75, 64)       256       \n",
            " hNormalization)                                                 \n",
            "                                                                 \n",
            " activation_5 (Activation)   (None, 75, 75, 64)        0         \n",
            "                                                                 \n",
            " max_pooling2d_3 (MaxPooling  (None, 25, 25, 64)       0         \n",
            " 2D)                                                             \n",
            "                                                                 \n",
            " conv2d_6 (Conv2D)           (None, 25, 25, 128)       73856     \n",
            "                                                                 \n",
            " batch_normalization_4 (Batc  (None, 25, 25, 128)      512       \n",
            " hNormalization)                                                 \n",
            "                                                                 \n",
            " activation_6 (Activation)   (None, 25, 25, 128)       0         \n",
            "                                                                 \n",
            " global_max_pooling2d_2 (Glo  (None, 128)              0         \n",
            " balMaxPooling2D)                                                \n",
            "                                                                 \n",
            " dense_2 (Dense)             (None, 2)                 258       \n",
            "                                                                 \n",
            "=================================================================\n",
            "Total params: 94,402\n",
            "Trainable params: 93,954\n",
            "Non-trainable params: 448\n",
            "_________________________________________________________________\n"
          ]
        }
      ]
    },
    {
      "cell_type": "markdown",
      "source": [
        "Fin'ora abbiamo sempre visto l'accuracy, ovvero numero di immagini classificate correttamente. Ora visualizziamo la loss function. Se l'accuracy la vogliamo massimizzare (è una metrica, la vediamo post ma non influenza l'addestramento), la loss è invece quello che vogliamo utilizzare per guidare l'addestramento ed è qualcosa che vogliamo minimizzare: più è basso il valore è meglio è. Per il problema di classificazione la loss dice quanto la celletta con i valori di probabilità della classe che era attesa è effettivamente vicina ad 1: se molto vicino, la loss è bassa e stiamo andando bene, se molto lontano da 1 la loss è alta e stiamo andando male, calcolata per tutto il dataset.\n",
        "\n"
      ],
      "metadata": {
        "id": "5P06m7rceETd"
      }
    },
    {
      "cell_type": "code",
      "source": [
        "# VISUALIZZIAMO NUOVAMENTE L'OUTPUT\n",
        "plt.plot(history.history['loss'])\n",
        "plt.plot(history.history['val_loss'])\n",
        "plt.ylim([0.0, 5]) # è difficile da dire a priori\n",
        "plt.xlabel('Epoch')\n",
        "plt.ylabel('Loss')\n",
        "plt.legend(['train', 'val'])"
      ],
      "metadata": {
        "colab": {
          "base_uri": "https://localhost:8080/",
          "height": 300
        },
        "id": "SoH2WXGSdN_4",
        "outputId": "2e4dfd48-98ba-46fc-dff1-8f385bb14b8c"
      },
      "execution_count": 23,
      "outputs": [
        {
          "output_type": "display_data",
          "data": {
            "text/plain": [
              "<IPython.core.display.Javascript object>"
            ],
            "application/javascript": [
              "google.colab.output.setIframeHeight(0, true, {maxHeight: 300})"
            ]
          },
          "metadata": {}
        },
        {
          "output_type": "display_data",
          "data": {
            "text/plain": [
              "<IPython.core.display.Javascript object>"
            ],
            "application/javascript": [
              "google.colab.output.setIframeHeight(0, true, {maxHeight: 300})"
            ]
          },
          "metadata": {}
        },
        {
          "output_type": "execute_result",
          "data": {
            "text/plain": [
              "<matplotlib.legend.Legend at 0x7f121315ea50>"
            ]
          },
          "metadata": {},
          "execution_count": 23
        },
        {
          "output_type": "display_data",
          "data": {
            "text/plain": [
              "<Figure size 432x288 with 1 Axes>"
            ],
            "image/png": "[encoded data removed]"
          },
          "metadata": {
            "needs_background": "light"
          }
        }
      ]
    },
    {
      "cell_type": "markdown",
      "source": [
        "Epoche di training: fare prove, a seconda dei risultati dell'addestramento, per vedere quale sia il valore migliore di epoche. Si può implementare una procedura per dire, per esempio, che se l'algoritmo vede che la curva di validation smette di decrescere per 5 epoche consecutive, allora interrompimi l'addestramento. Questa è l'idea alla base dell'_EARLY STOPPING_."
      ],
      "metadata": {
        "id": "xtdbmgtWsoia"
      }
    },
    {
      "cell_type": "code",
      "source": [
        "# IN GENERALE UNA CALLBACK è UN CONCETTO CHE PRESCINDE IL DEEP LEARNING\n",
        "# E IL FATTO CHE SIAMO IN PYTHON. E' UNA FUNZIONE CHE DEFINIAMO PER INNESCARE\n",
        "# UNA SERIE DI ISTRUZIONI OGNI VOLTA CHE VIENE INNESCATO UN CERTO EVENTO. \n",
        "# NEL CASO SPECIFICO, OGNI VOLTA CHE L'EVENTO \"TERMINIAMO UNA EPOCA DI ADDESTRAMENTO\"\n",
        "# ESEGUI QUESTA OPERAZIONE: QUESTA OPERAZIONE GIà FORNITA DA KERAS CONTROLLA\n",
        "# UNO DEI VALORI ALL'INTERNO HISTORY E, NELLO SPECIFICO, VAL_LOSS, CIOè LA CURVA\n",
        "# ARANCIONE E GLI STIAMO DICENDO \"SE PER 5 EPOCHE DI FILA NON CI SONO MIGLIORAMENTI\",\n",
        "# NON DECRESCE, CON UNA CERTA TOLLERANZA CHE SI PUò ANCHE SPECIFICARE, ALLORA\n",
        "# MANDA UN SEGNALE A FIT E DIGLI DI INTERROMPERSI!\n",
        "callback = keras.callbacks.EarlyStopping(monitor=\"val_loss\", patience=5)"
      ],
      "metadata": {
        "id": "ia4JskZ-e8Vz",
        "colab": {
          "base_uri": "https://localhost:8080/",
          "height": 17
        },
        "outputId": "92e629a2-d04f-4c0c-b608-4ce413f0f773"
      },
      "execution_count": 24,
      "outputs": [
        {
          "output_type": "display_data",
          "data": {
            "text/plain": [
              "<IPython.core.display.Javascript object>"
            ],
            "application/javascript": [
              "google.colab.output.setIframeHeight(0, true, {maxHeight: 300})"
            ]
          },
          "metadata": {}
        },
        {
          "output_type": "display_data",
          "data": {
            "text/plain": [
              "<IPython.core.display.Javascript object>"
            ],
            "application/javascript": [
              "google.colab.output.setIframeHeight(0, true, {maxHeight: 300})"
            ]
          },
          "metadata": {}
        }
      ]
    },
    {
      "cell_type": "code",
      "source": [
        "# PER IL RESTO RIDEFINIAMO LA NOSTRA RETE USANDO LE CELLE DEFINITE FINORA.\n",
        "# NUOVA ARCHITETTURA CON UN \"BLOCCO\" AGGIUNTIVO\n",
        "\n",
        "inputs = keras.Input((224, 224, 3)) # 224 rows, 224 columns, 3 RGB channels\n",
        "\n",
        "x = inputs\n",
        "x = keras.layers.Conv2D(32, 3, padding='same')(x)\n",
        "# AGGIUNGI BATCH NORMALIZATION LAYER\n",
        "x = keras.layers.BatchNormalization()(x)\n",
        "x = keras.layers.Activation('relu')(x)\n",
        "x = keras.layers.MaxPooling2D(3, strides=3, padding='same')(x) \n",
        "\n",
        "x = keras.layers.Conv2D(64, 3, padding = 'same')(x)\n",
        "# AGGIUNGI BATCH NORMALIZATION LAYER\n",
        "x = keras.layers.BatchNormalization()(x)\n",
        "x = keras.layers.Activation('relu')(x)\n",
        "# QUI AGGIUNGIAMO UN MAX POOLING ANCHE IN QUESTO BLOCCO\n",
        "x = keras.layers.MaxPooling2D(3, strides=3, padding='same')(x) \n",
        "\n",
        "x = keras.layers.Conv2D(128, 3, padding = 'same')(x)\n",
        "# AGGIUNGI BATCH NORMALIZATION LAYER\n",
        "x = keras.layers.BatchNormalization()(x)\n",
        "x = keras.layers.Activation('relu')(x)\n",
        "\n",
        "x = keras.layers.GlobalMaxPooling2D()(x)\n",
        "\n",
        "outputs = keras.layers.Dense(num_classes, activation='softmax')(x)\n",
        "\n",
        "net = keras.Model(inputs, outputs)"
      ],
      "metadata": {
        "colab": {
          "base_uri": "https://localhost:8080/",
          "height": 17
        },
        "id": "SUsryOE0uUrU",
        "outputId": "6231dcb9-091b-4620-8f0a-7e3b2183286e"
      },
      "execution_count": 25,
      "outputs": [
        {
          "output_type": "display_data",
          "data": {
            "text/plain": [
              "<IPython.core.display.Javascript object>"
            ],
            "application/javascript": [
              "google.colab.output.setIframeHeight(0, true, {maxHeight: 300})"
            ]
          },
          "metadata": {}
        },
        {
          "output_type": "display_data",
          "data": {
            "text/plain": [
              "<IPython.core.display.Javascript object>"
            ],
            "application/javascript": [
              "google.colab.output.setIframeHeight(0, true, {maxHeight: 300})"
            ]
          },
          "metadata": {}
        }
      ]
    },
    {
      "cell_type": "code",
      "source": [
        "# RICOOMPILIAMO\n",
        "net.compile(loss=keras.losses.categorical_crossentropy,\n",
        "            optimizer= keras.optimizers.RMSprop(learning_rate=0.001),\n",
        "            metrics=['accuracy'])"
      ],
      "metadata": {
        "colab": {
          "base_uri": "https://localhost:8080/",
          "height": 17
        },
        "id": "zrNOVtrtvNLV",
        "outputId": "fcb6c30e-ca17-4795-fe6f-cc3d0941cf49"
      },
      "execution_count": 26,
      "outputs": [
        {
          "output_type": "display_data",
          "data": {
            "text/plain": [
              "<IPython.core.display.Javascript object>"
            ],
            "application/javascript": [
              "google.colab.output.setIframeHeight(0, true, {maxHeight: 300})"
            ]
          },
          "metadata": {}
        },
        {
          "output_type": "display_data",
          "data": {
            "text/plain": [
              "<IPython.core.display.Javascript object>"
            ],
            "application/javascript": [
              "google.colab.output.setIframeHeight(0, true, {maxHeight: 300})"
            ]
          },
          "metadata": {}
        }
      ]
    },
    {
      "cell_type": "code",
      "source": [
        "# RIFITTIAMO\n",
        "history = net.fit(train_dataset, epochs=40, validation_data = val_dataset, callbacks = [callback])"
      ],
      "metadata": {
        "colab": {
          "base_uri": "https://localhost:8080/",
          "height": 260
        },
        "id": "awDE9kOYvWW4",
        "outputId": "fb0267e2-1527-4f5f-bc76-0bf80c7a621f"
      },
      "execution_count": 27,
      "outputs": [
        {
          "output_type": "display_data",
          "data": {
            "text/plain": [
              "<IPython.core.display.Javascript object>"
            ],
            "application/javascript": [
              "google.colab.output.setIframeHeight(0, true, {maxHeight: 300})"
            ]
          },
          "metadata": {}
        },
        {
          "output_type": "display_data",
          "data": {
            "text/plain": [
              "<IPython.core.display.Javascript object>"
            ],
            "application/javascript": [
              "google.colab.output.setIframeHeight(0, true, {maxHeight: 300})"
            ]
          },
          "metadata": {}
        },
        {
          "output_type": "stream",
          "name": "stdout",
          "text": [
            "Epoch 1/40\n",
            "25/25 [==============================] - 74s 3s/step - loss: 1.2303 - accuracy: 0.5450 - val_loss: 2.9252 - val_accuracy: 0.5150\n",
            "Epoch 2/40\n",
            "25/25 [==============================] - 73s 3s/step - loss: 0.6824 - accuracy: 0.6650 - val_loss: 0.7635 - val_accuracy: 0.5950\n",
            "Epoch 3/40\n",
            "25/25 [==============================] - 73s 3s/step - loss: 0.5752 - accuracy: 0.7025 - val_loss: 1.7699 - val_accuracy: 0.4850\n",
            "Epoch 4/40\n",
            "25/25 [==============================] - 73s 3s/step - loss: 0.4456 - accuracy: 0.7900 - val_loss: 2.5176 - val_accuracy: 0.4850\n",
            "Epoch 5/40\n",
            "25/25 [==============================] - 73s 3s/step - loss: 0.4113 - accuracy: 0.8175 - val_loss: 1.0880 - val_accuracy: 0.5300\n",
            "Epoch 6/40\n",
            "25/25 [==============================] - 73s 3s/step - loss: 0.3381 - accuracy: 0.8413 - val_loss: 0.9213 - val_accuracy: 0.5450\n",
            "Epoch 7/40\n",
            "25/25 [==============================] - 73s 3s/step - loss: 0.3245 - accuracy: 0.8675 - val_loss: 0.9318 - val_accuracy: 0.5450\n"
          ]
        }
      ]
    },
    {
      "cell_type": "code",
      "source": [
        "# VISUALIZZIAMO NUOVAMENTE L'OUTPUT\n",
        "plt.plot(history.history['loss'])\n",
        "plt.plot(history.history['val_loss'])\n",
        "plt.ylim([0.0, 3]) # è difficile da dire a priori\n",
        "plt.xlabel('Epoch')\n",
        "plt.ylabel('Loss')\n",
        "plt.legend(['train', 'val'])"
      ],
      "metadata": {
        "colab": {
          "base_uri": "https://localhost:8080/",
          "height": 300
        },
        "id": "aNO3uvu6vbb6",
        "outputId": "1ef4a43a-3795-4371-fbf0-9ad5d844371a"
      },
      "execution_count": 28,
      "outputs": [
        {
          "output_type": "display_data",
          "data": {
            "text/plain": [
              "<IPython.core.display.Javascript object>"
            ],
            "application/javascript": [
              "google.colab.output.setIframeHeight(0, true, {maxHeight: 300})"
            ]
          },
          "metadata": {}
        },
        {
          "output_type": "display_data",
          "data": {
            "text/plain": [
              "<IPython.core.display.Javascript object>"
            ],
            "application/javascript": [
              "google.colab.output.setIframeHeight(0, true, {maxHeight: 300})"
            ]
          },
          "metadata": {}
        },
        {
          "output_type": "execute_result",
          "data": {
            "text/plain": [
              "<matplotlib.legend.Legend at 0x7f1212df38d0>"
            ]
          },
          "metadata": {},
          "execution_count": 28
        },
        {
          "output_type": "display_data",
          "data": {
            "text/plain": [
              "<Figure size 432x288 with 1 Axes>"
            ],
            "image/png": "[encoded data removed]"
          },
          "metadata": {
            "needs_background": "light"
          }
        }
      ]
    },
    {
      "cell_type": "markdown",
      "source": [
        "Nel notebook della lezione vedremo alcuni meccanismi di miglioramento di questa rete: regolarizzazione per imporre dei vincoli sui valori che i pesi dei layer neurali devono assumere. Questi pesi dei layer neurali delle convoluzioni non saranno solo guidati da quello che dice la back propagation, ma anche del fatto che si impone un upper limit a questi pesi. E' una penalità che li vincola ad essere ridotti in valore.\n",
        "\n",
        "Altro passaggio è aumentare la profondità della rete aggiungendo un layer fully connected (Dense) che è una procedura molto comune. Non sarà possibile migliorare di molto le performance della rete. \n",
        "Vedremo il concetto del Transfer Learning a lezione che è quello che tipicamente permette di affrontare questo tipo di problema."
      ],
      "metadata": {
        "id": "JrnNEPzxzLIr"
      }
    },
    {
      "cell_type": "markdown",
      "source": [
        "## Model with regularization and double Dense layer"
      ],
      "metadata": {
        "id": "VHChaPcn3JQE"
      }
    },
    {
      "cell_type": "code",
      "source": [
        "# Architecture definition v5\n",
        "inputs = keras.Input((224,224,3))\n",
        "\n",
        "x = inputs\n",
        "x = keras.layers.Conv2D(32, 3, padding=\"same\", kernel_regularizer=tf.keras.regularizers.l2(0.001))(x)\n",
        "x = keras.layers.BatchNormalization()(x)\n",
        "x = keras.layers.Activation(\"relu\")(x)\n",
        "x = keras.layers.MaxPooling2D(3, strides=3, padding=\"same\")(x)\n",
        "\n",
        "x = keras.layers.Conv2D(64, 3, padding=\"same\", kernel_regularizer=tf.keras.regularizers.l2(0.001))(x)\n",
        "x = keras.layers.BatchNormalization()(x)\n",
        "x = keras.layers.Activation(\"relu\")(x)\n",
        "x = keras.layers.MaxPooling2D(3, strides=3, padding=\"same\")(x)\n",
        "\n",
        "x = keras.layers.Conv2D(128, 3, padding=\"same\", kernel_regularizer=tf.keras.regularizers.l2(0.001))(x)\n",
        "x = keras.layers.BatchNormalization()(x)\n",
        "x = keras.layers.Activation(\"relu\")(x)\n",
        "\n",
        "x = keras.layers.GlobalMaxPooling2D()(x)\n",
        "\n",
        "x = keras.layers.Dense(64, activation=\"relu\", kernel_regularizer=tf.keras.regularizers.l2(0.001))(x)\n",
        "\n",
        "outputs = keras.layers.Dense(num_classes, activation=\"softmax\", kernel_regularizer=tf.keras.regularizers.l2(0.001))(x)\n",
        "net = keras.Model(inputs, outputs)"
      ],
      "metadata": {
        "colab": {
          "base_uri": "https://localhost:8080/",
          "height": 17
        },
        "id": "7qDJcIH43I2e",
        "outputId": "f3b8c481-9fe9-4c57-e083-17999953dc56"
      },
      "execution_count": 29,
      "outputs": [
        {
          "output_type": "display_data",
          "data": {
            "text/plain": [
              "<IPython.core.display.Javascript object>"
            ],
            "application/javascript": [
              "google.colab.output.setIframeHeight(0, true, {maxHeight: 300})"
            ]
          },
          "metadata": {}
        },
        {
          "output_type": "display_data",
          "data": {
            "text/plain": [
              "<IPython.core.display.Javascript object>"
            ],
            "application/javascript": [
              "google.colab.output.setIframeHeight(0, true, {maxHeight: 300})"
            ]
          },
          "metadata": {}
        }
      ]
    },
    {
      "cell_type": "code",
      "source": [
        "# Compile the model for training\n",
        "net.compile(loss=keras.losses.categorical_crossentropy,\n",
        "            optimizer=keras.optimizers.RMSprop(learning_rate=0.001),\n",
        "            metrics=['accuracy'])"
      ],
      "metadata": {
        "id": "qcoMAkD_xtNG",
        "colab": {
          "base_uri": "https://localhost:8080/",
          "height": 17
        },
        "outputId": "0be78863-3b8f-4a15-bc25-97431b58dcf3"
      },
      "execution_count": 30,
      "outputs": [
        {
          "output_type": "display_data",
          "data": {
            "text/plain": [
              "<IPython.core.display.Javascript object>"
            ],
            "application/javascript": [
              "google.colab.output.setIframeHeight(0, true, {maxHeight: 300})"
            ]
          },
          "metadata": {}
        },
        {
          "output_type": "display_data",
          "data": {
            "text/plain": [
              "<IPython.core.display.Javascript object>"
            ],
            "application/javascript": [
              "google.colab.output.setIframeHeight(0, true, {maxHeight: 300})"
            ]
          },
          "metadata": {}
        }
      ]
    },
    {
      "cell_type": "code",
      "source": [
        "# Model training (v5)\n",
        "history = net.fit(train_dataset,\n",
        "          epochs=80,\n",
        "          validation_data=val_dataset);"
      ],
      "metadata": {
        "colab": {
          "base_uri": "https://localhost:8080/",
          "height": 300
        },
        "id": "ylSfUXUo3V5l",
        "outputId": "5bb4af83-6cd2-4f2e-d9b6-3a6656f6c787"
      },
      "execution_count": 31,
      "outputs": [
        {
          "output_type": "display_data",
          "data": {
            "text/plain": [
              "<IPython.core.display.Javascript object>"
            ],
            "application/javascript": [
              "google.colab.output.setIframeHeight(0, true, {maxHeight: 300})"
            ]
          },
          "metadata": {}
        },
        {
          "output_type": "display_data",
          "data": {
            "text/plain": [
              "<IPython.core.display.Javascript object>"
            ],
            "application/javascript": [
              "google.colab.output.setIframeHeight(0, true, {maxHeight: 300})"
            ]
          },
          "metadata": {}
        },
        {
          "output_type": "stream",
          "name": "stdout",
          "text": [
            "Epoch 1/80\n",
            "25/25 [==============================] - 76s 3s/step - loss: 1.2881 - accuracy: 0.5462 - val_loss: 2.0195 - val_accuracy: 0.5150\n",
            "Epoch 2/80\n",
            "25/25 [==============================] - 73s 3s/step - loss: 0.9011 - accuracy: 0.6075 - val_loss: 1.1777 - val_accuracy: 0.5200\n",
            "Epoch 3/80\n",
            "25/25 [==============================] - 73s 3s/step - loss: 0.7964 - accuracy: 0.6787 - val_loss: 0.9775 - val_accuracy: 0.5750\n",
            "Epoch 4/80\n",
            "25/25 [==============================] - 74s 3s/step - loss: 0.7430 - accuracy: 0.7113 - val_loss: 0.8837 - val_accuracy: 0.6200\n",
            "Epoch 5/80\n",
            "25/25 [==============================] - 73s 3s/step - loss: 0.6577 - accuracy: 0.7850 - val_loss: 1.0443 - val_accuracy: 0.5650\n",
            "Epoch 6/80\n",
            "25/25 [==============================] - 73s 3s/step - loss: 0.6313 - accuracy: 0.8087 - val_loss: 0.8608 - val_accuracy: 0.6300\n",
            "Epoch 7/80\n",
            "25/25 [==============================] - 74s 3s/step - loss: 0.6043 - accuracy: 0.8138 - val_loss: 0.8092 - val_accuracy: 0.6600\n",
            "Epoch 8/80\n",
            "25/25 [==============================] - 73s 3s/step - loss: 0.5054 - accuracy: 0.8587 - val_loss: 0.8686 - val_accuracy: 0.6150\n",
            "Epoch 9/80\n",
            "25/25 [==============================] - 74s 3s/step - loss: 0.5619 - accuracy: 0.8325 - val_loss: 0.8471 - val_accuracy: 0.6650\n",
            "Epoch 10/80\n",
            "25/25 [==============================] - 73s 3s/step - loss: 0.4118 - accuracy: 0.9125 - val_loss: 0.8896 - val_accuracy: 0.6450\n",
            "Epoch 11/80\n",
            "25/25 [==============================] - 73s 3s/step - loss: 0.4233 - accuracy: 0.9050 - val_loss: 1.2474 - val_accuracy: 0.5650\n",
            "Epoch 12/80\n",
            "25/25 [==============================] - 74s 3s/step - loss: 0.4179 - accuracy: 0.9075 - val_loss: 0.7987 - val_accuracy: 0.7050\n",
            "Epoch 13/80\n",
            "25/25 [==============================] - 74s 3s/step - loss: 0.3561 - accuracy: 0.9350 - val_loss: 0.8681 - val_accuracy: 0.6500\n",
            "Epoch 14/80\n",
            "25/25 [==============================] - 74s 3s/step - loss: 0.3672 - accuracy: 0.9275 - val_loss: 1.2782 - val_accuracy: 0.5550\n",
            "Epoch 15/80\n",
            "25/25 [==============================] - 73s 3s/step - loss: 0.3218 - accuracy: 0.9400 - val_loss: 0.7786 - val_accuracy: 0.7100\n",
            "Epoch 16/80\n",
            "25/25 [==============================] - 74s 3s/step - loss: 0.2970 - accuracy: 0.9563 - val_loss: 0.9534 - val_accuracy: 0.6550\n",
            "Epoch 17/80\n",
            "25/25 [==============================] - 74s 3s/step - loss: 0.2574 - accuracy: 0.9737 - val_loss: 0.7618 - val_accuracy: 0.7000\n",
            "Epoch 18/80\n",
            "25/25 [==============================] - 74s 3s/step - loss: 0.2996 - accuracy: 0.9500 - val_loss: 0.8372 - val_accuracy: 0.7050\n",
            "Epoch 19/80\n",
            "25/25 [==============================] - 73s 3s/step - loss: 0.2712 - accuracy: 0.9638 - val_loss: 1.0960 - val_accuracy: 0.6350\n",
            "Epoch 20/80\n",
            "25/25 [==============================] - 73s 3s/step - loss: 0.3509 - accuracy: 0.9337 - val_loss: 0.8936 - val_accuracy: 0.6600\n",
            "Epoch 21/80\n",
            "25/25 [==============================] - 74s 3s/step - loss: 0.1878 - accuracy: 0.9975 - val_loss: 0.8530 - val_accuracy: 0.7050\n",
            "Epoch 22/80\n",
            "25/25 [==============================] - 74s 3s/step - loss: 0.2832 - accuracy: 0.9500 - val_loss: 0.7970 - val_accuracy: 0.7350\n",
            "Epoch 23/80\n",
            "25/25 [==============================] - 73s 3s/step - loss: 0.1790 - accuracy: 0.9950 - val_loss: 0.8837 - val_accuracy: 0.6950\n",
            "Epoch 24/80\n",
            "25/25 [==============================] - 74s 3s/step - loss: 0.2667 - accuracy: 0.9725 - val_loss: 0.8186 - val_accuracy: 0.7200\n",
            "Epoch 25/80\n",
            "25/25 [==============================] - 73s 3s/step - loss: 0.2826 - accuracy: 0.9625 - val_loss: 0.7545 - val_accuracy: 0.7250\n",
            "Epoch 26/80\n",
            "25/25 [==============================] - 74s 3s/step - loss: 0.1550 - accuracy: 1.0000 - val_loss: 0.8281 - val_accuracy: 0.7150\n",
            "Epoch 27/80\n",
            "25/25 [==============================] - 74s 3s/step - loss: 0.3023 - accuracy: 0.9638 - val_loss: 0.8030 - val_accuracy: 0.7300\n",
            "Epoch 28/80\n",
            "25/25 [==============================] - 73s 3s/step - loss: 0.1461 - accuracy: 1.0000 - val_loss: 0.8273 - val_accuracy: 0.7400\n",
            "Epoch 29/80\n",
            "25/25 [==============================] - 74s 3s/step - loss: 0.3917 - accuracy: 0.9350 - val_loss: 1.3866 - val_accuracy: 0.6100\n",
            "Epoch 30/80\n",
            "25/25 [==============================] - 74s 3s/step - loss: 0.1446 - accuracy: 1.0000 - val_loss: 1.0510 - val_accuracy: 0.6800\n",
            "Epoch 31/80\n",
            "25/25 [==============================] - 74s 3s/step - loss: 0.4529 - accuracy: 0.9175 - val_loss: 0.9801 - val_accuracy: 0.6750\n",
            "Epoch 32/80\n",
            "25/25 [==============================] - 74s 3s/step - loss: 0.1531 - accuracy: 0.9937 - val_loss: 0.8241 - val_accuracy: 0.7450\n",
            "Epoch 33/80\n",
            "25/25 [==============================] - 74s 3s/step - loss: 0.1354 - accuracy: 1.0000 - val_loss: 1.0398 - val_accuracy: 0.7050\n",
            "Epoch 34/80\n",
            "25/25 [==============================] - 74s 3s/step - loss: 0.3441 - accuracy: 0.9362 - val_loss: 1.3367 - val_accuracy: 0.5950\n",
            "Epoch 35/80\n",
            "25/25 [==============================] - 74s 3s/step - loss: 0.1568 - accuracy: 0.9900 - val_loss: 1.3144 - val_accuracy: 0.6150\n",
            "Epoch 36/80\n",
            "25/25 [==============================] - 74s 3s/step - loss: 0.2606 - accuracy: 0.9538 - val_loss: 0.8651 - val_accuracy: 0.7300\n",
            "Epoch 37/80\n",
            "25/25 [==============================] - 73s 3s/step - loss: 0.1284 - accuracy: 1.0000 - val_loss: 0.9934 - val_accuracy: 0.7250\n",
            "Epoch 38/80\n",
            "25/25 [==============================] - 74s 3s/step - loss: 0.3939 - accuracy: 0.9237 - val_loss: 0.8629 - val_accuracy: 0.7400\n",
            "Epoch 39/80\n",
            "25/25 [==============================] - 73s 3s/step - loss: 0.1296 - accuracy: 1.0000 - val_loss: 0.8064 - val_accuracy: 0.7350\n",
            "Epoch 40/80\n",
            "25/25 [==============================] - 73s 3s/step - loss: 0.3360 - accuracy: 0.9388 - val_loss: 0.8010 - val_accuracy: 0.7250\n",
            "Epoch 41/80\n",
            "25/25 [==============================] - 73s 3s/step - loss: 0.1282 - accuracy: 1.0000 - val_loss: 0.8292 - val_accuracy: 0.7300\n",
            "Epoch 42/80\n",
            "25/25 [==============================] - 73s 3s/step - loss: 0.1193 - accuracy: 1.0000 - val_loss: 0.8125 - val_accuracy: 0.7350\n",
            "Epoch 43/80\n",
            "25/25 [==============================] - 74s 3s/step - loss: 0.2386 - accuracy: 0.9588 - val_loss: 0.7685 - val_accuracy: 0.7400\n",
            "Epoch 44/80\n",
            "25/25 [==============================] - 74s 3s/step - loss: 0.1153 - accuracy: 1.0000 - val_loss: 0.8018 - val_accuracy: 0.7250\n",
            "Epoch 45/80\n",
            "25/25 [==============================] - 73s 3s/step - loss: 0.2045 - accuracy: 0.9750 - val_loss: 0.8512 - val_accuracy: 0.7100\n",
            "Epoch 46/80\n",
            "25/25 [==============================] - 73s 3s/step - loss: 0.2396 - accuracy: 0.9563 - val_loss: 0.8007 - val_accuracy: 0.7150\n",
            "Epoch 47/80\n",
            "25/25 [==============================] - 74s 3s/step - loss: 0.1162 - accuracy: 1.0000 - val_loss: 0.8699 - val_accuracy: 0.7300\n",
            "Epoch 48/80\n",
            "25/25 [==============================] - 74s 3s/step - loss: 0.2746 - accuracy: 0.9550 - val_loss: 0.9862 - val_accuracy: 0.6700\n",
            "Epoch 49/80\n",
            "25/25 [==============================] - 74s 3s/step - loss: 0.1189 - accuracy: 0.9987 - val_loss: 0.9490 - val_accuracy: 0.7100\n",
            "Epoch 50/80\n",
            "25/25 [==============================] - 74s 3s/step - loss: 0.1164 - accuracy: 0.9962 - val_loss: 2.0193 - val_accuracy: 0.5700\n",
            "Epoch 51/80\n",
            "25/25 [==============================] - 73s 3s/step - loss: 0.2646 - accuracy: 0.9538 - val_loss: 0.9108 - val_accuracy: 0.7050\n",
            "Epoch 52/80\n",
            "25/25 [==============================] - 74s 3s/step - loss: 0.1100 - accuracy: 1.0000 - val_loss: 0.8705 - val_accuracy: 0.7300\n",
            "Epoch 53/80\n",
            "25/25 [==============================] - 75s 3s/step - loss: 0.3369 - accuracy: 0.9625 - val_loss: 1.1505 - val_accuracy: 0.6450\n",
            "Epoch 54/80\n",
            "25/25 [==============================] - 75s 3s/step - loss: 0.2031 - accuracy: 0.9700 - val_loss: 0.7969 - val_accuracy: 0.7100\n",
            "Epoch 55/80\n",
            "25/25 [==============================] - 75s 3s/step - loss: 0.1051 - accuracy: 1.0000 - val_loss: 0.8013 - val_accuracy: 0.7300\n",
            "Epoch 56/80\n",
            "25/25 [==============================] - 75s 3s/step - loss: 0.1907 - accuracy: 0.9625 - val_loss: 1.1173 - val_accuracy: 0.7150\n",
            "Epoch 57/80\n",
            "25/25 [==============================] - 74s 3s/step - loss: 0.2700 - accuracy: 0.9588 - val_loss: 1.0087 - val_accuracy: 0.6800\n",
            "Epoch 58/80\n",
            "25/25 [==============================] - 74s 3s/step - loss: 0.1119 - accuracy: 0.9987 - val_loss: 0.9912 - val_accuracy: 0.7100\n",
            "Epoch 59/80\n",
            "25/25 [==============================] - 75s 3s/step - loss: 0.0999 - accuracy: 1.0000 - val_loss: 0.9810 - val_accuracy: 0.7200\n",
            "Epoch 60/80\n",
            "25/25 [==============================] - 74s 3s/step - loss: 0.2029 - accuracy: 0.9675 - val_loss: 0.8825 - val_accuracy: 0.7400\n",
            "Epoch 61/80\n",
            "25/25 [==============================] - 75s 3s/step - loss: 0.1012 - accuracy: 1.0000 - val_loss: 0.8123 - val_accuracy: 0.7350\n",
            "Epoch 62/80\n",
            "25/25 [==============================] - 74s 3s/step - loss: 0.2620 - accuracy: 0.9513 - val_loss: 0.8251 - val_accuracy: 0.7400\n",
            "Epoch 63/80\n",
            "25/25 [==============================] - 74s 3s/step - loss: 0.0987 - accuracy: 1.0000 - val_loss: 0.8990 - val_accuracy: 0.7350\n",
            "Epoch 64/80\n",
            "25/25 [==============================] - 74s 3s/step - loss: 0.0931 - accuracy: 1.0000 - val_loss: 0.8941 - val_accuracy: 0.7350\n",
            "Epoch 65/80\n",
            "25/25 [==============================] - 74s 3s/step - loss: 0.3602 - accuracy: 0.9388 - val_loss: 2.6067 - val_accuracy: 0.5400\n",
            "Epoch 66/80\n",
            "25/25 [==============================] - 74s 3s/step - loss: 0.0954 - accuracy: 1.0000 - val_loss: 1.5311 - val_accuracy: 0.6100\n",
            "Epoch 67/80\n",
            "25/25 [==============================] - 74s 3s/step - loss: 0.0889 - accuracy: 1.0000 - val_loss: 1.2280 - val_accuracy: 0.6550\n",
            "Epoch 68/80\n",
            "25/25 [==============================] - 74s 3s/step - loss: 0.2445 - accuracy: 0.9638 - val_loss: 0.9265 - val_accuracy: 0.7300\n",
            "Epoch 69/80\n",
            "25/25 [==============================] - 74s 3s/step - loss: 0.0907 - accuracy: 0.9987 - val_loss: 0.9215 - val_accuracy: 0.7250\n",
            "Epoch 70/80\n",
            "25/25 [==============================] - 74s 3s/step - loss: 0.0842 - accuracy: 1.0000 - val_loss: 1.0762 - val_accuracy: 0.7300\n",
            "Epoch 71/80\n",
            "25/25 [==============================] - 74s 3s/step - loss: 0.2193 - accuracy: 0.9550 - val_loss: 1.1839 - val_accuracy: 0.7300\n",
            "Epoch 72/80\n",
            "25/25 [==============================] - 75s 3s/step - loss: 0.0860 - accuracy: 1.0000 - val_loss: 1.0554 - val_accuracy: 0.7150\n",
            "Epoch 73/80\n",
            "25/25 [==============================] - 74s 3s/step - loss: 0.3441 - accuracy: 0.9488 - val_loss: 1.2712 - val_accuracy: 0.6750\n",
            "Epoch 74/80\n",
            "25/25 [==============================] - 74s 3s/step - loss: 0.0854 - accuracy: 1.0000 - val_loss: 0.9350 - val_accuracy: 0.7050\n",
            "Epoch 75/80\n",
            "25/25 [==============================] - 74s 3s/step - loss: 0.3264 - accuracy: 0.9450 - val_loss: 1.0848 - val_accuracy: 0.7000\n",
            "Epoch 76/80\n",
            "25/25 [==============================] - 74s 3s/step - loss: 0.0911 - accuracy: 1.0000 - val_loss: 0.9270 - val_accuracy: 0.7150\n",
            "Epoch 77/80\n",
            "25/25 [==============================] - 74s 3s/step - loss: 0.0832 - accuracy: 1.0000 - val_loss: 0.9083 - val_accuracy: 0.7450\n",
            "Epoch 78/80\n",
            "25/25 [==============================] - 74s 3s/step - loss: 0.3444 - accuracy: 0.9337 - val_loss: 1.9322 - val_accuracy: 0.5700\n",
            "Epoch 79/80\n",
            "25/25 [==============================] - 74s 3s/step - loss: 0.0857 - accuracy: 1.0000 - val_loss: 1.4869 - val_accuracy: 0.6500\n",
            "Epoch 80/80\n",
            "25/25 [==============================] - 74s 3s/step - loss: 0.2729 - accuracy: 0.9475 - val_loss: 1.0051 - val_accuracy: 0.6950\n"
          ]
        }
      ]
    },
    {
      "cell_type": "code",
      "source": [
        "# Visualization of the learning curves\n",
        "\n",
        "plt.subplot(1, 2, 1)\n",
        "plt.plot(history.history['loss'])\n",
        "plt.plot(history.history['val_loss'])\n",
        "plt.ylim([0.0, 2.0])\n",
        "plt.xlabel('Epoch')\n",
        "plt.ylabel('Loss')\n",
        "plt.legend(['train', 'valid'])\n",
        "\n",
        "plt.subplot(1, 2, 2)\n",
        "plt.plot(history.history['accuracy'])\n",
        "plt.plot(history.history['val_accuracy'])\n",
        "plt.ylim([0.5, 1.0])\n",
        "plt.xlabel('Epoch')\n",
        "plt.ylabel('Accuracy')\n",
        "plt.legend(['train', 'valid'])"
      ],
      "metadata": {
        "colab": {
          "base_uri": "https://localhost:8080/",
          "height": 300
        },
        "id": "2A-9cqkk3Ylh",
        "outputId": "9830c9a0-244e-474b-9651-39a05367e317"
      },
      "execution_count": 32,
      "outputs": [
        {
          "output_type": "display_data",
          "data": {
            "text/plain": [
              "<IPython.core.display.Javascript object>"
            ],
            "application/javascript": [
              "google.colab.output.setIframeHeight(0, true, {maxHeight: 300})"
            ]
          },
          "metadata": {}
        },
        {
          "output_type": "display_data",
          "data": {
            "text/plain": [
              "<IPython.core.display.Javascript object>"
            ],
            "application/javascript": [
              "google.colab.output.setIframeHeight(0, true, {maxHeight: 300})"
            ]
          },
          "metadata": {}
        },
        {
          "output_type": "execute_result",
          "data": {
            "text/plain": [
              "<matplotlib.legend.Legend at 0x7f12144bfa10>"
            ]
          },
          "metadata": {},
          "execution_count": 32
        },
        {
          "output_type": "display_data",
          "data": {
            "text/plain": [
              "<Figure size 432x288 with 2 Axes>"
            ],
            "image/png": "[encoded data removed]"
          },
          "metadata": {
            "needs_background": "light"
          }
        }
      ]
    },
    {
      "cell_type": "markdown",
      "source": [
        "Note:\n",
        "\n",
        "- The increased complexity does not appear to have improved the capability of the network.\n",
        "- It has, however, impacted the validation accuracy curve, which is now converging faster.\n",
        "- We will now address the current behavior to implement an early stopping mechanism."
      ],
      "metadata": {
        "id": "rATtvcU13ivc"
      }
    },
    {
      "cell_type": "code",
      "source": [
        "callback = keras.callbacks.EarlyStopping(monitor='val_loss', patience=5)"
      ],
      "metadata": {
        "colab": {
          "base_uri": "https://localhost:8080/",
          "height": 17
        },
        "id": "Mxo88aKl3vZS",
        "outputId": "90c7e314-f8d5-44e4-ee31-d30ae53d1845"
      },
      "execution_count": 33,
      "outputs": [
        {
          "output_type": "display_data",
          "data": {
            "text/plain": [
              "<IPython.core.display.Javascript object>"
            ],
            "application/javascript": [
              "google.colab.output.setIframeHeight(0, true, {maxHeight: 300})"
            ]
          },
          "metadata": {}
        },
        {
          "output_type": "display_data",
          "data": {
            "text/plain": [
              "<IPython.core.display.Javascript object>"
            ],
            "application/javascript": [
              "google.colab.output.setIframeHeight(0, true, {maxHeight: 300})"
            ]
          },
          "metadata": {}
        }
      ]
    },
    {
      "cell_type": "code",
      "source": [
        "# Architecture definition v5\n",
        "inputs = keras.Input((224,224,3))\n",
        "\n",
        "x = inputs\n",
        "x = keras.layers.Conv2D(32, 3, padding=\"same\", kernel_regularizer=tf.keras.regularizers.l2(0.001))(x)\n",
        "x = keras.layers.BatchNormalization()(x)\n",
        "x = keras.layers.Activation(\"relu\")(x)\n",
        "x = keras.layers.MaxPooling2D(3, strides=3, padding=\"same\")(x)\n",
        "\n",
        "x = keras.layers.Conv2D(64, 3, padding=\"same\", kernel_regularizer=tf.keras.regularizers.l2(0.001))(x)\n",
        "x = keras.layers.BatchNormalization()(x)\n",
        "x = keras.layers.Activation(\"relu\")(x)\n",
        "x = keras.layers.MaxPooling2D(3, strides=3, padding=\"same\")(x)\n",
        "\n",
        "x = keras.layers.Conv2D(128, 3, padding=\"same\", kernel_regularizer=tf.keras.regularizers.l2(0.001))(x)\n",
        "x = keras.layers.BatchNormalization()(x)\n",
        "x = keras.layers.Activation(\"relu\")(x)\n",
        "\n",
        "x = keras.layers.GlobalMaxPooling2D()(x)\n",
        "\n",
        "x = keras.layers.Dense(64, activation=\"relu\", kernel_regularizer=tf.keras.regularizers.l2(0.001))(x)\n",
        "\n",
        "outputs = keras.layers.Dense(num_classes, activation=\"softmax\", kernel_regularizer=tf.keras.regularizers.l2(0.001))(x)\n",
        "net = keras.Model(inputs, outputs)"
      ],
      "metadata": {
        "colab": {
          "base_uri": "https://localhost:8080/",
          "height": 17
        },
        "id": "lqeXxYhh3xGE",
        "outputId": "6163f3e1-4bcf-40f3-e068-c781aa788eb9"
      },
      "execution_count": 34,
      "outputs": [
        {
          "output_type": "display_data",
          "data": {
            "text/plain": [
              "<IPython.core.display.Javascript object>"
            ],
            "application/javascript": [
              "google.colab.output.setIframeHeight(0, true, {maxHeight: 300})"
            ]
          },
          "metadata": {}
        },
        {
          "output_type": "display_data",
          "data": {
            "text/plain": [
              "<IPython.core.display.Javascript object>"
            ],
            "application/javascript": [
              "google.colab.output.setIframeHeight(0, true, {maxHeight: 300})"
            ]
          },
          "metadata": {}
        }
      ]
    },
    {
      "cell_type": "code",
      "source": [
        "# Compile the model for training\n",
        "net.compile(loss=keras.losses.categorical_crossentropy,\n",
        "            optimizer=keras.optimizers.RMSprop(learning_rate=0.001),\n",
        "            metrics=['accuracy'])"
      ],
      "metadata": {
        "colab": {
          "base_uri": "https://localhost:8080/",
          "height": 17
        },
        "id": "7IOl3rTM3y-N",
        "outputId": "64798693-431e-45c0-ce9c-1e79415c4ade"
      },
      "execution_count": 35,
      "outputs": [
        {
          "output_type": "display_data",
          "data": {
            "text/plain": [
              "<IPython.core.display.Javascript object>"
            ],
            "application/javascript": [
              "google.colab.output.setIframeHeight(0, true, {maxHeight: 300})"
            ]
          },
          "metadata": {}
        },
        {
          "output_type": "display_data",
          "data": {
            "text/plain": [
              "<IPython.core.display.Javascript object>"
            ],
            "application/javascript": [
              "google.colab.output.setIframeHeight(0, true, {maxHeight: 300})"
            ]
          },
          "metadata": {}
        }
      ]
    },
    {
      "cell_type": "code",
      "source": [
        "# Model training (v5)\n",
        "history = net.fit(train_dataset,\n",
        "          epochs=40,\n",
        "          validation_data=val_dataset,\n",
        "            callbacks=[callback]);"
      ],
      "metadata": {
        "colab": {
          "base_uri": "https://localhost:8080/",
          "height": 300
        },
        "id": "so_am0sv300o",
        "outputId": "73921104-fdcc-406c-dfe1-566895bebd6e"
      },
      "execution_count": 36,
      "outputs": [
        {
          "output_type": "display_data",
          "data": {
            "text/plain": [
              "<IPython.core.display.Javascript object>"
            ],
            "application/javascript": [
              "google.colab.output.setIframeHeight(0, true, {maxHeight: 300})"
            ]
          },
          "metadata": {}
        },
        {
          "output_type": "display_data",
          "data": {
            "text/plain": [
              "<IPython.core.display.Javascript object>"
            ],
            "application/javascript": [
              "google.colab.output.setIframeHeight(0, true, {maxHeight: 300})"
            ]
          },
          "metadata": {}
        },
        {
          "output_type": "stream",
          "name": "stdout",
          "text": [
            "Epoch 1/40\n",
            "25/25 [==============================] - 77s 3s/step - loss: 1.3556 - accuracy: 0.5462 - val_loss: 2.4038 - val_accuracy: 0.4850\n",
            "Epoch 2/40\n",
            "25/25 [==============================] - 75s 3s/step - loss: 0.8697 - accuracy: 0.6225 - val_loss: 1.4146 - val_accuracy: 0.4850\n",
            "Epoch 3/40\n",
            "25/25 [==============================] - 74s 3s/step - loss: 0.8381 - accuracy: 0.6700 - val_loss: 0.9207 - val_accuracy: 0.6200\n",
            "Epoch 4/40\n",
            "25/25 [==============================] - 74s 3s/step - loss: 0.7910 - accuracy: 0.6800 - val_loss: 0.9771 - val_accuracy: 0.5950\n",
            "Epoch 5/40\n",
            "25/25 [==============================] - 74s 3s/step - loss: 0.7564 - accuracy: 0.6963 - val_loss: 0.8505 - val_accuracy: 0.6400\n",
            "Epoch 6/40\n",
            "25/25 [==============================] - 75s 3s/step - loss: 0.6752 - accuracy: 0.7625 - val_loss: 1.0739 - val_accuracy: 0.5450\n",
            "Epoch 7/40\n",
            "25/25 [==============================] - 75s 3s/step - loss: 0.6636 - accuracy: 0.7400 - val_loss: 0.9873 - val_accuracy: 0.5550\n",
            "Epoch 8/40\n",
            "25/25 [==============================] - 75s 3s/step - loss: 0.6042 - accuracy: 0.7987 - val_loss: 0.7556 - val_accuracy: 0.6850\n",
            "Epoch 9/40\n",
            "25/25 [==============================] - 75s 3s/step - loss: 0.5246 - accuracy: 0.8375 - val_loss: 1.4515 - val_accuracy: 0.5250\n",
            "Epoch 10/40\n",
            "25/25 [==============================] - 75s 3s/step - loss: 0.5180 - accuracy: 0.8350 - val_loss: 0.8725 - val_accuracy: 0.6750\n",
            "Epoch 11/40\n",
            "25/25 [==============================] - 69s 3s/step - loss: 0.4903 - accuracy: 0.8512 - val_loss: 0.7631 - val_accuracy: 0.7100\n",
            "Epoch 12/40\n",
            "25/25 [==============================] - 68s 3s/step - loss: 0.4836 - accuracy: 0.8575 - val_loss: 0.8625 - val_accuracy: 0.6300\n",
            "Epoch 13/40\n",
            "25/25 [==============================] - 67s 3s/step - loss: 0.3972 - accuracy: 0.9200 - val_loss: 0.9621 - val_accuracy: 0.6250\n"
          ]
        }
      ]
    },
    {
      "cell_type": "code",
      "source": [
        "# Visualization of the learning curves\n",
        "\n",
        "plt.subplot(1, 2, 1)\n",
        "plt.plot(history.history['loss'])\n",
        "plt.plot(history.history['val_loss'])\n",
        "plt.ylim([0.0, 2.0])\n",
        "plt.xlabel('Epoch')\n",
        "plt.ylabel('Loss')\n",
        "plt.legend(['train', 'valid'])\n",
        "\n",
        "plt.subplot(1, 2, 2)\n",
        "plt.plot(history.history['accuracy'])\n",
        "plt.plot(history.history['val_accuracy'])\n",
        "plt.ylim([0.5, 1.0])\n",
        "plt.xlabel('Epoch')\n",
        "plt.ylabel('Accuracy')\n",
        "plt.legend(['train', 'valid'])"
      ],
      "metadata": {
        "colab": {
          "base_uri": "https://localhost:8080/",
          "height": 300
        },
        "id": "khTBVHOi36Dd",
        "outputId": "b5ed3f81-0034-4138-82e4-2b3a9333da24"
      },
      "execution_count": 37,
      "outputs": [
        {
          "output_type": "display_data",
          "data": {
            "text/plain": [
              "<IPython.core.display.Javascript object>"
            ],
            "application/javascript": [
              "google.colab.output.setIframeHeight(0, true, {maxHeight: 300})"
            ]
          },
          "metadata": {}
        },
        {
          "output_type": "display_data",
          "data": {
            "text/plain": [
              "<IPython.core.display.Javascript object>"
            ],
            "application/javascript": [
              "google.colab.output.setIframeHeight(0, true, {maxHeight: 300})"
            ]
          },
          "metadata": {}
        },
        {
          "output_type": "execute_result",
          "data": {
            "text/plain": [
              "<matplotlib.legend.Legend at 0x7f1210c697d0>"
            ]
          },
          "metadata": {},
          "execution_count": 37
        },
        {
          "output_type": "display_data",
          "data": {
            "text/plain": [
              "<Figure size 432x288 with 2 Axes>"
            ],
            "image/png": "[encoded data removed]"
          },
          "metadata": {
            "needs_background": "light"
          }
        }
      ]
    },
    {
      "cell_type": "markdown",
      "source": [
        "Note:\n",
        "\n",
        "- We have focused the early stopping mechanism on the validation loss curve.\n",
        "- After 5 epochs of no improvement (or even getting worse) the training is stopped\n",
        "(it does not reach the 40th epoch). "
      ],
      "metadata": {
        "id": "_m5otzK638oC"
      }
    }
  ]
}