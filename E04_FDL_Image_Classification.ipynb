{
  "nbformat": 4,
  "nbformat_minor": 0,
  "metadata": {
    "colab": {
      "provenance": [],
      "collapsed_sections": []
    },
    "kernelspec": {
      "name": "python3",
      "display_name": "Python 3"
    },
    "language_info": {
      "name": "python"
    },
    "accelerator": "GPU"
  },
  "cells": [
    {
      "cell_type": "code",
      "execution_count": 1,
      "metadata": {
        "id": "WWST-j45se8F"
      },
      "outputs": [],
      "source": [
        "# Imports and reproducibility\n",
        "!PYTHONHASHSEED=0\n",
        "import tensorflow as tf\n",
        "from tensorflow import keras\n",
        "from matplotlib import pyplot as plt\n",
        "import zipfile\n",
        "from shutil import copyfile\n",
        "from time import time\n",
        "import numpy as np\n",
        "import random as python_random\n",
        "np.random.seed(0)\n",
        "python_random.seed(0)\n",
        "tf.random.set_seed(0)\n",
        "\n",
        "# Settings for prettier visualization in Google Colab\n",
        "from IPython.display import Javascript\n",
        "def resize_colab_cell():\n",
        "  display(Javascript('google.colab.output.setIframeHeight(0, true, {maxHeight: 300})'))\n",
        "get_ipython().events.register('pre_run_cell', resize_colab_cell)"
      ]
    },
    {
      "cell_type": "code",
      "source": [
        "# VARIABILI GLOBALI\n",
        "num_classes = 2"
      ],
      "metadata": {
        "colab": {
          "base_uri": "https://localhost:8080/",
          "height": 17
        },
        "id": "RO8wah0VCUDK",
        "outputId": "8bb6204e-5157-402d-a9aa-76f96bd8562a"
      },
      "execution_count": 2,
      "outputs": [
        {
          "output_type": "display_data",
          "data": {
            "text/plain": [
              "<IPython.core.display.Javascript object>"
            ],
            "application/javascript": [
              "google.colab.output.setIframeHeight(0, true, {maxHeight: 300})"
            ]
          },
          "metadata": {}
        }
      ]
    },
    {
      "cell_type": "code",
      "source": [
        "# CONNETTITI A DRIVE PER POTER LINKARE IL DATASET ED USARLO SENZA SCARICARLO\n",
        "# IN LOCALE. LA CONNESSIONE CON DRIVE FUNZIONA UNICAMENTE SE ANCHE IL NOTEBOOK\n",
        "# SI TROVA ALL'INTERNO DELLO STESSO DRIVE.\n",
        "\n",
        "from google.colab import drive # importare pacchetto\n",
        "drive.mount(\"/content/gdrive\") # monta drive"
      ],
      "metadata": {
        "colab": {
          "base_uri": "https://localhost:8080/",
          "height": 34
        },
        "id": "mmOsR1GfsnPB",
        "outputId": "3ada384d-fe2d-45aa-cd6d-b0549a4a741b"
      },
      "execution_count": 3,
      "outputs": [
        {
          "output_type": "display_data",
          "data": {
            "text/plain": [
              "<IPython.core.display.Javascript object>"
            ],
            "application/javascript": [
              "google.colab.output.setIframeHeight(0, true, {maxHeight: 300})"
            ]
          },
          "metadata": {}
        },
        {
          "output_type": "stream",
          "name": "stdout",
          "text": [
            "Mounted at /content/gdrive\n"
          ]
        }
      ]
    },
    {
      "cell_type": "code",
      "source": [
        "# IMPORTA IL FILE ZIP SULLA MACCHINA VIRTUALE DI GOOGLE COLAB\n",
        "# CHE CI è STATA ASSEGNATA. FINO A QUESTO MOMENTO ABBIAMO SOLO MONTATO\n",
        "# GOOGLE DRIVE. ORA DOBBIAMO ANDARE A COPIARE IL FILE (CHE SU GOOGLE DRIVE\n",
        "# PER NOI ATTUALMENTE è SOLO UN LINK) DIRETTAMENTE NELLA MIA ROOT FOLDER\n",
        "# DOVE STO LAVORANDO (PER AVERE IL VERO E PROPRIO FILE E NON SOLO IL LINK).\n",
        "\n",
        "copyfile(\"/content/gdrive/MyDrive/Data_Science_2020-2022/Secondo_anno_Secondo_Semestre/Foundation_of_Deep_Learning/catvsdog.zip\", \"catvsdog.zip\") # il secondo argomento dice dove andare a copiare il file. Lasciando solamente il nome del file la si copia direttamente nella root folder di Colab"
      ],
      "metadata": {
        "colab": {
          "base_uri": "https://localhost:8080/",
          "height": 35
        },
        "id": "-vtO6hDJs3NR",
        "outputId": "ec4f962c-b15b-4ff3-e301-838b337ad8b4"
      },
      "execution_count": 4,
      "outputs": [
        {
          "output_type": "display_data",
          "data": {
            "text/plain": [
              "<IPython.core.display.Javascript object>"
            ],
            "application/javascript": [
              "google.colab.output.setIframeHeight(0, true, {maxHeight: 300})"
            ]
          },
          "metadata": {}
        },
        {
          "output_type": "execute_result",
          "data": {
            "text/plain": [
              "'catvsdog.zip'"
            ],
            "application/vnd.google.colaboratory.intrinsic+json": {
              "type": "string"
            }
          },
          "metadata": {},
          "execution_count": 4
        }
      ]
    },
    {
      "cell_type": "code",
      "source": [
        "# ESTRAIAMO LO ZIP\n",
        "zip = zipfile.ZipFile(\"catvsdog.zip\") # inizializza lo zipper e poi invocare zip.extract()\n",
        "zip.extractall()\n",
        "zip.close()"
      ],
      "metadata": {
        "colab": {
          "base_uri": "https://localhost:8080/",
          "height": 17
        },
        "id": "ZcxDfVM37d1c",
        "outputId": "7ab1bb68-6e02-48ae-bef1-0811deb6a4a5"
      },
      "execution_count": 5,
      "outputs": [
        {
          "output_type": "display_data",
          "data": {
            "text/plain": [
              "<IPython.core.display.Javascript object>"
            ],
            "application/javascript": [
              "google.colab.output.setIframeHeight(0, true, {maxHeight: 300})"
            ]
          },
          "metadata": {}
        }
      ]
    },
    {
      "cell_type": "markdown",
      "source": [
        "La struttura della cartella che vediamo con la cartella *catvsdog* e poi le sottocartelle *cat* e *dog* è abbastanza standard con i vari framework di deep learning."
      ],
      "metadata": {
        "id": "99qALmAc8F9x"
      }
    },
    {
      "cell_type": "markdown",
      "source": [
        "Andiamo a definire un data loader: è un concetto molto utile nel contesto del machine learning/deep learning. e' una classe/funzione, un costrutto che si occupa di caricare i dati dal disco e fornirli alla procedura di apprendimento ovvero al processo di training. l'idea è che non dobbiamo scriverci noi il codice per importarci l'immagine e darla in input alla funzione fit per\n",
        "addestrare la nostra rete neurale.\n",
        "Per il data loader in keras, facciamo riferimento al seguente link:\n",
        "https://keras.io/api/preprocessing/image/\n",
        "\n",
        "e usiamo:\n",
        "image_dataset_from_directory\n",
        "\n",
        "che è un data loader che si aspetta i dati nella struttura che abbiamo appena descritto, quindi cartelle con i file già divisi.\n",
        "\n"
      ],
      "metadata": {
        "id": "yakwRJzJ9MO5"
      }
    },
    {
      "cell_type": "code",
      "source": [
        "base_path = \"catvsdog500/\" # CREAZIONE DEL PATH. 500 PERCHé PRENDIAMO UN SET DI IMMAGINI PIù PICCOLO E NON TUTTE LE 25000.\n",
        "train_dataset = keras.preprocessing.image_dataset_from_directory(base_path,\n",
        "                                                 image_size = (224, 224),\n",
        "                                                 batch_size = 32,\n",
        "                                                 label_mode = \"categorical\",\n",
        "                                                 subset = \"training\",\n",
        "                                                 validation_split = 0.2,\n",
        "                                                 shuffle = True,\n",
        "                                                 seed = 1)"
      ],
      "metadata": {
        "colab": {
          "base_uri": "https://localhost:8080/",
          "height": 52
        },
        "id": "RwoFjlsm9ca6",
        "outputId": "7618465f-f8d1-4ba9-e87d-1df11c7b95c6"
      },
      "execution_count": 6,
      "outputs": [
        {
          "output_type": "display_data",
          "data": {
            "text/plain": [
              "<IPython.core.display.Javascript object>"
            ],
            "application/javascript": [
              "google.colab.output.setIframeHeight(0, true, {maxHeight: 300})"
            ]
          },
          "metadata": {}
        },
        {
          "output_type": "stream",
          "name": "stdout",
          "text": [
            "Found 1000 files belonging to 2 classes.\n",
            "Using 800 files for training.\n"
          ]
        }
      ]
    },
    {
      "cell_type": "markdown",
      "source": [
        "- *image_size*: resize dell'immagine. Perché? Perché il batch processing vede\n",
        "n immagini alla volta. Queste devono essere impilate in un unico\n",
        "tensore a 4 dimensioni e per poterlo fare devono avere\n",
        "tutte la stessa dimensione. Un altro motivo per cui le immagini\n",
        "vengono ridimensionate tutte alla stessa dimensione in un problema\n",
        "di classificazione di immagini con delle reti neurali è che alcuni\n",
        "livelli neurali funzionano indipendentemente dalla dimensione \n",
        "dell'input, altri sono costruiti, nel momento in cui li definiamo, si aspettano che l'input abbia una specifica cardinalità e se non riportiamo tutto alla stessa dimensione, avremo problemi successivi quando andiamo ad utilizzare questi layer.\n",
        "224 x 224 pixel è la dimensione standard che molte reti neurali\n",
        "possiamo già utilizzare perché pre implementate si aspettano.\n",
        "\n",
        "- *batch_size*: non diamo in input al processo di training un'immagine alla volta, ma gliene diamo n, il batch size identifica esattamente questo. Valore arbitrario. Come rule of thumb: utilizza il batch size più grande possibile finché sta in memoria. Perché più grande possibile? Perché stiamo affrontando il problema di imparare la rete neurale usando lo Stochastic Gradient Descent (o una sua variante). Idealmente noi diamo tutti i dati in input alla rete neurale e la miglioriamo con l'obiettivo di migliorare le performance su tutti i dati in input.\n",
        "Poiché non ci stanno tutti contemporaneamente li diamo poco per volta, ma non possiamo darne una solta alla volta: altrimenti l'algoritmo pensa il seguente: per questa singola immagine che vedo dovrò modificare i pesi in un certo modo; per la successiva singola immagine devo modificare i pesi in un altro modo. Il processo non è stabile! Quello che idealmente vorremmo trovare è un singolo criterio che possa modificare i pesi per tutte o il maggior numero di immagini possibili.\n",
        "\n",
        "- *label_mode* = categorical. Le nostre classi sono identificate da delle etichette (cat e dog) che verranno automaticamente inferite dai nomi delle cartelle. \n",
        "\n",
        "- *subset* = One of \"training\" or \"validation\". Only used if validation_split is set.\n",
        "\n",
        "- *validation_split* = Optional float between 0 and 1, fraction of data to reserve for validation.\n",
        "\n",
        "- *shuffle* = True. Imposta che le immagini non vengano prese in ordine del nome del file ma vengano riordinate casualmente\n",
        "L'intero comando prenderà le cartelle con i file e deciderà autonomamente di prendere l'80% da usare per il training e il 20% da usare per il validation.\n",
        "\n",
        "Del totale dei 1000 file, 800 vengono usati per il training (addestramento) e, successivamente quando specifichiamo il validation, vedimo che 200 file vengono usati per il validation, cioè il restante 20%. "
      ],
      "metadata": {
        "id": "UiNfpWvU_sYU"
      }
    },
    {
      "cell_type": "code",
      "source": [
        "val_dataset = keras.preprocessing.image_dataset_from_directory(base_path,\n",
        "                                                 image_size = (224, 224),\n",
        "                                                 batch_size = 32,\n",
        "                                                 label_mode = \"categorical\",\n",
        "                                                 subset = \"validation\",\n",
        "                                                 validation_split = 0.2,\n",
        "                                                 shuffle = True,\n",
        "                                                 seed = 1)"
      ],
      "metadata": {
        "colab": {
          "base_uri": "https://localhost:8080/",
          "height": 52
        },
        "id": "4a1ezT8dALZU",
        "outputId": "9b6114d2-c714-466e-e308-bac011183ba1"
      },
      "execution_count": 7,
      "outputs": [
        {
          "output_type": "display_data",
          "data": {
            "text/plain": [
              "<IPython.core.display.Javascript object>"
            ],
            "application/javascript": [
              "google.colab.output.setIframeHeight(0, true, {maxHeight: 300})"
            ]
          },
          "metadata": {}
        },
        {
          "output_type": "stream",
          "name": "stdout",
          "text": [
            "Found 1000 files belonging to 2 classes.\n",
            "Using 200 files for validation.\n"
          ]
        }
      ]
    },
    {
      "cell_type": "markdown",
      "source": [
        "## Architettura della rete"
      ],
      "metadata": {
        "id": "V9B4n8TZCYYm"
      }
    },
    {
      "cell_type": "markdown",
      "source": [
        "Che caratteristiche dovrà avere la nostra rete neurale?\n",
        "- input layer\n",
        "- 2D convolutional layer con le seguenti caratteristiche: \n",
        "  - 3x3 filter (ogni filto di un layer di convoluzione 2D ha una certa dimensione spaziale che è questo 3x3 che occupa in profondità qualunque sia la dimensione dell'input) e di questi ne vogliamo 32.\n",
        "- relu activation function (con un layer a parte o inserita nel layer precedente)\n",
        "- max pooling (con un filtro 3x3)\n",
        "- 2D convolutional layer che mappi a 64 canali (filtro 3x3 che mappa a 64 canali)\n",
        "- relu activation function\n",
        "- maxpooling globale: non andiamo più a dire quale è la dimensione del filtro, ma vogliamo che sia automaticamente determinata prendendo spazialmente tutti i pixel di un canale e li riduca ad un numero. Poi passi al canale successivo, prenda tutti i pixel di quel canale e li riduca ad un numero usando l'operazione del max pooling\n",
        "- fully connected (Dense in keras) che mappi a 2 (dando la probabilità che sia cane/gatto con activation SoftMax\n",
        "- rmspropr e learning rate = 0.001."
      ],
      "metadata": {
        "id": "jkqHjNSPCcB-"
      }
    },
    {
      "cell_type": "code",
      "source": [
        "# ARCHITETTURA DI RETE CONVOLUZIONALE PER CLASSIFICAZIONE DI IMMAGINI CAT/DOG\n",
        "\n",
        "inputs = keras.Input((224, 224, 3)) # 224 rows, 224 columns, 3 RGB channels\n",
        "\n",
        "x = inputs\n",
        "# 32 filtri 3x3. Padding: mi dice quanti pixel aggiungere di cornice alla mia \n",
        "# immagine prima di fare la convoluzione. Se non fornito, l'output della \n",
        "# convoluzione produrrà un immagine un pelo più piccola di quella di partenza \n",
        "# spazialmente: nel far scorrere la finestra di convoluzione non riesce a coprire\n",
        "# l'intorno del pixel di riferimento nell'immagine. Dando \"same\" il padding\n",
        "# viene calcolato automaticamente. \n",
        "x = keras.layers.Conv2D(32, 3, padding='same')(x)\n",
        "# Attivazione ReLU: la funzione di attivazione introduce una non linearità.\n",
        "# Fa si che il calcolo che permette di trasformare i numeri che stanno nell'input\n",
        "# nei numeri che stanno nell'output non sia semplicemente una combinazione\n",
        "# lineare dell'input, ma in generale crea un livello di complessità maggiore\n",
        "# che è quello di costruire delle astrazioni, ovvero permette alla rete neurale\n",
        "# di dire: ok, adesso ho individuato delle linee di base, ora ci costruisco\n",
        "# sopra dei ragionamenti più complessi.\n",
        "# x = keras.layers.Activation('relu')(x)\n",
        "x = keras.layers.Activation('relu')(x)\n",
        "# MaxPooling con finestre/windows 3x3 e stride di 3: ciò significa che ogni\n",
        "# 3x3 valori dell'input li sostituiamo con il suo Max e poi quando spostiamo\n",
        "# la finestra che esegue questa operazione, la spostiamo di 3 pixels a destra.\n",
        "# Così facendo non contiamo più volte lo stesso input e in questo caso l'output\n",
        "# di questo layer sarà per definizione più piccolo spazialmente dell'input.\n",
        "# E' un tipo di layer che ci serve concettualmente per essere meno dipendenti\n",
        "# da eventuali piccole variazioni nell'input (se ci sono tralazione dei dati\n",
        "# di un pixel a destra) il Max Pooling è abbastanza robusto da queste variazioni\n",
        "# trascendendo di qualche misura da variazioni dei dati. \n",
        "# Tra l'altro se lo usiamo con questo stride diminuisce la dimensione dell'input\n",
        "# e la complessità dei valori che portiamo avanti nella rete neurale. Stiamo\n",
        "# infatti passando da 224x224x3 valori a 3 numeri. \n",
        "x = keras.layers.MaxPooling2D(3, strides=3, padding='same')(x) \n",
        "\n",
        "x = keras.layers.Conv2D(64, 3, padding = 'same')(x)\n",
        "x = keras.layers.Activation('relu')(x)\n",
        "\n",
        "# Equivalente del Max Pooling ma in automatico calcola, invece che basarsi su\n",
        "# una finestra 3x3 utilizza una finestra grande quanto l'intera attivazione\n",
        "# del layer precedente.\n",
        "x = keras.layers.GlobalMaxPooling2D()(x)\n",
        "\n",
        "# Questa softmax prende i due numeri (le due classi specificate) e dà in input\n",
        "# una funzione che ha lo scopo di produrre una pseudo distrubuzione di \n",
        "# probabilità. Si assicura che la somma dei valori (dei due valori nel nostro\n",
        "# caso), faccia 1, e introduce delle non linearità.\n",
        "outputs = keras.layers.Dense(num_classes, activation='softmax')(x)\n",
        "\n",
        "# Con questo comando impacchettiamo tutti i nostri passaggi e diciamo \n",
        "# che la mia rete neurale è un modello che parte dalla variabile \"inputs\" e\n",
        "# termina con la variabile chiamata \"outputs\". \n",
        "net = keras.Model(inputs, outputs)"
      ],
      "metadata": {
        "colab": {
          "base_uri": "https://localhost:8080/",
          "height": 17
        },
        "id": "hQmKo-3bCXJj",
        "outputId": "56d8df23-d2e0-4b61-b747-20a216716094"
      },
      "execution_count": 8,
      "outputs": [
        {
          "output_type": "display_data",
          "data": {
            "text/plain": [
              "<IPython.core.display.Javascript object>"
            ],
            "application/javascript": [
              "google.colab.output.setIframeHeight(0, true, {maxHeight: 300})"
            ]
          },
          "metadata": {}
        }
      ]
    },
    {
      "cell_type": "markdown",
      "source": [
        "Commento al codice di creazione dell'architettura.\n",
        "\n",
        "- layer di input = non è indispensabile per definire una rete neurale, ma può essere utile perché se noi informiamo tutto il resto dell'architettura che i nostri dati in input hanno 3 canali, nel momento in cui dichiariamo la convoluzione 2D non abbiamo bisogno di dire quanto è grande la dimensione in input perché viene definita direttamente.  "
      ],
      "metadata": {
        "id": "8wleeYBlGIED"
      }
    },
    {
      "cell_type": "code",
      "source": [
        "# La compilazione ci serve per definire quali sono le procedure utilizzate \n",
        "# durante l'addestramento. La loss in questa esercitazione non è più la differenza\n",
        "# tra valore di regressione target e quello stimato ma \"categorical_crossentropy\".\n",
        "# Per ogni immagine (dato di input) dice: guardiamo la mi ground truth. Quale era\n",
        "# la classe della mia immagine? Era gatto (prima classe). Andiamo a vedere se\n",
        "# nel primo dei due valori restituiti dalla rete neurale per quella immagine\n",
        "# c'è un valore molto alto (idealmente deve essere 1). Più è distante la stima\n",
        "# della classe attesa da 1 e maggiore è la loss (peggior risultato all'aumentare\n",
        "# del valore di Loss). \n",
        "# Ottimizzatore: basato su RMSProp;\n",
        "# Salviamoci l'accuracy: ci dice sul totale delle immagini quante sono state\n",
        "# correttamente classificate.\n",
        "net.compile(loss=keras.losses.categorical_crossentropy,\n",
        "            optimizer= keras.optimizers.RMSprop(learning_rate=0.001),\n",
        "            metrics=['accuracy'])"
      ],
      "metadata": {
        "colab": {
          "base_uri": "https://localhost:8080/",
          "height": 17
        },
        "id": "QkjlGBH5g8bV",
        "outputId": "b512c7f8-7050-4e27-f89f-41007ae91e86"
      },
      "execution_count": 9,
      "outputs": [
        {
          "output_type": "display_data",
          "data": {
            "text/plain": [
              "<IPython.core.display.Javascript object>"
            ],
            "application/javascript": [
              "google.colab.output.setIframeHeight(0, true, {maxHeight: 300})"
            ]
          },
          "metadata": {}
        }
      ]
    },
    {
      "cell_type": "code",
      "source": [
        "# SETTINGS FOR PRETTIER VISUALIZATION IN GOOGLE COLAB\n",
        "from IPython.display import Javascript\n",
        "def resize_colab_cell():\n",
        "  display(Javascript('google.colab.output.setIframeHeight(0, true, {maxHeight: 300})'))\n",
        "get_ipython().events.register('pre_run_cell', resize_colab_cell)"
      ],
      "metadata": {
        "colab": {
          "base_uri": "https://localhost:8080/",
          "height": 17
        },
        "id": "iuVpGc1wiEB7",
        "outputId": "234d2ea2-83bc-4c0d-a09d-9e020397eaad"
      },
      "execution_count": 10,
      "outputs": [
        {
          "output_type": "display_data",
          "data": {
            "text/plain": [
              "<IPython.core.display.Javascript object>"
            ],
            "application/javascript": [
              "google.colab.output.setIframeHeight(0, true, {maxHeight: 300})"
            ]
          },
          "metadata": {}
        }
      ]
    },
    {
      "cell_type": "code",
      "source": [
        "# SE LA VOLTA SCORSA POTEVAMO PERMETTERCI DI AVERE IN MEMORIA TUTTO IL DATASET\n",
        "# QUA NON POSSIAMO FARE ALTRETTANTO PERCHé ABBIAMO IMMAGINI E NON C'è\n",
        "# MODO DI CARICARE TUTTO IL DATASET IN MEMORIA ALLA PROCEDURA DI FIT. \n",
        "# MOTIVO PER IL QUALE STIAMO UTILIZZANDO IL DATA LOADER DEFINITO ALL'INIZIO. \n",
        "# AVENDOLO SPECIFICATO ALL'INIZIO IL TRAIN_DATASET PRENDERà IN INGRESSO 32\n",
        "# IMMAGINI ALLA VOLTA, DEFINITO COME BATCH SIZE FINO A COPRIRE L'INTERO DATASET.\n",
        "# COSI FACENDO HA COMPLETATO UNA EPOCA E TIRA IN BALLO IL VALIDATION\n",
        "# DATA LOADER CHE CONGELA MOMENTANEAMENTE L'ADDESTRAMENTO DELLA RETE NEURALE,\n",
        "# FORNISCE ALLA RETE TUTTE LE IMMAGINI DEL VALIDATION SET (ANCHE IN QUESTO\n",
        "# CASO 32 ALLA VOLTA) E CALCOLA IL RISULTATO. E SALVIAMO IL RISULTATO NELLA\n",
        "# VARIABILE HISTORY.\n",
        "history = net.fit(train_dataset, epochs=40, validation_data = val_dataset)"
      ],
      "metadata": {
        "colab": {
          "base_uri": "https://localhost:8080/",
          "height": 300
        },
        "id": "9KcO4PCGlzIe",
        "outputId": "df793baf-1c1d-4de9-d754-4b886e13da67"
      },
      "execution_count": 11,
      "outputs": [
        {
          "output_type": "display_data",
          "data": {
            "text/plain": [
              "<IPython.core.display.Javascript object>"
            ],
            "application/javascript": [
              "google.colab.output.setIframeHeight(0, true, {maxHeight: 300})"
            ]
          },
          "metadata": {}
        },
        {
          "output_type": "display_data",
          "data": {
            "text/plain": [
              "<IPython.core.display.Javascript object>"
            ],
            "application/javascript": [
              "google.colab.output.setIframeHeight(0, true, {maxHeight: 300})"
            ]
          },
          "metadata": {}
        },
        {
          "output_type": "stream",
          "name": "stdout",
          "text": [
            "Epoch 1/40\n",
            "25/25 [==============================] - 12s 78ms/step - loss: 18.9627 - accuracy: 0.4888 - val_loss: 5.8575 - val_accuracy: 0.5150\n",
            "Epoch 2/40\n",
            "25/25 [==============================] - 2s 69ms/step - loss: 5.2924 - accuracy: 0.5337 - val_loss: 6.5422 - val_accuracy: 0.5200\n",
            "Epoch 3/40\n",
            "25/25 [==============================] - 2s 66ms/step - loss: 2.6275 - accuracy: 0.6012 - val_loss: 3.0437 - val_accuracy: 0.4900\n",
            "Epoch 4/40\n",
            "25/25 [==============================] - 2s 70ms/step - loss: 2.1942 - accuracy: 0.5238 - val_loss: 1.9449 - val_accuracy: 0.5100\n",
            "Epoch 5/40\n",
            "25/25 [==============================] - 2s 68ms/step - loss: 1.3175 - accuracy: 0.5725 - val_loss: 1.1987 - val_accuracy: 0.5500\n",
            "Epoch 6/40\n",
            "25/25 [==============================] - 2s 68ms/step - loss: 0.9874 - accuracy: 0.6237 - val_loss: 1.1994 - val_accuracy: 0.5100\n",
            "Epoch 7/40\n",
            "25/25 [==============================] - 2s 68ms/step - loss: 0.8406 - accuracy: 0.6587 - val_loss: 1.1274 - val_accuracy: 0.5550\n",
            "Epoch 8/40\n",
            "25/25 [==============================] - 2s 70ms/step - loss: 0.7968 - accuracy: 0.6475 - val_loss: 1.0023 - val_accuracy: 0.5200\n",
            "Epoch 9/40\n",
            "25/25 [==============================] - 2s 69ms/step - loss: 0.6726 - accuracy: 0.7075 - val_loss: 1.0135 - val_accuracy: 0.5600\n",
            "Epoch 10/40\n",
            "25/25 [==============================] - 2s 69ms/step - loss: 0.5449 - accuracy: 0.7500 - val_loss: 2.4999 - val_accuracy: 0.5050\n",
            "Epoch 11/40\n",
            "25/25 [==============================] - 2s 68ms/step - loss: 0.5874 - accuracy: 0.7325 - val_loss: 1.0539 - val_accuracy: 0.5450\n",
            "Epoch 12/40\n",
            "25/25 [==============================] - 2s 69ms/step - loss: 0.4667 - accuracy: 0.7800 - val_loss: 1.5786 - val_accuracy: 0.5600\n",
            "Epoch 13/40\n",
            "25/25 [==============================] - 2s 67ms/step - loss: 0.4486 - accuracy: 0.7675 - val_loss: 1.1974 - val_accuracy: 0.6050\n",
            "Epoch 14/40\n",
            "25/25 [==============================] - 2s 68ms/step - loss: 0.3611 - accuracy: 0.8512 - val_loss: 1.8072 - val_accuracy: 0.5300\n",
            "Epoch 15/40\n",
            "25/25 [==============================] - 2s 68ms/step - loss: 0.3915 - accuracy: 0.8238 - val_loss: 1.1211 - val_accuracy: 0.5400\n",
            "Epoch 16/40\n",
            "25/25 [==============================] - 2s 66ms/step - loss: 0.3774 - accuracy: 0.8338 - val_loss: 1.2214 - val_accuracy: 0.5750\n",
            "Epoch 17/40\n",
            "25/25 [==============================] - 2s 68ms/step - loss: 0.3575 - accuracy: 0.8575 - val_loss: 1.5217 - val_accuracy: 0.5500\n",
            "Epoch 18/40\n",
            "25/25 [==============================] - 2s 66ms/step - loss: 0.2615 - accuracy: 0.8850 - val_loss: 1.0505 - val_accuracy: 0.5900\n",
            "Epoch 19/40\n",
            "25/25 [==============================] - 2s 68ms/step - loss: 0.2710 - accuracy: 0.8938 - val_loss: 1.0932 - val_accuracy: 0.6000\n",
            "Epoch 20/40\n",
            "25/25 [==============================] - 2s 67ms/step - loss: 0.3104 - accuracy: 0.8775 - val_loss: 1.1842 - val_accuracy: 0.5800\n",
            "Epoch 21/40\n",
            "25/25 [==============================] - 2s 67ms/step - loss: 0.2377 - accuracy: 0.9075 - val_loss: 1.1198 - val_accuracy: 0.6100\n",
            "Epoch 22/40\n",
            "25/25 [==============================] - 2s 68ms/step - loss: 0.2295 - accuracy: 0.9062 - val_loss: 1.4185 - val_accuracy: 0.5750\n",
            "Epoch 23/40\n",
            "25/25 [==============================] - 2s 67ms/step - loss: 0.2734 - accuracy: 0.9137 - val_loss: 1.1514 - val_accuracy: 0.5700\n",
            "Epoch 24/40\n",
            "25/25 [==============================] - 2s 68ms/step - loss: 0.2412 - accuracy: 0.9112 - val_loss: 1.7034 - val_accuracy: 0.5650\n",
            "Epoch 25/40\n",
            "25/25 [==============================] - 2s 68ms/step - loss: 0.2221 - accuracy: 0.9038 - val_loss: 1.3627 - val_accuracy: 0.6300\n",
            "Epoch 26/40\n",
            "25/25 [==============================] - 2s 67ms/step - loss: 0.1680 - accuracy: 0.9325 - val_loss: 1.1515 - val_accuracy: 0.6050\n",
            "Epoch 27/40\n",
            "25/25 [==============================] - 2s 67ms/step - loss: 0.2203 - accuracy: 0.9162 - val_loss: 1.2560 - val_accuracy: 0.5850\n",
            "Epoch 28/40\n",
            "25/25 [==============================] - 2s 68ms/step - loss: 0.1681 - accuracy: 0.9312 - val_loss: 1.3157 - val_accuracy: 0.5850\n",
            "Epoch 29/40\n",
            "25/25 [==============================] - 2s 67ms/step - loss: 0.1774 - accuracy: 0.9325 - val_loss: 1.2443 - val_accuracy: 0.5750\n",
            "Epoch 30/40\n",
            "25/25 [==============================] - 2s 67ms/step - loss: 0.1971 - accuracy: 0.9300 - val_loss: 1.3140 - val_accuracy: 0.5600\n",
            "Epoch 31/40\n",
            "25/25 [==============================] - 2s 68ms/step - loss: 0.1802 - accuracy: 0.9425 - val_loss: 1.3617 - val_accuracy: 0.5550\n",
            "Epoch 32/40\n",
            "25/25 [==============================] - 2s 68ms/step - loss: 0.2056 - accuracy: 0.9312 - val_loss: 1.3763 - val_accuracy: 0.5550\n",
            "Epoch 33/40\n",
            "25/25 [==============================] - 2s 67ms/step - loss: 0.1948 - accuracy: 0.9337 - val_loss: 1.3133 - val_accuracy: 0.5650\n",
            "Epoch 34/40\n",
            "25/25 [==============================] - 2s 68ms/step - loss: 0.0689 - accuracy: 0.9825 - val_loss: 1.3934 - val_accuracy: 0.5900\n",
            "Epoch 35/40\n",
            "25/25 [==============================] - 2s 69ms/step - loss: 0.2126 - accuracy: 0.9388 - val_loss: 1.3426 - val_accuracy: 0.5650\n",
            "Epoch 36/40\n",
            "25/25 [==============================] - 2s 68ms/step - loss: 0.2070 - accuracy: 0.9438 - val_loss: 1.4168 - val_accuracy: 0.5700\n",
            "Epoch 37/40\n",
            "25/25 [==============================] - 2s 68ms/step - loss: 0.0608 - accuracy: 0.9837 - val_loss: 1.5105 - val_accuracy: 0.5850\n",
            "Epoch 38/40\n",
            "25/25 [==============================] - 2s 69ms/step - loss: 0.1959 - accuracy: 0.9450 - val_loss: 1.4233 - val_accuracy: 0.5700\n",
            "Epoch 39/40\n",
            "25/25 [==============================] - 2s 68ms/step - loss: 0.0719 - accuracy: 0.9800 - val_loss: 3.4186 - val_accuracy: 0.5350\n",
            "Epoch 40/40\n",
            "25/25 [==============================] - 2s 69ms/step - loss: 0.1612 - accuracy: 0.9600 - val_loss: 1.4867 - val_accuracy: 0.5400\n"
          ]
        }
      ]
    },
    {
      "cell_type": "markdown",
      "source": [
        "Visualizziamo le curve di accuracy."
      ],
      "metadata": {
        "id": "0lJCB6i6m9wy"
      }
    },
    {
      "cell_type": "code",
      "source": [
        "plt.plot(history.history['accuracy'])\n",
        "plt.plot(history.history['val_accuracy'])\n",
        "plt.ylim([0.5, 1.0]) # 0.5 è il minimo sindacale - dummy classifier fa 50% - fino al massimo 1.\n",
        "plt.xlabel('Epoch')\n",
        "plt.ylabel('Accuracy')\n",
        "plt.legend(['train', 'val'])"
      ],
      "metadata": {
        "colab": {
          "base_uri": "https://localhost:8080/",
          "height": 300
        },
        "id": "3L8zSMA4l_en",
        "outputId": "9b25e8a6-b278-490f-eecb-9ef95282bc21"
      },
      "execution_count": 12,
      "outputs": [
        {
          "output_type": "display_data",
          "data": {
            "text/plain": [
              "<IPython.core.display.Javascript object>"
            ],
            "application/javascript": [
              "google.colab.output.setIframeHeight(0, true, {maxHeight: 300})"
            ]
          },
          "metadata": {}
        },
        {
          "output_type": "display_data",
          "data": {
            "text/plain": [
              "<IPython.core.display.Javascript object>"
            ],
            "application/javascript": [
              "google.colab.output.setIframeHeight(0, true, {maxHeight: 300})"
            ]
          },
          "metadata": {}
        },
        {
          "output_type": "execute_result",
          "data": {
            "text/plain": [
              "<matplotlib.legend.Legend at 0x7fe0c02d4cd0>"
            ]
          },
          "metadata": {},
          "execution_count": 12
        },
        {
          "output_type": "display_data",
          "data": {
            "text/plain": [
              "<Figure size 432x288 with 1 Axes>"
            ],
            "image/png": "[encoded data removed]"
          },
          "metadata": {
            "needs_background": "light"
          }
        }
      ]
    },
    {
      "cell_type": "markdown",
      "source": [
        "Su dati mai visti non un granché.\n",
        "Come miglioriamo il risultato? Introducendo la batch normalization, un layer dopo ciascuna convoluzione 2D.\n",
        "Quindi, riprendiamo la rete definita precedentemente e inseriamo la batch normalization.\n",
        "\n",
        "Quindi:\n",
        "- Add a batchnorm layer after every conv2D layer\n",
        "- compile\n",
        "- fit"
      ],
      "metadata": {
        "id": "D0QqZfkZnhmv"
      }
    },
    {
      "cell_type": "code",
      "source": [
        "# NUOVA ARCHITETTURA DI RETE CONVOLUZIONALE CON BATCH NORMALIZATION\n",
        "\n",
        "inputs = keras.Input((224, 224, 3)) # 224 rows, 224 columns, 3 RGB channels\n",
        "\n",
        "x = inputs\n",
        "x = keras.layers.Conv2D(32, 3, padding='same')(x)\n",
        "# AGGIUNGI BATCH NORMALIZATION LAYER\n",
        "x = keras.layers.BatchNormalization()(x)\n",
        "x = keras.layers.Activation('relu')(x)\n",
        "x = keras.layers.MaxPooling2D(3, strides=3, padding='same')(x) \n",
        "\n",
        "x = keras.layers.Conv2D(64, 3, padding = 'same')(x)\n",
        "# AGGIUNGI BATCH NORMALIZATION LAYER\n",
        "x = keras.layers.BatchNormalization()(x)\n",
        "x = keras.layers.Activation('relu')(x)\n",
        "\n",
        "x = keras.layers.GlobalMaxPooling2D()(x)\n",
        "\n",
        "outputs = keras.layers.Dense(num_classes, activation='softmax')(x)\n",
        "\n",
        "net = keras.Model(inputs, outputs)"
      ],
      "metadata": {
        "colab": {
          "base_uri": "https://localhost:8080/",
          "height": 17
        },
        "id": "UxVRKyX5nd6D",
        "outputId": "9ec87968-2d24-477b-c2d7-eaaa07fe33d0"
      },
      "execution_count": 13,
      "outputs": [
        {
          "output_type": "display_data",
          "data": {
            "text/plain": [
              "<IPython.core.display.Javascript object>"
            ],
            "application/javascript": [
              "google.colab.output.setIframeHeight(0, true, {maxHeight: 300})"
            ]
          },
          "metadata": {}
        },
        {
          "output_type": "display_data",
          "data": {
            "text/plain": [
              "<IPython.core.display.Javascript object>"
            ],
            "application/javascript": [
              "google.colab.output.setIframeHeight(0, true, {maxHeight: 300})"
            ]
          },
          "metadata": {}
        }
      ]
    },
    {
      "cell_type": "code",
      "source": [
        "# RICOOMPILIAMO\n",
        "net.compile(loss=keras.losses.categorical_crossentropy,\n",
        "            optimizer= keras.optimizers.RMSprop(learning_rate=0.001),\n",
        "            metrics=['accuracy'])"
      ],
      "metadata": {
        "colab": {
          "base_uri": "https://localhost:8080/",
          "height": 17
        },
        "id": "eJsQs8-mo6go",
        "outputId": "55dcc350-182e-4a49-c377-3d19d2310e36"
      },
      "execution_count": 14,
      "outputs": [
        {
          "output_type": "display_data",
          "data": {
            "text/plain": [
              "<IPython.core.display.Javascript object>"
            ],
            "application/javascript": [
              "google.colab.output.setIframeHeight(0, true, {maxHeight: 300})"
            ]
          },
          "metadata": {}
        },
        {
          "output_type": "display_data",
          "data": {
            "text/plain": [
              "<IPython.core.display.Javascript object>"
            ],
            "application/javascript": [
              "google.colab.output.setIframeHeight(0, true, {maxHeight: 300})"
            ]
          },
          "metadata": {}
        }
      ]
    },
    {
      "cell_type": "code",
      "source": [
        "# RIFITTIAMO\n",
        "history = net.fit(train_dataset, epochs=40, validation_data = val_dataset)"
      ],
      "metadata": {
        "colab": {
          "base_uri": "https://localhost:8080/",
          "height": 300
        },
        "id": "w3_nHC0To-QB",
        "outputId": "9bb546b1-0200-440e-c2cf-e80976d2dbeb"
      },
      "execution_count": 15,
      "outputs": [
        {
          "output_type": "display_data",
          "data": {
            "text/plain": [
              "<IPython.core.display.Javascript object>"
            ],
            "application/javascript": [
              "google.colab.output.setIframeHeight(0, true, {maxHeight: 300})"
            ]
          },
          "metadata": {}
        },
        {
          "output_type": "display_data",
          "data": {
            "text/plain": [
              "<IPython.core.display.Javascript object>"
            ],
            "application/javascript": [
              "google.colab.output.setIframeHeight(0, true, {maxHeight: 300})"
            ]
          },
          "metadata": {}
        },
        {
          "output_type": "stream",
          "name": "stdout",
          "text": [
            "Epoch 1/40\n",
            "25/25 [==============================] - 3s 84ms/step - loss: 1.4426 - accuracy: 0.5038 - val_loss: 1.1423 - val_accuracy: 0.5500\n",
            "Epoch 2/40\n",
            "25/25 [==============================] - 2s 76ms/step - loss: 0.7927 - accuracy: 0.5850 - val_loss: 1.1069 - val_accuracy: 0.5600\n",
            "Epoch 3/40\n",
            "25/25 [==============================] - 2s 76ms/step - loss: 0.7256 - accuracy: 0.6388 - val_loss: 1.1837 - val_accuracy: 0.5300\n",
            "Epoch 4/40\n",
            "25/25 [==============================] - 2s 76ms/step - loss: 0.6799 - accuracy: 0.6575 - val_loss: 0.9005 - val_accuracy: 0.5600\n",
            "Epoch 5/40\n",
            "25/25 [==============================] - 2s 77ms/step - loss: 0.6046 - accuracy: 0.6825 - val_loss: 0.8916 - val_accuracy: 0.5500\n",
            "Epoch 6/40\n",
            "25/25 [==============================] - 2s 76ms/step - loss: 0.5829 - accuracy: 0.7175 - val_loss: 0.8820 - val_accuracy: 0.5450\n",
            "Epoch 7/40\n",
            "25/25 [==============================] - 2s 76ms/step - loss: 0.5567 - accuracy: 0.7237 - val_loss: 0.6792 - val_accuracy: 0.5900\n",
            "Epoch 8/40\n",
            "25/25 [==============================] - 2s 75ms/step - loss: 0.5056 - accuracy: 0.7525 - val_loss: 0.6621 - val_accuracy: 0.6250\n",
            "Epoch 9/40\n",
            "25/25 [==============================] - 2s 76ms/step - loss: 0.5467 - accuracy: 0.7200 - val_loss: 0.6213 - val_accuracy: 0.6500\n",
            "Epoch 10/40\n",
            "25/25 [==============================] - 2s 75ms/step - loss: 0.4478 - accuracy: 0.7975 - val_loss: 0.9612 - val_accuracy: 0.5700\n",
            "Epoch 11/40\n",
            "25/25 [==============================] - 2s 76ms/step - loss: 0.4634 - accuracy: 0.7875 - val_loss: 0.6601 - val_accuracy: 0.6250\n",
            "Epoch 12/40\n",
            "25/25 [==============================] - 2s 75ms/step - loss: 0.4408 - accuracy: 0.7912 - val_loss: 0.6330 - val_accuracy: 0.6650\n",
            "Epoch 13/40\n",
            "25/25 [==============================] - 2s 75ms/step - loss: 0.4137 - accuracy: 0.8100 - val_loss: 0.6572 - val_accuracy: 0.6500\n",
            "Epoch 14/40\n",
            "25/25 [==============================] - 2s 76ms/step - loss: 0.3911 - accuracy: 0.8325 - val_loss: 0.6103 - val_accuracy: 0.6900\n",
            "Epoch 15/40\n",
            "25/25 [==============================] - 2s 76ms/step - loss: 0.3731 - accuracy: 0.8562 - val_loss: 0.6499 - val_accuracy: 0.6600\n",
            "Epoch 16/40\n",
            "25/25 [==============================] - 2s 75ms/step - loss: 0.3551 - accuracy: 0.8550 - val_loss: 0.7051 - val_accuracy: 0.6550\n",
            "Epoch 17/40\n",
            "25/25 [==============================] - 2s 76ms/step - loss: 0.3740 - accuracy: 0.8500 - val_loss: 0.6510 - val_accuracy: 0.6400\n",
            "Epoch 18/40\n",
            "25/25 [==============================] - 2s 76ms/step - loss: 0.3491 - accuracy: 0.8637 - val_loss: 0.6464 - val_accuracy: 0.6300\n",
            "Epoch 19/40\n",
            "25/25 [==============================] - 2s 77ms/step - loss: 0.3083 - accuracy: 0.8825 - val_loss: 0.6256 - val_accuracy: 0.6950\n",
            "Epoch 20/40\n",
            "25/25 [==============================] - 2s 76ms/step - loss: 0.3117 - accuracy: 0.8900 - val_loss: 0.6195 - val_accuracy: 0.6800\n",
            "Epoch 21/40\n",
            "25/25 [==============================] - 2s 76ms/step - loss: 0.3263 - accuracy: 0.8575 - val_loss: 0.6880 - val_accuracy: 0.6400\n",
            "Epoch 22/40\n",
            "25/25 [==============================] - 2s 77ms/step - loss: 0.2779 - accuracy: 0.9025 - val_loss: 0.6353 - val_accuracy: 0.6650\n",
            "Epoch 23/40\n",
            "25/25 [==============================] - 2s 78ms/step - loss: 0.2824 - accuracy: 0.8925 - val_loss: 0.7296 - val_accuracy: 0.6250\n",
            "Epoch 24/40\n",
            "25/25 [==============================] - 2s 77ms/step - loss: 0.2748 - accuracy: 0.9000 - val_loss: 0.7355 - val_accuracy: 0.6300\n",
            "Epoch 25/40\n",
            "25/25 [==============================] - 2s 76ms/step - loss: 0.3224 - accuracy: 0.8750 - val_loss: 0.6215 - val_accuracy: 0.7050\n",
            "Epoch 26/40\n",
            "25/25 [==============================] - 2s 76ms/step - loss: 0.2605 - accuracy: 0.9162 - val_loss: 0.9274 - val_accuracy: 0.6100\n",
            "Epoch 27/40\n",
            "25/25 [==============================] - 2s 77ms/step - loss: 0.2542 - accuracy: 0.9100 - val_loss: 0.7641 - val_accuracy: 0.6250\n",
            "Epoch 28/40\n",
            "25/25 [==============================] - 2s 76ms/step - loss: 0.2665 - accuracy: 0.9050 - val_loss: 0.9800 - val_accuracy: 0.5850\n",
            "Epoch 29/40\n",
            "25/25 [==============================] - 2s 76ms/step - loss: 0.2285 - accuracy: 0.9300 - val_loss: 0.7394 - val_accuracy: 0.6000\n",
            "Epoch 30/40\n",
            "25/25 [==============================] - 2s 76ms/step - loss: 0.2602 - accuracy: 0.8988 - val_loss: 0.8242 - val_accuracy: 0.6250\n",
            "Epoch 31/40\n",
            "25/25 [==============================] - 2s 76ms/step - loss: 0.2283 - accuracy: 0.9237 - val_loss: 0.6941 - val_accuracy: 0.6650\n",
            "Epoch 32/40\n",
            "25/25 [==============================] - 2s 77ms/step - loss: 0.2227 - accuracy: 0.9287 - val_loss: 0.8259 - val_accuracy: 0.5900\n",
            "Epoch 33/40\n",
            "25/25 [==============================] - 2s 77ms/step - loss: 0.2151 - accuracy: 0.9425 - val_loss: 0.7009 - val_accuracy: 0.6900\n",
            "Epoch 34/40\n",
            "25/25 [==============================] - 2s 76ms/step - loss: 0.1954 - accuracy: 0.9275 - val_loss: 0.6934 - val_accuracy: 0.6700\n",
            "Epoch 35/40\n",
            "25/25 [==============================] - 2s 76ms/step - loss: 0.2083 - accuracy: 0.9375 - val_loss: 0.6800 - val_accuracy: 0.6400\n",
            "Epoch 36/40\n",
            "25/25 [==============================] - 2s 77ms/step - loss: 0.1898 - accuracy: 0.9438 - val_loss: 0.7788 - val_accuracy: 0.6300\n",
            "Epoch 37/40\n",
            "25/25 [==============================] - 2s 75ms/step - loss: 0.2309 - accuracy: 0.9137 - val_loss: 0.6527 - val_accuracy: 0.6950\n",
            "Epoch 38/40\n",
            "25/25 [==============================] - 2s 76ms/step - loss: 0.1860 - accuracy: 0.9400 - val_loss: 0.6707 - val_accuracy: 0.6800\n",
            "Epoch 39/40\n",
            "25/25 [==============================] - 2s 76ms/step - loss: 0.1763 - accuracy: 0.9438 - val_loss: 0.7962 - val_accuracy: 0.6650\n",
            "Epoch 40/40\n",
            "25/25 [==============================] - 2s 77ms/step - loss: 0.1699 - accuracy: 0.9613 - val_loss: 0.8160 - val_accuracy: 0.5950\n"
          ]
        }
      ]
    },
    {
      "cell_type": "code",
      "source": [
        "# VISUALIZZIAMO NUOVAMENTE L'OUTPUT\n",
        "plt.plot(history.history['accuracy'])\n",
        "plt.plot(history.history['val_accuracy'])\n",
        "plt.ylim([0.5, 1.0]) # 0.5 è il minimo sindacale - dummy classifier fa 50% - fino al massimo 1.\n",
        "plt.xlabel('Epoch')\n",
        "plt.ylabel('Accuracy')\n",
        "plt.legend(['train', 'val'])"
      ],
      "metadata": {
        "colab": {
          "base_uri": "https://localhost:8080/",
          "height": 300
        },
        "id": "QuOY6rZQpDD7",
        "outputId": "e8a78d34-3811-436f-af37-4e9fcabf1e06"
      },
      "execution_count": 16,
      "outputs": [
        {
          "output_type": "display_data",
          "data": {
            "text/plain": [
              "<IPython.core.display.Javascript object>"
            ],
            "application/javascript": [
              "google.colab.output.setIframeHeight(0, true, {maxHeight: 300})"
            ]
          },
          "metadata": {}
        },
        {
          "output_type": "display_data",
          "data": {
            "text/plain": [
              "<IPython.core.display.Javascript object>"
            ],
            "application/javascript": [
              "google.colab.output.setIframeHeight(0, true, {maxHeight: 300})"
            ]
          },
          "metadata": {}
        },
        {
          "output_type": "execute_result",
          "data": {
            "text/plain": [
              "<matplotlib.legend.Legend at 0x7fe06a176b10>"
            ]
          },
          "metadata": {},
          "execution_count": 16
        },
        {
          "output_type": "display_data",
          "data": {
            "text/plain": [
              "<Figure size 432x288 with 1 Axes>"
            ],
            "image/png": "[encoded data removed]"
          },
          "metadata": {
            "needs_background": "light"
          }
        }
      ]
    },
    {
      "cell_type": "markdown",
      "source": [
        "Idea della batch normalization: standardizza i dati per il livello successivo. I dati di partenza nella variabile inputs si trovano tra 0 e 255 o tra 0 e 1 a seconda di come è trattato l'input. Nel momento in cui applichiamo una convoluzione 2D coon dei filtri inizializzati con valori randomici è difficile prevedere che valore (range) avrà l'output e più si va a fondo di una rete neurale è più è imprevedibile sapere che range di valori hanno le attivazioni (le attivazioni sono gli output dei layers). Per alcuni livelli neurali questo può essere un problema: la batch normalization si occupa di riportare i dati sempre in un stesso range (non è un range specifico). Quello che fa è portare la media del training set a 0 e la std del training set a 1. Questa normalizzazione permette di migliorare l'apprendimento dei layer successivi. E' una forma di regolarizzazione. \n",
        "\n",
        "Il miglioramento ci fa arrivare al 65% anche se non ci fa impazzire.\n",
        "Avendo fatto un passo per combattere l'overfitting (accuracy sul training elevata, mentre l'accuracy sul validation bassa), proviamo ad aumentare la complessità della rete, facendola più profonda (128 neuroni - quello che vogliamo fare approfondendo la rete è di diminuire la dimensione spaziale, cosa fatta col Max Pooling e allo stesso tempo aumentare la profondità dei canali, da 32 a 64 a 128).\n",
        "\n",
        "Riprendiamo il codice della rete precedente e aggiungiamo un altro blocco di convolution, batch, activation e Max Pooling."
      ],
      "metadata": {
        "id": "1R9yW6s9pcx5"
      }
    },
    {
      "cell_type": "code",
      "source": [
        "# NUOVA ARCHITETTURA CON UN \"BLOCCO\" AGGIUNTIVO\n",
        "\n",
        "inputs = keras.Input((224, 224, 3)) # 224 rows, 224 columns, 3 RGB channels\n",
        "\n",
        "x = inputs\n",
        "x = keras.layers.Conv2D(32, 3, padding='same')(x)\n",
        "# AGGIUNGI BATCH NORMALIZATION LAYER\n",
        "x = keras.layers.BatchNormalization()(x)\n",
        "x = keras.layers.Activation('relu')(x)\n",
        "x = keras.layers.MaxPooling2D(3, strides=3, padding='same')(x) \n",
        "\n",
        "x = keras.layers.Conv2D(64, 3, padding = 'same')(x)\n",
        "# AGGIUNGI BATCH NORMALIZATION LAYER\n",
        "x = keras.layers.BatchNormalization()(x)\n",
        "x = keras.layers.Activation('relu')(x)\n",
        "# QUI AGGIUNGIAMO UN MAX POOLING ANCHE IN QUESTO BLOCCO\n",
        "x = keras.layers.MaxPooling2D(3, strides=3, padding='same')(x) \n",
        "\n",
        "x = keras.layers.Conv2D(128, 3, padding = 'same')(x)\n",
        "# AGGIUNGI BATCH NORMALIZATION LAYER\n",
        "x = keras.layers.BatchNormalization()(x)\n",
        "x = keras.layers.Activation('relu')(x)\n",
        "\n",
        "x = keras.layers.GlobalMaxPooling2D()(x)\n",
        "\n",
        "outputs = keras.layers.Dense(num_classes, activation='softmax')(x)\n",
        "\n",
        "net = keras.Model(inputs, outputs)"
      ],
      "metadata": {
        "id": "w9Hgd1XKpJQO",
        "colab": {
          "base_uri": "https://localhost:8080/",
          "height": 17
        },
        "outputId": "1ab3cf9c-5ccc-43a0-d5c4-ca2f70762021"
      },
      "execution_count": 17,
      "outputs": [
        {
          "output_type": "display_data",
          "data": {
            "text/plain": [
              "<IPython.core.display.Javascript object>"
            ],
            "application/javascript": [
              "google.colab.output.setIframeHeight(0, true, {maxHeight: 300})"
            ]
          },
          "metadata": {}
        },
        {
          "output_type": "display_data",
          "data": {
            "text/plain": [
              "<IPython.core.display.Javascript object>"
            ],
            "application/javascript": [
              "google.colab.output.setIframeHeight(0, true, {maxHeight: 300})"
            ]
          },
          "metadata": {}
        }
      ]
    },
    {
      "cell_type": "code",
      "source": [
        "# RICOOMPILIAMO\n",
        "net.compile(loss=keras.losses.categorical_crossentropy,\n",
        "            optimizer= keras.optimizers.RMSprop(learning_rate=0.001),\n",
        "            metrics=['accuracy'])"
      ],
      "metadata": {
        "colab": {
          "base_uri": "https://localhost:8080/",
          "height": 17
        },
        "id": "fDSzZP0yb3iS",
        "outputId": "fd18728e-bcbb-4073-8f7f-8b3902cc7e9c"
      },
      "execution_count": 18,
      "outputs": [
        {
          "output_type": "display_data",
          "data": {
            "text/plain": [
              "<IPython.core.display.Javascript object>"
            ],
            "application/javascript": [
              "google.colab.output.setIframeHeight(0, true, {maxHeight: 300})"
            ]
          },
          "metadata": {}
        },
        {
          "output_type": "display_data",
          "data": {
            "text/plain": [
              "<IPython.core.display.Javascript object>"
            ],
            "application/javascript": [
              "google.colab.output.setIframeHeight(0, true, {maxHeight: 300})"
            ]
          },
          "metadata": {}
        }
      ]
    },
    {
      "cell_type": "code",
      "source": [
        "# RIFITTIAMO\n",
        "history = net.fit(train_dataset, epochs=40, validation_data = val_dataset)"
      ],
      "metadata": {
        "colab": {
          "base_uri": "https://localhost:8080/",
          "height": 300
        },
        "id": "4_tymiz9b6NX",
        "outputId": "59599e35-6685-4d1e-fd80-63c9b9c60f9f"
      },
      "execution_count": 19,
      "outputs": [
        {
          "output_type": "display_data",
          "data": {
            "text/plain": [
              "<IPython.core.display.Javascript object>"
            ],
            "application/javascript": [
              "google.colab.output.setIframeHeight(0, true, {maxHeight: 300})"
            ]
          },
          "metadata": {}
        },
        {
          "output_type": "display_data",
          "data": {
            "text/plain": [
              "<IPython.core.display.Javascript object>"
            ],
            "application/javascript": [
              "google.colab.output.setIframeHeight(0, true, {maxHeight: 300})"
            ]
          },
          "metadata": {}
        },
        {
          "output_type": "stream",
          "name": "stdout",
          "text": [
            "Epoch 1/40\n",
            "25/25 [==============================] - 3s 85ms/step - loss: 1.2536 - accuracy: 0.5325 - val_loss: 0.7050 - val_accuracy: 0.5950\n",
            "Epoch 2/40\n",
            "25/25 [==============================] - 2s 79ms/step - loss: 0.6125 - accuracy: 0.6825 - val_loss: 1.3880 - val_accuracy: 0.4850\n",
            "Epoch 3/40\n",
            "25/25 [==============================] - 2s 77ms/step - loss: 0.5888 - accuracy: 0.7138 - val_loss: 1.0645 - val_accuracy: 0.5100\n",
            "Epoch 4/40\n",
            "25/25 [==============================] - 2s 78ms/step - loss: 0.4811 - accuracy: 0.7837 - val_loss: 1.1191 - val_accuracy: 0.5150\n",
            "Epoch 5/40\n",
            "25/25 [==============================] - 2s 77ms/step - loss: 0.4010 - accuracy: 0.8188 - val_loss: 0.9738 - val_accuracy: 0.5400\n",
            "Epoch 6/40\n",
            "25/25 [==============================] - 2s 77ms/step - loss: 0.3662 - accuracy: 0.8625 - val_loss: 0.6030 - val_accuracy: 0.7150\n",
            "Epoch 7/40\n",
            "25/25 [==============================] - 2s 77ms/step - loss: 0.3541 - accuracy: 0.8500 - val_loss: 0.5829 - val_accuracy: 0.7300\n",
            "Epoch 8/40\n",
            "25/25 [==============================] - 2s 77ms/step - loss: 0.2988 - accuracy: 0.8963 - val_loss: 0.5933 - val_accuracy: 0.7050\n",
            "Epoch 9/40\n",
            "25/25 [==============================] - 2s 78ms/step - loss: 0.2725 - accuracy: 0.8875 - val_loss: 0.5387 - val_accuracy: 0.7550\n",
            "Epoch 10/40\n",
            "25/25 [==============================] - 2s 76ms/step - loss: 0.2110 - accuracy: 0.9287 - val_loss: 0.6016 - val_accuracy: 0.7450\n",
            "Epoch 11/40\n",
            "25/25 [==============================] - 2s 78ms/step - loss: 0.1971 - accuracy: 0.9312 - val_loss: 0.5412 - val_accuracy: 0.7650\n",
            "Epoch 12/40\n",
            "25/25 [==============================] - 2s 78ms/step - loss: 0.1923 - accuracy: 0.9312 - val_loss: 0.9041 - val_accuracy: 0.6000\n",
            "Epoch 13/40\n",
            "25/25 [==============================] - 2s 77ms/step - loss: 0.1065 - accuracy: 0.9850 - val_loss: 0.5637 - val_accuracy: 0.7050\n",
            "Epoch 14/40\n",
            "25/25 [==============================] - 2s 77ms/step - loss: 0.1265 - accuracy: 0.9625 - val_loss: 0.7263 - val_accuracy: 0.6700\n",
            "Epoch 15/40\n",
            "25/25 [==============================] - 2s 78ms/step - loss: 0.1718 - accuracy: 0.9388 - val_loss: 0.6024 - val_accuracy: 0.7100\n",
            "Epoch 16/40\n",
            "25/25 [==============================] - 2s 78ms/step - loss: 0.0688 - accuracy: 0.9925 - val_loss: 1.0306 - val_accuracy: 0.5700\n",
            "Epoch 17/40\n",
            "25/25 [==============================] - 2s 78ms/step - loss: 0.1032 - accuracy: 0.9775 - val_loss: 0.7970 - val_accuracy: 0.6650\n",
            "Epoch 18/40\n",
            "25/25 [==============================] - 2s 78ms/step - loss: 0.1132 - accuracy: 0.9650 - val_loss: 0.6196 - val_accuracy: 0.7200\n",
            "Epoch 19/40\n",
            "25/25 [==============================] - 2s 77ms/step - loss: 0.0534 - accuracy: 0.9950 - val_loss: 0.6589 - val_accuracy: 0.6950\n",
            "Epoch 20/40\n",
            "25/25 [==============================] - 2s 77ms/step - loss: 0.1088 - accuracy: 0.9613 - val_loss: 0.7977 - val_accuracy: 0.6650\n",
            "Epoch 21/40\n",
            "25/25 [==============================] - 2s 78ms/step - loss: 0.0256 - accuracy: 1.0000 - val_loss: 0.5306 - val_accuracy: 0.7950\n",
            "Epoch 22/40\n",
            "25/25 [==============================] - 2s 78ms/step - loss: 0.0695 - accuracy: 0.9800 - val_loss: 0.5395 - val_accuracy: 0.7850\n",
            "Epoch 23/40\n",
            "25/25 [==============================] - 2s 79ms/step - loss: 0.0548 - accuracy: 0.9887 - val_loss: 0.7535 - val_accuracy: 0.6850\n",
            "Epoch 24/40\n",
            "25/25 [==============================] - 2s 79ms/step - loss: 0.0202 - accuracy: 1.0000 - val_loss: 0.5866 - val_accuracy: 0.7550\n",
            "Epoch 25/40\n",
            "25/25 [==============================] - 2s 79ms/step - loss: 0.0799 - accuracy: 0.9725 - val_loss: 0.8409 - val_accuracy: 0.6650\n",
            "Epoch 26/40\n",
            "25/25 [==============================] - 2s 79ms/step - loss: 0.0413 - accuracy: 0.9900 - val_loss: 1.4006 - val_accuracy: 0.5550\n",
            "Epoch 27/40\n",
            "25/25 [==============================] - 2s 78ms/step - loss: 0.0390 - accuracy: 0.9900 - val_loss: 0.5261 - val_accuracy: 0.7900\n",
            "Epoch 28/40\n",
            "25/25 [==============================] - 2s 79ms/step - loss: 0.0502 - accuracy: 0.9850 - val_loss: 0.5150 - val_accuracy: 0.7900\n",
            "Epoch 29/40\n",
            "25/25 [==============================] - 2s 78ms/step - loss: 0.0116 - accuracy: 1.0000 - val_loss: 0.5362 - val_accuracy: 0.8200\n",
            "Epoch 30/40\n",
            "25/25 [==============================] - 2s 80ms/step - loss: 0.0492 - accuracy: 0.9837 - val_loss: 0.7326 - val_accuracy: 0.6950\n",
            "Epoch 31/40\n",
            "25/25 [==============================] - 2s 79ms/step - loss: 0.0376 - accuracy: 0.9875 - val_loss: 0.6798 - val_accuracy: 0.7300\n",
            "Epoch 32/40\n",
            "25/25 [==============================] - 2s 78ms/step - loss: 0.0144 - accuracy: 1.0000 - val_loss: 0.5535 - val_accuracy: 0.7800\n",
            "Epoch 33/40\n",
            "25/25 [==============================] - 2s 79ms/step - loss: 0.0527 - accuracy: 0.9812 - val_loss: 4.2155 - val_accuracy: 0.5150\n",
            "Epoch 34/40\n",
            "25/25 [==============================] - 2s 80ms/step - loss: 0.0456 - accuracy: 0.9887 - val_loss: 0.5468 - val_accuracy: 0.8050\n",
            "Epoch 35/40\n",
            "25/25 [==============================] - 2s 79ms/step - loss: 0.0059 - accuracy: 1.0000 - val_loss: 0.6167 - val_accuracy: 0.7550\n",
            "Epoch 36/40\n",
            "25/25 [==============================] - 2s 78ms/step - loss: 0.0464 - accuracy: 0.9850 - val_loss: 0.5702 - val_accuracy: 0.7750\n",
            "Epoch 37/40\n",
            "25/25 [==============================] - 2s 79ms/step - loss: 0.0072 - accuracy: 1.0000 - val_loss: 0.8234 - val_accuracy: 0.6850\n",
            "Epoch 38/40\n",
            "25/25 [==============================] - 2s 79ms/step - loss: 0.0727 - accuracy: 0.9825 - val_loss: 0.6027 - val_accuracy: 0.7550\n",
            "Epoch 39/40\n",
            "25/25 [==============================] - 2s 78ms/step - loss: 0.0062 - accuracy: 1.0000 - val_loss: 0.7377 - val_accuracy: 0.7050\n",
            "Epoch 40/40\n",
            "25/25 [==============================] - 2s 79ms/step - loss: 0.0092 - accuracy: 0.9987 - val_loss: 1.1927 - val_accuracy: 0.6350\n"
          ]
        }
      ]
    },
    {
      "cell_type": "code",
      "source": [
        "# VISUALIZZIAMO NUOVAMENTE L'OUTPUT\n",
        "plt.plot(history.history['accuracy'])\n",
        "plt.plot(history.history['val_accuracy'])\n",
        "plt.ylim([0.5, 1.0]) # 0.5 è il minimo sindacale - dummy classifier fa 50% - fino al massimo 1.\n",
        "plt.xlabel('Epoch')\n",
        "plt.ylabel('Accuracy')\n",
        "plt.legend(['train', 'val'])"
      ],
      "metadata": {
        "colab": {
          "base_uri": "https://localhost:8080/",
          "height": 300
        },
        "id": "GnYDpUlsb8tC",
        "outputId": "24bd1505-30f8-45cf-8912-6143cd8350f4"
      },
      "execution_count": 20,
      "outputs": [
        {
          "output_type": "display_data",
          "data": {
            "text/plain": [
              "<IPython.core.display.Javascript object>"
            ],
            "application/javascript": [
              "google.colab.output.setIframeHeight(0, true, {maxHeight: 300})"
            ]
          },
          "metadata": {}
        },
        {
          "output_type": "display_data",
          "data": {
            "text/plain": [
              "<IPython.core.display.Javascript object>"
            ],
            "application/javascript": [
              "google.colab.output.setIframeHeight(0, true, {maxHeight: 300})"
            ]
          },
          "metadata": {}
        },
        {
          "output_type": "execute_result",
          "data": {
            "text/plain": [
              "<matplotlib.legend.Legend at 0x7fe0515f2510>"
            ]
          },
          "metadata": {},
          "execution_count": 20
        },
        {
          "output_type": "display_data",
          "data": {
            "text/plain": [
              "<Figure size 432x288 with 1 Axes>"
            ],
            "image/png": "[encoded data removed]"
          },
          "metadata": {
            "needs_background": "light"
          }
        }
      ]
    },
    {
      "cell_type": "markdown",
      "source": [
        "## Nel notebook della lezione sono presenti altri passaggi che non sono stati visti a lezione ma che potrebbero essere importanti da guardare anche in vista del progetto!\n",
        "\n",
        "Per ora visualizziamo l'architettura che abbiamo definito: sarebbe utile avere una sorta di report dell'architettura definita anche per fare una sorta di debug dell'architettura definita."
      ],
      "metadata": {
        "id": "zLyQy4zLcQ1i"
      }
    },
    {
      "cell_type": "code",
      "source": [
        "# IN QUESTO CASO NON è MOLTO SIGNIFICATIVO PERCHé L'ARCHITETTURA\n",
        "# E' SEQUENZIALE: ABBIAMO UN LAYER SEGUITO DA UN ALTRO LAYER ETC.\n",
        "keras.utils.plot_model(net)"
      ],
      "metadata": {
        "colab": {
          "base_uri": "https://localhost:8080/",
          "height": 300
        },
        "id": "Kk3VTxs6b9_Q",
        "outputId": "4e491551-dbcc-4b85-f802-99321871f11c"
      },
      "execution_count": 21,
      "outputs": [
        {
          "output_type": "display_data",
          "data": {
            "text/plain": [
              "<IPython.core.display.Javascript object>"
            ],
            "application/javascript": [
              "google.colab.output.setIframeHeight(0, true, {maxHeight: 300})"
            ]
          },
          "metadata": {}
        },
        {
          "output_type": "display_data",
          "data": {
            "text/plain": [
              "<IPython.core.display.Javascript object>"
            ],
            "application/javascript": [
              "google.colab.output.setIframeHeight(0, true, {maxHeight: 300})"
            ]
          },
          "metadata": {}
        },
        {
          "output_type": "execute_result",
          "data": {
            "image/png": "[encoded data removed]",
            "text/plain": [
              "<IPython.core.display.Image object>"
            ]
          },
          "metadata": {},
          "execution_count": 21
        }
      ]
    },
    {
      "cell_type": "code",
      "source": [
        "# TABELLA UTILE PER LA DIMENSIONE DELLE ATTIVAZIONI E SUL \n",
        "# NUMERO DI PARAMETRI. PER CIASCUN LAYER CI DICE QUANTO ERA GRANDE\n",
        "# \n",
        "net.summary()"
      ],
      "metadata": {
        "colab": {
          "base_uri": "https://localhost:8080/",
          "height": 300
        },
        "id": "20O0tXYwcndn",
        "outputId": "aff0c3e3-9b41-4f08-ec7f-148b037b7ff2"
      },
      "execution_count": 22,
      "outputs": [
        {
          "output_type": "display_data",
          "data": {
            "text/plain": [
              "<IPython.core.display.Javascript object>"
            ],
            "application/javascript": [
              "google.colab.output.setIframeHeight(0, true, {maxHeight: 300})"
            ]
          },
          "metadata": {}
        },
        {
          "output_type": "display_data",
          "data": {
            "text/plain": [
              "<IPython.core.display.Javascript object>"
            ],
            "application/javascript": [
              "google.colab.output.setIframeHeight(0, true, {maxHeight: 300})"
            ]
          },
          "metadata": {}
        },
        {
          "output_type": "stream",
          "name": "stdout",
          "text": [
            "Model: \"model_2\"\n",
            "_________________________________________________________________\n",
            " Layer (type)                Output Shape              Param #   \n",
            "=================================================================\n",
            " input_3 (InputLayer)        [(None, 224, 224, 3)]     0         \n",
            "                                                                 \n",
            " conv2d_4 (Conv2D)           (None, 224, 224, 32)      896       \n",
            "                                                                 \n",
            " batch_normalization_2 (Batc  (None, 224, 224, 32)     128       \n",
            " hNormalization)                                                 \n",
            "                                                                 \n",
            " activation_4 (Activation)   (None, 224, 224, 32)      0         \n",
            "                                                                 \n",
            " max_pooling2d_2 (MaxPooling  (None, 75, 75, 32)       0         \n",
            " 2D)                                                             \n",
            "                                                                 \n",
            " conv2d_5 (Conv2D)           (None, 75, 75, 64)        18496     \n",
            "                                                                 \n",
            " batch_normalization_3 (Batc  (None, 75, 75, 64)       256       \n",
            " hNormalization)                                                 \n",
            "                                                                 \n",
            " activation_5 (Activation)   (None, 75, 75, 64)        0         \n",
            "                                                                 \n",
            " max_pooling2d_3 (MaxPooling  (None, 25, 25, 64)       0         \n",
            " 2D)                                                             \n",
            "                                                                 \n",
            " conv2d_6 (Conv2D)           (None, 25, 25, 128)       73856     \n",
            "                                                                 \n",
            " batch_normalization_4 (Batc  (None, 25, 25, 128)      512       \n",
            " hNormalization)                                                 \n",
            "                                                                 \n",
            " activation_6 (Activation)   (None, 25, 25, 128)       0         \n",
            "                                                                 \n",
            " global_max_pooling2d_2 (Glo  (None, 128)              0         \n",
            " balMaxPooling2D)                                                \n",
            "                                                                 \n",
            " dense_2 (Dense)             (None, 2)                 258       \n",
            "                                                                 \n",
            "=================================================================\n",
            "Total params: 94,402\n",
            "Trainable params: 93,954\n",
            "Non-trainable params: 448\n",
            "_________________________________________________________________\n"
          ]
        }
      ]
    },
    {
      "cell_type": "markdown",
      "source": [
        "Fin'ora abbiamo sempre visto l'accuracy, ovvero numero di immagini classificate correttamente. Ora visualizziamo la loss function. Se l'accuracy la vogliamo massimizzare (è una metrica, la vediamo post ma non influenza l'addestramento), la loss è invece quello che vogliamo utilizzare per guidare l'addestramento ed è qualcosa che vogliamo minimizzare: più è basso il valore è meglio è. Per il problema di classificazione la loss dice quanto la celletta con i valori di probabilità della classe che era attesa è effettivamente vicina ad 1: se molto vicino, la loss è bassa e stiamo andando bene, se molto lontano da 1 la loss è alta e stiamo andando male, calcolata per tutto il dataset.\n",
        "\n"
      ],
      "metadata": {
        "id": "5P06m7rceETd"
      }
    },
    {
      "cell_type": "code",
      "source": [
        "# VISUALIZZIAMO NUOVAMENTE L'OUTPUT\n",
        "plt.plot(history.history['loss'])\n",
        "plt.plot(history.history['val_loss'])\n",
        "plt.ylim([0.0, 5]) # è difficile da dire a priori\n",
        "plt.xlabel('Epoch')\n",
        "plt.ylabel('Loss')\n",
        "plt.legend(['train', 'val'])"
      ],
      "metadata": {
        "colab": {
          "base_uri": "https://localhost:8080/",
          "height": 300
        },
        "id": "SoH2WXGSdN_4",
        "outputId": "7c3b65d8-fddd-49e2-d00b-f36da0346a96"
      },
      "execution_count": 25,
      "outputs": [
        {
          "output_type": "display_data",
          "data": {
            "text/plain": [
              "<IPython.core.display.Javascript object>"
            ],
            "application/javascript": [
              "google.colab.output.setIframeHeight(0, true, {maxHeight: 300})"
            ]
          },
          "metadata": {}
        },
        {
          "output_type": "display_data",
          "data": {
            "text/plain": [
              "<IPython.core.display.Javascript object>"
            ],
            "application/javascript": [
              "google.colab.output.setIframeHeight(0, true, {maxHeight: 300})"
            ]
          },
          "metadata": {}
        },
        {
          "output_type": "execute_result",
          "data": {
            "text/plain": [
              "<matplotlib.legend.Legend at 0x7fe052f3c1d0>"
            ]
          },
          "metadata": {},
          "execution_count": 25
        },
        {
          "output_type": "display_data",
          "data": {
            "text/plain": [
              "<Figure size 432x288 with 1 Axes>"
            ],
            "image/png": "[encoded data removed]"
          },
          "metadata": {
            "needs_background": "light"
          }
        }
      ]
    },
    {
      "cell_type": "markdown",
      "source": [
        "Epoche di training: fare prove, a seconda dei risultati dell'addestramento, per vedere quale sia il valore migliore di epoche. Si può implementare una procedura per dire, per esempio, che se l'algoritmo vede che la curva di validation smette di decrescere per 5 epoche consecutive, allora interrompimi l'addestramento. Questa è l'idea alla base dell'_EARLY STOPPING_."
      ],
      "metadata": {
        "id": "xtdbmgtWsoia"
      }
    },
    {
      "cell_type": "code",
      "source": [
        "# IN GENERALE UNA CALLBACK è UN CONCETTO CHE PRESCINDE IL DEEP LEARNING\n",
        "# E IL FATTO CHE SIAMO IN PYTHON. E' UNA FUNZIONE CHE DEFINIAMO PER INNESCARE\n",
        "# UNA SERIE DI ISTRUZIONI OGNI VOLTA CHE VIENE INNESCATO UN CERTO EVENTO. \n",
        "# NEL CASO SPECIFICO, OGNI VOLTA CHE L'EVENTO \"TERMINIAMO UNA EPOCA DI ADDESTRAMENTO\"\n",
        "# ESEGUI QUESTA OPERAZIONE: QUESTA OPERAZIONE GIà FORNITA DA KERAS CONTROLLA\n",
        "# UNO DEI VALORI ALL'INTERNO HISTORY E, NELLO SPECIFICO, VAL_LOSS, CIOè LA CURVA\n",
        "# ARANCIONE E GLI STIAMO DICENDO \"SE PER 5 EPOCHE DI FILA NON CI SONO MIGLIORAMENTI\",\n",
        "# NON DECRESCE, CON UNA CERTA TOLLERANZA CHE SI PUò ANCHE SPECIFICARE, ALLORA\n",
        "# MANDA UN SEGNALE A FIT E DIGLI DI INTERROMPERSI!\n",
        "callback = keras.callbacks.EarlyStopping(monitor=\"val_loss\", patience=5)"
      ],
      "metadata": {
        "id": "ia4JskZ-e8Vz",
        "colab": {
          "base_uri": "https://localhost:8080/",
          "height": 17
        },
        "outputId": "40887fb0-71bc-4e6b-c365-b3a4d0b235e1"
      },
      "execution_count": 28,
      "outputs": [
        {
          "output_type": "display_data",
          "data": {
            "text/plain": [
              "<IPython.core.display.Javascript object>"
            ],
            "application/javascript": [
              "google.colab.output.setIframeHeight(0, true, {maxHeight: 300})"
            ]
          },
          "metadata": {}
        },
        {
          "output_type": "display_data",
          "data": {
            "text/plain": [
              "<IPython.core.display.Javascript object>"
            ],
            "application/javascript": [
              "google.colab.output.setIframeHeight(0, true, {maxHeight: 300})"
            ]
          },
          "metadata": {}
        }
      ]
    },
    {
      "cell_type": "code",
      "source": [
        "# PER IL RESTO RIDEFINIAMO LA NOSTRA RETE USANDO LE CELLE DEFINITE FINORA.\n",
        "# NUOVA ARCHITETTURA CON UN \"BLOCCO\" AGGIUNTIVO\n",
        "\n",
        "inputs = keras.Input((224, 224, 3)) # 224 rows, 224 columns, 3 RGB channels\n",
        "\n",
        "x = inputs\n",
        "x = keras.layers.Conv2D(32, 3, padding='same')(x)\n",
        "# AGGIUNGI BATCH NORMALIZATION LAYER\n",
        "x = keras.layers.BatchNormalization()(x)\n",
        "x = keras.layers.Activation('relu')(x)\n",
        "x = keras.layers.MaxPooling2D(3, strides=3, padding='same')(x) \n",
        "\n",
        "x = keras.layers.Conv2D(64, 3, padding = 'same')(x)\n",
        "# AGGIUNGI BATCH NORMALIZATION LAYER\n",
        "x = keras.layers.BatchNormalization()(x)\n",
        "x = keras.layers.Activation('relu')(x)\n",
        "# QUI AGGIUNGIAMO UN MAX POOLING ANCHE IN QUESTO BLOCCO\n",
        "x = keras.layers.MaxPooling2D(3, strides=3, padding='same')(x) \n",
        "\n",
        "x = keras.layers.Conv2D(128, 3, padding = 'same')(x)\n",
        "# AGGIUNGI BATCH NORMALIZATION LAYER\n",
        "x = keras.layers.BatchNormalization()(x)\n",
        "x = keras.layers.Activation('relu')(x)\n",
        "\n",
        "x = keras.layers.GlobalMaxPooling2D()(x)\n",
        "\n",
        "outputs = keras.layers.Dense(num_classes, activation='softmax')(x)\n",
        "\n",
        "net = keras.Model(inputs, outputs)"
      ],
      "metadata": {
        "colab": {
          "base_uri": "https://localhost:8080/",
          "height": 17
        },
        "id": "SUsryOE0uUrU",
        "outputId": "10afbd19-97a2-47a6-ccff-0f4274b0b073"
      },
      "execution_count": 29,
      "outputs": [
        {
          "output_type": "display_data",
          "data": {
            "text/plain": [
              "<IPython.core.display.Javascript object>"
            ],
            "application/javascript": [
              "google.colab.output.setIframeHeight(0, true, {maxHeight: 300})"
            ]
          },
          "metadata": {}
        },
        {
          "output_type": "display_data",
          "data": {
            "text/plain": [
              "<IPython.core.display.Javascript object>"
            ],
            "application/javascript": [
              "google.colab.output.setIframeHeight(0, true, {maxHeight: 300})"
            ]
          },
          "metadata": {}
        }
      ]
    },
    {
      "cell_type": "code",
      "source": [
        "# RICOOMPILIAMO\n",
        "net.compile(loss=keras.losses.categorical_crossentropy,\n",
        "            optimizer= keras.optimizers.RMSprop(learning_rate=0.001),\n",
        "            metrics=['accuracy'])"
      ],
      "metadata": {
        "colab": {
          "base_uri": "https://localhost:8080/",
          "height": 17
        },
        "id": "zrNOVtrtvNLV",
        "outputId": "fae0ea7a-052f-4e6d-c540-df24b4de73c7"
      },
      "execution_count": 30,
      "outputs": [
        {
          "output_type": "display_data",
          "data": {
            "text/plain": [
              "<IPython.core.display.Javascript object>"
            ],
            "application/javascript": [
              "google.colab.output.setIframeHeight(0, true, {maxHeight: 300})"
            ]
          },
          "metadata": {}
        },
        {
          "output_type": "display_data",
          "data": {
            "text/plain": [
              "<IPython.core.display.Javascript object>"
            ],
            "application/javascript": [
              "google.colab.output.setIframeHeight(0, true, {maxHeight: 300})"
            ]
          },
          "metadata": {}
        }
      ]
    },
    {
      "cell_type": "code",
      "source": [
        "# RIFITTIAMO\n",
        "history = net.fit(train_dataset, epochs=40, validation_data = val_dataset, callbacks = [callback])"
      ],
      "metadata": {
        "colab": {
          "base_uri": "https://localhost:8080/",
          "height": 260
        },
        "id": "awDE9kOYvWW4",
        "outputId": "23c1212a-2105-49a5-8cc1-cede0971af3a"
      },
      "execution_count": 31,
      "outputs": [
        {
          "output_type": "display_data",
          "data": {
            "text/plain": [
              "<IPython.core.display.Javascript object>"
            ],
            "application/javascript": [
              "google.colab.output.setIframeHeight(0, true, {maxHeight: 300})"
            ]
          },
          "metadata": {}
        },
        {
          "output_type": "display_data",
          "data": {
            "text/plain": [
              "<IPython.core.display.Javascript object>"
            ],
            "application/javascript": [
              "google.colab.output.setIframeHeight(0, true, {maxHeight: 300})"
            ]
          },
          "metadata": {}
        },
        {
          "output_type": "stream",
          "name": "stdout",
          "text": [
            "Epoch 1/40\n",
            "25/25 [==============================] - 4s 83ms/step - loss: 1.2165 - accuracy: 0.5700 - val_loss: 1.5981 - val_accuracy: 0.5150\n",
            "Epoch 2/40\n",
            "25/25 [==============================] - 2s 76ms/step - loss: 0.6949 - accuracy: 0.6575 - val_loss: 0.7696 - val_accuracy: 0.6000\n",
            "Epoch 3/40\n",
            "25/25 [==============================] - 2s 76ms/step - loss: 0.5858 - accuracy: 0.6825 - val_loss: 1.5204 - val_accuracy: 0.4900\n",
            "Epoch 4/40\n",
            "25/25 [==============================] - 2s 77ms/step - loss: 0.4550 - accuracy: 0.7975 - val_loss: 2.1816 - val_accuracy: 0.4850\n",
            "Epoch 5/40\n",
            "25/25 [==============================] - 2s 77ms/step - loss: 0.4210 - accuracy: 0.8188 - val_loss: 1.3355 - val_accuracy: 0.5150\n",
            "Epoch 6/40\n",
            "25/25 [==============================] - 2s 77ms/step - loss: 0.3404 - accuracy: 0.8475 - val_loss: 0.8928 - val_accuracy: 0.5750\n",
            "Epoch 7/40\n",
            "25/25 [==============================] - 2s 75ms/step - loss: 0.3632 - accuracy: 0.8462 - val_loss: 0.8399 - val_accuracy: 0.6150\n"
          ]
        }
      ]
    },
    {
      "cell_type": "code",
      "source": [
        "# VISUALIZZIAMO NUOVAMENTE L'OUTPUT\n",
        "plt.plot(history.history['loss'])\n",
        "plt.plot(history.history['val_loss'])\n",
        "plt.ylim([0.0, 3]) # è difficile da dire a priori\n",
        "plt.xlabel('Epoch')\n",
        "plt.ylabel('Loss')\n",
        "plt.legend(['train', 'val'])"
      ],
      "metadata": {
        "colab": {
          "base_uri": "https://localhost:8080/",
          "height": 300
        },
        "id": "aNO3uvu6vbb6",
        "outputId": "4b923f6a-ef8c-4ec2-8f64-26572441423b"
      },
      "execution_count": 36,
      "outputs": [
        {
          "output_type": "display_data",
          "data": {
            "text/plain": [
              "<IPython.core.display.Javascript object>"
            ],
            "application/javascript": [
              "google.colab.output.setIframeHeight(0, true, {maxHeight: 300})"
            ]
          },
          "metadata": {}
        },
        {
          "output_type": "display_data",
          "data": {
            "text/plain": [
              "<IPython.core.display.Javascript object>"
            ],
            "application/javascript": [
              "google.colab.output.setIframeHeight(0, true, {maxHeight: 300})"
            ]
          },
          "metadata": {}
        },
        {
          "output_type": "execute_result",
          "data": {
            "text/plain": [
              "<matplotlib.legend.Legend at 0x7fe0502a3690>"
            ]
          },
          "metadata": {},
          "execution_count": 36
        },
        {
          "output_type": "display_data",
          "data": {
            "text/plain": [
              "<Figure size 432x288 with 1 Axes>"
            ],
            "image/png": "[encoded data removed]"
          },
          "metadata": {
            "needs_background": "light"
          }
        }
      ]
    },
    {
      "cell_type": "markdown",
      "source": [
        "Nel notebook della lezione vedremo alcuni meccanismi di miglioramento di questa rete: regolarizzazione per imporre dei vincoli sui valori che i pesi dei layer neurali devono assumere. Questi pesi dei layer neurali delle convoluzioni non saranno solo guidati da quello che dice la back propagation, ma anche del fatto che si impone un upper limit a questi pesi. E' una penalità che li vincola ad essere ridotti in valore.\n",
        "\n",
        "Altro passaggio è aumentare la profondità della rete aggiungendo un layer fully connected (Dense) che è una procedura molto comune. Non sarà possibile migliorare di molto le performance della rete. \n",
        "Vedremo il concetto del Transfer Learning a lezione che è quello che tipicamente permette di affrontare questo tipo di problema."
      ],
      "metadata": {
        "id": "JrnNEPzxzLIr"
      }
    },
    {
      "cell_type": "code",
      "source": [],
      "metadata": {
        "id": "qcoMAkD_xtNG"
      },
      "execution_count": null,
      "outputs": []
    }
  ]
}