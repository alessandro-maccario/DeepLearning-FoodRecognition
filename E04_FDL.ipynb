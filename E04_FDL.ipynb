{
  "nbformat": 4,
  "nbformat_minor": 0,
  "metadata": {
    "colab": {
      "provenance": []
    },
    "kernelspec": {
      "name": "python3",
      "display_name": "Python 3"
    },
    "language_info": {
      "name": "python"
    },
    "accelerator": "GPU"
  },
  "cells": [
    {
      "cell_type": "code",
      "execution_count": 1,
      "metadata": {
        "id": "WWST-j45se8F"
      },
      "outputs": [],
      "source": [
        "# Imports and reproducibility\n",
        "!PYTHONHASHSEED=0\n",
        "import tensorflow as tf\n",
        "from tensorflow import keras\n",
        "from matplotlib import pyplot as plt\n",
        "import zipfile\n",
        "from shutil import copyfile\n",
        "from time import time\n",
        "import numpy as np\n",
        "import random as python_random\n",
        "np.random.seed(0)\n",
        "python_random.seed(0)\n",
        "tf.random.set_seed(0)\n",
        "\n",
        "# Settings for prettier visualization in Google Colab\n",
        "from IPython.display import Javascript\n",
        "def resize_colab_cell():\n",
        "  display(Javascript('google.colab.output.setIframeHeight(0, true, {maxHeight: 300})'))\n",
        "get_ipython().events.register('pre_run_cell', resize_colab_cell)"
      ]
    },
    {
      "cell_type": "code",
      "source": [
        "# CONNETTITI A DRIVE PER POTER LINKARE IL DATASET ED USARLO SENZA SCARICARLO\n",
        "# IN LOCALE\n",
        "\n",
        "from google.colab import drive # importare pacchetto\n",
        "drive.mount(\"/content/gdrive\") # monta drive"
      ],
      "metadata": {
        "id": "mmOsR1GfsnPB"
      },
      "execution_count": null,
      "outputs": []
    }
  ]
}