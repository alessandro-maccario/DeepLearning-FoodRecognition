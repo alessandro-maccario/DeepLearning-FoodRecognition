{
  "nbformat": 4,
  "nbformat_minor": 0,
  "metadata": {
    "colab": {
      "provenance": []
    },
    "kernelspec": {
      "name": "python3",
      "display_name": "Python 3"
    },
    "language_info": {
      "name": "python"
    }
  },
  "cells": [
    {
      "cell_type": "code",
      "execution_count": 19,
      "metadata": {
        "id": "lN_98ffzOBE5"
      },
      "outputs": [],
      "source": [
        "from lxml import html\n",
        "from re import search\n",
        "import urllib.request\n",
        "from urllib.request import urlopen\n",
        "from bs4 import BeautifulSoup as bs4"
      ]
    },
    {
      "cell_type": "code",
      "source": [
        "# BASE URL FOR CATEGORY\n",
        "BASE_URL_CATEGORY_LANDSCAPES = \"https://commons.wikimedia.org/wiki/Category:Landscapes\"\n",
        "BASE_URL_CATEGORY_ARCHITECTURE = \"https://commons.wikimedia.org/wiki/Category:Architecture\"\n",
        "BASE_URL_CATEGORY_CLOUDS = \"https://commons.wikimedia.org/wiki/Category:Clouds_in_Nottuln\"\n",
        "BASE_URL_CATEGORY_ENTERTAINMENT = \"https://commons.wikimedia.org/wiki/Category:Aerial_photographs_of_events\"\n",
        "\n",
        "# BASE URL FOR WIKIMEDIA\n",
        "BASE_URL_WIKIMEDIA = \"https://commons.wikimedia.org\""
      ],
      "metadata": {
        "id": "lKudpTw8dgRU"
      },
      "execution_count": 20,
      "outputs": []
    },
    {
      "cell_type": "code",
      "source": [
        "def get_download_path(base_url):\n",
        "  \"\"\"\n",
        "    The goal of this function is to get the downloadable paths\n",
        "    to use in the scrape_images function.\n",
        "    You are going to get all the path for each single image that you'll\n",
        "    use after with the scrape_images function.\n",
        "    \n",
        "    From https://www.simplilearn.com/tutorials/python-tutorial/python-internet-access-using-urllib-request-and-urlopen#:~:text=The%20urlopen()%20function%20provides,objects%20that%20perform%20these%20services.:\n",
        "    \n",
        "    The urlopen() function provides a fairly simple interface. \n",
        "    It is capable of retrieving URLs with a variety of protocols. \n",
        "    It also has a little more complicated interface for dealing with typical \n",
        "    scenarios, such as basic authentication, cookies, and proxies. \n",
        "    Handlers and openers are objects that perform these services.\n",
        "  \"\"\"\n",
        "\n",
        "  # FETCH THE BASE URL\n",
        "  # ERROR! HERE YOU NEED A STRING, NOT A LIST OF URL!!!\n",
        "  # E SE SALVASSIMO I RISULTATI IN UNA LISTA E POI DA QUELLA LISTA, E NON\n",
        "  # DALLA FUNZIONE, INIZIASSIMO AD APPLICARE LA FUNZIONE FINALE?\n",
        "  html = urlopen(base_url)\n",
        "\n",
        "  # APPLY bs4\n",
        "  bs4_apply = bs4(html, 'html.parser')\n",
        "  # FIND ALL ELEMENTS WITH THE CLASS galleryfilename galleryfilename-truncate\n",
        "  link_images = bs4_apply.find_all('a', {\"class\": \"galleryfilename galleryfilename-truncate\"})\n",
        "\n",
        "  # CREATE AN EMPTY LIST WHERE TO SAVE ALL THE LINKS\n",
        "  save_href_list = []\n",
        "\n",
        "  for el in link_images:\n",
        "    get_ref = el.get('href')\n",
        "    save_href_list.append(BASE_URL_WIKIMEDIA + get_ref)\n",
        "\n",
        "  print(save_href_list)\n",
        "\n",
        "  return save_href_list"
      ],
      "metadata": {
        "id": "jBqigV8ndgPT"
      },
      "execution_count": 21,
      "outputs": []
    },
    {
      "cell_type": "code",
      "source": [
        "landscapes = get_download_path(BASE_URL_CATEGORY_LANDSCAPES)\n",
        "architecture = get_download_path(BASE_URL_CATEGORY_ARCHITECTURE)\n",
        "clouds = get_download_path(BASE_URL_CATEGORY_CLOUDS)\n",
        "entertainment = get_download_path(BASE_URL_CATEGORY_ENTERTAINMENT)"
      ],
      "metadata": {
        "colab": {
          "base_uri": "https://localhost:8080/"
        },
        "id": "4W21f9pYdgM4",
        "outputId": "f82ee5e8-aed0-4469-e320-1ceece7b1754"
      },
      "execution_count": 22,
      "outputs": [
        {
          "output_type": "stream",
          "name": "stdout",
          "text": [
            "['https://commons.wikimedia.org/wiki/File:Crest-_Yosemite%3F_(17a34fd143a7446ea27c2138f52c2e16).jpg', 'https://commons.wikimedia.org/wiki/File:Fallcreek_Oct_2008.jpg', 'https://commons.wikimedia.org/wiki/File:IMG-20210214-WA0300.jpg', 'https://commons.wikimedia.org/wiki/File:In_Bangor.JPG', 'https://commons.wikimedia.org/wiki/File:Joe_Mania_2016-08-01_(Unsplash_PFLchrsv9jY).jpg', 'https://commons.wikimedia.org/wiki/File:Layakharo_Evining_sunset_scenery.jpg', 'https://commons.wikimedia.org/wiki/File:Mountain_Glacier_Landscape_(from_AvoPix).jpg', 'https://commons.wikimedia.org/wiki/File:%D0%AF%D1%8F_412a.jpg']\n",
            "['https://commons.wikimedia.org/wiki/File:%22Grecia._Le_radici_della_Civilt%C3%A0_Europea%22_book_by_Pino_Musi.jpg', 'https://commons.wikimedia.org/wiki/File:%22Grecia._Le_radici_della_Civilt%C3%A0_Europea%22_photobook_by_Pino_Musi.jpg', 'https://commons.wikimedia.org/wiki/File:01_EJHNMC_by_Husos_03b_01_PRuiz.jpg', 'https://commons.wikimedia.org/wiki/File:01_FREYMING-MERLEBACH-web.jpg', 'https://commons.wikimedia.org/wiki/File:03_EJHNMC_by_Husos_09_MSalinas.jpg', 'https://commons.wikimedia.org/wiki/File:04_Dispersion_by_Husos.jpg', 'https://commons.wikimedia.org/wiki/File:04_UVA_by_Husos_FOTOMONT.jpg', 'https://commons.wikimedia.org/wiki/File:05_Do_It_by_Husos.jpg', 'https://commons.wikimedia.org/wiki/File:05_VCAL_by_Husos.jpg', 'https://commons.wikimedia.org/wiki/File:06_VCAL_by_Husos.jpg', 'https://commons.wikimedia.org/wiki/File:07_GBV_by_Husos.jpg', 'https://commons.wikimedia.org/wiki/File:08_GBV_by_Husos.jpg', 'https://commons.wikimedia.org/wiki/File:1_(1968)_Edificio_commerciale_e_residenziale_in_via_Battistini_a_Roma_-_vista_dell%E2%80%99esterno.tif', 'https://commons.wikimedia.org/wiki/File:1_Alan_Crist_Creator_Of_NFT_Art.jpg', 'https://commons.wikimedia.org/wiki/File:10_Bathyard_by_Husos.jpg', 'https://commons.wikimedia.org/wiki/File:1020_Fifth_Avenue_Ceiling_Height_Layout.png', 'https://commons.wikimedia.org/wiki/File:115_rue_Javel.jpg', 'https://commons.wikimedia.org/wiki/File:12_Refugio_by_Husos_photo_Impcot.jpg', 'https://commons.wikimedia.org/wiki/File:13_Refugio_by_Husos_POSTER.jpg', 'https://commons.wikimedia.org/wiki/File:135Bhouses.jpg', 'https://commons.wikimedia.org/wiki/File:171201_182240_Stein_VivaFoto.jpg', 'https://commons.wikimedia.org/wiki/File:1919-Plan-1024.jpg', 'https://commons.wikimedia.org/wiki/File:1923_Broadway_1024.jpg', 'https://commons.wikimedia.org/wiki/File:2_Alan_Crist_Creator_Of_NFT_Art.jpg', 'https://commons.wikimedia.org/wiki/File:2_Pino_Musi_%22Corpi_d%27Architettura%22_1995_-_2021.jpg', 'https://commons.wikimedia.org/wiki/File:2018_09_SH_Neumarkt17_0050.jpg', 'https://commons.wikimedia.org/wiki/File:2019_Nocturne_Luminous_Cloud_Passage_Studio.jpg', 'https://commons.wikimedia.org/wiki/File:20201024_151402_%D0%92%D0%B8%D0%B4_%D0%BD%D0%B0_%D0%B1%D1%83%D0%B4%D1%96%D0%B2%D0%BB%D1%8E_%D0%BC%D0%B0%D1%80%D1%96%D1%83%D0%BF%D0%BE%D0%BB%D1%8C%D1%81%D1%8C%D0%BA%D0%BE%D0%B3%D0%BE_%D0%BF%D1%80%D0%BE%D0%BC%D0%B8%D1%81%D0%BB%D0%BE%D0%B2%D0%BE%D0%B3%D0%BE_%D1%86%D0%B5%D1%85%D1%83.jpg', 'https://commons.wikimedia.org/wiki/File:2021-09-13-08-41-35-1350x900.jpg', 'https://commons.wikimedia.org/wiki/File:3DESCRIPCION.jpg', 'https://commons.wikimedia.org/wiki/File:4_Alan_Crist_Creator_Of_NFT_Art.jpg', 'https://commons.wikimedia.org/wiki/File:48x54_HOUSE_ELEVATION.jpg', 'https://commons.wikimedia.org/wiki/File:4MFSIV23j-960x550.jpg', 'https://commons.wikimedia.org/wiki/File:5_Alan_Crist_Creator_Of_NFT_Art.jpg', 'https://commons.wikimedia.org/wiki/File:7%C2%BA_Encuentro_Historiadores_Arquitectura.jpg', 'https://commons.wikimedia.org/wiki/File:8_Degrees_-_Oakleigh.jpg', 'https://commons.wikimedia.org/wiki/File:83095_original.jpg', 'https://commons.wikimedia.org/wiki/File:A_1922_CT_1024.jpg', 'https://commons.wikimedia.org/wiki/File:A_view_2.jpg', 'https://commons.wikimedia.org/wiki/File:A.V.Kozolov_Blueprints.jpg', 'https://commons.wikimedia.org/wiki/File:Abbaye_de_Jumi%C3%A8ges_vue_artistique.jpg', 'https://commons.wikimedia.org/wiki/File:AbbeygreenChurchGreyscaleImage_c1900(Resize).jpg', 'https://commons.wikimedia.org/wiki/File:Abdullah_Khans_lament.jpg', 'https://commons.wikimedia.org/wiki/File:Acceso_a_LABNL_Lab_Cultural_Ciudadano.jpg', 'https://commons.wikimedia.org/wiki/File:Acceso_Biblioteca_Vasconcelos.jpg', 'https://commons.wikimedia.org/wiki/File:Acceso-Foto_MargotKalach.jpg', 'https://commons.wikimedia.org/wiki/File:Acervo_bibliogr%C3%A1fico.jpg', 'https://commons.wikimedia.org/wiki/File:Acoustic_Bricks_(Gramazio_Kohler_Research,_ETH_Zurich).jpg', 'https://commons.wikimedia.org/wiki/File:Adam_Birkett_2017-04-08_(Unsplash_yX-tySfxx2o).jpg', 'https://commons.wikimedia.org/wiki/File:Adam_Birkett_2017-05-11_(Unsplash).jpg', 'https://commons.wikimedia.org/wiki/File:Aerial_Photo_of_the_UCA_campus.jpg', 'https://commons.wikimedia.org/wiki/File:Afiche_hotel_pocitos.jpg', 'https://commons.wikimedia.org/wiki/File:Agora_Juan_Andr%C3%A9s_Ben%C3%ADtez.jpg', 'https://commons.wikimedia.org/wiki/File:Alan_Crist_Creator_Of_NFT_Art.jpg', 'https://commons.wikimedia.org/wiki/File:Aleksander_Georg_von_Stryki_elumaja_projekt_1895._a_Viljandis.jpg', 'https://commons.wikimedia.org/wiki/File:Alexandria_Historic_Foundation.200_Prince_001.31-N-200.jpg', 'https://commons.wikimedia.org/wiki/File:Alexandria_Historic_Foundation.200_Prince_003.31-N-200.jpg', 'https://commons.wikimedia.org/wiki/File:Alfred_ext_nad.jpg', 'https://commons.wikimedia.org/wiki/File:Alfred_int.jpg', 'https://commons.wikimedia.org/wiki/File:All_White_Cunucu_House_in_Moko.jpg', 'https://commons.wikimedia.org/wiki/File:Altar_del_templo.jpg', 'https://commons.wikimedia.org/wiki/File:Altbach_1-2.jpg', 'https://commons.wikimedia.org/wiki/File:Altezza_media_ponderale.jpg', 'https://commons.wikimedia.org/wiki/File:Altezza_Media_Ponderale.jpg', 'https://commons.wikimedia.org/wiki/File:Amsterdam_Houthavens.jpg', 'https://commons.wikimedia.org/wiki/File:Ana_Elvira_V%C3%A9lez.jpg', 'https://commons.wikimedia.org/wiki/File:Anceint_Ife_pavement.png', 'https://commons.wikimedia.org/wiki/File:Anclaje_pasivo_en_anillo_de_compresi%C3%B3n_exterior.jpg', 'https://commons.wikimedia.org/wiki/File:Anheina_Livia_Starkova,_personal_collection.jpg', 'https://commons.wikimedia.org/wiki/File:Anthony_Chapel_at_Garvan_Woodland_Gardens.jpg', 'https://commons.wikimedia.org/wiki/File:AP-Secretariat-at-Velagapudi-768x357.jpg', 'https://commons.wikimedia.org/wiki/File:Apartmentbuilding_Overkroeten_1.jpg', 'https://commons.wikimedia.org/wiki/File:Apartmentbuilding_Overkroeten_2.jpg', 'https://commons.wikimedia.org/wiki/File:Apartmentbuilding_Overkroeten_3.jpg', 'https://commons.wikimedia.org/wiki/File:Arbeiderswoningen_David_Evekink_Stichting_Zutphen-mijnGelderland-CC-BY-SA.jpg', 'https://commons.wikimedia.org/wiki/File:Arbre_image_f%C3%A9tiche_dans_la_seine.jpg', 'https://commons.wikimedia.org/wiki/File:Archeological_training_and_conservation_centre_1.jpg', 'https://commons.wikimedia.org/wiki/File:Archeological_training_and_conservation_centre_2.jpg', 'https://commons.wikimedia.org/wiki/File:Archeological_training_and_conservation_centre_3.jpg', 'https://commons.wikimedia.org/wiki/File:Architect_near_Cambridge_MA.jpg', 'https://commons.wikimedia.org/wiki/File:Architects_Association.png', 'https://commons.wikimedia.org/wiki/File:Architectural_design_Vest_pocket_theater_01.jpg', 'https://commons.wikimedia.org/wiki/File:Architectural_design_Vest_pocket_theater_02.jpg', 'https://commons.wikimedia.org/wiki/File:Architectural_design_Youth_center_01.jpg', 'https://commons.wikimedia.org/wiki/File:Architectural_design_Youth_center_02.jpg', 'https://commons.wikimedia.org/wiki/File:Architectural_drawing_of_%27De_kleine_schans%27_01.jpg', 'https://commons.wikimedia.org/wiki/File:Architectural_drawing_of_%27De_kleine_schans%27_02.jpg', 'https://commons.wikimedia.org/wiki/File:Architecture_and_sky.jpg', 'https://commons.wikimedia.org/wiki/File:Architecture_HDR_(2582654656).jpg', 'https://commons.wikimedia.org/wiki/File:Architecture_in_Velden_(Austria).jpg', 'https://commons.wikimedia.org/wiki/File:Architecture_of_Santiniketan.jpg', 'https://commons.wikimedia.org/wiki/File:Architecture_pic.jpg', 'https://commons.wikimedia.org/wiki/File:Architectures_YAMO.jpg', 'https://commons.wikimedia.org/wiki/File:Architectuur_van_de_Dogon_01.jpg', 'https://commons.wikimedia.org/wiki/File:Architectuur_van_de_Dogon_02.jpg', 'https://commons.wikimedia.org/wiki/File:Architekt_Artur_Paul_Duniecki,_Philips_Produktenschau,_1976.jpg', 'https://commons.wikimedia.org/wiki/File:Architekt_Artur_Paul_Duniecki,_Stadtteilplanung_Handelskai,_1990.jpg', 'https://commons.wikimedia.org/wiki/File:Arco_de_Eginardo-Einhardsboog-%C3%89ginhard_Arc.jpg', 'https://commons.wikimedia.org/wiki/File:ArqArgEnElMundoBis-40_7282.jpg', 'https://commons.wikimedia.org/wiki/File:ArqArgEnElMundoBis-40_7385.jpg', 'https://commons.wikimedia.org/wiki/File:ArqArgEnElMundoBis-40_7431.jpg', 'https://commons.wikimedia.org/wiki/File:Arquitectura_fractal.jpg', 'https://commons.wikimedia.org/wiki/File:Arquitectura_y_Naturaleza.jpg', 'https://commons.wikimedia.org/wiki/File:Arquiteturas_serie.png', 'https://commons.wikimedia.org/wiki/File:Artistas_Monumentales_1.jpg', 'https://commons.wikimedia.org/wiki/File:Artistas_Monumentales_2.jpg', 'https://commons.wikimedia.org/wiki/File:Artistas_Monumentales_3.jpg', 'https://commons.wikimedia.org/wiki/File:Artistas_Monumentales_4.jpg', 'https://commons.wikimedia.org/wiki/File:Artistas_Monumentales_5.jpg', 'https://commons.wikimedia.org/wiki/File:Artistas_Monumentales_6.jpg', 'https://commons.wikimedia.org/wiki/File:Art%C3%ADculo_Arbitrado.pdf', 'https://commons.wikimedia.org/wiki/File:Ascott_Park_gateway_and_gates.png', 'https://commons.wikimedia.org/wiki/File:Asling_St_-_Brighton.jpg', 'https://commons.wikimedia.org/wiki/File:Aspecto_Lateral_Cineteca_Nacional.jpg', 'https://commons.wikimedia.org/wiki/File:Atrium_der_DDR-Botschaft_in_Budapest.jpg', 'https://commons.wikimedia.org/wiki/File:AU-Qld-Spring_Hill-Espie-Dods-House-entrance-2021.jpg', 'https://commons.wikimedia.org/wiki/File:AU-Qld-Spring_Hill-Espie-Dods-House-side-2021.jpg', 'https://commons.wikimedia.org/wiki/File:Aupontrouge.jpg', 'https://commons.wikimedia.org/wiki/File:Automation-pyramid.jpg', 'https://commons.wikimedia.org/wiki/File:Auzon_Plan_du_Parc_Choulot_1849.jpg', 'https://commons.wikimedia.org/wiki/File:Baghouse_III_am_Golfplatz_Hetzenhof_in_Lorch.jpg', 'https://commons.wikimedia.org/wiki/File:Baiyoke_Tower.jpg', 'https://commons.wikimedia.org/wiki/File:Balmes,_127.jpg', 'https://commons.wikimedia.org/wiki/File:Banner_Piazza_del_Popolo_Fermo.jpg', 'https://commons.wikimedia.org/wiki/File:Baqubah....Beautiful_Building.jpg', 'https://commons.wikimedia.org/wiki/File:Baymaas_building.jpg', 'https://commons.wikimedia.org/wiki/File:Bayonne_Stadtansicht.jpg', 'https://commons.wikimedia.org/wiki/File:Bayside_Fire_Station_2,_San_Diego,_CA.jpg', 'https://commons.wikimedia.org/wiki/File:Beach_Rd_%E2%80%93_Hampton.jpg', 'https://commons.wikimedia.org/wiki/File:Beaconsfield_Parade_%E2%80%93_Middle_Park.jpg', 'https://commons.wikimedia.org/wiki/File:Beijing_haidianqu_children_center_planning_(2002).jpg', 'https://commons.wikimedia.org/wiki/File:Belhorizon.jpg', 'https://commons.wikimedia.org/wiki/File:Beyond_Building_Information_Modeling_Symposium_March_2019_London_landscape.jpg', 'https://commons.wikimedia.org/wiki/File:Biblioteca_Ra%C3%BAl_Rangel_Fr%C3%ADas_-_Inauguraci%C3%B3n.jpg', 'https://commons.wikimedia.org/wiki/File:Biblioteca_Vasconcelos.jpg', 'https://commons.wikimedia.org/wiki/File:Bichi_Emirates_1.jpg', 'https://commons.wikimedia.org/wiki/File:Bichi_Emirates_2.jpg', 'https://commons.wikimedia.org/wiki/File:Big_Pink_(2D_Artwork).png', 'https://commons.wikimedia.org/wiki/File:Bimal_Patel_at_HCP_Office,_Ahmedabad.jpg', 'https://commons.wikimedia.org/wiki/File:Biyofilik_Tasar%C4%B1m_14_Unsuru.jpg', 'https://commons.wikimedia.org/wiki/File:Biyofilik_Tasar%C4%B1m_%C3%96geleri.jpg', 'https://commons.wikimedia.org/wiki/File:Blackberry_inn,_Mendocino.jpg', 'https://commons.wikimedia.org/wiki/File:Blair_VIP_Toilet.jpg', 'https://commons.wikimedia.org/wiki/File:Blick_durch_Innenhof_Seestrasse-Wallstrasse_zu_Hausmannsturm_09_10_2010.jpg', 'https://commons.wikimedia.org/wiki/File:Blm_OE_00484.jpg', 'https://commons.wikimedia.org/wiki/File:Bmv_01.jpg', 'https://commons.wikimedia.org/wiki/File:Book-Transbay_Columns-cover.jpg', 'https://commons.wikimedia.org/wiki/File:Bouwtekening_R.K._kerk_in_De_Kwakel_uit_1874.jpg', 'https://commons.wikimedia.org/wiki/File:Brinkplan_Overkroeten_1.jpg', 'https://commons.wikimedia.org/wiki/File:Brinkplan_Overkroeten_2.jpg', 'https://commons.wikimedia.org/wiki/File:Brinkplan_Overkroeten_3.jpg', 'https://commons.wikimedia.org/wiki/File:Brinkplan_Overkroeten_4.jpg', 'https://commons.wikimedia.org/wiki/File:British_Council_Delhi.jpg', 'https://commons.wikimedia.org/wiki/File:Broadway_Corridor_Master_Plan.jpg', 'https://commons.wikimedia.org/wiki/File:Brodten_Hof_Werner.jpg', 'https://commons.wikimedia.org/wiki/File:Brooklinbranch_Whitby_On.png', 'https://commons.wikimedia.org/wiki/File:Building_64b.jpg', 'https://commons.wikimedia.org/wiki/File:Building_at_Stanford_University.jpg', 'https://commons.wikimedia.org/wiki/File:Bulwary_Wislane_1_glowny.jpg', 'https://commons.wikimedia.org/wiki/File:Bungalowbrasileiro1925.jpg', 'https://commons.wikimedia.org/wiki/File:Burgerhuis_Swart_(1933)_architect-_Nachman_Kaplansky.jpg', 'https://commons.wikimedia.org/wiki/File:BYGGNADERNA_SOM.jpg', 'https://commons.wikimedia.org/wiki/File:Bytovy_d%C5%AFm_Vila_Na_Pet%C5%99in%C3%A1ch.jpg', 'https://commons.wikimedia.org/wiki/File:Ca_l%27Erasme.jpg', 'https://commons.wikimedia.org/wiki/File:Calle_la_constancia_jerez.jpg', 'https://commons.wikimedia.org/wiki/File:Calle_nueva11A.jpg', 'https://commons.wikimedia.org/wiki/File:Canastro,_Nogueiroa_(O_Irixo).jpg', 'https://commons.wikimedia.org/wiki/File:Capilla_del_Hospital_Christus_Muguerza_UPAEP_en_Puebla.jpg', 'https://commons.wikimedia.org/wiki/File:Capilla_del_Hospital_Christus_Muguerza_UPAEP-_en_Puebla.jpg', 'https://commons.wikimedia.org/wiki/File:Carl_Street_Studios_Stairwell_Detail.jpg', 'https://commons.wikimedia.org/wiki/File:Carreaux_de_terre_cuite.jpg', 'https://commons.wikimedia.org/wiki/File:Cartolina_forniture_navali_e_alberghiere.jpg', 'https://commons.wikimedia.org/wiki/File:Carwash_centre_%E2%80%98Christ%E2%80%99_1.jpg', 'https://commons.wikimedia.org/wiki/File:Carwash_centre_%E2%80%98Christ%E2%80%99_2.jpg', 'https://commons.wikimedia.org/wiki/File:Carwash_centre_%E2%80%98Christ%E2%80%99_3.jpg', 'https://commons.wikimedia.org/wiki/File:Casa_1.0_Frente.jpg', 'https://commons.wikimedia.org/wiki/File:Casa_Casco_Bachen.png', 'https://commons.wikimedia.org/wiki/File:CASA_CLUB_RESERVA_GRUPO_SPAZIO_2880px-7464.jpg', 'https://commons.wikimedia.org/wiki/File:Casa_de_C%C3%A2mara_e_Cadeia_em_Rio_de_Contas_(BA).jpg', 'https://commons.wikimedia.org/wiki/File:CASA_DE_LA_JUVENTUD_-_INTERIOR-,_VILLAJOYOSA,_ALICANTE.jpg', 'https://commons.wikimedia.org/wiki/File:Casa_do_pobo,_Nogueiroa_(O_Irixo).jpg', 'https://commons.wikimedia.org/wiki/File:Casa_embrion._Javier_Senosiain..jpg', 'https://commons.wikimedia.org/wiki/File:Casa_Esp%C3%ADnola_Tami.jpg', 'https://commons.wikimedia.org/wiki/File:Casa_Federer.jpg', 'https://commons.wikimedia.org/wiki/File:Casa_Gr%C3%BChn_Duarte.png', 'https://commons.wikimedia.org/wiki/File:Casa_Jaume_Bach_i_Murl%C3%A0._c-Junta_de_Comer%C3%A7,_26.jpg', 'https://commons.wikimedia.org/wiki/File:Casa_Kostianovsky.jpg', 'https://commons.wikimedia.org/wiki/File:Casa_Martinez_Trueba.png', 'https://commons.wikimedia.org/wiki/File:Casa_Mart%C3%ADnez.png', 'https://commons.wikimedia.org/wiki/File:Casa_Matal%C3%B3n-Ull%C3%B3n.png', 'https://commons.wikimedia.org/wiki/File:Casa_Matal%C3%B3n.png', 'https://commons.wikimedia.org/wiki/File:Casa_Mediterr%C3%A1neo._Interior_1.jpg', 'https://commons.wikimedia.org/wiki/File:Casa_Musi.jpg', 'https://commons.wikimedia.org/wiki/File:Casa_Oraaflex_sistema_modular_Cesar_Garc%C3%ADa_Taylor.jpg', 'https://commons.wikimedia.org/wiki/File:Casa_Org%C3%A1nica.jpg', 'https://commons.wikimedia.org/wiki/File:Casa_palafita_4.jpg', 'https://commons.wikimedia.org/wiki/File:Casa_palafita_II.jpg', 'https://commons.wikimedia.org/wiki/File:Casa_palafita_III.jpg', 'https://commons.wikimedia.org/wiki/File:Casa_Palafita.jpg', 'https://commons.wikimedia.org/wiki/File:Casa_Pazos.png']\n",
            "['https://commons.wikimedia.org/wiki/File:Nottuln,_Appelh%C3%BClsen,_Haus_Klein-Schonebeck_--_2015_--_01132.jpg', 'https://commons.wikimedia.org/wiki/File:Nottuln,_Appelh%C3%BClsen,_Haus_Klein-Schonebeck_--_2015_--_01133.jpg', 'https://commons.wikimedia.org/wiki/File:Nottuln,_Appelh%C3%BClsen,_Haus_Klein-Schonebeck_--_2015_--_01135.jpg', 'https://commons.wikimedia.org/wiki/File:Nottuln,_Appelh%C3%BClsen,_Kriegerged%C3%A4chtniskapelle_--_2015_--_5459.jpg', 'https://commons.wikimedia.org/wiki/File:Nottuln,_Appelh%C3%BClsen,_Pfarramt_--_2015_--_5472.jpg', 'https://commons.wikimedia.org/wiki/File:Nottuln,_Appelh%C3%BClsen,_Schulze-Frenkings-Hof_--_2015_--_5455.jpg', 'https://commons.wikimedia.org/wiki/File:Nottuln,_Appelh%C3%BClsen,_Schulze-Frenkings-Hof_--_2015_--_5476.jpg', 'https://commons.wikimedia.org/wiki/File:Nottuln,_Appelh%C3%BClsen,_Schulze-Frenkings-Hof_--_2015_--_5477.jpg', 'https://commons.wikimedia.org/wiki/File:Nottuln,_Appelh%C3%BClsen,_Schulze-Frenkings-Hof_--_2015_--_5478.jpg', 'https://commons.wikimedia.org/wiki/File:Nottuln,_Appelh%C3%BClsen,_Schulze-Frenkings-Hof_--_2015_--_5482.jpg', 'https://commons.wikimedia.org/wiki/File:Nottuln,_Appelh%C3%BClsen,_Schulze-Frenkings-Hof_--_2015_--_5484.jpg', 'https://commons.wikimedia.org/wiki/File:Nottuln,_Appelh%C3%BClsen,_Schulze-Frenkings-Hof_--_2015_--_5486.jpg', 'https://commons.wikimedia.org/wiki/File:Nottuln,_Appelh%C3%BClsen,_St.-Maria-Himmelfahrt-Kirche_--_2015_--_5462.jpg', 'https://commons.wikimedia.org/wiki/File:Nottuln,_Appelh%C3%BClsen,_St.-Maria-Himmelfahrt-Kirche_--_2015_--_5463.jpg', 'https://commons.wikimedia.org/wiki/File:Nottuln,_Appelh%C3%BClsen,_St.-Maria-Himmelfahrt-Kirche_--_2015_--_5466.jpg', 'https://commons.wikimedia.org/wiki/File:Nottuln,_Geb%C3%A4ude_-Ascheberg%27sche_Kurie-_--_2016_--_3826.jpg', 'https://commons.wikimedia.org/wiki/File:Nottuln,_St.-Martinus-Kirche_--_2016_--_3818.jpg', 'https://commons.wikimedia.org/wiki/File:Nottuln,_Stockum,_Rapsfeld_--_2021_--_8077.jpg', 'https://commons.wikimedia.org/wiki/File:Nottuln,_Stockum,_Rapsfeld_--_2021_--_8078.jpg', 'https://commons.wikimedia.org/wiki/File:Nottuln,_Stockum,_Rapsfeld_--_2021_--_8079.jpg', 'https://commons.wikimedia.org/wiki/File:Nottuln,_Wasserm%C3%BChle_Schulze_Westerath_--_2016_--_1463.jpg', 'https://commons.wikimedia.org/wiki/File:Nottuln,_Wasserm%C3%BChle_Schulze_Westerath_--_2016_--_1464-70.jpg']\n",
            "['https://commons.wikimedia.org/wiki/File:1979_Festival_Aerial_Image.jpg', 'https://commons.wikimedia.org/wiki/File:1979_Festival_main.jpg', 'https://commons.wikimedia.org/wiki/File:1979_Festival_parking_and_camping.jpg', 'https://commons.wikimedia.org/wiki/File:20120621-FS-UNK-0002.jpg', 'https://commons.wikimedia.org/wiki/File:Aerial_view_of_Al_Ghadha.jpg', 'https://commons.wikimedia.org/wiki/File:After_the_game_(4058587551).jpg', 'https://commons.wikimedia.org/wiki/File:Al_Ghadha_Desert_Festival.jpg', 'https://commons.wikimedia.org/wiki/File:Al_Ghadha_Festival,_Unaizah.jpg', 'https://commons.wikimedia.org/wiki/File:Bonn_Rheinkultur.JPG', 'https://commons.wikimedia.org/wiki/File:Chaos_Communication_Camp_2015_aerial.jpg', 'https://commons.wikimedia.org/wiki/File:D%C3%BClmen,_Wiese_am_Kapellenweg_--_2014_--_8020.jpg', 'https://commons.wikimedia.org/wiki/File:D%C3%BClmen,_Wiese_am_Kapellenweg_--_2014_--_8021.jpg', 'https://commons.wikimedia.org/wiki/File:D%C3%BClmen,_Wiese_am_Kapellenweg_--_2014_--_8085.jpg', 'https://commons.wikimedia.org/wiki/File:Finger_Lakes_GrassRoots_Festival_of_Music_%26_Dance.jpeg', 'https://commons.wikimedia.org/wiki/File:Helicopter_view.jpg', 'https://commons.wikimedia.org/wiki/File:Justice_4_George_March_April,_19,_2021_(51128047348).jpg', 'https://commons.wikimedia.org/wiki/File:Luftbild_Ragnar%C3%B6k_Festival_2010_Rieden.jpg', 'https://commons.wikimedia.org/wiki/File:McMahon_Stadium_6.jpg', 'https://commons.wikimedia.org/wiki/File:Occupy_UC_Davis_from_helium_balloon_2011-11-21.jpg', 'https://commons.wikimedia.org/wiki/File:Reading_Festival_2007,_bird%27s_eye_view_1.jpg', 'https://commons.wikimedia.org/wiki/File:Reading_Festival_2007,_bird%27s_eye_view_2.jpg', 'https://commons.wikimedia.org/wiki/File:Rocco_del_Schlacko_AirPano.jpg', 'https://commons.wikimedia.org/wiki/File:Splashy_Fen_2009_Aerial.jpg', 'https://commons.wikimedia.org/wiki/File:TyroneWoodsFuneralByPhilKonstantin.jpg']\n"
          ]
        }
      ]
    },
    {
      "cell_type": "code",
      "source": [],
      "metadata": {
        "id": "DrGizkosdgLS"
      },
      "execution_count": 22,
      "outputs": []
    },
    {
      "cell_type": "code",
      "source": [
        "def scrape_images(download_path):\n",
        "  \"\"\"\n",
        "  Using the download_path url this function fetch\n",
        "  the correct url and download the image in the \n",
        "  current working directory.\n",
        "  \"\"\"\n",
        "  print(\"Download path is:\", download_path)\n",
        "\n",
        "  # GET THE FILE NAME IN ORDER TO USE IT LATER TO SAVE THE FILE\n",
        "  current_link = str(each_link)\n",
        "  print(\"CURRENT LINK:\", current_link)\n",
        "\n",
        "  file_name = current_link.split(\"File:\")[1] # TO CHECK: IS THIS A STRING?\n",
        "  html = urlopen(download_path)\n",
        "  bs4_apply = bs4(html, 'html.parser')\n",
        "  images = bs4_apply.find_all('a')\n",
        "  \n",
        "  save_list = []\n",
        "\n",
        "  for el in images:\n",
        "    get_ref = el.get('href')\n",
        "    save_list.append(get_ref)\n",
        "    \n",
        "  save_list = save_list[1:]\n",
        "\n",
        "  correct_url_image = []\n",
        "  # string in the list\n",
        "  for s in save_list:\n",
        "    if 'https' in s:\n",
        "      # print(s)\n",
        "      correct_url_image.append(s)\n",
        "\n",
        "  print(correct_url_image[0])\n",
        "  # SAVE JUST ONE IMAGE THE IMAGE\n",
        "  # urllib.request.urlretrieve(correct_url_image[0], file_name)\n",
        "  # SAVE MULTIPLE IMAGES\n",
        "  return urllib.request.urlretrieve(correct_url_image[0], file_name)"
      ],
      "metadata": {
        "id": "8cEQZKknOUF_"
      },
      "execution_count": 23,
      "outputs": []
    },
    {
      "cell_type": "code",
      "source": [
        "# TEST ON HOW TO DOWNLOAD AN IMAGE\n",
        "# scrape_images(\"https://commons.wikimedia.org/wiki/File:Crest-_Yosemite%3F_(17a34fd143a7446ea27c2138f52c2e16).jpg\")"
      ],
      "metadata": {
        "id": "vB2j8SUSDVMg"
      },
      "execution_count": 24,
      "outputs": []
    },
    {
      "cell_type": "markdown",
      "source": [
        "# TESTING THE TWO FUNCTIONS\n",
        "\n",
        "Use the scrape_images function and as an argument, use the get_download_path with the BASE_URL_X as argument."
      ],
      "metadata": {
        "id": "TnBiyQ3t-DdH"
      }
    },
    {
      "cell_type": "code",
      "source": [
        "for each_link in landscapes:\n",
        "  print(type(each_link))\n",
        "  scrape_images(each_link)"
      ],
      "metadata": {
        "id": "hreEaMJxDiMP",
        "colab": {
          "base_uri": "https://localhost:8080/"
        },
        "outputId": "d447d43b-1bbd-4b4d-87f2-43d6d6e06e6f"
      },
      "execution_count": 25,
      "outputs": [
        {
          "output_type": "stream",
          "name": "stdout",
          "text": [
            "<class 'str'>\n",
            "Download path is: https://commons.wikimedia.org/wiki/File:Crest-_Yosemite%3F_(17a34fd143a7446ea27c2138f52c2e16).jpg\n",
            "CURRENT LINK: https://commons.wikimedia.org/wiki/File:Crest-_Yosemite%3F_(17a34fd143a7446ea27c2138f52c2e16).jpg\n",
            "https://upload.wikimedia.org/wikipedia/commons/0/0f/Crest-_Yosemite%3F_%2817a34fd143a7446ea27c2138f52c2e16%29.jpg\n",
            "<class 'str'>\n",
            "Download path is: https://commons.wikimedia.org/wiki/File:Fallcreek_Oct_2008.jpg\n",
            "CURRENT LINK: https://commons.wikimedia.org/wiki/File:Fallcreek_Oct_2008.jpg\n",
            "https://upload.wikimedia.org/wikipedia/commons/0/07/Fallcreek_Oct_2008.jpg\n",
            "<class 'str'>\n",
            "Download path is: https://commons.wikimedia.org/wiki/File:IMG-20210214-WA0300.jpg\n",
            "CURRENT LINK: https://commons.wikimedia.org/wiki/File:IMG-20210214-WA0300.jpg\n",
            "https://upload.wikimedia.org/wikipedia/commons/2/2f/IMG-20210214-WA0300.jpg\n",
            "<class 'str'>\n",
            "Download path is: https://commons.wikimedia.org/wiki/File:In_Bangor.JPG\n",
            "CURRENT LINK: https://commons.wikimedia.org/wiki/File:In_Bangor.JPG\n",
            "https://upload.wikimedia.org/wikipedia/commons/e/ee/In_Bangor.JPG\n",
            "<class 'str'>\n",
            "Download path is: https://commons.wikimedia.org/wiki/File:Joe_Mania_2016-08-01_(Unsplash_PFLchrsv9jY).jpg\n",
            "CURRENT LINK: https://commons.wikimedia.org/wiki/File:Joe_Mania_2016-08-01_(Unsplash_PFLchrsv9jY).jpg\n",
            "https://upload.wikimedia.org/wikipedia/commons/6/62/Joe_Mania_2016-08-01_%28Unsplash_PFLchrsv9jY%29.jpg\n",
            "<class 'str'>\n",
            "Download path is: https://commons.wikimedia.org/wiki/File:Layakharo_Evining_sunset_scenery.jpg\n",
            "CURRENT LINK: https://commons.wikimedia.org/wiki/File:Layakharo_Evining_sunset_scenery.jpg\n",
            "https://upload.wikimedia.org/wikipedia/commons/8/8c/Layakharo_Evining_sunset_scenery.jpg\n",
            "<class 'str'>\n",
            "Download path is: https://commons.wikimedia.org/wiki/File:Mountain_Glacier_Landscape_(from_AvoPix).jpg\n",
            "CURRENT LINK: https://commons.wikimedia.org/wiki/File:Mountain_Glacier_Landscape_(from_AvoPix).jpg\n",
            "https://upload.wikimedia.org/wikipedia/commons/3/3e/Mountain_Glacier_Landscape_%28from_AvoPix%29.jpg\n",
            "<class 'str'>\n",
            "Download path is: https://commons.wikimedia.org/wiki/File:%D0%AF%D1%8F_412a.jpg\n",
            "CURRENT LINK: https://commons.wikimedia.org/wiki/File:%D0%AF%D1%8F_412a.jpg\n",
            "https://upload.wikimedia.org/wikipedia/commons/f/f1/%D0%AF%D1%8F_412a.jpg\n"
          ]
        }
      ]
    },
    {
      "cell_type": "code",
      "source": [],
      "metadata": {
        "id": "JJgHj3ymCuR_"
      },
      "execution_count": 25,
      "outputs": []
    }
  ]
}