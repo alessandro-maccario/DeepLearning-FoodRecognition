{
  "nbformat": 4,
  "nbformat_minor": 0,
  "metadata": {
    "colab": {
      "provenance": [],
      "collapsed_sections": []
    },
    "kernelspec": {
      "name": "python3",
      "display_name": "Python 3"
    },
    "language_info": {
      "name": "python"
    },
    "accelerator": "GPU"
  },
  "cells": [
    {
      "cell_type": "code",
      "execution_count": 1,
      "metadata": {
        "id": "WWST-j45se8F"
      },
      "outputs": [],
      "source": [
        "# Imports and reproducibility\n",
        "!PYTHONHASHSEED=0\n",
        "import tensorflow as tf\n",
        "from tensorflow import keras\n",
        "from matplotlib import pyplot as plt\n",
        "import zipfile\n",
        "from shutil import copyfile\n",
        "from time import time\n",
        "import numpy as np\n",
        "import random as python_random\n",
        "np.random.seed(0)\n",
        "python_random.seed(0)\n",
        "tf.random.set_seed(0)\n",
        "\n",
        "# Settings for prettier visualization in Google Colab\n",
        "from IPython.display import Javascript\n",
        "def resize_colab_cell():\n",
        "  display(Javascript('google.colab.output.setIframeHeight(0, true, {maxHeight: 300})'))\n",
        "get_ipython().events.register('pre_run_cell', resize_colab_cell)"
      ]
    },
    {
      "cell_type": "code",
      "source": [
        "# VARIABILI GLOBALI\n",
        "num_classes = 2"
      ],
      "metadata": {
        "colab": {
          "base_uri": "https://localhost:8080/",
          "height": 17
        },
        "id": "RO8wah0VCUDK",
        "outputId": "abe7f47b-9657-4ad5-c6d9-0aef659fd942"
      },
      "execution_count": 2,
      "outputs": [
        {
          "output_type": "display_data",
          "data": {
            "text/plain": [
              "<IPython.core.display.Javascript object>"
            ],
            "application/javascript": [
              "google.colab.output.setIframeHeight(0, true, {maxHeight: 300})"
            ]
          },
          "metadata": {}
        }
      ]
    },
    {
      "cell_type": "code",
      "source": [
        "# CONNETTITI A DRIVE PER POTER LINKARE IL DATASET ED USARLO SENZA SCARICARLO\n",
        "# IN LOCALE. LA CONNESSIONE CON DRIVE FUNZIONA UNICAMENTE SE ANCHE IL NOTEBOOK\n",
        "# SI TROVA ALL'INTERNO DELLO STESSO DRIVE.\n",
        "\n",
        "from google.colab import drive # importare pacchetto\n",
        "drive.mount(\"/content/gdrive\") # monta drive"
      ],
      "metadata": {
        "colab": {
          "base_uri": "https://localhost:8080/",
          "height": 34
        },
        "id": "mmOsR1GfsnPB",
        "outputId": "8a6b3024-35d2-4cf0-f09a-1808936dd4e8"
      },
      "execution_count": 3,
      "outputs": [
        {
          "output_type": "display_data",
          "data": {
            "text/plain": [
              "<IPython.core.display.Javascript object>"
            ],
            "application/javascript": [
              "google.colab.output.setIframeHeight(0, true, {maxHeight: 300})"
            ]
          },
          "metadata": {}
        },
        {
          "output_type": "stream",
          "name": "stdout",
          "text": [
            "Mounted at /content/gdrive\n"
          ]
        }
      ]
    },
    {
      "cell_type": "code",
      "source": [
        "# IMPORTA IL FILE ZIP SULLA MACCHINA VIRTUALE DI GOOGLE COLAB\n",
        "# CHE CI è STATA ASSEGNATA. FINO A QUESTO MOMENTO ABBIAMO SOLO MONTATO\n",
        "# GOOGLE DRIVE. ORA DOBBIAMO ANDARE A COPIARE IL FILE (CHE SU GOOGLE DRIVE\n",
        "# PER NOI ATTUALMENTE è SOLO UN LINK) DIRETTAMENTE NELLA MIA ROOT FOLDER\n",
        "# DOVE STO LAVORANDO (PER AVERE IL VERO E PROPRIO FILE E NON SOLO IL LINK).\n",
        "\n",
        "copyfile(\"/content/gdrive/MyDrive/Data_Science_2020-2022/Secondo_anno_Secondo_Semestre/Foundation_of_Deep_Learning/catvsdog.zip\", \"catvsdog.zip\") # il secondo argomento dice dove andare a copiare il file. Lasciando solamente il nome del file la si copia direttamente nella root folder di Colab"
      ],
      "metadata": {
        "colab": {
          "base_uri": "https://localhost:8080/",
          "height": 35
        },
        "id": "-vtO6hDJs3NR",
        "outputId": "4ca07761-a980-4893-b2cb-e7d94273c6f8"
      },
      "execution_count": 4,
      "outputs": [
        {
          "output_type": "display_data",
          "data": {
            "text/plain": [
              "<IPython.core.display.Javascript object>"
            ],
            "application/javascript": [
              "google.colab.output.setIframeHeight(0, true, {maxHeight: 300})"
            ]
          },
          "metadata": {}
        },
        {
          "output_type": "execute_result",
          "data": {
            "text/plain": [
              "'catvsdog.zip'"
            ],
            "application/vnd.google.colaboratory.intrinsic+json": {
              "type": "string"
            }
          },
          "metadata": {},
          "execution_count": 4
        }
      ]
    },
    {
      "cell_type": "code",
      "source": [
        "# ESTRAIAMO LO ZIP\n",
        "zip = zipfile.ZipFile(\"catvsdog.zip\") # inizializza lo zipper e poi invocare zip.extract()\n",
        "zip.extractall()\n",
        "zip.close()"
      ],
      "metadata": {
        "colab": {
          "base_uri": "https://localhost:8080/",
          "height": 17
        },
        "id": "ZcxDfVM37d1c",
        "outputId": "234bd883-4ea5-4bcf-a87d-68a32eeb9e5f"
      },
      "execution_count": 5,
      "outputs": [
        {
          "output_type": "display_data",
          "data": {
            "text/plain": [
              "<IPython.core.display.Javascript object>"
            ],
            "application/javascript": [
              "google.colab.output.setIframeHeight(0, true, {maxHeight: 300})"
            ]
          },
          "metadata": {}
        }
      ]
    },
    {
      "cell_type": "markdown",
      "source": [
        "La struttura della cartella che vediamo con la cartella *catvsdog* e poi le sottocartelle *cat* e *dog* è abbastanza standard con i vari framework di deep learning."
      ],
      "metadata": {
        "id": "99qALmAc8F9x"
      }
    },
    {
      "cell_type": "markdown",
      "source": [
        "Andiamo a definire un data loader: è un concetto molto utile nel contesto del machine learning/deep learning. e' una classe/funzione, un costrutto che si occupa di caricare i dati dal disco e fornirli alla procedura di apprendimento ovvero al processo di training. l'idea è che non dobbiamo scriverci noi il codice per importarci l'immagine e darla in input alla funzione fit per\n",
        "addestrare la nostra rete neurale.\n",
        "Per il data loader in keras, facciamo riferimento al seguente link:\n",
        "https://keras.io/api/preprocessing/image/\n",
        "\n",
        "e usiamo:\n",
        "image_dataset_from_directory\n",
        "\n",
        "che è un data loader che si aspetta i dati nella struttura che abbiamo appena descritto, quindi cartelle con i file già divisi.\n",
        "\n"
      ],
      "metadata": {
        "id": "yakwRJzJ9MO5"
      }
    },
    {
      "cell_type": "code",
      "source": [
        "base_path = \"catvsdog500/\" # CREAZIONE DEL PATH. 500 PERCHé PRENDIAMO UN SET DI IMMAGINI PIù PICCOLO E NON TUTTE LE 25000.\n",
        "train_dataset = keras.preprocessing.image_dataset_from_directory(base_path,\n",
        "                                                 image_size = (224, 224),\n",
        "                                                 batch_size = 32,\n",
        "                                                 label_mode = \"categorical\",\n",
        "                                                 subset = \"training\",\n",
        "                                                 validation_split = 0.2,\n",
        "                                                 shuffle = True,\n",
        "                                                 seed = 1)"
      ],
      "metadata": {
        "colab": {
          "base_uri": "https://localhost:8080/",
          "height": 52
        },
        "id": "RwoFjlsm9ca6",
        "outputId": "d0a80601-0562-42e4-961d-bcabf5b07ec9"
      },
      "execution_count": 6,
      "outputs": [
        {
          "output_type": "display_data",
          "data": {
            "text/plain": [
              "<IPython.core.display.Javascript object>"
            ],
            "application/javascript": [
              "google.colab.output.setIframeHeight(0, true, {maxHeight: 300})"
            ]
          },
          "metadata": {}
        },
        {
          "output_type": "stream",
          "name": "stdout",
          "text": [
            "Found 1000 files belonging to 2 classes.\n",
            "Using 800 files for training.\n"
          ]
        }
      ]
    },
    {
      "cell_type": "markdown",
      "source": [
        "- *image_size*: resize dell'immagine. Perché? Perché il batch processing vede\n",
        "n immagini alla volta. Queste devono essere impilate in un unico\n",
        "tensore a 4 dimensioni e per poterlo fare devono avere\n",
        "tutte la stessa dimensione. Un altro motivo per cui le immagini\n",
        "vengono ridimensionate tutte alla stessa dimensione in un problema\n",
        "di classificazione di immagini con delle reti neurali è che alcuni\n",
        "livelli neurali funzionano indipendentemente dalla dimensione \n",
        "dell'input, altri sono costruiti, nel momento in cui li definiamo, si aspettano che l'input abbia una specifica cardinalità e se non riportiamo tutto alla stessa dimensione, avremo problemi successivi quando andiamo ad utilizzare questi layer.\n",
        "224 x 224 pixel è la dimensione standard che molte reti neurali\n",
        "possiamo già utilizzare perché pre implementate si aspettano.\n",
        "\n",
        "- *batch_size*: non diamo in input al processo di training un'immagine alla volta, ma gliene diamo n, il batch size identifica esattamente questo. Valore arbitrario. Come rule of thumb: utilizza il batch size più grande possibile finché sta in memoria. Perché più grande possibile? Perché stiamo affrontando il problema di imparare la rete neurale usando lo Stochastic Gradient Descent (o una sua variante). Idealmente noi diamo tutti i dati in input alla rete neurale e la miglioriamo con l'obiettivo di migliorare le performance su tutti i dati in input.\n",
        "Poiché non ci stanno tutti contemporaneamente li diamo poco per volta, ma non possiamo darne una solta alla volta: altrimenti l'algoritmo pensa il seguente: per questa singola immagine che vedo dovrò modificare i pesi in un certo modo; per la successiva singola immagine devo modificare i pesi in un altro modo. Il processo non è stabile! Quello che idealmente vorremmo trovare è un singolo criterio che possa modificare i pesi per tutte o il maggior numero di immagini possibili.\n",
        "\n",
        "- *label_mode* = categorical. Le nostre classi sono identificate da delle etichette (cat e dog) che verranno automaticamente inferite dai nomi delle cartelle. \n",
        "\n",
        "- *subset* = One of \"training\" or \"validation\". Only used if validation_split is set.\n",
        "\n",
        "- *validation_split* = Optional float between 0 and 1, fraction of data to reserve for validation.\n",
        "\n",
        "- *shuffle* = True. Imposta che le immagini non vengano prese in ordine del nome del file ma vengano riordinate casualmente\n",
        "L'intero comando prenderà le cartelle con i file e deciderà autonomamente di prendere l'80% da usare per il training e il 20% da usare per il validation.\n",
        "\n",
        "Del totale dei 1000 file, 800 vengono usati per il training (addestramento) e, successivamente quando specifichiamo il validation, vedimo che 200 file vengono usati per il validation, cioè il restante 20%. "
      ],
      "metadata": {
        "id": "UiNfpWvU_sYU"
      }
    },
    {
      "cell_type": "code",
      "source": [
        "val_dataset = keras.preprocessing.image_dataset_from_directory(base_path,\n",
        "                                                 image_size = (224, 224),\n",
        "                                                 batch_size = 32,\n",
        "                                                 label_mode = \"categorical\",\n",
        "                                                 subset = \"validation\",\n",
        "                                                 validation_split = 0.2,\n",
        "                                                 shuffle = True,\n",
        "                                                 seed = 1)"
      ],
      "metadata": {
        "colab": {
          "base_uri": "https://localhost:8080/",
          "height": 52
        },
        "id": "4a1ezT8dALZU",
        "outputId": "ff409df6-f6f6-4611-b0cc-25f608ddc8a9"
      },
      "execution_count": 7,
      "outputs": [
        {
          "output_type": "display_data",
          "data": {
            "text/plain": [
              "<IPython.core.display.Javascript object>"
            ],
            "application/javascript": [
              "google.colab.output.setIframeHeight(0, true, {maxHeight: 300})"
            ]
          },
          "metadata": {}
        },
        {
          "output_type": "stream",
          "name": "stdout",
          "text": [
            "Found 1000 files belonging to 2 classes.\n",
            "Using 200 files for validation.\n"
          ]
        }
      ]
    },
    {
      "cell_type": "markdown",
      "source": [
        "## Architettura della rete"
      ],
      "metadata": {
        "id": "V9B4n8TZCYYm"
      }
    },
    {
      "cell_type": "markdown",
      "source": [
        "Che caratteristiche dovrà avere la nostra rete neurale?\n",
        "- input layer\n",
        "- 2D convolutional layer con le seguenti caratteristiche: \n",
        "  - 3x3 filter (ogni filto di un layer di convoluzione 2D ha una certa dimensione spaziale che è questo 3x3 che occupa in profondità qualunque sia la dimensione dell'input) e di questi ne vogliamo 32.\n",
        "- relu activation function (con un layer a parte o inserita nel layer precedente)\n",
        "- max pooling (con un filtro 3x3)\n",
        "- 2D convolutional layer che mappi a 64 canali (filtro 3x3 che mappa a 64 canali)\n",
        "- relu activation function\n",
        "- maxpooling globale: non andiamo più a dire quale è la dimensione del filtro, ma vogliamo che sia automaticamente determinata prendendo spazialmente tutti i pixel di un canale e li riduca ad un numero. Poi passi al canale successivo, prenda tutti i pixel di quel canale e li riduca ad un numero usando l'operazione del max pooling\n",
        "- fully connected (Dense in keras) che mappi a 2 (dando la probabilità che sia cane/gatto con activation SoftMax\n",
        "- rmspropr e learning rate = 0.001."
      ],
      "metadata": {
        "id": "jkqHjNSPCcB-"
      }
    },
    {
      "cell_type": "code",
      "source": [
        "# ARCHITETTURA DI RETE CONVOLUZIONALE PER CLASSIFICAZIONE DI IMMAGINI CAT/DOG\n",
        "\n",
        "inputs = keras.Input((224, 224, 3)) # 224 rows, 224 columns, 3 RGB channels\n",
        "\n",
        "x = inputs\n",
        "# 32 filtri 3x3. Padding: mi dice quanti pixel aggiungere di cornice alla mia \n",
        "# immagine prima di fare la convoluzione. Se non fornito, l'output della \n",
        "# convoluzione produrrà un immagine un pelo più piccola di quella di partenza \n",
        "# spazialmente: nel far scorrere la finestra di convoluzione non riesce a coprire\n",
        "# l'intorno del pixel di riferimento nell'immagine. Dando \"same\" il padding\n",
        "# viene calcolato automaticamente. \n",
        "x = keras.layers.Conv2D(32, 3, padding='same')(x)\n",
        "# Attivazione ReLU: la funzione di attivazione introduce una non linearità.\n",
        "# Fa si che il calcolo che permette di trasformare i numeri che stanno nell'input\n",
        "# nei numeri che stanno nell'output non sia semplicemente una combinazione\n",
        "# lineare dell'input, ma in generale crea un livello di complessità maggiore\n",
        "# che è quello di costruire delle astrazioni, ovvero permette alla rete neurale\n",
        "# di dire: ok, adesso ho individuato delle linee di base, ora ci costruisco\n",
        "# sopra dei ragionamenti più complessi.\n",
        "# x = keras.layers.Activation('relu')(x)\n",
        "x = keras.layers.Activation('relu')(x)\n",
        "# MaxPooling con finestre/windows 3x3 e stride di 3: ciò significa che ogni\n",
        "# 3x3 valori dell'input li sostituiamo con il suo Max e poi quando spostiamo\n",
        "# la finestra che esegue questa operazione, la spostiamo di 3 pixels a destra.\n",
        "# Così facendo non contiamo più volte lo stesso input e in questo caso l'output\n",
        "# di questo layer sarà per definizione più piccolo spazialmente dell'input.\n",
        "# E' un tipo di layer che ci serve concettualmente per essere meno dipendenti\n",
        "# da eventuali piccole variazioni nell'input (se ci sono tralazione dei dati\n",
        "# di un pixel a destra) il Max Pooling è abbastanza robusto da queste variazioni\n",
        "# trascendendo di qualche misura da variazioni dei dati. \n",
        "# Tra l'altro se lo usiamo con questo stride diminuisce la dimensione dell'input\n",
        "# e la complessità dei valori che portiamo avanti nella rete neurale. Stiamo\n",
        "# infatti passando da 224x224x3 valori a 3 numeri. \n",
        "x = keras.layers.MaxPooling2D(3, strides=3, padding='same')(x) \n",
        "\n",
        "x = keras.layers.Conv2D(64, 3, padding = 'same')(x)\n",
        "x = keras.layers.Activation('relu')(x)\n",
        "\n",
        "# Equivalente del Max Pooling ma in automatico calcola, invece che basarsi su\n",
        "# una finestra 3x3 utilizza una finestra grande quanto l'intera attivazione\n",
        "# del layer precedente.\n",
        "x = keras.layers.GlobalMaxPooling2D()(x)\n",
        "\n",
        "# Questa softmax prende i due numeri (le due classi specificate) e dà in input\n",
        "# una funzione che ha lo scopo di produrre una pseudo distrubuzione di \n",
        "# probabilità. Si assicura che la somma dei valori (dei due valori nel nostro\n",
        "# caso), faccia 1, e introduce delle non linearità.\n",
        "outputs = keras.layers.Dense(num_classes, activation='softmax')(x)\n",
        "\n",
        "# Con questo comando impacchettiamo tutti i nostri passaggi e diciamo \n",
        "# che la mia rete neurale è un modello che parte dalla variabile \"inputs\" e\n",
        "# termina con la variabile chiamata \"outputs\". \n",
        "net = keras.Model(inputs, outputs)"
      ],
      "metadata": {
        "colab": {
          "base_uri": "https://localhost:8080/",
          "height": 17
        },
        "id": "hQmKo-3bCXJj",
        "outputId": "e5dcbfbf-a0c1-433c-973a-281ca7083d25"
      },
      "execution_count": 8,
      "outputs": [
        {
          "output_type": "display_data",
          "data": {
            "text/plain": [
              "<IPython.core.display.Javascript object>"
            ],
            "application/javascript": [
              "google.colab.output.setIframeHeight(0, true, {maxHeight: 300})"
            ]
          },
          "metadata": {}
        }
      ]
    },
    {
      "cell_type": "markdown",
      "source": [
        "Commento al codice di creazione dell'architettura.\n",
        "\n",
        "- layer di input = non è indispensabile per definire una rete neurale, ma può essere utile perché se noi informiamo tutto il resto dell'architettura che i nostri dati in input hanno 3 canali, nel momento in cui dichiariamo la convoluzione 2D non abbiamo bisogno di dire quanto è grande la dimensione in input perché viene definita direttamente.  "
      ],
      "metadata": {
        "id": "8wleeYBlGIED"
      }
    },
    {
      "cell_type": "code",
      "source": [
        "# La compilazione ci serve per definire quali sono le procedure utilizzate \n",
        "# durante l'addestramento. La loss in questa esercitazione non è più la differenza\n",
        "# tra valore di regressione target e quello stimato ma \"categorical_crossentropy\".\n",
        "# Per ogni immagine (dato di input) dice: guardiamo la mi ground truth. Quale era\n",
        "# la classe della mia immagine? Era gatto (prima classe). Andiamo a vedere se\n",
        "# nel primo dei due valori restituiti dalla rete neurale per quella immagine\n",
        "# c'è un valore molto alto (idealmente deve essere 1). Più è distante la stima\n",
        "# della classe attesa da 1 e maggiore è la loss (peggior risultato all'aumentare\n",
        "# del valore di Loss). \n",
        "# Ottimizzatore: basato su RMSProp;\n",
        "# Salviamoci l'accuracy: ci dice sul totale delle immagini quante sono state\n",
        "# correttamente classificate.\n",
        "net.compile(loss=keras.losses.categorical_crossentropy,\n",
        "            optimizer= keras.optimizers.RMSprop(learning_rate=0.001),\n",
        "            metrics=['accuracy'])"
      ],
      "metadata": {
        "colab": {
          "base_uri": "https://localhost:8080/",
          "height": 17
        },
        "id": "QkjlGBH5g8bV",
        "outputId": "90dbc903-7cec-42ee-ab6f-b67df72b010a"
      },
      "execution_count": 9,
      "outputs": [
        {
          "output_type": "display_data",
          "data": {
            "text/plain": [
              "<IPython.core.display.Javascript object>"
            ],
            "application/javascript": [
              "google.colab.output.setIframeHeight(0, true, {maxHeight: 300})"
            ]
          },
          "metadata": {}
        }
      ]
    },
    {
      "cell_type": "code",
      "source": [
        "# SETTINGS FOR PRETTIER VISUALIZATION IN GOOGLE COLAB\n",
        "from IPython.display import Javascript\n",
        "def resize_colab_cell():\n",
        "  display(Javascript('google.colab.output.setIframeHeight(0, true, {maxHeight: 300})'))\n",
        "get_ipython().events.register('pre_run_cell', resize_colab_cell)"
      ],
      "metadata": {
        "colab": {
          "base_uri": "https://localhost:8080/",
          "height": 17
        },
        "id": "iuVpGc1wiEB7",
        "outputId": "0d70cf46-e3a6-41cc-d121-d4d6ec6de207"
      },
      "execution_count": 10,
      "outputs": [
        {
          "output_type": "display_data",
          "data": {
            "text/plain": [
              "<IPython.core.display.Javascript object>"
            ],
            "application/javascript": [
              "google.colab.output.setIframeHeight(0, true, {maxHeight: 300})"
            ]
          },
          "metadata": {}
        }
      ]
    },
    {
      "cell_type": "code",
      "source": [
        "# SE LA VOLTA SCORSA POTEVAMO PERMETTERCI DI AVERE IN MEMORIA TUTTO IL DATASET\n",
        "# QUA NON POSSIAMO FARE ALTRETTANTO PERCHé ABBIAMO IMMAGINI E NON C'è\n",
        "# MODO DI CARICARE TUTTO IL DATASET IN MEMORIA ALLA PROCEDURA DI FIT. \n",
        "# MOTIVO PER IL QUALE STIAMO UTILIZZANDO IL DATA LOADER DEFINITO ALL'INIZIO. \n",
        "# AVENDOLO SPECIFICATO ALL'INIZIO IL TRAIN_DATASET PRENDERà IN INGRESSO 32\n",
        "# IMMAGINI ALLA VOLTA, DEFINITO COME BATCH SIZE FINO A COPRIRE L'INTERO DATASET.\n",
        "# COSI FACENDO HA COMPLETATO UNA EPOCA E TIRA IN BALLO IL VALIDATION\n",
        "# DATA LOADER CHE CONGELA MOMENTANEAMENTE L'ADDESTRAMENTO DELLA RETE NEURALE,\n",
        "# FORNISCE ALLA RETE TUTTE LE IMMAGINI DEL VALIDATION SET (ANCHE IN QUESTO\n",
        "# CASO 32 ALLA VOLTA) E CALCOLA IL RISULTATO. E SALVIAMO IL RISULTATO NELLA\n",
        "# VARIABILE HISTORY.\n",
        "history = net.fit(train_dataset, epochs=40, validation_data = val_dataset)"
      ],
      "metadata": {
        "colab": {
          "base_uri": "https://localhost:8080/",
          "height": 300
        },
        "id": "9KcO4PCGlzIe",
        "outputId": "739aaacd-f5ed-4ddd-f8b1-284df2c0df05"
      },
      "execution_count": 11,
      "outputs": [
        {
          "output_type": "display_data",
          "data": {
            "text/plain": [
              "<IPython.core.display.Javascript object>"
            ],
            "application/javascript": [
              "google.colab.output.setIframeHeight(0, true, {maxHeight: 300})"
            ]
          },
          "metadata": {}
        },
        {
          "output_type": "display_data",
          "data": {
            "text/plain": [
              "<IPython.core.display.Javascript object>"
            ],
            "application/javascript": [
              "google.colab.output.setIframeHeight(0, true, {maxHeight: 300})"
            ]
          },
          "metadata": {}
        },
        {
          "output_type": "stream",
          "name": "stdout",
          "text": [
            "Epoch 1/40\n",
            "25/25 [==============================] - 12s 77ms/step - loss: 18.9361 - accuracy: 0.4875 - val_loss: 5.7750 - val_accuracy: 0.5000\n",
            "Epoch 2/40\n",
            "25/25 [==============================] - 2s 68ms/step - loss: 4.9905 - accuracy: 0.5425 - val_loss: 10.0173 - val_accuracy: 0.5150\n",
            "Epoch 3/40\n",
            "25/25 [==============================] - 2s 66ms/step - loss: 3.2858 - accuracy: 0.5600 - val_loss: 2.4992 - val_accuracy: 0.5250\n",
            "Epoch 4/40\n",
            "25/25 [==============================] - 2s 68ms/step - loss: 2.1718 - accuracy: 0.5425 - val_loss: 2.0875 - val_accuracy: 0.5300\n",
            "Epoch 5/40\n",
            "25/25 [==============================] - 2s 79ms/step - loss: 1.3213 - accuracy: 0.5738 - val_loss: 1.2336 - val_accuracy: 0.5600\n",
            "Epoch 6/40\n",
            "25/25 [==============================] - 3s 95ms/step - loss: 1.0392 - accuracy: 0.6200 - val_loss: 1.1715 - val_accuracy: 0.5100\n",
            "Epoch 7/40\n",
            "25/25 [==============================] - 3s 79ms/step - loss: 0.8472 - accuracy: 0.6463 - val_loss: 1.0884 - val_accuracy: 0.5500\n",
            "Epoch 8/40\n",
            "25/25 [==============================] - 2s 78ms/step - loss: 0.7706 - accuracy: 0.6850 - val_loss: 1.1010 - val_accuracy: 0.5100\n",
            "Epoch 9/40\n",
            "25/25 [==============================] - 2s 77ms/step - loss: 0.6965 - accuracy: 0.6775 - val_loss: 1.0544 - val_accuracy: 0.5550\n",
            "Epoch 10/40\n",
            "25/25 [==============================] - 3s 91ms/step - loss: 0.5625 - accuracy: 0.7563 - val_loss: 1.1892 - val_accuracy: 0.5400\n",
            "Epoch 11/40\n",
            "25/25 [==============================] - 3s 95ms/step - loss: 0.5048 - accuracy: 0.7713 - val_loss: 1.7741 - val_accuracy: 0.5050\n",
            "Epoch 12/40\n",
            "25/25 [==============================] - 2s 78ms/step - loss: 0.4924 - accuracy: 0.7750 - val_loss: 0.9876 - val_accuracy: 0.5850\n",
            "Epoch 13/40\n",
            "25/25 [==============================] - 2s 80ms/step - loss: 0.4460 - accuracy: 0.7825 - val_loss: 1.0240 - val_accuracy: 0.5550\n",
            "Epoch 14/40\n",
            "25/25 [==============================] - 2s 79ms/step - loss: 0.3644 - accuracy: 0.8388 - val_loss: 1.3092 - val_accuracy: 0.5650\n",
            "Epoch 15/40\n",
            "25/25 [==============================] - 2s 79ms/step - loss: 0.3405 - accuracy: 0.8288 - val_loss: 1.2659 - val_accuracy: 0.5900\n",
            "Epoch 16/40\n",
            "25/25 [==============================] - 3s 86ms/step - loss: 0.2684 - accuracy: 0.8938 - val_loss: 1.3217 - val_accuracy: 0.6000\n",
            "Epoch 17/40\n",
            "25/25 [==============================] - 3s 84ms/step - loss: 0.3884 - accuracy: 0.8275 - val_loss: 1.0949 - val_accuracy: 0.6100\n",
            "Epoch 18/40\n",
            "25/25 [==============================] - 2s 79ms/step - loss: 0.2657 - accuracy: 0.8875 - val_loss: 1.0656 - val_accuracy: 0.6000\n",
            "Epoch 19/40\n",
            "25/25 [==============================] - 2s 82ms/step - loss: 0.2802 - accuracy: 0.8725 - val_loss: 1.8801 - val_accuracy: 0.5500\n",
            "Epoch 20/40\n",
            "25/25 [==============================] - 2s 76ms/step - loss: 0.3276 - accuracy: 0.8988 - val_loss: 1.6026 - val_accuracy: 0.5550\n",
            "Epoch 21/40\n",
            "25/25 [==============================] - 2s 76ms/step - loss: 0.2170 - accuracy: 0.9212 - val_loss: 1.5171 - val_accuracy: 0.5550\n",
            "Epoch 22/40\n",
            "25/25 [==============================] - 2s 80ms/step - loss: 0.2015 - accuracy: 0.9250 - val_loss: 1.5259 - val_accuracy: 0.5550\n",
            "Epoch 23/40\n",
            "25/25 [==============================] - 2s 74ms/step - loss: 0.1682 - accuracy: 0.9362 - val_loss: 1.1550 - val_accuracy: 0.5850\n",
            "Epoch 24/40\n",
            "25/25 [==============================] - 2s 79ms/step - loss: 0.3078 - accuracy: 0.8975 - val_loss: 1.2590 - val_accuracy: 0.5550\n",
            "Epoch 25/40\n",
            "25/25 [==============================] - 2s 82ms/step - loss: 0.1046 - accuracy: 0.9737 - val_loss: 1.2697 - val_accuracy: 0.6150\n",
            "Epoch 26/40\n",
            "25/25 [==============================] - 2s 70ms/step - loss: 0.1632 - accuracy: 0.9463 - val_loss: 1.4379 - val_accuracy: 0.5900\n",
            "Epoch 27/40\n",
            "25/25 [==============================] - 2s 68ms/step - loss: 0.2395 - accuracy: 0.9337 - val_loss: 1.3796 - val_accuracy: 0.5650\n",
            "Epoch 28/40\n",
            "25/25 [==============================] - 2s 79ms/step - loss: 0.2230 - accuracy: 0.9250 - val_loss: 1.3789 - val_accuracy: 0.6050\n",
            "Epoch 29/40\n",
            "25/25 [==============================] - 2s 81ms/step - loss: 0.1375 - accuracy: 0.9463 - val_loss: 1.3346 - val_accuracy: 0.5700\n",
            "Epoch 30/40\n",
            "25/25 [==============================] - 2s 69ms/step - loss: 0.1649 - accuracy: 0.9475 - val_loss: 1.8977 - val_accuracy: 0.6000\n",
            "Epoch 31/40\n",
            "25/25 [==============================] - 2s 68ms/step - loss: 0.1137 - accuracy: 0.9588 - val_loss: 1.4156 - val_accuracy: 0.5900\n",
            "Epoch 32/40\n",
            "25/25 [==============================] - 2s 67ms/step - loss: 0.1629 - accuracy: 0.9575 - val_loss: 1.4616 - val_accuracy: 0.5950\n",
            "Epoch 33/40\n",
            "25/25 [==============================] - 2s 68ms/step - loss: 0.0782 - accuracy: 0.9775 - val_loss: 1.5048 - val_accuracy: 0.6150\n",
            "Epoch 34/40\n",
            "25/25 [==============================] - 2s 68ms/step - loss: 0.1858 - accuracy: 0.9388 - val_loss: 1.5217 - val_accuracy: 0.6150\n",
            "Epoch 35/40\n",
            "25/25 [==============================] - 2s 68ms/step - loss: 0.1571 - accuracy: 0.9463 - val_loss: 1.4540 - val_accuracy: 0.5950\n",
            "Epoch 36/40\n",
            "25/25 [==============================] - 2s 68ms/step - loss: 0.0510 - accuracy: 0.9900 - val_loss: 2.0277 - val_accuracy: 0.5700\n",
            "Epoch 37/40\n",
            "25/25 [==============================] - 2s 69ms/step - loss: 0.1905 - accuracy: 0.9325 - val_loss: 1.6326 - val_accuracy: 0.5700\n",
            "Epoch 38/40\n",
            "25/25 [==============================] - 2s 67ms/step - loss: 0.1789 - accuracy: 0.9463 - val_loss: 1.5259 - val_accuracy: 0.5950\n",
            "Epoch 39/40\n",
            "25/25 [==============================] - 2s 67ms/step - loss: 0.0460 - accuracy: 0.9887 - val_loss: 1.5919 - val_accuracy: 0.6200\n",
            "Epoch 40/40\n",
            "25/25 [==============================] - 2s 68ms/step - loss: 0.1360 - accuracy: 0.9563 - val_loss: 1.6045 - val_accuracy: 0.6150\n"
          ]
        }
      ]
    },
    {
      "cell_type": "markdown",
      "source": [
        "Visualizziamo le curve di accuracy."
      ],
      "metadata": {
        "id": "0lJCB6i6m9wy"
      }
    },
    {
      "cell_type": "code",
      "source": [
        "plt.plot(history.history['accuracy'])\n",
        "plt.plot(history.history['val_accuracy'])\n",
        "plt.ylim([0.5, 1.0]) # 0.5 è il minimo sindacale - dummy classifier fa 50% - fino al massimo 1.\n",
        "plt.xlabel('Epoch')\n",
        "plt.ylabel('Accuracy')\n",
        "plt.legend(['train', 'val'])"
      ],
      "metadata": {
        "colab": {
          "base_uri": "https://localhost:8080/",
          "height": 300
        },
        "id": "3L8zSMA4l_en",
        "outputId": "ac1658bc-4cc3-4b2c-87ca-a4285f9e2748"
      },
      "execution_count": 12,
      "outputs": [
        {
          "output_type": "display_data",
          "data": {
            "text/plain": [
              "<IPython.core.display.Javascript object>"
            ],
            "application/javascript": [
              "google.colab.output.setIframeHeight(0, true, {maxHeight: 300})"
            ]
          },
          "metadata": {}
        },
        {
          "output_type": "display_data",
          "data": {
            "text/plain": [
              "<IPython.core.display.Javascript object>"
            ],
            "application/javascript": [
              "google.colab.output.setIframeHeight(0, true, {maxHeight: 300})"
            ]
          },
          "metadata": {}
        },
        {
          "output_type": "execute_result",
          "data": {
            "text/plain": [
              "<matplotlib.legend.Legend at 0x7f8fb2019950>"
            ]
          },
          "metadata": {},
          "execution_count": 12
        },
        {
          "output_type": "display_data",
          "data": {
            "text/plain": [
              "<Figure size 432x288 with 1 Axes>"
            ],
            "image/png": "[encoded data removed]"
          },
          "metadata": {
            "needs_background": "light"
          }
        }
      ]
    },
    {
      "cell_type": "markdown",
      "source": [
        "Su dati mai visti non un granché.\n",
        "Come miglioriamo il risultato? Introducendo la batch normalization, un layer dopo ciascuna convoluzione 2D.\n",
        "Quindi, riprendiamo la rete definita precedentemente e inseriamo la batch normalization.\n",
        "\n",
        "Quindi:\n",
        "- Add a batchnorm layer after every conv2D layer\n",
        "- compile\n",
        "- fit"
      ],
      "metadata": {
        "id": "D0QqZfkZnhmv"
      }
    },
    {
      "cell_type": "code",
      "source": [
        "# NUOVA ARCHITETTURA DI RETE CONVOLUZIONALE CON BATCH NORMALIZATION\n",
        "\n",
        "inputs = keras.Input((224, 224, 3)) # 224 rows, 224 columns, 3 RGB channels\n",
        "\n",
        "x = inputs\n",
        "x = keras.layers.Conv2D(32, 3, padding='same')(x)\n",
        "# AGGIUNGI BATCH NORMALIZATION LAYER\n",
        "x = keras.layers.BatchNormalization()(x)\n",
        "x = keras.layers.Activation('relu')(x)\n",
        "x = keras.layers.MaxPooling2D(3, strides=3, padding='same')(x) \n",
        "\n",
        "x = keras.layers.Conv2D(64, 3, padding = 'same')(x)\n",
        "# AGGIUNGI BATCH NORMALIZATION LAYER\n",
        "x = keras.layers.BatchNormalization()(x)\n",
        "x = keras.layers.Activation('relu')(x)\n",
        "\n",
        "x = keras.layers.GlobalMaxPooling2D()(x)\n",
        "\n",
        "outputs = keras.layers.Dense(num_classes, activation='softmax')(x)\n",
        "\n",
        "net = keras.Model(inputs, outputs)"
      ],
      "metadata": {
        "colab": {
          "base_uri": "https://localhost:8080/",
          "height": 17
        },
        "id": "UxVRKyX5nd6D",
        "outputId": "9e20cc72-69a3-4e2d-9964-e0c1cc315ce9"
      },
      "execution_count": 13,
      "outputs": [
        {
          "output_type": "display_data",
          "data": {
            "text/plain": [
              "<IPython.core.display.Javascript object>"
            ],
            "application/javascript": [
              "google.colab.output.setIframeHeight(0, true, {maxHeight: 300})"
            ]
          },
          "metadata": {}
        },
        {
          "output_type": "display_data",
          "data": {
            "text/plain": [
              "<IPython.core.display.Javascript object>"
            ],
            "application/javascript": [
              "google.colab.output.setIframeHeight(0, true, {maxHeight: 300})"
            ]
          },
          "metadata": {}
        }
      ]
    },
    {
      "cell_type": "code",
      "source": [
        "# RICOOMPILIAMO\n",
        "net.compile(loss=keras.losses.categorical_crossentropy,\n",
        "            optimizer= keras.optimizers.RMSprop(learning_rate=0.001),\n",
        "            metrics=['accuracy'])"
      ],
      "metadata": {
        "colab": {
          "base_uri": "https://localhost:8080/",
          "height": 17
        },
        "id": "eJsQs8-mo6go",
        "outputId": "44e1d800-0a22-4d28-8224-597aeef06a9c"
      },
      "execution_count": 14,
      "outputs": [
        {
          "output_type": "display_data",
          "data": {
            "text/plain": [
              "<IPython.core.display.Javascript object>"
            ],
            "application/javascript": [
              "google.colab.output.setIframeHeight(0, true, {maxHeight: 300})"
            ]
          },
          "metadata": {}
        },
        {
          "output_type": "display_data",
          "data": {
            "text/plain": [
              "<IPython.core.display.Javascript object>"
            ],
            "application/javascript": [
              "google.colab.output.setIframeHeight(0, true, {maxHeight: 300})"
            ]
          },
          "metadata": {}
        }
      ]
    },
    {
      "cell_type": "code",
      "source": [
        "# RIFITTIAMO\n",
        "history = net.fit(train_dataset, epochs=40, validation_data = val_dataset)"
      ],
      "metadata": {
        "colab": {
          "base_uri": "https://localhost:8080/",
          "height": 300
        },
        "id": "w3_nHC0To-QB",
        "outputId": "b8c46bae-07bb-4d80-c125-9b843b20ce4b"
      },
      "execution_count": 15,
      "outputs": [
        {
          "output_type": "display_data",
          "data": {
            "text/plain": [
              "<IPython.core.display.Javascript object>"
            ],
            "application/javascript": [
              "google.colab.output.setIframeHeight(0, true, {maxHeight: 300})"
            ]
          },
          "metadata": {}
        },
        {
          "output_type": "display_data",
          "data": {
            "text/plain": [
              "<IPython.core.display.Javascript object>"
            ],
            "application/javascript": [
              "google.colab.output.setIframeHeight(0, true, {maxHeight: 300})"
            ]
          },
          "metadata": {}
        },
        {
          "output_type": "stream",
          "name": "stdout",
          "text": [
            "Epoch 1/40\n",
            "25/25 [==============================] - 3s 93ms/step - loss: 1.4432 - accuracy: 0.5038 - val_loss: 1.0968 - val_accuracy: 0.5500\n",
            "Epoch 2/40\n",
            "25/25 [==============================] - 3s 93ms/step - loss: 0.7891 - accuracy: 0.5850 - val_loss: 1.4388 - val_accuracy: 0.5250\n",
            "Epoch 3/40\n",
            "25/25 [==============================] - 3s 90ms/step - loss: 0.7363 - accuracy: 0.6388 - val_loss: 1.3954 - val_accuracy: 0.5150\n",
            "Epoch 4/40\n",
            "25/25 [==============================] - 2s 77ms/step - loss: 0.6650 - accuracy: 0.6513 - val_loss: 1.1504 - val_accuracy: 0.5150\n",
            "Epoch 5/40\n",
            "25/25 [==============================] - 2s 76ms/step - loss: 0.6272 - accuracy: 0.6712 - val_loss: 0.7863 - val_accuracy: 0.6200\n",
            "Epoch 6/40\n",
            "25/25 [==============================] - 2s 75ms/step - loss: 0.5636 - accuracy: 0.7200 - val_loss: 0.6950 - val_accuracy: 0.6200\n",
            "Epoch 7/40\n",
            "25/25 [==============================] - 3s 93ms/step - loss: 0.5685 - accuracy: 0.7237 - val_loss: 0.6736 - val_accuracy: 0.6550\n",
            "Epoch 8/40\n",
            "25/25 [==============================] - 3s 93ms/step - loss: 0.5056 - accuracy: 0.7475 - val_loss: 0.6404 - val_accuracy: 0.6550\n",
            "Epoch 9/40\n",
            "25/25 [==============================] - 2s 76ms/step - loss: 0.5421 - accuracy: 0.7225 - val_loss: 0.6254 - val_accuracy: 0.6650\n",
            "Epoch 10/40\n",
            "25/25 [==============================] - 2s 76ms/step - loss: 0.4524 - accuracy: 0.7875 - val_loss: 0.9971 - val_accuracy: 0.5650\n",
            "Epoch 11/40\n",
            "25/25 [==============================] - 2s 75ms/step - loss: 0.4756 - accuracy: 0.7700 - val_loss: 0.6352 - val_accuracy: 0.6600\n",
            "Epoch 12/40\n",
            "25/25 [==============================] - 2s 76ms/step - loss: 0.4433 - accuracy: 0.7950 - val_loss: 0.6322 - val_accuracy: 0.6850\n",
            "Epoch 13/40\n",
            "25/25 [==============================] - 2s 77ms/step - loss: 0.4124 - accuracy: 0.8138 - val_loss: 0.6516 - val_accuracy: 0.6300\n",
            "Epoch 14/40\n",
            "25/25 [==============================] - 2s 76ms/step - loss: 0.4020 - accuracy: 0.8263 - val_loss: 0.7653 - val_accuracy: 0.6050\n",
            "Epoch 15/40\n",
            "25/25 [==============================] - 2s 76ms/step - loss: 0.3731 - accuracy: 0.8537 - val_loss: 0.6055 - val_accuracy: 0.6650\n",
            "Epoch 16/40\n",
            "25/25 [==============================] - 2s 77ms/step - loss: 0.3584 - accuracy: 0.8562 - val_loss: 0.7019 - val_accuracy: 0.6300\n",
            "Epoch 17/40\n",
            "25/25 [==============================] - 2s 76ms/step - loss: 0.3848 - accuracy: 0.8400 - val_loss: 0.6181 - val_accuracy: 0.6500\n",
            "Epoch 18/40\n",
            "25/25 [==============================] - 2s 81ms/step - loss: 0.3640 - accuracy: 0.8587 - val_loss: 0.6132 - val_accuracy: 0.6950\n",
            "Epoch 19/40\n",
            "25/25 [==============================] - 3s 87ms/step - loss: 0.3134 - accuracy: 0.8725 - val_loss: 0.6314 - val_accuracy: 0.7050\n",
            "Epoch 20/40\n",
            "25/25 [==============================] - 3s 87ms/step - loss: 0.3299 - accuracy: 0.8875 - val_loss: 0.6229 - val_accuracy: 0.6600\n",
            "Epoch 21/40\n",
            "25/25 [==============================] - 2s 85ms/step - loss: 0.3404 - accuracy: 0.8537 - val_loss: 0.6804 - val_accuracy: 0.6500\n",
            "Epoch 22/40\n",
            "25/25 [==============================] - 3s 91ms/step - loss: 0.3196 - accuracy: 0.8825 - val_loss: 0.5911 - val_accuracy: 0.7250\n",
            "Epoch 23/40\n",
            "25/25 [==============================] - 2s 86ms/step - loss: 0.2773 - accuracy: 0.8963 - val_loss: 0.6982 - val_accuracy: 0.6550\n",
            "Epoch 24/40\n",
            "25/25 [==============================] - 2s 75ms/step - loss: 0.2719 - accuracy: 0.9025 - val_loss: 0.8037 - val_accuracy: 0.6000\n",
            "Epoch 25/40\n",
            "25/25 [==============================] - 2s 76ms/step - loss: 0.3348 - accuracy: 0.8637 - val_loss: 0.5770 - val_accuracy: 0.7100\n",
            "Epoch 26/40\n",
            "25/25 [==============================] - 2s 77ms/step - loss: 0.2976 - accuracy: 0.8788 - val_loss: 0.6087 - val_accuracy: 0.6800\n",
            "Epoch 27/40\n",
            "25/25 [==============================] - 2s 76ms/step - loss: 0.2341 - accuracy: 0.9287 - val_loss: 0.5980 - val_accuracy: 0.6750\n",
            "Epoch 28/40\n",
            "25/25 [==============================] - 2s 76ms/step - loss: 0.2806 - accuracy: 0.8913 - val_loss: 1.0747 - val_accuracy: 0.5500\n",
            "Epoch 29/40\n",
            "25/25 [==============================] - 2s 76ms/step - loss: 0.2336 - accuracy: 0.9250 - val_loss: 0.6490 - val_accuracy: 0.6750\n",
            "Epoch 30/40\n",
            "25/25 [==============================] - 2s 76ms/step - loss: 0.2945 - accuracy: 0.8750 - val_loss: 1.2181 - val_accuracy: 0.5450\n",
            "Epoch 31/40\n",
            "25/25 [==============================] - 2s 75ms/step - loss: 0.2163 - accuracy: 0.9413 - val_loss: 0.6673 - val_accuracy: 0.6600\n",
            "Epoch 32/40\n",
            "25/25 [==============================] - 2s 78ms/step - loss: 0.2068 - accuracy: 0.9425 - val_loss: 0.8808 - val_accuracy: 0.6200\n",
            "Epoch 33/40\n",
            "25/25 [==============================] - 2s 76ms/step - loss: 0.2420 - accuracy: 0.9125 - val_loss: 0.6612 - val_accuracy: 0.6950\n",
            "Epoch 34/40\n",
            "25/25 [==============================] - 2s 76ms/step - loss: 0.2034 - accuracy: 0.9325 - val_loss: 0.6853 - val_accuracy: 0.6750\n",
            "Epoch 35/40\n",
            "25/25 [==============================] - 2s 77ms/step - loss: 0.2238 - accuracy: 0.9250 - val_loss: 0.7104 - val_accuracy: 0.6700\n",
            "Epoch 36/40\n",
            "25/25 [==============================] - 2s 76ms/step - loss: 0.1896 - accuracy: 0.9413 - val_loss: 0.8959 - val_accuracy: 0.6300\n",
            "Epoch 37/40\n",
            "25/25 [==============================] - 2s 76ms/step - loss: 0.2274 - accuracy: 0.9225 - val_loss: 0.5932 - val_accuracy: 0.6950\n",
            "Epoch 38/40\n",
            "25/25 [==============================] - 2s 76ms/step - loss: 0.1814 - accuracy: 0.9525 - val_loss: 0.6242 - val_accuracy: 0.6850\n",
            "Epoch 39/40\n",
            "25/25 [==============================] - 2s 77ms/step - loss: 0.1568 - accuracy: 0.9650 - val_loss: 0.8080 - val_accuracy: 0.6600\n",
            "Epoch 40/40\n",
            "25/25 [==============================] - 2s 76ms/step - loss: 0.1874 - accuracy: 0.9450 - val_loss: 0.8820 - val_accuracy: 0.6000\n"
          ]
        }
      ]
    },
    {
      "cell_type": "code",
      "source": [
        "# VISUALIZZIAMO NUOVAMENTE L'OUTPUT\n",
        "plt.plot(history.history['accuracy'])\n",
        "plt.plot(history.history['val_accuracy'])\n",
        "plt.ylim([0.5, 1.0]) # 0.5 è il minimo sindacale - dummy classifier fa 50% - fino al massimo 1.\n",
        "plt.xlabel('Epoch')\n",
        "plt.ylabel('Accuracy')\n",
        "plt.legend(['train', 'val'])"
      ],
      "metadata": {
        "colab": {
          "base_uri": "https://localhost:8080/",
          "height": 300
        },
        "id": "QuOY6rZQpDD7",
        "outputId": "2bce7e94-ab6b-4992-c687-63957ee17c93"
      },
      "execution_count": 16,
      "outputs": [
        {
          "output_type": "display_data",
          "data": {
            "text/plain": [
              "<IPython.core.display.Javascript object>"
            ],
            "application/javascript": [
              "google.colab.output.setIframeHeight(0, true, {maxHeight: 300})"
            ]
          },
          "metadata": {}
        },
        {
          "output_type": "display_data",
          "data": {
            "text/plain": [
              "<IPython.core.display.Javascript object>"
            ],
            "application/javascript": [
              "google.colab.output.setIframeHeight(0, true, {maxHeight: 300})"
            ]
          },
          "metadata": {}
        },
        {
          "output_type": "execute_result",
          "data": {
            "text/plain": [
              "<matplotlib.legend.Legend at 0x7f8f4c59b950>"
            ]
          },
          "metadata": {},
          "execution_count": 16
        },
        {
          "output_type": "display_data",
          "data": {
            "text/plain": [
              "<Figure size 432x288 with 1 Axes>"
            ],
            "image/png": "[encoded data removed]"
          },
          "metadata": {
            "needs_background": "light"
          }
        }
      ]
    },
    {
      "cell_type": "markdown",
      "source": [
        "Idea della batch normalization: standardizza i dati per il livello successivo. I dati di partenza nella variabile inputs si trovano tra 0 e 255 o tra 0 e 1 a seconda di come è trattato l'input. Nel momento in cui applichiamo una convoluzione 2D coon dei filtri inizializzati con valori randomici è difficile prevedere che valore (range) avrà l'output e più si va a fondo di una rete neurale è più è imprevedibile sapere che range di valori hanno le attivazioni (le attivazioni sono gli output dei layers). Per alcuni livelli neurali questo può essere un problema: la batch normalization si occupa di riportare i dati sempre in un stesso range (non è un range specifico). Quello che fa è portare la media del training set a 0 e la std del training set a 1. Questa normalizzazione permette di migliorare l'apprendimento dei layer successivi. E' una forma di regolarizzazione. \n",
        "\n",
        "Il miglioramento ci fa arrivare al 65% anche se non ci fa impazzire.\n",
        "Avendo fatto un passo per combattere l'overfitting (accuracy sul training elevata, mentre l'accuracy sul validation bassa), proviamo ad aumentare la complessità della rete, facendola più profonda (128 neuroni - quello che vogliamo fare approfondendo la rete è di diminuire la dimensione spaziale, cosa fatta col Max Pooling e allo stesso tempo aumentare la profondità dei canali, da 32 a 64 a 128).\n",
        "\n",
        "Riprendiamo il codice della rete precedente e aggiungiamo un altro blocco di convolution, batch, activation e Max Pooling."
      ],
      "metadata": {
        "id": "1R9yW6s9pcx5"
      }
    },
    {
      "cell_type": "code",
      "source": [
        "# NUOVA ARCHITETTURA CON UN \"BLOCCO\" AGGIUNTIVO\n",
        "\n",
        "inputs = keras.Input((224, 224, 3)) # 224 rows, 224 columns, 3 RGB channels\n",
        "\n",
        "x = inputs\n",
        "x = keras.layers.Conv2D(32, 3, padding='same')(x)\n",
        "# AGGIUNGI BATCH NORMALIZATION LAYER\n",
        "x = keras.layers.BatchNormalization()(x)\n",
        "x = keras.layers.Activation('relu')(x)\n",
        "x = keras.layers.MaxPooling2D(3, strides=3, padding='same')(x) \n",
        "\n",
        "x = keras.layers.Conv2D(64, 3, padding = 'same')(x)\n",
        "# AGGIUNGI BATCH NORMALIZATION LAYER\n",
        "x = keras.layers.BatchNormalization()(x)\n",
        "x = keras.layers.Activation('relu')(x)\n",
        "# QUI AGGIUNGIAMO UN MAX POOLING ANCHE IN QUESTO BLOCCO\n",
        "x = keras.layers.MaxPooling2D(3, strides=3, padding='same')(x) \n",
        "\n",
        "x = keras.layers.Conv2D(128, 3, padding = 'same')(x)\n",
        "# AGGIUNGI BATCH NORMALIZATION LAYER\n",
        "x = keras.layers.BatchNormalization()(x)\n",
        "x = keras.layers.Activation('relu')(x)\n",
        "\n",
        "x = keras.layers.GlobalMaxPooling2D()(x)\n",
        "\n",
        "outputs = keras.layers.Dense(num_classes, activation='softmax')(x)\n",
        "\n",
        "net = keras.Model(inputs, outputs)"
      ],
      "metadata": {
        "id": "w9Hgd1XKpJQO",
        "colab": {
          "base_uri": "https://localhost:8080/",
          "height": 17
        },
        "outputId": "c47ab85d-5420-4ad7-f27c-200114b66e8e"
      },
      "execution_count": 17,
      "outputs": [
        {
          "output_type": "display_data",
          "data": {
            "text/plain": [
              "<IPython.core.display.Javascript object>"
            ],
            "application/javascript": [
              "google.colab.output.setIframeHeight(0, true, {maxHeight: 300})"
            ]
          },
          "metadata": {}
        },
        {
          "output_type": "display_data",
          "data": {
            "text/plain": [
              "<IPython.core.display.Javascript object>"
            ],
            "application/javascript": [
              "google.colab.output.setIframeHeight(0, true, {maxHeight: 300})"
            ]
          },
          "metadata": {}
        }
      ]
    },
    {
      "cell_type": "code",
      "source": [
        "# RICOOMPILIAMO\n",
        "net.compile(loss=keras.losses.categorical_crossentropy,\n",
        "            optimizer= keras.optimizers.RMSprop(learning_rate=0.001),\n",
        "            metrics=['accuracy'])"
      ],
      "metadata": {
        "colab": {
          "base_uri": "https://localhost:8080/",
          "height": 17
        },
        "id": "fDSzZP0yb3iS",
        "outputId": "747f6af4-e2a7-4675-a4bb-facec7a96e4a"
      },
      "execution_count": 18,
      "outputs": [
        {
          "output_type": "display_data",
          "data": {
            "text/plain": [
              "<IPython.core.display.Javascript object>"
            ],
            "application/javascript": [
              "google.colab.output.setIframeHeight(0, true, {maxHeight: 300})"
            ]
          },
          "metadata": {}
        },
        {
          "output_type": "display_data",
          "data": {
            "text/plain": [
              "<IPython.core.display.Javascript object>"
            ],
            "application/javascript": [
              "google.colab.output.setIframeHeight(0, true, {maxHeight: 300})"
            ]
          },
          "metadata": {}
        }
      ]
    },
    {
      "cell_type": "code",
      "source": [
        "# RIFITTIAMO\n",
        "history = net.fit(train_dataset, epochs=40, validation_data = val_dataset)"
      ],
      "metadata": {
        "colab": {
          "base_uri": "https://localhost:8080/",
          "height": 300
        },
        "id": "4_tymiz9b6NX",
        "outputId": "c814860d-c119-4546-9ea6-6f5143ba16c8"
      },
      "execution_count": 19,
      "outputs": [
        {
          "output_type": "display_data",
          "data": {
            "text/plain": [
              "<IPython.core.display.Javascript object>"
            ],
            "application/javascript": [
              "google.colab.output.setIframeHeight(0, true, {maxHeight: 300})"
            ]
          },
          "metadata": {}
        },
        {
          "output_type": "display_data",
          "data": {
            "text/plain": [
              "<IPython.core.display.Javascript object>"
            ],
            "application/javascript": [
              "google.colab.output.setIframeHeight(0, true, {maxHeight: 300})"
            ]
          },
          "metadata": {}
        },
        {
          "output_type": "stream",
          "name": "stdout",
          "text": [
            "Epoch 1/40\n",
            "25/25 [==============================] - 4s 82ms/step - loss: 1.2362 - accuracy: 0.5375 - val_loss: 0.9640 - val_accuracy: 0.4900\n",
            "Epoch 2/40\n",
            "25/25 [==============================] - 2s 78ms/step - loss: 0.6351 - accuracy: 0.6712 - val_loss: 0.9680 - val_accuracy: 0.5100\n",
            "Epoch 3/40\n",
            "25/25 [==============================] - 2s 77ms/step - loss: 0.5951 - accuracy: 0.7100 - val_loss: 0.9170 - val_accuracy: 0.5200\n",
            "Epoch 4/40\n",
            "25/25 [==============================] - 2s 78ms/step - loss: 0.4855 - accuracy: 0.7575 - val_loss: 0.9838 - val_accuracy: 0.5200\n",
            "Epoch 5/40\n",
            "25/25 [==============================] - 2s 78ms/step - loss: 0.4015 - accuracy: 0.8238 - val_loss: 0.7429 - val_accuracy: 0.6300\n",
            "Epoch 6/40\n",
            "25/25 [==============================] - 2s 78ms/step - loss: 0.3728 - accuracy: 0.8500 - val_loss: 0.7029 - val_accuracy: 0.6300\n",
            "Epoch 7/40\n",
            "25/25 [==============================] - 2s 78ms/step - loss: 0.3787 - accuracy: 0.8338 - val_loss: 0.6584 - val_accuracy: 0.6450\n",
            "Epoch 8/40\n",
            "25/25 [==============================] - 2s 78ms/step - loss: 0.3156 - accuracy: 0.8737 - val_loss: 0.6110 - val_accuracy: 0.6600\n",
            "Epoch 9/40\n",
            "25/25 [==============================] - 2s 78ms/step - loss: 0.2920 - accuracy: 0.8850 - val_loss: 0.6534 - val_accuracy: 0.6700\n",
            "Epoch 10/40\n",
            "25/25 [==============================] - 2s 79ms/step - loss: 0.2187 - accuracy: 0.9262 - val_loss: 0.6410 - val_accuracy: 0.7000\n",
            "Epoch 11/40\n",
            "25/25 [==============================] - 2s 78ms/step - loss: 0.2002 - accuracy: 0.9250 - val_loss: 0.6697 - val_accuracy: 0.6600\n",
            "Epoch 12/40\n",
            "25/25 [==============================] - 2s 78ms/step - loss: 0.2034 - accuracy: 0.9262 - val_loss: 0.9131 - val_accuracy: 0.5900\n",
            "Epoch 13/40\n",
            "25/25 [==============================] - 2s 77ms/step - loss: 0.1196 - accuracy: 0.9825 - val_loss: 0.7323 - val_accuracy: 0.6500\n",
            "Epoch 14/40\n",
            "25/25 [==============================] - 2s 78ms/step - loss: 0.1695 - accuracy: 0.9400 - val_loss: 0.6559 - val_accuracy: 0.6900\n",
            "Epoch 15/40\n",
            "25/25 [==============================] - 2s 78ms/step - loss: 0.1559 - accuracy: 0.9513 - val_loss: 0.5934 - val_accuracy: 0.7050\n",
            "Epoch 16/40\n",
            "25/25 [==============================] - 2s 78ms/step - loss: 0.0788 - accuracy: 0.9887 - val_loss: 0.6693 - val_accuracy: 0.6750\n",
            "Epoch 17/40\n",
            "25/25 [==============================] - 2s 77ms/step - loss: 0.1024 - accuracy: 0.9800 - val_loss: 0.8695 - val_accuracy: 0.6300\n",
            "Epoch 18/40\n",
            "25/25 [==============================] - 2s 79ms/step - loss: 0.1363 - accuracy: 0.9563 - val_loss: 0.6108 - val_accuracy: 0.7050\n",
            "Epoch 19/40\n",
            "25/25 [==============================] - 2s 78ms/step - loss: 0.0435 - accuracy: 1.0000 - val_loss: 0.5699 - val_accuracy: 0.7000\n",
            "Epoch 20/40\n",
            "25/25 [==============================] - 2s 77ms/step - loss: 0.1411 - accuracy: 0.9488 - val_loss: 0.5621 - val_accuracy: 0.7450\n",
            "Epoch 21/40\n",
            "25/25 [==============================] - 2s 79ms/step - loss: 0.0283 - accuracy: 1.0000 - val_loss: 0.5733 - val_accuracy: 0.7250\n",
            "Epoch 22/40\n",
            "25/25 [==============================] - 2s 77ms/step - loss: 0.0727 - accuracy: 0.9850 - val_loss: 0.5594 - val_accuracy: 0.7250\n",
            "Epoch 23/40\n",
            "25/25 [==============================] - 2s 81ms/step - loss: 0.0859 - accuracy: 0.9700 - val_loss: 0.6160 - val_accuracy: 0.7300\n",
            "Epoch 24/40\n",
            "25/25 [==============================] - 2s 78ms/step - loss: 0.0222 - accuracy: 1.0000 - val_loss: 0.6001 - val_accuracy: 0.7250\n",
            "Epoch 25/40\n",
            "25/25 [==============================] - 2s 78ms/step - loss: 0.0594 - accuracy: 0.9837 - val_loss: 0.5703 - val_accuracy: 0.7800\n",
            "Epoch 26/40\n",
            "25/25 [==============================] - 2s 77ms/step - loss: 0.0387 - accuracy: 0.9862 - val_loss: 1.4008 - val_accuracy: 0.5850\n",
            "Epoch 27/40\n",
            "25/25 [==============================] - 2s 78ms/step - loss: 0.0652 - accuracy: 0.9762 - val_loss: 0.5937 - val_accuracy: 0.7400\n",
            "Epoch 28/40\n",
            "25/25 [==============================] - 2s 78ms/step - loss: 0.0129 - accuracy: 1.0000 - val_loss: 1.0257 - val_accuracy: 0.6550\n",
            "Epoch 29/40\n",
            "25/25 [==============================] - 2s 78ms/step - loss: 0.0640 - accuracy: 0.9725 - val_loss: 0.6270 - val_accuracy: 0.7700\n",
            "Epoch 30/40\n",
            "25/25 [==============================] - 2s 80ms/step - loss: 0.0099 - accuracy: 1.0000 - val_loss: 0.6620 - val_accuracy: 0.7200\n",
            "Epoch 31/40\n",
            "25/25 [==============================] - 2s 80ms/step - loss: 0.0382 - accuracy: 0.9900 - val_loss: 0.6858 - val_accuracy: 0.7500\n",
            "Epoch 32/40\n",
            "25/25 [==============================] - 3s 109ms/step - loss: 0.0489 - accuracy: 0.9812 - val_loss: 2.3156 - val_accuracy: 0.5050\n",
            "Epoch 33/40\n",
            "25/25 [==============================] - 3s 103ms/step - loss: 0.0203 - accuracy: 0.9962 - val_loss: 0.6023 - val_accuracy: 0.7400\n",
            "Epoch 34/40\n",
            "25/25 [==============================] - 3s 94ms/step - loss: 0.0309 - accuracy: 0.9937 - val_loss: 0.6073 - val_accuracy: 0.7500\n",
            "Epoch 35/40\n",
            "25/25 [==============================] - 3s 99ms/step - loss: 0.0070 - accuracy: 1.0000 - val_loss: 0.5768 - val_accuracy: 0.7800\n",
            "Epoch 36/40\n",
            "25/25 [==============================] - 3s 92ms/step - loss: 0.0315 - accuracy: 0.9912 - val_loss: 0.7066 - val_accuracy: 0.7550\n",
            "Epoch 37/40\n",
            "25/25 [==============================] - 3s 96ms/step - loss: 0.0063 - accuracy: 1.0000 - val_loss: 0.5884 - val_accuracy: 0.7900\n",
            "Epoch 38/40\n",
            "25/25 [==============================] - 3s 92ms/step - loss: 0.0868 - accuracy: 0.9787 - val_loss: 0.9823 - val_accuracy: 0.6450\n",
            "Epoch 39/40\n",
            "25/25 [==============================] - 3s 92ms/step - loss: 0.0058 - accuracy: 1.0000 - val_loss: 0.8631 - val_accuracy: 0.6600\n",
            "Epoch 40/40\n",
            "25/25 [==============================] - 2s 80ms/step - loss: 0.0040 - accuracy: 1.0000 - val_loss: 0.6441 - val_accuracy: 0.7450\n"
          ]
        }
      ]
    },
    {
      "cell_type": "code",
      "source": [
        "# VISUALIZZIAMO NUOVAMENTE L'OUTPUT\n",
        "plt.plot(history.history['accuracy'])\n",
        "plt.plot(history.history['val_accuracy'])\n",
        "plt.ylim([0.5, 1.0]) # 0.5 è il minimo sindacale - dummy classifier fa 50% - fino al massimo 1.\n",
        "plt.xlabel('Epoch')\n",
        "plt.ylabel('Accuracy')\n",
        "plt.legend(['train', 'val'])"
      ],
      "metadata": {
        "colab": {
          "base_uri": "https://localhost:8080/",
          "height": 300
        },
        "id": "GnYDpUlsb8tC",
        "outputId": "0fe1f10c-4a9e-40b3-f209-f0fa28c32291"
      },
      "execution_count": 20,
      "outputs": [
        {
          "output_type": "display_data",
          "data": {
            "text/plain": [
              "<IPython.core.display.Javascript object>"
            ],
            "application/javascript": [
              "google.colab.output.setIframeHeight(0, true, {maxHeight: 300})"
            ]
          },
          "metadata": {}
        },
        {
          "output_type": "display_data",
          "data": {
            "text/plain": [
              "<IPython.core.display.Javascript object>"
            ],
            "application/javascript": [
              "google.colab.output.setIframeHeight(0, true, {maxHeight: 300})"
            ]
          },
          "metadata": {}
        },
        {
          "output_type": "execute_result",
          "data": {
            "text/plain": [
              "<matplotlib.legend.Legend at 0x7f8f4c28dad0>"
            ]
          },
          "metadata": {},
          "execution_count": 20
        },
        {
          "output_type": "display_data",
          "data": {
            "text/plain": [
              "<Figure size 432x288 with 1 Axes>"
            ],
            "image/png": "[encoded data removed]"
          },
          "metadata": {
            "needs_background": "light"
          }
        }
      ]
    },
    {
      "cell_type": "markdown",
      "source": [
        "## Nel notebook della lezione sono presenti altri passaggi che non sono stati visti a lezione ma che potrebbero essere importanti da guardare anche in vista del progetto!\n",
        "\n",
        "Per ora visualizziamo l'architettura che abbiamo definito: sarebbe utile avere una sorta di report dell'architettura definita anche per fare una sorta di debug dell'architettura definita."
      ],
      "metadata": {
        "id": "zLyQy4zLcQ1i"
      }
    },
    {
      "cell_type": "code",
      "source": [
        "# IN QUESTO CASO NON è MOLTO SIGNIFICATIVO PERCHé L'ARCHITETTURA\n",
        "# E' SEQUENZIALE: ABBIAMO UN LAYER SEGUITO DA UN ALTRO LAYER ETC.\n",
        "keras.utils.plot_model(net)"
      ],
      "metadata": {
        "colab": {
          "base_uri": "https://localhost:8080/",
          "height": 300
        },
        "id": "Kk3VTxs6b9_Q",
        "outputId": "60418477-fac1-4d3a-db83-ca7f58b80c09"
      },
      "execution_count": 22,
      "outputs": [
        {
          "output_type": "display_data",
          "data": {
            "text/plain": [
              "<IPython.core.display.Javascript object>"
            ],
            "application/javascript": [
              "google.colab.output.setIframeHeight(0, true, {maxHeight: 300})"
            ]
          },
          "metadata": {}
        },
        {
          "output_type": "display_data",
          "data": {
            "text/plain": [
              "<IPython.core.display.Javascript object>"
            ],
            "application/javascript": [
              "google.colab.output.setIframeHeight(0, true, {maxHeight: 300})"
            ]
          },
          "metadata": {}
        },
        {
          "output_type": "execute_result",
          "data": {
            "image/png": "[encoded data removed]",
            "text/plain": [
              "<IPython.core.display.Image object>"
            ]
          },
          "metadata": {},
          "execution_count": 22
        }
      ]
    },
    {
      "cell_type": "code",
      "source": [
        "# TABELLA UTILE PER LA DIMENSIONE DELLE ATTIVAZIONI E SUL \n",
        "# NUMERO DI PARAMETRI. PER CIASCUN LAYER CI DICE QUANTO ERA GRANDE\n",
        "# \n",
        "net.summary()"
      ],
      "metadata": {
        "colab": {
          "base_uri": "https://localhost:8080/",
          "height": 300
        },
        "id": "20O0tXYwcndn",
        "outputId": "cc7d9541-768e-419c-941c-bc9844365862"
      },
      "execution_count": 23,
      "outputs": [
        {
          "output_type": "display_data",
          "data": {
            "text/plain": [
              "<IPython.core.display.Javascript object>"
            ],
            "application/javascript": [
              "google.colab.output.setIframeHeight(0, true, {maxHeight: 300})"
            ]
          },
          "metadata": {}
        },
        {
          "output_type": "display_data",
          "data": {
            "text/plain": [
              "<IPython.core.display.Javascript object>"
            ],
            "application/javascript": [
              "google.colab.output.setIframeHeight(0, true, {maxHeight: 300})"
            ]
          },
          "metadata": {}
        },
        {
          "output_type": "stream",
          "name": "stdout",
          "text": [
            "Model: \"model_2\"\n",
            "_________________________________________________________________\n",
            " Layer (type)                Output Shape              Param #   \n",
            "=================================================================\n",
            " input_3 (InputLayer)        [(None, 224, 224, 3)]     0         \n",
            "                                                                 \n",
            " conv2d_4 (Conv2D)           (None, 224, 224, 32)      896       \n",
            "                                                                 \n",
            " batch_normalization_2 (Batc  (None, 224, 224, 32)     128       \n",
            " hNormalization)                                                 \n",
            "                                                                 \n",
            " activation_4 (Activation)   (None, 224, 224, 32)      0         \n",
            "                                                                 \n",
            " max_pooling2d_2 (MaxPooling  (None, 75, 75, 32)       0         \n",
            " 2D)                                                             \n",
            "                                                                 \n",
            " conv2d_5 (Conv2D)           (None, 75, 75, 64)        18496     \n",
            "                                                                 \n",
            " batch_normalization_3 (Batc  (None, 75, 75, 64)       256       \n",
            " hNormalization)                                                 \n",
            "                                                                 \n",
            " activation_5 (Activation)   (None, 75, 75, 64)        0         \n",
            "                                                                 \n",
            " max_pooling2d_3 (MaxPooling  (None, 25, 25, 64)       0         \n",
            " 2D)                                                             \n",
            "                                                                 \n",
            " conv2d_6 (Conv2D)           (None, 25, 25, 128)       73856     \n",
            "                                                                 \n",
            " batch_normalization_4 (Batc  (None, 25, 25, 128)      512       \n",
            " hNormalization)                                                 \n",
            "                                                                 \n",
            " activation_6 (Activation)   (None, 25, 25, 128)       0         \n",
            "                                                                 \n",
            " global_max_pooling2d_2 (Glo  (None, 128)              0         \n",
            " balMaxPooling2D)                                                \n",
            "                                                                 \n",
            " dense_2 (Dense)             (None, 2)                 258       \n",
            "                                                                 \n",
            "=================================================================\n",
            "Total params: 94,402\n",
            "Trainable params: 93,954\n",
            "Non-trainable params: 448\n",
            "_________________________________________________________________\n"
          ]
        }
      ]
    },
    {
      "cell_type": "markdown",
      "source": [
        "Fin'ora abbiamo sempre visto l'accuracy, ovvero numero di immagini classificate correttamente. Ora visualizziamo la loss function. Se l'accuracy la vogliamo massimizzare (è una metrica, la vediamo post ma non influenza l'addestramento), la loss è invece quello che vogliamo utilizzare per guidare l'addestramento ed è qualcosa che vogliamo minimizzare: più è basso il valore è meglio è. Per il problema di classificazione la loss dice quanto la celletta con i valori di probabilità della classe che era attesa è effettivamente vicina ad 1: se molto vicino, la loss è bassa e stiamo andando bene, se molto lontano da 1 la loss è alta e stiamo andando male, calcolata per tutto il dataset.\n",
        "\n",
        "ARRIVATO A 1:21:15 LEZIONE E04."
      ],
      "metadata": {
        "id": "5P06m7rceETd"
      }
    },
    {
      "cell_type": "code",
      "source": [
        "# VISUALIZZIAMO NUOVAMENTE L'OUTPUT\n",
        "plt.plot(history.history['loss'])\n",
        "plt.plot(history.history['val_loss'])\n",
        "plt.ylim([0.0, 2]) # è difficile da dire a priori\n",
        "plt.xlabel('Epoch')\n",
        "plt.ylabel('Loss')\n",
        "plt.legend(['train', 'val'])"
      ],
      "metadata": {
        "colab": {
          "base_uri": "https://localhost:8080/",
          "height": 300
        },
        "id": "SoH2WXGSdN_4",
        "outputId": "dd2dc51f-8856-48c7-83a9-66d79ca6bf41"
      },
      "execution_count": 24,
      "outputs": [
        {
          "output_type": "display_data",
          "data": {
            "text/plain": [
              "<IPython.core.display.Javascript object>"
            ],
            "application/javascript": [
              "google.colab.output.setIframeHeight(0, true, {maxHeight: 300})"
            ]
          },
          "metadata": {}
        },
        {
          "output_type": "display_data",
          "data": {
            "text/plain": [
              "<IPython.core.display.Javascript object>"
            ],
            "application/javascript": [
              "google.colab.output.setIframeHeight(0, true, {maxHeight: 300})"
            ]
          },
          "metadata": {}
        },
        {
          "output_type": "execute_result",
          "data": {
            "text/plain": [
              "<matplotlib.legend.Legend at 0x7f8fb1ff3250>"
            ]
          },
          "metadata": {},
          "execution_count": 24
        },
        {
          "output_type": "display_data",
          "data": {
            "text/plain": [
              "<Figure size 432x288 with 1 Axes>"
            ],
            "image/png": "[encoded data removed]"
          },
          "metadata": {
            "needs_background": "light"
          }
        }
      ]
    },
    {
      "cell_type": "code",
      "source": [],
      "metadata": {
        "id": "ia4JskZ-e8Vz"
      },
      "execution_count": null,
      "outputs": []
    }
  ]
}